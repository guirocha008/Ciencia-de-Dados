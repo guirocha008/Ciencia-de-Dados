{
 "cells": [
  {
   "cell_type": "markdown",
   "metadata": {},
   "source": [
    "# $$Dados~de ~Contagem$$\n"
   ]
  },
  {
   "cell_type": "markdown",
   "metadata": {},
   "source": [
    "### $$Conceito:$$\n",
    "    \n",
    "Os modelos de **regressão Poisson e binomial negativo** fazem parte do que é conhecido por **modelos de regressão** para **dados de contagem**, e têm por objetivo analisar o comportamento, em função de variáveis explicativa, de uma determinada **variável dependente** que se apresenta na forma:\n",
    "\n",
    "- **Quantitativa**\n",
    "\n",
    "- **Valores discretos** \n",
    "\n",
    "- **Não negativos**\n",
    "\n",
    "- **Definir a Exposição (unidade temporal, espacial, social, etc.)**\n",
    "\n",
    "\n",
    "**λ (Lambda)** = É o valor da variável Y que tem a maior ocorrencia nos dados ou a taxa média estimada de incidência do fenômeno em estudo para uma dada exposição.\n",
    "\n",
    "\n",
    "### $$Tipos~de~Dados~de~Contagem:$$\n",
    "\n",
    "Temos **4 tipos** de dados de Contagem:\n",
    "\n",
    "- **Poisson** \n",
    "\n",
    "- **Binomial Negativo**\n",
    "\n",
    "- **Poisson Inflacionados de Zero**\n",
    "\n",
    "- **BN Inflacionados de Zero** \n",
    "\n",
    "\n",
    "**OBS: as características na variável y que determina qual distribuição escolher**\n",
    "\n",
    "\n",
    "\n",
    "\n",
    "\n",
    "\n",
    "### $$Poisson ~X ~Binomial~ Negativa:$$\n",
    "\n",
    "\n",
    "**Poisson** = Cauda curta no histograma de frequência (Inexistência de Superdispersão), Média = Variância\n",
    "\n",
    "\n",
    "**Binomial Negativo (NB2)** = Cauda Longa no histograma de frequência(Superdispersão)\n",
    "\n",
    "\n",
    "**Teste de Superdispersão:**\n",
    "\n",
    "\n",
    "- Teste para verificar se há ou não superdispersão nos dados (Média # Variância)\n",
    "\n",
    "    - **Equidispersão** = Distribuição Poisson (Media = Variância)\n",
    "    - **Superdispersão** = Distribuição Binomial Negativa\n",
    "\n",
    "\n",
    "\n",
    "\n",
    "\n",
    "\n",
    "\n",
    "\n",
    "### $$Poisson~inflacionados~ de~ zeros(ZIP) ~X ~Binomial~ Negativo ~Inflacionado~ de~ Zeros (ZINB):$$\n",
    "\n",
    "\n",
    "São considerados uma **combinação entre um modelo para dados de contagem e um modelo para dados binários**, já que são utilizados para investigar as razões que levam a determinada quantidade de ocorrências (contagens) de um fenômeno, bem como as razões que  levam (ou não) à ocorrência propriamente dita deste fenômeno, independentemente da quantidade de contagens observadas\n",
    "\n",
    "Enquanto um modelo **Poisson inflacionado de zeros** é estimado a partir da **combinação de uma distribuição Bernoulli com uma distribuição Poisson**, um **modelo binomial negativo inflacionado de zeros** é estimado por meio da **combinação de uma distribuição Bernoulli com uma distribuição Poisson-Gama**\n",
    "\n",
    "\n",
    "**ZIP:** \n",
    "\n",
    "- Combinação de uma distribuição Bernoulli com uma distribuição Poisson\n",
    "\n",
    "- Os modelos de regressão Poisson inflacionados de zeros apresentam dois processos geradores de zeros, sendo um devido à distribuição binária (neste caso, são gerados os chamados zeros estruturais) e outro devido à distribuição Poisson (nesta situação, são gerados dados de contagem, entre os quais os chamados zeros amostrais)\n",
    "\n",
    "\n",
    "**ZINB:** \n",
    "\n",
    "- É estimado por meio da combinação de uma distribuição Bernoulli com uma distribuição Binomial Negativo\n",
    "\n",
    "\n",
    "- Já em relação aos modelos de regressão do tipo binomial negativo inflacionados de zeros, podemos definir que, enquanto a probabilidade p de ocorrência de nenhuma contagem para dada observação i, ou seja, p(Yi = 0), é também calculada levando-se em consideração a soma de um componente dicotômico com um componente de contagem\n",
    "\n",
    "\n",
    "\n",
    "**Teste de Vuong**:\n",
    "\n",
    "- **Ocorrência ou não de inflação de Zeros na variável Y**\n",
    "\n",
    "\n",
    "\n",
    "\n",
    "\n",
    "\n"
   ]
  },
  {
   "cell_type": "markdown",
   "metadata": {},
   "source": [
    "__------------------------------------------------------------------------------------------------------------------------------------------------------------------------------------------------------------------__\n",
    "\n",
    "\n",
    "__------------------------------------------------------------------------------------------------------------------------------------------------------------------------------------------------------------------__"
   ]
  },
  {
   "cell_type": "markdown",
   "metadata": {},
   "source": [
    "## $$Objetivo~Geral:$$  \n",
    "\n",
    "## $$Verificar~qual~modelo~é ~o ~mais~adequado$$$$utilizando~dados~de~contagem$$\n"
   ]
  },
  {
   "cell_type": "markdown",
   "metadata": {},
   "source": [
    "__------------------------------------------------------------------------------------------------------------------------------------------------------------------------------------------------------------------__\n",
    "\n",
    "\n",
    "__------------------------------------------------------------------------------------------------------------------------------------------------------------------------------------------------------------------__"
   ]
  },
  {
   "cell_type": "code",
   "execution_count": 1,
   "metadata": {},
   "outputs": [],
   "source": [
    "#Pacotes\n",
    "import numpy as np\n",
    "import pandas as pd \n",
    "import matplotlib.pyplot as plt"
   ]
  },
  {
   "cell_type": "markdown",
   "metadata": {},
   "source": [
    "# Banco de dados "
   ]
  },
  {
   "cell_type": "code",
   "execution_count": 2,
   "metadata": {},
   "outputs": [
    {
     "data": {
      "text/html": [
       "<div>\n",
       "<style scoped>\n",
       "    .dataframe tbody tr th:only-of-type {\n",
       "        vertical-align: middle;\n",
       "    }\n",
       "\n",
       "    .dataframe tbody tr th {\n",
       "        vertical-align: top;\n",
       "    }\n",
       "\n",
       "    .dataframe thead th {\n",
       "        text-align: right;\n",
       "    }\n",
       "</style>\n",
       "<table border=\"1\" class=\"dataframe\">\n",
       "  <thead>\n",
       "    <tr style=\"text-align: right;\">\n",
       "      <th></th>\n",
       "      <th>violations</th>\n",
       "      <th>staff</th>\n",
       "      <th>post</th>\n",
       "      <th>corruption</th>\n",
       "    </tr>\n",
       "    <tr>\n",
       "      <th>country</th>\n",
       "      <th></th>\n",
       "      <th></th>\n",
       "      <th></th>\n",
       "      <th></th>\n",
       "    </tr>\n",
       "  </thead>\n",
       "  <tbody>\n",
       "    <tr>\n",
       "      <th>Angola</th>\n",
       "      <td>50</td>\n",
       "      <td>9</td>\n",
       "      <td>no</td>\n",
       "      <td>1.047506</td>\n",
       "    </tr>\n",
       "    <tr>\n",
       "      <th>Angola</th>\n",
       "      <td>1</td>\n",
       "      <td>9</td>\n",
       "      <td>yes</td>\n",
       "      <td>1.047506</td>\n",
       "    </tr>\n",
       "    <tr>\n",
       "      <th>Albania</th>\n",
       "      <td>17</td>\n",
       "      <td>3</td>\n",
       "      <td>no</td>\n",
       "      <td>0.921079</td>\n",
       "    </tr>\n",
       "    <tr>\n",
       "      <th>Albania</th>\n",
       "      <td>0</td>\n",
       "      <td>3</td>\n",
       "      <td>yes</td>\n",
       "      <td>0.921079</td>\n",
       "    </tr>\n",
       "    <tr>\n",
       "      <th>United Arab Emirates</th>\n",
       "      <td>0</td>\n",
       "      <td>3</td>\n",
       "      <td>no</td>\n",
       "      <td>-0.779468</td>\n",
       "    </tr>\n",
       "    <tr>\n",
       "      <th>...</th>\n",
       "      <td>...</td>\n",
       "      <td>...</td>\n",
       "      <td>...</td>\n",
       "      <td>...</td>\n",
       "    </tr>\n",
       "    <tr>\n",
       "      <th>Zaire</th>\n",
       "      <td>0</td>\n",
       "      <td>6</td>\n",
       "      <td>yes</td>\n",
       "      <td>1.582807</td>\n",
       "    </tr>\n",
       "    <tr>\n",
       "      <th>Zambia</th>\n",
       "      <td>37</td>\n",
       "      <td>9</td>\n",
       "      <td>no</td>\n",
       "      <td>0.562193</td>\n",
       "    </tr>\n",
       "    <tr>\n",
       "      <th>Zambia</th>\n",
       "      <td>0</td>\n",
       "      <td>9</td>\n",
       "      <td>yes</td>\n",
       "      <td>0.562193</td>\n",
       "    </tr>\n",
       "    <tr>\n",
       "      <th>Zimbabwe</th>\n",
       "      <td>43</td>\n",
       "      <td>14</td>\n",
       "      <td>no</td>\n",
       "      <td>0.133379</td>\n",
       "    </tr>\n",
       "    <tr>\n",
       "      <th>Zimbabwe</th>\n",
       "      <td>1</td>\n",
       "      <td>14</td>\n",
       "      <td>yes</td>\n",
       "      <td>0.133379</td>\n",
       "    </tr>\n",
       "  </tbody>\n",
       "</table>\n",
       "<p>298 rows × 4 columns</p>\n",
       "</div>"
      ],
      "text/plain": [
       "                      violations  staff post  corruption\n",
       "country                                                 \n",
       "Angola                        50      9   no    1.047506\n",
       "Angola                         1      9  yes    1.047506\n",
       "Albania                       17      3   no    0.921079\n",
       "Albania                        0      3  yes    0.921079\n",
       "United Arab Emirates           0      3   no   -0.779468\n",
       "...                          ...    ...  ...         ...\n",
       "Zaire                          0      6  yes    1.582807\n",
       "Zambia                        37      9   no    0.562193\n",
       "Zambia                         0      9  yes    0.562193\n",
       "Zimbabwe                      43     14   no    0.133379\n",
       "Zimbabwe                       1     14  yes    0.133379\n",
       "\n",
       "[298 rows x 4 columns]"
      ]
     },
     "execution_count": 2,
     "metadata": {},
     "output_type": "execute_result"
    }
   ],
   "source": [
    "# Carregando o dataset\n",
    "\n",
    "dados = pd.read_csv('corruption.csv',encoding='latin1',sep=',')\n",
    "dados = dados.set_index('country')\n",
    "dados =dados.iloc[:,1:]\n",
    "dados"
   ]
  },
  {
   "cell_type": "markdown",
   "metadata": {},
   "source": [
    "**Tabela com 298 observações e 4 variáveis**"
   ]
  },
  {
   "cell_type": "markdown",
   "metadata": {},
   "source": [
    "# $$Dicionário~ de~ Dados~ das~ Variáveis$$ \n",
    "\n",
    "### **$$Variáveis:$$**\n",
    "\n",
    "\n",
    "- **country:** País do corpo diplomático, 2 observações por país\n",
    "\n",
    "\n",
    "- **violations:** Quantidade de violações de trânsito, variável Target\n",
    "\n",
    "\n",
    "- **staff:** Quantidade de staff no corpo diplomático\n",
    "\n",
    "    \n",
    "- **post:** Multas por países em NY antes e depois da Lei, No = Antes da lei de trânsito, Yes = Após a lei de trânsito\n",
    "\n",
    "\n",
    "- **corruption:** Índice de percepção de corrupção no país por parte da população\n"
   ]
  },
  {
   "cell_type": "markdown",
   "metadata": {},
   "source": [
    "# Análise Exploratória"
   ]
  },
  {
   "cell_type": "code",
   "execution_count": 3,
   "metadata": {},
   "outputs": [
    {
     "name": "stdout",
     "output_type": "stream",
     "text": [
      "<class 'pandas.core.frame.DataFrame'>\n",
      "Index: 298 entries, Angola to Zimbabwe\n",
      "Data columns (total 4 columns):\n",
      " #   Column      Non-Null Count  Dtype  \n",
      "---  ------      --------------  -----  \n",
      " 0   violations  298 non-null    int64  \n",
      " 1   staff       298 non-null    int64  \n",
      " 2   post        298 non-null    object \n",
      " 3   corruption  298 non-null    float64\n",
      "dtypes: float64(1), int64(2), object(1)\n",
      "memory usage: 11.6+ KB\n"
     ]
    }
   ],
   "source": [
    "#Info da tabela\n",
    "dados.info()"
   ]
  },
  {
   "cell_type": "markdown",
   "metadata": {},
   "source": [
    "**Variável target discreta (violations), e 3 variáveis explicativas, sendo uma qualitativa e 2 quantitativas**"
   ]
  },
  {
   "cell_type": "code",
   "execution_count": 4,
   "metadata": {},
   "outputs": [
    {
     "data": {
      "text/html": [
       "<div>\n",
       "<style scoped>\n",
       "    .dataframe tbody tr th:only-of-type {\n",
       "        vertical-align: middle;\n",
       "    }\n",
       "\n",
       "    .dataframe tbody tr th {\n",
       "        vertical-align: top;\n",
       "    }\n",
       "\n",
       "    .dataframe thead th {\n",
       "        text-align: right;\n",
       "    }\n",
       "</style>\n",
       "<table border=\"1\" class=\"dataframe\">\n",
       "  <thead>\n",
       "    <tr style=\"text-align: right;\">\n",
       "      <th></th>\n",
       "      <th>violations</th>\n",
       "      <th>staff</th>\n",
       "      <th>corruption</th>\n",
       "    </tr>\n",
       "  </thead>\n",
       "  <tbody>\n",
       "    <tr>\n",
       "      <th>count</th>\n",
       "      <td>298.000000</td>\n",
       "      <td>298.000000</td>\n",
       "      <td>298.000000</td>\n",
       "    </tr>\n",
       "    <tr>\n",
       "      <th>mean</th>\n",
       "      <td>6.496644</td>\n",
       "      <td>11.805369</td>\n",
       "      <td>0.013641</td>\n",
       "    </tr>\n",
       "    <tr>\n",
       "      <th>std</th>\n",
       "      <td>18.210377</td>\n",
       "      <td>11.079558</td>\n",
       "      <td>1.012474</td>\n",
       "    </tr>\n",
       "    <tr>\n",
       "      <th>min</th>\n",
       "      <td>0.000000</td>\n",
       "      <td>2.000000</td>\n",
       "      <td>-2.582988</td>\n",
       "    </tr>\n",
       "    <tr>\n",
       "      <th>25%</th>\n",
       "      <td>0.000000</td>\n",
       "      <td>6.000000</td>\n",
       "      <td>-0.415147</td>\n",
       "    </tr>\n",
       "    <tr>\n",
       "      <th>50%</th>\n",
       "      <td>0.000000</td>\n",
       "      <td>9.000000</td>\n",
       "      <td>0.326959</td>\n",
       "    </tr>\n",
       "    <tr>\n",
       "      <th>75%</th>\n",
       "      <td>3.000000</td>\n",
       "      <td>14.000000</td>\n",
       "      <td>0.720250</td>\n",
       "    </tr>\n",
       "    <tr>\n",
       "      <th>max</th>\n",
       "      <td>167.000000</td>\n",
       "      <td>86.000000</td>\n",
       "      <td>1.582807</td>\n",
       "    </tr>\n",
       "  </tbody>\n",
       "</table>\n",
       "</div>"
      ],
      "text/plain": [
       "       violations       staff  corruption\n",
       "count  298.000000  298.000000  298.000000\n",
       "mean     6.496644   11.805369    0.013641\n",
       "std     18.210377   11.079558    1.012474\n",
       "min      0.000000    2.000000   -2.582988\n",
       "25%      0.000000    6.000000   -0.415147\n",
       "50%      0.000000    9.000000    0.326959\n",
       "75%      3.000000   14.000000    0.720250\n",
       "max    167.000000   86.000000    1.582807"
      ]
     },
     "execution_count": 4,
     "metadata": {},
     "output_type": "execute_result"
    }
   ],
   "source": [
    "#Estatistica Descritivas(Variáveis Numericas)\n",
    "dados.describe()"
   ]
  },
  {
   "cell_type": "code",
   "execution_count": 5,
   "metadata": {},
   "outputs": [
    {
     "data": {
      "text/html": [
       "<div>\n",
       "<style scoped>\n",
       "    .dataframe tbody tr th:only-of-type {\n",
       "        vertical-align: middle;\n",
       "    }\n",
       "\n",
       "    .dataframe tbody tr th {\n",
       "        vertical-align: top;\n",
       "    }\n",
       "\n",
       "    .dataframe thead th {\n",
       "        text-align: right;\n",
       "    }\n",
       "</style>\n",
       "<table border=\"1\" class=\"dataframe\">\n",
       "  <thead>\n",
       "    <tr style=\"text-align: right;\">\n",
       "      <th></th>\n",
       "      <th>post</th>\n",
       "    </tr>\n",
       "  </thead>\n",
       "  <tbody>\n",
       "    <tr>\n",
       "      <th>no</th>\n",
       "      <td>149</td>\n",
       "    </tr>\n",
       "    <tr>\n",
       "      <th>yes</th>\n",
       "      <td>149</td>\n",
       "    </tr>\n",
       "  </tbody>\n",
       "</table>\n",
       "</div>"
      ],
      "text/plain": [
       "     post\n",
       "no    149\n",
       "yes   149"
      ]
     },
     "execution_count": 5,
     "metadata": {},
     "output_type": "execute_result"
    }
   ],
   "source": [
    "#Estatistica Descritivas(Variável Categorica)\n",
    "\n",
    "#Tabela de frequencia\n",
    "dados.post.value_counts().to_frame()"
   ]
  },
  {
   "cell_type": "markdown",
   "metadata": {},
   "source": [
    "**Equilíbrio nos dados na variável categórica**"
   ]
  },
  {
   "cell_type": "code",
   "execution_count": 6,
   "metadata": {},
   "outputs": [
    {
     "name": "stdout",
     "output_type": "stream",
     "text": [
      "Media= 6.496644295302014\n",
      "Variancia= 331.6178338191761\n"
     ]
    }
   ],
   "source": [
    "#Verificar a media e variância nos dados\n",
    "me=dados.violations.mean()\n",
    "import statistics as sts\n",
    "va=sts.variance(dados.violations)\n",
    "print(f'Media= {me}\\nVariancia= {va}')"
   ]
  },
  {
   "cell_type": "markdown",
   "metadata": {},
   "source": [
    "**Diagnóstico preliminar para observação de eventual igualdade entre a média e a variância da variável dependente 'violations'**"
   ]
  },
  {
   "cell_type": "markdown",
   "metadata": {},
   "source": [
    "**Quando a média for muito distante da variância já é o 1° indício de existência de Superdispersão nos dados**"
   ]
  },
  {
   "cell_type": "markdown",
   "metadata": {},
   "source": [
    "# Plots"
   ]
  },
  {
   "cell_type": "markdown",
   "metadata": {},
   "source": [
    "### Histograma da variável target"
   ]
  },
  {
   "cell_type": "code",
   "execution_count": 7,
   "metadata": {},
   "outputs": [
    {
     "data": {
      "image/png": "[encoded data removed]",
      "text/plain": [
       "<Figure size 432x288 with 1 Axes>"
      ]
     },
     "metadata": {
      "needs_background": "light"
     },
     "output_type": "display_data"
    },
    {
     "data": {
      "text/plain": [
       "0      156\n",
       "1       35\n",
       "3       17\n",
       "2       16\n",
       "5       10\n",
       "4        5\n",
       "12       5\n",
       "7        4\n",
       "13       4\n",
       "10       3\n",
       "8        3\n",
       "9        3\n",
       "6        3\n",
       "16       3\n",
       "44       2\n",
       "37       2\n",
       "61       2\n",
       "21       2\n",
       "43       2\n",
       "18       2\n",
       "27       2\n",
       "17       2\n",
       "99       1\n",
       "56       1\n",
       "59       1\n",
       "69       1\n",
       "150      1\n",
       "50       1\n",
       "24       1\n",
       "40       1\n",
       "167      1\n",
       "22       1\n",
       "45       1\n",
       "67       1\n",
       "14       1\n",
       "48       1\n",
       "15       1\n",
       "Name: violations, dtype: int64"
      ]
     },
     "execution_count": 7,
     "metadata": {},
     "output_type": "execute_result"
    }
   ],
   "source": [
    "#Frequencia dos dados da variavel Target\n",
    "import matplotlib.pyplot as plt\n",
    "plt.hist(dados.violations)\n",
    "plt.show()\n",
    "dados.violations.value_counts(ascending=False)"
   ]
  },
  {
   "cell_type": "markdown",
   "metadata": {},
   "source": [
    "**Note que a maioria dos dados tem valor igual a 0 e há variação grande nos dados** "
   ]
  },
  {
   "cell_type": "markdown",
   "metadata": {},
   "source": [
    "### Gráfico de dispersão e análise descritiva: Variável post"
   ]
  },
  {
   "cell_type": "code",
   "execution_count": 8,
   "metadata": {},
   "outputs": [
    {
     "data": {
      "image/png": "[encoded data removed]",
      "text/plain": [
       "<Figure size 864x360 with 2 Axes>"
      ]
     },
     "metadata": {
      "needs_background": "light"
     },
     "output_type": "display_data"
    }
   ],
   "source": [
    "#Plot com as labels separado pela coluna post (antes e depois da lei)\n",
    "a = dados[dados.post =='no']\n",
    "b = dados[dados.post =='yes']\n",
    "\n",
    "fig,axes=plt.subplots(nrows=1,ncols=2,figsize=(12,5))\n",
    "\n",
    "axes[0].scatter(a.corruption,a.violations)\n",
    "axes[1].scatter(b.corruption,b.violations);\n",
    "plt.title('Depois da Aplicação da lei');"
   ]
  },
  {
   "cell_type": "code",
   "execution_count": 9,
   "metadata": {},
   "outputs": [
    {
     "data": {
      "text/html": [
       "<div>\n",
       "<style scoped>\n",
       "    .dataframe tbody tr th:only-of-type {\n",
       "        vertical-align: middle;\n",
       "    }\n",
       "\n",
       "    .dataframe tbody tr th {\n",
       "        vertical-align: top;\n",
       "    }\n",
       "\n",
       "    .dataframe thead th {\n",
       "        text-align: right;\n",
       "    }\n",
       "</style>\n",
       "<table border=\"1\" class=\"dataframe\">\n",
       "  <thead>\n",
       "    <tr style=\"text-align: right;\">\n",
       "      <th></th>\n",
       "      <th>violations</th>\n",
       "    </tr>\n",
       "    <tr>\n",
       "      <th>post</th>\n",
       "      <th></th>\n",
       "    </tr>\n",
       "  </thead>\n",
       "  <tbody>\n",
       "    <tr>\n",
       "      <th>no</th>\n",
       "      <td>1910</td>\n",
       "    </tr>\n",
       "    <tr>\n",
       "      <th>yes</th>\n",
       "      <td>26</td>\n",
       "    </tr>\n",
       "  </tbody>\n",
       "</table>\n",
       "</div>"
      ],
      "text/plain": [
       "      violations\n",
       "post            \n",
       "no          1910\n",
       "yes           26"
      ]
     },
     "execution_count": 9,
     "metadata": {},
     "output_type": "execute_result"
    }
   ],
   "source": [
    "#Análise descritiva\n",
    "dados.groupby('post')['violations'].sum().to_frame()"
   ]
  },
  {
   "cell_type": "markdown",
   "metadata": {},
   "source": [
    "**Note a diferença no número de multas antes e depois da aplicação da lei**"
   ]
  },
  {
   "cell_type": "markdown",
   "metadata": {},
   "source": [
    "# Modelagem:"
   ]
  },
  {
   "cell_type": "code",
   "execution_count": 10,
   "metadata": {},
   "outputs": [
    {
     "name": "stdout",
     "output_type": "stream",
     "text": [
      "<class 'pandas.core.frame.DataFrame'>\n",
      "Index: 298 entries, Angola to Zimbabwe\n",
      "Data columns (total 4 columns):\n",
      " #   Column      Non-Null Count  Dtype  \n",
      "---  ------      --------------  -----  \n",
      " 0   violations  298 non-null    int64  \n",
      " 1   staff       298 non-null    int64  \n",
      " 2   corruption  298 non-null    float64\n",
      " 3   Post_yes    298 non-null    uint8  \n",
      "dtypes: float64(1), int64(2), uint8(1)\n",
      "memory usage: 9.6+ KB\n"
     ]
    }
   ],
   "source": [
    "#Transformar a variável post em dummy referenciando a coluna Post_no\n",
    "post_dum = pd.get_dummies(dados['post'],drop_first=True)\n",
    "dados['Post_yes'] = post_dum\n",
    "\n",
    "#Excluir a variável post type: Object\n",
    "dados = dados.drop('post',axis=1)\n",
    "dados.info()"
   ]
  },
  {
   "cell_type": "markdown",
   "metadata": {},
   "source": [
    "**Observe que o dataframe não possui mais colunas do type object**"
   ]
  },
  {
   "cell_type": "code",
   "execution_count": 11,
   "metadata": {},
   "outputs": [],
   "source": [
    "#Separar as variáveis X e Y\n",
    "\n",
    "x = dados.iloc[:,1:]\n",
    "y = dados['violations']"
   ]
  },
  {
   "cell_type": "markdown",
   "metadata": {},
   "source": [
    "# Modelo Poisson"
   ]
  },
  {
   "cell_type": "code",
   "execution_count": 12,
   "metadata": {},
   "outputs": [
    {
     "name": "stdout",
     "output_type": "stream",
     "text": [
      "                 Generalized Linear Model Regression Results                  \n",
      "==============================================================================\n",
      "Dep. Variable:                      y   No. Observations:                  298\n",
      "Model:                            GLM   Df Residuals:                      294\n",
      "Model Family:                 Poisson   Df Model:                            3\n",
      "Link Function:                    Log   Scale:                          1.0000\n",
      "Method:                          IRLS   Log-Likelihood:                -2071.8\n",
      "Date:                Tue, 19 Jul 2022   Deviance:                       3644.0\n",
      "Time:                        11:50:23   Pearson chi2:                 6.77e+03\n",
      "No. Iterations:                     7   Pseudo R-squ. (CS):             0.9999\n",
      "Covariance Type:            nonrobust                                         \n",
      "==============================================================================\n",
      "                 coef    std err          z      P>|z|      [0.025      0.975]\n",
      "------------------------------------------------------------------------------\n",
      "const          2.2127      0.031     71.134      0.000       2.152       2.274\n",
      "staff          0.0219      0.001     17.807      0.000       0.019       0.024\n",
      "corruption     0.3418      0.027     12.430      0.000       0.288       0.396\n",
      "Post_yes      -4.2968      0.197    -21.762      0.000      -4.684      -3.910\n",
      "==============================================================================\n"
     ]
    }
   ],
   "source": [
    "#Modelo\n",
    "import statsmodels.api as sm\n",
    "from statsmodels.api import Poisson\n",
    "x_intercept = sm.add_constant(x)\n",
    "mod1 = sm.GLM(y.values,x_intercept, family=sm.families.Poisson())\n",
    "modpoisson= mod1.fit()\n",
    "print(modpoisson.summary())"
   ]
  },
  {
   "cell_type": "markdown",
   "metadata": {},
   "source": [
    "**Todas as variáveis são estatisticamente significantes**"
   ]
  },
  {
   "cell_type": "code",
   "execution_count": 13,
   "metadata": {},
   "outputs": [
    {
     "data": {
      "text/plain": [
       "6.496644295302014"
      ]
     },
     "execution_count": 13,
     "metadata": {},
     "output_type": "execute_result"
    }
   ],
   "source": [
    "#Lambda\n",
    "np.mean(dados.violations)"
   ]
  },
  {
   "cell_type": "markdown",
   "metadata": {},
   "source": [
    "**Lambda é igual a média dos dados da variável Y**"
   ]
  },
  {
   "cell_type": "code",
   "execution_count": 14,
   "metadata": {},
   "outputs": [
    {
     "data": {
      "text/plain": [
       "-2071.7937527648533"
      ]
     },
     "execution_count": 14,
     "metadata": {},
     "output_type": "execute_result"
    }
   ],
   "source": [
    "#LogLike \n",
    "modpoisson.llf"
   ]
  },
  {
   "cell_type": "markdown",
   "metadata": {},
   "source": [
    "**OBS: Precisamos fazer o teste de superdispersão para saber se o modelo Poisson é o mais adequado**"
   ]
  },
  {
   "cell_type": "markdown",
   "metadata": {},
   "source": [
    "# Teste de Superdispersão(Utilizando o modelo Poisson)\n"
   ]
  },
  {
   "cell_type": "markdown",
   "metadata": {},
   "source": [
    "**Teste para verificar se há ou não superdispersão nos dados**"
   ]
  },
  {
   "cell_type": "markdown",
   "metadata": {},
   "source": [
    "- **Equidispersão** = Distribuição Poisson (Media = Variância)\n",
    "\n",
    "\n",
    "- **Superdispersão** = Distribuição Binomial Negativa\n"
   ]
  },
  {
   "cell_type": "markdown",
   "metadata": {},
   "source": [
    "## Passo a Passo\n",
    "\n",
    "- **1º Passo: Estimar um modelo Poisson**\n",
    "    \n",
    "    \n",
    "- **2º Passo: Criar uma nova variável (Y*) utilizando os fitted values do modelo Poisson**\n",
    "\n",
    "\n",
    "- **3º Passo: Estimar um modelo auxiliar OLS, com a variável Y* como variável dependente, os fitted values do modelo Poisson como única variável preditora e sem o intercepto**\n",
    "\n",
    "\n",
    "- **4º Passo: Observar a significância do parâmetro beta**"
   ]
  },
  {
   "cell_type": "markdown",
   "metadata": {},
   "source": [
    "**Caso o p-value do parâmetro do lambda Poisson seja maior que 0.05,\n",
    "verifica-se a existência de equidispersão (Média = Variância) nos dados, ou seja, a variável y tem uma distribuição Poisson.\n",
    "Caso contrário, diagnostica-se a existência de superdispersão nos dados, fato\n",
    "que favorecerá a estimação de um modelo binomial negativo (Variância superior a media)**\n",
    "\n",
    "\n",
    "\n"
   ]
  },
  {
   "cell_type": "code",
   "execution_count": 15,
   "metadata": {},
   "outputs": [
    {
     "name": "stdout",
     "output_type": "stream",
     "text": [
      "                                 OLS Regression Results                                \n",
      "=======================================================================================\n",
      "Dep. Variable:                      0   R-squared (uncentered):                   0.025\n",
      "Model:                            OLS   Adj. R-squared (uncentered):              0.022\n",
      "Method:                 Least Squares   F-statistic:                              7.584\n",
      "Date:                Tue, 19 Jul 2022   Prob (F-statistic):                     0.00625\n",
      "Time:                        11:50:23   Log-Likelihood:                         -1952.9\n",
      "No. Observations:                 298   AIC:                                      3908.\n",
      "Df Residuals:                     297   BIC:                                      3911.\n",
      "Df Model:                           1                                                  \n",
      "Covariance Type:            nonrobust                                                  \n",
      "==============================================================================\n",
      "                 coef    std err          t      P>|t|      [0.025      0.975]\n",
      "------------------------------------------------------------------------------\n",
      "const               0          0        nan        nan           0           0\n",
      "lambda         2.6525      0.963      2.754      0.006       0.757       4.548\n",
      "==============================================================================\n",
      "Omnibus:                      607.263   Durbin-Watson:                   2.001\n",
      "Prob(Omnibus):                  0.000   Jarque-Bera (JB):           446004.649\n",
      "Skew:                          13.265   Prob(JB):                         0.00\n",
      "Kurtosis:                     190.659   Cond. No.                          inf\n",
      "==============================================================================\n",
      "\n",
      "Notes:\n",
      "[1] R² is computed without centering (uncentered) since the model does not contain a constant.\n",
      "[2] Standard Errors assume that the covariance matrix of the errors is correctly specified.\n",
      "[3] The smallest eigenvalue is      0. This might indicate that there are\n",
      "strong multicollinearity problems or that the design matrix is singular.\n"
     ]
    }
   ],
   "source": [
    "#1°Modelo Poisson\n",
    "\n",
    "modpoisson\n",
    "\n",
    "#2º Criar a variável Y* utilizando os fitted values do modelo poisson\n",
    "lambda_poi=modpoisson.predict(x_intercept)\n",
    "\n",
    "ystars = (((y - lambda_poi)**2) - y)/lambda_poi\n",
    "\n",
    "#3º Estimar um modelo auxiliar OLS\n",
    "\n",
    "#Teste de Superdispersão\n",
    "import warnings\n",
    "warnings.filterwarnings('ignore')\n",
    "\n",
    "#Transformar a variavel y* em formato pandas para criação do modelo\n",
    "ys = pd.DataFrame(ystars)\n",
    "\n",
    "#Add valor 0 na constante\n",
    "x_int_lamda = pd.DataFrame(x_intercept.const*0) \n",
    "\n",
    "# Unir a variável lambda com a constante \n",
    "x_int_lamda['lambda'] = pd.DataFrame(lambda_poi)\n",
    "\n",
    "#Estimando o modelo auxiliar GLM sem o intercepto \n",
    "mod_reg=sm.OLS(ys,x_int_lamda).fit()\n",
    "print(mod_reg.summary())\n"
   ]
  },
  {
   "cell_type": "code",
   "execution_count": 16,
   "metadata": {},
   "outputs": [
    {
     "name": "stdout",
     "output_type": "stream",
     "text": [
      "P_value: 0.006252985352426318\n"
     ]
    }
   ],
   "source": [
    "#4° Observar a significancia do parâmetro beta\n",
    "\n",
    "print(f'P_value: {mod_reg.pvalues[1]}')"
   ]
  },
  {
   "cell_type": "markdown",
   "metadata": {},
   "source": [
    "**P_value < 0.05, portanto verifica-se a existência de superdispersão nos dados, estimação do modelo binomial negativo será a mais adequada**"
   ]
  },
  {
   "cell_type": "markdown",
   "metadata": {},
   "source": [
    "# Distribuição Binomial Negativa"
   ]
  },
  {
   "cell_type": "markdown",
   "metadata": {},
   "source": [
    "- **Delta = taxa de decaimento, quanto maior o valor do Delta, mais rápido o caimento nos dados**\n",
    "\n",
    "\n",
    "- **Theta = Parâmetro de forma da distribuição Poisson-Gama (binomial negativa), ajuste na concentração ou forma dos dados**\n",
    "\n",
    "\n",
    "- **Phi = Representa a superdispersão dos dados, no modelo é encontrado com nome ALPHA**\n"
   ]
  },
  {
   "cell_type": "code",
   "execution_count": 17,
   "metadata": {
    "scrolled": true
   },
   "outputs": [
    {
     "name": "stdout",
     "output_type": "stream",
     "text": [
      "Optimization terminated successfully.\n",
      "         Current function value: 1.904031\n",
      "         Iterations: 19\n",
      "         Function evaluations: 23\n",
      "         Gradient evaluations: 23\n"
     ]
    },
    {
     "data": {
      "text/html": [
       "<table class=\"simpletable\">\n",
       "<tr>\n",
       "        <td>Model:</td>        <td>NegativeBinomial</td> <td>Pseudo R-squared:</td>    <td>0.155</td>  \n",
       "</tr>\n",
       "<tr>\n",
       "  <td>Dependent Variable:</td>         <td>y</td>              <td>AIC:</td>         <td>1144.8023</td>\n",
       "</tr>\n",
       "<tr>\n",
       "         <td>Date:</td>        <td>2022-07-19 11:50</td>       <td>BIC:</td>         <td>1163.2878</td>\n",
       "</tr>\n",
       "<tr>\n",
       "   <td>No. Observations:</td>         <td>298</td>        <td>Log-Likelihood:</td>    <td>-567.40</td> \n",
       "</tr>\n",
       "<tr>\n",
       "       <td>Df Model:</td>              <td>3</td>            <td>LL-Null:</td>        <td>-671.37</td> \n",
       "</tr>\n",
       "<tr>\n",
       "     <td>Df Residuals:</td>           <td>294</td>         <td>LLR p-value:</td>    <td>8.0876e-45</td>\n",
       "</tr>\n",
       "<tr>\n",
       "      <td>Converged:</td>           <td>1.0000</td>           <td>Scale:</td>         <td>1.0000</td>  \n",
       "</tr>\n",
       "</table>\n",
       "<table class=\"simpletable\">\n",
       "<tr>\n",
       "       <td></td>       <th>Coef.</th>  <th>Std.Err.</th>     <th>z</th>     <th>P>|z|</th> <th>[0.025</th>  <th>0.975]</th> \n",
       "</tr>\n",
       "<tr>\n",
       "  <th>const</th>      <td>1.9469</td>   <td>0.2054</td>   <td>9.4765</td>  <td>0.0000</td> <td>1.5442</td>  <td>2.3496</td> \n",
       "</tr>\n",
       "<tr>\n",
       "  <th>staff</th>      <td>0.0400</td>   <td>0.0136</td>   <td>2.9450</td>  <td>0.0032</td> <td>0.0134</td>  <td>0.0667</td> \n",
       "</tr>\n",
       "<tr>\n",
       "  <th>corruption</th> <td>0.4527</td>   <td>0.1333</td>   <td>3.3955</td>  <td>0.0007</td> <td>0.1914</td>  <td>0.7139</td> \n",
       "</tr>\n",
       "<tr>\n",
       "  <th>Post_yes</th>   <td>-4.2746</td>  <td>0.2661</td>  <td>-16.0653</td> <td>0.0000</td> <td>-4.7961</td> <td>-3.7531</td>\n",
       "</tr>\n",
       "<tr>\n",
       "  <th>alpha</th>      <td>2.0963</td>   <td>0.2434</td>   <td>8.6135</td>  <td>0.0000</td> <td>1.6193</td>  <td>2.5733</td> \n",
       "</tr>\n",
       "</table>"
      ],
      "text/plain": [
       "<class 'statsmodels.iolib.summary2.Summary'>\n",
       "\"\"\"\n",
       "                    Results: NegativeBinomial\n",
       "=================================================================\n",
       "Model:              NegativeBinomial Pseudo R-squared: 0.155     \n",
       "Dependent Variable: y                AIC:              1144.8023 \n",
       "Date:               2022-07-19 11:50 BIC:              1163.2878 \n",
       "No. Observations:   298              Log-Likelihood:   -567.40   \n",
       "Df Model:           3                LL-Null:          -671.37   \n",
       "Df Residuals:       294              LLR p-value:      8.0876e-45\n",
       "Converged:          1.0000           Scale:            1.0000    \n",
       "------------------------------------------------------------------\n",
       "              Coef.   Std.Err.     z      P>|z|    [0.025   0.975]\n",
       "------------------------------------------------------------------\n",
       "const         1.9469    0.2054    9.4765  0.0000   1.5442   2.3496\n",
       "staff         0.0400    0.0136    2.9450  0.0032   0.0134   0.0667\n",
       "corruption    0.4527    0.1333    3.3955  0.0007   0.1914   0.7139\n",
       "Post_yes     -4.2746    0.2661  -16.0653  0.0000  -4.7961  -3.7531\n",
       "alpha         2.0963    0.2434    8.6135  0.0000   1.6193   2.5733\n",
       "=================================================================\n",
       "\n",
       "\"\"\""
      ]
     },
     "execution_count": 17,
     "metadata": {},
     "output_type": "execute_result"
    }
   ],
   "source": [
    "#Modelo Binomial Negativo\n",
    "import statsmodels.api as sm\n",
    "from statsmodels.api import Poisson\n",
    "x_intercept = sm.add_constant(x)\n",
    "mod1 = sm.NegativeBinomial(y.values,x_intercept)\n",
    "modbn= mod1.fit()\n",
    "modbn.summary2()"
   ]
  },
  {
   "cell_type": "markdown",
   "metadata": {},
   "source": [
    "**Todos as variáveis são estatisticamente significantes**"
   ]
  },
  {
   "cell_type": "code",
   "execution_count": 18,
   "metadata": {},
   "outputs": [
    {
     "name": "stdout",
     "output_type": "stream",
     "text": [
      "Loglike do Modelo Binomial Negativa:  -567.4\n"
     ]
    }
   ],
   "source": [
    "#Loglike\n",
    "\n",
    "llbn = modbn.llf\n",
    "print(f'Loglike do Modelo Binomial Negativa:  {round(llbn,2)}')"
   ]
  },
  {
   "cell_type": "code",
   "execution_count": 19,
   "metadata": {},
   "outputs": [
    {
     "name": "stdout",
     "output_type": "stream",
     "text": [
      "Tetha: 0.4770223896142164\n"
     ]
    }
   ],
   "source": [
    "#Tetha (o inverso do alpha(Phi))\n",
    "print(f'Tetha: {1/modbn.params.alpha}')\n",
    "\n",
    "#Phi (o inverso do Tetha)"
   ]
  },
  {
   "cell_type": "markdown",
   "metadata": {},
   "source": [
    "**Theta é importante para o cálculo de superdispersão usando o modelo binomial negativo**"
   ]
  },
  {
   "cell_type": "markdown",
   "metadata": {},
   "source": [
    "# Teste de Superdispersão(Usando Modelo Binomial Negativo)"
   ]
  },
  {
   "cell_type": "markdown",
   "metadata": {},
   "source": [
    "## Estatística z de Wald do parâmetro theta para verificação da significância estatística"
   ]
  },
  {
   "cell_type": "markdown",
   "metadata": {},
   "source": [
    "- Se o valor da estatística Wald for > 1.96 haverá Superdispersão nos dados"
   ]
  },
  {
   "cell_type": "code",
   "execution_count": 20,
   "metadata": {},
   "outputs": [
    {
     "name": "stdout",
     "output_type": "stream",
     "text": [
      "Valor Estatitica Z de Wald: 8.613531091162258\n"
     ]
    }
   ],
   "source": [
    "#Formula para o calculo da estatistca Z de Wald\n",
    "\n",
    "#Coeficientes phi e theta\n",
    "phi = modbn.params.alpha\n",
    "theta = 1/modbn.params.alpha\n",
    "\n",
    "#Encontrar o erro padrao do phi\n",
    "erro_padrao_phi = modbn.lnalpha_std_err/phi\n",
    "\n",
    "#Estatistica Z de Wald \n",
    "wald =theta/erro_padrao_phi\n",
    "print(f'Valor Estatitica Z de Wald: {wald}')"
   ]
  },
  {
   "cell_type": "markdown",
   "metadata": {},
   "source": [
    "**Valor da Estatística Z > 1.96, portanto há superdispersão nos dados**"
   ]
  },
  {
   "cell_type": "markdown",
   "metadata": {},
   "source": [
    "**OBS: O cálculo já foi feito usando o modelo de Poisson, porém para fins didáticos podemos perceber que o cálculo também pode ser feito usando o modelo Binomial negativo**"
   ]
  },
  {
   "cell_type": "markdown",
   "metadata": {},
   "source": [
    "# Comparar os Parâmetros do modelo Poisson e Binomial Negativo"
   ]
  },
  {
   "cell_type": "code",
   "execution_count": 21,
   "metadata": {},
   "outputs": [
    {
     "data": {
      "text/html": [
       "<div>\n",
       "<style scoped>\n",
       "    .dataframe tbody tr th:only-of-type {\n",
       "        vertical-align: middle;\n",
       "    }\n",
       "\n",
       "    .dataframe tbody tr th {\n",
       "        vertical-align: top;\n",
       "    }\n",
       "\n",
       "    .dataframe thead th {\n",
       "        text-align: right;\n",
       "    }\n",
       "</style>\n",
       "<table border=\"1\" class=\"dataframe\">\n",
       "  <thead>\n",
       "    <tr style=\"text-align: right;\">\n",
       "      <th></th>\n",
       "      <th>Poisson</th>\n",
       "      <th>BNegativo</th>\n",
       "    </tr>\n",
       "  </thead>\n",
       "  <tbody>\n",
       "    <tr>\n",
       "      <th>const</th>\n",
       "      <td>2.212739</td>\n",
       "      <td>1.946894</td>\n",
       "    </tr>\n",
       "    <tr>\n",
       "      <th>staff</th>\n",
       "      <td>0.021870</td>\n",
       "      <td>0.040018</td>\n",
       "    </tr>\n",
       "    <tr>\n",
       "      <th>corruption</th>\n",
       "      <td>0.341765</td>\n",
       "      <td>0.452662</td>\n",
       "    </tr>\n",
       "    <tr>\n",
       "      <th>Post_yes</th>\n",
       "      <td>-4.296762</td>\n",
       "      <td>-4.274618</td>\n",
       "    </tr>\n",
       "  </tbody>\n",
       "</table>\n",
       "</div>"
      ],
      "text/plain": [
       "             Poisson  BNegativo\n",
       "const       2.212739   1.946894\n",
       "staff       0.021870   0.040018\n",
       "corruption  0.341765   0.452662\n",
       "Post_yes   -4.296762  -4.274618"
      ]
     },
     "execution_count": 21,
     "metadata": {},
     "output_type": "execute_result"
    }
   ],
   "source": [
    "#Comparar os Coeficientes\n",
    "coep = pd.DataFrame(modpoisson.params,columns=['Poisson'])\n",
    "coep['BNegativo'] = modbn.params;coep"
   ]
  },
  {
   "cell_type": "code",
   "execution_count": 22,
   "metadata": {},
   "outputs": [
    {
     "name": "stdout",
     "output_type": "stream",
     "text": [
      "POISSON\n",
      "AIC: 4151.5875055297065\n",
      "BIC: 1969.0091750172162\n",
      "\n",
      "BINOMIAL NEGATIVO\n",
      "AIC: 1144.8023433355697\n",
      "BIC: 1163.2878107680967\n"
     ]
    }
   ],
   "source": [
    "#Comparar o AIC e BIC\n",
    "print('POISSON')\n",
    "print(f'AIC: {modpoisson.aic}')\n",
    "print(f'BIC: {modpoisson.bic}')\n",
    "\n",
    "print('\\nBINOMIAL NEGATIVO')\n",
    "print(f'AIC: {modbn.aic}')\n",
    "print(f'BIC: {modbn.bic}')"
   ]
  },
  {
   "cell_type": "markdown",
   "metadata": {},
   "source": [
    "**A métrica AIC do modelo Binomial Negativo é 4 vezes menor que o modelo Poisson, lembrando que quanto menor o valor melhor o modelo**"
   ]
  },
  {
   "cell_type": "code",
   "execution_count": 23,
   "metadata": {},
   "outputs": [
    {
     "name": "stdout",
     "output_type": "stream",
     "text": [
      "POISSON\n",
      "LogLik: -2071.7937527648533\n",
      "\n",
      "BINOMIAL NEGATIVO\n",
      "LogLik: -567.4011716677849\n"
     ]
    }
   ],
   "source": [
    "##Comparar Loglik \n",
    "print('POISSON')\n",
    "print(f'LogLik: {modpoisson.llf}')\n",
    "\n",
    "\n",
    "print('\\nBINOMIAL NEGATIVO')\n",
    "print(f'LogLik: {modbn.llf}')\n"
   ]
  },
  {
   "cell_type": "markdown",
   "metadata": {},
   "source": [
    "**Veja também que a métrica Loglik do modelo Binomial Negativo é 4 vezes menor que o modelo Poisson**"
   ]
  },
  {
   "cell_type": "markdown",
   "metadata": {},
   "source": [
    "## Predição com os 2 modelos:"
   ]
  },
  {
   "cell_type": "markdown",
   "metadata": {},
   "source": [
    "### Modelo - Poisson e Binomial Negativo"
   ]
  },
  {
   "cell_type": "code",
   "execution_count": 24,
   "metadata": {},
   "outputs": [
    {
     "data": {
      "text/html": [
       "<div>\n",
       "<style scoped>\n",
       "    .dataframe tbody tr th:only-of-type {\n",
       "        vertical-align: middle;\n",
       "    }\n",
       "\n",
       "    .dataframe tbody tr th {\n",
       "        vertical-align: top;\n",
       "    }\n",
       "\n",
       "    .dataframe thead th {\n",
       "        text-align: right;\n",
       "    }\n",
       "</style>\n",
       "<table border=\"1\" class=\"dataframe\">\n",
       "  <thead>\n",
       "    <tr style=\"text-align: right;\">\n",
       "      <th></th>\n",
       "      <th>Pred_Poisson</th>\n",
       "      <th>Pred_BinomialNegativo</th>\n",
       "      <th>Target</th>\n",
       "    </tr>\n",
       "    <tr>\n",
       "      <th>country</th>\n",
       "      <th></th>\n",
       "      <th></th>\n",
       "      <th></th>\n",
       "    </tr>\n",
       "  </thead>\n",
       "  <tbody>\n",
       "    <tr>\n",
       "      <th>Angola</th>\n",
       "      <td>15.919915</td>\n",
       "      <td>16.138708</td>\n",
       "      <td>50</td>\n",
       "    </tr>\n",
       "    <tr>\n",
       "      <th>Angola</th>\n",
       "      <td>0.216711</td>\n",
       "      <td>0.224608</td>\n",
       "      <td>1</td>\n",
       "    </tr>\n",
       "    <tr>\n",
       "      <th>Albania</th>\n",
       "      <td>13.371720</td>\n",
       "      <td>11.987745</td>\n",
       "      <td>17</td>\n",
       "    </tr>\n",
       "    <tr>\n",
       "      <th>Albania</th>\n",
       "      <td>0.182023</td>\n",
       "      <td>0.166838</td>\n",
       "      <td>0</td>\n",
       "    </tr>\n",
       "    <tr>\n",
       "      <th>United Arab Emirates</th>\n",
       "      <td>7.477915</td>\n",
       "      <td>5.551744</td>\n",
       "      <td>0</td>\n",
       "    </tr>\n",
       "    <tr>\n",
       "      <th>...</th>\n",
       "      <td>...</td>\n",
       "      <td>...</td>\n",
       "      <td>...</td>\n",
       "    </tr>\n",
       "    <tr>\n",
       "      <th>Zaire</th>\n",
       "      <td>0.243691</td>\n",
       "      <td>0.253817</td>\n",
       "      <td>0</td>\n",
       "    </tr>\n",
       "    <tr>\n",
       "      <th>Zambia</th>\n",
       "      <td>13.486751</td>\n",
       "      <td>12.955729</td>\n",
       "      <td>37</td>\n",
       "    </tr>\n",
       "    <tr>\n",
       "      <th>Zambia</th>\n",
       "      <td>0.183589</td>\n",
       "      <td>0.180310</td>\n",
       "      <td>0</td>\n",
       "    </tr>\n",
       "    <tr>\n",
       "      <th>Zimbabwe</th>\n",
       "      <td>12.994217</td>\n",
       "      <td>13.033457</td>\n",
       "      <td>43</td>\n",
       "    </tr>\n",
       "    <tr>\n",
       "      <th>Zimbabwe</th>\n",
       "      <td>0.176885</td>\n",
       "      <td>0.181391</td>\n",
       "      <td>1</td>\n",
       "    </tr>\n",
       "  </tbody>\n",
       "</table>\n",
       "<p>298 rows × 3 columns</p>\n",
       "</div>"
      ],
      "text/plain": [
       "                      Pred_Poisson  Pred_BinomialNegativo  Target\n",
       "country                                                          \n",
       "Angola                   15.919915              16.138708      50\n",
       "Angola                    0.216711               0.224608       1\n",
       "Albania                  13.371720              11.987745      17\n",
       "Albania                   0.182023               0.166838       0\n",
       "United Arab Emirates      7.477915               5.551744       0\n",
       "...                            ...                    ...     ...\n",
       "Zaire                     0.243691               0.253817       0\n",
       "Zambia                   13.486751              12.955729      37\n",
       "Zambia                    0.183589               0.180310       0\n",
       "Zimbabwe                 12.994217              13.033457      43\n",
       "Zimbabwe                  0.176885               0.181391       1\n",
       "\n",
       "[298 rows x 3 columns]"
      ]
     },
     "execution_count": 24,
     "metadata": {},
     "output_type": "execute_result"
    }
   ],
   "source": [
    "#Criar as predições dos modelos\n",
    "pred = pd.DataFrame(modpoisson.predict(x_intercept),columns=['Pred_Poisson'])\n",
    "pred['Pred_BinomialNegativo']=modbn.predict(x_intercept)\n",
    "pred['Target']= dados.violations\n",
    "pred"
   ]
  },
  {
   "cell_type": "code",
   "execution_count": 25,
   "metadata": {},
   "outputs": [
    {
     "data": {
      "image/png": "[encoded data removed]",
      "text/plain": [
       "<Figure size 1152x504 with 1 Axes>"
      ]
     },
     "metadata": {
      "needs_background": "light"
     },
     "output_type": "display_data"
    }
   ],
   "source": [
    "#Plot\n",
    "plt.figure(figsize=(16, 7))\n",
    "plt.plot(pred.Target)\n",
    "plt.plot(pred.Pred_Poisson,color='red')\n",
    "plt.plot(pred.Pred_BinomialNegativo,color='black')\n",
    "plt.legend(['Dados','Poisson','BNegativo']);"
   ]
  },
  {
   "cell_type": "markdown",
   "metadata": {},
   "source": [
    "**Observe que o modelo binomial negativo consegue capturar mais a discrepância dos dados**"
   ]
  },
  {
   "cell_type": "markdown",
   "metadata": {},
   "source": [
    "# Novo Banco de dados "
   ]
  },
  {
   "cell_type": "markdown",
   "metadata": {},
   "source": [
    "**Criar um novo dataset 'corruption2', com quantidades de violações de trânsito iguais, no máximo, a 3. Este procedimento poderá, eventualmente, eliminar o fenômeno da superdispersão nos dados da variável dependente e, consequentemente, tornar as estimações dos modelos POISSON e BINOMIAL NEGATIVO praticamente iguais**"
   ]
  },
  {
   "cell_type": "markdown",
   "metadata": {},
   "source": [
    "## $$Objetivo~2:$$  \n",
    "\n",
    "## $$Verificar~se~ caso ~os~ dados ~tiverem~Equidispersão$$$$~os~modelos~Poisson~e~Binomial~Negativa~serão~iguais$$"
   ]
  },
  {
   "cell_type": "code",
   "execution_count": 26,
   "metadata": {},
   "outputs": [
    {
     "data": {
      "text/html": [
       "<div>\n",
       "<style scoped>\n",
       "    .dataframe tbody tr th:only-of-type {\n",
       "        vertical-align: middle;\n",
       "    }\n",
       "\n",
       "    .dataframe tbody tr th {\n",
       "        vertical-align: top;\n",
       "    }\n",
       "\n",
       "    .dataframe thead th {\n",
       "        text-align: right;\n",
       "    }\n",
       "</style>\n",
       "<table border=\"1\" class=\"dataframe\">\n",
       "  <thead>\n",
       "    <tr style=\"text-align: right;\">\n",
       "      <th></th>\n",
       "      <th>violations</th>\n",
       "      <th>staff</th>\n",
       "      <th>post</th>\n",
       "      <th>corruption</th>\n",
       "    </tr>\n",
       "    <tr>\n",
       "      <th>country</th>\n",
       "      <th></th>\n",
       "      <th></th>\n",
       "      <th></th>\n",
       "      <th></th>\n",
       "    </tr>\n",
       "  </thead>\n",
       "  <tbody>\n",
       "    <tr>\n",
       "      <th>Angola</th>\n",
       "      <td>1</td>\n",
       "      <td>9</td>\n",
       "      <td>yes</td>\n",
       "      <td>1.047506</td>\n",
       "    </tr>\n",
       "    <tr>\n",
       "      <th>Albania</th>\n",
       "      <td>0</td>\n",
       "      <td>3</td>\n",
       "      <td>yes</td>\n",
       "      <td>0.921079</td>\n",
       "    </tr>\n",
       "    <tr>\n",
       "      <th>United Arab Emirates</th>\n",
       "      <td>0</td>\n",
       "      <td>3</td>\n",
       "      <td>no</td>\n",
       "      <td>-0.779468</td>\n",
       "    </tr>\n",
       "    <tr>\n",
       "      <th>United Arab Emirates</th>\n",
       "      <td>0</td>\n",
       "      <td>3</td>\n",
       "      <td>yes</td>\n",
       "      <td>-0.779468</td>\n",
       "    </tr>\n",
       "    <tr>\n",
       "      <th>Argentina</th>\n",
       "      <td>0</td>\n",
       "      <td>19</td>\n",
       "      <td>yes</td>\n",
       "      <td>0.223567</td>\n",
       "    </tr>\n",
       "    <tr>\n",
       "      <th>...</th>\n",
       "      <td>...</td>\n",
       "      <td>...</td>\n",
       "      <td>...</td>\n",
       "      <td>...</td>\n",
       "    </tr>\n",
       "    <tr>\n",
       "      <th>South Africa</th>\n",
       "      <td>1</td>\n",
       "      <td>19</td>\n",
       "      <td>yes</td>\n",
       "      <td>-0.415147</td>\n",
       "    </tr>\n",
       "    <tr>\n",
       "      <th>Zaire</th>\n",
       "      <td>3</td>\n",
       "      <td>6</td>\n",
       "      <td>no</td>\n",
       "      <td>1.582807</td>\n",
       "    </tr>\n",
       "    <tr>\n",
       "      <th>Zaire</th>\n",
       "      <td>0</td>\n",
       "      <td>6</td>\n",
       "      <td>yes</td>\n",
       "      <td>1.582807</td>\n",
       "    </tr>\n",
       "    <tr>\n",
       "      <th>Zambia</th>\n",
       "      <td>0</td>\n",
       "      <td>9</td>\n",
       "      <td>yes</td>\n",
       "      <td>0.562193</td>\n",
       "    </tr>\n",
       "    <tr>\n",
       "      <th>Zimbabwe</th>\n",
       "      <td>1</td>\n",
       "      <td>14</td>\n",
       "      <td>yes</td>\n",
       "      <td>0.133379</td>\n",
       "    </tr>\n",
       "  </tbody>\n",
       "</table>\n",
       "<p>224 rows × 4 columns</p>\n",
       "</div>"
      ],
      "text/plain": [
       "                      violations  staff post  corruption\n",
       "country                                                 \n",
       "Angola                         1      9  yes    1.047506\n",
       "Albania                        0      3  yes    0.921079\n",
       "United Arab Emirates           0      3   no   -0.779468\n",
       "United Arab Emirates           0      3  yes   -0.779468\n",
       "Argentina                      0     19  yes    0.223567\n",
       "...                          ...    ...  ...         ...\n",
       "South Africa                   1     19  yes   -0.415147\n",
       "Zaire                          3      6   no    1.582807\n",
       "Zaire                          0      6  yes    1.582807\n",
       "Zambia                         0      9  yes    0.562193\n",
       "Zimbabwe                       1     14  yes    0.133379\n",
       "\n",
       "[224 rows x 4 columns]"
      ]
     },
     "execution_count": 26,
     "metadata": {},
     "output_type": "execute_result"
    }
   ],
   "source": [
    "# Carregando o dataset\n",
    "\n",
    "corruption2 = pd.read_csv('corruption.csv',encoding='latin1',sep=',')\n",
    "corruption2 = corruption2.set_index('country')\n",
    "corruption2 =corruption2.iloc[:,1:]\n",
    "corruption2 = corruption2[corruption2.violations<=3]\n",
    "corruption2"
   ]
  },
  {
   "cell_type": "markdown",
   "metadata": {},
   "source": [
    "**Tabela com 224 observações e 4 variáveis**"
   ]
  },
  {
   "cell_type": "markdown",
   "metadata": {},
   "source": [
    "# Análise Exploratória"
   ]
  },
  {
   "cell_type": "code",
   "execution_count": 27,
   "metadata": {},
   "outputs": [
    {
     "data": {
      "image/png": "[encoded data removed]",
      "text/plain": [
       "<Figure size 576x432 with 1 Axes>"
      ]
     },
     "metadata": {
      "needs_background": "light"
     },
     "output_type": "display_data"
    },
    {
     "data": {
      "text/plain": [
       "0    156\n",
       "1     35\n",
       "3     17\n",
       "2     16\n",
       "Name: violations, dtype: int64"
      ]
     },
     "execution_count": 27,
     "metadata": {},
     "output_type": "execute_result"
    }
   ],
   "source": [
    "#Frequencia dos dados da variável Target\n",
    "\n",
    "plt.figure(figsize=(8, 6))\n",
    "plt.hist(corruption2.violations)\n",
    "plt.xticks([0, 1, 2,3]);\n",
    "plt.show()\n",
    "corruption2.violations.value_counts(ascending=False)"
   ]
  },
  {
   "cell_type": "markdown",
   "metadata": {},
   "source": [
    "**Há pouca variação nos dados**"
   ]
  },
  {
   "cell_type": "code",
   "execution_count": 28,
   "metadata": {},
   "outputs": [
    {
     "name": "stdout",
     "output_type": "stream",
     "text": [
      "Media= 0.5267857142857143\n",
      "Variancia= 0.8512972453555412\n"
     ]
    }
   ],
   "source": [
    "#Verificar a media e variância nos dados\n",
    "me=corruption2.violations.mean()\n",
    "import statistics as sts\n",
    "va=sts.variance(corruption2.violations)\n",
    "print(f'Media= {me}\\nVariancia= {va}')"
   ]
  },
  {
   "cell_type": "markdown",
   "metadata": {},
   "source": [
    "**Note que agora a média está muito próximo da variância (Equidispersão)**"
   ]
  },
  {
   "cell_type": "markdown",
   "metadata": {},
   "source": [
    "## Modelagem"
   ]
  },
  {
   "cell_type": "code",
   "execution_count": 29,
   "metadata": {},
   "outputs": [
    {
     "data": {
      "text/html": [
       "<div>\n",
       "<style scoped>\n",
       "    .dataframe tbody tr th:only-of-type {\n",
       "        vertical-align: middle;\n",
       "    }\n",
       "\n",
       "    .dataframe tbody tr th {\n",
       "        vertical-align: top;\n",
       "    }\n",
       "\n",
       "    .dataframe thead th {\n",
       "        text-align: right;\n",
       "    }\n",
       "</style>\n",
       "<table border=\"1\" class=\"dataframe\">\n",
       "  <thead>\n",
       "    <tr style=\"text-align: right;\">\n",
       "      <th></th>\n",
       "      <th>violations</th>\n",
       "      <th>staff</th>\n",
       "      <th>corruption</th>\n",
       "      <th>Post_yes</th>\n",
       "    </tr>\n",
       "    <tr>\n",
       "      <th>country</th>\n",
       "      <th></th>\n",
       "      <th></th>\n",
       "      <th></th>\n",
       "      <th></th>\n",
       "    </tr>\n",
       "  </thead>\n",
       "  <tbody>\n",
       "    <tr>\n",
       "      <th>Angola</th>\n",
       "      <td>1</td>\n",
       "      <td>9</td>\n",
       "      <td>1.047506</td>\n",
       "      <td>1</td>\n",
       "    </tr>\n",
       "    <tr>\n",
       "      <th>Albania</th>\n",
       "      <td>0</td>\n",
       "      <td>3</td>\n",
       "      <td>0.921079</td>\n",
       "      <td>1</td>\n",
       "    </tr>\n",
       "    <tr>\n",
       "      <th>United Arab Emirates</th>\n",
       "      <td>0</td>\n",
       "      <td>3</td>\n",
       "      <td>-0.779468</td>\n",
       "      <td>0</td>\n",
       "    </tr>\n",
       "    <tr>\n",
       "      <th>United Arab Emirates</th>\n",
       "      <td>0</td>\n",
       "      <td>3</td>\n",
       "      <td>-0.779468</td>\n",
       "      <td>1</td>\n",
       "    </tr>\n",
       "    <tr>\n",
       "      <th>Argentina</th>\n",
       "      <td>0</td>\n",
       "      <td>19</td>\n",
       "      <td>0.223567</td>\n",
       "      <td>1</td>\n",
       "    </tr>\n",
       "    <tr>\n",
       "      <th>...</th>\n",
       "      <td>...</td>\n",
       "      <td>...</td>\n",
       "      <td>...</td>\n",
       "      <td>...</td>\n",
       "    </tr>\n",
       "    <tr>\n",
       "      <th>South Africa</th>\n",
       "      <td>1</td>\n",
       "      <td>19</td>\n",
       "      <td>-0.415147</td>\n",
       "      <td>1</td>\n",
       "    </tr>\n",
       "    <tr>\n",
       "      <th>Zaire</th>\n",
       "      <td>3</td>\n",
       "      <td>6</td>\n",
       "      <td>1.582807</td>\n",
       "      <td>0</td>\n",
       "    </tr>\n",
       "    <tr>\n",
       "      <th>Zaire</th>\n",
       "      <td>0</td>\n",
       "      <td>6</td>\n",
       "      <td>1.582807</td>\n",
       "      <td>1</td>\n",
       "    </tr>\n",
       "    <tr>\n",
       "      <th>Zambia</th>\n",
       "      <td>0</td>\n",
       "      <td>9</td>\n",
       "      <td>0.562193</td>\n",
       "      <td>1</td>\n",
       "    </tr>\n",
       "    <tr>\n",
       "      <th>Zimbabwe</th>\n",
       "      <td>1</td>\n",
       "      <td>14</td>\n",
       "      <td>0.133379</td>\n",
       "      <td>1</td>\n",
       "    </tr>\n",
       "  </tbody>\n",
       "</table>\n",
       "<p>224 rows × 4 columns</p>\n",
       "</div>"
      ],
      "text/plain": [
       "                      violations  staff  corruption  Post_yes\n",
       "country                                                      \n",
       "Angola                         1      9    1.047506         1\n",
       "Albania                        0      3    0.921079         1\n",
       "United Arab Emirates           0      3   -0.779468         0\n",
       "United Arab Emirates           0      3   -0.779468         1\n",
       "Argentina                      0     19    0.223567         1\n",
       "...                          ...    ...         ...       ...\n",
       "South Africa                   1     19   -0.415147         1\n",
       "Zaire                          3      6    1.582807         0\n",
       "Zaire                          0      6    1.582807         1\n",
       "Zambia                         0      9    0.562193         1\n",
       "Zimbabwe                       1     14    0.133379         1\n",
       "\n",
       "[224 rows x 4 columns]"
      ]
     },
     "execution_count": 29,
     "metadata": {},
     "output_type": "execute_result"
    }
   ],
   "source": [
    "#Transformar a variável post em dummy\n",
    "post_dum = pd.get_dummies(corruption2['post'],drop_first=True)\n",
    "corruption2['Post_yes'] = post_dum\n",
    "corruption2 = corruption2.drop('post',axis=1)\n",
    "corruption2"
   ]
  },
  {
   "cell_type": "markdown",
   "metadata": {},
   "source": [
    "**Modelo poisson só suporta variáveis numericas ou dummies**"
   ]
  },
  {
   "cell_type": "code",
   "execution_count": 30,
   "metadata": {},
   "outputs": [],
   "source": [
    "#Separar as variáveis X e Y\n",
    "x = corruption2.iloc[:,1:]\n",
    "y = corruption2['violations']"
   ]
  },
  {
   "cell_type": "markdown",
   "metadata": {},
   "source": [
    "# Modelo Poisson"
   ]
  },
  {
   "cell_type": "code",
   "execution_count": 31,
   "metadata": {},
   "outputs": [
    {
     "name": "stdout",
     "output_type": "stream",
     "text": [
      "                 Generalized Linear Model Regression Results                  \n",
      "==============================================================================\n",
      "Dep. Variable:                      y   No. Observations:                  224\n",
      "Model:                            GLM   Df Residuals:                      220\n",
      "Model Family:                 Poisson   Df Model:                            3\n",
      "Link Function:                    Log   Scale:                          1.0000\n",
      "Method:                          IRLS   Log-Likelihood:                -179.47\n",
      "Date:                Tue, 19 Jul 2022   Deviance:                       196.25\n",
      "Time:                        11:50:25   Pearson chi2:                     243.\n",
      "No. Iterations:                     5   Pseudo R-squ. (CS):             0.3919\n",
      "Covariance Type:            nonrobust                                         \n",
      "==============================================================================\n",
      "                 coef    std err          z      P>|z|      [0.025      0.975]\n",
      "------------------------------------------------------------------------------\n",
      "const          0.1322      0.145      0.909      0.363      -0.153       0.417\n",
      "staff          0.0100      0.010      1.001      0.317      -0.010       0.030\n",
      "corruption     0.3562      0.105      3.398      0.001       0.151       0.562\n",
      "Post_yes      -2.0552      0.226     -9.108      0.000      -2.497      -1.613\n",
      "==============================================================================\n"
     ]
    }
   ],
   "source": [
    "#Modelo Poisson\n",
    "import statsmodels.api as sm\n",
    "from statsmodels.api import Poisson\n",
    "x_intercept = sm.add_constant(x)\n",
    "mod2 = sm.GLM(y.values,x_intercept, family=sm.families.Poisson())\n",
    "modpoisson_2= mod2.fit()\n",
    "print(modpoisson_2.summary())"
   ]
  },
  {
   "cell_type": "markdown",
   "metadata": {},
   "source": [
    "**Note que a variável 'staff' não é estatisticamente significante a um nível de significância de 5%**"
   ]
  },
  {
   "cell_type": "code",
   "execution_count": 32,
   "metadata": {},
   "outputs": [
    {
     "name": "stdout",
     "output_type": "stream",
     "text": [
      "                 Generalized Linear Model Regression Results                  \n",
      "==============================================================================\n",
      "Dep. Variable:                      y   No. Observations:                  224\n",
      "Model:                            GLM   Df Residuals:                      221\n",
      "Model Family:                 Poisson   Df Model:                            2\n",
      "Link Function:                    Log   Scale:                          1.0000\n",
      "Method:                          IRLS   Log-Likelihood:                -179.92\n",
      "Date:                Tue, 19 Jul 2022   Deviance:                       197.16\n",
      "Time:                        11:50:25   Pearson chi2:                     246.\n",
      "No. Iterations:                     5   Pseudo R-squ. (CS):             0.3895\n",
      "Covariance Type:            nonrobust                                         \n",
      "==============================================================================\n",
      "                 coef    std err          z      P>|z|      [0.025      0.975]\n",
      "------------------------------------------------------------------------------\n",
      "const          0.2303      0.105      2.200      0.028       0.025       0.435\n",
      "corruption     0.3170      0.096      3.296      0.001       0.128       0.505\n",
      "Post_yes      -2.0254      0.223     -9.091      0.000      -2.462      -1.589\n",
      "==============================================================================\n"
     ]
    }
   ],
   "source": [
    "#Modelo Poisson sem a variável 'staff'\n",
    "\n",
    "#Separar as variáveis X e Y\n",
    "x = corruption2.iloc[:,2:]\n",
    "y = corruption2['violations']\n",
    "\n",
    "#Modelo Poisson\n",
    "import statsmodels.api as sm\n",
    "from statsmodels.api import Poisson\n",
    "x_intercept = sm.add_constant(x)\n",
    "mod3 = sm.GLM(y.values,x_intercept, family=sm.families.Poisson())\n",
    "modpoisson_3= mod3.fit()\n",
    "print(modpoisson_3.summary())"
   ]
  },
  {
   "cell_type": "markdown",
   "metadata": {},
   "source": [
    "**Todas as variáveis são estatisticamente significantes para o modelo**"
   ]
  },
  {
   "cell_type": "markdown",
   "metadata": {},
   "source": [
    "# Teste de Superdispersão(Utilizando o modelo Poisson)\n"
   ]
  },
  {
   "cell_type": "code",
   "execution_count": 33,
   "metadata": {},
   "outputs": [
    {
     "name": "stdout",
     "output_type": "stream",
     "text": [
      "P_value: 0.7972586115610012\n"
     ]
    }
   ],
   "source": [
    "#Criar a variável Y* utilizando os fitted values do modelo poisson\n",
    "lambda_poi_2= modpoisson_3.predict(x_intercept)\n",
    "\n",
    "ystars_2 = (((y - lambda_poi_2)**2) - y)/lambda_poi_2\n",
    "\n",
    "#Teste de Superdispersão\n",
    "import warnings\n",
    "warnings.filterwarnings('ignore')\n",
    "\n",
    "#Transformar a variavel y* em formato pandas para criação do modelo\n",
    "ys_2 = pd.DataFrame(ystars_2)\n",
    "\n",
    "#Add valor 0 na constante\n",
    "x_int_lamda_2 = pd.DataFrame(x_intercept.const*0) \n",
    "\n",
    "# Unir a variável lambda com a constante \n",
    "x_int_lamda_2['lambda'] = pd.DataFrame(lambda_poi_2)\n",
    "\n",
    "#3°Estimando o modelo auxiliar GLM sem o intercepto \n",
    "mod_reg_2 = sm.OLS(ys_2,x_int_lamda_2).fit()\n",
    "\n",
    "\n",
    "#P_value do beta\n",
    "print(f'P_value: {mod_reg_2.pvalues[1]}')"
   ]
  },
  {
   "cell_type": "markdown",
   "metadata": {},
   "source": [
    "**P_value > 0.05, portanto verifica-se a Inexistência de superdispersão nos dados, estimação do modelo Poisson, vamos criar o modelo Binomial Negativa e comparar com o Poisson**"
   ]
  },
  {
   "cell_type": "markdown",
   "metadata": {},
   "source": [
    "# Modelo Binomial Negativa"
   ]
  },
  {
   "cell_type": "code",
   "execution_count": 34,
   "metadata": {},
   "outputs": [
    {
     "name": "stdout",
     "output_type": "stream",
     "text": [
      "Optimization terminated successfully.\n",
      "         Current function value: 0.802794\n",
      "         Iterations: 17\n",
      "         Function evaluations: 19\n",
      "         Gradient evaluations: 19\n"
     ]
    },
    {
     "data": {
      "text/html": [
       "<table class=\"simpletable\">\n",
       "<tr>\n",
       "        <td>Model:</td>        <td>NegativeBinomial</td> <td>Pseudo R-squared:</td>    <td>0.179</td>  \n",
       "</tr>\n",
       "<tr>\n",
       "  <td>Dependent Variable:</td>         <td>y</td>              <td>AIC:</td>         <td>367.6517</td> \n",
       "</tr>\n",
       "<tr>\n",
       "         <td>Date:</td>        <td>2022-07-19 11:50</td>       <td>BIC:</td>         <td>381.2983</td> \n",
       "</tr>\n",
       "<tr>\n",
       "   <td>No. Observations:</td>         <td>224</td>        <td>Log-Likelihood:</td>    <td>-179.83</td> \n",
       "</tr>\n",
       "<tr>\n",
       "       <td>Df Model:</td>              <td>2</td>            <td>LL-Null:</td>        <td>-218.94</td> \n",
       "</tr>\n",
       "<tr>\n",
       "     <td>Df Residuals:</td>           <td>221</td>         <td>LLR p-value:</td>    <td>1.0275e-17</td>\n",
       "</tr>\n",
       "<tr>\n",
       "      <td>Converged:</td>           <td>1.0000</td>           <td>Scale:</td>         <td>1.0000</td>  \n",
       "</tr>\n",
       "</table>\n",
       "<table class=\"simpletable\">\n",
       "<tr>\n",
       "       <td></td>       <th>Coef.</th>  <th>Std.Err.</th>    <th>z</th>     <th>P>|z|</th> <th>[0.025</th>  <th>0.975]</th> \n",
       "</tr>\n",
       "<tr>\n",
       "  <th>const</th>      <td>0.2305</td>   <td>0.1096</td>  <td>2.1028</td>  <td>0.0355</td> <td>0.0157</td>  <td>0.4454</td> \n",
       "</tr>\n",
       "<tr>\n",
       "  <th>corruption</th> <td>0.3181</td>   <td>0.0992</td>  <td>3.2071</td>  <td>0.0013</td> <td>0.1237</td>  <td>0.5124</td> \n",
       "</tr>\n",
       "<tr>\n",
       "  <th>Post_yes</th>   <td>-2.0260</td>  <td>0.2267</td>  <td>-8.9381</td> <td>0.0000</td> <td>-2.4703</td> <td>-1.5818</td>\n",
       "</tr>\n",
       "<tr>\n",
       "  <th>alpha</th>      <td>0.0749</td>   <td>0.1847</td>  <td>0.4056</td>  <td>0.6850</td> <td>-0.2870</td> <td>0.4368</td> \n",
       "</tr>\n",
       "</table>"
      ],
      "text/plain": [
       "<class 'statsmodels.iolib.summary2.Summary'>\n",
       "\"\"\"\n",
       "                    Results: NegativeBinomial\n",
       "=================================================================\n",
       "Model:              NegativeBinomial Pseudo R-squared: 0.179     \n",
       "Dependent Variable: y                AIC:              367.6517  \n",
       "Date:               2022-07-19 11:50 BIC:              381.2983  \n",
       "No. Observations:   224              Log-Likelihood:   -179.83   \n",
       "Df Model:           2                LL-Null:          -218.94   \n",
       "Df Residuals:       221              LLR p-value:      1.0275e-17\n",
       "Converged:          1.0000           Scale:            1.0000    \n",
       "------------------------------------------------------------------\n",
       "               Coef.   Std.Err.     z     P>|z|    [0.025   0.975]\n",
       "------------------------------------------------------------------\n",
       "const          0.2305    0.1096   2.1028  0.0355   0.0157   0.4454\n",
       "corruption     0.3181    0.0992   3.2071  0.0013   0.1237   0.5124\n",
       "Post_yes      -2.0260    0.2267  -8.9381  0.0000  -2.4703  -1.5818\n",
       "alpha          0.0749    0.1847   0.4056  0.6850  -0.2870   0.4368\n",
       "=================================================================\n",
       "\n",
       "\"\"\""
      ]
     },
     "execution_count": 34,
     "metadata": {},
     "output_type": "execute_result"
    }
   ],
   "source": [
    "#Separar as variáveis X e Y\n",
    "x = corruption2.iloc[:,2:]\n",
    "y = corruption2['violations']\n",
    "\n",
    "\n",
    "#Modelo \n",
    "import statsmodels.api as sm\n",
    "from statsmodels.api import Poisson\n",
    "x_intercept = sm.add_constant(x)\n",
    "mod2 = sm.NegativeBinomial(y.values,x_intercept)\n",
    "modbn_2= mod2.fit()\n",
    "modbn_2.summary2()"
   ]
  },
  {
   "cell_type": "markdown",
   "metadata": {},
   "source": [
    "**Note que os 2 modelos contém as mesmas variáveis**"
   ]
  },
  {
   "cell_type": "markdown",
   "metadata": {},
   "source": [
    "# Comparar as Métricas do modelo Poisson e Binomial Negativo"
   ]
  },
  {
   "cell_type": "code",
   "execution_count": 35,
   "metadata": {},
   "outputs": [
    {
     "name": "stdout",
     "output_type": "stream",
     "text": [
      "POISSON\n",
      "AIC: 365.83623347432507\n",
      "BIC: 376.07117162989016\n",
      "\n",
      "BINOMIAL NEGATIVO\n",
      "AIC: 367.65167945706827\n",
      "BIC: 381.29826366448845\n"
     ]
    }
   ],
   "source": [
    "#Comparar o AIC e BIC\n",
    "print('POISSON')\n",
    "print(f'AIC: {modpoisson_3.aic}')\n",
    "print(f'BIC: {modpoisson_3.bic_llf}')\n",
    "\n",
    "print('\\nBINOMIAL NEGATIVO')\n",
    "print(f'AIC: {modbn_2.aic}')\n",
    "print(f'BIC: {modbn_2.bic}')"
   ]
  },
  {
   "cell_type": "code",
   "execution_count": 36,
   "metadata": {},
   "outputs": [
    {
     "name": "stdout",
     "output_type": "stream",
     "text": [
      "POISSON\n",
      "LogLik: -179.91811673716253\n",
      "\n",
      "BINOMIAL NEGATIVO\n",
      "LogLik: -179.82583972853413\n"
     ]
    }
   ],
   "source": [
    "##Comparar Loglik \n",
    "print('POISSON')\n",
    "print(f'LogLik: {modpoisson_3.llf}')\n",
    "\n",
    "\n",
    "print('\\nBINOMIAL NEGATIVO')\n",
    "print(f'LogLik: {modbn_2.llf}')"
   ]
  },
  {
   "cell_type": "markdown",
   "metadata": {},
   "source": [
    "**Os valores das métricas dos 2 modelos são muito parecidas, vamos fazer o teste Likelihoo-ratio test para verificar se estatisticamente os 2 modelos são iguais**"
   ]
  },
  {
   "cell_type": "code",
   "execution_count": 37,
   "metadata": {},
   "outputs": [
    {
     "data": {
      "text/plain": [
       "0.667488451523953"
      ]
     },
     "execution_count": 37,
     "metadata": {},
     "output_type": "execute_result"
    }
   ],
   "source": [
    "#Teste para comparar modelos pelo loglik\n",
    "import statsmodels.api as sm\n",
    "import statsmodels.formula.api as smf\n",
    "from scipy import stats\n",
    "stats.chisqprob = lambda chisq, df: stats.chi2.sf(chisq, df)\n",
    "\n",
    "def lrtest(llmin, llmax):\n",
    "    lr = 2 * (llmax - llmin)\n",
    "    p = stats.chisqprob(lr, 1) # llmax has 1 dof more than llmin\n",
    "    return lr, p\n",
    "\n",
    "lr, p_value = lrtest(modpoisson_3.llf,modbn_2.llf)\n",
    "p_value"
   ]
  },
  {
   "cell_type": "markdown",
   "metadata": {},
   "source": [
    "**p_value > 0.05, não rejeita a hipótese nula, os loglikes dos 2 modelos são estatisticamente iguais**"
   ]
  },
  {
   "cell_type": "markdown",
   "metadata": {},
   "source": [
    "**OBS: A Ausência de superdierpesão nos dados faz com que os 2 modelos (Poisson ou Binomial Negativo) regridem a um modelo Poisson, portanto não há diferença estatística para escolha dos  modelos nestas condições**"
   ]
  },
  {
   "cell_type": "markdown",
   "metadata": {},
   "source": [
    "**OBS2: As metricas usadas para verificar qual o melhor modelo são: BIC, AIC e Loglik, não usamos matriz de confusão**  "
   ]
  },
  {
   "cell_type": "markdown",
   "metadata": {},
   "source": [
    "__------------------------------------------------------------------------------------------------------------------------------------------------------------------------------------------------------------------__\n",
    "\n",
    "\n",
    "__------------------------------------------------------------------------------------------------------------------------------------------------------------------------------------------------------------------__"
   ]
  },
  {
   "cell_type": "markdown",
   "metadata": {},
   "source": [
    "#  Poisson Inflacionados de Zero e BN Inflacionados de Zero"
   ]
  },
  {
   "cell_type": "markdown",
   "metadata": {},
   "source": [
    "__------------------------------------------------------------------------------------------------------------------------------------------------------------------------------------------------------------------__\n",
    "\n",
    "\n",
    "__------------------------------------------------------------------------------------------------------------------------------------------------------------------------------------------------------------------__"
   ]
  },
  {
   "cell_type": "markdown",
   "metadata": {},
   "source": [
    "## $$Objetivo~2:$$  \n",
    "\n",
    "## $$Verificar~se~ os ~modelos~ Zero ~Inflated~são~melhores$$$$que~os~modelos~Poisson~e~Binomial~Negativo$$"
   ]
  },
  {
   "cell_type": "markdown",
   "metadata": {},
   "source": [
    "__------------------------------------------------------------------------------------------------------------------------------------------------------------------------------------------------------------------__\n",
    "\n",
    "\n",
    "__------------------------------------------------------------------------------------------------------------------------------------------------------------------------------------------------------------------__"
   ]
  },
  {
   "cell_type": "markdown",
   "metadata": {},
   "source": [
    "# Banco de dados "
   ]
  },
  {
   "cell_type": "code",
   "execution_count": 38,
   "metadata": {},
   "outputs": [
    {
     "data": {
      "text/html": [
       "<div>\n",
       "<style scoped>\n",
       "    .dataframe tbody tr th:only-of-type {\n",
       "        vertical-align: middle;\n",
       "    }\n",
       "\n",
       "    .dataframe tbody tr th {\n",
       "        vertical-align: top;\n",
       "    }\n",
       "\n",
       "    .dataframe thead th {\n",
       "        text-align: right;\n",
       "    }\n",
       "</style>\n",
       "<table border=\"1\" class=\"dataframe\">\n",
       "  <thead>\n",
       "    <tr style=\"text-align: right;\">\n",
       "      <th></th>\n",
       "      <th>violations</th>\n",
       "      <th>staff</th>\n",
       "      <th>corruption</th>\n",
       "      <th>Post_yes</th>\n",
       "    </tr>\n",
       "    <tr>\n",
       "      <th>country</th>\n",
       "      <th></th>\n",
       "      <th></th>\n",
       "      <th></th>\n",
       "      <th></th>\n",
       "    </tr>\n",
       "  </thead>\n",
       "  <tbody>\n",
       "    <tr>\n",
       "      <th>Angola</th>\n",
       "      <td>50</td>\n",
       "      <td>9</td>\n",
       "      <td>1.047506</td>\n",
       "      <td>0</td>\n",
       "    </tr>\n",
       "    <tr>\n",
       "      <th>Angola</th>\n",
       "      <td>1</td>\n",
       "      <td>9</td>\n",
       "      <td>1.047506</td>\n",
       "      <td>1</td>\n",
       "    </tr>\n",
       "    <tr>\n",
       "      <th>Albania</th>\n",
       "      <td>17</td>\n",
       "      <td>3</td>\n",
       "      <td>0.921079</td>\n",
       "      <td>0</td>\n",
       "    </tr>\n",
       "    <tr>\n",
       "      <th>Albania</th>\n",
       "      <td>0</td>\n",
       "      <td>3</td>\n",
       "      <td>0.921079</td>\n",
       "      <td>1</td>\n",
       "    </tr>\n",
       "    <tr>\n",
       "      <th>United Arab Emirates</th>\n",
       "      <td>0</td>\n",
       "      <td>3</td>\n",
       "      <td>-0.779468</td>\n",
       "      <td>0</td>\n",
       "    </tr>\n",
       "    <tr>\n",
       "      <th>...</th>\n",
       "      <td>...</td>\n",
       "      <td>...</td>\n",
       "      <td>...</td>\n",
       "      <td>...</td>\n",
       "    </tr>\n",
       "    <tr>\n",
       "      <th>Zaire</th>\n",
       "      <td>0</td>\n",
       "      <td>6</td>\n",
       "      <td>1.582807</td>\n",
       "      <td>1</td>\n",
       "    </tr>\n",
       "    <tr>\n",
       "      <th>Zambia</th>\n",
       "      <td>37</td>\n",
       "      <td>9</td>\n",
       "      <td>0.562193</td>\n",
       "      <td>0</td>\n",
       "    </tr>\n",
       "    <tr>\n",
       "      <th>Zambia</th>\n",
       "      <td>0</td>\n",
       "      <td>9</td>\n",
       "      <td>0.562193</td>\n",
       "      <td>1</td>\n",
       "    </tr>\n",
       "    <tr>\n",
       "      <th>Zimbabwe</th>\n",
       "      <td>43</td>\n",
       "      <td>14</td>\n",
       "      <td>0.133379</td>\n",
       "      <td>0</td>\n",
       "    </tr>\n",
       "    <tr>\n",
       "      <th>Zimbabwe</th>\n",
       "      <td>1</td>\n",
       "      <td>14</td>\n",
       "      <td>0.133379</td>\n",
       "      <td>1</td>\n",
       "    </tr>\n",
       "  </tbody>\n",
       "</table>\n",
       "<p>298 rows × 4 columns</p>\n",
       "</div>"
      ],
      "text/plain": [
       "                      violations  staff  corruption  Post_yes\n",
       "country                                                      \n",
       "Angola                        50      9    1.047506         0\n",
       "Angola                         1      9    1.047506         1\n",
       "Albania                       17      3    0.921079         0\n",
       "Albania                        0      3    0.921079         1\n",
       "United Arab Emirates           0      3   -0.779468         0\n",
       "...                          ...    ...         ...       ...\n",
       "Zaire                          0      6    1.582807         1\n",
       "Zambia                        37      9    0.562193         0\n",
       "Zambia                         0      9    0.562193         1\n",
       "Zimbabwe                      43     14    0.133379         0\n",
       "Zimbabwe                       1     14    0.133379         1\n",
       "\n",
       "[298 rows x 4 columns]"
      ]
     },
     "execution_count": 38,
     "metadata": {},
     "output_type": "execute_result"
    }
   ],
   "source": [
    "#Mesma base de dados\n",
    "dados"
   ]
  },
  {
   "cell_type": "markdown",
   "metadata": {},
   "source": [
    "**Tabela com 298 observações e 4 variáveis**"
   ]
  },
  {
   "cell_type": "markdown",
   "metadata": {},
   "source": [
    "# Estimação do Modelo Poisson Inflacionados de Zero"
   ]
  },
  {
   "cell_type": "markdown",
   "metadata": {},
   "source": [
    "No modelo Zero Inflated, temos que indicar a/as variáveis explicativas que potencialmente pode estar relacionadas com a geração dos zeros estruturais (Bernulli) e as variáveis que compõem os dados de contagem (Variável Explicativas e Resposta)"
   ]
  },
  {
   "cell_type": "code",
   "execution_count": 39,
   "metadata": {},
   "outputs": [
    {
     "name": "stdout",
     "output_type": "stream",
     "text": [
      "Warning: Maximum number of iterations has been exceeded.\n",
      "         Current function value: 5.976352\n",
      "         Iterations: 35\n",
      "         Function evaluations: 40\n",
      "         Gradient evaluations: 40\n",
      "                     ZeroInflatedPoisson Regression Results                    \n",
      "===============================================================================\n",
      "Dep. Variable:                       y   No. Observations:                  298\n",
      "Model:             ZeroInflatedPoisson   Df Residuals:                      294\n",
      "Method:                            MLE   Df Model:                            3\n",
      "Date:                 Tue, 19 Jul 2022   Pseudo R-squ.:                  0.1977\n",
      "Time:                         11:50:25   Log-Likelihood:                -1781.0\n",
      "converged:                       False   LL-Null:                       -2219.8\n",
      "Covariance Type:             nonrobust   LLR p-value:                6.190e-190\n",
      "======================================================================================\n",
      "                         coef    std err          z      P>|z|      [0.025      0.975]\n",
      "--------------------------------------------------------------------------------------\n",
      "inflate_const         -1.3823      0.390     -3.547      0.000      -2.146      -0.618\n",
      "inflate_staff         -0.0203      0.028     -0.730      0.465      -0.075       0.034\n",
      "inflate_corruption    -1.0431      0.225     -4.629      0.000      -1.485      -0.601\n",
      "inflate_Post_yes      -0.6006      1.388     -0.433      0.665      -3.320       2.119\n",
      "const                  2.4891      0.031     79.030      0.000       2.427       2.551\n",
      "staff                  0.0200      0.001     16.141      0.000       0.018       0.022\n",
      "corruption             0.0946      0.030      3.159      0.002       0.036       0.153\n",
      "Post_yes              -4.3702      0.199    -21.931      0.000      -4.761      -3.980\n",
      "======================================================================================\n"
     ]
    }
   ],
   "source": [
    "#Separar as variáveis X e Y\n",
    "x = dados.iloc[:,1:]\n",
    "y = dados['violations']\n",
    "\n",
    "#Modelo\n",
    "import statsmodels.api as sm\n",
    "from statsmodels.api import Poisson\n",
    "import warnings\n",
    "warnings.filterwarnings('ignore')\n",
    "x_intercept = sm.add_constant(x)\n",
    "mod1 = sm.ZeroInflatedPoisson(endog=y.values,exog=x_intercept,exog_infl=x_intercept,inflation='logit')\n",
    "modpoissonzero= mod1.fit()\n",
    "print(modpoissonzero.summary())"
   ]
  },
  {
   "cell_type": "markdown",
   "metadata": {},
   "source": [
    "**Repare que o modelo separa o output em 2 partes, uma para o modelo de Inflação de zeros(Bernulli) outro para dados de contagem**"
   ]
  },
  {
   "cell_type": "markdown",
   "metadata": {},
   "source": [
    "**Observamos que as variáveis 'staff' e 'Post_yes' não são estatisticamente significantes no modelo Zero Inflated, vamos excluir essa variável do modelo Zero Inflated e deixar apenas nos dados de contagem**"
   ]
  },
  {
   "cell_type": "code",
   "execution_count": 40,
   "metadata": {
    "scrolled": true
   },
   "outputs": [
    {
     "name": "stdout",
     "output_type": "stream",
     "text": [
      "Optimization terminated successfully.\n",
      "         Current function value: 5.977545\n",
      "         Iterations: 22\n",
      "         Function evaluations: 27\n",
      "         Gradient evaluations: 27\n",
      "                     ZeroInflatedPoisson Regression Results                    \n",
      "===============================================================================\n",
      "Dep. Variable:                       y   No. Observations:                  298\n",
      "Model:             ZeroInflatedPoisson   Df Residuals:                      294\n",
      "Method:                            MLE   Df Model:                            3\n",
      "Date:                 Tue, 19 Jul 2022   Pseudo R-squ.:                  0.1975\n",
      "Time:                         11:50:25   Log-Likelihood:                -1781.3\n",
      "converged:                        True   LL-Null:                       -2219.8\n",
      "Covariance Type:             nonrobust   LLR p-value:                8.828e-190\n",
      "======================================================================================\n",
      "                         coef    std err          z      P>|z|      [0.025      0.975]\n",
      "--------------------------------------------------------------------------------------\n",
      "inflate_const         -1.6116      0.240     -6.714      0.000      -2.082      -1.141\n",
      "inflate_corruption    -0.9523      0.195     -4.875      0.000      -1.335      -0.569\n",
      "const                  2.4889      0.032     78.990      0.000       2.427       2.551\n",
      "staff                  0.0200      0.001     16.154      0.000       0.018       0.022\n",
      "corruption             0.0937      0.030      3.127      0.002       0.035       0.152\n",
      "Post_yes              -4.2879      0.201    -21.291      0.000      -4.683      -3.893\n",
      "======================================================================================\n"
     ]
    }
   ],
   "source": [
    "#2° Modelo somente com a variável explicativa 'corruption' no modelo Zero Inflated\n",
    "\n",
    "#Separar as variáveis X e Y\n",
    "x = dados.iloc[:,1:]\n",
    "y = dados['violations']\n",
    "x_inflated = x_intercept[['const','corruption']]\n",
    "\n",
    "#Modelo\n",
    "import warnings\n",
    "warnings.filterwarnings('ignore')\n",
    "x_intercept = sm.add_constant(x)\n",
    "mod2 = sm.ZeroInflatedPoisson(endog=y.values,exog=x_intercept,exog_infl=x_inflated,inflation='logit')\n",
    "modpoissonzero_2= mod2.fit()\n",
    "print(modpoissonzero_2.summary())"
   ]
  },
  {
   "cell_type": "markdown",
   "metadata": {},
   "source": [
    "**Todas as variáveis são estatisticamente significantes para o modelo**"
   ]
  },
  {
   "cell_type": "markdown",
   "metadata": {},
   "source": [
    "**O Coeficiente Inflate compara a variável com a consequência da ocorrência de zeros, EX: inflate_corruption quer dizer que a medida que o valor da corrupção aumenta diminui em -0.9523 probabilidade da ocorrência de Zeros**"
   ]
  },
  {
   "cell_type": "markdown",
   "metadata": {},
   "source": [
    "## Coeficientes"
   ]
  },
  {
   "cell_type": "code",
   "execution_count": 41,
   "metadata": {},
   "outputs": [
    {
     "data": {
      "text/plain": [
       "-1.6116490435846256"
      ]
     },
     "execution_count": 41,
     "metadata": {},
     "output_type": "execute_result"
    }
   ],
   "source": [
    "#Gama\n",
    "gama = modpoissonzero_2.params.inflate_const\n",
    "gama"
   ]
  },
  {
   "cell_type": "markdown",
   "metadata": {},
   "source": [
    "**É como se fosse o parâmetro intercepto da regressão linear, porém do modelo Zero Inflated**"
   ]
  },
  {
   "cell_type": "code",
   "execution_count": 42,
   "metadata": {},
   "outputs": [
    {
     "data": {
      "text/plain": [
       "-0.9523153874735848"
      ]
     },
     "execution_count": 42,
     "metadata": {},
     "output_type": "execute_result"
    }
   ],
   "source": [
    "#Delta1\n",
    "delta1 = modpoissonzero_2.params.inflate_corruption\n",
    "delta1"
   ]
  },
  {
   "cell_type": "markdown",
   "metadata": {},
   "source": [
    "**É o parâmetro beta da variável explicativa, porém do modelo Zero Inflated**"
   ]
  },
  {
   "cell_type": "code",
   "execution_count": 43,
   "metadata": {},
   "outputs": [
    {
     "data": {
      "text/plain": [
       "-1781.3084254158427"
      ]
     },
     "execution_count": 43,
     "metadata": {},
     "output_type": "execute_result"
    }
   ],
   "source": [
    "#LogLike Poisson \n",
    "loglikepoisson= modpoissonzero_2.llf\n",
    "loglikepoisson"
   ]
  },
  {
   "cell_type": "markdown",
   "metadata": {},
   "source": [
    "# Teste de Vuong\n",
    "- Verificar se existe inflação de zeros ao comparar os dois modelos (POISSON X ZIP),se o teste der < 0.05 os dados possui inflação de zeros\n",
    "\n",
    "\n"
   ]
  },
  {
   "cell_type": "code",
   "execution_count": 44,
   "metadata": {},
   "outputs": [
    {
     "name": "stdout",
     "output_type": "stream",
     "text": [
      "Poisson: -2071.7937527648533\n",
      "Poisson_zero_Infleted: -1781.3084254158427\n"
     ]
    }
   ],
   "source": [
    "#Modelo Poisson\n",
    "\n",
    "#Separar as variáveis X e Y\n",
    "x = dados.iloc[:,1:]\n",
    "y = dados['violations']\n",
    "\n",
    "#Modelo\n",
    "mod_poisson = sm.GLM(y.values,x_intercept, family=sm.families.Poisson())\n",
    "mod_poisson= mod_poisson.fit()\n",
    "\n",
    "#Comparar os 2 Logliks\n",
    "\n",
    "print(f'Poisson: {mod_poisson.llf}')\n",
    "print(f'Poisson_zero_Infleted: {modpoissonzero_2.llf}')"
   ]
  },
  {
   "cell_type": "markdown",
   "metadata": {},
   "source": [
    "## Teste Chi² "
   ]
  },
  {
   "cell_type": "markdown",
   "metadata": {},
   "source": [
    "- Podemos comprar os loglikes dos modelo Poisson e ZIP através do teste Chi², caso o valor seja < 0.05 os dados possuem inflação de zeros"
   ]
  },
  {
   "cell_type": "code",
   "execution_count": 45,
   "metadata": {},
   "outputs": [
    {
     "data": {
      "text/plain": [
       "0.0"
      ]
     },
     "execution_count": 45,
     "metadata": {},
     "output_type": "execute_result"
    }
   ],
   "source": [
    "#Teste Chi² para comparar os modelos\n",
    "import statsmodels.api as sm\n",
    "import statsmodels.formula.api as smf\n",
    "from scipy import stats\n",
    "stats.chisqprob = lambda chisq, df: stats.chi2.sf(chisq, df)\n",
    "\n",
    "def lrtest(llmin, llmax):\n",
    "    lr = 2 * (llmax - llmin)\n",
    "    p = stats.chisqprob(lr, 2) # llmax has 1 dof more than llmin\n",
    "    return lr, p\n",
    "\n",
    "lr, p_value = lrtest(mod_poisson.llf,modpoissonzero_2.llf)\n",
    "round(p_value,5)"
   ]
  },
  {
   "cell_type": "markdown",
   "metadata": {},
   "source": [
    "**P_value < 0.05, rejeita a hipótese nula de que não há inflação de zeros no modelo**"
   ]
  },
  {
   "cell_type": "code",
   "execution_count": 46,
   "metadata": {},
   "outputs": [
    {
     "data": {
      "text/plain": [
       "country\n",
       "Angola                  14.823562\n",
       "Angola                   0.203580\n",
       "Albania                 12.877979\n",
       "Albania                  0.176860\n",
       "United Arab Emirates     8.379367\n",
       "                          ...    \n",
       "Zaire                    0.207250\n",
       "Zambia                  13.616058\n",
       "Zambia                   0.186996\n",
       "Zimbabwe                13.732195\n",
       "Zimbabwe                 0.188591\n",
       "Length: 298, dtype: float64"
      ]
     },
     "execution_count": 46,
     "metadata": {},
     "output_type": "execute_result"
    }
   ],
   "source": [
    "#Previsão do Modelo Poisson inflacionados de zeros\n",
    "zip_predictions = modpoissonzero_2.predict(x_intercept, exog_infl = x_inflated)\n",
    "zip_predictions"
   ]
  },
  {
   "cell_type": "markdown",
   "metadata": {},
   "source": [
    "# Modelo Binomial Negativo Inflacionados de Zero"
   ]
  },
  {
   "cell_type": "markdown",
   "metadata": {},
   "source": [
    "- **Theta, Plogit , Lambda ,Delta e Betas** = Parâmetros da distribuição dos dados"
   ]
  },
  {
   "cell_type": "code",
   "execution_count": 47,
   "metadata": {},
   "outputs": [
    {
     "name": "stdout",
     "output_type": "stream",
     "text": [
      "Warning: Maximum number of iterations has been exceeded.\n",
      "         Current function value: 1.870015\n",
      "         Iterations: 35\n",
      "         Function evaluations: 39\n",
      "         Gradient evaluations: 39\n",
      "                     ZeroInflatedNegativeBinomialP Regression Results                    \n",
      "=========================================================================================\n",
      "Dep. Variable:                                 y   No. Observations:                  298\n",
      "Model:             ZeroInflatedNegativeBinomialP   Df Residuals:                      294\n",
      "Method:                                      MLE   Df Model:                            3\n",
      "Date:                           Tue, 19 Jul 2022   Pseudo R-squ.:                  0.1700\n",
      "Time:                                   11:50:26   Log-Likelihood:                -557.26\n",
      "converged:                                 False   LL-Null:                       -671.37\n",
      "Covariance Type:                       nonrobust   LLR p-value:                 3.353e-49\n",
      "======================================================================================\n",
      "                         coef    std err          z      P>|z|      [0.025      0.975]\n",
      "--------------------------------------------------------------------------------------\n",
      "inflate_const        -17.9857      9.287     -1.937      0.053     -36.187       0.216\n",
      "inflate_corruption    -8.1104      4.037     -2.009      0.045     -16.023      -0.197\n",
      "const                  2.0324      0.203      9.988      0.000       1.634       2.431\n",
      "staff                  0.0411      0.013      3.078      0.002       0.015       0.067\n",
      "corruption             0.1815      0.147      1.237      0.216      -0.106       0.469\n",
      "Post_yes              -4.2638      0.261    -16.328      0.000      -4.776      -3.752\n",
      "alpha                  1.8560      0.218      8.518      0.000       1.429       2.283\n",
      "======================================================================================\n"
     ]
    }
   ],
   "source": [
    "#Avaliar apenas a variável corruption em relação a não ocorrência de zeros\n",
    "#Separar as variáveis X e Y\n",
    "x = dados.iloc[:,1:]\n",
    "y = dados['violations']\n",
    "x_inflated = x_intercept[['const','corruption']]\n",
    "\n",
    "#Modelo\n",
    "x_intercept = sm.add_constant(x)\n",
    "mod3 = sm.ZeroInflatedNegativeBinomialP(endog=y.values,exog=x_intercept,exog_infl=x_inflated)\n",
    "modbnzero= mod3.fit()\n",
    "print(modbnzero.summary())"
   ]
  },
  {
   "cell_type": "markdown",
   "metadata": {},
   "source": [
    "**Variável 'corruption' não é estatisticamente significante para o modelo de dados de contagem, porém para fins didáticos vamos continuar com a variável**"
   ]
  },
  {
   "cell_type": "markdown",
   "metadata": {},
   "source": [
    "## Parâmetros "
   ]
  },
  {
   "cell_type": "code",
   "execution_count": 48,
   "metadata": {},
   "outputs": [
    {
     "data": {
      "text/plain": [
       "-17.985682323772302"
      ]
     },
     "execution_count": 48,
     "metadata": {},
     "output_type": "execute_result"
    }
   ],
   "source": [
    "#Gama\n",
    "gama = modbnzero.params.inflate_const\n",
    "gama"
   ]
  },
  {
   "cell_type": "markdown",
   "metadata": {},
   "source": [
    "**É como se fosse o parâmetro intercepto da regressão linear, porém do modelo Zero Inflated**"
   ]
  },
  {
   "cell_type": "code",
   "execution_count": 49,
   "metadata": {},
   "outputs": [
    {
     "data": {
      "text/plain": [
       "-8.110426223803392"
      ]
     },
     "execution_count": 49,
     "metadata": {},
     "output_type": "execute_result"
    }
   ],
   "source": [
    "#Delta1 = inflate_corruption\n",
    "delta1 = modbnzero.params.inflate_corruption\n",
    "delta1"
   ]
  },
  {
   "cell_type": "markdown",
   "metadata": {},
   "source": [
    "**É o parâmetro beta da variável explicativa, porém do modelo Zero Inflated**"
   ]
  },
  {
   "cell_type": "code",
   "execution_count": 50,
   "metadata": {},
   "outputs": [
    {
     "name": "stdout",
     "output_type": "stream",
     "text": [
      "Tetha: 0.5387885008612436\n",
      "\n",
      "Phi:   1.8560158548326815\n"
     ]
    }
   ],
   "source": [
    "#Tetha (o inverso do alpha(Phi))\n",
    "print(f'Tetha: {1/modbnzero.params.alpha}')\n",
    "\n",
    "#Phi (o inverso do Tetha)\n",
    "print(f'\\nPhi:   {modbnzero.params.alpha}')"
   ]
  },
  {
   "cell_type": "code",
   "execution_count": 51,
   "metadata": {},
   "outputs": [
    {
     "data": {
      "text/plain": [
       "-557.2643681326408"
      ]
     },
     "execution_count": 51,
     "metadata": {},
     "output_type": "execute_result"
    }
   ],
   "source": [
    "#Loglik\n",
    "modbnzero.llf"
   ]
  },
  {
   "cell_type": "markdown",
   "metadata": {},
   "source": [
    "# Teste de Vuong\n",
    "- Verificar se existe inflaçao de zeros ao comparar dois modelos (BN X ZINB),se o teste der <0.05 os dados possui inflação de zeros\n"
   ]
  },
  {
   "cell_type": "code",
   "execution_count": 52,
   "metadata": {},
   "outputs": [
    {
     "name": "stdout",
     "output_type": "stream",
     "text": [
      "BN: -567.401171666372\n",
      "BNZeroInflated: -557.2643681326408\n"
     ]
    }
   ],
   "source": [
    "#Modelo BN\n",
    "\n",
    "#Separar as variáveis X e Y\n",
    "x = dados.iloc[:,1:]\n",
    "y = dados['violations']\n",
    "\n",
    "#Modelo\n",
    "mod4 = sm.GLM(y.values,x_intercept, family=sm.families.NegativeBinomial(alpha=phi))\n",
    "modbn_2= mod4.fit()\n",
    "\n",
    "\n",
    "print(f'BN: {modbn_2.llf}')\n",
    "print(f'BNZeroInflated: {modbnzero.llf}')"
   ]
  },
  {
   "cell_type": "markdown",
   "metadata": {},
   "source": [
    "## Chi²"
   ]
  },
  {
   "cell_type": "code",
   "execution_count": 53,
   "metadata": {},
   "outputs": [
    {
     "data": {
      "text/plain": [
       "3.959516537166398e-05"
      ]
     },
     "execution_count": 53,
     "metadata": {},
     "output_type": "execute_result"
    }
   ],
   "source": [
    "#Verificar se os 2 loglikes tem diferença estatistica\n",
    "from scipy.stats.distributions import chi2\n",
    "def likelihood_ratio(llmin, llmax):\n",
    "    return(2*(llmax-llmin))\n",
    "\n",
    "\n",
    "LR = likelihood_ratio(modbn_2.llf,modbnzero.llf)\n",
    "\n",
    "\n",
    "p = chi2.sf(LR, 2) # L2 has 1 DoF more than L1\n",
    "p"
   ]
  },
  {
   "cell_type": "markdown",
   "metadata": {},
   "source": [
    "**P_value < 0.05, rejeita a hipótese nula de que não a inflação de zeros no modelo**"
   ]
  },
  {
   "cell_type": "code",
   "execution_count": 54,
   "metadata": {},
   "outputs": [
    {
     "data": {
      "text/plain": [
       "country\n",
       "Angola                  13.358543\n",
       "Angola                   0.187939\n",
       "Albania                 10.203814\n",
       "Albania                  0.143555\n",
       "United Arab Emirates     7.494531\n",
       "                          ...    \n",
       "Zaire                    0.183098\n",
       "Zambia                  12.232444\n",
       "Zambia                   0.172096\n",
       "Zimbabwe                13.896783\n",
       "Zimbabwe                 0.195511\n",
       "Length: 298, dtype: float64"
      ]
     },
     "execution_count": 54,
     "metadata": {},
     "output_type": "execute_result"
    }
   ],
   "source": [
    "#Previsão do modelo\n",
    "modbnzero.predict(x_intercept, exog_infl = x_inflated)"
   ]
  },
  {
   "cell_type": "markdown",
   "metadata": {},
   "source": [
    "**Previsão do modelo Zero Inflated**"
   ]
  },
  {
   "cell_type": "markdown",
   "metadata": {},
   "source": [
    "# Comparação dos loglikes dos modelos"
   ]
  },
  {
   "cell_type": "code",
   "execution_count": 55,
   "metadata": {},
   "outputs": [
    {
     "data": {
      "text/html": [
       "<div>\n",
       "<style scoped>\n",
       "    .dataframe tbody tr th:only-of-type {\n",
       "        vertical-align: middle;\n",
       "    }\n",
       "\n",
       "    .dataframe tbody tr th {\n",
       "        vertical-align: top;\n",
       "    }\n",
       "\n",
       "    .dataframe thead th {\n",
       "        text-align: right;\n",
       "    }\n",
       "</style>\n",
       "<table border=\"1\" class=\"dataframe\">\n",
       "  <thead>\n",
       "    <tr style=\"text-align: right;\">\n",
       "      <th></th>\n",
       "      <th>LogLikes</th>\n",
       "      <th>Algoritimos</th>\n",
       "    </tr>\n",
       "  </thead>\n",
       "  <tbody>\n",
       "    <tr>\n",
       "      <th>Poisson</th>\n",
       "      <td>-2071</td>\n",
       "      <td>Poisson</td>\n",
       "    </tr>\n",
       "    <tr>\n",
       "      <th>Bnegativo</th>\n",
       "      <td>-567</td>\n",
       "      <td>Bnegativo</td>\n",
       "    </tr>\n",
       "    <tr>\n",
       "      <th>Poisson_Inflat</th>\n",
       "      <td>-1781</td>\n",
       "      <td>Poisson_Inflat</td>\n",
       "    </tr>\n",
       "    <tr>\n",
       "      <th>BN_Inflated</th>\n",
       "      <td>-557</td>\n",
       "      <td>BN_Inflated</td>\n",
       "    </tr>\n",
       "  </tbody>\n",
       "</table>\n",
       "</div>"
      ],
      "text/plain": [
       "                LogLikes     Algoritimos\n",
       "Poisson            -2071         Poisson\n",
       "Bnegativo           -567       Bnegativo\n",
       "Poisson_Inflat     -1781  Poisson_Inflat\n",
       "BN_Inflated         -557     BN_Inflated"
      ]
     },
     "execution_count": 55,
     "metadata": {},
     "output_type": "execute_result"
    }
   ],
   "source": [
    "#Criar um dataframe com todos loglikes para comparar\n",
    "logl =[int(modpoisson.llf),int(modbn.llf),int(modpoissonzero_2.llf),int(modbnzero.llf)]\n",
    "name_l =['Poisson','Bnegativo','Poisson_Inflat','BN_Inflated']\n",
    "loglik = pd.DataFrame(logl,name_l)\n",
    "loglik.columns =['LogLikes']\n",
    "loglik['Algoritimos'] = loglik.index\n",
    "loglik"
   ]
  },
  {
   "cell_type": "code",
   "execution_count": 56,
   "metadata": {},
   "outputs": [
    {
     "data": {
      "image/png": "[encoded data removed]",
      "text/plain": [
       "<Figure size 432x288 with 1 Axes>"
      ]
     },
     "metadata": {
      "needs_background": "light"
     },
     "output_type": "display_data"
    }
   ],
   "source": [
    "import seaborn as sns\n",
    "f = sns.barplot(data=loglik,x='Algoritimos',y ='LogLikes')\n",
    "plt.gca().invert_yaxis()\n",
    "for i in f.patches:\n",
    "    f.annotate(i.get_height(),\n",
    "          (i.get_x()+i.get_width()/2,i.get_height()),\n",
    "              ha='center')"
   ]
  },
  {
   "cell_type": "markdown",
   "metadata": {},
   "source": [
    "**Os modelos BN e BN Zero Inflated foram os melhores modelos pela métrica loglike**"
   ]
  },
  {
   "cell_type": "markdown",
   "metadata": {},
   "source": [
    "## Previsão dos modelos"
   ]
  },
  {
   "cell_type": "code",
   "execution_count": 57,
   "metadata": {},
   "outputs": [
    {
     "data": {
      "text/html": [
       "<div>\n",
       "<style scoped>\n",
       "    .dataframe tbody tr th:only-of-type {\n",
       "        vertical-align: middle;\n",
       "    }\n",
       "\n",
       "    .dataframe tbody tr th {\n",
       "        vertical-align: top;\n",
       "    }\n",
       "\n",
       "    .dataframe thead th {\n",
       "        text-align: right;\n",
       "    }\n",
       "</style>\n",
       "<table border=\"1\" class=\"dataframe\">\n",
       "  <thead>\n",
       "    <tr style=\"text-align: right;\">\n",
       "      <th></th>\n",
       "      <th>fitted_ModPoisson</th>\n",
       "      <th>fitted_ModBN</th>\n",
       "      <th>fitted_modZIP</th>\n",
       "      <th>fitted_modZINP</th>\n",
       "      <th>y</th>\n",
       "    </tr>\n",
       "    <tr>\n",
       "      <th>country</th>\n",
       "      <th></th>\n",
       "      <th></th>\n",
       "      <th></th>\n",
       "      <th></th>\n",
       "      <th></th>\n",
       "    </tr>\n",
       "  </thead>\n",
       "  <tbody>\n",
       "    <tr>\n",
       "      <th>Angola</th>\n",
       "      <td>15.919915</td>\n",
       "      <td>16.138708</td>\n",
       "      <td>14.823562</td>\n",
       "      <td>13.358543</td>\n",
       "      <td>50</td>\n",
       "    </tr>\n",
       "    <tr>\n",
       "      <th>Angola</th>\n",
       "      <td>0.216711</td>\n",
       "      <td>0.224608</td>\n",
       "      <td>0.203580</td>\n",
       "      <td>0.187939</td>\n",
       "      <td>1</td>\n",
       "    </tr>\n",
       "    <tr>\n",
       "      <th>Albania</th>\n",
       "      <td>13.371720</td>\n",
       "      <td>11.987745</td>\n",
       "      <td>12.877979</td>\n",
       "      <td>10.203814</td>\n",
       "      <td>17</td>\n",
       "    </tr>\n",
       "    <tr>\n",
       "      <th>Albania</th>\n",
       "      <td>0.182023</td>\n",
       "      <td>0.166838</td>\n",
       "      <td>0.176860</td>\n",
       "      <td>0.143555</td>\n",
       "      <td>0</td>\n",
       "    </tr>\n",
       "    <tr>\n",
       "      <th>United Arab Emirates</th>\n",
       "      <td>7.477915</td>\n",
       "      <td>5.551744</td>\n",
       "      <td>8.379367</td>\n",
       "      <td>7.494531</td>\n",
       "      <td>0</td>\n",
       "    </tr>\n",
       "    <tr>\n",
       "      <th>...</th>\n",
       "      <td>...</td>\n",
       "      <td>...</td>\n",
       "      <td>...</td>\n",
       "      <td>...</td>\n",
       "      <td>...</td>\n",
       "    </tr>\n",
       "    <tr>\n",
       "      <th>Zaire</th>\n",
       "      <td>0.243691</td>\n",
       "      <td>0.253817</td>\n",
       "      <td>0.207250</td>\n",
       "      <td>0.183098</td>\n",
       "      <td>0</td>\n",
       "    </tr>\n",
       "    <tr>\n",
       "      <th>Zambia</th>\n",
       "      <td>13.486751</td>\n",
       "      <td>12.955729</td>\n",
       "      <td>13.616058</td>\n",
       "      <td>12.232444</td>\n",
       "      <td>37</td>\n",
       "    </tr>\n",
       "    <tr>\n",
       "      <th>Zambia</th>\n",
       "      <td>0.183589</td>\n",
       "      <td>0.180310</td>\n",
       "      <td>0.186996</td>\n",
       "      <td>0.172096</td>\n",
       "      <td>0</td>\n",
       "    </tr>\n",
       "    <tr>\n",
       "      <th>Zimbabwe</th>\n",
       "      <td>12.994217</td>\n",
       "      <td>13.033457</td>\n",
       "      <td>13.732195</td>\n",
       "      <td>13.896783</td>\n",
       "      <td>43</td>\n",
       "    </tr>\n",
       "    <tr>\n",
       "      <th>Zimbabwe</th>\n",
       "      <td>0.176885</td>\n",
       "      <td>0.181391</td>\n",
       "      <td>0.188591</td>\n",
       "      <td>0.195511</td>\n",
       "      <td>1</td>\n",
       "    </tr>\n",
       "  </tbody>\n",
       "</table>\n",
       "<p>298 rows × 5 columns</p>\n",
       "</div>"
      ],
      "text/plain": [
       "                      fitted_ModPoisson  fitted_ModBN  fitted_modZIP  \\\n",
       "country                                                                \n",
       "Angola                        15.919915     16.138708      14.823562   \n",
       "Angola                         0.216711      0.224608       0.203580   \n",
       "Albania                       13.371720     11.987745      12.877979   \n",
       "Albania                        0.182023      0.166838       0.176860   \n",
       "United Arab Emirates           7.477915      5.551744       8.379367   \n",
       "...                                 ...           ...            ...   \n",
       "Zaire                          0.243691      0.253817       0.207250   \n",
       "Zambia                        13.486751     12.955729      13.616058   \n",
       "Zambia                         0.183589      0.180310       0.186996   \n",
       "Zimbabwe                      12.994217     13.033457      13.732195   \n",
       "Zimbabwe                       0.176885      0.181391       0.188591   \n",
       "\n",
       "                      fitted_modZINP   y  \n",
       "country                                   \n",
       "Angola                     13.358543  50  \n",
       "Angola                      0.187939   1  \n",
       "Albania                    10.203814  17  \n",
       "Albania                     0.143555   0  \n",
       "United Arab Emirates        7.494531   0  \n",
       "...                              ...  ..  \n",
       "Zaire                       0.183098   0  \n",
       "Zambia                     12.232444  37  \n",
       "Zambia                      0.172096   0  \n",
       "Zimbabwe                   13.896783  43  \n",
       "Zimbabwe                    0.195511   1  \n",
       "\n",
       "[298 rows x 5 columns]"
      ]
     },
     "execution_count": 57,
     "metadata": {},
     "output_type": "execute_result"
    }
   ],
   "source": [
    "prev =  pd.DataFrame(modpoisson.predict(x_intercept),columns=['fitted_ModPoisson'])\n",
    "prev['fitted_ModBN'] = modbn.predict(x_intercept)\n",
    "prev['fitted_modZIP'] = modpoissonzero_2.predict(x_intercept,exog_infl = x_inflated)\n",
    "prev['fitted_modZINP'] = modbnzero.predict(x_intercept,exog_infl = x_inflated)\n",
    "prev['y'] = dados['violations']\n",
    "prev"
   ]
  },
  {
   "cell_type": "markdown",
   "metadata": {},
   "source": [
    "**Valor das previsões dos 4 modelos de dados de contagem**"
   ]
  },
  {
   "cell_type": "markdown",
   "metadata": {},
   "source": [
    "# Conclusão "
   ]
  },
  {
   "cell_type": "markdown",
   "metadata": {},
   "source": [
    "**Note que os modelos Binomial Negativo e Binomial Negativo zero inflated se ajustaram melhores aos dados do que os modelos Poisson e Poisson zero inflated, a ocorrência de zero inflated nos dados fez com que o modelos BN zero inflated se adequasse mais aos dados**"
   ]
  }
 ],
 "metadata": {
  "anaconda-cloud": {},
  "kernelspec": {
   "display_name": "Python 3 (ipykernel)",
   "language": "python",
   "name": "python3"
  },
  "language_info": {
   "codemirror_mode": {
    "name": "ipython",
    "version": 3
   },
   "file_extension": ".py",
   "mimetype": "text/x-python",
   "name": "python",
   "nbconvert_exporter": "python",
   "pygments_lexer": "ipython3",
   "version": "3.9.12"
  }
 },
 "nbformat": 4,
 "nbformat_minor": 1
}
