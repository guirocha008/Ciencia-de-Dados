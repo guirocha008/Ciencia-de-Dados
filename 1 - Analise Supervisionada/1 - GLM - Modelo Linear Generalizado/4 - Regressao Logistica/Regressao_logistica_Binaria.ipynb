{
 "cells": [
  {
   "cell_type": "markdown",
   "metadata": {},
   "source": [
    "# $$Regressão~Logistica~Binária$$"
   ]
  },
  {
   "cell_type": "markdown",
   "metadata": {},
   "source": [
    "### $$Conceito:$$\n",
    "\n",
    "A **regressão logística** é um modelo estatístico que permite estimar a chance da ocorrência de um determinado desfecho categórico (Y) em função de um ou mais preditores (X), que podem ser contínuos ou categóricos. Quando a variável dependente apresenta apenas dois níveis ou classes, a regressão é chamada de binária. Quando há mais níveis ou classes, é chamada de multinomial\n",
    "\n",
    "\n",
    "Na **regressão logística**  nós não conhecemos a probabilidade p como é o padrão nos problemas de distribuição de Bernoulli. Logo, o objetivo do modelo logístico é estimar (p) para uma combinação linear das variáveis independentes\n",
    "\n"
   ]
  },
  {
   "cell_type": "markdown",
   "metadata": {},
   "source": [
    "__------------------------------------------------------------------------------------------------------------------------------------------------------------------------------------------------------------------__\n",
    "\n",
    "\n",
    "__------------------------------------------------------------------------------------------------------------------------------------------------------------------------------------------------------------------__"
   ]
  },
  {
   "cell_type": "markdown",
   "metadata": {},
   "source": [
    "## $$Objetivo:$$  \n",
    "\n",
    "## $$Criar~Modelo~ de ~Regressão~ Logistica ~Binária$$"
   ]
  },
  {
   "cell_type": "markdown",
   "metadata": {},
   "source": [
    "__------------------------------------------------------------------------------------------------------------------------------------------------------------------------------------------------------------------__\n",
    "\n",
    "\n",
    "__------------------------------------------------------------------------------------------------------------------------------------------------------------------------------------------------------------------__"
   ]
  },
  {
   "cell_type": "code",
   "execution_count": 1,
   "metadata": {},
   "outputs": [],
   "source": [
    "#Pacotes\n",
    "import numpy as np\n",
    "import pandas as pd\n",
    "import matplotlib.pyplot as plt\n",
    "import matplotlib as mpl\n",
    "import warnings\n",
    "warnings.filterwarnings(\"ignore\")\n",
    "%matplotlib inline "
   ]
  },
  {
   "cell_type": "markdown",
   "metadata": {},
   "source": [
    "# Banco de dados "
   ]
  },
  {
   "cell_type": "code",
   "execution_count": 2,
   "metadata": {},
   "outputs": [
    {
     "data": {
      "text/html": [
       "<div>\n",
       "<style scoped>\n",
       "    .dataframe tbody tr th:only-of-type {\n",
       "        vertical-align: middle;\n",
       "    }\n",
       "\n",
       "    .dataframe tbody tr th {\n",
       "        vertical-align: top;\n",
       "    }\n",
       "\n",
       "    .dataframe thead th {\n",
       "        text-align: right;\n",
       "    }\n",
       "</style>\n",
       "<table border=\"1\" class=\"dataframe\">\n",
       "  <thead>\n",
       "    <tr style=\"text-align: right;\">\n",
       "      <th></th>\n",
       "      <th>atrasado</th>\n",
       "      <th>dist</th>\n",
       "      <th>sem</th>\n",
       "    </tr>\n",
       "    <tr>\n",
       "      <th>estudante</th>\n",
       "      <th></th>\n",
       "      <th></th>\n",
       "      <th></th>\n",
       "    </tr>\n",
       "  </thead>\n",
       "  <tbody>\n",
       "    <tr>\n",
       "      <th>Gabriela</th>\n",
       "      <td>0</td>\n",
       "      <td>12.5</td>\n",
       "      <td>7</td>\n",
       "    </tr>\n",
       "    <tr>\n",
       "      <th>Patrícia</th>\n",
       "      <td>0</td>\n",
       "      <td>13.3</td>\n",
       "      <td>10</td>\n",
       "    </tr>\n",
       "    <tr>\n",
       "      <th>Gustavo</th>\n",
       "      <td>0</td>\n",
       "      <td>13.4</td>\n",
       "      <td>8</td>\n",
       "    </tr>\n",
       "    <tr>\n",
       "      <th>Letícia</th>\n",
       "      <td>0</td>\n",
       "      <td>23.5</td>\n",
       "      <td>7</td>\n",
       "    </tr>\n",
       "    <tr>\n",
       "      <th>Luiz Ovídio</th>\n",
       "      <td>0</td>\n",
       "      <td>9.5</td>\n",
       "      <td>8</td>\n",
       "    </tr>\n",
       "    <tr>\n",
       "      <th>...</th>\n",
       "      <td>...</td>\n",
       "      <td>...</td>\n",
       "      <td>...</td>\n",
       "    </tr>\n",
       "    <tr>\n",
       "      <th>Sheila</th>\n",
       "      <td>1</td>\n",
       "      <td>24.0</td>\n",
       "      <td>10</td>\n",
       "    </tr>\n",
       "    <tr>\n",
       "      <th>Pedro</th>\n",
       "      <td>1</td>\n",
       "      <td>10.0</td>\n",
       "      <td>10</td>\n",
       "    </tr>\n",
       "    <tr>\n",
       "      <th>Horácio</th>\n",
       "      <td>1</td>\n",
       "      <td>9.4</td>\n",
       "      <td>10</td>\n",
       "    </tr>\n",
       "    <tr>\n",
       "      <th>Leandro</th>\n",
       "      <td>1</td>\n",
       "      <td>14.2</td>\n",
       "      <td>10</td>\n",
       "    </tr>\n",
       "    <tr>\n",
       "      <th>Estela</th>\n",
       "      <td>1</td>\n",
       "      <td>1.0</td>\n",
       "      <td>13</td>\n",
       "    </tr>\n",
       "  </tbody>\n",
       "</table>\n",
       "<p>100 rows × 3 columns</p>\n",
       "</div>"
      ],
      "text/plain": [
       "             atrasado  dist  sem\n",
       "estudante                       \n",
       "Gabriela            0  12.5    7\n",
       "Patrícia            0  13.3   10\n",
       "Gustavo             0  13.4    8\n",
       "Letícia             0  23.5    7\n",
       "Luiz Ovídio         0   9.5    8\n",
       "...               ...   ...  ...\n",
       "Sheila              1  24.0   10\n",
       "Pedro               1  10.0   10\n",
       "Horácio             1   9.4   10\n",
       "Leandro             1  14.2   10\n",
       "Estela              1   1.0   13\n",
       "\n",
       "[100 rows x 3 columns]"
      ]
     },
     "execution_count": 2,
     "metadata": {},
     "output_type": "execute_result"
    }
   ],
   "source": [
    "# Carregando o dataset\n",
    "dados = pd.read_csv('Atrasado.csv',encoding='latin1',sep=',')\n",
    "dados = dados.set_index('estudante')\n",
    "dados\n"
   ]
  },
  {
   "cell_type": "markdown",
   "metadata": {},
   "source": [
    "**Tabela com 100 observações e 3 variáveis**"
   ]
  },
  {
   "cell_type": "markdown",
   "metadata": {},
   "source": [
    "# $$Dicionário~ de~ Dados~ das~ Variáveis$$ \n",
    "\n",
    "### **$$Variáveis:$$**\n",
    "\n",
    "**estudante:** Nome do estudante\n",
    "\n",
    "\n",
    "**atrasado:** Variável Target, 0 para o estudante que não chegou atrasado e 1 para estudante que chegou atrasado\n",
    "    \n",
    "    \n",
    "**dist:** Distância da casa do estudante até a escola em KM\n",
    "\n",
    "\n",
    "**sem:** Quantidade de semáfaros até chegar na escola\n"
   ]
  },
  {
   "cell_type": "markdown",
   "metadata": {},
   "source": [
    "# Análise Exploratória"
   ]
  },
  {
   "cell_type": "code",
   "execution_count": 3,
   "metadata": {},
   "outputs": [
    {
     "name": "stdout",
     "output_type": "stream",
     "text": [
      "<class 'pandas.core.frame.DataFrame'>\n",
      "Index: 100 entries, Gabriela to Estela\n",
      "Data columns (total 3 columns):\n",
      " #   Column    Non-Null Count  Dtype  \n",
      "---  ------    --------------  -----  \n",
      " 0   atrasado  100 non-null    int64  \n",
      " 1   dist      100 non-null    float64\n",
      " 2   sem       100 non-null    int64  \n",
      "dtypes: float64(1), int64(2)\n",
      "memory usage: 3.1+ KB\n"
     ]
    }
   ],
   "source": [
    "#Info da tabela\n",
    "dados.info()"
   ]
  },
  {
   "cell_type": "markdown",
   "metadata": {},
   "source": [
    "**São 3 variáveis quantitativas, sendo a variável resposta dicotômica**\n"
   ]
  },
  {
   "cell_type": "code",
   "execution_count": 4,
   "metadata": {},
   "outputs": [
    {
     "data": {
      "text/html": [
       "<div>\n",
       "<style scoped>\n",
       "    .dataframe tbody tr th:only-of-type {\n",
       "        vertical-align: middle;\n",
       "    }\n",
       "\n",
       "    .dataframe tbody tr th {\n",
       "        vertical-align: top;\n",
       "    }\n",
       "\n",
       "    .dataframe thead th {\n",
       "        text-align: right;\n",
       "    }\n",
       "</style>\n",
       "<table border=\"1\" class=\"dataframe\">\n",
       "  <thead>\n",
       "    <tr style=\"text-align: right;\">\n",
       "      <th></th>\n",
       "      <th>atrasado</th>\n",
       "      <th>dist</th>\n",
       "      <th>sem</th>\n",
       "    </tr>\n",
       "  </thead>\n",
       "  <tbody>\n",
       "    <tr>\n",
       "      <th>count</th>\n",
       "      <td>100.000000</td>\n",
       "      <td>100.000000</td>\n",
       "      <td>100.000000</td>\n",
       "    </tr>\n",
       "    <tr>\n",
       "      <th>mean</th>\n",
       "      <td>0.590000</td>\n",
       "      <td>14.073000</td>\n",
       "      <td>10.210000</td>\n",
       "    </tr>\n",
       "    <tr>\n",
       "      <th>std</th>\n",
       "      <td>0.494311</td>\n",
       "      <td>4.330112</td>\n",
       "      <td>1.578229</td>\n",
       "    </tr>\n",
       "    <tr>\n",
       "      <th>min</th>\n",
       "      <td>0.000000</td>\n",
       "      <td>1.000000</td>\n",
       "      <td>5.000000</td>\n",
       "    </tr>\n",
       "    <tr>\n",
       "      <th>25%</th>\n",
       "      <td>0.000000</td>\n",
       "      <td>12.000000</td>\n",
       "      <td>10.000000</td>\n",
       "    </tr>\n",
       "    <tr>\n",
       "      <th>50%</th>\n",
       "      <td>1.000000</td>\n",
       "      <td>13.350000</td>\n",
       "      <td>10.000000</td>\n",
       "    </tr>\n",
       "    <tr>\n",
       "      <th>75%</th>\n",
       "      <td>1.000000</td>\n",
       "      <td>16.125000</td>\n",
       "      <td>10.000000</td>\n",
       "    </tr>\n",
       "    <tr>\n",
       "      <th>max</th>\n",
       "      <td>1.000000</td>\n",
       "      <td>29.000000</td>\n",
       "      <td>18.000000</td>\n",
       "    </tr>\n",
       "  </tbody>\n",
       "</table>\n",
       "</div>"
      ],
      "text/plain": [
       "         atrasado        dist         sem\n",
       "count  100.000000  100.000000  100.000000\n",
       "mean     0.590000   14.073000   10.210000\n",
       "std      0.494311    4.330112    1.578229\n",
       "min      0.000000    1.000000    5.000000\n",
       "25%      0.000000   12.000000   10.000000\n",
       "50%      1.000000   13.350000   10.000000\n",
       "75%      1.000000   16.125000   10.000000\n",
       "max      1.000000   29.000000   18.000000"
      ]
     },
     "execution_count": 4,
     "metadata": {},
     "output_type": "execute_result"
    }
   ],
   "source": [
    "#Descrição dos dados\n",
    "dados.describe()"
   ]
  },
  {
   "cell_type": "markdown",
   "metadata": {},
   "source": [
    "\n",
    "**Obs para variável target: Não existe análise quantitativa para variáveis dicotômica ou policotômicas**\n"
   ]
  },
  {
   "cell_type": "code",
   "execution_count": 5,
   "metadata": {},
   "outputs": [
    {
     "data": {
      "text/plain": [
       "1    59\n",
       "0    41\n",
       "Name: atrasado, dtype: int64"
      ]
     },
     "execution_count": 5,
     "metadata": {},
     "output_type": "execute_result"
    }
   ],
   "source": [
    "#tabela de frequencia da var Y\n",
    "dados.atrasado.value_counts()"
   ]
  },
  {
   "cell_type": "markdown",
   "metadata": {},
   "source": [
    "**A Variável Y não precisa estar balanceada na regressao logistica**\n"
   ]
  },
  {
   "cell_type": "markdown",
   "metadata": {},
   "source": [
    "# Modelagem:"
   ]
  },
  {
   "cell_type": "code",
   "execution_count": 6,
   "metadata": {},
   "outputs": [],
   "source": [
    "#Separar os dados em X e Y\n",
    "\n",
    "x = dados.iloc[:,1:3]\n",
    "y= dados.iloc[:,0]"
   ]
  },
  {
   "cell_type": "markdown",
   "metadata": {},
   "source": [
    "## Modelo - Regressão Logistica"
   ]
  },
  {
   "cell_type": "code",
   "execution_count": 7,
   "metadata": {},
   "outputs": [
    {
     "name": "stdout",
     "output_type": "stream",
     "text": [
      "Optimization terminated successfully.\n",
      "         Current function value: 0.504664\n",
      "         Iterations 9\n"
     ]
    },
    {
     "data": {
      "text/html": [
       "<table class=\"simpletable\">\n",
       "<caption>Logit Regression Results</caption>\n",
       "<tr>\n",
       "  <th>Dep. Variable:</th>       <td>atrasado</td>     <th>  No. Observations:  </th>  <td>   100</td>  \n",
       "</tr>\n",
       "<tr>\n",
       "  <th>Model:</th>                 <td>Logit</td>      <th>  Df Residuals:      </th>  <td>    97</td>  \n",
       "</tr>\n",
       "<tr>\n",
       "  <th>Method:</th>                 <td>MLE</td>       <th>  Df Model:          </th>  <td>     2</td>  \n",
       "</tr>\n",
       "<tr>\n",
       "  <th>Date:</th>            <td>Thu, 14 Jul 2022</td> <th>  Pseudo R-squ.:     </th>  <td>0.2544</td>  \n",
       "</tr>\n",
       "<tr>\n",
       "  <th>Time:</th>                <td>18:00:08</td>     <th>  Log-Likelihood:    </th> <td> -50.466</td> \n",
       "</tr>\n",
       "<tr>\n",
       "  <th>converged:</th>             <td>True</td>       <th>  LL-Null:           </th> <td> -67.686</td> \n",
       "</tr>\n",
       "<tr>\n",
       "  <th>Covariance Type:</th>     <td>nonrobust</td>    <th>  LLR p-value:       </th> <td>3.324e-08</td>\n",
       "</tr>\n",
       "</table>\n",
       "<table class=\"simpletable\">\n",
       "<tr>\n",
       "    <td></td>       <th>coef</th>     <th>std err</th>      <th>z</th>      <th>P>|z|</th>  <th>[0.025</th>    <th>0.975]</th>  \n",
       "</tr>\n",
       "<tr>\n",
       "  <th>const</th> <td>  -26.1665</td> <td>    8.442</td> <td>   -3.100</td> <td> 0.002</td> <td>  -42.713</td> <td>   -9.620</td>\n",
       "</tr>\n",
       "<tr>\n",
       "  <th>dist</th>  <td>    0.1904</td> <td>    0.076</td> <td>    2.493</td> <td> 0.013</td> <td>    0.041</td> <td>    0.340</td>\n",
       "</tr>\n",
       "<tr>\n",
       "  <th>sem</th>   <td>    2.3629</td> <td>    0.795</td> <td>    2.972</td> <td> 0.003</td> <td>    0.804</td> <td>    3.921</td>\n",
       "</tr>\n",
       "</table>"
      ],
      "text/plain": [
       "<class 'statsmodels.iolib.summary.Summary'>\n",
       "\"\"\"\n",
       "                           Logit Regression Results                           \n",
       "==============================================================================\n",
       "Dep. Variable:               atrasado   No. Observations:                  100\n",
       "Model:                          Logit   Df Residuals:                       97\n",
       "Method:                           MLE   Df Model:                            2\n",
       "Date:                Thu, 14 Jul 2022   Pseudo R-squ.:                  0.2544\n",
       "Time:                        18:00:08   Log-Likelihood:                -50.466\n",
       "converged:                       True   LL-Null:                       -67.686\n",
       "Covariance Type:            nonrobust   LLR p-value:                 3.324e-08\n",
       "==============================================================================\n",
       "                 coef    std err          z      P>|z|      [0.025      0.975]\n",
       "------------------------------------------------------------------------------\n",
       "const        -26.1665      8.442     -3.100      0.002     -42.713      -9.620\n",
       "dist           0.1904      0.076      2.493      0.013       0.041       0.340\n",
       "sem            2.3629      0.795      2.972      0.003       0.804       3.921\n",
       "==============================================================================\n",
       "\"\"\""
      ]
     },
     "execution_count": 7,
     "metadata": {},
     "output_type": "execute_result"
    }
   ],
   "source": [
    "#Modelo \n",
    "import statsmodels.api as sm\n",
    "\n",
    "# Somente o Intercept\n",
    "x_interc = sm.add_constant(x) \n",
    "\n",
    "# funçao com os 2 coeficientes\n",
    "modelo = sm.Logit(y,x_interc) \n",
    "\n",
    "# Treinar o modelo\n",
    "modelo_fit = modelo.fit() \n",
    "\n",
    "# Verificar os dados do modelo\n",
    "modelo_fit.summary() \n"
   ]
  },
  {
   "cell_type": "markdown",
   "metadata": {},
   "source": [
    "- **Não existe R² quando a variáveis target for qualitativa**\n",
    "\n",
    "\n",
    "- **Variável Target qualitativa não gera p_values da estatística T e sim da estatística Z (normal padronizada), pois ao estimar varios modelos, os dados regridem ao uma normal padrão**\n",
    "\n",
    "\n"
   ]
  },
  {
   "cell_type": "markdown",
   "metadata": {},
   "source": [
    "# Encontrar os parâmetros dos modelos"
   ]
  },
  {
   "cell_type": "markdown",
   "metadata": {},
   "source": [
    "## Logito"
   ]
  },
  {
   "cell_type": "markdown",
   "metadata": {},
   "source": [
    "**Logito:** É formula da regressão linear (alpha + beta1 * x1 + beta2 * x2 .....), porém no formato de logaritmo (Y categorica), quanto mais proximo de 0 é o logito mais indeciso vai ser para classificar o evento, probabilidade proxima de 50% para evento e não evento"
   ]
  },
  {
   "cell_type": "code",
   "execution_count": 8,
   "metadata": {},
   "outputs": [
    {
     "data": {
      "text/html": [
       "<div>\n",
       "<style scoped>\n",
       "    .dataframe tbody tr th:only-of-type {\n",
       "        vertical-align: middle;\n",
       "    }\n",
       "\n",
       "    .dataframe tbody tr th {\n",
       "        vertical-align: top;\n",
       "    }\n",
       "\n",
       "    .dataframe thead th {\n",
       "        text-align: right;\n",
       "    }\n",
       "</style>\n",
       "<table border=\"1\" class=\"dataframe\">\n",
       "  <thead>\n",
       "    <tr style=\"text-align: right;\">\n",
       "      <th></th>\n",
       "      <th>atrasado</th>\n",
       "      <th>dist</th>\n",
       "      <th>sem</th>\n",
       "      <th>Logito</th>\n",
       "    </tr>\n",
       "    <tr>\n",
       "      <th>estudante</th>\n",
       "      <th></th>\n",
       "      <th></th>\n",
       "      <th></th>\n",
       "      <th></th>\n",
       "    </tr>\n",
       "  </thead>\n",
       "  <tbody>\n",
       "    <tr>\n",
       "      <th>Gabriela</th>\n",
       "      <td>0</td>\n",
       "      <td>12.5</td>\n",
       "      <td>7</td>\n",
       "      <td>-7.246693</td>\n",
       "    </tr>\n",
       "    <tr>\n",
       "      <th>Patrícia</th>\n",
       "      <td>0</td>\n",
       "      <td>13.3</td>\n",
       "      <td>10</td>\n",
       "      <td>-0.005755</td>\n",
       "    </tr>\n",
       "    <tr>\n",
       "      <th>Gustavo</th>\n",
       "      <td>0</td>\n",
       "      <td>13.4</td>\n",
       "      <td>8</td>\n",
       "      <td>-4.712476</td>\n",
       "    </tr>\n",
       "    <tr>\n",
       "      <th>Letícia</th>\n",
       "      <td>0</td>\n",
       "      <td>23.5</td>\n",
       "      <td>7</td>\n",
       "      <td>-5.152567</td>\n",
       "    </tr>\n",
       "    <tr>\n",
       "      <th>Luiz Ovídio</th>\n",
       "      <td>0</td>\n",
       "      <td>9.5</td>\n",
       "      <td>8</td>\n",
       "      <td>-5.454939</td>\n",
       "    </tr>\n",
       "    <tr>\n",
       "      <th>...</th>\n",
       "      <td>...</td>\n",
       "      <td>...</td>\n",
       "      <td>...</td>\n",
       "      <td>...</td>\n",
       "    </tr>\n",
       "    <tr>\n",
       "      <th>Sheila</th>\n",
       "      <td>1</td>\n",
       "      <td>24.0</td>\n",
       "      <td>10</td>\n",
       "      <td>2.031259</td>\n",
       "    </tr>\n",
       "    <tr>\n",
       "      <th>Pedro</th>\n",
       "      <td>1</td>\n",
       "      <td>10.0</td>\n",
       "      <td>10</td>\n",
       "      <td>-0.633993</td>\n",
       "    </tr>\n",
       "    <tr>\n",
       "      <th>Horácio</th>\n",
       "      <td>1</td>\n",
       "      <td>9.4</td>\n",
       "      <td>10</td>\n",
       "      <td>-0.748218</td>\n",
       "    </tr>\n",
       "    <tr>\n",
       "      <th>Leandro</th>\n",
       "      <td>1</td>\n",
       "      <td>14.2</td>\n",
       "      <td>10</td>\n",
       "      <td>0.165583</td>\n",
       "    </tr>\n",
       "    <tr>\n",
       "      <th>Estela</th>\n",
       "      <td>1</td>\n",
       "      <td>1.0</td>\n",
       "      <td>13</td>\n",
       "      <td>4.741270</td>\n",
       "    </tr>\n",
       "  </tbody>\n",
       "</table>\n",
       "<p>100 rows × 4 columns</p>\n",
       "</div>"
      ],
      "text/plain": [
       "             atrasado  dist  sem    Logito\n",
       "estudante                                 \n",
       "Gabriela            0  12.5    7 -7.246693\n",
       "Patrícia            0  13.3   10 -0.005755\n",
       "Gustavo             0  13.4    8 -4.712476\n",
       "Letícia             0  23.5    7 -5.152567\n",
       "Luiz Ovídio         0   9.5    8 -5.454939\n",
       "...               ...   ...  ...       ...\n",
       "Sheila              1  24.0   10  2.031259\n",
       "Pedro               1  10.0   10 -0.633993\n",
       "Horácio             1   9.4   10 -0.748218\n",
       "Leandro             1  14.2   10  0.165583\n",
       "Estela              1   1.0   13  4.741270\n",
       "\n",
       "[100 rows x 4 columns]"
      ]
     },
     "execution_count": 8,
     "metadata": {},
     "output_type": "execute_result"
    }
   ],
   "source": [
    "#Logito\n",
    "\n",
    "a = modelo_fit.params[0]\n",
    "b1 = modelo_fit.params[1]\n",
    "b2 = modelo_fit.params[2]\n",
    "\n",
    "dados['Logito'] = a +b1*x['dist']+b2*x['sem']\n",
    "dados\n",
    "\n",
    "#OU \n",
    "\n",
    "# modelo_fit.fittedvalues"
   ]
  },
  {
   "cell_type": "code",
   "execution_count": 9,
   "metadata": {},
   "outputs": [
    {
     "name": "stdout",
     "output_type": "stream",
     "text": [
      "Minimo valor do logito: -11.877263632801354\n",
      "\n",
      "Maximo valor do logito: 18.459416708215077\n"
     ]
    }
   ],
   "source": [
    "# Maximo e minimo do logito\n",
    "\n",
    "mini = dados.Logito.min()\n",
    "maxi = dados.Logito.max()\n",
    "\n",
    "print(f'Minimo valor do logito: {mini}\\n')\n",
    "print(f'Maximo valor do logito: {maxi}')"
   ]
  },
  {
   "cell_type": "markdown",
   "metadata": {},
   "source": [
    "**Note que o valor do logito fica entre -11 a 18**"
   ]
  },
  {
   "cell_type": "code",
   "execution_count": 10,
   "metadata": {},
   "outputs": [
    {
     "data": {
      "image/png": "[encoded data removed]",
      "text/plain": [
       "<Figure size 432x288 with 1 Axes>"
      ]
     },
     "metadata": {
      "needs_background": "light"
     },
     "output_type": "display_data"
    }
   ],
   "source": [
    "#Plot do logito\n",
    "plt.hist(dados.Logito);"
   ]
  },
  {
   "cell_type": "markdown",
   "metadata": {},
   "source": [
    "**Veja que a maioria dos valores do logito fica aproximadamente no 0, isso quer dizer que a maior parte dos dados a probabilidade de ocorrencia do evento ficará proxima do 50%**"
   ]
  },
  {
   "cell_type": "markdown",
   "metadata": {},
   "source": [
    "## Probabilidade"
   ]
  },
  {
   "cell_type": "markdown",
   "metadata": {},
   "source": [
    "- Transformar o valor do logito em porcentagem"
   ]
  },
  {
   "cell_type": "code",
   "execution_count": 11,
   "metadata": {},
   "outputs": [
    {
     "data": {
      "text/html": [
       "<div>\n",
       "<style scoped>\n",
       "    .dataframe tbody tr th:only-of-type {\n",
       "        vertical-align: middle;\n",
       "    }\n",
       "\n",
       "    .dataframe tbody tr th {\n",
       "        vertical-align: top;\n",
       "    }\n",
       "\n",
       "    .dataframe thead th {\n",
       "        text-align: right;\n",
       "    }\n",
       "</style>\n",
       "<table border=\"1\" class=\"dataframe\">\n",
       "  <thead>\n",
       "    <tr style=\"text-align: right;\">\n",
       "      <th></th>\n",
       "      <th>atrasado</th>\n",
       "      <th>dist</th>\n",
       "      <th>sem</th>\n",
       "      <th>Logito</th>\n",
       "      <th>Prob_Evento</th>\n",
       "      <th>Prob_Nao_Evento</th>\n",
       "    </tr>\n",
       "    <tr>\n",
       "      <th>estudante</th>\n",
       "      <th></th>\n",
       "      <th></th>\n",
       "      <th></th>\n",
       "      <th></th>\n",
       "      <th></th>\n",
       "      <th></th>\n",
       "    </tr>\n",
       "  </thead>\n",
       "  <tbody>\n",
       "    <tr>\n",
       "      <th>Gabriela</th>\n",
       "      <td>0</td>\n",
       "      <td>12.5</td>\n",
       "      <td>7</td>\n",
       "      <td>-7.246693</td>\n",
       "      <td>0.000712</td>\n",
       "      <td>0.999288</td>\n",
       "    </tr>\n",
       "    <tr>\n",
       "      <th>Patrícia</th>\n",
       "      <td>0</td>\n",
       "      <td>13.3</td>\n",
       "      <td>10</td>\n",
       "      <td>-0.005755</td>\n",
       "      <td>0.498561</td>\n",
       "      <td>0.501439</td>\n",
       "    </tr>\n",
       "    <tr>\n",
       "      <th>Gustavo</th>\n",
       "      <td>0</td>\n",
       "      <td>13.4</td>\n",
       "      <td>8</td>\n",
       "      <td>-4.712476</td>\n",
       "      <td>0.008903</td>\n",
       "      <td>0.991097</td>\n",
       "    </tr>\n",
       "    <tr>\n",
       "      <th>Letícia</th>\n",
       "      <td>0</td>\n",
       "      <td>23.5</td>\n",
       "      <td>7</td>\n",
       "      <td>-5.152567</td>\n",
       "      <td>0.005751</td>\n",
       "      <td>0.994249</td>\n",
       "    </tr>\n",
       "    <tr>\n",
       "      <th>Luiz Ovídio</th>\n",
       "      <td>0</td>\n",
       "      <td>9.5</td>\n",
       "      <td>8</td>\n",
       "      <td>-5.454939</td>\n",
       "      <td>0.004257</td>\n",
       "      <td>0.995743</td>\n",
       "    </tr>\n",
       "    <tr>\n",
       "      <th>...</th>\n",
       "      <td>...</td>\n",
       "      <td>...</td>\n",
       "      <td>...</td>\n",
       "      <td>...</td>\n",
       "      <td>...</td>\n",
       "      <td>...</td>\n",
       "    </tr>\n",
       "    <tr>\n",
       "      <th>Sheila</th>\n",
       "      <td>1</td>\n",
       "      <td>24.0</td>\n",
       "      <td>10</td>\n",
       "      <td>2.031259</td>\n",
       "      <td>0.884040</td>\n",
       "      <td>0.115960</td>\n",
       "    </tr>\n",
       "    <tr>\n",
       "      <th>Pedro</th>\n",
       "      <td>1</td>\n",
       "      <td>10.0</td>\n",
       "      <td>10</td>\n",
       "      <td>-0.633993</td>\n",
       "      <td>0.346606</td>\n",
       "      <td>0.653394</td>\n",
       "    </tr>\n",
       "    <tr>\n",
       "      <th>Horácio</th>\n",
       "      <td>1</td>\n",
       "      <td>9.4</td>\n",
       "      <td>10</td>\n",
       "      <td>-0.748218</td>\n",
       "      <td>0.321210</td>\n",
       "      <td>0.678790</td>\n",
       "    </tr>\n",
       "    <tr>\n",
       "      <th>Leandro</th>\n",
       "      <td>1</td>\n",
       "      <td>14.2</td>\n",
       "      <td>10</td>\n",
       "      <td>0.165583</td>\n",
       "      <td>0.541301</td>\n",
       "      <td>0.458699</td>\n",
       "    </tr>\n",
       "    <tr>\n",
       "      <th>Estela</th>\n",
       "      <td>1</td>\n",
       "      <td>1.0</td>\n",
       "      <td>13</td>\n",
       "      <td>4.741270</td>\n",
       "      <td>0.991348</td>\n",
       "      <td>0.008652</td>\n",
       "    </tr>\n",
       "  </tbody>\n",
       "</table>\n",
       "<p>100 rows × 6 columns</p>\n",
       "</div>"
      ],
      "text/plain": [
       "             atrasado  dist  sem    Logito  Prob_Evento  Prob_Nao_Evento\n",
       "estudante                                                               \n",
       "Gabriela            0  12.5    7 -7.246693     0.000712         0.999288\n",
       "Patrícia            0  13.3   10 -0.005755     0.498561         0.501439\n",
       "Gustavo             0  13.4    8 -4.712476     0.008903         0.991097\n",
       "Letícia             0  23.5    7 -5.152567     0.005751         0.994249\n",
       "Luiz Ovídio         0   9.5    8 -5.454939     0.004257         0.995743\n",
       "...               ...   ...  ...       ...          ...              ...\n",
       "Sheila              1  24.0   10  2.031259     0.884040         0.115960\n",
       "Pedro               1  10.0   10 -0.633993     0.346606         0.653394\n",
       "Horácio             1   9.4   10 -0.748218     0.321210         0.678790\n",
       "Leandro             1  14.2   10  0.165583     0.541301         0.458699\n",
       "Estela              1   1.0   13  4.741270     0.991348         0.008652\n",
       "\n",
       "[100 rows x 6 columns]"
      ]
     },
     "execution_count": 11,
     "metadata": {},
     "output_type": "execute_result"
    }
   ],
   "source": [
    "#Probabilidade\n",
    "\n",
    "dados['Prob_Evento'] = 1/(1+np.exp(-dados['Logito']))\n",
    "dados['Prob_Nao_Evento'] = 1-(1/(1+np.exp(-dados['Logito'])))\n",
    "dados\n",
    "\n",
    "#Ou\n",
    "\n",
    "# modelo_fit.predict(x_interc)"
   ]
  },
  {
   "cell_type": "markdown",
   "metadata": {},
   "source": [
    "**Transforma o Logito em probabilidade entre 0 e 1**"
   ]
  },
  {
   "cell_type": "markdown",
   "metadata": {},
   "source": [
    "## Log-likelihood(Verossimilhança)"
   ]
  },
  {
   "cell_type": "markdown",
   "metadata": {},
   "source": [
    "- Quanto mais próximo a probabilidade estiver dos extremos (0 ou 1) e da previsão correta, menor vai ser o loglike, e quanto menor o loglike melhor o modelo\n",
    "\n"
   ]
  },
  {
   "cell_type": "code",
   "execution_count": 12,
   "metadata": {},
   "outputs": [
    {
     "data": {
      "text/html": [
       "<div>\n",
       "<style scoped>\n",
       "    .dataframe tbody tr th:only-of-type {\n",
       "        vertical-align: middle;\n",
       "    }\n",
       "\n",
       "    .dataframe tbody tr th {\n",
       "        vertical-align: top;\n",
       "    }\n",
       "\n",
       "    .dataframe thead th {\n",
       "        text-align: right;\n",
       "    }\n",
       "</style>\n",
       "<table border=\"1\" class=\"dataframe\">\n",
       "  <thead>\n",
       "    <tr style=\"text-align: right;\">\n",
       "      <th></th>\n",
       "      <th>atrasado</th>\n",
       "      <th>dist</th>\n",
       "      <th>sem</th>\n",
       "      <th>Logito</th>\n",
       "      <th>Prob_Evento</th>\n",
       "      <th>Prob_Nao_Evento</th>\n",
       "      <th>loglike</th>\n",
       "    </tr>\n",
       "    <tr>\n",
       "      <th>estudante</th>\n",
       "      <th></th>\n",
       "      <th></th>\n",
       "      <th></th>\n",
       "      <th></th>\n",
       "      <th></th>\n",
       "      <th></th>\n",
       "      <th></th>\n",
       "    </tr>\n",
       "  </thead>\n",
       "  <tbody>\n",
       "    <tr>\n",
       "      <th>Gabriela</th>\n",
       "      <td>0</td>\n",
       "      <td>12.5</td>\n",
       "      <td>7</td>\n",
       "      <td>-7.246693</td>\n",
       "      <td>0.000712</td>\n",
       "      <td>0.999288</td>\n",
       "      <td>-0.000712</td>\n",
       "    </tr>\n",
       "    <tr>\n",
       "      <th>Patrícia</th>\n",
       "      <td>0</td>\n",
       "      <td>13.3</td>\n",
       "      <td>10</td>\n",
       "      <td>-0.005755</td>\n",
       "      <td>0.498561</td>\n",
       "      <td>0.501439</td>\n",
       "      <td>-0.690274</td>\n",
       "    </tr>\n",
       "    <tr>\n",
       "      <th>Gustavo</th>\n",
       "      <td>0</td>\n",
       "      <td>13.4</td>\n",
       "      <td>8</td>\n",
       "      <td>-4.712476</td>\n",
       "      <td>0.008903</td>\n",
       "      <td>0.991097</td>\n",
       "      <td>-0.008942</td>\n",
       "    </tr>\n",
       "    <tr>\n",
       "      <th>Letícia</th>\n",
       "      <td>0</td>\n",
       "      <td>23.5</td>\n",
       "      <td>7</td>\n",
       "      <td>-5.152567</td>\n",
       "      <td>0.005751</td>\n",
       "      <td>0.994249</td>\n",
       "      <td>-0.005768</td>\n",
       "    </tr>\n",
       "    <tr>\n",
       "      <th>Luiz Ovídio</th>\n",
       "      <td>0</td>\n",
       "      <td>9.5</td>\n",
       "      <td>8</td>\n",
       "      <td>-5.454939</td>\n",
       "      <td>0.004257</td>\n",
       "      <td>0.995743</td>\n",
       "      <td>-0.004266</td>\n",
       "    </tr>\n",
       "    <tr>\n",
       "      <th>...</th>\n",
       "      <td>...</td>\n",
       "      <td>...</td>\n",
       "      <td>...</td>\n",
       "      <td>...</td>\n",
       "      <td>...</td>\n",
       "      <td>...</td>\n",
       "      <td>...</td>\n",
       "    </tr>\n",
       "    <tr>\n",
       "      <th>Sheila</th>\n",
       "      <td>1</td>\n",
       "      <td>24.0</td>\n",
       "      <td>10</td>\n",
       "      <td>2.031259</td>\n",
       "      <td>0.884040</td>\n",
       "      <td>0.115960</td>\n",
       "      <td>-0.123253</td>\n",
       "    </tr>\n",
       "    <tr>\n",
       "      <th>Pedro</th>\n",
       "      <td>1</td>\n",
       "      <td>10.0</td>\n",
       "      <td>10</td>\n",
       "      <td>-0.633993</td>\n",
       "      <td>0.346606</td>\n",
       "      <td>0.653394</td>\n",
       "      <td>-1.059567</td>\n",
       "    </tr>\n",
       "    <tr>\n",
       "      <th>Horácio</th>\n",
       "      <td>1</td>\n",
       "      <td>9.4</td>\n",
       "      <td>10</td>\n",
       "      <td>-0.748218</td>\n",
       "      <td>0.321210</td>\n",
       "      <td>0.678790</td>\n",
       "      <td>-1.135661</td>\n",
       "    </tr>\n",
       "    <tr>\n",
       "      <th>Leandro</th>\n",
       "      <td>1</td>\n",
       "      <td>14.2</td>\n",
       "      <td>10</td>\n",
       "      <td>0.165583</td>\n",
       "      <td>0.541301</td>\n",
       "      <td>0.458699</td>\n",
       "      <td>-0.613779</td>\n",
       "    </tr>\n",
       "    <tr>\n",
       "      <th>Estela</th>\n",
       "      <td>1</td>\n",
       "      <td>1.0</td>\n",
       "      <td>13</td>\n",
       "      <td>4.741270</td>\n",
       "      <td>0.991348</td>\n",
       "      <td>0.008652</td>\n",
       "      <td>-0.008690</td>\n",
       "    </tr>\n",
       "  </tbody>\n",
       "</table>\n",
       "<p>100 rows × 7 columns</p>\n",
       "</div>"
      ],
      "text/plain": [
       "             atrasado  dist  sem    Logito  Prob_Evento  Prob_Nao_Evento  \\\n",
       "estudante                                                                  \n",
       "Gabriela            0  12.5    7 -7.246693     0.000712         0.999288   \n",
       "Patrícia            0  13.3   10 -0.005755     0.498561         0.501439   \n",
       "Gustavo             0  13.4    8 -4.712476     0.008903         0.991097   \n",
       "Letícia             0  23.5    7 -5.152567     0.005751         0.994249   \n",
       "Luiz Ovídio         0   9.5    8 -5.454939     0.004257         0.995743   \n",
       "...               ...   ...  ...       ...          ...              ...   \n",
       "Sheila              1  24.0   10  2.031259     0.884040         0.115960   \n",
       "Pedro               1  10.0   10 -0.633993     0.346606         0.653394   \n",
       "Horácio             1   9.4   10 -0.748218     0.321210         0.678790   \n",
       "Leandro             1  14.2   10  0.165583     0.541301         0.458699   \n",
       "Estela              1   1.0   13  4.741270     0.991348         0.008652   \n",
       "\n",
       "              loglike  \n",
       "estudante              \n",
       "Gabriela    -0.000712  \n",
       "Patrícia    -0.690274  \n",
       "Gustavo     -0.008942  \n",
       "Letícia     -0.005768  \n",
       "Luiz Ovídio -0.004266  \n",
       "...               ...  \n",
       "Sheila      -0.123253  \n",
       "Pedro       -1.059567  \n",
       "Horácio     -1.135661  \n",
       "Leandro     -0.613779  \n",
       "Estela      -0.008690  \n",
       "\n",
       "[100 rows x 7 columns]"
      ]
     },
     "execution_count": 12,
     "metadata": {},
     "output_type": "execute_result"
    }
   ],
   "source": [
    "#Loglike\n",
    "\n",
    "dados['loglike']  = (y *np.log(dados['Prob_Evento']))+((1-y)*np.log(1-dados['Prob_Evento']))\n",
    "dados"
   ]
  },
  {
   "cell_type": "markdown",
   "metadata": {},
   "source": [
    "**Quanto mais próximo as probabilidades estiverem dos extremos (0 ou 1) e a previsão estiver correta, menor vai ser o valor do loglike**"
   ]
  },
  {
   "cell_type": "code",
   "execution_count": 13,
   "metadata": {},
   "outputs": [
    {
     "name": "stdout",
     "output_type": "stream",
     "text": [
      "Minimo valor do loglike: -2.5700092713213407\n",
      "\n",
      "Maximo valor do loglike: -9.620046694445935e-09\n"
     ]
    }
   ],
   "source": [
    "# Maximo e minimo do Loglike\n",
    "\n",
    "mini = dados.loglike.min()\n",
    "maxi = dados.loglike.max()\n",
    "\n",
    "print(f'Minimo valor do loglike: {mini}\\n')\n",
    "print(f'Maximo valor do loglike: {maxi}')"
   ]
  },
  {
   "cell_type": "markdown",
   "metadata": {},
   "source": [
    "**Observe que o maior erro do modelo foi valor do loglike = - 2**"
   ]
  },
  {
   "cell_type": "code",
   "execution_count": 14,
   "metadata": {},
   "outputs": [
    {
     "data": {
      "text/html": [
       "<div>\n",
       "<style scoped>\n",
       "    .dataframe tbody tr th:only-of-type {\n",
       "        vertical-align: middle;\n",
       "    }\n",
       "\n",
       "    .dataframe tbody tr th {\n",
       "        vertical-align: top;\n",
       "    }\n",
       "\n",
       "    .dataframe thead th {\n",
       "        text-align: right;\n",
       "    }\n",
       "</style>\n",
       "<table border=\"1\" class=\"dataframe\">\n",
       "  <thead>\n",
       "    <tr style=\"text-align: right;\">\n",
       "      <th></th>\n",
       "      <th>atrasado</th>\n",
       "      <th>dist</th>\n",
       "      <th>sem</th>\n",
       "      <th>Logito</th>\n",
       "      <th>Prob_Evento</th>\n",
       "      <th>Prob_Nao_Evento</th>\n",
       "      <th>loglike</th>\n",
       "    </tr>\n",
       "    <tr>\n",
       "      <th>estudante</th>\n",
       "      <th></th>\n",
       "      <th></th>\n",
       "      <th></th>\n",
       "      <th></th>\n",
       "      <th></th>\n",
       "      <th></th>\n",
       "      <th></th>\n",
       "    </tr>\n",
       "  </thead>\n",
       "  <tbody>\n",
       "    <tr>\n",
       "      <th>Rodrigo</th>\n",
       "      <td>0</td>\n",
       "      <td>11.0</td>\n",
       "      <td>11</td>\n",
       "      <td>1.919262</td>\n",
       "      <td>0.872056</td>\n",
       "      <td>0.127944</td>\n",
       "      <td>-2.056163</td>\n",
       "    </tr>\n",
       "    <tr>\n",
       "      <th>Raquel</th>\n",
       "      <td>0</td>\n",
       "      <td>14.0</td>\n",
       "      <td>11</td>\n",
       "      <td>2.490387</td>\n",
       "      <td>0.923465</td>\n",
       "      <td>0.076535</td>\n",
       "      <td>-2.570009</td>\n",
       "    </tr>\n",
       "  </tbody>\n",
       "</table>\n",
       "</div>"
      ],
      "text/plain": [
       "           atrasado  dist  sem    Logito  Prob_Evento  Prob_Nao_Evento  \\\n",
       "estudante                                                                \n",
       "Rodrigo           0  11.0   11  1.919262     0.872056         0.127944   \n",
       "Raquel            0  14.0   11  2.490387     0.923465         0.076535   \n",
       "\n",
       "            loglike  \n",
       "estudante            \n",
       "Rodrigo   -2.056163  \n",
       "Raquel    -2.570009  "
      ]
     },
     "execution_count": 14,
     "metadata": {},
     "output_type": "execute_result"
    }
   ],
   "source": [
    "#Filtrar loglike -2 \n",
    "dados[dados.loglike<-2]"
   ]
  },
  {
   "cell_type": "markdown",
   "metadata": {},
   "source": [
    "**Note que para o loglike ter um valor negativo alto, a probabilidade do evento tem que ser alto, porém com erro na previsão**"
   ]
  },
  {
   "cell_type": "markdown",
   "metadata": {},
   "source": [
    "### Threshold (Converter probabilidade em Classe , definindo um ponto de corte)"
   ]
  },
  {
   "cell_type": "code",
   "execution_count": 15,
   "metadata": {},
   "outputs": [
    {
     "data": {
      "text/html": [
       "<div>\n",
       "<style scoped>\n",
       "    .dataframe tbody tr th:only-of-type {\n",
       "        vertical-align: middle;\n",
       "    }\n",
       "\n",
       "    .dataframe tbody tr th {\n",
       "        vertical-align: top;\n",
       "    }\n",
       "\n",
       "    .dataframe thead th {\n",
       "        text-align: right;\n",
       "    }\n",
       "</style>\n",
       "<table border=\"1\" class=\"dataframe\">\n",
       "  <thead>\n",
       "    <tr style=\"text-align: right;\">\n",
       "      <th></th>\n",
       "      <th>atrasado</th>\n",
       "      <th>dist</th>\n",
       "      <th>sem</th>\n",
       "      <th>Logito</th>\n",
       "      <th>Prob_Evento</th>\n",
       "      <th>Prob_Nao_Evento</th>\n",
       "      <th>loglike</th>\n",
       "      <th>y_chapeu</th>\n",
       "    </tr>\n",
       "    <tr>\n",
       "      <th>estudante</th>\n",
       "      <th></th>\n",
       "      <th></th>\n",
       "      <th></th>\n",
       "      <th></th>\n",
       "      <th></th>\n",
       "      <th></th>\n",
       "      <th></th>\n",
       "      <th></th>\n",
       "    </tr>\n",
       "  </thead>\n",
       "  <tbody>\n",
       "    <tr>\n",
       "      <th>Gabriela</th>\n",
       "      <td>0</td>\n",
       "      <td>12.5</td>\n",
       "      <td>7</td>\n",
       "      <td>-7.246693</td>\n",
       "      <td>0.000712</td>\n",
       "      <td>0.999288</td>\n",
       "      <td>-0.000712</td>\n",
       "      <td>0</td>\n",
       "    </tr>\n",
       "    <tr>\n",
       "      <th>Patrícia</th>\n",
       "      <td>0</td>\n",
       "      <td>13.3</td>\n",
       "      <td>10</td>\n",
       "      <td>-0.005755</td>\n",
       "      <td>0.498561</td>\n",
       "      <td>0.501439</td>\n",
       "      <td>-0.690274</td>\n",
       "      <td>0</td>\n",
       "    </tr>\n",
       "    <tr>\n",
       "      <th>Gustavo</th>\n",
       "      <td>0</td>\n",
       "      <td>13.4</td>\n",
       "      <td>8</td>\n",
       "      <td>-4.712476</td>\n",
       "      <td>0.008903</td>\n",
       "      <td>0.991097</td>\n",
       "      <td>-0.008942</td>\n",
       "      <td>0</td>\n",
       "    </tr>\n",
       "    <tr>\n",
       "      <th>Letícia</th>\n",
       "      <td>0</td>\n",
       "      <td>23.5</td>\n",
       "      <td>7</td>\n",
       "      <td>-5.152567</td>\n",
       "      <td>0.005751</td>\n",
       "      <td>0.994249</td>\n",
       "      <td>-0.005768</td>\n",
       "      <td>0</td>\n",
       "    </tr>\n",
       "    <tr>\n",
       "      <th>Luiz Ovídio</th>\n",
       "      <td>0</td>\n",
       "      <td>9.5</td>\n",
       "      <td>8</td>\n",
       "      <td>-5.454939</td>\n",
       "      <td>0.004257</td>\n",
       "      <td>0.995743</td>\n",
       "      <td>-0.004266</td>\n",
       "      <td>0</td>\n",
       "    </tr>\n",
       "    <tr>\n",
       "      <th>...</th>\n",
       "      <td>...</td>\n",
       "      <td>...</td>\n",
       "      <td>...</td>\n",
       "      <td>...</td>\n",
       "      <td>...</td>\n",
       "      <td>...</td>\n",
       "      <td>...</td>\n",
       "      <td>...</td>\n",
       "    </tr>\n",
       "    <tr>\n",
       "      <th>Sheila</th>\n",
       "      <td>1</td>\n",
       "      <td>24.0</td>\n",
       "      <td>10</td>\n",
       "      <td>2.031259</td>\n",
       "      <td>0.884040</td>\n",
       "      <td>0.115960</td>\n",
       "      <td>-0.123253</td>\n",
       "      <td>1</td>\n",
       "    </tr>\n",
       "    <tr>\n",
       "      <th>Pedro</th>\n",
       "      <td>1</td>\n",
       "      <td>10.0</td>\n",
       "      <td>10</td>\n",
       "      <td>-0.633993</td>\n",
       "      <td>0.346606</td>\n",
       "      <td>0.653394</td>\n",
       "      <td>-1.059567</td>\n",
       "      <td>0</td>\n",
       "    </tr>\n",
       "    <tr>\n",
       "      <th>Horácio</th>\n",
       "      <td>1</td>\n",
       "      <td>9.4</td>\n",
       "      <td>10</td>\n",
       "      <td>-0.748218</td>\n",
       "      <td>0.321210</td>\n",
       "      <td>0.678790</td>\n",
       "      <td>-1.135661</td>\n",
       "      <td>0</td>\n",
       "    </tr>\n",
       "    <tr>\n",
       "      <th>Leandro</th>\n",
       "      <td>1</td>\n",
       "      <td>14.2</td>\n",
       "      <td>10</td>\n",
       "      <td>0.165583</td>\n",
       "      <td>0.541301</td>\n",
       "      <td>0.458699</td>\n",
       "      <td>-0.613779</td>\n",
       "      <td>1</td>\n",
       "    </tr>\n",
       "    <tr>\n",
       "      <th>Estela</th>\n",
       "      <td>1</td>\n",
       "      <td>1.0</td>\n",
       "      <td>13</td>\n",
       "      <td>4.741270</td>\n",
       "      <td>0.991348</td>\n",
       "      <td>0.008652</td>\n",
       "      <td>-0.008690</td>\n",
       "      <td>1</td>\n",
       "    </tr>\n",
       "  </tbody>\n",
       "</table>\n",
       "<p>100 rows × 8 columns</p>\n",
       "</div>"
      ],
      "text/plain": [
       "             atrasado  dist  sem    Logito  Prob_Evento  Prob_Nao_Evento  \\\n",
       "estudante                                                                  \n",
       "Gabriela            0  12.5    7 -7.246693     0.000712         0.999288   \n",
       "Patrícia            0  13.3   10 -0.005755     0.498561         0.501439   \n",
       "Gustavo             0  13.4    8 -4.712476     0.008903         0.991097   \n",
       "Letícia             0  23.5    7 -5.152567     0.005751         0.994249   \n",
       "Luiz Ovídio         0   9.5    8 -5.454939     0.004257         0.995743   \n",
       "...               ...   ...  ...       ...          ...              ...   \n",
       "Sheila              1  24.0   10  2.031259     0.884040         0.115960   \n",
       "Pedro               1  10.0   10 -0.633993     0.346606         0.653394   \n",
       "Horácio             1   9.4   10 -0.748218     0.321210         0.678790   \n",
       "Leandro             1  14.2   10  0.165583     0.541301         0.458699   \n",
       "Estela              1   1.0   13  4.741270     0.991348         0.008652   \n",
       "\n",
       "              loglike  y_chapeu  \n",
       "estudante                        \n",
       "Gabriela    -0.000712         0  \n",
       "Patrícia    -0.690274         0  \n",
       "Gustavo     -0.008942         0  \n",
       "Letícia     -0.005768         0  \n",
       "Luiz Ovídio -0.004266         0  \n",
       "...               ...       ...  \n",
       "Sheila      -0.123253         1  \n",
       "Pedro       -1.059567         0  \n",
       "Horácio     -1.135661         0  \n",
       "Leandro     -0.613779         1  \n",
       "Estela      -0.008690         1  \n",
       "\n",
       "[100 rows x 8 columns]"
      ]
     },
     "execution_count": 15,
     "metadata": {},
     "output_type": "execute_result"
    }
   ],
   "source": [
    "#Threshold \n",
    "THRESHOLD = 0.5\n",
    "\n",
    "dados['y_chapeu'] = np.where(dados.iloc[:,4] >= 0.5, 1, 0)\n",
    "dados"
   ]
  },
  {
   "cell_type": "markdown",
   "metadata": {},
   "source": [
    "**Definindo um valor de Threshold, convertemos a probabilidade em evento ou não evento**"
   ]
  },
  {
   "cell_type": "markdown",
   "metadata": {},
   "source": [
    "**OBS: Dependendo do valor da escolha do Threshold, pode mudar o número de acertos e erros do modelo**"
   ]
  },
  {
   "cell_type": "markdown",
   "metadata": {},
   "source": [
    "# Parâmetros do modelo:"
   ]
  },
  {
   "cell_type": "markdown",
   "metadata": {},
   "source": [
    "## Teste Chi² - Avaliar se pelo menos um beta tem significância estatística\n",
    "\n"
   ]
  },
  {
   "cell_type": "markdown",
   "metadata": {},
   "source": [
    "- **Objetivo:** Avaliar se pelo menos um beta tem significância estatística para explicar a existência do modelo\n",
    "\n",
    "\n",
    "- Teste igual ao teste F na Regressao linear\n",
    "\n",
    "\n",
    "- Na regressao logistica a distribuição do Logito tende a uma distribuição normal, portanto para ver se os parâmetros sao estatisticamente significantes o p_value vai ser dado através da estatística Z scores\n",
    "\n",
    "\n",
    "- **Parâmetros:**\n",
    "    - **LLo** = Log-Likelihood do modelo criado somente com o parâmetro alpha\n",
    "    - **LLm** = Log-Likelihood do modelo criado com todos os parâmetros\n",
    "    - **Chi²** = -2 (LLo - LLm)\n",
    "\n",
    "\n",
    "- **Resultado:**\n",
    "    - **p_value > 0.05, não rejeita a hipótese nula, betas não tem significância estatística no modelo**\n",
    "    - **p_value < 0.05, rejeita a hipótese nula, betas tem significância estatística no modelo**\n"
   ]
  },
  {
   "cell_type": "code",
   "execution_count": 16,
   "metadata": {},
   "outputs": [
    {
     "name": "stdout",
     "output_type": "stream",
     "text": [
      "Optimization terminated successfully.\n",
      "         Current function value: 0.676859\n",
      "         Iterations 4\n"
     ]
    },
    {
     "data": {
      "text/plain": [
       "-67.68585467349509"
      ]
     },
     "execution_count": 16,
     "metadata": {},
     "output_type": "execute_result"
    }
   ],
   "source": [
    "#LLo = Criar um modelo somente com o parâmetro alpha\n",
    "\n",
    "# Somente a constante = 1\n",
    "x_interc = sm.add_constant(x.values)[:,0] \n",
    "\n",
    "#Criar o modelo\n",
    "modelo2 = sm.Logit(y,x_interc) \n",
    "\n",
    "# Treinar o modelo\n",
    "LLo = modelo2.fit() \n",
    "\n",
    "# Log-Likelihood: Max Verossimilhança\n",
    "LLo.llf"
   ]
  },
  {
   "cell_type": "markdown",
   "metadata": {},
   "source": [
    "**Valor do Loglike somente com o parâmetro alpha, vamos subtrair do loglike do modelo já calculado com todas as variáveis**"
   ]
  },
  {
   "cell_type": "code",
   "execution_count": 17,
   "metadata": {},
   "outputs": [
    {
     "data": {
      "text/plain": [
       "3.3241220793437914e-08"
      ]
     },
     "execution_count": 17,
     "metadata": {},
     "output_type": "execute_result"
    }
   ],
   "source": [
    "#Chi²\n",
    "chi2 = -2*(LLo.llf -modelo_fit.llf )\n",
    "\n",
    "#p_value do teste chi²\n",
    "modelo_fit.llr_pvalue"
   ]
  },
  {
   "cell_type": "markdown",
   "metadata": {},
   "source": [
    "**p_value < 0.05, rejeita a hipótese nula, pelo menos 1 beta tem significância estatística para o modelo**"
   ]
  },
  {
   "cell_type": "markdown",
   "metadata": {},
   "source": [
    "## AIC e BIC para comparar os modelos (igual ao R² Ajustado)"
   ]
  },
  {
   "cell_type": "markdown",
   "metadata": {},
   "source": [
    "- **Parâmetros:**\n",
    "    - **AIC** = Comparar os modelos, igual ao R² ajustado\n",
    "    - **LLm** = Log-Likelihood do modelo criado com todos os parâmetros\n",
    "    - **k** = Numero de parâmetros incluindo o alpha\n"
   ]
  },
  {
   "cell_type": "code",
   "execution_count": 18,
   "metadata": {},
   "outputs": [
    {
     "data": {
      "text/plain": [
       "106.93275908379736"
      ]
     },
     "execution_count": 18,
     "metadata": {},
     "output_type": "execute_result"
    }
   ],
   "source": [
    "#AIC\n",
    "\n",
    "#Parametros:\n",
    "\n",
    "#llf\n",
    "LLm = modelo_fit.llf\n",
    "\n",
    "#k\n",
    "k = len(modelo_fit.params)\n",
    "\n",
    "#Modelo AIC\n",
    "AIC = -2*(LLm)+2*k\n",
    "\n",
    "#OU \n",
    "\n",
    "modelo_fit.aic"
   ]
  },
  {
   "cell_type": "markdown",
   "metadata": {},
   "source": [
    "**O modelo com menor valor do AIC é o modelo que se ajustou melhor aos dados**"
   ]
  },
  {
   "cell_type": "code",
   "execution_count": 19,
   "metadata": {},
   "outputs": [
    {
     "data": {
      "text/plain": [
       "114.74826964176164"
      ]
     },
     "execution_count": 19,
     "metadata": {},
     "output_type": "execute_result"
    }
   ],
   "source": [
    "#BIC \n",
    "\n",
    "#Parametros:\n",
    "\n",
    "#llf\n",
    "LLm = LLm = modelo_fit.llf\n",
    "\n",
    "#t\n",
    "t = len(dados.loglike)\n",
    "\n",
    "#Modelo BIC\n",
    "BIC = -2*(LLm)+3*np.log(t)\n",
    "\n",
    "#OU \n",
    "\n",
    "modelo_fit.bic"
   ]
  },
  {
   "cell_type": "markdown",
   "metadata": {},
   "source": [
    "**Análogo a métrica AIC**"
   ]
  },
  {
   "cell_type": "markdown",
   "metadata": {},
   "source": [
    "# Pseudo R² mcfadden\n",
    "\n",
    "- Para comparar modelos , apensar do nome, a interpretação não é igual ao R² da regressao linear"
   ]
  },
  {
   "cell_type": "code",
   "execution_count": 20,
   "metadata": {},
   "outputs": [
    {
     "data": {
      "text/plain": [
       "0.2544028617893678"
      ]
     },
     "execution_count": 20,
     "metadata": {},
     "output_type": "execute_result"
    }
   ],
   "source": [
    "# Pseudo R² mcfadden \n",
    "\n",
    "# LLo = Log-Likelihood do modelo so com o alpha\n",
    "LLo = LLo.llf\n",
    "\n",
    "# LLm = Log-Likelihood com todos os parâmetros \n",
    "LLm = modelo_fit.llf\n",
    "\n",
    "#Criar parâmetro \n",
    "mf = ((-2*LLo)-(-2*LLm))/(-2*LLo)\n",
    "mf\n",
    "\n"
   ]
  },
  {
   "cell_type": "markdown",
   "metadata": {},
   "source": [
    "**Quanto maior o valor do Pseudo R² melhor o modelo**"
   ]
  },
  {
   "cell_type": "markdown",
   "metadata": {},
   "source": [
    "# Avaliação do Modelo"
   ]
  },
  {
   "cell_type": "markdown",
   "metadata": {},
   "source": [
    "## Matriz de confusão\n",
    "\n",
    "- É um tabela que mostra as frequências de classificação para cada classe do modelo"
   ]
  },
  {
   "cell_type": "code",
   "execution_count": 21,
   "metadata": {},
   "outputs": [
    {
     "data": {
      "image/png": "[encoded data removed]",
      "text/plain": [
       "<Figure size 432x288 with 2 Axes>"
      ]
     },
     "metadata": {
      "needs_background": "light"
     },
     "output_type": "display_data"
    }
   ],
   "source": [
    "from sklearn.metrics import confusion_matrix\n",
    "import seaborn as sns\n",
    "cm = confusion_matrix(y,dados['y_chapeu'])\n",
    "sns.heatmap(cm,annot=True,fmt='d');"
   ]
  },
  {
   "cell_type": "markdown",
   "metadata": {},
   "source": [
    "**Visão geral de todas as métricas**"
   ]
  },
  {
   "cell_type": "markdown",
   "metadata": {},
   "source": [
    "## Acurácia"
   ]
  },
  {
   "cell_type": "code",
   "execution_count": 22,
   "metadata": {},
   "outputs": [
    {
     "name": "stdout",
     "output_type": "stream",
     "text": [
      "Acuracia: 71.0%\n"
     ]
    }
   ],
   "source": [
    "#Acuracia\n",
    "from sklearn.metrics import accuracy_score\n",
    "acuracia = accuracy_score(y,dados['y_chapeu'])\n",
    "print(f'Acuracia: {acuracia*100:.1f}%')"
   ]
  },
  {
   "cell_type": "markdown",
   "metadata": {},
   "source": [
    "**Total de acertos do modelo em porcentagem**"
   ]
  },
  {
   "cell_type": "markdown",
   "metadata": {},
   "source": [
    "## Recall(Sensitividade)"
   ]
  },
  {
   "cell_type": "code",
   "execution_count": 23,
   "metadata": {},
   "outputs": [
    {
     "name": "stdout",
     "output_type": "stream",
     "text": [
      "recall: 78.0%\n"
     ]
    }
   ],
   "source": [
    "#Recall(Sensitividade)\n",
    "from sklearn.metrics import recall_score\n",
    "recall = recall_score(y,dados['y_chapeu'])\n",
    "print(f'recall: {recall*100:.1f}%')"
   ]
  },
  {
   "cell_type": "markdown",
   "metadata": {},
   "source": [
    "**Taxa de acerto dos verdadeiros positivos**"
   ]
  },
  {
   "cell_type": "markdown",
   "metadata": {},
   "source": [
    "## Specificity"
   ]
  },
  {
   "cell_type": "code",
   "execution_count": 24,
   "metadata": {},
   "outputs": [
    {
     "name": "stdout",
     "output_type": "stream",
     "text": [
      "specificity: 61.0%\n"
     ]
    }
   ],
   "source": [
    "# specificity \n",
    "tn, fp, fn, tp = confusion_matrix(y,dados['y_chapeu']).ravel()\n",
    "specificity = tn / (tn+fp)\n",
    "print(f'specificity: {specificity*100:.1f}%')"
   ]
  },
  {
   "cell_type": "markdown",
   "metadata": {},
   "source": [
    "**Taxa de acerto dos verdadeiros Negativos**"
   ]
  },
  {
   "cell_type": "markdown",
   "metadata": {},
   "source": [
    "## Precisão"
   ]
  },
  {
   "cell_type": "code",
   "execution_count": 25,
   "metadata": {},
   "outputs": [
    {
     "name": "stdout",
     "output_type": "stream",
     "text": [
      "Precision: 74.2%\n"
     ]
    }
   ],
   "source": [
    "from sklearn.metrics import precision_score\n",
    "precision = precision_score(y, dados[\"y_chapeu\"])\n",
    "print(f'Precision: {precision*100:.1f}%')"
   ]
  },
  {
   "cell_type": "markdown",
   "metadata": {},
   "source": [
    "**Dentre todas as classificações de classe Positivo que o modelo fez, quantas estão corretas**"
   ]
  },
  {
   "cell_type": "markdown",
   "metadata": {},
   "source": [
    "## Curva ROC"
   ]
  },
  {
   "cell_type": "code",
   "execution_count": 26,
   "metadata": {},
   "outputs": [
    {
     "ename": "KeyError",
     "evalue": "'Probabilidade'",
     "output_type": "error",
     "traceback": [
      "\u001b[1;31m---------------------------------------------------------------------------\u001b[0m",
      "\u001b[1;31mKeyError\u001b[0m                                  Traceback (most recent call last)",
      "File \u001b[1;32m~\\anaconda3\\lib\\site-packages\\pandas\\core\\indexes\\base.py:3621\u001b[0m, in \u001b[0;36mIndex.get_loc\u001b[1;34m(self, key, method, tolerance)\u001b[0m\n\u001b[0;32m   3620\u001b[0m \u001b[38;5;28;01mtry\u001b[39;00m:\n\u001b[1;32m-> 3621\u001b[0m     \u001b[38;5;28;01mreturn\u001b[39;00m \u001b[38;5;28;43mself\u001b[39;49m\u001b[38;5;241;43m.\u001b[39;49m\u001b[43m_engine\u001b[49m\u001b[38;5;241;43m.\u001b[39;49m\u001b[43mget_loc\u001b[49m\u001b[43m(\u001b[49m\u001b[43mcasted_key\u001b[49m\u001b[43m)\u001b[49m\n\u001b[0;32m   3622\u001b[0m \u001b[38;5;28;01mexcept\u001b[39;00m \u001b[38;5;167;01mKeyError\u001b[39;00m \u001b[38;5;28;01mas\u001b[39;00m err:\n",
      "File \u001b[1;32m~\\anaconda3\\lib\\site-packages\\pandas\\_libs\\index.pyx:136\u001b[0m, in \u001b[0;36mpandas._libs.index.IndexEngine.get_loc\u001b[1;34m()\u001b[0m\n",
      "File \u001b[1;32m~\\anaconda3\\lib\\site-packages\\pandas\\_libs\\index.pyx:163\u001b[0m, in \u001b[0;36mpandas._libs.index.IndexEngine.get_loc\u001b[1;34m()\u001b[0m\n",
      "File \u001b[1;32mpandas\\_libs\\hashtable_class_helper.pxi:5198\u001b[0m, in \u001b[0;36mpandas._libs.hashtable.PyObjectHashTable.get_item\u001b[1;34m()\u001b[0m\n",
      "File \u001b[1;32mpandas\\_libs\\hashtable_class_helper.pxi:5206\u001b[0m, in \u001b[0;36mpandas._libs.hashtable.PyObjectHashTable.get_item\u001b[1;34m()\u001b[0m\n",
      "\u001b[1;31mKeyError\u001b[0m: 'Probabilidade'",
      "\nThe above exception was the direct cause of the following exception:\n",
      "\u001b[1;31mKeyError\u001b[0m                                  Traceback (most recent call last)",
      "Input \u001b[1;32mIn [26]\u001b[0m, in \u001b[0;36m<cell line: 3>\u001b[1;34m()\u001b[0m\n\u001b[0;32m      1\u001b[0m \u001b[38;5;66;03m#Grafico\u001b[39;00m\n\u001b[0;32m      2\u001b[0m \u001b[38;5;28;01mfrom\u001b[39;00m \u001b[38;5;21;01msklearn\u001b[39;00m \u001b[38;5;28;01mimport\u001b[39;00m metrics\n\u001b[1;32m----> 3\u001b[0m roc_fpr,roc_tpr,cutoff\u001b[38;5;241m=\u001b[39mmetrics\u001b[38;5;241m.\u001b[39mroc_curve(y,\u001b[43mdados\u001b[49m\u001b[43m[\u001b[49m\u001b[38;5;124;43m\"\u001b[39;49m\u001b[38;5;124;43mProbabilidade\u001b[39;49m\u001b[38;5;124;43m\"\u001b[39;49m\u001b[43m]\u001b[49m)\n\u001b[0;32m      4\u001b[0m plt\u001b[38;5;241m.\u001b[39mplot(roc_fpr,roc_tpr,linestyle\u001b[38;5;241m=\u001b[39m\u001b[38;5;124m'\u001b[39m\u001b[38;5;124m--\u001b[39m\u001b[38;5;124m'\u001b[39m)\n\u001b[0;32m      7\u001b[0m plt\u001b[38;5;241m.\u001b[39mxlabel(\u001b[38;5;124m'\u001b[39m\u001b[38;5;124mEspecificidade\u001b[39m\u001b[38;5;124m'\u001b[39m)\n",
      "File \u001b[1;32m~\\anaconda3\\lib\\site-packages\\pandas\\core\\frame.py:3505\u001b[0m, in \u001b[0;36mDataFrame.__getitem__\u001b[1;34m(self, key)\u001b[0m\n\u001b[0;32m   3503\u001b[0m \u001b[38;5;28;01mif\u001b[39;00m \u001b[38;5;28mself\u001b[39m\u001b[38;5;241m.\u001b[39mcolumns\u001b[38;5;241m.\u001b[39mnlevels \u001b[38;5;241m>\u001b[39m \u001b[38;5;241m1\u001b[39m:\n\u001b[0;32m   3504\u001b[0m     \u001b[38;5;28;01mreturn\u001b[39;00m \u001b[38;5;28mself\u001b[39m\u001b[38;5;241m.\u001b[39m_getitem_multilevel(key)\n\u001b[1;32m-> 3505\u001b[0m indexer \u001b[38;5;241m=\u001b[39m \u001b[38;5;28;43mself\u001b[39;49m\u001b[38;5;241;43m.\u001b[39;49m\u001b[43mcolumns\u001b[49m\u001b[38;5;241;43m.\u001b[39;49m\u001b[43mget_loc\u001b[49m\u001b[43m(\u001b[49m\u001b[43mkey\u001b[49m\u001b[43m)\u001b[49m\n\u001b[0;32m   3506\u001b[0m \u001b[38;5;28;01mif\u001b[39;00m is_integer(indexer):\n\u001b[0;32m   3507\u001b[0m     indexer \u001b[38;5;241m=\u001b[39m [indexer]\n",
      "File \u001b[1;32m~\\anaconda3\\lib\\site-packages\\pandas\\core\\indexes\\base.py:3623\u001b[0m, in \u001b[0;36mIndex.get_loc\u001b[1;34m(self, key, method, tolerance)\u001b[0m\n\u001b[0;32m   3621\u001b[0m     \u001b[38;5;28;01mreturn\u001b[39;00m \u001b[38;5;28mself\u001b[39m\u001b[38;5;241m.\u001b[39m_engine\u001b[38;5;241m.\u001b[39mget_loc(casted_key)\n\u001b[0;32m   3622\u001b[0m \u001b[38;5;28;01mexcept\u001b[39;00m \u001b[38;5;167;01mKeyError\u001b[39;00m \u001b[38;5;28;01mas\u001b[39;00m err:\n\u001b[1;32m-> 3623\u001b[0m     \u001b[38;5;28;01mraise\u001b[39;00m \u001b[38;5;167;01mKeyError\u001b[39;00m(key) \u001b[38;5;28;01mfrom\u001b[39;00m \u001b[38;5;21;01merr\u001b[39;00m\n\u001b[0;32m   3624\u001b[0m \u001b[38;5;28;01mexcept\u001b[39;00m \u001b[38;5;167;01mTypeError\u001b[39;00m:\n\u001b[0;32m   3625\u001b[0m     \u001b[38;5;66;03m# If we have a listlike key, _check_indexing_error will raise\u001b[39;00m\n\u001b[0;32m   3626\u001b[0m     \u001b[38;5;66;03m#  InvalidIndexError. Otherwise we fall through and re-raise\u001b[39;00m\n\u001b[0;32m   3627\u001b[0m     \u001b[38;5;66;03m#  the TypeError.\u001b[39;00m\n\u001b[0;32m   3628\u001b[0m     \u001b[38;5;28mself\u001b[39m\u001b[38;5;241m.\u001b[39m_check_indexing_error(key)\n",
      "\u001b[1;31mKeyError\u001b[0m: 'Probabilidade'"
     ]
    }
   ],
   "source": [
    "#Grafico\n",
    "from sklearn import metrics\n",
    "roc_fpr,roc_tpr,cutoff=metrics.roc_curve(y,dados[\"Probabilidade\"])\n",
    "plt.plot(roc_fpr,roc_tpr,linestyle='--')\n",
    "\n",
    "\n",
    "plt.xlabel('Especificidade')\n",
    "plt.ylabel('Sensitividade');"
   ]
  },
  {
   "cell_type": "markdown",
   "metadata": {},
   "source": [
    "**Cada ponto em azul determina o cutoff do modelo**"
   ]
  },
  {
   "cell_type": "markdown",
   "metadata": {},
   "source": [
    "## Cut-off"
   ]
  },
  {
   "cell_type": "markdown",
   "metadata": {},
   "source": [
    "- É o ponto de corte da probabilidade do evento ocorrer ou não"
   ]
  },
  {
   "cell_type": "code",
   "execution_count": null,
   "metadata": {},
   "outputs": [],
   "source": [
    "#Tabela da curva Roc\n",
    "roc_tab = pd.DataFrame(1-roc_fpr,columns=['Especificidade'])\n",
    "roc_tab['Sensitividade'] = roc_tpr\n",
    "roc_tab['Cutoff']= cutoff\n",
    "roc_tab.iloc[1:,:].head()"
   ]
  },
  {
   "cell_type": "markdown",
   "metadata": {},
   "source": [
    "**Observamos na tabela, que dependendo do ponto de corte, os acertos e erros do modelo vão ser totalmente diferentes**"
   ]
  },
  {
   "cell_type": "markdown",
   "metadata": {},
   "source": [
    "## Auc e Gini"
   ]
  },
  {
   "cell_type": "markdown",
   "metadata": {},
   "source": [
    "- **AUC** = Área abaixo da curva ROC(Área total do gráfico), vai de 0 a 1, quanto maior o valor, melhor o modelo \n",
    "\n",
    "\n",
    "- **GINI** = Área abaixo da curva ROC(metade da área do gráfico), vai de 0 a 1, quanto maior o valor, melhor o modelo\n"
   ]
  },
  {
   "cell_type": "code",
   "execution_count": null,
   "metadata": {},
   "outputs": [],
   "source": [
    "#Calculo\n",
    "from sklearn.metrics import roc_curve, roc_auc_score\n",
    "roc_score = roc_auc_score(y,dados[\"Probabilidade\"]);\n",
    "print(f'AUC: {roc_score*100:.2f}%')\n",
    "gini =(roc_score-0.5) /0.5\n",
    "print(f'GINI: {gini*100:.2f}%')"
   ]
  },
  {
   "cell_type": "markdown",
   "metadata": {},
   "source": [
    "# Conclusão"
   ]
  },
  {
   "cell_type": "markdown",
   "metadata": {},
   "source": [
    "**Para modelos logísticos usamos como a principal métrica o Log-likelihood, com ele conseguimos determinar o melhor modelo, temos várias outras metricas que podem auxiliar no modelo, porém para conseguir o melhor ajuste nos dados, a inclusão de variáveis estatisticamente significantes é a única maneira de chegar no melhor fit, além é claro de escolher o modelo correto de acordo com a distribuição dos dados**"
   ]
  }
 ],
 "metadata": {
  "anaconda-cloud": {},
  "kernelspec": {
   "display_name": "Python 3 (ipykernel)",
   "language": "python",
   "name": "python3"
  },
  "language_info": {
   "codemirror_mode": {
    "name": "ipython",
    "version": 3
   },
   "file_extension": ".py",
   "mimetype": "text/x-python",
   "name": "python",
   "nbconvert_exporter": "python",
   "pygments_lexer": "ipython3",
   "version": "3.9.12"
  }
 },
 "nbformat": 4,
 "nbformat_minor": 1
}
