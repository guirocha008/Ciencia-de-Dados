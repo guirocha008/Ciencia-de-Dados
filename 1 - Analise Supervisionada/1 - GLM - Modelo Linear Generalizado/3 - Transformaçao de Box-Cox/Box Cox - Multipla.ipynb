{
 "cells": [
  {
   "cell_type": "markdown",
   "metadata": {},
   "source": [
    "# $$Transformação~de~Box- Cox: Regressão~Linear~Multipla $$"
   ]
  },
  {
   "cell_type": "markdown",
   "metadata": {},
   "source": [
    "### $$Conceito:$$\n",
    "\n",
    "**Transformação de Box cox** é definida como uma forma de transformar variáveis dependentes não normais em uma forma normal através da transformação logarítmica\n",
    "\n",
    "\n",
    "Quando o modelo de regressão de mínimos quadrados, que assume que os erros possuem distribuição normal com variância constante é violado, torna-se necessário a utilização de algum procedimento visando à correção desta falha, portanto pode-se utilizar o método de transformação Box-Cox que é um tipo de transformação para tentar normalizar os dados\n",
    "\n",
    "\n",
    "O **valor de lambda** é considerado melhor se for capaz de aproximar a curva não normal de uma curva normal\n",
    "\n",
    "\n",
    "**OBS:** Box-cox não garante a normalidade, portanto é sempre necessário verificar a distribuição dos resíduos após a transformação da variável."
   ]
  },
  {
   "cell_type": "markdown",
   "metadata": {},
   "source": [
    "__------------------------------------------------------------------------------------------------------------------------------------------------------------------------------------------------------------------__\n",
    "\n",
    "\n",
    "__------------------------------------------------------------------------------------------------------------------------------------------------------------------------------------------------------------------__"
   ]
  },
  {
   "cell_type": "markdown",
   "metadata": {},
   "source": [
    "## $$Objetivo:$$  \n",
    "\n",
    "## $$Usar~a~ transformação ~de~ Box-Cox ~na ~variável~ target$$$$para~ que~ os~ residuos~ sejam ~aderentes~ à~ normalidade$$"
   ]
  },
  {
   "cell_type": "markdown",
   "metadata": {},
   "source": [
    "__------------------------------------------------------------------------------------------------------------------------------------------------------------------------------------------------------------------__\n",
    "\n",
    "\n",
    "__------------------------------------------------------------------------------------------------------------------------------------------------------------------------------------------------------------------__"
   ]
  },
  {
   "cell_type": "code",
   "execution_count": 1,
   "metadata": {},
   "outputs": [],
   "source": [
    "#Pacotes\n",
    "import numpy as np \n",
    "import pandas as pd \n",
    "import seaborn as sns\n",
    "import matplotlib\n",
    "import matplotlib.pyplot as plt"
   ]
  },
  {
   "cell_type": "markdown",
   "metadata": {},
   "source": [
    "# Banco de dados "
   ]
  },
  {
   "cell_type": "code",
   "execution_count": 2,
   "metadata": {},
   "outputs": [
    {
     "data": {
      "text/html": [
       "<div>\n",
       "<style scoped>\n",
       "    .dataframe tbody tr th:only-of-type {\n",
       "        vertical-align: middle;\n",
       "    }\n",
       "\n",
       "    .dataframe tbody tr th {\n",
       "        vertical-align: top;\n",
       "    }\n",
       "\n",
       "    .dataframe thead th {\n",
       "        text-align: right;\n",
       "    }\n",
       "</style>\n",
       "<table border=\"1\" class=\"dataframe\">\n",
       "  <thead>\n",
       "    <tr style=\"text-align: right;\">\n",
       "      <th></th>\n",
       "      <th>retorno</th>\n",
       "      <th>disclosure</th>\n",
       "      <th>endividamento</th>\n",
       "      <th>ativos</th>\n",
       "      <th>liquidez</th>\n",
       "    </tr>\n",
       "    <tr>\n",
       "      <th>empresa</th>\n",
       "      <th></th>\n",
       "      <th></th>\n",
       "      <th></th>\n",
       "      <th></th>\n",
       "      <th></th>\n",
       "    </tr>\n",
       "  </thead>\n",
       "  <tbody>\n",
       "    <tr>\n",
       "      <th>Adidas</th>\n",
       "      <td>63.67</td>\n",
       "      <td>83</td>\n",
       "      <td>1.3</td>\n",
       "      <td>3967</td>\n",
       "      <td>14.3</td>\n",
       "    </tr>\n",
       "    <tr>\n",
       "      <th>BASF</th>\n",
       "      <td>55.49</td>\n",
       "      <td>91</td>\n",
       "      <td>33.9</td>\n",
       "      <td>5450</td>\n",
       "      <td>16.8</td>\n",
       "    </tr>\n",
       "    <tr>\n",
       "      <th>Bayer</th>\n",
       "      <td>52.42</td>\n",
       "      <td>77</td>\n",
       "      <td>36.1</td>\n",
       "      <td>4327</td>\n",
       "      <td>15.5</td>\n",
       "    </tr>\n",
       "    <tr>\n",
       "      <th>BSH</th>\n",
       "      <td>54.00</td>\n",
       "      <td>90</td>\n",
       "      <td>20.8</td>\n",
       "      <td>4109</td>\n",
       "      <td>16.8</td>\n",
       "    </tr>\n",
       "    <tr>\n",
       "      <th>Bosch</th>\n",
       "      <td>68.01</td>\n",
       "      <td>93</td>\n",
       "      <td>14.1</td>\n",
       "      <td>4458</td>\n",
       "      <td>17.0</td>\n",
       "    </tr>\n",
       "    <tr>\n",
       "      <th>...</th>\n",
       "      <td>...</td>\n",
       "      <td>...</td>\n",
       "      <td>...</td>\n",
       "      <td>...</td>\n",
       "      <td>...</td>\n",
       "    </tr>\n",
       "    <tr>\n",
       "      <th>DuPont</th>\n",
       "      <td>39.85</td>\n",
       "      <td>41</td>\n",
       "      <td>49.5</td>\n",
       "      <td>2996</td>\n",
       "      <td>10.5</td>\n",
       "    </tr>\n",
       "    <tr>\n",
       "      <th>ExxonMobil</th>\n",
       "      <td>44.16</td>\n",
       "      <td>35</td>\n",
       "      <td>16.8</td>\n",
       "      <td>3622</td>\n",
       "      <td>12.3</td>\n",
       "    </tr>\n",
       "    <tr>\n",
       "      <th>FedEx</th>\n",
       "      <td>45.38</td>\n",
       "      <td>24</td>\n",
       "      <td>16.1</td>\n",
       "      <td>2972</td>\n",
       "      <td>9.7</td>\n",
       "    </tr>\n",
       "    <tr>\n",
       "      <th>Ford Motors</th>\n",
       "      <td>45.25</td>\n",
       "      <td>68</td>\n",
       "      <td>34.8</td>\n",
       "      <td>4691</td>\n",
       "      <td>8.9</td>\n",
       "    </tr>\n",
       "    <tr>\n",
       "      <th>General Electric</th>\n",
       "      <td>33.28</td>\n",
       "      <td>14</td>\n",
       "      <td>40.0</td>\n",
       "      <td>2303</td>\n",
       "      <td>8.0</td>\n",
       "    </tr>\n",
       "  </tbody>\n",
       "</table>\n",
       "<p>124 rows × 5 columns</p>\n",
       "</div>"
      ],
      "text/plain": [
       "                  retorno  disclosure  endividamento  ativos  liquidez\n",
       "empresa                                                               \n",
       "Adidas              63.67          83            1.3    3967      14.3\n",
       "BASF                55.49          91           33.9    5450      16.8\n",
       "Bayer               52.42          77           36.1    4327      15.5\n",
       "BSH                 54.00          90           20.8    4109      16.8\n",
       "Bosch               68.01          93           14.1    4458      17.0\n",
       "...                   ...         ...            ...     ...       ...\n",
       "DuPont              39.85          41           49.5    2996      10.5\n",
       "ExxonMobil          44.16          35           16.8    3622      12.3\n",
       "FedEx               45.38          24           16.1    2972       9.7\n",
       "Ford Motors         45.25          68           34.8    4691       8.9\n",
       "General Electric    33.28          14           40.0    2303       8.0\n",
       "\n",
       "[124 rows x 5 columns]"
      ]
     },
     "execution_count": 2,
     "metadata": {},
     "output_type": "execute_result"
    }
   ],
   "source": [
    "#Carregar tabela\n",
    "dados = pd.read_table(\"empresas.csv\",sep=\",\",encoding=\"latin-1\")\n",
    "dados = dados.set_index('empresa')\n",
    "dados\n"
   ]
  },
  {
   "cell_type": "markdown",
   "metadata": {},
   "source": [
    "**Tabela com 124 observações e 5 variáveis**"
   ]
  },
  {
   "cell_type": "markdown",
   "metadata": {},
   "source": [
    "# $$Dicionário~ de~ Dados~ das~ Variáveis$$ \n",
    "\n",
    "### **$$Variáveis:$$**\n",
    "\n",
    "**empresa:** Nome da Empresa\n",
    "\n",
    "\n",
    "**retorno:** Retorno da ação negociada no mercado em determinado período em percentual\n",
    "\n",
    "    \n",
    "**disclosure:** Grau(nota) de transparência com que as informações contábil e financeira são apresentadas no mercado\n",
    "\n",
    "\n",
    "**endividamento:** Endividamento em percentual do patrimônio líquido da empresa \n",
    "\n",
    "\n",
    "**ativos:** Ativos totais da empresa em Milhões de dólares\n",
    "\n",
    "\n",
    "**liquidez:** Quanto da dívida no curto prazo a empresa consegue honrar\n",
    "\n",
    "\n",
    "    \n"
   ]
  },
  {
   "cell_type": "markdown",
   "metadata": {},
   "source": [
    "# Análise Exploratória"
   ]
  },
  {
   "cell_type": "code",
   "execution_count": 3,
   "metadata": {},
   "outputs": [
    {
     "name": "stdout",
     "output_type": "stream",
     "text": [
      "<class 'pandas.core.frame.DataFrame'>\n",
      "Index: 124 entries, Adidas to General Electric\n",
      "Data columns (total 5 columns):\n",
      " #   Column         Non-Null Count  Dtype  \n",
      "---  ------         --------------  -----  \n",
      " 0   retorno        124 non-null    float64\n",
      " 1   disclosure     124 non-null    int64  \n",
      " 2   endividamento  124 non-null    float64\n",
      " 3   ativos         124 non-null    int64  \n",
      " 4   liquidez       124 non-null    float64\n",
      "dtypes: float64(3), int64(2)\n",
      "memory usage: 5.8+ KB\n"
     ]
    }
   ],
   "source": [
    "#Info da tabela\n",
    "dados.info()"
   ]
  },
  {
   "cell_type": "markdown",
   "metadata": {},
   "source": [
    "**Todas variáveis são quantitativas**"
   ]
  },
  {
   "cell_type": "code",
   "execution_count": 4,
   "metadata": {},
   "outputs": [
    {
     "data": {
      "text/html": [
       "<div>\n",
       "<style scoped>\n",
       "    .dataframe tbody tr th:only-of-type {\n",
       "        vertical-align: middle;\n",
       "    }\n",
       "\n",
       "    .dataframe tbody tr th {\n",
       "        vertical-align: top;\n",
       "    }\n",
       "\n",
       "    .dataframe thead th {\n",
       "        text-align: right;\n",
       "    }\n",
       "</style>\n",
       "<table border=\"1\" class=\"dataframe\">\n",
       "  <thead>\n",
       "    <tr style=\"text-align: right;\">\n",
       "      <th></th>\n",
       "      <th>retorno</th>\n",
       "      <th>disclosure</th>\n",
       "      <th>endividamento</th>\n",
       "      <th>ativos</th>\n",
       "      <th>liquidez</th>\n",
       "    </tr>\n",
       "  </thead>\n",
       "  <tbody>\n",
       "    <tr>\n",
       "      <th>count</th>\n",
       "      <td>124.000000</td>\n",
       "      <td>124.000000</td>\n",
       "      <td>124.000000</td>\n",
       "      <td>124.000000</td>\n",
       "      <td>124.000000</td>\n",
       "    </tr>\n",
       "    <tr>\n",
       "      <th>mean</th>\n",
       "      <td>46.195484</td>\n",
       "      <td>49.677419</td>\n",
       "      <td>27.734677</td>\n",
       "      <td>3739.064516</td>\n",
       "      <td>12.300000</td>\n",
       "    </tr>\n",
       "    <tr>\n",
       "      <th>std</th>\n",
       "      <td>15.075886</td>\n",
       "      <td>31.338059</td>\n",
       "      <td>12.454287</td>\n",
       "      <td>1538.500462</td>\n",
       "      <td>3.141746</td>\n",
       "    </tr>\n",
       "    <tr>\n",
       "      <th>min</th>\n",
       "      <td>21.030000</td>\n",
       "      <td>6.000000</td>\n",
       "      <td>1.200000</td>\n",
       "      <td>1851.000000</td>\n",
       "      <td>7.900000</td>\n",
       "    </tr>\n",
       "    <tr>\n",
       "      <th>25%</th>\n",
       "      <td>33.840000</td>\n",
       "      <td>18.000000</td>\n",
       "      <td>18.525000</td>\n",
       "      <td>2597.000000</td>\n",
       "      <td>9.300000</td>\n",
       "    </tr>\n",
       "    <tr>\n",
       "      <th>50%</th>\n",
       "      <td>44.175000</td>\n",
       "      <td>41.000000</td>\n",
       "      <td>24.950000</td>\n",
       "      <td>3476.000000</td>\n",
       "      <td>12.200000</td>\n",
       "    </tr>\n",
       "    <tr>\n",
       "      <th>75%</th>\n",
       "      <td>58.205000</td>\n",
       "      <td>83.000000</td>\n",
       "      <td>34.125000</td>\n",
       "      <td>4458.000000</td>\n",
       "      <td>15.800000</td>\n",
       "    </tr>\n",
       "    <tr>\n",
       "      <th>max</th>\n",
       "      <td>86.180000</td>\n",
       "      <td>98.000000</td>\n",
       "      <td>64.900000</td>\n",
       "      <td>9010.000000</td>\n",
       "      <td>17.000000</td>\n",
       "    </tr>\n",
       "  </tbody>\n",
       "</table>\n",
       "</div>"
      ],
      "text/plain": [
       "          retorno  disclosure  endividamento       ativos    liquidez\n",
       "count  124.000000  124.000000     124.000000   124.000000  124.000000\n",
       "mean    46.195484   49.677419      27.734677  3739.064516   12.300000\n",
       "std     15.075886   31.338059      12.454287  1538.500462    3.141746\n",
       "min     21.030000    6.000000       1.200000  1851.000000    7.900000\n",
       "25%     33.840000   18.000000      18.525000  2597.000000    9.300000\n",
       "50%     44.175000   41.000000      24.950000  3476.000000   12.200000\n",
       "75%     58.205000   83.000000      34.125000  4458.000000   15.800000\n",
       "max     86.180000   98.000000      64.900000  9010.000000   17.000000"
      ]
     },
     "execution_count": 4,
     "metadata": {},
     "output_type": "execute_result"
    }
   ],
   "source": [
    "#Descrição dos dados\n",
    "dados.describe()"
   ]
  },
  {
   "cell_type": "code",
   "execution_count": 5,
   "metadata": {},
   "outputs": [
    {
     "data": {
      "text/plain": [
       "<AxesSubplot:>"
      ]
     },
     "execution_count": 5,
     "metadata": {},
     "output_type": "execute_result"
    },
    {
     "data": {
      "image/png": "[encoded data removed]",
      "text/plain": [
       "<Figure size 720x432 with 2 Axes>"
      ]
     },
     "metadata": {
      "needs_background": "light"
     },
     "output_type": "display_data"
    }
   ],
   "source": [
    "#Correlação\n",
    "plt.figure(figsize=(10, 6))\n",
    "sns.heatmap(dados.corr(),annot = True)"
   ]
  },
  {
   "cell_type": "markdown",
   "metadata": {},
   "source": [
    "**A única variável que tem pouca ou nenhuma correlação com as outras variáveis é a 'endividamento'**"
   ]
  },
  {
   "cell_type": "markdown",
   "metadata": {},
   "source": [
    "# Modelagem"
   ]
  },
  {
   "cell_type": "code",
   "execution_count": 6,
   "metadata": {},
   "outputs": [],
   "source": [
    "#Separar as variáveis X e Y\n",
    "\n",
    "x = dados[['disclosure','endividamento', 'ativos', 'liquidez']]\n",
    "y = dados['retorno']\n"
   ]
  },
  {
   "cell_type": "markdown",
   "metadata": {},
   "source": [
    "**Separar as variáveis explicativas da variável target**"
   ]
  },
  {
   "cell_type": "code",
   "execution_count": 7,
   "metadata": {},
   "outputs": [
    {
     "data": {
      "text/html": [
       "<table class=\"simpletable\">\n",
       "<caption>OLS Regression Results</caption>\n",
       "<tr>\n",
       "  <th>Dep. Variable:</th>            <td>y</td>        <th>  R-squared:         </th> <td>   0.833</td>\n",
       "</tr>\n",
       "<tr>\n",
       "  <th>Model:</th>                   <td>OLS</td>       <th>  Adj. R-squared:    </th> <td>   0.827</td>\n",
       "</tr>\n",
       "<tr>\n",
       "  <th>Method:</th>             <td>Least Squares</td>  <th>  F-statistic:       </th> <td>   147.9</td>\n",
       "</tr>\n",
       "<tr>\n",
       "  <th>Date:</th>             <td>Thu, 14 Jul 2022</td> <th>  Prob (F-statistic):</th> <td>3.35e-45</td>\n",
       "</tr>\n",
       "<tr>\n",
       "  <th>Time:</th>                 <td>08:49:18</td>     <th>  Log-Likelihood:    </th> <td> -401.07</td>\n",
       "</tr>\n",
       "<tr>\n",
       "  <th>No. Observations:</th>      <td>   124</td>      <th>  AIC:               </th> <td>   812.1</td>\n",
       "</tr>\n",
       "<tr>\n",
       "  <th>Df Residuals:</th>          <td>   119</td>      <th>  BIC:               </th> <td>   826.2</td>\n",
       "</tr>\n",
       "<tr>\n",
       "  <th>Df Model:</th>              <td>     4</td>      <th>                     </th>     <td> </td>   \n",
       "</tr>\n",
       "<tr>\n",
       "  <th>Covariance Type:</th>      <td>nonrobust</td>    <th>                     </th>     <td> </td>   \n",
       "</tr>\n",
       "</table>\n",
       "<table class=\"simpletable\">\n",
       "<tr>\n",
       "        <td></td>           <th>coef</th>     <th>std err</th>      <th>t</th>      <th>P>|t|</th>  <th>[0.025</th>    <th>0.975]</th>  \n",
       "</tr>\n",
       "<tr>\n",
       "  <th>const</th>         <td>    6.0506</td> <td>    4.080</td> <td>    1.483</td> <td> 0.141</td> <td>   -2.028</td> <td>   14.129</td>\n",
       "</tr>\n",
       "<tr>\n",
       "  <th>disclosure</th>    <td>    0.1067</td> <td>    0.048</td> <td>    2.227</td> <td> 0.028</td> <td>    0.012</td> <td>    0.202</td>\n",
       "</tr>\n",
       "<tr>\n",
       "  <th>endividamento</th> <td>   -0.0882</td> <td>    0.051</td> <td>   -1.723</td> <td> 0.087</td> <td>   -0.190</td> <td>    0.013</td>\n",
       "</tr>\n",
       "<tr>\n",
       "  <th>ativos</th>        <td>    0.0035</td> <td>    0.001</td> <td>    5.134</td> <td> 0.000</td> <td>    0.002</td> <td>    0.005</td>\n",
       "</tr>\n",
       "<tr>\n",
       "  <th>liquidez</th>      <td>    1.9762</td> <td>    0.396</td> <td>    4.987</td> <td> 0.000</td> <td>    1.191</td> <td>    2.761</td>\n",
       "</tr>\n",
       "</table>\n",
       "<table class=\"simpletable\">\n",
       "<tr>\n",
       "  <th>Omnibus:</th>       <td>35.509</td> <th>  Durbin-Watson:     </th> <td>   2.065</td>\n",
       "</tr>\n",
       "<tr>\n",
       "  <th>Prob(Omnibus):</th> <td> 0.000</td> <th>  Jarque-Bera (JB):  </th> <td>   7.127</td>\n",
       "</tr>\n",
       "<tr>\n",
       "  <th>Skew:</th>          <td>-0.136</td> <th>  Prob(JB):          </th> <td>  0.0283</td>\n",
       "</tr>\n",
       "<tr>\n",
       "  <th>Kurtosis:</th>      <td> 1.858</td> <th>  Cond. No.          </th> <td>2.94e+04</td>\n",
       "</tr>\n",
       "</table><br/><br/>Notes:<br/>[1] Standard Errors assume that the covariance matrix of the errors is correctly specified.<br/>[2] The condition number is large, 2.94e+04. This might indicate that there are<br/>strong multicollinearity or other numerical problems."
      ],
      "text/plain": [
       "<class 'statsmodels.iolib.summary.Summary'>\n",
       "\"\"\"\n",
       "                            OLS Regression Results                            \n",
       "==============================================================================\n",
       "Dep. Variable:                      y   R-squared:                       0.833\n",
       "Model:                            OLS   Adj. R-squared:                  0.827\n",
       "Method:                 Least Squares   F-statistic:                     147.9\n",
       "Date:                Thu, 14 Jul 2022   Prob (F-statistic):           3.35e-45\n",
       "Time:                        08:49:18   Log-Likelihood:                -401.07\n",
       "No. Observations:                 124   AIC:                             812.1\n",
       "Df Residuals:                     119   BIC:                             826.2\n",
       "Df Model:                           4                                         \n",
       "Covariance Type:            nonrobust                                         \n",
       "=================================================================================\n",
       "                    coef    std err          t      P>|t|      [0.025      0.975]\n",
       "---------------------------------------------------------------------------------\n",
       "const             6.0506      4.080      1.483      0.141      -2.028      14.129\n",
       "disclosure        0.1067      0.048      2.227      0.028       0.012       0.202\n",
       "endividamento    -0.0882      0.051     -1.723      0.087      -0.190       0.013\n",
       "ativos            0.0035      0.001      5.134      0.000       0.002       0.005\n",
       "liquidez          1.9762      0.396      4.987      0.000       1.191       2.761\n",
       "==============================================================================\n",
       "Omnibus:                       35.509   Durbin-Watson:                   2.065\n",
       "Prob(Omnibus):                  0.000   Jarque-Bera (JB):                7.127\n",
       "Skew:                          -0.136   Prob(JB):                       0.0283\n",
       "Kurtosis:                       1.858   Cond. No.                     2.94e+04\n",
       "==============================================================================\n",
       "\n",
       "Notes:\n",
       "[1] Standard Errors assume that the covariance matrix of the errors is correctly specified.\n",
       "[2] The condition number is large, 2.94e+04. This might indicate that there are\n",
       "strong multicollinearity or other numerical problems.\n",
       "\"\"\""
      ]
     },
     "execution_count": 7,
     "metadata": {},
     "output_type": "execute_result"
    }
   ],
   "source": [
    "#Modelo\n",
    "import statsmodels.api as sm\n",
    "\n",
    "# Adicionar uma constante nas variaveis x\n",
    "x1 = sm.add_constant(x)\n",
    "y = y.values\n",
    "\n",
    "#Criar modelo\n",
    "modelo = sm.OLS(y,x1)\n",
    "\n",
    "#Treinar o modelo\n",
    "modelo1 = modelo.fit()\n",
    "modelo1.summary()"
   ]
  },
  {
   "cell_type": "markdown",
   "metadata": {},
   "source": [
    "**Analisando os P_values podemos concluir que a variável 'endividamento' não é estatisticamente significante para o modelo a um nível de significância de 5%**"
   ]
  },
  {
   "cell_type": "code",
   "execution_count": 8,
   "metadata": {},
   "outputs": [],
   "source": [
    "#Criando o 2° Modelo , excluindo a variável 'endividamento'\n",
    "x_linear1 = dados[['disclosure','ativos', 'liquidez']]\n",
    "y = dados['retorno']"
   ]
  },
  {
   "cell_type": "markdown",
   "metadata": {},
   "source": [
    "**Estimar o modelo novamente sem a variável explicativa 'endividamento'**"
   ]
  },
  {
   "cell_type": "code",
   "execution_count": 9,
   "metadata": {},
   "outputs": [
    {
     "data": {
      "text/html": [
       "<table class=\"simpletable\">\n",
       "<caption>OLS Regression Results</caption>\n",
       "<tr>\n",
       "  <th>Dep. Variable:</th>            <td>y</td>        <th>  R-squared:         </th> <td>   0.828</td>\n",
       "</tr>\n",
       "<tr>\n",
       "  <th>Model:</th>                   <td>OLS</td>       <th>  Adj. R-squared:    </th> <td>   0.824</td>\n",
       "</tr>\n",
       "<tr>\n",
       "  <th>Method:</th>             <td>Least Squares</td>  <th>  F-statistic:       </th> <td>   193.1</td>\n",
       "</tr>\n",
       "<tr>\n",
       "  <th>Date:</th>             <td>Thu, 14 Jul 2022</td> <th>  Prob (F-statistic):</th> <td>9.55e-46</td>\n",
       "</tr>\n",
       "<tr>\n",
       "  <th>Time:</th>                 <td>08:49:18</td>     <th>  Log-Likelihood:    </th> <td> -402.60</td>\n",
       "</tr>\n",
       "<tr>\n",
       "  <th>No. Observations:</th>      <td>   124</td>      <th>  AIC:               </th> <td>   813.2</td>\n",
       "</tr>\n",
       "<tr>\n",
       "  <th>Df Residuals:</th>          <td>   120</td>      <th>  BIC:               </th> <td>   824.5</td>\n",
       "</tr>\n",
       "<tr>\n",
       "  <th>Df Model:</th>              <td>     3</td>      <th>                     </th>     <td> </td>   \n",
       "</tr>\n",
       "<tr>\n",
       "  <th>Covariance Type:</th>      <td>nonrobust</td>    <th>                     </th>     <td> </td>   \n",
       "</tr>\n",
       "</table>\n",
       "<table class=\"simpletable\">\n",
       "<tr>\n",
       "       <td></td>         <th>coef</th>     <th>std err</th>      <th>t</th>      <th>P>|t|</th>  <th>[0.025</th>    <th>0.975]</th>  \n",
       "</tr>\n",
       "<tr>\n",
       "  <th>const</th>      <td>    2.0461</td> <td>    3.380</td> <td>    0.605</td> <td> 0.546</td> <td>   -4.647</td> <td>    8.739</td>\n",
       "</tr>\n",
       "<tr>\n",
       "  <th>disclosure</th> <td>    0.0874</td> <td>    0.047</td> <td>    1.861</td> <td> 0.065</td> <td>   -0.006</td> <td>    0.180</td>\n",
       "</tr>\n",
       "<tr>\n",
       "  <th>ativos</th>     <td>    0.0032</td> <td>    0.001</td> <td>    4.850</td> <td> 0.000</td> <td>    0.002</td> <td>    0.005</td>\n",
       "</tr>\n",
       "<tr>\n",
       "  <th>liquidez</th>   <td>    2.2507</td> <td>    0.366</td> <td>    6.152</td> <td> 0.000</td> <td>    1.526</td> <td>    2.975</td>\n",
       "</tr>\n",
       "</table>\n",
       "<table class=\"simpletable\">\n",
       "<tr>\n",
       "  <th>Omnibus:</th>       <td>18.497</td> <th>  Durbin-Watson:     </th> <td>   1.945</td>\n",
       "</tr>\n",
       "<tr>\n",
       "  <th>Prob(Omnibus):</th> <td> 0.000</td> <th>  Jarque-Bera (JB):  </th> <td>   5.349</td>\n",
       "</tr>\n",
       "<tr>\n",
       "  <th>Skew:</th>          <td>-0.103</td> <th>  Prob(JB):          </th> <td>  0.0689</td>\n",
       "</tr>\n",
       "<tr>\n",
       "  <th>Kurtosis:</th>      <td> 2.003</td> <th>  Cond. No.          </th> <td>2.42e+04</td>\n",
       "</tr>\n",
       "</table><br/><br/>Notes:<br/>[1] Standard Errors assume that the covariance matrix of the errors is correctly specified.<br/>[2] The condition number is large, 2.42e+04. This might indicate that there are<br/>strong multicollinearity or other numerical problems."
      ],
      "text/plain": [
       "<class 'statsmodels.iolib.summary.Summary'>\n",
       "\"\"\"\n",
       "                            OLS Regression Results                            \n",
       "==============================================================================\n",
       "Dep. Variable:                      y   R-squared:                       0.828\n",
       "Model:                            OLS   Adj. R-squared:                  0.824\n",
       "Method:                 Least Squares   F-statistic:                     193.1\n",
       "Date:                Thu, 14 Jul 2022   Prob (F-statistic):           9.55e-46\n",
       "Time:                        08:49:18   Log-Likelihood:                -402.60\n",
       "No. Observations:                 124   AIC:                             813.2\n",
       "Df Residuals:                     120   BIC:                             824.5\n",
       "Df Model:                           3                                         \n",
       "Covariance Type:            nonrobust                                         \n",
       "==============================================================================\n",
       "                 coef    std err          t      P>|t|      [0.025      0.975]\n",
       "------------------------------------------------------------------------------\n",
       "const          2.0461      3.380      0.605      0.546      -4.647       8.739\n",
       "disclosure     0.0874      0.047      1.861      0.065      -0.006       0.180\n",
       "ativos         0.0032      0.001      4.850      0.000       0.002       0.005\n",
       "liquidez       2.2507      0.366      6.152      0.000       1.526       2.975\n",
       "==============================================================================\n",
       "Omnibus:                       18.497   Durbin-Watson:                   1.945\n",
       "Prob(Omnibus):                  0.000   Jarque-Bera (JB):                5.349\n",
       "Skew:                          -0.103   Prob(JB):                       0.0689\n",
       "Kurtosis:                       2.003   Cond. No.                     2.42e+04\n",
       "==============================================================================\n",
       "\n",
       "Notes:\n",
       "[1] Standard Errors assume that the covariance matrix of the errors is correctly specified.\n",
       "[2] The condition number is large, 2.42e+04. This might indicate that there are\n",
       "strong multicollinearity or other numerical problems.\n",
       "\"\"\""
      ]
     },
     "execution_count": 9,
     "metadata": {},
     "output_type": "execute_result"
    }
   ],
   "source": [
    "#Modelo 2\n",
    "import statsmodels.api as sm\n",
    "x1_linear1 = sm.add_constant(x_linear1)# Adicionar uma constante nas variaveis x\n",
    "y = y.values\n",
    "modelo = sm.OLS(y,x1_linear1)\n",
    "modelo2 = modelo.fit()\n",
    "modelo2.summary()"
   ]
  },
  {
   "cell_type": "markdown",
   "metadata": {},
   "source": [
    "**Agora veja que a variável 'disclousere' não é estatisticamente significante para o modelo a um nível de significância de 5% na presença das outra variáveis explicativas(Multicolinearidade)**"
   ]
  },
  {
   "cell_type": "markdown",
   "metadata": {},
   "source": [
    "## SetpWise"
   ]
  },
  {
   "cell_type": "markdown",
   "metadata": {},
   "source": [
    "- Seleciona as variáveis explicativas, que na presença nas demais apresentam parâmetros estatisticamente significantes"
   ]
  },
  {
   "cell_type": "code",
   "execution_count": 10,
   "metadata": {},
   "outputs": [
    {
     "name": "stdout",
     "output_type": "stream",
     "text": [
      "Add  disclosure                     with p-value 4.06399e-38\n",
      "Add  liquidez                       with p-value 4.12259e-07\n",
      "Add  ativos                         with p-value 3.73853e-06\n",
      "Drop disclosure                     with p-value 0.0651403\n"
     ]
    }
   ],
   "source": [
    "import warnings\n",
    "warnings.filterwarnings('ignore')\n",
    "def stepwise_selection(X, y, \n",
    "                           initial_list=[], \n",
    "                           threshold_in=0.01, \n",
    "                           threshold_out = 0.05, \n",
    "                           verbose=True):\n",
    "        \"\"\" Perform a forward-backward feature selection \n",
    "        based on p-value from statsmodels.api.OLS\n",
    "        Arguments:\n",
    "            X - pandas.DataFrame with candidate features\n",
    "            y - list-like with the target\n",
    "            initial_list - list of features to start with (column names of X)\n",
    "            threshold_in - include a feature if its p-value < threshold_in\n",
    "            threshold_out - exclude a feature if its p-value > threshold_out\n",
    "            verbose - whether to print the sequence of inclusions and exclusions\n",
    "        Returns: list of selected features \n",
    "        Always set threshold_in < threshold_out to avoid infinite looping.\n",
    "        See https://en.wikipedia.org/wiki/Stepwise_regression for the details\n",
    "        \"\"\"\n",
    "        included = list(initial_list)\n",
    "        while True:\n",
    "            changed=False\n",
    "            # forward step\n",
    "            excluded = list(set(X.columns)-set(included))\n",
    "            new_pval = pd.Series(index=excluded)\n",
    "            for new_column in excluded:\n",
    "                model = sm.OLS(y, sm.add_constant(pd.DataFrame(X[included+[new_column]]))).fit()\n",
    "                new_pval[new_column] = model.pvalues[new_column]\n",
    "            best_pval = new_pval.min()\n",
    "            if best_pval < threshold_in:\n",
    "                best_feature = new_pval.idxmin()\n",
    "                included.append(best_feature)\n",
    "                changed=True\n",
    "                if verbose:\n",
    "                    print('Add  {:30} with p-value {:.6}'.format(best_feature, best_pval))\n",
    "\n",
    "            # backward step\n",
    "            model = sm.OLS(y, sm.add_constant(pd.DataFrame(X[included]))).fit()\n",
    "            # use all coefs except intercept\n",
    "            pvalues = model.pvalues.iloc[1:]\n",
    "            worst_pval = pvalues.max() # null if pvalues is empty\n",
    "            if worst_pval > threshold_out:\n",
    "                changed=True\n",
    "                worst_feature = pvalues.idxmax()\n",
    "                included.remove(worst_feature)\n",
    "                if verbose:\n",
    "                    print('Drop {:30} with p-value {:.6}'.format(worst_feature, worst_pval))\n",
    "            if not changed:\n",
    "                break\n",
    "        return included\n",
    "\n",
    "result = stepwise_selection(x, y)\n"
   ]
  },
  {
   "cell_type": "markdown",
   "metadata": {},
   "source": [
    "**Utilizamos o algoritmo Step-Wise para selecionar o maior número de variáveis estatisticamente significantes**"
   ]
  },
  {
   "cell_type": "code",
   "execution_count": 11,
   "metadata": {},
   "outputs": [
    {
     "data": {
      "text/plain": [
       "['liquidez', 'ativos']"
      ]
     },
     "execution_count": 11,
     "metadata": {},
     "output_type": "execute_result"
    }
   ],
   "source": [
    "#Variáveis selecionada pelo StepWise\n",
    "result"
   ]
  },
  {
   "cell_type": "markdown",
   "metadata": {},
   "source": [
    "**Apenas as variáveis estatisticamente significantes para o modelo**"
   ]
  },
  {
   "cell_type": "code",
   "execution_count": 12,
   "metadata": {},
   "outputs": [
    {
     "data": {
      "text/html": [
       "<table class=\"simpletable\">\n",
       "<caption>OLS Regression Results</caption>\n",
       "<tr>\n",
       "  <th>Dep. Variable:</th>            <td>y</td>        <th>  R-squared:         </th> <td>   0.823</td>\n",
       "</tr>\n",
       "<tr>\n",
       "  <th>Model:</th>                   <td>OLS</td>       <th>  Adj. R-squared:    </th> <td>   0.820</td>\n",
       "</tr>\n",
       "<tr>\n",
       "  <th>Method:</th>             <td>Least Squares</td>  <th>  F-statistic:       </th> <td>   282.1</td>\n",
       "</tr>\n",
       "<tr>\n",
       "  <th>Date:</th>             <td>Thu, 14 Jul 2022</td> <th>  Prob (F-statistic):</th> <td>2.76e-46</td>\n",
       "</tr>\n",
       "<tr>\n",
       "  <th>Time:</th>                 <td>08:49:19</td>     <th>  Log-Likelihood:    </th> <td> -404.37</td>\n",
       "</tr>\n",
       "<tr>\n",
       "  <th>No. Observations:</th>      <td>   124</td>      <th>  AIC:               </th> <td>   814.7</td>\n",
       "</tr>\n",
       "<tr>\n",
       "  <th>Df Residuals:</th>          <td>   121</td>      <th>  BIC:               </th> <td>   823.2</td>\n",
       "</tr>\n",
       "<tr>\n",
       "  <th>Df Model:</th>              <td>     2</td>      <th>                     </th>     <td> </td>   \n",
       "</tr>\n",
       "<tr>\n",
       "  <th>Covariance Type:</th>      <td>nonrobust</td>    <th>                     </th>     <td> </td>   \n",
       "</tr>\n",
       "</table>\n",
       "<table class=\"simpletable\">\n",
       "<tr>\n",
       "      <td></td>        <th>coef</th>     <th>std err</th>      <th>t</th>      <th>P>|t|</th>  <th>[0.025</th>    <th>0.975]</th>  \n",
       "</tr>\n",
       "<tr>\n",
       "  <th>const</th>    <td>   -2.5348</td> <td>    2.341</td> <td>   -1.083</td> <td> 0.281</td> <td>   -7.169</td> <td>    2.100</td>\n",
       "</tr>\n",
       "<tr>\n",
       "  <th>liquidez</th> <td>    2.7391</td> <td>    0.258</td> <td>   10.637</td> <td> 0.000</td> <td>    2.229</td> <td>    3.249</td>\n",
       "</tr>\n",
       "<tr>\n",
       "  <th>ativos</th>   <td>    0.0040</td> <td>    0.001</td> <td>    7.649</td> <td> 0.000</td> <td>    0.003</td> <td>    0.005</td>\n",
       "</tr>\n",
       "</table>\n",
       "<table class=\"simpletable\">\n",
       "<tr>\n",
       "  <th>Omnibus:</th>       <td>23.591</td> <th>  Durbin-Watson:     </th> <td>   1.926</td>\n",
       "</tr>\n",
       "<tr>\n",
       "  <th>Prob(Omnibus):</th> <td> 0.000</td> <th>  Jarque-Bera (JB):  </th> <td>   5.887</td>\n",
       "</tr>\n",
       "<tr>\n",
       "  <th>Skew:</th>          <td>-0.087</td> <th>  Prob(JB):          </th> <td>  0.0527</td>\n",
       "</tr>\n",
       "<tr>\n",
       "  <th>Kurtosis:</th>      <td> 1.947</td> <th>  Cond. No.          </th> <td>1.65e+04</td>\n",
       "</tr>\n",
       "</table><br/><br/>Notes:<br/>[1] Standard Errors assume that the covariance matrix of the errors is correctly specified.<br/>[2] The condition number is large, 1.65e+04. This might indicate that there are<br/>strong multicollinearity or other numerical problems."
      ],
      "text/plain": [
       "<class 'statsmodels.iolib.summary.Summary'>\n",
       "\"\"\"\n",
       "                            OLS Regression Results                            \n",
       "==============================================================================\n",
       "Dep. Variable:                      y   R-squared:                       0.823\n",
       "Model:                            OLS   Adj. R-squared:                  0.820\n",
       "Method:                 Least Squares   F-statistic:                     282.1\n",
       "Date:                Thu, 14 Jul 2022   Prob (F-statistic):           2.76e-46\n",
       "Time:                        08:49:19   Log-Likelihood:                -404.37\n",
       "No. Observations:                 124   AIC:                             814.7\n",
       "Df Residuals:                     121   BIC:                             823.2\n",
       "Df Model:                           2                                         \n",
       "Covariance Type:            nonrobust                                         \n",
       "==============================================================================\n",
       "                 coef    std err          t      P>|t|      [0.025      0.975]\n",
       "------------------------------------------------------------------------------\n",
       "const         -2.5348      2.341     -1.083      0.281      -7.169       2.100\n",
       "liquidez       2.7391      0.258     10.637      0.000       2.229       3.249\n",
       "ativos         0.0040      0.001      7.649      0.000       0.003       0.005\n",
       "==============================================================================\n",
       "Omnibus:                       23.591   Durbin-Watson:                   1.926\n",
       "Prob(Omnibus):                  0.000   Jarque-Bera (JB):                5.887\n",
       "Skew:                          -0.087   Prob(JB):                       0.0527\n",
       "Kurtosis:                       1.947   Cond. No.                     1.65e+04\n",
       "==============================================================================\n",
       "\n",
       "Notes:\n",
       "[1] Standard Errors assume that the covariance matrix of the errors is correctly specified.\n",
       "[2] The condition number is large, 1.65e+04. This might indicate that there are\n",
       "strong multicollinearity or other numerical problems.\n",
       "\"\"\""
      ]
     },
     "execution_count": 12,
     "metadata": {},
     "output_type": "execute_result"
    }
   ],
   "source": [
    "#Modelo3\n",
    "\n",
    "#add na variável x, apenas as variáveis estatisticamente significantes para o modelo\n",
    "x2_linear2 = dados[result] \n",
    "\n",
    "# Adicionar uma constante nas variaveis x\n",
    "x2_linear2 = sm.add_constant(x2_linear2)\n",
    "y = y\n",
    "\n",
    "#Criar o modelo\n",
    "modelo = sm.OLS(y,x2_linear2)\n",
    "modelo3 = modelo.fit()\n",
    "modelo3.summary()"
   ]
  },
  {
   "cell_type": "markdown",
   "metadata": {},
   "source": [
    "**Note que agora todas as variáveis explicativas são estatisticamente significantes para o modelo a um nível de significância de 5%**"
   ]
  },
  {
   "cell_type": "markdown",
   "metadata": {},
   "source": [
    "## Teste de Shapiro-Francia (Teste de verificação da aderência dos resíduos à normalidade)"
   ]
  },
  {
   "cell_type": "markdown",
   "metadata": {},
   "source": [
    "Shapiro-Wilk: número de amostras <= 30\n",
    "\n",
    "Shapiro-Francia: número de amostras > 30\n"
   ]
  },
  {
   "cell_type": "code",
   "execution_count": 13,
   "metadata": {},
   "outputs": [
    {
     "name": "stdout",
     "output_type": "stream",
     "text": [
      "Valor do teste de Shapiro Francia= 0.005130, é menor que 0.05 , Portanto não ha Distribuiçao Normal\n"
     ]
    }
   ],
   "source": [
    "#Teste de Shapiro Francia\n",
    "import scipy.stats as stats\n",
    "shapiro_stats, shapiro_p_valor = stats.shapiro(modelo3.resid)\n",
    "print(f'Valor do teste de Shapiro Francia= {shapiro_p_valor:.6f}, é menor que 0.05 , Portanto não ha Distribuiçao Normal')"
   ]
  },
  {
   "cell_type": "markdown",
   "metadata": {},
   "source": [
    "**O que se espera do teste de Shapiro é que o valor do teste seja maior que 0.05, sendo assim, os resíduos aderem a uma distribuição normal, onde a maioria dos dados fica dentro do intervalo de confiança da reta de regressão**"
   ]
  },
  {
   "cell_type": "code",
   "execution_count": 14,
   "metadata": {},
   "outputs": [
    {
     "data": {
      "image/png": "[encoded data removed]",
      "text/plain": [
       "<Figure size 360x360 with 1 Axes>"
      ]
     },
     "metadata": {
      "needs_background": "light"
     },
     "output_type": "display_data"
    }
   ],
   "source": [
    "#Histograma da Aderência dos residuos\n",
    "\n",
    "#transformar os redisuos em uma coluna\n",
    "dados['residuos_Linear']=modelo3.resid\n",
    "\n",
    "#Construir o histograma\n",
    "sns.displot(dados['residuos_Linear'],kde=True,bins=30);\n",
    "plt.show()"
   ]
  },
  {
   "cell_type": "markdown",
   "metadata": {},
   "source": [
    "**Para que haja aderência entre a distribuição normal e a distribuição real dos resíduos a um nível de significância de 5%, 95% dos dados tem que estar dentro da curva da distribuição normal**"
   ]
  },
  {
   "cell_type": "markdown",
   "metadata": {},
   "source": [
    "**Como os resíduos não são aderentes a uma distribuição normal, temos que fazer a transformação de BOX-COX**"
   ]
  },
  {
   "cell_type": "markdown",
   "metadata": {},
   "source": [
    "## Transformação de Box-Cox - Distribuição Nao Linear"
   ]
  },
  {
   "cell_type": "markdown",
   "metadata": {},
   "source": [
    "- Temos que transformar a variável Y, para que a distribuição dos resíduos seja aderente a uma distribuição normal\n",
    "\n",
    "\n",
    "- Valor de lambda (Λ) varia entre  – ∞ à + ∞\n",
    "\n",
    "\n",
    "- Qual o valor de Lambda (Λ), que maximiza a aderência da distribuição da nova variável Y à normalidade?\n",
    "\n"
   ]
  },
  {
   "cell_type": "code",
   "execution_count": 15,
   "metadata": {},
   "outputs": [
    {
     "data": {
      "image/png": "[encoded data removed]",
      "text/plain": [
       "<IPython.core.display.Image object>"
      ]
     },
     "execution_count": 15,
     "metadata": {},
     "output_type": "execute_result"
    }
   ],
   "source": [
    "#Valores de lambda e suas especificações\n",
    "from IPython.display import Image\n",
    "Image(filename=\"BoxCox.png\")"
   ]
  },
  {
   "cell_type": "code",
   "execution_count": 16,
   "metadata": {},
   "outputs": [
    {
     "data": {
      "text/plain": [
       "-0.022564100754067663"
      ]
     },
     "execution_count": 16,
     "metadata": {},
     "output_type": "execute_result"
    }
   ],
   "source": [
    "#Calculo do Lambda\n",
    "from scipy.stats import boxcox\n",
    "from scipy.special import inv_boxcox\n",
    "\n",
    "dados_transform, lambda_boxcox = boxcox(dados['retorno'])\n",
    "lambda_boxcox"
   ]
  },
  {
   "cell_type": "markdown",
   "metadata": {},
   "source": [
    "**O lambda que maximiza a aderência da Nova variável Y há normalidade é -0.022564..., Especificação Semi-logarítmica**"
   ]
  },
  {
   "cell_type": "code",
   "execution_count": 17,
   "metadata": {},
   "outputs": [
    {
     "data": {
      "text/html": [
       "<div>\n",
       "<style scoped>\n",
       "    .dataframe tbody tr th:only-of-type {\n",
       "        vertical-align: middle;\n",
       "    }\n",
       "\n",
       "    .dataframe tbody tr th {\n",
       "        vertical-align: top;\n",
       "    }\n",
       "\n",
       "    .dataframe thead th {\n",
       "        text-align: right;\n",
       "    }\n",
       "</style>\n",
       "<table border=\"1\" class=\"dataframe\">\n",
       "  <thead>\n",
       "    <tr style=\"text-align: right;\">\n",
       "      <th></th>\n",
       "      <th>retorno</th>\n",
       "      <th>disclosure</th>\n",
       "      <th>endividamento</th>\n",
       "      <th>ativos</th>\n",
       "      <th>liquidez</th>\n",
       "      <th>residuos_Linear</th>\n",
       "      <th>y_boxcox</th>\n",
       "    </tr>\n",
       "    <tr>\n",
       "      <th>empresa</th>\n",
       "      <th></th>\n",
       "      <th></th>\n",
       "      <th></th>\n",
       "      <th></th>\n",
       "      <th></th>\n",
       "      <th></th>\n",
       "      <th></th>\n",
       "    </tr>\n",
       "  </thead>\n",
       "  <tbody>\n",
       "    <tr>\n",
       "      <th>Adidas</th>\n",
       "      <td>63.67</td>\n",
       "      <td>83</td>\n",
       "      <td>1.3</td>\n",
       "      <td>3967</td>\n",
       "      <td>14.3</td>\n",
       "      <td>11.079540</td>\n",
       "      <td>3.965002</td>\n",
       "    </tr>\n",
       "    <tr>\n",
       "      <th>BASF</th>\n",
       "      <td>55.49</td>\n",
       "      <td>91</td>\n",
       "      <td>33.9</td>\n",
       "      <td>5450</td>\n",
       "      <td>16.8</td>\n",
       "      <td>-9.913203</td>\n",
       "      <td>3.839599</td>\n",
       "    </tr>\n",
       "    <tr>\n",
       "      <th>Bayer</th>\n",
       "      <td>52.42</td>\n",
       "      <td>77</td>\n",
       "      <td>36.1</td>\n",
       "      <td>4327</td>\n",
       "      <td>15.5</td>\n",
       "      <td>-4.905376</td>\n",
       "      <td>3.787582</td>\n",
       "    </tr>\n",
       "    <tr>\n",
       "      <th>BSH</th>\n",
       "      <td>54.00</td>\n",
       "      <td>90</td>\n",
       "      <td>20.8</td>\n",
       "      <td>4109</td>\n",
       "      <td>16.8</td>\n",
       "      <td>-6.009319</td>\n",
       "      <td>3.814731</td>\n",
       "    </tr>\n",
       "    <tr>\n",
       "      <th>Bosch</th>\n",
       "      <td>68.01</td>\n",
       "      <td>93</td>\n",
       "      <td>14.1</td>\n",
       "      <td>4458</td>\n",
       "      <td>17.0</td>\n",
       "      <td>6.049088</td>\n",
       "      <td>4.024999</td>\n",
       "    </tr>\n",
       "  </tbody>\n",
       "</table>\n",
       "</div>"
      ],
      "text/plain": [
       "         retorno  disclosure  endividamento  ativos  liquidez  \\\n",
       "empresa                                                         \n",
       "Adidas     63.67          83            1.3    3967      14.3   \n",
       "BASF       55.49          91           33.9    5450      16.8   \n",
       "Bayer      52.42          77           36.1    4327      15.5   \n",
       "BSH        54.00          90           20.8    4109      16.8   \n",
       "Bosch      68.01          93           14.1    4458      17.0   \n",
       "\n",
       "         residuos_Linear  y_boxcox  \n",
       "empresa                             \n",
       "Adidas         11.079540  3.965002  \n",
       "BASF           -9.913203  3.839599  \n",
       "Bayer          -4.905376  3.787582  \n",
       "BSH            -6.009319  3.814731  \n",
       "Bosch           6.049088  4.024999  "
      ]
     },
     "execution_count": 17,
     "metadata": {},
     "output_type": "execute_result"
    }
   ],
   "source": [
    "#Inserindo o lambda de Box-Cox na base de dados para a estimação de um novo modelo\n",
    "dados['y_boxcox'] = (((dados['retorno']**lambda_boxcox) -1) / lambda_boxcox)\n",
    "dados.head(5)"
   ]
  },
  {
   "cell_type": "markdown",
   "metadata": {},
   "source": [
    "**Observe que foi criada uma variável target transformada em uma Box-Cox**"
   ]
  },
  {
   "cell_type": "code",
   "execution_count": 18,
   "metadata": {},
   "outputs": [],
   "source": [
    "#Selecionar x e y para criação do modelo StepWise\n",
    "x_boxcox = dados[['disclosure','endividamento', 'ativos', 'liquidez']]\n",
    "y = dados['y_boxcox']"
   ]
  },
  {
   "cell_type": "code",
   "execution_count": 19,
   "metadata": {},
   "outputs": [
    {
     "name": "stdout",
     "output_type": "stream",
     "text": [
      "Add  disclosure                     with p-value 4.37018e-38\n",
      "Add  liquidez                       with p-value 5.2495e-06\n",
      "Add  ativos                         with p-value 0.00604559\n"
     ]
    }
   ],
   "source": [
    "#Stepwise\n",
    "result1 = stepwise_selection(x_boxcox, y)"
   ]
  },
  {
   "cell_type": "code",
   "execution_count": 20,
   "metadata": {},
   "outputs": [
    {
     "data": {
      "text/plain": [
       "['disclosure', 'liquidez', 'ativos']"
      ]
     },
     "execution_count": 20,
     "metadata": {},
     "output_type": "execute_result"
    }
   ],
   "source": [
    "#Variáveis selecionada pelo StepWise\n",
    "result1"
   ]
  },
  {
   "cell_type": "markdown",
   "metadata": {},
   "source": [
    "**Observe que a variável 'disclousure' é estatisticamente significante a um nível de significância de 5% na presença das variáveis 'liquidez' e 'ativos' na forma funcional não linear**"
   ]
  },
  {
   "cell_type": "code",
   "execution_count": 21,
   "metadata": {},
   "outputs": [
    {
     "data": {
      "text/html": [
       "<table class=\"simpletable\">\n",
       "<caption>OLS Regression Results</caption>\n",
       "<tr>\n",
       "  <th>Dep. Variable:</th>        <td>y_boxcox</td>     <th>  R-squared:         </th> <td>   0.799</td>\n",
       "</tr>\n",
       "<tr>\n",
       "  <th>Model:</th>                   <td>OLS</td>       <th>  Adj. R-squared:    </th> <td>   0.794</td>\n",
       "</tr>\n",
       "<tr>\n",
       "  <th>Method:</th>             <td>Least Squares</td>  <th>  F-statistic:       </th> <td>   159.0</td>\n",
       "</tr>\n",
       "<tr>\n",
       "  <th>Date:</th>             <td>Thu, 14 Jul 2022</td> <th>  Prob (F-statistic):</th> <td>1.21e-41</td>\n",
       "</tr>\n",
       "<tr>\n",
       "  <th>Time:</th>                 <td>08:49:19</td>     <th>  Log-Likelihood:    </th> <td>  73.887</td>\n",
       "</tr>\n",
       "<tr>\n",
       "  <th>No. Observations:</th>      <td>   124</td>      <th>  AIC:               </th> <td>  -139.8</td>\n",
       "</tr>\n",
       "<tr>\n",
       "  <th>Df Residuals:</th>          <td>   120</td>      <th>  BIC:               </th> <td>  -128.5</td>\n",
       "</tr>\n",
       "<tr>\n",
       "  <th>Df Model:</th>              <td>     3</td>      <th>                     </th>     <td> </td>   \n",
       "</tr>\n",
       "<tr>\n",
       "  <th>Covariance Type:</th>      <td>nonrobust</td>    <th>                     </th>     <td> </td>   \n",
       "</tr>\n",
       "</table>\n",
       "<table class=\"simpletable\">\n",
       "<tr>\n",
       "       <td></td>         <th>coef</th>     <th>std err</th>      <th>t</th>      <th>P>|t|</th>  <th>[0.025</th>    <th>0.975]</th>  \n",
       "</tr>\n",
       "<tr>\n",
       "  <th>const</th>      <td>    2.8275</td> <td>    0.072</td> <td>   39.019</td> <td> 0.000</td> <td>    2.684</td> <td>    2.971</td>\n",
       "</tr>\n",
       "<tr>\n",
       "  <th>disclosure</th> <td>    0.0031</td> <td>    0.001</td> <td>    3.109</td> <td> 0.002</td> <td>    0.001</td> <td>    0.005</td>\n",
       "</tr>\n",
       "<tr>\n",
       "  <th>liquidez</th>   <td>    0.0398</td> <td>    0.008</td> <td>    5.080</td> <td> 0.000</td> <td>    0.024</td> <td>    0.055</td>\n",
       "</tr>\n",
       "<tr>\n",
       "  <th>ativos</th>     <td> 4.005e-05</td> <td> 1.43e-05</td> <td>    2.795</td> <td> 0.006</td> <td> 1.17e-05</td> <td> 6.84e-05</td>\n",
       "</tr>\n",
       "</table>\n",
       "<table class=\"simpletable\">\n",
       "<tr>\n",
       "  <th>Omnibus:</th>       <td> 2.714</td> <th>  Durbin-Watson:     </th> <td>   2.071</td>\n",
       "</tr>\n",
       "<tr>\n",
       "  <th>Prob(Omnibus):</th> <td> 0.257</td> <th>  Jarque-Bera (JB):  </th> <td>   2.472</td>\n",
       "</tr>\n",
       "<tr>\n",
       "  <th>Skew:</th>          <td>-0.258</td> <th>  Prob(JB):          </th> <td>   0.290</td>\n",
       "</tr>\n",
       "<tr>\n",
       "  <th>Kurtosis:</th>      <td> 2.540</td> <th>  Cond. No.          </th> <td>2.42e+04</td>\n",
       "</tr>\n",
       "</table><br/><br/>Notes:<br/>[1] Standard Errors assume that the covariance matrix of the errors is correctly specified.<br/>[2] The condition number is large, 2.42e+04. This might indicate that there are<br/>strong multicollinearity or other numerical problems."
      ],
      "text/plain": [
       "<class 'statsmodels.iolib.summary.Summary'>\n",
       "\"\"\"\n",
       "                            OLS Regression Results                            \n",
       "==============================================================================\n",
       "Dep. Variable:               y_boxcox   R-squared:                       0.799\n",
       "Model:                            OLS   Adj. R-squared:                  0.794\n",
       "Method:                 Least Squares   F-statistic:                     159.0\n",
       "Date:                Thu, 14 Jul 2022   Prob (F-statistic):           1.21e-41\n",
       "Time:                        08:49:19   Log-Likelihood:                 73.887\n",
       "No. Observations:                 124   AIC:                            -139.8\n",
       "Df Residuals:                     120   BIC:                            -128.5\n",
       "Df Model:                           3                                         \n",
       "Covariance Type:            nonrobust                                         \n",
       "==============================================================================\n",
       "                 coef    std err          t      P>|t|      [0.025      0.975]\n",
       "------------------------------------------------------------------------------\n",
       "const          2.8275      0.072     39.019      0.000       2.684       2.971\n",
       "disclosure     0.0031      0.001      3.109      0.002       0.001       0.005\n",
       "liquidez       0.0398      0.008      5.080      0.000       0.024       0.055\n",
       "ativos      4.005e-05   1.43e-05      2.795      0.006    1.17e-05    6.84e-05\n",
       "==============================================================================\n",
       "Omnibus:                        2.714   Durbin-Watson:                   2.071\n",
       "Prob(Omnibus):                  0.257   Jarque-Bera (JB):                2.472\n",
       "Skew:                          -0.258   Prob(JB):                        0.290\n",
       "Kurtosis:                       2.540   Cond. No.                     2.42e+04\n",
       "==============================================================================\n",
       "\n",
       "Notes:\n",
       "[1] Standard Errors assume that the covariance matrix of the errors is correctly specified.\n",
       "[2] The condition number is large, 2.42e+04. This might indicate that there are\n",
       "strong multicollinearity or other numerical problems.\n",
       "\"\"\""
      ]
     },
     "execution_count": 21,
     "metadata": {},
     "output_type": "execute_result"
    }
   ],
   "source": [
    "#Modelo4\n",
    "\n",
    "x_boxcox = dados[result1]\n",
    "\n",
    "# Adicionar uma constante nas variaveis x\n",
    "x_boxcox = sm.add_constant(x_boxcox)\n",
    "y = y\n",
    "\n",
    "#Criar modelo\n",
    "modelo = sm.OLS(y,x_boxcox)\n",
    "modelo_boxcox = modelo.fit()\n",
    "modelo_boxcox.summary()"
   ]
  },
  {
   "cell_type": "markdown",
   "metadata": {},
   "source": [
    "**Observamos que os p_values das variáveis são estatisticamente significantes a um nível de significância de 5%**"
   ]
  },
  {
   "cell_type": "code",
   "execution_count": 22,
   "metadata": {},
   "outputs": [
    {
     "name": "stdout",
     "output_type": "stream",
     "text": [
      "Valor do teste de Shapiro Francia= 0.175174\n"
     ]
    }
   ],
   "source": [
    "#Verificando a normalidade dos resíduos do modelo \n",
    "\n",
    "#Teste de Shapiro Francia\n",
    "shapiro_stats, shapiro_p_valor = stats.shapiro(modelo_boxcox.resid)\n",
    "print(f'Valor do teste de Shapiro Francia= {shapiro_p_valor:.6f}')"
   ]
  },
  {
   "cell_type": "markdown",
   "metadata": {},
   "source": [
    "**Valor do teste de Shapiro Francia = 0.175174 > 0.05 , Portanto há aderência dos resíduos há uma distribuição normal**"
   ]
  },
  {
   "cell_type": "code",
   "execution_count": 23,
   "metadata": {},
   "outputs": [
    {
     "data": {
      "image/png": "[encoded data removed]",
      "text/plain": [
       "<Figure size 360x360 with 1 Axes>"
      ]
     },
     "metadata": {
      "needs_background": "light"
     },
     "output_type": "display_data"
    }
   ],
   "source": [
    " #Histograma da Aderência dos residuos\n",
    "\n",
    "#transformar os redisuos em uma coluna\n",
    "dados['residuos_BoxCox']=modelo_boxcox.resid\n",
    "\n",
    "#Construir o histograma\n",
    "sns.displot(dados['residuos_BoxCox'],kde=True,bins=20);\n",
    "plt.show()"
   ]
  },
  {
   "cell_type": "markdown",
   "metadata": {},
   "source": [
    "**Veja que há aderência dos resíduos a uma distribuição normal**"
   ]
  },
  {
   "cell_type": "code",
   "execution_count": 24,
   "metadata": {},
   "outputs": [
    {
     "data": {
      "image/png": "[encoded data removed]",
      "text/plain": [
       "<Figure size 864x360 with 2 Axes>"
      ]
     },
     "metadata": {
      "needs_background": "light"
     },
     "output_type": "display_data"
    }
   ],
   "source": [
    "#Comparação dos residuos\n",
    "\n",
    "#Construir o histograma\n",
    "fig,axes=plt.subplots(nrows=1,ncols=2,figsize=(12,5))\n",
    "axes = axes.ravel()\n",
    "\n",
    "#Criar coluna dos residuos\n",
    "dados['residuos_Linear']=modelo3.resid\n",
    "\n",
    "# #Grafico de dispersão: Dados reais\n",
    "axes[0].hist(dados['residuos_Linear'])\n",
    "\n",
    "\n",
    "#Criar coluna dos residuos\n",
    "dados['residuos_BoxCox']=modelo_boxcox.resid\n",
    "\n",
    "# #Grafico de dispersão: Box-Cox\n",
    "axes[1].hist(dados['residuos_BoxCox'])\n",
    "plt.title('Residuos Box-Cox');\n",
    "\n",
    "plt.show()"
   ]
  },
  {
   "cell_type": "markdown",
   "metadata": {},
   "source": [
    "**Observe a diferença nos resíduos com e sem a transformação de Box-Cox**"
   ]
  },
  {
   "cell_type": "markdown",
   "metadata": {},
   "source": [
    "## Predições com modelos OLS linear e Box-Cox"
   ]
  },
  {
   "cell_type": "code",
   "execution_count": 25,
   "metadata": {},
   "outputs": [
    {
     "data": {
      "text/html": [
       "<div>\n",
       "<style scoped>\n",
       "    .dataframe tbody tr th:only-of-type {\n",
       "        vertical-align: middle;\n",
       "    }\n",
       "\n",
       "    .dataframe tbody tr th {\n",
       "        vertical-align: top;\n",
       "    }\n",
       "\n",
       "    .dataframe thead th {\n",
       "        text-align: right;\n",
       "    }\n",
       "</style>\n",
       "<table border=\"1\" class=\"dataframe\">\n",
       "  <thead>\n",
       "    <tr style=\"text-align: right;\">\n",
       "      <th></th>\n",
       "      <th>retorno</th>\n",
       "      <th>Pred_linear</th>\n",
       "      <th>Pred_boxcox</th>\n",
       "    </tr>\n",
       "    <tr>\n",
       "      <th>empresa</th>\n",
       "      <th></th>\n",
       "      <th></th>\n",
       "      <th></th>\n",
       "    </tr>\n",
       "  </thead>\n",
       "  <tbody>\n",
       "    <tr>\n",
       "      <th>Adidas</th>\n",
       "      <td>63.67</td>\n",
       "      <td>52.590460</td>\n",
       "      <td>54.072393</td>\n",
       "    </tr>\n",
       "    <tr>\n",
       "      <th>BASF</th>\n",
       "      <td>55.49</td>\n",
       "      <td>65.403203</td>\n",
       "      <td>66.165319</td>\n",
       "    </tr>\n",
       "    <tr>\n",
       "      <th>Bayer</th>\n",
       "      <td>52.42</td>\n",
       "      <td>57.325376</td>\n",
       "      <td>56.706216</td>\n",
       "    </tr>\n",
       "    <tr>\n",
       "      <th>BSH</th>\n",
       "      <td>54.00</td>\n",
       "      <td>60.009319</td>\n",
       "      <td>62.161048</td>\n",
       "    </tr>\n",
       "    <tr>\n",
       "      <th>Bosch</th>\n",
       "      <td>68.01</td>\n",
       "      <td>61.960912</td>\n",
       "      <td>64.337230</td>\n",
       "    </tr>\n",
       "    <tr>\n",
       "      <th>...</th>\n",
       "      <td>...</td>\n",
       "      <td>...</td>\n",
       "      <td>...</td>\n",
       "    </tr>\n",
       "    <tr>\n",
       "      <th>DuPont</th>\n",
       "      <td>39.85</td>\n",
       "      <td>38.276327</td>\n",
       "      <td>38.078000</td>\n",
       "    </tr>\n",
       "    <tr>\n",
       "      <th>ExxonMobil</th>\n",
       "      <td>44.16</td>\n",
       "      <td>45.724617</td>\n",
       "      <td>41.446025</td>\n",
       "    </tr>\n",
       "    <tr>\n",
       "      <th>FedEx</th>\n",
       "      <td>45.38</td>\n",
       "      <td>35.988530</td>\n",
       "      <td>34.685312</td>\n",
       "    </tr>\n",
       "    <tr>\n",
       "      <th>Ford Motors</th>\n",
       "      <td>45.25</td>\n",
       "      <td>40.711577</td>\n",
       "      <td>41.929545</td>\n",
       "    </tr>\n",
       "    <tr>\n",
       "      <th>General Electric</th>\n",
       "      <td>33.28</td>\n",
       "      <td>28.641189</td>\n",
       "      <td>30.271830</td>\n",
       "    </tr>\n",
       "  </tbody>\n",
       "</table>\n",
       "<p>124 rows × 3 columns</p>\n",
       "</div>"
      ],
      "text/plain": [
       "                  retorno  Pred_linear  Pred_boxcox\n",
       "empresa                                            \n",
       "Adidas              63.67    52.590460    54.072393\n",
       "BASF                55.49    65.403203    66.165319\n",
       "Bayer               52.42    57.325376    56.706216\n",
       "BSH                 54.00    60.009319    62.161048\n",
       "Bosch               68.01    61.960912    64.337230\n",
       "...                   ...          ...          ...\n",
       "DuPont              39.85    38.276327    38.078000\n",
       "ExxonMobil          44.16    45.724617    41.446025\n",
       "FedEx               45.38    35.988530    34.685312\n",
       "Ford Motors         45.25    40.711577    41.929545\n",
       "General Electric    33.28    28.641189    30.271830\n",
       "\n",
       "[124 rows x 3 columns]"
      ]
     },
     "execution_count": 25,
     "metadata": {},
     "output_type": "execute_result"
    }
   ],
   "source": [
    "#Predições com os modelos OLS linear \n",
    "dados['Pred_linear'] = modelo3.predict(x2_linear2)\n",
    "\n",
    "#Predições com os modelos OLS Box-Cox\n",
    "pred_boxcox = modelo_boxcox.predict(x_boxcox)\n",
    "\n",
    "#Não podemos nos esquecer de fazer o cálculo inverso da Box-Cox para a obtenção do fitted\n",
    "dados['Pred_boxcox'] = (((pred_boxcox * lambda_boxcox) + 1)) ** (1 / lambda_boxcox)\n",
    "\n",
    "#Base de dados com as predições\n",
    "dados[['retorno','Pred_linear','Pred_boxcox']]"
   ]
  },
  {
   "cell_type": "markdown",
   "metadata": {},
   "source": [
    "**Variável Tagert (retorno), junto com as predições**"
   ]
  },
  {
   "cell_type": "markdown",
   "metadata": {},
   "source": [
    "## Comparação dos modelos (Linear e Não Linear)"
   ]
  },
  {
   "cell_type": "code",
   "execution_count": 26,
   "metadata": {},
   "outputs": [
    {
     "data": {
      "text/html": [
       "<div>\n",
       "<style scoped>\n",
       "    .dataframe tbody tr th:only-of-type {\n",
       "        vertical-align: middle;\n",
       "    }\n",
       "\n",
       "    .dataframe tbody tr th {\n",
       "        vertical-align: top;\n",
       "    }\n",
       "\n",
       "    .dataframe thead th {\n",
       "        text-align: right;\n",
       "    }\n",
       "</style>\n",
       "<table border=\"1\" class=\"dataframe\">\n",
       "  <thead>\n",
       "    <tr style=\"text-align: right;\">\n",
       "      <th></th>\n",
       "      <th>Dados Reais</th>\n",
       "      <th>Box-Cox</th>\n",
       "    </tr>\n",
       "    <tr>\n",
       "      <th>Metricas</th>\n",
       "      <th></th>\n",
       "      <th></th>\n",
       "    </tr>\n",
       "  </thead>\n",
       "  <tbody>\n",
       "    <tr>\n",
       "      <th>MSE</th>\n",
       "      <td>39.811412</td>\n",
       "      <td>37.365001</td>\n",
       "    </tr>\n",
       "    <tr>\n",
       "      <th>MAE</th>\n",
       "      <td>5.446840</td>\n",
       "      <td>5.213502</td>\n",
       "    </tr>\n",
       "  </tbody>\n",
       "</table>\n",
       "</div>"
      ],
      "text/plain": [
       "          Dados Reais    Box-Cox\n",
       "Metricas                        \n",
       "MSE         39.811412  37.365001\n",
       "MAE          5.446840   5.213502"
      ]
     },
     "execution_count": 26,
     "metadata": {},
     "output_type": "execute_result"
    }
   ],
   "source": [
    "from sklearn.metrics import mean_absolute_error,mean_squared_error\n",
    "\n",
    "#Modelo de regressão linear\n",
    "mse1 = mean_squared_error(dados['retorno'],dados['Pred_linear'])\n",
    "mae1 = mean_absolute_error(dados['retorno'],dados['Pred_linear'])\n",
    "\n",
    "#Modelo não linear\n",
    "mse2 = mean_squared_error(dados['retorno'],dados['Pred_boxcox'])\n",
    "mae2 = mean_absolute_error(dados['retorno'],dados['Pred_boxcox'])\n",
    "\n",
    "#Criar tabela com as métricas\n",
    "metricas = {'MSE':mse1,'MAE':mae1}\n",
    "metricas1 = [mse2,mae2]\n",
    "metricas = pd.DataFrame(list(metricas.items()),columns=['Metricas','Dados Reais'])\n",
    "metricas1 = pd.DataFrame(metricas1)\n",
    "\n",
    "metricas['Box-Cox'] = metricas1\n",
    "\n",
    "metricas = metricas.set_index('Metricas')\n",
    "\n",
    "metricas"
   ]
  },
  {
   "cell_type": "markdown",
   "metadata": {},
   "source": [
    "**Verificando as métricas MSE e MAE, confirmamos que o modelo não linear (Box-Cox) apresenta um resultado melhor do que o modelo linear**"
   ]
  },
  {
   "cell_type": "markdown",
   "metadata": {},
   "source": [
    "## Plots"
   ]
  },
  {
   "cell_type": "code",
   "execution_count": 27,
   "metadata": {},
   "outputs": [
    {
     "data": {
      "image/png": "[encoded data removed]",
      "text/plain": [
       "<Figure size 720x432 with 1 Axes>"
      ]
     },
     "metadata": {
      "needs_background": "light"
     },
     "output_type": "display_data"
    }
   ],
   "source": [
    "# #Grafico de comparação entre as 2 formas funcionais\n",
    "import warnings\n",
    "warnings.filterwarnings('ignore')\n",
    "x = dados['retorno']\n",
    "y = dados['Pred_boxcox']\n",
    "d = dados['Pred_linear']\n",
    "\n",
    "plt.figure(figsize=(10, 6))\n",
    "\n",
    "deg = 2\n",
    "z = np.polyfit(x, y, deg)\n",
    "y2 = np.poly1d(z)\n",
    "plt.plot(x, y, \"bo\",color='b')\n",
    "plt.plot(x, y2(x), \"--\",color='r',markersize=3)\n",
    "\n",
    "d1 = np.polyfit(x, d, deg)\n",
    "d2 = np.poly1d(d1)\n",
    "plt.plot(x, d2(x), \"--\",color='g',markersize=3)\n",
    "plt.title('Regressao Linear')\n",
    "plt.legend(['Dados','Linha_linear','Linha_BoxCox'])\n",
    "plt.show()\n"
   ]
  },
  {
   "cell_type": "markdown",
   "metadata": {},
   "source": [
    "# Conclusão"
   ]
  },
  {
   "cell_type": "markdown",
   "metadata": {},
   "source": [
    "**Apesar das duas formas funcionais (Linear e não linear) serem semelhantes, com a transformação de box-cox os resíduos do modelo ficam aderentes a normalidade, e quanto maior o dataset mais evidente fica a disparidade entre os modelos**"
   ]
  }
 ],
 "metadata": {
  "anaconda-cloud": {},
  "kernelspec": {
   "display_name": "Python 3 (ipykernel)",
   "language": "python",
   "name": "python3"
  },
  "language_info": {
   "codemirror_mode": {
    "name": "ipython",
    "version": 3
   },
   "file_extension": ".py",
   "mimetype": "text/x-python",
   "name": "python",
   "nbconvert_exporter": "python",
   "pygments_lexer": "ipython3",
   "version": "3.9.12"
  }
 },
 "nbformat": 4,
 "nbformat_minor": 1
}
