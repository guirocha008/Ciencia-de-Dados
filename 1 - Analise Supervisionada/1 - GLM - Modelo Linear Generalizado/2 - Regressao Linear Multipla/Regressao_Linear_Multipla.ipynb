{
 "cells": [
  {
   "cell_type": "markdown",
   "metadata": {},
   "source": [
    "# $$Regressão~Linear~Multipla$$"
   ]
  },
  {
   "cell_type": "markdown",
   "metadata": {},
   "source": [
    "### $$Conceito:$$\n",
    "    \n",
    "\n",
    "**Regressão Linear Múltipla** é um modelo de análise que usamos quando modelamos a relação linear entre uma variável contínua e múltiplas variáveis preditoras que podem ser contínuas ou categóricas(Dummies)\n",
    "\n",
    "\n",
    "### $$Quando~usar ~Regressão~ Linear~ Múltipla?$$\n",
    "\n",
    "\n",
    "Podemos usar a Regressão Linear Múltipla quando o objetivo da pesquisa envolve:\n",
    "\n",
    "- Projetar o valor de uma variável target através de um conjunto de outras variáveis preditoras\n",
    "\n",
    "\n",
    "- Investigar que variáveis se relacionam com a variável Target\n",
    "\n",
    "\n",
    "- Verificar qual conjunto de variáveis traz uma melhor explicação para a variável Target\n",
    "\n",
    "\n",
    "\n",
    "\n",
    "\n",
    "\n",
    "\n",
    "### $$Critérios:$$\n",
    "\n",
    "**Modelo dos mínimos quadrados (OLS)** = Somatória dos erros² (Elimina os negativos) seja a mínima possível, quanto mais próxima de 0, melhor o modelo\n",
    "\n",
    "\n",
    "Reta de regressão precisa ter a somatória dos erros (Positivo e Negativo) = 0\n",
    "\n",
    "\n",
    "Variáveis somente quantitativas\n",
    "\n",
    "\n",
    "Distribuição Normal dos dados\n",
    "\n",
    "\n",
    "\n",
    "### $$Coeficientes:$$\n",
    "\n",
    "**Intercepto (𝛼)** = Constante do modelo \n",
    "\n",
    "\n",
    "**Beta (𝛽)** = Coeficiente angular do modelo\n",
    "\n",
    "\n",
    "**u**= Termo de erro\n",
    "\n",
    "\n"
   ]
  },
  {
   "cell_type": "markdown",
   "metadata": {},
   "source": [
    "__------------------------------------------------------------------------------------------------------------------------------------------------------------------------------------------------------------------__\n",
    "\n",
    "\n",
    "__------------------------------------------------------------------------------------------------------------------------------------------------------------------------------------------------------------------__"
   ]
  },
  {
   "cell_type": "markdown",
   "metadata": {},
   "source": [
    "## $$Objetivo:$$   \n",
    "\n",
    "## $$Criar ~um ~modelo~ de~ regressão~ linear~ Multipla$$"
   ]
  },
  {
   "cell_type": "markdown",
   "metadata": {},
   "source": [
    "__------------------------------------------------------------------------------------------------------------------------------------------------------------------------------------------------------------------__\n",
    "\n",
    "\n",
    "__------------------------------------------------------------------------------------------------------------------------------------------------------------------------------------------------------------------__"
   ]
  },
  {
   "cell_type": "code",
   "execution_count": 1,
   "metadata": {},
   "outputs": [],
   "source": [
    "# Pacotes\n",
    "import numpy as np\n",
    "import pandas as pd\n",
    "import matplotlib.pyplot as plt\n",
    "import matplotlib as mpl\n",
    "import seaborn as sns\n",
    "import warnings\n",
    "warnings.filterwarnings(\"ignore\")\n",
    "%matplotlib inline \n",
    "import statsmodels.api as sm"
   ]
  },
  {
   "cell_type": "markdown",
   "metadata": {},
   "source": [
    "# Banco de dados "
   ]
  },
  {
   "cell_type": "code",
   "execution_count": 2,
   "metadata": {},
   "outputs": [
    {
     "data": {
      "text/html": [
       "<div>\n",
       "<style scoped>\n",
       "    .dataframe tbody tr th:only-of-type {\n",
       "        vertical-align: middle;\n",
       "    }\n",
       "\n",
       "    .dataframe tbody tr th {\n",
       "        vertical-align: top;\n",
       "    }\n",
       "\n",
       "    .dataframe thead th {\n",
       "        text-align: right;\n",
       "    }\n",
       "</style>\n",
       "<table border=\"1\" class=\"dataframe\">\n",
       "  <thead>\n",
       "    <tr style=\"text-align: right;\">\n",
       "      <th></th>\n",
       "      <th>pais</th>\n",
       "      <th>cpi</th>\n",
       "      <th>idade</th>\n",
       "      <th>horas</th>\n",
       "    </tr>\n",
       "  </thead>\n",
       "  <tbody>\n",
       "    <tr>\n",
       "      <th>0</th>\n",
       "      <td>Argentina</td>\n",
       "      <td>3.9</td>\n",
       "      <td>72</td>\n",
       "      <td>35.0</td>\n",
       "    </tr>\n",
       "    <tr>\n",
       "      <th>1</th>\n",
       "      <td>Australia</td>\n",
       "      <td>8.7</td>\n",
       "      <td>64</td>\n",
       "      <td>32.0</td>\n",
       "    </tr>\n",
       "    <tr>\n",
       "      <th>2</th>\n",
       "      <td>Austria</td>\n",
       "      <td>7.9</td>\n",
       "      <td>72</td>\n",
       "      <td>32.0</td>\n",
       "    </tr>\n",
       "    <tr>\n",
       "      <th>3</th>\n",
       "      <td>Belgium</td>\n",
       "      <td>7.1</td>\n",
       "      <td>67</td>\n",
       "      <td>30.1</td>\n",
       "    </tr>\n",
       "    <tr>\n",
       "      <th>4</th>\n",
       "      <td>Brazil</td>\n",
       "      <td>4.0</td>\n",
       "      <td>59</td>\n",
       "      <td>35.0</td>\n",
       "    </tr>\n",
       "  </tbody>\n",
       "</table>\n",
       "</div>"
      ],
      "text/plain": [
       "        pais  cpi  idade  horas\n",
       "0  Argentina  3.9     72   35.0\n",
       "1  Australia  8.7     64   32.0\n",
       "2    Austria  7.9     72   32.0\n",
       "3    Belgium  7.1     67   30.1\n",
       "4     Brazil  4.0     59   35.0"
      ]
     },
     "execution_count": 2,
     "metadata": {},
     "output_type": "execute_result"
    }
   ],
   "source": [
    "#Base de dados\n",
    "dados = pd.read_csv('paises.csv',encoding='latin-1',sep=',')\n",
    "dados.head()"
   ]
  },
  {
   "cell_type": "code",
   "execution_count": 3,
   "metadata": {},
   "outputs": [
    {
     "data": {
      "text/plain": [
       "(50, 4)"
      ]
     },
     "execution_count": 3,
     "metadata": {},
     "output_type": "execute_result"
    }
   ],
   "source": [
    "#Shape dos dados\n",
    "dados.shape"
   ]
  },
  {
   "cell_type": "markdown",
   "metadata": {},
   "source": [
    "**Tabela com 50 observações e 4 variáveis**"
   ]
  },
  {
   "cell_type": "markdown",
   "metadata": {},
   "source": [
    "# $$Dicionário~ de~ Dados~ das~ variáveis$$\n",
    "\n",
    "### **$$Variáveis:$$**\n",
    "\n",
    "**pais:** Nome do País\n",
    "\n",
    "\n",
    "**cpi:** Indice de percepção de corrupção dos habitante do País, Nota varia de 0 a 10, quanto maior a nota, melhor a percepção do mecanismo de corrupção\n",
    "    \n",
    "    \n",
    "**idade:** Idade media dos bilhonarios do país\n",
    "    \n",
    "    \n",
    "**horas:** Quantidade de horas trabalhadas em media por semana pela população economicamente ativa no País"
   ]
  },
  {
   "cell_type": "markdown",
   "metadata": {},
   "source": [
    "# Analise Exploratória"
   ]
  },
  {
   "cell_type": "code",
   "execution_count": 4,
   "metadata": {},
   "outputs": [
    {
     "data": {
      "text/html": [
       "<div>\n",
       "<style scoped>\n",
       "    .dataframe tbody tr th:only-of-type {\n",
       "        vertical-align: middle;\n",
       "    }\n",
       "\n",
       "    .dataframe tbody tr th {\n",
       "        vertical-align: top;\n",
       "    }\n",
       "\n",
       "    .dataframe thead th {\n",
       "        text-align: right;\n",
       "    }\n",
       "</style>\n",
       "<table border=\"1\" class=\"dataframe\">\n",
       "  <thead>\n",
       "    <tr style=\"text-align: right;\">\n",
       "      <th></th>\n",
       "      <th>cpi</th>\n",
       "      <th>idade</th>\n",
       "      <th>horas</th>\n",
       "    </tr>\n",
       "    <tr>\n",
       "      <th>pais</th>\n",
       "      <th></th>\n",
       "      <th></th>\n",
       "      <th></th>\n",
       "    </tr>\n",
       "  </thead>\n",
       "  <tbody>\n",
       "    <tr>\n",
       "      <th>Argentina</th>\n",
       "      <td>3.9</td>\n",
       "      <td>72</td>\n",
       "      <td>35.0</td>\n",
       "    </tr>\n",
       "    <tr>\n",
       "      <th>Australia</th>\n",
       "      <td>8.7</td>\n",
       "      <td>64</td>\n",
       "      <td>32.0</td>\n",
       "    </tr>\n",
       "    <tr>\n",
       "      <th>Austria</th>\n",
       "      <td>7.9</td>\n",
       "      <td>72</td>\n",
       "      <td>32.0</td>\n",
       "    </tr>\n",
       "    <tr>\n",
       "      <th>Belgium</th>\n",
       "      <td>7.1</td>\n",
       "      <td>67</td>\n",
       "      <td>30.1</td>\n",
       "    </tr>\n",
       "    <tr>\n",
       "      <th>Brazil</th>\n",
       "      <td>4.0</td>\n",
       "      <td>59</td>\n",
       "      <td>35.0</td>\n",
       "    </tr>\n",
       "  </tbody>\n",
       "</table>\n",
       "</div>"
      ],
      "text/plain": [
       "           cpi  idade  horas\n",
       "pais                        \n",
       "Argentina  3.9     72   35.0\n",
       "Australia  8.7     64   32.0\n",
       "Austria    7.9     72   32.0\n",
       "Belgium    7.1     67   30.1\n",
       "Brazil     4.0     59   35.0"
      ]
     },
     "execution_count": 4,
     "metadata": {},
     "output_type": "execute_result"
    }
   ],
   "source": [
    "#Transformar coluna em indice\n",
    "dados = dados.set_index('pais')\n",
    "dados.head()"
   ]
  },
  {
   "cell_type": "code",
   "execution_count": 5,
   "metadata": {},
   "outputs": [
    {
     "name": "stdout",
     "output_type": "stream",
     "text": [
      "<class 'pandas.core.frame.DataFrame'>\n",
      "Index: 50 entries, Argentina to Venezuela\n",
      "Data columns (total 3 columns):\n",
      " #   Column  Non-Null Count  Dtype  \n",
      "---  ------  --------------  -----  \n",
      " 0   cpi     50 non-null     float64\n",
      " 1   idade   50 non-null     int64  \n",
      " 2   horas   50 non-null     float64\n",
      "dtypes: float64(2), int64(1)\n",
      "memory usage: 1.6+ KB\n"
     ]
    }
   ],
   "source": [
    "#Info da tabela\n",
    "dados.info()"
   ]
  },
  {
   "cell_type": "markdown",
   "metadata": {},
   "source": [
    "**Temos 3 variáveis quantitativa**"
   ]
  },
  {
   "cell_type": "code",
   "execution_count": 6,
   "metadata": {},
   "outputs": [
    {
     "data": {
      "text/html": [
       "<div>\n",
       "<style scoped>\n",
       "    .dataframe tbody tr th:only-of-type {\n",
       "        vertical-align: middle;\n",
       "    }\n",
       "\n",
       "    .dataframe tbody tr th {\n",
       "        vertical-align: top;\n",
       "    }\n",
       "\n",
       "    .dataframe thead th {\n",
       "        text-align: right;\n",
       "    }\n",
       "</style>\n",
       "<table border=\"1\" class=\"dataframe\">\n",
       "  <thead>\n",
       "    <tr style=\"text-align: right;\">\n",
       "      <th></th>\n",
       "      <th>cpi</th>\n",
       "      <th>idade</th>\n",
       "      <th>horas</th>\n",
       "    </tr>\n",
       "  </thead>\n",
       "  <tbody>\n",
       "    <tr>\n",
       "      <th>count</th>\n",
       "      <td>50.000000</td>\n",
       "      <td>50.000000</td>\n",
       "      <td>50.000000</td>\n",
       "    </tr>\n",
       "    <tr>\n",
       "      <th>mean</th>\n",
       "      <td>4.894000</td>\n",
       "      <td>60.480000</td>\n",
       "      <td>32.660000</td>\n",
       "    </tr>\n",
       "    <tr>\n",
       "      <th>std</th>\n",
       "      <td>2.678974</td>\n",
       "      <td>10.022913</td>\n",
       "      <td>2.431091</td>\n",
       "    </tr>\n",
       "    <tr>\n",
       "      <th>min</th>\n",
       "      <td>0.800000</td>\n",
       "      <td>34.000000</td>\n",
       "      <td>26.799999</td>\n",
       "    </tr>\n",
       "    <tr>\n",
       "      <th>25%</th>\n",
       "      <td>2.575000</td>\n",
       "      <td>58.000000</td>\n",
       "      <td>31.400000</td>\n",
       "    </tr>\n",
       "    <tr>\n",
       "      <th>50%</th>\n",
       "      <td>3.950000</td>\n",
       "      <td>62.000000</td>\n",
       "      <td>32.600000</td>\n",
       "    </tr>\n",
       "    <tr>\n",
       "      <th>75%</th>\n",
       "      <td>7.475000</td>\n",
       "      <td>66.750000</td>\n",
       "      <td>34.400000</td>\n",
       "    </tr>\n",
       "    <tr>\n",
       "      <th>max</th>\n",
       "      <td>9.300000</td>\n",
       "      <td>79.000000</td>\n",
       "      <td>38.099998</td>\n",
       "    </tr>\n",
       "  </tbody>\n",
       "</table>\n",
       "</div>"
      ],
      "text/plain": [
       "             cpi      idade      horas\n",
       "count  50.000000  50.000000  50.000000\n",
       "mean    4.894000  60.480000  32.660000\n",
       "std     2.678974  10.022913   2.431091\n",
       "min     0.800000  34.000000  26.799999\n",
       "25%     2.575000  58.000000  31.400000\n",
       "50%     3.950000  62.000000  32.600000\n",
       "75%     7.475000  66.750000  34.400000\n",
       "max     9.300000  79.000000  38.099998"
      ]
     },
     "execution_count": 6,
     "metadata": {},
     "output_type": "execute_result"
    }
   ],
   "source": [
    "#Descrição dos dados\n",
    "dados.describe()"
   ]
  },
  {
   "cell_type": "markdown",
   "metadata": {},
   "source": [
    "# Gráfico de Dispersão "
   ]
  },
  {
   "cell_type": "code",
   "execution_count": 7,
   "metadata": {},
   "outputs": [
    {
     "data": {
      "image/png": "[encoded data removed]",
      "text/plain": [
       "<Figure size 432x288 with 1 Axes>"
      ]
     },
     "metadata": {
      "needs_background": "light"
     },
     "output_type": "display_data"
    }
   ],
   "source": [
    "# cpi X idade\n",
    "plt.scatter(x=dados['cpi'] ,y =dados['idade']);"
   ]
  },
  {
   "cell_type": "code",
   "execution_count": 8,
   "metadata": {},
   "outputs": [
    {
     "data": {
      "image/png": "[encoded data removed]",
      "text/plain": [
       "<Figure size 432x288 with 1 Axes>"
      ]
     },
     "metadata": {
      "needs_background": "light"
     },
     "output_type": "display_data"
    }
   ],
   "source": [
    "# cpi X horas\n",
    "plt.scatter(x=dados['cpi'] ,y =dados['horas']);"
   ]
  },
  {
   "cell_type": "code",
   "execution_count": 9,
   "metadata": {},
   "outputs": [
    {
     "data": {
      "image/png": "[encoded data removed]",
      "text/plain": [
       "<Figure size 432x288 with 1 Axes>"
      ]
     },
     "metadata": {
      "needs_background": "light"
     },
     "output_type": "display_data"
    }
   ],
   "source": [
    "# idade X horas\n",
    "plt.scatter(x=dados['idade'] ,y =dados['horas']);"
   ]
  },
  {
   "cell_type": "code",
   "execution_count": 10,
   "metadata": {},
   "outputs": [
    {
     "data": {
      "text/html": [
       "<div>\n",
       "<style scoped>\n",
       "    .dataframe tbody tr th:only-of-type {\n",
       "        vertical-align: middle;\n",
       "    }\n",
       "\n",
       "    .dataframe tbody tr th {\n",
       "        vertical-align: top;\n",
       "    }\n",
       "\n",
       "    .dataframe thead th {\n",
       "        text-align: right;\n",
       "    }\n",
       "</style>\n",
       "<table border=\"1\" class=\"dataframe\">\n",
       "  <thead>\n",
       "    <tr style=\"text-align: right;\">\n",
       "      <th></th>\n",
       "      <th>cpi</th>\n",
       "      <th>idade</th>\n",
       "      <th>horas</th>\n",
       "    </tr>\n",
       "  </thead>\n",
       "  <tbody>\n",
       "    <tr>\n",
       "      <th>cpi</th>\n",
       "      <td>1.000000</td>\n",
       "      <td>0.442838</td>\n",
       "      <td>-0.435724</td>\n",
       "    </tr>\n",
       "    <tr>\n",
       "      <th>idade</th>\n",
       "      <td>0.442838</td>\n",
       "      <td>1.000000</td>\n",
       "      <td>-0.191748</td>\n",
       "    </tr>\n",
       "    <tr>\n",
       "      <th>horas</th>\n",
       "      <td>-0.435724</td>\n",
       "      <td>-0.191748</td>\n",
       "      <td>1.000000</td>\n",
       "    </tr>\n",
       "  </tbody>\n",
       "</table>\n",
       "</div>"
      ],
      "text/plain": [
       "            cpi     idade     horas\n",
       "cpi    1.000000  0.442838 -0.435724\n",
       "idade  0.442838  1.000000 -0.191748\n",
       "horas -0.435724 -0.191748  1.000000"
      ]
     },
     "execution_count": 10,
     "metadata": {},
     "output_type": "execute_result"
    }
   ],
   "source": [
    "#Correlação de Pearson\n",
    "dados.corr()"
   ]
  },
  {
   "cell_type": "markdown",
   "metadata": {},
   "source": [
    "**Muita das vezes graficamente vai ser difícil saber se há uma correlação forte ou fraca entre 2 variáveis, uma maneira mais fácil é criar uma correlação de Pearson**"
   ]
  },
  {
   "cell_type": "markdown",
   "metadata": {},
   "source": [
    "**Note que há uma correlação fraca entre as variáveis 'horas', 'idade' e uma correlação media entre as variáveis 'idade','cpi' e 'cpi','horas'**"
   ]
  },
  {
   "cell_type": "markdown",
   "metadata": {},
   "source": [
    "# Modelagem - Regressão linear multipla"
   ]
  },
  {
   "cell_type": "code",
   "execution_count": 11,
   "metadata": {},
   "outputs": [],
   "source": [
    "#Separar as variáveis X e Y\n",
    "\n",
    "x=dados[['idade','horas']] \n",
    "\n",
    "y =dados['cpi']"
   ]
  },
  {
   "cell_type": "code",
   "execution_count": 12,
   "metadata": {},
   "outputs": [
    {
     "data": {
      "text/html": [
       "<table class=\"simpletable\">\n",
       "<caption>OLS Regression Results</caption>\n",
       "<tr>\n",
       "  <th>Dep. Variable:</th>           <td>cpi</td>       <th>  R-squared:         </th> <td>   0.324</td>\n",
       "</tr>\n",
       "<tr>\n",
       "  <th>Model:</th>                   <td>OLS</td>       <th>  Adj. R-squared:    </th> <td>   0.295</td>\n",
       "</tr>\n",
       "<tr>\n",
       "  <th>Method:</th>             <td>Least Squares</td>  <th>  F-statistic:       </th> <td>   11.26</td>\n",
       "</tr>\n",
       "<tr>\n",
       "  <th>Date:</th>             <td>Wed, 13 Jul 2022</td> <th>  Prob (F-statistic):</th> <td>0.000101</td>\n",
       "</tr>\n",
       "<tr>\n",
       "  <th>Time:</th>                 <td>08:46:15</td>     <th>  Log-Likelihood:    </th> <td> -109.93</td>\n",
       "</tr>\n",
       "<tr>\n",
       "  <th>No. Observations:</th>      <td>    50</td>      <th>  AIC:               </th> <td>   225.9</td>\n",
       "</tr>\n",
       "<tr>\n",
       "  <th>Df Residuals:</th>          <td>    47</td>      <th>  BIC:               </th> <td>   231.6</td>\n",
       "</tr>\n",
       "<tr>\n",
       "  <th>Df Model:</th>              <td>     2</td>      <th>                     </th>     <td> </td>   \n",
       "</tr>\n",
       "<tr>\n",
       "  <th>Covariance Type:</th>      <td>nonrobust</td>    <th>                     </th>     <td> </td>   \n",
       "</tr>\n",
       "</table>\n",
       "<table class=\"simpletable\">\n",
       "<tr>\n",
       "    <td></td>       <th>coef</th>     <th>std err</th>      <th>t</th>      <th>P>|t|</th>  <th>[0.025</th>    <th>0.975]</th>  \n",
       "</tr>\n",
       "<tr>\n",
       "  <th>const</th> <td>   11.9719</td> <td>    5.165</td> <td>    2.318</td> <td> 0.025</td> <td>    1.581</td> <td>   22.363</td>\n",
       "</tr>\n",
       "<tr>\n",
       "  <th>idade</th> <td>    0.0997</td> <td>    0.033</td> <td>    3.052</td> <td> 0.004</td> <td>    0.034</td> <td>    0.165</td>\n",
       "</tr>\n",
       "<tr>\n",
       "  <th>horas</th> <td>   -0.4013</td> <td>    0.135</td> <td>   -2.980</td> <td> 0.005</td> <td>   -0.672</td> <td>   -0.130</td>\n",
       "</tr>\n",
       "</table>\n",
       "<table class=\"simpletable\">\n",
       "<tr>\n",
       "  <th>Omnibus:</th>       <td> 3.389</td> <th>  Durbin-Watson:     </th> <td>   1.822</td>\n",
       "</tr>\n",
       "<tr>\n",
       "  <th>Prob(Omnibus):</th> <td> 0.184</td> <th>  Jarque-Bera (JB):  </th> <td>   1.762</td>\n",
       "</tr>\n",
       "<tr>\n",
       "  <th>Skew:</th>          <td> 0.131</td> <th>  Prob(JB):          </th> <td>   0.414</td>\n",
       "</tr>\n",
       "<tr>\n",
       "  <th>Kurtosis:</th>      <td> 2.119</td> <th>  Cond. No.          </th> <td>1.13e+03</td>\n",
       "</tr>\n",
       "</table><br/><br/>Notes:<br/>[1] Standard Errors assume that the covariance matrix of the errors is correctly specified.<br/>[2] The condition number is large, 1.13e+03. This might indicate that there are<br/>strong multicollinearity or other numerical problems."
      ],
      "text/plain": [
       "<class 'statsmodels.iolib.summary.Summary'>\n",
       "\"\"\"\n",
       "                            OLS Regression Results                            \n",
       "==============================================================================\n",
       "Dep. Variable:                    cpi   R-squared:                       0.324\n",
       "Model:                            OLS   Adj. R-squared:                  0.295\n",
       "Method:                 Least Squares   F-statistic:                     11.26\n",
       "Date:                Wed, 13 Jul 2022   Prob (F-statistic):           0.000101\n",
       "Time:                        08:46:15   Log-Likelihood:                -109.93\n",
       "No. Observations:                  50   AIC:                             225.9\n",
       "Df Residuals:                      47   BIC:                             231.6\n",
       "Df Model:                           2                                         \n",
       "Covariance Type:            nonrobust                                         \n",
       "==============================================================================\n",
       "                 coef    std err          t      P>|t|      [0.025      0.975]\n",
       "------------------------------------------------------------------------------\n",
       "const         11.9719      5.165      2.318      0.025       1.581      22.363\n",
       "idade          0.0997      0.033      3.052      0.004       0.034       0.165\n",
       "horas         -0.4013      0.135     -2.980      0.005      -0.672      -0.130\n",
       "==============================================================================\n",
       "Omnibus:                        3.389   Durbin-Watson:                   1.822\n",
       "Prob(Omnibus):                  0.184   Jarque-Bera (JB):                1.762\n",
       "Skew:                           0.131   Prob(JB):                        0.414\n",
       "Kurtosis:                       2.119   Cond. No.                     1.13e+03\n",
       "==============================================================================\n",
       "\n",
       "Notes:\n",
       "[1] Standard Errors assume that the covariance matrix of the errors is correctly specified.\n",
       "[2] The condition number is large, 1.13e+03. This might indicate that there are\n",
       "strong multicollinearity or other numerical problems.\n",
       "\"\"\""
      ]
     },
     "execution_count": 12,
     "metadata": {},
     "output_type": "execute_result"
    }
   ],
   "source": [
    "#Criar o modelo\n",
    "\n",
    "#Somente o Coeficiente angular\n",
    "modelo_coeangular = sm.OLS(y,x)\n",
    "\n",
    "# Somente o Intercept\n",
    "x_interc = sm.add_constant(x) \n",
    "\n",
    "# Modelo de regressão linear multipla\n",
    "modelo = sm.OLS(y,x_interc)\n",
    "\n",
    "# Treinar o modelo\n",
    "resultado = modelo.fit() \n",
    "\n",
    "# Verificar os dados do modelo\n",
    "resultado.summary()"
   ]
  },
  {
   "cell_type": "markdown",
   "metadata": {},
   "source": [
    "### Definição dos coeficientes:"
   ]
  },
  {
   "cell_type": "markdown",
   "metadata": {},
   "source": [
    "**R-squared(R²)** = Indica em forma de porcentagem o quanto da variável Dependente(y) é explicada através da variável Explicativas(X)\n",
    "\n",
    "**F-statistic:** = Permite analisar se pelo menos um dos betas é estatisticamente significante para a explicação do comportamento de Y\n",
    "\n",
    "**Df Residuals:** = São os graus de liberdade, o cálculo se dá através do número de observações do dataframe menos o número de parâmetros do algoritmo, o número também representa o máximo de variáveis explicativas eu posso ter em meu modelo**\n",
    "\n",
    "**Teste t:** = Verifica de forma individual se a variável é estatisticamente significante para a explicação do comportamento de Y\n"
   ]
  },
  {
   "cell_type": "markdown",
   "metadata": {},
   "source": [
    "## Calculo do R²:"
   ]
  },
  {
   "cell_type": "markdown",
   "metadata": {},
   "source": [
    "**Formula:**\n",
    "    \n",
    "R² = SQM/(SQM+SQE)"
   ]
  },
  {
   "cell_type": "code",
   "execution_count": 13,
   "metadata": {},
   "outputs": [
    {
     "data": {
      "text/plain": [
       "4.894000002145767"
      ]
     },
     "execution_count": 13,
     "metadata": {},
     "output_type": "execute_result"
    }
   ],
   "source": [
    "#Media dos dados da variavel target \n",
    "media_dados = np.mean(y)\n",
    "media_dados"
   ]
  },
  {
   "cell_type": "code",
   "execution_count": 14,
   "metadata": {},
   "outputs": [
    {
     "data": {
      "text/plain": [
       "pais\n",
       "Argentina    5.103394\n",
       "Australia    5.509820\n",
       "Austria      6.307404\n",
       "Belgium      6.571454\n",
       "Brazil       3.807319\n",
       "dtype: float64"
      ]
     },
     "execution_count": 14,
     "metadata": {},
     "output_type": "execute_result"
    }
   ],
   "source": [
    "# Previsao do modelo\n",
    "fitted = resultado.fittedvalues\n",
    "dados['fitted'] = fitted\n",
    "fitted[0:5]"
   ]
  },
  {
   "cell_type": "code",
   "execution_count": 15,
   "metadata": {},
   "outputs": [
    {
     "name": "stdout",
     "output_type": "stream",
     "text": [
      "pais\n",
      "Argentina   -1.203394\n",
      "Australia    3.190180\n",
      "Austria      1.592596\n",
      "Belgium      0.528546\n",
      "Brazil       0.192681\n",
      "dtype: float64\n",
      "\n",
      "Soma dos Erros: 0.0\n"
     ]
    }
   ],
   "source": [
    "#Erro do modelo\n",
    "dados['Erro'] = resultado.resid\n",
    "print(resultado.resid[0:5])\n",
    "print(f'\\nSoma dos Erros: {round(sum(resultado.resid),2)}')"
   ]
  },
  {
   "cell_type": "markdown",
   "metadata": {},
   "source": [
    "**Diferença entre o valor previsto e o valor real, soma dos valores precisa ser 0 para obter o melhor modelo**"
   ]
  },
  {
   "cell_type": "code",
   "execution_count": 16,
   "metadata": {},
   "outputs": [
    {
     "data": {
      "text/plain": [
       "237.7730069054655"
      ]
     },
     "execution_count": 16,
     "metadata": {},
     "output_type": "execute_result"
    }
   ],
   "source": [
    "#Soma dos erro do modelo²(SQE)\n",
    "dados['SQE'] = resultado.resid**2\n",
    "SQE = sum(resultado.resid**2)\n",
    "SQE"
   ]
  },
  {
   "cell_type": "markdown",
   "metadata": {},
   "source": [
    "**Soma dos erros do modelo ao quadrado para eliminar os valores negativos**"
   ]
  },
  {
   "cell_type": "code",
   "execution_count": 17,
   "metadata": {},
   "outputs": [
    {
     "data": {
      "text/plain": [
       "56.947597459862436"
      ]
     },
     "execution_count": 17,
     "metadata": {},
     "output_type": "execute_result"
    }
   ],
   "source": [
    "# SQM  \n",
    "SQM = (media_dados - fitted)**2\n",
    "dados['SQM'] = SQM\n",
    "SQM = sum(SQM)\n",
    "\n",
    "#Ou\n",
    "\n",
    "resultado.mse_model"
   ]
  },
  {
   "cell_type": "markdown",
   "metadata": {},
   "source": [
    "**Diferença entre a media dos dados menos a previsão do modelo ao quadrado**"
   ]
  },
  {
   "cell_type": "code",
   "execution_count": 18,
   "metadata": {},
   "outputs": [
    {
     "data": {
      "text/plain": [
       "0.32387117836812795"
      ]
     },
     "execution_count": 18,
     "metadata": {},
     "output_type": "execute_result"
    }
   ],
   "source": [
    "#R²\n",
    "r2 = SQM/(SQM+SQE)\n",
    "r2"
   ]
  },
  {
   "cell_type": "markdown",
   "metadata": {},
   "source": [
    "**Note que as variáveis X explicam 32% da variável Y, portanto 68% restante são explicadas por variáveis não presentes na amostra**"
   ]
  },
  {
   "cell_type": "markdown",
   "metadata": {},
   "source": [
    "## Calculo do F de Fisher-Snedecor"
   ]
  },
  {
   "cell_type": "code",
   "execution_count": 19,
   "metadata": {},
   "outputs": [
    {
     "data": {
      "text/plain": [
       "0.00010131927089412321"
      ]
     },
     "execution_count": 19,
     "metadata": {},
     "output_type": "execute_result"
    }
   ],
   "source": [
    "#Calculo da distribuição F\n",
    "\n",
    "#Numero de parametros do modelo\n",
    "K = len(resultado.cov_params())\n",
    "\n",
    "#Numero de observações da base de dados\n",
    "n = len(dados) \n",
    "\n",
    "#Calculo \n",
    "F = (SQM/(K-1))/(SQE/(n-K))\n",
    "\n",
    "#P_Valor do calculo do F de Fisher-Snedecor\n",
    "resultado.f_pvalue\n"
   ]
  },
  {
   "cell_type": "markdown",
   "metadata": {},
   "source": [
    "**Como o P_valor do cálculo da estatística F é menor que 0.05, concluímos que pelo menos 1 coeficiente Beta é estatisticamente significante, diferente de 0, portanto há modelo**"
   ]
  },
  {
   "cell_type": "markdown",
   "metadata": {},
   "source": [
    "## Teste t"
   ]
  },
  {
   "cell_type": "code",
   "execution_count": 20,
   "metadata": {},
   "outputs": [
    {
     "data": {
      "text/plain": [
       "const    0.024868\n",
       "idade    0.003731\n",
       "horas    0.004550\n",
       "dtype: float64"
      ]
     },
     "execution_count": 20,
     "metadata": {},
     "output_type": "execute_result"
    }
   ],
   "source": [
    "resultado.pvalues"
   ]
  },
  {
   "cell_type": "markdown",
   "metadata": {},
   "source": [
    "**As 2 variáveis explicativas se mostram estatisticamente significantes para a construção do modelo**  "
   ]
  },
  {
   "cell_type": "code",
   "execution_count": 21,
   "metadata": {},
   "outputs": [
    {
     "data": {
      "text/html": [
       "<div>\n",
       "<style scoped>\n",
       "    .dataframe tbody tr th:only-of-type {\n",
       "        vertical-align: middle;\n",
       "    }\n",
       "\n",
       "    .dataframe tbody tr th {\n",
       "        vertical-align: top;\n",
       "    }\n",
       "\n",
       "    .dataframe thead th {\n",
       "        text-align: right;\n",
       "    }\n",
       "</style>\n",
       "<table border=\"1\" class=\"dataframe\">\n",
       "  <thead>\n",
       "    <tr style=\"text-align: right;\">\n",
       "      <th></th>\n",
       "      <th>cpi</th>\n",
       "      <th>idade</th>\n",
       "      <th>horas</th>\n",
       "      <th>fitted</th>\n",
       "      <th>Erro</th>\n",
       "      <th>SQE</th>\n",
       "      <th>SQM</th>\n",
       "    </tr>\n",
       "  </thead>\n",
       "  <tbody>\n",
       "    <tr>\n",
       "      <th>Argentina</th>\n",
       "      <td>3.9</td>\n",
       "      <td>72.0</td>\n",
       "      <td>35.000000</td>\n",
       "      <td>5.103394</td>\n",
       "      <td>-1.203394</td>\n",
       "      <td>1.448157</td>\n",
       "      <td>0.043846</td>\n",
       "    </tr>\n",
       "    <tr>\n",
       "      <th>Australia</th>\n",
       "      <td>8.7</td>\n",
       "      <td>64.0</td>\n",
       "      <td>32.000000</td>\n",
       "      <td>5.509820</td>\n",
       "      <td>3.190180</td>\n",
       "      <td>10.177250</td>\n",
       "      <td>0.379234</td>\n",
       "    </tr>\n",
       "    <tr>\n",
       "      <th>Austria</th>\n",
       "      <td>7.9</td>\n",
       "      <td>72.0</td>\n",
       "      <td>32.000000</td>\n",
       "      <td>6.307404</td>\n",
       "      <td>1.592596</td>\n",
       "      <td>2.536361</td>\n",
       "      <td>1.997712</td>\n",
       "    </tr>\n",
       "    <tr>\n",
       "      <th>Belgium</th>\n",
       "      <td>7.1</td>\n",
       "      <td>67.0</td>\n",
       "      <td>30.100000</td>\n",
       "      <td>6.571454</td>\n",
       "      <td>0.528546</td>\n",
       "      <td>0.279361</td>\n",
       "      <td>2.813851</td>\n",
       "    </tr>\n",
       "    <tr>\n",
       "      <th>Brazil</th>\n",
       "      <td>4.0</td>\n",
       "      <td>59.0</td>\n",
       "      <td>35.000000</td>\n",
       "      <td>3.807319</td>\n",
       "      <td>0.192681</td>\n",
       "      <td>0.037126</td>\n",
       "      <td>1.180876</td>\n",
       "    </tr>\n",
       "    <tr>\n",
       "      <th>Canada</th>\n",
       "      <td>8.9</td>\n",
       "      <td>61.0</td>\n",
       "      <td>33.400002</td>\n",
       "      <td>4.648853</td>\n",
       "      <td>4.251146</td>\n",
       "      <td>18.072246</td>\n",
       "      <td>0.060097</td>\n",
       "    </tr>\n",
       "    <tr>\n",
       "      <th>Chile</th>\n",
       "      <td>6.2</td>\n",
       "      <td>70.0</td>\n",
       "      <td>34.000000</td>\n",
       "      <td>5.305335</td>\n",
       "      <td>0.894665</td>\n",
       "      <td>0.800426</td>\n",
       "      <td>0.169196</td>\n",
       "    </tr>\n",
       "    <tr>\n",
       "      <th>China</th>\n",
       "      <td>2.5</td>\n",
       "      <td>49.0</td>\n",
       "      <td>34.000000</td>\n",
       "      <td>3.211674</td>\n",
       "      <td>-0.711674</td>\n",
       "      <td>0.506480</td>\n",
       "      <td>2.830219</td>\n",
       "    </tr>\n",
       "    <tr>\n",
       "      <th>Colombia</th>\n",
       "      <td>4.0</td>\n",
       "      <td>79.0</td>\n",
       "      <td>33.000000</td>\n",
       "      <td>6.603954</td>\n",
       "      <td>-2.603954</td>\n",
       "      <td>6.780579</td>\n",
       "      <td>2.923944</td>\n",
       "    </tr>\n",
       "    <tr>\n",
       "      <th>Cyprus</th>\n",
       "      <td>6.3</td>\n",
       "      <td>58.0</td>\n",
       "      <td>32.000000</td>\n",
       "      <td>4.911631</td>\n",
       "      <td>1.388369</td>\n",
       "      <td>1.927569</td>\n",
       "      <td>0.000311</td>\n",
       "    </tr>\n",
       "    <tr>\n",
       "      <th>CzechÂ Rep</th>\n",
       "      <td>4.6</td>\n",
       "      <td>42.0</td>\n",
       "      <td>38.099998</td>\n",
       "      <td>0.868307</td>\n",
       "      <td>3.731692</td>\n",
       "      <td>13.925528</td>\n",
       "      <td>16.206200</td>\n",
       "    </tr>\n",
       "    <tr>\n",
       "      <th>Denmark</th>\n",
       "      <td>9.3</td>\n",
       "      <td>76.0</td>\n",
       "      <td>30.000000</td>\n",
       "      <td>7.508870</td>\n",
       "      <td>1.791130</td>\n",
       "      <td>3.208146</td>\n",
       "      <td>6.837548</td>\n",
       "    </tr>\n",
       "    <tr>\n",
       "      <th>Egypt</th>\n",
       "      <td>2.1</td>\n",
       "      <td>59.0</td>\n",
       "      <td>32.000000</td>\n",
       "      <td>5.011329</td>\n",
       "      <td>-2.911329</td>\n",
       "      <td>8.475838</td>\n",
       "      <td>0.013766</td>\n",
       "    </tr>\n",
       "    <tr>\n",
       "      <th>France</th>\n",
       "      <td>6.8</td>\n",
       "      <td>70.0</td>\n",
       "      <td>30.000000</td>\n",
       "      <td>6.910682</td>\n",
       "      <td>-0.110682</td>\n",
       "      <td>0.012250</td>\n",
       "      <td>4.067006</td>\n",
       "    </tr>\n",
       "    <tr>\n",
       "      <th>Germany</th>\n",
       "      <td>7.9</td>\n",
       "      <td>66.0</td>\n",
       "      <td>27.500000</td>\n",
       "      <td>7.515231</td>\n",
       "      <td>0.384769</td>\n",
       "      <td>0.148047</td>\n",
       "      <td>6.870854</td>\n",
       "    </tr>\n",
       "    <tr>\n",
       "      <th>Greece</th>\n",
       "      <td>3.5</td>\n",
       "      <td>60.0</td>\n",
       "      <td>30.000000</td>\n",
       "      <td>5.913701</td>\n",
       "      <td>-2.413701</td>\n",
       "      <td>5.825951</td>\n",
       "      <td>1.039790</td>\n",
       "    </tr>\n",
       "    <tr>\n",
       "      <th>Iceland</th>\n",
       "      <td>8.5</td>\n",
       "      <td>53.0</td>\n",
       "      <td>31.000000</td>\n",
       "      <td>4.814477</td>\n",
       "      <td>3.685523</td>\n",
       "      <td>13.583078</td>\n",
       "      <td>0.006324</td>\n",
       "    </tr>\n",
       "    <tr>\n",
       "      <th>India</th>\n",
       "      <td>2.3</td>\n",
       "      <td>56.0</td>\n",
       "      <td>29.799999</td>\n",
       "      <td>5.595176</td>\n",
       "      <td>-3.295176</td>\n",
       "      <td>10.858185</td>\n",
       "      <td>0.491648</td>\n",
       "    </tr>\n",
       "    <tr>\n",
       "      <th>Indonesia</th>\n",
       "      <td>1.8</td>\n",
       "      <td>63.0</td>\n",
       "      <td>33.500000</td>\n",
       "      <td>4.808116</td>\n",
       "      <td>-3.008116</td>\n",
       "      <td>9.048764</td>\n",
       "      <td>0.007376</td>\n",
       "    </tr>\n",
       "    <tr>\n",
       "      <th>Iraq</th>\n",
       "      <td>0.8</td>\n",
       "      <td>42.0</td>\n",
       "      <td>32.000000</td>\n",
       "      <td>3.316461</td>\n",
       "      <td>-2.516461</td>\n",
       "      <td>6.332577</td>\n",
       "      <td>2.488629</td>\n",
       "    </tr>\n",
       "    <tr>\n",
       "      <th>Ireland</th>\n",
       "      <td>8.0</td>\n",
       "      <td>63.0</td>\n",
       "      <td>31.299999</td>\n",
       "      <td>5.691058</td>\n",
       "      <td>2.308942</td>\n",
       "      <td>5.331215</td>\n",
       "      <td>0.635301</td>\n",
       "    </tr>\n",
       "    <tr>\n",
       "      <th>Italy</th>\n",
       "      <td>3.9</td>\n",
       "      <td>66.0</td>\n",
       "      <td>35.099998</td>\n",
       "      <td>4.465072</td>\n",
       "      <td>-0.565072</td>\n",
       "      <td>0.319307</td>\n",
       "      <td>0.183979</td>\n",
       "    </tr>\n",
       "    <tr>\n",
       "      <th>Jordan</th>\n",
       "      <td>2.0</td>\n",
       "      <td>58.0</td>\n",
       "      <td>32.000000</td>\n",
       "      <td>4.911631</td>\n",
       "      <td>-2.911631</td>\n",
       "      <td>8.477595</td>\n",
       "      <td>0.000311</td>\n",
       "    </tr>\n",
       "    <tr>\n",
       "      <th>Kazakhstan</th>\n",
       "      <td>1.9</td>\n",
       "      <td>44.0</td>\n",
       "      <td>33.900002</td>\n",
       "      <td>2.753317</td>\n",
       "      <td>-0.853317</td>\n",
       "      <td>0.728150</td>\n",
       "      <td>4.582524</td>\n",
       "    </tr>\n",
       "    <tr>\n",
       "      <th>Kuwait</th>\n",
       "      <td>2.8</td>\n",
       "      <td>62.0</td>\n",
       "      <td>32.400002</td>\n",
       "      <td>5.149888</td>\n",
       "      <td>-2.349888</td>\n",
       "      <td>5.521974</td>\n",
       "      <td>0.065479</td>\n",
       "    </tr>\n",
       "    <tr>\n",
       "      <th>Lebanon</th>\n",
       "      <td>1.5</td>\n",
       "      <td>39.0</td>\n",
       "      <td>31.700001</td>\n",
       "      <td>3.137768</td>\n",
       "      <td>-1.637768</td>\n",
       "      <td>2.682283</td>\n",
       "      <td>3.084352</td>\n",
       "    </tr>\n",
       "    <tr>\n",
       "      <th>Malaysia</th>\n",
       "      <td>3.4</td>\n",
       "      <td>73.0</td>\n",
       "      <td>32.799999</td>\n",
       "      <td>6.086033</td>\n",
       "      <td>-2.686033</td>\n",
       "      <td>7.214775</td>\n",
       "      <td>1.420944</td>\n",
       "    </tr>\n",
       "    <tr>\n",
       "      <th>Netherlands</th>\n",
       "      <td>8.8</td>\n",
       "      <td>61.0</td>\n",
       "      <td>26.799999</td>\n",
       "      <td>7.297677</td>\n",
       "      <td>1.502323</td>\n",
       "      <td>2.256975</td>\n",
       "      <td>5.777662</td>\n",
       "    </tr>\n",
       "    <tr>\n",
       "      <th>NewÂ Zealand</th>\n",
       "      <td>9.3</td>\n",
       "      <td>65.0</td>\n",
       "      <td>31.000000</td>\n",
       "      <td>6.010855</td>\n",
       "      <td>3.289146</td>\n",
       "      <td>10.818479</td>\n",
       "      <td>1.247364</td>\n",
       "    </tr>\n",
       "    <tr>\n",
       "      <th>Norway</th>\n",
       "      <td>8.6</td>\n",
       "      <td>64.0</td>\n",
       "      <td>27.100000</td>\n",
       "      <td>7.476370</td>\n",
       "      <td>1.123631</td>\n",
       "      <td>1.262546</td>\n",
       "      <td>6.668633</td>\n",
       "    </tr>\n",
       "    <tr>\n",
       "      <th>Oman</th>\n",
       "      <td>3.3</td>\n",
       "      <td>58.0</td>\n",
       "      <td>33.200001</td>\n",
       "      <td>4.430027</td>\n",
       "      <td>-1.130027</td>\n",
       "      <td>1.276960</td>\n",
       "      <td>0.215271</td>\n",
       "    </tr>\n",
       "    <tr>\n",
       "      <th>Philippines</th>\n",
       "      <td>1.4</td>\n",
       "      <td>75.0</td>\n",
       "      <td>34.700001</td>\n",
       "      <td>5.522889</td>\n",
       "      <td>-4.122889</td>\n",
       "      <td>16.998216</td>\n",
       "      <td>0.395502</td>\n",
       "    </tr>\n",
       "    <tr>\n",
       "      <th>Poland</th>\n",
       "      <td>5.3</td>\n",
       "      <td>50.0</td>\n",
       "      <td>38.000000</td>\n",
       "      <td>1.706025</td>\n",
       "      <td>3.593975</td>\n",
       "      <td>12.916655</td>\n",
       "      <td>10.163182</td>\n",
       "    </tr>\n",
       "    <tr>\n",
       "      <th>Portugal</th>\n",
       "      <td>6.0</td>\n",
       "      <td>69.0</td>\n",
       "      <td>33.200001</td>\n",
       "      <td>5.526706</td>\n",
       "      <td>0.473294</td>\n",
       "      <td>0.224007</td>\n",
       "      <td>0.400317</td>\n",
       "    </tr>\n",
       "    <tr>\n",
       "      <th>Romania</th>\n",
       "      <td>3.7</td>\n",
       "      <td>67.0</td>\n",
       "      <td>34.500000</td>\n",
       "      <td>4.805572</td>\n",
       "      <td>-1.105572</td>\n",
       "      <td>1.222289</td>\n",
       "      <td>0.007820</td>\n",
       "    </tr>\n",
       "    <tr>\n",
       "      <th>Russia</th>\n",
       "      <td>2.1</td>\n",
       "      <td>46.0</td>\n",
       "      <td>34.900002</td>\n",
       "      <td>2.551376</td>\n",
       "      <td>-0.451376</td>\n",
       "      <td>0.203741</td>\n",
       "      <td>5.487885</td>\n",
       "    </tr>\n",
       "    <tr>\n",
       "      <th>SaudiÂ Arabia</th>\n",
       "      <td>3.7</td>\n",
       "      <td>58.0</td>\n",
       "      <td>33.799999</td>\n",
       "      <td>4.189225</td>\n",
       "      <td>-0.489225</td>\n",
       "      <td>0.239341</td>\n",
       "      <td>0.496708</td>\n",
       "    </tr>\n",
       "    <tr>\n",
       "      <th>Serbia</th>\n",
       "      <td>3.5</td>\n",
       "      <td>61.0</td>\n",
       "      <td>34.500000</td>\n",
       "      <td>4.207383</td>\n",
       "      <td>-0.707383</td>\n",
       "      <td>0.500391</td>\n",
       "      <td>0.471442</td>\n",
       "    </tr>\n",
       "    <tr>\n",
       "      <th>SouthÂ Africa</th>\n",
       "      <td>2.8</td>\n",
       "      <td>64.0</td>\n",
       "      <td>37.799999</td>\n",
       "      <td>3.182067</td>\n",
       "      <td>-0.382067</td>\n",
       "      <td>0.145975</td>\n",
       "      <td>2.930716</td>\n",
       "    </tr>\n",
       "    <tr>\n",
       "      <th>Spain</th>\n",
       "      <td>6.1</td>\n",
       "      <td>62.0</td>\n",
       "      <td>31.799999</td>\n",
       "      <td>5.390691</td>\n",
       "      <td>0.709309</td>\n",
       "      <td>0.503119</td>\n",
       "      <td>0.246702</td>\n",
       "    </tr>\n",
       "    <tr>\n",
       "      <th>Sweden</th>\n",
       "      <td>9.2</td>\n",
       "      <td>70.0</td>\n",
       "      <td>30.000000</td>\n",
       "      <td>6.910682</td>\n",
       "      <td>2.289318</td>\n",
       "      <td>5.240977</td>\n",
       "      <td>4.067006</td>\n",
       "    </tr>\n",
       "    <tr>\n",
       "      <th>Switzerland</th>\n",
       "      <td>8.7</td>\n",
       "      <td>65.0</td>\n",
       "      <td>32.000000</td>\n",
       "      <td>5.609518</td>\n",
       "      <td>3.090482</td>\n",
       "      <td>9.551079</td>\n",
       "      <td>0.511966</td>\n",
       "    </tr>\n",
       "    <tr>\n",
       "      <th>Syria</th>\n",
       "      <td>1.0</td>\n",
       "      <td>34.0</td>\n",
       "      <td>32.000000</td>\n",
       "      <td>2.518876</td>\n",
       "      <td>-1.518876</td>\n",
       "      <td>2.306985</td>\n",
       "      <td>5.641212</td>\n",
       "    </tr>\n",
       "    <tr>\n",
       "      <th>Taiwan</th>\n",
       "      <td>3.8</td>\n",
       "      <td>63.0</td>\n",
       "      <td>34.099998</td>\n",
       "      <td>4.567315</td>\n",
       "      <td>-0.767315</td>\n",
       "      <td>0.588772</td>\n",
       "      <td>0.106723</td>\n",
       "    </tr>\n",
       "    <tr>\n",
       "      <th>Thailand</th>\n",
       "      <td>2.5</td>\n",
       "      <td>68.0</td>\n",
       "      <td>31.200001</td>\n",
       "      <td>6.229681</td>\n",
       "      <td>-3.729681</td>\n",
       "      <td>13.910522</td>\n",
       "      <td>1.784044</td>\n",
       "    </tr>\n",
       "    <tr>\n",
       "      <th>Turkey</th>\n",
       "      <td>4.4</td>\n",
       "      <td>61.0</td>\n",
       "      <td>34.500000</td>\n",
       "      <td>4.207383</td>\n",
       "      <td>0.192617</td>\n",
       "      <td>0.037101</td>\n",
       "      <td>0.471442</td>\n",
       "    </tr>\n",
       "    <tr>\n",
       "      <th>Ukraine</th>\n",
       "      <td>2.4</td>\n",
       "      <td>44.0</td>\n",
       "      <td>32.799999</td>\n",
       "      <td>3.194788</td>\n",
       "      <td>-0.794788</td>\n",
       "      <td>0.631688</td>\n",
       "      <td>2.887320</td>\n",
       "    </tr>\n",
       "    <tr>\n",
       "      <th>UnitedÂ Kingdom</th>\n",
       "      <td>7.6</td>\n",
       "      <td>60.0</td>\n",
       "      <td>32.099998</td>\n",
       "      <td>5.070894</td>\n",
       "      <td>2.529106</td>\n",
       "      <td>6.396376</td>\n",
       "      <td>0.031292</td>\n",
       "    </tr>\n",
       "    <tr>\n",
       "      <th>UnitedÂ States</th>\n",
       "      <td>7.1</td>\n",
       "      <td>65.0</td>\n",
       "      <td>34.500000</td>\n",
       "      <td>4.606176</td>\n",
       "      <td>2.493824</td>\n",
       "      <td>6.219159</td>\n",
       "      <td>0.082843</td>\n",
       "    </tr>\n",
       "    <tr>\n",
       "      <th>Venezuela</th>\n",
       "      <td>2.8</td>\n",
       "      <td>51.0</td>\n",
       "      <td>34.900002</td>\n",
       "      <td>3.049867</td>\n",
       "      <td>-0.249867</td>\n",
       "      <td>0.062434</td>\n",
       "      <td>3.400827</td>\n",
       "    </tr>\n",
       "    <tr>\n",
       "      <th>soma</th>\n",
       "      <td>244.7</td>\n",
       "      <td>3024.0</td>\n",
       "      <td>1633.000000</td>\n",
       "      <td>244.700000</td>\n",
       "      <td>0.000000</td>\n",
       "      <td>237.770000</td>\n",
       "      <td>113.900000</td>\n",
       "    </tr>\n",
       "  </tbody>\n",
       "</table>\n",
       "</div>"
      ],
      "text/plain": [
       "                   cpi   idade        horas      fitted      Erro         SQE  \\\n",
       "Argentina          3.9    72.0    35.000000    5.103394 -1.203394    1.448157   \n",
       "Australia          8.7    64.0    32.000000    5.509820  3.190180   10.177250   \n",
       "Austria            7.9    72.0    32.000000    6.307404  1.592596    2.536361   \n",
       "Belgium            7.1    67.0    30.100000    6.571454  0.528546    0.279361   \n",
       "Brazil             4.0    59.0    35.000000    3.807319  0.192681    0.037126   \n",
       "Canada             8.9    61.0    33.400002    4.648853  4.251146   18.072246   \n",
       "Chile              6.2    70.0    34.000000    5.305335  0.894665    0.800426   \n",
       "China              2.5    49.0    34.000000    3.211674 -0.711674    0.506480   \n",
       "Colombia           4.0    79.0    33.000000    6.603954 -2.603954    6.780579   \n",
       "Cyprus             6.3    58.0    32.000000    4.911631  1.388369    1.927569   \n",
       "CzechÂ Rep         4.6    42.0    38.099998    0.868307  3.731692   13.925528   \n",
       "Denmark            9.3    76.0    30.000000    7.508870  1.791130    3.208146   \n",
       "Egypt              2.1    59.0    32.000000    5.011329 -2.911329    8.475838   \n",
       "France             6.8    70.0    30.000000    6.910682 -0.110682    0.012250   \n",
       "Germany            7.9    66.0    27.500000    7.515231  0.384769    0.148047   \n",
       "Greece             3.5    60.0    30.000000    5.913701 -2.413701    5.825951   \n",
       "Iceland            8.5    53.0    31.000000    4.814477  3.685523   13.583078   \n",
       "India              2.3    56.0    29.799999    5.595176 -3.295176   10.858185   \n",
       "Indonesia          1.8    63.0    33.500000    4.808116 -3.008116    9.048764   \n",
       "Iraq               0.8    42.0    32.000000    3.316461 -2.516461    6.332577   \n",
       "Ireland            8.0    63.0    31.299999    5.691058  2.308942    5.331215   \n",
       "Italy              3.9    66.0    35.099998    4.465072 -0.565072    0.319307   \n",
       "Jordan             2.0    58.0    32.000000    4.911631 -2.911631    8.477595   \n",
       "Kazakhstan         1.9    44.0    33.900002    2.753317 -0.853317    0.728150   \n",
       "Kuwait             2.8    62.0    32.400002    5.149888 -2.349888    5.521974   \n",
       "Lebanon            1.5    39.0    31.700001    3.137768 -1.637768    2.682283   \n",
       "Malaysia           3.4    73.0    32.799999    6.086033 -2.686033    7.214775   \n",
       "Netherlands        8.8    61.0    26.799999    7.297677  1.502323    2.256975   \n",
       "NewÂ Zealand       9.3    65.0    31.000000    6.010855  3.289146   10.818479   \n",
       "Norway             8.6    64.0    27.100000    7.476370  1.123631    1.262546   \n",
       "Oman               3.3    58.0    33.200001    4.430027 -1.130027    1.276960   \n",
       "Philippines        1.4    75.0    34.700001    5.522889 -4.122889   16.998216   \n",
       "Poland             5.3    50.0    38.000000    1.706025  3.593975   12.916655   \n",
       "Portugal           6.0    69.0    33.200001    5.526706  0.473294    0.224007   \n",
       "Romania            3.7    67.0    34.500000    4.805572 -1.105572    1.222289   \n",
       "Russia             2.1    46.0    34.900002    2.551376 -0.451376    0.203741   \n",
       "SaudiÂ Arabia      3.7    58.0    33.799999    4.189225 -0.489225    0.239341   \n",
       "Serbia             3.5    61.0    34.500000    4.207383 -0.707383    0.500391   \n",
       "SouthÂ Africa      2.8    64.0    37.799999    3.182067 -0.382067    0.145975   \n",
       "Spain              6.1    62.0    31.799999    5.390691  0.709309    0.503119   \n",
       "Sweden             9.2    70.0    30.000000    6.910682  2.289318    5.240977   \n",
       "Switzerland        8.7    65.0    32.000000    5.609518  3.090482    9.551079   \n",
       "Syria              1.0    34.0    32.000000    2.518876 -1.518876    2.306985   \n",
       "Taiwan             3.8    63.0    34.099998    4.567315 -0.767315    0.588772   \n",
       "Thailand           2.5    68.0    31.200001    6.229681 -3.729681   13.910522   \n",
       "Turkey             4.4    61.0    34.500000    4.207383  0.192617    0.037101   \n",
       "Ukraine            2.4    44.0    32.799999    3.194788 -0.794788    0.631688   \n",
       "UnitedÂ Kingdom    7.6    60.0    32.099998    5.070894  2.529106    6.396376   \n",
       "UnitedÂ States     7.1    65.0    34.500000    4.606176  2.493824    6.219159   \n",
       "Venezuela          2.8    51.0    34.900002    3.049867 -0.249867    0.062434   \n",
       "soma             244.7  3024.0  1633.000000  244.700000  0.000000  237.770000   \n",
       "\n",
       "                        SQM  \n",
       "Argentina          0.043846  \n",
       "Australia          0.379234  \n",
       "Austria            1.997712  \n",
       "Belgium            2.813851  \n",
       "Brazil             1.180876  \n",
       "Canada             0.060097  \n",
       "Chile              0.169196  \n",
       "China              2.830219  \n",
       "Colombia           2.923944  \n",
       "Cyprus             0.000311  \n",
       "CzechÂ Rep        16.206200  \n",
       "Denmark            6.837548  \n",
       "Egypt              0.013766  \n",
       "France             4.067006  \n",
       "Germany            6.870854  \n",
       "Greece             1.039790  \n",
       "Iceland            0.006324  \n",
       "India              0.491648  \n",
       "Indonesia          0.007376  \n",
       "Iraq               2.488629  \n",
       "Ireland            0.635301  \n",
       "Italy              0.183979  \n",
       "Jordan             0.000311  \n",
       "Kazakhstan         4.582524  \n",
       "Kuwait             0.065479  \n",
       "Lebanon            3.084352  \n",
       "Malaysia           1.420944  \n",
       "Netherlands        5.777662  \n",
       "NewÂ Zealand       1.247364  \n",
       "Norway             6.668633  \n",
       "Oman               0.215271  \n",
       "Philippines        0.395502  \n",
       "Poland            10.163182  \n",
       "Portugal           0.400317  \n",
       "Romania            0.007820  \n",
       "Russia             5.487885  \n",
       "SaudiÂ Arabia      0.496708  \n",
       "Serbia             0.471442  \n",
       "SouthÂ Africa      2.930716  \n",
       "Spain              0.246702  \n",
       "Sweden             4.067006  \n",
       "Switzerland        0.511966  \n",
       "Syria              5.641212  \n",
       "Taiwan             0.106723  \n",
       "Thailand           1.784044  \n",
       "Turkey             0.471442  \n",
       "Ukraine            2.887320  \n",
       "UnitedÂ Kingdom    0.031292  \n",
       "UnitedÂ States     0.082843  \n",
       "Venezuela          3.400827  \n",
       "soma             113.900000  "
      ]
     },
     "execution_count": 21,
     "metadata": {},
     "output_type": "execute_result"
    }
   ],
   "source": [
    "#Banco de dados Completo \n",
    "\n",
    "#Soma das colunas\n",
    "a =round(dados.sum(axis=0),2).to_frame().T\n",
    "a.index = ['soma']\n",
    "\n",
    "#Concatenar a soma das colunas com os dados \n",
    "pd.concat([dados,a])"
   ]
  },
  {
   "cell_type": "markdown",
   "metadata": {},
   "source": [
    "# Conclusão"
   ]
  },
  {
   "cell_type": "markdown",
   "metadata": {},
   "source": [
    "**Objetivo do script foi criar uma regressão linear múltipla para conseguir interpretar com maior facilidade os resultados de uma regressão, sabendo como interpretar os coeficientes, as medidas de ajuste e como as variáveis preditoras impacta a variável de resultado**"
   ]
  },
  {
   "cell_type": "code",
   "execution_count": null,
   "metadata": {},
   "outputs": [],
   "source": []
  }
 ],
 "metadata": {
  "anaconda-cloud": {},
  "kernelspec": {
   "display_name": "Python 3 (ipykernel)",
   "language": "python",
   "name": "python3"
  },
  "language_info": {
   "codemirror_mode": {
    "name": "ipython",
    "version": 3
   },
   "file_extension": ".py",
   "mimetype": "text/x-python",
   "name": "python",
   "nbconvert_exporter": "python",
   "pygments_lexer": "ipython3",
   "version": "3.9.12"
  }
 },
 "nbformat": 4,
 "nbformat_minor": 1
}
