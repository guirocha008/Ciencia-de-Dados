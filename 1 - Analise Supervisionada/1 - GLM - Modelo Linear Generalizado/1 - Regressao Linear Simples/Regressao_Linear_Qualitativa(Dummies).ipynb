{
 "cells": [
  {
   "cell_type": "markdown",
   "metadata": {},
   "source": [
    "# $$Regressão~Linear: Variáveis~Categóricas(Dummies)$$"
   ]
  },
  {
   "cell_type": "markdown",
   "metadata": {},
   "source": [
    "### $$Conceito:$$\n",
    "\n",
    "\n",
    "A **Regressão Linear Simples** é modelo mais simples de regressão linear. Nela, utilizamos apenas uma variável de desfecho e uma variável preditora. Quando utilizamos mais variáveis preditoras, chamamos de Regressão Linear Múltipla.\n",
    "\n",
    "\n",
    "Na modelagem é comum encontrarmos diversos tipos de modelos que têm como pré-requisito que todas as variáveis sejam numéricas, mas o que fazer com as **variáveis categóricas** nessas situações?\n",
    "\n",
    "\n",
    "\n",
    "### $$Variáveis~Dummies$$\n",
    "\n",
    "Uma forma de introduzir **características qualitativas** em modelos econométricos consiste na utilização de **variáveis dummy (fictícia, postiça)**, frequentemente chamadas de variáveis **binárias ou dicotômicas**, uma vez que assumem apenas um de dois valores – em geral 0 ou 1 – para indicar a presença ou ausência de determinada característica\n",
    "\n",
    "\n",
    "\n",
    "As **variáveis dummys** devem ser utilizadas sempre que desejarmos incluir **variáveis categóricas** em modelos que aceitam apenas **variáveis numéricas**\n",
    "\n",
    "\n",
    "\n",
    "Em um caso de variável com **3 ou mais categorias**, seria necessário criar sempre **n-1 dummies**, pois o valor médio que esta categoria representa estará associada ao intercepto do modelo e  o peso das outras variáveis será considerada sempre em relação as observações da variável de intercepto\n"
   ]
  },
  {
   "cell_type": "markdown",
   "metadata": {},
   "source": [
    "__------------------------------------------------------------------------------------------------------------------------------------------------------------------------------------------------------------------__\n",
    "\n",
    "\n",
    "__------------------------------------------------------------------------------------------------------------------------------------------------------------------------------------------------------------------__"
   ]
  },
  {
   "cell_type": "markdown",
   "metadata": {},
   "source": [
    "## $$Objetivo:$$   \n",
    "\n",
    "## $$Criar ~um ~modelo~ de~ regressão~ linear~ com~variáveis~dummies$$"
   ]
  },
  {
   "cell_type": "markdown",
   "metadata": {},
   "source": [
    "__------------------------------------------------------------------------------------------------------------------------------------------------------------------------------------------------------------------__\n",
    "\n",
    "\n",
    "__------------------------------------------------------------------------------------------------------------------------------------------------------------------------------------------------------------------__"
   ]
  },
  {
   "cell_type": "code",
   "execution_count": 1,
   "metadata": {},
   "outputs": [],
   "source": [
    "# Pacotes\n",
    "import pandas as pd\n",
    "import numpy as np"
   ]
  },
  {
   "cell_type": "markdown",
   "metadata": {},
   "source": [
    "# Banco de dados "
   ]
  },
  {
   "cell_type": "code",
   "execution_count": 2,
   "metadata": {},
   "outputs": [
    {
     "data": {
      "text/html": [
       "<div>\n",
       "<style scoped>\n",
       "    .dataframe tbody tr th:only-of-type {\n",
       "        vertical-align: middle;\n",
       "    }\n",
       "\n",
       "    .dataframe tbody tr th {\n",
       "        vertical-align: top;\n",
       "    }\n",
       "\n",
       "    .dataframe thead th {\n",
       "        text-align: right;\n",
       "    }\n",
       "</style>\n",
       "<table border=\"1\" class=\"dataframe\">\n",
       "  <thead>\n",
       "    <tr style=\"text-align: right;\">\n",
       "      <th></th>\n",
       "      <th>pais</th>\n",
       "      <th>cpi</th>\n",
       "      <th>regiao</th>\n",
       "    </tr>\n",
       "  </thead>\n",
       "  <tbody>\n",
       "    <tr>\n",
       "      <th>0</th>\n",
       "      <td>Argentina</td>\n",
       "      <td>3.9</td>\n",
       "      <td>América do Sul</td>\n",
       "    </tr>\n",
       "    <tr>\n",
       "      <th>1</th>\n",
       "      <td>Australia</td>\n",
       "      <td>8.7</td>\n",
       "      <td>Oceania</td>\n",
       "    </tr>\n",
       "    <tr>\n",
       "      <th>2</th>\n",
       "      <td>Austria</td>\n",
       "      <td>7.9</td>\n",
       "      <td>Europa</td>\n",
       "    </tr>\n",
       "    <tr>\n",
       "      <th>3</th>\n",
       "      <td>Belgium</td>\n",
       "      <td>7.1</td>\n",
       "      <td>Europa</td>\n",
       "    </tr>\n",
       "    <tr>\n",
       "      <th>4</th>\n",
       "      <td>Brazil</td>\n",
       "      <td>4.0</td>\n",
       "      <td>América do Sul</td>\n",
       "    </tr>\n",
       "  </tbody>\n",
       "</table>\n",
       "</div>"
      ],
      "text/plain": [
       "        pais  cpi          regiao\n",
       "0  Argentina  3.9  América do Sul\n",
       "1  Australia  8.7         Oceania\n",
       "2    Austria  7.9          Europa\n",
       "3    Belgium  7.1          Europa\n",
       "4     Brazil  4.0  América do Sul"
      ]
     },
     "execution_count": 2,
     "metadata": {},
     "output_type": "execute_result"
    }
   ],
   "source": [
    "#Carregar tabela\n",
    "dados = pd.read_table(\"corrupcao.csv\",sep=\",\",encoding=\"latin-1\")\n",
    "dados.head()\n"
   ]
  },
  {
   "cell_type": "code",
   "execution_count": 3,
   "metadata": {},
   "outputs": [
    {
     "data": {
      "text/plain": [
       "(50, 3)"
      ]
     },
     "execution_count": 3,
     "metadata": {},
     "output_type": "execute_result"
    }
   ],
   "source": [
    "dados.shape"
   ]
  },
  {
   "cell_type": "markdown",
   "metadata": {},
   "source": [
    "**Tabela com 50 observações e 3 variáveis**"
   ]
  },
  {
   "cell_type": "markdown",
   "metadata": {},
   "source": [
    "# $$Dicionário~ de~ Dados~ das~ variáveis$$\n",
    "\n",
    "### **$$Variáveis:$$**\n",
    "\n",
    "**pais:** Nome do País\n",
    "\n",
    "\n",
    "**cpi:** Indice de percepção de corrupção dos habitante do País, Nota varia de 0 a 10, quanto maior a nota, melhor a percepção do mecanismo de corrupção\n",
    "\n",
    "\n",
    "**regiao:** Continente que pertence o país "
   ]
  },
  {
   "cell_type": "markdown",
   "metadata": {},
   "source": [
    "# Analise Exploratória"
   ]
  },
  {
   "cell_type": "code",
   "execution_count": 4,
   "metadata": {},
   "outputs": [
    {
     "data": {
      "text/html": [
       "<div>\n",
       "<style scoped>\n",
       "    .dataframe tbody tr th:only-of-type {\n",
       "        vertical-align: middle;\n",
       "    }\n",
       "\n",
       "    .dataframe tbody tr th {\n",
       "        vertical-align: top;\n",
       "    }\n",
       "\n",
       "    .dataframe thead th {\n",
       "        text-align: right;\n",
       "    }\n",
       "</style>\n",
       "<table border=\"1\" class=\"dataframe\">\n",
       "  <thead>\n",
       "    <tr style=\"text-align: right;\">\n",
       "      <th></th>\n",
       "      <th>cpi</th>\n",
       "      <th>regiao</th>\n",
       "    </tr>\n",
       "    <tr>\n",
       "      <th>pais</th>\n",
       "      <th></th>\n",
       "      <th></th>\n",
       "    </tr>\n",
       "  </thead>\n",
       "  <tbody>\n",
       "    <tr>\n",
       "      <th>Argentina</th>\n",
       "      <td>3.9</td>\n",
       "      <td>América do Sul</td>\n",
       "    </tr>\n",
       "    <tr>\n",
       "      <th>Australia</th>\n",
       "      <td>8.7</td>\n",
       "      <td>Oceania</td>\n",
       "    </tr>\n",
       "    <tr>\n",
       "      <th>Austria</th>\n",
       "      <td>7.9</td>\n",
       "      <td>Europa</td>\n",
       "    </tr>\n",
       "    <tr>\n",
       "      <th>Belgium</th>\n",
       "      <td>7.1</td>\n",
       "      <td>Europa</td>\n",
       "    </tr>\n",
       "    <tr>\n",
       "      <th>Brazil</th>\n",
       "      <td>4.0</td>\n",
       "      <td>América do Sul</td>\n",
       "    </tr>\n",
       "  </tbody>\n",
       "</table>\n",
       "</div>"
      ],
      "text/plain": [
       "           cpi          regiao\n",
       "pais                          \n",
       "Argentina  3.9  América do Sul\n",
       "Australia  8.7         Oceania\n",
       "Austria    7.9          Europa\n",
       "Belgium    7.1          Europa\n",
       "Brazil     4.0  América do Sul"
      ]
     },
     "execution_count": 4,
     "metadata": {},
     "output_type": "execute_result"
    }
   ],
   "source": [
    "#Transformar coluna em indice\n",
    "dados = dados.set_index('pais')\n",
    "dados.head()\n"
   ]
  },
  {
   "cell_type": "markdown",
   "metadata": {},
   "source": [
    "**Coluna 'pais' é considerada um índice e não uma variável preditora**"
   ]
  },
  {
   "cell_type": "code",
   "execution_count": 5,
   "metadata": {},
   "outputs": [
    {
     "name": "stdout",
     "output_type": "stream",
     "text": [
      "<class 'pandas.core.frame.DataFrame'>\n",
      "Index: 50 entries, Argentina to Iraq\n",
      "Data columns (total 2 columns):\n",
      " #   Column  Non-Null Count  Dtype  \n",
      "---  ------  --------------  -----  \n",
      " 0   cpi     50 non-null     float64\n",
      " 1   regiao  50 non-null     object \n",
      "dtypes: float64(1), object(1)\n",
      "memory usage: 1.2+ KB\n"
     ]
    }
   ],
   "source": [
    "#Observaçao das variaveis \n",
    "dados.info()"
   ]
  },
  {
   "cell_type": "markdown",
   "metadata": {},
   "source": [
    "**Transformar a variável 'regiao' que é categórica em variáveis dummies, pois a regressão linear não modela variáveis categóricas**"
   ]
  },
  {
   "cell_type": "code",
   "execution_count": 6,
   "metadata": {},
   "outputs": [
    {
     "data": {
      "text/html": [
       "<div>\n",
       "<style scoped>\n",
       "    .dataframe tbody tr th:only-of-type {\n",
       "        vertical-align: middle;\n",
       "    }\n",
       "\n",
       "    .dataframe tbody tr th {\n",
       "        vertical-align: top;\n",
       "    }\n",
       "\n",
       "    .dataframe thead th {\n",
       "        text-align: right;\n",
       "    }\n",
       "</style>\n",
       "<table border=\"1\" class=\"dataframe\">\n",
       "  <thead>\n",
       "    <tr style=\"text-align: right;\">\n",
       "      <th></th>\n",
       "      <th>América do Sul</th>\n",
       "      <th>EUA e Canadá</th>\n",
       "      <th>Europa</th>\n",
       "      <th>Oceania</th>\n",
       "      <th>Ásia</th>\n",
       "    </tr>\n",
       "    <tr>\n",
       "      <th>pais</th>\n",
       "      <th></th>\n",
       "      <th></th>\n",
       "      <th></th>\n",
       "      <th></th>\n",
       "      <th></th>\n",
       "    </tr>\n",
       "  </thead>\n",
       "  <tbody>\n",
       "    <tr>\n",
       "      <th>Argentina</th>\n",
       "      <td>1</td>\n",
       "      <td>0</td>\n",
       "      <td>0</td>\n",
       "      <td>0</td>\n",
       "      <td>0</td>\n",
       "    </tr>\n",
       "  </tbody>\n",
       "</table>\n",
       "</div>"
      ],
      "text/plain": [
       "           América do Sul  EUA e Canadá  Europa  Oceania  Ásia\n",
       "pais                                                          \n",
       "Argentina               1             0       0        0     0"
      ]
     },
     "execution_count": 6,
     "metadata": {},
     "output_type": "execute_result"
    }
   ],
   "source": [
    "#Criar variáveis dummies\n",
    "dummies = pd.get_dummies(dados['regiao']);dummies.head(1)"
   ]
  },
  {
   "cell_type": "markdown",
   "metadata": {},
   "source": [
    "**Criar variáveis dummies para que uma variável categórica se transforme em uma numérica dicotômica, e assim conseguir criar um modelo de regressão linear**"
   ]
  },
  {
   "cell_type": "code",
   "execution_count": 7,
   "metadata": {
    "scrolled": true
   },
   "outputs": [
    {
     "data": {
      "text/html": [
       "<div>\n",
       "<style scoped>\n",
       "    .dataframe tbody tr th:only-of-type {\n",
       "        vertical-align: middle;\n",
       "    }\n",
       "\n",
       "    .dataframe tbody tr th {\n",
       "        vertical-align: top;\n",
       "    }\n",
       "\n",
       "    .dataframe thead th {\n",
       "        text-align: right;\n",
       "    }\n",
       "</style>\n",
       "<table border=\"1\" class=\"dataframe\">\n",
       "  <thead>\n",
       "    <tr style=\"text-align: right;\">\n",
       "      <th></th>\n",
       "      <th>EUA e Canadá</th>\n",
       "      <th>Europa</th>\n",
       "      <th>Oceania</th>\n",
       "      <th>Ásia</th>\n",
       "    </tr>\n",
       "    <tr>\n",
       "      <th>pais</th>\n",
       "      <th></th>\n",
       "      <th></th>\n",
       "      <th></th>\n",
       "      <th></th>\n",
       "    </tr>\n",
       "  </thead>\n",
       "  <tbody>\n",
       "    <tr>\n",
       "      <th>Argentina</th>\n",
       "      <td>0</td>\n",
       "      <td>0</td>\n",
       "      <td>0</td>\n",
       "      <td>0</td>\n",
       "    </tr>\n",
       "    <tr>\n",
       "      <th>Australia</th>\n",
       "      <td>0</td>\n",
       "      <td>0</td>\n",
       "      <td>1</td>\n",
       "      <td>0</td>\n",
       "    </tr>\n",
       "    <tr>\n",
       "      <th>Austria</th>\n",
       "      <td>0</td>\n",
       "      <td>1</td>\n",
       "      <td>0</td>\n",
       "      <td>0</td>\n",
       "    </tr>\n",
       "    <tr>\n",
       "      <th>Belgium</th>\n",
       "      <td>0</td>\n",
       "      <td>1</td>\n",
       "      <td>0</td>\n",
       "      <td>0</td>\n",
       "    </tr>\n",
       "    <tr>\n",
       "      <th>Brazil</th>\n",
       "      <td>0</td>\n",
       "      <td>0</td>\n",
       "      <td>0</td>\n",
       "      <td>0</td>\n",
       "    </tr>\n",
       "  </tbody>\n",
       "</table>\n",
       "</div>"
      ],
      "text/plain": [
       "           EUA e Canadá  Europa  Oceania  Ásia\n",
       "pais                                          \n",
       "Argentina             0       0        0     0\n",
       "Australia             0       0        1     0\n",
       "Austria               0       1        0     0\n",
       "Belgium               0       1        0     0\n",
       "Brazil                0       0        0     0"
      ]
     },
     "execution_count": 7,
     "metadata": {},
     "output_type": "execute_result"
    }
   ],
   "source": [
    "#Drop variável dummy\n",
    "dummies_drop = dummies.drop('América do Sul',axis=1)\n",
    "dummies_drop.head()"
   ]
  },
  {
   "cell_type": "markdown",
   "metadata": {},
   "source": [
    "**Observe que a categoria 'América do Sul' foi excluída do dataset**"
   ]
  },
  {
   "cell_type": "markdown",
   "metadata": {},
   "source": [
    "**Na regressão linear devemos usar uma das categorias da variável qualitativa (Dummizadas) como categoria de referência (intercepto), e para que isso aconteça devemos excluir uma das categorias**"
   ]
  },
  {
   "cell_type": "code",
   "execution_count": 8,
   "metadata": {},
   "outputs": [
    {
     "data": {
      "text/html": [
       "<div>\n",
       "<style scoped>\n",
       "    .dataframe tbody tr th:only-of-type {\n",
       "        vertical-align: middle;\n",
       "    }\n",
       "\n",
       "    .dataframe tbody tr th {\n",
       "        vertical-align: top;\n",
       "    }\n",
       "\n",
       "    .dataframe thead th {\n",
       "        text-align: right;\n",
       "    }\n",
       "</style>\n",
       "<table border=\"1\" class=\"dataframe\">\n",
       "  <thead>\n",
       "    <tr style=\"text-align: right;\">\n",
       "      <th></th>\n",
       "      <th>EUA e Canadá</th>\n",
       "      <th>Europa</th>\n",
       "      <th>Oceania</th>\n",
       "      <th>Ásia</th>\n",
       "      <th>cpi</th>\n",
       "    </tr>\n",
       "    <tr>\n",
       "      <th>pais</th>\n",
       "      <th></th>\n",
       "      <th></th>\n",
       "      <th></th>\n",
       "      <th></th>\n",
       "      <th></th>\n",
       "    </tr>\n",
       "  </thead>\n",
       "  <tbody>\n",
       "    <tr>\n",
       "      <th>Argentina</th>\n",
       "      <td>0</td>\n",
       "      <td>0</td>\n",
       "      <td>0</td>\n",
       "      <td>0</td>\n",
       "      <td>3.9</td>\n",
       "    </tr>\n",
       "    <tr>\n",
       "      <th>Australia</th>\n",
       "      <td>0</td>\n",
       "      <td>0</td>\n",
       "      <td>1</td>\n",
       "      <td>0</td>\n",
       "      <td>8.7</td>\n",
       "    </tr>\n",
       "    <tr>\n",
       "      <th>Austria</th>\n",
       "      <td>0</td>\n",
       "      <td>1</td>\n",
       "      <td>0</td>\n",
       "      <td>0</td>\n",
       "      <td>7.9</td>\n",
       "    </tr>\n",
       "    <tr>\n",
       "      <th>Belgium</th>\n",
       "      <td>0</td>\n",
       "      <td>1</td>\n",
       "      <td>0</td>\n",
       "      <td>0</td>\n",
       "      <td>7.1</td>\n",
       "    </tr>\n",
       "    <tr>\n",
       "      <th>Brazil</th>\n",
       "      <td>0</td>\n",
       "      <td>0</td>\n",
       "      <td>0</td>\n",
       "      <td>0</td>\n",
       "      <td>4.0</td>\n",
       "    </tr>\n",
       "  </tbody>\n",
       "</table>\n",
       "</div>"
      ],
      "text/plain": [
       "           EUA e Canadá  Europa  Oceania  Ásia  cpi\n",
       "pais                                               \n",
       "Argentina             0       0        0     0  3.9\n",
       "Australia             0       0        1     0  8.7\n",
       "Austria               0       1        0     0  7.9\n",
       "Belgium               0       1        0     0  7.1\n",
       "Brazil                0       0        0     0  4.0"
      ]
     },
     "execution_count": 8,
     "metadata": {},
     "output_type": "execute_result"
    }
   ],
   "source": [
    "#Unindo os 2 datasets(variável target junto com as dummies)\n",
    "dummies_drop['cpi'] = dados.cpi\n",
    "dummies_drop.head()"
   ]
  },
  {
   "cell_type": "markdown",
   "metadata": {},
   "source": [
    "# Modelagem"
   ]
  },
  {
   "cell_type": "code",
   "execution_count": 9,
   "metadata": {},
   "outputs": [],
   "source": [
    "#Selecionar as variáveis X e Y para a modelagem\n",
    "\n",
    "x = dummies_drop[['EUA e Canadá','Europa','Oceania','Ásia']]\n",
    "\n",
    "y = dummies_drop['cpi'].values\n"
   ]
  },
  {
   "cell_type": "code",
   "execution_count": 10,
   "metadata": {},
   "outputs": [
    {
     "data": {
      "text/html": [
       "<table class=\"simpletable\">\n",
       "<caption>OLS Regression Results</caption>\n",
       "<tr>\n",
       "  <th>Dep. Variable:</th>            <td>y</td>        <th>  R-squared:         </th> <td>   0.603</td>\n",
       "</tr>\n",
       "<tr>\n",
       "  <th>Model:</th>                   <td>OLS</td>       <th>  Adj. R-squared:    </th> <td>   0.568</td>\n",
       "</tr>\n",
       "<tr>\n",
       "  <th>Method:</th>             <td>Least Squares</td>  <th>  F-statistic:       </th> <td>   17.09</td>\n",
       "</tr>\n",
       "<tr>\n",
       "  <th>Date:</th>             <td>Tue, 12 Jul 2022</td> <th>  Prob (F-statistic):</th> <td>1.37e-08</td>\n",
       "</tr>\n",
       "<tr>\n",
       "  <th>Time:</th>                 <td>14:50:34</td>     <th>  Log-Likelihood:    </th> <td> -96.620</td>\n",
       "</tr>\n",
       "<tr>\n",
       "  <th>No. Observations:</th>      <td>    50</td>      <th>  AIC:               </th> <td>   203.2</td>\n",
       "</tr>\n",
       "<tr>\n",
       "  <th>Df Residuals:</th>          <td>    45</td>      <th>  BIC:               </th> <td>   212.8</td>\n",
       "</tr>\n",
       "<tr>\n",
       "  <th>Df Model:</th>              <td>     4</td>      <th>                     </th>     <td> </td>   \n",
       "</tr>\n",
       "<tr>\n",
       "  <th>Covariance Type:</th>      <td>nonrobust</td>    <th>                     </th>     <td> </td>   \n",
       "</tr>\n",
       "</table>\n",
       "<table class=\"simpletable\">\n",
       "<tr>\n",
       "        <td></td>          <th>coef</th>     <th>std err</th>      <th>t</th>      <th>P>|t|</th>  <th>[0.025</th>    <th>0.975]</th>  \n",
       "</tr>\n",
       "<tr>\n",
       "  <th>const</th>        <td>    4.1800</td> <td>    0.788</td> <td>    5.306</td> <td> 0.000</td> <td>    2.593</td> <td>    5.767</td>\n",
       "</tr>\n",
       "<tr>\n",
       "  <th>EUA e Canadá</th> <td>    3.8200</td> <td>    1.474</td> <td>    2.592</td> <td> 0.013</td> <td>    0.852</td> <td>    6.788</td>\n",
       "</tr>\n",
       "<tr>\n",
       "  <th>Europa</th>       <td>    2.0783</td> <td>    0.866</td> <td>    2.400</td> <td> 0.021</td> <td>    0.334</td> <td>    3.822</td>\n",
       "</tr>\n",
       "<tr>\n",
       "  <th>Oceania</th>      <td>    4.8200</td> <td>    1.474</td> <td>    3.271</td> <td> 0.002</td> <td>    1.852</td> <td>    7.788</td>\n",
       "</tr>\n",
       "<tr>\n",
       "  <th>Ásia</th>         <td>   -1.8506</td> <td>    0.896</td> <td>   -2.065</td> <td> 0.045</td> <td>   -3.655</td> <td>   -0.046</td>\n",
       "</tr>\n",
       "</table>\n",
       "<table class=\"simpletable\">\n",
       "<tr>\n",
       "  <th>Omnibus:</th>       <td> 1.205</td> <th>  Durbin-Watson:     </th> <td>   1.928</td>\n",
       "</tr>\n",
       "<tr>\n",
       "  <th>Prob(Omnibus):</th> <td> 0.547</td> <th>  Jarque-Bera (JB):  </th> <td>   1.083</td>\n",
       "</tr>\n",
       "<tr>\n",
       "  <th>Skew:</th>          <td>-0.347</td> <th>  Prob(JB):          </th> <td>   0.582</td>\n",
       "</tr>\n",
       "<tr>\n",
       "  <th>Kurtosis:</th>      <td> 2.804</td> <th>  Cond. No.          </th> <td>    9.35</td>\n",
       "</tr>\n",
       "</table><br/><br/>Notes:<br/>[1] Standard Errors assume that the covariance matrix of the errors is correctly specified."
      ],
      "text/plain": [
       "<class 'statsmodels.iolib.summary.Summary'>\n",
       "\"\"\"\n",
       "                            OLS Regression Results                            \n",
       "==============================================================================\n",
       "Dep. Variable:                      y   R-squared:                       0.603\n",
       "Model:                            OLS   Adj. R-squared:                  0.568\n",
       "Method:                 Least Squares   F-statistic:                     17.09\n",
       "Date:                Tue, 12 Jul 2022   Prob (F-statistic):           1.37e-08\n",
       "Time:                        14:50:34   Log-Likelihood:                -96.620\n",
       "No. Observations:                  50   AIC:                             203.2\n",
       "Df Residuals:                      45   BIC:                             212.8\n",
       "Df Model:                           4                                         \n",
       "Covariance Type:            nonrobust                                         \n",
       "================================================================================\n",
       "                   coef    std err          t      P>|t|      [0.025      0.975]\n",
       "--------------------------------------------------------------------------------\n",
       "const            4.1800      0.788      5.306      0.000       2.593       5.767\n",
       "EUA e Canadá     3.8200      1.474      2.592      0.013       0.852       6.788\n",
       "Europa           2.0783      0.866      2.400      0.021       0.334       3.822\n",
       "Oceania          4.8200      1.474      3.271      0.002       1.852       7.788\n",
       "Ásia            -1.8506      0.896     -2.065      0.045      -3.655      -0.046\n",
       "==============================================================================\n",
       "Omnibus:                        1.205   Durbin-Watson:                   1.928\n",
       "Prob(Omnibus):                  0.547   Jarque-Bera (JB):                1.083\n",
       "Skew:                          -0.347   Prob(JB):                        0.582\n",
       "Kurtosis:                       2.804   Cond. No.                         9.35\n",
       "==============================================================================\n",
       "\n",
       "Notes:\n",
       "[1] Standard Errors assume that the covariance matrix of the errors is correctly specified.\n",
       "\"\"\""
      ]
     },
     "execution_count": 10,
     "metadata": {},
     "output_type": "execute_result"
    }
   ],
   "source": [
    "#Modelo\n",
    "import statsmodels.api as sm\n",
    "\n",
    "#Adicionar variável constante \n",
    "x1 = sm.add_constant(x)\n",
    "\n",
    "#Criar modelo\n",
    "modelo = sm.OLS(y,x1)\n",
    "modelo_v1 = modelo.fit()\n",
    "modelo_v1.summary()\n"
   ]
  },
  {
   "cell_type": "markdown",
   "metadata": {},
   "source": [
    "**Resultado da modelagem**"
   ]
  },
  {
   "cell_type": "code",
   "execution_count": 11,
   "metadata": {},
   "outputs": [
    {
     "data": {
      "text/plain": [
       "const           4.180000\n",
       "EUA e Canadá    3.820000\n",
       "Europa          2.078333\n",
       "Oceania         4.820000\n",
       "Ásia           -1.850588\n",
       "dtype: float64"
      ]
     },
     "execution_count": 11,
     "metadata": {},
     "output_type": "execute_result"
    }
   ],
   "source": [
    "#Criando variáveis com os coeficientes para colocar na formula da regressão linear\n",
    "intecepto = modelo_v1.params[0]\n",
    "coef_eua_can = modelo_v1.params[1]\n",
    "coef_europa = modelo_v1.params[2]\n",
    "coef_oceania = modelo_v1.params[3]\n",
    "coef_asia = modelo_v1.params[4]\n",
    "\n",
    "#Coeficientes\n",
    "modelo_v1.params"
   ]
  },
  {
   "cell_type": "code",
   "execution_count": 12,
   "metadata": {},
   "outputs": [
    {
     "data": {
      "text/html": [
       "<div>\n",
       "<style scoped>\n",
       "    .dataframe tbody tr th:only-of-type {\n",
       "        vertical-align: middle;\n",
       "    }\n",
       "\n",
       "    .dataframe tbody tr th {\n",
       "        vertical-align: top;\n",
       "    }\n",
       "\n",
       "    .dataframe thead th {\n",
       "        text-align: right;\n",
       "    }\n",
       "</style>\n",
       "<table border=\"1\" class=\"dataframe\">\n",
       "  <thead>\n",
       "    <tr style=\"text-align: right;\">\n",
       "      <th></th>\n",
       "      <th>cpi</th>\n",
       "      <th>regiao</th>\n",
       "      <th>yhat</th>\n",
       "    </tr>\n",
       "    <tr>\n",
       "      <th>pais</th>\n",
       "      <th></th>\n",
       "      <th></th>\n",
       "      <th></th>\n",
       "    </tr>\n",
       "  </thead>\n",
       "  <tbody>\n",
       "    <tr>\n",
       "      <th>Argentina</th>\n",
       "      <td>3.9</td>\n",
       "      <td>América do Sul</td>\n",
       "      <td>4.180000</td>\n",
       "    </tr>\n",
       "    <tr>\n",
       "      <th>Australia</th>\n",
       "      <td>8.7</td>\n",
       "      <td>Oceania</td>\n",
       "      <td>9.000000</td>\n",
       "    </tr>\n",
       "    <tr>\n",
       "      <th>Austria</th>\n",
       "      <td>7.9</td>\n",
       "      <td>Europa</td>\n",
       "      <td>6.258333</td>\n",
       "    </tr>\n",
       "    <tr>\n",
       "      <th>Belgium</th>\n",
       "      <td>7.1</td>\n",
       "      <td>Europa</td>\n",
       "      <td>6.258333</td>\n",
       "    </tr>\n",
       "    <tr>\n",
       "      <th>Brazil</th>\n",
       "      <td>4.0</td>\n",
       "      <td>América do Sul</td>\n",
       "      <td>4.180000</td>\n",
       "    </tr>\n",
       "  </tbody>\n",
       "</table>\n",
       "</div>"
      ],
      "text/plain": [
       "           cpi          regiao      yhat\n",
       "pais                                    \n",
       "Argentina  3.9  América do Sul  4.180000\n",
       "Australia  8.7         Oceania  9.000000\n",
       "Austria    7.9          Europa  6.258333\n",
       "Belgium    7.1          Europa  6.258333\n",
       "Brazil     4.0  América do Sul  4.180000"
      ]
     },
     "execution_count": 12,
     "metadata": {},
     "output_type": "execute_result"
    }
   ],
   "source": [
    "#Formula da regressão linear (Sem o uso de algoritimo)\n",
    "dados['yhat'] = (intecepto + (coef_eua_can * x['EUA e Canadá'] + coef_europa * x['Europa']**2\n",
    "                            + coef_oceania * x['Oceania']**3 + coef_asia * x['Ásia']**4))\n",
    "dados.head(5)\n"
   ]
  },
  {
   "cell_type": "markdown",
   "metadata": {},
   "source": [
    "**Previsão do modelo (yhat)**"
   ]
  },
  {
   "cell_type": "code",
   "execution_count": 13,
   "metadata": {},
   "outputs": [
    {
     "data": {
      "text/html": [
       "<div>\n",
       "<style scoped>\n",
       "    .dataframe tbody tr th:only-of-type {\n",
       "        vertical-align: middle;\n",
       "    }\n",
       "\n",
       "    .dataframe tbody tr th {\n",
       "        vertical-align: top;\n",
       "    }\n",
       "\n",
       "    .dataframe thead th {\n",
       "        text-align: right;\n",
       "    }\n",
       "</style>\n",
       "<table border=\"1\" class=\"dataframe\">\n",
       "  <thead>\n",
       "    <tr style=\"text-align: right;\">\n",
       "      <th></th>\n",
       "      <th>Media_cpi</th>\n",
       "      <th>coeficientes</th>\n",
       "      <th>intercepto</th>\n",
       "    </tr>\n",
       "    <tr>\n",
       "      <th>regiao</th>\n",
       "      <th></th>\n",
       "      <th></th>\n",
       "      <th></th>\n",
       "    </tr>\n",
       "  </thead>\n",
       "  <tbody>\n",
       "    <tr>\n",
       "      <th>EUA e Canadá</th>\n",
       "      <td>8.000000</td>\n",
       "      <td>3.820000</td>\n",
       "      <td>4.18</td>\n",
       "    </tr>\n",
       "    <tr>\n",
       "      <th>Europa</th>\n",
       "      <td>6.258333</td>\n",
       "      <td>2.078333</td>\n",
       "      <td>4.18</td>\n",
       "    </tr>\n",
       "    <tr>\n",
       "      <th>Oceania</th>\n",
       "      <td>9.000000</td>\n",
       "      <td>4.820000</td>\n",
       "      <td>4.18</td>\n",
       "    </tr>\n",
       "    <tr>\n",
       "      <th>Ásia</th>\n",
       "      <td>2.329412</td>\n",
       "      <td>-1.850588</td>\n",
       "      <td>4.18</td>\n",
       "    </tr>\n",
       "  </tbody>\n",
       "</table>\n",
       "</div>"
      ],
      "text/plain": [
       "              Media_cpi  coeficientes  intercepto\n",
       "regiao                                           \n",
       "EUA e Canadá   8.000000      3.820000        4.18\n",
       "Europa         6.258333      2.078333        4.18\n",
       "Oceania        9.000000      4.820000        4.18\n",
       "Ásia           2.329412     -1.850588        4.18"
      ]
     },
     "execution_count": 13,
     "metadata": {},
     "output_type": "execute_result"
    }
   ],
   "source": [
    "#Interpretando os dados\n",
    "\n",
    "#Tirando a média da variável target\n",
    "dados3 = dados[['regiao','cpi']]\n",
    "media_cpi=pd.DataFrame(dados3.groupby(['regiao']).mean())\n",
    "media_cpi = media_cpi.iloc[1:,:]\n",
    "\n",
    "#Rename\n",
    "media_cpi .columns = ['Media_cpi']\n",
    "\n",
    "#Adicionando os coeficientes\n",
    "media_cpi['coeficientes'] = modelo_v1.params[1:]\n",
    "\n",
    "#Adicionando o intercepto\n",
    "media_cpi['intercepto'] = modelo_v1.params[0]\n",
    "media_cpi"
   ]
  },
  {
   "cell_type": "markdown",
   "metadata": {},
   "source": [
    "**Note que o valor das medias das regioes da variável target (cpi) é igual ao valor do intecepto + os coeficientes do modelo de regressão**"
   ]
  },
  {
   "cell_type": "markdown",
   "metadata": {},
   "source": [
    "**OBS: A variável dummy 'América do Sul' é o intecepto, o valor do seu coeficiente é a média da cpi da sua região**"
   ]
  },
  {
   "cell_type": "markdown",
   "metadata": {},
   "source": [
    "### Métricas de Avaliação"
   ]
  },
  {
   "cell_type": "code",
   "execution_count": 14,
   "metadata": {},
   "outputs": [
    {
     "name": "stdout",
     "output_type": "stream",
     "text": [
      "R²= 60.3%\n"
     ]
    }
   ],
   "source": [
    "#Formula do R²\n",
    "\n",
    "#Previsão\n",
    "y_chapeu = dados['yhat']\n",
    "\n",
    "#Media dos valores da variável target\n",
    "y_media = dados['cpi'].mean()\n",
    "\n",
    "#Valores da variável taget\n",
    "y_real = dados['cpi']\n",
    "\n",
    "#Formula do R²\n",
    "r = sum((y_chapeu - y_media)**2)\n",
    "r1 = sum((y_real -y_media )**2)\n",
    "r2 = r/r1\n",
    "print(f'R²= {r2*100:.1f}%')\n"
   ]
  },
  {
   "cell_type": "markdown",
   "metadata": {},
   "source": [
    "**O quanto as variáveis preditoras explicam a variável target**"
   ]
  },
  {
   "cell_type": "code",
   "execution_count": 15,
   "metadata": {},
   "outputs": [
    {
     "name": "stdout",
     "output_type": "stream",
     "text": [
      "MAPE = 37.3% \n"
     ]
    }
   ],
   "source": [
    "# MAPE - Erro Percentual Absoluto Médio\n",
    "\n",
    "y_real = dados['cpi']\n",
    "y_chapeu= dados['yhat']\n",
    "n = len(dados)\n",
    "ab = abs(y_real - y_chapeu )/abs(y_real)\n",
    "MAPE = sum(ab/n)\n",
    "print(f'MAPE = {MAPE*100:.1f}% ')"
   ]
  },
  {
   "cell_type": "markdown",
   "metadata": {},
   "source": [
    "**Métrica que mostra a porcentagem de erro em relação aos valores reais**"
   ]
  },
  {
   "cell_type": "code",
   "execution_count": 16,
   "metadata": {},
   "outputs": [
    {
     "name": "stdout",
     "output_type": "stream",
     "text": [
      "MAE = 1.3, o modelo erra para cima ou para baixo sua previsao na unidade de medida da variavel resposta\n"
     ]
    }
   ],
   "source": [
    "#MAE = Erro médio absoluto \n",
    "\n",
    "y_real = dados['cpi']\n",
    "y_chapeu= dados['yhat']\n",
    "n = len(dados)\n",
    "ab = abs(y_real - y_chapeu )\n",
    "MAE = sum(ab/n)\n",
    "print(f'MAE = {MAE:.1f}, o modelo erra para cima ou para baixo sua previsao na unidade de medida da variavel resposta'  )"
   ]
  },
  {
   "cell_type": "markdown",
   "metadata": {},
   "source": [
    "**Mede a média da diferença entre o valor real com o valor predito, esta métrica não é afetada por valores discrepantes — os denominados outliers**"
   ]
  },
  {
   "cell_type": "code",
   "execution_count": 17,
   "metadata": {},
   "outputs": [
    {
     "name": "stdout",
     "output_type": "stream",
     "text": [
      "MSE = 139.6, Soma dos erros ao quadrado\n"
     ]
    }
   ],
   "source": [
    "#MSE = Erro quadrático médio, penaliza a metrica quando tem outliers\n",
    "\n",
    "MSE = sum((y_chapeu - dados['cpi'])**2)\n",
    "print(f'MSE = {MSE:.1f}, Soma dos erros ao quadrado')"
   ]
  },
  {
   "cell_type": "markdown",
   "metadata": {},
   "source": [
    "**Calcula a média de diferença entre o valor predito com o real ao quadrado**"
   ]
  },
  {
   "cell_type": "code",
   "execution_count": 18,
   "metadata": {},
   "outputs": [
    {
     "name": "stdout",
     "output_type": "stream",
     "text": [
      "Erro= -0.0, diferença entre valor previsto e o valor real na linha de regressao\n"
     ]
    }
   ],
   "source": [
    "#ERRO = Soma dos erros na regressao linear (Positivo e Negativo)\n",
    "\n",
    "erro = sum(y_chapeu - dados['cpi'])\n",
    "print(f'Erro= {erro:.1f}, diferença entre valor previsto e o valor real na linha de regressao')"
   ]
  },
  {
   "cell_type": "markdown",
   "metadata": {},
   "source": [
    "**Soma dos erros do modelo em relação a linha de regressão sempre será 0 ou próxima de 0**"
   ]
  },
  {
   "cell_type": "code",
   "execution_count": 19,
   "metadata": {},
   "outputs": [
    {
     "name": "stdout",
     "output_type": "stream",
     "text": [
      "MedianAE= 64.8%\n"
     ]
    }
   ],
   "source": [
    "#MedianAE = Erro Mediano Absoluto\n",
    "\n",
    "y_chapeu= dados['yhat']\n",
    "y_mediana =dados['cpi'].median()\n",
    "y_real = dados['cpi']\n",
    "r = sum((y_chapeu - y_mediana)**2)\n",
    "r1 = sum((y_real -y_mediana )**2)\n",
    "MedianAE = r/r1;r2\n",
    "print(f'MedianAE= {MedianAE*100:.1f}%')"
   ]
  },
  {
   "cell_type": "markdown",
   "metadata": {},
   "source": [
    "**Igual o MAE - Erro médio absoluto, porém usando a mediana**"
   ]
  },
  {
   "cell_type": "code",
   "execution_count": 20,
   "metadata": {},
   "outputs": [
    {
     "name": "stdout",
     "output_type": "stream",
     "text": [
      "RMSE= 1.67, quão distantes nossos valores previstos estão de nossos valores observados\n"
     ]
    }
   ],
   "source": [
    "# RMSE = Raiz do erro quadrático médio , pois o erro medio é elevado ao quadrado para nao ter numeros negativos\n",
    "import math\n",
    "\n",
    "y_real = dados['cpi']\n",
    "y_chapeu= dados['yhat']\n",
    "n = len(dados)\n",
    "e = (y_real - y_chapeu )**2\n",
    "er = sum(e / n)\n",
    "RMSE = math.sqrt(er)\n",
    "print(f'RMSE= {RMSE:.2f}, quão distantes nossos valores previstos estão de nossos valores observados')\n"
   ]
  },
  {
   "cell_type": "markdown",
   "metadata": {},
   "source": [
    "**No RMSE o erro retorna à unidade de medida do modelo**"
   ]
  },
  {
   "cell_type": "markdown",
   "metadata": {},
   "source": [
    "# Conclusão"
   ]
  },
  {
   "cell_type": "markdown",
   "metadata": {},
   "source": [
    "**A introdução das variáveis dummy na análise de regressão, constitui-se em importante instrumento\n",
    "que amplia o poder de análise dos modelos, pois como o modelo de regressão não suporta variáveis categóricas, com as variáveis dummies é permitido a modelagem**\n"
   ]
  }
 ],
 "metadata": {
  "css": [
   ""
  ],
  "kernelspec": {
   "display_name": "Python 3 (ipykernel)",
   "language": "python",
   "name": "python3"
  },
  "language_info": {
   "codemirror_mode": {
    "name": "ipython",
    "version": 3
   },
   "file_extension": ".py",
   "mimetype": "text/x-python",
   "name": "python",
   "nbconvert_exporter": "python",
   "pygments_lexer": "ipython3",
   "version": "3.9.12"
  }
 },
 "nbformat": 4,
 "nbformat_minor": 1
}
