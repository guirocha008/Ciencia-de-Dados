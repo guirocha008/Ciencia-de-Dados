{
 "cells": [
  {
   "cell_type": "markdown",
   "metadata": {},
   "source": [
    "# $$Otimização~de~Hiperparâmetros$$"
   ]
  },
  {
   "cell_type": "markdown",
   "metadata": {},
   "source": [
    "### $$Conceito:$$\n",
    "\n",
    "\n",
    "Os hiperparâmetros são parâmetros ajustáveis que permitem controlar o processo de treinamento do modelo, o ajuste de hiperparâmetros, também chamado de otimização de hiperparâmetros, é o processo de localizar a configuração de hiperparâmetros que resulta no melhor desempenho. O processo normalmente é manual e caro em termos computacionais\n",
    "\n",
    "\n",
    "### $$Parâmetros~VS~Hiperparâmetros:$$\n",
    "\n",
    "\n",
    "#### **Parâmetros:**\n",
    "\n",
    "Os **Parâmetro** são ajustados diretamente pelo processo de aprendizado e influenciam diretamente na performance do algoritmo. Os coeficientes de uma regressão linear, os pesos de uma rede neural, as fronteiras das vizinhanças no kNN, todos esses são parâmetros que **se ajustam ao treinar o modelo preditivo** para um conjunto de dados.\n",
    "\n",
    "#### **Hiperparâmetros:**\n",
    "\n",
    "\n",
    "Os **Hiperparâmetros** são variáveis do algoritmo **definidas antes do treinamento**. Eles representam características mais construtivas, como a métrica de performance de uma regressão (MSE, R²,…), o número de neurônios de uma rede neural (ou camadas), o número de vizinhos do kNN. Os hiperparâmetros são muito importantes para a performance do modelo preditivo e caso escolhidos de qualquer jeito, podem torná-lo inútil, ou muito longe do ótimo\n",
    "\n",
    "\n",
    "### $$Algoritmos~de~ajustes~de~Hiperparâmetros:$$\n",
    "\n",
    "\n",
    "#### **Grid Search:** \n",
    "\n",
    "Algoritmo procura o conjunto que leva ao melhor score testando todas as possibilidade do grid, ele é computacionalmente o método mais demorado e nem sempre obtém os melhores resultados.\n",
    "\n",
    "#### **Randomized Search:** \n",
    "\n",
    "Em contraste com o GridSearchCV, nem todos os valores dos parâmetros são testados, mas sim um número fixo de configurações de parâmetros é amostrado a partir das distribuições especificadas.\n",
    "\n",
    "#### **Bayesian Optimization:**\n",
    "\n",
    "A Otimização Bayesiana “aprende” com cada teste feito, o resultado de um modelo ajuda a criar o próximo modelo\n",
    "\n",
    "\n"
   ]
  },
  {
   "cell_type": "markdown",
   "metadata": {},
   "source": [
    "__------------------------------------------------------------------------------------------------------------------------------------------------------------------------------------------------------------------__\n",
    "\n",
    "\n",
    "__------------------------------------------------------------------------------------------------------------------------------------------------------------------------------------------------------------------__"
   ]
  },
  {
   "cell_type": "markdown",
   "metadata": {},
   "source": [
    "## $$Objetivo:$$\n",
    "\n",
    "## $$Encontrar~ os~ melhores~ hiperparâmetros~ de~ cada~ modelo$$$$utilizando~ os~ algoritmos~ de~ otimização$$\n",
    "\n"
   ]
  },
  {
   "cell_type": "markdown",
   "metadata": {},
   "source": [
    "__------------------------------------------------------------------------------------------------------------------------------------------------------------------------------------------------------------------__\n",
    "\n",
    "\n",
    "__------------------------------------------------------------------------------------------------------------------------------------------------------------------------------------------------------------------__"
   ]
  },
  {
   "cell_type": "code",
   "execution_count": 1,
   "metadata": {},
   "outputs": [],
   "source": [
    "#Pacote\n",
    "import numpy as np\n",
    "import pandas as pd\n",
    "from sklearn.ensemble import ExtraTreesClassifier\n",
    "from sklearn.ensemble import BaggingClassifier\n",
    "from sklearn.tree import DecisionTreeClassifier\n",
    "from sklearn.model_selection import cross_val_score\n",
    "from sklearn.preprocessing import scale\n",
    "from sklearn.metrics import confusion_matrix\n",
    "from sklearn.metrics import accuracy_score\n",
    "from time import time"
   ]
  },
  {
   "cell_type": "markdown",
   "metadata": {},
   "source": [
    "# Banco de dados "
   ]
  },
  {
   "cell_type": "code",
   "execution_count": 2,
   "metadata": {},
   "outputs": [
    {
     "data": {
      "text/html": [
       "<div>\n",
       "<style scoped>\n",
       "    .dataframe tbody tr th:only-of-type {\n",
       "        vertical-align: middle;\n",
       "    }\n",
       "\n",
       "    .dataframe tbody tr th {\n",
       "        vertical-align: top;\n",
       "    }\n",
       "\n",
       "    .dataframe thead th {\n",
       "        text-align: right;\n",
       "    }\n",
       "</style>\n",
       "<table border=\"1\" class=\"dataframe\">\n",
       "  <thead>\n",
       "    <tr style=\"text-align: right;\">\n",
       "      <th></th>\n",
       "      <th>person_age</th>\n",
       "      <th>person_income</th>\n",
       "      <th>person_home_ownership</th>\n",
       "      <th>person_emp_length</th>\n",
       "      <th>loan_intent</th>\n",
       "      <th>loan_grade</th>\n",
       "      <th>loan_amnt</th>\n",
       "      <th>loan_int_rate</th>\n",
       "      <th>loan_status</th>\n",
       "      <th>loan_percent_income</th>\n",
       "      <th>cb_person_default_on_file</th>\n",
       "      <th>cb_person_cred_hist_length</th>\n",
       "    </tr>\n",
       "  </thead>\n",
       "  <tbody>\n",
       "    <tr>\n",
       "      <th>0</th>\n",
       "      <td>22</td>\n",
       "      <td>59000</td>\n",
       "      <td>RENT</td>\n",
       "      <td>123.0</td>\n",
       "      <td>PERSONAL</td>\n",
       "      <td>D</td>\n",
       "      <td>35000</td>\n",
       "      <td>16.02</td>\n",
       "      <td>1</td>\n",
       "      <td>0.59</td>\n",
       "      <td>Y</td>\n",
       "      <td>3</td>\n",
       "    </tr>\n",
       "    <tr>\n",
       "      <th>1</th>\n",
       "      <td>21</td>\n",
       "      <td>9600</td>\n",
       "      <td>OWN</td>\n",
       "      <td>5.0</td>\n",
       "      <td>EDUCATION</td>\n",
       "      <td>B</td>\n",
       "      <td>1000</td>\n",
       "      <td>11.14</td>\n",
       "      <td>0</td>\n",
       "      <td>0.10</td>\n",
       "      <td>N</td>\n",
       "      <td>2</td>\n",
       "    </tr>\n",
       "    <tr>\n",
       "      <th>2</th>\n",
       "      <td>25</td>\n",
       "      <td>9600</td>\n",
       "      <td>MORTGAGE</td>\n",
       "      <td>1.0</td>\n",
       "      <td>MEDICAL</td>\n",
       "      <td>C</td>\n",
       "      <td>5500</td>\n",
       "      <td>12.87</td>\n",
       "      <td>1</td>\n",
       "      <td>0.57</td>\n",
       "      <td>N</td>\n",
       "      <td>3</td>\n",
       "    </tr>\n",
       "    <tr>\n",
       "      <th>3</th>\n",
       "      <td>23</td>\n",
       "      <td>65500</td>\n",
       "      <td>RENT</td>\n",
       "      <td>4.0</td>\n",
       "      <td>MEDICAL</td>\n",
       "      <td>C</td>\n",
       "      <td>35000</td>\n",
       "      <td>15.23</td>\n",
       "      <td>1</td>\n",
       "      <td>0.53</td>\n",
       "      <td>N</td>\n",
       "      <td>2</td>\n",
       "    </tr>\n",
       "    <tr>\n",
       "      <th>4</th>\n",
       "      <td>24</td>\n",
       "      <td>54400</td>\n",
       "      <td>RENT</td>\n",
       "      <td>8.0</td>\n",
       "      <td>MEDICAL</td>\n",
       "      <td>C</td>\n",
       "      <td>35000</td>\n",
       "      <td>14.27</td>\n",
       "      <td>1</td>\n",
       "      <td>0.55</td>\n",
       "      <td>Y</td>\n",
       "      <td>4</td>\n",
       "    </tr>\n",
       "    <tr>\n",
       "      <th>...</th>\n",
       "      <td>...</td>\n",
       "      <td>...</td>\n",
       "      <td>...</td>\n",
       "      <td>...</td>\n",
       "      <td>...</td>\n",
       "      <td>...</td>\n",
       "      <td>...</td>\n",
       "      <td>...</td>\n",
       "      <td>...</td>\n",
       "      <td>...</td>\n",
       "      <td>...</td>\n",
       "      <td>...</td>\n",
       "    </tr>\n",
       "    <tr>\n",
       "      <th>32576</th>\n",
       "      <td>57</td>\n",
       "      <td>53000</td>\n",
       "      <td>MORTGAGE</td>\n",
       "      <td>1.0</td>\n",
       "      <td>PERSONAL</td>\n",
       "      <td>C</td>\n",
       "      <td>5800</td>\n",
       "      <td>13.16</td>\n",
       "      <td>0</td>\n",
       "      <td>0.11</td>\n",
       "      <td>N</td>\n",
       "      <td>30</td>\n",
       "    </tr>\n",
       "    <tr>\n",
       "      <th>32577</th>\n",
       "      <td>54</td>\n",
       "      <td>120000</td>\n",
       "      <td>MORTGAGE</td>\n",
       "      <td>4.0</td>\n",
       "      <td>PERSONAL</td>\n",
       "      <td>A</td>\n",
       "      <td>17625</td>\n",
       "      <td>7.49</td>\n",
       "      <td>0</td>\n",
       "      <td>0.15</td>\n",
       "      <td>N</td>\n",
       "      <td>19</td>\n",
       "    </tr>\n",
       "    <tr>\n",
       "      <th>32578</th>\n",
       "      <td>65</td>\n",
       "      <td>76000</td>\n",
       "      <td>RENT</td>\n",
       "      <td>3.0</td>\n",
       "      <td>HOMEIMPROVEMENT</td>\n",
       "      <td>B</td>\n",
       "      <td>35000</td>\n",
       "      <td>10.99</td>\n",
       "      <td>1</td>\n",
       "      <td>0.46</td>\n",
       "      <td>N</td>\n",
       "      <td>28</td>\n",
       "    </tr>\n",
       "    <tr>\n",
       "      <th>32579</th>\n",
       "      <td>56</td>\n",
       "      <td>150000</td>\n",
       "      <td>MORTGAGE</td>\n",
       "      <td>5.0</td>\n",
       "      <td>PERSONAL</td>\n",
       "      <td>B</td>\n",
       "      <td>15000</td>\n",
       "      <td>11.48</td>\n",
       "      <td>0</td>\n",
       "      <td>0.10</td>\n",
       "      <td>N</td>\n",
       "      <td>26</td>\n",
       "    </tr>\n",
       "    <tr>\n",
       "      <th>32580</th>\n",
       "      <td>66</td>\n",
       "      <td>42000</td>\n",
       "      <td>RENT</td>\n",
       "      <td>2.0</td>\n",
       "      <td>MEDICAL</td>\n",
       "      <td>B</td>\n",
       "      <td>6475</td>\n",
       "      <td>9.99</td>\n",
       "      <td>0</td>\n",
       "      <td>0.15</td>\n",
       "      <td>N</td>\n",
       "      <td>30</td>\n",
       "    </tr>\n",
       "  </tbody>\n",
       "</table>\n",
       "<p>32581 rows × 12 columns</p>\n",
       "</div>"
      ],
      "text/plain": [
       "       person_age  person_income person_home_ownership  person_emp_length  \\\n",
       "0              22          59000                  RENT              123.0   \n",
       "1              21           9600                   OWN                5.0   \n",
       "2              25           9600              MORTGAGE                1.0   \n",
       "3              23          65500                  RENT                4.0   \n",
       "4              24          54400                  RENT                8.0   \n",
       "...           ...            ...                   ...                ...   \n",
       "32576          57          53000              MORTGAGE                1.0   \n",
       "32577          54         120000              MORTGAGE                4.0   \n",
       "32578          65          76000                  RENT                3.0   \n",
       "32579          56         150000              MORTGAGE                5.0   \n",
       "32580          66          42000                  RENT                2.0   \n",
       "\n",
       "           loan_intent loan_grade  loan_amnt  loan_int_rate  loan_status  \\\n",
       "0             PERSONAL          D      35000          16.02            1   \n",
       "1            EDUCATION          B       1000          11.14            0   \n",
       "2              MEDICAL          C       5500          12.87            1   \n",
       "3              MEDICAL          C      35000          15.23            1   \n",
       "4              MEDICAL          C      35000          14.27            1   \n",
       "...                ...        ...        ...            ...          ...   \n",
       "32576         PERSONAL          C       5800          13.16            0   \n",
       "32577         PERSONAL          A      17625           7.49            0   \n",
       "32578  HOMEIMPROVEMENT          B      35000          10.99            1   \n",
       "32579         PERSONAL          B      15000          11.48            0   \n",
       "32580          MEDICAL          B       6475           9.99            0   \n",
       "\n",
       "       loan_percent_income cb_person_default_on_file  \\\n",
       "0                     0.59                         Y   \n",
       "1                     0.10                         N   \n",
       "2                     0.57                         N   \n",
       "3                     0.53                         N   \n",
       "4                     0.55                         Y   \n",
       "...                    ...                       ...   \n",
       "32576                 0.11                         N   \n",
       "32577                 0.15                         N   \n",
       "32578                 0.46                         N   \n",
       "32579                 0.10                         N   \n",
       "32580                 0.15                         N   \n",
       "\n",
       "       cb_person_cred_hist_length  \n",
       "0                               3  \n",
       "1                               2  \n",
       "2                               3  \n",
       "3                               2  \n",
       "4                               4  \n",
       "...                           ...  \n",
       "32576                          30  \n",
       "32577                          19  \n",
       "32578                          28  \n",
       "32579                          26  \n",
       "32580                          30  \n",
       "\n",
       "[32581 rows x 12 columns]"
      ]
     },
     "execution_count": 2,
     "metadata": {},
     "output_type": "execute_result"
    }
   ],
   "source": [
    "#Carregar dataset\n",
    "dados = pd.read_csv('credit.csv',encoding='latin1',sep=',')\n",
    "dados"
   ]
  },
  {
   "cell_type": "markdown",
   "metadata": {},
   "source": [
    "**São 32.581 linhas e 12 variáveis**"
   ]
  },
  {
   "cell_type": "markdown",
   "metadata": {},
   "source": [
    "Fonte: https://www.kaggle.com/laotse/credit-risk-dataset"
   ]
  },
  {
   "cell_type": "markdown",
   "metadata": {},
   "source": [
    "# Análise Exploratória"
   ]
  },
  {
   "cell_type": "code",
   "execution_count": 3,
   "metadata": {},
   "outputs": [
    {
     "name": "stdout",
     "output_type": "stream",
     "text": [
      "<class 'pandas.core.frame.DataFrame'>\n",
      "RangeIndex: 32581 entries, 0 to 32580\n",
      "Data columns (total 12 columns):\n",
      " #   Column                      Non-Null Count  Dtype  \n",
      "---  ------                      --------------  -----  \n",
      " 0   person_age                  32581 non-null  int64  \n",
      " 1   person_income               32581 non-null  int64  \n",
      " 2   person_home_ownership       32581 non-null  object \n",
      " 3   person_emp_length           31686 non-null  float64\n",
      " 4   loan_intent                 32581 non-null  object \n",
      " 5   loan_grade                  32581 non-null  object \n",
      " 6   loan_amnt                   32581 non-null  int64  \n",
      " 7   loan_int_rate               29465 non-null  float64\n",
      " 8   loan_status                 32581 non-null  int64  \n",
      " 9   loan_percent_income         32581 non-null  float64\n",
      " 10  cb_person_default_on_file   32581 non-null  object \n",
      " 11  cb_person_cred_hist_length  32581 non-null  int64  \n",
      "dtypes: float64(3), int64(5), object(4)\n",
      "memory usage: 3.0+ MB\n"
     ]
    }
   ],
   "source": [
    "#Tipos de variáveis\n",
    "dados.info()"
   ]
  },
  {
   "cell_type": "markdown",
   "metadata": {},
   "source": [
    "**Temos 4 variáveis categóricas e 8 numéricas**\n",
    "\n",
    "**OBS: A maioria dos algoritmos de Machine Learning não conseguem lidar com variáveis categóricas, então precisamos transforma-las em números (Dummies)**\n"
   ]
  },
  {
   "cell_type": "code",
   "execution_count": 4,
   "metadata": {},
   "outputs": [
    {
     "data": {
      "text/html": [
       "<div>\n",
       "<style scoped>\n",
       "    .dataframe tbody tr th:only-of-type {\n",
       "        vertical-align: middle;\n",
       "    }\n",
       "\n",
       "    .dataframe tbody tr th {\n",
       "        vertical-align: top;\n",
       "    }\n",
       "\n",
       "    .dataframe thead th {\n",
       "        text-align: right;\n",
       "    }\n",
       "</style>\n",
       "<table border=\"1\" class=\"dataframe\">\n",
       "  <thead>\n",
       "    <tr style=\"text-align: right;\">\n",
       "      <th></th>\n",
       "      <th>person_age</th>\n",
       "      <th>person_income</th>\n",
       "      <th>person_emp_length</th>\n",
       "      <th>loan_amnt</th>\n",
       "      <th>loan_int_rate</th>\n",
       "      <th>loan_status</th>\n",
       "      <th>loan_percent_income</th>\n",
       "      <th>cb_person_cred_hist_length</th>\n",
       "      <th>person_home_ownership_MORTGAGE</th>\n",
       "      <th>person_home_ownership_OTHER</th>\n",
       "      <th>...</th>\n",
       "      <th>loan_intent_VENTURE</th>\n",
       "      <th>loan_grade_A</th>\n",
       "      <th>loan_grade_B</th>\n",
       "      <th>loan_grade_C</th>\n",
       "      <th>loan_grade_D</th>\n",
       "      <th>loan_grade_E</th>\n",
       "      <th>loan_grade_F</th>\n",
       "      <th>loan_grade_G</th>\n",
       "      <th>cb_person_default_on_file_N</th>\n",
       "      <th>cb_person_default_on_file_Y</th>\n",
       "    </tr>\n",
       "  </thead>\n",
       "  <tbody>\n",
       "    <tr>\n",
       "      <th>0</th>\n",
       "      <td>22</td>\n",
       "      <td>59000</td>\n",
       "      <td>123.0</td>\n",
       "      <td>35000</td>\n",
       "      <td>16.02</td>\n",
       "      <td>1</td>\n",
       "      <td>0.59</td>\n",
       "      <td>3</td>\n",
       "      <td>0</td>\n",
       "      <td>0</td>\n",
       "      <td>...</td>\n",
       "      <td>0</td>\n",
       "      <td>0</td>\n",
       "      <td>0</td>\n",
       "      <td>0</td>\n",
       "      <td>1</td>\n",
       "      <td>0</td>\n",
       "      <td>0</td>\n",
       "      <td>0</td>\n",
       "      <td>0</td>\n",
       "      <td>1</td>\n",
       "    </tr>\n",
       "    <tr>\n",
       "      <th>1</th>\n",
       "      <td>21</td>\n",
       "      <td>9600</td>\n",
       "      <td>5.0</td>\n",
       "      <td>1000</td>\n",
       "      <td>11.14</td>\n",
       "      <td>0</td>\n",
       "      <td>0.10</td>\n",
       "      <td>2</td>\n",
       "      <td>0</td>\n",
       "      <td>0</td>\n",
       "      <td>...</td>\n",
       "      <td>0</td>\n",
       "      <td>0</td>\n",
       "      <td>1</td>\n",
       "      <td>0</td>\n",
       "      <td>0</td>\n",
       "      <td>0</td>\n",
       "      <td>0</td>\n",
       "      <td>0</td>\n",
       "      <td>1</td>\n",
       "      <td>0</td>\n",
       "    </tr>\n",
       "    <tr>\n",
       "      <th>2</th>\n",
       "      <td>25</td>\n",
       "      <td>9600</td>\n",
       "      <td>1.0</td>\n",
       "      <td>5500</td>\n",
       "      <td>12.87</td>\n",
       "      <td>1</td>\n",
       "      <td>0.57</td>\n",
       "      <td>3</td>\n",
       "      <td>1</td>\n",
       "      <td>0</td>\n",
       "      <td>...</td>\n",
       "      <td>0</td>\n",
       "      <td>0</td>\n",
       "      <td>0</td>\n",
       "      <td>1</td>\n",
       "      <td>0</td>\n",
       "      <td>0</td>\n",
       "      <td>0</td>\n",
       "      <td>0</td>\n",
       "      <td>1</td>\n",
       "      <td>0</td>\n",
       "    </tr>\n",
       "    <tr>\n",
       "      <th>3</th>\n",
       "      <td>23</td>\n",
       "      <td>65500</td>\n",
       "      <td>4.0</td>\n",
       "      <td>35000</td>\n",
       "      <td>15.23</td>\n",
       "      <td>1</td>\n",
       "      <td>0.53</td>\n",
       "      <td>2</td>\n",
       "      <td>0</td>\n",
       "      <td>0</td>\n",
       "      <td>...</td>\n",
       "      <td>0</td>\n",
       "      <td>0</td>\n",
       "      <td>0</td>\n",
       "      <td>1</td>\n",
       "      <td>0</td>\n",
       "      <td>0</td>\n",
       "      <td>0</td>\n",
       "      <td>0</td>\n",
       "      <td>1</td>\n",
       "      <td>0</td>\n",
       "    </tr>\n",
       "    <tr>\n",
       "      <th>4</th>\n",
       "      <td>24</td>\n",
       "      <td>54400</td>\n",
       "      <td>8.0</td>\n",
       "      <td>35000</td>\n",
       "      <td>14.27</td>\n",
       "      <td>1</td>\n",
       "      <td>0.55</td>\n",
       "      <td>4</td>\n",
       "      <td>0</td>\n",
       "      <td>0</td>\n",
       "      <td>...</td>\n",
       "      <td>0</td>\n",
       "      <td>0</td>\n",
       "      <td>0</td>\n",
       "      <td>1</td>\n",
       "      <td>0</td>\n",
       "      <td>0</td>\n",
       "      <td>0</td>\n",
       "      <td>0</td>\n",
       "      <td>0</td>\n",
       "      <td>1</td>\n",
       "    </tr>\n",
       "  </tbody>\n",
       "</table>\n",
       "<p>5 rows × 27 columns</p>\n",
       "</div>"
      ],
      "text/plain": [
       "   person_age  person_income  person_emp_length  loan_amnt  loan_int_rate  \\\n",
       "0          22          59000              123.0      35000          16.02   \n",
       "1          21           9600                5.0       1000          11.14   \n",
       "2          25           9600                1.0       5500          12.87   \n",
       "3          23          65500                4.0      35000          15.23   \n",
       "4          24          54400                8.0      35000          14.27   \n",
       "\n",
       "   loan_status  loan_percent_income  cb_person_cred_hist_length  \\\n",
       "0            1                 0.59                           3   \n",
       "1            0                 0.10                           2   \n",
       "2            1                 0.57                           3   \n",
       "3            1                 0.53                           2   \n",
       "4            1                 0.55                           4   \n",
       "\n",
       "   person_home_ownership_MORTGAGE  person_home_ownership_OTHER  ...  \\\n",
       "0                               0                            0  ...   \n",
       "1                               0                            0  ...   \n",
       "2                               1                            0  ...   \n",
       "3                               0                            0  ...   \n",
       "4                               0                            0  ...   \n",
       "\n",
       "   loan_intent_VENTURE  loan_grade_A  loan_grade_B  loan_grade_C  \\\n",
       "0                    0             0             0             0   \n",
       "1                    0             0             1             0   \n",
       "2                    0             0             0             1   \n",
       "3                    0             0             0             1   \n",
       "4                    0             0             0             1   \n",
       "\n",
       "   loan_grade_D  loan_grade_E  loan_grade_F  loan_grade_G  \\\n",
       "0             1             0             0             0   \n",
       "1             0             0             0             0   \n",
       "2             0             0             0             0   \n",
       "3             0             0             0             0   \n",
       "4             0             0             0             0   \n",
       "\n",
       "   cb_person_default_on_file_N  cb_person_default_on_file_Y  \n",
       "0                            0                            1  \n",
       "1                            1                            0  \n",
       "2                            1                            0  \n",
       "3                            1                            0  \n",
       "4                            0                            1  \n",
       "\n",
       "[5 rows x 27 columns]"
      ]
     },
     "execution_count": 4,
     "metadata": {},
     "output_type": "execute_result"
    }
   ],
   "source": [
    "#Transformar as variáveis object em numericas\n",
    "\n",
    "#Aplicar transformação nos dados\n",
    "dummies =  pd.get_dummies(dados[['person_home_ownership','loan_intent','loan_grade','cb_person_default_on_file']])\n",
    "\n",
    "#Excluir as variáveis object\n",
    "dados = dados.drop(['person_home_ownership','loan_intent','loan_grade','cb_person_default_on_file'],axis=1)\n",
    "\n",
    "#Juntar as variáveis dummies com dataset \n",
    "dados_transform = dados.join(dummies)\n",
    "\n",
    "#Dataset\n",
    "dados_transform.head(5)"
   ]
  },
  {
   "cell_type": "markdown",
   "metadata": {},
   "source": [
    "**Variáveis dummies adicionadas no dataset**"
   ]
  },
  {
   "cell_type": "code",
   "execution_count": 5,
   "metadata": {},
   "outputs": [
    {
     "name": "stdout",
     "output_type": "stream",
     "text": [
      "<class 'pandas.core.frame.DataFrame'>\n",
      "RangeIndex: 32581 entries, 0 to 32580\n",
      "Data columns (total 27 columns):\n",
      " #   Column                          Non-Null Count  Dtype  \n",
      "---  ------                          --------------  -----  \n",
      " 0   person_age                      32581 non-null  int64  \n",
      " 1   person_income                   32581 non-null  int64  \n",
      " 2   person_emp_length               31686 non-null  float64\n",
      " 3   loan_amnt                       32581 non-null  int64  \n",
      " 4   loan_int_rate                   29465 non-null  float64\n",
      " 5   loan_status                     32581 non-null  int64  \n",
      " 6   loan_percent_income             32581 non-null  float64\n",
      " 7   cb_person_cred_hist_length      32581 non-null  int64  \n",
      " 8   person_home_ownership_MORTGAGE  32581 non-null  uint8  \n",
      " 9   person_home_ownership_OTHER     32581 non-null  uint8  \n",
      " 10  person_home_ownership_OWN       32581 non-null  uint8  \n",
      " 11  person_home_ownership_RENT      32581 non-null  uint8  \n",
      " 12  loan_intent_DEBTCONSOLIDATION   32581 non-null  uint8  \n",
      " 13  loan_intent_EDUCATION           32581 non-null  uint8  \n",
      " 14  loan_intent_HOMEIMPROVEMENT     32581 non-null  uint8  \n",
      " 15  loan_intent_MEDICAL             32581 non-null  uint8  \n",
      " 16  loan_intent_PERSONAL            32581 non-null  uint8  \n",
      " 17  loan_intent_VENTURE             32581 non-null  uint8  \n",
      " 18  loan_grade_A                    32581 non-null  uint8  \n",
      " 19  loan_grade_B                    32581 non-null  uint8  \n",
      " 20  loan_grade_C                    32581 non-null  uint8  \n",
      " 21  loan_grade_D                    32581 non-null  uint8  \n",
      " 22  loan_grade_E                    32581 non-null  uint8  \n",
      " 23  loan_grade_F                    32581 non-null  uint8  \n",
      " 24  loan_grade_G                    32581 non-null  uint8  \n",
      " 25  cb_person_default_on_file_N     32581 non-null  uint8  \n",
      " 26  cb_person_default_on_file_Y     32581 non-null  uint8  \n",
      "dtypes: float64(3), int64(5), uint8(19)\n",
      "memory usage: 2.6 MB\n"
     ]
    }
   ],
   "source": [
    "#Tipos de variáveis\n",
    "dados_transform.info()"
   ]
  },
  {
   "cell_type": "markdown",
   "metadata": {},
   "source": [
    "**Agora todas as variaveis são numericas**"
   ]
  },
  {
   "cell_type": "code",
   "execution_count": 6,
   "metadata": {},
   "outputs": [
    {
     "name": "stdout",
     "output_type": "stream",
     "text": [
      "Dados NaN = 4011\n",
      "Dados NaN após transformação = 0\n",
      "Tamanho do dataset após transformação = (28638, 27)\n"
     ]
    }
   ],
   "source": [
    "#Verificar dados NAN\n",
    "nan = dados_transform.isnull().values.sum()\n",
    "print(f'Dados NaN = {nan}')\n",
    "\n",
    "#Remover dados NaN\n",
    "dados_transform1 = pd.DataFrame(dados_transform.dropna(axis=0, how='any'))\n",
    "print(f'Dados NaN após transformação = {dados_transform1.isnull().values.sum()}')\n",
    "print(f'Tamanho do dataset após transformação = {dados_transform1.shape}')"
   ]
  },
  {
   "cell_type": "markdown",
   "metadata": {},
   "source": [
    "**Dataset sem registros nulos**"
   ]
  },
  {
   "cell_type": "markdown",
   "metadata": {},
   "source": [
    "# Modelagem: "
   ]
  },
  {
   "cell_type": "markdown",
   "metadata": {},
   "source": [
    "- Para cada algoritmo aplicaremos os 3 ajustes de hiperparâmetros \n",
    "\n",
    "\n",
    "- Objetivo: Comparar o tempo de execução e o resultado final de cada modelo"
   ]
  },
  {
   "cell_type": "markdown",
   "metadata": {},
   "source": [
    "# Algoritmo - DecisionTreeClassifier:"
   ]
  },
  {
   "cell_type": "markdown",
   "metadata": {},
   "source": [
    "- Árvore de decisão usando criterio gini"
   ]
  },
  {
   "cell_type": "markdown",
   "metadata": {},
   "source": [
    "## Sem Otimização de hiperparâmetros"
   ]
  },
  {
   "cell_type": "code",
   "execution_count": 7,
   "metadata": {},
   "outputs": [],
   "source": [
    "#Divisão dos dados em X e Y\n",
    "x = dados_transform1.drop('loan_status',axis=1)\n",
    "y = dados_transform1.loan_status\n",
    "\n",
    "#Divisão entre treino e teste\n",
    "from sklearn.model_selection import train_test_split\n",
    "X_train, X_test, y_train, y_test = train_test_split(x,y,test_size=0.3,random_state=1)"
   ]
  },
  {
   "cell_type": "code",
   "execution_count": 8,
   "metadata": {},
   "outputs": [
    {
     "name": "stdout",
     "output_type": "stream",
     "text": [
      "\n",
      "Score Teste: 89.1%\n",
      "\n",
      "Execução em 0.54 segundos.\n"
     ]
    }
   ],
   "source": [
    "start = time()\n",
    "\n",
    "# Construção do Classificador\n",
    "decision_tree = DecisionTreeClassifier(random_state = 1)\n",
    "\n",
    "#Treinar o modelo com os dados de treino\n",
    "decision_tree.fit(X_train, y_train)\n",
    "\n",
    "# Score do modelo\n",
    "scores = cross_val_score(decision_tree, X_train, y_train)\n",
    "\n",
    "#Score do modelo com os dados de teste\n",
    "decision_tree_score = decision_tree.score(X_test,y_test)\n",
    "print(f'\\nScore Teste: {round(decision_tree_score,3)*100}%')\n",
    "\n",
    "#Tempo de execução do modelo\n",
    "time1 = round((time() - start),3)\n",
    "print(\"\\nExecução em %.2f segundos.\" \n",
    "      % ((time() - start)))"
   ]
  },
  {
   "cell_type": "markdown",
   "metadata": {},
   "source": [
    "**Resultado do modelo DecisionTreeClassifier sem otimização**"
   ]
  },
  {
   "cell_type": "markdown",
   "metadata": {},
   "source": [
    "## Randomized Search"
   ]
  },
  {
   "cell_type": "code",
   "execution_count": 9,
   "metadata": {},
   "outputs": [],
   "source": [
    "#Pacote RandomizedSearchCV\n",
    "from sklearn.model_selection import RandomizedSearchCV"
   ]
  },
  {
   "cell_type": "code",
   "execution_count": 10,
   "metadata": {},
   "outputs": [
    {
     "name": "stdout",
     "output_type": "stream",
     "text": [
      "              **Melhores parametros com rsearch**\n",
      "\n",
      "DecisionTreeClassifier(max_depth=10, max_features=20, min_samples_leaf=5,\n",
      "                       min_samples_split=7, random_state=1)\n",
      "\n",
      "\n",
      "Acurácia: 93.0%\n",
      "\n",
      "Execução em 19.72 segundos.\n"
     ]
    }
   ],
   "source": [
    "start = time()\n",
    "import warnings\n",
    "warnings.filterwarnings('ignore')\n",
    "\n",
    "# Definição dos parâmetros\n",
    "param_dist = {\"max_depth\": [0,1,2,4,5,7,8,10,20],\"min_samples_split\": [0,1,2,4,5,7,8,10,20],\n",
    "              \"min_samples_leaf\": [0,1,2,4,5,7,8,10,20],\"criterion\":['gini','entropy'],\n",
    "               \"max_features\": [0,1,2,4,5,7,8,10,20]}\n",
    "\n",
    "# Construção do Classificador\n",
    "TreeClas_model = DecisionTreeClassifier(random_state = 1)\n",
    "\n",
    "# Usar o modelo DecisionTreeClassifier para otimização dos hiperparametros\n",
    "TreeClas_rsearch = RandomizedSearchCV(TreeClas_model,param_distributions = param_dist,n_iter=300, random_state = 1)\n",
    "\n",
    "# Aplicando o resultado ao conjunto de dados de treino e obtendo o score\n",
    "TreeClas_rsearch.fit(X_train, y_train)\n",
    "\n",
    "# Imprimindo o melhor estimador\n",
    "bestclf = TreeClas_rsearch.best_estimator_\n",
    "print (f'              **Melhores parametros com rsearch**')\n",
    "print (f'\\n{bestclf}\\n')\n",
    "\n",
    "# Aplicando o melhor estimador para realizar as previsões\n",
    "y_pred = bestclf.predict(X_test)\n",
    "\n",
    "# Acurácia\n",
    "TreeClas_rsearch_acuracy = accuracy_score(y_test, y_pred)\n",
    "\n",
    "print(f'\\nAcurácia: {round(TreeClas_rsearch_acuracy,2)*100}%')\n",
    "\n",
    "#Tempo de execução do modelo\n",
    "time2 = round((time() - start),3)\n",
    "print(\"\\nExecução em %.2f segundos.\" \n",
    "      % ((time() - start)))"
   ]
  },
  {
   "cell_type": "markdown",
   "metadata": {},
   "source": [
    "**Resultado do modelo usando Randomized Search**"
   ]
  },
  {
   "cell_type": "markdown",
   "metadata": {},
   "source": [
    "##  Grid Search"
   ]
  },
  {
   "cell_type": "code",
   "execution_count": 11,
   "metadata": {},
   "outputs": [],
   "source": [
    "#Pacote GridSearchCV\n",
    "from sklearn.model_selection import GridSearchCV"
   ]
  },
  {
   "cell_type": "code",
   "execution_count": 12,
   "metadata": {},
   "outputs": [
    {
     "name": "stdout",
     "output_type": "stream",
     "text": [
      "              **Melhores parametros com rsearch**\n",
      "\n",
      "DecisionTreeClassifier(criterion='entropy', max_depth=10, max_features=10,\n",
      "                       min_samples_leaf=2, min_samples_split=8, random_state=1)\n",
      "\n",
      "\n",
      "Acurácia: 91.4%\n",
      "\n",
      "Execução em 67.50 segundos.\n"
     ]
    }
   ],
   "source": [
    "start = time()\n",
    "\n",
    "# Definição dos parâmetros\n",
    "param_dist = {\"max_depth\": [0,2,5,8,10],\n",
    "              \"min_samples_split\": [0,2,5,8,10],\n",
    "              \"min_samples_leaf\": [0,2,5,8,10],\n",
    "              \"criterion\":['gini','entropy'],\n",
    "               \"max_features\": [0,2,5,8,10]}\n",
    "\n",
    "# Construção do Classificador\n",
    "TreeClas_model = DecisionTreeClassifier(random_state = 1)\n",
    "\n",
    "\n",
    "# Usar o modelo DecisionTreeClassifier para otimização dos hiperparametros\n",
    "TreeClas_gsearch = GridSearchCV(TreeClas_model,param_grid = param_dist)\n",
    "\n",
    "# Aplicando o resultado ao conjunto de dados de treino e obtendo o score\n",
    "TreeClas_gsearch.fit(X_train, y_train)\n",
    "\n",
    "# Imprimindo o melhor estimador\n",
    "bestclf = TreeClas_gsearch.best_estimator_\n",
    "print (f'              **Melhores parametros com rsearch**')\n",
    "print (f'\\n{bestclf}\\n')\n",
    "\n",
    "# Aplicando o melhor estimador para realizar as previsões\n",
    "y_pred = bestclf.predict(X_test)\n",
    "\n",
    "# Acurácia\n",
    "TreeClas_gsearch_acuracy = accuracy_score(y_test, y_pred)\n",
    "\n",
    "print(f'\\nAcurácia: {round(TreeClas_gsearch_acuracy,3)*100}%')\n",
    "\n",
    "#Tempo de execução do modelo\n",
    "\n",
    "#Tempo de execução do modelo\n",
    "time3 = round((time() - start),3)\n",
    "print(\"\\nExecução em %.2f segundos.\" \n",
    "      % ((time() - start)))"
   ]
  },
  {
   "cell_type": "markdown",
   "metadata": {},
   "source": [
    "**Resultado do modelo usando Grid Search**"
   ]
  },
  {
   "cell_type": "markdown",
   "metadata": {},
   "source": [
    "##  BayesSearchCV"
   ]
  },
  {
   "cell_type": "code",
   "execution_count": 13,
   "metadata": {},
   "outputs": [],
   "source": [
    "#Pacote BayesSearchCV\n",
    "from skopt import BayesSearchCV\n"
   ]
  },
  {
   "cell_type": "code",
   "execution_count": 14,
   "metadata": {},
   "outputs": [
    {
     "name": "stdout",
     "output_type": "stream",
     "text": [
      "              **Melhores parametros com BayesSearchCV**\n",
      "\n",
      "DecisionTreeClassifier(criterion='entropy', max_depth=10, max_features=10,\n",
      "                       min_samples_split=4, random_state=1)\n",
      "\n",
      "\n",
      "Acurácia: 92.0%\n",
      "\n",
      "Execução em 74.66 segundos.\n"
     ]
    }
   ],
   "source": [
    "import warnings\n",
    "warnings.filterwarnings('ignore')\n",
    "start = time()\n",
    "\n",
    "# Definição dos parâmetros\n",
    "param_dist = {\"max_depth\": [1,2,4,5,7,8,10,20],\"min_samples_split\": [2,4,5,7,8,10,20],\n",
    "              \"min_samples_leaf\": [1,2,4,5,7,8,10,20],\"criterion\":['gini','entropy'],\n",
    "               \"max_features\": [1,2,3,4,8,10,11]}\n",
    "\n",
    "\n",
    "# Construção do Classificador\n",
    "TreeClas_model = DecisionTreeClassifier(random_state = 1)\n",
    "\n",
    "# Usar o modelo DecisionTreeClassifier para otimização dos hiperparametros\n",
    "TreeClas_BayesSearchCV = BayesSearchCV(TreeClas_model,param_dist)\n",
    "\n",
    "# Aplicando o resultado ao conjunto de dados de treino e obtendo o score\n",
    "TreeClas_BayesSearchCV.fit(X_train, y_train)\n",
    "\n",
    "# Imprimindo o melhor estimador\n",
    "bestclf = TreeClas_BayesSearchCV.best_estimator_\n",
    "print (f'              **Melhores parametros com BayesSearchCV**')\n",
    "print (f'\\n{bestclf}\\n')\n",
    "\n",
    "# Aplicando o melhor estimador para realizar as previsões\n",
    "y_pred = bestclf.predict(X_test)\n",
    "\n",
    "\n",
    "# Acurácia\n",
    "TreeClas_BayesSearchCV_acuracy = accuracy_score(y_test, y_pred)\n",
    "\n",
    "print(f'\\nAcurácia: {round(TreeClas_BayesSearchCV_acuracy,2)*100}%')\n",
    "\n",
    "#Tempo de execução do modelo\n",
    "time4 = round((time() - start),3)\n",
    "print(\"\\nExecução em %.2f segundos.\" \n",
    "      % ((time() - start)))"
   ]
  },
  {
   "cell_type": "markdown",
   "metadata": {},
   "source": [
    "**Resultado do modelo usando BayesSearchCV**"
   ]
  },
  {
   "cell_type": "markdown",
   "metadata": {},
   "source": [
    "## Comparando os 4 modelos "
   ]
  },
  {
   "cell_type": "code",
   "execution_count": 15,
   "metadata": {},
   "outputs": [
    {
     "data": {
      "image/png": "[encoded data removed]",
      "text/plain": [
       "<Figure size 432x288 with 1 Axes>"
      ]
     },
     "metadata": {
      "needs_background": "light"
     },
     "output_type": "display_data"
    }
   ],
   "source": [
    "import matplotlib.pyplot as plt\n",
    "scores = pd.DataFrame([decision_tree_score,TreeClas_rsearch_acuracy,\n",
    "                       TreeClas_gsearch_acuracy,TreeClas_BayesSearchCV_acuracy])\n",
    "\n",
    "scores['columns1'] =  ['TreeClas_score','TreeClas_rsearch_acuracy',\n",
    "                       'TreeClas_gsearch_acuracy','TreeClas_BayesSearchCV_acuracy']\n",
    "\n",
    "scores.columns = ['Scores','Modelos']\n",
    "\n",
    "#Plotar \n",
    "plt.barh(scores.Modelos,scores['Scores']);\n"
   ]
  },
  {
   "cell_type": "code",
   "execution_count": 16,
   "metadata": {},
   "outputs": [
    {
     "data": {
      "text/html": [
       "<div>\n",
       "<style scoped>\n",
       "    .dataframe tbody tr th:only-of-type {\n",
       "        vertical-align: middle;\n",
       "    }\n",
       "\n",
       "    .dataframe tbody tr th {\n",
       "        vertical-align: top;\n",
       "    }\n",
       "\n",
       "    .dataframe thead th {\n",
       "        text-align: right;\n",
       "    }\n",
       "</style>\n",
       "<table border=\"1\" class=\"dataframe\">\n",
       "  <thead>\n",
       "    <tr style=\"text-align: right;\">\n",
       "      <th></th>\n",
       "      <th>Scores</th>\n",
       "      <th>Modelos</th>\n",
       "      <th>Time(Seg)</th>\n",
       "    </tr>\n",
       "  </thead>\n",
       "  <tbody>\n",
       "    <tr>\n",
       "      <th>0</th>\n",
       "      <td>0.891061</td>\n",
       "      <td>TreeClas_score</td>\n",
       "      <td>0.538</td>\n",
       "    </tr>\n",
       "    <tr>\n",
       "      <th>1</th>\n",
       "      <td>0.927607</td>\n",
       "      <td>TreeClas_rsearch_acuracy</td>\n",
       "      <td>19.719</td>\n",
       "    </tr>\n",
       "    <tr>\n",
       "      <th>2</th>\n",
       "      <td>0.914455</td>\n",
       "      <td>TreeClas_gsearch_acuracy</td>\n",
       "      <td>67.500</td>\n",
       "    </tr>\n",
       "    <tr>\n",
       "      <th>3</th>\n",
       "      <td>0.922370</td>\n",
       "      <td>TreeClas_BayesSearchCV_acuracy</td>\n",
       "      <td>74.656</td>\n",
       "    </tr>\n",
       "  </tbody>\n",
       "</table>\n",
       "</div>"
      ],
      "text/plain": [
       "     Scores                         Modelos  Time(Seg)\n",
       "0  0.891061                  TreeClas_score      0.538\n",
       "1  0.927607        TreeClas_rsearch_acuracy     19.719\n",
       "2  0.914455        TreeClas_gsearch_acuracy     67.500\n",
       "3  0.922370  TreeClas_BayesSearchCV_acuracy     74.656"
      ]
     },
     "execution_count": 16,
     "metadata": {},
     "output_type": "execute_result"
    }
   ],
   "source": [
    "#Valor dos Scores dos modelos \n",
    "scores['Time(Seg)'] = time1,time2,time3,time4\n",
    "dts = scores\n",
    "dts"
   ]
  },
  {
   "cell_type": "markdown",
   "metadata": {},
   "source": [
    "**Observamos que os modelos com otimização foram os que tiveram os melhores desempenhos, porém com maior poder computacional**"
   ]
  },
  {
   "cell_type": "markdown",
   "metadata": {},
   "source": [
    "## Algoritmo - Extremely Randomized Trees (ExtraTrees)"
   ]
  },
  {
   "cell_type": "markdown",
   "metadata": {},
   "source": [
    "- **São criadas várias arvores com dados aleatórios, os dados existentes em cada uma destas variáveis serão separados também de maneira aleatória, para que o nó raiz varie em algumas árvores**"
   ]
  },
  {
   "cell_type": "markdown",
   "metadata": {},
   "source": [
    "## Sem Otimização de hiperparâmetros"
   ]
  },
  {
   "cell_type": "code",
   "execution_count": 17,
   "metadata": {},
   "outputs": [],
   "source": [
    "#Pacote ExtraTreesClassifier\n",
    "from sklearn.ensemble import ExtraTreesClassifier"
   ]
  },
  {
   "cell_type": "code",
   "execution_count": 18,
   "metadata": {},
   "outputs": [
    {
     "name": "stdout",
     "output_type": "stream",
     "text": [
      "\n",
      "Score Teste: 92.0%\n",
      "\n",
      "Execução em 1.59 segundos.\n"
     ]
    }
   ],
   "source": [
    "start = time()\n",
    "\n",
    "# Construção do Classificador\n",
    "ExtraTrees = ExtraTreesClassifier(min_samples_split = 2, random_state = 1)\n",
    "\n",
    "#Treinar o modelo com os dados de treino\n",
    "ExtraTrees.fit(X_train, y_train)\n",
    "\n",
    "#Score do modelo com os dados de teste\n",
    "ExtraTrees_score = ExtraTrees.score(X_test,y_test)\n",
    "print(f'\\nScore Teste: {round(ExtraTrees_score,2)*100}%')\n",
    "\n",
    "#Tempo de execução do modelo\n",
    "time1 = round((time() - start),3)\n",
    "print(\"\\nExecução em %.2f segundos.\" \n",
    "      % ((time() - start)))"
   ]
  },
  {
   "cell_type": "markdown",
   "metadata": {},
   "source": [
    "**Resultado do modelo sem otimização**"
   ]
  },
  {
   "cell_type": "markdown",
   "metadata": {},
   "source": [
    "## Randomized Search"
   ]
  },
  {
   "cell_type": "code",
   "execution_count": 19,
   "metadata": {},
   "outputs": [
    {
     "name": "stdout",
     "output_type": "stream",
     "text": [
      "              **Melhores parametros com rsearch**\n",
      "\n",
      "ExtraTreesClassifier(max_depth=8, max_features=8, min_samples_leaf=4,\n",
      "                     min_samples_split=10, random_state=1)\n",
      "\n",
      "\n",
      "Acurácia: 89.0%\n",
      "\n",
      "Execução em 196.53 segundos.\n"
     ]
    }
   ],
   "source": [
    "start = time()\n",
    "\n",
    "# Definição dos parâmetros\n",
    "\n",
    "param_dist = {\"max_depth\": [1, 3, 7, 8],\n",
    "              \"max_features\": [2,4,5,7,8],\n",
    "              \"min_samples_split\": [3,4,5,7,10],\n",
    "              \"min_samples_leaf\": [1, 2, 3, 4, 5, 6, 7],\n",
    "              \"bootstrap\": [True, False],\n",
    "              \"criterion\": ['gini','entropy']}\n",
    "\n",
    "\n",
    "# Construção do Classificador\n",
    "ExtraTrees = ExtraTreesClassifier(random_state = 1)\n",
    "\n",
    "\n",
    "# Usar o modelo ExtraTreesClassifier para otimização dos hiperparametros\n",
    "ExtraTrees_rsearch = RandomizedSearchCV(ExtraTrees,param_distributions = param_dist,n_iter=100,random_state = 1)\n",
    "\n",
    "# Aplicando o resultado ao conjunto de dados de treino e obtendo o score\n",
    "ExtraTrees_rsearch.fit(X_train, y_train)\n",
    "\n",
    "\n",
    "# Imprimindo o melhor estimador\n",
    "bestclf = ExtraTrees_rsearch.best_estimator_\n",
    "print (f'              **Melhores parametros com rsearch**')\n",
    "print (f'\\n{bestclf}\\n')\n",
    "\n",
    "# Aplicando o melhor estimador para realizar as previsões\n",
    "y_pred = bestclf.predict(X_test)\n",
    "\n",
    "# Acurácia\n",
    "ExtraTrees_rsearch_acuracy = accuracy_score(y_test, y_pred)\n",
    "\n",
    "print(f'\\nAcurácia: {round(ExtraTrees_rsearch_acuracy,2)*100}%')\n",
    "\n",
    "#Tempo de execução do modelo\n",
    "time2 = round((time() - start),3)\n",
    "print(\"\\nExecução em %.2f segundos.\" \n",
    "      % ((time() - start)))"
   ]
  },
  {
   "cell_type": "markdown",
   "metadata": {},
   "source": [
    "**Resultado do modelo usando Randomized Search**"
   ]
  },
  {
   "cell_type": "markdown",
   "metadata": {},
   "source": [
    "##  Grid Search"
   ]
  },
  {
   "cell_type": "code",
   "execution_count": 20,
   "metadata": {},
   "outputs": [
    {
     "name": "stdout",
     "output_type": "stream",
     "text": [
      "              **Melhores parametros com Grid Search**\n",
      "\n",
      "ExtraTreesClassifier(max_depth=8, max_features=10, min_samples_leaf=8,\n",
      "                     min_samples_split=7, random_state=1)\n",
      "\n",
      "\n",
      "Acurácia: 90.0%\n",
      "\n",
      "Execução em 104.25 segundos.\n"
     ]
    }
   ],
   "source": [
    "start = time()\n",
    "# Definição dos parâmetros\n",
    "\n",
    "param_dist = {\"max_depth\": [ 7, 8],\n",
    "              \"max_features\": [8,10],\n",
    "              \"min_samples_split\": [7,10],\n",
    "              \"min_samples_leaf\": [8,10],\n",
    "              \"bootstrap\": [True, False],\n",
    "              \"criterion\": ['gini']}\n",
    "\n",
    "\n",
    "# Construção do Classificador\n",
    "ExtraTrees = ExtraTreesClassifier(random_state = 1)\n",
    "\n",
    "\n",
    "# Usar o modelo ExtraTreesClassifier para otimização dos hiperparametros\n",
    "ExtraTrees_gsearch = GridSearchCV(ExtraTrees,param_grid = param_dist)\n",
    "\n",
    "# Aplicando o resultado ao conjunto de dados de treino e obtendo o score\n",
    "ExtraTrees_gsearch.fit(X_train, y_train)\n",
    "\n",
    "# Imprimindo o melhor estimador\n",
    "bestclf = ExtraTrees_gsearch.best_estimator_\n",
    "print (f'              **Melhores parametros com Grid Search**')\n",
    "print (f'\\n{bestclf}\\n')\n",
    "\n",
    "# Aplicando o melhor estimador para realizar as previsões\n",
    "y_pred = bestclf.predict(X_test)\n",
    "\n",
    "# Acurácia\n",
    "ExtraTrees_gsearch_acuracy = accuracy_score(y_test, y_pred)\n",
    "\n",
    "print(f'\\nAcurácia: {round(ExtraTrees_gsearch_acuracy,2)*100}%')\n",
    "\n",
    "#Tempo de execução do modelo\n",
    "time3 = round((time() - start),3)\n",
    "print(\"\\nExecução em %.2f segundos.\" \n",
    "      % ((time() - start)))"
   ]
  },
  {
   "cell_type": "markdown",
   "metadata": {},
   "source": [
    "**Resultado do modelo usando Grid Search**"
   ]
  },
  {
   "cell_type": "markdown",
   "metadata": {},
   "source": [
    "##  BayesSearchCV"
   ]
  },
  {
   "cell_type": "code",
   "execution_count": 21,
   "metadata": {},
   "outputs": [
    {
     "name": "stdout",
     "output_type": "stream",
     "text": [
      "              **Melhores parametros com BayesSearchCV**\n",
      "\n",
      "ExtraTreesClassifier(criterion='entropy', max_depth=8, max_features=8,\n",
      "                     min_samples_leaf=6, min_samples_split=7, random_state=1)\n",
      "\n",
      "0.8873370577281192\n",
      "\n",
      "Execução em 222.38 segundos.\n"
     ]
    }
   ],
   "source": [
    "import warnings\n",
    "warnings.filterwarnings('ignore')\n",
    "start = time()\n",
    "# Definição dos parâmetros\n",
    "\n",
    "param_dist = {\"max_depth\": [1, 3, 7, 8],\n",
    "              \"max_features\": [2,4,5,7,8],\n",
    "              \"min_samples_split\": [3,4,5,7,10],\n",
    "              \"min_samples_leaf\": [1, 2, 3, 4, 5, 6, 7],\n",
    "              \"bootstrap\": [True, False],\n",
    "              \"criterion\": ['gini','entropy']}\n",
    "\n",
    "\n",
    "# Construção do Classificador\n",
    "ExtraTrees_mpdel = ExtraTreesClassifier(random_state = 1)\n",
    "\n",
    "\n",
    "# Usar o modelo Bagging para otimização dos hiperparametros\n",
    "ExtraTrees_BayesSearch = BayesSearchCV(ExtraTrees_mpdel,param_dist)\n",
    "\n",
    "# Aplicando o resultado ao conjunto de dados de treino e obtendo o score\n",
    "ExtraTrees_BayesSearch.fit(X_train, y_train)\n",
    "\n",
    "# Imprimindo o melhor estimador\n",
    "bestclf = ExtraTrees_BayesSearch.best_estimator_\n",
    "print (f'              **Melhores parametros com BayesSearchCV**')\n",
    "print (f'\\n{bestclf}\\n')\n",
    "\n",
    "# Aplicando o melhor estimador para realizar as previsões\n",
    "y_pred = bestclf.predict(X_test)\n",
    "\n",
    "# Acurácia\n",
    "ExtraTrees_BayesSearch_acuracy = accuracy_score(y_test, y_pred)\n",
    "\n",
    "print(ExtraTrees_BayesSearch_acuracy)\n",
    "\n",
    "#Tempo de execução do modelo\n",
    "time4 = round((time() - start),3)\n",
    "print(\"\\nExecução em %.2f segundos.\" \n",
    "      % ((time() - start)))"
   ]
  },
  {
   "cell_type": "markdown",
   "metadata": {},
   "source": [
    "**Resultado do modelo usando BayesSearchCV**"
   ]
  },
  {
   "cell_type": "markdown",
   "metadata": {},
   "source": [
    "## Comparando os 4 modelos com ExtraTrees"
   ]
  },
  {
   "cell_type": "code",
   "execution_count": 22,
   "metadata": {},
   "outputs": [
    {
     "data": {
      "image/png": "[encoded data removed]",
      "text/plain": [
       "<Figure size 432x288 with 1 Axes>"
      ]
     },
     "metadata": {
      "needs_background": "light"
     },
     "output_type": "display_data"
    }
   ],
   "source": [
    "#Modelos\n",
    "scores = pd.DataFrame([ExtraTrees_score,ExtraTrees_rsearch_acuracy,\n",
    "                       ExtraTrees_gsearch_acuracy,ExtraTrees_BayesSearch_acuracy])\n",
    "\n",
    "scores['columns1'] =  ['ExtraTrees_score','ExtraTrees_rsearch_Acuracy',\n",
    "                       'ExtraTrees_gsearch_Acuracy','ExtraTrees_BayesSearch_acuracy']\n",
    "\n",
    "scores.columns = ['Scores','Modelos']\n",
    "\n",
    "#Plotar \n",
    "plt.barh(scores.Modelos,scores['Scores']);"
   ]
  },
  {
   "cell_type": "code",
   "execution_count": 23,
   "metadata": {},
   "outputs": [
    {
     "data": {
      "text/html": [
       "<div>\n",
       "<style scoped>\n",
       "    .dataframe tbody tr th:only-of-type {\n",
       "        vertical-align: middle;\n",
       "    }\n",
       "\n",
       "    .dataframe tbody tr th {\n",
       "        vertical-align: top;\n",
       "    }\n",
       "\n",
       "    .dataframe thead th {\n",
       "        text-align: right;\n",
       "    }\n",
       "</style>\n",
       "<table border=\"1\" class=\"dataframe\">\n",
       "  <thead>\n",
       "    <tr style=\"text-align: right;\">\n",
       "      <th></th>\n",
       "      <th>Scores</th>\n",
       "      <th>Modelos</th>\n",
       "      <th>Time(Seg)</th>\n",
       "    </tr>\n",
       "  </thead>\n",
       "  <tbody>\n",
       "    <tr>\n",
       "      <th>0</th>\n",
       "      <td>0.920507</td>\n",
       "      <td>ExtraTrees_score</td>\n",
       "      <td>1.594</td>\n",
       "    </tr>\n",
       "    <tr>\n",
       "      <th>1</th>\n",
       "      <td>0.891061</td>\n",
       "      <td>ExtraTrees_rsearch_Acuracy</td>\n",
       "      <td>196.525</td>\n",
       "    </tr>\n",
       "    <tr>\n",
       "      <th>2</th>\n",
       "      <td>0.899907</td>\n",
       "      <td>ExtraTrees_gsearch_Acuracy</td>\n",
       "      <td>104.253</td>\n",
       "    </tr>\n",
       "    <tr>\n",
       "      <th>3</th>\n",
       "      <td>0.887337</td>\n",
       "      <td>ExtraTrees_BayesSearch_acuracy</td>\n",
       "      <td>222.382</td>\n",
       "    </tr>\n",
       "  </tbody>\n",
       "</table>\n",
       "</div>"
      ],
      "text/plain": [
       "     Scores                         Modelos  Time(Seg)\n",
       "0  0.920507                ExtraTrees_score      1.594\n",
       "1  0.891061      ExtraTrees_rsearch_Acuracy    196.525\n",
       "2  0.899907      ExtraTrees_gsearch_Acuracy    104.253\n",
       "3  0.887337  ExtraTrees_BayesSearch_acuracy    222.382"
      ]
     },
     "execution_count": 23,
     "metadata": {},
     "output_type": "execute_result"
    }
   ],
   "source": [
    "#Valor dos Scores dos modelos \n",
    "scores['Time(Seg)'] = time1,time2,time3,time4\n",
    "ert = scores\n",
    "ert"
   ]
  },
  {
   "cell_type": "markdown",
   "metadata": {},
   "source": [
    "**O Modelo ExtraTrees com BayesSearch é o algoritmo que requer maior poder computacional, porém o modelo sem otimização obteve o melhor resultados com poucos segundos de treinamento**"
   ]
  },
  {
   "cell_type": "markdown",
   "metadata": {},
   "source": [
    "## Algoritmo - Adaboost"
   ]
  },
  {
   "cell_type": "markdown",
   "metadata": {},
   "source": [
    " - **O Adaboost consegue melhorar um novo preditor ao prestar atenção às instâncias em que o seu antecessor realizou. Isso resulta em novos preditores capazes de cobrir pelos erros passados**"
   ]
  },
  {
   "cell_type": "markdown",
   "metadata": {},
   "source": [
    "## Sem Otimização de hiperparâmetros"
   ]
  },
  {
   "cell_type": "code",
   "execution_count": 24,
   "metadata": {},
   "outputs": [],
   "source": [
    "#Pacote AdaBoostClassifier\n",
    "from sklearn.ensemble import AdaBoostClassifier"
   ]
  },
  {
   "cell_type": "code",
   "execution_count": 71,
   "metadata": {},
   "outputs": [
    {
     "name": "stdout",
     "output_type": "stream",
     "text": [
      "\n",
      "Score Teste: 89.0%\n",
      "\n",
      "Execução em 0.15 segundos.\n"
     ]
    }
   ],
   "source": [
    "start = time()\n",
    "\n",
    "# Construção do Classificador\n",
    "AdaBoost = AdaBoostClassifier(base_estimator = DecisionTreeClassifier(), \n",
    "                                learning_rate = 0.1, \n",
    "                                n_estimators = 400, \n",
    "                                algorithm = \"SAMME\",\n",
    "                                random_state=1)\n",
    "\n",
    "#Treinar o modelo com os dados de treino\n",
    "AdaBoost.fit(X_train, y_train)\n",
    "\n",
    "#Score do modelo com os dados de teste\n",
    "AdaBoost_score= AdaBoost.score(X_test,y_test)\n",
    "print(f'\\nScore Teste: {round(AdaBoost_score,2)*100}%')\n",
    "\n",
    "#Tempo de execução do modelo\n",
    "time1 = round((time() - start),3)\n",
    "print(\"\\nExecução em %.2f segundos.\" \n",
    "      % ((time() - start)))"
   ]
  },
  {
   "cell_type": "markdown",
   "metadata": {},
   "source": [
    "**Resultado do modelo sem otimização**"
   ]
  },
  {
   "cell_type": "markdown",
   "metadata": {},
   "source": [
    "## Randomized Search"
   ]
  },
  {
   "cell_type": "code",
   "execution_count": 26,
   "metadata": {},
   "outputs": [
    {
     "name": "stdout",
     "output_type": "stream",
     "text": [
      "              **Melhores parametros com rsearch**\n",
      "\n",
      "AdaBoostClassifier(n_estimators=100, random_state=1)\n",
      "\n",
      "\n",
      "Acurácia: 89.0%\n",
      "\n",
      "Execução em 58.04 segundos.\n"
     ]
    }
   ],
   "source": [
    "start = time()\n",
    "\n",
    "# Definição dos parâmetros\n",
    "\n",
    "param_dist = {\"learning_rate\": [0.0000000001,0.0001,0.01,0.1,1.0,3.0],\n",
    "              \"n_estimators\": [50,100,200,4000],\n",
    "              \"algorithm\": ['SAMME', 'SAMME.R'],\n",
    "              \"n_estimators\": [100] }\n",
    "\n",
    "# Construção do Classificador\n",
    "AdaBoost = AdaBoostClassifier(random_state=1)\n",
    "    \n",
    "\n",
    "# Usar o modelo Adaboost para otimização dos hiperparametros\n",
    "Adaboost_rsearch = RandomizedSearchCV(AdaBoost,param_distributions = param_dist,n_iter=10, random_state = 1)\n",
    "\n",
    "\n",
    "# Aplicando o resultado ao conjunto de dados de treino e obtendo o score\n",
    "Adaboost_rsearch.fit(X_train, y_train)\n",
    "\n",
    "# Imprimindo o melhor estimador\n",
    "bestclf = Adaboost_rsearch.best_estimator_\n",
    "print (f'              **Melhores parametros com rsearch**')\n",
    "print (f'\\n{bestclf}\\n')\n",
    "\n",
    "# Aplicando o melhor estimador para realizar as previsões\n",
    "y_pred = bestclf.predict(X_test)\n",
    "\n",
    "# Acurácia\n",
    "Adaboost_rsearch_acuracy = accuracy_score(y_test, y_pred)\n",
    "\n",
    "print(f'\\nAcurácia: {round(Adaboost_rsearch_acuracy,2)*100}%')\n",
    "\n",
    "#Tempo de execução do modelo\n",
    "time2 = round((time() - start),3)\n",
    "print(\"\\nExecução em %.2f segundos.\" \n",
    "      % ((time() - start)))"
   ]
  },
  {
   "cell_type": "markdown",
   "metadata": {},
   "source": [
    "**Resultado do modelo usando Randomized Search**"
   ]
  },
  {
   "cell_type": "markdown",
   "metadata": {},
   "source": [
    "## Grid Search"
   ]
  },
  {
   "cell_type": "code",
   "execution_count": 27,
   "metadata": {},
   "outputs": [
    {
     "name": "stdout",
     "output_type": "stream",
     "text": [
      "              **Melhores parametros com Grid Search**\n",
      "\n",
      "AdaBoostClassifier(n_estimators=100, random_state=1)\n",
      "\n",
      "\n",
      "Acurácia: 89.0%\n",
      "\n",
      "Execução em 50.73 segundos.\n"
     ]
    }
   ],
   "source": [
    "start = time()\n",
    "\n",
    "# Definição dos parâmetros\n",
    "param_dist = {\"learning_rate\": [0.0001,0.01,0.1,1.0,3.0],\n",
    "              \"n_estimators\": [100],\n",
    "              \"algorithm\": ['SAMME', 'SAMME.R']}\n",
    "\n",
    "# Construção do Classificador\n",
    "AdaBoost = AdaBoostClassifier(random_state=1)\n",
    "\n",
    "# Usar o modelo Bagging para otimização dos hiperparametros\n",
    "Adaboost_gsearch = GridSearchCV(AdaBoost,param_grid = param_dist)\n",
    "\n",
    "# Aplicando o resultado ao conjunto de dados de treino e obtendo o score\n",
    "Adaboost_gsearch.fit(X_train, y_train)\n",
    "\n",
    "# Imprimindo o melhor estimador\n",
    "bestclf = Adaboost_gsearch.best_estimator_\n",
    "print (f'              **Melhores parametros com Grid Search**')\n",
    "print (f'\\n{bestclf}\\n')\n",
    "\n",
    "# Aplicando o melhor estimador para realizar as previsões\n",
    "y_pred = bestclf.predict(X_test)\n",
    "\n",
    "# Acurácia\n",
    "Adaboost_gsearch_acuracy = accuracy_score(y_test, y_pred)\n",
    "\n",
    "print(f'\\nAcurácia: {round(Adaboost_gsearch_acuracy,2)*100}%')\n",
    "\n",
    "#Tempo de execução do modelo\n",
    "time3 = round((time() - start),3)\n",
    "print(\"\\nExecução em %.2f segundos.\" \n",
    "      % ((time() - start)))"
   ]
  },
  {
   "cell_type": "markdown",
   "metadata": {},
   "source": [
    "**Resultado do modelo usando Grid Search**"
   ]
  },
  {
   "cell_type": "markdown",
   "metadata": {},
   "source": [
    "## BayesSearchCV"
   ]
  },
  {
   "cell_type": "code",
   "execution_count": 28,
   "metadata": {},
   "outputs": [
    {
     "name": "stdout",
     "output_type": "stream",
     "text": [
      "              **Melhores parametros com BayesSearchCV**\n",
      "\n",
      "AdaBoostClassifier(n_estimators=40, random_state=1)\n",
      "\n",
      "\n",
      "Acurácia: 88.0%\n",
      "\n",
      "Execução em 166.48 segundos.\n"
     ]
    }
   ],
   "source": [
    "import warnings\n",
    "warnings.filterwarnings('ignore')\n",
    "start = time()\n",
    "\n",
    "# Definição dos parâmetros\n",
    "\n",
    "param_dist = {\"learning_rate\": [0.0001,0.01,0.1,1.0],\n",
    "              \"n_estimators\": [40],\n",
    "              \"algorithm\": ['SAMME', 'SAMME.R']}\n",
    "\n",
    "# Construção do Classificador\n",
    "AdaBoost = AdaBoostClassifier(random_state=1)\n",
    "\n",
    "# Usar o modelo Bagging para otimização dos hiperparametros\n",
    "AdaBoost_BayesSearch = BayesSearchCV(AdaBoost,param_dist)\n",
    "\n",
    "# Aplicando o resultado ao conjunto de dados de treino e obtendo o score\n",
    "AdaBoost_BayesSearch.fit(X_train, y_train)\n",
    "\n",
    "# Imprimindo o melhor estimador\n",
    "bestclf = AdaBoost_BayesSearch.best_estimator_\n",
    "print (f'              **Melhores parametros com BayesSearchCV**')\n",
    "print (f'\\n{bestclf}\\n')\n",
    "\n",
    "# Aplicando o melhor estimador para realizar as previsões\n",
    "y_pred = bestclf.predict(X_test)\n",
    "\n",
    "# Acurácia\n",
    "AdaBoost_BayesSearch_acuracy = accuracy_score(y_test, y_pred)\n",
    "\n",
    "print(f'\\nAcurácia: {round(AdaBoost_BayesSearch_acuracy,2)*100}%')\n",
    "\n",
    "#Tempo de execução do modelo\n",
    "time4 = round((time() - start),3)\n",
    "print(\"\\nExecução em %.2f segundos.\" \n",
    "      % ((time() - start)))"
   ]
  },
  {
   "cell_type": "markdown",
   "metadata": {},
   "source": [
    "**Resultado do modelo usando BayesSearchCV**"
   ]
  },
  {
   "cell_type": "markdown",
   "metadata": {},
   "source": [
    "## Comparando os 4 modelos com AdaBoost"
   ]
  },
  {
   "cell_type": "code",
   "execution_count": 29,
   "metadata": {},
   "outputs": [
    {
     "data": {
      "image/png": "[encoded data removed]",
      "text/plain": [
       "<Figure size 432x288 with 1 Axes>"
      ]
     },
     "metadata": {
      "needs_background": "light"
     },
     "output_type": "display_data"
    }
   ],
   "source": [
    "## Comparando os 3 modelos com ExtraTrees#Modelos\n",
    "scores = pd.DataFrame([AdaBoost_score,Adaboost_rsearch_acuracy,\n",
    "                       Adaboost_gsearch_acuracy,AdaBoost_BayesSearch_acuracy])\n",
    "\n",
    "scores['columns1'] =  ['AdaBoost_score','Adaboost_rsearch_Acuracy',\n",
    "                       'Adaboost_gsearch_Acuracy','AdaBoost_BayesSearch_acuracy']\n",
    "\n",
    "scores.columns = ['Scores','Modelos']\n",
    "\n",
    "#Plotar \n",
    "plt.barh(scores.Modelos,scores['Scores']);"
   ]
  },
  {
   "cell_type": "code",
   "execution_count": 30,
   "metadata": {},
   "outputs": [
    {
     "data": {
      "text/html": [
       "<div>\n",
       "<style scoped>\n",
       "    .dataframe tbody tr th:only-of-type {\n",
       "        vertical-align: middle;\n",
       "    }\n",
       "\n",
       "    .dataframe tbody tr th {\n",
       "        vertical-align: top;\n",
       "    }\n",
       "\n",
       "    .dataframe thead th {\n",
       "        text-align: right;\n",
       "    }\n",
       "</style>\n",
       "<table border=\"1\" class=\"dataframe\">\n",
       "  <thead>\n",
       "    <tr style=\"text-align: right;\">\n",
       "      <th></th>\n",
       "      <th>Scores</th>\n",
       "      <th>Modelos</th>\n",
       "      <th>Time(Seg)</th>\n",
       "    </tr>\n",
       "  </thead>\n",
       "  <tbody>\n",
       "    <tr>\n",
       "      <th>0</th>\n",
       "      <td>0.888734</td>\n",
       "      <td>AdaBoost_score</td>\n",
       "      <td>0.120</td>\n",
       "    </tr>\n",
       "    <tr>\n",
       "      <th>1</th>\n",
       "      <td>0.886057</td>\n",
       "      <td>Adaboost_rsearch_Acuracy</td>\n",
       "      <td>58.040</td>\n",
       "    </tr>\n",
       "    <tr>\n",
       "      <th>2</th>\n",
       "      <td>0.886057</td>\n",
       "      <td>Adaboost_gsearch_Acuracy</td>\n",
       "      <td>50.729</td>\n",
       "    </tr>\n",
       "    <tr>\n",
       "      <th>3</th>\n",
       "      <td>0.880819</td>\n",
       "      <td>AdaBoost_BayesSearch_acuracy</td>\n",
       "      <td>166.477</td>\n",
       "    </tr>\n",
       "  </tbody>\n",
       "</table>\n",
       "</div>"
      ],
      "text/plain": [
       "     Scores                       Modelos  Time(Seg)\n",
       "0  0.888734                AdaBoost_score      0.120\n",
       "1  0.886057      Adaboost_rsearch_Acuracy     58.040\n",
       "2  0.886057      Adaboost_gsearch_Acuracy     50.729\n",
       "3  0.880819  AdaBoost_BayesSearch_acuracy    166.477"
      ]
     },
     "execution_count": 30,
     "metadata": {},
     "output_type": "execute_result"
    }
   ],
   "source": [
    "#Valor dos Scores dos modelos \n",
    "scores['Time(Seg)'] = time1,time2,time3,time4\n",
    "adb = scores\n",
    "adb"
   ]
  },
  {
   "cell_type": "markdown",
   "metadata": {},
   "source": [
    "**Não há diferença em nenhum dos modelos, nenhum deles conseguiu ter uma boa performance**"
   ]
  },
  {
   "cell_type": "markdown",
   "metadata": {},
   "source": [
    "## Algoritmo - Gradient Boosting"
   ]
  },
  {
   "cell_type": "markdown",
   "metadata": {},
   "source": [
    "- **Cada nova árvore é um ajuste em uma versão modificada do conjunto de dados original. O objetivo do algoritmo é criar uma corrente de modelos fracos, onde cada um tem como objetivo minimizar o erro do modelo anterior, por meio de uma função de perda**"
   ]
  },
  {
   "cell_type": "markdown",
   "metadata": {},
   "source": [
    "## Sem Otimização de hiperparâmetros"
   ]
  },
  {
   "cell_type": "code",
   "execution_count": 31,
   "metadata": {},
   "outputs": [],
   "source": [
    "#Pacote GradientBoostingClassifier\n",
    "from sklearn.ensemble import GradientBoostingClassifier"
   ]
  },
  {
   "cell_type": "code",
   "execution_count": 32,
   "metadata": {},
   "outputs": [
    {
     "name": "stdout",
     "output_type": "stream",
     "text": [
      "\n",
      "Score Teste: 93.0%\n",
      "\n",
      "Execução em 2.33 segundos.\n"
     ]
    }
   ],
   "source": [
    "start = time()\n",
    "\n",
    "# Construção do Classificador\n",
    "GradientBoosting = GradientBoostingClassifier(min_samples_split = 2, random_state = 1)\n",
    "\n",
    "#Treinar o modelo com os dados de treino\n",
    "GradientBoosting.fit(X_train, y_train)\n",
    "\n",
    "#Score do modelo com os dados de teste\n",
    "GradientBoosting_score= GradientBoosting.score(X_test,y_test)\n",
    "print(f'\\nScore Teste: {round(GradientBoosting_score,2)*100}%')\n",
    "\n",
    "#Tempo de execução do modelo\n",
    "time1 = round((time() - start),3)\n",
    "print(\"\\nExecução em %.2f segundos.\" \n",
    "      % ((time() - start)))"
   ]
  },
  {
   "cell_type": "markdown",
   "metadata": {},
   "source": [
    "**Resultado do modelo sem otimização**"
   ]
  },
  {
   "cell_type": "markdown",
   "metadata": {},
   "source": [
    "## Randomized Search"
   ]
  },
  {
   "cell_type": "code",
   "execution_count": 33,
   "metadata": {},
   "outputs": [
    {
     "name": "stdout",
     "output_type": "stream",
     "text": [
      "              **Melhores parametros com rsearch**\n",
      "\n",
      "GradientBoostingClassifier(criterion='squared_error', loss='exponential',\n",
      "                           max_depth=6, min_samples_leaf=5, n_estimators=60,\n",
      "                           subsample=0.7)\n",
      "\n",
      "\n",
      "Acurácia: 93.0%\n",
      "\n",
      "Execução em 51.90 segunds.\n"
     ]
    }
   ],
   "source": [
    "start = time()\n",
    "import warnings\n",
    "warnings.simplefilter(action='ignore', category=FutureWarning)\n",
    "warnings.simplefilter(action='ignore', category=DeprecationWarning)\n",
    "\n",
    "# Definição dos parâmetros\n",
    "\n",
    "param_grid = {'learning_rate': [0.1, 0.01, 0.001],\n",
    "              'max_depth': [3, 6,8],\n",
    "              'min_samples_leaf': [3, 5],\n",
    "              'subsample': [0.3, 0.5, 0.7],\n",
    "              'n_estimators': [60],\n",
    "              'loss': ['deviance', 'exponential'],\n",
    "              'criterion' : [ 'squared_error', 'mse']}\n",
    "\n",
    "# Construção do Classificador\n",
    "GradientBoosting = GradientBoostingClassifier()\n",
    "\n",
    "\n",
    "# Modelo criado com GridSearchCV\n",
    "GradientBoosting_rsearch = RandomizedSearchCV(GradientBoosting, param_grid).fit(X_train, y_train)\n",
    "\n",
    "\n",
    "# Imprimindo o melhor estimador\n",
    "bestclf = GradientBoosting_rsearch.best_estimator_\n",
    "print (f'              **Melhores parametros com rsearch**')\n",
    "print (f'\\n{bestclf}\\n')\n",
    "\n",
    "# Aplicando o melhor estimador para realizar as previsões\n",
    "y_pred = bestclf.predict(X_test)\n",
    "\n",
    "# Acurácia\n",
    "GradientBoosting_rsearch_acuracy = accuracy_score(y_test, y_pred)\n",
    "\n",
    "print(f'\\nAcurácia: {round(GradientBoosting_rsearch_acuracy,2)*100}%')\n",
    "\n",
    "#Tempo de execução do modelo\n",
    "time2 = round((time() - start),3)\n",
    "print(\"\\nExecução em %.2f segunds.\" \n",
    "      % ((time() - start)))"
   ]
  },
  {
   "cell_type": "markdown",
   "metadata": {},
   "source": [
    "**Resultado do modelo usando Randomized Search**"
   ]
  },
  {
   "cell_type": "markdown",
   "metadata": {},
   "source": [
    "## GridSearchCV"
   ]
  },
  {
   "cell_type": "code",
   "execution_count": 34,
   "metadata": {},
   "outputs": [
    {
     "name": "stdout",
     "output_type": "stream",
     "text": [
      "              **Melhores parametros com GridSearchCV**\n",
      "\n",
      "GradientBoostingClassifier(max_depth=6, min_samples_leaf=5, n_estimators=40,\n",
      "                           subsample=0.5)\n",
      "\n",
      "\n",
      "Acurácia: 93.0%\n",
      "\n",
      "Execução em 227.34 segunds.\n"
     ]
    }
   ],
   "source": [
    "start = time()\n",
    "from sklearn.model_selection import GridSearchCV\n",
    "import warnings\n",
    "warnings.simplefilter(action='ignore', category=FutureWarning)\n",
    "warnings.simplefilter(action='ignore', category=DeprecationWarning)\n",
    "\n",
    "# Grid de parâmetros\n",
    "param_grid = {'learning_rate': [0.1, 0.01, 0.001],\n",
    "              'max_depth': [3, 6,8],\n",
    "              'min_samples_leaf': [3, 5],\n",
    "              'subsample': [0.3, 0.5, 0.7],\n",
    "              'n_estimators': [40]\n",
    "              }\n",
    "\n",
    "# Classifier\n",
    "GradientBoosting_grid = GradientBoostingClassifier()\n",
    "\n",
    "# Modelo criado com GridSearchCV\n",
    "GradientBoosting_grid = GridSearchCV(GradientBoosting_grid, param_grid).fit(X_train, y_train)\n",
    "\n",
    "# Imprimindo o melhor estimador\n",
    "bestclf = GradientBoosting_grid.best_estimator_\n",
    "print (f'              **Melhores parametros com GridSearchCV**')\n",
    "print (f'\\n{bestclf}\\n')\n",
    "\n",
    "# Aplicando o melhor estimador para realizar as previsões\n",
    "y_pred = bestclf.predict(X_test)\n",
    "\n",
    "# Acurácia\n",
    "GradientBoosting_grid_acuracy = accuracy_score(y_test, y_pred)\n",
    "\n",
    "print(f'\\nAcurácia: {round(GradientBoosting_grid_acuracy,2)*100}%')\n",
    "\n",
    "#Tempo de execução do modelo\n",
    "time3 = round((time() - start),3)\n",
    "print(\"\\nExecução em %.2f segunds.\" \n",
    "      % ((time() - start)))"
   ]
  },
  {
   "cell_type": "markdown",
   "metadata": {},
   "source": [
    "**Resultado do modelo usando GridSearchCV**"
   ]
  },
  {
   "cell_type": "markdown",
   "metadata": {},
   "source": [
    "## BayesSearchCV"
   ]
  },
  {
   "cell_type": "code",
   "execution_count": 35,
   "metadata": {},
   "outputs": [
    {
     "name": "stdout",
     "output_type": "stream",
     "text": [
      "              **Melhores parametros com BayesSearchCV**\n",
      "\n",
      "GradientBoostingClassifier(max_depth=6, min_samples_leaf=5, n_estimators=40,\n",
      "                           subsample=0.7)\n",
      "\n",
      "\n",
      "Acurácia: 93.0%\n",
      "\n",
      "Execução em 339.22 segunds.\n"
     ]
    }
   ],
   "source": [
    "import warnings\n",
    "warnings.filterwarnings('ignore')\n",
    "start = time()\n",
    "# Definição dos parâmetros\n",
    "\n",
    "# Grid de parâmetros\n",
    "param_grid = {'learning_rate': [0.1, 0.01, 0.001],\n",
    "              'max_depth': [3, 6,8],\n",
    "              'min_samples_leaf': [3, 5],\n",
    "              'subsample': [0.3, 0.5, 0.7],\n",
    "              'n_estimators': [40]\n",
    "              }\n",
    "\n",
    "\n",
    "# Classifier\n",
    "GradientBoosting_BayesSearch = GradientBoostingClassifier()\n",
    "\n",
    "# Usar o modelo Bagging para otimização dos hiperparametros\n",
    "GradientBoosting_BayesSearch = BayesSearchCV(GradientBoosting_BayesSearch,param_grid)\n",
    "\n",
    "# Aplicando o resultado ao conjunto de dados de treino e obtendo o score\n",
    "GradientBoosting_BayesSearch.fit(X_train, y_train)\n",
    "\n",
    "# Imprimindo o melhor estimador\n",
    "bestclf = GradientBoosting_BayesSearch.best_estimator_\n",
    "print (f'              **Melhores parametros com BayesSearchCV**')\n",
    "print (f'\\n{bestclf}\\n')\n",
    "\n",
    "# Aplicando o melhor estimador para realizar as previsões\n",
    "y_pred = bestclf.predict(X_test)\n",
    "\n",
    "# Acurácia\n",
    "GradientBoosting_BayesSearch_acuracy = accuracy_score(y_test, y_pred)\n",
    "\n",
    "print(f'\\nAcurácia: {round(GradientBoosting_BayesSearch_acuracy,2)*100}%')\n",
    "\n",
    "#Tempo de execução do modelo\n",
    "time4 = round((time() - start),3)\n",
    "print(\"\\nExecução em %.2f segunds.\" \n",
    "      % ((time() - start)))"
   ]
  },
  {
   "cell_type": "markdown",
   "metadata": {},
   "source": [
    "**Resultado do modelo usando BayesSearchCV**"
   ]
  },
  {
   "cell_type": "markdown",
   "metadata": {},
   "source": [
    "## Comparando os 4 modelos com GradientBoosting"
   ]
  },
  {
   "cell_type": "code",
   "execution_count": 36,
   "metadata": {},
   "outputs": [
    {
     "data": {
      "image/png": "[encoded data removed]",
      "text/plain": [
       "<Figure size 432x288 with 1 Axes>"
      ]
     },
     "metadata": {
      "needs_background": "light"
     },
     "output_type": "display_data"
    }
   ],
   "source": [
    "## Comparando os 3 modelos \n",
    "scores = pd.DataFrame([GradientBoosting_score,GradientBoosting_rsearch_acuracy,\n",
    "                       GradientBoosting_grid_acuracy,GradientBoosting_BayesSearch_acuracy])\n",
    "\n",
    "scores['columns1'] =  ['GradientBoosting_score','GradientBoosting_rsearch_Acuracy',\n",
    "                       'GradientBoosting_grid_Acuracy','GradientBoosting_BayesSearch_acuracy']\n",
    "\n",
    "scores.columns = ['Scores','Modelos']\n",
    "\n",
    "#Plotar \n",
    "plt.barh(scores.Modelos,scores['Scores']);"
   ]
  },
  {
   "cell_type": "code",
   "execution_count": 37,
   "metadata": {},
   "outputs": [
    {
     "data": {
      "text/html": [
       "<div>\n",
       "<style scoped>\n",
       "    .dataframe tbody tr th:only-of-type {\n",
       "        vertical-align: middle;\n",
       "    }\n",
       "\n",
       "    .dataframe tbody tr th {\n",
       "        vertical-align: top;\n",
       "    }\n",
       "\n",
       "    .dataframe thead th {\n",
       "        text-align: right;\n",
       "    }\n",
       "</style>\n",
       "<table border=\"1\" class=\"dataframe\">\n",
       "  <thead>\n",
       "    <tr style=\"text-align: right;\">\n",
       "      <th></th>\n",
       "      <th>Scores</th>\n",
       "      <th>Modelos</th>\n",
       "      <th>Time(Seg)</th>\n",
       "    </tr>\n",
       "  </thead>\n",
       "  <tbody>\n",
       "    <tr>\n",
       "      <th>0</th>\n",
       "      <td>0.929818</td>\n",
       "      <td>GradientBoosting_score</td>\n",
       "      <td>2.334</td>\n",
       "    </tr>\n",
       "    <tr>\n",
       "      <th>1</th>\n",
       "      <td>0.933426</td>\n",
       "      <td>GradientBoosting_rsearch_Acuracy</td>\n",
       "      <td>51.898</td>\n",
       "    </tr>\n",
       "    <tr>\n",
       "      <th>2</th>\n",
       "      <td>0.932961</td>\n",
       "      <td>GradientBoosting_grid_Acuracy</td>\n",
       "      <td>227.343</td>\n",
       "    </tr>\n",
       "    <tr>\n",
       "      <th>3</th>\n",
       "      <td>0.933194</td>\n",
       "      <td>GradientBoosting_BayesSearch_acuracy</td>\n",
       "      <td>339.218</td>\n",
       "    </tr>\n",
       "  </tbody>\n",
       "</table>\n",
       "</div>"
      ],
      "text/plain": [
       "     Scores                               Modelos  Time(Seg)\n",
       "0  0.929818                GradientBoosting_score      2.334\n",
       "1  0.933426      GradientBoosting_rsearch_Acuracy     51.898\n",
       "2  0.932961         GradientBoosting_grid_Acuracy    227.343\n",
       "3  0.933194  GradientBoosting_BayesSearch_acuracy    339.218"
      ]
     },
     "execution_count": 37,
     "metadata": {},
     "output_type": "execute_result"
    }
   ],
   "source": [
    "#Valor dos Scores dos modelos \n",
    "scores['Time(Seg)'] = time1,time2,time3,time4\n",
    "gb = scores\n",
    "gb"
   ]
  },
  {
   "cell_type": "markdown",
   "metadata": {},
   "source": [
    "**Todos os modelos tiveram uma boa performance**"
   ]
  },
  {
   "cell_type": "markdown",
   "metadata": {},
   "source": [
    "## Algoritmo - XGBClassifier"
   ]
  },
  {
   "cell_type": "markdown",
   "metadata": {},
   "source": [
    "- **É uma melhora do Gradient Boosting pois possui mais parâmetros e é otimizada tanto para eficiência de memória quanto para velocidade de treinamento**"
   ]
  },
  {
   "cell_type": "markdown",
   "metadata": {},
   "source": [
    "## Sem Otimização de hiperparâmetros"
   ]
  },
  {
   "cell_type": "code",
   "execution_count": 38,
   "metadata": {},
   "outputs": [],
   "source": [
    "#Pacote XGBClassifier\n",
    "from xgboost import XGBClassifier"
   ]
  },
  {
   "cell_type": "code",
   "execution_count": 39,
   "metadata": {},
   "outputs": [
    {
     "name": "stdout",
     "output_type": "stream",
     "text": [
      "\n",
      "Score Teste: 94.0%\n",
      "\n",
      "Execução em 1.74 segundos.\n"
     ]
    }
   ],
   "source": [
    "start = time()\n",
    "\n",
    "import warnings\n",
    "warnings.simplefilter(action='ignore', category=FutureWarning)\n",
    "warnings.simplefilter(action='ignore', category=DeprecationWarning)\n",
    "\n",
    "# Construção do Classificador\n",
    "Model_XGBClassifier= XGBClassifier(min_samples_split = 2,learning_rate=0.1, max_depth=8,random_state = 1,verbosity=0)\n",
    "\n",
    "#Treinar o modelo com os dados de treino\n",
    "Model_XGBClassifier.fit(X_train, y_train)\n",
    "\n",
    "#Score do modelo com os dados de teste\n",
    "Model_XGBClassifier_score= Model_XGBClassifier.score(X_test,y_test)\n",
    "print(f'\\nScore Teste: {round(Model_XGBClassifier_score,2)*100}%')\n",
    "\n",
    "#Tempo de execução do modelo\n",
    "time1 = round((time() - start),3)\n",
    "print(\"\\nExecução em %.2f segundos.\" \n",
    "      % ((time() - start)))"
   ]
  },
  {
   "cell_type": "markdown",
   "metadata": {},
   "source": [
    "**Resultado do modelo sem otimização**"
   ]
  },
  {
   "cell_type": "markdown",
   "metadata": {},
   "source": [
    "## Randomized Search"
   ]
  },
  {
   "cell_type": "code",
   "execution_count": 40,
   "metadata": {},
   "outputs": [
    {
     "name": "stdout",
     "output_type": "stream",
     "text": [
      "              **Melhores parametros com rsearch**\n",
      "\n",
      "XGBClassifier(base_score=0.5, booster='gbtree', callbacks=None,\n",
      "              colsample_bylevel=1, colsample_bynode=1, colsample_bytree=1,\n",
      "              early_stopping_rounds=None, enable_categorical=False,\n",
      "              eval_metric=None, gamma=0, gpu_id=-1, grow_policy='depthwise',\n",
      "              importance_type=None, interaction_constraints='',\n",
      "              learning_rate=0.1, max_bin=256, max_cat_to_onehot=4,\n",
      "              max_delta_step=0, max_depth=6, max_leaves=0, min_child_weight=1,\n",
      "              min_samples_leaf=3, missing=nan, monotone_constraints='()',\n",
      "              n_estimators=100, n_jobs=0, num_parallel_tree=1, predictor='auto',\n",
      "              random_state=1, reg_alpha=0, ...)\n",
      "\n",
      "\n",
      "Acurácia: 94.0%\n",
      "\n",
      "Execução em 62.81 segunds.\n"
     ]
    }
   ],
   "source": [
    "start = time()\n",
    "import warnings\n",
    "warnings.filterwarnings('ignore')\n",
    "\n",
    "# Definição dos parâmetros\n",
    "\n",
    "# Grid de parâmetros\n",
    "param_grid = {'learning_rate': [0.1, 0.01, 0.001],\n",
    "              'max_depth': [3, 6,8],\n",
    "              'min_samples_leaf': [3, 5],\n",
    "              'subsample': [0.3, 0.5, 0.7],\n",
    "              'n_estimators': [100]}\n",
    "\n",
    "\n",
    "# Construção do Classificador\n",
    "XGBClassifier_rsearch= XGBClassifier(random_state = 1,verbosity= 0)\n",
    "\n",
    "\n",
    "# Modelo criado com GridSearchCV\n",
    "XGBClassifier_rsearch = RandomizedSearchCV(XGBClassifier_rsearch, param_grid).fit(X_train, y_train)\n",
    "\n",
    "\n",
    "# Imprimindo o melhor estimador\n",
    "bestclf = XGBClassifier_rsearch.best_estimator_\n",
    "print (f'              **Melhores parametros com rsearch**')\n",
    "print (f'\\n{bestclf}\\n')\n",
    "\n",
    "# Aplicando o melhor estimador para realizar as previsões\n",
    "y_pred = bestclf.predict(X_test)\n",
    "\n",
    "# Acurácia\n",
    "XGBClassifier_rsearch_acuracy = accuracy_score(y_test, y_pred)\n",
    "\n",
    "print(f'\\nAcurácia: {round(XGBClassifier_rsearch_acuracy,2)*100}%')\n",
    "\n",
    "#Tempo de execução do modelo\n",
    "time2 = round((time() - start),3)\n",
    "print(\"\\nExecução em %.2f segunds.\" \n",
    "      % ((time() - start)))"
   ]
  },
  {
   "cell_type": "markdown",
   "metadata": {},
   "source": [
    "**Resultado do modelo usando Randomized Search**"
   ]
  },
  {
   "cell_type": "markdown",
   "metadata": {},
   "source": [
    "## GridSearchCV"
   ]
  },
  {
   "cell_type": "code",
   "execution_count": 41,
   "metadata": {},
   "outputs": [
    {
     "name": "stdout",
     "output_type": "stream",
     "text": [
      "              **Melhores parametros com GridSearchCV**\n",
      "\n",
      "XGBClassifier(base_score=0.5, booster='gbtree', callbacks=None,\n",
      "              colsample_bylevel=1, colsample_bynode=1, colsample_bytree=1,\n",
      "              early_stopping_rounds=None, enable_categorical=False,\n",
      "              eval_metric=None, gamma=0, gpu_id=-1, grow_policy='depthwise',\n",
      "              importance_type=None, interaction_constraints='',\n",
      "              learning_rate=0.1, max_bin=256, max_cat_to_onehot=4,\n",
      "              max_delta_step=0, max_depth=6, max_leaves=0, min_child_weight=1,\n",
      "              min_samples_leaf=3, missing=nan, monotone_constraints='()',\n",
      "              n_estimators=40, n_jobs=0, num_parallel_tree=1, predictor='auto',\n",
      "              random_state=1, reg_alpha=0, ...)\n",
      "\n",
      "\n",
      "Acurácia: 93.0%\n",
      "\n",
      "Execução em 54.01 segunds.\n"
     ]
    }
   ],
   "source": [
    "start = time()\n",
    "from sklearn.model_selection import GridSearchCV\n",
    "import warnings\n",
    "warnings.simplefilter(action='ignore', category=FutureWarning)\n",
    "warnings.simplefilter(action='ignore', category=DeprecationWarning)\n",
    "\n",
    "# Grid de parâmetros\n",
    "param_grid = {'learning_rate': [0.1, 0.01, 0.001],\n",
    "              'max_depth': [3, 6,8],\n",
    "              'min_samples_leaf': [3, 5],\n",
    "              'subsample': [0.5],\n",
    "              'n_estimators': [40]\n",
    "              }\n",
    "\n",
    "# Construção do Classificador\n",
    "XGBClassifier_gsearch= XGBClassifier(random_state = 1,verbosity = 0)\n",
    "\n",
    "# Modelo criado com GridSearchCV\n",
    "XGBClassifier_gsearch = GridSearchCV(XGBClassifier_gsearch, param_grid).fit(X_train, y_train)\n",
    "\n",
    "# Imprimindo o melhor estimador\n",
    "bestclf = XGBClassifier_gsearch.best_estimator_\n",
    "print (f'              **Melhores parametros com GridSearchCV**')\n",
    "print (f'\\n{bestclf}\\n')\n",
    "\n",
    "# Aplicando o melhor estimador para realizar as previsões\n",
    "y_pred = bestclf.predict(X_test)\n",
    "\n",
    "# Acurácia\n",
    "XGBClassifier_gsearch_acuracy = accuracy_score(y_test, y_pred)\n",
    "\n",
    "print(f'\\nAcurácia: {round(XGBClassifier_gsearch_acuracy,2)*100}%')\n",
    "\n",
    "#Tempo de execução do modelo\n",
    "time3 = round((time() - start),3)\n",
    "print(\"\\nExecução em %.2f segunds.\" \n",
    "      % ((time() - start)))"
   ]
  },
  {
   "cell_type": "markdown",
   "metadata": {},
   "source": [
    "**Resultado do modelo usando GridSearchCV**"
   ]
  },
  {
   "cell_type": "markdown",
   "metadata": {},
   "source": [
    "##  BayesSearchCV"
   ]
  },
  {
   "cell_type": "code",
   "execution_count": 42,
   "metadata": {},
   "outputs": [
    {
     "name": "stdout",
     "output_type": "stream",
     "text": [
      "              **Melhores parametros com BayesSearchCV**\n",
      "\n",
      "XGBClassifier(base_score=0.5, booster='gbtree', callbacks=None,\n",
      "              colsample_bylevel=1, colsample_bynode=1, colsample_bytree=1,\n",
      "              early_stopping_rounds=None, enable_categorical=False,\n",
      "              eval_metric=None, gamma=0, gpu_id=-1, grow_policy='depthwise',\n",
      "              importance_type=None, interaction_constraints='',\n",
      "              learning_rate=0.1, max_bin=256, max_cat_to_onehot=4,\n",
      "              max_delta_step=0, max_depth=6, max_leaves=0, min_child_weight=1,\n",
      "              min_samples_leaf=4, missing=nan, monotone_constraints='()',\n",
      "              n_estimators=40, n_jobs=0, num_parallel_tree=1, predictor='auto',\n",
      "              random_state=1, reg_alpha=0, ...)\n",
      "\n",
      "\n",
      "Acurácia: 93.0%\n",
      "\n",
      "Execução em 222.61 segunds.\n"
     ]
    }
   ],
   "source": [
    "start = time()\n",
    "# Definição dos parâmetros\n",
    "\n",
    "# Grid de parâmetros\n",
    "param_grid = {'learning_rate': [0.1, 0.01, 0.001],\n",
    "              'max_depth': [3, 6,8],\n",
    "              'min_samples_leaf': [3, 5],\n",
    "              'subsample': [0.5],\n",
    "              'n_estimators': [40]\n",
    "              }\n",
    "\n",
    "\n",
    "# Construção do Classificador\n",
    "XGBClassifier_BayesSearch= XGBClassifier(random_state = 1,verbosity = 0)\n",
    "\n",
    "# Usar o modelo Bagging para otimização dos hiperparametros\n",
    "XGBClassifier_BayesSearch = BayesSearchCV(XGBClassifier_BayesSearch,param_grid)\n",
    "\n",
    "# Aplicando o resultado ao conjunto de dados de treino e obtendo o score\n",
    "XGBClassifier_BayesSearch.fit(X_train, y_train)\n",
    "\n",
    "# Imprimindo o melhor estimador\n",
    "bestclf = XGBClassifier_BayesSearch.best_estimator_\n",
    "print (f'              **Melhores parametros com BayesSearchCV**')\n",
    "print (f'\\n{bestclf}\\n')\n",
    "\n",
    "# Aplicando o melhor estimador para realizar as previsões\n",
    "y_pred = bestclf.predict(X_test)\n",
    "\n",
    "# Acurácia\n",
    "XGBClassifier_BayesSearch_acuracy = accuracy_score(y_test, y_pred)\n",
    "\n",
    "print(f'\\nAcurácia: {round(XGBClassifier_BayesSearch_acuracy,2)*100}%')\n",
    "\n",
    "#Tempo de execução do modelo\n",
    "time4 = round((time() - start),3)\n",
    "print(\"\\nExecução em %.2f segunds.\" \n",
    "      % ((time() - start)))"
   ]
  },
  {
   "cell_type": "markdown",
   "metadata": {},
   "source": [
    "**Resultado do modelo usando BayesSearchCV**"
   ]
  },
  {
   "cell_type": "markdown",
   "metadata": {},
   "source": [
    "## Comparando os 4 modelos com XGBClassifier"
   ]
  },
  {
   "cell_type": "code",
   "execution_count": 43,
   "metadata": {},
   "outputs": [
    {
     "data": {
      "image/png": "[encoded data removed]",
      "text/plain": [
       "<Figure size 432x288 with 1 Axes>"
      ]
     },
     "metadata": {
      "needs_background": "light"
     },
     "output_type": "display_data"
    }
   ],
   "source": [
    "## Comparando os 4 modelos \n",
    "scores = pd.DataFrame([Model_XGBClassifier_score,XGBClassifier_rsearch_acuracy,\n",
    "                       XGBClassifier_gsearch_acuracy,XGBClassifier_BayesSearch_acuracy])\n",
    "\n",
    "scores['columns1'] =  ['XGBClassifier_score','XGBClassifier_rsearch_Acuracy',\n",
    "                       'XGBClassifier_gsearch_Acuracy','XGBClassifier_BayesSearch_acuracy']\n",
    "\n",
    "scores.columns = ['Scores','Modelos']\n",
    "\n",
    "#Plotar \n",
    "plt.barh(scores.Modelos,scores['Scores']);"
   ]
  },
  {
   "cell_type": "code",
   "execution_count": 44,
   "metadata": {},
   "outputs": [
    {
     "data": {
      "text/html": [
       "<div>\n",
       "<style scoped>\n",
       "    .dataframe tbody tr th:only-of-type {\n",
       "        vertical-align: middle;\n",
       "    }\n",
       "\n",
       "    .dataframe tbody tr th {\n",
       "        vertical-align: top;\n",
       "    }\n",
       "\n",
       "    .dataframe thead th {\n",
       "        text-align: right;\n",
       "    }\n",
       "</style>\n",
       "<table border=\"1\" class=\"dataframe\">\n",
       "  <thead>\n",
       "    <tr style=\"text-align: right;\">\n",
       "      <th></th>\n",
       "      <th>Scores</th>\n",
       "      <th>Modelos</th>\n",
       "      <th>Time(Seg)</th>\n",
       "    </tr>\n",
       "  </thead>\n",
       "  <tbody>\n",
       "    <tr>\n",
       "      <th>0</th>\n",
       "      <td>0.935987</td>\n",
       "      <td>XGBClassifier_score</td>\n",
       "      <td>1.745</td>\n",
       "    </tr>\n",
       "    <tr>\n",
       "      <th>1</th>\n",
       "      <td>0.935521</td>\n",
       "      <td>XGBClassifier_rsearch_Acuracy</td>\n",
       "      <td>62.811</td>\n",
       "    </tr>\n",
       "    <tr>\n",
       "      <th>2</th>\n",
       "      <td>0.932728</td>\n",
       "      <td>XGBClassifier_gsearch_Acuracy</td>\n",
       "      <td>54.007</td>\n",
       "    </tr>\n",
       "    <tr>\n",
       "      <th>3</th>\n",
       "      <td>0.932728</td>\n",
       "      <td>XGBClassifier_BayesSearch_acuracy</td>\n",
       "      <td>222.606</td>\n",
       "    </tr>\n",
       "  </tbody>\n",
       "</table>\n",
       "</div>"
      ],
      "text/plain": [
       "     Scores                            Modelos  Time(Seg)\n",
       "0  0.935987                XGBClassifier_score      1.745\n",
       "1  0.935521      XGBClassifier_rsearch_Acuracy     62.811\n",
       "2  0.932728      XGBClassifier_gsearch_Acuracy     54.007\n",
       "3  0.932728  XGBClassifier_BayesSearch_acuracy    222.606"
      ]
     },
     "execution_count": 44,
     "metadata": {},
     "output_type": "execute_result"
    }
   ],
   "source": [
    "#Valor dos Scores dos modelos \n",
    "scores['Time(Seg)'] = time1,time2,time3,time4\n",
    "xgb = scores\n",
    "xgb"
   ]
  },
  {
   "cell_type": "markdown",
   "metadata": {},
   "source": [
    "**Não há muita diferença no resultado do modelo em comparação ao GradientBoosting, porém o tempo de execução é menor**"
   ]
  },
  {
   "cell_type": "markdown",
   "metadata": {},
   "source": [
    "# Comparar os modelos sem otimização:"
   ]
  },
  {
   "cell_type": "code",
   "execution_count": 45,
   "metadata": {},
   "outputs": [
    {
     "data": {
      "image/png": "[encoded data removed]",
      "text/plain": [
       "<Figure size 432x288 with 1 Axes>"
      ]
     },
     "metadata": {
      "needs_background": "light"
     },
     "output_type": "display_data"
    }
   ],
   "source": [
    "#Grafico dos Scores sem Otimização\n",
    "import matplotlib.pyplot as plt\n",
    "scores = pd.DataFrame([decision_tree_score,ExtraTrees_score,AdaBoost_score,\n",
    "                       GradientBoosting_score,Model_XGBClassifier_score])\n",
    "\n",
    "scores['Modelos'] =  ['Decision_tree_score','ExtraTrees_score','AdaBoost_score',\n",
    "                      'GradientBoosting_score','XGBClassifier_score']\n",
    "\n",
    "scores.columns = ['Scores','Modelos']\n",
    "#Plotar \n",
    "plt.barh(scores.Modelos,scores['Scores']);"
   ]
  },
  {
   "cell_type": "code",
   "execution_count": 46,
   "metadata": {},
   "outputs": [
    {
     "data": {
      "text/html": [
       "<div>\n",
       "<style scoped>\n",
       "    .dataframe tbody tr th:only-of-type {\n",
       "        vertical-align: middle;\n",
       "    }\n",
       "\n",
       "    .dataframe tbody tr th {\n",
       "        vertical-align: top;\n",
       "    }\n",
       "\n",
       "    .dataframe thead th {\n",
       "        text-align: right;\n",
       "    }\n",
       "</style>\n",
       "<table border=\"1\" class=\"dataframe\">\n",
       "  <thead>\n",
       "    <tr style=\"text-align: right;\">\n",
       "      <th></th>\n",
       "      <th>Scores</th>\n",
       "      <th>Modelos</th>\n",
       "    </tr>\n",
       "  </thead>\n",
       "  <tbody>\n",
       "    <tr>\n",
       "      <th>0</th>\n",
       "      <td>0.891061</td>\n",
       "      <td>Decision_tree_score</td>\n",
       "    </tr>\n",
       "    <tr>\n",
       "      <th>1</th>\n",
       "      <td>0.920507</td>\n",
       "      <td>ExtraTrees_score</td>\n",
       "    </tr>\n",
       "    <tr>\n",
       "      <th>2</th>\n",
       "      <td>0.888734</td>\n",
       "      <td>AdaBoost_score</td>\n",
       "    </tr>\n",
       "    <tr>\n",
       "      <th>3</th>\n",
       "      <td>0.929818</td>\n",
       "      <td>GradientBoosting_score</td>\n",
       "    </tr>\n",
       "    <tr>\n",
       "      <th>4</th>\n",
       "      <td>0.935987</td>\n",
       "      <td>XGBClassifier_score</td>\n",
       "    </tr>\n",
       "  </tbody>\n",
       "</table>\n",
       "</div>"
      ],
      "text/plain": [
       "     Scores                 Modelos\n",
       "0  0.891061     Decision_tree_score\n",
       "1  0.920507        ExtraTrees_score\n",
       "2  0.888734          AdaBoost_score\n",
       "3  0.929818  GradientBoosting_score\n",
       "4  0.935987     XGBClassifier_score"
      ]
     },
     "execution_count": 46,
     "metadata": {},
     "output_type": "execute_result"
    }
   ],
   "source": [
    "#Valor dos Scores dos modelos \n",
    "scores"
   ]
  },
  {
   "cell_type": "markdown",
   "metadata": {},
   "source": [
    "**Observamos que o modelo que obteve o melhor resultado foi: XGBClassifier, pois ele usa muitos parâmetros deixando o algoritmo mais robusto em relação aos outros**"
   ]
  },
  {
   "cell_type": "markdown",
   "metadata": {},
   "source": [
    "# Comparar os modelos com Randomized Search"
   ]
  },
  {
   "cell_type": "code",
   "execution_count": 47,
   "metadata": {},
   "outputs": [
    {
     "data": {
      "image/png": "[encoded data removed]",
      "text/plain": [
       "<Figure size 432x288 with 1 Axes>"
      ]
     },
     "metadata": {
      "needs_background": "light"
     },
     "output_type": "display_data"
    }
   ],
   "source": [
    "### Grafico dos Parametros com Randomized Search\n",
    "import matplotlib.pyplot as plt\n",
    "\n",
    "scores = pd.DataFrame([TreeClas_rsearch_acuracy,ExtraTrees_rsearch_acuracy ,\n",
    "                       Adaboost_rsearch_acuracy,GradientBoosting_rsearch_acuracy,\n",
    "                       XGBClassifier_rsearch_acuracy])\n",
    "\n",
    "scores['Modelos'] =  ['Decision_tree_rsearch_acuracy','ExtraTrees_rsearch_Acuracy ',\n",
    "                      'Adaboost_rsearch_Acuracy','GradientBoosting_rsearch_Acuracy',\n",
    "                      'XGBClassifier_rsearch_Acuracy']\n",
    "\n",
    "scores.columns = ['Scores','Modelos']\n",
    "\n",
    "#Plotar \n",
    "plt.barh(scores.Modelos,scores['Scores']);"
   ]
  },
  {
   "cell_type": "code",
   "execution_count": 48,
   "metadata": {},
   "outputs": [
    {
     "data": {
      "text/html": [
       "<div>\n",
       "<style scoped>\n",
       "    .dataframe tbody tr th:only-of-type {\n",
       "        vertical-align: middle;\n",
       "    }\n",
       "\n",
       "    .dataframe tbody tr th {\n",
       "        vertical-align: top;\n",
       "    }\n",
       "\n",
       "    .dataframe thead th {\n",
       "        text-align: right;\n",
       "    }\n",
       "</style>\n",
       "<table border=\"1\" class=\"dataframe\">\n",
       "  <thead>\n",
       "    <tr style=\"text-align: right;\">\n",
       "      <th></th>\n",
       "      <th>Scores</th>\n",
       "      <th>Modelos</th>\n",
       "    </tr>\n",
       "  </thead>\n",
       "  <tbody>\n",
       "    <tr>\n",
       "      <th>0</th>\n",
       "      <td>0.927607</td>\n",
       "      <td>Decision_tree_rsearch_acuracy</td>\n",
       "    </tr>\n",
       "    <tr>\n",
       "      <th>1</th>\n",
       "      <td>0.891061</td>\n",
       "      <td>ExtraTrees_rsearch_Acuracy</td>\n",
       "    </tr>\n",
       "    <tr>\n",
       "      <th>2</th>\n",
       "      <td>0.886057</td>\n",
       "      <td>Adaboost_rsearch_Acuracy</td>\n",
       "    </tr>\n",
       "    <tr>\n",
       "      <th>3</th>\n",
       "      <td>0.933426</td>\n",
       "      <td>GradientBoosting_rsearch_Acuracy</td>\n",
       "    </tr>\n",
       "    <tr>\n",
       "      <th>4</th>\n",
       "      <td>0.935521</td>\n",
       "      <td>XGBClassifier_rsearch_Acuracy</td>\n",
       "    </tr>\n",
       "  </tbody>\n",
       "</table>\n",
       "</div>"
      ],
      "text/plain": [
       "     Scores                           Modelos\n",
       "0  0.927607     Decision_tree_rsearch_acuracy\n",
       "1  0.891061       ExtraTrees_rsearch_Acuracy \n",
       "2  0.886057          Adaboost_rsearch_Acuracy\n",
       "3  0.933426  GradientBoosting_rsearch_Acuracy\n",
       "4  0.935521     XGBClassifier_rsearch_Acuracy"
      ]
     },
     "execution_count": 48,
     "metadata": {},
     "output_type": "execute_result"
    }
   ],
   "source": [
    "#Valor dos Scores dos modelos \n",
    "scores"
   ]
  },
  {
   "cell_type": "markdown",
   "metadata": {},
   "source": [
    "**Os modelos que tiveram melhor resultado foram: GradientBoosting_rsearch e  XGBClassifier_rsearch**"
   ]
  },
  {
   "cell_type": "markdown",
   "metadata": {},
   "source": [
    "# Comparar os modelos com Grid Search"
   ]
  },
  {
   "cell_type": "code",
   "execution_count": 49,
   "metadata": {},
   "outputs": [
    {
     "data": {
      "text/plain": [
       "<BarContainer object of 5 artists>"
      ]
     },
     "execution_count": 49,
     "metadata": {},
     "output_type": "execute_result"
    },
    {
     "data": {
      "image/png": "[encoded data removed]",
      "text/plain": [
       "<Figure size 432x288 with 1 Axes>"
      ]
     },
     "metadata": {
      "needs_background": "light"
     },
     "output_type": "display_data"
    }
   ],
   "source": [
    "scores = pd.DataFrame([TreeClas_gsearch_acuracy,ExtraTrees_gsearch_acuracy ,\n",
    "                       Adaboost_gsearch_acuracy,GradientBoosting_grid_acuracy,\n",
    "                       XGBClassifier_gsearch_acuracy])\n",
    "\n",
    "scores['Modelos'] =  ['Decision_tree_gsearch_acuracy','ExtraTrees_gsearch_Acuracy ',\n",
    "                      'Adaboost_gsearch_Acuracy','GradientBoosting_grid_Acuracy',\n",
    "                      'XGBClassifier_gsearch_Acuracy']\n",
    "\n",
    "scores.columns = ['Scores','Modelos']\n",
    "\n",
    "#Plotar \n",
    "plt.barh(scores.Modelos,scores['Scores'])"
   ]
  },
  {
   "cell_type": "code",
   "execution_count": 50,
   "metadata": {},
   "outputs": [
    {
     "data": {
      "text/html": [
       "<div>\n",
       "<style scoped>\n",
       "    .dataframe tbody tr th:only-of-type {\n",
       "        vertical-align: middle;\n",
       "    }\n",
       "\n",
       "    .dataframe tbody tr th {\n",
       "        vertical-align: top;\n",
       "    }\n",
       "\n",
       "    .dataframe thead th {\n",
       "        text-align: right;\n",
       "    }\n",
       "</style>\n",
       "<table border=\"1\" class=\"dataframe\">\n",
       "  <thead>\n",
       "    <tr style=\"text-align: right;\">\n",
       "      <th></th>\n",
       "      <th>Scores</th>\n",
       "      <th>Modelos</th>\n",
       "    </tr>\n",
       "  </thead>\n",
       "  <tbody>\n",
       "    <tr>\n",
       "      <th>0</th>\n",
       "      <td>0.914455</td>\n",
       "      <td>Decision_tree_gsearch_acuracy</td>\n",
       "    </tr>\n",
       "    <tr>\n",
       "      <th>1</th>\n",
       "      <td>0.899907</td>\n",
       "      <td>ExtraTrees_gsearch_Acuracy</td>\n",
       "    </tr>\n",
       "    <tr>\n",
       "      <th>2</th>\n",
       "      <td>0.886057</td>\n",
       "      <td>Adaboost_gsearch_Acuracy</td>\n",
       "    </tr>\n",
       "    <tr>\n",
       "      <th>3</th>\n",
       "      <td>0.932961</td>\n",
       "      <td>GradientBoosting_grid_Acuracy</td>\n",
       "    </tr>\n",
       "    <tr>\n",
       "      <th>4</th>\n",
       "      <td>0.932728</td>\n",
       "      <td>XGBClassifier_gsearch_Acuracy</td>\n",
       "    </tr>\n",
       "  </tbody>\n",
       "</table>\n",
       "</div>"
      ],
      "text/plain": [
       "     Scores                        Modelos\n",
       "0  0.914455  Decision_tree_gsearch_acuracy\n",
       "1  0.899907    ExtraTrees_gsearch_Acuracy \n",
       "2  0.886057       Adaboost_gsearch_Acuracy\n",
       "3  0.932961  GradientBoosting_grid_Acuracy\n",
       "4  0.932728  XGBClassifier_gsearch_Acuracy"
      ]
     },
     "execution_count": 50,
     "metadata": {},
     "output_type": "execute_result"
    }
   ],
   "source": [
    "#Valor dos Scores dos modelos \n",
    "scores"
   ]
  },
  {
   "cell_type": "markdown",
   "metadata": {},
   "source": [
    "**Os modelos que tiveram melhor resultado foram: GradientBoosting_grid_Acuracy e XGBClassifier_gsearch_Acuracy**"
   ]
  },
  {
   "cell_type": "markdown",
   "metadata": {},
   "source": [
    "# Comparar os modelos com Bayesian Optimization"
   ]
  },
  {
   "cell_type": "code",
   "execution_count": 51,
   "metadata": {},
   "outputs": [
    {
     "data": {
      "text/plain": [
       "<BarContainer object of 5 artists>"
      ]
     },
     "execution_count": 51,
     "metadata": {},
     "output_type": "execute_result"
    },
    {
     "data": {
      "image/png": "[encoded data removed]",
      "text/plain": [
       "<Figure size 432x288 with 1 Axes>"
      ]
     },
     "metadata": {
      "needs_background": "light"
     },
     "output_type": "display_data"
    }
   ],
   "source": [
    "#Grafico dos Parametros com Bayesian Optimization\n",
    "\n",
    "scores = pd.DataFrame([TreeClas_BayesSearchCV_acuracy,ExtraTrees_BayesSearch_acuracy,\n",
    "                       AdaBoost_BayesSearch_acuracy,GradientBoosting_BayesSearch_acuracy,\n",
    "                       XGBClassifier_BayesSearch_acuracy])\n",
    "\n",
    "scores['Modelos'] =  ['Decision_tree_BayesSearchCV_acuracy','ExtraTrees_BayesSearch_acuracy',\n",
    "                      'AdaBoost_BayesSearch_acuracy','GradientBoosting_BayesSearch_acuracy',\n",
    "                      'XGBClassifier_BayesSearch_acuracy']\n",
    "\n",
    "scores.columns = ['Scores','Modelos']\n",
    "\n",
    "#Plotar \n",
    "plt.barh(scores.Modelos,scores['Scores'])"
   ]
  },
  {
   "cell_type": "code",
   "execution_count": 52,
   "metadata": {},
   "outputs": [
    {
     "data": {
      "text/html": [
       "<div>\n",
       "<style scoped>\n",
       "    .dataframe tbody tr th:only-of-type {\n",
       "        vertical-align: middle;\n",
       "    }\n",
       "\n",
       "    .dataframe tbody tr th {\n",
       "        vertical-align: top;\n",
       "    }\n",
       "\n",
       "    .dataframe thead th {\n",
       "        text-align: right;\n",
       "    }\n",
       "</style>\n",
       "<table border=\"1\" class=\"dataframe\">\n",
       "  <thead>\n",
       "    <tr style=\"text-align: right;\">\n",
       "      <th></th>\n",
       "      <th>Scores</th>\n",
       "      <th>Modelos</th>\n",
       "    </tr>\n",
       "  </thead>\n",
       "  <tbody>\n",
       "    <tr>\n",
       "      <th>0</th>\n",
       "      <td>0.922370</td>\n",
       "      <td>Decision_tree_BayesSearchCV_acuracy</td>\n",
       "    </tr>\n",
       "    <tr>\n",
       "      <th>1</th>\n",
       "      <td>0.887337</td>\n",
       "      <td>ExtraTrees_BayesSearch_acuracy</td>\n",
       "    </tr>\n",
       "    <tr>\n",
       "      <th>2</th>\n",
       "      <td>0.880819</td>\n",
       "      <td>AdaBoost_BayesSearch_acuracy</td>\n",
       "    </tr>\n",
       "    <tr>\n",
       "      <th>3</th>\n",
       "      <td>0.933194</td>\n",
       "      <td>GradientBoosting_BayesSearch_acuracy</td>\n",
       "    </tr>\n",
       "    <tr>\n",
       "      <th>4</th>\n",
       "      <td>0.932728</td>\n",
       "      <td>XGBClassifier_BayesSearch_acuracy</td>\n",
       "    </tr>\n",
       "  </tbody>\n",
       "</table>\n",
       "</div>"
      ],
      "text/plain": [
       "     Scores                               Modelos\n",
       "0  0.922370   Decision_tree_BayesSearchCV_acuracy\n",
       "1  0.887337        ExtraTrees_BayesSearch_acuracy\n",
       "2  0.880819          AdaBoost_BayesSearch_acuracy\n",
       "3  0.933194  GradientBoosting_BayesSearch_acuracy\n",
       "4  0.932728     XGBClassifier_BayesSearch_acuracy"
      ]
     },
     "execution_count": 52,
     "metadata": {},
     "output_type": "execute_result"
    }
   ],
   "source": [
    "#Valor dos Scores dos modelos \n",
    "scores"
   ]
  },
  {
   "cell_type": "markdown",
   "metadata": {},
   "source": [
    "**Os modelos que tiveram melhor resultado foram: GradientBoosting_BayesSearch_acuracy e XGBClassifier_BayesSearch_acuracy**"
   ]
  },
  {
   "cell_type": "markdown",
   "metadata": {},
   "source": [
    "# Comparação de Todos os Modelo:"
   ]
  },
  {
   "cell_type": "code",
   "execution_count": 61,
   "metadata": {},
   "outputs": [
    {
     "data": {
      "text/html": [
       "<div>\n",
       "<style scoped>\n",
       "    .dataframe tbody tr th:only-of-type {\n",
       "        vertical-align: middle;\n",
       "    }\n",
       "\n",
       "    .dataframe tbody tr th {\n",
       "        vertical-align: top;\n",
       "    }\n",
       "\n",
       "    .dataframe thead th {\n",
       "        text-align: right;\n",
       "    }\n",
       "</style>\n",
       "<table border=\"1\" class=\"dataframe\">\n",
       "  <thead>\n",
       "    <tr style=\"text-align: right;\">\n",
       "      <th></th>\n",
       "      <th>Scores</th>\n",
       "      <th>Time(Seg)</th>\n",
       "    </tr>\n",
       "    <tr>\n",
       "      <th>Modelos</th>\n",
       "      <th></th>\n",
       "      <th></th>\n",
       "    </tr>\n",
       "  </thead>\n",
       "  <tbody>\n",
       "    <tr>\n",
       "      <th>XGBClassifier_score</th>\n",
       "      <td>0.935987</td>\n",
       "      <td>1.745</td>\n",
       "    </tr>\n",
       "    <tr>\n",
       "      <th>XGBClassifier_rsearch_Acuracy</th>\n",
       "      <td>0.935521</td>\n",
       "      <td>62.811</td>\n",
       "    </tr>\n",
       "    <tr>\n",
       "      <th>GradientBoosting_rsearch_Acuracy</th>\n",
       "      <td>0.933426</td>\n",
       "      <td>51.898</td>\n",
       "    </tr>\n",
       "    <tr>\n",
       "      <th>GradientBoosting_BayesSearch_acuracy</th>\n",
       "      <td>0.933194</td>\n",
       "      <td>339.218</td>\n",
       "    </tr>\n",
       "    <tr>\n",
       "      <th>GradientBoosting_grid_Acuracy</th>\n",
       "      <td>0.932961</td>\n",
       "      <td>227.343</td>\n",
       "    </tr>\n",
       "    <tr>\n",
       "      <th>XGBClassifier_BayesSearch_acuracy</th>\n",
       "      <td>0.932728</td>\n",
       "      <td>222.606</td>\n",
       "    </tr>\n",
       "    <tr>\n",
       "      <th>XGBClassifier_gsearch_Acuracy</th>\n",
       "      <td>0.932728</td>\n",
       "      <td>54.007</td>\n",
       "    </tr>\n",
       "    <tr>\n",
       "      <th>GradientBoosting_score</th>\n",
       "      <td>0.929818</td>\n",
       "      <td>2.334</td>\n",
       "    </tr>\n",
       "    <tr>\n",
       "      <th>TreeClas_rsearch_acuracy</th>\n",
       "      <td>0.927607</td>\n",
       "      <td>19.719</td>\n",
       "    </tr>\n",
       "    <tr>\n",
       "      <th>TreeClas_BayesSearchCV_acuracy</th>\n",
       "      <td>0.922370</td>\n",
       "      <td>74.656</td>\n",
       "    </tr>\n",
       "    <tr>\n",
       "      <th>ExtraTrees_score</th>\n",
       "      <td>0.920507</td>\n",
       "      <td>1.594</td>\n",
       "    </tr>\n",
       "    <tr>\n",
       "      <th>TreeClas_gsearch_acuracy</th>\n",
       "      <td>0.914455</td>\n",
       "      <td>67.500</td>\n",
       "    </tr>\n",
       "    <tr>\n",
       "      <th>ExtraTrees_gsearch_Acuracy</th>\n",
       "      <td>0.899907</td>\n",
       "      <td>104.253</td>\n",
       "    </tr>\n",
       "    <tr>\n",
       "      <th>TreeClas_score</th>\n",
       "      <td>0.891061</td>\n",
       "      <td>0.538</td>\n",
       "    </tr>\n",
       "    <tr>\n",
       "      <th>ExtraTrees_rsearch_Acuracy</th>\n",
       "      <td>0.891061</td>\n",
       "      <td>196.525</td>\n",
       "    </tr>\n",
       "    <tr>\n",
       "      <th>AdaBoost_score</th>\n",
       "      <td>0.888734</td>\n",
       "      <td>0.120</td>\n",
       "    </tr>\n",
       "    <tr>\n",
       "      <th>ExtraTrees_BayesSearch_acuracy</th>\n",
       "      <td>0.887337</td>\n",
       "      <td>222.382</td>\n",
       "    </tr>\n",
       "    <tr>\n",
       "      <th>Adaboost_rsearch_Acuracy</th>\n",
       "      <td>0.886057</td>\n",
       "      <td>58.040</td>\n",
       "    </tr>\n",
       "    <tr>\n",
       "      <th>Adaboost_gsearch_Acuracy</th>\n",
       "      <td>0.886057</td>\n",
       "      <td>50.729</td>\n",
       "    </tr>\n",
       "    <tr>\n",
       "      <th>AdaBoost_BayesSearch_acuracy</th>\n",
       "      <td>0.880819</td>\n",
       "      <td>166.477</td>\n",
       "    </tr>\n",
       "  </tbody>\n",
       "</table>\n",
       "</div>"
      ],
      "text/plain": [
       "                                        Scores  Time(Seg)\n",
       "Modelos                                                  \n",
       "XGBClassifier_score                   0.935987      1.745\n",
       "XGBClassifier_rsearch_Acuracy         0.935521     62.811\n",
       "GradientBoosting_rsearch_Acuracy      0.933426     51.898\n",
       "GradientBoosting_BayesSearch_acuracy  0.933194    339.218\n",
       "GradientBoosting_grid_Acuracy         0.932961    227.343\n",
       "XGBClassifier_BayesSearch_acuracy     0.932728    222.606\n",
       "XGBClassifier_gsearch_Acuracy         0.932728     54.007\n",
       "GradientBoosting_score                0.929818      2.334\n",
       "TreeClas_rsearch_acuracy              0.927607     19.719\n",
       "TreeClas_BayesSearchCV_acuracy        0.922370     74.656\n",
       "ExtraTrees_score                      0.920507      1.594\n",
       "TreeClas_gsearch_acuracy              0.914455     67.500\n",
       "ExtraTrees_gsearch_Acuracy            0.899907    104.253\n",
       "TreeClas_score                        0.891061      0.538\n",
       "ExtraTrees_rsearch_Acuracy            0.891061    196.525\n",
       "AdaBoost_score                        0.888734      0.120\n",
       "ExtraTrees_BayesSearch_acuracy        0.887337    222.382\n",
       "Adaboost_rsearch_Acuracy              0.886057     58.040\n",
       "Adaboost_gsearch_Acuracy              0.886057     50.729\n",
       "AdaBoost_BayesSearch_acuracy          0.880819    166.477"
      ]
     },
     "execution_count": 61,
     "metadata": {},
     "output_type": "execute_result"
    }
   ],
   "source": [
    "# Modelos\n",
    "modelo_completo = pd.concat([dts,ert,adb,gb,xgb])\n",
    "modelo_completo = modelo_completo.set_index('Modelos')\n",
    "modelo_completo.sort_values('Scores',ascending=False)"
   ]
  },
  {
   "cell_type": "markdown",
   "metadata": {},
   "source": [
    "**Notamos que nem sempre o melhor modelo requer o maior tempo de poder computacional, e o resultado depende muito do algoritmo usado e do seu otimizador. Os algoritmos com a melhor média foram: XGBClassifier e GradientBoosting**"
   ]
  },
  {
   "cell_type": "markdown",
   "metadata": {},
   "source": [
    "# Conclusão:"
   ]
  },
  {
   "cell_type": "markdown",
   "metadata": {},
   "source": [
    "**Conclusão_1: Os Melhores modelos do método ensamble foi com os algoritmos GradientBoosting e XGBClassifier**"
   ]
  },
  {
   "cell_type": "markdown",
   "metadata": {},
   "source": [
    "**Conclusão_2: Os modelos ensamble tem vários parâmetros que podem ser otimizados ainda mais, conseguindo chegar a um melhor resultado**"
   ]
  },
  {
   "cell_type": "markdown",
   "metadata": {},
   "source": [
    "**Conclusão_3: Os Algoritmos GridSearch e o BayesSearch têm um processo computacional exaustivo, dependendo do conjunto de dados pode demorar horas ou dias para concluir o processo**\n",
    "\n",
    "**O algoritmo Randomized Search é uma alternativa quando temos grandes conjuntos de dados, pois ele não testa todos os hiperparâmetros que foram passados, ele faz iterações randomizadas e com isso o processo computacional fica menor com excelentes resultados**\n"
   ]
  }
 ],
 "metadata": {
  "anaconda-cloud": {},
  "kernelspec": {
   "display_name": "Python 3 (ipykernel)",
   "language": "python",
   "name": "python3"
  },
  "language_info": {
   "codemirror_mode": {
    "name": "ipython",
    "version": 3
   },
   "file_extension": ".py",
   "mimetype": "text/x-python",
   "name": "python",
   "nbconvert_exporter": "python",
   "pygments_lexer": "ipython3",
   "version": "3.9.12"
  }
 },
 "nbformat": 4,
 "nbformat_minor": 1
}
