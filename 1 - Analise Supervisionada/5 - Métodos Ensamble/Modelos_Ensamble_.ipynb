{
 "cells": [
  {
   "cell_type": "markdown",
   "metadata": {},
   "source": [
    "# $$Modelos~Ensamble$$"
   ]
  },
  {
   "cell_type": "markdown",
   "metadata": {},
   "source": [
    "### $$Conceito:$$\n",
    "\n",
    "                                                \n",
    "É uma técnica chamada de **aprendizado por agrupamento**, se baseia na ideia de **combinar diversos modelos de predição** mais simples (weak learner), treiná-los para uma mesma tarefa, e produzir a partir desses um modelo agrupado mais complexo (strong learner) que é a soma de suas partes, com objetivo de diminuir a suscetibilidade geral deles a bias e a variance, tornando-os mais robustos\n",
    "\n",
    "\n",
    "**Weak Learners:** Produz um classificador que é apenas um pouco mais preciso do que a classificação aleatória\n",
    "\n",
    "\n",
    "**Strong Learners:** É a soma das partes do Weak Learners, com proposito de construir modelos com precisão arbitrariamente boa\n",
    "\n",
    "\n",
    "**Tipo de Distribuição:** Não Paramétrica\n",
    "\n",
    "-----------------------------------------------------------------------------------------------------------------------\n",
    "\n",
    "\n",
    "\n",
    "### $$Modelos:Bagging,~ Boosting~ e~ Stacking:$$\n",
    "\n",
    "\n",
    "### Bagging:\n",
    "\n",
    "\n",
    "A primeira coisa a ser feita com este algoritmo é **escolher** qual **o modelo** que será usado. Por exemplo, podemos optar pelo algoritmo de árvore de decisão, KNN, Regressão Linear, etc...(um algoritmo de machine learning que será o padrão para o algoritmo de Bagging funcionar), e ao escolher o algoritmo,  **passamos o parâmetro de Bagging para construir várias vezes modelos** desse algoritmo\n",
    "\n",
    "\n",
    "\n",
    "O que o **Bagging usa** para fazer uma **diferenciação entre um estimador** e outro, sendo que ele está **usando o mesmo algoritmo?**, consequentemente terá o **mesmo resultado** sempre. O Bagging faz uma **escolha aleatória das amostras de dados e das variáveis(bootstrap)**, **sorteando várias amostras diferentes** a cada iteração com o algoritmo, ou seja, ele usa o mesmo algoritmo, só que para cada estimador, criado separadamente, ele usa um conjunto diferente de amostras e variáveis\n",
    "\n",
    "\n",
    "\n",
    "-----------------------------------------------------------------------------------------------------------------------\n",
    "\n",
    "**Tipos de Bagging:**\n",
    "\n",
    "\n",
    "\n",
    "**Random Forest** = São criadas várias árvores de decisão, existe duas etapas importantes do processo acontecendo de maneira aleatória, tanto a seleção de variáveis quanto a seleção de dados (Bootstrap)\n",
    "\n",
    "-----------------------------------------------------------------------------------------------------------------------\n",
    "\n",
    "\n",
    "**ExtraTrees** = **Igual ao Random Forest** porém com algumas resalvas, além  **não fazer bootstrap de observações** (ou seja, amostras sem substituição), e após a seleção aleatória das variáveis candidatas para o nó inicial, **os dados** existentes em cada uma destas variáveis **serão divididos também de maneira aleatória**, para que as decisões dos nó raiz varie em algumas árvores\n",
    "\n",
    "**OBS: É importante verificar caso existirem muitas variáveis que não estejam ajudando no problema o algoritmo poderá acabar escolhendo essas variáveis para começar os nós, acarretando muitos erros ao modelo**\n",
    "\n",
    "\n",
    "-----------------------------------------------------------------------------------------------------------------------\n",
    "### Boosting:\n",
    "\n",
    "**Boosting** cria um modelo de conjunto combinando várias árvores de decisão fracas sequencialmente. Ele atribui pesos à saída de árvores individuais. Em seguida, **dá um peso maior às classificações incorretas** da primeira árvore de decisão e uma entrada para a próxima árvore. Após vários ciclos, o método de boosting combina essas regras fracas em uma única regra de previsão poderosa\n",
    "\n",
    "\n",
    "**Boosting X Bagging** = Boosting e bagging são os dois métodos de conjunto comuns que melhoram a precisão da previsão. A **principal diferença** entre esses métodos de aprendizagem é o **método de treinamento**. No bagging, melhoram a precisão de aprendizes fracos treinando vários deles ao mesmo tempo em vários conjuntos de dados. Em contraste, o boosting treina os aprendizes fracos um após o outro.\n",
    "\n",
    "-----------------------------------------------------------------------------------------------------------------------\n",
    "\n",
    "**Tipos de boosting:**\n",
    "\n",
    "\n",
    "**Adaboost** = No AdaBoost não teremos a construção de árvores de decisões, mas sim de “tocos”, ou stumps. Estes tocos são como árvores de decisão com apenas um nó, sendo que a construção de cada um dependerá do toco anterior. Ou seja, existe uma dependência entre cada toco, situação que não acontece nas árvores do RandomForest e do ExtraTrees. Esta é uma característica dos algoritmos de boosting, que utilizam o resultado de um modelo para criação do próximo, buscando um aperfeiçoamento a cada iteração, aprendendo com os erros do modelo anterior\n",
    " \n",
    "**OBS: Esse modelo permite ser usado com outros algoritimos diferente das árvores de decisão e essa abordagem não funciona bem quando há correlação entre recursos ou alta dimensionalidade de dados. No geral, o AdaBoost é um tipo adequado de boosting para problemas de classificação**\n",
    "\n",
    "\n",
    "-----------------------------------------------------------------------------------------------------------------------\n",
    "\n",
    "**Gradient Boosting** = Boosting de gradiente (GB) é semelhante ao AdaBoost, pois também é uma técnica de treinamento sequencial. A diferença entre o AdaBoost e o GB é que o GB não dá mais peso aos itens classificados incorretamente. Em vez disso, o algoritmo de GB otimiza a função de perda, gerando aprendizes de base sequencialmente, para que o atual aprendiz de base seja sempre mais eficaz que o anterior. Esse método tenta gerar resultados precisos inicialmente, em vez de corrigir erros ao longo do processo como o AdaBoost. Por isso motivo, o algoritmo de GB pode levar a resultados mais precisos. O aumento de gradiente pode ajudar com problemas baseados em classificação e regressão\n",
    "\n",
    "**OBS: Modelo usado somente com árvores de decisão**\n",
    "\n",
    "-----------------------------------------------------------------------------------------------------------------------\n",
    "\n",
    "\n",
    "**XGBoost** = É uma melhora do Gradient Boosting pois possui mais parâmetros e é otimizada tanto para eficiência de memória quanto para velocidade de treinamento.\n",
    "\n",
    "\n",
    "\n",
    "\n",
    "\n",
    "### Stacking:\n",
    "\n",
    "É uma maneira de fazer o ensemble na qual usamos modelos para fazer previsões, e depois usamos estas previsões como features em novos modelos\n",
    "\n",
    "\n",
    "\n",
    "\n"
   ]
  },
  {
   "cell_type": "markdown",
   "metadata": {},
   "source": [
    "__------------------------------------------------------------------------------------------------------------------------------------------------------------------------------------------------------------------__\n",
    "\n",
    "\n",
    "__------------------------------------------------------------------------------------------------------------------------------------------------------------------------------------------------------------------__"
   ]
  },
  {
   "cell_type": "markdown",
   "metadata": {},
   "source": [
    "## $$Objetivo:$$\n",
    "\n",
    "## $$Criar~ e~ verificar~ os~ resultados~ dos ~modelos~ Ensamble$$"
   ]
  },
  {
   "cell_type": "markdown",
   "metadata": {},
   "source": [
    "__------------------------------------------------------------------------------------------------------------------------------------------------------------------------------------------------------------------__\n",
    "\n",
    "\n",
    "__------------------------------------------------------------------------------------------------------------------------------------------------------------------------------------------------------------------__"
   ]
  },
  {
   "cell_type": "code",
   "execution_count": 1,
   "metadata": {},
   "outputs": [],
   "source": [
    "#Importar as bibliotecas\n",
    "import numpy as np\n",
    "import pandas as pd\n",
    "from sklearn.ensemble import BaggingClassifier\n",
    "from sklearn.tree import DecisionTreeClassifier\n",
    "from sklearn.model_selection import cross_val_score\n",
    "from sklearn.preprocessing import scale"
   ]
  },
  {
   "cell_type": "markdown",
   "metadata": {},
   "source": [
    "# Banco de dados "
   ]
  },
  {
   "cell_type": "code",
   "execution_count": 2,
   "metadata": {},
   "outputs": [
    {
     "data": {
      "text/html": [
       "<div>\n",
       "<style scoped>\n",
       "    .dataframe tbody tr th:only-of-type {\n",
       "        vertical-align: middle;\n",
       "    }\n",
       "\n",
       "    .dataframe tbody tr th {\n",
       "        vertical-align: top;\n",
       "    }\n",
       "\n",
       "    .dataframe thead th {\n",
       "        text-align: right;\n",
       "    }\n",
       "</style>\n",
       "<table border=\"1\" class=\"dataframe\">\n",
       "  <thead>\n",
       "    <tr style=\"text-align: right;\">\n",
       "      <th></th>\n",
       "      <th>person_age</th>\n",
       "      <th>person_income</th>\n",
       "      <th>person_home_ownership</th>\n",
       "      <th>person_emp_length</th>\n",
       "      <th>loan_intent</th>\n",
       "      <th>loan_grade</th>\n",
       "      <th>loan_amnt</th>\n",
       "      <th>loan_int_rate</th>\n",
       "      <th>loan_status</th>\n",
       "      <th>loan_percent_income</th>\n",
       "      <th>cb_person_default_on_file</th>\n",
       "      <th>cb_person_cred_hist_length</th>\n",
       "    </tr>\n",
       "  </thead>\n",
       "  <tbody>\n",
       "    <tr>\n",
       "      <th>0</th>\n",
       "      <td>22</td>\n",
       "      <td>59000</td>\n",
       "      <td>RENT</td>\n",
       "      <td>123.0</td>\n",
       "      <td>PERSONAL</td>\n",
       "      <td>D</td>\n",
       "      <td>35000</td>\n",
       "      <td>16.02</td>\n",
       "      <td>1</td>\n",
       "      <td>0.59</td>\n",
       "      <td>Y</td>\n",
       "      <td>3</td>\n",
       "    </tr>\n",
       "    <tr>\n",
       "      <th>1</th>\n",
       "      <td>21</td>\n",
       "      <td>9600</td>\n",
       "      <td>OWN</td>\n",
       "      <td>5.0</td>\n",
       "      <td>EDUCATION</td>\n",
       "      <td>B</td>\n",
       "      <td>1000</td>\n",
       "      <td>11.14</td>\n",
       "      <td>0</td>\n",
       "      <td>0.10</td>\n",
       "      <td>N</td>\n",
       "      <td>2</td>\n",
       "    </tr>\n",
       "    <tr>\n",
       "      <th>2</th>\n",
       "      <td>25</td>\n",
       "      <td>9600</td>\n",
       "      <td>MORTGAGE</td>\n",
       "      <td>1.0</td>\n",
       "      <td>MEDICAL</td>\n",
       "      <td>C</td>\n",
       "      <td>5500</td>\n",
       "      <td>12.87</td>\n",
       "      <td>1</td>\n",
       "      <td>0.57</td>\n",
       "      <td>N</td>\n",
       "      <td>3</td>\n",
       "    </tr>\n",
       "    <tr>\n",
       "      <th>3</th>\n",
       "      <td>23</td>\n",
       "      <td>65500</td>\n",
       "      <td>RENT</td>\n",
       "      <td>4.0</td>\n",
       "      <td>MEDICAL</td>\n",
       "      <td>C</td>\n",
       "      <td>35000</td>\n",
       "      <td>15.23</td>\n",
       "      <td>1</td>\n",
       "      <td>0.53</td>\n",
       "      <td>N</td>\n",
       "      <td>2</td>\n",
       "    </tr>\n",
       "    <tr>\n",
       "      <th>4</th>\n",
       "      <td>24</td>\n",
       "      <td>54400</td>\n",
       "      <td>RENT</td>\n",
       "      <td>8.0</td>\n",
       "      <td>MEDICAL</td>\n",
       "      <td>C</td>\n",
       "      <td>35000</td>\n",
       "      <td>14.27</td>\n",
       "      <td>1</td>\n",
       "      <td>0.55</td>\n",
       "      <td>Y</td>\n",
       "      <td>4</td>\n",
       "    </tr>\n",
       "    <tr>\n",
       "      <th>...</th>\n",
       "      <td>...</td>\n",
       "      <td>...</td>\n",
       "      <td>...</td>\n",
       "      <td>...</td>\n",
       "      <td>...</td>\n",
       "      <td>...</td>\n",
       "      <td>...</td>\n",
       "      <td>...</td>\n",
       "      <td>...</td>\n",
       "      <td>...</td>\n",
       "      <td>...</td>\n",
       "      <td>...</td>\n",
       "    </tr>\n",
       "    <tr>\n",
       "      <th>32576</th>\n",
       "      <td>57</td>\n",
       "      <td>53000</td>\n",
       "      <td>MORTGAGE</td>\n",
       "      <td>1.0</td>\n",
       "      <td>PERSONAL</td>\n",
       "      <td>C</td>\n",
       "      <td>5800</td>\n",
       "      <td>13.16</td>\n",
       "      <td>0</td>\n",
       "      <td>0.11</td>\n",
       "      <td>N</td>\n",
       "      <td>30</td>\n",
       "    </tr>\n",
       "    <tr>\n",
       "      <th>32577</th>\n",
       "      <td>54</td>\n",
       "      <td>120000</td>\n",
       "      <td>MORTGAGE</td>\n",
       "      <td>4.0</td>\n",
       "      <td>PERSONAL</td>\n",
       "      <td>A</td>\n",
       "      <td>17625</td>\n",
       "      <td>7.49</td>\n",
       "      <td>0</td>\n",
       "      <td>0.15</td>\n",
       "      <td>N</td>\n",
       "      <td>19</td>\n",
       "    </tr>\n",
       "    <tr>\n",
       "      <th>32578</th>\n",
       "      <td>65</td>\n",
       "      <td>76000</td>\n",
       "      <td>RENT</td>\n",
       "      <td>3.0</td>\n",
       "      <td>HOMEIMPROVEMENT</td>\n",
       "      <td>B</td>\n",
       "      <td>35000</td>\n",
       "      <td>10.99</td>\n",
       "      <td>1</td>\n",
       "      <td>0.46</td>\n",
       "      <td>N</td>\n",
       "      <td>28</td>\n",
       "    </tr>\n",
       "    <tr>\n",
       "      <th>32579</th>\n",
       "      <td>56</td>\n",
       "      <td>150000</td>\n",
       "      <td>MORTGAGE</td>\n",
       "      <td>5.0</td>\n",
       "      <td>PERSONAL</td>\n",
       "      <td>B</td>\n",
       "      <td>15000</td>\n",
       "      <td>11.48</td>\n",
       "      <td>0</td>\n",
       "      <td>0.10</td>\n",
       "      <td>N</td>\n",
       "      <td>26</td>\n",
       "    </tr>\n",
       "    <tr>\n",
       "      <th>32580</th>\n",
       "      <td>66</td>\n",
       "      <td>42000</td>\n",
       "      <td>RENT</td>\n",
       "      <td>2.0</td>\n",
       "      <td>MEDICAL</td>\n",
       "      <td>B</td>\n",
       "      <td>6475</td>\n",
       "      <td>9.99</td>\n",
       "      <td>0</td>\n",
       "      <td>0.15</td>\n",
       "      <td>N</td>\n",
       "      <td>30</td>\n",
       "    </tr>\n",
       "  </tbody>\n",
       "</table>\n",
       "<p>32581 rows × 12 columns</p>\n",
       "</div>"
      ],
      "text/plain": [
       "       person_age  person_income person_home_ownership  person_emp_length  \\\n",
       "0              22          59000                  RENT              123.0   \n",
       "1              21           9600                   OWN                5.0   \n",
       "2              25           9600              MORTGAGE                1.0   \n",
       "3              23          65500                  RENT                4.0   \n",
       "4              24          54400                  RENT                8.0   \n",
       "...           ...            ...                   ...                ...   \n",
       "32576          57          53000              MORTGAGE                1.0   \n",
       "32577          54         120000              MORTGAGE                4.0   \n",
       "32578          65          76000                  RENT                3.0   \n",
       "32579          56         150000              MORTGAGE                5.0   \n",
       "32580          66          42000                  RENT                2.0   \n",
       "\n",
       "           loan_intent loan_grade  loan_amnt  loan_int_rate  loan_status  \\\n",
       "0             PERSONAL          D      35000          16.02            1   \n",
       "1            EDUCATION          B       1000          11.14            0   \n",
       "2              MEDICAL          C       5500          12.87            1   \n",
       "3              MEDICAL          C      35000          15.23            1   \n",
       "4              MEDICAL          C      35000          14.27            1   \n",
       "...                ...        ...        ...            ...          ...   \n",
       "32576         PERSONAL          C       5800          13.16            0   \n",
       "32577         PERSONAL          A      17625           7.49            0   \n",
       "32578  HOMEIMPROVEMENT          B      35000          10.99            1   \n",
       "32579         PERSONAL          B      15000          11.48            0   \n",
       "32580          MEDICAL          B       6475           9.99            0   \n",
       "\n",
       "       loan_percent_income cb_person_default_on_file  \\\n",
       "0                     0.59                         Y   \n",
       "1                     0.10                         N   \n",
       "2                     0.57                         N   \n",
       "3                     0.53                         N   \n",
       "4                     0.55                         Y   \n",
       "...                    ...                       ...   \n",
       "32576                 0.11                         N   \n",
       "32577                 0.15                         N   \n",
       "32578                 0.46                         N   \n",
       "32579                 0.10                         N   \n",
       "32580                 0.15                         N   \n",
       "\n",
       "       cb_person_cred_hist_length  \n",
       "0                               3  \n",
       "1                               2  \n",
       "2                               3  \n",
       "3                               2  \n",
       "4                               4  \n",
       "...                           ...  \n",
       "32576                          30  \n",
       "32577                          19  \n",
       "32578                          28  \n",
       "32579                          26  \n",
       "32580                          30  \n",
       "\n",
       "[32581 rows x 12 columns]"
      ]
     },
     "execution_count": 2,
     "metadata": {},
     "output_type": "execute_result"
    }
   ],
   "source": [
    "dados = pd.read_csv('credit.csv',encoding='latin1',sep=',')\n",
    "dados"
   ]
  },
  {
   "cell_type": "markdown",
   "metadata": {},
   "source": [
    "**São 32.581 linhas e 12 variáveis**"
   ]
  },
  {
   "cell_type": "markdown",
   "metadata": {},
   "source": [
    "Fonte: https://www.kaggle.com/laotse/credit-risk-dataset"
   ]
  },
  {
   "cell_type": "markdown",
   "metadata": {},
   "source": [
    "# Análise Exploratória"
   ]
  },
  {
   "cell_type": "code",
   "execution_count": 3,
   "metadata": {},
   "outputs": [
    {
     "name": "stdout",
     "output_type": "stream",
     "text": [
      "<class 'pandas.core.frame.DataFrame'>\n",
      "RangeIndex: 32581 entries, 0 to 32580\n",
      "Data columns (total 12 columns):\n",
      " #   Column                      Non-Null Count  Dtype  \n",
      "---  ------                      --------------  -----  \n",
      " 0   person_age                  32581 non-null  int64  \n",
      " 1   person_income               32581 non-null  int64  \n",
      " 2   person_home_ownership       32581 non-null  object \n",
      " 3   person_emp_length           31686 non-null  float64\n",
      " 4   loan_intent                 32581 non-null  object \n",
      " 5   loan_grade                  32581 non-null  object \n",
      " 6   loan_amnt                   32581 non-null  int64  \n",
      " 7   loan_int_rate               29465 non-null  float64\n",
      " 8   loan_status                 32581 non-null  int64  \n",
      " 9   loan_percent_income         32581 non-null  float64\n",
      " 10  cb_person_default_on_file   32581 non-null  object \n",
      " 11  cb_person_cred_hist_length  32581 non-null  int64  \n",
      "dtypes: float64(3), int64(5), object(4)\n",
      "memory usage: 3.0+ MB\n"
     ]
    }
   ],
   "source": [
    "#Tipo de dados\n",
    "dados.info()"
   ]
  },
  {
   "cell_type": "markdown",
   "metadata": {},
   "source": [
    "**Temos 4 variáveis categóricas e 8 numéricas**\n",
    "\n",
    "**OBS: A maioria dos algoritmos de Machine Learning não conseguem lidar com variáveis categóricas, então precisamos transforma-las em números (Dummies)**"
   ]
  },
  {
   "cell_type": "code",
   "execution_count": 4,
   "metadata": {},
   "outputs": [
    {
     "data": {
      "text/html": [
       "<div>\n",
       "<style scoped>\n",
       "    .dataframe tbody tr th:only-of-type {\n",
       "        vertical-align: middle;\n",
       "    }\n",
       "\n",
       "    .dataframe tbody tr th {\n",
       "        vertical-align: top;\n",
       "    }\n",
       "\n",
       "    .dataframe thead th {\n",
       "        text-align: right;\n",
       "    }\n",
       "</style>\n",
       "<table border=\"1\" class=\"dataframe\">\n",
       "  <thead>\n",
       "    <tr style=\"text-align: right;\">\n",
       "      <th></th>\n",
       "      <th>person_age</th>\n",
       "      <th>person_income</th>\n",
       "      <th>person_emp_length</th>\n",
       "      <th>loan_amnt</th>\n",
       "      <th>loan_int_rate</th>\n",
       "      <th>loan_status</th>\n",
       "      <th>loan_percent_income</th>\n",
       "      <th>cb_person_cred_hist_length</th>\n",
       "      <th>person_home_ownership_MORTGAGE</th>\n",
       "      <th>person_home_ownership_OTHER</th>\n",
       "      <th>...</th>\n",
       "      <th>loan_intent_VENTURE</th>\n",
       "      <th>loan_grade_A</th>\n",
       "      <th>loan_grade_B</th>\n",
       "      <th>loan_grade_C</th>\n",
       "      <th>loan_grade_D</th>\n",
       "      <th>loan_grade_E</th>\n",
       "      <th>loan_grade_F</th>\n",
       "      <th>loan_grade_G</th>\n",
       "      <th>cb_person_default_on_file_N</th>\n",
       "      <th>cb_person_default_on_file_Y</th>\n",
       "    </tr>\n",
       "  </thead>\n",
       "  <tbody>\n",
       "    <tr>\n",
       "      <th>0</th>\n",
       "      <td>22</td>\n",
       "      <td>59000</td>\n",
       "      <td>123.0</td>\n",
       "      <td>35000</td>\n",
       "      <td>16.02</td>\n",
       "      <td>1</td>\n",
       "      <td>0.59</td>\n",
       "      <td>3</td>\n",
       "      <td>0</td>\n",
       "      <td>0</td>\n",
       "      <td>...</td>\n",
       "      <td>0</td>\n",
       "      <td>0</td>\n",
       "      <td>0</td>\n",
       "      <td>0</td>\n",
       "      <td>1</td>\n",
       "      <td>0</td>\n",
       "      <td>0</td>\n",
       "      <td>0</td>\n",
       "      <td>0</td>\n",
       "      <td>1</td>\n",
       "    </tr>\n",
       "    <tr>\n",
       "      <th>1</th>\n",
       "      <td>21</td>\n",
       "      <td>9600</td>\n",
       "      <td>5.0</td>\n",
       "      <td>1000</td>\n",
       "      <td>11.14</td>\n",
       "      <td>0</td>\n",
       "      <td>0.10</td>\n",
       "      <td>2</td>\n",
       "      <td>0</td>\n",
       "      <td>0</td>\n",
       "      <td>...</td>\n",
       "      <td>0</td>\n",
       "      <td>0</td>\n",
       "      <td>1</td>\n",
       "      <td>0</td>\n",
       "      <td>0</td>\n",
       "      <td>0</td>\n",
       "      <td>0</td>\n",
       "      <td>0</td>\n",
       "      <td>1</td>\n",
       "      <td>0</td>\n",
       "    </tr>\n",
       "    <tr>\n",
       "      <th>2</th>\n",
       "      <td>25</td>\n",
       "      <td>9600</td>\n",
       "      <td>1.0</td>\n",
       "      <td>5500</td>\n",
       "      <td>12.87</td>\n",
       "      <td>1</td>\n",
       "      <td>0.57</td>\n",
       "      <td>3</td>\n",
       "      <td>1</td>\n",
       "      <td>0</td>\n",
       "      <td>...</td>\n",
       "      <td>0</td>\n",
       "      <td>0</td>\n",
       "      <td>0</td>\n",
       "      <td>1</td>\n",
       "      <td>0</td>\n",
       "      <td>0</td>\n",
       "      <td>0</td>\n",
       "      <td>0</td>\n",
       "      <td>1</td>\n",
       "      <td>0</td>\n",
       "    </tr>\n",
       "    <tr>\n",
       "      <th>3</th>\n",
       "      <td>23</td>\n",
       "      <td>65500</td>\n",
       "      <td>4.0</td>\n",
       "      <td>35000</td>\n",
       "      <td>15.23</td>\n",
       "      <td>1</td>\n",
       "      <td>0.53</td>\n",
       "      <td>2</td>\n",
       "      <td>0</td>\n",
       "      <td>0</td>\n",
       "      <td>...</td>\n",
       "      <td>0</td>\n",
       "      <td>0</td>\n",
       "      <td>0</td>\n",
       "      <td>1</td>\n",
       "      <td>0</td>\n",
       "      <td>0</td>\n",
       "      <td>0</td>\n",
       "      <td>0</td>\n",
       "      <td>1</td>\n",
       "      <td>0</td>\n",
       "    </tr>\n",
       "    <tr>\n",
       "      <th>4</th>\n",
       "      <td>24</td>\n",
       "      <td>54400</td>\n",
       "      <td>8.0</td>\n",
       "      <td>35000</td>\n",
       "      <td>14.27</td>\n",
       "      <td>1</td>\n",
       "      <td>0.55</td>\n",
       "      <td>4</td>\n",
       "      <td>0</td>\n",
       "      <td>0</td>\n",
       "      <td>...</td>\n",
       "      <td>0</td>\n",
       "      <td>0</td>\n",
       "      <td>0</td>\n",
       "      <td>1</td>\n",
       "      <td>0</td>\n",
       "      <td>0</td>\n",
       "      <td>0</td>\n",
       "      <td>0</td>\n",
       "      <td>0</td>\n",
       "      <td>1</td>\n",
       "    </tr>\n",
       "  </tbody>\n",
       "</table>\n",
       "<p>5 rows × 27 columns</p>\n",
       "</div>"
      ],
      "text/plain": [
       "   person_age  person_income  person_emp_length  loan_amnt  loan_int_rate  \\\n",
       "0          22          59000              123.0      35000          16.02   \n",
       "1          21           9600                5.0       1000          11.14   \n",
       "2          25           9600                1.0       5500          12.87   \n",
       "3          23          65500                4.0      35000          15.23   \n",
       "4          24          54400                8.0      35000          14.27   \n",
       "\n",
       "   loan_status  loan_percent_income  cb_person_cred_hist_length  \\\n",
       "0            1                 0.59                           3   \n",
       "1            0                 0.10                           2   \n",
       "2            1                 0.57                           3   \n",
       "3            1                 0.53                           2   \n",
       "4            1                 0.55                           4   \n",
       "\n",
       "   person_home_ownership_MORTGAGE  person_home_ownership_OTHER  ...  \\\n",
       "0                               0                            0  ...   \n",
       "1                               0                            0  ...   \n",
       "2                               1                            0  ...   \n",
       "3                               0                            0  ...   \n",
       "4                               0                            0  ...   \n",
       "\n",
       "   loan_intent_VENTURE  loan_grade_A  loan_grade_B  loan_grade_C  \\\n",
       "0                    0             0             0             0   \n",
       "1                    0             0             1             0   \n",
       "2                    0             0             0             1   \n",
       "3                    0             0             0             1   \n",
       "4                    0             0             0             1   \n",
       "\n",
       "   loan_grade_D  loan_grade_E  loan_grade_F  loan_grade_G  \\\n",
       "0             1             0             0             0   \n",
       "1             0             0             0             0   \n",
       "2             0             0             0             0   \n",
       "3             0             0             0             0   \n",
       "4             0             0             0             0   \n",
       "\n",
       "   cb_person_default_on_file_N  cb_person_default_on_file_Y  \n",
       "0                            0                            1  \n",
       "1                            1                            0  \n",
       "2                            1                            0  \n",
       "3                            1                            0  \n",
       "4                            0                            1  \n",
       "\n",
       "[5 rows x 27 columns]"
      ]
     },
     "execution_count": 4,
     "metadata": {},
     "output_type": "execute_result"
    }
   ],
   "source": [
    "#Transformar as variáveis object em numericas\n",
    "\n",
    "#Aplicar transformação nos dados\n",
    "dummies =  pd.get_dummies(dados[['person_home_ownership','loan_intent','loan_grade','cb_person_default_on_file']])\n",
    "\n",
    "#Excluir as variáveis object\n",
    "dados = dados.drop(['person_home_ownership','loan_intent','loan_grade','cb_person_default_on_file'],axis=1)\n",
    "\n",
    "#Juntar as variáveis dummies com dataset \n",
    "dados_transform = dados.join(dummies)\n",
    "\n",
    "#Dataset\n",
    "dados_transform.head(5)"
   ]
  },
  {
   "cell_type": "markdown",
   "metadata": {},
   "source": [
    "**Variáveis dummies adicionadas no dataset**"
   ]
  },
  {
   "cell_type": "code",
   "execution_count": 5,
   "metadata": {},
   "outputs": [
    {
     "name": "stdout",
     "output_type": "stream",
     "text": [
      "<class 'pandas.core.frame.DataFrame'>\n",
      "RangeIndex: 32581 entries, 0 to 32580\n",
      "Data columns (total 27 columns):\n",
      " #   Column                          Non-Null Count  Dtype  \n",
      "---  ------                          --------------  -----  \n",
      " 0   person_age                      32581 non-null  int64  \n",
      " 1   person_income                   32581 non-null  int64  \n",
      " 2   person_emp_length               31686 non-null  float64\n",
      " 3   loan_amnt                       32581 non-null  int64  \n",
      " 4   loan_int_rate                   29465 non-null  float64\n",
      " 5   loan_status                     32581 non-null  int64  \n",
      " 6   loan_percent_income             32581 non-null  float64\n",
      " 7   cb_person_cred_hist_length      32581 non-null  int64  \n",
      " 8   person_home_ownership_MORTGAGE  32581 non-null  uint8  \n",
      " 9   person_home_ownership_OTHER     32581 non-null  uint8  \n",
      " 10  person_home_ownership_OWN       32581 non-null  uint8  \n",
      " 11  person_home_ownership_RENT      32581 non-null  uint8  \n",
      " 12  loan_intent_DEBTCONSOLIDATION   32581 non-null  uint8  \n",
      " 13  loan_intent_EDUCATION           32581 non-null  uint8  \n",
      " 14  loan_intent_HOMEIMPROVEMENT     32581 non-null  uint8  \n",
      " 15  loan_intent_MEDICAL             32581 non-null  uint8  \n",
      " 16  loan_intent_PERSONAL            32581 non-null  uint8  \n",
      " 17  loan_intent_VENTURE             32581 non-null  uint8  \n",
      " 18  loan_grade_A                    32581 non-null  uint8  \n",
      " 19  loan_grade_B                    32581 non-null  uint8  \n",
      " 20  loan_grade_C                    32581 non-null  uint8  \n",
      " 21  loan_grade_D                    32581 non-null  uint8  \n",
      " 22  loan_grade_E                    32581 non-null  uint8  \n",
      " 23  loan_grade_F                    32581 non-null  uint8  \n",
      " 24  loan_grade_G                    32581 non-null  uint8  \n",
      " 25  cb_person_default_on_file_N     32581 non-null  uint8  \n",
      " 26  cb_person_default_on_file_Y     32581 non-null  uint8  \n",
      "dtypes: float64(3), int64(5), uint8(19)\n",
      "memory usage: 2.6 MB\n"
     ]
    }
   ],
   "source": [
    "#Tipos de variáveis\n",
    "dados_transform.info()"
   ]
  },
  {
   "cell_type": "markdown",
   "metadata": {},
   "source": [
    "**Agora todas as variáveis são numéricas**"
   ]
  },
  {
   "cell_type": "code",
   "execution_count": 6,
   "metadata": {},
   "outputs": [
    {
     "name": "stdout",
     "output_type": "stream",
     "text": [
      "Dados NaN = 4011\n",
      "Dados NaN após transformação = 0\n",
      "Tamanho do dataset após transformação = (28638, 27)\n"
     ]
    }
   ],
   "source": [
    "#Verificar dados NAN\n",
    "nan = dados_transform.isnull().values.sum()\n",
    "print(f'Dados NaN = {nan}')\n",
    "\n",
    "#Remover dados NaN\n",
    "dados_transform1 = pd.DataFrame(dados_transform.dropna(axis=0, how='any'))\n",
    "print(f'Dados NaN após transformação = {dados_transform1.isnull().values.sum()}')\n",
    "print(f'Tamanho do dataset após transformação = {dados_transform1.shape}')"
   ]
  },
  {
   "cell_type": "markdown",
   "metadata": {},
   "source": [
    "**Dataset sem valores NaN**"
   ]
  },
  {
   "cell_type": "markdown",
   "metadata": {},
   "source": [
    "## Pré-processamento dos dados"
   ]
  },
  {
   "cell_type": "code",
   "execution_count": 7,
   "metadata": {},
   "outputs": [
    {
     "data": {
      "text/html": [
       "<div>\n",
       "<style scoped>\n",
       "    .dataframe tbody tr th:only-of-type {\n",
       "        vertical-align: middle;\n",
       "    }\n",
       "\n",
       "    .dataframe tbody tr th {\n",
       "        vertical-align: top;\n",
       "    }\n",
       "\n",
       "    .dataframe thead th {\n",
       "        text-align: right;\n",
       "    }\n",
       "</style>\n",
       "<table border=\"1\" class=\"dataframe\">\n",
       "  <thead>\n",
       "    <tr style=\"text-align: right;\">\n",
       "      <th></th>\n",
       "      <th>person_age</th>\n",
       "      <th>person_income</th>\n",
       "      <th>person_emp_length</th>\n",
       "      <th>loan_amnt</th>\n",
       "      <th>loan_int_rate</th>\n",
       "      <th>loan_percent_income</th>\n",
       "      <th>cb_person_cred_hist_length</th>\n",
       "      <th>person_home_ownership_MORTGAGE</th>\n",
       "      <th>person_home_ownership_OTHER</th>\n",
       "      <th>person_home_ownership_OWN</th>\n",
       "      <th>...</th>\n",
       "      <th>loan_intent_VENTURE</th>\n",
       "      <th>loan_grade_A</th>\n",
       "      <th>loan_grade_B</th>\n",
       "      <th>loan_grade_C</th>\n",
       "      <th>loan_grade_D</th>\n",
       "      <th>loan_grade_E</th>\n",
       "      <th>loan_grade_F</th>\n",
       "      <th>loan_grade_G</th>\n",
       "      <th>cb_person_default_on_file_N</th>\n",
       "      <th>cb_person_default_on_file_Y</th>\n",
       "    </tr>\n",
       "  </thead>\n",
       "  <tbody>\n",
       "    <tr>\n",
       "      <th>0</th>\n",
       "      <td>-0.907594</td>\n",
       "      <td>-0.122674</td>\n",
       "      <td>28.453433</td>\n",
       "      <td>4.003984</td>\n",
       "      <td>1.542164</td>\n",
       "      <td>3.952527</td>\n",
       "      <td>-0.691791</td>\n",
       "      <td>-0.837196</td>\n",
       "      <td>-0.057386</td>\n",
       "      <td>-0.287899</td>\n",
       "      <td>...</td>\n",
       "      <td>-0.459973</td>\n",
       "      <td>-0.699122</td>\n",
       "      <td>-0.685270</td>\n",
       "      <td>-0.498439</td>\n",
       "      <td>2.795911</td>\n",
       "      <td>-0.177006</td>\n",
       "      <td>-0.085742</td>\n",
       "      <td>-0.045436</td>\n",
       "      <td>-2.147555</td>\n",
       "      <td>2.147555</td>\n",
       "    </tr>\n",
       "    <tr>\n",
       "      <th>1</th>\n",
       "      <td>-1.066064</td>\n",
       "      <td>-0.914907</td>\n",
       "      <td>0.050866</td>\n",
       "      <td>-1.367627</td>\n",
       "      <td>0.031008</td>\n",
       "      <td>-0.653141</td>\n",
       "      <td>-0.939413</td>\n",
       "      <td>-0.837196</td>\n",
       "      <td>-0.057386</td>\n",
       "      <td>3.473439</td>\n",
       "      <td>...</td>\n",
       "      <td>-0.459973</td>\n",
       "      <td>-0.699122</td>\n",
       "      <td>1.459279</td>\n",
       "      <td>-0.498439</td>\n",
       "      <td>-0.357665</td>\n",
       "      <td>-0.177006</td>\n",
       "      <td>-0.085742</td>\n",
       "      <td>-0.045436</td>\n",
       "      <td>0.465646</td>\n",
       "      <td>-0.465646</td>\n",
       "    </tr>\n",
       "    <tr>\n",
       "      <th>2</th>\n",
       "      <td>-0.432183</td>\n",
       "      <td>-0.914907</td>\n",
       "      <td>-0.911932</td>\n",
       "      <td>-0.656678</td>\n",
       "      <td>0.566725</td>\n",
       "      <td>3.764540</td>\n",
       "      <td>-0.691791</td>\n",
       "      <td>1.194464</td>\n",
       "      <td>-0.057386</td>\n",
       "      <td>-0.287899</td>\n",
       "      <td>...</td>\n",
       "      <td>-0.459973</td>\n",
       "      <td>-0.699122</td>\n",
       "      <td>-0.685270</td>\n",
       "      <td>2.006263</td>\n",
       "      <td>-0.357665</td>\n",
       "      <td>-0.177006</td>\n",
       "      <td>-0.085742</td>\n",
       "      <td>-0.045436</td>\n",
       "      <td>0.465646</td>\n",
       "      <td>-0.465646</td>\n",
       "    </tr>\n",
       "    <tr>\n",
       "      <th>3</th>\n",
       "      <td>-0.749123</td>\n",
       "      <td>-0.018433</td>\n",
       "      <td>-0.189833</td>\n",
       "      <td>4.003984</td>\n",
       "      <td>1.297530</td>\n",
       "      <td>3.388567</td>\n",
       "      <td>-0.939413</td>\n",
       "      <td>-0.837196</td>\n",
       "      <td>-0.057386</td>\n",
       "      <td>-0.287899</td>\n",
       "      <td>...</td>\n",
       "      <td>-0.459973</td>\n",
       "      <td>-0.699122</td>\n",
       "      <td>-0.685270</td>\n",
       "      <td>2.006263</td>\n",
       "      <td>-0.357665</td>\n",
       "      <td>-0.177006</td>\n",
       "      <td>-0.085742</td>\n",
       "      <td>-0.045436</td>\n",
       "      <td>0.465646</td>\n",
       "      <td>-0.465646</td>\n",
       "    </tr>\n",
       "    <tr>\n",
       "      <th>4</th>\n",
       "      <td>-0.590653</td>\n",
       "      <td>-0.196445</td>\n",
       "      <td>0.772966</td>\n",
       "      <td>4.003984</td>\n",
       "      <td>1.000253</td>\n",
       "      <td>3.576554</td>\n",
       "      <td>-0.444169</td>\n",
       "      <td>-0.837196</td>\n",
       "      <td>-0.057386</td>\n",
       "      <td>-0.287899</td>\n",
       "      <td>...</td>\n",
       "      <td>-0.459973</td>\n",
       "      <td>-0.699122</td>\n",
       "      <td>-0.685270</td>\n",
       "      <td>2.006263</td>\n",
       "      <td>-0.357665</td>\n",
       "      <td>-0.177006</td>\n",
       "      <td>-0.085742</td>\n",
       "      <td>-0.045436</td>\n",
       "      <td>-2.147555</td>\n",
       "      <td>2.147555</td>\n",
       "    </tr>\n",
       "  </tbody>\n",
       "</table>\n",
       "<p>5 rows × 26 columns</p>\n",
       "</div>"
      ],
      "text/plain": [
       "   person_age  person_income  person_emp_length  loan_amnt  loan_int_rate  \\\n",
       "0   -0.907594      -0.122674          28.453433   4.003984       1.542164   \n",
       "1   -1.066064      -0.914907           0.050866  -1.367627       0.031008   \n",
       "2   -0.432183      -0.914907          -0.911932  -0.656678       0.566725   \n",
       "3   -0.749123      -0.018433          -0.189833   4.003984       1.297530   \n",
       "4   -0.590653      -0.196445           0.772966   4.003984       1.000253   \n",
       "\n",
       "   loan_percent_income  cb_person_cred_hist_length  \\\n",
       "0             3.952527                   -0.691791   \n",
       "1            -0.653141                   -0.939413   \n",
       "2             3.764540                   -0.691791   \n",
       "3             3.388567                   -0.939413   \n",
       "4             3.576554                   -0.444169   \n",
       "\n",
       "   person_home_ownership_MORTGAGE  person_home_ownership_OTHER  \\\n",
       "0                       -0.837196                    -0.057386   \n",
       "1                       -0.837196                    -0.057386   \n",
       "2                        1.194464                    -0.057386   \n",
       "3                       -0.837196                    -0.057386   \n",
       "4                       -0.837196                    -0.057386   \n",
       "\n",
       "   person_home_ownership_OWN  ...  loan_intent_VENTURE  loan_grade_A  \\\n",
       "0                  -0.287899  ...            -0.459973     -0.699122   \n",
       "1                   3.473439  ...            -0.459973     -0.699122   \n",
       "2                  -0.287899  ...            -0.459973     -0.699122   \n",
       "3                  -0.287899  ...            -0.459973     -0.699122   \n",
       "4                  -0.287899  ...            -0.459973     -0.699122   \n",
       "\n",
       "   loan_grade_B  loan_grade_C  loan_grade_D  loan_grade_E  loan_grade_F  \\\n",
       "0     -0.685270     -0.498439      2.795911     -0.177006     -0.085742   \n",
       "1      1.459279     -0.498439     -0.357665     -0.177006     -0.085742   \n",
       "2     -0.685270      2.006263     -0.357665     -0.177006     -0.085742   \n",
       "3     -0.685270      2.006263     -0.357665     -0.177006     -0.085742   \n",
       "4     -0.685270      2.006263     -0.357665     -0.177006     -0.085742   \n",
       "\n",
       "   loan_grade_G  cb_person_default_on_file_N  cb_person_default_on_file_Y  \n",
       "0     -0.045436                    -2.147555                     2.147555  \n",
       "1     -0.045436                     0.465646                    -0.465646  \n",
       "2     -0.045436                     0.465646                    -0.465646  \n",
       "3     -0.045436                     0.465646                    -0.465646  \n",
       "4     -0.045436                    -2.147555                     2.147555  \n",
       "\n",
       "[5 rows x 26 columns]"
      ]
     },
     "execution_count": 7,
     "metadata": {},
     "output_type": "execute_result"
    }
   ],
   "source": [
    "# Coloca todos os dados na mesma escala\n",
    "import warnings\n",
    "warnings.filterwarnings('ignore')\n",
    "\n",
    "col = dados_transform1.columns\n",
    "dados_scale = pd.DataFrame(scale(dados_transform1),columns=col)\n",
    "dados_scale_x = dados_scale.drop('loan_status', 1) # Apenas Variaveis Explicativas\n",
    "dados_scale_y = dados_transform1.loan_status # Variavel Target\n",
    "dados_scale_x.head(5)"
   ]
  },
  {
   "cell_type": "markdown",
   "metadata": {},
   "source": [
    "**Não é necessário a padronização dos dados**"
   ]
  },
  {
   "cell_type": "markdown",
   "metadata": {},
   "source": [
    "# Modelagem:"
   ]
  },
  {
   "cell_type": "code",
   "execution_count": 8,
   "metadata": {},
   "outputs": [],
   "source": [
    "#Divisão dos dados \n",
    "from sklearn.model_selection import train_test_split\n",
    "X_train, X_test, y_train, y_test = train_test_split(dados_scale_x,dados_scale_y,test_size=0.3,random_state=1)"
   ]
  },
  {
   "cell_type": "markdown",
   "metadata": {},
   "source": [
    "**Divisão dos dados de treino e teste**"
   ]
  },
  {
   "cell_type": "markdown",
   "metadata": {},
   "source": [
    "# Bagging:"
   ]
  },
  {
   "cell_type": "markdown",
   "metadata": {},
   "source": [
    "## Random Forest"
   ]
  },
  {
   "cell_type": "code",
   "execution_count": 9,
   "metadata": {},
   "outputs": [],
   "source": [
    "from sklearn.ensemble import RandomForestClassifier"
   ]
  },
  {
   "cell_type": "code",
   "execution_count": 10,
   "metadata": {},
   "outputs": [],
   "source": [
    "# Construção do Classificador\n",
    "Rforest = RandomForestClassifier(random_state = 1,bootstrap=True)"
   ]
  },
  {
   "cell_type": "code",
   "execution_count": 11,
   "metadata": {},
   "outputs": [
    {
     "name": "stdout",
     "output_type": "stream",
     "text": [
      "Score dados de treino: 1.0\n"
     ]
    }
   ],
   "source": [
    "#Treinar o modelo com os dados de treino\n",
    "modelo_RForest = Rforest.fit(X_train, y_train)\n",
    "ac_RForest_score =modelo_RForest.score(X_train,y_train)\n",
    "print(f'Score dados de treino: {ac_RForest_score}')"
   ]
  },
  {
   "cell_type": "markdown",
   "metadata": {},
   "source": [
    "**Todas os dados foram classificados corretamente, dados provavelmente está sofrende de overfitting**"
   ]
  },
  {
   "cell_type": "code",
   "execution_count": 12,
   "metadata": {},
   "outputs": [
    {
     "data": {
      "text/plain": [
       "0.932505487777562"
      ]
     },
     "execution_count": 12,
     "metadata": {},
     "output_type": "execute_result"
    }
   ],
   "source": [
    "# Score do modelo\n",
    "scores = cross_val_score(modelo_RForest, X_train, y_train,cv=10)\n",
    "# Média do score\n",
    "scores.mean()"
   ]
  },
  {
   "cell_type": "markdown",
   "metadata": {},
   "source": [
    "**Dividindo os dados de treino em 10 amostras, os acertos das previsões cairam para 93%**"
   ]
  },
  {
   "cell_type": "code",
   "execution_count": 13,
   "metadata": {},
   "outputs": [
    {
     "name": "stdout",
     "output_type": "stream",
     "text": [
      "Score dados de teste: 0.9335428305400373\n"
     ]
    }
   ],
   "source": [
    "#Score do modelo com os dados de teste\n",
    "Rforest_score = modelo_RForest.score(X_test,y_test)\n",
    "print(f'Score dados de teste: {Rforest_score}')"
   ]
  },
  {
   "cell_type": "markdown",
   "metadata": {},
   "source": [
    "**Score dos dados de teste**"
   ]
  },
  {
   "cell_type": "markdown",
   "metadata": {},
   "source": [
    "## Extremely Randomized Trees (ExtraTrees)"
   ]
  },
  {
   "cell_type": "code",
   "execution_count": 14,
   "metadata": {},
   "outputs": [],
   "source": [
    "from sklearn.ensemble import ExtraTreesClassifier"
   ]
  },
  {
   "cell_type": "code",
   "execution_count": 15,
   "metadata": {},
   "outputs": [],
   "source": [
    "# Construção do Classificador\n",
    "ExtraTrees = ExtraTreesClassifier(min_samples_split = 2, random_state = 1)"
   ]
  },
  {
   "cell_type": "code",
   "execution_count": 16,
   "metadata": {},
   "outputs": [
    {
     "name": "stdout",
     "output_type": "stream",
     "text": [
      "Score dados de treino: 1.0\n"
     ]
    }
   ],
   "source": [
    "#Treinar o modelo com os dados de treino\n",
    "modelo_ExtraTrees = ExtraTrees.fit(X_train, y_train)\n",
    "\n",
    "print(f'Score dados de treino: {modelo_ExtraTrees.score(X_train,y_train)}')"
   ]
  },
  {
   "cell_type": "markdown",
   "metadata": {},
   "source": [
    "**Todas os dados foram classificados corretamente, dados provavelmente está sofrendo de overfitting**"
   ]
  },
  {
   "cell_type": "code",
   "execution_count": 17,
   "metadata": {},
   "outputs": [
    {
     "data": {
      "text/plain": [
       "0.917589708363821"
      ]
     },
     "execution_count": 17,
     "metadata": {},
     "output_type": "execute_result"
    }
   ],
   "source": [
    "# Score do modelo\n",
    "scores = cross_val_score(modelo_ExtraTrees, X_train, y_train,cv=10)\n",
    "# Média do score\n",
    "scores.mean()"
   ]
  },
  {
   "cell_type": "markdown",
   "metadata": {},
   "source": [
    "**Dividindo os dados de treino em 10 amostras, os acertos das previsões caíram para 91%**"
   ]
  },
  {
   "cell_type": "code",
   "execution_count": 18,
   "metadata": {},
   "outputs": [
    {
     "name": "stdout",
     "output_type": "stream",
     "text": [
      "Score dados de teste: 0.9205074487895717\n"
     ]
    }
   ],
   "source": [
    "#Score do modelo com os dados de teste\n",
    "ExtraTrees_score = modelo_ExtraTrees.score(X_test,y_test)\n",
    "print(f'Score dados de teste: {ExtraTrees_score}')"
   ]
  },
  {
   "cell_type": "markdown",
   "metadata": {},
   "source": [
    "**Score dos dados de teste**"
   ]
  },
  {
   "cell_type": "markdown",
   "metadata": {},
   "source": [
    "## Adaboost - RandomForestClassifier"
   ]
  },
  {
   "cell_type": "code",
   "execution_count": 20,
   "metadata": {},
   "outputs": [],
   "source": [
    "from sklearn.ensemble import AdaBoostClassifier"
   ]
  },
  {
   "cell_type": "code",
   "execution_count": 21,
   "metadata": {},
   "outputs": [],
   "source": [
    "# Construção do Classificador\n",
    "AdaBoost_random_f = AdaBoostClassifier(base_estimator = RandomForestClassifier(), \n",
    "                                learning_rate = 0.1, \n",
    "                                n_estimators = 400, \n",
    "                                algorithm = \"SAMME\",\n",
    "                                random_state=1)"
   ]
  },
  {
   "cell_type": "code",
   "execution_count": 22,
   "metadata": {},
   "outputs": [
    {
     "name": "stdout",
     "output_type": "stream",
     "text": [
      "Score dados de treino: 1.0\n"
     ]
    }
   ],
   "source": [
    "#Treinar o modelo com os dados de treino\n",
    "modelo_AdaBoost2 =  AdaBoost_random_f.fit(X_train, y_train)\n",
    "\n",
    "print(f'Score dados de treino: {modelo_AdaBoost2.score(X_train,y_train)}')"
   ]
  },
  {
   "cell_type": "markdown",
   "metadata": {},
   "source": [
    "**Todas os dados foram classificados corretamente, dados provavelmente está sofrendo de overfitting**"
   ]
  },
  {
   "cell_type": "code",
   "execution_count": 23,
   "metadata": {},
   "outputs": [
    {
     "data": {
      "text/plain": [
       "0.9324057122662406"
      ]
     },
     "execution_count": 23,
     "metadata": {},
     "output_type": "execute_result"
    }
   ],
   "source": [
    "# Score do modelo\n",
    "scores2 = cross_val_score(modelo_AdaBoost2, X_train, y_train,cv=10)\n",
    "# Média do score\n",
    "scores2.mean()"
   ]
  },
  {
   "cell_type": "markdown",
   "metadata": {},
   "source": [
    "**Dividindo os dados de treino em 10 amostras, os acertos das previsões caíram para 93%**"
   ]
  },
  {
   "cell_type": "code",
   "execution_count": 24,
   "metadata": {},
   "outputs": [
    {
     "name": "stdout",
     "output_type": "stream",
     "text": [
      "Score dados de teste: 0.9343575418994413\n"
     ]
    }
   ],
   "source": [
    "#Score do modelo com os dados de teste\n",
    "AdaBoost_score2= modelo_AdaBoost2.score(X_test,y_test)\n",
    "print(f'Score dados de teste: {AdaBoost_score2}')"
   ]
  },
  {
   "cell_type": "markdown",
   "metadata": {},
   "source": [
    "**Score dos dados de teste**"
   ]
  },
  {
   "cell_type": "markdown",
   "metadata": {},
   "source": [
    "## Gradient Boosting"
   ]
  },
  {
   "cell_type": "code",
   "execution_count": 25,
   "metadata": {},
   "outputs": [],
   "source": [
    "from sklearn.ensemble import GradientBoostingClassifier"
   ]
  },
  {
   "cell_type": "code",
   "execution_count": 26,
   "metadata": {},
   "outputs": [],
   "source": [
    "# Construção do Classificador\n",
    "GradientBoosting = GradientBoostingClassifier(min_samples_split = 2, learning_rate=0.1, max_depth=8,random_state = 1)"
   ]
  },
  {
   "cell_type": "code",
   "execution_count": 27,
   "metadata": {},
   "outputs": [
    {
     "name": "stdout",
     "output_type": "stream",
     "text": [
      "Score dados de treino: 0.9675745784695201\n"
     ]
    }
   ],
   "source": [
    "#Treinar o modelo com os dados de treino\n",
    "modelo_GradientBoosting = GradientBoosting.fit(X_train, y_train)\n",
    "\n",
    "print(f'Score dados de treino: {modelo_GradientBoosting.score(X_train,y_train)}')"
   ]
  },
  {
   "cell_type": "markdown",
   "metadata": {},
   "source": [
    "**Como o Gradient Boosting otimiza a função de perda e não corrigir erros ao longo do processo, ele não sofre de overfitting, portanto ele não acerta todas as previsões como os outros algoritmos**"
   ]
  },
  {
   "cell_type": "code",
   "execution_count": 28,
   "metadata": {},
   "outputs": [
    {
     "data": {
      "text/plain": [
       "0.92513443377591"
      ]
     },
     "execution_count": 28,
     "metadata": {},
     "output_type": "execute_result"
    }
   ],
   "source": [
    "# Score do modelo\n",
    "scores = cross_val_score(modelo_GradientBoosting, dados_scale_x, dados_scale_y)\n",
    "# Média do score\n",
    "mean = scores.mean();mean"
   ]
  },
  {
   "cell_type": "markdown",
   "metadata": {},
   "source": [
    "**Dividindo os dados de treino em 10 amostras, os acertos das previsões caíram para 92%**"
   ]
  },
  {
   "cell_type": "code",
   "execution_count": 29,
   "metadata": {},
   "outputs": [
    {
     "name": "stdout",
     "output_type": "stream",
     "text": [
      "Score dados de teste: 0.9361033519553073\n"
     ]
    }
   ],
   "source": [
    "#Score do modelo com os dados de teste\n",
    "GradientBoosting_score = modelo_GradientBoosting.score(X_test,y_test)\n",
    "print(f'Score dados de teste: {GradientBoosting_score}')"
   ]
  },
  {
   "cell_type": "markdown",
   "metadata": {},
   "source": [
    "**Score dos dados de teste**"
   ]
  },
  {
   "cell_type": "markdown",
   "metadata": {},
   "source": [
    "## XGBClassifier"
   ]
  },
  {
   "cell_type": "code",
   "execution_count": 30,
   "metadata": {},
   "outputs": [],
   "source": [
    "from xgboost import XGBClassifier"
   ]
  },
  {
   "cell_type": "code",
   "execution_count": 31,
   "metadata": {},
   "outputs": [],
   "source": [
    "# Construção do Classificador\n",
    "Model_XGBClassifier= GradientBoostingClassifier(min_samples_split = 2,learning_rate=0.1, max_depth=8,random_state = 1)"
   ]
  },
  {
   "cell_type": "code",
   "execution_count": 32,
   "metadata": {},
   "outputs": [
    {
     "name": "stdout",
     "output_type": "stream",
     "text": [
      "Score dados de treino: 0.9675745784695201\n"
     ]
    }
   ],
   "source": [
    "#Treinar o modelo com os dados de treino\n",
    "Model_XGBClassifier.fit(X_train, y_train)\n",
    "Model_XGBClassifier.score(X_train,y_train)\n",
    "print(f'Score dados de treino: {Model_XGBClassifier.score(X_train,y_train)}')"
   ]
  },
  {
   "cell_type": "markdown",
   "metadata": {},
   "source": [
    "**Assim como o Gradient Boosting o algoritmo otimiza a função de perda e não corrigir erros ao longo do processo, portanto não sofre de overfitting**"
   ]
  },
  {
   "cell_type": "code",
   "execution_count": 33,
   "metadata": {},
   "outputs": [
    {
     "data": {
      "text/plain": [
       "0.92513443377591"
      ]
     },
     "execution_count": 33,
     "metadata": {},
     "output_type": "execute_result"
    }
   ],
   "source": [
    "# Score do modelo\n",
    "scores = cross_val_score(Model_XGBClassifier, dados_scale_x, dados_scale_y)\n",
    "# Média do score\n",
    "mean = scores.mean();mean"
   ]
  },
  {
   "cell_type": "markdown",
   "metadata": {},
   "source": [
    "**Dividindo os dados de treino em 10 amostras, os acertos das previsões caíram para 92%**"
   ]
  },
  {
   "cell_type": "code",
   "execution_count": 34,
   "metadata": {},
   "outputs": [
    {
     "name": "stdout",
     "output_type": "stream",
     "text": [
      "Score dados de teste: 0.9361033519553073\n"
     ]
    }
   ],
   "source": [
    "#Score do modelo com os dados de teste\n",
    "XGBClassifier_score = Model_XGBClassifier.score(X_test,y_test)\n",
    "print(f'Score dados de teste: {XGBClassifier_score}')"
   ]
  },
  {
   "cell_type": "markdown",
   "metadata": {},
   "source": [
    "**Score dos dados de teste**"
   ]
  },
  {
   "cell_type": "markdown",
   "metadata": {},
   "source": [
    "# Comparar todos os modelos - Base de teste"
   ]
  },
  {
   "cell_type": "code",
   "execution_count": 35,
   "metadata": {},
   "outputs": [
    {
     "data": {
      "image/png": "[encoded data removed]",
      "text/plain": [
       "<Figure size 432x288 with 1 Axes>"
      ]
     },
     "metadata": {
      "needs_background": "light"
     },
     "output_type": "display_data"
    }
   ],
   "source": [
    "#Criar um dataset com os valores dos scores dos modelos com os dados de teste\n",
    "scores = pd.DataFrame([Rforest_score,ExtraTrees_score,AdaBoost_score2,\n",
    "                       GradientBoosting_score,XGBClassifier_score])\n",
    "\n",
    "scores['columns1'] =  ['RandomForest_score','ExtraTrees_score',\"AdaBoost_RF_score\",\n",
    "                       'GradientBoosting_score','XGBClassifier_score']\n",
    "\n",
    "scores.columns = ['Scores_Teste','Modelos']\n",
    "\n",
    "#Plotar os scores dos modelos\n",
    "import matplotlib.pyplot as plt\n",
    "plt.barh(scores.Modelos,scores['Scores_Teste']);\n",
    "plt.xlabel('Valores dos Scores');"
   ]
  },
  {
   "cell_type": "code",
   "execution_count": 36,
   "metadata": {},
   "outputs": [
    {
     "data": {
      "text/html": [
       "<div>\n",
       "<style scoped>\n",
       "    .dataframe tbody tr th:only-of-type {\n",
       "        vertical-align: middle;\n",
       "    }\n",
       "\n",
       "    .dataframe tbody tr th {\n",
       "        vertical-align: top;\n",
       "    }\n",
       "\n",
       "    .dataframe thead th {\n",
       "        text-align: right;\n",
       "    }\n",
       "</style>\n",
       "<table border=\"1\" class=\"dataframe\">\n",
       "  <thead>\n",
       "    <tr style=\"text-align: right;\">\n",
       "      <th></th>\n",
       "      <th>Scores_Teste</th>\n",
       "      <th>Modelos</th>\n",
       "    </tr>\n",
       "  </thead>\n",
       "  <tbody>\n",
       "    <tr>\n",
       "      <th>0</th>\n",
       "      <td>0.933543</td>\n",
       "      <td>RandomForest_score</td>\n",
       "    </tr>\n",
       "    <tr>\n",
       "      <th>1</th>\n",
       "      <td>0.920507</td>\n",
       "      <td>ExtraTrees_score</td>\n",
       "    </tr>\n",
       "    <tr>\n",
       "      <th>2</th>\n",
       "      <td>0.934358</td>\n",
       "      <td>AdaBoost_RF_score</td>\n",
       "    </tr>\n",
       "    <tr>\n",
       "      <th>3</th>\n",
       "      <td>0.936103</td>\n",
       "      <td>GradientBoosting_score</td>\n",
       "    </tr>\n",
       "    <tr>\n",
       "      <th>4</th>\n",
       "      <td>0.936103</td>\n",
       "      <td>XGBClassifier_score</td>\n",
       "    </tr>\n",
       "  </tbody>\n",
       "</table>\n",
       "</div>"
      ],
      "text/plain": [
       "   Scores_Teste                 Modelos\n",
       "0      0.933543      RandomForest_score\n",
       "1      0.920507        ExtraTrees_score\n",
       "2      0.934358       AdaBoost_RF_score\n",
       "3      0.936103  GradientBoosting_score\n",
       "4      0.936103     XGBClassifier_score"
      ]
     },
     "execution_count": 36,
     "metadata": {},
     "output_type": "execute_result"
    }
   ],
   "source": [
    "#Valor dos Scores dos modelos \n",
    "scores"
   ]
  },
  {
   "cell_type": "markdown",
   "metadata": {},
   "source": [
    "**De modo geral não há grande diferença entre os modelos bagging e boosting para esse conjunto de dados**"
   ]
  },
  {
   "cell_type": "markdown",
   "metadata": {},
   "source": [
    "# Conclusão:"
   ]
  },
  {
   "cell_type": "markdown",
   "metadata": {},
   "source": [
    "**Nesse estudo o objetivo foi mostrar como funciona os modelos ensemble e seus algoritmos, qual a influência de um modelo bagging e boosting no resultado final. Não focamos na parametrização dos algoritmos, pois com ele poderíamos ter resultados ainda mais expressivos**"
   ]
  }
 ],
 "metadata": {
  "anaconda-cloud": {},
  "kernelspec": {
   "display_name": "Python 3 (ipykernel)",
   "language": "python",
   "name": "python3"
  },
  "language_info": {
   "codemirror_mode": {
    "name": "ipython",
    "version": 3
   },
   "file_extension": ".py",
   "mimetype": "text/x-python",
   "name": "python",
   "nbconvert_exporter": "python",
   "pygments_lexer": "ipython3",
   "version": "3.9.12"
  }
 },
 "nbformat": 4,
 "nbformat_minor": 1
}
