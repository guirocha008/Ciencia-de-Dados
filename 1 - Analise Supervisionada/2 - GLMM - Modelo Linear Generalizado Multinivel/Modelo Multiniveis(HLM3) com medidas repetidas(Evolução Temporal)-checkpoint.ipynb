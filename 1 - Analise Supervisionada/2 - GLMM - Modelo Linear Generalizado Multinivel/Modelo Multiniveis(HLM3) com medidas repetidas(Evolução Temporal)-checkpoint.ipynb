{
 "cells": [
  {
   "cell_type": "markdown",
   "metadata": {},
   "source": [
    "# $$GLMM:~Modelos ~Multiníveis(HLM3)~com~ medidas~repetidas$$"
   ]
  },
  {
   "cell_type": "markdown",
   "metadata": {},
   "source": [
    "### $$Conceito:$$\n",
    "\n",
    "\n",
    "São modelos que reconhecem a existência de **estrutura multinível ou hierárquica nos dados**\n",
    "\n",
    "\n",
    "\n",
    "**Modelo GLM derivam do modelo GLMM**, portanto qualquer modelo GLM pode ser implantado no GLMM caso tenha níveis\n",
    "\n",
    "\n",
    "**GLMM** Captura o comportamento Heterocedastico (Efeitos Aleatórios) e Multicolineares (Efeitos Fixos) das variáveis\n",
    "\n",
    "\n",
    "Caso não tenho grupos definidos para analise multinível, pode fazer uma **análise de cluster para encontrar os grupos**\n",
    "\n",
    "\n",
    "**Variáveis dummies** só mudam o intercepto, não leva em consideração a inclinação da reta\n",
    "\n",
    "\n",
    "\n",
    "### $$Sinonimos~de~modelos~ GLMM:$$\n",
    "\n",
    "- **Mixed Models**\n",
    "- **GLLAMM (Latent)**\n",
    "- **Hierárquicos (HLM)**\n",
    "- **Nested Moedels (Aninhados)**\n",
    "- **RCM (Random Coefficients Modeling)**\n",
    "\n",
    "\n",
    "\n",
    "### $$Variância~dos~Termos~ Aleatórios:$$\n",
    "\n",
    "\n",
    "Se as variâncias dos termos aleatórios de **intercepto ou inclinação** forem estatisticamente **diferentes de zero**, procedimentos tradicionais de estimação dos **parâmetros do modelo (OLS)**, como **mínimos quadrados ordinários, não serão adequados**\n",
    "\n",
    "\n",
    "\n",
    "### $$Dummies:$$\n",
    "\n",
    "\n",
    "Apenas a inserção de dummies de grupo não capturaria os efeitos de inclinação e sim apenas os efeitos de intercepto, de modo que não permitiria que se separassem os efeitos observáveis (Variáveis explicativas) dos não observáveis (Variáveis latentes), caso não tenha grupos diretamente observáveis sobre a variável dependente\n",
    "\n",
    "\n",
    "\n",
    "### $$Estratégia~ Step-Up:$$\n",
    "\n",
    "\n",
    "- **Não existe Step-wise para extrair parâmetros nos modelos Multiníveis, temos que fazer o passo a passo(Step-Up), inserindo estágios de efeitos aleatórios a cada modelagem:**\n",
    "\n",
    "\n",
    "- **1° Modelo nulo** = Analisa se há efeito aleatório no intercepto, nível 1 variável target, nível 2 variáveis que pode dar aleatoriedade no intercepto\n",
    "\n",
    "\n",
    "- **2° Modelo com Interceptos aleatórios** = Sabendo que existe efeitos aleatórios no intercepto(Nível 2), adicionamos variáveis no nível 1 para saber se existe efeitos aleatórios de inclinação no nível 2\n",
    "\n",
    "\n",
    "- **3° Modelos com Interceptos e Inclinações aleatórias** = Agora que já sabemos que existe aleatoriedade tanto no intercepto quanto na inclinação, adicionamos variável/s de efeito aleatório de inclinação no nível 2\n",
    "\n",
    "\n",
    "- **4° Demais Modelos** = Ir adicionando variáveis no nível 1 ou nível 2 e verificar se são estatisticamente significantes para a modelagem\n",
    "\n",
    "\n"
   ]
  },
  {
   "cell_type": "markdown",
   "metadata": {},
   "source": [
    "__------------------------------------------------------------------------------------------------------------------------------------------------------------------------------------------------------------------__\n",
    "\n",
    "\n",
    "__------------------------------------------------------------------------------------------------------------------------------------------------------------------------------------------------------------------__"
   ]
  },
  {
   "cell_type": "markdown",
   "metadata": {},
   "source": [
    "## $$Objetivo:$$  \n",
    "\n",
    "## $$Criar~o~modelo~Multinível(HLM3)~com~evolução~temporal$$"
   ]
  },
  {
   "cell_type": "markdown",
   "metadata": {},
   "source": [
    "__------------------------------------------------------------------------------------------------------------------------------------------------------------------------------------------------------------------__\n",
    "\n",
    "\n",
    "__------------------------------------------------------------------------------------------------------------------------------------------------------------------------------------------------------------------__"
   ]
  },
  {
   "cell_type": "code",
   "execution_count": 29,
   "metadata": {},
   "outputs": [],
   "source": [
    "#Pacotes\n",
    "import multilevel_py\n",
    "import seaborn as sns\n",
    "import pandas as pd\n",
    "import numpy as np\n",
    "import matplotlib.pyplot as plt"
   ]
  },
  {
   "cell_type": "markdown",
   "metadata": {},
   "source": [
    "# Banco de dados "
   ]
  },
  {
   "cell_type": "code",
   "execution_count": 28,
   "metadata": {},
   "outputs": [
    {
     "data": {
      "text/html": [
       "<div>\n",
       "<style scoped>\n",
       "    .dataframe tbody tr th:only-of-type {\n",
       "        vertical-align: middle;\n",
       "    }\n",
       "\n",
       "    .dataframe tbody tr th {\n",
       "        vertical-align: top;\n",
       "    }\n",
       "\n",
       "    .dataframe thead th {\n",
       "        text-align: right;\n",
       "    }\n",
       "</style>\n",
       "<table border=\"1\" class=\"dataframe\">\n",
       "  <thead>\n",
       "    <tr style=\"text-align: right;\">\n",
       "      <th></th>\n",
       "      <th>escola</th>\n",
       "      <th>estudante</th>\n",
       "      <th>mes</th>\n",
       "      <th>desempenho</th>\n",
       "      <th>ativ</th>\n",
       "      <th>texp</th>\n",
       "    </tr>\n",
       "  </thead>\n",
       "  <tbody>\n",
       "    <tr>\n",
       "      <th>0</th>\n",
       "      <td>1</td>\n",
       "      <td>1</td>\n",
       "      <td>1</td>\n",
       "      <td>35.400002</td>\n",
       "      <td>não</td>\n",
       "      <td>2</td>\n",
       "    </tr>\n",
       "    <tr>\n",
       "      <th>1</th>\n",
       "      <td>1</td>\n",
       "      <td>1</td>\n",
       "      <td>2</td>\n",
       "      <td>44.400002</td>\n",
       "      <td>não</td>\n",
       "      <td>2</td>\n",
       "    </tr>\n",
       "    <tr>\n",
       "      <th>2</th>\n",
       "      <td>1</td>\n",
       "      <td>1</td>\n",
       "      <td>3</td>\n",
       "      <td>46.400002</td>\n",
       "      <td>não</td>\n",
       "      <td>2</td>\n",
       "    </tr>\n",
       "    <tr>\n",
       "      <th>3</th>\n",
       "      <td>1</td>\n",
       "      <td>1</td>\n",
       "      <td>4</td>\n",
       "      <td>52.400002</td>\n",
       "      <td>não</td>\n",
       "      <td>2</td>\n",
       "    </tr>\n",
       "    <tr>\n",
       "      <th>4</th>\n",
       "      <td>1</td>\n",
       "      <td>2</td>\n",
       "      <td>1</td>\n",
       "      <td>74.900002</td>\n",
       "      <td>não</td>\n",
       "      <td>2</td>\n",
       "    </tr>\n",
       "    <tr>\n",
       "      <th>...</th>\n",
       "      <td>...</td>\n",
       "      <td>...</td>\n",
       "      <td>...</td>\n",
       "      <td>...</td>\n",
       "      <td>...</td>\n",
       "      <td>...</td>\n",
       "    </tr>\n",
       "    <tr>\n",
       "      <th>2435</th>\n",
       "      <td>15</td>\n",
       "      <td>609</td>\n",
       "      <td>4</td>\n",
       "      <td>100.000000</td>\n",
       "      <td>sim</td>\n",
       "      <td>9</td>\n",
       "    </tr>\n",
       "    <tr>\n",
       "      <th>2436</th>\n",
       "      <td>15</td>\n",
       "      <td>610</td>\n",
       "      <td>1</td>\n",
       "      <td>87.599998</td>\n",
       "      <td>sim</td>\n",
       "      <td>9</td>\n",
       "    </tr>\n",
       "    <tr>\n",
       "      <th>2437</th>\n",
       "      <td>15</td>\n",
       "      <td>610</td>\n",
       "      <td>2</td>\n",
       "      <td>92.599998</td>\n",
       "      <td>sim</td>\n",
       "      <td>9</td>\n",
       "    </tr>\n",
       "    <tr>\n",
       "      <th>2438</th>\n",
       "      <td>15</td>\n",
       "      <td>610</td>\n",
       "      <td>3</td>\n",
       "      <td>94.599998</td>\n",
       "      <td>sim</td>\n",
       "      <td>9</td>\n",
       "    </tr>\n",
       "    <tr>\n",
       "      <th>2439</th>\n",
       "      <td>15</td>\n",
       "      <td>610</td>\n",
       "      <td>4</td>\n",
       "      <td>100.000000</td>\n",
       "      <td>sim</td>\n",
       "      <td>9</td>\n",
       "    </tr>\n",
       "  </tbody>\n",
       "</table>\n",
       "<p>2440 rows × 6 columns</p>\n",
       "</div>"
      ],
      "text/plain": [
       "      escola  estudante  mes  desempenho ativ  texp\n",
       "0          1          1    1   35.400002  não     2\n",
       "1          1          1    2   44.400002  não     2\n",
       "2          1          1    3   46.400002  não     2\n",
       "3          1          1    4   52.400002  não     2\n",
       "4          1          2    1   74.900002  não     2\n",
       "...      ...        ...  ...         ...  ...   ...\n",
       "2435      15        609    4  100.000000  sim     9\n",
       "2436      15        610    1   87.599998  sim     9\n",
       "2437      15        610    2   92.599998  sim     9\n",
       "2438      15        610    3   94.599998  sim     9\n",
       "2439      15        610    4  100.000000  sim     9\n",
       "\n",
       "[2440 rows x 6 columns]"
      ]
     },
     "execution_count": 28,
     "metadata": {},
     "output_type": "execute_result"
    }
   ],
   "source": [
    "# Carregando o dataset\n",
    "dados = pd.read_csv('tempo_estudante_escola.csv',encoding='latin1',sep=',')\n",
    "x = dados[['escola','mes','ativ','texp']]\n",
    "y = dados.desempenho\n",
    "dados"
   ]
  },
  {
   "cell_type": "markdown",
   "metadata": {},
   "source": [
    "**Tabela com 2440 observações e 6 variáveis**"
   ]
  },
  {
   "cell_type": "markdown",
   "metadata": {},
   "source": [
    "# $$Dicionário~ de~ Dados~ das~ Variáveis$$ \n",
    "\n",
    "### **$$Variáveis:$$**\n",
    "\n",
    "\n",
    "- **estudante:** Número de estudantes \n",
    "\n",
    "\n",
    "- **escola:** Número de escolas, cada número representa uma escola diferente\n",
    "\n",
    "\n",
    "- **mes:** Número de meses que teve acompanhamento da nota escolar, 4 meses por aluno\n",
    "\n",
    "    \n",
    "- **desempenho:** Nota do aluno no vestibular, de 0 a 100\n",
    "    \n",
    "\n",
    "- **horas:** Quantidade de horas que o aluno estudou por semana em média no último ano\n",
    "    \n",
    " \n",
    "- **ativ:** Se o aluno faz atividades complementares\n",
    "    \n",
    "    \n",
    "- **texp:** Tempo médio de experiencia dos professores nas escolas\n",
    "\n",
    "\n",
    "\n",
    "\n",
    "\n",
    "\n",
    "\n",
    "\n",
    "\n",
    "\n"
   ]
  },
  {
   "cell_type": "markdown",
   "metadata": {},
   "source": [
    "# Análise Exploratória"
   ]
  },
  {
   "cell_type": "code",
   "execution_count": 29,
   "metadata": {},
   "outputs": [
    {
     "name": "stdout",
     "output_type": "stream",
     "text": [
      "<class 'pandas.core.frame.DataFrame'>\n",
      "RangeIndex: 2440 entries, 0 to 2439\n",
      "Data columns (total 6 columns):\n",
      " #   Column      Non-Null Count  Dtype  \n",
      "---  ------      --------------  -----  \n",
      " 0   escola      2440 non-null   int64  \n",
      " 1   estudante   2440 non-null   int64  \n",
      " 2   mes         2440 non-null   int64  \n",
      " 3   desempenho  2440 non-null   float64\n",
      " 4   ativ        2440 non-null   object \n",
      " 5   texp        2440 non-null   int64  \n",
      "dtypes: float64(1), int64(4), object(1)\n",
      "memory usage: 114.5+ KB\n"
     ]
    }
   ],
   "source": [
    "#Tipos de variáveis\n",
    "dados.info()"
   ]
  },
  {
   "cell_type": "markdown",
   "metadata": {},
   "source": [
    "**Temos variáveis qualitativas e quantitativas**"
   ]
  },
  {
   "cell_type": "markdown",
   "metadata": {},
   "source": [
    "## Análise descritiva:"
   ]
  },
  {
   "cell_type": "markdown",
   "metadata": {},
   "source": [
    "- Variáveis Quantitativas"
   ]
  },
  {
   "cell_type": "code",
   "execution_count": 30,
   "metadata": {},
   "outputs": [
    {
     "data": {
      "text/html": [
       "<div>\n",
       "<style scoped>\n",
       "    .dataframe tbody tr th:only-of-type {\n",
       "        vertical-align: middle;\n",
       "    }\n",
       "\n",
       "    .dataframe tbody tr th {\n",
       "        vertical-align: top;\n",
       "    }\n",
       "\n",
       "    .dataframe thead th {\n",
       "        text-align: right;\n",
       "    }\n",
       "</style>\n",
       "<table border=\"1\" class=\"dataframe\">\n",
       "  <thead>\n",
       "    <tr style=\"text-align: right;\">\n",
       "      <th></th>\n",
       "      <th>estudante</th>\n",
       "      <th>mes</th>\n",
       "      <th>desempenho</th>\n",
       "      <th>texp</th>\n",
       "    </tr>\n",
       "  </thead>\n",
       "  <tbody>\n",
       "    <tr>\n",
       "      <th>count</th>\n",
       "      <td>2440.000000</td>\n",
       "      <td>2440.000000</td>\n",
       "      <td>2440.000000</td>\n",
       "      <td>2440.000000</td>\n",
       "    </tr>\n",
       "    <tr>\n",
       "      <th>mean</th>\n",
       "      <td>305.500000</td>\n",
       "      <td>2.500000</td>\n",
       "      <td>68.341352</td>\n",
       "      <td>9.027869</td>\n",
       "    </tr>\n",
       "    <tr>\n",
       "      <th>std</th>\n",
       "      <td>176.127691</td>\n",
       "      <td>1.118263</td>\n",
       "      <td>22.981531</td>\n",
       "      <td>7.655618</td>\n",
       "    </tr>\n",
       "    <tr>\n",
       "      <th>min</th>\n",
       "      <td>1.000000</td>\n",
       "      <td>1.000000</td>\n",
       "      <td>10.500000</td>\n",
       "      <td>2.000000</td>\n",
       "    </tr>\n",
       "    <tr>\n",
       "      <th>25%</th>\n",
       "      <td>153.000000</td>\n",
       "      <td>1.750000</td>\n",
       "      <td>49.574999</td>\n",
       "      <td>2.000000</td>\n",
       "    </tr>\n",
       "    <tr>\n",
       "      <th>50%</th>\n",
       "      <td>305.500000</td>\n",
       "      <td>2.500000</td>\n",
       "      <td>70.300003</td>\n",
       "      <td>9.000000</td>\n",
       "    </tr>\n",
       "    <tr>\n",
       "      <th>75%</th>\n",
       "      <td>458.000000</td>\n",
       "      <td>3.250000</td>\n",
       "      <td>88.500000</td>\n",
       "      <td>18.000000</td>\n",
       "    </tr>\n",
       "    <tr>\n",
       "      <th>max</th>\n",
       "      <td>610.000000</td>\n",
       "      <td>4.000000</td>\n",
       "      <td>100.000000</td>\n",
       "      <td>20.000000</td>\n",
       "    </tr>\n",
       "  </tbody>\n",
       "</table>\n",
       "</div>"
      ],
      "text/plain": [
       "         estudante          mes   desempenho         texp\n",
       "count  2440.000000  2440.000000  2440.000000  2440.000000\n",
       "mean    305.500000     2.500000    68.341352     9.027869\n",
       "std     176.127691     1.118263    22.981531     7.655618\n",
       "min       1.000000     1.000000    10.500000     2.000000\n",
       "25%     153.000000     1.750000    49.574999     2.000000\n",
       "50%     305.500000     2.500000    70.300003     9.000000\n",
       "75%     458.000000     3.250000    88.500000    18.000000\n",
       "max     610.000000     4.000000   100.000000    20.000000"
      ]
     },
     "execution_count": 30,
     "metadata": {},
     "output_type": "execute_result"
    }
   ],
   "source": [
    "# Estatistica descritivas(Variáveis numericas)\n",
    "num = dados[['estudante','mes','desempenho','texp']]\n",
    "num.describe()"
   ]
  },
  {
   "cell_type": "markdown",
   "metadata": {},
   "source": [
    "- Variáveis Qaulitativas"
   ]
  },
  {
   "cell_type": "code",
   "execution_count": 31,
   "metadata": {},
   "outputs": [
    {
     "data": {
      "text/plain": [
       "sim    1320\n",
       "não    1120\n",
       "Name: ativ, dtype: int64"
      ]
     },
     "execution_count": 31,
     "metadata": {},
     "output_type": "execute_result"
    }
   ],
   "source": [
    "#Variável categoricas (ativ)\n",
    "dados.ativ.value_counts()\n"
   ]
  },
  {
   "cell_type": "code",
   "execution_count": 32,
   "metadata": {},
   "outputs": [
    {
     "data": {
      "text/plain": [
       "12    248\n",
       "11    228\n",
       "13    212\n",
       "15    212\n",
       "3     192\n",
       "5     192\n",
       "1     188\n",
       "9     176\n",
       "8     140\n",
       "10    132\n",
       "6     120\n",
       "7     112\n",
       "14    108\n",
       "2     100\n",
       "4      80\n",
       "Name: escola, dtype: int64"
      ]
     },
     "execution_count": 32,
     "metadata": {},
     "output_type": "execute_result"
    }
   ],
   "source": [
    "#Variável categoricas (escola)\n",
    "dados.escola.value_counts()"
   ]
  },
  {
   "cell_type": "markdown",
   "metadata": {},
   "source": [
    "**Número de alunos multiplicado pelo número de meses do acompanhamento da nota escolar(quantidade de observações por escola)**"
   ]
  },
  {
   "cell_type": "code",
   "execution_count": 33,
   "metadata": {},
   "outputs": [
    {
     "data": {
      "text/plain": [
       "mes\n",
       "1    610\n",
       "2    610\n",
       "3    610\n",
       "4    610\n",
       "Name: estudante, dtype: int64"
      ]
     },
     "execution_count": 33,
     "metadata": {},
     "output_type": "execute_result"
    }
   ],
   "source": [
    "#Variável categoricas (mes)\n",
    "\n",
    "dados.groupby(dados['mes'])['estudante'].count()"
   ]
  },
  {
   "cell_type": "markdown",
   "metadata": {},
   "source": [
    "**Podemos observar que temos balanceamento longitudinal, todos os estudantes tem o mesmo número de meses avaliados, porém isso não é uma premissa para a modelagem com medidas repetidas, visto que é obrigatório tem no mínimo 2 períodos para ter comparação temporal**"
   ]
  },
  {
   "cell_type": "code",
   "execution_count": 34,
   "metadata": {},
   "outputs": [
    {
     "data": {
      "text/plain": [
       "escola\n",
       "1     47.0\n",
       "2     25.0\n",
       "3     48.0\n",
       "4     20.0\n",
       "5     48.0\n",
       "6     30.0\n",
       "7     28.0\n",
       "8     35.0\n",
       "9     44.0\n",
       "10    33.0\n",
       "11    57.0\n",
       "12    62.0\n",
       "13    53.0\n",
       "14    27.0\n",
       "15    53.0\n",
       "Name: estudante, dtype: float64"
      ]
     },
     "execution_count": 34,
     "metadata": {},
     "output_type": "execute_result"
    }
   ],
   "source": [
    "# Estudo sobre o desbalanceamento da quantidade de alunos aninhados em escolas\n",
    "alunos_escolas = dados.groupby(dados['escola'])['estudante'].count()\n",
    "\n",
    "# Como temos 4 meses de observação por aluno, dividimos o numero de observação por 4 para ter o numero de alunos observado\n",
    "alunos_escolas2 = alunos_escolas/4 \n",
    "alunos_escolas2"
   ]
  },
  {
   "cell_type": "markdown",
   "metadata": {},
   "source": [
    "**Temos um pequeno desbalanceamento no número de alunos por escola, porém esse fato não vai ser relevante para a modelagem**"
   ]
  },
  {
   "cell_type": "markdown",
   "metadata": {},
   "source": [
    "## Análise das variáveis"
   ]
  },
  {
   "cell_type": "markdown",
   "metadata": {},
   "source": [
    "### Escola X Desempenho"
   ]
  },
  {
   "cell_type": "code",
   "execution_count": 35,
   "metadata": {},
   "outputs": [
    {
     "data": {
      "text/plain": [
       "<seaborn.axisgrid.FacetGrid at 0x1b2b30b4fa0>"
      ]
     },
     "execution_count": 35,
     "metadata": {},
     "output_type": "execute_result"
    },
    {
     "data": {
      "image/png": "[encoded data removed]",
      "text/plain": [
       "<Figure size 360x360 with 1 Axes>"
      ]
     },
     "metadata": {},
     "output_type": "display_data"
    }
   ],
   "source": [
    "## Kernel density estimation (KDE) - função densidade de probabilidade da variável Target (desempenho), com histograma\n",
    "import seaborn as sns\n",
    "sns.displot(dados.desempenho,kde=True,bins=30)"
   ]
  },
  {
   "cell_type": "markdown",
   "metadata": {},
   "source": [
    "**A maioria dos alunos tiveram nota maxima**"
   ]
  },
  {
   "cell_type": "code",
   "execution_count": 36,
   "metadata": {},
   "outputs": [
    {
     "data": {
      "text/plain": [
       "100.000000    295\n",
       "43.900002      11\n",
       "90.099998      10\n",
       "78.099998       9\n",
       "60.799999       9\n",
       "80.099998       9\n",
       "53.299999       9\n",
       "93.400002       9\n",
       "45.299999       8\n",
       "85.699997       8\n",
       "Name: desempenho, dtype: int64"
      ]
     },
     "execution_count": 36,
     "metadata": {},
     "output_type": "execute_result"
    }
   ],
   "source": [
    "#Tabela do KDE \n",
    "dados.desempenho.value_counts().head(10)"
   ]
  },
  {
   "cell_type": "markdown",
   "metadata": {},
   "source": [
    "**Verificar se existe alguma escola especifica que faz com que os alunos tirem nota máxima no desempenho**"
   ]
  },
  {
   "cell_type": "code",
   "execution_count": 37,
   "metadata": {},
   "outputs": [
    {
     "data": {
      "text/plain": [
       "(0.0, 120.0)"
      ]
     },
     "execution_count": 37,
     "metadata": {},
     "output_type": "execute_result"
    },
    {
     "data": {
      "image/png": "[encoded data removed]",
      "text/plain": [
       "<Figure size 720x432 with 1 Axes>"
      ]
     },
     "metadata": {},
     "output_type": "display_data"
    }
   ],
   "source": [
    "## Kernel density estimation (KDE) - função densidade de probabilidade da variável Target (desempenho) X Escola, com histograma\n",
    "from matplotlib import pyplot\n",
    "\n",
    "fig, ax = pyplot.subplots(figsize=(10, 6))\n",
    "sns.kdeplot(data=dados, x=\"desempenho\", hue=\"escola\",fill='escola',palette=\"viridis\",alpha=.7)\n",
    "plt.xlim(0, 120)"
   ]
  },
  {
   "cell_type": "markdown",
   "metadata": {},
   "source": [
    "**Existem algumas escola que estão elevando o desempenho dos alunos, vamos observar nos histogramas abaixo quais são essas escolas**"
   ]
  },
  {
   "cell_type": "code",
   "execution_count": 38,
   "metadata": {},
   "outputs": [
    {
     "data": {
      "text/plain": [
       "(0.0, 120.0)"
      ]
     },
     "execution_count": 38,
     "metadata": {},
     "output_type": "execute_result"
    },
    {
     "data": {
      "image/png": "[encoded data removed]",
      "text/plain": [
       "<Figure size 720x432 with 1 Axes>"
      ]
     },
     "metadata": {},
     "output_type": "display_data"
    }
   ],
   "source": [
    "## Kernel density estimation (KDE) - função densidade de probabilidade da variável Target (desempenho) X Mes, com histograma\n",
    "from matplotlib import pyplot\n",
    "\n",
    "fig, ax = pyplot.subplots(figsize=(10, 6))\n",
    "sns.kdeplot(data=dados, x=\"desempenho\", hue=\"mes\",fill='escola',palette=\"viridis\",alpha=.7)\n",
    "plt.xlim(0, 120)"
   ]
  },
  {
   "cell_type": "markdown",
   "metadata": {},
   "source": [
    "**Note que a medida que os meses passam as notas da variável desempenho aumentam**"
   ]
  },
  {
   "cell_type": "code",
   "execution_count": 39,
   "metadata": {},
   "outputs": [
    {
     "data": {
      "text/plain": [
       "<seaborn.axisgrid.FacetGrid at 0x1b2cd745820>"
      ]
     },
     "execution_count": 39,
     "metadata": {},
     "output_type": "execute_result"
    },
    {
     "data": {
      "image/png": "[encoded data removed]",
      "text/plain": [
       "<Figure size 864x216 with 4 Axes>"
      ]
     },
     "metadata": {},
     "output_type": "display_data"
    }
   ],
   "source": [
    "#Desempenho X Mês\n",
    "sns.displot(dados, x=\"desempenho\", col=\"mes\",kde=True,bins=15,col_wrap=4, height=3)"
   ]
  },
  {
   "cell_type": "markdown",
   "metadata": {},
   "source": [
    "**Podemos observar que a partir do mês 2 começa aumentar o desempenho dos estudantes, porém os meses 3 e 4 foram os mais relevantes**"
   ]
  },
  {
   "cell_type": "code",
   "execution_count": 40,
   "metadata": {},
   "outputs": [
    {
     "data": {
      "text/plain": [
       "<seaborn.axisgrid.FacetGrid at 0x1b2b16b3910>"
      ]
     },
     "execution_count": 40,
     "metadata": {},
     "output_type": "execute_result"
    },
    {
     "data": {
      "image/png": "[encoded data removed]",
      "text/plain": [
       "<Figure size 864x864 with 15 Axes>"
      ]
     },
     "metadata": {},
     "output_type": "display_data"
    }
   ],
   "source": [
    "#Histograma individual do desempenho por escola\n",
    "sns.displot(dados, x=\"desempenho\", col=\"escola\",kde=True,bins=15,col_wrap=4, height=3)"
   ]
  },
  {
   "cell_type": "markdown",
   "metadata": {},
   "source": [
    "**As Escolas de número 8 e 9, tem um desempenho melhor nas notas dos alunos, em relação as outras escolas**"
   ]
  },
  {
   "cell_type": "markdown",
   "metadata": {},
   "source": [
    "### Desempenho X Mês"
   ]
  },
  {
   "cell_type": "code",
   "execution_count": 41,
   "metadata": {},
   "outputs": [
    {
     "data": {
      "text/plain": [
       "Text(0, 0.5, 'Desempenho')"
      ]
     },
     "execution_count": 41,
     "metadata": {},
     "output_type": "execute_result"
    },
    {
     "data": {
      "image/png": "[encoded data removed]",
      "text/plain": [
       "<Figure size 432x288 with 1 Axes>"
      ]
     },
     "metadata": {},
     "output_type": "display_data"
    }
   ],
   "source": [
    "## Gráfico da evolução temporal média do desempenho escolar dos estudantes (ajuste linear)\n",
    "media_escola= pd.DataFrame(dados.groupby('mes').desempenho.mean())\n",
    "plt.scatter(dados.mes,dados.desempenho)\n",
    "plt.plot(media_escola.desempenho,c='red')\n",
    "plt.xlabel('Mes')\n",
    "plt.ylabel('Desempenho')"
   ]
  },
  {
   "cell_type": "markdown",
   "metadata": {},
   "source": [
    "**Podemos observar que a medida que os meses passam, a média do desempenho dos alunos também aumentam**"
   ]
  },
  {
   "cell_type": "markdown",
   "metadata": {},
   "source": [
    "## Gráfico da evolução temporal do desempenho médio por escola (ajustes lineares)"
   ]
  },
  {
   "cell_type": "code",
   "execution_count": 42,
   "metadata": {},
   "outputs": [
    {
     "data": {
      "image/png": "[encoded data removed]",
      "text/plain": [
       "<Figure size 411.85x360 with 1 Axes>"
      ]
     },
     "metadata": {},
     "output_type": "display_data"
    }
   ],
   "source": [
    "#Gráfico evolução temporal e ajuste linear\n",
    "import seaborn as sns\n",
    "sns.set_theme(color_codes=True)\n",
    "ax = sns.lmplot(x=\"mes\", y=\"desempenho\", hue=\"escola\", data=dados,palette='viridis',truncate=False,ci=0)"
   ]
  },
  {
   "cell_type": "markdown",
   "metadata": {},
   "source": [
    "**Houve um aumento no desempenho dos alunos em todas as escolas ao longo do tempo**"
   ]
  },
  {
   "cell_type": "markdown",
   "metadata": {},
   "source": [
    "# Modelagem Multinivel:"
   ]
  },
  {
   "cell_type": "markdown",
   "metadata": {},
   "source": [
    "## 1° Estágio do modelo Step Up:"
   ]
  },
  {
   "cell_type": "markdown",
   "metadata": {},
   "source": [
    "### ESTIMAÇÃO DO MODELO NULO HLM3 "
   ]
  },
  {
   "cell_type": "markdown",
   "metadata": {},
   "source": [
    "### Objetivo: Verificar se existe diferenças entre o desempenhos dos alunos ao longo do tempo,  entre alunos  da mesma escola e  escolas destintas"
   ]
  },
  {
   "cell_type": "code",
   "execution_count": 43,
   "metadata": {},
   "outputs": [
    {
     "name": "stdout",
     "output_type": "stream",
     "text": [
      "Formula: desempenho~1+(1|estudante)+(1|escola)\n",
      "\n",
      "Family: gaussian\t Inference: parametric\n",
      "\n",
      "Number of observations: 2440\t Groups: {'estudante': 610.0, 'escola': 15.0}\n",
      "\n",
      "Log-likelihood: -9092.139 \t AIC: 18184.277\n",
      "\n",
      "Random effects:\n",
      "\n",
      "Empty DataFrame\n",
      "Columns: [Name, Var, Std]\n",
      "Index: []\n",
      "\n",
      "                   IV1   IV2    Corr\n",
      "estudante  (Intercept)  None  18.050\n",
      "escola     (Intercept)  None  13.423\n",
      "Residual          None  None   6.454\n",
      "\n",
      "Fixed effects:\n",
      "\n"
     ]
    },
    {
     "data": {
      "text/html": [
       "<div>\n",
       "<style scoped>\n",
       "    .dataframe tbody tr th:only-of-type {\n",
       "        vertical-align: middle;\n",
       "    }\n",
       "\n",
       "    .dataframe tbody tr th {\n",
       "        vertical-align: top;\n",
       "    }\n",
       "\n",
       "    .dataframe thead th {\n",
       "        text-align: right;\n",
       "    }\n",
       "</style>\n",
       "<table border=\"1\" class=\"dataframe\">\n",
       "  <thead>\n",
       "    <tr style=\"text-align: right;\">\n",
       "      <th></th>\n",
       "      <th>Estimate</th>\n",
       "      <th>2.5_ci</th>\n",
       "      <th>97.5_ci</th>\n",
       "      <th>SE</th>\n",
       "      <th>DF</th>\n",
       "      <th>T-stat</th>\n",
       "      <th>P-val</th>\n",
       "      <th>Sig</th>\n",
       "    </tr>\n",
       "  </thead>\n",
       "  <tbody>\n",
       "    <tr>\n",
       "      <th>(Intercept)</th>\n",
       "      <td>68.714</td>\n",
       "      <td>61.75</td>\n",
       "      <td>75.678</td>\n",
       "      <td>3.553</td>\n",
       "      <td>13.983</td>\n",
       "      <td>19.339</td>\n",
       "      <td>0.0</td>\n",
       "      <td>***</td>\n",
       "    </tr>\n",
       "  </tbody>\n",
       "</table>\n",
       "</div>"
      ],
      "text/plain": [
       "             Estimate  2.5_ci  97.5_ci     SE      DF  T-stat  P-val  Sig\n",
       "(Intercept)    68.714   61.75   75.678  3.553  13.983  19.339    0.0  ***"
      ]
     },
     "metadata": {},
     "output_type": "display_data"
    }
   ],
   "source": [
    "#Modelo HLM3 usando algoritimo Lmer\n",
    "import warnings\n",
    "warnings.filterwarnings('ignore')\n",
    "from pymer4.models import Lmer \n",
    "\n",
    "\n",
    "\n",
    "model = Lmer('desempenho ~ 1 + (1|estudante) + (1|escola)', data=dados)\n",
    "\n",
    "#Criar modelo\n",
    "display(model.fit())\n",
    "model.summary;"
   ]
  },
  {
   "cell_type": "code",
   "execution_count": 44,
   "metadata": {},
   "outputs": [
    {
     "name": "stdout",
     "output_type": "stream",
     "text": [
      "          Mixed Linear Model Regression Results\n",
      "=========================================================\n",
      "Model:             MixedLM Dependent Variable: desempenho\n",
      "No. Observations:  2440    Method:             REML      \n",
      "No. Groups:        15      Scale:              41.6494   \n",
      "Min. group size:   80      Log-Likelihood:     -9092.1387\n",
      "Max. group size:   248     Converged:          Yes       \n",
      "Mean group size:   162.7                                 \n",
      "---------------------------------------------------------\n",
      "               Coef.  Std.Err.   z    P>|z| [0.025 0.975]\n",
      "---------------------------------------------------------\n",
      "Intercept      68.714    3.553 19.337 0.000 61.749 75.679\n",
      "escola Var    180.222   11.137                           \n",
      "estudante Var 325.798    3.477                           \n",
      "=========================================================\n",
      "\n"
     ]
    }
   ],
   "source": [
    "#Modelo HLM3 usando algoritimo mixedlm\n",
    "import statsmodels.formula.api as smf\n",
    "from patsy import dmatrices\n",
    "\n",
    "#Parametros para definição dos niveis\n",
    "\n",
    "# Para dizer ao modelo que uma variável é categórica, ela precisa ser 'embrulhada' em C(independent_variable)\n",
    "nivel_1 = \"desempenho ~ 1\"\n",
    "random = {\"estudante\": \"0 + C(estudante)\", \"escola\": \"0 + C(escola)\"} #nivel 2 = estudante , nivel 3 = escola\n",
    "nivel_3 = dados[\"escola\"]\n",
    "\n",
    "#Modelo Multinivel Nulo\n",
    "import statsmodels.formula.api as smf\n",
    "from patsy import dmatrices\n",
    "\n",
    "modelo1  = smf.mixedlm(nivel_1, dados, groups=nivel_3,vc_formula=random);\n",
    "hlm3_nulo = modelo1.fit();\n",
    "print(hlm3_nulo.summary());"
   ]
  },
  {
   "cell_type": "markdown",
   "metadata": {},
   "source": [
    "# P-value dos parâmetros "
   ]
  },
  {
   "cell_type": "code",
   "execution_count": 45,
   "metadata": {},
   "outputs": [
    {
     "data": {
      "text/plain": [
       "Intercept        0.0000\n",
       "escola Var       0.0122\n",
       "estudante Var    0.0000\n",
       "dtype: float64"
      ]
     },
     "execution_count": 45,
     "metadata": {},
     "output_type": "execute_result"
    }
   ],
   "source": [
    "round(hlm3_nulo.pvalues,4)"
   ]
  },
  {
   "cell_type": "markdown",
   "metadata": {},
   "source": [
    "**Os efeitos aleatórios de intercepto das variáveis 'estudante' e 'escola' ao longo do tempo são estatisticamente significantes a um nível de significância de 10%**"
   ]
  },
  {
   "cell_type": "markdown",
   "metadata": {},
   "source": [
    "## Parâmetros das variáveis"
   ]
  },
  {
   "cell_type": "code",
   "execution_count": 46,
   "metadata": {},
   "outputs": [
    {
     "name": "stdout",
     "output_type": "stream",
     "text": [
      "Intercepto efeito Fixo: 68.714\n",
      "\n",
      "Intercepto efeito aleatório Escola: 180.222\n",
      "\n",
      "Intercepto efeito aleatório Estudante: 325.798\n"
     ]
    }
   ],
   "source": [
    "print(f'Intercepto efeito Fixo: {round(hlm3_nulo.fe_params[0],3)}')\n",
    "\n",
    "print(f'\\nIntercepto efeito aleatório Escola: {round(hlm3_nulo.vcomp[0],3)}')\n",
    "\n",
    "print(f'\\nIntercepto efeito aleatório Estudante: {round(hlm3_nulo.vcomp[1],3)}')"
   ]
  },
  {
   "cell_type": "markdown",
   "metadata": {},
   "source": [
    "# Calculo do ICC (3 niveis)"
   ]
  },
  {
   "cell_type": "markdown",
   "metadata": {},
   "source": [
    "- **ICC - Intraclass Correlation**\n",
    "\n",
    "\n",
    "- **Calcula a variação explicada da variável Y em relação as variáveis X, operando em dados estruturados como grupos(Perspectiva Multinível)**\n",
    "\n",
    "\n",
    "- **Proporção da variância do nível escola em relação a variância total dos termos de erro**"
   ]
  },
  {
   "cell_type": "code",
   "execution_count": 47,
   "metadata": {},
   "outputs": [
    {
     "name": "stdout",
     "output_type": "stream",
     "text": [
      "ICC_escola= 33%\n"
     ]
    }
   ],
   "source": [
    "#Desempenho X Escola\n",
    "\n",
    "#Parametros\n",
    "t00k = hlm3_nulo.vcomp[0] # Efeito aleatorio de intercpto nivel escola\n",
    "v0jk = hlm3_nulo.vcomp[1] # Efeito aleatorio de intercpto nivel Aluno\n",
    "E = hlm3_nulo.scale # Variancia E(erro) do efeito aleatorio do nivel individuo\n",
    "\n",
    "#Formula ICC\n",
    "icc_escola = t00k /(t00k + v0jk + E)\n",
    "\n",
    "print(f'ICC_escola= {round(icc_escola*100)}%')"
   ]
  },
  {
   "cell_type": "markdown",
   "metadata": {},
   "source": [
    "**33% da variação do desempenho ao longo do tempo é devido a variavel escola**"
   ]
  },
  {
   "cell_type": "code",
   "execution_count": 48,
   "metadata": {},
   "outputs": [
    {
     "name": "stdout",
     "output_type": "stream",
     "text": [
      "ICC_aluno= 59%\n"
     ]
    }
   ],
   "source": [
    "#Desempenho X estudante\n",
    "\n",
    "#Parametros\n",
    "t00k = hlm3_nulo.vcomp[0] # Efeito aleatorio de intercpto nivel escola\n",
    "v0jk = hlm3_nulo.vcomp[1] # Efeito aleatorio de intercpto nivel Aluno\n",
    "E = hlm3_nulo.scale # Variancia E(erro) do efeito aleatorio do nivel individuo\n",
    "\n",
    "#Formula ICC\n",
    "icc_aluno = v0jk /(v0jk + t00k + E)\n",
    "print(f'ICC_aluno= {round(icc_aluno*100)}%')"
   ]
  },
  {
   "cell_type": "markdown",
   "metadata": {},
   "source": [
    "**59% da variação do desempenho ao longo do tempo é devido a variavel 'estudante'**"
   ]
  },
  {
   "cell_type": "code",
   "execution_count": 49,
   "metadata": {},
   "outputs": [
    {
     "name": "stdout",
     "output_type": "stream",
     "text": [
      "ICC_tempo= 8%\n"
     ]
    }
   ],
   "source": [
    "#Desempenho X Tempo\n",
    "\n",
    "#Parametros\n",
    "total = 1 #Total do ICC\n",
    "icc_escola #Porcentagem do ICC da Escola\n",
    "icc_aluno  #Porcentagem do ICC do Estudante\n",
    "\n",
    "#Formula ICC\n",
    "icc_tempo = total -(icc_escola + icc_aluno)\n",
    "print(f'ICC_tempo= {round(icc_tempo*100)}%')"
   ]
  },
  {
   "cell_type": "markdown",
   "metadata": {},
   "source": [
    "**8% da alteração do desempenho é devido a evolução temporal**"
   ]
  },
  {
   "cell_type": "markdown",
   "metadata": {},
   "source": [
    "## ESTIMAÇÃO DO MODELO NULO OLS"
   ]
  },
  {
   "cell_type": "code",
   "execution_count": 50,
   "metadata": {},
   "outputs": [
    {
     "data": {
      "text/html": [
       "<table class=\"simpletable\">\n",
       "<caption>OLS Regression Results</caption>\n",
       "<tr>\n",
       "  <th>Dep. Variable:</th>       <td>desempenho</td>    <th>  R-squared:         </th> <td>   0.000</td> \n",
       "</tr>\n",
       "<tr>\n",
       "  <th>Model:</th>                   <td>OLS</td>       <th>  Adj. R-squared:    </th> <td>   0.000</td> \n",
       "</tr>\n",
       "<tr>\n",
       "  <th>Method:</th>             <td>Least Squares</td>  <th>  F-statistic:       </th> <td>     nan</td> \n",
       "</tr>\n",
       "<tr>\n",
       "  <th>Date:</th>             <td>Fri, 22 Jul 2022</td> <th>  Prob (F-statistic):</th>  <td>   nan</td>  \n",
       "</tr>\n",
       "<tr>\n",
       "  <th>Time:</th>                 <td>08:45:19</td>     <th>  Log-Likelihood:    </th> <td> -11110.</td> \n",
       "</tr>\n",
       "<tr>\n",
       "  <th>No. Observations:</th>      <td>  2440</td>      <th>  AIC:               </th> <td>2.222e+04</td>\n",
       "</tr>\n",
       "<tr>\n",
       "  <th>Df Residuals:</th>          <td>  2439</td>      <th>  BIC:               </th> <td>2.223e+04</td>\n",
       "</tr>\n",
       "<tr>\n",
       "  <th>Df Model:</th>              <td>     0</td>      <th>                     </th>     <td> </td>    \n",
       "</tr>\n",
       "<tr>\n",
       "  <th>Covariance Type:</th>      <td>nonrobust</td>    <th>                     </th>     <td> </td>    \n",
       "</tr>\n",
       "</table>\n",
       "<table class=\"simpletable\">\n",
       "<tr>\n",
       "    <td></td>       <th>coef</th>     <th>std err</th>      <th>t</th>      <th>P>|t|</th>  <th>[0.025</th>    <th>0.975]</th>  \n",
       "</tr>\n",
       "<tr>\n",
       "  <th>const</th> <td>   68.3414</td> <td>    0.465</td> <td>  146.892</td> <td> 0.000</td> <td>   67.429</td> <td>   69.254</td>\n",
       "</tr>\n",
       "</table>\n",
       "<table class=\"simpletable\">\n",
       "<tr>\n",
       "  <th>Omnibus:</th>       <td>742.376</td> <th>  Durbin-Watson:     </th> <td>   0.440</td>\n",
       "</tr>\n",
       "<tr>\n",
       "  <th>Prob(Omnibus):</th> <td> 0.000</td>  <th>  Jarque-Bera (JB):  </th> <td> 133.934</td>\n",
       "</tr>\n",
       "<tr>\n",
       "  <th>Skew:</th>          <td>-0.230</td>  <th>  Prob(JB):          </th> <td>8.25e-30</td>\n",
       "</tr>\n",
       "<tr>\n",
       "  <th>Kurtosis:</th>      <td> 1.949</td>  <th>  Cond. No.          </th> <td>    1.00</td>\n",
       "</tr>\n",
       "</table><br/><br/>Notes:<br/>[1] Standard Errors assume that the covariance matrix of the errors is correctly specified."
      ],
      "text/plain": [
       "<class 'statsmodels.iolib.summary.Summary'>\n",
       "\"\"\"\n",
       "                            OLS Regression Results                            \n",
       "==============================================================================\n",
       "Dep. Variable:             desempenho   R-squared:                       0.000\n",
       "Model:                            OLS   Adj. R-squared:                  0.000\n",
       "Method:                 Least Squares   F-statistic:                       nan\n",
       "Date:                Fri, 22 Jul 2022   Prob (F-statistic):                nan\n",
       "Time:                        08:45:19   Log-Likelihood:                -11110.\n",
       "No. Observations:                2440   AIC:                         2.222e+04\n",
       "Df Residuals:                    2439   BIC:                         2.223e+04\n",
       "Df Model:                           0                                         \n",
       "Covariance Type:            nonrobust                                         \n",
       "==============================================================================\n",
       "                 coef    std err          t      P>|t|      [0.025      0.975]\n",
       "------------------------------------------------------------------------------\n",
       "const         68.3414      0.465    146.892      0.000      67.429      69.254\n",
       "==============================================================================\n",
       "Omnibus:                      742.376   Durbin-Watson:                   0.440\n",
       "Prob(Omnibus):                  0.000   Jarque-Bera (JB):              133.934\n",
       "Skew:                          -0.230   Prob(JB):                     8.25e-30\n",
       "Kurtosis:                       1.949   Cond. No.                         1.00\n",
       "==============================================================================\n",
       "\n",
       "Notes:\n",
       "[1] Standard Errors assume that the covariance matrix of the errors is correctly specified.\n",
       "\"\"\""
      ]
     },
     "execution_count": 50,
     "metadata": {},
     "output_type": "execute_result"
    }
   ],
   "source": [
    "#Modelo OLS\n",
    "import statsmodels.api as sm\n",
    "\n",
    "# add o Intercept\n",
    "x_interc = sm.add_constant(x) \n",
    "\n",
    "# Criar Modelo\n",
    "modelo2 = sm.OLS(y,x_interc[['const']])\n",
    "\n",
    " # Treinar o modelo\n",
    "ols_nulo = modelo2.fit() \n",
    "\n",
    "# Verificar os dados do modelo\n",
    "ols_nulo.summary() "
   ]
  },
  {
   "cell_type": "markdown",
   "metadata": {},
   "source": [
    "## COMPARAÇÃO DO HLM3 NULO COM UM OLS NULO  "
   ]
  },
  {
   "cell_type": "code",
   "execution_count": 51,
   "metadata": {},
   "outputs": [
    {
     "data": {
      "image/png": "[encoded data removed]",
      "text/plain": [
       "<Figure size 432x288 with 1 Axes>"
      ]
     },
     "metadata": {},
     "output_type": "display_data"
    }
   ],
   "source": [
    "#Criar um dataFrame com os LLs\n",
    "a = ['HLM3_Nulo','OLS_nulo']\n",
    "b = [hlm3_nulo.llf,ols_nulo.llf]\n",
    "dados_grafico = pd.DataFrame(a,b)\n",
    "dados_grafico= dados_grafico.reset_index()\n",
    "dados_grafico.columns=['Index','Modelo']\n",
    "\n",
    "#Plotar no Grafico \n",
    "df_ordenado = dados_grafico.sort_values(by='Index',ascending=True)\n",
    "plt.barh(df_ordenado.Modelo, df_ordenado.Index, color='red', alpha=0.5)\n",
    "plt.title('Comparação dos LL',size=40,);"
   ]
  },
  {
   "cell_type": "markdown",
   "metadata": {},
   "source": [
    "**Como os interceptos do modelo multinível foi estatisticamente significantes o LL do modelo OLS não será superior**"
   ]
  },
  {
   "cell_type": "markdown",
   "metadata": {},
   "source": [
    "## 2° Estagio do modelo Step Up:\n",
    "\n",
    "\n"
   ]
  },
  {
   "cell_type": "markdown",
   "metadata": {},
   "source": [
    "### Estimação do modelo HLM3 com tendência linear e interceptos e inclinações aleatórias"
   ]
  },
  {
   "cell_type": "markdown",
   "metadata": {},
   "source": [
    "#### OBS: Pulamos 1 etapa de testar somente o intercepto aleatório, porém caso essa etapa não se mostre estatisticamente significante, devemos voltar para etapa anterior"
   ]
  },
  {
   "cell_type": "markdown",
   "metadata": {},
   "source": [
    "#### Objetivo: Verificar a significância estatística das escola(nível 3) e dos alunos(nível 2) em relação ao desempenho(Target) com a variável 'mes' em todos os níveis"
   ]
  },
  {
   "cell_type": "code",
   "execution_count": 52,
   "metadata": {},
   "outputs": [
    {
     "name": "stdout",
     "output_type": "stream",
     "text": [
      "Formula: desempenho~mes+(mes|estudante)+(mes|escola)\n",
      "\n",
      "Family: gaussian\t Inference: parametric\n",
      "\n",
      "Number of observations: 2440\t Groups: {'estudante': 610.0, 'escola': 15.0}\n",
      "\n",
      "Log-likelihood: -7411.506 \t AIC: 14823.013\n",
      "\n",
      "Random effects:\n",
      "\n",
      "Empty DataFrame\n",
      "Columns: [Name, Var, Std]\n",
      "Index: []\n",
      "\n",
      "                   IV1   IV2    Corr\n",
      "estudante  (Intercept)  None  19.723\n",
      "estudante          mes  None   1.823\n",
      "estudante  (Intercept)   mes  -0.414\n",
      "escola     (Intercept)  None  15.016\n",
      "escola             mes  None   0.744\n",
      "escola     (Intercept)   mes  -0.880\n",
      "Residual          None  None   1.948\n",
      "\n",
      "Fixed effects:\n",
      "\n",
      "Formula: desempenho~mes+(mes|estudante)+(mes|escola)\n",
      "\n",
      "Family: gaussian\t Inference: parametric\n",
      "\n",
      "Number of observations: 2440\t Groups: {'estudante': 610.0, 'escola': 15.0}\n",
      "\n",
      "Log-likelihood: -7411.506 \t AIC: 14823.013\n",
      "\n",
      "Random effects:\n",
      "\n",
      "Empty DataFrame\n",
      "Columns: [Name, Var, Std]\n",
      "Index: []\n",
      "\n",
      "                   IV1   IV2    Corr\n",
      "estudante  (Intercept)  None  19.723\n",
      "estudante          mes  None   1.823\n",
      "estudante  (Intercept)   mes  -0.414\n",
      "escola     (Intercept)  None  15.016\n",
      "escola             mes  None   0.744\n",
      "escola     (Intercept)   mes  -0.880\n",
      "Residual          None  None   1.948\n",
      "\n",
      "Fixed effects:\n",
      "\n"
     ]
    },
    {
     "data": {
      "text/html": [
       "<div>\n",
       "<style scoped>\n",
       "    .dataframe tbody tr th:only-of-type {\n",
       "        vertical-align: middle;\n",
       "    }\n",
       "\n",
       "    .dataframe tbody tr th {\n",
       "        vertical-align: top;\n",
       "    }\n",
       "\n",
       "    .dataframe thead th {\n",
       "        text-align: right;\n",
       "    }\n",
       "</style>\n",
       "<table border=\"1\" class=\"dataframe\">\n",
       "  <thead>\n",
       "    <tr style=\"text-align: right;\">\n",
       "      <th></th>\n",
       "      <th>Estimate</th>\n",
       "      <th>2.5_ci</th>\n",
       "      <th>97.5_ci</th>\n",
       "      <th>SE</th>\n",
       "      <th>DF</th>\n",
       "      <th>T-stat</th>\n",
       "      <th>P-val</th>\n",
       "      <th>Sig</th>\n",
       "    </tr>\n",
       "  </thead>\n",
       "  <tbody>\n",
       "    <tr>\n",
       "      <th>(Intercept)</th>\n",
       "      <td>57.856</td>\n",
       "      <td>50.078</td>\n",
       "      <td>65.635</td>\n",
       "      <td>3.969</td>\n",
       "      <td>13.994</td>\n",
       "      <td>14.578</td>\n",
       "      <td>0.0</td>\n",
       "      <td>***</td>\n",
       "    </tr>\n",
       "    <tr>\n",
       "      <th>mes</th>\n",
       "      <td>4.337</td>\n",
       "      <td>3.925</td>\n",
       "      <td>4.748</td>\n",
       "      <td>0.210</td>\n",
       "      <td>13.820</td>\n",
       "      <td>20.664</td>\n",
       "      <td>0.0</td>\n",
       "      <td>***</td>\n",
       "    </tr>\n",
       "  </tbody>\n",
       "</table>\n",
       "</div>"
      ],
      "text/plain": [
       "             Estimate  2.5_ci  97.5_ci     SE      DF  T-stat  P-val  Sig\n",
       "(Intercept)    57.856  50.078   65.635  3.969  13.994  14.578    0.0  ***\n",
       "mes             4.337   3.925    4.748  0.210  13.820  20.664    0.0  ***"
      ]
     },
     "execution_count": 52,
     "metadata": {},
     "output_type": "execute_result"
    }
   ],
   "source": [
    "#Modelo3\n",
    "hlm3_Inte_Incl = Lmer(\"desempenho ~ mes + (mes|estudante) + (mes|escola)\", data=dados)\n",
    "\n",
    "hlm3_Inte_Incl.fit()\n",
    "\n",
    "hlm3_Inte_Incl.summary()"
   ]
  },
  {
   "cell_type": "markdown",
   "metadata": {},
   "source": [
    "# Parâmetros"
   ]
  },
  {
   "cell_type": "markdown",
   "metadata": {},
   "source": [
    "## Efeitos fixos"
   ]
  },
  {
   "cell_type": "code",
   "execution_count": 53,
   "metadata": {},
   "outputs": [
    {
     "data": {
      "text/html": [
       "<div>\n",
       "<style scoped>\n",
       "    .dataframe tbody tr th:only-of-type {\n",
       "        vertical-align: middle;\n",
       "    }\n",
       "\n",
       "    .dataframe tbody tr th {\n",
       "        vertical-align: top;\n",
       "    }\n",
       "\n",
       "    .dataframe thead th {\n",
       "        text-align: right;\n",
       "    }\n",
       "</style>\n",
       "<table border=\"1\" class=\"dataframe\">\n",
       "  <thead>\n",
       "    <tr style=\"text-align: right;\">\n",
       "      <th></th>\n",
       "      <th>Estimate</th>\n",
       "      <th>2.5_ci</th>\n",
       "      <th>97.5_ci</th>\n",
       "      <th>SE</th>\n",
       "      <th>DF</th>\n",
       "      <th>T-stat</th>\n",
       "      <th>P-val</th>\n",
       "      <th>Sig</th>\n",
       "    </tr>\n",
       "  </thead>\n",
       "  <tbody>\n",
       "    <tr>\n",
       "      <th>(Intercept)</th>\n",
       "      <td>57.856117</td>\n",
       "      <td>50.077670</td>\n",
       "      <td>65.634564</td>\n",
       "      <td>3.968668</td>\n",
       "      <td>13.993803</td>\n",
       "      <td>14.578219</td>\n",
       "      <td>7.462237e-10</td>\n",
       "      <td>***</td>\n",
       "    </tr>\n",
       "    <tr>\n",
       "      <th>mes</th>\n",
       "      <td>4.336513</td>\n",
       "      <td>3.925193</td>\n",
       "      <td>4.747834</td>\n",
       "      <td>0.209861</td>\n",
       "      <td>13.819995</td>\n",
       "      <td>20.663712</td>\n",
       "      <td>8.689833e-12</td>\n",
       "      <td>***</td>\n",
       "    </tr>\n",
       "  </tbody>\n",
       "</table>\n",
       "</div>"
      ],
      "text/plain": [
       "              Estimate     2.5_ci    97.5_ci        SE         DF     T-stat  \\\n",
       "(Intercept)  57.856117  50.077670  65.634564  3.968668  13.993803  14.578219   \n",
       "mes           4.336513   3.925193   4.747834  0.209861  13.819995  20.663712   \n",
       "\n",
       "                    P-val  Sig  \n",
       "(Intercept)  7.462237e-10  ***  \n",
       "mes          8.689833e-12  ***  "
      ]
     },
     "execution_count": 53,
     "metadata": {},
     "output_type": "execute_result"
    }
   ],
   "source": [
    "#Efeitos fixos\n",
    "hlm3_Inte_Incl.coefs"
   ]
  },
  {
   "cell_type": "markdown",
   "metadata": {},
   "source": [
    "**P_value da variável mes nos efeitos fixos se mostra estatisticamente significante para o modelo**"
   ]
  },
  {
   "cell_type": "markdown",
   "metadata": {},
   "source": [
    "## Efeitos Aleatorios"
   ]
  },
  {
   "cell_type": "code",
   "execution_count": 27,
   "metadata": {},
   "outputs": [
    {
     "data": {
      "text/html": [
       "<div>\n",
       "<style scoped>\n",
       "    .dataframe tbody tr th:only-of-type {\n",
       "        vertical-align: middle;\n",
       "    }\n",
       "\n",
       "    .dataframe tbody tr th {\n",
       "        vertical-align: top;\n",
       "    }\n",
       "\n",
       "    .dataframe thead th {\n",
       "        text-align: right;\n",
       "    }\n",
       "</style>\n",
       "<table border=\"1\" class=\"dataframe\">\n",
       "  <thead>\n",
       "    <tr style=\"text-align: right;\">\n",
       "      <th></th>\n",
       "      <th>Name</th>\n",
       "      <th>Var</th>\n",
       "      <th>Std</th>\n",
       "    </tr>\n",
       "  </thead>\n",
       "  <tbody>\n",
       "    <tr>\n",
       "      <th>estudante</th>\n",
       "      <td>(Intercept)</td>\n",
       "      <td>388.982493</td>\n",
       "      <td>19.722639</td>\n",
       "    </tr>\n",
       "    <tr>\n",
       "      <th>estudante</th>\n",
       "      <td>mes</td>\n",
       "      <td>3.325111</td>\n",
       "      <td>1.823489</td>\n",
       "    </tr>\n",
       "    <tr>\n",
       "      <th>escola</th>\n",
       "      <td>(Intercept)</td>\n",
       "      <td>225.473979</td>\n",
       "      <td>15.015791</td>\n",
       "    </tr>\n",
       "    <tr>\n",
       "      <th>escola</th>\n",
       "      <td>mes</td>\n",
       "      <td>0.552928</td>\n",
       "      <td>0.743591</td>\n",
       "    </tr>\n",
       "  </tbody>\n",
       "</table>\n",
       "</div>"
      ],
      "text/plain": [
       "                  Name         Var        Std\n",
       "estudante  (Intercept)  388.982493  19.722639\n",
       "estudante          mes    3.325111   1.823489\n",
       "escola     (Intercept)  225.473979  15.015791\n",
       "escola             mes    0.552928   0.743591"
      ]
     },
     "execution_count": 27,
     "metadata": {},
     "output_type": "execute_result"
    }
   ],
   "source": [
    "#Efeitos Aleatorios\n",
    "hlm3_Inte_Incl.ranef_var[:4]"
   ]
  },
  {
   "cell_type": "markdown",
   "metadata": {},
   "source": [
    "## COMPARAÇÃO DOS LOGLIKES ENTRE OS MODELOS"
   ]
  },
  {
   "cell_type": "code",
   "execution_count": 74,
   "metadata": {},
   "outputs": [
    {
     "data": {
      "image/png": "[encoded data removed]",
      "text/plain": [
       "<Figure size 432x288 with 1 Axes>"
      ]
     },
     "metadata": {},
     "output_type": "display_data"
    }
   ],
   "source": [
    "#Criar um dataFrame com os LLs\n",
    "a = ['HLM3_Nulo','OLS_nulo','HLM3_Inclinacoes_Aleatorios']\n",
    "b = [hlm3_nulo.llf,ols_nulo.llf,hlm3_Inte_Incl.logLike]\n",
    "dados_grafico = pd.DataFrame(a,b)\n",
    "dados_grafico= dados_grafico.reset_index()\n",
    "dados_grafico.columns=['Index','Modelo']\n",
    "\n",
    "#Plotar no Grafico \n",
    "df_ordenado = dados_grafico.sort_values(by='Index',ascending=True)\n",
    "plt.barh(df_ordenado.Modelo, df_ordenado.Index, color='red', alpha=0.5)\n",
    "plt.title('Comparação dos LL',size=40,);"
   ]
  },
  {
   "cell_type": "markdown",
   "metadata": {},
   "source": [
    "**Como a variáveis 'mes' se mostrou estatisticamente significante, o LL do modelo foi ainda melhor que os anteriores**"
   ]
  },
  {
   "cell_type": "markdown",
   "metadata": {},
   "source": [
    "## 3° Estagio do modelo Step Up:\n",
    "\n",
    "\n"
   ]
  },
  {
   "cell_type": "markdown",
   "metadata": {},
   "source": [
    "## Estimação do modelo final HLM3 com tendência linear, Interceptos e inclinações aleatórias e as variáveis 'ativ' nivel 2 e 'texp' nivel 3"
   ]
  },
  {
   "cell_type": "code",
   "execution_count": 75,
   "metadata": {},
   "outputs": [
    {
     "name": "stdout",
     "output_type": "stream",
     "text": [
      "Formula: desempenho~mes+ativ+texp+ativ:mes+texp:mes+(mes|estudante)+(mes|escola)\n",
      "\n",
      "Family: gaussian\t Inference: parametric\n",
      "\n",
      "Number of observations: 2440\t Groups: {'estudante': 610.0, 'escola': 15.0}\n",
      "\n",
      "Log-likelihood: -7376.715 \t AIC: 14753.429\n",
      "\n",
      "Random effects:\n",
      "\n",
      "Empty DataFrame\n",
      "Columns: [Name, Var, Std]\n",
      "Index: []\n",
      "\n",
      "                   IV1   IV2    Corr\n",
      "estudante  (Intercept)  None  18.733\n",
      "estudante          mes  None   1.805\n",
      "estudante  (Intercept)   mes  -0.392\n",
      "escola     (Intercept)  None   9.420\n",
      "escola             mes  None   0.505\n",
      "escola     (Intercept)   mes  -0.669\n",
      "Residual          None  None   1.948\n",
      "\n",
      "Fixed effects:\n",
      "\n",
      "Formula: desempenho~mes+ativ+texp+ativ:mes+texp:mes+(mes|estudante)+(mes|escola)\n",
      "\n",
      "Family: gaussian\t Inference: parametric\n",
      "\n",
      "Number of observations: 2440\t Groups: {'estudante': 610.0, 'escola': 15.0}\n",
      "\n",
      "Log-likelihood: -7376.715 \t AIC: 14753.429\n",
      "\n",
      "Random effects:\n",
      "\n",
      "Empty DataFrame\n",
      "Columns: [Name, Var, Std]\n",
      "Index: []\n",
      "\n",
      "                   IV1   IV2    Corr\n",
      "estudante  (Intercept)  None  18.733\n",
      "estudante          mes  None   1.805\n",
      "estudante  (Intercept)   mes  -0.392\n",
      "escola     (Intercept)  None   9.420\n",
      "escola             mes  None   0.505\n",
      "escola     (Intercept)   mes  -0.669\n",
      "Residual          None  None   1.948\n",
      "\n",
      "Fixed effects:\n",
      "\n"
     ]
    },
    {
     "data": {
      "text/html": [
       "<div>\n",
       "<style scoped>\n",
       "    .dataframe tbody tr th:only-of-type {\n",
       "        vertical-align: middle;\n",
       "    }\n",
       "\n",
       "    .dataframe tbody tr th {\n",
       "        vertical-align: top;\n",
       "    }\n",
       "\n",
       "    .dataframe thead th {\n",
       "        text-align: right;\n",
       "    }\n",
       "</style>\n",
       "<table border=\"1\" class=\"dataframe\">\n",
       "  <thead>\n",
       "    <tr style=\"text-align: right;\">\n",
       "      <th></th>\n",
       "      <th>Estimate</th>\n",
       "      <th>2.5_ci</th>\n",
       "      <th>97.5_ci</th>\n",
       "      <th>SE</th>\n",
       "      <th>DF</th>\n",
       "      <th>T-stat</th>\n",
       "      <th>P-val</th>\n",
       "      <th>Sig</th>\n",
       "    </tr>\n",
       "  </thead>\n",
       "  <tbody>\n",
       "    <tr>\n",
       "      <th>(Intercept)</th>\n",
       "      <td>40.032</td>\n",
       "      <td>32.455</td>\n",
       "      <td>47.609</td>\n",
       "      <td>3.866</td>\n",
       "      <td>14.193</td>\n",
       "      <td>10.355</td>\n",
       "      <td>0.000</td>\n",
       "      <td>***</td>\n",
       "    </tr>\n",
       "    <tr>\n",
       "      <th>mes</th>\n",
       "      <td>5.168</td>\n",
       "      <td>4.692</td>\n",
       "      <td>5.643</td>\n",
       "      <td>0.243</td>\n",
       "      <td>16.503</td>\n",
       "      <td>21.296</td>\n",
       "      <td>0.000</td>\n",
       "      <td>***</td>\n",
       "    </tr>\n",
       "    <tr>\n",
       "      <th>ativsim</th>\n",
       "      <td>14.702</td>\n",
       "      <td>11.183</td>\n",
       "      <td>18.221</td>\n",
       "      <td>1.796</td>\n",
       "      <td>606.764</td>\n",
       "      <td>8.188</td>\n",
       "      <td>0.000</td>\n",
       "      <td>***</td>\n",
       "    </tr>\n",
       "    <tr>\n",
       "      <th>texp</th>\n",
       "      <td>1.179</td>\n",
       "      <td>0.501</td>\n",
       "      <td>1.857</td>\n",
       "      <td>0.346</td>\n",
       "      <td>13.131</td>\n",
       "      <td>3.408</td>\n",
       "      <td>0.005</td>\n",
       "      <td>**</td>\n",
       "    </tr>\n",
       "    <tr>\n",
       "      <th>mes:ativsim</th>\n",
       "      <td>-0.652</td>\n",
       "      <td>-1.014</td>\n",
       "      <td>-0.290</td>\n",
       "      <td>0.185</td>\n",
       "      <td>514.042</td>\n",
       "      <td>-3.529</td>\n",
       "      <td>0.000</td>\n",
       "      <td>***</td>\n",
       "    </tr>\n",
       "    <tr>\n",
       "      <th>mes:texp</th>\n",
       "      <td>-0.057</td>\n",
       "      <td>-0.098</td>\n",
       "      <td>-0.015</td>\n",
       "      <td>0.021</td>\n",
       "      <td>13.708</td>\n",
       "      <td>-2.698</td>\n",
       "      <td>0.018</td>\n",
       "      <td>*</td>\n",
       "    </tr>\n",
       "  </tbody>\n",
       "</table>\n",
       "</div>"
      ],
      "text/plain": [
       "             Estimate  2.5_ci  97.5_ci     SE       DF  T-stat  P-val  Sig\n",
       "(Intercept)    40.032  32.455   47.609  3.866   14.193  10.355  0.000  ***\n",
       "mes             5.168   4.692    5.643  0.243   16.503  21.296  0.000  ***\n",
       "ativsim        14.702  11.183   18.221  1.796  606.764   8.188  0.000  ***\n",
       "texp            1.179   0.501    1.857  0.346   13.131   3.408  0.005   **\n",
       "mes:ativsim    -0.652  -1.014   -0.290  0.185  514.042  -3.529  0.000  ***\n",
       "mes:texp       -0.057  -0.098   -0.015  0.021   13.708  -2.698  0.018    *"
      ]
     },
     "execution_count": 75,
     "metadata": {},
     "output_type": "execute_result"
    }
   ],
   "source": [
    "#Modelo 4\n",
    "modelo_final = Lmer(\"desempenho ~ mes + ativ + texp + ativ:mes + texp:mes + (mes|estudante) + (mes|escola)\", data=dados)\n",
    "\n",
    "modelo_final.fit()\n",
    "\n",
    " \n",
    "modelo_final.summary()"
   ]
  },
  {
   "cell_type": "markdown",
   "metadata": {},
   "source": [
    "**Todos os p_values são estatisticamente significantes**"
   ]
  },
  {
   "cell_type": "markdown",
   "metadata": {},
   "source": [
    "## COMPARAÇÃO DOS LOGLIKES ENTRE OS MODELOS"
   ]
  },
  {
   "cell_type": "code",
   "execution_count": 30,
   "metadata": {},
   "outputs": [
    {
     "data": {
      "image/png": "[encoded data removed]",
      "text/plain": [
       "<Figure size 720x432 with 1 Axes>"
      ]
     },
     "metadata": {},
     "output_type": "display_data"
    }
   ],
   "source": [
    "#Criar um dataFrame com os LLs\n",
    "a = ['HLM3_Nulo','OLS_nulo','HLM3_Inclinacoes_Aleatorios','HLM3_Final']\n",
    "b = [hlm3_nulo.llf,ols_nulo.llf,hlm3_Inte_Incl.logLike,modelo_final.logLike]\n",
    "dados_grafico = pd.DataFrame(a,b)\n",
    "dados_grafico= dados_grafico.reset_index()\n",
    "dados_grafico.columns=['Index','Modelo']\n",
    "\n",
    "#Plotar no Grafico \n",
    "plt.figure(figsize=(10, 6))\n",
    "df_ordenado = dados_grafico.sort_values(by='Index',ascending=True)\n",
    "plt.barh(df_ordenado.Modelo, df_ordenado.Index, color='red', alpha=0.5)\n",
    "plt.title('Comparação dos LL',size=40,);\n"
   ]
  },
  {
   "cell_type": "markdown",
   "metadata": {},
   "source": [
    "**As variáveis adicionadas 'ativ' e 'texp' se mostraram significantes para o modelo, portanto o modelo final foi o que obteve o melhor LL**"
   ]
  },
  {
   "cell_type": "markdown",
   "metadata": {},
   "source": [
    "## Verificar se os valores do LL do modelo final e do modelo HLM3_Inclinacoes_Aleatorios são estatisticamente diferentes "
   ]
  },
  {
   "cell_type": "code",
   "execution_count": 31,
   "metadata": {},
   "outputs": [
    {
     "name": "stdout",
     "output_type": "stream",
     "text": [
      "P_valor: 0.0\n"
     ]
    }
   ],
   "source": [
    "#Comparação dos LL\n",
    "import statsmodels.api as sm\n",
    "import statsmodels.formula.api as smf\n",
    "from scipy import stats\n",
    "stats.chisqprob = lambda chisq, df: stats.chi2.sf(chisq, df)\n",
    "\n",
    "def lrtest(llmin, llmax):\n",
    "    lr = 2 * (llmax - llmin)\n",
    "    p = stats.chisqprob(lr, 1) # llmax has 1 dof more than llmin\n",
    "    return lr, p\n",
    "\n",
    "lr, p = lrtest(hlm3_Inte_Incl.logLike,modelo_final.logLike)\n",
    "print(f'P_valor: {round(p,10)}')"
   ]
  },
  {
   "cell_type": "markdown",
   "metadata": {},
   "source": [
    "**p_value < 0.05, rejeita a hipótese nula, os loglikes dos 2 modelos não são estatisticamente iguais, portanto o modelo final apresentou o melhor LL, consequentemente o melhor modelo**"
   ]
  },
  {
   "cell_type": "markdown",
   "metadata": {},
   "source": [
    "## Gráfico dos parâmetros da variavel Escola"
   ]
  },
  {
   "cell_type": "code",
   "execution_count": 32,
   "metadata": {},
   "outputs": [
    {
     "data": {
      "image/png": "[encoded data removed]",
      "text/plain": [
       "<Figure size 864x504 with 2 Axes>"
      ]
     },
     "metadata": {},
     "output_type": "display_data"
    }
   ],
   "source": [
    "#Parametros Aleatório Escola\n",
    "aleat_escola = modelo_final.ranef[1]\n",
    "aleat_escola\n",
    "\n",
    "fig, (ax1, ax2) = plt.subplots(1, 2, figsize=(12,7))\n",
    "a = np.arange(len(aleat_escola))+1\n",
    "b = aleat_escola.iloc[:,0]\n",
    "ax1.barh(a,b);\n",
    "ax1.set(title=\"Efeitos aleatorios de Intercepto\", xlabel=\"Y00\", ylabel=\"Escola\")\n",
    "plt.gca().invert_yaxis()\n",
    "\n",
    "\n",
    "a1 = np.arange(len(aleat_escola))+1\n",
    "b1 = aleat_escola.mes\n",
    "ax2.barh(a1,b1);\n",
    "ax2.set(title=\"Efeitos aleatorios de Inclinação\", xlabel=\"V1j\", ylabel=\"Escola\")\n",
    "plt.gca().invert_yaxis()"
   ]
  },
  {
   "cell_type": "markdown",
   "metadata": {},
   "source": [
    "**Primeiro gráfico mostra qual escola apresenta o maior e menor impacto para o intercepto do modelo**"
   ]
  },
  {
   "cell_type": "markdown",
   "metadata": {},
   "source": [
    "**Segundo gráfico mostra qual escola apresenta o maior e menor impacto para a inclinação do modelo**"
   ]
  },
  {
   "cell_type": "code",
   "execution_count": 33,
   "metadata": {},
   "outputs": [
    {
     "data": {
      "text/html": [
       "<div>\n",
       "<style scoped>\n",
       "    .dataframe tbody tr th:only-of-type {\n",
       "        vertical-align: middle;\n",
       "    }\n",
       "\n",
       "    .dataframe tbody tr th {\n",
       "        vertical-align: top;\n",
       "    }\n",
       "\n",
       "    .dataframe thead th {\n",
       "        text-align: right;\n",
       "    }\n",
       "</style>\n",
       "<table border=\"1\" class=\"dataframe\">\n",
       "  <thead>\n",
       "    <tr style=\"text-align: right;\">\n",
       "      <th></th>\n",
       "      <th>Escola_Intercepto</th>\n",
       "      <th>Escola_Inclinacao</th>\n",
       "    </tr>\n",
       "  </thead>\n",
       "  <tbody>\n",
       "    <tr>\n",
       "      <th>1</th>\n",
       "      <td>-2.182077</td>\n",
       "      <td>-0.118645</td>\n",
       "    </tr>\n",
       "    <tr>\n",
       "      <th>2</th>\n",
       "      <td>6.822310</td>\n",
       "      <td>-0.040977</td>\n",
       "    </tr>\n",
       "    <tr>\n",
       "      <th>3</th>\n",
       "      <td>-8.109680</td>\n",
       "      <td>0.319769</td>\n",
       "    </tr>\n",
       "    <tr>\n",
       "      <th>4</th>\n",
       "      <td>4.958260</td>\n",
       "      <td>-0.070619</td>\n",
       "    </tr>\n",
       "    <tr>\n",
       "      <th>5</th>\n",
       "      <td>0.486312</td>\n",
       "      <td>0.320370</td>\n",
       "    </tr>\n",
       "    <tr>\n",
       "      <th>6</th>\n",
       "      <td>0.191638</td>\n",
       "      <td>0.437448</td>\n",
       "    </tr>\n",
       "    <tr>\n",
       "      <th>7</th>\n",
       "      <td>-2.667536</td>\n",
       "      <td>-0.052800</td>\n",
       "    </tr>\n",
       "    <tr>\n",
       "      <th>8</th>\n",
       "      <td>9.727054</td>\n",
       "      <td>-0.802741</td>\n",
       "    </tr>\n",
       "    <tr>\n",
       "      <th>9</th>\n",
       "      <td>7.497835</td>\n",
       "      <td>-0.396261</td>\n",
       "    </tr>\n",
       "    <tr>\n",
       "      <th>10</th>\n",
       "      <td>16.113302</td>\n",
       "      <td>-0.384274</td>\n",
       "    </tr>\n",
       "    <tr>\n",
       "      <th>11</th>\n",
       "      <td>-14.885127</td>\n",
       "      <td>0.729635</td>\n",
       "    </tr>\n",
       "    <tr>\n",
       "      <th>12</th>\n",
       "      <td>-8.064072</td>\n",
       "      <td>0.590958</td>\n",
       "    </tr>\n",
       "    <tr>\n",
       "      <th>13</th>\n",
       "      <td>-7.882590</td>\n",
       "      <td>-0.099673</td>\n",
       "    </tr>\n",
       "    <tr>\n",
       "      <th>14</th>\n",
       "      <td>-8.976691</td>\n",
       "      <td>-0.038620</td>\n",
       "    </tr>\n",
       "    <tr>\n",
       "      <th>15</th>\n",
       "      <td>6.971062</td>\n",
       "      <td>-0.393570</td>\n",
       "    </tr>\n",
       "  </tbody>\n",
       "</table>\n",
       "</div>"
      ],
      "text/plain": [
       "    Escola_Intercepto  Escola_Inclinacao\n",
       "1           -2.182077          -0.118645\n",
       "2            6.822310          -0.040977\n",
       "3           -8.109680           0.319769\n",
       "4            4.958260          -0.070619\n",
       "5            0.486312           0.320370\n",
       "6            0.191638           0.437448\n",
       "7           -2.667536          -0.052800\n",
       "8            9.727054          -0.802741\n",
       "9            7.497835          -0.396261\n",
       "10          16.113302          -0.384274\n",
       "11         -14.885127           0.729635\n",
       "12          -8.064072           0.590958\n",
       "13          -7.882590          -0.099673\n",
       "14          -8.976691          -0.038620\n",
       "15           6.971062          -0.393570"
      ]
     },
     "execution_count": 33,
     "metadata": {},
     "output_type": "execute_result"
    }
   ],
   "source": [
    "#Tabela dos parâmetros de intercepto e inclinação das escolas\n",
    "efeitos = pd.DataFrame(aleat_escola)\n",
    "efeitos.columns = ['Escola_Intercepto','Escola_Inclinacao']\n",
    "efeitos"
   ]
  },
  {
   "cell_type": "markdown",
   "metadata": {},
   "source": [
    "**Podemos observar que a escola 10 apresenta o maior impacto de influência positiva para o intercepto do modelo no desempenho dos alunos e a escola 11 a menor, porém quando observamos os efeitos aleatórios ao longo dos meses a escola 11 é a que tem o maior efeito positivo**"
   ]
  },
  {
   "cell_type": "markdown",
   "metadata": {},
   "source": [
    "# Previsão "
   ]
  },
  {
   "cell_type": "code",
   "execution_count": 34,
   "metadata": {},
   "outputs": [
    {
     "data": {
      "text/html": [
       "<div>\n",
       "<style scoped>\n",
       "    .dataframe tbody tr th:only-of-type {\n",
       "        vertical-align: middle;\n",
       "    }\n",
       "\n",
       "    .dataframe tbody tr th {\n",
       "        vertical-align: top;\n",
       "    }\n",
       "\n",
       "    .dataframe thead th {\n",
       "        text-align: right;\n",
       "    }\n",
       "</style>\n",
       "<table border=\"1\" class=\"dataframe\">\n",
       "  <thead>\n",
       "    <tr style=\"text-align: right;\">\n",
       "      <th></th>\n",
       "      <th>Previsao</th>\n",
       "      <th>target</th>\n",
       "    </tr>\n",
       "  </thead>\n",
       "  <tbody>\n",
       "    <tr>\n",
       "      <th>0</th>\n",
       "      <td>36.790914</td>\n",
       "      <td>35.400002</td>\n",
       "    </tr>\n",
       "    <tr>\n",
       "      <th>1</th>\n",
       "      <td>42.046005</td>\n",
       "      <td>44.400002</td>\n",
       "    </tr>\n",
       "    <tr>\n",
       "      <th>2</th>\n",
       "      <td>47.301096</td>\n",
       "      <td>46.400002</td>\n",
       "    </tr>\n",
       "    <tr>\n",
       "      <th>3</th>\n",
       "      <td>52.556186</td>\n",
       "      <td>52.400002</td>\n",
       "    </tr>\n",
       "    <tr>\n",
       "      <th>4</th>\n",
       "      <td>73.716993</td>\n",
       "      <td>74.900002</td>\n",
       "    </tr>\n",
       "    <tr>\n",
       "      <th>...</th>\n",
       "      <td>...</td>\n",
       "      <td>...</td>\n",
       "    </tr>\n",
       "    <tr>\n",
       "      <th>2435</th>\n",
       "      <td>99.472755</td>\n",
       "      <td>100.000000</td>\n",
       "    </tr>\n",
       "    <tr>\n",
       "      <th>2436</th>\n",
       "      <td>87.928477</td>\n",
       "      <td>87.599998</td>\n",
       "    </tr>\n",
       "    <tr>\n",
       "      <th>2437</th>\n",
       "      <td>91.749234</td>\n",
       "      <td>92.599998</td>\n",
       "    </tr>\n",
       "    <tr>\n",
       "      <th>2438</th>\n",
       "      <td>95.569992</td>\n",
       "      <td>94.599998</td>\n",
       "    </tr>\n",
       "    <tr>\n",
       "      <th>2439</th>\n",
       "      <td>99.390750</td>\n",
       "      <td>100.000000</td>\n",
       "    </tr>\n",
       "  </tbody>\n",
       "</table>\n",
       "<p>2440 rows × 2 columns</p>\n",
       "</div>"
      ],
      "text/plain": [
       "       Previsao      target\n",
       "0     36.790914   35.400002\n",
       "1     42.046005   44.400002\n",
       "2     47.301096   46.400002\n",
       "3     52.556186   52.400002\n",
       "4     73.716993   74.900002\n",
       "...         ...         ...\n",
       "2435  99.472755  100.000000\n",
       "2436  87.928477   87.599998\n",
       "2437  91.749234   92.599998\n",
       "2438  95.569992   94.599998\n",
       "2439  99.390750  100.000000\n",
       "\n",
       "[2440 rows x 2 columns]"
      ]
     },
     "execution_count": 34,
     "metadata": {},
     "output_type": "execute_result"
    }
   ],
   "source": [
    "#Previsão dos dados X  Target\n",
    "previsao = pd.DataFrame(modelo_final.fits,columns=['Previsao'])\n",
    "previsao['target'] = y\n",
    "previsao"
   ]
  },
  {
   "cell_type": "markdown",
   "metadata": {},
   "source": [
    "**Previsão do modelo**"
   ]
  },
  {
   "cell_type": "code",
   "execution_count": 35,
   "metadata": {},
   "outputs": [
    {
     "data": {
      "text/html": [
       "<div>\n",
       "<style scoped>\n",
       "    .dataframe tbody tr th:only-of-type {\n",
       "        vertical-align: middle;\n",
       "    }\n",
       "\n",
       "    .dataframe tbody tr th {\n",
       "        vertical-align: top;\n",
       "    }\n",
       "\n",
       "    .dataframe thead th {\n",
       "        text-align: right;\n",
       "    }\n",
       "</style>\n",
       "<table border=\"1\" class=\"dataframe\">\n",
       "  <thead>\n",
       "    <tr style=\"text-align: right;\">\n",
       "      <th></th>\n",
       "      <th>escola</th>\n",
       "      <th>estudante</th>\n",
       "      <th>mes</th>\n",
       "      <th>desempenho</th>\n",
       "      <th>ativ</th>\n",
       "      <th>texp</th>\n",
       "      <th>residuals</th>\n",
       "      <th>fits</th>\n",
       "    </tr>\n",
       "  </thead>\n",
       "  <tbody>\n",
       "    <tr>\n",
       "      <th>0</th>\n",
       "      <td>1</td>\n",
       "      <td>1</td>\n",
       "      <td>1</td>\n",
       "      <td>35.400002</td>\n",
       "      <td>não</td>\n",
       "      <td>2</td>\n",
       "      <td>-1.390913</td>\n",
       "      <td>36.790914</td>\n",
       "    </tr>\n",
       "    <tr>\n",
       "      <th>1</th>\n",
       "      <td>1</td>\n",
       "      <td>1</td>\n",
       "      <td>2</td>\n",
       "      <td>44.400002</td>\n",
       "      <td>não</td>\n",
       "      <td>2</td>\n",
       "      <td>2.353997</td>\n",
       "      <td>42.046005</td>\n",
       "    </tr>\n",
       "    <tr>\n",
       "      <th>2</th>\n",
       "      <td>1</td>\n",
       "      <td>1</td>\n",
       "      <td>3</td>\n",
       "      <td>46.400002</td>\n",
       "      <td>não</td>\n",
       "      <td>2</td>\n",
       "      <td>-0.901094</td>\n",
       "      <td>47.301096</td>\n",
       "    </tr>\n",
       "    <tr>\n",
       "      <th>3</th>\n",
       "      <td>1</td>\n",
       "      <td>1</td>\n",
       "      <td>4</td>\n",
       "      <td>52.400002</td>\n",
       "      <td>não</td>\n",
       "      <td>2</td>\n",
       "      <td>-0.156185</td>\n",
       "      <td>52.556186</td>\n",
       "    </tr>\n",
       "    <tr>\n",
       "      <th>4</th>\n",
       "      <td>1</td>\n",
       "      <td>2</td>\n",
       "      <td>1</td>\n",
       "      <td>74.900002</td>\n",
       "      <td>não</td>\n",
       "      <td>2</td>\n",
       "      <td>1.183008</td>\n",
       "      <td>73.716993</td>\n",
       "    </tr>\n",
       "    <tr>\n",
       "      <th>...</th>\n",
       "      <td>...</td>\n",
       "      <td>...</td>\n",
       "      <td>...</td>\n",
       "      <td>...</td>\n",
       "      <td>...</td>\n",
       "      <td>...</td>\n",
       "      <td>...</td>\n",
       "      <td>...</td>\n",
       "    </tr>\n",
       "    <tr>\n",
       "      <th>2435</th>\n",
       "      <td>15</td>\n",
       "      <td>609</td>\n",
       "      <td>4</td>\n",
       "      <td>100.000000</td>\n",
       "      <td>sim</td>\n",
       "      <td>9</td>\n",
       "      <td>0.527245</td>\n",
       "      <td>99.472755</td>\n",
       "    </tr>\n",
       "    <tr>\n",
       "      <th>2436</th>\n",
       "      <td>15</td>\n",
       "      <td>610</td>\n",
       "      <td>1</td>\n",
       "      <td>87.599998</td>\n",
       "      <td>sim</td>\n",
       "      <td>9</td>\n",
       "      <td>-0.328478</td>\n",
       "      <td>87.928477</td>\n",
       "    </tr>\n",
       "    <tr>\n",
       "      <th>2437</th>\n",
       "      <td>15</td>\n",
       "      <td>610</td>\n",
       "      <td>2</td>\n",
       "      <td>92.599998</td>\n",
       "      <td>sim</td>\n",
       "      <td>9</td>\n",
       "      <td>0.850764</td>\n",
       "      <td>91.749234</td>\n",
       "    </tr>\n",
       "    <tr>\n",
       "      <th>2438</th>\n",
       "      <td>15</td>\n",
       "      <td>610</td>\n",
       "      <td>3</td>\n",
       "      <td>94.599998</td>\n",
       "      <td>sim</td>\n",
       "      <td>9</td>\n",
       "      <td>-0.969994</td>\n",
       "      <td>95.569992</td>\n",
       "    </tr>\n",
       "    <tr>\n",
       "      <th>2439</th>\n",
       "      <td>15</td>\n",
       "      <td>610</td>\n",
       "      <td>4</td>\n",
       "      <td>100.000000</td>\n",
       "      <td>sim</td>\n",
       "      <td>9</td>\n",
       "      <td>0.609250</td>\n",
       "      <td>99.390750</td>\n",
       "    </tr>\n",
       "  </tbody>\n",
       "</table>\n",
       "<p>2440 rows × 8 columns</p>\n",
       "</div>"
      ],
      "text/plain": [
       "      escola  estudante  mes  desempenho ativ  texp  residuals       fits\n",
       "0          1          1    1   35.400002  não     2  -1.390913  36.790914\n",
       "1          1          1    2   44.400002  não     2   2.353997  42.046005\n",
       "2          1          1    3   46.400002  não     2  -0.901094  47.301096\n",
       "3          1          1    4   52.400002  não     2  -0.156185  52.556186\n",
       "4          1          2    1   74.900002  não     2   1.183008  73.716993\n",
       "...      ...        ...  ...         ...  ...   ...        ...        ...\n",
       "2435      15        609    4  100.000000  sim     9   0.527245  99.472755\n",
       "2436      15        610    1   87.599998  sim     9  -0.328478  87.928477\n",
       "2437      15        610    2   92.599998  sim     9   0.850764  91.749234\n",
       "2438      15        610    3   94.599998  sim     9  -0.969994  95.569992\n",
       "2439      15        610    4  100.000000  sim     9   0.609250  99.390750\n",
       "\n",
       "[2440 rows x 8 columns]"
      ]
     },
     "execution_count": 35,
     "metadata": {},
     "output_type": "execute_result"
    }
   ],
   "source": [
    "#Base total\n",
    "modelo_final.data"
   ]
  },
  {
   "cell_type": "markdown",
   "metadata": {},
   "source": [
    "**Tabela mostra as variáveis explicativas, variável target, a previsão do modelo e os resíduos gerados**"
   ]
  },
  {
   "cell_type": "code",
   "execution_count": 36,
   "metadata": {},
   "outputs": [
    {
     "data": {
      "image/png": "[encoded data removed]",
      "text/plain": [
       "<Figure size 432x288 with 1 Axes>"
      ]
     },
     "metadata": {},
     "output_type": "display_data"
    }
   ],
   "source": [
    "#Gráficos\n",
    "plt.scatter(dados.desempenho,modelo_final.data.fits);\n",
    "\n",
    "plt.xlabel('Desempenho');\n",
    "plt.ylabel('fixed_aleat X OLS')\n",
    "plt.legend(['Predict_efeito_Aleatorio','OLS']);"
   ]
  },
  {
   "cell_type": "markdown",
   "metadata": {},
   "source": [
    "**Percebemos um ajuste linear entre os dados de desempenho(Target) em relação aos dados previstos**"
   ]
  },
  {
   "cell_type": "markdown",
   "metadata": {},
   "source": [
    "## Conclusão:"
   ]
  },
  {
   "cell_type": "markdown",
   "metadata": {},
   "source": [
    "**Os Modelos Multiníveis levam em consideração uma estrutura aninhada para os dados, combinando informações de variáveis de diferentes níveis, e reduzindo perda de informações, caso as variáveis se mostrem estatisticamente significantes para o modelo, dificilmente outro modelo conseguirá obter uma métrica melhor**"
   ]
  }
 ],
 "metadata": {
  "kernelspec": {
   "display_name": "Python 3 (ipykernel)",
   "language": "python",
   "name": "python3"
  },
  "language_info": {
   "codemirror_mode": {
    "name": "ipython",
    "version": 3
   },
   "file_extension": ".py",
   "mimetype": "text/x-python",
   "name": "python",
   "nbconvert_exporter": "python",
   "pygments_lexer": "ipython3",
   "version": "3.9.12"
  }
 },
 "nbformat": 4,
 "nbformat_minor": 4
}
