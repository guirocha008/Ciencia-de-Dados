{
 "cells": [
  {
   "cell_type": "markdown",
   "metadata": {},
   "source": [
    "# $$Naive~Bayes:Classificação$$"
   ]
  },
  {
   "cell_type": "markdown",
   "metadata": {},
   "source": [
    "### $$Conceito:$$\n",
    "\n",
    "-----------------------------------------------------------------------------------------------------------------------\n",
    "\n",
    "**Mede a probabilidade de o evento ocorrer ou não**, assumindo que as variáveis explicativas são todas igualmente importantes e **sem correlação**\n",
    "\n",
    "\n",
    "\n",
    "**Hipótese de independência entre os atributos**, leva em conta que cada variável preditora tem uma participação independente na variável target, sendo assim se as variáveis tiverem alta correlação entre si, o modelo pode ser enviesado\n",
    "\n",
    "\n",
    "\n",
    "**Tipo de Distribuição:** Dados podem ser paramétricos ou não paramétricos\n",
    "\n",
    "\n",
    "\n",
    "\n",
    "**Probabilidade Condicional:** A probabilidade de o evento ocorrer (Variável Target), é calculada de forma individual para cada variável explicativa, e no final, soma-se todas as probabilidades de cada variáveis em relação cada classe da variável target e escolhe a que tiver maior probabilidade de ocorrer o evento\n",
    "\n",
    "\n",
    "\n",
    "**Laplace (Problema da frequência 0)** = Quando um dado não é visto no treinamento ou ele só ocorre em uma das classe na variável target, o algoritmo não é capaz de prever, sendo 0 sua probabilidade, Porem usando o Laplace ele acrescenta 1 dado para todas as variáveis explicativas inclusive onde não existia dado, sendo assim o algoritmo é capaz de prever o resultado mesmo que esse dado não tenha sido apresentado nos dados de treino\n",
    "\n",
    "-----------------------------------------------------------------------------------------------------------------------\n",
    "\n",
    "**Passos para criar o algoritmo Naive Bayes:**\n",
    "\n",
    "- 1°: Converter o conjunto de dados em uma tabela de frequência\n",
    "\n",
    "- 2°: Criar a tabela de probabilidade e encontrar a probabilidade de ocorrência de cada combinação de classes\n",
    "\n",
    "- 3°: Usar a equação do Teorema de bayes para calcular a probabilidade de cada classe da variável target, a classe com maior probabilidade é o resultado da previsão\n",
    "\n",
    "\n",
    "-----------------------------------------------------------------------------------------------------------------------\n",
    "\n",
    "\n",
    "### $$Tipos~de~Variáveis~Preditoras:$$\n",
    "\n",
    "\n",
    "-----------------------------------------------------------------------------------------------------------------------\n",
    "\n",
    "**Categórica:** Criar Tabela de Contingencia\n",
    "\n",
    "\n",
    "**Continua:** Função de Densidade de Probabilidade no cálculo da Probabilidade condicional, Transforma a variável em uma distribuição Normal, Função kernel de densidade para especificar um outro tipo de distribuição caso não seja Normal\n",
    "\n",
    "\n",
    "**Obs:** Desempenho é melhor em caso de variáveis explicativas categóricas em comparação com variáveis numéricas\n",
    "\n",
    "-----------------------------------------------------------------------------------------------------------------------\n",
    "                    \n",
    "\n",
    "\n",
    "### $$Tipos~de~Distribuições: Bernoulli, ~ Gaussian ~e ~ Multinomial$$\n",
    "\n",
    "-----------------------------------------------------------------------------------------------------------------------\n",
    "\n",
    "\n",
    "\n",
    "**Gaussian:**  Variáveis preditoras contínuas e com distribuição normal\n",
    "\n",
    "\n",
    "\n",
    "**Bernoulli:**  Usado quando as variáveis target são discretas, mas apenas dois valores são possíveis (Dicotômicas)\n",
    "\n",
    "\n",
    "\n",
    "**Multinominal:**  As variáveis target também são discretas, porem, 3 ou mais valores são possíveis(policotômicas)\n",
    "\n",
    "**OBS: Complement Naive Bayes** = Problema multinomial, aplicado quando as classes estão desbalanceadas na variável target\n",
    "\n",
    "\n",
    "\n",
    "\n"
   ]
  },
  {
   "cell_type": "markdown",
   "metadata": {},
   "source": [
    "__------------------------------------------------------------------------------------------------------------------------------------------------------------------------------------------------------------------__\n",
    "\n",
    "\n",
    "__------------------------------------------------------------------------------------------------------------------------------------------------------------------------------------------------------------------__"
   ]
  },
  {
   "cell_type": "markdown",
   "metadata": {},
   "source": [
    "\n",
    "## $$Objetivo ~1:$$\n",
    "\n",
    "\n",
    "## $$Encontrar ~o ~melhor~ modelo ~de~ Naive~ Bayes ~para ~a ~base~ de~ dados$$$$ de~ acordo~ com~ suas~ características$$\n"
   ]
  },
  {
   "cell_type": "markdown",
   "metadata": {},
   "source": [
    "__------------------------------------------------------------------------------------------------------------------------------------------------------------------------------------------------------------------__\n",
    "\n",
    "\n",
    "__------------------------------------------------------------------------------------------------------------------------------------------------------------------------------------------------------------------__"
   ]
  },
  {
   "cell_type": "code",
   "execution_count": 1,
   "metadata": {},
   "outputs": [],
   "source": [
    "#Importar as bibliotecas\n",
    "import numpy as np\n",
    "import pandas as pd \n",
    "from sklearn.naive_bayes import ComplementNB\n",
    "import matplotlib.pyplot as plt\n",
    "%matplotlib inline\n",
    "import warnings\n",
    "warnings.filterwarnings('ignore')"
   ]
  },
  {
   "cell_type": "markdown",
   "metadata": {},
   "source": [
    "# Banco de dados "
   ]
  },
  {
   "cell_type": "code",
   "execution_count": 2,
   "metadata": {},
   "outputs": [
    {
     "data": {
      "text/html": [
       "<div>\n",
       "<style scoped>\n",
       "    .dataframe tbody tr th:only-of-type {\n",
       "        vertical-align: middle;\n",
       "    }\n",
       "\n",
       "    .dataframe tbody tr th {\n",
       "        vertical-align: top;\n",
       "    }\n",
       "\n",
       "    .dataframe thead th {\n",
       "        text-align: right;\n",
       "    }\n",
       "</style>\n",
       "<table border=\"1\" class=\"dataframe\">\n",
       "  <thead>\n",
       "    <tr style=\"text-align: right;\">\n",
       "      <th></th>\n",
       "      <th>aspecto</th>\n",
       "      <th>temperatura</th>\n",
       "      <th>humidade</th>\n",
       "      <th>vento</th>\n",
       "      <th>jogar</th>\n",
       "    </tr>\n",
       "  </thead>\n",
       "  <tbody>\n",
       "    <tr>\n",
       "      <th>0</th>\n",
       "      <td>sol</td>\n",
       "      <td>quente</td>\n",
       "      <td>elevada</td>\n",
       "      <td>fraco</td>\n",
       "      <td>não</td>\n",
       "    </tr>\n",
       "    <tr>\n",
       "      <th>1</th>\n",
       "      <td>sol</td>\n",
       "      <td>quente</td>\n",
       "      <td>elevada</td>\n",
       "      <td>forte</td>\n",
       "      <td>não</td>\n",
       "    </tr>\n",
       "    <tr>\n",
       "      <th>2</th>\n",
       "      <td>nuvens</td>\n",
       "      <td>quente</td>\n",
       "      <td>elevada</td>\n",
       "      <td>fraco</td>\n",
       "      <td>sim</td>\n",
       "    </tr>\n",
       "    <tr>\n",
       "      <th>3</th>\n",
       "      <td>chuva</td>\n",
       "      <td>ameno</td>\n",
       "      <td>elevada</td>\n",
       "      <td>fraco</td>\n",
       "      <td>sim</td>\n",
       "    </tr>\n",
       "    <tr>\n",
       "      <th>4</th>\n",
       "      <td>chuva</td>\n",
       "      <td>fresco</td>\n",
       "      <td>normal</td>\n",
       "      <td>fraco</td>\n",
       "      <td>sim</td>\n",
       "    </tr>\n",
       "    <tr>\n",
       "      <th>5</th>\n",
       "      <td>chuva</td>\n",
       "      <td>fresco</td>\n",
       "      <td>normal</td>\n",
       "      <td>forte</td>\n",
       "      <td>não</td>\n",
       "    </tr>\n",
       "    <tr>\n",
       "      <th>6</th>\n",
       "      <td>nuvens</td>\n",
       "      <td>fresco</td>\n",
       "      <td>normal</td>\n",
       "      <td>fraco</td>\n",
       "      <td>sim</td>\n",
       "    </tr>\n",
       "    <tr>\n",
       "      <th>7</th>\n",
       "      <td>sol</td>\n",
       "      <td>ameno</td>\n",
       "      <td>elevada</td>\n",
       "      <td>fraco</td>\n",
       "      <td>não</td>\n",
       "    </tr>\n",
       "    <tr>\n",
       "      <th>8</th>\n",
       "      <td>sol</td>\n",
       "      <td>fresco</td>\n",
       "      <td>normal</td>\n",
       "      <td>fraco</td>\n",
       "      <td>sim</td>\n",
       "    </tr>\n",
       "    <tr>\n",
       "      <th>9</th>\n",
       "      <td>chuva</td>\n",
       "      <td>ameno</td>\n",
       "      <td>normal</td>\n",
       "      <td>forte</td>\n",
       "      <td>sim</td>\n",
       "    </tr>\n",
       "    <tr>\n",
       "      <th>10</th>\n",
       "      <td>sol</td>\n",
       "      <td>ameno</td>\n",
       "      <td>normal</td>\n",
       "      <td>forte</td>\n",
       "      <td>sim</td>\n",
       "    </tr>\n",
       "    <tr>\n",
       "      <th>11</th>\n",
       "      <td>nuvens</td>\n",
       "      <td>ameno</td>\n",
       "      <td>elevada</td>\n",
       "      <td>forte</td>\n",
       "      <td>sim</td>\n",
       "    </tr>\n",
       "    <tr>\n",
       "      <th>12</th>\n",
       "      <td>nuvens</td>\n",
       "      <td>quente</td>\n",
       "      <td>normal</td>\n",
       "      <td>fraco</td>\n",
       "      <td>sim</td>\n",
       "    </tr>\n",
       "    <tr>\n",
       "      <th>13</th>\n",
       "      <td>chuva</td>\n",
       "      <td>ameno</td>\n",
       "      <td>elevada</td>\n",
       "      <td>forte</td>\n",
       "      <td>não</td>\n",
       "    </tr>\n",
       "  </tbody>\n",
       "</table>\n",
       "</div>"
      ],
      "text/plain": [
       "   aspecto temperatura humidade  vento jogar\n",
       "0      sol      quente  elevada  fraco   não\n",
       "1      sol      quente  elevada  forte   não\n",
       "2   nuvens      quente  elevada  fraco   sim\n",
       "3    chuva       ameno  elevada  fraco   sim\n",
       "4    chuva      fresco   normal  fraco   sim\n",
       "5    chuva      fresco   normal  forte   não\n",
       "6   nuvens      fresco   normal  fraco   sim\n",
       "7      sol       ameno  elevada  fraco   não\n",
       "8      sol      fresco   normal  fraco   sim\n",
       "9    chuva       ameno   normal  forte   sim\n",
       "10     sol       ameno   normal  forte   sim\n",
       "11  nuvens       ameno  elevada  forte   sim\n",
       "12  nuvens      quente   normal  fraco   sim\n",
       "13   chuva       ameno  elevada  forte   não"
      ]
     },
     "execution_count": 2,
     "metadata": {},
     "output_type": "execute_result"
    }
   ],
   "source": [
    "# Carregando o dataset\n",
    "dados = pd.read_csv('jogartenis.csv',sep=',')\n",
    "dados = dados.iloc[:,1:]\n",
    "x = dados.iloc[:,1:5]\n",
    "y = dados.iloc[:,4]\n",
    "dados"
   ]
  },
  {
   "cell_type": "code",
   "execution_count": 3,
   "metadata": {},
   "outputs": [
    {
     "data": {
      "text/plain": [
       "(14, 5)"
      ]
     },
     "execution_count": 3,
     "metadata": {},
     "output_type": "execute_result"
    }
   ],
   "source": [
    "#Shape dos dados\n",
    "dados.shape"
   ]
  },
  {
   "cell_type": "markdown",
   "metadata": {},
   "source": [
    "\n",
    "**Base de dados com 14 linhas e 5 colunas**"
   ]
  },
  {
   "cell_type": "markdown",
   "metadata": {},
   "source": [
    "# Análise Exploratória"
   ]
  },
  {
   "cell_type": "markdown",
   "metadata": {},
   "source": [
    "## Histrograma de todas as Variáveis"
   ]
  },
  {
   "cell_type": "code",
   "execution_count": 4,
   "metadata": {},
   "outputs": [
    {
     "data": {
      "image/png": "[encoded data removed]",
      "text/plain": [
       "<Figure size 1296x1080 with 5 Axes>"
      ]
     },
     "metadata": {
      "needs_background": "light"
     },
     "output_type": "display_data"
    }
   ],
   "source": [
    "#Histograma\n",
    "columns=dados.columns[:5]\n",
    "plt.subplots(figsize=(18,15))\n",
    "length=len(columns)\n",
    "\n",
    "for i,j in zip(columns,range(length)):\n",
    "    plt.subplot((3),3,j+1)\n",
    "    plt.subplots_adjust(wspace=0.2, hspace=0.5)\n",
    "    dados[i].hist(bins=5,edgecolor='black')\n",
    "    plt.title(i)\n",
    "plt.show()"
   ]
  },
  {
   "cell_type": "markdown",
   "metadata": {},
   "source": [
    "**Dataset pequeno, com alguns desequilíbrios de dados entre as variáveis**"
   ]
  },
  {
   "cell_type": "markdown",
   "metadata": {},
   "source": [
    "# Modelagem:"
   ]
  },
  {
   "cell_type": "markdown",
   "metadata": {},
   "source": [
    "## 1° - Construir tabela de Contingencia  com as probabilidades para cada classe das variáveis preditoras\n",
    "\n",
    "\n"
   ]
  },
  {
   "cell_type": "markdown",
   "metadata": {},
   "source": [
    "- **Modelo Naive Bayes requer a construção da tabela de contingência e a tabela de probabilidades para as variáveis preditoras categóricas**"
   ]
  },
  {
   "cell_type": "markdown",
   "metadata": {},
   "source": [
    "### Variável Target"
   ]
  },
  {
   "cell_type": "code",
   "execution_count": 5,
   "metadata": {},
   "outputs": [
    {
     "data": {
      "text/html": [
       "<div>\n",
       "<style scoped>\n",
       "    .dataframe tbody tr th:only-of-type {\n",
       "        vertical-align: middle;\n",
       "    }\n",
       "\n",
       "    .dataframe tbody tr th {\n",
       "        vertical-align: top;\n",
       "    }\n",
       "\n",
       "    .dataframe thead th {\n",
       "        text-align: right;\n",
       "    }\n",
       "</style>\n",
       "<table border=\"1\" class=\"dataframe\">\n",
       "  <thead>\n",
       "    <tr style=\"text-align: right;\">\n",
       "      <th></th>\n",
       "      <th>jogar</th>\n",
       "      <th>Prob</th>\n",
       "    </tr>\n",
       "  </thead>\n",
       "  <tbody>\n",
       "    <tr>\n",
       "      <th>sim</th>\n",
       "      <td>9</td>\n",
       "      <td>0.64</td>\n",
       "    </tr>\n",
       "    <tr>\n",
       "      <th>não</th>\n",
       "      <td>5</td>\n",
       "      <td>0.36</td>\n",
       "    </tr>\n",
       "  </tbody>\n",
       "</table>\n",
       "</div>"
      ],
      "text/plain": [
       "     jogar  Prob\n",
       "sim      9  0.64\n",
       "não      5  0.36"
      ]
     },
     "execution_count": 5,
     "metadata": {},
     "output_type": "execute_result"
    }
   ],
   "source": [
    "#Tabela(Target)\n",
    "Target = pd.DataFrame(dados.jogar.value_counts())\n",
    "Target['Prob'] = Target.aggregate(np.sum,axis=1)/len(dados)\n",
    "round(Target,2)"
   ]
  },
  {
   "cell_type": "markdown",
   "metadata": {},
   "source": [
    "**Probabilidade de ocorrencia dos eventos**"
   ]
  },
  {
   "cell_type": "markdown",
   "metadata": {},
   "source": [
    "### Variáveis Preditoras:"
   ]
  },
  {
   "cell_type": "markdown",
   "metadata": {},
   "source": [
    "- **Variável aspecto**"
   ]
  },
  {
   "cell_type": "code",
   "execution_count": 6,
   "metadata": {},
   "outputs": [
    {
     "data": {
      "text/html": [
       "<div>\n",
       "<style scoped>\n",
       "    .dataframe tbody tr th:only-of-type {\n",
       "        vertical-align: middle;\n",
       "    }\n",
       "\n",
       "    .dataframe tbody tr th {\n",
       "        vertical-align: top;\n",
       "    }\n",
       "\n",
       "    .dataframe thead th {\n",
       "        text-align: right;\n",
       "    }\n",
       "</style>\n",
       "<table border=\"1\" class=\"dataframe\">\n",
       "  <thead>\n",
       "    <tr style=\"text-align: right;\">\n",
       "      <th>jogar</th>\n",
       "      <th>não</th>\n",
       "      <th>sim</th>\n",
       "      <th>Prob_Var_Total</th>\n",
       "    </tr>\n",
       "    <tr>\n",
       "      <th>aspecto</th>\n",
       "      <th></th>\n",
       "      <th></th>\n",
       "      <th></th>\n",
       "    </tr>\n",
       "  </thead>\n",
       "  <tbody>\n",
       "    <tr>\n",
       "      <th>chuva</th>\n",
       "      <td>0.4</td>\n",
       "      <td>0.333333</td>\n",
       "      <td>0.357143</td>\n",
       "    </tr>\n",
       "    <tr>\n",
       "      <th>nuvens</th>\n",
       "      <td>0.0</td>\n",
       "      <td>0.444444</td>\n",
       "      <td>0.285714</td>\n",
       "    </tr>\n",
       "    <tr>\n",
       "      <th>sol</th>\n",
       "      <td>0.6</td>\n",
       "      <td>0.222222</td>\n",
       "      <td>0.357143</td>\n",
       "    </tr>\n",
       "    <tr>\n",
       "      <th>All</th>\n",
       "      <td>1.0</td>\n",
       "      <td>1.000000</td>\n",
       "      <td>1.000000</td>\n",
       "    </tr>\n",
       "  </tbody>\n",
       "</table>\n",
       "</div>"
      ],
      "text/plain": [
       "jogar    não       sim  Prob_Var_Total\n",
       "aspecto                               \n",
       "chuva    0.4  0.333333        0.357143\n",
       "nuvens   0.0  0.444444        0.285714\n",
       "sol      0.6  0.222222        0.357143\n",
       "All      1.0  1.000000        1.000000"
      ]
     },
     "execution_count": 6,
     "metadata": {},
     "output_type": "execute_result"
    }
   ],
   "source": [
    "#Tabela de contingencia (aspecto)\n",
    "aspecto = pd.crosstab(dados.jogar, dados.aspecto,margins=True).T\n",
    "aspecto = aspecto.iloc[:,0:2]\n",
    "aspecto['Prob_Var_Total'] = round(aspecto.sum(axis=1),2)\n",
    "\n",
    "aspecto/aspecto.iloc[3,:]"
   ]
  },
  {
   "cell_type": "markdown",
   "metadata": {},
   "source": [
    "- **Variável temperatura**"
   ]
  },
  {
   "cell_type": "code",
   "execution_count": 7,
   "metadata": {},
   "outputs": [
    {
     "data": {
      "text/html": [
       "<div>\n",
       "<style scoped>\n",
       "    .dataframe tbody tr th:only-of-type {\n",
       "        vertical-align: middle;\n",
       "    }\n",
       "\n",
       "    .dataframe tbody tr th {\n",
       "        vertical-align: top;\n",
       "    }\n",
       "\n",
       "    .dataframe thead th {\n",
       "        text-align: right;\n",
       "    }\n",
       "</style>\n",
       "<table border=\"1\" class=\"dataframe\">\n",
       "  <thead>\n",
       "    <tr style=\"text-align: right;\">\n",
       "      <th>jogar</th>\n",
       "      <th>não</th>\n",
       "      <th>sim</th>\n",
       "      <th>Prob_Var_Total</th>\n",
       "    </tr>\n",
       "    <tr>\n",
       "      <th>temperatura</th>\n",
       "      <th></th>\n",
       "      <th></th>\n",
       "      <th></th>\n",
       "    </tr>\n",
       "  </thead>\n",
       "  <tbody>\n",
       "    <tr>\n",
       "      <th>ameno</th>\n",
       "      <td>0.4</td>\n",
       "      <td>0.444444</td>\n",
       "      <td>0.43</td>\n",
       "    </tr>\n",
       "    <tr>\n",
       "      <th>fresco</th>\n",
       "      <td>0.2</td>\n",
       "      <td>0.333333</td>\n",
       "      <td>0.29</td>\n",
       "    </tr>\n",
       "    <tr>\n",
       "      <th>quente</th>\n",
       "      <td>0.4</td>\n",
       "      <td>0.222222</td>\n",
       "      <td>0.29</td>\n",
       "    </tr>\n",
       "    <tr>\n",
       "      <th>All</th>\n",
       "      <td>1.0</td>\n",
       "      <td>1.000000</td>\n",
       "      <td>1.00</td>\n",
       "    </tr>\n",
       "  </tbody>\n",
       "</table>\n",
       "</div>"
      ],
      "text/plain": [
       "jogar        não       sim  Prob_Var_Total\n",
       "temperatura                               \n",
       "ameno        0.4  0.444444            0.43\n",
       "fresco       0.2  0.333333            0.29\n",
       "quente       0.4  0.222222            0.29\n",
       "All          1.0  1.000000            1.00"
      ]
     },
     "execution_count": 7,
     "metadata": {},
     "output_type": "execute_result"
    }
   ],
   "source": [
    "#Tabela de contingencia (Temperatura)\n",
    "temperatura = pd.crosstab(dados.jogar, dados.temperatura,margins=True).T/len(dados)\n",
    "temperatura = temperatura.iloc[:,0:2]\n",
    "temperatura['Prob_Var_Total'] = round(temperatura.sum(axis=1),2)\n",
    "\n",
    "temperatura/temperatura.iloc[3,:]"
   ]
  },
  {
   "cell_type": "markdown",
   "metadata": {},
   "source": [
    "- **Variável Humidade**"
   ]
  },
  {
   "cell_type": "code",
   "execution_count": 8,
   "metadata": {},
   "outputs": [
    {
     "data": {
      "text/html": [
       "<div>\n",
       "<style scoped>\n",
       "    .dataframe tbody tr th:only-of-type {\n",
       "        vertical-align: middle;\n",
       "    }\n",
       "\n",
       "    .dataframe tbody tr th {\n",
       "        vertical-align: top;\n",
       "    }\n",
       "\n",
       "    .dataframe thead th {\n",
       "        text-align: right;\n",
       "    }\n",
       "</style>\n",
       "<table border=\"1\" class=\"dataframe\">\n",
       "  <thead>\n",
       "    <tr style=\"text-align: right;\">\n",
       "      <th>jogar</th>\n",
       "      <th>não</th>\n",
       "      <th>sim</th>\n",
       "      <th>Prob_Var_Total</th>\n",
       "    </tr>\n",
       "    <tr>\n",
       "      <th>humidade</th>\n",
       "      <th></th>\n",
       "      <th></th>\n",
       "      <th></th>\n",
       "    </tr>\n",
       "  </thead>\n",
       "  <tbody>\n",
       "    <tr>\n",
       "      <th>elevada</th>\n",
       "      <td>0.8</td>\n",
       "      <td>0.333333</td>\n",
       "      <td>0.5</td>\n",
       "    </tr>\n",
       "    <tr>\n",
       "      <th>normal</th>\n",
       "      <td>0.2</td>\n",
       "      <td>0.666667</td>\n",
       "      <td>0.5</td>\n",
       "    </tr>\n",
       "    <tr>\n",
       "      <th>All</th>\n",
       "      <td>1.0</td>\n",
       "      <td>1.000000</td>\n",
       "      <td>1.0</td>\n",
       "    </tr>\n",
       "  </tbody>\n",
       "</table>\n",
       "</div>"
      ],
      "text/plain": [
       "jogar     não       sim  Prob_Var_Total\n",
       "humidade                               \n",
       "elevada   0.8  0.333333             0.5\n",
       "normal    0.2  0.666667             0.5\n",
       "All       1.0  1.000000             1.0"
      ]
     },
     "execution_count": 8,
     "metadata": {},
     "output_type": "execute_result"
    }
   ],
   "source": [
    "#Tabela de contingencia (humidade)\n",
    "humidade = pd.crosstab(dados.jogar, dados.humidade,margins=True).T/len(dados)\n",
    "humidade = humidade.iloc[:,0:2]\n",
    "humidade['Prob_Var_Total'] = round(humidade.sum(axis=1),2)\n",
    "\n",
    "humidade/humidade.iloc[2,:]"
   ]
  },
  {
   "cell_type": "markdown",
   "metadata": {},
   "source": [
    "- **Variável vento**"
   ]
  },
  {
   "cell_type": "code",
   "execution_count": 9,
   "metadata": {},
   "outputs": [
    {
     "data": {
      "text/html": [
       "<div>\n",
       "<style scoped>\n",
       "    .dataframe tbody tr th:only-of-type {\n",
       "        vertical-align: middle;\n",
       "    }\n",
       "\n",
       "    .dataframe tbody tr th {\n",
       "        vertical-align: top;\n",
       "    }\n",
       "\n",
       "    .dataframe thead th {\n",
       "        text-align: right;\n",
       "    }\n",
       "</style>\n",
       "<table border=\"1\" class=\"dataframe\">\n",
       "  <thead>\n",
       "    <tr style=\"text-align: right;\">\n",
       "      <th>jogar</th>\n",
       "      <th>não</th>\n",
       "      <th>sim</th>\n",
       "      <th>Prob_Var_Total</th>\n",
       "    </tr>\n",
       "    <tr>\n",
       "      <th>vento</th>\n",
       "      <th></th>\n",
       "      <th></th>\n",
       "      <th></th>\n",
       "    </tr>\n",
       "  </thead>\n",
       "  <tbody>\n",
       "    <tr>\n",
       "      <th>forte</th>\n",
       "      <td>0.6</td>\n",
       "      <td>0.333333</td>\n",
       "      <td>0.43</td>\n",
       "    </tr>\n",
       "    <tr>\n",
       "      <th>fraco</th>\n",
       "      <td>0.4</td>\n",
       "      <td>0.666667</td>\n",
       "      <td>0.57</td>\n",
       "    </tr>\n",
       "    <tr>\n",
       "      <th>All</th>\n",
       "      <td>1.0</td>\n",
       "      <td>1.000000</td>\n",
       "      <td>1.00</td>\n",
       "    </tr>\n",
       "  </tbody>\n",
       "</table>\n",
       "</div>"
      ],
      "text/plain": [
       "jogar  não       sim  Prob_Var_Total\n",
       "vento                               \n",
       "forte  0.6  0.333333            0.43\n",
       "fraco  0.4  0.666667            0.57\n",
       "All    1.0  1.000000            1.00"
      ]
     },
     "execution_count": 9,
     "metadata": {},
     "output_type": "execute_result"
    }
   ],
   "source": [
    "#Tabela de contingencia (vento)\n",
    "vento = pd.crosstab(dados.jogar, dados.vento,margins=True).T/len(dados)\n",
    "vento = vento.iloc[:,0:2]\n",
    "vento['Prob_Var_Total'] = round(vento.sum(axis=1),2)\n",
    "\n",
    "vento/vento.iloc[2,:]"
   ]
  },
  {
   "cell_type": "markdown",
   "metadata": {},
   "source": [
    "**Após a construção das probabilidades podemos fazer as previsões com o algoritmo Naive Bayes**"
   ]
  },
  {
   "cell_type": "markdown",
   "metadata": {},
   "source": [
    "## Previsão sem utilizar algoritimos:"
   ]
  },
  {
   "cell_type": "markdown",
   "metadata": {},
   "source": [
    "**Prever a classe da variável target usando as características dos dados das variáveis explicativas abaixo:**\n",
    "\n",
    "- **aspecto:** sol\n",
    "\n",
    "- **temperatura:** fresco\n",
    "\n",
    "- **humidade:** normal\n",
    "\n",
    "- **vento:** fraco\n"
   ]
  },
  {
   "cell_type": "code",
   "execution_count": 10,
   "metadata": {},
   "outputs": [
    {
     "name": "stdout",
     "output_type": "stream",
     "text": [
      "Proabilidade de haver Sol e Jogar = 0.4\n",
      "\n",
      "Proabilidade de não haver Sol e não Jogar = 0.6\n"
     ]
    }
   ],
   "source": [
    "#Variável aspecto = sol\n",
    "#Probabilidade de jogar = sim \n",
    "\n",
    "Prob_Sol_sim = 2/9\n",
    "\n",
    "Prob_Sol = 5/14 \n",
    "\n",
    "Prob_jogar = 9/14 \n",
    "\n",
    "Prob_sim_sol = Prob_Sol_sim * Prob_jogar / Prob_Sol\n",
    "print(f'Proabilidade de haver Sol e Jogar = {round(Prob_sim_sol,2)}')\n",
    "\n",
    "\n",
    "#Variável aspecto = sol\n",
    "#Probabilidade de jogar = não\n",
    "\n",
    "Prob_Sol_nao = 3/5\n",
    "\n",
    "Prob_Sol = 5/14 \n",
    "\n",
    "Prob_nao_jogar = 5/14 \n",
    "\n",
    "Prob_nao_sol = Prob_Sol_nao * Prob_nao_jogar / Prob_Sol\n",
    "\n",
    "print(f'\\nProabilidade de não haver Sol e não Jogar = {Prob_nao_sol}')"
   ]
  },
  {
   "cell_type": "code",
   "execution_count": 11,
   "metadata": {},
   "outputs": [
    {
     "name": "stdout",
     "output_type": "stream",
     "text": [
      "Proabilidade de Temperatura Fresca e Jogar = 0.75\n",
      "\n",
      "Proabilidade de Temperatura Fresca e não Jogar = 0.25\n"
     ]
    }
   ],
   "source": [
    "#Variável temperatura = fresco\n",
    "#Probabilidade de jogar = sim \n",
    "\n",
    "Prob_fresco_sim = 3/9 \n",
    "\n",
    "Prob_fresco= 4/14 \n",
    "\n",
    "Prob_jogar =  9/14 \n",
    "\n",
    "Prob_sim_fresco = Prob_fresco_sim * Prob_jogar / Prob_fresco\n",
    "\n",
    "print(f'Proabilidade de Temperatura Fresca e Jogar = {round(Prob_sim_fresco,2)}')\n",
    "\n",
    "\n",
    "#Variável temperatura = fresco\n",
    "#Probabilidade de jogar = não\n",
    "\n",
    "Prob_fresco_nao = 1/5\n",
    "\n",
    "Prob_fresco = 4/14\n",
    "\n",
    "Prob_nao_jogar =  5/14\n",
    "\n",
    "Prob_nao_fresco = Prob_fresco_nao * Prob_nao_jogar / Prob_fresco \n",
    "\n",
    "print(f'\\nProabilidade de Temperatura Fresca e não Jogar = {round(Prob_nao_fresco,2)}')"
   ]
  },
  {
   "cell_type": "code",
   "execution_count": 12,
   "metadata": {},
   "outputs": [
    {
     "name": "stdout",
     "output_type": "stream",
     "text": [
      "Proabilidade da Humidade normal e Jogar = 0.86\n",
      "\n",
      "Proabilidade da Humidade normal e não Jogar = 0.14\n"
     ]
    }
   ],
   "source": [
    "#Variável humidade = normal\n",
    "#Probabilidade de jogar = sim \n",
    "\n",
    "Prob_normal_sim =6/9 \n",
    "\n",
    "Prob_normal = 7/14\n",
    "\n",
    "Prob_jogar =  9/14\n",
    "\n",
    "Prob_sim_normal = Prob_normal_sim * Prob_jogar / Prob_normal\n",
    "\n",
    "print(f'Proabilidade da Humidade normal e Jogar = {round(Prob_sim_normal,2)}')\n",
    "\n",
    "#Variável humidade = normal\n",
    "#Probabilidade de jogar = não\n",
    "\n",
    "Prob_normal_nao = 1/5\n",
    "\n",
    "Prob_normal = 7/14 \n",
    "\n",
    "Prob_nao_jogar =  5/14 \n",
    "\n",
    "Prob_nao_normal = Prob_normal_nao * Prob_nao_jogar / Prob_normal\n",
    "\n",
    "print(f'\\nProabilidade da Humidade normal e não Jogar = {round(Prob_nao_normal,2)}')"
   ]
  },
  {
   "cell_type": "code",
   "execution_count": 13,
   "metadata": {},
   "outputs": [
    {
     "name": "stdout",
     "output_type": "stream",
     "text": [
      "Proabilidade do vento normal e Jogar = 0.75\n",
      "\n",
      "Proabilidade do vento normal e não Jogar = 0.25\n"
     ]
    }
   ],
   "source": [
    "#Variável vento = Fraco\n",
    "#Probabilidade de jogar = sim \n",
    "\n",
    "Prob_fraco_sim = 6/9 \n",
    "\n",
    "Prob_fraco = 8/14\n",
    "\n",
    "Prob_jogar =  9/14 \n",
    "\n",
    "Prob_sim_fraco = Prob_fraco_sim * Prob_jogar / Prob_fraco \n",
    "\n",
    "print(f'Proabilidade do vento normal e Jogar = {round(Prob_sim_fraco,2)}')\n",
    "\n",
    "#Variável vento = normal\n",
    "#Probabilidade de jogar = não\n",
    "\n",
    "Prob_fraco_nao = 2/5\n",
    "\n",
    "Prob_fraco = 8/14 \n",
    "\n",
    "Prob_nao_jogar =  5/14 \n",
    "\n",
    "Prob_nao_fraco = Prob_fraco_nao * Prob_nao_jogar / Prob_fraco\n",
    "\n",
    "print(f'\\nProabilidade do vento normal e não Jogar = {round(Prob_nao_fraco,2)}')"
   ]
  },
  {
   "cell_type": "code",
   "execution_count": 14,
   "metadata": {},
   "outputs": [
    {
     "name": "stdout",
     "output_type": "stream",
     "text": [
      "Probabilidade de Jogar dado as variáveis X: 68.93%\n",
      "\n",
      "Probabilidade de não Jogar dado as variáveis X: 31.07%\n"
     ]
    }
   ],
   "source": [
    "#Somar todas as probabilidades da classe jogar = sim \n",
    "Som_prob_class_sim  = Prob_sim_sol + Prob_sim_fresco + Prob_sim_normal + Prob_sim_fraco\n",
    "\n",
    "#Somar todas as probabilidades da classe jogar = não\n",
    "Som_prob_class_nao = Prob_nao_sol + Prob_nao_fresco + Prob_nao_normal + Prob_nao_fraco\n",
    "\n",
    "#Somar todas as probabilidades\n",
    "Soma_total = Som_prob_class_sim + Som_prob_class_nao\n",
    "\n",
    "#Probabilidade de jogar = sim dado as variáveis X\n",
    "Prob_sim_x = Som_prob_class_sim / Soma_total \n",
    "\n",
    "#Probabilidade de jogar = não dado as variáveis X\n",
    "Prob_nao_x = Som_prob_class_nao / Soma_total \n",
    "\n",
    "\n",
    "print(f'Probabilidade de Jogar dado as variáveis X: {round(Prob_sim_x*100,2)}%')\n",
    "print(f'\\nProbabilidade de não Jogar dado as variáveis X: {round(Prob_nao_x*100,2)}%')"
   ]
  },
  {
   "cell_type": "markdown",
   "metadata": {},
   "source": [
    "**Construção de uma linha do algoritimo Naive Bayes sem o uso do algoritimo**"
   ]
  },
  {
   "cell_type": "markdown",
   "metadata": {},
   "source": [
    "# Modelo utilizando algoritmo:"
   ]
  },
  {
   "cell_type": "markdown",
   "metadata": {},
   "source": [
    "### Transformar as variáveis categóricas em dummies"
   ]
  },
  {
   "cell_type": "code",
   "execution_count": 15,
   "metadata": {},
   "outputs": [
    {
     "data": {
      "text/html": [
       "<div>\n",
       "<style scoped>\n",
       "    .dataframe tbody tr th:only-of-type {\n",
       "        vertical-align: middle;\n",
       "    }\n",
       "\n",
       "    .dataframe tbody tr th {\n",
       "        vertical-align: top;\n",
       "    }\n",
       "\n",
       "    .dataframe thead th {\n",
       "        text-align: right;\n",
       "    }\n",
       "</style>\n",
       "<table border=\"1\" class=\"dataframe\">\n",
       "  <thead>\n",
       "    <tr style=\"text-align: right;\">\n",
       "      <th></th>\n",
       "      <th>chuva</th>\n",
       "      <th>nuvens</th>\n",
       "      <th>sol</th>\n",
       "      <th>ameno</th>\n",
       "      <th>fresco</th>\n",
       "      <th>quente</th>\n",
       "      <th>elevada</th>\n",
       "      <th>normal</th>\n",
       "      <th>forte</th>\n",
       "      <th>fraco</th>\n",
       "      <th>jogar</th>\n",
       "    </tr>\n",
       "  </thead>\n",
       "  <tbody>\n",
       "    <tr>\n",
       "      <th>0</th>\n",
       "      <td>0</td>\n",
       "      <td>0</td>\n",
       "      <td>1</td>\n",
       "      <td>0</td>\n",
       "      <td>0</td>\n",
       "      <td>1</td>\n",
       "      <td>1</td>\n",
       "      <td>0</td>\n",
       "      <td>0</td>\n",
       "      <td>1</td>\n",
       "      <td>não</td>\n",
       "    </tr>\n",
       "    <tr>\n",
       "      <th>1</th>\n",
       "      <td>0</td>\n",
       "      <td>0</td>\n",
       "      <td>1</td>\n",
       "      <td>0</td>\n",
       "      <td>0</td>\n",
       "      <td>1</td>\n",
       "      <td>1</td>\n",
       "      <td>0</td>\n",
       "      <td>1</td>\n",
       "      <td>0</td>\n",
       "      <td>não</td>\n",
       "    </tr>\n",
       "    <tr>\n",
       "      <th>2</th>\n",
       "      <td>0</td>\n",
       "      <td>1</td>\n",
       "      <td>0</td>\n",
       "      <td>0</td>\n",
       "      <td>0</td>\n",
       "      <td>1</td>\n",
       "      <td>1</td>\n",
       "      <td>0</td>\n",
       "      <td>0</td>\n",
       "      <td>1</td>\n",
       "      <td>sim</td>\n",
       "    </tr>\n",
       "    <tr>\n",
       "      <th>3</th>\n",
       "      <td>1</td>\n",
       "      <td>0</td>\n",
       "      <td>0</td>\n",
       "      <td>1</td>\n",
       "      <td>0</td>\n",
       "      <td>0</td>\n",
       "      <td>1</td>\n",
       "      <td>0</td>\n",
       "      <td>0</td>\n",
       "      <td>1</td>\n",
       "      <td>sim</td>\n",
       "    </tr>\n",
       "    <tr>\n",
       "      <th>4</th>\n",
       "      <td>1</td>\n",
       "      <td>0</td>\n",
       "      <td>0</td>\n",
       "      <td>0</td>\n",
       "      <td>1</td>\n",
       "      <td>0</td>\n",
       "      <td>0</td>\n",
       "      <td>1</td>\n",
       "      <td>0</td>\n",
       "      <td>1</td>\n",
       "      <td>sim</td>\n",
       "    </tr>\n",
       "    <tr>\n",
       "      <th>5</th>\n",
       "      <td>1</td>\n",
       "      <td>0</td>\n",
       "      <td>0</td>\n",
       "      <td>0</td>\n",
       "      <td>1</td>\n",
       "      <td>0</td>\n",
       "      <td>0</td>\n",
       "      <td>1</td>\n",
       "      <td>1</td>\n",
       "      <td>0</td>\n",
       "      <td>não</td>\n",
       "    </tr>\n",
       "    <tr>\n",
       "      <th>6</th>\n",
       "      <td>0</td>\n",
       "      <td>1</td>\n",
       "      <td>0</td>\n",
       "      <td>0</td>\n",
       "      <td>1</td>\n",
       "      <td>0</td>\n",
       "      <td>0</td>\n",
       "      <td>1</td>\n",
       "      <td>0</td>\n",
       "      <td>1</td>\n",
       "      <td>sim</td>\n",
       "    </tr>\n",
       "    <tr>\n",
       "      <th>7</th>\n",
       "      <td>0</td>\n",
       "      <td>0</td>\n",
       "      <td>1</td>\n",
       "      <td>1</td>\n",
       "      <td>0</td>\n",
       "      <td>0</td>\n",
       "      <td>1</td>\n",
       "      <td>0</td>\n",
       "      <td>0</td>\n",
       "      <td>1</td>\n",
       "      <td>não</td>\n",
       "    </tr>\n",
       "    <tr>\n",
       "      <th>8</th>\n",
       "      <td>0</td>\n",
       "      <td>0</td>\n",
       "      <td>1</td>\n",
       "      <td>0</td>\n",
       "      <td>1</td>\n",
       "      <td>0</td>\n",
       "      <td>0</td>\n",
       "      <td>1</td>\n",
       "      <td>0</td>\n",
       "      <td>1</td>\n",
       "      <td>sim</td>\n",
       "    </tr>\n",
       "    <tr>\n",
       "      <th>9</th>\n",
       "      <td>1</td>\n",
       "      <td>0</td>\n",
       "      <td>0</td>\n",
       "      <td>1</td>\n",
       "      <td>0</td>\n",
       "      <td>0</td>\n",
       "      <td>0</td>\n",
       "      <td>1</td>\n",
       "      <td>1</td>\n",
       "      <td>0</td>\n",
       "      <td>sim</td>\n",
       "    </tr>\n",
       "    <tr>\n",
       "      <th>10</th>\n",
       "      <td>0</td>\n",
       "      <td>0</td>\n",
       "      <td>1</td>\n",
       "      <td>1</td>\n",
       "      <td>0</td>\n",
       "      <td>0</td>\n",
       "      <td>0</td>\n",
       "      <td>1</td>\n",
       "      <td>1</td>\n",
       "      <td>0</td>\n",
       "      <td>sim</td>\n",
       "    </tr>\n",
       "    <tr>\n",
       "      <th>11</th>\n",
       "      <td>0</td>\n",
       "      <td>1</td>\n",
       "      <td>0</td>\n",
       "      <td>1</td>\n",
       "      <td>0</td>\n",
       "      <td>0</td>\n",
       "      <td>1</td>\n",
       "      <td>0</td>\n",
       "      <td>1</td>\n",
       "      <td>0</td>\n",
       "      <td>sim</td>\n",
       "    </tr>\n",
       "    <tr>\n",
       "      <th>12</th>\n",
       "      <td>0</td>\n",
       "      <td>1</td>\n",
       "      <td>0</td>\n",
       "      <td>0</td>\n",
       "      <td>0</td>\n",
       "      <td>1</td>\n",
       "      <td>0</td>\n",
       "      <td>1</td>\n",
       "      <td>0</td>\n",
       "      <td>1</td>\n",
       "      <td>sim</td>\n",
       "    </tr>\n",
       "    <tr>\n",
       "      <th>13</th>\n",
       "      <td>1</td>\n",
       "      <td>0</td>\n",
       "      <td>0</td>\n",
       "      <td>1</td>\n",
       "      <td>0</td>\n",
       "      <td>0</td>\n",
       "      <td>1</td>\n",
       "      <td>0</td>\n",
       "      <td>1</td>\n",
       "      <td>0</td>\n",
       "      <td>não</td>\n",
       "    </tr>\n",
       "  </tbody>\n",
       "</table>\n",
       "</div>"
      ],
      "text/plain": [
       "    chuva  nuvens  sol  ameno  fresco  quente  elevada  normal  forte  fraco  \\\n",
       "0       0       0    1      0       0       1        1       0      0      1   \n",
       "1       0       0    1      0       0       1        1       0      1      0   \n",
       "2       0       1    0      0       0       1        1       0      0      1   \n",
       "3       1       0    0      1       0       0        1       0      0      1   \n",
       "4       1       0    0      0       1       0        0       1      0      1   \n",
       "5       1       0    0      0       1       0        0       1      1      0   \n",
       "6       0       1    0      0       1       0        0       1      0      1   \n",
       "7       0       0    1      1       0       0        1       0      0      1   \n",
       "8       0       0    1      0       1       0        0       1      0      1   \n",
       "9       1       0    0      1       0       0        0       1      1      0   \n",
       "10      0       0    1      1       0       0        0       1      1      0   \n",
       "11      0       1    0      1       0       0        1       0      1      0   \n",
       "12      0       1    0      0       0       1        0       1      0      1   \n",
       "13      1       0    0      1       0       0        1       0      1      0   \n",
       "\n",
       "   jogar  \n",
       "0    não  \n",
       "1    não  \n",
       "2    sim  \n",
       "3    sim  \n",
       "4    sim  \n",
       "5    não  \n",
       "6    sim  \n",
       "7    não  \n",
       "8    sim  \n",
       "9    sim  \n",
       "10   sim  \n",
       "11   sim  \n",
       "12   sim  \n",
       "13   não  "
      ]
     },
     "execution_count": 15,
     "metadata": {},
     "output_type": "execute_result"
    }
   ],
   "source": [
    "#Dummy\n",
    "dm1=  pd.get_dummies(dados['aspecto'])\n",
    "dm2 = pd.get_dummies(dados['temperatura'])\n",
    "dm3 = pd.get_dummies(dados['humidade'])\n",
    "dm4 = pd.get_dummies(dados['vento'])\n",
    "\n",
    "#Juntar as variáveis em um novo dataframe\n",
    "dd1 = dm1.join(dm2)\n",
    "dd2 = dd1.join(dm3)\n",
    "dd3 = dd2.join(dm4)\n",
    "dadosf = dd3.join(dados.iloc[:,4])\n",
    "\n",
    "#Separar as variáveis em treino e teste\n",
    "x = dadosf.iloc[:,0:10]\n",
    "y = dadosf.iloc[:,10]\n",
    "dadosf"
   ]
  },
  {
   "cell_type": "markdown",
   "metadata": {},
   "source": [
    "**Os modelos de machine learning requer que as variáveis preditoras categóricas sejam transformadas em numéricas(dummies) para construção do modelo**"
   ]
  },
  {
   "cell_type": "markdown",
   "metadata": {},
   "source": [
    "## Modelo GaussianNB"
   ]
  },
  {
   "cell_type": "code",
   "execution_count": 16,
   "metadata": {},
   "outputs": [
    {
     "data": {
      "text/html": [
       "<div>\n",
       "<style scoped>\n",
       "    .dataframe tbody tr th:only-of-type {\n",
       "        vertical-align: middle;\n",
       "    }\n",
       "\n",
       "    .dataframe tbody tr th {\n",
       "        vertical-align: top;\n",
       "    }\n",
       "\n",
       "    .dataframe thead th {\n",
       "        text-align: right;\n",
       "    }\n",
       "</style>\n",
       "<table border=\"1\" class=\"dataframe\">\n",
       "  <thead>\n",
       "    <tr style=\"text-align: right;\">\n",
       "      <th></th>\n",
       "      <th>0</th>\n",
       "      <th>1</th>\n",
       "      <th>y_chapeu</th>\n",
       "      <th>Target</th>\n",
       "    </tr>\n",
       "  </thead>\n",
       "  <tbody>\n",
       "    <tr>\n",
       "      <th>0</th>\n",
       "      <td>0.999999</td>\n",
       "      <td>1.362928e-06</td>\n",
       "      <td>0</td>\n",
       "      <td>não</td>\n",
       "    </tr>\n",
       "    <tr>\n",
       "      <th>1</th>\n",
       "      <td>1.000000</td>\n",
       "      <td>1.321660e-07</td>\n",
       "      <td>0</td>\n",
       "      <td>não</td>\n",
       "    </tr>\n",
       "    <tr>\n",
       "      <th>2</th>\n",
       "      <td>0.000000</td>\n",
       "      <td>1.000000e+00</td>\n",
       "      <td>1</td>\n",
       "      <td>sim</td>\n",
       "    </tr>\n",
       "    <tr>\n",
       "      <th>3</th>\n",
       "      <td>0.999971</td>\n",
       "      <td>2.943623e-05</td>\n",
       "      <td>0</td>\n",
       "      <td>sim</td>\n",
       "    </tr>\n",
       "    <tr>\n",
       "      <th>4</th>\n",
       "      <td>0.985935</td>\n",
       "      <td>1.406472e-02</td>\n",
       "      <td>0</td>\n",
       "      <td>sim</td>\n",
       "    </tr>\n",
       "    <tr>\n",
       "      <th>5</th>\n",
       "      <td>0.998619</td>\n",
       "      <td>1.381429e-03</td>\n",
       "      <td>0</td>\n",
       "      <td>não</td>\n",
       "    </tr>\n",
       "    <tr>\n",
       "      <th>6</th>\n",
       "      <td>0.000000</td>\n",
       "      <td>1.000000e+00</td>\n",
       "      <td>1</td>\n",
       "      <td>sim</td>\n",
       "    </tr>\n",
       "    <tr>\n",
       "      <th>7</th>\n",
       "      <td>0.999995</td>\n",
       "      <td>5.429104e-06</td>\n",
       "      <td>0</td>\n",
       "      <td>não</td>\n",
       "    </tr>\n",
       "    <tr>\n",
       "      <th>8</th>\n",
       "      <td>0.997376</td>\n",
       "      <td>2.624079e-03</td>\n",
       "      <td>0</td>\n",
       "      <td>sim</td>\n",
       "    </tr>\n",
       "    <tr>\n",
       "      <th>9</th>\n",
       "      <td>0.999456</td>\n",
       "      <td>5.436897e-04</td>\n",
       "      <td>0</td>\n",
       "      <td>sim</td>\n",
       "    </tr>\n",
       "    <tr>\n",
       "      <th>10</th>\n",
       "      <td>0.999900</td>\n",
       "      <td>1.003181e-04</td>\n",
       "      <td>0</td>\n",
       "      <td>sim</td>\n",
       "    </tr>\n",
       "    <tr>\n",
       "      <th>11</th>\n",
       "      <td>0.000000</td>\n",
       "      <td>1.000000e+00</td>\n",
       "      <td>1</td>\n",
       "      <td>sim</td>\n",
       "    </tr>\n",
       "    <tr>\n",
       "      <th>12</th>\n",
       "      <td>0.000000</td>\n",
       "      <td>1.000000e+00</td>\n",
       "      <td>1</td>\n",
       "      <td>sim</td>\n",
       "    </tr>\n",
       "    <tr>\n",
       "      <th>13</th>\n",
       "      <td>0.999997</td>\n",
       "      <td>2.854565e-06</td>\n",
       "      <td>0</td>\n",
       "      <td>não</td>\n",
       "    </tr>\n",
       "  </tbody>\n",
       "</table>\n",
       "</div>"
      ],
      "text/plain": [
       "           0             1  y_chapeu Target\n",
       "0   0.999999  1.362928e-06         0    não\n",
       "1   1.000000  1.321660e-07         0    não\n",
       "2   0.000000  1.000000e+00         1    sim\n",
       "3   0.999971  2.943623e-05         0    sim\n",
       "4   0.985935  1.406472e-02         0    sim\n",
       "5   0.998619  1.381429e-03         0    não\n",
       "6   0.000000  1.000000e+00         1    sim\n",
       "7   0.999995  5.429104e-06         0    não\n",
       "8   0.997376  2.624079e-03         0    sim\n",
       "9   0.999456  5.436897e-04         0    sim\n",
       "10  0.999900  1.003181e-04         0    sim\n",
       "11  0.000000  1.000000e+00         1    sim\n",
       "12  0.000000  1.000000e+00         1    sim\n",
       "13  0.999997  2.854565e-06         0    não"
      ]
     },
     "execution_count": 16,
     "metadata": {},
     "output_type": "execute_result"
    }
   ],
   "source": [
    "from sklearn.naive_bayes import GaussianNB\n",
    "mod1 = GaussianNB()\n",
    "mod1.fit(x,y)\n",
    "\n",
    "#Previsao\n",
    "GaussianNB = pd.DataFrame(mod1.predict_proba(x))\n",
    "\n",
    "#Adicionar as variáveis: y_chapeu e Target\n",
    "GaussianNB['y_chapeu']=np.argmax(GaussianNB.to_numpy(),axis=1)\n",
    "GaussianNB['Target'] = dados.iloc[:,4]\n",
    "GaussianNB"
   ]
  },
  {
   "cell_type": "markdown",
   "metadata": {},
   "source": [
    "**Probabilidades da ocorrência dos eventos**"
   ]
  },
  {
   "cell_type": "code",
   "execution_count": 17,
   "metadata": {},
   "outputs": [
    {
     "data": {
      "text/plain": [
       "<AxesSubplot:>"
      ]
     },
     "execution_count": 17,
     "metadata": {},
     "output_type": "execute_result"
    },
    {
     "data": {
      "image/png": "[encoded data removed]",
      "text/plain": [
       "<Figure size 432x288 with 2 Axes>"
      ]
     },
     "metadata": {
      "needs_background": "light"
     },
     "output_type": "display_data"
    }
   ],
   "source": [
    "#Matriz de Confusao\n",
    "from sklearn.metrics import confusion_matrix\n",
    "import seaborn as sns\n",
    "\n",
    "cm = confusion_matrix(pd.get_dummies(dados['jogar'],drop_first=True),GaussianNB['y_chapeu'])\n",
    "sns.heatmap(cm,annot=True,fmt='d')"
   ]
  },
  {
   "cell_type": "code",
   "execution_count": 18,
   "metadata": {},
   "outputs": [
    {
     "name": "stdout",
     "output_type": "stream",
     "text": [
      "Acuracia: 64.3%\n"
     ]
    }
   ],
   "source": [
    "#Acuracia\n",
    "from sklearn.metrics import accuracy_score\n",
    "\n",
    "acuracia = accuracy_score(pd.get_dummies(dados['jogar'],drop_first=True),GaussianNB['y_chapeu'])\n",
    "print(f'Acuracia: {acuracia*100:.1f}%')"
   ]
  },
  {
   "cell_type": "markdown",
   "metadata": {},
   "source": [
    "**Os modelos Gaussianos Naive Bayes esperam que os dados sejam contínuos e com distribuição normal, por isso não obteve um bom resultado**"
   ]
  },
  {
   "cell_type": "markdown",
   "metadata": {},
   "source": [
    "## Modelo BernoulliNB"
   ]
  },
  {
   "cell_type": "code",
   "execution_count": 19,
   "metadata": {},
   "outputs": [
    {
     "data": {
      "text/html": [
       "<div>\n",
       "<style scoped>\n",
       "    .dataframe tbody tr th:only-of-type {\n",
       "        vertical-align: middle;\n",
       "    }\n",
       "\n",
       "    .dataframe tbody tr th {\n",
       "        vertical-align: top;\n",
       "    }\n",
       "\n",
       "    .dataframe thead th {\n",
       "        text-align: right;\n",
       "    }\n",
       "</style>\n",
       "<table border=\"1\" class=\"dataframe\">\n",
       "  <thead>\n",
       "    <tr style=\"text-align: right;\">\n",
       "      <th></th>\n",
       "      <th>0</th>\n",
       "      <th>1</th>\n",
       "      <th>y_chapeu</th>\n",
       "      <th>Target</th>\n",
       "    </tr>\n",
       "  </thead>\n",
       "  <tbody>\n",
       "    <tr>\n",
       "      <th>0</th>\n",
       "      <td>0.841560</td>\n",
       "      <td>0.158440</td>\n",
       "      <td>0</td>\n",
       "      <td>não</td>\n",
       "    </tr>\n",
       "    <tr>\n",
       "      <th>1</th>\n",
       "      <td>0.966576</td>\n",
       "      <td>0.033424</td>\n",
       "      <td>0</td>\n",
       "      <td>não</td>\n",
       "    </tr>\n",
       "    <tr>\n",
       "      <th>2</th>\n",
       "      <td>0.230044</td>\n",
       "      <td>0.769956</td>\n",
       "      <td>1</td>\n",
       "      <td>sim</td>\n",
       "    </tr>\n",
       "    <tr>\n",
       "      <th>3</th>\n",
       "      <td>0.468741</td>\n",
       "      <td>0.531259</td>\n",
       "      <td>1</td>\n",
       "      <td>sim</td>\n",
       "    </tr>\n",
       "    <tr>\n",
       "      <th>4</th>\n",
       "      <td>0.034612</td>\n",
       "      <td>0.965388</td>\n",
       "      <td>1</td>\n",
       "      <td>sim</td>\n",
       "    </tr>\n",
       "    <tr>\n",
       "      <th>5</th>\n",
       "      <td>0.163320</td>\n",
       "      <td>0.836680</td>\n",
       "      <td>1</td>\n",
       "      <td>não</td>\n",
       "    </tr>\n",
       "    <tr>\n",
       "      <th>6</th>\n",
       "      <td>0.005434</td>\n",
       "      <td>0.994566</td>\n",
       "      <td>1</td>\n",
       "      <td>sim</td>\n",
       "    </tr>\n",
       "    <tr>\n",
       "      <th>7</th>\n",
       "      <td>0.705032</td>\n",
       "      <td>0.294968</td>\n",
       "      <td>0</td>\n",
       "      <td>não</td>\n",
       "    </tr>\n",
       "    <tr>\n",
       "      <th>8</th>\n",
       "      <td>0.088527</td>\n",
       "      <td>0.911473</td>\n",
       "      <td>1</td>\n",
       "      <td>sim</td>\n",
       "    </tr>\n",
       "    <tr>\n",
       "      <th>9</th>\n",
       "      <td>0.200621</td>\n",
       "      <td>0.799379</td>\n",
       "      <td>1</td>\n",
       "      <td>sim</td>\n",
       "    </tr>\n",
       "    <tr>\n",
       "      <th>10</th>\n",
       "      <td>0.404719</td>\n",
       "      <td>0.595281</td>\n",
       "      <td>1</td>\n",
       "      <td>sim</td>\n",
       "    </tr>\n",
       "    <tr>\n",
       "      <th>11</th>\n",
       "      <td>0.422632</td>\n",
       "      <td>0.577368</td>\n",
       "      <td>1</td>\n",
       "      <td>sim</td>\n",
       "    </tr>\n",
       "    <tr>\n",
       "      <th>12</th>\n",
       "      <td>0.015370</td>\n",
       "      <td>0.984630</td>\n",
       "      <td>1</td>\n",
       "      <td>sim</td>\n",
       "    </tr>\n",
       "    <tr>\n",
       "      <th>13</th>\n",
       "      <td>0.827697</td>\n",
       "      <td>0.172303</td>\n",
       "      <td>0</td>\n",
       "      <td>não</td>\n",
       "    </tr>\n",
       "  </tbody>\n",
       "</table>\n",
       "</div>"
      ],
      "text/plain": [
       "           0         1  y_chapeu Target\n",
       "0   0.841560  0.158440         0    não\n",
       "1   0.966576  0.033424         0    não\n",
       "2   0.230044  0.769956         1    sim\n",
       "3   0.468741  0.531259         1    sim\n",
       "4   0.034612  0.965388         1    sim\n",
       "5   0.163320  0.836680         1    não\n",
       "6   0.005434  0.994566         1    sim\n",
       "7   0.705032  0.294968         0    não\n",
       "8   0.088527  0.911473         1    sim\n",
       "9   0.200621  0.799379         1    sim\n",
       "10  0.404719  0.595281         1    sim\n",
       "11  0.422632  0.577368         1    sim\n",
       "12  0.015370  0.984630         1    sim\n",
       "13  0.827697  0.172303         0    não"
      ]
     },
     "execution_count": 19,
     "metadata": {},
     "output_type": "execute_result"
    }
   ],
   "source": [
    "from sklearn.naive_bayes import BernoulliNB\n",
    "mod2 = BernoulliNB()\n",
    "mod2.fit(x,y)\n",
    "\n",
    "\n",
    "#Previsao\n",
    "BernoulliNB = pd.DataFrame(mod2.predict_proba(x))\n",
    "\n",
    "#Adicionar as variáveis: y_chapeu e Target\n",
    "BernoulliNB['y_chapeu']=np.argmax(BernoulliNB.to_numpy(),axis=1)\n",
    "BernoulliNB['Target'] = dados.iloc[:,4]\n",
    "BernoulliNB"
   ]
  },
  {
   "cell_type": "markdown",
   "metadata": {},
   "source": [
    "**Probabilidades da ocorrência dos eventos**"
   ]
  },
  {
   "cell_type": "code",
   "execution_count": 20,
   "metadata": {},
   "outputs": [
    {
     "data": {
      "text/plain": [
       "<AxesSubplot:>"
      ]
     },
     "execution_count": 20,
     "metadata": {},
     "output_type": "execute_result"
    },
    {
     "data": {
      "image/png": "[encoded data removed]",
      "text/plain": [
       "<Figure size 432x288 with 2 Axes>"
      ]
     },
     "metadata": {
      "needs_background": "light"
     },
     "output_type": "display_data"
    }
   ],
   "source": [
    "#Matriz de Confusao\n",
    "cm = confusion_matrix(pd.get_dummies(dados['jogar'],drop_first=True),BernoulliNB['y_chapeu'])\n",
    "sns.heatmap(cm,annot=True,fmt='d')"
   ]
  },
  {
   "cell_type": "code",
   "execution_count": 21,
   "metadata": {},
   "outputs": [
    {
     "name": "stdout",
     "output_type": "stream",
     "text": [
      "Acuracia: 92.9%\n"
     ]
    }
   ],
   "source": [
    "#Acuracia\n",
    "acuracia = accuracy_score(pd.get_dummies(dados['jogar'],drop_first=True),BernoulliNB['y_chapeu'])\n",
    "print(f'Acuracia: {acuracia*100:.1f}%')"
   ]
  },
  {
   "cell_type": "markdown",
   "metadata": {},
   "source": [
    "**Modelo Bernulli espera que os dados sejam discretos e a variável target binaria, Algoritmo cometeu apenas 1 erro**"
   ]
  },
  {
   "cell_type": "markdown",
   "metadata": {},
   "source": [
    "## Modelo MultinomialNB"
   ]
  },
  {
   "cell_type": "code",
   "execution_count": 22,
   "metadata": {},
   "outputs": [
    {
     "data": {
      "text/html": [
       "<div>\n",
       "<style scoped>\n",
       "    .dataframe tbody tr th:only-of-type {\n",
       "        vertical-align: middle;\n",
       "    }\n",
       "\n",
       "    .dataframe tbody tr th {\n",
       "        vertical-align: top;\n",
       "    }\n",
       "\n",
       "    .dataframe thead th {\n",
       "        text-align: right;\n",
       "    }\n",
       "</style>\n",
       "<table border=\"1\" class=\"dataframe\">\n",
       "  <thead>\n",
       "    <tr style=\"text-align: right;\">\n",
       "      <th></th>\n",
       "      <th>0</th>\n",
       "      <th>1</th>\n",
       "      <th>y_chapeu</th>\n",
       "      <th>Target</th>\n",
       "    </tr>\n",
       "  </thead>\n",
       "  <tbody>\n",
       "    <tr>\n",
       "      <th>0</th>\n",
       "      <td>0.686868</td>\n",
       "      <td>0.313132</td>\n",
       "      <td>0</td>\n",
       "      <td>não</td>\n",
       "    </tr>\n",
       "    <tr>\n",
       "      <th>1</th>\n",
       "      <td>0.836555</td>\n",
       "      <td>0.163445</td>\n",
       "      <td>0</td>\n",
       "      <td>não</td>\n",
       "    </tr>\n",
       "    <tr>\n",
       "      <th>2</th>\n",
       "      <td>0.247572</td>\n",
       "      <td>0.752428</td>\n",
       "      <td>1</td>\n",
       "      <td>sim</td>\n",
       "    </tr>\n",
       "    <tr>\n",
       "      <th>3</th>\n",
       "      <td>0.425393</td>\n",
       "      <td>0.574607</td>\n",
       "      <td>1</td>\n",
       "      <td>sim</td>\n",
       "    </tr>\n",
       "    <tr>\n",
       "      <th>4</th>\n",
       "      <td>0.123586</td>\n",
       "      <td>0.876414</td>\n",
       "      <td>1</td>\n",
       "      <td>sim</td>\n",
       "    </tr>\n",
       "    <tr>\n",
       "      <th>5</th>\n",
       "      <td>0.247572</td>\n",
       "      <td>0.752428</td>\n",
       "      <td>1</td>\n",
       "      <td>não</td>\n",
       "    </tr>\n",
       "    <tr>\n",
       "      <th>6</th>\n",
       "      <td>0.036241</td>\n",
       "      <td>0.963759</td>\n",
       "      <td>1</td>\n",
       "      <td>sim</td>\n",
       "    </tr>\n",
       "    <tr>\n",
       "      <th>7</th>\n",
       "      <td>0.568244</td>\n",
       "      <td>0.431756</td>\n",
       "      <td>0</td>\n",
       "      <td>não</td>\n",
       "    </tr>\n",
       "    <tr>\n",
       "      <th>8</th>\n",
       "      <td>0.200442</td>\n",
       "      <td>0.799558</td>\n",
       "      <td>1</td>\n",
       "      <td>sim</td>\n",
       "    </tr>\n",
       "    <tr>\n",
       "      <th>9</th>\n",
       "      <td>0.283071</td>\n",
       "      <td>0.716929</td>\n",
       "      <td>1</td>\n",
       "      <td>sim</td>\n",
       "    </tr>\n",
       "    <tr>\n",
       "      <th>10</th>\n",
       "      <td>0.412433</td>\n",
       "      <td>0.587567</td>\n",
       "      <td>1</td>\n",
       "      <td>sim</td>\n",
       "    </tr>\n",
       "    <tr>\n",
       "      <th>11</th>\n",
       "      <td>0.315370</td>\n",
       "      <td>0.684630</td>\n",
       "      <td>1</td>\n",
       "      <td>sim</td>\n",
       "    </tr>\n",
       "    <tr>\n",
       "      <th>12</th>\n",
       "      <td>0.069947</td>\n",
       "      <td>0.930053</td>\n",
       "      <td>1</td>\n",
       "      <td>sim</td>\n",
       "    </tr>\n",
       "    <tr>\n",
       "      <th>13</th>\n",
       "      <td>0.633352</td>\n",
       "      <td>0.366648</td>\n",
       "      <td>0</td>\n",
       "      <td>não</td>\n",
       "    </tr>\n",
       "  </tbody>\n",
       "</table>\n",
       "</div>"
      ],
      "text/plain": [
       "           0         1  y_chapeu Target\n",
       "0   0.686868  0.313132         0    não\n",
       "1   0.836555  0.163445         0    não\n",
       "2   0.247572  0.752428         1    sim\n",
       "3   0.425393  0.574607         1    sim\n",
       "4   0.123586  0.876414         1    sim\n",
       "5   0.247572  0.752428         1    não\n",
       "6   0.036241  0.963759         1    sim\n",
       "7   0.568244  0.431756         0    não\n",
       "8   0.200442  0.799558         1    sim\n",
       "9   0.283071  0.716929         1    sim\n",
       "10  0.412433  0.587567         1    sim\n",
       "11  0.315370  0.684630         1    sim\n",
       "12  0.069947  0.930053         1    sim\n",
       "13  0.633352  0.366648         0    não"
      ]
     },
     "execution_count": 22,
     "metadata": {},
     "output_type": "execute_result"
    }
   ],
   "source": [
    "from sklearn.naive_bayes import MultinomialNB\n",
    "mod3 = MultinomialNB()\n",
    "mod3.fit(x,y)\n",
    "\n",
    "#Previsao\n",
    "MultinomialNB = pd.DataFrame(mod3.predict_proba(x))\n",
    "\n",
    "#Adicionar as variáveis: y_chapeu e Target\n",
    "MultinomialNB['y_chapeu']=np.argmax(MultinomialNB.to_numpy(),axis=1)\n",
    "MultinomialNB['Target'] = dados.iloc[:,4]\n",
    "MultinomialNB"
   ]
  },
  {
   "cell_type": "markdown",
   "metadata": {},
   "source": [
    "**Probabilidades da ocorrência dos eventos**"
   ]
  },
  {
   "cell_type": "code",
   "execution_count": 23,
   "metadata": {},
   "outputs": [
    {
     "data": {
      "text/plain": [
       "<AxesSubplot:>"
      ]
     },
     "execution_count": 23,
     "metadata": {},
     "output_type": "execute_result"
    },
    {
     "data": {
      "image/png": "[encoded data removed]",
      "text/plain": [
       "<Figure size 432x288 with 2 Axes>"
      ]
     },
     "metadata": {
      "needs_background": "light"
     },
     "output_type": "display_data"
    }
   ],
   "source": [
    "#Matriz de Confusao\n",
    "cm = confusion_matrix(pd.get_dummies(dados['jogar'],drop_first=True),MultinomialNB['y_chapeu'])\n",
    "sns.heatmap(cm,annot=True,fmt='d')"
   ]
  },
  {
   "cell_type": "code",
   "execution_count": 24,
   "metadata": {},
   "outputs": [
    {
     "name": "stdout",
     "output_type": "stream",
     "text": [
      "Acuracia: 92.9%\n"
     ]
    }
   ],
   "source": [
    "#Acuracia\n",
    "acuracia = accuracy_score(pd.get_dummies(dados['jogar'],drop_first=True),MultinomialNB['y_chapeu'])\n",
    "print(f'Acuracia: {acuracia*100:.1f}%')"
   ]
  },
  {
   "cell_type": "markdown",
   "metadata": {},
   "source": [
    "**Modelo Multinomial espera que as variáveis preditoras sejam discretas e a variável target multinomial, Algoritmo cometeu apenas 1 erro**"
   ]
  },
  {
   "cell_type": "markdown",
   "metadata": {},
   "source": [
    "__------------------------------------------------------------------------------------------------------------------------------------------------------------------------------------------------------------------__\n",
    "\n",
    "\n",
    "__------------------------------------------------------------------------------------------------------------------------------------------------------------------------------------------------------------------__"
   ]
  },
  {
   "cell_type": "markdown",
   "metadata": {},
   "source": [
    "\n",
    "## $$Objetivo ~2:$$\n",
    "\n",
    "\n",
    "## $$Encontrar ~o ~melhor~ modelo ~de~ Naive~ Bayes ~para ~a ~base~ de~ dados$$$$ de~ acordo~ com~ suas~ características$$"
   ]
  },
  {
   "cell_type": "markdown",
   "metadata": {},
   "source": [
    "__------------------------------------------------------------------------------------------------------------------------------------------------------------------------------------------------------------------__\n",
    "\n",
    "\n",
    "__------------------------------------------------------------------------------------------------------------------------------------------------------------------------------------------------------------------__"
   ]
  },
  {
   "cell_type": "markdown",
   "metadata": {},
   "source": [
    "## Base de Dados com a variável target multiclasse e variáveis preditoras continuas"
   ]
  },
  {
   "cell_type": "code",
   "execution_count": 25,
   "metadata": {},
   "outputs": [
    {
     "data": {
      "text/html": [
       "<div>\n",
       "<style scoped>\n",
       "    .dataframe tbody tr th:only-of-type {\n",
       "        vertical-align: middle;\n",
       "    }\n",
       "\n",
       "    .dataframe tbody tr th {\n",
       "        vertical-align: top;\n",
       "    }\n",
       "\n",
       "    .dataframe thead th {\n",
       "        text-align: right;\n",
       "    }\n",
       "</style>\n",
       "<table border=\"1\" class=\"dataframe\">\n",
       "  <thead>\n",
       "    <tr style=\"text-align: right;\">\n",
       "      <th></th>\n",
       "      <th>sepal length (cm)</th>\n",
       "      <th>sepal width (cm)</th>\n",
       "      <th>petal length (cm)</th>\n",
       "      <th>petal width (cm)</th>\n",
       "      <th>Target</th>\n",
       "    </tr>\n",
       "  </thead>\n",
       "  <tbody>\n",
       "    <tr>\n",
       "      <th>0</th>\n",
       "      <td>5.1</td>\n",
       "      <td>3.5</td>\n",
       "      <td>1.4</td>\n",
       "      <td>0.2</td>\n",
       "      <td>0</td>\n",
       "    </tr>\n",
       "    <tr>\n",
       "      <th>1</th>\n",
       "      <td>4.9</td>\n",
       "      <td>3.0</td>\n",
       "      <td>1.4</td>\n",
       "      <td>0.2</td>\n",
       "      <td>0</td>\n",
       "    </tr>\n",
       "    <tr>\n",
       "      <th>2</th>\n",
       "      <td>4.7</td>\n",
       "      <td>3.2</td>\n",
       "      <td>1.3</td>\n",
       "      <td>0.2</td>\n",
       "      <td>0</td>\n",
       "    </tr>\n",
       "    <tr>\n",
       "      <th>3</th>\n",
       "      <td>4.6</td>\n",
       "      <td>3.1</td>\n",
       "      <td>1.5</td>\n",
       "      <td>0.2</td>\n",
       "      <td>0</td>\n",
       "    </tr>\n",
       "    <tr>\n",
       "      <th>4</th>\n",
       "      <td>5.0</td>\n",
       "      <td>3.6</td>\n",
       "      <td>1.4</td>\n",
       "      <td>0.2</td>\n",
       "      <td>0</td>\n",
       "    </tr>\n",
       "    <tr>\n",
       "      <th>...</th>\n",
       "      <td>...</td>\n",
       "      <td>...</td>\n",
       "      <td>...</td>\n",
       "      <td>...</td>\n",
       "      <td>...</td>\n",
       "    </tr>\n",
       "    <tr>\n",
       "      <th>145</th>\n",
       "      <td>6.7</td>\n",
       "      <td>3.0</td>\n",
       "      <td>5.2</td>\n",
       "      <td>2.3</td>\n",
       "      <td>2</td>\n",
       "    </tr>\n",
       "    <tr>\n",
       "      <th>146</th>\n",
       "      <td>6.3</td>\n",
       "      <td>2.5</td>\n",
       "      <td>5.0</td>\n",
       "      <td>1.9</td>\n",
       "      <td>2</td>\n",
       "    </tr>\n",
       "    <tr>\n",
       "      <th>147</th>\n",
       "      <td>6.5</td>\n",
       "      <td>3.0</td>\n",
       "      <td>5.2</td>\n",
       "      <td>2.0</td>\n",
       "      <td>2</td>\n",
       "    </tr>\n",
       "    <tr>\n",
       "      <th>148</th>\n",
       "      <td>6.2</td>\n",
       "      <td>3.4</td>\n",
       "      <td>5.4</td>\n",
       "      <td>2.3</td>\n",
       "      <td>2</td>\n",
       "    </tr>\n",
       "    <tr>\n",
       "      <th>149</th>\n",
       "      <td>5.9</td>\n",
       "      <td>3.0</td>\n",
       "      <td>5.1</td>\n",
       "      <td>1.8</td>\n",
       "      <td>2</td>\n",
       "    </tr>\n",
       "  </tbody>\n",
       "</table>\n",
       "<p>150 rows × 5 columns</p>\n",
       "</div>"
      ],
      "text/plain": [
       "     sepal length (cm)  sepal width (cm)  petal length (cm)  petal width (cm)  \\\n",
       "0                  5.1               3.5                1.4               0.2   \n",
       "1                  4.9               3.0                1.4               0.2   \n",
       "2                  4.7               3.2                1.3               0.2   \n",
       "3                  4.6               3.1                1.5               0.2   \n",
       "4                  5.0               3.6                1.4               0.2   \n",
       "..                 ...               ...                ...               ...   \n",
       "145                6.7               3.0                5.2               2.3   \n",
       "146                6.3               2.5                5.0               1.9   \n",
       "147                6.5               3.0                5.2               2.0   \n",
       "148                6.2               3.4                5.4               2.3   \n",
       "149                5.9               3.0                5.1               1.8   \n",
       "\n",
       "     Target  \n",
       "0         0  \n",
       "1         0  \n",
       "2         0  \n",
       "3         0  \n",
       "4         0  \n",
       "..      ...  \n",
       "145       2  \n",
       "146       2  \n",
       "147       2  \n",
       "148       2  \n",
       "149       2  \n",
       "\n",
       "[150 rows x 5 columns]"
      ]
     },
     "execution_count": 25,
     "metadata": {},
     "output_type": "execute_result"
    }
   ],
   "source": [
    "#Dataset Iris\n",
    "import sklearn.datasets  as dataset\n",
    "\n",
    "#Carregar base de dados\n",
    "ds = dataset.load_iris()\n",
    "x = pd.DataFrame(ds.data,columns=ds.feature_names)\n",
    "y = pd.DataFrame(ds.target,columns=['Target'])\n",
    "dados =x.join(y)\n",
    "dados"
   ]
  },
  {
   "cell_type": "markdown",
   "metadata": {},
   "source": [
    "**Base de dados com 150 linhas e 5 colunas**"
   ]
  },
  {
   "cell_type": "markdown",
   "metadata": {},
   "source": [
    "# Distribuição dos dados "
   ]
  },
  {
   "cell_type": "code",
   "execution_count": 26,
   "metadata": {},
   "outputs": [
    {
     "data": {
      "image/png": "[encoded data removed]",
      "text/plain": [
       "<Figure size 1440x1440 with 6 Axes>"
      ]
     },
     "metadata": {},
     "output_type": "display_data"
    }
   ],
   "source": [
    "import seaborn as sns\n",
    "\n",
    "sns.set(font_scale=1.3,rc={'figure.figsize':(20,20)})\n",
    "eixo=dados.hist(bins=20,color='blue')"
   ]
  },
  {
   "cell_type": "markdown",
   "metadata": {},
   "source": [
    "**Nota-se que algumas variáveis preditoras seguem uma distribuição normal e a variável target está com equilíbrio nas classes**"
   ]
  },
  {
   "cell_type": "markdown",
   "metadata": {},
   "source": [
    "# Modelagem:"
   ]
  },
  {
   "cell_type": "markdown",
   "metadata": {},
   "source": [
    "## GaussianNB"
   ]
  },
  {
   "cell_type": "code",
   "execution_count": 27,
   "metadata": {},
   "outputs": [
    {
     "data": {
      "text/html": [
       "<div>\n",
       "<style scoped>\n",
       "    .dataframe tbody tr th:only-of-type {\n",
       "        vertical-align: middle;\n",
       "    }\n",
       "\n",
       "    .dataframe tbody tr th {\n",
       "        vertical-align: top;\n",
       "    }\n",
       "\n",
       "    .dataframe thead th {\n",
       "        text-align: right;\n",
       "    }\n",
       "</style>\n",
       "<table border=\"1\" class=\"dataframe\">\n",
       "  <thead>\n",
       "    <tr style=\"text-align: right;\">\n",
       "      <th></th>\n",
       "      <th>0</th>\n",
       "      <th>1</th>\n",
       "      <th>2</th>\n",
       "      <th>y_chapeu</th>\n",
       "      <th>Target</th>\n",
       "    </tr>\n",
       "  </thead>\n",
       "  <tbody>\n",
       "    <tr>\n",
       "      <th>0</th>\n",
       "      <td>1.000000e+00</td>\n",
       "      <td>1.357843e-18</td>\n",
       "      <td>7.112835e-26</td>\n",
       "      <td>0</td>\n",
       "      <td>0</td>\n",
       "    </tr>\n",
       "    <tr>\n",
       "      <th>1</th>\n",
       "      <td>1.000000e+00</td>\n",
       "      <td>1.514808e-17</td>\n",
       "      <td>2.348201e-25</td>\n",
       "      <td>0</td>\n",
       "      <td>0</td>\n",
       "    </tr>\n",
       "    <tr>\n",
       "      <th>2</th>\n",
       "      <td>1.000000e+00</td>\n",
       "      <td>1.073042e-18</td>\n",
       "      <td>2.340268e-26</td>\n",
       "      <td>0</td>\n",
       "      <td>0</td>\n",
       "    </tr>\n",
       "    <tr>\n",
       "      <th>3</th>\n",
       "      <td>1.000000e+00</td>\n",
       "      <td>1.466195e-17</td>\n",
       "      <td>2.954927e-25</td>\n",
       "      <td>0</td>\n",
       "      <td>0</td>\n",
       "    </tr>\n",
       "    <tr>\n",
       "      <th>4</th>\n",
       "      <td>1.000000e+00</td>\n",
       "      <td>4.532919e-19</td>\n",
       "      <td>2.883900e-26</td>\n",
       "      <td>0</td>\n",
       "      <td>0</td>\n",
       "    </tr>\n",
       "    <tr>\n",
       "      <th>...</th>\n",
       "      <td>...</td>\n",
       "      <td>...</td>\n",
       "      <td>...</td>\n",
       "      <td>...</td>\n",
       "      <td>...</td>\n",
       "    </tr>\n",
       "    <tr>\n",
       "      <th>145</th>\n",
       "      <td>1.565566e-191</td>\n",
       "      <td>5.855080e-07</td>\n",
       "      <td>9.999994e-01</td>\n",
       "      <td>2</td>\n",
       "      <td>2</td>\n",
       "    </tr>\n",
       "    <tr>\n",
       "      <th>146</th>\n",
       "      <td>1.060620e-149</td>\n",
       "      <td>2.544576e-02</td>\n",
       "      <td>9.745542e-01</td>\n",
       "      <td>2</td>\n",
       "      <td>2</td>\n",
       "    </tr>\n",
       "    <tr>\n",
       "      <th>147</th>\n",
       "      <td>7.988593e-168</td>\n",
       "      <td>3.701669e-04</td>\n",
       "      <td>9.996298e-01</td>\n",
       "      <td>2</td>\n",
       "      <td>2</td>\n",
       "    </tr>\n",
       "    <tr>\n",
       "      <th>148</th>\n",
       "      <td>1.443786e-199</td>\n",
       "      <td>2.460204e-07</td>\n",
       "      <td>9.999998e-01</td>\n",
       "      <td>2</td>\n",
       "      <td>2</td>\n",
       "    </tr>\n",
       "    <tr>\n",
       "      <th>149</th>\n",
       "      <td>3.259882e-146</td>\n",
       "      <td>5.600501e-02</td>\n",
       "      <td>9.439950e-01</td>\n",
       "      <td>2</td>\n",
       "      <td>2</td>\n",
       "    </tr>\n",
       "  </tbody>\n",
       "</table>\n",
       "<p>150 rows × 5 columns</p>\n",
       "</div>"
      ],
      "text/plain": [
       "                 0             1             2  y_chapeu  Target\n",
       "0     1.000000e+00  1.357843e-18  7.112835e-26         0       0\n",
       "1     1.000000e+00  1.514808e-17  2.348201e-25         0       0\n",
       "2     1.000000e+00  1.073042e-18  2.340268e-26         0       0\n",
       "3     1.000000e+00  1.466195e-17  2.954927e-25         0       0\n",
       "4     1.000000e+00  4.532919e-19  2.883900e-26         0       0\n",
       "..             ...           ...           ...       ...     ...\n",
       "145  1.565566e-191  5.855080e-07  9.999994e-01         2       2\n",
       "146  1.060620e-149  2.544576e-02  9.745542e-01         2       2\n",
       "147  7.988593e-168  3.701669e-04  9.996298e-01         2       2\n",
       "148  1.443786e-199  2.460204e-07  9.999998e-01         2       2\n",
       "149  3.259882e-146  5.600501e-02  9.439950e-01         2       2\n",
       "\n",
       "[150 rows x 5 columns]"
      ]
     },
     "execution_count": 27,
     "metadata": {},
     "output_type": "execute_result"
    }
   ],
   "source": [
    "from sklearn.naive_bayes import GaussianNB\n",
    "mod1 = GaussianNB()\n",
    "mod1.fit(x,y)\n",
    "\n",
    "#Previsao\n",
    "GaussianNB = pd.DataFrame(mod1.predict_proba(x))\n",
    "\n",
    "#Adicionar as variáveis: y_chapeu e Target\n",
    "GaussianNB['y_chapeu']=np.argmax(GaussianNB.to_numpy(),axis=1)\n",
    "GaussianNB['Target'] = dados.iloc[:,4]\n",
    "GaussianNB"
   ]
  },
  {
   "cell_type": "code",
   "execution_count": 28,
   "metadata": {},
   "outputs": [
    {
     "data": {
      "text/plain": [
       "<AxesSubplot:>"
      ]
     },
     "execution_count": 28,
     "metadata": {},
     "output_type": "execute_result"
    },
    {
     "data": {
      "image/png": "[encoded data removed]",
      "text/plain": [
       "<Figure size 504x360 with 2 Axes>"
      ]
     },
     "metadata": {},
     "output_type": "display_data"
    }
   ],
   "source": [
    "#Matriz de Confusao\n",
    "from sklearn.metrics import confusion_matrix\n",
    "fig, ax = plt.subplots(figsize=(7, 5))\n",
    "cm = confusion_matrix(y,GaussianNB['y_chapeu'])\n",
    "sns.heatmap(cm,annot=True,fmt='d')"
   ]
  },
  {
   "cell_type": "code",
   "execution_count": 29,
   "metadata": {},
   "outputs": [
    {
     "name": "stdout",
     "output_type": "stream",
     "text": [
      "Acuracia: 96.0%\n"
     ]
    }
   ],
   "source": [
    "#Acuracia\n",
    "from sklearn.metrics import accuracy_score\n",
    "acuracia = accuracy_score(y,GaussianNB['y_chapeu'])\n",
    "print(f'Acuracia: {acuracia*100:.1f}%')"
   ]
  },
  {
   "cell_type": "markdown",
   "metadata": {},
   "source": [
    "**Como os pré-requisitos do algoritmo estão de acordo com os dados, o algoritmo teve uma boa performance**"
   ]
  },
  {
   "cell_type": "markdown",
   "metadata": {},
   "source": [
    "## BernoulliNB"
   ]
  },
  {
   "cell_type": "code",
   "execution_count": 30,
   "metadata": {},
   "outputs": [
    {
     "data": {
      "text/html": [
       "<div>\n",
       "<style scoped>\n",
       "    .dataframe tbody tr th:only-of-type {\n",
       "        vertical-align: middle;\n",
       "    }\n",
       "\n",
       "    .dataframe tbody tr th {\n",
       "        vertical-align: top;\n",
       "    }\n",
       "\n",
       "    .dataframe thead th {\n",
       "        text-align: right;\n",
       "    }\n",
       "</style>\n",
       "<table border=\"1\" class=\"dataframe\">\n",
       "  <thead>\n",
       "    <tr style=\"text-align: right;\">\n",
       "      <th></th>\n",
       "      <th>0</th>\n",
       "      <th>1</th>\n",
       "      <th>2</th>\n",
       "      <th>y_chapeu</th>\n",
       "      <th>Target</th>\n",
       "    </tr>\n",
       "  </thead>\n",
       "  <tbody>\n",
       "    <tr>\n",
       "      <th>0</th>\n",
       "      <td>0.333333</td>\n",
       "      <td>0.333333</td>\n",
       "      <td>0.333333</td>\n",
       "      <td>0</td>\n",
       "      <td>0</td>\n",
       "    </tr>\n",
       "    <tr>\n",
       "      <th>1</th>\n",
       "      <td>0.333333</td>\n",
       "      <td>0.333333</td>\n",
       "      <td>0.333333</td>\n",
       "      <td>0</td>\n",
       "      <td>0</td>\n",
       "    </tr>\n",
       "    <tr>\n",
       "      <th>2</th>\n",
       "      <td>0.333333</td>\n",
       "      <td>0.333333</td>\n",
       "      <td>0.333333</td>\n",
       "      <td>0</td>\n",
       "      <td>0</td>\n",
       "    </tr>\n",
       "    <tr>\n",
       "      <th>3</th>\n",
       "      <td>0.333333</td>\n",
       "      <td>0.333333</td>\n",
       "      <td>0.333333</td>\n",
       "      <td>0</td>\n",
       "      <td>0</td>\n",
       "    </tr>\n",
       "    <tr>\n",
       "      <th>4</th>\n",
       "      <td>0.333333</td>\n",
       "      <td>0.333333</td>\n",
       "      <td>0.333333</td>\n",
       "      <td>0</td>\n",
       "      <td>0</td>\n",
       "    </tr>\n",
       "    <tr>\n",
       "      <th>...</th>\n",
       "      <td>...</td>\n",
       "      <td>...</td>\n",
       "      <td>...</td>\n",
       "      <td>...</td>\n",
       "      <td>...</td>\n",
       "    </tr>\n",
       "    <tr>\n",
       "      <th>145</th>\n",
       "      <td>0.333333</td>\n",
       "      <td>0.333333</td>\n",
       "      <td>0.333333</td>\n",
       "      <td>0</td>\n",
       "      <td>2</td>\n",
       "    </tr>\n",
       "    <tr>\n",
       "      <th>146</th>\n",
       "      <td>0.333333</td>\n",
       "      <td>0.333333</td>\n",
       "      <td>0.333333</td>\n",
       "      <td>0</td>\n",
       "      <td>2</td>\n",
       "    </tr>\n",
       "    <tr>\n",
       "      <th>147</th>\n",
       "      <td>0.333333</td>\n",
       "      <td>0.333333</td>\n",
       "      <td>0.333333</td>\n",
       "      <td>0</td>\n",
       "      <td>2</td>\n",
       "    </tr>\n",
       "    <tr>\n",
       "      <th>148</th>\n",
       "      <td>0.333333</td>\n",
       "      <td>0.333333</td>\n",
       "      <td>0.333333</td>\n",
       "      <td>0</td>\n",
       "      <td>2</td>\n",
       "    </tr>\n",
       "    <tr>\n",
       "      <th>149</th>\n",
       "      <td>0.333333</td>\n",
       "      <td>0.333333</td>\n",
       "      <td>0.333333</td>\n",
       "      <td>0</td>\n",
       "      <td>2</td>\n",
       "    </tr>\n",
       "  </tbody>\n",
       "</table>\n",
       "<p>150 rows × 5 columns</p>\n",
       "</div>"
      ],
      "text/plain": [
       "            0         1         2  y_chapeu  Target\n",
       "0    0.333333  0.333333  0.333333         0       0\n",
       "1    0.333333  0.333333  0.333333         0       0\n",
       "2    0.333333  0.333333  0.333333         0       0\n",
       "3    0.333333  0.333333  0.333333         0       0\n",
       "4    0.333333  0.333333  0.333333         0       0\n",
       "..        ...       ...       ...       ...     ...\n",
       "145  0.333333  0.333333  0.333333         0       2\n",
       "146  0.333333  0.333333  0.333333         0       2\n",
       "147  0.333333  0.333333  0.333333         0       2\n",
       "148  0.333333  0.333333  0.333333         0       2\n",
       "149  0.333333  0.333333  0.333333         0       2\n",
       "\n",
       "[150 rows x 5 columns]"
      ]
     },
     "execution_count": 30,
     "metadata": {},
     "output_type": "execute_result"
    }
   ],
   "source": [
    "from sklearn.naive_bayes import BernoulliNB\n",
    "mod2 = BernoulliNB()\n",
    "mod2.fit(x,y)\n",
    "\n",
    "\n",
    "#Previsao\n",
    "BernoulliNB = pd.DataFrame(mod2.predict_proba(x))\n",
    "\n",
    "#Adicionar as variáveis: y_chapeu e Target\n",
    "BernoulliNB['y_chapeu']=np.argmax(BernoulliNB.to_numpy(),axis=1)\n",
    "BernoulliNB['Target'] = dados.iloc[:,4]\n",
    "BernoulliNB"
   ]
  },
  {
   "cell_type": "code",
   "execution_count": 31,
   "metadata": {},
   "outputs": [
    {
     "data": {
      "text/plain": [
       "<AxesSubplot:>"
      ]
     },
     "execution_count": 31,
     "metadata": {},
     "output_type": "execute_result"
    },
    {
     "data": {
      "image/png": "[encoded data removed]",
      "text/plain": [
       "<Figure size 504x360 with 2 Axes>"
      ]
     },
     "metadata": {},
     "output_type": "display_data"
    }
   ],
   "source": [
    "#Matriz de Confusao\n",
    "fig, ax = plt.subplots(figsize=(7, 5))\n",
    "cm = confusion_matrix(y,BernoulliNB['y_chapeu'])\n",
    "sns.heatmap(cm,annot=True,fmt='d')"
   ]
  },
  {
   "cell_type": "code",
   "execution_count": 32,
   "metadata": {},
   "outputs": [
    {
     "name": "stdout",
     "output_type": "stream",
     "text": [
      "Acuracia: 33.3%\n"
     ]
    }
   ],
   "source": [
    "#Acuracia\n",
    "from sklearn.metrics import accuracy_score\n",
    "acuracia = accuracy_score(y,BernoulliNB['y_chapeu'])\n",
    "print(f'Acuracia: {acuracia*100:.1f}%')"
   ]
  },
  {
   "cell_type": "markdown",
   "metadata": {},
   "source": [
    "**Algoritmo não teve uma boa predição, pois os dados são contínuos e a variável target multiclasses**"
   ]
  },
  {
   "cell_type": "markdown",
   "metadata": {},
   "source": [
    "## MultinomialNB"
   ]
  },
  {
   "cell_type": "code",
   "execution_count": 33,
   "metadata": {},
   "outputs": [
    {
     "data": {
      "text/html": [
       "<div>\n",
       "<style scoped>\n",
       "    .dataframe tbody tr th:only-of-type {\n",
       "        vertical-align: middle;\n",
       "    }\n",
       "\n",
       "    .dataframe tbody tr th {\n",
       "        vertical-align: top;\n",
       "    }\n",
       "\n",
       "    .dataframe thead th {\n",
       "        text-align: right;\n",
       "    }\n",
       "</style>\n",
       "<table border=\"1\" class=\"dataframe\">\n",
       "  <thead>\n",
       "    <tr style=\"text-align: right;\">\n",
       "      <th></th>\n",
       "      <th>0</th>\n",
       "      <th>1</th>\n",
       "      <th>2</th>\n",
       "      <th>y_chapeu</th>\n",
       "      <th>Target</th>\n",
       "    </tr>\n",
       "  </thead>\n",
       "  <tbody>\n",
       "    <tr>\n",
       "      <th>0</th>\n",
       "      <td>0.751995</td>\n",
       "      <td>0.160929</td>\n",
       "      <td>0.087075</td>\n",
       "      <td>0</td>\n",
       "      <td>0</td>\n",
       "    </tr>\n",
       "    <tr>\n",
       "      <th>1</th>\n",
       "      <td>0.684283</td>\n",
       "      <td>0.199746</td>\n",
       "      <td>0.115971</td>\n",
       "      <td>0</td>\n",
       "      <td>0</td>\n",
       "    </tr>\n",
       "    <tr>\n",
       "      <th>2</th>\n",
       "      <td>0.716524</td>\n",
       "      <td>0.180332</td>\n",
       "      <td>0.103145</td>\n",
       "      <td>0</td>\n",
       "      <td>0</td>\n",
       "    </tr>\n",
       "    <tr>\n",
       "      <th>3</th>\n",
       "      <td>0.667739</td>\n",
       "      <td>0.208637</td>\n",
       "      <td>0.123624</td>\n",
       "      <td>0</td>\n",
       "      <td>0</td>\n",
       "    </tr>\n",
       "    <tr>\n",
       "      <th>4</th>\n",
       "      <td>0.759256</td>\n",
       "      <td>0.156401</td>\n",
       "      <td>0.084343</td>\n",
       "      <td>0</td>\n",
       "      <td>0</td>\n",
       "    </tr>\n",
       "    <tr>\n",
       "      <th>...</th>\n",
       "      <td>...</td>\n",
       "      <td>...</td>\n",
       "      <td>...</td>\n",
       "      <td>...</td>\n",
       "      <td>...</td>\n",
       "    </tr>\n",
       "    <tr>\n",
       "      <th>145</th>\n",
       "      <td>0.009494</td>\n",
       "      <td>0.462361</td>\n",
       "      <td>0.528144</td>\n",
       "      <td>2</td>\n",
       "      <td>2</td>\n",
       "    </tr>\n",
       "    <tr>\n",
       "      <th>146</th>\n",
       "      <td>0.013097</td>\n",
       "      <td>0.467050</td>\n",
       "      <td>0.519853</td>\n",
       "      <td>2</td>\n",
       "      <td>2</td>\n",
       "    </tr>\n",
       "    <tr>\n",
       "      <th>147</th>\n",
       "      <td>0.013816</td>\n",
       "      <td>0.474113</td>\n",
       "      <td>0.512071</td>\n",
       "      <td>2</td>\n",
       "      <td>2</td>\n",
       "    </tr>\n",
       "    <tr>\n",
       "      <th>148</th>\n",
       "      <td>0.009361</td>\n",
       "      <td>0.459720</td>\n",
       "      <td>0.530919</td>\n",
       "      <td>2</td>\n",
       "      <td>2</td>\n",
       "    </tr>\n",
       "    <tr>\n",
       "      <th>149</th>\n",
       "      <td>0.017337</td>\n",
       "      <td>0.474813</td>\n",
       "      <td>0.507851</td>\n",
       "      <td>2</td>\n",
       "      <td>2</td>\n",
       "    </tr>\n",
       "  </tbody>\n",
       "</table>\n",
       "<p>150 rows × 5 columns</p>\n",
       "</div>"
      ],
      "text/plain": [
       "            0         1         2  y_chapeu  Target\n",
       "0    0.751995  0.160929  0.087075         0       0\n",
       "1    0.684283  0.199746  0.115971         0       0\n",
       "2    0.716524  0.180332  0.103145         0       0\n",
       "3    0.667739  0.208637  0.123624         0       0\n",
       "4    0.759256  0.156401  0.084343         0       0\n",
       "..        ...       ...       ...       ...     ...\n",
       "145  0.009494  0.462361  0.528144         2       2\n",
       "146  0.013097  0.467050  0.519853         2       2\n",
       "147  0.013816  0.474113  0.512071         2       2\n",
       "148  0.009361  0.459720  0.530919         2       2\n",
       "149  0.017337  0.474813  0.507851         2       2\n",
       "\n",
       "[150 rows x 5 columns]"
      ]
     },
     "execution_count": 33,
     "metadata": {},
     "output_type": "execute_result"
    }
   ],
   "source": [
    "from sklearn.naive_bayes import MultinomialNB\n",
    "mod3 = MultinomialNB()\n",
    "mod3.fit(x,y)\n",
    "\n",
    "#Previsao\n",
    "MultinomialNB = pd.DataFrame(mod3.predict_proba(x))\n",
    "\n",
    "#Adicionar as variáveis: y_chapeu e Target\n",
    "MultinomialNB['y_chapeu']=np.argmax(MultinomialNB.to_numpy(),axis=1)\n",
    "MultinomialNB['Target'] = dados.iloc[:,4]\n",
    "MultinomialNB"
   ]
  },
  {
   "cell_type": "code",
   "execution_count": 34,
   "metadata": {},
   "outputs": [
    {
     "data": {
      "text/plain": [
       "<AxesSubplot:>"
      ]
     },
     "execution_count": 34,
     "metadata": {},
     "output_type": "execute_result"
    },
    {
     "data": {
      "image/png": "[encoded data removed]",
      "text/plain": [
       "<Figure size 504x360 with 2 Axes>"
      ]
     },
     "metadata": {},
     "output_type": "display_data"
    }
   ],
   "source": [
    "#Matriz de Confusao\n",
    "fig, ax = plt.subplots(figsize=(7, 5))\n",
    "cm = confusion_matrix(y,MultinomialNB['y_chapeu'])\n",
    "sns.heatmap(cm,annot=True,fmt='d')"
   ]
  },
  {
   "cell_type": "code",
   "execution_count": 35,
   "metadata": {},
   "outputs": [
    {
     "name": "stdout",
     "output_type": "stream",
     "text": [
      "Acuracia: 95.3%\n"
     ]
    }
   ],
   "source": [
    "#Acuracia\n",
    "from sklearn.metrics import accuracy_score\n",
    "acuracia = accuracy_score(y,MultinomialNB['y_chapeu'])\n",
    "print(f'Acuracia: {acuracia*100:.1f}%')"
   ]
  },
  {
   "cell_type": "markdown",
   "metadata": {},
   "source": [
    "**Algoritmo performance bem com a variável target sendo policotômicas**"
   ]
  },
  {
   "cell_type": "markdown",
   "metadata": {},
   "source": [
    "# Conclusão:"
   ]
  },
  {
   "cell_type": "markdown",
   "metadata": {},
   "source": [
    "**Cada modelo do Naive Bayes depende do tipo de dado para conseguir ter o melhor resultado, nesses exemplos colocamos 2 dataset totalmente diferente, o 1° com variáveis preditoras categóricas e a variável target binaria, os melhores modelos para esses dados foram: Bernulli e Multinomial, já no 2° Dataset as variáveis preditoras eram continuas e a variável target multiclasses, e os modelos que apresentaram os melhores resultados foram: Gaussiano e MultinomialNB, portanto a analise descritiva é primordial para que se conheça os dados e aplique o melhor algoritmo para chegar no melhor resultado**"
   ]
  }
 ],
 "metadata": {
  "anaconda-cloud": {},
  "kernelspec": {
   "display_name": "Python 3 (ipykernel)",
   "language": "python",
   "name": "python3"
  },
  "language_info": {
   "codemirror_mode": {
    "name": "ipython",
    "version": 3
   },
   "file_extension": ".py",
   "mimetype": "text/x-python",
   "name": "python",
   "nbconvert_exporter": "python",
   "pygments_lexer": "ipython3",
   "version": "3.9.12"
  }
 },
 "nbformat": 4,
 "nbformat_minor": 1
}
