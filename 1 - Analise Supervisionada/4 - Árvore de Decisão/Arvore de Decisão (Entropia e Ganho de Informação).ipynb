{
 "cells": [
  {
   "cell_type": "markdown",
   "metadata": {},
   "source": [
    "# $$Árvore~de~Decisão: Entropia$$"
   ]
  },
  {
   "cell_type": "markdown",
   "metadata": {},
   "source": [
    "### $$Conceito:$$\n",
    "\n",
    "\n",
    "**Árvores de decisão (ou árvores de classificação)** são modelos de aprendizado supervisionado que representam regras de decisão baseadas nos valores dos atributos.\n",
    "\n",
    "\n",
    "**Os atributos no topo da árvore** são os mais importantes para descrever o comportamento da variável Target, seguindo uma ordem de importância\n",
    "\n",
    "\n",
    "Para construir uma **árvore de decisão usamos 2 formulas importantes: Entropia e Índice de Gini**, com elas você consegue descobrir quais variáveis são mais importantes para explicar a variável Target\n",
    "\n",
    "\n",
    "\n",
    "**A construção de uma árvore de decisão tem três objetivos, quais sejam:**\n",
    "\n",
    "- Diminuir a entropia (a aleatoriedade da variável objetivo)\n",
    "\n",
    "- Ser consistente com o conjunto de dados (Treino e teste)\n",
    "\n",
    "- Possuir o menor número de nós\n",
    "\n",
    "### $$Terminologias~ relacionadas~ às ~árvores~ de~ decisão:$$\n",
    "\n",
    "\n",
    "**Pruning:** \n",
    "- Eliminar alguns Nós da Árvore para evitar Overfitting\n",
    "\n",
    "\n",
    "**Regra de Parada:**\n",
    "- Os parâmetros usados para regra de parada são: Índice Gini, Qui-Quadrado, Ganho de Informação e Redução de Variância\n",
    "\n",
    "\n",
    "\n",
    "**Tipo de Distribuição:**\n",
    "- **Método não paramétrico:**  A  árvore  de  decisão  é  considerada  um  método  não-paramétrico. Isto significa que as árvores de decisão não pressupõem distribuição do espaço nem a estrutura do classificador\n",
    "\n",
    "\n",
    "**Nó pai e nó filho:**\n",
    "\n",
    "- Um nó que é dividido em sub-nós é chamado de nó pai (nó raiz). Os sub-nós são os nós filhos (nós subsequentes) do nó pai\n",
    "\n",
    "\n",
    "\n",
    "\n",
    "### $$Entropia (Desordem):$$\n",
    "\n",
    "\n",
    "\n",
    "Através da **entropia** é possível verificar a variação das classes dos dados na variável target. **Quanto maior a entropia, maior a desordem dos dados (dados balanceados), o intervalo de Entropia varia entre 0 e 1 para dados binários e maior que 1 em multiclasses**\n",
    "\n",
    "\n",
    "Quanto mais **equilibrado os dados** estiverem na variável Target mais **distante do valor 0** a entropia vai estar\n",
    "\n",
    "\n",
    "Para **diminuir a entropia** nos dados da **variável target**, temos que **adicionar variáveis explicativas** e **calcular seu ganho de informação**, a variável que tiver o maior valor do ganho de informação será o nó raiz e ficará no topo da árvore, seguindo a ordem até o nó folha que deixará os dados mais puro possível (Entropia 0 ou próxima de 0)\n",
    "\n",
    "\n",
    "\n",
    "### $$Índice ~ Gini:$$\n",
    "\n",
    "O **Objetivo do índice gini é selecionar as variáveis mais relevantes** para prever as features do modelo utilizando o algoritmo de árvore de decisão\n",
    "\n",
    "\n",
    "Assim como na Entropia, será verificada a distribuição dos dados nas variáveis preditoras de acordo com a variação da variável target, A variável preditora com o **menor índice Gini** será a escolhida para o **nó principal** da árvore, o intervalo de Impureza Gini varia entre 0 e 0,5.\n",
    "\n",
    "\n",
    "A **Impureza Gini** é calculada para **cada classe da variável explicativa**, quanto **menor** for o **valor, menor será o valor do índice gini**\n",
    " \n",
    "\n",
    "**Obs:** Podem haver variáveis que tem o valor de gini alto, podendo ficar de fora da árvore\n",
    "\n",
    "\n",
    "\n",
    "\n",
    "### $$Representando ~Árvores~ de~ Decisão:$$\n",
    "\n",
    "- Cada nó interno (variável explicativa) testa um atributo (classe da variável explicativa)\n",
    "\n",
    "\n",
    "- Cada ramo corresponde a um valor do atributo (classe da variável explicativa)\n",
    "\n",
    "\n",
    "- Cada folha representa uma classe (variável Target)\n"
   ]
  },
  {
   "cell_type": "markdown",
   "metadata": {},
   "source": [
    "__------------------------------------------------------------------------------------------------------------------------------------------------------------------------------------------------------------------__\n",
    "\n",
    "\n",
    "__------------------------------------------------------------------------------------------------------------------------------------------------------------------------------------------------------------------__"
   ]
  },
  {
   "cell_type": "markdown",
   "metadata": {},
   "source": [
    "## $$Objetivo:$$  \n",
    "\n",
    "## $$Classificar~corretamente~as~classes~da~variável~target$$$$usando~o~algoritimo~de~Árvore~de~decisão~com~a~entropia$$"
   ]
  },
  {
   "cell_type": "markdown",
   "metadata": {},
   "source": [
    "__------------------------------------------------------------------------------------------------------------------------------------------------------------------------------------------------------------------__\n",
    "\n",
    "\n",
    "__------------------------------------------------------------------------------------------------------------------------------------------------------------------------------------------------------------------__"
   ]
  },
  {
   "cell_type": "code",
   "execution_count": 1,
   "metadata": {},
   "outputs": [],
   "source": [
    "#Pacotes\n",
    "import numpy as np\n",
    "import pandas as pd\n",
    "from sklearn.model_selection import train_test_split\n",
    "from sklearn import metrics\n",
    "import matplotlib.pyplot as plt"
   ]
  },
  {
   "cell_type": "markdown",
   "metadata": {},
   "source": [
    "# Banco de dados "
   ]
  },
  {
   "cell_type": "code",
   "execution_count": 2,
   "metadata": {},
   "outputs": [
    {
     "data": {
      "text/html": [
       "<div>\n",
       "<style scoped>\n",
       "    .dataframe tbody tr th:only-of-type {\n",
       "        vertical-align: middle;\n",
       "    }\n",
       "\n",
       "    .dataframe tbody tr th {\n",
       "        vertical-align: top;\n",
       "    }\n",
       "\n",
       "    .dataframe thead th {\n",
       "        text-align: right;\n",
       "    }\n",
       "</style>\n",
       "<table border=\"1\" class=\"dataframe\">\n",
       "  <thead>\n",
       "    <tr style=\"text-align: right;\">\n",
       "      <th></th>\n",
       "      <th>Historico_Credito</th>\n",
       "      <th>Divida</th>\n",
       "      <th>Garantias</th>\n",
       "      <th>Renda_Anual</th>\n",
       "      <th>Risco</th>\n",
       "    </tr>\n",
       "  </thead>\n",
       "  <tbody>\n",
       "    <tr>\n",
       "      <th>0</th>\n",
       "      <td>Ruim</td>\n",
       "      <td>Alta</td>\n",
       "      <td>Nenhuma</td>\n",
       "      <td>&lt;15.000</td>\n",
       "      <td>Alto</td>\n",
       "    </tr>\n",
       "    <tr>\n",
       "      <th>1</th>\n",
       "      <td>Desconhecida</td>\n",
       "      <td>Alta</td>\n",
       "      <td>Nenhuma</td>\n",
       "      <td>&gt;=15.000 a &lt;=35.000</td>\n",
       "      <td>Alto</td>\n",
       "    </tr>\n",
       "    <tr>\n",
       "      <th>2</th>\n",
       "      <td>Desconhecida</td>\n",
       "      <td>Baixa</td>\n",
       "      <td>Nenhuma</td>\n",
       "      <td>&gt;=15.000 a &lt;=35.000</td>\n",
       "      <td>Moderado</td>\n",
       "    </tr>\n",
       "    <tr>\n",
       "      <th>3</th>\n",
       "      <td>Desconhecida</td>\n",
       "      <td>Baixa</td>\n",
       "      <td>Nenhuma</td>\n",
       "      <td>&gt;35.000</td>\n",
       "      <td>Alto</td>\n",
       "    </tr>\n",
       "    <tr>\n",
       "      <th>4</th>\n",
       "      <td>Desconhecida</td>\n",
       "      <td>Baixa</td>\n",
       "      <td>Nenhuma</td>\n",
       "      <td>&gt;35.000</td>\n",
       "      <td>Baixo</td>\n",
       "    </tr>\n",
       "    <tr>\n",
       "      <th>5</th>\n",
       "      <td>Desconhecida</td>\n",
       "      <td>Baixa</td>\n",
       "      <td>Adequada</td>\n",
       "      <td>&gt;35.000</td>\n",
       "      <td>Baixo</td>\n",
       "    </tr>\n",
       "    <tr>\n",
       "      <th>6</th>\n",
       "      <td>Ruim</td>\n",
       "      <td>Baixa</td>\n",
       "      <td>Nenhuma</td>\n",
       "      <td>&lt;15.000</td>\n",
       "      <td>Alto</td>\n",
       "    </tr>\n",
       "    <tr>\n",
       "      <th>7</th>\n",
       "      <td>Ruim</td>\n",
       "      <td>Baixa</td>\n",
       "      <td>Adequada</td>\n",
       "      <td>&gt;35.000</td>\n",
       "      <td>Moderado</td>\n",
       "    </tr>\n",
       "    <tr>\n",
       "      <th>8</th>\n",
       "      <td>Boa</td>\n",
       "      <td>Baixa</td>\n",
       "      <td>Nenhuma</td>\n",
       "      <td>&gt;35.000</td>\n",
       "      <td>Baixo</td>\n",
       "    </tr>\n",
       "    <tr>\n",
       "      <th>9</th>\n",
       "      <td>Boa</td>\n",
       "      <td>Alta</td>\n",
       "      <td>Adequada</td>\n",
       "      <td>&gt;35.000</td>\n",
       "      <td>Baixo</td>\n",
       "    </tr>\n",
       "    <tr>\n",
       "      <th>10</th>\n",
       "      <td>Boa</td>\n",
       "      <td>Alta</td>\n",
       "      <td>Nenhuma</td>\n",
       "      <td>&lt;15.000</td>\n",
       "      <td>Alto</td>\n",
       "    </tr>\n",
       "    <tr>\n",
       "      <th>11</th>\n",
       "      <td>Boa</td>\n",
       "      <td>Alta</td>\n",
       "      <td>Nenhuma</td>\n",
       "      <td>&gt;=15.000 a &lt;=35.000</td>\n",
       "      <td>Moderado</td>\n",
       "    </tr>\n",
       "    <tr>\n",
       "      <th>12</th>\n",
       "      <td>Boa</td>\n",
       "      <td>Alta</td>\n",
       "      <td>Nenhuma</td>\n",
       "      <td>&gt;35.000</td>\n",
       "      <td>Baixo</td>\n",
       "    </tr>\n",
       "    <tr>\n",
       "      <th>13</th>\n",
       "      <td>Ruim</td>\n",
       "      <td>Alta</td>\n",
       "      <td>Nenhuma</td>\n",
       "      <td>&gt;=15.000 a &lt;=35.000</td>\n",
       "      <td>Alto</td>\n",
       "    </tr>\n",
       "  </tbody>\n",
       "</table>\n",
       "</div>"
      ],
      "text/plain": [
       "   Historico_Credito Divida Garantias          Renda_Anual     Risco\n",
       "0               Ruim   Alta   Nenhuma              <15.000      Alto\n",
       "1       Desconhecida   Alta   Nenhuma  >=15.000 a <=35.000      Alto\n",
       "2       Desconhecida  Baixa   Nenhuma  >=15.000 a <=35.000  Moderado\n",
       "3       Desconhecida  Baixa   Nenhuma              >35.000      Alto\n",
       "4       Desconhecida  Baixa   Nenhuma              >35.000     Baixo\n",
       "5       Desconhecida  Baixa  Adequada              >35.000     Baixo\n",
       "6               Ruim  Baixa   Nenhuma              <15.000      Alto\n",
       "7               Ruim  Baixa  Adequada              >35.000  Moderado\n",
       "8                Boa  Baixa   Nenhuma              >35.000     Baixo\n",
       "9                Boa   Alta  Adequada              >35.000     Baixo\n",
       "10               Boa   Alta   Nenhuma              <15.000      Alto\n",
       "11               Boa   Alta   Nenhuma  >=15.000 a <=35.000  Moderado\n",
       "12               Boa   Alta   Nenhuma              >35.000     Baixo\n",
       "13              Ruim   Alta   Nenhuma  >=15.000 a <=35.000      Alto"
      ]
     },
     "execution_count": 2,
     "metadata": {},
     "output_type": "execute_result"
    }
   ],
   "source": [
    "# Carregando o dataset\n",
    "dados = pd.read_csv('decisao.csv',encoding='latin1',sep=';')\n",
    "dados"
   ]
  },
  {
   "cell_type": "markdown",
   "metadata": {},
   "source": [
    "**São 14 observações e 5 variáveis**"
   ]
  },
  {
   "cell_type": "markdown",
   "metadata": {},
   "source": [
    "# Análise Exploratória"
   ]
  },
  {
   "cell_type": "code",
   "execution_count": 3,
   "metadata": {},
   "outputs": [
    {
     "name": "stdout",
     "output_type": "stream",
     "text": [
      "<class 'pandas.core.frame.DataFrame'>\n",
      "RangeIndex: 14 entries, 0 to 13\n",
      "Data columns (total 5 columns):\n",
      " #   Column             Non-Null Count  Dtype \n",
      "---  ------             --------------  ----- \n",
      " 0   Historico_Credito  14 non-null     object\n",
      " 1   Divida             14 non-null     object\n",
      " 2   Garantias          14 non-null     object\n",
      " 3   Renda_Anual        14 non-null     object\n",
      " 4   Risco              14 non-null     object\n",
      "dtypes: object(5)\n",
      "memory usage: 688.0+ bytes\n"
     ]
    }
   ],
   "source": [
    "#Tipos de variáveis\n",
    "dados.info()"
   ]
  },
  {
   "cell_type": "markdown",
   "metadata": {},
   "source": [
    "**Variáveis qualitativas, sem valores nulos**"
   ]
  },
  {
   "cell_type": "markdown",
   "metadata": {},
   "source": [
    "# Calcular a entropia da varáriavel target"
   ]
  },
  {
   "cell_type": "markdown",
   "metadata": {},
   "source": [
    "**A Primeira etapa é verificar o nível de desordem da variável target, quanto mais equilíbrio na classe mais desordem haverá nos dados, consequentemente maior o valor da entropia**"
   ]
  },
  {
   "cell_type": "code",
   "execution_count": 4,
   "metadata": {},
   "outputs": [
    {
     "name": "stdout",
     "output_type": "stream",
     "text": [
      "Probabilidade de Risco Alto  = 0.43\n",
      "Probabilidade de Risco Moderado = 0.21\n",
      "Probabilidade de Risco Baixo = 0.36\n",
      "\n",
      "Valor da entropia da variavel Target = 1.53\n"
     ]
    }
   ],
   "source": [
    "# Calcular a Entropia da Varariavel Y\n",
    "\n",
    "\n",
    "#Probabilidades de cada classe da variável Target\n",
    "prob_Risco_alto = len(dados.loc[(dados['Risco'] =='Alto')])/len(dados)\n",
    "prob_Risco_mod = len(dados.loc[(dados['Risco'] =='Moderado')])/len(dados)\n",
    "prob_Risco_baixo = len(dados.loc[(dados['Risco'] =='Baixo')])/len(dados)\n",
    "\n",
    "#Formula da Entropia na variável target\n",
    "entropia_pai = ((-prob_Risco_alto*np.log2(prob_Risco_alto)-(prob_Risco_mod*np.log2(prob_Risco_mod))-\n",
    "                 (prob_Risco_baixo*np.log2(prob_Risco_baixo))))\n",
    "\n",
    "\n",
    "print(f'Probabilidade de Risco Alto  = {round(prob_Risco_alto,2)}')\n",
    "print(f'Probabilidade de Risco Moderado = {round(prob_Risco_mod,2)}')\n",
    "print(f'Probabilidade de Risco Baixo = {round(prob_Risco_baixo,2)}\\n')\n",
    "print(f'Valor da entropia da variavel Target = {round(entropia_pai,2)}')\n"
   ]
  },
  {
   "cell_type": "markdown",
   "metadata": {},
   "source": [
    "**Observe que a probabilidade das classes são equilibradas, portanto o valor da entropia é alta**"
   ]
  },
  {
   "cell_type": "code",
   "execution_count": 5,
   "metadata": {},
   "outputs": [
    {
     "data": {
      "image/png": "[encoded data removed]",
      "text/plain": [
       "<Figure size 432x288 with 1 Axes>"
      ]
     },
     "metadata": {
      "needs_background": "light"
     },
     "output_type": "display_data"
    }
   ],
   "source": [
    "#Histograma\n",
    "plt.hist(dados.Risco);"
   ]
  },
  {
   "cell_type": "markdown",
   "metadata": {},
   "source": [
    "# Ganho de Informação:"
   ]
  },
  {
   "cell_type": "markdown",
   "metadata": {},
   "source": [
    "## 1° Passo: Calcular as probabilidade de cada classe da variável explicativa VS target"
   ]
  },
  {
   "cell_type": "markdown",
   "metadata": {},
   "source": [
    "### Variável Historico_Credito"
   ]
  },
  {
   "cell_type": "code",
   "execution_count": 6,
   "metadata": {},
   "outputs": [
    {
     "data": {
      "text/html": [
       "<div>\n",
       "<style scoped>\n",
       "    .dataframe tbody tr th:only-of-type {\n",
       "        vertical-align: middle;\n",
       "    }\n",
       "\n",
       "    .dataframe tbody tr th {\n",
       "        vertical-align: top;\n",
       "    }\n",
       "\n",
       "    .dataframe thead th {\n",
       "        text-align: right;\n",
       "    }\n",
       "</style>\n",
       "<table border=\"1\" class=\"dataframe\">\n",
       "  <thead>\n",
       "    <tr style=\"text-align: right;\">\n",
       "      <th></th>\n",
       "      <th>Historico_Credito</th>\n",
       "    </tr>\n",
       "  </thead>\n",
       "  <tbody>\n",
       "    <tr>\n",
       "      <th>Desconhecida</th>\n",
       "      <td>5</td>\n",
       "    </tr>\n",
       "    <tr>\n",
       "      <th>Boa</th>\n",
       "      <td>5</td>\n",
       "    </tr>\n",
       "    <tr>\n",
       "      <th>Ruim</th>\n",
       "      <td>4</td>\n",
       "    </tr>\n",
       "  </tbody>\n",
       "</table>\n",
       "</div>"
      ],
      "text/plain": [
       "              Historico_Credito\n",
       "Desconhecida                  5\n",
       "Boa                           5\n",
       "Ruim                          4"
      ]
     },
     "execution_count": 6,
     "metadata": {},
     "output_type": "execute_result"
    }
   ],
   "source": [
    "#Dados da variável preco\n",
    "dados.Historico_Credito.value_counts().to_frame()"
   ]
  },
  {
   "cell_type": "markdown",
   "metadata": {},
   "source": [
    "**Temos 3 classes na variável 'Historico_Credito': Boa, Desconhecida, Ruim**\n",
    "\n",
    "\n",
    "**Cada classe da variável 'Historico_Credito', pode ser de uma classe da variável Target, precisamos calcular as probabilidades de cada classe**\n",
    "\n",
    "\n",
    "\n"
   ]
  },
  {
   "cell_type": "code",
   "execution_count": 7,
   "metadata": {},
   "outputs": [
    {
     "name": "stdout",
     "output_type": "stream",
     "text": [
      "Medidas Calculadas em Porcentagem (%)\n",
      "\n",
      "Variável Historico_Credito da classe Desconhecida e variável target da classe Risco Alto=40.0%\n",
      "Variável Historico_Credito da classe Desconhecida e Risco Moderado = 20.0%\n",
      "Variável Historico_Credito da classe Desconhecida e Risco Baixo = 40.0%\n",
      "\n",
      "Variável Historico_Credito da classe Ruim e variável target da classe Risco Alto = 75.0%\n",
      "Variável Historico_Credito da classe Ruim e variável target da classe Risco Moderado = 25.0%\n",
      "Variável Historico_Credito da classe Ruim e variável target da classe Risco Baixo = 0.0%\n",
      "\n",
      "Variável Historico_Credito da classe Boa e variável target da classe Risco Alto = 20.0%\n",
      "Variável Historico_Credito da classe Boa e variável target da classe Risco Moderado = 20.0%\n",
      "Variável Historico_Credito da classe Boa e variável target da classe Risco Baixo = 60.0%\n",
      "\n",
      "Total de observações = 14 \n"
     ]
    }
   ],
   "source": [
    "#Calculo das probabilidade da variável: 'Historico_Credito'\n",
    "\n",
    "\n",
    "#Risco quando o Historico_Credito for Desconhecida\n",
    "\n",
    "#Total\n",
    "total_Desc = len(dados.loc[(dados['Historico_Credito'] =='Desconhecida')])\n",
    "\n",
    "#alto\n",
    "Hist_Desc_alto = (len(dados.loc[(dados['Historico_Credito'] =='Desconhecida')&(dados['Risco']=='Alto')]))/total_Desc\n",
    "#Moderado\n",
    "Hist_Desc_mod = (len(dados.loc[(dados['Historico_Credito'] =='Desconhecida')&(dados['Risco']=='Moderado')]))/total_Desc\n",
    "#Baixo\n",
    "Hist_Desc_Baixo = (len(dados.loc[(dados['Historico_Credito'] =='Desconhecida')&(dados['Risco']=='Baixo')]))/total_Desc\n",
    "\n",
    "\n",
    "#Risco quando o Historico_Credito for Ruim\n",
    "\n",
    "#Total\n",
    "total_ruim = len(dados.loc[(dados['Historico_Credito'] =='Ruim')])\n",
    "\n",
    "#Alto\n",
    "Hist_ruim_alto = (len(dados.loc[(dados['Historico_Credito'] =='Ruim')&(dados['Risco']=='Alto')]))/total_ruim\n",
    "#Moderado\n",
    "Hist_ruim_mod = (len(dados.loc[(dados['Historico_Credito'] =='Ruim')&(dados['Risco']=='Moderado')]))/total_ruim\n",
    "#Baixo\n",
    "Hist_ruim_Baixo = (len(dados.loc[(dados['Historico_Credito'] =='Ruim')&(dados['Risco']=='Baixo')]))/total_ruim\n",
    "\n",
    "#Risco quando o Historico_Credito for Boa\n",
    "#Total\n",
    "total_boa = len(dados.loc[(dados['Historico_Credito'] =='Boa')])\n",
    "\n",
    "#Alto\n",
    "Hist_boa_alto = (len(dados.loc[(dados['Historico_Credito'] =='Boa')&(dados['Risco']=='Alto')]))/total_boa\n",
    "#Moderado\n",
    "Hist_boa_mod = (len(dados.loc[(dados['Historico_Credito'] =='Boa')&(dados['Risco']=='Moderado')]))/total_boa\n",
    "#Baixo\n",
    "Hist_boa_Baixo = (len(dados.loc[(dados['Historico_Credito'] =='Boa')&(dados['Risco']=='Baixo')]))/total_boa\n",
    "\n",
    "#total de dados Var Historico_Credito\n",
    "total_Historico_Credito = len(dados)\n",
    "\n",
    "print('Medidas Calculadas em Porcentagem (%)\\n')\n",
    "\n",
    "print(f'Variável Historico_Credito da classe Desconhecida e variável target da classe Risco Alto={round(Hist_Desc_alto*100,1)}%')\n",
    "print(f'Variável Historico_Credito da classe Desconhecida e Risco Moderado = {round(Hist_Desc_mod*100,1)}%')\n",
    "print(f'Variável Historico_Credito da classe Desconhecida e Risco Baixo = {round(Hist_Desc_Baixo*100,1)}%\\n')\n",
    "\n",
    "print(f'Variável Historico_Credito da classe Ruim e variável target da classe Risco Alto = {round(Hist_ruim_alto*100,1)}%')\n",
    "print(f'Variável Historico_Credito da classe Ruim e variável target da classe Risco Moderado = {round(Hist_ruim_mod*100,1)}%')\n",
    "print(f'Variável Historico_Credito da classe Ruim e variável target da classe Risco Baixo = {round(Hist_ruim_Baixo*100,1)}%\\n')\n",
    "\n",
    "print(f'Variável Historico_Credito da classe Boa e variável target da classe Risco Alto = {round(Hist_boa_alto*100,1)}%')\n",
    "print(f'Variável Historico_Credito da classe Boa e variável target da classe Risco Moderado = {round(Hist_boa_mod*100,1)}%')\n",
    "print(f'Variável Historico_Credito da classe Boa e variável target da classe Risco Baixo = {round(Hist_boa_Baixo*100,1)}%\\n')\n",
    "\n",
    "print(f'Total de observações = {total_Historico_Credito} ')"
   ]
  },
  {
   "cell_type": "markdown",
   "metadata": {},
   "source": [
    "**Cálculo das probabilidades de cada classe da variável: Historico_Credito em relação a cada classe da variável target**"
   ]
  },
  {
   "cell_type": "markdown",
   "metadata": {},
   "source": [
    "## 2° passo: Calcular o valor da Entropia_filho"
   ]
  },
  {
   "cell_type": "markdown",
   "metadata": {},
   "source": [
    "- **Após calcular as probabilidades de cada classe da variável explicativa VS target, temos que fazer o cálculo da entropia da variável explicativa (chamada de entropia_filho)**"
   ]
  },
  {
   "cell_type": "code",
   "execution_count": 8,
   "metadata": {},
   "outputs": [
    {
     "data": {
      "text/plain": [
       "1.5219280948873621"
      ]
     },
     "execution_count": 8,
     "metadata": {},
     "output_type": "execute_result"
    }
   ],
   "source": [
    "#Variável Historico_Credito - classe = Desconhecida\n",
    "\n",
    "entropia_Hist_Desc = (-Hist_Desc_alto*np.log2(Hist_Desc_alto)-(Hist_Desc_mod*np.log2(Hist_Desc_mod))-\n",
    "                      (Hist_Desc_Baixo*np.log2(Hist_Desc_Baixo)))\n",
    "entropia_Hist_Desc"
   ]
  },
  {
   "cell_type": "code",
   "execution_count": 9,
   "metadata": {},
   "outputs": [
    {
     "data": {
      "text/plain": [
       "nan"
      ]
     },
     "execution_count": 9,
     "metadata": {},
     "output_type": "execute_result"
    }
   ],
   "source": [
    "#Variável Historico_Credito - classe = Ruim\n",
    "import warnings\n",
    "warnings.filterwarnings('ignore')\n",
    "\n",
    "entropia_Hist_ruim = (-Hist_ruim_alto*np.log2(Hist_ruim_alto)-(Hist_ruim_mod*np.log2(Hist_ruim_mod))-\n",
    "                      (Hist_ruim_Baixo*np.log2(Hist_ruim_Baixo)))\n",
    "entropia_Hist_ruim"
   ]
  },
  {
   "cell_type": "markdown",
   "metadata": {},
   "source": [
    "**Note que quando uma das classes da variável explicativa contém 0 de probabilidade o resultado é NaN, pois qualquer número dividido ou multiplicado por 0 não existe, portanto precisamos deixar o número 0 com um valor simbólico ou retirar a variável da formula**"
   ]
  },
  {
   "cell_type": "code",
   "execution_count": 10,
   "metadata": {},
   "outputs": [
    {
     "data": {
      "text/plain": [
       "0.8126068956970878"
      ]
     },
     "execution_count": 10,
     "metadata": {},
     "output_type": "execute_result"
    }
   ],
   "source": [
    "#Multiplicando a classe ruim por um valor simbolico\n",
    "Hist_ruim_Baixo = 0.0001\n",
    "\n",
    "#Calcular a entropia novamente\n",
    "entropia_Hist_ruim = (-Hist_ruim_alto*np.log2(Hist_ruim_alto)-(Hist_ruim_mod*np.log2(Hist_ruim_mod))-\n",
    "                      (Hist_ruim_Baixo*np.log2(Hist_ruim_Baixo)))\n",
    "entropia_Hist_ruim"
   ]
  },
  {
   "cell_type": "markdown",
   "metadata": {},
   "source": [
    "**Multiplicando a classe ruim da variável Historico_Credito por um valor simbólico**"
   ]
  },
  {
   "cell_type": "code",
   "execution_count": 11,
   "metadata": {},
   "outputs": [
    {
     "data": {
      "text/plain": [
       "1.3709505944546687"
      ]
     },
     "execution_count": 11,
     "metadata": {},
     "output_type": "execute_result"
    }
   ],
   "source": [
    "#Variável Historico_Credito - classe = Boa\n",
    "#Entropia_filho = Observaçoes da Var X\n",
    "entropia_Hist_boa = (-Hist_boa_alto*np.log2(Hist_boa_alto)-(Hist_boa_mod*np.log2(Hist_boa_mod))-\n",
    "                     (Hist_boa_Baixo*np.log2(Hist_boa_Baixo)))\n",
    "entropia_Hist_boa"
   ]
  },
  {
   "cell_type": "markdown",
   "metadata": {},
   "source": [
    "## 3° passo: Calcular o peso de cada classe da variável explicativa"
   ]
  },
  {
   "cell_type": "markdown",
   "metadata": {},
   "source": [
    "- **Peso_filho = num_amostra_filho/ num_amostra_pai**"
   ]
  },
  {
   "cell_type": "code",
   "execution_count": 12,
   "metadata": {},
   "outputs": [
    {
     "name": "stdout",
     "output_type": "stream",
     "text": [
      "Peso da variavel Historico de credito com o atribuito Desconhecida = 0.35714285714285715\n"
     ]
    }
   ],
   "source": [
    "#Variável Historico_Credito - classe = Desconhecida\n",
    "\n",
    "peso_hist_desc = len(dados.loc[(dados['Historico_Credito'] =='Desconhecida')]) / len(dados)\n",
    "print(f'Peso da variavel Historico de credito com o atribuito Desconhecida = {peso_hist_desc}')"
   ]
  },
  {
   "cell_type": "code",
   "execution_count": 13,
   "metadata": {},
   "outputs": [
    {
     "name": "stdout",
     "output_type": "stream",
     "text": [
      "Peso da variavel Historico de credito com o atribuito Ruim = 0.2857142857142857\n"
     ]
    }
   ],
   "source": [
    "#Variável Historico_Credito - classe = Ruim\n",
    "\n",
    "peso_hist_ruim = len(dados.loc[(dados['Historico_Credito'] =='Ruim')]) / len(dados)\n",
    "print(f'Peso da variavel Historico de credito com o atribuito Ruim = {peso_hist_ruim}')"
   ]
  },
  {
   "cell_type": "code",
   "execution_count": 14,
   "metadata": {},
   "outputs": [
    {
     "name": "stdout",
     "output_type": "stream",
     "text": [
      "Peso da variavel Historico de credito com o atribuito Boa = 0.35714285714285715\n"
     ]
    }
   ],
   "source": [
    "#Variável Historico_Credito - classe = Boa\n",
    "\n",
    "peso_hist_boa = len(dados.loc[(dados['Historico_Credito'] =='Boa')]) / len(dados)\n",
    "print(f'Peso da variavel Historico de credito com o atribuito Boa = {peso_hist_boa}')"
   ]
  },
  {
   "cell_type": "markdown",
   "metadata": {},
   "source": [
    "## 4° passo: Calcular o Ganho de Informação da variavel Historico_Credito"
   ]
  },
  {
   "cell_type": "code",
   "execution_count": 15,
   "metadata": {},
   "outputs": [
    {
     "name": "stdout",
     "output_type": "stream",
     "text": [
      "Ganho de Informação: 0.265\n"
     ]
    }
   ],
   "source": [
    "ganho_inf_hist = (entropia_pai-(peso_hist_desc *entropia_Hist_Desc+\n",
    "                                peso_hist_ruim *entropia_Hist_ruim+\n",
    "                                peso_hist_boa*entropia_Hist_boa))\n",
    "print(f'Ganho de Informação: {round(ganho_inf_hist,3)}')"
   ]
  },
  {
   "cell_type": "markdown",
   "metadata": {},
   "source": [
    "**Adicionamos a variável 'Historico de Credito' conseguimos um ganho de informação de 0.26**"
   ]
  },
  {
   "cell_type": "markdown",
   "metadata": {},
   "source": [
    "# Ganho de Informação da variável 'Garantias':"
   ]
  },
  {
   "cell_type": "markdown",
   "metadata": {},
   "source": [
    "## 1° Passo: Calcular as probabilidade de cada classe da variável explicativa VS target"
   ]
  },
  {
   "cell_type": "code",
   "execution_count": 16,
   "metadata": {},
   "outputs": [
    {
     "name": "stdout",
     "output_type": "stream",
     "text": [
      "Medidas Calculadas em Porcentagem (%)\n",
      "\n",
      "Variável Garantias da classe Nenhuma e variável target da classe Risco Alto = 54.5%\n",
      "Variável Garantias da classe Nenhuma e variável target da classe Risco Moderado = 18.2%\n",
      "Variável Garantias da classe Nenhuma e variável target da classe Risco Baixo = 27.3%\n",
      "\n",
      "Variável Garantia da classe adequada e variável target da classe Risco Alto = 0.0%\n",
      "Variável Garantia da classe adequada e variável target da classe Risco Moderado = 33.3%\n",
      "Variável Garantia da classe adequada e variável target da classe Risco Baixo = 66.7%\n",
      "\n",
      "Total = 14 \n"
     ]
    }
   ],
   "source": [
    "#Calculo das probabilidade\n",
    "\n",
    "#Risco quando a Garantias for Nenhuma\n",
    "#Total\n",
    "total_nen = len(dados.loc[(dados['Garantias'] =='Nenhuma')])\n",
    "\n",
    "#alto\n",
    "Garant_nen_alto = (len(dados.loc[(dados['Garantias'] =='Nenhuma')&(dados['Risco']=='Alto')]))/total_nen \n",
    "#Moderado\n",
    "Garant_nen_mod = (len(dados.loc[(dados['Garantias'] =='Nenhuma')&(dados['Risco']=='Moderado')]))/total_nen \n",
    "#Baixo\n",
    "Garant_nen_Baixo = (len(dados.loc[(dados['Garantias'] =='Nenhuma')&(dados['Risco']=='Baixo')]))/total_nen \n",
    "\n",
    "\n",
    "#Risco quando a Garantias for Adequada\n",
    "\n",
    "#Total\n",
    "total_adeq = len(dados.loc[(dados['Garantias'] =='Adequada')])\n",
    "\n",
    "#Alto\n",
    "Garant_adeq_alto = (len(dados.loc[(dados['Garantias'] =='Adequada')&(dados['Risco']=='Alto')]))/total_adeq\n",
    "#Moderado\n",
    "Garant_adeq_mod = (len(dados.loc[(dados['Garantias'] =='Adequada')&(dados['Risco']=='Moderado')]))/total_adeq\n",
    "#Baixo\n",
    "Garant_adeq_Baixo = (len(dados.loc[(dados['Garantias'] =='Adequada')&(dados['Risco']=='Baixo')]))/total_adeq\n",
    "\n",
    "\n",
    "#total de dados Var Garantias\n",
    "total_garantias = len(dados)\n",
    "\n",
    "print('Medidas Calculadas em Porcentagem (%)\\n')\n",
    "\n",
    "print(f'Variável Garantias da classe Nenhuma e variável target da classe Risco Alto = {round(Garant_nen_alto*100,1)}%')\n",
    "print(f'Variável Garantias da classe Nenhuma e variável target da classe Risco Moderado = {round(Garant_nen_mod*100,1)}%')\n",
    "print(f'Variável Garantias da classe Nenhuma e variável target da classe Risco Baixo = {round(Garant_nen_Baixo*100,1)}%\\n')\n",
    "\n",
    "print(f'Variável Garantia da classe adequada e variável target da classe Risco Alto = {round(Garant_adeq_alto*100,1)}%')\n",
    "print(f'Variável Garantia da classe adequada e variável target da classe Risco Moderado = {round(Garant_adeq_mod*100,1)}%')\n",
    "print(f'Variável Garantia da classe adequada e variável target da classe Risco Baixo = {round(Garant_adeq_Baixo*100,1)}%\\n')\n",
    "\n",
    "\n",
    "print(f'Total = {total_garantias} ')"
   ]
  },
  {
   "cell_type": "markdown",
   "metadata": {},
   "source": [
    "**Cálculo das probabilidades de cada classe da variável: Garantias em relação a cada classe da variável target**"
   ]
  },
  {
   "cell_type": "markdown",
   "metadata": {},
   "source": [
    "## 2° passo: Calcular o valor da Entropia_filho"
   ]
  },
  {
   "cell_type": "code",
   "execution_count": 17,
   "metadata": {},
   "outputs": [
    {
     "data": {
      "text/plain": [
       "1.4353713907745331"
      ]
     },
     "execution_count": 17,
     "metadata": {},
     "output_type": "execute_result"
    }
   ],
   "source": [
    "#Variável Garantia - classe = Nenhuma\n",
    "\n",
    "entropia_Garant_nem = (-Garant_nen_alto*np.log2(Garant_nen_alto)-(Garant_nen_mod*np.log2(Garant_nen_mod))-\n",
    "                       (Garant_nen_Baixo*np.log2(Garant_nen_Baixo)))\n",
    "entropia_Garant_nem"
   ]
  },
  {
   "cell_type": "code",
   "execution_count": 18,
   "metadata": {},
   "outputs": [
    {
     "data": {
      "text/plain": [
       "0.9196246052924445"
      ]
     },
     "execution_count": 18,
     "metadata": {},
     "output_type": "execute_result"
    }
   ],
   "source": [
    "#Variável Garantia - classe = Adequada\n",
    "\n",
    "# Deixar o atributo com um valor minimo para não gerar NaN\n",
    "Garant_adeq_alto = 0.0001\n",
    "\n",
    "entropia_Garant_adeq = (-Garant_adeq_alto*np.log2(Garant_adeq_alto)-(Garant_adeq_mod*np.log2(Garant_adeq_mod))-\n",
    "                        (Garant_adeq_Baixo*np.log2(Garant_adeq_Baixo)))\n",
    "entropia_Garant_adeq"
   ]
  },
  {
   "cell_type": "markdown",
   "metadata": {},
   "source": [
    "## 3° passo: Calcular o peso de cada classe da variável explicativa"
   ]
  },
  {
   "cell_type": "code",
   "execution_count": 19,
   "metadata": {},
   "outputs": [
    {
     "name": "stdout",
     "output_type": "stream",
     "text": [
      "Peso da variavel Garantia com o atribuito Nenhuma = 0.7857142857142857\n"
     ]
    }
   ],
   "source": [
    "#Variável Garantia da classe:  Nenhuma\n",
    "\n",
    "peso_Garant_nen = len(dados.loc[(dados['Garantias'] =='Nenhuma')]) / len(dados)\n",
    "print(f'Peso da variavel Garantia com o atribuito Nenhuma = {peso_Garant_nen}')"
   ]
  },
  {
   "cell_type": "code",
   "execution_count": 20,
   "metadata": {},
   "outputs": [
    {
     "name": "stdout",
     "output_type": "stream",
     "text": [
      "Peso da variavel Garantia com o atribuito Adequada = 0.21428571428571427\n"
     ]
    }
   ],
   "source": [
    "#Variável Garantia da classe: Adequada\n",
    "\n",
    "peso_Garant_adeq = len(dados.loc[(dados['Garantias'] =='Adequada')]) / len(dados)\n",
    "print(f'Peso da variavel Garantia com o atribuito Adequada = {peso_Garant_adeq}')"
   ]
  },
  {
   "cell_type": "markdown",
   "metadata": {},
   "source": [
    "## 4° passo: Calcular o  Ganho de Informação da variável 'Garantias' "
   ]
  },
  {
   "cell_type": "code",
   "execution_count": 21,
   "metadata": {},
   "outputs": [
    {
     "name": "stdout",
     "output_type": "stream",
     "text": [
      "Ganho de Informação: 0.206\n"
     ]
    }
   ],
   "source": [
    "#Ganho de informação\n",
    "ganho_inf_gar = entropia_pai-(peso_Garant_nen *entropia_Garant_nem+peso_Garant_adeq *entropia_Garant_adeq )\n",
    "print(f'Ganho de Informação: {round(ganho_inf_gar,3)}')"
   ]
  },
  {
   "cell_type": "markdown",
   "metadata": {},
   "source": [
    "**Adicionamos a variável 'Garantias' conseguimos um ganho de informação de 0.20**"
   ]
  },
  {
   "cell_type": "markdown",
   "metadata": {},
   "source": [
    "# Ganho de Informação da variável 'Divida':"
   ]
  },
  {
   "cell_type": "markdown",
   "metadata": {},
   "source": [
    "## 1° Passo: Calcular as probabilidade de cada classe da variável explicativa VS target"
   ]
  },
  {
   "cell_type": "code",
   "execution_count": 22,
   "metadata": {},
   "outputs": [
    {
     "name": "stdout",
     "output_type": "stream",
     "text": [
      "Medidas Calculadas em Porcentagem (%)\n",
      "\n",
      "Variável Divida da classe Alta e variável target da classe Risco Alto = 57.1%\n",
      "Variável Divida da classe Alta e variável target da classe Risco Moderado = 14.3%\n",
      "Variável Divida da classe Alta e variável target da classe Risco Baixo = 28.6%\n",
      "\n",
      "Variável Divida da classe Baixa e variável target da classe Risco Alto = 28.6%\n",
      "Variável Divida da classe Baixa e variável target da classe Risco Moderado = 28.6%\n",
      "Variável Divida da classe Baixa e variável target da classe Risco Baixo = 42.9%\n",
      "\n",
      "Total = 14 \n"
     ]
    }
   ],
   "source": [
    "#Calculo das probabilidade\n",
    "\n",
    "#Risco quando a Divida for Alta\n",
    "\n",
    "#Total\n",
    "total_alta= len(dados.loc[(dados['Divida'] =='Alta')])\n",
    "\n",
    "#alto\n",
    "Div_alta_alto = (len(dados.loc[(dados['Divida'] =='Alta')&(dados['Risco']=='Alto')]))/total_alta\n",
    "#Moderado\n",
    "Div_alta_mod = (len(dados.loc[(dados['Divida'] =='Alta')&(dados['Risco']=='Moderado')]))/total_alta \n",
    "#Baixo\n",
    "Div_alta_Baixo = (len(dados.loc[(dados['Divida'] =='Alta')&(dados['Risco']=='Baixo')]))/total_alta\n",
    "\n",
    "\n",
    "#Risco quando a Divida for Baixa\n",
    "\n",
    "#Total\n",
    "total_adeq = len(dados.loc[(dados['Divida'] =='Baixa')])\n",
    "\n",
    "#Alto\n",
    "Div_baixa_alto = (len(dados.loc[(dados['Divida'] =='Baixa')&(dados['Risco']=='Alto')]))/total_adeq\n",
    "#Moderado\n",
    "Div_baixa_mod = (len(dados.loc[(dados['Divida'] =='Baixa')&(dados['Risco']=='Moderado')]))/total_adeq\n",
    "#Baixo\n",
    "Div_baixa_Baixo = (len(dados.loc[(dados['Divida'] =='Baixa')&(dados['Risco']=='Baixo')]))/total_adeq\n",
    "\n",
    "\n",
    "#total de dados Var Divida\n",
    "total_divida = len(dados)\n",
    "\n",
    "print('Medidas Calculadas em Porcentagem (%)\\n')\n",
    "\n",
    "print(f'Variável Divida da classe Alta e variável target da classe Risco Alto = {round(Div_alta_alto*100,1)}%')\n",
    "print(f'Variável Divida da classe Alta e variável target da classe Risco Moderado = {round(Div_alta_mod*100,1)}%')\n",
    "print(f'Variável Divida da classe Alta e variável target da classe Risco Baixo = {round(Div_alta_Baixo*100,1)}%\\n')\n",
    "\n",
    "print(f'Variável Divida da classe Baixa e variável target da classe Risco Alto = {round(Div_baixa_alto*100,1)}%')\n",
    "print(f'Variável Divida da classe Baixa e variável target da classe Risco Moderado = {round(Div_baixa_mod*100,1)}%')\n",
    "print(f'Variável Divida da classe Baixa e variável target da classe Risco Baixo = {round(Div_baixa_Baixo*100,1)}%\\n')\n",
    "\n",
    "\n",
    "print(f'Total = {total_divida} ')"
   ]
  },
  {
   "cell_type": "markdown",
   "metadata": {},
   "source": [
    "**Cálculo das probabilidades de cada classe da variável: Divida em relação a cada classe da variável target**"
   ]
  },
  {
   "cell_type": "markdown",
   "metadata": {},
   "source": [
    "## 2° passo: Calcular o valor da Entropia_filho"
   ]
  },
  {
   "cell_type": "code",
   "execution_count": 23,
   "metadata": {},
   "outputs": [
    {
     "data": {
      "text/plain": [
       "1.38"
      ]
     },
     "execution_count": 23,
     "metadata": {},
     "output_type": "execute_result"
    }
   ],
   "source": [
    "#Variável Divida - classe = Alta\n",
    "\n",
    "entropia_div_alta = ((-Div_alta_alto*np.log2(Div_alta_alto))-(Div_alta_mod*np.log2(Div_alta_mod))-\n",
    "                     (Div_alta_Baixo*np.log2(Div_alta_Baixo)))\n",
    "round(entropia_div_alta,2)"
   ]
  },
  {
   "cell_type": "code",
   "execution_count": 24,
   "metadata": {},
   "outputs": [
    {
     "data": {
      "text/plain": [
       "1.56"
      ]
     },
     "execution_count": 24,
     "metadata": {},
     "output_type": "execute_result"
    }
   ],
   "source": [
    "#Variável Divida - classe = Baixa\n",
    "\n",
    "entropia_div_baixa = (-Div_baixa_alto*np.log2(Div_baixa_alto)-Div_baixa_mod*np.log2(Div_baixa_mod)-\n",
    "                      (Div_baixa_Baixo*np.log2(Div_baixa_Baixo)))\n",
    "round(entropia_div_baixa,2)"
   ]
  },
  {
   "cell_type": "markdown",
   "metadata": {},
   "source": [
    "## 3° passo: Calcular o peso de cada classe da variável explicativa"
   ]
  },
  {
   "cell_type": "code",
   "execution_count": 25,
   "metadata": {},
   "outputs": [
    {
     "name": "stdout",
     "output_type": "stream",
     "text": [
      "Peso da variavel Divida com o atribuito Alta = 0.5\n"
     ]
    }
   ],
   "source": [
    "#Variável Divida - classe = Alta\n",
    "\n",
    "peso_div_alta = len(dados.loc[(dados['Divida'] =='Alta')]) / len(dados)\n",
    "print(f'Peso da variavel Divida com o atribuito Alta = {peso_div_alta}')"
   ]
  },
  {
   "cell_type": "code",
   "execution_count": 26,
   "metadata": {},
   "outputs": [
    {
     "name": "stdout",
     "output_type": "stream",
     "text": [
      "Peso da variavel Divida com o atribuito Baixa = 0.5\n"
     ]
    }
   ],
   "source": [
    "#Variável Divida - classe = Baixa\n",
    "\n",
    "peso_div_baixa = len(dados.loc[(dados['Divida'] =='Baixa')]) / len(dados)\n",
    "print(f'Peso da variavel Divida com o atribuito Baixa = {peso_div_baixa}')"
   ]
  },
  {
   "cell_type": "markdown",
   "metadata": {},
   "source": [
    "## 4° passo: Calcular o  Ganho de Informação da variável 'Divida'  "
   ]
  },
  {
   "cell_type": "code",
   "execution_count": 27,
   "metadata": {},
   "outputs": [
    {
     "name": "stdout",
     "output_type": "stream",
     "text": [
      "Ganho de Informação: 0.063\n"
     ]
    }
   ],
   "source": [
    "ganho_inf_divida = entropia_pai-(peso_div_alta *entropia_div_alta+peso_div_baixa *entropia_div_baixa )\n",
    "print(f'Ganho de Informação: {round(ganho_inf_divida,3)}')"
   ]
  },
  {
   "cell_type": "markdown",
   "metadata": {},
   "source": [
    "**Adicionamos a variável 'Divida' conseguimos um ganho de informação de 0.063**"
   ]
  },
  {
   "cell_type": "markdown",
   "metadata": {},
   "source": [
    "# Ganho de Informação da variável 'Renda Anual':"
   ]
  },
  {
   "cell_type": "markdown",
   "metadata": {},
   "source": [
    "## 1° Passo: Calcular as probabilidade de cada classe da variável explicativa VS target"
   ]
  },
  {
   "cell_type": "code",
   "execution_count": 28,
   "metadata": {},
   "outputs": [
    {
     "name": "stdout",
     "output_type": "stream",
     "text": [
      "Medidas Calculadas em Porcentagem (%)\n",
      "\n",
      "Variável Renda Anual da classe <15.000 e variável target da classe Risco Alto = 100.0%\n",
      "Variável Renda Anual da classe <15.000 e variável target da classe Risco Moderado = 0.0%\n",
      "Variável Renda Anual da classe <15.000 e variável target da classe Risco Baixo = 0.0%\n",
      "\n",
      "Variável Renda Anual da classe >=15.000 a <=35.000 e variável target da classe Risco Alto = 50.0%\n",
      "Variável Renda Anual da classe >=15.000 a <=35.000 e variável target da classe Risco Moderado = 50.0%\n",
      "Variável Renda Anual da classe >=15.000 a <=35.000 e variável target da classe Risco Baixo = 0.0%\n",
      "\n",
      "Variável Renda Anual da classe >35.000 e variável target da classe Risco Alto = 14.3%\n",
      "Variável Renda Anual da classe >35.000 e variável target da classe Risco Moderado = 14.3%\n",
      "Variável Renda Anual da classe >35.000 e variável target da classe Risco Baixo = 71.4%\n",
      "\n",
      "Total = 14 \n"
     ]
    }
   ],
   "source": [
    "#Calculo das probabilidade\n",
    "\n",
    "#Risco quando o Renda Anual for <15.000\n",
    "\n",
    "#Total\n",
    "total_rend_15 = len(dados.loc[(dados['Renda_Anual'] =='<15.000')])\n",
    "\n",
    "#alto\n",
    "Rend_15_alto = (len(dados.loc[(dados['Renda_Anual'] =='<15.000')&(dados['Risco']=='Alto')]))/total_rend_15\n",
    "#Moderado\n",
    "Rend_15_mod = (len(dados.loc[(dados['Renda_Anual'] =='<15.000')&(dados['Risco']=='Moderado')]))/total_rend_15\n",
    "#Baixo\n",
    "Rend_15_Baixo = (len(dados.loc[(dados['Renda_Anual'] =='<15.000')&(dados['Risco']=='Baixo')]))/total_rend_15\n",
    "\n",
    "\n",
    "#Risco quando o Renda Anual for >=15.000 a <=35.000\n",
    "\n",
    "#Total\n",
    "total_rend_15_35 = len(dados.loc[(dados['Renda_Anual'] =='>=15.000 a <=35.000')])\n",
    "\n",
    "#Alto\n",
    "Rend_15_35_alto = (len(dados.loc[(dados['Renda_Anual'] =='>=15.000 a <=35.000')&\n",
    "                                 (dados['Risco']=='Alto')]))/total_rend_15_35\n",
    "#Moderado\n",
    "Rend_15_35_mod = (len(dados.loc[(dados['Renda_Anual'] =='>=15.000 a <=35.000')&\n",
    "                                (dados['Risco']=='Moderado')]))/total_rend_15_35\n",
    "#Baixo\n",
    "Rend_15_35_Baixo = (len(dados.loc[(dados['Renda_Anual'] =='>=15.000 a <=35.000')&\n",
    "                                  (dados['Risco']=='Baixo')]))/total_rend_15_35\n",
    "\n",
    "#Risco quando o Renda Anual for >35.000\n",
    "\n",
    "#Total\n",
    "total_rend_35 = len(dados.loc[(dados['Renda_Anual'] =='>35.000')])\n",
    "\n",
    "#Alto\n",
    "Rend_35_alto = (len(dados.loc[(dados['Renda_Anual'] =='>35.000')&(dados['Risco']=='Alto')]))/total_rend_35\n",
    "#Moderado\n",
    "Rend_35_mod = (len(dados.loc[(dados['Renda_Anual'] =='>35.000')&(dados['Risco']=='Moderado')]))/total_rend_35\n",
    "#Baixo\n",
    "Rend_35_Baixo = (len(dados.loc[(dados['Renda_Anual'] =='>35.000')&(dados['Risco']=='Baixo')]))/total_rend_35\n",
    "\n",
    "#total de dados Var Renda Anual\n",
    "total_Renda_anual = len(dados)\n",
    "\n",
    "print('Medidas Calculadas em Porcentagem (%)\\n')\n",
    "\n",
    "print(f'Variável Renda Anual da classe <15.000 e variável target da classe Risco Alto = {round(Rend_15_alto*100,1)}%')\n",
    "print(f'Variável Renda Anual da classe <15.000 e variável target da classe Risco Moderado = {round(Rend_15_mod*100,1)}%')\n",
    "print(f'Variável Renda Anual da classe <15.000 e variável target da classe Risco Baixo = {round(Rend_15_Baixo*100,1)}%\\n')\n",
    "\n",
    "print(f'Variável Renda Anual da classe >=15.000 a <=35.000 e variável target da classe Risco Alto = {round(Rend_15_35_alto*100,1)}%')\n",
    "print(f'Variável Renda Anual da classe >=15.000 a <=35.000 e variável target da classe Risco Moderado = {round(Rend_15_35_mod*100,1)}%')\n",
    "print(f'Variável Renda Anual da classe >=15.000 a <=35.000 e variável target da classe Risco Baixo = {round(Rend_15_35_Baixo*100,1)}%\\n')\n",
    "\n",
    "print(f'Variável Renda Anual da classe >35.000 e variável target da classe Risco Alto = {round(Rend_35_alto*100,1)}%')\n",
    "print(f'Variável Renda Anual da classe >35.000 e variável target da classe Risco Moderado = {round(Rend_35_mod*100,1)}%')\n",
    "print(f'Variável Renda Anual da classe >35.000 e variável target da classe Risco Baixo = {round(Rend_35_Baixo*100,1)}%\\n')\n",
    "\n",
    "print(f'Total = {total_Renda_anual} ')"
   ]
  },
  {
   "cell_type": "markdown",
   "metadata": {},
   "source": [
    "**Cálculo das probabilidades de cada classe da variável: Renda Anual em relação a cada classe da variável target**"
   ]
  },
  {
   "cell_type": "markdown",
   "metadata": {},
   "source": [
    "## 2° passo: Calcular o valor da Entropia_filho"
   ]
  },
  {
   "cell_type": "code",
   "execution_count": 29,
   "metadata": {},
   "outputs": [
    {
     "data": {
      "text/plain": [
       "0.0026575424759098898"
      ]
     },
     "execution_count": 29,
     "metadata": {},
     "output_type": "execute_result"
    }
   ],
   "source": [
    "#Variável Renda - classe = (<15.000)\n",
    "\n",
    "# Deixar o atributo com um valor minimo para não gerar NaN\n",
    "Rend_15_mod =0.0001\n",
    "Rend_15_Baixo = 0.0001\n",
    "\n",
    "entropia_renda_15 = (-Rend_15_alto*np.log2(Rend_15_alto)-(Rend_15_mod*np.log2(Rend_15_mod))-\n",
    "                     (Rend_15_Baixo*np.log2(Rend_15_Baixo)))\n",
    "entropia_renda_15 "
   ]
  },
  {
   "cell_type": "code",
   "execution_count": 30,
   "metadata": {},
   "outputs": [
    {
     "data": {
      "text/plain": [
       "1.001328771237955"
      ]
     },
     "execution_count": 30,
     "metadata": {},
     "output_type": "execute_result"
    }
   ],
   "source": [
    "#Variável Renda - classe = (>=15.000 a <=35.000)\n",
    "\n",
    "# Deixar o atributo com um valor minimo para não gerar NaN\n",
    "Rend_15_35_Baixo = 0.0001\n",
    "\n",
    "entropia_renda_15_35 = (-Rend_15_35_alto*np.log2(Rend_15_35_alto)-(Rend_15_35_mod*np.log2(Rend_15_35_mod))-\n",
    "                        (Rend_15_35_Baixo*np.log2(Rend_15_35_Baixo)))\n",
    "entropia_renda_15_35"
   ]
  },
  {
   "cell_type": "code",
   "execution_count": 31,
   "metadata": {},
   "outputs": [
    {
     "data": {
      "text/plain": [
       "1.1488348542809166"
      ]
     },
     "execution_count": 31,
     "metadata": {},
     "output_type": "execute_result"
    }
   ],
   "source": [
    "#Variável Renda - classe = (>35.000)\n",
    "\n",
    "entropia_renda_35 = (-Rend_35_alto*np.log2(Rend_35_alto)-(Rend_35_mod*np.log2(Rend_35_mod))-\n",
    "                     (Rend_35_Baixo*np.log2(Rend_35_Baixo)))\n",
    "entropia_renda_35"
   ]
  },
  {
   "cell_type": "markdown",
   "metadata": {},
   "source": [
    "## 3° passo: Calcular o peso de cada classe da variável explicativa"
   ]
  },
  {
   "cell_type": "code",
   "execution_count": 32,
   "metadata": {},
   "outputs": [
    {
     "name": "stdout",
     "output_type": "stream",
     "text": [
      "Peso da variavel Renda com o atribuito <15.000 = 0.21428571428571427\n"
     ]
    }
   ],
   "source": [
    "#Variável Renda - classe = (<15.000)\n",
    "\n",
    "peso_renda_baixa = len(dados.loc[(dados['Renda_Anual'] =='<15.000')]) / len(dados)\n",
    "print(f'Peso da variavel Renda com o atribuito <15.000 = {peso_renda_baixa}')"
   ]
  },
  {
   "cell_type": "code",
   "execution_count": 33,
   "metadata": {},
   "outputs": [
    {
     "name": "stdout",
     "output_type": "stream",
     "text": [
      "Peso da variavel Renda com o atribuito >=15.000 a <=35.000 = 0.2857142857142857\n"
     ]
    }
   ],
   "source": [
    "#Variável Renda - classe = (>=15.000 a <=35.000)\n",
    "\n",
    "peso_renda_mod = len(dados.loc[(dados['Renda_Anual'] =='>=15.000 a <=35.000')]) / len(dados)\n",
    "print(f'Peso da variavel Renda com o atribuito >=15.000 a <=35.000 = {peso_renda_mod}')"
   ]
  },
  {
   "cell_type": "code",
   "execution_count": 34,
   "metadata": {},
   "outputs": [
    {
     "name": "stdout",
     "output_type": "stream",
     "text": [
      "Peso da variavel Renda com o atribuito >35.000 = 0.5\n"
     ]
    }
   ],
   "source": [
    "#Variável Renda - classe = (>35.000)\n",
    "\n",
    "peso_renda_alta = len(dados.loc[(dados['Renda_Anual'] =='>35.000')]) / len(dados)\n",
    "print(f'Peso da variavel Renda com o atribuito >35.000 = {peso_renda_alta}')"
   ]
  },
  {
   "cell_type": "markdown",
   "metadata": {},
   "source": [
    "## 4° passo: Calcular o  Ganho de Informação da variável 'Renda'  "
   ]
  },
  {
   "cell_type": "code",
   "execution_count": 35,
   "metadata": {},
   "outputs": [
    {
     "data": {
      "text/plain": [
       "0.67"
      ]
     },
     "execution_count": 35,
     "metadata": {},
     "output_type": "execute_result"
    }
   ],
   "source": [
    "ganho_inf_renda = (entropia_pai-(peso_renda_baixa *entropia_renda_15+peso_renda_mod *\n",
    "                                 entropia_renda_15_35+peso_renda_alta *entropia_renda_35 ))\n",
    "round(ganho_inf_renda,2)"
   ]
  },
  {
   "cell_type": "markdown",
   "metadata": {},
   "source": [
    "**Adicionamos a variável 'Renda' conseguimos um ganho de informação de 0.67**"
   ]
  },
  {
   "cell_type": "markdown",
   "metadata": {},
   "source": [
    "# Varificar o ganho de informação de cada variável"
   ]
  },
  {
   "cell_type": "code",
   "execution_count": 36,
   "metadata": {},
   "outputs": [
    {
     "data": {
      "text/html": [
       "<div>\n",
       "<style scoped>\n",
       "    .dataframe tbody tr th:only-of-type {\n",
       "        vertical-align: middle;\n",
       "    }\n",
       "\n",
       "    .dataframe tbody tr th {\n",
       "        vertical-align: top;\n",
       "    }\n",
       "\n",
       "    .dataframe thead th {\n",
       "        text-align: right;\n",
       "    }\n",
       "</style>\n",
       "<table border=\"1\" class=\"dataframe\">\n",
       "  <thead>\n",
       "    <tr style=\"text-align: right;\">\n",
       "      <th></th>\n",
       "      <th>Ganho_de_Informacao</th>\n",
       "    </tr>\n",
       "    <tr>\n",
       "      <th>Variavel</th>\n",
       "      <th></th>\n",
       "    </tr>\n",
       "  </thead>\n",
       "  <tbody>\n",
       "    <tr>\n",
       "      <th>Renda</th>\n",
       "      <td>0.669538</td>\n",
       "    </tr>\n",
       "    <tr>\n",
       "      <th>Divida</th>\n",
       "      <td>0.062899</td>\n",
       "    </tr>\n",
       "    <tr>\n",
       "      <th>Garantias</th>\n",
       "      <td>0.205765</td>\n",
       "    </tr>\n",
       "    <tr>\n",
       "      <th>Hitorico_de_Credito</th>\n",
       "      <td>0.265275</td>\n",
       "    </tr>\n",
       "  </tbody>\n",
       "</table>\n",
       "</div>"
      ],
      "text/plain": [
       "                     Ganho_de_Informacao\n",
       "Variavel                                \n",
       "Renda                           0.669538\n",
       "Divida                          0.062899\n",
       "Garantias                       0.205765\n",
       "Hitorico_de_Credito             0.265275"
      ]
     },
     "execution_count": 36,
     "metadata": {},
     "output_type": "execute_result"
    }
   ],
   "source": [
    "dicionario = {'Renda':ganho_inf_renda,'Divida':ganho_inf_divida,'Garantias':ganho_inf_gar,'Hitorico_de_Credito':ganho_inf_hist}\n",
    "\n",
    "ganho_info = pd.DataFrame(list(dicionario.items()),columns=['Variavel','Ganho_de_Informacao'])\n",
    "ganho_info = ganho_info.set_index('Variavel')\n",
    "ganho_info"
   ]
  },
  {
   "cell_type": "markdown",
   "metadata": {},
   "source": [
    "**A variável 'Renda' é a que mais teve ganho de informação, portanto ela será o nó raiz da arvore de decisão, já a variável 'divida' é praticamente nula, podendo até mesmo ficar de fora da árvore**"
   ]
  },
  {
   "cell_type": "markdown",
   "metadata": {},
   "source": [
    "## Entropia utilizando o algoritmo DecisionTreeClassifier"
   ]
  },
  {
   "cell_type": "code",
   "execution_count": 37,
   "metadata": {},
   "outputs": [
    {
     "data": {
      "text/html": [
       "<div>\n",
       "<style scoped>\n",
       "    .dataframe tbody tr th:only-of-type {\n",
       "        vertical-align: middle;\n",
       "    }\n",
       "\n",
       "    .dataframe tbody tr th {\n",
       "        vertical-align: top;\n",
       "    }\n",
       "\n",
       "    .dataframe thead th {\n",
       "        text-align: right;\n",
       "    }\n",
       "</style>\n",
       "<table border=\"1\" class=\"dataframe\">\n",
       "  <thead>\n",
       "    <tr style=\"text-align: right;\">\n",
       "      <th></th>\n",
       "      <th>Historico_Credito</th>\n",
       "      <th>Divida</th>\n",
       "      <th>Garantias</th>\n",
       "      <th>Renda_Anual</th>\n",
       "      <th>Risco</th>\n",
       "    </tr>\n",
       "  </thead>\n",
       "  <tbody>\n",
       "    <tr>\n",
       "      <th>0</th>\n",
       "      <td>Ruim</td>\n",
       "      <td>Alta</td>\n",
       "      <td>Nenhuma</td>\n",
       "      <td>&lt;15.000</td>\n",
       "      <td>Alto</td>\n",
       "    </tr>\n",
       "    <tr>\n",
       "      <th>1</th>\n",
       "      <td>Desconhecida</td>\n",
       "      <td>Alta</td>\n",
       "      <td>Nenhuma</td>\n",
       "      <td>&gt;=15.000 a &lt;=35.000</td>\n",
       "      <td>Alto</td>\n",
       "    </tr>\n",
       "    <tr>\n",
       "      <th>2</th>\n",
       "      <td>Desconhecida</td>\n",
       "      <td>Baixa</td>\n",
       "      <td>Nenhuma</td>\n",
       "      <td>&gt;=15.000 a &lt;=35.000</td>\n",
       "      <td>Moderado</td>\n",
       "    </tr>\n",
       "    <tr>\n",
       "      <th>3</th>\n",
       "      <td>Desconhecida</td>\n",
       "      <td>Baixa</td>\n",
       "      <td>Nenhuma</td>\n",
       "      <td>&gt;35.000</td>\n",
       "      <td>Alto</td>\n",
       "    </tr>\n",
       "    <tr>\n",
       "      <th>4</th>\n",
       "      <td>Desconhecida</td>\n",
       "      <td>Baixa</td>\n",
       "      <td>Nenhuma</td>\n",
       "      <td>&gt;35.000</td>\n",
       "      <td>Baixo</td>\n",
       "    </tr>\n",
       "    <tr>\n",
       "      <th>5</th>\n",
       "      <td>Desconhecida</td>\n",
       "      <td>Baixa</td>\n",
       "      <td>Adequada</td>\n",
       "      <td>&gt;35.000</td>\n",
       "      <td>Baixo</td>\n",
       "    </tr>\n",
       "    <tr>\n",
       "      <th>6</th>\n",
       "      <td>Ruim</td>\n",
       "      <td>Baixa</td>\n",
       "      <td>Nenhuma</td>\n",
       "      <td>&lt;15.000</td>\n",
       "      <td>Alto</td>\n",
       "    </tr>\n",
       "    <tr>\n",
       "      <th>7</th>\n",
       "      <td>Ruim</td>\n",
       "      <td>Baixa</td>\n",
       "      <td>Adequada</td>\n",
       "      <td>&gt;35.000</td>\n",
       "      <td>Moderado</td>\n",
       "    </tr>\n",
       "    <tr>\n",
       "      <th>8</th>\n",
       "      <td>Boa</td>\n",
       "      <td>Baixa</td>\n",
       "      <td>Nenhuma</td>\n",
       "      <td>&gt;35.000</td>\n",
       "      <td>Baixo</td>\n",
       "    </tr>\n",
       "    <tr>\n",
       "      <th>9</th>\n",
       "      <td>Boa</td>\n",
       "      <td>Alta</td>\n",
       "      <td>Adequada</td>\n",
       "      <td>&gt;35.000</td>\n",
       "      <td>Baixo</td>\n",
       "    </tr>\n",
       "    <tr>\n",
       "      <th>10</th>\n",
       "      <td>Boa</td>\n",
       "      <td>Alta</td>\n",
       "      <td>Nenhuma</td>\n",
       "      <td>&lt;15.000</td>\n",
       "      <td>Alto</td>\n",
       "    </tr>\n",
       "    <tr>\n",
       "      <th>11</th>\n",
       "      <td>Boa</td>\n",
       "      <td>Alta</td>\n",
       "      <td>Nenhuma</td>\n",
       "      <td>&gt;=15.000 a &lt;=35.000</td>\n",
       "      <td>Moderado</td>\n",
       "    </tr>\n",
       "    <tr>\n",
       "      <th>12</th>\n",
       "      <td>Boa</td>\n",
       "      <td>Alta</td>\n",
       "      <td>Nenhuma</td>\n",
       "      <td>&gt;35.000</td>\n",
       "      <td>Baixo</td>\n",
       "    </tr>\n",
       "    <tr>\n",
       "      <th>13</th>\n",
       "      <td>Ruim</td>\n",
       "      <td>Alta</td>\n",
       "      <td>Nenhuma</td>\n",
       "      <td>&gt;=15.000 a &lt;=35.000</td>\n",
       "      <td>Alto</td>\n",
       "    </tr>\n",
       "  </tbody>\n",
       "</table>\n",
       "</div>"
      ],
      "text/plain": [
       "   Historico_Credito Divida Garantias          Renda_Anual     Risco\n",
       "0               Ruim   Alta   Nenhuma              <15.000      Alto\n",
       "1       Desconhecida   Alta   Nenhuma  >=15.000 a <=35.000      Alto\n",
       "2       Desconhecida  Baixa   Nenhuma  >=15.000 a <=35.000  Moderado\n",
       "3       Desconhecida  Baixa   Nenhuma              >35.000      Alto\n",
       "4       Desconhecida  Baixa   Nenhuma              >35.000     Baixo\n",
       "5       Desconhecida  Baixa  Adequada              >35.000     Baixo\n",
       "6               Ruim  Baixa   Nenhuma              <15.000      Alto\n",
       "7               Ruim  Baixa  Adequada              >35.000  Moderado\n",
       "8                Boa  Baixa   Nenhuma              >35.000     Baixo\n",
       "9                Boa   Alta  Adequada              >35.000     Baixo\n",
       "10               Boa   Alta   Nenhuma              <15.000      Alto\n",
       "11               Boa   Alta   Nenhuma  >=15.000 a <=35.000  Moderado\n",
       "12               Boa   Alta   Nenhuma              >35.000     Baixo\n",
       "13              Ruim   Alta   Nenhuma  >=15.000 a <=35.000      Alto"
      ]
     },
     "execution_count": 37,
     "metadata": {},
     "output_type": "execute_result"
    }
   ],
   "source": [
    "# Carregando o dataset\n",
    "df = pd.read_csv('decisao.csv',encoding='latin1',sep=';')\n",
    "df"
   ]
  },
  {
   "cell_type": "markdown",
   "metadata": {},
   "source": [
    "## Transformar as variáveis categóricas em dummys"
   ]
  },
  {
   "cell_type": "markdown",
   "metadata": {},
   "source": [
    "- A maioria dos algoritmos de Machine Learning não conseguem lidar com variáveis categóricas, então precisamos transformar tais variáveis em números (Dummies)"
   ]
  },
  {
   "cell_type": "code",
   "execution_count": 38,
   "metadata": {},
   "outputs": [
    {
     "data": {
      "text/html": [
       "<div>\n",
       "<style scoped>\n",
       "    .dataframe tbody tr th:only-of-type {\n",
       "        vertical-align: middle;\n",
       "    }\n",
       "\n",
       "    .dataframe tbody tr th {\n",
       "        vertical-align: top;\n",
       "    }\n",
       "\n",
       "    .dataframe thead th {\n",
       "        text-align: right;\n",
       "    }\n",
       "</style>\n",
       "<table border=\"1\" class=\"dataframe\">\n",
       "  <thead>\n",
       "    <tr style=\"text-align: right;\">\n",
       "      <th></th>\n",
       "      <th>Boa</th>\n",
       "      <th>Desconhecida</th>\n",
       "      <th>Ruim</th>\n",
       "      <th>Alta</th>\n",
       "      <th>Baixa</th>\n",
       "      <th>Adequada</th>\n",
       "      <th>Nenhuma</th>\n",
       "      <th>&lt;15.000</th>\n",
       "      <th>&gt;35.000</th>\n",
       "      <th>&gt;=15.000 a &lt;=35.000</th>\n",
       "    </tr>\n",
       "  </thead>\n",
       "  <tbody>\n",
       "    <tr>\n",
       "      <th>0</th>\n",
       "      <td>0</td>\n",
       "      <td>0</td>\n",
       "      <td>1</td>\n",
       "      <td>1</td>\n",
       "      <td>0</td>\n",
       "      <td>0</td>\n",
       "      <td>1</td>\n",
       "      <td>1</td>\n",
       "      <td>0</td>\n",
       "      <td>0</td>\n",
       "    </tr>\n",
       "    <tr>\n",
       "      <th>1</th>\n",
       "      <td>0</td>\n",
       "      <td>1</td>\n",
       "      <td>0</td>\n",
       "      <td>1</td>\n",
       "      <td>0</td>\n",
       "      <td>0</td>\n",
       "      <td>1</td>\n",
       "      <td>0</td>\n",
       "      <td>0</td>\n",
       "      <td>1</td>\n",
       "    </tr>\n",
       "    <tr>\n",
       "      <th>2</th>\n",
       "      <td>0</td>\n",
       "      <td>1</td>\n",
       "      <td>0</td>\n",
       "      <td>0</td>\n",
       "      <td>1</td>\n",
       "      <td>0</td>\n",
       "      <td>1</td>\n",
       "      <td>0</td>\n",
       "      <td>0</td>\n",
       "      <td>1</td>\n",
       "    </tr>\n",
       "    <tr>\n",
       "      <th>3</th>\n",
       "      <td>0</td>\n",
       "      <td>1</td>\n",
       "      <td>0</td>\n",
       "      <td>0</td>\n",
       "      <td>1</td>\n",
       "      <td>0</td>\n",
       "      <td>1</td>\n",
       "      <td>0</td>\n",
       "      <td>1</td>\n",
       "      <td>0</td>\n",
       "    </tr>\n",
       "    <tr>\n",
       "      <th>4</th>\n",
       "      <td>0</td>\n",
       "      <td>1</td>\n",
       "      <td>0</td>\n",
       "      <td>0</td>\n",
       "      <td>1</td>\n",
       "      <td>0</td>\n",
       "      <td>1</td>\n",
       "      <td>0</td>\n",
       "      <td>1</td>\n",
       "      <td>0</td>\n",
       "    </tr>\n",
       "    <tr>\n",
       "      <th>5</th>\n",
       "      <td>0</td>\n",
       "      <td>1</td>\n",
       "      <td>0</td>\n",
       "      <td>0</td>\n",
       "      <td>1</td>\n",
       "      <td>1</td>\n",
       "      <td>0</td>\n",
       "      <td>0</td>\n",
       "      <td>1</td>\n",
       "      <td>0</td>\n",
       "    </tr>\n",
       "    <tr>\n",
       "      <th>6</th>\n",
       "      <td>0</td>\n",
       "      <td>0</td>\n",
       "      <td>1</td>\n",
       "      <td>0</td>\n",
       "      <td>1</td>\n",
       "      <td>0</td>\n",
       "      <td>1</td>\n",
       "      <td>1</td>\n",
       "      <td>0</td>\n",
       "      <td>0</td>\n",
       "    </tr>\n",
       "    <tr>\n",
       "      <th>7</th>\n",
       "      <td>0</td>\n",
       "      <td>0</td>\n",
       "      <td>1</td>\n",
       "      <td>0</td>\n",
       "      <td>1</td>\n",
       "      <td>1</td>\n",
       "      <td>0</td>\n",
       "      <td>0</td>\n",
       "      <td>1</td>\n",
       "      <td>0</td>\n",
       "    </tr>\n",
       "    <tr>\n",
       "      <th>8</th>\n",
       "      <td>1</td>\n",
       "      <td>0</td>\n",
       "      <td>0</td>\n",
       "      <td>0</td>\n",
       "      <td>1</td>\n",
       "      <td>0</td>\n",
       "      <td>1</td>\n",
       "      <td>0</td>\n",
       "      <td>1</td>\n",
       "      <td>0</td>\n",
       "    </tr>\n",
       "    <tr>\n",
       "      <th>9</th>\n",
       "      <td>1</td>\n",
       "      <td>0</td>\n",
       "      <td>0</td>\n",
       "      <td>1</td>\n",
       "      <td>0</td>\n",
       "      <td>1</td>\n",
       "      <td>0</td>\n",
       "      <td>0</td>\n",
       "      <td>1</td>\n",
       "      <td>0</td>\n",
       "    </tr>\n",
       "    <tr>\n",
       "      <th>10</th>\n",
       "      <td>1</td>\n",
       "      <td>0</td>\n",
       "      <td>0</td>\n",
       "      <td>1</td>\n",
       "      <td>0</td>\n",
       "      <td>0</td>\n",
       "      <td>1</td>\n",
       "      <td>1</td>\n",
       "      <td>0</td>\n",
       "      <td>0</td>\n",
       "    </tr>\n",
       "    <tr>\n",
       "      <th>11</th>\n",
       "      <td>1</td>\n",
       "      <td>0</td>\n",
       "      <td>0</td>\n",
       "      <td>1</td>\n",
       "      <td>0</td>\n",
       "      <td>0</td>\n",
       "      <td>1</td>\n",
       "      <td>0</td>\n",
       "      <td>0</td>\n",
       "      <td>1</td>\n",
       "    </tr>\n",
       "    <tr>\n",
       "      <th>12</th>\n",
       "      <td>1</td>\n",
       "      <td>0</td>\n",
       "      <td>0</td>\n",
       "      <td>1</td>\n",
       "      <td>0</td>\n",
       "      <td>0</td>\n",
       "      <td>1</td>\n",
       "      <td>0</td>\n",
       "      <td>1</td>\n",
       "      <td>0</td>\n",
       "    </tr>\n",
       "    <tr>\n",
       "      <th>13</th>\n",
       "      <td>0</td>\n",
       "      <td>0</td>\n",
       "      <td>1</td>\n",
       "      <td>1</td>\n",
       "      <td>0</td>\n",
       "      <td>0</td>\n",
       "      <td>1</td>\n",
       "      <td>0</td>\n",
       "      <td>0</td>\n",
       "      <td>1</td>\n",
       "    </tr>\n",
       "  </tbody>\n",
       "</table>\n",
       "</div>"
      ],
      "text/plain": [
       "    Boa  Desconhecida  Ruim  Alta  Baixa  Adequada  Nenhuma  <15.000  >35.000  \\\n",
       "0     0             0     1     1      0         0        1        1        0   \n",
       "1     0             1     0     1      0         0        1        0        0   \n",
       "2     0             1     0     0      1         0        1        0        0   \n",
       "3     0             1     0     0      1         0        1        0        1   \n",
       "4     0             1     0     0      1         0        1        0        1   \n",
       "5     0             1     0     0      1         1        0        0        1   \n",
       "6     0             0     1     0      1         0        1        1        0   \n",
       "7     0             0     1     0      1         1        0        0        1   \n",
       "8     1             0     0     0      1         0        1        0        1   \n",
       "9     1             0     0     1      0         1        0        0        1   \n",
       "10    1             0     0     1      0         0        1        1        0   \n",
       "11    1             0     0     1      0         0        1        0        0   \n",
       "12    1             0     0     1      0         0        1        0        1   \n",
       "13    0             0     1     1      0         0        1        0        0   \n",
       "\n",
       "    >=15.000 a <=35.000  \n",
       "0                     0  \n",
       "1                     1  \n",
       "2                     1  \n",
       "3                     0  \n",
       "4                     0  \n",
       "5                     0  \n",
       "6                     0  \n",
       "7                     0  \n",
       "8                     0  \n",
       "9                     0  \n",
       "10                    0  \n",
       "11                    1  \n",
       "12                    0  \n",
       "13                    1  "
      ]
     },
     "execution_count": 38,
     "metadata": {},
     "output_type": "execute_result"
    }
   ],
   "source": [
    "#Dummies\n",
    "\n",
    "Credito = pd.get_dummies(dados['Historico_Credito'])\n",
    "Divida = pd.get_dummies(dados['Divida'])\n",
    "Garantias = pd.get_dummies(dados['Garantias'])\n",
    "Renda_Anual = pd.get_dummies(dados['Renda_Anual'])\n",
    "\n",
    "x1 = Credito.join(Divida)\n",
    "x2 = x1.join(Garantias)\n",
    "x = x2.join(Renda_Anual)\n",
    "x"
   ]
  },
  {
   "cell_type": "markdown",
   "metadata": {},
   "source": [
    "**Variáveis explicativas transformadas em dummies**"
   ]
  },
  {
   "cell_type": "code",
   "execution_count": 39,
   "metadata": {},
   "outputs": [],
   "source": [
    "#Separar os dados em x e y\n",
    "x\n",
    "y = dados.iloc[:,4]\n"
   ]
  },
  {
   "cell_type": "markdown",
   "metadata": {},
   "source": [
    "## Modelagem"
   ]
  },
  {
   "cell_type": "code",
   "execution_count": 40,
   "metadata": {},
   "outputs": [
    {
     "name": "stdout",
     "output_type": "stream",
     "text": [
      "Acurácia do Modelo = 92.86%\n"
     ]
    }
   ],
   "source": [
    "#Modelagem dos dados\n",
    "from sklearn.tree import DecisionTreeClassifier\n",
    "\n",
    "clf = DecisionTreeClassifier(criterion='entropy',min_samples_split = 3)\n",
    "modelo = clf.fit(x,y)\n",
    "\n",
    "#Acuracia do modelo\n",
    "acuracia = modelo.score(x,y)\n",
    "print(f'Acurácia do Modelo = {round(acuracia*100,2)}%')"
   ]
  },
  {
   "cell_type": "markdown",
   "metadata": {},
   "source": [
    "**Usando a entropia como critério de decisão, conseguimos uma acurácia de 92.86% na base de dados**"
   ]
  },
  {
   "cell_type": "markdown",
   "metadata": {},
   "source": [
    "## Visualizar a árvore de decisão Completa através do gráfico"
   ]
  },
  {
   "cell_type": "code",
   "execution_count": 43,
   "metadata": {},
   "outputs": [
    {
     "data": {
      "image/png": "[encoded data removed]",
      "text/plain": [
       "<Figure size 1440x720 with 1 Axes>"
      ]
     },
     "metadata": {
      "needs_background": "light"
     },
     "output_type": "display_data"
    }
   ],
   "source": [
    "#Arvore completa\n",
    "import matplotlib.pyplot as plt\n",
    "from sklearn import tree\n",
    "plt.subplots(figsize=(20,10))\n",
    "tree.plot_tree(modelo,feature_names=x.columns,filled=True,fontsize=15,class_names=['Alto', 'Baixo','Moderado']);"
   ]
  },
  {
   "cell_type": "markdown",
   "metadata": {},
   "source": [
    "**Árvore de decisão completa**"
   ]
  },
  {
   "cell_type": "markdown",
   "metadata": {},
   "source": [
    "# Conclusão:"
   ]
  },
  {
   "cell_type": "markdown",
   "metadata": {},
   "source": [
    "**O algoritmo de árvore de decisão é uma das formas mais rápidas de identificar as variáveis mais significativas para o modelo, temos alguns parâmetros que podemos usar para alcançar o objetivo. A Entropia é um dos critérios mais importante para a construção da árvore de decisão, pois com ele conseguimos construir a árvore de acordo com as variáveis mais importante para então conseguir classificar o modelo corretamente**"
   ]
  },
  {
   "cell_type": "markdown",
   "metadata": {},
   "source": [
    "**A representação gráfica de uma árvore de decisão é muito intuitiva e torna o problema fácil de compreender, mesmo para pessoas que não tenham perfil analítico**"
   ]
  }
 ],
 "metadata": {
  "anaconda-cloud": {},
  "kernelspec": {
   "display_name": "Python 3 (ipykernel)",
   "language": "python",
   "name": "python3"
  },
  "language_info": {
   "codemirror_mode": {
    "name": "ipython",
    "version": 3
   },
   "file_extension": ".py",
   "mimetype": "text/x-python",
   "name": "python",
   "nbconvert_exporter": "python",
   "pygments_lexer": "ipython3",
   "version": "3.9.12"
  }
 },
 "nbformat": 4,
 "nbformat_minor": 1
}
