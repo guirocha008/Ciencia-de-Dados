{
 "cells": [
  {
   "cell_type": "markdown",
   "metadata": {},
   "source": [
    "# $$Árvore~de~Decisão: Índice~Gini$$"
   ]
  },
  {
   "cell_type": "markdown",
   "metadata": {},
   "source": [
    "### $$Conceito:$$\n",
    "\n",
    "\n",
    "**Árvores de decisão (ou árvores de classificação)** são modelos de aprendizado supervisionado que representam regras de decisão baseadas nos valores dos atributos.\n",
    "\n",
    "\n",
    "**Os atributos no topo da árvore** são os mais importantes para descrever o comportamento da variável Target, seguindo uma ordem de importância\n",
    "\n",
    "\n",
    "Para construir uma **árvore de decisão usamos 2 formulas importantes: Entropia e Índice de Gini**, com elas você consegue descobrir quais variáveis são mais importantes para explicar a variável Target\n",
    "\n",
    "\n",
    "\n",
    "**A construção de uma árvore de decisão tem três objetivos, quais sejam:**\n",
    "\n",
    "- Diminuir a entropia (a aleatoriedade da variável objetivo)\n",
    "\n",
    "- Ser consistente com o conjunto de dados (Treino e teste)\n",
    "\n",
    "- Possuir o menor número de nós\n",
    "\n",
    "### $$Terminologias~ relacionadas~ às ~árvores~ de~ decisão:$$\n",
    "\n",
    "\n",
    "**Pruning:** \n",
    "- Eliminar alguns Nós da Árvore para evitar Overfitting\n",
    "\n",
    "\n",
    "**Regra de Parada:**\n",
    "- Os parâmetros usados para regra de parada são: Índice Gini, Qui-Quadrado, Ganho de Informação e Redução de Variância\n",
    "\n",
    "\n",
    "\n",
    "**Tipo de Distribuição:**\n",
    "- **Método não paramétrico:**  A  árvore  de  decisão  é  considerada  um  método  não-paramétrico. Isto significa que as árvores de decisão não pressupõem distribuição do espaço nem a estrutura do classificador\n",
    "\n",
    "\n",
    "**Nó pai e nó filho:**\n",
    "\n",
    "- Um nó que é dividido em sub-nós é chamado de nó pai (nó raiz). Os sub-nós são os nós filhos (nós subsequentes) do nó pai\n",
    "\n",
    "\n",
    "\n",
    "\n",
    "### $$Entropia (Desordem):$$\n",
    "\n",
    "\n",
    "\n",
    "Através da **entropia** é possível verificar a variação das classes dos dados na variável target. **Quanto maior a entropia, maior a desordem dos dados (dados balanceados), o intervalo de Entropia varia entre 0 e 1 para dados binários e maior que 1 em multiclasses**\n",
    "\n",
    "\n",
    "Quanto mais **equilibrado os dados** estiverem na variável Target mais **distante do valor 0** a entropia vai estar\n",
    "\n",
    "\n",
    "Para **diminuir a entropia** nos dados da **variável target**, temos que **adicionar variáveis explicativas** e **calcular seu ganho de informação**, a variável que tiver o maior valor do ganho de informação será o nó raiz e ficará no topo da árvore, seguindo a ordem até o nó folha que deixará os dados mais puro possível (Entropia 0 ou próxima de 0)\n",
    "\n",
    "\n",
    "\n",
    "### $$Índice ~ Gini:$$\n",
    "\n",
    "O **Objetivo do índice gini é selecionar as variáveis mais relevantes** para prever as features do modelo utilizando o algoritmo de árvore de decisão\n",
    "\n",
    "\n",
    "Assim como na Entropia, será verificada a distribuição dos dados nas variáveis preditoras de acordo com a variação da variável target, A variável preditora com o **menor índice Gini** será a escolhida para o **nó principal** da árvore, o intervalo de Impureza Gini varia entre 0 e 0,5.\n",
    "\n",
    "\n",
    "A **Impureza Gini** é calculada para **cada classe da variável explicativa**, quanto **menor** for o **valor, menor será o valor do índice gini**\n",
    " \n",
    "\n",
    "**Obs:** Podem haver variáveis que tem o valor de gini alto, podendo ficar de fora da árvore\n",
    "\n",
    "\n",
    "\n",
    "\n",
    "### $$Representando ~Árvores~ de~ Decisão:$$\n",
    "\n",
    "- Cada nó interno (variável explicativa) testa um atributo (classe da variável explicativa)\n",
    "\n",
    "\n",
    "- Cada ramo corresponde a um valor do atributo (classe da variável explicativa)\n",
    "\n",
    "\n",
    "- Cada folha representa uma classe (variável Target)\n",
    "\n",
    "\n",
    "\n",
    "\n"
   ]
  },
  {
   "cell_type": "markdown",
   "metadata": {},
   "source": [
    "__------------------------------------------------------------------------------------------------------------------------------------------------------------------------------------------------------------------__\n",
    "\n",
    "\n",
    "__------------------------------------------------------------------------------------------------------------------------------------------------------------------------------------------------------------------__"
   ]
  },
  {
   "cell_type": "markdown",
   "metadata": {},
   "source": [
    "## $$Objetivo:$$  \n",
    "\n",
    "## $$Classificar~corretamente~as~classes~da~variável~target$$$$usando~o~algoritimo~de~Árvore~de~decisão~com~o~criterio~gini$$"
   ]
  },
  {
   "cell_type": "markdown",
   "metadata": {},
   "source": [
    "__------------------------------------------------------------------------------------------------------------------------------------------------------------------------------------------------------------------__\n",
    "\n",
    "\n",
    "__------------------------------------------------------------------------------------------------------------------------------------------------------------------------------------------------------------------__"
   ]
  },
  {
   "cell_type": "code",
   "execution_count": 1,
   "metadata": {},
   "outputs": [],
   "source": [
    "#Pacote\n",
    "import numpy as np\n",
    "import pandas as pd\n",
    "import matplotlib.pyplot as plt"
   ]
  },
  {
   "cell_type": "markdown",
   "metadata": {},
   "source": [
    "# Banco de dados "
   ]
  },
  {
   "cell_type": "code",
   "execution_count": 2,
   "metadata": {},
   "outputs": [
    {
     "data": {
      "text/html": [
       "<div>\n",
       "<style scoped>\n",
       "    .dataframe tbody tr th:only-of-type {\n",
       "        vertical-align: middle;\n",
       "    }\n",
       "\n",
       "    .dataframe tbody tr th {\n",
       "        vertical-align: top;\n",
       "    }\n",
       "\n",
       "    .dataframe thead th {\n",
       "        text-align: right;\n",
       "    }\n",
       "</style>\n",
       "<table border=\"1\" class=\"dataframe\">\n",
       "  <thead>\n",
       "    <tr style=\"text-align: right;\">\n",
       "      <th></th>\n",
       "      <th>preco</th>\n",
       "      <th>horario</th>\n",
       "      <th>Classificacao</th>\n",
       "    </tr>\n",
       "  </thead>\n",
       "  <tbody>\n",
       "    <tr>\n",
       "      <th>0</th>\n",
       "      <td>ate 3000</td>\n",
       "      <td>Noturno</td>\n",
       "      <td>Normal</td>\n",
       "    </tr>\n",
       "    <tr>\n",
       "      <th>1</th>\n",
       "      <td>ate 3000</td>\n",
       "      <td>Noturno</td>\n",
       "      <td>Normal</td>\n",
       "    </tr>\n",
       "    <tr>\n",
       "      <th>2</th>\n",
       "      <td>ate 3000</td>\n",
       "      <td>Noturno</td>\n",
       "      <td>Normal</td>\n",
       "    </tr>\n",
       "    <tr>\n",
       "      <th>3</th>\n",
       "      <td>ate 3000</td>\n",
       "      <td>Noturno</td>\n",
       "      <td>Normal</td>\n",
       "    </tr>\n",
       "    <tr>\n",
       "      <th>4</th>\n",
       "      <td>ate 3000</td>\n",
       "      <td>Noturno</td>\n",
       "      <td>Normal</td>\n",
       "    </tr>\n",
       "    <tr>\n",
       "      <th>5</th>\n",
       "      <td>ate 3000</td>\n",
       "      <td>Noturno</td>\n",
       "      <td>Normal</td>\n",
       "    </tr>\n",
       "    <tr>\n",
       "      <th>6</th>\n",
       "      <td>entre 3000 e 8000</td>\n",
       "      <td>Noturno</td>\n",
       "      <td>Fraude</td>\n",
       "    </tr>\n",
       "    <tr>\n",
       "      <th>7</th>\n",
       "      <td>entre 3000 e 8000</td>\n",
       "      <td>Noturno</td>\n",
       "      <td>Fraude</td>\n",
       "    </tr>\n",
       "    <tr>\n",
       "      <th>8</th>\n",
       "      <td>entre 3000 e 8000</td>\n",
       "      <td>Noturno</td>\n",
       "      <td>Fraude</td>\n",
       "    </tr>\n",
       "    <tr>\n",
       "      <th>9</th>\n",
       "      <td>entre 3000 e 8000</td>\n",
       "      <td>Noturno</td>\n",
       "      <td>Fraude</td>\n",
       "    </tr>\n",
       "  </tbody>\n",
       "</table>\n",
       "</div>"
      ],
      "text/plain": [
       "               preco  horario Classificacao\n",
       "0           ate 3000  Noturno        Normal\n",
       "1           ate 3000  Noturno        Normal\n",
       "2           ate 3000  Noturno        Normal\n",
       "3           ate 3000  Noturno        Normal\n",
       "4           ate 3000  Noturno        Normal\n",
       "5           ate 3000  Noturno        Normal\n",
       "6  entre 3000 e 8000  Noturno        Fraude\n",
       "7  entre 3000 e 8000  Noturno        Fraude\n",
       "8  entre 3000 e 8000  Noturno        Fraude\n",
       "9  entre 3000 e 8000  Noturno        Fraude"
      ]
     },
     "execution_count": 2,
     "metadata": {},
     "output_type": "execute_result"
    }
   ],
   "source": [
    "# Carregando o dataset\n",
    "dados = pd.read_csv('fraude.csv',encoding='latin1',sep=';')\n",
    "dados.head(10)"
   ]
  },
  {
   "cell_type": "markdown",
   "metadata": {},
   "source": [
    "# Análise Exploratória"
   ]
  },
  {
   "cell_type": "code",
   "execution_count": 20,
   "metadata": {},
   "outputs": [
    {
     "name": "stdout",
     "output_type": "stream",
     "text": [
      "<class 'pandas.core.frame.DataFrame'>\n",
      "RangeIndex: 38 entries, 0 to 37\n",
      "Data columns (total 3 columns):\n",
      " #   Column         Non-Null Count  Dtype \n",
      "---  ------         --------------  ----- \n",
      " 0   preco          38 non-null     object\n",
      " 1   horario        38 non-null     object\n",
      " 2   Classificacao  38 non-null     object\n",
      "dtypes: object(3)\n",
      "memory usage: 1.0+ KB\n"
     ]
    }
   ],
   "source": [
    "#Tipos de variáveis\n",
    "dados.info()"
   ]
  },
  {
   "cell_type": "markdown",
   "metadata": {},
   "source": [
    "**Variáveis qualitativas, sem valores nulos**"
   ]
  },
  {
   "cell_type": "markdown",
   "metadata": {},
   "source": [
    "# Cálculo do Índice Gini:"
   ]
  },
  {
   "cell_type": "markdown",
   "metadata": {},
   "source": [
    "## 1° Passo: Calcular as probabilidade de cada classe da variável explicativa VS target:"
   ]
  },
  {
   "cell_type": "markdown",
   "metadata": {},
   "source": [
    "### Variável Explicativa:  'preco'"
   ]
  },
  {
   "cell_type": "code",
   "execution_count": 4,
   "metadata": {},
   "outputs": [
    {
     "data": {
      "text/html": [
       "<div>\n",
       "<style scoped>\n",
       "    .dataframe tbody tr th:only-of-type {\n",
       "        vertical-align: middle;\n",
       "    }\n",
       "\n",
       "    .dataframe tbody tr th {\n",
       "        vertical-align: top;\n",
       "    }\n",
       "\n",
       "    .dataframe thead th {\n",
       "        text-align: right;\n",
       "    }\n",
       "</style>\n",
       "<table border=\"1\" class=\"dataframe\">\n",
       "  <thead>\n",
       "    <tr style=\"text-align: right;\">\n",
       "      <th></th>\n",
       "      <th>preco</th>\n",
       "    </tr>\n",
       "  </thead>\n",
       "  <tbody>\n",
       "    <tr>\n",
       "      <th>ate 3000</th>\n",
       "      <td>20</td>\n",
       "    </tr>\n",
       "    <tr>\n",
       "      <th>entre 3000 e 8000</th>\n",
       "      <td>18</td>\n",
       "    </tr>\n",
       "  </tbody>\n",
       "</table>\n",
       "</div>"
      ],
      "text/plain": [
       "                   preco\n",
       "ate 3000              20\n",
       "entre 3000 e 8000     18"
      ]
     },
     "execution_count": 4,
     "metadata": {},
     "output_type": "execute_result"
    }
   ],
   "source": [
    "#Dados da variável preco\n",
    "dados.preco.value_counts().to_frame()"
   ]
  },
  {
   "cell_type": "markdown",
   "metadata": {},
   "source": [
    "**2 classes**"
   ]
  },
  {
   "cell_type": "code",
   "execution_count": 5,
   "metadata": {},
   "outputs": [
    {
     "name": "stdout",
     "output_type": "stream",
     "text": [
      "Total de amostras da variável preco entre 3000 e 8000 : 18\n",
      "\n",
      "Número de dados da variável preco entre 3000 e 8000 da classe target Fraude: 8\n",
      "Número de dados da variável preco entre 3000 e 8000 da classe target Normal: 10\n"
     ]
    }
   ],
   "source": [
    "#Probabilidade da classe: (entre 3000 e 8000)\n",
    "\n",
    "# Variavel preco (entre 3000 e 8000)\n",
    "preco_3a8_ = dados.loc[(dados['preco'] =='entre 3000 e 8000')]\n",
    "\n",
    "# Quantidade de vezes que a classe fraude aparece na variavel preço da classe 'entre 3000 e 8000'\n",
    "preco_3a8_fraud = preco_3a8_[preco_3a8_.Classificacao=='Fraude']\n",
    "\n",
    "# Quantidade de vezes que a classe Normal aparece na variavel preço da classe 'entre 3000 e 8000'\n",
    "preco_3a8_norm = preco_3a8_[preco_3a8_.Classificacao=='Normal']\n",
    "\n",
    "print(f'Total de amostras da variável preco entre 3000 e 8000 : {len(preco_3a8_)}')\n",
    "\n",
    "print(f'\\nNúmero de dados da variável preco entre 3000 e 8000 da classe target Fraude: {len(preco_3a8_fraud)}')\n",
    "print(f'Número de dados da variável preco entre 3000 e 8000 da classe target Normal: {len(preco_3a8_norm)}')"
   ]
  },
  {
   "cell_type": "markdown",
   "metadata": {},
   "source": [
    "**Probabilidade de cada classe: 'entre 3000 e 8000' da variável explicativa: 'preco'  VS target ('Fraude','Normal')**"
   ]
  },
  {
   "cell_type": "code",
   "execution_count": 6,
   "metadata": {},
   "outputs": [
    {
     "name": "stdout",
     "output_type": "stream",
     "text": [
      "Total de amostras da variável preco até 3000 : 20\n",
      "\n",
      "Número de dados da variável preco até 3000 da classe target Fraude: 0\n",
      "Número de dados da variável preco até 3000 da classe target Normal: 20\n"
     ]
    }
   ],
   "source": [
    "#Probabilidade da classe: (ate 3000)\n",
    "\n",
    "# Variavel preco classe 'ate 3000' \n",
    "preco_3_ = dados.loc[(dados['preco'] =='ate 3000')]\n",
    "\n",
    "# Quantidade de vezes que a classe fraude aparece na variavel preço da classe 'ate 3000'\n",
    "preco_3_fraud = preco_3_[preco_3_.Classificacao=='Fraude']\n",
    "\n",
    "# Quantidade de vezes que a classe Normal aparece na variavel preço da classe 'ate 3000'\n",
    "preco_3_norm = preco_3_[preco_3_.Classificacao=='Normal']\n",
    "\n",
    "print(f'Total de amostras da variável preco até 3000 : {len(preco_3_)}')\n",
    "\n",
    "print(f'\\nNúmero de dados da variável preco até 3000 da classe target Fraude: {len(preco_3_fraud)}')\n",
    "print(f'Número de dados da variável preco até 3000 da classe target Normal: {len(preco_3_norm)}')"
   ]
  },
  {
   "cell_type": "markdown",
   "metadata": {},
   "source": [
    "**Probabilidade de cada classe: 'até 3000' da variável explicativa: 'preco'  VS target ('Fraude','Normal')**"
   ]
  },
  {
   "cell_type": "code",
   "execution_count": 7,
   "metadata": {},
   "outputs": [
    {
     "name": "stdout",
     "output_type": "stream",
     "text": [
      "Índice Gini da variável preco da classe entre 3000 e 8000 : 0.49382716049382713\n",
      "\n",
      "Índice Gini da variável preco da classe até 3000 : 0.0\n"
     ]
    }
   ],
   "source": [
    "#Indice Gini de cada classe (Calculo da impureza)\n",
    "\n",
    "gini_preco_3a8_ = 1 - ((len(preco_3a8_fraud)/ len(preco_3a8_))**2 + (len(preco_3a8_norm)/len(preco_3a8_))**2)\n",
    "\n",
    "gini_preco_3_ = 1 - ((len(preco_3_fraud)/ len(preco_3_))**2 + (len(preco_3_norm)/len(preco_3_))**2)\n",
    "\n",
    "print(f'Índice Gini da variável preco da classe entre 3000 e 8000 : {gini_preco_3a8_}')\n",
    "\n",
    "print(f'\\nÍndice Gini da variável preco da classe até 3000 : {gini_preco_3_}')"
   ]
  },
  {
   "cell_type": "markdown",
   "metadata": {},
   "source": [
    "**Cálculo da impureza de cada classe da variável: 'preco'**"
   ]
  },
  {
   "cell_type": "code",
   "execution_count": 8,
   "metadata": {},
   "outputs": [
    {
     "name": "stdout",
     "output_type": "stream",
     "text": [
      "Índice Gini da variável preco: 0.23391812865497075\n"
     ]
    }
   ],
   "source": [
    "#Indice Gini da variável 'preco'\n",
    "\n",
    "ig_preco = ((len(preco_3a8_)/len(dados)) * gini_preco_3a8_) + ((len(preco_3_)/len(dados)) * gini_preco_3_)\n",
    "\n",
    "print(f'Índice Gini da variável preco: {ig_preco}')"
   ]
  },
  {
   "cell_type": "markdown",
   "metadata": {},
   "source": [
    "**Cálculo do Índice Gini da variável: 'preco'**"
   ]
  },
  {
   "cell_type": "markdown",
   "metadata": {},
   "source": [
    "**Obs: Quanto menor o valor do índice gini, mais homogêneo será os dados**"
   ]
  },
  {
   "cell_type": "markdown",
   "metadata": {},
   "source": [
    "### Variável Explicativa: 'horario'"
   ]
  },
  {
   "cell_type": "code",
   "execution_count": 9,
   "metadata": {},
   "outputs": [
    {
     "data": {
      "text/html": [
       "<div>\n",
       "<style scoped>\n",
       "    .dataframe tbody tr th:only-of-type {\n",
       "        vertical-align: middle;\n",
       "    }\n",
       "\n",
       "    .dataframe tbody tr th {\n",
       "        vertical-align: top;\n",
       "    }\n",
       "\n",
       "    .dataframe thead th {\n",
       "        text-align: right;\n",
       "    }\n",
       "</style>\n",
       "<table border=\"1\" class=\"dataframe\">\n",
       "  <thead>\n",
       "    <tr style=\"text-align: right;\">\n",
       "      <th></th>\n",
       "      <th>horario</th>\n",
       "    </tr>\n",
       "  </thead>\n",
       "  <tbody>\n",
       "    <tr>\n",
       "      <th>Noturno</th>\n",
       "      <td>19</td>\n",
       "    </tr>\n",
       "    <tr>\n",
       "      <th>Diurno</th>\n",
       "      <td>19</td>\n",
       "    </tr>\n",
       "  </tbody>\n",
       "</table>\n",
       "</div>"
      ],
      "text/plain": [
       "         horario\n",
       "Noturno       19\n",
       "Diurno        19"
      ]
     },
     "execution_count": 9,
     "metadata": {},
     "output_type": "execute_result"
    }
   ],
   "source": [
    "#Dados da variável horario\n",
    "dados.horario.value_counts().to_frame()"
   ]
  },
  {
   "cell_type": "markdown",
   "metadata": {},
   "source": [
    "**2 classes**"
   ]
  },
  {
   "cell_type": "code",
   "execution_count": 10,
   "metadata": {},
   "outputs": [
    {
     "name": "stdout",
     "output_type": "stream",
     "text": [
      "Total de amostras da variável horario período Noturno : 19\n",
      "\n",
      "Número de dados da variável horario período Noturno da classe target Fraude: 8\n",
      "\n",
      "Número de dados da variável horario período Noturno da classe target Normal: 11\n"
     ]
    }
   ],
   "source": [
    "#Probabilidade da classe: (Noturno)\n",
    "\n",
    "# Variavel horario (Noturno)\n",
    "horario_noturno_ = dados.loc[(dados['horario'] =='Noturno')]\n",
    "\n",
    "# Quantidade de vezes que a classe fraude aparece na variavel horario da classe 'Noturno'\n",
    "horario_noturno_fraud = horario_noturno_[horario_noturno_.Classificacao=='Fraude']\n",
    "\n",
    "# Quantidade de vezes que a classe Normal aparece na variavel horario da classe 'Noturno\n",
    "horario_noturno_norm = horario_noturno_[horario_noturno_.Classificacao=='Normal']\n",
    "\n",
    "\n",
    "print(f'Total de amostras da variável horario período Noturno : {len(horario_noturno_)}')\n",
    "\n",
    "print(f'\\nNúmero de dados da variável horario período Noturno da classe target Fraude: {len(horario_noturno_fraud)}')\n",
    "print(f'\\nNúmero de dados da variável horario período Noturno da classe target Normal: {len(horario_noturno_norm)}')"
   ]
  },
  {
   "cell_type": "markdown",
   "metadata": {},
   "source": [
    "**Probabilidade de cada classe: 'Noturno' da variável explicativa: 'horario'  VS target ('Fraude','Normal')**"
   ]
  },
  {
   "cell_type": "code",
   "execution_count": 11,
   "metadata": {},
   "outputs": [
    {
     "name": "stdout",
     "output_type": "stream",
     "text": [
      "Total de amostras da variável horario período Diurno : 19\n",
      "\n",
      "Número de dados da variável horario período Diurno da classe target Fraude: 0\n",
      "\n",
      "Número de dados da variável horario período Diurno da classe target Normal: 19\n"
     ]
    }
   ],
   "source": [
    "#Probabilidade da classe: (Diurno)\n",
    "\n",
    "# Variavel horario (Diurno)\n",
    "horario_Diurno_ = dados.loc[(dados['horario'] =='Diurno')]\n",
    "\n",
    "\n",
    "# Quantidade de vezes que a classe fraude aparece na variavel horario da classe 'Diurno'\n",
    "Diurno_fraud = horario_Diurno_[horario_Diurno_.Classificacao=='Fraude']\n",
    "\n",
    "# Quantidade de vezes que a classe Normal aparece na variavel horario da classe 'Diurno'\n",
    "Diurno_norm = horario_Diurno_[horario_Diurno_.Classificacao=='Normal']\n",
    "\n",
    "print(f'Total de amostras da variável horario período Diurno : {len(horario_Diurno_)}')\n",
    "\n",
    "print(f'\\nNúmero de dados da variável horario período Diurno da classe target Fraude: {len(Diurno_fraud)}')\n",
    "print(f'\\nNúmero de dados da variável horario período Diurno da classe target Normal: {len(Diurno_norm)}')\n"
   ]
  },
  {
   "cell_type": "markdown",
   "metadata": {},
   "source": [
    "**Probabilidade de cada classe: 'Diurno' da variável explicativa: 'horario'  VS target ('Fraude','Normal')**"
   ]
  },
  {
   "cell_type": "code",
   "execution_count": 12,
   "metadata": {},
   "outputs": [
    {
     "name": "stdout",
     "output_type": "stream",
     "text": [
      "Índice Gini da variável horario da classe Noturno : 0.48753462603878117\n",
      "\n",
      "Índice Gini da variável horario da classe Diurno : 0.0\n"
     ]
    }
   ],
   "source": [
    "#Indice Gini de cada classe (Calculo da impureza)\n",
    "\n",
    "gini_noturno_ = 1-((len(horario_noturno_fraud)/len(horario_noturno_))**2 + (len(horario_noturno_norm)/len(horario_noturno_))**2)\n",
    "\n",
    "gini_Diurno_ = 1 - ((len(Diurno_fraud)/ len(horario_Diurno_))**2 + (len(Diurno_norm)/len(horario_Diurno_))**2)\n",
    "\n",
    "print(f'Índice Gini da variável horario da classe Noturno : {gini_noturno_}')\n",
    "\n",
    "print(f'\\nÍndice Gini da variável horario da classe Diurno : {gini_Diurno_}')"
   ]
  },
  {
   "cell_type": "markdown",
   "metadata": {},
   "source": [
    "**Cálculo da impureza de cada classe da variável: 'horario '**"
   ]
  },
  {
   "cell_type": "code",
   "execution_count": 13,
   "metadata": {},
   "outputs": [
    {
     "name": "stdout",
     "output_type": "stream",
     "text": [
      "Índice Gini da variável horario: 0.24376731301939059\n"
     ]
    }
   ],
   "source": [
    "#Indice Gini da variável 'horario'\n",
    "\n",
    "ig_horario = ((len(horario_noturno_)/len(dados)) * gini_noturno_) + ((len(horario_Diurno_)/len(dados)) * gini_Diurno_)\n",
    "\n",
    "print(f'Índice Gini da variável horario: {ig_horario}')"
   ]
  },
  {
   "cell_type": "markdown",
   "metadata": {},
   "source": [
    "**Cálculo do Índice Gini da variável: 'horario'**"
   ]
  },
  {
   "cell_type": "code",
   "execution_count": 14,
   "metadata": {},
   "outputs": [
    {
     "data": {
      "text/html": [
       "<div>\n",
       "<style scoped>\n",
       "    .dataframe tbody tr th:only-of-type {\n",
       "        vertical-align: middle;\n",
       "    }\n",
       "\n",
       "    .dataframe tbody tr th {\n",
       "        vertical-align: top;\n",
       "    }\n",
       "\n",
       "    .dataframe thead th {\n",
       "        text-align: right;\n",
       "    }\n",
       "</style>\n",
       "<table border=\"1\" class=\"dataframe\">\n",
       "  <thead>\n",
       "    <tr style=\"text-align: right;\">\n",
       "      <th></th>\n",
       "      <th>Índice Gini</th>\n",
       "    </tr>\n",
       "    <tr>\n",
       "      <th>Variavel</th>\n",
       "      <th></th>\n",
       "    </tr>\n",
       "  </thead>\n",
       "  <tbody>\n",
       "    <tr>\n",
       "      <th>preco</th>\n",
       "      <td>0.233918</td>\n",
       "    </tr>\n",
       "    <tr>\n",
       "      <th>horaio</th>\n",
       "      <td>0.243767</td>\n",
       "    </tr>\n",
       "  </tbody>\n",
       "</table>\n",
       "</div>"
      ],
      "text/plain": [
       "          Índice Gini\n",
       "Variavel             \n",
       "preco        0.233918\n",
       "horaio       0.243767"
      ]
     },
     "execution_count": 14,
     "metadata": {},
     "output_type": "execute_result"
    }
   ],
   "source": [
    "#Escolha do nó raiz atráves do menor índice gini\n",
    "ig = {'preco':ig_preco,'horaio':ig_horario}\n",
    "\n",
    "gini = pd.DataFrame(list(ig.items()),columns=['Variavel','Índice Gini'])\n",
    "gini = gini.set_index('Variavel')\n",
    "gini"
   ]
  },
  {
   "cell_type": "markdown",
   "metadata": {},
   "source": [
    "**Observe que a variável com o menor indice gini é: 'preço', portanto essa variável será o nó raiz da árvore**"
   ]
  },
  {
   "cell_type": "markdown",
   "metadata": {},
   "source": [
    "## Índice Gini utilizando o algoritmo DecisionTreeClassifier"
   ]
  },
  {
   "cell_type": "code",
   "execution_count": 15,
   "metadata": {},
   "outputs": [
    {
     "data": {
      "text/html": [
       "<div>\n",
       "<style scoped>\n",
       "    .dataframe tbody tr th:only-of-type {\n",
       "        vertical-align: middle;\n",
       "    }\n",
       "\n",
       "    .dataframe tbody tr th {\n",
       "        vertical-align: top;\n",
       "    }\n",
       "\n",
       "    .dataframe thead th {\n",
       "        text-align: right;\n",
       "    }\n",
       "</style>\n",
       "<table border=\"1\" class=\"dataframe\">\n",
       "  <thead>\n",
       "    <tr style=\"text-align: right;\">\n",
       "      <th></th>\n",
       "      <th>preco</th>\n",
       "      <th>horario</th>\n",
       "      <th>Classificacao</th>\n",
       "    </tr>\n",
       "  </thead>\n",
       "  <tbody>\n",
       "    <tr>\n",
       "      <th>0</th>\n",
       "      <td>ate 3000</td>\n",
       "      <td>Noturno</td>\n",
       "      <td>Normal</td>\n",
       "    </tr>\n",
       "    <tr>\n",
       "      <th>1</th>\n",
       "      <td>ate 3000</td>\n",
       "      <td>Noturno</td>\n",
       "      <td>Normal</td>\n",
       "    </tr>\n",
       "    <tr>\n",
       "      <th>2</th>\n",
       "      <td>ate 3000</td>\n",
       "      <td>Noturno</td>\n",
       "      <td>Normal</td>\n",
       "    </tr>\n",
       "    <tr>\n",
       "      <th>3</th>\n",
       "      <td>ate 3000</td>\n",
       "      <td>Noturno</td>\n",
       "      <td>Normal</td>\n",
       "    </tr>\n",
       "    <tr>\n",
       "      <th>4</th>\n",
       "      <td>ate 3000</td>\n",
       "      <td>Noturno</td>\n",
       "      <td>Normal</td>\n",
       "    </tr>\n",
       "  </tbody>\n",
       "</table>\n",
       "</div>"
      ],
      "text/plain": [
       "      preco  horario Classificacao\n",
       "0  ate 3000  Noturno        Normal\n",
       "1  ate 3000  Noturno        Normal\n",
       "2  ate 3000  Noturno        Normal\n",
       "3  ate 3000  Noturno        Normal\n",
       "4  ate 3000  Noturno        Normal"
      ]
     },
     "execution_count": 15,
     "metadata": {},
     "output_type": "execute_result"
    }
   ],
   "source": [
    "# Dataset\n",
    "dados.head()"
   ]
  },
  {
   "cell_type": "markdown",
   "metadata": {},
   "source": [
    "## Transformar as variáveis categóricas em dummys"
   ]
  },
  {
   "cell_type": "markdown",
   "metadata": {},
   "source": [
    "- A maioria dos algoritmos de Machine Learning não conseguem lidar com variáveis categóricas, então precisamos transformar tais variáveis em números (Dummies)"
   ]
  },
  {
   "cell_type": "code",
   "execution_count": 16,
   "metadata": {},
   "outputs": [
    {
     "data": {
      "text/html": [
       "<div>\n",
       "<style scoped>\n",
       "    .dataframe tbody tr th:only-of-type {\n",
       "        vertical-align: middle;\n",
       "    }\n",
       "\n",
       "    .dataframe tbody tr th {\n",
       "        vertical-align: top;\n",
       "    }\n",
       "\n",
       "    .dataframe thead th {\n",
       "        text-align: right;\n",
       "    }\n",
       "</style>\n",
       "<table border=\"1\" class=\"dataframe\">\n",
       "  <thead>\n",
       "    <tr style=\"text-align: right;\">\n",
       "      <th></th>\n",
       "      <th>ate_3000</th>\n",
       "      <th>mais_3000</th>\n",
       "      <th>Diurno</th>\n",
       "      <th>Noturno</th>\n",
       "    </tr>\n",
       "  </thead>\n",
       "  <tbody>\n",
       "    <tr>\n",
       "      <th>0</th>\n",
       "      <td>1</td>\n",
       "      <td>0</td>\n",
       "      <td>0</td>\n",
       "      <td>1</td>\n",
       "    </tr>\n",
       "    <tr>\n",
       "      <th>1</th>\n",
       "      <td>1</td>\n",
       "      <td>0</td>\n",
       "      <td>0</td>\n",
       "      <td>1</td>\n",
       "    </tr>\n",
       "    <tr>\n",
       "      <th>2</th>\n",
       "      <td>1</td>\n",
       "      <td>0</td>\n",
       "      <td>0</td>\n",
       "      <td>1</td>\n",
       "    </tr>\n",
       "    <tr>\n",
       "      <th>3</th>\n",
       "      <td>1</td>\n",
       "      <td>0</td>\n",
       "      <td>0</td>\n",
       "      <td>1</td>\n",
       "    </tr>\n",
       "    <tr>\n",
       "      <th>4</th>\n",
       "      <td>1</td>\n",
       "      <td>0</td>\n",
       "      <td>0</td>\n",
       "      <td>1</td>\n",
       "    </tr>\n",
       "  </tbody>\n",
       "</table>\n",
       "</div>"
      ],
      "text/plain": [
       "   ate_3000  mais_3000  Diurno  Noturno\n",
       "0         1          0       0        1\n",
       "1         1          0       0        1\n",
       "2         1          0       0        1\n",
       "3         1          0       0        1\n",
       "4         1          0       0        1"
      ]
     },
     "execution_count": 16,
     "metadata": {},
     "output_type": "execute_result"
    }
   ],
   "source": [
    "#Dummies\n",
    "preco = pd.get_dummies(dados['preco'])\n",
    "preco.columns = ['ate_3000','mais_3000']\n",
    "horario = pd.get_dummies(dados['horario'])\n",
    "horario.columns = ['Diurno','Noturno']\n",
    "x = preco.join(horario)\n",
    "x.head()"
   ]
  },
  {
   "cell_type": "markdown",
   "metadata": {},
   "source": [
    "**Variáveis explicativas transformadas em dummies**"
   ]
  },
  {
   "cell_type": "code",
   "execution_count": 17,
   "metadata": {},
   "outputs": [],
   "source": [
    "#Separar os dados em x e y\n",
    "x\n",
    "y = dados.iloc[:,2]\n"
   ]
  },
  {
   "cell_type": "markdown",
   "metadata": {},
   "source": [
    "## Modelagem"
   ]
  },
  {
   "cell_type": "code",
   "execution_count": 18,
   "metadata": {},
   "outputs": [
    {
     "name": "stdout",
     "output_type": "stream",
     "text": [
      "Acurácia do Modelo = 97.37%\n"
     ]
    }
   ],
   "source": [
    "#Modelagem dos dados\n",
    "from sklearn.tree import DecisionTreeClassifier\n",
    "\n",
    "clf = DecisionTreeClassifier(criterion='gini')\n",
    "modelo = clf.fit(x,y)\n",
    "\n",
    "#Acuracia do modelo\n",
    "acuracia = modelo.score(x,y)\n",
    "print(f'Acurácia do Modelo = {round(acuracia*100,2)}%')\n"
   ]
  },
  {
   "cell_type": "markdown",
   "metadata": {},
   "source": [
    "**Usando o índice gini como critério de decisão, conseguimos uma acurácia de 97.37% na base de dados**"
   ]
  },
  {
   "cell_type": "markdown",
   "metadata": {},
   "source": [
    "## Visualizar a árvore de decisão Completa através do gráfico"
   ]
  },
  {
   "cell_type": "code",
   "execution_count": 19,
   "metadata": {},
   "outputs": [
    {
     "data": {
      "image/png": "[encoded data removed]",
      "text/plain": [
       "<Figure size 720x576 with 1 Axes>"
      ]
     },
     "metadata": {
      "needs_background": "light"
     },
     "output_type": "display_data"
    }
   ],
   "source": [
    "#Plot\n",
    "from sklearn.tree import plot_tree\n",
    "fig = plt.figure(figsize=(10,8))\n",
    "plot_tree(modelo, feature_names=x.columns, fontsize=12,filled=True,class_names=['Fraude', 'Normal']);\n"
   ]
  },
  {
   "cell_type": "markdown",
   "metadata": {},
   "source": [
    "**Figura mostra assim como no cálculo da impureza do índice Gini que os dados não são 100% puros, porém apenas 1 dado ficou sem ser explicado**"
   ]
  },
  {
   "cell_type": "markdown",
   "metadata": {},
   "source": [
    "**Podemos observamos graficamente que quando o preço for menor do que 3000 mil não haverá fraude**"
   ]
  },
  {
   "cell_type": "markdown",
   "metadata": {},
   "source": [
    "# Conclusão:"
   ]
  },
  {
   "cell_type": "markdown",
   "metadata": {},
   "source": [
    "**O algoritmo de árvore de decisão é uma das formas mais rápidas de identificar as variáveis mais significativas para o modelo, temos alguns parâmetros que podemos usar para alcançar o objetivo. O índice gini é um dos critérios mais importante para a construção da árvore de decisão, pois com ele conseguimos construir a árvore de acordo com as variáveis mais importante para então conseguir classificar o modelo corretamente**"
   ]
  },
  {
   "cell_type": "markdown",
   "metadata": {},
   "source": [
    "**A representação gráfica de uma árvore de decisão é muito intuitiva e torna o problema fácil de compreender, mesmo para pessoas que não tenham perfil analítico**"
   ]
  }
 ],
 "metadata": {
  "anaconda-cloud": {},
  "kernelspec": {
   "display_name": "Python 3 (ipykernel)",
   "language": "python",
   "name": "python3"
  },
  "language_info": {
   "codemirror_mode": {
    "name": "ipython",
    "version": 3
   },
   "file_extension": ".py",
   "mimetype": "text/x-python",
   "name": "python",
   "nbconvert_exporter": "python",
   "pygments_lexer": "ipython3",
   "version": "3.9.12"
  }
 },
 "nbformat": 4,
 "nbformat_minor": 1
}
