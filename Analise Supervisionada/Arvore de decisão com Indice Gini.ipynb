{
 "cells": [
  {
   "cell_type": "markdown",
   "metadata": {},
   "source": [
    "$$CONCEITO:$$\n",
    "\n",
    "- **Os atributos no topo da árvore são os mais importantes para descrever o comportamento da variável Target, seguindo uma ordem de importância**\n",
    "\n",
    "\n",
    "- **Para construir uma árvore de decisão usamos 2 formulas importantes: Entropia e Índice de Gini, com elas você consegue descobrir quais variáveis são mais importantes para explicar a variável Target**\n",
    "\n",
    "\n",
    "**Entropia:** \n",
    "\n",
    "- Quanto mais equilibrado os dados estiverem da variavel Target mais distante do valor 0 vai estar, lembrando que caso a arvore de decisão acerte todos os dados a entropia será 0\n",
    "\n",
    "\n",
    "**Indice de Gini:** \n",
    "\n",
    "- Assim como na Entropia, será verificada a distribuição dos dados nas variáveis preditoras de acordo com a variação da variável target, A variável preditora com o menor índice Gini será a escolhida para o nó principal da árvore, pois um baixo valor do índice indica maior ordem na distribuição dos dados.\n",
    "\n",
    "\n",
    "**Pruning:** \n",
    "    \n",
    "- Eliminar alguns Nós da Árvore para evitar Overfitting\n",
    "\n",
    "\n",
    "**Regra de Parada:**\n",
    "\n",
    "- Os parâmetros usados para regra de parada são Índice Gini, Qui-Quadrado, Ganho de Informação e Redução de Variância\n",
    "\n",
    "\n",
    "\n",
    "**Tipo de Distribuição:**\n",
    "\n",
    "- Não Paramétrica\n",
    "\n",
    "\n",
    "\n",
    "\n",
    "**Passo a Passo para construção da Árvore de decisão com índice gine:**\n",
    "\n",
    "- **1° Calcular o valor da entropia da variável target**\n",
    "\n",
    "- **2° Calcular o valor do índice gine da variável explicativa**\n",
    "\n",
    "- **3° Verificar qual variável explicativa tem o menor índice gine para ser o nó raiz da árvore**\n",
    "\n",
    "- **4° Após a escolha do nó raiz, repetir o passo 1 a 3 e escolher a próxima variável explicativa**\n",
    "\n",
    "\n",
    "- **Obs:** Podem haver variáveis que tem o valor de gini alto, podendo ficar de fora da árvore\n"
   ]
  },
  {
   "cell_type": "code",
   "execution_count": 1,
   "metadata": {},
   "outputs": [],
   "source": [
    "#Pacote\n",
    "import numpy as np\n",
    "import pandas as pd\n",
    "import matplotlib.pyplot as plt"
   ]
  },
  {
   "cell_type": "markdown",
   "metadata": {},
   "source": [
    "# Carregar Banco de dados"
   ]
  },
  {
   "cell_type": "code",
   "execution_count": 2,
   "metadata": {},
   "outputs": [
    {
     "data": {
      "text/html": [
       "<div>\n",
       "<style scoped>\n",
       "    .dataframe tbody tr th:only-of-type {\n",
       "        vertical-align: middle;\n",
       "    }\n",
       "\n",
       "    .dataframe tbody tr th {\n",
       "        vertical-align: top;\n",
       "    }\n",
       "\n",
       "    .dataframe thead th {\n",
       "        text-align: right;\n",
       "    }\n",
       "</style>\n",
       "<table border=\"1\" class=\"dataframe\">\n",
       "  <thead>\n",
       "    <tr style=\"text-align: right;\">\n",
       "      <th></th>\n",
       "      <th>preco</th>\n",
       "      <th>horario</th>\n",
       "      <th>Classificacao</th>\n",
       "    </tr>\n",
       "  </thead>\n",
       "  <tbody>\n",
       "    <tr>\n",
       "      <th>0</th>\n",
       "      <td>ate 3000</td>\n",
       "      <td>Noturno</td>\n",
       "      <td>Normal</td>\n",
       "    </tr>\n",
       "    <tr>\n",
       "      <th>1</th>\n",
       "      <td>ate 3000</td>\n",
       "      <td>Noturno</td>\n",
       "      <td>Normal</td>\n",
       "    </tr>\n",
       "    <tr>\n",
       "      <th>2</th>\n",
       "      <td>ate 3000</td>\n",
       "      <td>Noturno</td>\n",
       "      <td>Normal</td>\n",
       "    </tr>\n",
       "    <tr>\n",
       "      <th>3</th>\n",
       "      <td>ate 3000</td>\n",
       "      <td>Noturno</td>\n",
       "      <td>Normal</td>\n",
       "    </tr>\n",
       "    <tr>\n",
       "      <th>4</th>\n",
       "      <td>ate 3000</td>\n",
       "      <td>Noturno</td>\n",
       "      <td>Normal</td>\n",
       "    </tr>\n",
       "    <tr>\n",
       "      <th>5</th>\n",
       "      <td>ate 3000</td>\n",
       "      <td>Noturno</td>\n",
       "      <td>Normal</td>\n",
       "    </tr>\n",
       "    <tr>\n",
       "      <th>6</th>\n",
       "      <td>entre 3000 e 8000</td>\n",
       "      <td>Noturno</td>\n",
       "      <td>Fraude</td>\n",
       "    </tr>\n",
       "    <tr>\n",
       "      <th>7</th>\n",
       "      <td>entre 3000 e 8000</td>\n",
       "      <td>Noturno</td>\n",
       "      <td>Fraude</td>\n",
       "    </tr>\n",
       "    <tr>\n",
       "      <th>8</th>\n",
       "      <td>entre 3000 e 8000</td>\n",
       "      <td>Noturno</td>\n",
       "      <td>Fraude</td>\n",
       "    </tr>\n",
       "    <tr>\n",
       "      <th>9</th>\n",
       "      <td>entre 3000 e 8000</td>\n",
       "      <td>Noturno</td>\n",
       "      <td>Fraude</td>\n",
       "    </tr>\n",
       "  </tbody>\n",
       "</table>\n",
       "</div>"
      ],
      "text/plain": [
       "               preco  horario Classificacao\n",
       "0           ate 3000  Noturno        Normal\n",
       "1           ate 3000  Noturno        Normal\n",
       "2           ate 3000  Noturno        Normal\n",
       "3           ate 3000  Noturno        Normal\n",
       "4           ate 3000  Noturno        Normal\n",
       "5           ate 3000  Noturno        Normal\n",
       "6  entre 3000 e 8000  Noturno        Fraude\n",
       "7  entre 3000 e 8000  Noturno        Fraude\n",
       "8  entre 3000 e 8000  Noturno        Fraude\n",
       "9  entre 3000 e 8000  Noturno        Fraude"
      ]
     },
     "execution_count": 2,
     "metadata": {},
     "output_type": "execute_result"
    }
   ],
   "source": [
    "# Carregando o dataset\n",
    "dados = pd.read_csv('fraude.csv',encoding='latin1',sep=';')\n",
    "dados.head(10)"
   ]
  },
  {
   "cell_type": "markdown",
   "metadata": {},
   "source": [
    "# Calcular a entropia da varáriavel target"
   ]
  },
  {
   "cell_type": "code",
   "execution_count": 3,
   "metadata": {},
   "outputs": [
    {
     "name": "stdout",
     "output_type": "stream",
     "text": [
      "Probabilidade de Classificacao Normal  = 0.79\n",
      "Probabilidade de Classificacao Fraude = 0.21\n",
      "\n",
      "Valor da entropia da variável Target = 0.74\n"
     ]
    }
   ],
   "source": [
    "# Calcular a Entropia da Varariavel Y\n",
    "\n",
    "\n",
    "#Probabilidades de cada classe da variável Target\n",
    "prob_class_norm = len(dados.loc[(dados['Classificacao'] =='Normal')])/len(dados)\n",
    "prob_class_fraude = len(dados.loc[(dados['Classificacao'] =='Fraude')])/len(dados)\n",
    "\n",
    "\n",
    "#Formula da Entropia na variável target\n",
    "entropia_pai = ((-prob_class_norm*np.log2(prob_class_norm)-(prob_class_fraude*np.log2(prob_class_fraude))))\n",
    "\n",
    "\n",
    "print(f'Probabilidade de Classificacao Normal  = {round(prob_class_norm,2)}')\n",
    "print(f'Probabilidade de Classificacao Fraude = {round(prob_class_fraude,2)}')\n",
    "\n",
    "print(f'\\nValor da entropia da variável Target = {round(entropia_pai,2)}')\n"
   ]
  },
  {
   "cell_type": "code",
   "execution_count": 4,
   "metadata": {},
   "outputs": [
    {
     "data": {
      "image/png": "[encoded data removed]",
      "text/plain": [
       "<Figure size 432x288 with 1 Axes>"
      ]
     },
     "metadata": {
      "needs_background": "light"
     },
     "output_type": "display_data"
    }
   ],
   "source": [
    "#Histograma\n",
    "plt.hist(dados.Classificacao);"
   ]
  },
  {
   "cell_type": "markdown",
   "metadata": {},
   "source": [
    "**Dados com a classe Normal predominante, entropia baixa**"
   ]
  },
  {
   "cell_type": "markdown",
   "metadata": {},
   "source": [
    "# Cálculo do Índice Gini:"
   ]
  },
  {
   "cell_type": "markdown",
   "metadata": {},
   "source": [
    "## 1° Passo: Calcular as probabilidade de cada classe da variável explicativa:"
   ]
  },
  {
   "cell_type": "markdown",
   "metadata": {},
   "source": [
    "### Variável 'Preço'"
   ]
  },
  {
   "cell_type": "code",
   "execution_count": 5,
   "metadata": {},
   "outputs": [
    {
     "name": "stdout",
     "output_type": "stream",
     "text": [
      "Divisão das classes:\n",
      "\n",
      "Preço entre 3000 a 8000 e fraude = 8\n",
      "Preço entre 3000 a 8000 e Normal = = 10\n",
      "\n",
      "Preço até 3000 e fraude = 0\n",
      "Preço até 3000 e normal = 20\n",
      "\n",
      "Total de amostras= 38\n"
     ]
    }
   ],
   "source": [
    "#Divisão das classes\n",
    "\n",
    "# Variavel Preço (entre 3000 e 8000) VS Target\n",
    "\n",
    "# Quantidade de vezes que a classe fraude aparece na variavel preço da classe 'entre 3000 e 8000'\n",
    "preco_3a8_fraud = len(dados.loc[(dados['preco'] =='entre 3000 e 8000')&(dados['Classificacao']=='Fraude')])\n",
    "# Quantidade de vezes que a classe Normal aparece na variavel preço da classe 'entre 3000 e 8000'\n",
    "preco_3a8_norm = len(dados.loc[(dados['preco'] =='entre 3000 e 8000')&(dados['Classificacao']=='Normal')])\n",
    "\n",
    "\n",
    "# Variavel Preço classe 'ate 3000' VS Target\n",
    "\n",
    "# Quantidade de vezes que a classe fraude aparece na variavel preço da classe 'ate 3000'\n",
    "preco_3_fraud = len(dados.loc[(dados['preco'] =='ate 3000')&(dados['Classificacao']=='Fraude')])\n",
    "# Quantidade de vezes que a classe Normal aparece na variavel preço da classe 'ate 3000'\n",
    "preco_3_norm = len(dados.loc[(dados['preco'] =='ate 3000')&(dados['Classificacao']=='Normal')]) \n",
    "\n",
    "#Total de observações da variável preço\n",
    "total_preco = len(dados)\n",
    "\n",
    "print('Divisão das classes:\\n')\n",
    "print(f'Preço entre 3000 a 8000 e fraude = {preco_3a8_fraud}')\n",
    "print(f'Preço entre 3000 a 8000 e Normal = = {preco_3a8_norm}')\n",
    "print(f'\\nPreço até 3000 e fraude = {preco_3_fraud}')\n",
    "print(f'Preço até 3000 e normal = {preco_3_norm}')\n",
    "print(f'\\nTotal de amostras= {total_preco}')\n"
   ]
  },
  {
   "cell_type": "markdown",
   "metadata": {},
   "source": [
    "## 2° passo cálculo da impureza:\n"
   ]
  },
  {
   "cell_type": "markdown",
   "metadata": {},
   "source": [
    "- **Indice Gini = 1 - (Classe_1 / Classe_1 + Classe_2)² - (Classe_2 / Classe_2 - Classe_1)²**"
   ]
  },
  {
   "cell_type": "code",
   "execution_count": 6,
   "metadata": {},
   "outputs": [
    {
     "name": "stdout",
     "output_type": "stream",
     "text": [
      "Valor da Impureza da variavel Preço > 3000 = 0.49382716049382713\n"
     ]
    }
   ],
   "source": [
    "### Varariavel Preço entre 3000 e 8000\n",
    "\n",
    "impureza_preco_3_8 = (1 - ((preco_3a8_fraud/(preco_3a8_fraud+preco_3a8_norm))**2) - \n",
    "                          ((preco_3a8_norm/(preco_3a8_fraud+preco_3a8_norm))**2))\n",
    "print(f'Valor da Impureza da variavel Preço > 3000 = {impureza_preco_3_8}')"
   ]
  },
  {
   "cell_type": "code",
   "execution_count": 7,
   "metadata": {},
   "outputs": [
    {
     "name": "stdout",
     "output_type": "stream",
     "text": [
      "Valor da Impureza da variavel Preço < 3000 = 0.0\n"
     ]
    }
   ],
   "source": [
    "### Varariavel Preço ate 3000\n",
    "impureza_preco_3 = (1 - ((preco_3_fraud/(preco_3_fraud+preco_3_norm))**2) - \n",
    "                        ((preco_3_norm/(preco_3_norm+preco_3_fraud))**2))\n",
    "print(f'Valor da Impureza da variavel Preço < 3000 = {impureza_preco_3}')"
   ]
  },
  {
   "cell_type": "markdown",
   "metadata": {},
   "source": [
    "## 3° passo calcular o peso de cada classe da variável explicativa"
   ]
  },
  {
   "cell_type": "code",
   "execution_count": 8,
   "metadata": {},
   "outputs": [
    {
     "data": {
      "text/plain": [
       "0.47368421052631576"
      ]
     },
     "execution_count": 8,
     "metadata": {},
     "output_type": "execute_result"
    }
   ],
   "source": [
    "#Tamanho das observações da classe 'entre 3000 e 8000'\n",
    "total_3_8 = len(dados.loc[(dados['preco'] =='entre 3000 e 8000')])\n",
    "\n",
    "#Total de observações\n",
    "total_preco = len(dados)\n",
    "\n",
    "#Formula\n",
    "peso_total_3_8 = total_3_8/total_preco\n",
    "peso_total_3_8\n",
    "\n",
    "\n"
   ]
  },
  {
   "cell_type": "code",
   "execution_count": 9,
   "metadata": {},
   "outputs": [
    {
     "data": {
      "text/plain": [
       "0.5263157894736842"
      ]
     },
     "execution_count": 9,
     "metadata": {},
     "output_type": "execute_result"
    }
   ],
   "source": [
    "#Tamanho das observações da classe 'ate 3000'\n",
    "total_3 = len(dados.loc[(dados['preco'] =='ate 3000')])\n",
    "\n",
    "\n",
    "#Total de observações\n",
    "total_preco = len(dados)\n",
    "\n",
    "#Formula\n",
    "peso_total_3 = total_3/total_preco\n",
    "peso_total_3\n"
   ]
  },
  {
   "cell_type": "markdown",
   "metadata": {},
   "source": [
    "## 4° passo calcular o Índice Gini da variável 'preco'"
   ]
  },
  {
   "cell_type": "markdown",
   "metadata": {},
   "source": [
    "- **impureza de gini = (peso_classe1 * impureza_var_categ1)  + (peso_classe2 * impureza_var_categ2)**"
   ]
  },
  {
   "cell_type": "code",
   "execution_count": 10,
   "metadata": {},
   "outputs": [
    {
     "name": "stdout",
     "output_type": "stream",
     "text": [
      "Impureza de gini da variavel Preço = 0.23 \n"
     ]
    }
   ],
   "source": [
    "#Impureza do indice gini\n",
    "imp_gin_preco = (peso_total_3_8 * impureza_preco_3_8) + (peso_total_3 * impureza_preco_3)\n",
    "\n",
    "imp_gin_preco= round(imp_gin_preco,2);imp_gin_preco\n",
    "print(f'Impureza de gini da variavel Preço = {imp_gin_preco} ')"
   ]
  },
  {
   "cell_type": "markdown",
   "metadata": {},
   "source": [
    "# Cálculo do Índice Gini para variável 'horario':"
   ]
  },
  {
   "cell_type": "markdown",
   "metadata": {},
   "source": [
    "## 1° Passo: Calcular as probabilidade de cada classe da variável explicativa:"
   ]
  },
  {
   "cell_type": "code",
   "execution_count": 11,
   "metadata": {},
   "outputs": [
    {
     "name": "stdout",
     "output_type": "stream",
     "text": [
      "Divisão das classes:\n",
      "\n",
      "Horario Noturno e fraude = 8\n",
      "Horario Noturno e normal = 11\n",
      "\n",
      "Horario Diurno e fraude = 0\n",
      "Horario Diurno e normal = 19\n",
      "\n",
      "Total de amostras = 38\n"
     ]
    }
   ],
   "source": [
    "#Divisão das classes\n",
    "\n",
    "# Variavel Preço Horario Noturno VS Target\n",
    "\n",
    "# Quantidade de vezes que a classe fraude aparece na variavel horario da classe Noturno\n",
    "hor_not_fraud = len(dados.loc[(dados['horario'] =='Noturno')&(dados['Classificacao']=='Fraude')])\n",
    "# Quantidade de vezes que a classe Normal aparece na variavel horario da classe Noturno\n",
    "hor_not_norm = len(dados.loc[(dados['horario'] =='Noturno')&(dados['Classificacao']=='Normal')])\n",
    "\n",
    "# Variavel  Horario Diurno VS Target\n",
    "\n",
    "# Quantidade de vezes que a classe fraude aparece na variavel horario da classe Diurno\n",
    "hor_diu_fraud = len(dados.loc[(dados['horario'] =='Diurno')&(dados['Classificacao']=='Fraude')])\n",
    "# Quantidade de vezes que a classe Normal aparece na variavel horario da classe Diurno\n",
    "hor_diu_norm = len(dados.loc[(dados['horario'] =='Diurno')&(dados['Classificacao']=='Normal')])\n",
    "\n",
    "#Total de observações da variável horario\n",
    "total_horario = len(dados)\n",
    "\n",
    "print('Divisão das classes:\\n')\n",
    "print(f'Horario Noturno e fraude = {hor_not_fraud}')\n",
    "print(f'Horario Noturno e normal = {hor_not_norm}')\n",
    "print(f'\\nHorario Diurno e fraude = {hor_diu_fraud}')\n",
    "print(f'Horario Diurno e normal = {hor_diu_norm}')\n",
    "print(f'\\nTotal de amostras = {total_horario}')"
   ]
  },
  {
   "cell_type": "markdown",
   "metadata": {},
   "source": [
    "## 2° passo cálculo da impureza:\n",
    "\n"
   ]
  },
  {
   "cell_type": "code",
   "execution_count": 12,
   "metadata": {},
   "outputs": [
    {
     "name": "stdout",
     "output_type": "stream",
     "text": [
      "Valor da Impureza da variavel Horario Noturno = 0.488\n"
     ]
    }
   ],
   "source": [
    "#Variável Horario Noturno\n",
    "\n",
    "impureza_hor_not = (1 - ((hor_not_fraud/(hor_not_fraud+hor_not_norm))**2) - \n",
    "                    ((hor_not_norm/(hor_not_norm+hor_not_fraud))**2))\n",
    "\n",
    "print(f'Valor da Impureza da variavel Horario Noturno = {round(impureza_hor_not,3)}')"
   ]
  },
  {
   "cell_type": "code",
   "execution_count": 13,
   "metadata": {},
   "outputs": [
    {
     "name": "stdout",
     "output_type": "stream",
     "text": [
      "Valor da Impureza da variavel Horario Diurno = 0.0\n"
     ]
    }
   ],
   "source": [
    "#Variável Horario Diurno\n",
    "\n",
    "impureza_hor_diur = (1 - ((hor_diu_fraud/(hor_diu_fraud+hor_diu_norm))**2) - \n",
    "                         ((hor_diu_norm/(hor_diu_norm+hor_diu_fraud))**2))\n",
    "\n",
    "print(f'Valor da Impureza da variavel Horario Diurno = {impureza_hor_diur}')"
   ]
  },
  {
   "cell_type": "markdown",
   "metadata": {},
   "source": [
    "## 3° passo calcular o peso de cada classe da variável explicativa"
   ]
  },
  {
   "cell_type": "code",
   "execution_count": 14,
   "metadata": {},
   "outputs": [
    {
     "data": {
      "text/plain": [
       "0.5"
      ]
     },
     "execution_count": 14,
     "metadata": {},
     "output_type": "execute_result"
    }
   ],
   "source": [
    "#Tamanho das observações da Variável Horario classe 'Noturno'\n",
    "total_noturno = len(dados.loc[(dados['horario'] =='Noturno')])\n",
    "\n",
    "#Total de observações\n",
    "total_horario = len(dados)\n",
    "\n",
    "#Formula\n",
    "peso_total_noturno = total_noturno/total_horario\n",
    "peso_total_noturno"
   ]
  },
  {
   "cell_type": "code",
   "execution_count": 15,
   "metadata": {},
   "outputs": [
    {
     "data": {
      "text/plain": [
       "0.5"
      ]
     },
     "execution_count": 15,
     "metadata": {},
     "output_type": "execute_result"
    }
   ],
   "source": [
    "#Tamanho das observações da Variável Horario classe 'Diurno'\n",
    "total_diurno = len(dados.loc[(dados['horario'] =='Diurno')])\n",
    "\n",
    "#Total de observações\n",
    "total_horario = len(dados)\n",
    "\n",
    "#Formula\n",
    "peso_total_diurno = total_diurno/total_horario\n",
    "peso_total_diurno"
   ]
  },
  {
   "cell_type": "markdown",
   "metadata": {},
   "source": [
    "## 4° passo calcular o Índice Gini da variavel 'Horario'"
   ]
  },
  {
   "cell_type": "code",
   "execution_count": 16,
   "metadata": {},
   "outputs": [
    {
     "name": "stdout",
     "output_type": "stream",
     "text": [
      "Impureza de gini da variavel horario = 0.24 \n"
     ]
    }
   ],
   "source": [
    "#Impureza do indice gini\n",
    "imp_gin_horario = (peso_total_noturno * impureza_hor_not) + (peso_total_diurno * impureza_hor_diur)\n",
    "\n",
    "imp_gin_horario= round(imp_gin_horario,2)\n",
    "print(f'Impureza de gini da variavel horario = {imp_gin_horario} ')"
   ]
  },
  {
   "cell_type": "markdown",
   "metadata": {},
   "source": [
    "## Comparar os 2 valores do índice Gini (Preço X Horario)"
   ]
  },
  {
   "cell_type": "code",
   "execution_count": 17,
   "metadata": {},
   "outputs": [
    {
     "name": "stdout",
     "output_type": "stream",
     "text": [
      "Indice Gini Variavel Preço : 0.23\n",
      "Indice Gini Variavel Horario : 0.24\n"
     ]
    }
   ],
   "source": [
    "print(f'Indice Gini Variavel Preço : {imp_gin_preco}')\n",
    "print(f'Indice Gini Variavel Horario : {imp_gin_horario}')\n"
   ]
  },
  {
   "cell_type": "markdown",
   "metadata": {},
   "source": [
    "**Sempre utilizaremos o menor valor de Gini (Menos impuro) para colocar como nó da arvore, portanto escolhemos a variavel preço**"
   ]
  },
  {
   "cell_type": "markdown",
   "metadata": {},
   "source": [
    "## Índice Gini utilizando o algoritimo DecisionTreeClassifier"
   ]
  },
  {
   "cell_type": "code",
   "execution_count": 18,
   "metadata": {},
   "outputs": [
    {
     "data": {
      "text/html": [
       "<div>\n",
       "<style scoped>\n",
       "    .dataframe tbody tr th:only-of-type {\n",
       "        vertical-align: middle;\n",
       "    }\n",
       "\n",
       "    .dataframe tbody tr th {\n",
       "        vertical-align: top;\n",
       "    }\n",
       "\n",
       "    .dataframe thead th {\n",
       "        text-align: right;\n",
       "    }\n",
       "</style>\n",
       "<table border=\"1\" class=\"dataframe\">\n",
       "  <thead>\n",
       "    <tr style=\"text-align: right;\">\n",
       "      <th></th>\n",
       "      <th>preco</th>\n",
       "      <th>horario</th>\n",
       "      <th>Classificacao</th>\n",
       "    </tr>\n",
       "  </thead>\n",
       "  <tbody>\n",
       "    <tr>\n",
       "      <th>0</th>\n",
       "      <td>ate 3000</td>\n",
       "      <td>Noturno</td>\n",
       "      <td>Normal</td>\n",
       "    </tr>\n",
       "    <tr>\n",
       "      <th>1</th>\n",
       "      <td>ate 3000</td>\n",
       "      <td>Noturno</td>\n",
       "      <td>Normal</td>\n",
       "    </tr>\n",
       "    <tr>\n",
       "      <th>2</th>\n",
       "      <td>ate 3000</td>\n",
       "      <td>Noturno</td>\n",
       "      <td>Normal</td>\n",
       "    </tr>\n",
       "    <tr>\n",
       "      <th>3</th>\n",
       "      <td>ate 3000</td>\n",
       "      <td>Noturno</td>\n",
       "      <td>Normal</td>\n",
       "    </tr>\n",
       "    <tr>\n",
       "      <th>4</th>\n",
       "      <td>ate 3000</td>\n",
       "      <td>Noturno</td>\n",
       "      <td>Normal</td>\n",
       "    </tr>\n",
       "  </tbody>\n",
       "</table>\n",
       "</div>"
      ],
      "text/plain": [
       "      preco  horario Classificacao\n",
       "0  ate 3000  Noturno        Normal\n",
       "1  ate 3000  Noturno        Normal\n",
       "2  ate 3000  Noturno        Normal\n",
       "3  ate 3000  Noturno        Normal\n",
       "4  ate 3000  Noturno        Normal"
      ]
     },
     "execution_count": 18,
     "metadata": {},
     "output_type": "execute_result"
    }
   ],
   "source": [
    "# Dataset\n",
    "dados.head()"
   ]
  },
  {
   "cell_type": "markdown",
   "metadata": {},
   "source": [
    "## Transformar as variáveis categóricas em numéricas"
   ]
  },
  {
   "cell_type": "markdown",
   "metadata": {},
   "source": [
    "- **O algoritimo de arvore de decisão funciona melhor com número ao invés de categorias**"
   ]
  },
  {
   "cell_type": "code",
   "execution_count": 19,
   "metadata": {},
   "outputs": [
    {
     "data": {
      "text/html": [
       "<div>\n",
       "<style scoped>\n",
       "    .dataframe tbody tr th:only-of-type {\n",
       "        vertical-align: middle;\n",
       "    }\n",
       "\n",
       "    .dataframe tbody tr th {\n",
       "        vertical-align: top;\n",
       "    }\n",
       "\n",
       "    .dataframe thead th {\n",
       "        text-align: right;\n",
       "    }\n",
       "</style>\n",
       "<table border=\"1\" class=\"dataframe\">\n",
       "  <thead>\n",
       "    <tr style=\"text-align: right;\">\n",
       "      <th></th>\n",
       "      <th>preco</th>\n",
       "      <th>horario</th>\n",
       "    </tr>\n",
       "  </thead>\n",
       "  <tbody>\n",
       "    <tr>\n",
       "      <th>0</th>\n",
       "      <td>0</td>\n",
       "      <td>1</td>\n",
       "    </tr>\n",
       "    <tr>\n",
       "      <th>1</th>\n",
       "      <td>0</td>\n",
       "      <td>1</td>\n",
       "    </tr>\n",
       "    <tr>\n",
       "      <th>2</th>\n",
       "      <td>0</td>\n",
       "      <td>1</td>\n",
       "    </tr>\n",
       "    <tr>\n",
       "      <th>3</th>\n",
       "      <td>0</td>\n",
       "      <td>1</td>\n",
       "    </tr>\n",
       "    <tr>\n",
       "      <th>4</th>\n",
       "      <td>0</td>\n",
       "      <td>1</td>\n",
       "    </tr>\n",
       "  </tbody>\n",
       "</table>\n",
       "</div>"
      ],
      "text/plain": [
       "   preco  horario\n",
       "0      0        1\n",
       "1      0        1\n",
       "2      0        1\n",
       "3      0        1\n",
       "4      0        1"
      ]
     },
     "execution_count": 19,
     "metadata": {},
     "output_type": "execute_result"
    }
   ],
   "source": [
    "from sklearn.tree import DecisionTreeClassifier\n",
    "import warnings\n",
    "warnings.filterwarnings(\"ignore\")\n",
    "from sklearn.preprocessing import LabelEncoder\n",
    "\n",
    "#OrdinalEncoder\n",
    "labelencoder = LabelEncoder()\n",
    "dados['preco'] = labelencoder.fit_transform(dados['preco'])\n",
    "dados['horario'] = labelencoder.fit_transform(dados['horario'])\n",
    "\n",
    "\n",
    "\n",
    "#Separar os dados em x e y\n",
    "x = dados.iloc[:,0:2]\n",
    "y = dados.iloc[:,2]\n",
    "x.head()"
   ]
  },
  {
   "cell_type": "markdown",
   "metadata": {},
   "source": [
    "## Modelagem"
   ]
  },
  {
   "cell_type": "code",
   "execution_count": 20,
   "metadata": {},
   "outputs": [
    {
     "name": "stdout",
     "output_type": "stream",
     "text": [
      "Acurácia do Modelo = 97.37%\n"
     ]
    }
   ],
   "source": [
    "#Modelagem dos dados\n",
    "clf = DecisionTreeClassifier(criterion='gini')\n",
    "modelo = clf.fit(x,y)\n",
    "\n",
    "#Acuracia do modelo\n",
    "acuracia = modelo.score(x,y)\n",
    "print(f'Acurácia do Modelo = {round(acuracia*100,2)}%')"
   ]
  },
  {
   "cell_type": "markdown",
   "metadata": {},
   "source": [
    "## Importância das variáveis Explicativas na variável Target"
   ]
  },
  {
   "cell_type": "code",
   "execution_count": 21,
   "metadata": {},
   "outputs": [
    {
     "name": "stdout",
     "output_type": "stream",
     "text": [
      "Importância das variáveis usando o Algoritimo DecisionTreeClassifier\n",
      "\n",
      "('preco', 0.34)\n",
      "('horario', 0.66)\n"
     ]
    }
   ],
   "source": [
    "print('Importância das variáveis usando o Algoritimo DecisionTreeClassifier\\n')\n",
    "for feature,importancia in zip(x.columns,modelo.feature_importances_):\n",
    "    print(f'{feature, round(importancia ,2)}')"
   ]
  },
  {
   "cell_type": "markdown",
   "metadata": {},
   "source": [
    "**Podemos observar que o melhor índice Gini para o nó da arvore é a variavel Preço, igual calculado anteriormente, porém o valor dos dados está diferente pois o algoritimo usa algumas funções matemáticas melhoradas para calcular a importância da variavel**"
   ]
  },
  {
   "cell_type": "markdown",
   "metadata": {},
   "source": [
    "## Visualizar a árvore de decisão Completa através do gráfico"
   ]
  },
  {
   "cell_type": "code",
   "execution_count": 22,
   "metadata": {},
   "outputs": [
    {
     "data": {
      "image/png": "[encoded data removed]",
      "text/plain": [
       "<Figure size 432x288 with 1 Axes>"
      ]
     },
     "metadata": {
      "needs_background": "light"
     },
     "output_type": "display_data"
    }
   ],
   "source": [
    "#Arvore completa\n",
    "from sklearn import tree\n",
    "tree.plot_tree(modelo,feature_names=x.columns,max_depth=2);"
   ]
  },
  {
   "cell_type": "markdown",
   "metadata": {},
   "source": [
    "**Figura mostra assim como no cálculo da impureza do índice Gini que os dados não são 100% puros, porém apenas 1 dado ficou sem ser explicado**"
   ]
  },
  {
   "cell_type": "markdown",
   "metadata": {},
   "source": [
    "**Também podemos observamos graficamente que quando o preço for menor do que 3000 mil não haverá fraude e precisamos de outra(s) variavel para explicar a variável preço quando ela for maior que 3000 mil, pois ainda faltam 18 dados que não foram explicados**"
   ]
  },
  {
   "cell_type": "markdown",
   "metadata": {},
   "source": [
    "# Conclusão:"
   ]
  },
  {
   "cell_type": "markdown",
   "metadata": {},
   "source": [
    "**Primeiramente calculamos a entropia da variável target e após o cálculo do nó raiz ainda sobrou alguns dados a serem explicados, portanto foi feito novamente o cálculo para saber qual variavel seria o 2° nó , como só temos 2 variáveis neste caso não precisaria do cálculo ,mesmo com o 2° nó os dados não foram 100% explicados, e como não temos mais variáveis o modelo fica sem explicar em 100% uma das classes, porém para conseguir chegar em 100% da explicação dos dados em relação a variável target, teríamos que adicionar outra variavel explicativa , contudo poderíamos ter problemas com overfitting**"
   ]
  }
 ],
 "metadata": {
  "anaconda-cloud": {},
  "kernelspec": {
   "display_name": "Python 3 (ipykernel)",
   "language": "python",
   "name": "python3"
  },
  "language_info": {
   "codemirror_mode": {
    "name": "ipython",
    "version": 3
   },
   "file_extension": ".py",
   "mimetype": "text/x-python",
   "name": "python",
   "nbconvert_exporter": "python",
   "pygments_lexer": "ipython3",
   "version": "3.9.7"
  }
 },
 "nbformat": 4,
 "nbformat_minor": 1
}
