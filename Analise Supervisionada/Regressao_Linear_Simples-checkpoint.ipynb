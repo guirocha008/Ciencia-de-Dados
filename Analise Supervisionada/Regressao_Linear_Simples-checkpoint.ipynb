{
 "cells": [
  {
   "cell_type": "markdown",
   "metadata": {},
   "source": [
    "$$Conceito:$$\n",
    "    \n",
    "-Modelos Supervisionados, que fazem inferencia ou predição para outras observações não presentes na amostra\n",
    "\n",
    "-Distribuição Normal dos dados\n",
    "\n",
    "$$Criterios:$$\n",
    "\n",
    "-Modelo dos minimos quadrados(OLS) = Somatoria dos erros² (Elimina os negativos) seja a minima possivel\n",
    "\n",
    "-Reta de regressão precisa ter a somatoria dos erros = 0 \n",
    "\n",
    "-Variáveis somente Quantitativas\n",
    "\n",
    "$$Coeficientes:$$\n",
    "\n",
    "-**Intercepto (𝛼)** = Constante do modelo \n",
    "\n",
    "-**Beta (𝛽)** = Coeficiente angular do modelo\n",
    "\n",
    "-**u**= Termo de erro\n",
    "\n"
   ]
  },
  {
   "cell_type": "markdown",
   "metadata": {},
   "source": [
    "# Objetivo: Criar um modelo de regressão linear simples"
   ]
  },
  {
   "cell_type": "code",
   "execution_count": 2,
   "metadata": {},
   "outputs": [],
   "source": [
    "# Carregando Bibliotecas Python\n",
    "import numpy as np\n",
    "import pandas as pd\n",
    "import matplotlib.pyplot as plt\n",
    "import matplotlib as mpl\n",
    "import seaborn as sns\n",
    "import warnings\n",
    "warnings.filterwarnings(\"ignore\")\n",
    "%matplotlib inline \n",
    "import statsmodels.api as sm"
   ]
  },
  {
   "cell_type": "markdown",
   "metadata": {},
   "source": [
    "# Banco de dados "
   ]
  },
  {
   "cell_type": "code",
   "execution_count": 3,
   "metadata": {},
   "outputs": [
    {
     "data": {
      "text/html": [
       "<div>\n",
       "<style scoped>\n",
       "    .dataframe tbody tr th:only-of-type {\n",
       "        vertical-align: middle;\n",
       "    }\n",
       "\n",
       "    .dataframe tbody tr th {\n",
       "        vertical-align: top;\n",
       "    }\n",
       "\n",
       "    .dataframe thead th {\n",
       "        text-align: right;\n",
       "    }\n",
       "</style>\n",
       "<table border=\"1\" class=\"dataframe\">\n",
       "  <thead>\n",
       "    <tr style=\"text-align: right;\">\n",
       "      <th></th>\n",
       "      <th>Tempo (Y)</th>\n",
       "      <th>Distância (X)</th>\n",
       "    </tr>\n",
       "  </thead>\n",
       "  <tbody>\n",
       "    <tr>\n",
       "      <th>0</th>\n",
       "      <td>15</td>\n",
       "      <td>8</td>\n",
       "    </tr>\n",
       "    <tr>\n",
       "      <th>1</th>\n",
       "      <td>20</td>\n",
       "      <td>6</td>\n",
       "    </tr>\n",
       "    <tr>\n",
       "      <th>2</th>\n",
       "      <td>20</td>\n",
       "      <td>15</td>\n",
       "    </tr>\n",
       "    <tr>\n",
       "      <th>3</th>\n",
       "      <td>40</td>\n",
       "      <td>20</td>\n",
       "    </tr>\n",
       "    <tr>\n",
       "      <th>4</th>\n",
       "      <td>50</td>\n",
       "      <td>25</td>\n",
       "    </tr>\n",
       "    <tr>\n",
       "      <th>5</th>\n",
       "      <td>25</td>\n",
       "      <td>11</td>\n",
       "    </tr>\n",
       "    <tr>\n",
       "      <th>6</th>\n",
       "      <td>10</td>\n",
       "      <td>5</td>\n",
       "    </tr>\n",
       "    <tr>\n",
       "      <th>7</th>\n",
       "      <td>55</td>\n",
       "      <td>32</td>\n",
       "    </tr>\n",
       "    <tr>\n",
       "      <th>8</th>\n",
       "      <td>35</td>\n",
       "      <td>28</td>\n",
       "    </tr>\n",
       "    <tr>\n",
       "      <th>9</th>\n",
       "      <td>30</td>\n",
       "      <td>20</td>\n",
       "    </tr>\n",
       "  </tbody>\n",
       "</table>\n",
       "</div>"
      ],
      "text/plain": [
       "   Tempo (Y)  Distância (X)\n",
       "0         15              8\n",
       "1         20              6\n",
       "2         20             15\n",
       "3         40             20\n",
       "4         50             25\n",
       "5         25             11\n",
       "6         10              5\n",
       "7         55             32\n",
       "8         35             28\n",
       "9         30             20"
      ]
     },
     "execution_count": 3,
     "metadata": {},
     "output_type": "execute_result"
    }
   ],
   "source": [
    "#Base de dados\n",
    "dados = pd.read_csv('tempdist.csv',encoding='latin-1',sep=';')\n",
    "dados"
   ]
  },
  {
   "cell_type": "markdown",
   "metadata": {},
   "source": [
    "**Tabela com 10 observações e 2 variáveis**"
   ]
  },
  {
   "cell_type": "code",
   "execution_count": 4,
   "metadata": {},
   "outputs": [
    {
     "name": "stdout",
     "output_type": "stream",
     "text": [
      "<class 'pandas.core.frame.DataFrame'>\n",
      "RangeIndex: 10 entries, 0 to 9\n",
      "Data columns (total 2 columns):\n",
      " #   Column         Non-Null Count  Dtype\n",
      "---  ------         --------------  -----\n",
      " 0   Tempo (Y)      10 non-null     int64\n",
      " 1   Distância (X)  10 non-null     int64\n",
      "dtypes: int64(2)\n",
      "memory usage: 288.0 bytes\n"
     ]
    }
   ],
   "source": [
    "#Info da tabela\n",
    "dados.info()"
   ]
  },
  {
   "cell_type": "markdown",
   "metadata": {},
   "source": [
    "**Somente variáveis quantitativas**"
   ]
  },
  {
   "cell_type": "code",
   "execution_count": 5,
   "metadata": {},
   "outputs": [
    {
     "data": {
      "text/html": [
       "<div>\n",
       "<style scoped>\n",
       "    .dataframe tbody tr th:only-of-type {\n",
       "        vertical-align: middle;\n",
       "    }\n",
       "\n",
       "    .dataframe tbody tr th {\n",
       "        vertical-align: top;\n",
       "    }\n",
       "\n",
       "    .dataframe thead th {\n",
       "        text-align: right;\n",
       "    }\n",
       "</style>\n",
       "<table border=\"1\" class=\"dataframe\">\n",
       "  <thead>\n",
       "    <tr style=\"text-align: right;\">\n",
       "      <th></th>\n",
       "      <th>Tempo (Y)</th>\n",
       "      <th>Distância (X)</th>\n",
       "    </tr>\n",
       "  </thead>\n",
       "  <tbody>\n",
       "    <tr>\n",
       "      <th>count</th>\n",
       "      <td>10.00000</td>\n",
       "      <td>10.000000</td>\n",
       "    </tr>\n",
       "    <tr>\n",
       "      <th>mean</th>\n",
       "      <td>30.00000</td>\n",
       "      <td>17.000000</td>\n",
       "    </tr>\n",
       "    <tr>\n",
       "      <th>std</th>\n",
       "      <td>14.90712</td>\n",
       "      <td>9.510228</td>\n",
       "    </tr>\n",
       "    <tr>\n",
       "      <th>min</th>\n",
       "      <td>10.00000</td>\n",
       "      <td>5.000000</td>\n",
       "    </tr>\n",
       "    <tr>\n",
       "      <th>25%</th>\n",
       "      <td>20.00000</td>\n",
       "      <td>8.750000</td>\n",
       "    </tr>\n",
       "    <tr>\n",
       "      <th>50%</th>\n",
       "      <td>27.50000</td>\n",
       "      <td>17.500000</td>\n",
       "    </tr>\n",
       "    <tr>\n",
       "      <th>75%</th>\n",
       "      <td>38.75000</td>\n",
       "      <td>23.750000</td>\n",
       "    </tr>\n",
       "    <tr>\n",
       "      <th>max</th>\n",
       "      <td>55.00000</td>\n",
       "      <td>32.000000</td>\n",
       "    </tr>\n",
       "  </tbody>\n",
       "</table>\n",
       "</div>"
      ],
      "text/plain": [
       "       Tempo (Y)  Distância (X)\n",
       "count   10.00000      10.000000\n",
       "mean    30.00000      17.000000\n",
       "std     14.90712       9.510228\n",
       "min     10.00000       5.000000\n",
       "25%     20.00000       8.750000\n",
       "50%     27.50000      17.500000\n",
       "75%     38.75000      23.750000\n",
       "max     55.00000      32.000000"
      ]
     },
     "execution_count": 5,
     "metadata": {},
     "output_type": "execute_result"
    }
   ],
   "source": [
    "#Descrição dos dados\n",
    "dados.describe()"
   ]
  },
  {
   "cell_type": "code",
   "execution_count": 6,
   "metadata": {},
   "outputs": [
    {
     "data": {
      "image/png": "[encoded data removed]",
      "text/plain": [
       "<Figure size 432x288 with 1 Axes>"
      ]
     },
     "metadata": {
      "needs_background": "light"
     },
     "output_type": "display_data"
    }
   ],
   "source": [
    "# GRÁFICO DE DISPERSÃO\n",
    "plt.scatter(x=dados['Distância (X)'] ,y =dados['Tempo (Y)']);"
   ]
  },
  {
   "cell_type": "markdown",
   "metadata": {},
   "source": [
    "**Note que parece haver uma correlação positiva entre a variável explicativa e a variável target, vamos confirmar a analise fazendo uma regressão linar simples**"
   ]
  },
  {
   "cell_type": "markdown",
   "metadata": {},
   "source": [
    "# Modelagem de uma regressão linear simples"
   ]
  },
  {
   "cell_type": "code",
   "execution_count": 7,
   "metadata": {},
   "outputs": [],
   "source": [
    "#Separar as variáveis X e Y\n",
    "x=dados['Distância (X)'] \n",
    "y =dados['Tempo (Y)']"
   ]
  },
  {
   "cell_type": "code",
   "execution_count": 8,
   "metadata": {},
   "outputs": [
    {
     "data": {
      "text/html": [
       "<table class=\"simpletable\">\n",
       "<caption>OLS Regression Results</caption>\n",
       "<tr>\n",
       "  <th>Dep. Variable:</th>        <td>Tempo (Y)</td>    <th>  R-squared:         </th> <td>   0.819</td>\n",
       "</tr>\n",
       "<tr>\n",
       "  <th>Model:</th>                   <td>OLS</td>       <th>  Adj. R-squared:    </th> <td>   0.797</td>\n",
       "</tr>\n",
       "<tr>\n",
       "  <th>Method:</th>             <td>Least Squares</td>  <th>  F-statistic:       </th> <td>   36.30</td>\n",
       "</tr>\n",
       "<tr>\n",
       "  <th>Date:</th>             <td>Tue, 15 Mar 2022</td> <th>  Prob (F-statistic):</th> <td>0.000314</td>\n",
       "</tr>\n",
       "<tr>\n",
       "  <th>Time:</th>                 <td>10:39:44</td>     <th>  Log-Likelihood:    </th> <td> -32.123</td>\n",
       "</tr>\n",
       "<tr>\n",
       "  <th>No. Observations:</th>      <td>    10</td>      <th>  AIC:               </th> <td>   68.25</td>\n",
       "</tr>\n",
       "<tr>\n",
       "  <th>Df Residuals:</th>          <td>     8</td>      <th>  BIC:               </th> <td>   68.85</td>\n",
       "</tr>\n",
       "<tr>\n",
       "  <th>Df Model:</th>              <td>     1</td>      <th>                     </th>     <td> </td>   \n",
       "</tr>\n",
       "<tr>\n",
       "  <th>Covariance Type:</th>      <td>nonrobust</td>    <th>                     </th>     <td> </td>   \n",
       "</tr>\n",
       "</table>\n",
       "<table class=\"simpletable\">\n",
       "<tr>\n",
       "        <td></td>           <th>coef</th>     <th>std err</th>      <th>t</th>      <th>P>|t|</th>  <th>[0.025</th>    <th>0.975]</th>  \n",
       "</tr>\n",
       "<tr>\n",
       "  <th>const</th>         <td>    5.8784</td> <td>    4.532</td> <td>    1.297</td> <td> 0.231</td> <td>   -4.573</td> <td>   16.330</td>\n",
       "</tr>\n",
       "<tr>\n",
       "  <th>Distância (X)</th> <td>    1.4189</td> <td>    0.235</td> <td>    6.025</td> <td> 0.000</td> <td>    0.876</td> <td>    1.962</td>\n",
       "</tr>\n",
       "</table>\n",
       "<table class=\"simpletable\">\n",
       "<tr>\n",
       "  <th>Omnibus:</th>       <td> 1.016</td> <th>  Durbin-Watson:     </th> <td>   2.099</td>\n",
       "</tr>\n",
       "<tr>\n",
       "  <th>Prob(Omnibus):</th> <td> 0.602</td> <th>  Jarque-Bera (JB):  </th> <td>   0.694</td>\n",
       "</tr>\n",
       "<tr>\n",
       "  <th>Skew:</th>          <td>-0.262</td> <th>  Prob(JB):          </th> <td>   0.707</td>\n",
       "</tr>\n",
       "<tr>\n",
       "  <th>Kurtosis:</th>      <td> 1.820</td> <th>  Cond. No.          </th> <td>    41.1</td>\n",
       "</tr>\n",
       "</table><br/><br/>Notes:<br/>[1] Standard Errors assume that the covariance matrix of the errors is correctly specified."
      ],
      "text/plain": [
       "<class 'statsmodels.iolib.summary.Summary'>\n",
       "\"\"\"\n",
       "                            OLS Regression Results                            \n",
       "==============================================================================\n",
       "Dep. Variable:              Tempo (Y)   R-squared:                       0.819\n",
       "Model:                            OLS   Adj. R-squared:                  0.797\n",
       "Method:                 Least Squares   F-statistic:                     36.30\n",
       "Date:                Tue, 15 Mar 2022   Prob (F-statistic):           0.000314\n",
       "Time:                        10:39:44   Log-Likelihood:                -32.123\n",
       "No. Observations:                  10   AIC:                             68.25\n",
       "Df Residuals:                       8   BIC:                             68.85\n",
       "Df Model:                           1                                         \n",
       "Covariance Type:            nonrobust                                         \n",
       "=================================================================================\n",
       "                    coef    std err          t      P>|t|      [0.025      0.975]\n",
       "---------------------------------------------------------------------------------\n",
       "const             5.8784      4.532      1.297      0.231      -4.573      16.330\n",
       "Distância (X)     1.4189      0.235      6.025      0.000       0.876       1.962\n",
       "==============================================================================\n",
       "Omnibus:                        1.016   Durbin-Watson:                   2.099\n",
       "Prob(Omnibus):                  0.602   Jarque-Bera (JB):                0.694\n",
       "Skew:                          -0.262   Prob(JB):                        0.707\n",
       "Kurtosis:                       1.820   Cond. No.                         41.1\n",
       "==============================================================================\n",
       "\n",
       "Notes:\n",
       "[1] Standard Errors assume that the covariance matrix of the errors is correctly specified.\n",
       "\"\"\""
      ]
     },
     "execution_count": 8,
     "metadata": {},
     "output_type": "execute_result"
    }
   ],
   "source": [
    "#Criar o modelo\n",
    "modelo_coeangular = sm.OLS(y,x) #Somente o Coeficiente angular\n",
    "x_interc = sm.add_constant(x) # Somente o Intercept\n",
    "modelo = sm.OLS(y,x_interc) # funçao com os 2 coeficientes,(Primeiro o y depois o x)\n",
    "resultado = modelo.fit() # Treinar o modelo\n",
    "resultado.summary() # Verificar os dados do modelo"
   ]
  },
  {
   "cell_type": "markdown",
   "metadata": {},
   "source": [
    "**R-squared(R²)** = Indica em forma de porcentagem o quanto da variável Dependente(y) é explicada atráves da variável Explicativas(X)**\n",
    "\n",
    "**F-statistic:** = Permite analisar se pelo menos um dos b’s é estatisticamente significante para a explicação do comportamento de Y\n",
    "\n",
    "**Df Residuals:** = São os graus de liberdade, o calculo se dá através do numero de observações do dataframe menos o numero de parametros do algoritimo, o numero também representa o maximo de variáveis explicativas eu posso ter em meu modelo**\n",
    "\n",
    "**Teste t:** = Verifica de forma individual se a variável é estatisticamente significante para a explicação do comportamento de Y"
   ]
  },
  {
   "cell_type": "markdown",
   "metadata": {},
   "source": [
    "## Calculo do R²"
   ]
  },
  {
   "cell_type": "code",
   "execution_count": 31,
   "metadata": {},
   "outputs": [
    {
     "data": {
      "text/plain": [
       "30.0"
      ]
     },
     "execution_count": 31,
     "metadata": {},
     "output_type": "execute_result"
    }
   ],
   "source": [
    "#Media dos dados da variavel target \n",
    "media_dados = np.mean(y)\n",
    "media_dados"
   ]
  },
  {
   "cell_type": "code",
   "execution_count": 32,
   "metadata": {},
   "outputs": [
    {
     "data": {
      "text/plain": [
       "0    17.229730\n",
       "1    14.391892\n",
       "2    27.162162\n",
       "3    34.256757\n",
       "4    41.351351\n",
       "5    21.486486\n",
       "6    12.972973\n",
       "7    51.283784\n",
       "8    45.608108\n",
       "9    34.256757\n",
       "dtype: float64"
      ]
     },
     "execution_count": 32,
     "metadata": {},
     "output_type": "execute_result"
    }
   ],
   "source": [
    "# Previsao do modelo\n",
    "fitted = resultado.fittedvalues\n",
    "dados['fitted'] = fitted\n",
    "fitted"
   ]
  },
  {
   "cell_type": "code",
   "execution_count": 33,
   "metadata": {},
   "outputs": [
    {
     "name": "stdout",
     "output_type": "stream",
     "text": [
      "0    -2.229730\n",
      "1     5.608108\n",
      "2    -7.162162\n",
      "3     5.743243\n",
      "4     8.648649\n",
      "5     3.513514\n",
      "6    -2.972973\n",
      "7     3.716216\n",
      "8   -10.608108\n",
      "9    -4.256757\n",
      "dtype: float64\n",
      "\n",
      "Soma dos Erros: 0.0\n"
     ]
    }
   ],
   "source": [
    "#Erro do modelo\n",
    "dados['Erro'] = resultado.resid\n",
    "print(resultado.resid)\n",
    "print(f'\\nSoma dos Erros: {round(sum(resultado.resid),2)}')"
   ]
  },
  {
   "cell_type": "markdown",
   "metadata": {},
   "source": [
    "**Diferença entre o valor previsto e o valor real, soma dos valores precisa ser 0**"
   ]
  },
  {
   "cell_type": "code",
   "execution_count": 34,
   "metadata": {},
   "outputs": [
    {
     "data": {
      "text/plain": [
       "361.1486486486486"
      ]
     },
     "execution_count": 34,
     "metadata": {},
     "output_type": "execute_result"
    }
   ],
   "source": [
    "#Soma dos erro do modelo²(SQE)\n",
    "dados['SQE'] = resultado.resid**2\n",
    "SQE = sum(resultado.resid**2)\n",
    "SQE"
   ]
  },
  {
   "cell_type": "markdown",
   "metadata": {},
   "source": [
    "**Soma dos erros do modelo ao quadrado para eliminar os valores negativos**"
   ]
  },
  {
   "cell_type": "code",
   "execution_count": 35,
   "metadata": {},
   "outputs": [
    {
     "data": {
      "text/plain": [
       "1638.8513513513515"
      ]
     },
     "execution_count": 35,
     "metadata": {},
     "output_type": "execute_result"
    }
   ],
   "source": [
    "# (Modelo previsto - modelo medio)² \n",
    "SQM = (media_dados - fitted)**2\n",
    "dados['SQM'] = SQM\n",
    "SQM = sum(SQM)\n",
    "\n",
    "#Ou\n",
    "\n",
    "resultado.mse_model"
   ]
  },
  {
   "cell_type": "markdown",
   "metadata": {},
   "source": [
    "**Diferença entre a media dos dados menos a previsão do modelo ao quadrado**"
   ]
  },
  {
   "cell_type": "code",
   "execution_count": 36,
   "metadata": {},
   "outputs": [
    {
     "data": {
      "text/plain": [
       "0.8194256756756758"
      ]
     },
     "execution_count": 36,
     "metadata": {},
     "output_type": "execute_result"
    }
   ],
   "source": [
    "#R²\n",
    "r2 = SQM/(SQM+SQE)\n",
    "r2"
   ]
  },
  {
   "cell_type": "markdown",
   "metadata": {},
   "source": [
    "**Note que as variáveis X explicam 81% da variável Y, portanto 19% restante são explicadas por variáveis não presentes na amostra**"
   ]
  },
  {
   "cell_type": "markdown",
   "metadata": {},
   "source": [
    "## Calculo do F de Fisher-Snedecor"
   ]
  },
  {
   "cell_type": "code",
   "execution_count": 15,
   "metadata": {},
   "outputs": [
    {
     "data": {
      "text/plain": [
       "36.303086997193674"
      ]
     },
     "execution_count": 15,
     "metadata": {},
     "output_type": "execute_result"
    }
   ],
   "source": [
    "#Calculo do F de Fisher-Snedecor\n",
    "K = len(resultado.cov_params()) #Numero de parametros do modelo\n",
    "n = len(dados) #Numero de observações da base de dados\n",
    "\n",
    "F = (SQM/(K-1))/(SQE/(n-K))\n",
    "F\n"
   ]
  },
  {
   "cell_type": "code",
   "execution_count": 16,
   "metadata": {},
   "outputs": [
    {
     "data": {
      "text/plain": [
       "0.0003144488029083235"
      ]
     },
     "execution_count": 16,
     "metadata": {},
     "output_type": "execute_result"
    }
   ],
   "source": [
    "#P_Valor do calculo do F de Fisher-Snedecor\n",
    "resultado.f_pvalue"
   ]
  },
  {
   "cell_type": "markdown",
   "metadata": {},
   "source": [
    "**Como o P_valor do calculo da estatistica F é menor que 0.05, concluimos que pelo menos 1 coeficiente Beta é estatisticamente significante, diferente de 0, portanto há modelo**"
   ]
  },
  {
   "cell_type": "markdown",
   "metadata": {},
   "source": [
    "## Teste t"
   ]
  },
  {
   "cell_type": "code",
   "execution_count": 17,
   "metadata": {},
   "outputs": [
    {
     "data": {
      "text/plain": [
       "const            0.230788\n",
       "Distância (X)    0.000314\n",
       "dtype: float64"
      ]
     },
     "execution_count": 17,
     "metadata": {},
     "output_type": "execute_result"
    }
   ],
   "source": [
    "resultado.pvalues"
   ]
  },
  {
   "cell_type": "markdown",
   "metadata": {},
   "source": [
    "**Sabemos que a variável Distancia é estatisticamente significante, e podemos verificar que o intercepto não, porém nunca devemos elimina-lo independente do seu nivel de significancia**  "
   ]
  },
  {
   "cell_type": "code",
   "execution_count": 18,
   "metadata": {},
   "outputs": [
    {
     "data": {
      "image/png": "[encoded data removed]",
      "text/plain": [
       "<Figure size 432x432 with 3 Axes>"
      ]
     },
     "metadata": {
      "needs_background": "light"
     },
     "output_type": "display_data"
    }
   ],
   "source": [
    "# GRÁFICO DE DISPERSÃO\n",
    "ax=sns.jointplot(x=dados['Distância (X)'] ,y =dados['Tempo (Y)'],kind='reg' )"
   ]
  },
  {
   "cell_type": "markdown",
   "metadata": {},
   "source": [
    "**Analisando o grafico de dispersão com a reta da regressão linear, percebemos que realmente a variável X explica o comportamento da variável Y**"
   ]
  },
  {
   "cell_type": "code",
   "execution_count": 37,
   "metadata": {},
   "outputs": [
    {
     "data": {
      "text/html": [
       "<div>\n",
       "<style scoped>\n",
       "    .dataframe tbody tr th:only-of-type {\n",
       "        vertical-align: middle;\n",
       "    }\n",
       "\n",
       "    .dataframe tbody tr th {\n",
       "        vertical-align: top;\n",
       "    }\n",
       "\n",
       "    .dataframe thead th {\n",
       "        text-align: right;\n",
       "    }\n",
       "</style>\n",
       "<table border=\"1\" class=\"dataframe\">\n",
       "  <thead>\n",
       "    <tr style=\"text-align: right;\">\n",
       "      <th></th>\n",
       "      <th>Tempo (Y)</th>\n",
       "      <th>Distância (X)</th>\n",
       "      <th>fitted</th>\n",
       "      <th>Erro</th>\n",
       "      <th>SQE</th>\n",
       "      <th>SQM</th>\n",
       "    </tr>\n",
       "  </thead>\n",
       "  <tbody>\n",
       "    <tr>\n",
       "      <th>0</th>\n",
       "      <td>15</td>\n",
       "      <td>8</td>\n",
       "      <td>17.229730</td>\n",
       "      <td>-2.229730</td>\n",
       "      <td>4.971695</td>\n",
       "      <td>163.079803</td>\n",
       "    </tr>\n",
       "    <tr>\n",
       "      <th>1</th>\n",
       "      <td>20</td>\n",
       "      <td>6</td>\n",
       "      <td>14.391892</td>\n",
       "      <td>5.608108</td>\n",
       "      <td>31.450877</td>\n",
       "      <td>243.613039</td>\n",
       "    </tr>\n",
       "    <tr>\n",
       "      <th>2</th>\n",
       "      <td>20</td>\n",
       "      <td>15</td>\n",
       "      <td>27.162162</td>\n",
       "      <td>-7.162162</td>\n",
       "      <td>51.296567</td>\n",
       "      <td>8.053324</td>\n",
       "    </tr>\n",
       "    <tr>\n",
       "      <th>3</th>\n",
       "      <td>40</td>\n",
       "      <td>20</td>\n",
       "      <td>34.256757</td>\n",
       "      <td>5.743243</td>\n",
       "      <td>32.984843</td>\n",
       "      <td>18.119978</td>\n",
       "    </tr>\n",
       "    <tr>\n",
       "      <th>4</th>\n",
       "      <td>50</td>\n",
       "      <td>25</td>\n",
       "      <td>41.351351</td>\n",
       "      <td>8.648649</td>\n",
       "      <td>74.799123</td>\n",
       "      <td>128.853178</td>\n",
       "    </tr>\n",
       "    <tr>\n",
       "      <th>5</th>\n",
       "      <td>25</td>\n",
       "      <td>11</td>\n",
       "      <td>21.486486</td>\n",
       "      <td>3.513514</td>\n",
       "      <td>12.344777</td>\n",
       "      <td>72.479912</td>\n",
       "    </tr>\n",
       "    <tr>\n",
       "      <th>6</th>\n",
       "      <td>10</td>\n",
       "      <td>5</td>\n",
       "      <td>12.972973</td>\n",
       "      <td>-2.972973</td>\n",
       "      <td>8.838568</td>\n",
       "      <td>289.919649</td>\n",
       "    </tr>\n",
       "    <tr>\n",
       "      <th>7</th>\n",
       "      <td>55</td>\n",
       "      <td>32</td>\n",
       "      <td>51.283784</td>\n",
       "      <td>3.716216</td>\n",
       "      <td>13.810263</td>\n",
       "      <td>452.999452</td>\n",
       "    </tr>\n",
       "    <tr>\n",
       "      <th>8</th>\n",
       "      <td>35</td>\n",
       "      <td>28</td>\n",
       "      <td>45.608108</td>\n",
       "      <td>-10.608108</td>\n",
       "      <td>112.531958</td>\n",
       "      <td>243.613039</td>\n",
       "    </tr>\n",
       "    <tr>\n",
       "      <th>9</th>\n",
       "      <td>30</td>\n",
       "      <td>20</td>\n",
       "      <td>34.256757</td>\n",
       "      <td>-4.256757</td>\n",
       "      <td>18.119978</td>\n",
       "      <td>18.119978</td>\n",
       "    </tr>\n",
       "  </tbody>\n",
       "</table>\n",
       "</div>"
      ],
      "text/plain": [
       "   Tempo (Y)  Distância (X)     fitted       Erro         SQE         SQM\n",
       "0         15              8  17.229730  -2.229730    4.971695  163.079803\n",
       "1         20              6  14.391892   5.608108   31.450877  243.613039\n",
       "2         20             15  27.162162  -7.162162   51.296567    8.053324\n",
       "3         40             20  34.256757   5.743243   32.984843   18.119978\n",
       "4         50             25  41.351351   8.648649   74.799123  128.853178\n",
       "5         25             11  21.486486   3.513514   12.344777   72.479912\n",
       "6         10              5  12.972973  -2.972973    8.838568  289.919649\n",
       "7         55             32  51.283784   3.716216   13.810263  452.999452\n",
       "8         35             28  45.608108 -10.608108  112.531958  243.613039\n",
       "9         30             20  34.256757  -4.256757   18.119978   18.119978"
      ]
     },
     "execution_count": 37,
     "metadata": {},
     "output_type": "execute_result"
    }
   ],
   "source": [
    "#Banco de dados Completo \n",
    "dados"
   ]
  },
  {
   "cell_type": "code",
   "execution_count": null,
   "metadata": {},
   "outputs": [],
   "source": []
  }
 ],
 "metadata": {
  "anaconda-cloud": {},
  "kernelspec": {
   "display_name": "Python 3 (ipykernel)",
   "language": "python",
   "name": "python3"
  },
  "language_info": {
   "codemirror_mode": {
    "name": "ipython",
    "version": 3
   },
   "file_extension": ".py",
   "mimetype": "text/x-python",
   "name": "python",
   "nbconvert_exporter": "python",
   "pygments_lexer": "ipython3",
   "version": "3.9.7"
  }
 },
 "nbformat": 4,
 "nbformat_minor": 1
}
