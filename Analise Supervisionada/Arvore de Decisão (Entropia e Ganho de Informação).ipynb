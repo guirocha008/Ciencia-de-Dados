{
 "cells": [
  {
   "cell_type": "markdown",
   "metadata": {},
   "source": [
    "$$CONCEITO:$$\n",
    "\n",
    "- **Os atributos no topo da árvore são os mais importantes para descrever o comportamento da variável Target, seguindo uma ordem de importância**\n",
    "\n",
    "\n",
    "- **Para construir uma árvore de decisão usamos 2 formulas importantes: Entropia e Ganho de informação, com elas você consegue descobrir quais variáveis são mais importantes para explicar a variável Target**\n",
    "\n",
    "\n",
    "**Entropia:** \n",
    "\n",
    "- Quanto mais equilibrado os dados estiverem da variavel Target mais distante do valor 0 vai estar, lembrando que caso a arvore de decisão acerte todos os dados a entropia será 0\n",
    "\n",
    "\n",
    "**Ganho da Informação:** \n",
    "    \n",
    "- Importância do atributo na base de dados, é o quanto da entropia da variavel Y será diminuída com o acréscimo de um variavel Explicativa\n",
    "\n",
    "\n",
    "**Pruning:** \n",
    "    \n",
    "- Eliminar alguns Nós da Árvore para evitar Overfitting\n",
    "\n",
    "\n",
    "**Regra de Parada:**\n",
    "\n",
    "- Os parâmetros usados para regra de parada são Índice Gini , Qui-Quadrado ,Ganho de Informação e Redução de Variância\n",
    "\n",
    "\n",
    "**Tipo de Distribuição:**\n",
    "\n",
    "- Não Paramétrica\n",
    "\n",
    "\n",
    "\n",
    "**Passo a Passo para construção da Árvore de decisão com ganho de informação:**\n",
    "\n",
    "- **1° Calcular o valor da entropia da variável target**\n",
    "\n",
    "- **2° Calcular o valor do ganho de informação da variável explicativa**\n",
    "\n",
    "- **3° Verificar qual variável explicativa tem o maior ganho de informação para ser o nó raiz da árvore**\n",
    "\n",
    "- **4° Após a escolha do nó raiz, repetir o passo 1 a 3 e escolher a próxima variável explicativa**\n",
    "\n",
    "\n",
    "- **Obs:** Podem haver variáveis que não tem valor significante no ganho de informação, podendo ficar de fora da árvore\n",
    "\n",
    "\n",
    "\n"
   ]
  },
  {
   "cell_type": "code",
   "execution_count": 1,
   "metadata": {},
   "outputs": [],
   "source": [
    "#Pacotes\n",
    "import numpy as np\n",
    "import pandas as pd\n",
    "from sklearn.model_selection import train_test_split\n",
    "from sklearn import metrics"
   ]
  },
  {
   "cell_type": "markdown",
   "metadata": {},
   "source": [
    "# Carregar Banco de dados"
   ]
  },
  {
   "cell_type": "code",
   "execution_count": 2,
   "metadata": {},
   "outputs": [
    {
     "data": {
      "text/html": [
       "<div>\n",
       "<style scoped>\n",
       "    .dataframe tbody tr th:only-of-type {\n",
       "        vertical-align: middle;\n",
       "    }\n",
       "\n",
       "    .dataframe tbody tr th {\n",
       "        vertical-align: top;\n",
       "    }\n",
       "\n",
       "    .dataframe thead th {\n",
       "        text-align: right;\n",
       "    }\n",
       "</style>\n",
       "<table border=\"1\" class=\"dataframe\">\n",
       "  <thead>\n",
       "    <tr style=\"text-align: right;\">\n",
       "      <th></th>\n",
       "      <th>Historico_Credito</th>\n",
       "      <th>Divida</th>\n",
       "      <th>Garantias</th>\n",
       "      <th>Renda_Anual</th>\n",
       "      <th>Risco</th>\n",
       "    </tr>\n",
       "  </thead>\n",
       "  <tbody>\n",
       "    <tr>\n",
       "      <th>0</th>\n",
       "      <td>Ruim</td>\n",
       "      <td>Alta</td>\n",
       "      <td>Nenhuma</td>\n",
       "      <td>&lt;15.000</td>\n",
       "      <td>Alto</td>\n",
       "    </tr>\n",
       "    <tr>\n",
       "      <th>1</th>\n",
       "      <td>Desconhecida</td>\n",
       "      <td>Alta</td>\n",
       "      <td>Nenhuma</td>\n",
       "      <td>&gt;=15.000 a &lt;=35.000</td>\n",
       "      <td>Alto</td>\n",
       "    </tr>\n",
       "    <tr>\n",
       "      <th>2</th>\n",
       "      <td>Desconhecida</td>\n",
       "      <td>Baixa</td>\n",
       "      <td>Nenhuma</td>\n",
       "      <td>&gt;=15.000 a &lt;=35.000</td>\n",
       "      <td>Moderado</td>\n",
       "    </tr>\n",
       "    <tr>\n",
       "      <th>3</th>\n",
       "      <td>Desconhecida</td>\n",
       "      <td>Baixa</td>\n",
       "      <td>Nenhuma</td>\n",
       "      <td>&gt;35.000</td>\n",
       "      <td>Alto</td>\n",
       "    </tr>\n",
       "    <tr>\n",
       "      <th>4</th>\n",
       "      <td>Desconhecida</td>\n",
       "      <td>Baixa</td>\n",
       "      <td>Nenhuma</td>\n",
       "      <td>&gt;35.000</td>\n",
       "      <td>Baixo</td>\n",
       "    </tr>\n",
       "    <tr>\n",
       "      <th>5</th>\n",
       "      <td>Desconhecida</td>\n",
       "      <td>Baixa</td>\n",
       "      <td>Adequada</td>\n",
       "      <td>&gt;35.000</td>\n",
       "      <td>Baixo</td>\n",
       "    </tr>\n",
       "    <tr>\n",
       "      <th>6</th>\n",
       "      <td>Ruim</td>\n",
       "      <td>Baixa</td>\n",
       "      <td>Nenhuma</td>\n",
       "      <td>&lt;15.000</td>\n",
       "      <td>Alto</td>\n",
       "    </tr>\n",
       "    <tr>\n",
       "      <th>7</th>\n",
       "      <td>Ruim</td>\n",
       "      <td>Baixa</td>\n",
       "      <td>Adequada</td>\n",
       "      <td>&gt;35.000</td>\n",
       "      <td>Moderado</td>\n",
       "    </tr>\n",
       "    <tr>\n",
       "      <th>8</th>\n",
       "      <td>Boa</td>\n",
       "      <td>Baixa</td>\n",
       "      <td>Nenhuma</td>\n",
       "      <td>&gt;35.000</td>\n",
       "      <td>Baixo</td>\n",
       "    </tr>\n",
       "    <tr>\n",
       "      <th>9</th>\n",
       "      <td>Boa</td>\n",
       "      <td>Alta</td>\n",
       "      <td>Adequada</td>\n",
       "      <td>&gt;35.000</td>\n",
       "      <td>Baixo</td>\n",
       "    </tr>\n",
       "    <tr>\n",
       "      <th>10</th>\n",
       "      <td>Boa</td>\n",
       "      <td>Alta</td>\n",
       "      <td>Nenhuma</td>\n",
       "      <td>&lt;15.000</td>\n",
       "      <td>Alto</td>\n",
       "    </tr>\n",
       "    <tr>\n",
       "      <th>11</th>\n",
       "      <td>Boa</td>\n",
       "      <td>Alta</td>\n",
       "      <td>Nenhuma</td>\n",
       "      <td>&gt;=15.000 a &lt;=35.000</td>\n",
       "      <td>Moderado</td>\n",
       "    </tr>\n",
       "    <tr>\n",
       "      <th>12</th>\n",
       "      <td>Boa</td>\n",
       "      <td>Alta</td>\n",
       "      <td>Nenhuma</td>\n",
       "      <td>&gt;35.000</td>\n",
       "      <td>Baixo</td>\n",
       "    </tr>\n",
       "    <tr>\n",
       "      <th>13</th>\n",
       "      <td>Ruim</td>\n",
       "      <td>Alta</td>\n",
       "      <td>Nenhuma</td>\n",
       "      <td>&gt;=15.000 a &lt;=35.000</td>\n",
       "      <td>Alto</td>\n",
       "    </tr>\n",
       "  </tbody>\n",
       "</table>\n",
       "</div>"
      ],
      "text/plain": [
       "   Historico_Credito Divida Garantias          Renda_Anual     Risco\n",
       "0               Ruim   Alta   Nenhuma              <15.000      Alto\n",
       "1       Desconhecida   Alta   Nenhuma  >=15.000 a <=35.000      Alto\n",
       "2       Desconhecida  Baixa   Nenhuma  >=15.000 a <=35.000  Moderado\n",
       "3       Desconhecida  Baixa   Nenhuma              >35.000      Alto\n",
       "4       Desconhecida  Baixa   Nenhuma              >35.000     Baixo\n",
       "5       Desconhecida  Baixa  Adequada              >35.000     Baixo\n",
       "6               Ruim  Baixa   Nenhuma              <15.000      Alto\n",
       "7               Ruim  Baixa  Adequada              >35.000  Moderado\n",
       "8                Boa  Baixa   Nenhuma              >35.000     Baixo\n",
       "9                Boa   Alta  Adequada              >35.000     Baixo\n",
       "10               Boa   Alta   Nenhuma              <15.000      Alto\n",
       "11               Boa   Alta   Nenhuma  >=15.000 a <=35.000  Moderado\n",
       "12               Boa   Alta   Nenhuma              >35.000     Baixo\n",
       "13              Ruim   Alta   Nenhuma  >=15.000 a <=35.000      Alto"
      ]
     },
     "execution_count": 2,
     "metadata": {},
     "output_type": "execute_result"
    }
   ],
   "source": [
    "# Carregando o dataset\n",
    "dados = pd.read_csv('decisao.csv',encoding='latin1',sep=';')\n",
    "dados"
   ]
  },
  {
   "cell_type": "markdown",
   "metadata": {},
   "source": [
    "**São 14 observações e 5 variáveis**"
   ]
  },
  {
   "cell_type": "markdown",
   "metadata": {},
   "source": [
    "# Calcular a entropia da varáriavel target"
   ]
  },
  {
   "cell_type": "code",
   "execution_count": 3,
   "metadata": {},
   "outputs": [
    {
     "name": "stdout",
     "output_type": "stream",
     "text": [
      "Probabilidade de Risco Alto  = 0.43\n",
      "Probabilidade de Risco Moderado = 0.21\n",
      "Probabilidade de Risco Baixo = 0.36\n",
      "\n",
      "Valor da entropia da variavel Target = 1.53\n"
     ]
    }
   ],
   "source": [
    "# Calcular a Entropia da Varariavel Y\n",
    "\n",
    "\n",
    "#Probabilidades de cada classe da variável Target\n",
    "prob_Risco_alto = len(dados.loc[(dados['Risco'] =='Alto')])/len(dados)\n",
    "prob_Risco_mod = len(dados.loc[(dados['Risco'] =='Moderado')])/len(dados)\n",
    "prob_Risco_baixo = len(dados.loc[(dados['Risco'] =='Baixo')])/len(dados)\n",
    "\n",
    "#Formula da Entropia na variável target\n",
    "entropia_pai = ((-prob_Risco_alto*np.log2(prob_Risco_alto)-(prob_Risco_mod*np.log2(prob_Risco_mod))-\n",
    "                 (prob_Risco_baixo*np.log2(prob_Risco_baixo))))\n",
    "\n",
    "\n",
    "print(f'Probabilidade de Risco Alto  = {round(prob_Risco_alto,2)}')\n",
    "print(f'Probabilidade de Risco Moderado = {round(prob_Risco_mod,2)}')\n",
    "print(f'Probabilidade de Risco Baixo = {round(prob_Risco_baixo,2)}\\n')\n",
    "print(f'Valor da entropia da variavel Target = {round(entropia_pai,2)}')\n"
   ]
  },
  {
   "cell_type": "code",
   "execution_count": 44,
   "metadata": {},
   "outputs": [
    {
     "data": {
      "image/png": "[encoded data removed]",
      "text/plain": [
       "<Figure size 432x288 with 1 Axes>"
      ]
     },
     "metadata": {
      "needs_background": "light"
     },
     "output_type": "display_data"
    }
   ],
   "source": [
    "#Histograma\n",
    "plt.hist(dados.Risco);"
   ]
  },
  {
   "cell_type": "markdown",
   "metadata": {},
   "source": [
    "**Observe que o valor das classes são equilibrados, portanto a entropia é alta**"
   ]
  },
  {
   "cell_type": "markdown",
   "metadata": {},
   "source": [
    "# Ganho de Informação:"
   ]
  },
  {
   "cell_type": "markdown",
   "metadata": {},
   "source": [
    "**Para diminuir a entropia nos dados da variavel target, temos que adicionar variáveis explicativas e calcular seu ganho de informação, a variável que tiver o maior valor será o nó raiz e ficará no topo da árvore, seguindo a ordem até o nó folha que deixará os dados mais puro possível (Entropia próxima de 0)**"
   ]
  },
  {
   "cell_type": "markdown",
   "metadata": {},
   "source": [
    "## 1° Passo: Calcular as probabilidade de cada classe da variável explicativa"
   ]
  },
  {
   "cell_type": "markdown",
   "metadata": {},
   "source": [
    "### Variável Historico_Credito"
   ]
  },
  {
   "cell_type": "markdown",
   "metadata": {},
   "source": [
    "- **Temos 3 classes na variável 'Historico_Credito': Boa, Desconhecida, Ruim**\n",
    "\n",
    "\n",
    "- **Cada classe da variável 'Historico_Credito', pode ser de uma classe da variável Target, precisamos calcular as probabilidades de cada classe**\n",
    "\n",
    "\n",
    "\n"
   ]
  },
  {
   "cell_type": "code",
   "execution_count": 4,
   "metadata": {},
   "outputs": [
    {
     "name": "stdout",
     "output_type": "stream",
     "text": [
      "Medidas Calculadas em Porcentagem (%)\n",
      "\n",
      "Historico_Credito Desconhecida e Risco Alto = 40.0%\n",
      "Historico_Credito Desconhecida e Risco Moderado = 20.0%\n",
      "Historico_Credito Desconhecida e Risco Baixo = 40.0%\n",
      "\n",
      "Historico_Credito Ruim e Risco Alto = 75.0%\n",
      "Historico_Credito Ruim e Risco Moderado = 25.0%\n",
      "Historico_Credito Ruim e Risco Baixo = 0.0%\n",
      "\n",
      "Historico_Credito Boa e Risco Alto = 20.0%\n",
      "Historico_Credito Boa e Risco Moderado = 20.0%\n",
      "Historico_Credito Boa e Risco Baixo = 60.0%\n",
      "\n",
      "Total de observações = 14 \n"
     ]
    }
   ],
   "source": [
    "#Calculo das probabilidade\n",
    "\n",
    "\n",
    "#Risco quando o Historico_Credito for Desconhecida\n",
    "\n",
    "#Total\n",
    "total_Desc = len(dados.loc[(dados['Historico_Credito'] =='Desconhecida')])\n",
    "\n",
    "#alto\n",
    "Hist_Desc_alto = (len(dados.loc[(dados['Historico_Credito'] =='Desconhecida')&(dados['Risco']=='Alto')]))/total_Desc\n",
    "#Moderado\n",
    "Hist_Desc_mod = (len(dados.loc[(dados['Historico_Credito'] =='Desconhecida')&(dados['Risco']=='Moderado')]))/total_Desc\n",
    "#Baixo\n",
    "Hist_Desc_Baixo = (len(dados.loc[(dados['Historico_Credito'] =='Desconhecida')&(dados['Risco']=='Baixo')]))/total_Desc\n",
    "\n",
    "\n",
    "#Risco quando o Historico_Credito for Ruim\n",
    "\n",
    "#Total\n",
    "total_ruim = len(dados.loc[(dados['Historico_Credito'] =='Ruim')])\n",
    "\n",
    "#Alto\n",
    "Hist_ruim_alto = (len(dados.loc[(dados['Historico_Credito'] =='Ruim')&(dados['Risco']=='Alto')]))/total_ruim\n",
    "#Moderado\n",
    "Hist_ruim_mod = (len(dados.loc[(dados['Historico_Credito'] =='Ruim')&(dados['Risco']=='Moderado')]))/total_ruim\n",
    "#Baixo\n",
    "Hist_ruim_Baixo = (len(dados.loc[(dados['Historico_Credito'] =='Ruim')&(dados['Risco']=='Baixo')]))/total_ruim\n",
    "\n",
    "#Risco quando o Historico_Credito for Boa\n",
    "#Total\n",
    "total_boa = len(dados.loc[(dados['Historico_Credito'] =='Boa')])\n",
    "\n",
    "#Alto\n",
    "Hist_boa_alto = (len(dados.loc[(dados['Historico_Credito'] =='Boa')&(dados['Risco']=='Alto')]))/total_boa\n",
    "#Moderado\n",
    "Hist_boa_mod = (len(dados.loc[(dados['Historico_Credito'] =='Boa')&(dados['Risco']=='Moderado')]))/total_boa\n",
    "#Baixo\n",
    "Hist_boa_Baixo = (len(dados.loc[(dados['Historico_Credito'] =='Boa')&(dados['Risco']=='Baixo')]))/total_boa\n",
    "\n",
    "#total de dados Var Historico_Credito\n",
    "total_Historico_Credito = len(dados)\n",
    "\n",
    "print('Medidas Calculadas em Porcentagem (%)\\n')\n",
    "\n",
    "print(f'Historico_Credito Desconhecida e Risco Alto = {round(Hist_Desc_alto*100,1)}%')\n",
    "print(f'Historico_Credito Desconhecida e Risco Moderado = {round(Hist_Desc_mod*100,1)}%')\n",
    "print(f'Historico_Credito Desconhecida e Risco Baixo = {round(Hist_Desc_Baixo*100,1)}%\\n')\n",
    "\n",
    "print(f'Historico_Credito Ruim e Risco Alto = {round(Hist_ruim_alto*100,1)}%')\n",
    "print(f'Historico_Credito Ruim e Risco Moderado = {round(Hist_ruim_mod*100,1)}%')\n",
    "print(f'Historico_Credito Ruim e Risco Baixo = {round(Hist_ruim_Baixo*100,1)}%\\n')\n",
    "\n",
    "print(f'Historico_Credito Boa e Risco Alto = {round(Hist_boa_alto*100,1)}%')\n",
    "print(f'Historico_Credito Boa e Risco Moderado = {round(Hist_boa_mod*100,1)}%')\n",
    "print(f'Historico_Credito Boa e Risco Baixo = {round(Hist_boa_Baixo*100,1)}%\\n')\n",
    "\n",
    "print(f'Total de observações = {total_Historico_Credito} ')"
   ]
  },
  {
   "cell_type": "markdown",
   "metadata": {},
   "source": [
    "## 2° passo calcular o valor da Entropia_filho"
   ]
  },
  {
   "cell_type": "markdown",
   "metadata": {},
   "source": [
    "- **Após calcular as probabilidades de cada classe da variável explicativa X target, temos que fazer o cálculo da entropia**"
   ]
  },
  {
   "cell_type": "code",
   "execution_count": 5,
   "metadata": {},
   "outputs": [
    {
     "data": {
      "text/plain": [
       "1.5219280948873621"
      ]
     },
     "execution_count": 5,
     "metadata": {},
     "output_type": "execute_result"
    }
   ],
   "source": [
    "#Variável Historico_Credito - classe = Desconhecida\n",
    "\n",
    "entropia_Hist_Desc = (-Hist_Desc_alto*np.log2(Hist_Desc_alto)-(Hist_Desc_mod*np.log2(Hist_Desc_mod))-\n",
    "                      (Hist_Desc_Baixo*np.log2(Hist_Desc_Baixo)))\n",
    "entropia_Hist_Desc"
   ]
  },
  {
   "cell_type": "code",
   "execution_count": 6,
   "metadata": {},
   "outputs": [
    {
     "data": {
      "text/plain": [
       "nan"
      ]
     },
     "execution_count": 6,
     "metadata": {},
     "output_type": "execute_result"
    }
   ],
   "source": [
    "#Variável Historico_Credito - classe = Ruim\n",
    "import warnings\n",
    "warnings.filterwarnings('ignore')\n",
    "\n",
    "entropia_Hist_ruim = (-Hist_ruim_alto*np.log2(Hist_ruim_alto)-(Hist_ruim_mod*np.log2(Hist_ruim_mod))-\n",
    "                      (Hist_ruim_Baixo*np.log2(Hist_ruim_Baixo)))\n",
    "entropia_Hist_ruim"
   ]
  },
  {
   "cell_type": "markdown",
   "metadata": {},
   "source": [
    "**Note que quando uma das classes da variavel explicativa contém 0 de probabilidade o resultado é NaN, pois qualquer número dividido ou multiplicado por 0 não existe, portanto precisamos deixar o número 0 com um valor simbólico ou retirar a variavel da formula**"
   ]
  },
  {
   "cell_type": "code",
   "execution_count": 7,
   "metadata": {},
   "outputs": [
    {
     "data": {
      "text/plain": [
       "0.8126068956970878"
      ]
     },
     "execution_count": 7,
     "metadata": {},
     "output_type": "execute_result"
    }
   ],
   "source": [
    "#Multiplicando a classe ruim por um valor simbolico\n",
    "Hist_ruim_Baixo = 0.0001\n",
    "\n",
    "#Calcular a entropia novamente\n",
    "entropia_Hist_ruim = (-Hist_ruim_alto*np.log2(Hist_ruim_alto)-(Hist_ruim_mod*np.log2(Hist_ruim_mod))-\n",
    "                      (Hist_ruim_Baixo*np.log2(Hist_ruim_Baixo)))\n",
    "entropia_Hist_ruim"
   ]
  },
  {
   "cell_type": "markdown",
   "metadata": {},
   "source": [
    "**Multiplicando a classe ruim da variável Historico_Credito por um valor simbólico**"
   ]
  },
  {
   "cell_type": "code",
   "execution_count": 8,
   "metadata": {},
   "outputs": [
    {
     "data": {
      "text/plain": [
       "1.3709505944546687"
      ]
     },
     "execution_count": 8,
     "metadata": {},
     "output_type": "execute_result"
    }
   ],
   "source": [
    "#Variável Historico_Credito - classe = Boa\n",
    "#Entropia_filho = Observaçoes da Var X\n",
    "entropia_Hist_boa = (-Hist_boa_alto*np.log2(Hist_boa_alto)-(Hist_boa_mod*np.log2(Hist_boa_mod))-\n",
    "                     (Hist_boa_Baixo*np.log2(Hist_boa_Baixo)))\n",
    "entropia_Hist_boa"
   ]
  },
  {
   "cell_type": "markdown",
   "metadata": {},
   "source": [
    "## 3° passo calcular o peso de cada classe da variável explicativa"
   ]
  },
  {
   "cell_type": "markdown",
   "metadata": {},
   "source": [
    "- **Peso_filho = num_amostra_filho/ num_amostra_pai**"
   ]
  },
  {
   "cell_type": "code",
   "execution_count": 9,
   "metadata": {},
   "outputs": [
    {
     "name": "stdout",
     "output_type": "stream",
     "text": [
      "Peso da variavel Historico de credito com o atribuito Desconhecida = 0.35714285714285715\n"
     ]
    }
   ],
   "source": [
    "#Variável Historico_Credito - classe = Desconhecida\n",
    "\n",
    "peso_hist_desc = len(dados.loc[(dados['Historico_Credito'] =='Desconhecida')]) / len(dados)\n",
    "print(f'Peso da variavel Historico de credito com o atribuito Desconhecida = {peso_hist_desc}')"
   ]
  },
  {
   "cell_type": "code",
   "execution_count": 10,
   "metadata": {},
   "outputs": [
    {
     "name": "stdout",
     "output_type": "stream",
     "text": [
      "Peso da variavel Historico de credito com o atribuito Ruim = 0.2857142857142857\n"
     ]
    }
   ],
   "source": [
    "#Variável Historico_Credito - classe = Ruim\n",
    "\n",
    "peso_hist_ruim = len(dados.loc[(dados['Historico_Credito'] =='Ruim')]) / len(dados)\n",
    "print(f'Peso da variavel Historico de credito com o atribuito Ruim = {peso_hist_ruim}')"
   ]
  },
  {
   "cell_type": "code",
   "execution_count": 11,
   "metadata": {},
   "outputs": [
    {
     "name": "stdout",
     "output_type": "stream",
     "text": [
      "Peso da variavel Historico de credito com o atribuito Boa = 0.35714285714285715\n"
     ]
    }
   ],
   "source": [
    "#Variável Historico_Credito - classe = Boa\n",
    "\n",
    "peso_hist_boa = len(dados.loc[(dados['Historico_Credito'] =='Boa')]) / len(dados)\n",
    "print(f'Peso da variavel Historico de credito com o atribuito Boa = {peso_hist_boa}')"
   ]
  },
  {
   "cell_type": "markdown",
   "metadata": {},
   "source": [
    "## 4° passo calcular o Ganho de Informação da variavel Historico_Credito"
   ]
  },
  {
   "cell_type": "code",
   "execution_count": 12,
   "metadata": {},
   "outputs": [
    {
     "name": "stdout",
     "output_type": "stream",
     "text": [
      "Ganho de Informação: 0.265\n"
     ]
    }
   ],
   "source": [
    "ganho_inf_hist = (entropia_pai-(peso_hist_desc *entropia_Hist_Desc+\n",
    "                                peso_hist_ruim *entropia_Hist_ruim+\n",
    "                                peso_hist_boa*entropia_Hist_boa))\n",
    "print(f'Ganho de Informação: {round(ganho_inf_hist,3)}')"
   ]
  },
  {
   "cell_type": "markdown",
   "metadata": {},
   "source": [
    "**Com a entropia da variavel Target sendo 1.53, quando adicionamos a variavel 'Historico de Credito' conseguimos diminuir a entropia em 0.26**"
   ]
  },
  {
   "cell_type": "markdown",
   "metadata": {},
   "source": [
    "# Ganho de Informação da variável 'Garantias':"
   ]
  },
  {
   "cell_type": "markdown",
   "metadata": {},
   "source": [
    "## 1° Passo: Calcular as probabilidades de cada classe da variável explicativa"
   ]
  },
  {
   "cell_type": "code",
   "execution_count": 13,
   "metadata": {},
   "outputs": [
    {
     "name": "stdout",
     "output_type": "stream",
     "text": [
      "Medidas Calculadas em Porcentagem (%)\n",
      "\n",
      "Nenhuma Garantias e Risco Alto = 54.5%\n",
      "Nenhuma Garantias e Risco Moderado = 18.2%\n",
      "Nenhuma Garantias e Risco Baixo = 27.3%\n",
      "\n",
      "Garantia adequada e Risco Alto = 0.0%\n",
      "Garantia adequada e Risco Moderado = 33.3%\n",
      "Garantia adequada e Risco Baixo = 66.7%\n",
      "\n",
      "Total = 14 \n"
     ]
    }
   ],
   "source": [
    "#Calculo das probabilidade\n",
    "\n",
    "#Risco quando a Garantias for Nenhuma\n",
    "#Total\n",
    "total_nen = len(dados.loc[(dados['Garantias'] =='Nenhuma')])\n",
    "\n",
    "#alto\n",
    "Garant_nen_alto = (len(dados.loc[(dados['Garantias'] =='Nenhuma')&(dados['Risco']=='Alto')]))/total_nen \n",
    "#Moderado\n",
    "Garant_nen_mod = (len(dados.loc[(dados['Garantias'] =='Nenhuma')&(dados['Risco']=='Moderado')]))/total_nen \n",
    "#Baixo\n",
    "Garant_nen_Baixo = (len(dados.loc[(dados['Garantias'] =='Nenhuma')&(dados['Risco']=='Baixo')]))/total_nen \n",
    "\n",
    "\n",
    "#Risco quando a Garantias for Adequada\n",
    "\n",
    "#Total\n",
    "total_adeq = len(dados.loc[(dados['Garantias'] =='Adequada')])\n",
    "\n",
    "#Alto\n",
    "Garant_adeq_alto = (len(dados.loc[(dados['Garantias'] =='Adequada')&(dados['Risco']=='Alto')]))/total_adeq\n",
    "#Moderado\n",
    "Garant_adeq_mod = (len(dados.loc[(dados['Garantias'] =='Adequada')&(dados['Risco']=='Moderado')]))/total_adeq\n",
    "#Baixo\n",
    "Garant_adeq_Baixo = (len(dados.loc[(dados['Garantias'] =='Adequada')&(dados['Risco']=='Baixo')]))/total_adeq\n",
    "\n",
    "\n",
    "#total de dados Var Garantias\n",
    "total_garantias = len(dados)\n",
    "\n",
    "print('Medidas Calculadas em Porcentagem (%)\\n')\n",
    "\n",
    "print(f'Nenhuma Garantias e Risco Alto = {round(Garant_nen_alto*100,1)}%')\n",
    "print(f'Nenhuma Garantias e Risco Moderado = {round(Garant_nen_mod*100,1)}%')\n",
    "print(f'Nenhuma Garantias e Risco Baixo = {round(Garant_nen_Baixo*100,1)}%\\n')\n",
    "\n",
    "print(f'Garantia adequada e Risco Alto = {round(Garant_adeq_alto*100,1)}%')\n",
    "print(f'Garantia adequada e Risco Moderado = {round(Garant_adeq_mod*100,1)}%')\n",
    "print(f'Garantia adequada e Risco Baixo = {round(Garant_adeq_Baixo*100,1)}%\\n')\n",
    "\n",
    "\n",
    "print(f'Total = {total_garantias} ')"
   ]
  },
  {
   "cell_type": "markdown",
   "metadata": {},
   "source": [
    "## 2° passo calcular o valor da Entropia_filho"
   ]
  },
  {
   "cell_type": "code",
   "execution_count": 14,
   "metadata": {},
   "outputs": [
    {
     "data": {
      "text/plain": [
       "1.4353713907745331"
      ]
     },
     "execution_count": 14,
     "metadata": {},
     "output_type": "execute_result"
    }
   ],
   "source": [
    "#Variável Garantia - classe = Nenhuma\n",
    "\n",
    "entropia_Garant_nem = (-Garant_nen_alto*np.log2(Garant_nen_alto)-(Garant_nen_mod*np.log2(Garant_nen_mod))-\n",
    "                       (Garant_nen_Baixo*np.log2(Garant_nen_Baixo)))\n",
    "entropia_Garant_nem"
   ]
  },
  {
   "cell_type": "code",
   "execution_count": 15,
   "metadata": {},
   "outputs": [
    {
     "data": {
      "text/plain": [
       "0.9196246052924445"
      ]
     },
     "execution_count": 15,
     "metadata": {},
     "output_type": "execute_result"
    }
   ],
   "source": [
    "#Variável Garantia - classe = Adequada\n",
    "\n",
    "# Deixar o atributo com um valor minimo para não gerar NaN\n",
    "Garant_adeq_alto = 0.0001\n",
    "\n",
    "entropia_Garant_adeq = (-Garant_adeq_alto*np.log2(Garant_adeq_alto)-(Garant_adeq_mod*np.log2(Garant_adeq_mod))-\n",
    "                        (Garant_adeq_Baixo*np.log2(Garant_adeq_Baixo)))\n",
    "entropia_Garant_adeq"
   ]
  },
  {
   "cell_type": "markdown",
   "metadata": {},
   "source": [
    "## 3° passo calcular o peso de cada classe da variável explicativa"
   ]
  },
  {
   "cell_type": "code",
   "execution_count": 16,
   "metadata": {},
   "outputs": [
    {
     "name": "stdout",
     "output_type": "stream",
     "text": [
      "Peso da variavel Garantia com o atribuito Nenhuma = 0.7857142857142857\n"
     ]
    }
   ],
   "source": [
    "#Variável Garantia - classe = Nenhuma\n",
    "\n",
    "peso_Garant_nen = len(dados.loc[(dados['Garantias'] =='Nenhuma')]) / len(dados)\n",
    "print(f'Peso da variavel Garantia com o atribuito Nenhuma = {peso_Garant_nen}')"
   ]
  },
  {
   "cell_type": "code",
   "execution_count": 17,
   "metadata": {},
   "outputs": [
    {
     "name": "stdout",
     "output_type": "stream",
     "text": [
      "Peso da variavel Garantia com o atribuito Adequada = 0.21428571428571427\n"
     ]
    }
   ],
   "source": [
    "#Variável Garantia - classe = Adequada\n",
    "\n",
    "peso_Garant_adeq = len(dados.loc[(dados['Garantias'] =='Adequada')]) / len(dados)\n",
    "print(f'Peso da variavel Garantia com o atribuito Adequada = {peso_Garant_adeq}')"
   ]
  },
  {
   "cell_type": "markdown",
   "metadata": {},
   "source": [
    "## 4° passo calcular o  Ganho de Informação da variável 'Garantias' "
   ]
  },
  {
   "cell_type": "code",
   "execution_count": 18,
   "metadata": {},
   "outputs": [
    {
     "name": "stdout",
     "output_type": "stream",
     "text": [
      "Ganho de Informação: 0.206\n"
     ]
    }
   ],
   "source": [
    "ganho_inf_gar = entropia_pai-(peso_Garant_nen *entropia_Garant_nem+peso_Garant_adeq *entropia_Garant_adeq )\n",
    "print(f'Ganho de Informação: {round(ganho_inf_gar,3)}')"
   ]
  },
  {
   "cell_type": "markdown",
   "metadata": {},
   "source": [
    "**Com a entropia da variável Target sendo 1.53, quando adicionamos a variavel Garantias conseguimos diminuir a entropia em 0.20**"
   ]
  },
  {
   "cell_type": "markdown",
   "metadata": {},
   "source": [
    "# Ganho de Informação da variável 'Divida':"
   ]
  },
  {
   "cell_type": "code",
   "execution_count": 19,
   "metadata": {},
   "outputs": [
    {
     "name": "stdout",
     "output_type": "stream",
     "text": [
      "Medidas Calculadas em Porcentagem (%)\n",
      "\n",
      "Nenhuma Garantias e Risco Alto = 57.1%\n",
      "Nenhuma Garantias e Risco Moderado = 14.3%\n",
      "Nenhuma Garantias e Risco Baixo = 28.6%\n",
      "\n",
      "Garantia adequada e Risco Alto = 28.6%\n",
      "Garantia adequada e Risco Moderado = 28.6%\n",
      "Garantia adequada e Risco Baixo = 42.9%\n",
      "\n",
      "Total = 14 \n"
     ]
    }
   ],
   "source": [
    "#Calculo das probabilidade\n",
    "\n",
    "#Risco quando a Divida for Alta\n",
    "\n",
    "#Total\n",
    "total_alta= len(dados.loc[(dados['Divida'] =='Alta')])\n",
    "\n",
    "#alto\n",
    "Div_alta_alto = (len(dados.loc[(dados['Divida'] =='Alta')&(dados['Risco']=='Alto')]))/total_alta\n",
    "#Moderado\n",
    "Div_alta_mod = (len(dados.loc[(dados['Divida'] =='Alta')&(dados['Risco']=='Moderado')]))/total_alta \n",
    "#Baixo\n",
    "Div_alta_Baixo = (len(dados.loc[(dados['Divida'] =='Alta')&(dados['Risco']=='Baixo')]))/total_alta\n",
    "\n",
    "\n",
    "#Risco quando a Divida for Baixa\n",
    "\n",
    "#Total\n",
    "total_adeq = len(dados.loc[(dados['Divida'] =='Baixa')])\n",
    "\n",
    "#Alto\n",
    "Div_baixa_alto = (len(dados.loc[(dados['Divida'] =='Baixa')&(dados['Risco']=='Alto')]))/total_adeq\n",
    "#Moderado\n",
    "Div_baixa_mod = (len(dados.loc[(dados['Divida'] =='Baixa')&(dados['Risco']=='Moderado')]))/total_adeq\n",
    "#Baixo\n",
    "Div_baixa_Baixo = (len(dados.loc[(dados['Divida'] =='Baixa')&(dados['Risco']=='Baixo')]))/total_adeq\n",
    "\n",
    "\n",
    "#total de dados Var Divida\n",
    "total_divida = len(dados)\n",
    "\n",
    "print('Medidas Calculadas em Porcentagem (%)\\n')\n",
    "\n",
    "print(f'Nenhuma Garantias e Risco Alto = {round(Div_alta_alto*100,1)}%')\n",
    "print(f'Nenhuma Garantias e Risco Moderado = {round(Div_alta_mod*100,1)}%')\n",
    "print(f'Nenhuma Garantias e Risco Baixo = {round(Div_alta_Baixo*100,1)}%\\n')\n",
    "\n",
    "print(f'Garantia adequada e Risco Alto = {round(Div_baixa_alto*100,1)}%')\n",
    "print(f'Garantia adequada e Risco Moderado = {round(Div_baixa_mod*100,1)}%')\n",
    "print(f'Garantia adequada e Risco Baixo = {round(Div_baixa_Baixo*100,1)}%\\n')\n",
    "\n",
    "\n",
    "print(f'Total = {total_divida} ')"
   ]
  },
  {
   "cell_type": "markdown",
   "metadata": {},
   "source": [
    "## 2° passo calcular o valor da Entropia_filho"
   ]
  },
  {
   "cell_type": "code",
   "execution_count": 20,
   "metadata": {},
   "outputs": [
    {
     "data": {
      "text/plain": [
       "1.38"
      ]
     },
     "execution_count": 20,
     "metadata": {},
     "output_type": "execute_result"
    }
   ],
   "source": [
    "#Variável Divida - classe = Alta\n",
    "\n",
    "entropia_div_alta = ((-Div_alta_alto*np.log2(Div_alta_alto))-(Div_alta_mod*np.log2(Div_alta_mod))-\n",
    "                     (Div_alta_Baixo*np.log2(Div_alta_Baixo)))\n",
    "round(entropia_div_alta,2)"
   ]
  },
  {
   "cell_type": "code",
   "execution_count": 21,
   "metadata": {},
   "outputs": [
    {
     "data": {
      "text/plain": [
       "1.56"
      ]
     },
     "execution_count": 21,
     "metadata": {},
     "output_type": "execute_result"
    }
   ],
   "source": [
    "#Variável Divida - classe = Baixa\n",
    "\n",
    "entropia_div_baixa = (-Div_baixa_alto*np.log2(Div_baixa_alto)-Div_baixa_mod*np.log2(Div_baixa_mod)-\n",
    "                      (Div_baixa_Baixo*np.log2(Div_baixa_Baixo)))\n",
    "round(entropia_div_baixa,2)"
   ]
  },
  {
   "cell_type": "markdown",
   "metadata": {},
   "source": [
    "## 3° passo calcular o peso de cada classe da variável explicativa"
   ]
  },
  {
   "cell_type": "code",
   "execution_count": 22,
   "metadata": {},
   "outputs": [
    {
     "name": "stdout",
     "output_type": "stream",
     "text": [
      "Peso da variavel Divida com o atribuito Alta = 0.5\n"
     ]
    }
   ],
   "source": [
    "#Variável Divida - classe = Alta\n",
    "\n",
    "peso_div_alta = len(dados.loc[(dados['Divida'] =='Alta')]) / len(dados)\n",
    "print(f'Peso da variavel Divida com o atribuito Alta = {peso_div_alta}')"
   ]
  },
  {
   "cell_type": "code",
   "execution_count": 23,
   "metadata": {},
   "outputs": [
    {
     "name": "stdout",
     "output_type": "stream",
     "text": [
      "Peso da variavel Divida com o atribuito Baixa = 0.5\n"
     ]
    }
   ],
   "source": [
    "#Variável Divida - classe = Baixa\n",
    "\n",
    "peso_div_baixa = len(dados.loc[(dados['Divida'] =='Baixa')]) / len(dados)\n",
    "print(f'Peso da variavel Divida com o atribuito Baixa = {peso_div_baixa}')"
   ]
  },
  {
   "cell_type": "markdown",
   "metadata": {},
   "source": [
    "## 4° passo calcular o  Ganho de Informação da variável 'Divida'  "
   ]
  },
  {
   "cell_type": "code",
   "execution_count": 24,
   "metadata": {},
   "outputs": [
    {
     "name": "stdout",
     "output_type": "stream",
     "text": [
      "Ganho de Informação: 0.063\n"
     ]
    }
   ],
   "source": [
    "ganho_inf_divida = entropia_pai-(peso_div_alta *entropia_div_alta+peso_div_baixa *entropia_div_baixa )\n",
    "print(f'Ganho de Informação: {round(ganho_inf_divida,3)}')"
   ]
  },
  {
   "cell_type": "markdown",
   "metadata": {},
   "source": [
    "**Com a entropia da variavel Target sendo 1.53, quando adicionamos a variável Divida conseguimos diminuir a entropia em 0.06**"
   ]
  },
  {
   "cell_type": "markdown",
   "metadata": {},
   "source": [
    "# Ganho de Informação da variável 'Renda Anual':"
   ]
  },
  {
   "cell_type": "code",
   "execution_count": 25,
   "metadata": {},
   "outputs": [
    {
     "name": "stdout",
     "output_type": "stream",
     "text": [
      "Medidas Calculadas em Porcentagem (%)\n",
      "\n",
      "Renda <15.000 e Risco Alto = 100.0%\n",
      "Renda <15.000 e Risco Moderado = 0.0%\n",
      "Renda <15.000 e Risco Baixo = 0.0%\n",
      "\n",
      "Renda >=15.000 a <=35.000 e Risco Alto = 50.0%\n",
      "Renda >=15.000 a <=35.000 e Risco Moderado = 50.0%\n",
      "Renda >=15.000 a <=35.000 e Risco Baixo = 0.0%\n",
      "\n",
      "Renda >35.000 e Risco Alto = 14.3%\n",
      "Renda >35.000 e Risco Moderado = 14.3%\n",
      "Renda >35.000Boa e Risco Baixo = 71.4%\n",
      "\n",
      "Total = 14 \n"
     ]
    }
   ],
   "source": [
    "#Calculo das probabilidade\n",
    "\n",
    "#Risco quando o Renda Anual for <15.000\n",
    "\n",
    "#Total\n",
    "total_rend_15 = len(dados.loc[(dados['Renda_Anual'] =='<15.000')])\n",
    "\n",
    "#alto\n",
    "Rend_15_alto = (len(dados.loc[(dados['Renda_Anual'] =='<15.000')&(dados['Risco']=='Alto')]))/total_rend_15\n",
    "#Moderado\n",
    "Rend_15_mod = (len(dados.loc[(dados['Renda_Anual'] =='<15.000')&(dados['Risco']=='Moderado')]))/total_rend_15\n",
    "#Baixo\n",
    "Rend_15_Baixo = (len(dados.loc[(dados['Renda_Anual'] =='<15.000')&(dados['Risco']=='Baixo')]))/total_rend_15\n",
    "\n",
    "\n",
    "#Risco quando o Renda Anual for >=15.000 a <=35.000\n",
    "\n",
    "#Total\n",
    "total_rend_15_35 = len(dados.loc[(dados['Renda_Anual'] =='>=15.000 a <=35.000')])\n",
    "\n",
    "#Alto\n",
    "Rend_15_35_alto = (len(dados.loc[(dados['Renda_Anual'] =='>=15.000 a <=35.000')&\n",
    "                                 (dados['Risco']=='Alto')]))/total_rend_15_35\n",
    "#Moderado\n",
    "Rend_15_35_mod = (len(dados.loc[(dados['Renda_Anual'] =='>=15.000 a <=35.000')&\n",
    "                                (dados['Risco']=='Moderado')]))/total_rend_15_35\n",
    "#Baixo\n",
    "Rend_15_35_Baixo = (len(dados.loc[(dados['Renda_Anual'] =='>=15.000 a <=35.000')&\n",
    "                                  (dados['Risco']=='Baixo')]))/total_rend_15_35\n",
    "\n",
    "#Risco quando o Renda Anual for >35.000\n",
    "\n",
    "#Total\n",
    "total_rend_35 = len(dados.loc[(dados['Renda_Anual'] =='>35.000')])\n",
    "\n",
    "#Alto\n",
    "Rend_35_alto = (len(dados.loc[(dados['Renda_Anual'] =='>35.000')&(dados['Risco']=='Alto')]))/total_rend_35\n",
    "#Moderado\n",
    "Rend_35_mod = (len(dados.loc[(dados['Renda_Anual'] =='>35.000')&(dados['Risco']=='Moderado')]))/total_rend_35\n",
    "#Baixo\n",
    "Rend_35_Baixo = (len(dados.loc[(dados['Renda_Anual'] =='>35.000')&(dados['Risco']=='Baixo')]))/total_rend_35\n",
    "\n",
    "#total de dados Var Renda Anual\n",
    "total_Renda_anual = len(dados)\n",
    "\n",
    "print('Medidas Calculadas em Porcentagem (%)\\n')\n",
    "\n",
    "print(f'Renda <15.000 e Risco Alto = {round(Rend_15_alto*100,1)}%')\n",
    "print(f'Renda <15.000 e Risco Moderado = {round(Rend_15_mod*100,1)}%')\n",
    "print(f'Renda <15.000 e Risco Baixo = {round(Rend_15_Baixo*100,1)}%\\n')\n",
    "\n",
    "print(f'Renda >=15.000 a <=35.000 e Risco Alto = {round(Rend_15_35_alto*100,1)}%')\n",
    "print(f'Renda >=15.000 a <=35.000 e Risco Moderado = {round(Rend_15_35_mod*100,1)}%')\n",
    "print(f'Renda >=15.000 a <=35.000 e Risco Baixo = {round(Rend_15_35_Baixo*100,1)}%\\n')\n",
    "\n",
    "print(f'Renda >35.000 e Risco Alto = {round(Rend_35_alto*100,1)}%')\n",
    "print(f'Renda >35.000 e Risco Moderado = {round(Rend_35_mod*100,1)}%')\n",
    "print(f'Renda >35.000Boa e Risco Baixo = {round(Rend_35_Baixo*100,1)}%\\n')\n",
    "\n",
    "print(f'Total = {total_Renda_anual} ')"
   ]
  },
  {
   "cell_type": "markdown",
   "metadata": {},
   "source": [
    "## 2° passo calcular o valor da Entropia_filho"
   ]
  },
  {
   "cell_type": "code",
   "execution_count": 26,
   "metadata": {},
   "outputs": [
    {
     "data": {
      "text/plain": [
       "0.0026575424759098898"
      ]
     },
     "execution_count": 26,
     "metadata": {},
     "output_type": "execute_result"
    }
   ],
   "source": [
    "#Variável Renda - classe = (<15.000)\n",
    "\n",
    "# Deixar o atributo com um valor minimo para não gerar NaN\n",
    "Rend_15_mod =0.0001\n",
    "Rend_15_Baixo = 0.0001\n",
    "\n",
    "entropia_renda_15 = (-Rend_15_alto*np.log2(Rend_15_alto)-(Rend_15_mod*np.log2(Rend_15_mod))-\n",
    "                     (Rend_15_Baixo*np.log2(Rend_15_Baixo)))\n",
    "entropia_renda_15 "
   ]
  },
  {
   "cell_type": "code",
   "execution_count": 27,
   "metadata": {},
   "outputs": [
    {
     "data": {
      "text/plain": [
       "1.001328771237955"
      ]
     },
     "execution_count": 27,
     "metadata": {},
     "output_type": "execute_result"
    }
   ],
   "source": [
    "#Variável Renda - classe = (>=15.000 a <=35.000)\n",
    "\n",
    "# Deixar o atributo com um valor minimo para não gerar NaN\n",
    "Rend_15_35_Baixo = 0.0001\n",
    "\n",
    "entropia_renda_15_35 = (-Rend_15_35_alto*np.log2(Rend_15_35_alto)-(Rend_15_35_mod*np.log2(Rend_15_35_mod))-\n",
    "                        (Rend_15_35_Baixo*np.log2(Rend_15_35_Baixo)))\n",
    "entropia_renda_15_35"
   ]
  },
  {
   "cell_type": "code",
   "execution_count": 28,
   "metadata": {},
   "outputs": [
    {
     "data": {
      "text/plain": [
       "1.1488348542809166"
      ]
     },
     "execution_count": 28,
     "metadata": {},
     "output_type": "execute_result"
    }
   ],
   "source": [
    "#Variável Renda - classe = (>35.000)\n",
    "\n",
    "entropia_renda_35 = (-Rend_35_alto*np.log2(Rend_35_alto)-(Rend_35_mod*np.log2(Rend_35_mod))-\n",
    "                     (Rend_35_Baixo*np.log2(Rend_35_Baixo)))\n",
    "entropia_renda_35"
   ]
  },
  {
   "cell_type": "markdown",
   "metadata": {},
   "source": [
    "## 3° passo calcular o peso de cada classe da variável explicativa"
   ]
  },
  {
   "cell_type": "code",
   "execution_count": 29,
   "metadata": {},
   "outputs": [
    {
     "name": "stdout",
     "output_type": "stream",
     "text": [
      "Peso da variavel Renda com o atribuito <15.000 = 0.21428571428571427\n"
     ]
    }
   ],
   "source": [
    "#Variável Renda - classe = (<15.000)\n",
    "\n",
    "peso_renda_baixa = len(dados.loc[(dados['Renda_Anual'] =='<15.000')]) / len(dados)\n",
    "print(f'Peso da variavel Renda com o atribuito <15.000 = {peso_renda_baixa}')"
   ]
  },
  {
   "cell_type": "code",
   "execution_count": 30,
   "metadata": {},
   "outputs": [
    {
     "name": "stdout",
     "output_type": "stream",
     "text": [
      "Peso da variavel Renda com o atribuito >=15.000 a <=35.000 = 0.2857142857142857\n"
     ]
    }
   ],
   "source": [
    "#Variável Renda - classe = (>=15.000 a <=35.000)\n",
    "\n",
    "peso_renda_mod = len(dados.loc[(dados['Renda_Anual'] =='>=15.000 a <=35.000')]) / len(dados)\n",
    "print(f'Peso da variavel Renda com o atribuito >=15.000 a <=35.000 = {peso_renda_mod}')"
   ]
  },
  {
   "cell_type": "code",
   "execution_count": 31,
   "metadata": {},
   "outputs": [
    {
     "name": "stdout",
     "output_type": "stream",
     "text": [
      "Peso da variavel Renda com o atribuito >35.000 = 0.5\n"
     ]
    }
   ],
   "source": [
    "#Variável Renda - classe = (>35.000)\n",
    "\n",
    "peso_renda_alta = len(dados.loc[(dados['Renda_Anual'] =='>35.000')]) / len(dados)\n",
    "print(f'Peso da variavel Renda com o atribuito >35.000 = {peso_renda_alta}')"
   ]
  },
  {
   "cell_type": "markdown",
   "metadata": {},
   "source": [
    "## 4° passo calcular o  Ganho de Informação da variável 'Renda'  "
   ]
  },
  {
   "cell_type": "code",
   "execution_count": 32,
   "metadata": {},
   "outputs": [
    {
     "data": {
      "text/plain": [
       "0.67"
      ]
     },
     "execution_count": 32,
     "metadata": {},
     "output_type": "execute_result"
    }
   ],
   "source": [
    "ganho_inf_renda = (entropia_pai-(peso_renda_baixa *entropia_renda_15+peso_renda_mod *\n",
    "                                 entropia_renda_15_35+peso_renda_alta *entropia_renda_35 ))\n",
    "round(ganho_inf_renda,2)"
   ]
  },
  {
   "cell_type": "markdown",
   "metadata": {},
   "source": [
    "**Com a entropia da variavel Target sendo 1.53, quando adicionamos a variável Renda conseguimos diminuir a entropia em 0.67**"
   ]
  },
  {
   "cell_type": "markdown",
   "metadata": {},
   "source": [
    "# Varificar os ganhos de informações de cada variavel"
   ]
  },
  {
   "cell_type": "code",
   "execution_count": 33,
   "metadata": {},
   "outputs": [
    {
     "name": "stdout",
     "output_type": "stream",
     "text": [
      "Ganho de Informação da Variavel Renda = 0.67\n",
      "Ganho de Informação da Variavel Divida = 0.06\n",
      "Ganho de Informação da Variavel Garantias = 0.21\n",
      "Ganho de Informação da Variavel Hitorico de Credito = 0.27\n"
     ]
    }
   ],
   "source": [
    "print(f'Ganho de Informação da Variavel Renda = {round(ganho_inf_renda,2)}')\n",
    "print(f'Ganho de Informação da Variavel Divida = {round(ganho_inf_divida,2)}')\n",
    "print(f'Ganho de Informação da Variavel Garantias = {round(ganho_inf_gar,2)}')\n",
    "print(f'Ganho de Informação da Variavel Hitorico de Credito = {round(ganho_inf_hist,2)}')"
   ]
  },
  {
   "cell_type": "markdown",
   "metadata": {},
   "source": [
    "**Podemos notar que a variavel 'Renda' é a que mais tem ganho de informação em relação as outras, portanto ela será o nó raiz da arvore de decisão, já a variável 'divida' é praticamente nula o valor do ganho de informação, podendo até mesmo ficar de fora da árvore**"
   ]
  },
  {
   "cell_type": "markdown",
   "metadata": {},
   "source": [
    "# Contruindo a árvore de decisão usando o algoritimo DecisionTreeClassifier"
   ]
  },
  {
   "cell_type": "code",
   "execution_count": 34,
   "metadata": {},
   "outputs": [
    {
     "data": {
      "text/html": [
       "<div>\n",
       "<style scoped>\n",
       "    .dataframe tbody tr th:only-of-type {\n",
       "        vertical-align: middle;\n",
       "    }\n",
       "\n",
       "    .dataframe tbody tr th {\n",
       "        vertical-align: top;\n",
       "    }\n",
       "\n",
       "    .dataframe thead th {\n",
       "        text-align: right;\n",
       "    }\n",
       "</style>\n",
       "<table border=\"1\" class=\"dataframe\">\n",
       "  <thead>\n",
       "    <tr style=\"text-align: right;\">\n",
       "      <th></th>\n",
       "      <th>Historico_Credito</th>\n",
       "      <th>Divida</th>\n",
       "      <th>Garantias</th>\n",
       "      <th>Renda_Anual</th>\n",
       "      <th>Risco</th>\n",
       "    </tr>\n",
       "  </thead>\n",
       "  <tbody>\n",
       "    <tr>\n",
       "      <th>0</th>\n",
       "      <td>Ruim</td>\n",
       "      <td>Alta</td>\n",
       "      <td>Nenhuma</td>\n",
       "      <td>&lt;15.000</td>\n",
       "      <td>Alto</td>\n",
       "    </tr>\n",
       "    <tr>\n",
       "      <th>1</th>\n",
       "      <td>Desconhecida</td>\n",
       "      <td>Alta</td>\n",
       "      <td>Nenhuma</td>\n",
       "      <td>&gt;=15.000 a &lt;=35.000</td>\n",
       "      <td>Alto</td>\n",
       "    </tr>\n",
       "    <tr>\n",
       "      <th>2</th>\n",
       "      <td>Desconhecida</td>\n",
       "      <td>Baixa</td>\n",
       "      <td>Nenhuma</td>\n",
       "      <td>&gt;=15.000 a &lt;=35.000</td>\n",
       "      <td>Moderado</td>\n",
       "    </tr>\n",
       "    <tr>\n",
       "      <th>3</th>\n",
       "      <td>Desconhecida</td>\n",
       "      <td>Baixa</td>\n",
       "      <td>Nenhuma</td>\n",
       "      <td>&gt;35.000</td>\n",
       "      <td>Alto</td>\n",
       "    </tr>\n",
       "    <tr>\n",
       "      <th>4</th>\n",
       "      <td>Desconhecida</td>\n",
       "      <td>Baixa</td>\n",
       "      <td>Nenhuma</td>\n",
       "      <td>&gt;35.000</td>\n",
       "      <td>Baixo</td>\n",
       "    </tr>\n",
       "    <tr>\n",
       "      <th>5</th>\n",
       "      <td>Desconhecida</td>\n",
       "      <td>Baixa</td>\n",
       "      <td>Adequada</td>\n",
       "      <td>&gt;35.000</td>\n",
       "      <td>Baixo</td>\n",
       "    </tr>\n",
       "    <tr>\n",
       "      <th>6</th>\n",
       "      <td>Ruim</td>\n",
       "      <td>Baixa</td>\n",
       "      <td>Nenhuma</td>\n",
       "      <td>&lt;15.000</td>\n",
       "      <td>Alto</td>\n",
       "    </tr>\n",
       "    <tr>\n",
       "      <th>7</th>\n",
       "      <td>Ruim</td>\n",
       "      <td>Baixa</td>\n",
       "      <td>Adequada</td>\n",
       "      <td>&gt;35.000</td>\n",
       "      <td>Moderado</td>\n",
       "    </tr>\n",
       "    <tr>\n",
       "      <th>8</th>\n",
       "      <td>Boa</td>\n",
       "      <td>Baixa</td>\n",
       "      <td>Nenhuma</td>\n",
       "      <td>&gt;35.000</td>\n",
       "      <td>Baixo</td>\n",
       "    </tr>\n",
       "    <tr>\n",
       "      <th>9</th>\n",
       "      <td>Boa</td>\n",
       "      <td>Alta</td>\n",
       "      <td>Adequada</td>\n",
       "      <td>&gt;35.000</td>\n",
       "      <td>Baixo</td>\n",
       "    </tr>\n",
       "    <tr>\n",
       "      <th>10</th>\n",
       "      <td>Boa</td>\n",
       "      <td>Alta</td>\n",
       "      <td>Nenhuma</td>\n",
       "      <td>&lt;15.000</td>\n",
       "      <td>Alto</td>\n",
       "    </tr>\n",
       "    <tr>\n",
       "      <th>11</th>\n",
       "      <td>Boa</td>\n",
       "      <td>Alta</td>\n",
       "      <td>Nenhuma</td>\n",
       "      <td>&gt;=15.000 a &lt;=35.000</td>\n",
       "      <td>Moderado</td>\n",
       "    </tr>\n",
       "    <tr>\n",
       "      <th>12</th>\n",
       "      <td>Boa</td>\n",
       "      <td>Alta</td>\n",
       "      <td>Nenhuma</td>\n",
       "      <td>&gt;35.000</td>\n",
       "      <td>Baixo</td>\n",
       "    </tr>\n",
       "    <tr>\n",
       "      <th>13</th>\n",
       "      <td>Ruim</td>\n",
       "      <td>Alta</td>\n",
       "      <td>Nenhuma</td>\n",
       "      <td>&gt;=15.000 a &lt;=35.000</td>\n",
       "      <td>Alto</td>\n",
       "    </tr>\n",
       "  </tbody>\n",
       "</table>\n",
       "</div>"
      ],
      "text/plain": [
       "   Historico_Credito Divida Garantias          Renda_Anual     Risco\n",
       "0               Ruim   Alta   Nenhuma              <15.000      Alto\n",
       "1       Desconhecida   Alta   Nenhuma  >=15.000 a <=35.000      Alto\n",
       "2       Desconhecida  Baixa   Nenhuma  >=15.000 a <=35.000  Moderado\n",
       "3       Desconhecida  Baixa   Nenhuma              >35.000      Alto\n",
       "4       Desconhecida  Baixa   Nenhuma              >35.000     Baixo\n",
       "5       Desconhecida  Baixa  Adequada              >35.000     Baixo\n",
       "6               Ruim  Baixa   Nenhuma              <15.000      Alto\n",
       "7               Ruim  Baixa  Adequada              >35.000  Moderado\n",
       "8                Boa  Baixa   Nenhuma              >35.000     Baixo\n",
       "9                Boa   Alta  Adequada              >35.000     Baixo\n",
       "10               Boa   Alta   Nenhuma              <15.000      Alto\n",
       "11               Boa   Alta   Nenhuma  >=15.000 a <=35.000  Moderado\n",
       "12               Boa   Alta   Nenhuma              >35.000     Baixo\n",
       "13              Ruim   Alta   Nenhuma  >=15.000 a <=35.000      Alto"
      ]
     },
     "execution_count": 34,
     "metadata": {},
     "output_type": "execute_result"
    }
   ],
   "source": [
    "# Carregando o dataset\n",
    "df = pd.read_csv('decisao.csv',encoding='latin1',sep=';')\n",
    "df"
   ]
  },
  {
   "cell_type": "markdown",
   "metadata": {},
   "source": [
    "## Transformar as variáveis categóricas em numéricas"
   ]
  },
  {
   "cell_type": "markdown",
   "metadata": {},
   "source": [
    "- **O algoritimo de arvore de decisão funciona melhor com número ao invés de categorias**"
   ]
  },
  {
   "cell_type": "code",
   "execution_count": 35,
   "metadata": {},
   "outputs": [
    {
     "data": {
      "text/html": [
       "<div>\n",
       "<style scoped>\n",
       "    .dataframe tbody tr th:only-of-type {\n",
       "        vertical-align: middle;\n",
       "    }\n",
       "\n",
       "    .dataframe tbody tr th {\n",
       "        vertical-align: top;\n",
       "    }\n",
       "\n",
       "    .dataframe thead th {\n",
       "        text-align: right;\n",
       "    }\n",
       "</style>\n",
       "<table border=\"1\" class=\"dataframe\">\n",
       "  <thead>\n",
       "    <tr style=\"text-align: right;\">\n",
       "      <th></th>\n",
       "      <th>Historico_Credito</th>\n",
       "      <th>Divida</th>\n",
       "      <th>Garantias</th>\n",
       "      <th>Renda_Anual</th>\n",
       "    </tr>\n",
       "  </thead>\n",
       "  <tbody>\n",
       "    <tr>\n",
       "      <th>0</th>\n",
       "      <td>2</td>\n",
       "      <td>0</td>\n",
       "      <td>1</td>\n",
       "      <td>0</td>\n",
       "    </tr>\n",
       "    <tr>\n",
       "      <th>1</th>\n",
       "      <td>1</td>\n",
       "      <td>0</td>\n",
       "      <td>1</td>\n",
       "      <td>2</td>\n",
       "    </tr>\n",
       "    <tr>\n",
       "      <th>2</th>\n",
       "      <td>1</td>\n",
       "      <td>1</td>\n",
       "      <td>1</td>\n",
       "      <td>2</td>\n",
       "    </tr>\n",
       "    <tr>\n",
       "      <th>3</th>\n",
       "      <td>1</td>\n",
       "      <td>1</td>\n",
       "      <td>1</td>\n",
       "      <td>1</td>\n",
       "    </tr>\n",
       "    <tr>\n",
       "      <th>4</th>\n",
       "      <td>1</td>\n",
       "      <td>1</td>\n",
       "      <td>1</td>\n",
       "      <td>1</td>\n",
       "    </tr>\n",
       "    <tr>\n",
       "      <th>5</th>\n",
       "      <td>1</td>\n",
       "      <td>1</td>\n",
       "      <td>0</td>\n",
       "      <td>1</td>\n",
       "    </tr>\n",
       "    <tr>\n",
       "      <th>6</th>\n",
       "      <td>2</td>\n",
       "      <td>1</td>\n",
       "      <td>1</td>\n",
       "      <td>0</td>\n",
       "    </tr>\n",
       "    <tr>\n",
       "      <th>7</th>\n",
       "      <td>2</td>\n",
       "      <td>1</td>\n",
       "      <td>0</td>\n",
       "      <td>1</td>\n",
       "    </tr>\n",
       "    <tr>\n",
       "      <th>8</th>\n",
       "      <td>0</td>\n",
       "      <td>1</td>\n",
       "      <td>1</td>\n",
       "      <td>1</td>\n",
       "    </tr>\n",
       "    <tr>\n",
       "      <th>9</th>\n",
       "      <td>0</td>\n",
       "      <td>0</td>\n",
       "      <td>0</td>\n",
       "      <td>1</td>\n",
       "    </tr>\n",
       "    <tr>\n",
       "      <th>10</th>\n",
       "      <td>0</td>\n",
       "      <td>0</td>\n",
       "      <td>1</td>\n",
       "      <td>0</td>\n",
       "    </tr>\n",
       "    <tr>\n",
       "      <th>11</th>\n",
       "      <td>0</td>\n",
       "      <td>0</td>\n",
       "      <td>1</td>\n",
       "      <td>2</td>\n",
       "    </tr>\n",
       "    <tr>\n",
       "      <th>12</th>\n",
       "      <td>0</td>\n",
       "      <td>0</td>\n",
       "      <td>1</td>\n",
       "      <td>1</td>\n",
       "    </tr>\n",
       "    <tr>\n",
       "      <th>13</th>\n",
       "      <td>2</td>\n",
       "      <td>0</td>\n",
       "      <td>1</td>\n",
       "      <td>2</td>\n",
       "    </tr>\n",
       "  </tbody>\n",
       "</table>\n",
       "</div>"
      ],
      "text/plain": [
       "    Historico_Credito  Divida  Garantias  Renda_Anual\n",
       "0                   2       0          1            0\n",
       "1                   1       0          1            2\n",
       "2                   1       1          1            2\n",
       "3                   1       1          1            1\n",
       "4                   1       1          1            1\n",
       "5                   1       1          0            1\n",
       "6                   2       1          1            0\n",
       "7                   2       1          0            1\n",
       "8                   0       1          1            1\n",
       "9                   0       0          0            1\n",
       "10                  0       0          1            0\n",
       "11                  0       0          1            2\n",
       "12                  0       0          1            1\n",
       "13                  2       0          1            2"
      ]
     },
     "execution_count": 35,
     "metadata": {},
     "output_type": "execute_result"
    }
   ],
   "source": [
    "from sklearn.tree import DecisionTreeClassifier\n",
    "import warnings\n",
    "warnings.filterwarnings(\"ignore\")\n",
    "from sklearn.preprocessing import LabelEncoder\n",
    "\n",
    "#OrdinalEncoder\n",
    "labelencoder = LabelEncoder()\n",
    "df['Historico_Credito'] = labelencoder.fit_transform(df['Historico_Credito'])\n",
    "df['Divida'] = labelencoder.fit_transform(df['Divida'])\n",
    "df['Garantias'] = labelencoder.fit_transform(df['Garantias'])\n",
    "df['Renda_Anual'] = labelencoder.fit_transform(df['Renda_Anual'])\n",
    "\n",
    "\n",
    "#Separar os dados em x e y\n",
    "x = df.iloc[:,0:4]\n",
    "y = df.iloc[:,4]\n",
    "x"
   ]
  },
  {
   "cell_type": "markdown",
   "metadata": {},
   "source": [
    "## Modelagem"
   ]
  },
  {
   "cell_type": "code",
   "execution_count": 36,
   "metadata": {},
   "outputs": [
    {
     "name": "stdout",
     "output_type": "stream",
     "text": [
      "Acurácia do Modelo = 92.86%\n"
     ]
    }
   ],
   "source": [
    "#Modelagem dos dados\n",
    "clf = DecisionTreeClassifier(criterion='entropy',min_samples_split = 3)\n",
    "modelo = clf.fit(x,y)\n",
    "\n",
    "#Acuracia do modelo\n",
    "acuracia = modelo.score(x,y)\n",
    "print(f'Acurácia do Modelo = {round(acuracia*100,2)}%')"
   ]
  },
  {
   "cell_type": "markdown",
   "metadata": {},
   "source": [
    "## Importância das variáveis Explicativas na variavel Target"
   ]
  },
  {
   "cell_type": "code",
   "execution_count": 37,
   "metadata": {},
   "outputs": [
    {
     "name": "stdout",
     "output_type": "stream",
     "text": [
      "Importância das variáveis usando o Algoritimo DecisionTreeClassifier\n",
      "\n",
      "('Historico_Credito', 0.41)\n",
      "('Divida', 0.06)\n",
      "('Garantias', 0.04)\n",
      "('Renda_Anual', 0.48)\n"
     ]
    }
   ],
   "source": [
    "from sklearn.tree import DecisionTreeClassifier,export_graphviz\n",
    "\n",
    "clf.feature_importances_\n",
    "print('Importância das variáveis usando o Algoritimo DecisionTreeClassifier\\n')\n",
    "for feature,importancia in zip(df.columns,modelo.feature_importances_):\n",
    "    print(f'{feature, round(importancia ,2)}')"
   ]
  },
  {
   "cell_type": "code",
   "execution_count": 38,
   "metadata": {},
   "outputs": [
    {
     "name": "stdout",
     "output_type": "stream",
     "text": [
      "Importância das variaveis sem usar Algoritimos\n",
      "\n",
      "Ganho de Informação da Variável Hitorico de Credito = 0.27\n",
      "Ganho de Informação da Variável Divida = 0.06\n",
      "Ganho de Informação da Variável Garantias = 0.21\n",
      "Ganho de Informação da Variável Renda = 0.67\n"
     ]
    }
   ],
   "source": [
    "print('Importância das variaveis sem usar Algoritimos\\n')\n",
    "print(f'Ganho de Informação da Variável Hitorico de Credito = {round(ganho_inf_hist,2)}')\n",
    "print(f'Ganho de Informação da Variável Divida = {round(ganho_inf_divida,2)}')\n",
    "print(f'Ganho de Informação da Variável Garantias = {round(ganho_inf_gar,2)}')\n",
    "print(f'Ganho de Informação da Variável Renda = {round(ganho_inf_renda,2)}')"
   ]
  },
  {
   "cell_type": "markdown",
   "metadata": {},
   "source": [
    "**Observe que há uma inversão na importância das variáveis 'Divida' e 'Garantia' quando usamos o algoritimo, pode ser que após a escolha do nó raiz a importância das variáveis mudem ou os parâmetros do algoritimo pode estar beneficiando alguma das variáveis**"
   ]
  },
  {
   "cell_type": "markdown",
   "metadata": {},
   "source": [
    "## Visualizar apenas o nó raiz da arvore de decisão através do gráfico"
   ]
  },
  {
   "cell_type": "code",
   "execution_count": 42,
   "metadata": {},
   "outputs": [
    {
     "data": {
      "image/png": "[encoded data removed]",
      "text/plain": [
       "<Figure size 720x576 with 1 Axes>"
      ]
     },
     "metadata": {
      "needs_background": "light"
     },
     "output_type": "display_data"
    }
   ],
   "source": [
    "#Nó raiz\n",
    "import matplotlib.pyplot as plt\n",
    "from sklearn import tree\n",
    "plt.subplots(figsize=(10,8))\n",
    "tree.plot_tree(modelo,feature_names=x.columns,max_depth=1,filled=True);"
   ]
  },
  {
   "cell_type": "markdown",
   "metadata": {},
   "source": [
    "**Note que o valor da entropia foi o mesmo calculado sem usar o algoritimo**"
   ]
  },
  {
   "cell_type": "markdown",
   "metadata": {},
   "source": [
    "## Visualizar a árvore de decisão Completa através do gráfico"
   ]
  },
  {
   "cell_type": "code",
   "execution_count": 40,
   "metadata": {},
   "outputs": [
    {
     "data": {
      "image/png": "[encoded data removed]",
      "text/plain": [
       "<Figure size 864x720 with 1 Axes>"
      ]
     },
     "metadata": {
      "needs_background": "light"
     },
     "output_type": "display_data"
    }
   ],
   "source": [
    "#Arvore completa\n",
    "import matplotlib.pyplot as plt\n",
    "from sklearn import tree\n",
    "plt.subplots(figsize=(12,10))\n",
    "tree.plot_tree(modelo,feature_names=x.columns,max_depth=5,filled=True);"
   ]
  },
  {
   "cell_type": "markdown",
   "metadata": {},
   "source": [
    "**Árvore de decisão completa**"
   ]
  },
  {
   "cell_type": "markdown",
   "metadata": {},
   "source": [
    "# Conclusão:"
   ]
  },
  {
   "cell_type": "markdown",
   "metadata": {},
   "source": [
    "**Quanto maior o valor da entropia na variavel target mais equilibrado as classes estarão, e quanto maior o valor do ganho de informação da variável explicativa, maior vai ser a redução da entropia na variável target, fazendo com que diminua a aleatoriedade nas classes** "
   ]
  },
  {
   "cell_type": "code",
   "execution_count": null,
   "metadata": {},
   "outputs": [],
   "source": []
  }
 ],
 "metadata": {
  "anaconda-cloud": {},
  "kernelspec": {
   "display_name": "Python 3 (ipykernel)",
   "language": "python",
   "name": "python3"
  },
  "language_info": {
   "codemirror_mode": {
    "name": "ipython",
    "version": 3
   },
   "file_extension": ".py",
   "mimetype": "text/x-python",
   "name": "python",
   "nbconvert_exporter": "python",
   "pygments_lexer": "ipython3",
   "version": "3.9.7"
  }
 },
 "nbformat": 4,
 "nbformat_minor": 1
}
