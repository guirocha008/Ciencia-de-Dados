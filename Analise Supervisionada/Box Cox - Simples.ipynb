{
 "cells": [
  {
   "cell_type": "markdown",
   "metadata": {},
   "source": [
    "$$Conceito:$$\n",
    "\n",
    "-Modelos Não Lineares \n",
    "\n",
    "-Modelos Supervisionados, que fazem inferência ou predição para outras observações não presentes na amostra\n",
    "\n",
    "-Variáveis Quantitativas\n",
    "\n",
    "-Distribuição Normal após transformação BOX-COX\n",
    "\n",
    "$$Critérios:$$\n",
    "\n",
    "\n",
    "$$Coeficientes:$$\n",
    "\n"
   ]
  },
  {
   "cell_type": "markdown",
   "metadata": {},
   "source": [
    "# Objetivo: Usar as transformação de Box-Cox na variável target para que os residuos sejam aderentes à normalidade"
   ]
  },
  {
   "cell_type": "code",
   "execution_count": 28,
   "metadata": {},
   "outputs": [],
   "source": [
    "#Pacotes\n",
    "import numpy as np \n",
    "import pandas as pd \n",
    "import seaborn as sns\n",
    "import matplotlib\n",
    "import matplotlib.pyplot as plt"
   ]
  },
  {
   "cell_type": "markdown",
   "metadata": {},
   "source": [
    "# Banco de dados "
   ]
  },
  {
   "cell_type": "code",
   "execution_count": 2,
   "metadata": {},
   "outputs": [
    {
     "data": {
      "text/html": [
       "<div>\n",
       "<style scoped>\n",
       "    .dataframe tbody tr th:only-of-type {\n",
       "        vertical-align: middle;\n",
       "    }\n",
       "\n",
       "    .dataframe tbody tr th {\n",
       "        vertical-align: top;\n",
       "    }\n",
       "\n",
       "    .dataframe thead th {\n",
       "        text-align: right;\n",
       "    }\n",
       "</style>\n",
       "<table border=\"1\" class=\"dataframe\">\n",
       "  <thead>\n",
       "    <tr style=\"text-align: right;\">\n",
       "      <th></th>\n",
       "      <th>comprimento</th>\n",
       "      <th>idade</th>\n",
       "    </tr>\n",
       "  </thead>\n",
       "  <tbody>\n",
       "    <tr>\n",
       "      <th>0</th>\n",
       "      <td>63.07</td>\n",
       "      <td>19.00</td>\n",
       "    </tr>\n",
       "    <tr>\n",
       "      <th>1</th>\n",
       "      <td>65.63</td>\n",
       "      <td>21.00</td>\n",
       "    </tr>\n",
       "    <tr>\n",
       "      <th>2</th>\n",
       "      <td>65.63</td>\n",
       "      <td>22.50</td>\n",
       "    </tr>\n",
       "    <tr>\n",
       "      <th>3</th>\n",
       "      <td>66.73</td>\n",
       "      <td>22.50</td>\n",
       "    </tr>\n",
       "    <tr>\n",
       "      <th>4</th>\n",
       "      <td>66.37</td>\n",
       "      <td>23.25</td>\n",
       "    </tr>\n",
       "    <tr>\n",
       "      <th>...</th>\n",
       "      <td>...</td>\n",
       "      <td>...</td>\n",
       "    </tr>\n",
       "    <tr>\n",
       "      <th>69</th>\n",
       "      <td>75.90</td>\n",
       "      <td>30.50</td>\n",
       "    </tr>\n",
       "    <tr>\n",
       "      <th>70</th>\n",
       "      <td>78.47</td>\n",
       "      <td>31.00</td>\n",
       "    </tr>\n",
       "    <tr>\n",
       "      <th>71</th>\n",
       "      <td>80.67</td>\n",
       "      <td>36.50</td>\n",
       "    </tr>\n",
       "    <tr>\n",
       "      <th>72</th>\n",
       "      <td>81.03</td>\n",
       "      <td>38.00</td>\n",
       "    </tr>\n",
       "    <tr>\n",
       "      <th>73</th>\n",
       "      <td>78.47</td>\n",
       "      <td>38.50</td>\n",
       "    </tr>\n",
       "  </tbody>\n",
       "</table>\n",
       "<p>74 rows × 2 columns</p>\n",
       "</div>"
      ],
      "text/plain": [
       "    comprimento  idade\n",
       "0         63.07  19.00\n",
       "1         65.63  21.00\n",
       "2         65.63  22.50\n",
       "3         66.73  22.50\n",
       "4         66.37  23.25\n",
       "..          ...    ...\n",
       "69        75.90  30.50\n",
       "70        78.47  31.00\n",
       "71        80.67  36.50\n",
       "72        81.03  38.00\n",
       "73        78.47  38.50\n",
       "\n",
       "[74 rows x 2 columns]"
      ]
     },
     "execution_count": 2,
     "metadata": {},
     "output_type": "execute_result"
    }
   ],
   "source": [
    "#Carregar tabela\n",
    "dados = pd.read_table(\"bebes.csv\",sep=\",\",encoding=\"latin-1\")\n",
    "dados\n"
   ]
  },
  {
   "cell_type": "markdown",
   "metadata": {},
   "source": [
    "**Tabela com 72 observações e 2 variáveis**"
   ]
  },
  {
   "cell_type": "markdown",
   "metadata": {},
   "source": [
    "# Dicionário de Dados das variáveis\n",
    "\n",
    "**$$Variáveis:$$**\n",
    "\n",
    "**-comprimento:** Comprimento do bebe em centímetros\n",
    "\n",
    "**-idade:** Idade do bebe em semanas\n",
    "\n",
    "    \n"
   ]
  },
  {
   "cell_type": "code",
   "execution_count": 3,
   "metadata": {},
   "outputs": [
    {
     "name": "stdout",
     "output_type": "stream",
     "text": [
      "<class 'pandas.core.frame.DataFrame'>\n",
      "RangeIndex: 74 entries, 0 to 73\n",
      "Data columns (total 2 columns):\n",
      " #   Column       Non-Null Count  Dtype  \n",
      "---  ------       --------------  -----  \n",
      " 0   comprimento  74 non-null     float64\n",
      " 1   idade        74 non-null     float64\n",
      "dtypes: float64(2)\n",
      "memory usage: 1.3 KB\n"
     ]
    }
   ],
   "source": [
    "#Info da tabela\n",
    "dados.info()"
   ]
  },
  {
   "cell_type": "markdown",
   "metadata": {},
   "source": [
    "**2 Variáveis Quantitativas**"
   ]
  },
  {
   "cell_type": "code",
   "execution_count": 4,
   "metadata": {},
   "outputs": [
    {
     "data": {
      "text/html": [
       "<div>\n",
       "<style scoped>\n",
       "    .dataframe tbody tr th:only-of-type {\n",
       "        vertical-align: middle;\n",
       "    }\n",
       "\n",
       "    .dataframe tbody tr th {\n",
       "        vertical-align: top;\n",
       "    }\n",
       "\n",
       "    .dataframe thead th {\n",
       "        text-align: right;\n",
       "    }\n",
       "</style>\n",
       "<table border=\"1\" class=\"dataframe\">\n",
       "  <thead>\n",
       "    <tr style=\"text-align: right;\">\n",
       "      <th></th>\n",
       "      <th>comprimento</th>\n",
       "      <th>idade</th>\n",
       "    </tr>\n",
       "  </thead>\n",
       "  <tbody>\n",
       "    <tr>\n",
       "      <th>count</th>\n",
       "      <td>74.000000</td>\n",
       "      <td>74.000000</td>\n",
       "    </tr>\n",
       "    <tr>\n",
       "      <th>mean</th>\n",
       "      <td>66.921622</td>\n",
       "      <td>25.312162</td>\n",
       "    </tr>\n",
       "    <tr>\n",
       "      <th>std</th>\n",
       "      <td>12.852386</td>\n",
       "      <td>12.975168</td>\n",
       "    </tr>\n",
       "    <tr>\n",
       "      <th>min</th>\n",
       "      <td>31.900000</td>\n",
       "      <td>2.150000</td>\n",
       "    </tr>\n",
       "    <tr>\n",
       "      <th>25%</th>\n",
       "      <td>56.470000</td>\n",
       "      <td>12.500000</td>\n",
       "    </tr>\n",
       "    <tr>\n",
       "      <th>50%</th>\n",
       "      <td>70.400000</td>\n",
       "      <td>26.000000</td>\n",
       "    </tr>\n",
       "    <tr>\n",
       "      <th>75%</th>\n",
       "      <td>75.807500</td>\n",
       "      <td>33.000000</td>\n",
       "    </tr>\n",
       "    <tr>\n",
       "      <th>max</th>\n",
       "      <td>87.630000</td>\n",
       "      <td>60.000000</td>\n",
       "    </tr>\n",
       "  </tbody>\n",
       "</table>\n",
       "</div>"
      ],
      "text/plain": [
       "       comprimento      idade\n",
       "count    74.000000  74.000000\n",
       "mean     66.921622  25.312162\n",
       "std      12.852386  12.975168\n",
       "min      31.900000   2.150000\n",
       "25%      56.470000  12.500000\n",
       "50%      70.400000  26.000000\n",
       "75%      75.807500  33.000000\n",
       "max      87.630000  60.000000"
      ]
     },
     "execution_count": 4,
     "metadata": {},
     "output_type": "execute_result"
    }
   ],
   "source": [
    "#Descrição dos dados\n",
    "dados.describe()"
   ]
  },
  {
   "cell_type": "code",
   "execution_count": 5,
   "metadata": {},
   "outputs": [
    {
     "data": {
      "image/png": "[encoded data removed]",
      "text/plain": [
       "<Figure size 432x288 with 1 Axes>"
      ]
     },
     "metadata": {
      "needs_background": "light"
     },
     "output_type": "display_data"
    }
   ],
   "source": [
    "#Grafico de dispersão\n",
    "plt.scatter(dados['idade'],dados['comprimento'])\n",
    "plt.show()"
   ]
  },
  {
   "cell_type": "markdown",
   "metadata": {},
   "source": [
    "**Comportamento não linear dos dados**"
   ]
  },
  {
   "cell_type": "code",
   "execution_count": 6,
   "metadata": {},
   "outputs": [
    {
     "data": {
      "text/plain": [
       "[<matplotlib.lines.Line2D at 0x1884a018610>]"
      ]
     },
     "execution_count": 6,
     "metadata": {},
     "output_type": "execute_result"
    },
    {
     "data": {
      "image/png": "[encoded data removed]",
      "text/plain": [
       "<Figure size 432x288 with 1 Axes>"
      ]
     },
     "metadata": {
      "needs_background": "light"
     },
     "output_type": "display_data"
    }
   ],
   "source": [
    "# #Grafico de dispersão com ajuste linear\n",
    "plt.plot(dados['idade'],dados['comprimento'],'o')\n",
    "m, b = np.polyfit(dados['idade'],dados['comprimento'], 1)\n",
    "plt.plot(dados['idade'], m*dados['idade'] + b)\n",
    "\n"
   ]
  },
  {
   "cell_type": "code",
   "execution_count": 30,
   "metadata": {},
   "outputs": [
    {
     "data": {
      "image/png": "[encoded data removed]",
      "text/plain": [
       "<Figure size 432x288 with 1 Axes>"
      ]
     },
     "metadata": {
      "needs_background": "light"
     },
     "output_type": "display_data"
    }
   ],
   "source": [
    "# #Grafico de dispersão com ajuste não linear\n",
    "import warnings\n",
    "warnings.filterwarnings('ignore')\n",
    "x = dados['idade']\n",
    "y = dados['comprimento']\n",
    "deg = 2\n",
    "z = np.polyfit(x, y, deg)\n",
    "y2 = np.poly1d(z)\n",
    "plt.plot(x, y, \"o\",color='b')\n",
    "plt.plot(x, y2(x), \"bo\",color='r',markersize=3)\n",
    "plt.title('Ajuste polinomial de grau 2')\n",
    "plt.show()"
   ]
  },
  {
   "cell_type": "markdown",
   "metadata": {},
   "source": [
    "**Note que o polinômio de grau 2 se ajustou melhor aos dados, portanto esses dados se mostram de forma não linear**"
   ]
  },
  {
   "cell_type": "markdown",
   "metadata": {},
   "source": [
    "## Estimação do modelo OLS linear"
   ]
  },
  {
   "cell_type": "code",
   "execution_count": 8,
   "metadata": {},
   "outputs": [
    {
     "data": {
      "text/html": [
       "<table class=\"simpletable\">\n",
       "<caption>OLS Regression Results</caption>\n",
       "<tr>\n",
       "  <th>Dep. Variable:</th>            <td>y</td>        <th>  R-squared:         </th> <td>   0.903</td>\n",
       "</tr>\n",
       "<tr>\n",
       "  <th>Model:</th>                   <td>OLS</td>       <th>  Adj. R-squared:    </th> <td>   0.901</td>\n",
       "</tr>\n",
       "<tr>\n",
       "  <th>Method:</th>             <td>Least Squares</td>  <th>  F-statistic:       </th> <td>   667.7</td>\n",
       "</tr>\n",
       "<tr>\n",
       "  <th>Date:</th>             <td>Thu, 24 Feb 2022</td> <th>  Prob (F-statistic):</th> <td>3.72e-38</td>\n",
       "</tr>\n",
       "<tr>\n",
       "  <th>Time:</th>                 <td>16:58:55</td>     <th>  Log-Likelihood:    </th> <td> -207.26</td>\n",
       "</tr>\n",
       "<tr>\n",
       "  <th>No. Observations:</th>      <td>    74</td>      <th>  AIC:               </th> <td>   418.5</td>\n",
       "</tr>\n",
       "<tr>\n",
       "  <th>Df Residuals:</th>          <td>    72</td>      <th>  BIC:               </th> <td>   423.1</td>\n",
       "</tr>\n",
       "<tr>\n",
       "  <th>Df Model:</th>              <td>     1</td>      <th>                     </th>     <td> </td>   \n",
       "</tr>\n",
       "<tr>\n",
       "  <th>Covariance Type:</th>      <td>nonrobust</td>    <th>                     </th>     <td> </td>   \n",
       "</tr>\n",
       "</table>\n",
       "<table class=\"simpletable\">\n",
       "<tr>\n",
       "    <td></td>       <th>coef</th>     <th>std err</th>      <th>t</th>      <th>P>|t|</th>  <th>[0.025</th>    <th>0.975]</th>  \n",
       "</tr>\n",
       "<tr>\n",
       "  <th>const</th> <td>   43.1004</td> <td>    1.034</td> <td>   41.665</td> <td> 0.000</td> <td>   41.038</td> <td>   45.163</td>\n",
       "</tr>\n",
       "<tr>\n",
       "  <th>idade</th> <td>    0.9411</td> <td>    0.036</td> <td>   25.841</td> <td> 0.000</td> <td>    0.868</td> <td>    1.014</td>\n",
       "</tr>\n",
       "</table>\n",
       "<table class=\"simpletable\">\n",
       "<tr>\n",
       "  <th>Omnibus:</th>       <td>21.203</td> <th>  Durbin-Watson:     </th> <td>   0.278</td>\n",
       "</tr>\n",
       "<tr>\n",
       "  <th>Prob(Omnibus):</th> <td> 0.000</td> <th>  Jarque-Bera (JB):  </th> <td>  29.159</td>\n",
       "</tr>\n",
       "<tr>\n",
       "  <th>Skew:</th>          <td>-1.218</td> <th>  Prob(JB):          </th> <td>4.66e-07</td>\n",
       "</tr>\n",
       "<tr>\n",
       "  <th>Kurtosis:</th>      <td> 4.877</td> <th>  Cond. No.          </th> <td>    62.7</td>\n",
       "</tr>\n",
       "</table><br/><br/>Notes:<br/>[1] Standard Errors assume that the covariance matrix of the errors is correctly specified."
      ],
      "text/plain": [
       "<class 'statsmodels.iolib.summary.Summary'>\n",
       "\"\"\"\n",
       "                            OLS Regression Results                            \n",
       "==============================================================================\n",
       "Dep. Variable:                      y   R-squared:                       0.903\n",
       "Model:                            OLS   Adj. R-squared:                  0.901\n",
       "Method:                 Least Squares   F-statistic:                     667.7\n",
       "Date:                Thu, 24 Feb 2022   Prob (F-statistic):           3.72e-38\n",
       "Time:                        16:58:55   Log-Likelihood:                -207.26\n",
       "No. Observations:                  74   AIC:                             418.5\n",
       "Df Residuals:                      72   BIC:                             423.1\n",
       "Df Model:                           1                                         \n",
       "Covariance Type:            nonrobust                                         \n",
       "==============================================================================\n",
       "                 coef    std err          t      P>|t|      [0.025      0.975]\n",
       "------------------------------------------------------------------------------\n",
       "const         43.1004      1.034     41.665      0.000      41.038      45.163\n",
       "idade          0.9411      0.036     25.841      0.000       0.868       1.014\n",
       "==============================================================================\n",
       "Omnibus:                       21.203   Durbin-Watson:                   0.278\n",
       "Prob(Omnibus):                  0.000   Jarque-Bera (JB):               29.159\n",
       "Skew:                          -1.218   Prob(JB):                     4.66e-07\n",
       "Kurtosis:                       4.877   Cond. No.                         62.7\n",
       "==============================================================================\n",
       "\n",
       "Notes:\n",
       "[1] Standard Errors assume that the covariance matrix of the errors is correctly specified.\n",
       "\"\"\""
      ]
     },
     "execution_count": 8,
     "metadata": {},
     "output_type": "execute_result"
    }
   ],
   "source": [
    "#Modelo\n",
    "import statsmodels.api as sm\n",
    "x1 = sm.add_constant(dados['idade'])# Adicionar uma constante nas variaveis x\n",
    "y = dados['comprimento'].values\n",
    "modelo = sm.OLS(y,x1)\n",
    "modelo_linear = modelo.fit()\n",
    "modelo_linear.summary()"
   ]
  },
  {
   "cell_type": "code",
   "execution_count": 9,
   "metadata": {},
   "outputs": [
    {
     "data": {
      "text/plain": [
       "const    3.850850e-52\n",
       "idade    3.720648e-38\n",
       "dtype: float64"
      ]
     },
     "execution_count": 9,
     "metadata": {},
     "output_type": "execute_result"
    }
   ],
   "source": [
    "#Teste t\n",
    "modelo_linear.pvalues"
   ]
  },
  {
   "cell_type": "markdown",
   "metadata": {},
   "source": [
    "**Valor do P-valor do teste t é estatisticamente significante, portanto há modelo**"
   ]
  },
  {
   "cell_type": "code",
   "execution_count": 10,
   "metadata": {},
   "outputs": [
    {
     "data": {
      "text/plain": [
       "0.9026677262332912"
      ]
     },
     "execution_count": 10,
     "metadata": {},
     "output_type": "execute_result"
    }
   ],
   "source": [
    "#R²\n",
    "modelo_linear.rsquared"
   ]
  },
  {
   "cell_type": "markdown",
   "metadata": {},
   "source": [
    "**A variável X explica 90% do comportamento da variável Y**"
   ]
  },
  {
   "cell_type": "markdown",
   "metadata": {},
   "source": [
    "### Obs: Na regressão linear, não podemos apenas olhar para o teste t e o R², caso a distribuição dos resíduos não seja aderente à normalidade, a maior parte dos dados vai estar fora do nível de confiança da linha de regressão"
   ]
  },
  {
   "cell_type": "markdown",
   "metadata": {},
   "source": [
    "## Teste de Shapiro-Francia = Teste de verificação da aderência dos resíduos à normalidade"
   ]
  },
  {
   "cell_type": "markdown",
   "metadata": {},
   "source": [
    "Shapiro-Wilk: número de amostras <= 30\n",
    "\n",
    "Shapiro-Francia: número de amostras > 30\n"
   ]
  },
  {
   "cell_type": "code",
   "execution_count": 11,
   "metadata": {},
   "outputs": [
    {
     "name": "stdout",
     "output_type": "stream",
     "text": [
      "Valor do teste de Shapiro Francia= 0.000060, é menor que 0.05 , Portanto não ha Distribuiçao Normal\n"
     ]
    }
   ],
   "source": [
    "#Teste de Shapiro Francia\n",
    "import scipy.stats as stats\n",
    "shapiro_stats, shapiro_p_valor = stats.shapiro(modelo_linear.resid)\n",
    "print(f'Valor do teste de Shapiro Francia= {shapiro_p_valor:.6f}, é menor que 0.05 , Portanto não ha Distribuiçao Normal')"
   ]
  },
  {
   "cell_type": "markdown",
   "metadata": {},
   "source": [
    "**O que se espera do teste de Shapiro é que o valor do teste seja maior que 0.05, sendo assim, os resíduos aderem a uma distribuição normal, onde a maioria dos dados fica dentro do intervalo de confiança da reta de regressão**"
   ]
  },
  {
   "cell_type": "code",
   "execution_count": 12,
   "metadata": {},
   "outputs": [
    {
     "data": {
      "image/png": "[encoded data removed]",
      "text/plain": [
       "<Figure size 360x360 with 1 Axes>"
      ]
     },
     "metadata": {
      "needs_background": "light"
     },
     "output_type": "display_data"
    }
   ],
   "source": [
    "#Histograma da Aderência dos residuos\n",
    "\n",
    "#transformar os redisuos em uma coluna\n",
    "dados['residuos_Linear']=modelo_linear.resid\n",
    "\n",
    "#Construir o histograma\n",
    "sns.displot(dados['residuos_Linear'],kde=True,bins=20);\n",
    "plt.show()"
   ]
  },
  {
   "cell_type": "markdown",
   "metadata": {},
   "source": [
    "**Para que aja aderência entre a distribuição normal e a distribuição real dos resíduos a um nível de significância de 5%, 95% dos dados tem que estar dentro da curva da distribuição normal**"
   ]
  },
  {
   "cell_type": "markdown",
   "metadata": {},
   "source": [
    "**Como os resíduos não são aderentes a uma distribuição normal, temos que fazer a transformação de BOX-COX**"
   ]
  },
  {
   "cell_type": "markdown",
   "metadata": {},
   "source": [
    "## Transformação de Box-Cox - Distribuição Nao Linear"
   ]
  },
  {
   "cell_type": "markdown",
   "metadata": {},
   "source": [
    "-Temos que transformar a variável Y, para que a distribuição dos residuos seja aderente a uma distribuição normal\n",
    "\n"
   ]
  },
  {
   "cell_type": "code",
   "execution_count": 13,
   "metadata": {},
   "outputs": [
    {
     "data": {
      "image/png": "[encoded data removed]",
      "text/plain": [
       "<IPython.core.display.Image object>"
      ]
     },
     "execution_count": 13,
     "metadata": {},
     "output_type": "execute_result"
    }
   ],
   "source": [
    "from IPython.display import Image\n",
    "Image(filename=\"BoxCox.png\")"
   ]
  },
  {
   "cell_type": "markdown",
   "metadata": {},
   "source": [
    "## Qual o valor de Lambda (Λ) ((Λ) varia entre –∞ e +∞) que maximiza a aderência da distribuição da nova variável Y à normalidade?"
   ]
  },
  {
   "cell_type": "code",
   "execution_count": 14,
   "metadata": {},
   "outputs": [
    {
     "data": {
      "text/plain": [
       "2.659051008426254"
      ]
     },
     "execution_count": 14,
     "metadata": {},
     "output_type": "execute_result"
    }
   ],
   "source": [
    "#Calculo do Lambda\n",
    "from scipy.stats import boxcox\n",
    "from scipy.special import inv_boxcox\n",
    "\n",
    "dados_transform, lambda_boxcox = boxcox(dados['comprimento'])\n",
    "lambda_boxcox"
   ]
  },
  {
   "cell_type": "markdown",
   "metadata": {},
   "source": [
    "**O lambda que maximiza a aderência da Nova variável Y há normalidade é 2.6590..., Especificação Quadrática**"
   ]
  },
  {
   "cell_type": "code",
   "execution_count": 15,
   "metadata": {},
   "outputs": [
    {
     "data": {
      "text/html": [
       "<div>\n",
       "<style scoped>\n",
       "    .dataframe tbody tr th:only-of-type {\n",
       "        vertical-align: middle;\n",
       "    }\n",
       "\n",
       "    .dataframe tbody tr th {\n",
       "        vertical-align: top;\n",
       "    }\n",
       "\n",
       "    .dataframe thead th {\n",
       "        text-align: right;\n",
       "    }\n",
       "</style>\n",
       "<table border=\"1\" class=\"dataframe\">\n",
       "  <thead>\n",
       "    <tr style=\"text-align: right;\">\n",
       "      <th></th>\n",
       "      <th>comprimento</th>\n",
       "      <th>idade</th>\n",
       "      <th>residuos_Linear</th>\n",
       "      <th>y_boxcox</th>\n",
       "    </tr>\n",
       "  </thead>\n",
       "  <tbody>\n",
       "    <tr>\n",
       "      <th>0</th>\n",
       "      <td>63.07</td>\n",
       "      <td>19.00</td>\n",
       "      <td>2.088740</td>\n",
       "      <td>22966.083193</td>\n",
       "    </tr>\n",
       "    <tr>\n",
       "      <th>1</th>\n",
       "      <td>65.63</td>\n",
       "      <td>21.00</td>\n",
       "      <td>2.766545</td>\n",
       "      <td>25529.065309</td>\n",
       "    </tr>\n",
       "    <tr>\n",
       "      <th>2</th>\n",
       "      <td>65.63</td>\n",
       "      <td>22.50</td>\n",
       "      <td>1.354898</td>\n",
       "      <td>25529.065309</td>\n",
       "    </tr>\n",
       "    <tr>\n",
       "      <th>3</th>\n",
       "      <td>66.73</td>\n",
       "      <td>22.50</td>\n",
       "      <td>2.454898</td>\n",
       "      <td>26682.722356</td>\n",
       "    </tr>\n",
       "    <tr>\n",
       "      <th>4</th>\n",
       "      <td>66.37</td>\n",
       "      <td>23.25</td>\n",
       "      <td>1.389075</td>\n",
       "      <td>26301.657668</td>\n",
       "    </tr>\n",
       "  </tbody>\n",
       "</table>\n",
       "</div>"
      ],
      "text/plain": [
       "   comprimento  idade  residuos_Linear      y_boxcox\n",
       "0        63.07  19.00         2.088740  22966.083193\n",
       "1        65.63  21.00         2.766545  25529.065309\n",
       "2        65.63  22.50         1.354898  25529.065309\n",
       "3        66.73  22.50         2.454898  26682.722356\n",
       "4        66.37  23.25         1.389075  26301.657668"
      ]
     },
     "execution_count": 15,
     "metadata": {},
     "output_type": "execute_result"
    }
   ],
   "source": [
    "#Inserindo o lambda de Box-Cox na base de dados para a estimação de um novo modelo\n",
    "dados['y_boxcox'] = (((dados['comprimento']**lambda_boxcox) -1) / lambda_boxcox)\n",
    "dados.head(5)"
   ]
  },
  {
   "cell_type": "code",
   "execution_count": 16,
   "metadata": {},
   "outputs": [
    {
     "data": {
      "text/html": [
       "<table class=\"simpletable\">\n",
       "<caption>OLS Regression Results</caption>\n",
       "<tr>\n",
       "  <th>Dep. Variable:</th>            <td>y</td>        <th>  R-squared:         </th> <td>   0.962</td>\n",
       "</tr>\n",
       "<tr>\n",
       "  <th>Model:</th>                   <td>OLS</td>       <th>  Adj. R-squared:    </th> <td>   0.961</td>\n",
       "</tr>\n",
       "<tr>\n",
       "  <th>Method:</th>             <td>Least Squares</td>  <th>  F-statistic:       </th> <td>   1822.</td>\n",
       "</tr>\n",
       "<tr>\n",
       "  <th>Date:</th>             <td>Thu, 24 Feb 2022</td> <th>  Prob (F-statistic):</th> <td>7.16e-53</td>\n",
       "</tr>\n",
       "<tr>\n",
       "  <th>Time:</th>                 <td>16:58:55</td>     <th>  Log-Likelihood:    </th> <td> -681.77</td>\n",
       "</tr>\n",
       "<tr>\n",
       "  <th>No. Observations:</th>      <td>    74</td>      <th>  AIC:               </th> <td>   1368.</td>\n",
       "</tr>\n",
       "<tr>\n",
       "  <th>Df Residuals:</th>          <td>    72</td>      <th>  BIC:               </th> <td>   1372.</td>\n",
       "</tr>\n",
       "<tr>\n",
       "  <th>Df Model:</th>              <td>     1</td>      <th>                     </th>     <td> </td>   \n",
       "</tr>\n",
       "<tr>\n",
       "  <th>Covariance Type:</th>      <td>nonrobust</td>    <th>                     </th>     <td> </td>   \n",
       "</tr>\n",
       "</table>\n",
       "<table class=\"simpletable\">\n",
       "<tr>\n",
       "    <td></td>       <th>coef</th>     <th>std err</th>      <th>t</th>      <th>P>|t|</th>  <th>[0.025</th>    <th>0.975]</th>  \n",
       "</tr>\n",
       "<tr>\n",
       "  <th>const</th> <td> 4995.1602</td> <td>  630.253</td> <td>    7.926</td> <td> 0.000</td> <td> 3738.774</td> <td> 6251.546</td>\n",
       "</tr>\n",
       "<tr>\n",
       "  <th>idade</th> <td>  947.2298</td> <td>   22.189</td> <td>   42.689</td> <td> 0.000</td> <td>  902.997</td> <td>  991.463</td>\n",
       "</tr>\n",
       "</table>\n",
       "<table class=\"simpletable\">\n",
       "<tr>\n",
       "  <th>Omnibus:</th>       <td> 1.140</td> <th>  Durbin-Watson:     </th> <td>   0.813</td>\n",
       "</tr>\n",
       "<tr>\n",
       "  <th>Prob(Omnibus):</th> <td> 0.566</td> <th>  Jarque-Bera (JB):  </th> <td>   0.557</td>\n",
       "</tr>\n",
       "<tr>\n",
       "  <th>Skew:</th>          <td> 0.098</td> <th>  Prob(JB):          </th> <td>   0.757</td>\n",
       "</tr>\n",
       "<tr>\n",
       "  <th>Kurtosis:</th>      <td> 3.377</td> <th>  Cond. No.          </th> <td>    62.7</td>\n",
       "</tr>\n",
       "</table><br/><br/>Notes:<br/>[1] Standard Errors assume that the covariance matrix of the errors is correctly specified."
      ],
      "text/plain": [
       "<class 'statsmodels.iolib.summary.Summary'>\n",
       "\"\"\"\n",
       "                            OLS Regression Results                            \n",
       "==============================================================================\n",
       "Dep. Variable:                      y   R-squared:                       0.962\n",
       "Model:                            OLS   Adj. R-squared:                  0.961\n",
       "Method:                 Least Squares   F-statistic:                     1822.\n",
       "Date:                Thu, 24 Feb 2022   Prob (F-statistic):           7.16e-53\n",
       "Time:                        16:58:55   Log-Likelihood:                -681.77\n",
       "No. Observations:                  74   AIC:                             1368.\n",
       "Df Residuals:                      72   BIC:                             1372.\n",
       "Df Model:                           1                                         \n",
       "Covariance Type:            nonrobust                                         \n",
       "==============================================================================\n",
       "                 coef    std err          t      P>|t|      [0.025      0.975]\n",
       "------------------------------------------------------------------------------\n",
       "const       4995.1602    630.253      7.926      0.000    3738.774    6251.546\n",
       "idade        947.2298     22.189     42.689      0.000     902.997     991.463\n",
       "==============================================================================\n",
       "Omnibus:                        1.140   Durbin-Watson:                   0.813\n",
       "Prob(Omnibus):                  0.566   Jarque-Bera (JB):                0.557\n",
       "Skew:                           0.098   Prob(JB):                        0.757\n",
       "Kurtosis:                       3.377   Cond. No.                         62.7\n",
       "==============================================================================\n",
       "\n",
       "Notes:\n",
       "[1] Standard Errors assume that the covariance matrix of the errors is correctly specified.\n",
       "\"\"\""
      ]
     },
     "execution_count": 16,
     "metadata": {},
     "output_type": "execute_result"
    }
   ],
   "source": [
    "#Estimando um novo modelo OLS com variável dependente transformada por Box-Cox\n",
    "import statsmodels.api as sm\n",
    "x1 = sm.add_constant(dados['idade'])# Adicionar uma constante nas variaveis x\n",
    "y = dados['y_boxcox'].values\n",
    "modelo2 = sm.OLS(y,x1)\n",
    "modelo_boxcox = modelo2.fit()\n",
    "modelo_boxcox.summary()"
   ]
  },
  {
   "cell_type": "code",
   "execution_count": 17,
   "metadata": {},
   "outputs": [
    {
     "data": {
      "text/plain": [
       "const    2.110595e-11\n",
       "idade    7.162951e-53\n",
       "dtype: float64"
      ]
     },
     "execution_count": 17,
     "metadata": {},
     "output_type": "execute_result"
    }
   ],
   "source": [
    "#Teste t\n",
    "modelo_boxcox.pvalues"
   ]
  },
  {
   "cell_type": "markdown",
   "metadata": {},
   "source": [
    "**Valor do P-valor do teste t é estatisticamente significante**"
   ]
  },
  {
   "cell_type": "markdown",
   "metadata": {},
   "source": [
    "## R² Ajustado - Comparação entre modelos"
   ]
  },
  {
   "cell_type": "markdown",
   "metadata": {},
   "source": [
    "-Quando houver o intuito de se compararem os resultados das estimações de dois modelos com quantidades distintas de parâmetros e/ou obtidos a partir de amostras com tamanhos diferentes, faz-se necessário o uso do R² ajustado"
   ]
  },
  {
   "cell_type": "code",
   "execution_count": 18,
   "metadata": {},
   "outputs": [
    {
     "data": {
      "text/plain": [
       "0.9013158890976425"
      ]
     },
     "execution_count": 18,
     "metadata": {},
     "output_type": "execute_result"
    }
   ],
   "source": [
    "#R² ajustado do modelo de regressão linear\n",
    "modelo_linear.rsquared_adj"
   ]
  },
  {
   "cell_type": "code",
   "execution_count": 19,
   "metadata": {},
   "outputs": [
    {
     "data": {
      "text/plain": [
       "0.9614649910990887"
      ]
     },
     "execution_count": 19,
     "metadata": {},
     "output_type": "execute_result"
    }
   ],
   "source": [
    "#R² ajustado do modelo de Box-Cox\n",
    "modelo_boxcox.rsquared_adj"
   ]
  },
  {
   "cell_type": "markdown",
   "metadata": {},
   "source": [
    "**Note que o R² ajustado do modelo de Box-Cox é bem maior que o modelo linear**"
   ]
  },
  {
   "cell_type": "code",
   "execution_count": 33,
   "metadata": {},
   "outputs": [
    {
     "name": "stdout",
     "output_type": "stream",
     "text": [
      "Valor do teste de Shapiro Francia= 0.181918, é maior que 0.05 , Portanto há aderencia dos residuos há uma distribuição normal\n"
     ]
    }
   ],
   "source": [
    "#Teste de Shapiro Francia\n",
    "import scipy.stats as stats\n",
    "shapiro_stats, shapiro_p_valor = stats.shapiro(modelo_boxcox.resid)\n",
    "print(f'Valor do teste de Shapiro Francia= {shapiro_p_valor:.6f}, é maior que 0.05 , Portanto há aderencia dos residuos há uma distribuição normal')"
   ]
  },
  {
   "cell_type": "code",
   "execution_count": 21,
   "metadata": {},
   "outputs": [
    {
     "data": {
      "image/png": "[encoded data removed]",
      "text/plain": [
       "<Figure size 360x360 with 1 Axes>"
      ]
     },
     "metadata": {
      "needs_background": "light"
     },
     "output_type": "display_data"
    }
   ],
   "source": [
    " #Histograma da Aderência dos residuos\n",
    "\n",
    "#transformar os redisuos em uma coluna\n",
    "dados['residuos_BoxCox']=modelo_boxcox.resid\n",
    "\n",
    "#Construir o histograma\n",
    "sns.displot(dados['residuos_BoxCox'],kde=True,bins=20);\n",
    "plt.show()"
   ]
  },
  {
   "cell_type": "markdown",
   "metadata": {},
   "source": [
    "**As diferenças entre a distribuição normal e a distribuição real dos resíduos não se mostraram estatisticamente significantes a um nível de significância de 5%**"
   ]
  },
  {
   "cell_type": "markdown",
   "metadata": {},
   "source": [
    "### Predições com os modelos OLS linear e Box-Cox"
   ]
  },
  {
   "cell_type": "code",
   "execution_count": 22,
   "metadata": {},
   "outputs": [
    {
     "data": {
      "text/plain": [
       "0     60.981260\n",
       "1     62.863455\n",
       "2     64.275102\n",
       "3     64.275102\n",
       "4     64.980925\n",
       "        ...    \n",
       "69    71.803884\n",
       "70    72.274433\n",
       "71    77.450471\n",
       "72    78.862117\n",
       "73    79.332666\n",
       "Name: Pred_linear, Length: 74, dtype: float64"
      ]
     },
     "execution_count": 22,
     "metadata": {},
     "output_type": "execute_result"
    }
   ],
   "source": [
    "#Predições com os modelos OLS linear \n",
    "dados['Pred_linear'] = modelo_linear.predict(x1)\n",
    "dados['Pred_linear']"
   ]
  },
  {
   "cell_type": "code",
   "execution_count": 23,
   "metadata": {},
   "outputs": [
    {
     "data": {
      "text/plain": [
       "0     63.097300\n",
       "1     65.004303\n",
       "2     66.375858\n",
       "3     66.375858\n",
       "4     67.044337\n",
       "        ...    \n",
       "69    73.004869\n",
       "70    73.386942\n",
       "71    77.388462\n",
       "72    78.422026\n",
       "73    78.761571\n",
       "Name: Pred_boxcox, Length: 74, dtype: float64"
      ]
     },
     "execution_count": 23,
     "metadata": {},
     "output_type": "execute_result"
    }
   ],
   "source": [
    "#Predições com os modelos OLS Box-Cox\n",
    "pred_boxcox = modelo_boxcox.predict(x1)\n",
    "\n",
    "#Não podemos nos esquecer de fazer o cálculo inverso da Box-Cox para a obtenção do fitted\n",
    "dados['Pred_boxcox'] = (((pred_boxcox * lambda_boxcox) + 1)) ** (1 / lambda_boxcox)\n",
    "dados['Pred_boxcox']"
   ]
  },
  {
   "cell_type": "code",
   "execution_count": 27,
   "metadata": {},
   "outputs": [
    {
     "data": {
      "text/html": [
       "<div>\n",
       "<style scoped>\n",
       "    .dataframe tbody tr th:only-of-type {\n",
       "        vertical-align: middle;\n",
       "    }\n",
       "\n",
       "    .dataframe tbody tr th {\n",
       "        vertical-align: top;\n",
       "    }\n",
       "\n",
       "    .dataframe thead th {\n",
       "        text-align: right;\n",
       "    }\n",
       "</style>\n",
       "<table border=\"1\" class=\"dataframe\">\n",
       "  <thead>\n",
       "    <tr style=\"text-align: right;\">\n",
       "      <th></th>\n",
       "      <th>comprimento</th>\n",
       "      <th>idade</th>\n",
       "      <th>residuos_Linear</th>\n",
       "      <th>y_boxcox</th>\n",
       "      <th>residuos_BoxCox</th>\n",
       "      <th>Pred_linear</th>\n",
       "      <th>Pred_boxcox</th>\n",
       "    </tr>\n",
       "  </thead>\n",
       "  <tbody>\n",
       "    <tr>\n",
       "      <th>0</th>\n",
       "      <td>63.07</td>\n",
       "      <td>19.00</td>\n",
       "      <td>2.088740</td>\n",
       "      <td>22966.083193</td>\n",
       "      <td>-26.443175</td>\n",
       "      <td>60.981260</td>\n",
       "      <td>63.097300</td>\n",
       "    </tr>\n",
       "    <tr>\n",
       "      <th>1</th>\n",
       "      <td>65.63</td>\n",
       "      <td>21.00</td>\n",
       "      <td>2.766545</td>\n",
       "      <td>25529.065309</td>\n",
       "      <td>642.079341</td>\n",
       "      <td>62.863455</td>\n",
       "      <td>65.004303</td>\n",
       "    </tr>\n",
       "    <tr>\n",
       "      <th>2</th>\n",
       "      <td>65.63</td>\n",
       "      <td>22.50</td>\n",
       "      <td>1.354898</td>\n",
       "      <td>25529.065309</td>\n",
       "      <td>-778.765359</td>\n",
       "      <td>64.275102</td>\n",
       "      <td>66.375858</td>\n",
       "    </tr>\n",
       "    <tr>\n",
       "      <th>3</th>\n",
       "      <td>66.73</td>\n",
       "      <td>22.50</td>\n",
       "      <td>2.454898</td>\n",
       "      <td>26682.722356</td>\n",
       "      <td>374.891688</td>\n",
       "      <td>64.275102</td>\n",
       "      <td>66.375858</td>\n",
       "    </tr>\n",
       "    <tr>\n",
       "      <th>4</th>\n",
       "      <td>66.37</td>\n",
       "      <td>23.25</td>\n",
       "      <td>1.389075</td>\n",
       "      <td>26301.657668</td>\n",
       "      <td>-716.595351</td>\n",
       "      <td>64.980925</td>\n",
       "      <td>67.044337</td>\n",
       "    </tr>\n",
       "    <tr>\n",
       "      <th>...</th>\n",
       "      <td>...</td>\n",
       "      <td>...</td>\n",
       "      <td>...</td>\n",
       "      <td>...</td>\n",
       "      <td>...</td>\n",
       "      <td>...</td>\n",
       "      <td>...</td>\n",
       "    </tr>\n",
       "    <tr>\n",
       "      <th>69</th>\n",
       "      <td>75.90</td>\n",
       "      <td>30.50</td>\n",
       "      <td>4.096116</td>\n",
       "      <td>37577.490653</td>\n",
       "      <td>3691.821582</td>\n",
       "      <td>71.803884</td>\n",
       "      <td>73.004869</td>\n",
       "    </tr>\n",
       "    <tr>\n",
       "      <th>70</th>\n",
       "      <td>78.47</td>\n",
       "      <td>31.00</td>\n",
       "      <td>6.195567</td>\n",
       "      <td>41056.602846</td>\n",
       "      <td>6697.318875</td>\n",
       "      <td>72.274433</td>\n",
       "      <td>73.386942</td>\n",
       "    </tr>\n",
       "    <tr>\n",
       "      <th>71</th>\n",
       "      <td>80.67</td>\n",
       "      <td>36.50</td>\n",
       "      <td>3.219529</td>\n",
       "      <td>44189.008109</td>\n",
       "      <td>4619.960237</td>\n",
       "      <td>77.450471</td>\n",
       "      <td>77.388462</td>\n",
       "    </tr>\n",
       "    <tr>\n",
       "      <th>72</th>\n",
       "      <td>81.03</td>\n",
       "      <td>38.00</td>\n",
       "      <td>2.167883</td>\n",
       "      <td>44715.317793</td>\n",
       "      <td>3725.425221</td>\n",
       "      <td>78.862117</td>\n",
       "      <td>78.422026</td>\n",
       "    </tr>\n",
       "    <tr>\n",
       "      <th>73</th>\n",
       "      <td>78.47</td>\n",
       "      <td>38.50</td>\n",
       "      <td>-0.862666</td>\n",
       "      <td>41056.602846</td>\n",
       "      <td>-406.904626</td>\n",
       "      <td>79.332666</td>\n",
       "      <td>78.761571</td>\n",
       "    </tr>\n",
       "  </tbody>\n",
       "</table>\n",
       "<p>74 rows × 7 columns</p>\n",
       "</div>"
      ],
      "text/plain": [
       "    comprimento  idade  residuos_Linear      y_boxcox  residuos_BoxCox  \\\n",
       "0         63.07  19.00         2.088740  22966.083193       -26.443175   \n",
       "1         65.63  21.00         2.766545  25529.065309       642.079341   \n",
       "2         65.63  22.50         1.354898  25529.065309      -778.765359   \n",
       "3         66.73  22.50         2.454898  26682.722356       374.891688   \n",
       "4         66.37  23.25         1.389075  26301.657668      -716.595351   \n",
       "..          ...    ...              ...           ...              ...   \n",
       "69        75.90  30.50         4.096116  37577.490653      3691.821582   \n",
       "70        78.47  31.00         6.195567  41056.602846      6697.318875   \n",
       "71        80.67  36.50         3.219529  44189.008109      4619.960237   \n",
       "72        81.03  38.00         2.167883  44715.317793      3725.425221   \n",
       "73        78.47  38.50        -0.862666  41056.602846      -406.904626   \n",
       "\n",
       "    Pred_linear  Pred_boxcox  \n",
       "0     60.981260    63.097300  \n",
       "1     62.863455    65.004303  \n",
       "2     64.275102    66.375858  \n",
       "3     64.275102    66.375858  \n",
       "4     64.980925    67.044337  \n",
       "..          ...          ...  \n",
       "69    71.803884    73.004869  \n",
       "70    72.274433    73.386942  \n",
       "71    77.450471    77.388462  \n",
       "72    78.862117    78.422026  \n",
       "73    79.332666    78.761571  \n",
       "\n",
       "[74 rows x 7 columns]"
      ]
     },
     "execution_count": 27,
     "metadata": {},
     "output_type": "execute_result"
    }
   ],
   "source": [
    "#Base de dados completa\n",
    "dados"
   ]
  },
  {
   "cell_type": "markdown",
   "metadata": {},
   "source": [
    "# Comparaçao dos modelos (LINEAR e NAO LINEAR)"
   ]
  },
  {
   "cell_type": "code",
   "execution_count": 25,
   "metadata": {},
   "outputs": [
    {
     "name": "stdout",
     "output_type": "stream",
     "text": [
      "15.860451853514565\n",
      "3.0233244903307326\n"
     ]
    }
   ],
   "source": [
    "from sklearn.metrics import mean_absolute_error,mean_squared_error\n",
    "#Modelo de regressão linear\n",
    "print(mean_squared_error(dados['comprimento'],dados['Pred_linear']))\n",
    "print(mean_absolute_error(dados['comprimento'],dados['Pred_linear']))"
   ]
  },
  {
   "cell_type": "code",
   "execution_count": 26,
   "metadata": {},
   "outputs": [
    {
     "name": "stdout",
     "output_type": "stream",
     "text": [
      "6.044296776882885\n",
      "1.8710438870110118\n"
     ]
    }
   ],
   "source": [
    "#Modelo não linear\n",
    "print(mean_squared_error(dados['comprimento'],dados['Pred_boxcox']))\n",
    "print(mean_absolute_error(dados['comprimento'],dados['Pred_boxcox']))"
   ]
  },
  {
   "cell_type": "markdown",
   "metadata": {},
   "source": [
    "**Verificando as metricas mean_absolute_error e mean_squared_error, confirmamos que o modelo não linear (Box-Cox) apresenta um resultado melhor do que o modelo linear** "
   ]
  },
  {
   "cell_type": "code",
   "execution_count": null,
   "metadata": {},
   "outputs": [],
   "source": []
  }
 ],
 "metadata": {
  "anaconda-cloud": {},
  "kernelspec": {
   "display_name": "Python 3 (ipykernel)",
   "language": "python",
   "name": "python3"
  },
  "language_info": {
   "codemirror_mode": {
    "name": "ipython",
    "version": 3
   },
   "file_extension": ".py",
   "mimetype": "text/x-python",
   "name": "python",
   "nbconvert_exporter": "python",
   "pygments_lexer": "ipython3",
   "version": "3.9.7"
  }
 },
 "nbformat": 4,
 "nbformat_minor": 1
}
