{
 "cells": [
  {
   "cell_type": "markdown",
   "metadata": {},
   "source": [
    "$$CONCEITO:$$\n",
    "\n",
    "**Arvore de decisão** = É composta por perguntas e respostas booleanas das variáveis explicativas, representando-as em formato de pirâmide, sendo o 1° pilar(nó raiz) a variável que explica o maior número de dados da variável target, seguindo pelos nós de decisões( outras variáveis explicativas), até o nó folha onde é gerado a resposta da variável target\n",
    "\n",
    "**Nó raiz** = Representa a variável explicativa com a maior capacidade de predição\n",
    "\n",
    "**Nó de decisão** = Percorre os caminhos ditados pelo nó raiz e pelos nós de decisão até se alcançar os nós folha (Representadas pelas variáveis explicativas\n",
    "\n",
    "**Nó folha** = São as classes da variável target\n",
    "                                                \n",
    "**Métodos Ensemble** = Método que constrói vários modelos de machine learning\n",
    "\n",
    "**Ensemble -Hard Voting** = Método de Classificação mais votada, são construídos varios modelos, e a classificação da classe vai ocorrer através das previsões mais frequentes daquela classe\n",
    "\n",
    "**Ensemble -Aggregation** = Método de Regressão ou Classificação, são gerados varios modelos para então obter a media de  probabilidades para fazer a previsão final\n",
    "\n",
    "\n",
    "**Random Forest** = São criadas várias árvores de decisão, existe duas etapas importantes do processo acontecendo de maneira aleatória, tanto a seleção de variáveis quanto a seleção de amostras\n",
    "\n",
    "**Baggin ou Boostrap Sampling(Boostrap Aggregation)** = São criadas várias arvores com dados aleatórios e reposição de amostras, escolhemos o numeros de variáveis e o algoritimo vai criar várias arvores com diferentes variáveis e dados aleatórios, temos duas etapas importantes do processo acontecendo de maneira aleatória, tanto a seleção de variáveis quanto a seleção de amostras.\n",
    "\n",
    "**Random Forest X Baggin** = A única diferença é que no modelo Baggin você pode usar outros algoritimos assim como: árvore de decisão, KNN, Regressão Linear, etc.\n",
    "\n",
    "**ExtraTrees** = Igual o Baggin e Random Forest porém após a seleção aleatória das variáveis candidatas para o nó inicial, os dados existentes em cada uma destas variáveis serão separados também de maneira aleatória, para que o nó raiz varie em algumas árvores, é importante verificar caso existirem muitas variáveis que não estejam ajudando no problema o algoritmo poderá acabar escolhendo essas variáveis para começar os nós, acarretando muitos erros ao modelo \n",
    "\n",
    "**Adaboost** = O Modelo começa ajustando um classificador no conjunto de dados original e depois ajusta cópias adicionais do classificador no mesmo conjunto de dados, mas onde os pesos das instâncias classificadas incorretamente são ajustados (Underfitting) para que os classificadores subsequentes se concentrem mais em casos difíceis.\n",
    " \n",
    "**OBS: Esse modelo permite ser usado com outros algoritimos diferente das árvores de decisão**\n",
    "\n",
    "**Gradient Boosting** = Cada nova árvore é um ajuste em uma versão modificada do conjunto de dados original.\n",
    "O objetivo do algoritmo é criar uma corrente de modelos fracos, onde cada um tem como objetivo minimizar o erro do modelo anterior, por meio de uma função de perda.\n",
    "\n",
    "**OBS: Modelo usado somente com arvores de decisão**\n",
    "\n",
    "**XGBoost** = É uma melhora do Gradient Boosting pois possui mais parâmetros e é otimizada tanto para eficiência de memória quanto para velocidade de treinamento.\n",
    "\n",
    "**Boosting X Bagging** = No **Bagging** você treina varios modelos em paralelo e a média dos modelos de regressão ou a frequência nos modelos de classificação vai definir o melhor modelo, já no **Boosting** você aprende com os dados da etapa anterior dando um peso maior nos dados que está errando mais, fazendo com que as futuras iteração com os novos dados melhorem as metricas dos modelos\n",
    "\n",
    "**Stacking** = É uma maneira de fazer o ensemble na qual usamos modelos para fazer previsões, e depois usamos estas previsões como features em novos modelos\n",
    "\n",
    "\n",
    "**Otimização de hiperparâmetros (tuning)** = Escolher um conjunto de hiperparâmetros ótimos para um algoritmo de aprendizado\n",
    "\n",
    "**Tipo de Distribuição:**\n",
    "\n",
    "- **Não Paramétrica**\n"
   ]
  },
  {
   "cell_type": "markdown",
   "metadata": {},
   "source": [
    "## Objetivo: Verificar a acurácia dos modelos Ensamble"
   ]
  },
  {
   "cell_type": "code",
   "execution_count": 1,
   "metadata": {},
   "outputs": [],
   "source": [
    "#Importar as bibliotecas\n",
    "import numpy as np\n",
    "import pandas as pd\n",
    "from sklearn.ensemble import BaggingClassifier\n",
    "from sklearn.tree import DecisionTreeClassifier\n",
    "from sklearn.model_selection import cross_val_score\n",
    "from sklearn.preprocessing import scale"
   ]
  },
  {
   "cell_type": "markdown",
   "metadata": {},
   "source": [
    "## Carregando o dataset"
   ]
  },
  {
   "cell_type": "code",
   "execution_count": 2,
   "metadata": {},
   "outputs": [
    {
     "data": {
      "text/html": [
       "<div>\n",
       "<style scoped>\n",
       "    .dataframe tbody tr th:only-of-type {\n",
       "        vertical-align: middle;\n",
       "    }\n",
       "\n",
       "    .dataframe tbody tr th {\n",
       "        vertical-align: top;\n",
       "    }\n",
       "\n",
       "    .dataframe thead th {\n",
       "        text-align: right;\n",
       "    }\n",
       "</style>\n",
       "<table border=\"1\" class=\"dataframe\">\n",
       "  <thead>\n",
       "    <tr style=\"text-align: right;\">\n",
       "      <th></th>\n",
       "      <th>person_age</th>\n",
       "      <th>person_income</th>\n",
       "      <th>person_home_ownership</th>\n",
       "      <th>person_emp_length</th>\n",
       "      <th>loan_intent</th>\n",
       "      <th>loan_grade</th>\n",
       "      <th>loan_amnt</th>\n",
       "      <th>loan_int_rate</th>\n",
       "      <th>loan_status</th>\n",
       "      <th>loan_percent_income</th>\n",
       "      <th>cb_person_default_on_file</th>\n",
       "      <th>cb_person_cred_hist_length</th>\n",
       "    </tr>\n",
       "  </thead>\n",
       "  <tbody>\n",
       "    <tr>\n",
       "      <th>0</th>\n",
       "      <td>22</td>\n",
       "      <td>59000</td>\n",
       "      <td>RENT</td>\n",
       "      <td>123.0</td>\n",
       "      <td>PERSONAL</td>\n",
       "      <td>D</td>\n",
       "      <td>35000</td>\n",
       "      <td>16.02</td>\n",
       "      <td>1</td>\n",
       "      <td>0.59</td>\n",
       "      <td>Y</td>\n",
       "      <td>3</td>\n",
       "    </tr>\n",
       "    <tr>\n",
       "      <th>1</th>\n",
       "      <td>21</td>\n",
       "      <td>9600</td>\n",
       "      <td>OWN</td>\n",
       "      <td>5.0</td>\n",
       "      <td>EDUCATION</td>\n",
       "      <td>B</td>\n",
       "      <td>1000</td>\n",
       "      <td>11.14</td>\n",
       "      <td>0</td>\n",
       "      <td>0.10</td>\n",
       "      <td>N</td>\n",
       "      <td>2</td>\n",
       "    </tr>\n",
       "    <tr>\n",
       "      <th>2</th>\n",
       "      <td>25</td>\n",
       "      <td>9600</td>\n",
       "      <td>MORTGAGE</td>\n",
       "      <td>1.0</td>\n",
       "      <td>MEDICAL</td>\n",
       "      <td>C</td>\n",
       "      <td>5500</td>\n",
       "      <td>12.87</td>\n",
       "      <td>1</td>\n",
       "      <td>0.57</td>\n",
       "      <td>N</td>\n",
       "      <td>3</td>\n",
       "    </tr>\n",
       "    <tr>\n",
       "      <th>3</th>\n",
       "      <td>23</td>\n",
       "      <td>65500</td>\n",
       "      <td>RENT</td>\n",
       "      <td>4.0</td>\n",
       "      <td>MEDICAL</td>\n",
       "      <td>C</td>\n",
       "      <td>35000</td>\n",
       "      <td>15.23</td>\n",
       "      <td>1</td>\n",
       "      <td>0.53</td>\n",
       "      <td>N</td>\n",
       "      <td>2</td>\n",
       "    </tr>\n",
       "    <tr>\n",
       "      <th>4</th>\n",
       "      <td>24</td>\n",
       "      <td>54400</td>\n",
       "      <td>RENT</td>\n",
       "      <td>8.0</td>\n",
       "      <td>MEDICAL</td>\n",
       "      <td>C</td>\n",
       "      <td>35000</td>\n",
       "      <td>14.27</td>\n",
       "      <td>1</td>\n",
       "      <td>0.55</td>\n",
       "      <td>Y</td>\n",
       "      <td>4</td>\n",
       "    </tr>\n",
       "    <tr>\n",
       "      <th>...</th>\n",
       "      <td>...</td>\n",
       "      <td>...</td>\n",
       "      <td>...</td>\n",
       "      <td>...</td>\n",
       "      <td>...</td>\n",
       "      <td>...</td>\n",
       "      <td>...</td>\n",
       "      <td>...</td>\n",
       "      <td>...</td>\n",
       "      <td>...</td>\n",
       "      <td>...</td>\n",
       "      <td>...</td>\n",
       "    </tr>\n",
       "    <tr>\n",
       "      <th>32576</th>\n",
       "      <td>57</td>\n",
       "      <td>53000</td>\n",
       "      <td>MORTGAGE</td>\n",
       "      <td>1.0</td>\n",
       "      <td>PERSONAL</td>\n",
       "      <td>C</td>\n",
       "      <td>5800</td>\n",
       "      <td>13.16</td>\n",
       "      <td>0</td>\n",
       "      <td>0.11</td>\n",
       "      <td>N</td>\n",
       "      <td>30</td>\n",
       "    </tr>\n",
       "    <tr>\n",
       "      <th>32577</th>\n",
       "      <td>54</td>\n",
       "      <td>120000</td>\n",
       "      <td>MORTGAGE</td>\n",
       "      <td>4.0</td>\n",
       "      <td>PERSONAL</td>\n",
       "      <td>A</td>\n",
       "      <td>17625</td>\n",
       "      <td>7.49</td>\n",
       "      <td>0</td>\n",
       "      <td>0.15</td>\n",
       "      <td>N</td>\n",
       "      <td>19</td>\n",
       "    </tr>\n",
       "    <tr>\n",
       "      <th>32578</th>\n",
       "      <td>65</td>\n",
       "      <td>76000</td>\n",
       "      <td>RENT</td>\n",
       "      <td>3.0</td>\n",
       "      <td>HOMEIMPROVEMENT</td>\n",
       "      <td>B</td>\n",
       "      <td>35000</td>\n",
       "      <td>10.99</td>\n",
       "      <td>1</td>\n",
       "      <td>0.46</td>\n",
       "      <td>N</td>\n",
       "      <td>28</td>\n",
       "    </tr>\n",
       "    <tr>\n",
       "      <th>32579</th>\n",
       "      <td>56</td>\n",
       "      <td>150000</td>\n",
       "      <td>MORTGAGE</td>\n",
       "      <td>5.0</td>\n",
       "      <td>PERSONAL</td>\n",
       "      <td>B</td>\n",
       "      <td>15000</td>\n",
       "      <td>11.48</td>\n",
       "      <td>0</td>\n",
       "      <td>0.10</td>\n",
       "      <td>N</td>\n",
       "      <td>26</td>\n",
       "    </tr>\n",
       "    <tr>\n",
       "      <th>32580</th>\n",
       "      <td>66</td>\n",
       "      <td>42000</td>\n",
       "      <td>RENT</td>\n",
       "      <td>2.0</td>\n",
       "      <td>MEDICAL</td>\n",
       "      <td>B</td>\n",
       "      <td>6475</td>\n",
       "      <td>9.99</td>\n",
       "      <td>0</td>\n",
       "      <td>0.15</td>\n",
       "      <td>N</td>\n",
       "      <td>30</td>\n",
       "    </tr>\n",
       "  </tbody>\n",
       "</table>\n",
       "<p>32581 rows × 12 columns</p>\n",
       "</div>"
      ],
      "text/plain": [
       "       person_age  person_income person_home_ownership  person_emp_length  \\\n",
       "0              22          59000                  RENT              123.0   \n",
       "1              21           9600                   OWN                5.0   \n",
       "2              25           9600              MORTGAGE                1.0   \n",
       "3              23          65500                  RENT                4.0   \n",
       "4              24          54400                  RENT                8.0   \n",
       "...           ...            ...                   ...                ...   \n",
       "32576          57          53000              MORTGAGE                1.0   \n",
       "32577          54         120000              MORTGAGE                4.0   \n",
       "32578          65          76000                  RENT                3.0   \n",
       "32579          56         150000              MORTGAGE                5.0   \n",
       "32580          66          42000                  RENT                2.0   \n",
       "\n",
       "           loan_intent loan_grade  loan_amnt  loan_int_rate  loan_status  \\\n",
       "0             PERSONAL          D      35000          16.02            1   \n",
       "1            EDUCATION          B       1000          11.14            0   \n",
       "2              MEDICAL          C       5500          12.87            1   \n",
       "3              MEDICAL          C      35000          15.23            1   \n",
       "4              MEDICAL          C      35000          14.27            1   \n",
       "...                ...        ...        ...            ...          ...   \n",
       "32576         PERSONAL          C       5800          13.16            0   \n",
       "32577         PERSONAL          A      17625           7.49            0   \n",
       "32578  HOMEIMPROVEMENT          B      35000          10.99            1   \n",
       "32579         PERSONAL          B      15000          11.48            0   \n",
       "32580          MEDICAL          B       6475           9.99            0   \n",
       "\n",
       "       loan_percent_income cb_person_default_on_file  \\\n",
       "0                     0.59                         Y   \n",
       "1                     0.10                         N   \n",
       "2                     0.57                         N   \n",
       "3                     0.53                         N   \n",
       "4                     0.55                         Y   \n",
       "...                    ...                       ...   \n",
       "32576                 0.11                         N   \n",
       "32577                 0.15                         N   \n",
       "32578                 0.46                         N   \n",
       "32579                 0.10                         N   \n",
       "32580                 0.15                         N   \n",
       "\n",
       "       cb_person_cred_hist_length  \n",
       "0                               3  \n",
       "1                               2  \n",
       "2                               3  \n",
       "3                               2  \n",
       "4                               4  \n",
       "...                           ...  \n",
       "32576                          30  \n",
       "32577                          19  \n",
       "32578                          28  \n",
       "32579                          26  \n",
       "32580                          30  \n",
       "\n",
       "[32581 rows x 12 columns]"
      ]
     },
     "execution_count": 2,
     "metadata": {},
     "output_type": "execute_result"
    }
   ],
   "source": [
    "dados = pd.read_csv('credit.csv',encoding='latin1',sep=',')\n",
    "dados"
   ]
  },
  {
   "cell_type": "markdown",
   "metadata": {},
   "source": [
    "Fonte: https://www.kaggle.com/laotse/credit-risk-dataset"
   ]
  },
  {
   "cell_type": "code",
   "execution_count": 3,
   "metadata": {},
   "outputs": [
    {
     "name": "stdout",
     "output_type": "stream",
     "text": [
      "<class 'pandas.core.frame.DataFrame'>\n",
      "RangeIndex: 32581 entries, 0 to 32580\n",
      "Data columns (total 12 columns):\n",
      " #   Column                      Non-Null Count  Dtype  \n",
      "---  ------                      --------------  -----  \n",
      " 0   person_age                  32581 non-null  int64  \n",
      " 1   person_income               32581 non-null  int64  \n",
      " 2   person_home_ownership       32581 non-null  object \n",
      " 3   person_emp_length           31686 non-null  float64\n",
      " 4   loan_intent                 32581 non-null  object \n",
      " 5   loan_grade                  32581 non-null  object \n",
      " 6   loan_amnt                   32581 non-null  int64  \n",
      " 7   loan_int_rate               29465 non-null  float64\n",
      " 8   loan_status                 32581 non-null  int64  \n",
      " 9   loan_percent_income         32581 non-null  float64\n",
      " 10  cb_person_default_on_file   32581 non-null  object \n",
      " 11  cb_person_cred_hist_length  32581 non-null  int64  \n",
      "dtypes: float64(3), int64(5), object(4)\n",
      "memory usage: 3.0+ MB\n"
     ]
    }
   ],
   "source": [
    "#Tipo de dados\n",
    "dados.info()"
   ]
  },
  {
   "cell_type": "markdown",
   "metadata": {},
   "source": [
    "**Temos 4 variáveis categóricas que precisamos trata-las para que consigamos usar o algoritimo de Random Forest**"
   ]
  },
  {
   "cell_type": "code",
   "execution_count": 4,
   "metadata": {},
   "outputs": [
    {
     "name": "stdout",
     "output_type": "stream",
     "text": [
      "<class 'pandas.core.frame.DataFrame'>\n",
      "RangeIndex: 32581 entries, 0 to 32580\n",
      "Data columns (total 12 columns):\n",
      " #   Column                      Non-Null Count  Dtype  \n",
      "---  ------                      --------------  -----  \n",
      " 0   person_age                  32581 non-null  int64  \n",
      " 1   person_income               32581 non-null  int64  \n",
      " 2   person_home_ownership       32581 non-null  int32  \n",
      " 3   person_emp_length           31686 non-null  float64\n",
      " 4   loan_intent                 32581 non-null  int32  \n",
      " 5   loan_grade                  32581 non-null  int32  \n",
      " 6   loan_amnt                   32581 non-null  int64  \n",
      " 7   loan_int_rate               29465 non-null  float64\n",
      " 8   loan_status                 32581 non-null  int64  \n",
      " 9   loan_percent_income         32581 non-null  float64\n",
      " 10  cb_person_default_on_file   32581 non-null  int32  \n",
      " 11  cb_person_cred_hist_length  32581 non-null  int64  \n",
      "dtypes: float64(3), int32(4), int64(5)\n",
      "memory usage: 2.5 MB\n"
     ]
    }
   ],
   "source": [
    "#Aplicar transformação nos dados\n",
    "from category_encoders.one_hot import OrdinalEncoder\n",
    "#OrdinalEncoder\n",
    "af = OrdinalEncoder(cols=['person_home_ownership','loan_intent','loan_grade','cb_person_default_on_file'])\n",
    "dados_transform = af.fit_transform(dados)\n",
    "dados_transform.info()"
   ]
  },
  {
   "cell_type": "markdown",
   "metadata": {},
   "source": [
    "**Todas as variáveis são numéricas**"
   ]
  },
  {
   "cell_type": "markdown",
   "metadata": {},
   "source": [
    "## Verificar dados NANs"
   ]
  },
  {
   "cell_type": "code",
   "execution_count": 97,
   "metadata": {},
   "outputs": [
    {
     "name": "stdout",
     "output_type": "stream",
     "text": [
      "Dados NaN = 4011\n",
      "Dados NaN após transformação = 0\n",
      "Tamanho do dataset após transformação = 28638\n"
     ]
    }
   ],
   "source": [
    "#Verificar dados NAN\n",
    "nan = dados_transform.isnull().values.sum()\n",
    "print(f'Dados NaN = {nan}')\n",
    "\n",
    "#Remover dados NaN\n",
    "dados_transform1 = pd.DataFrame(dados_transform.dropna(axis=0, how='any'))\n",
    "print(f'Dados NaN após transformação = {dados_transform1.isnull().values.sum()}')\n",
    "print(f'Tamanho do dataset após transformação = {len(dados_transform1)}')"
   ]
  },
  {
   "cell_type": "markdown",
   "metadata": {},
   "source": [
    "## Pré-processamento dos dados"
   ]
  },
  {
   "cell_type": "code",
   "execution_count": 150,
   "metadata": {},
   "outputs": [
    {
     "data": {
      "text/html": [
       "<div>\n",
       "<style scoped>\n",
       "    .dataframe tbody tr th:only-of-type {\n",
       "        vertical-align: middle;\n",
       "    }\n",
       "\n",
       "    .dataframe tbody tr th {\n",
       "        vertical-align: top;\n",
       "    }\n",
       "\n",
       "    .dataframe thead th {\n",
       "        text-align: right;\n",
       "    }\n",
       "</style>\n",
       "<table border=\"1\" class=\"dataframe\">\n",
       "  <thead>\n",
       "    <tr style=\"text-align: right;\">\n",
       "      <th></th>\n",
       "      <th>person_age</th>\n",
       "      <th>person_income</th>\n",
       "      <th>person_home_ownership</th>\n",
       "      <th>person_emp_length</th>\n",
       "      <th>loan_intent</th>\n",
       "      <th>loan_grade</th>\n",
       "      <th>loan_amnt</th>\n",
       "      <th>loan_int_rate</th>\n",
       "      <th>loan_percent_income</th>\n",
       "      <th>cb_person_default_on_file</th>\n",
       "      <th>cb_person_cred_hist_length</th>\n",
       "    </tr>\n",
       "  </thead>\n",
       "  <tbody>\n",
       "    <tr>\n",
       "      <th>0</th>\n",
       "      <td>-0.907594</td>\n",
       "      <td>-0.122674</td>\n",
       "      <td>-0.946578</td>\n",
       "      <td>28.453433</td>\n",
       "      <td>-1.390536</td>\n",
       "      <td>-1.639115</td>\n",
       "      <td>4.003984</td>\n",
       "      <td>1.542164</td>\n",
       "      <td>3.952527</td>\n",
       "      <td>-2.147555</td>\n",
       "      <td>-0.691791</td>\n",
       "    </tr>\n",
       "    <tr>\n",
       "      <th>1</th>\n",
       "      <td>-1.066064</td>\n",
       "      <td>-0.914907</td>\n",
       "      <td>0.093003</td>\n",
       "      <td>0.050866</td>\n",
       "      <td>-0.795376</td>\n",
       "      <td>-0.763906</td>\n",
       "      <td>-1.367627</td>\n",
       "      <td>0.031008</td>\n",
       "      <td>-0.653141</td>\n",
       "      <td>0.465646</td>\n",
       "      <td>-0.939413</td>\n",
       "    </tr>\n",
       "    <tr>\n",
       "      <th>2</th>\n",
       "      <td>-0.432183</td>\n",
       "      <td>-0.914907</td>\n",
       "      <td>1.132583</td>\n",
       "      <td>-0.911932</td>\n",
       "      <td>-0.200216</td>\n",
       "      <td>0.111304</td>\n",
       "      <td>-0.656678</td>\n",
       "      <td>0.566725</td>\n",
       "      <td>3.764540</td>\n",
       "      <td>0.465646</td>\n",
       "      <td>-0.691791</td>\n",
       "    </tr>\n",
       "    <tr>\n",
       "      <th>3</th>\n",
       "      <td>-0.749123</td>\n",
       "      <td>-0.018433</td>\n",
       "      <td>-0.946578</td>\n",
       "      <td>-0.189833</td>\n",
       "      <td>-0.200216</td>\n",
       "      <td>0.111304</td>\n",
       "      <td>4.003984</td>\n",
       "      <td>1.297530</td>\n",
       "      <td>3.388567</td>\n",
       "      <td>0.465646</td>\n",
       "      <td>-0.939413</td>\n",
       "    </tr>\n",
       "    <tr>\n",
       "      <th>4</th>\n",
       "      <td>-0.590653</td>\n",
       "      <td>-0.196445</td>\n",
       "      <td>-0.946578</td>\n",
       "      <td>0.772966</td>\n",
       "      <td>-0.200216</td>\n",
       "      <td>0.111304</td>\n",
       "      <td>4.003984</td>\n",
       "      <td>1.000253</td>\n",
       "      <td>3.576554</td>\n",
       "      <td>-2.147555</td>\n",
       "      <td>-0.444169</td>\n",
       "    </tr>\n",
       "  </tbody>\n",
       "</table>\n",
       "</div>"
      ],
      "text/plain": [
       "   person_age  person_income  person_home_ownership  person_emp_length  \\\n",
       "0   -0.907594      -0.122674              -0.946578          28.453433   \n",
       "1   -1.066064      -0.914907               0.093003           0.050866   \n",
       "2   -0.432183      -0.914907               1.132583          -0.911932   \n",
       "3   -0.749123      -0.018433              -0.946578          -0.189833   \n",
       "4   -0.590653      -0.196445              -0.946578           0.772966   \n",
       "\n",
       "   loan_intent  loan_grade  loan_amnt  loan_int_rate  loan_percent_income  \\\n",
       "0    -1.390536   -1.639115   4.003984       1.542164             3.952527   \n",
       "1    -0.795376   -0.763906  -1.367627       0.031008            -0.653141   \n",
       "2    -0.200216    0.111304  -0.656678       0.566725             3.764540   \n",
       "3    -0.200216    0.111304   4.003984       1.297530             3.388567   \n",
       "4    -0.200216    0.111304   4.003984       1.000253             3.576554   \n",
       "\n",
       "   cb_person_default_on_file  cb_person_cred_hist_length  \n",
       "0                  -2.147555                   -0.691791  \n",
       "1                   0.465646                   -0.939413  \n",
       "2                   0.465646                   -0.691791  \n",
       "3                   0.465646                   -0.939413  \n",
       "4                  -2.147555                   -0.444169  "
      ]
     },
     "execution_count": 150,
     "metadata": {},
     "output_type": "execute_result"
    }
   ],
   "source": [
    "# Coloca todos os dados na mesma escala\n",
    "import warnings\n",
    "warnings.filterwarnings('ignore')\n",
    "\n",
    "col = dados_transform1.columns\n",
    "dados_scale = pd.DataFrame(scale(dados_transform1),columns=col)\n",
    "dados_scale_x = dados_scale.drop('loan_status', 1) # Apenas Variaveis Explicativas\n",
    "dados_scale_y = dados_transform1.loan_status # Variavel Target\n",
    "dados_scale_x.head(5)"
   ]
  },
  {
   "cell_type": "markdown",
   "metadata": {},
   "source": [
    "**Não é necessário a padronização dos dados**"
   ]
  },
  {
   "cell_type": "markdown",
   "metadata": {},
   "source": [
    "# Modelagem "
   ]
  },
  {
   "cell_type": "markdown",
   "metadata": {},
   "source": [
    "## Bagging"
   ]
  },
  {
   "cell_type": "markdown",
   "metadata": {},
   "source": [
    "http://scikit-learn.org/stable/modules/generated/sklearn.ensemble.BaggingClassifier.html"
   ]
  },
  {
   "cell_type": "code",
   "execution_count": 123,
   "metadata": {},
   "outputs": [],
   "source": [
    "#Divisão dos dados \n",
    "from sklearn.model_selection import train_test_split\n",
    "X_train, X_test, y_train, y_test = train_test_split(dados_scale_x,dados_scale_y,test_size=0.3,random_state=1)"
   ]
  },
  {
   "cell_type": "code",
   "execution_count": 155,
   "metadata": {},
   "outputs": [],
   "source": [
    "# Construção do Classificador\n",
    "bagging = BaggingClassifier(DecisionTreeClassifier(), max_samples = 1.0, max_features = 10, random_state = 1)\n"
   ]
  },
  {
   "cell_type": "code",
   "execution_count": 125,
   "metadata": {},
   "outputs": [],
   "source": [
    "#Treinar o modelo com os dados de treino\n",
    "modelo_bagging =  bagging.fit(X_train, y_train)"
   ]
  },
  {
   "cell_type": "code",
   "execution_count": 158,
   "metadata": {},
   "outputs": [
    {
     "data": {
      "text/plain": [
       "0.9128431079186798"
      ]
     },
     "execution_count": 158,
     "metadata": {},
     "output_type": "execute_result"
    }
   ],
   "source": [
    "# Score do modelo\n",
    "scores = cross_val_score(modelo_bagging, dados_scale_x, dados_scale_y)\n",
    "# Média do score\n",
    "mean = scores.mean()\n",
    "mean"
   ]
  },
  {
   "cell_type": "code",
   "execution_count": 127,
   "metadata": {},
   "outputs": [
    {
     "data": {
      "text/plain": [
       "0.9258612662942272"
      ]
     },
     "execution_count": 127,
     "metadata": {},
     "output_type": "execute_result"
    }
   ],
   "source": [
    "#Score do modelo com os dados de teste\n",
    "bagging_score = modelo_bagging.score(X_test,y_test)\n",
    "bagging_score"
   ]
  },
  {
   "cell_type": "markdown",
   "metadata": {},
   "source": [
    "## Extremely Randomized Trees (ExtraTrees)"
   ]
  },
  {
   "cell_type": "code",
   "execution_count": 128,
   "metadata": {},
   "outputs": [],
   "source": [
    "from sklearn.ensemble import ExtraTreesClassifier"
   ]
  },
  {
   "cell_type": "markdown",
   "metadata": {},
   "source": [
    "http://scikit-learn.org/stable/modules/generated/sklearn.ensemble.ExtraTreesClassifier.html"
   ]
  },
  {
   "cell_type": "code",
   "execution_count": 129,
   "metadata": {},
   "outputs": [],
   "source": [
    "# Construção do Classificador\n",
    "ExtraTrees = ExtraTreesClassifier(min_samples_split = 2, random_state = 1)"
   ]
  },
  {
   "cell_type": "code",
   "execution_count": 130,
   "metadata": {},
   "outputs": [],
   "source": [
    "#Treinar o modelo com os dados de treino\n",
    "modelo_ExtraTrees = ExtraTrees.fit(X_train, y_train)\n"
   ]
  },
  {
   "cell_type": "code",
   "execution_count": 131,
   "metadata": {},
   "outputs": [
    {
     "data": {
      "text/plain": [
       "0.9198344746763671"
      ]
     },
     "execution_count": 131,
     "metadata": {},
     "output_type": "execute_result"
    }
   ],
   "source": [
    "# Score do modelo\n",
    "scores = cross_val_score(modelo_ExtraTrees, X_train, y_train)\n",
    "# Média do score\n",
    "mean = scores.mean();mean"
   ]
  },
  {
   "cell_type": "code",
   "execution_count": 132,
   "metadata": {},
   "outputs": [
    {
     "data": {
      "text/plain": [
       "0.9233007448789572"
      ]
     },
     "execution_count": 132,
     "metadata": {},
     "output_type": "execute_result"
    }
   ],
   "source": [
    "#Score do modelo com os dados de teste\n",
    "ExtraTrees_score = modelo_ExtraTrees.score(X_test,y_test)\n",
    "ExtraTrees_score"
   ]
  },
  {
   "cell_type": "markdown",
   "metadata": {},
   "source": [
    "## Adaboost - DecisionTreeClassifier"
   ]
  },
  {
   "cell_type": "code",
   "execution_count": 18,
   "metadata": {},
   "outputs": [],
   "source": [
    "from sklearn.ensemble import AdaBoostClassifier\n"
   ]
  },
  {
   "cell_type": "markdown",
   "metadata": {},
   "source": [
    "http://scikit-learn.org/stable/modules/generated/sklearn.ensemble.AdaBoostClassifier.html"
   ]
  },
  {
   "cell_type": "code",
   "execution_count": 90,
   "metadata": {},
   "outputs": [],
   "source": [
    "# Construção do Classificador\n",
    "AdaBoost_decision_T = AdaBoostClassifier(base_estimator = DecisionTreeClassifier(), \n",
    "                                learning_rate = 0.1, \n",
    "                                n_estimators = 400, \n",
    "                                algorithm = \"SAMME\",\n",
    "                                random_state=1)"
   ]
  },
  {
   "cell_type": "code",
   "execution_count": 91,
   "metadata": {},
   "outputs": [
    {
     "data": {
      "text/plain": [
       "AdaBoostClassifier(algorithm='SAMME', base_estimator=DecisionTreeClassifier(),\n",
       "                   learning_rate=0.1, n_estimators=400, random_state=1)"
      ]
     },
     "execution_count": 91,
     "metadata": {},
     "output_type": "execute_result"
    }
   ],
   "source": [
    "#Treinar o modelo com os dados de treino\n",
    "modelo_AdaBoost1  =  AdaBoost_decision_T.fit(X_train, y_train)\n",
    "modelo_AdaBoost1"
   ]
  },
  {
   "cell_type": "code",
   "execution_count": 92,
   "metadata": {},
   "outputs": [
    {
     "data": {
      "text/plain": [
       "0.8775318998587343"
      ]
     },
     "execution_count": 92,
     "metadata": {},
     "output_type": "execute_result"
    }
   ],
   "source": [
    "# Score do modelo\n",
    "scores1 = cross_val_score(modelo_AdaBoost1, X_train, y_train)\n",
    "# Média do score\n",
    "mean = scores1.mean();mean"
   ]
  },
  {
   "cell_type": "code",
   "execution_count": 93,
   "metadata": {},
   "outputs": [
    {
     "data": {
      "text/plain": [
       "0.8841945996275605"
      ]
     },
     "execution_count": 93,
     "metadata": {},
     "output_type": "execute_result"
    }
   ],
   "source": [
    "#Score do modelo com os dados de teste\n",
    "AdaBoost_score1= modelo_AdaBoost1.score(X_test,y_test)\n",
    "AdaBoost_score1"
   ]
  },
  {
   "cell_type": "markdown",
   "metadata": {},
   "source": [
    "## Adaboost - RandomForestClassifier"
   ]
  },
  {
   "cell_type": "code",
   "execution_count": 75,
   "metadata": {},
   "outputs": [],
   "source": [
    "from sklearn.ensemble import RandomForestClassifier"
   ]
  },
  {
   "cell_type": "code",
   "execution_count": 86,
   "metadata": {},
   "outputs": [],
   "source": [
    "# Construção do Classificador\n",
    "AdaBoost_random_f = AdaBoostClassifier(base_estimator = RandomForestClassifier(), \n",
    "                                learning_rate = 0.1, \n",
    "                                n_estimators = 400, \n",
    "                                algorithm = \"SAMME\",\n",
    "                                random_state=1)"
   ]
  },
  {
   "cell_type": "code",
   "execution_count": 87,
   "metadata": {},
   "outputs": [
    {
     "data": {
      "text/plain": [
       "AdaBoostClassifier(algorithm='SAMME', base_estimator=RandomForestClassifier(),\n",
       "                   learning_rate=0.1, n_estimators=400, random_state=1)"
      ]
     },
     "execution_count": 87,
     "metadata": {},
     "output_type": "execute_result"
    }
   ],
   "source": [
    "#Treinar o modelo com os dados de treino\n",
    "modelo_AdaBoost2 =  AdaBoost_random_f.fit(X_train, y_train)\n",
    "modelo_AdaBoost2"
   ]
  },
  {
   "cell_type": "code",
   "execution_count": 88,
   "metadata": {},
   "outputs": [
    {
     "data": {
      "text/plain": [
       "0.9280657796765258"
      ]
     },
     "execution_count": 88,
     "metadata": {},
     "output_type": "execute_result"
    }
   ],
   "source": [
    "# Score do modelo\n",
    "scores2 = cross_val_score(modelo_AdaBoost2, X_train, y_train)\n",
    "# Média do score\n",
    "mean = scores2.mean();mean"
   ]
  },
  {
   "cell_type": "code",
   "execution_count": 89,
   "metadata": {},
   "outputs": [
    {
     "data": {
      "text/plain": [
       "0.9309823091247672"
      ]
     },
     "execution_count": 89,
     "metadata": {},
     "output_type": "execute_result"
    }
   ],
   "source": [
    "#Score do modelo com os dados de teste\n",
    "AdaBoost_score2= modelo_AdaBoost2.score(X_test,y_test)\n",
    "AdaBoost_score2"
   ]
  },
  {
   "cell_type": "markdown",
   "metadata": {},
   "source": [
    "## Gradient Boosting"
   ]
  },
  {
   "cell_type": "code",
   "execution_count": 23,
   "metadata": {},
   "outputs": [],
   "source": [
    "from sklearn.ensemble import GradientBoostingClassifier"
   ]
  },
  {
   "cell_type": "code",
   "execution_count": 24,
   "metadata": {},
   "outputs": [],
   "source": [
    "# Construção do Classificador\n",
    "GradientBoosting = GradientBoostingClassifier(min_samples_split = 2, learning_rate=0.1, max_depth=8,random_state = 1)"
   ]
  },
  {
   "cell_type": "code",
   "execution_count": 25,
   "metadata": {},
   "outputs": [],
   "source": [
    "#Treinar o modelo com os dados de treino\n",
    "modelo_GradientBoosting = GradientBoosting.fit(X_train, y_train)"
   ]
  },
  {
   "cell_type": "code",
   "execution_count": 26,
   "metadata": {},
   "outputs": [
    {
     "data": {
      "text/plain": [
       "0.9322559279028668"
      ]
     },
     "execution_count": 26,
     "metadata": {},
     "output_type": "execute_result"
    }
   ],
   "source": [
    "# Score do modelo\n",
    "scores = cross_val_score(modelo_GradientBoosting, X_train, y_train)\n",
    "# Média do score\n",
    "mean = scores.mean();mean"
   ]
  },
  {
   "cell_type": "code",
   "execution_count": 27,
   "metadata": {},
   "outputs": [
    {
     "data": {
      "text/plain": [
       "0.9364525139664804"
      ]
     },
     "execution_count": 27,
     "metadata": {},
     "output_type": "execute_result"
    }
   ],
   "source": [
    "#Score do modelo com os dados de teste\n",
    "GradientBoosting_score = modelo_GradientBoosting.score(X_test,y_test)\n",
    "GradientBoosting_score"
   ]
  },
  {
   "cell_type": "markdown",
   "metadata": {},
   "source": [
    "## XGBClassifier"
   ]
  },
  {
   "cell_type": "code",
   "execution_count": 28,
   "metadata": {},
   "outputs": [],
   "source": [
    "from xgboost import XGBClassifier"
   ]
  },
  {
   "cell_type": "code",
   "execution_count": 29,
   "metadata": {},
   "outputs": [],
   "source": [
    "# Construção do Classificador\n",
    "Model_XGBClassifier= GradientBoostingClassifier(min_samples_split = 2,learning_rate=0.1, max_depth=8,random_state = 1)"
   ]
  },
  {
   "cell_type": "code",
   "execution_count": 30,
   "metadata": {},
   "outputs": [
    {
     "data": {
      "text/plain": [
       "GradientBoostingClassifier(max_depth=8, random_state=1)"
      ]
     },
     "execution_count": 30,
     "metadata": {},
     "output_type": "execute_result"
    }
   ],
   "source": [
    "#Treinar o modelo com os dados de treino\n",
    "Model_XGBClassifier.fit(X_train, y_train)"
   ]
  },
  {
   "cell_type": "code",
   "execution_count": 31,
   "metadata": {},
   "outputs": [
    {
     "data": {
      "text/plain": [
       "0.9322559279028668"
      ]
     },
     "execution_count": 31,
     "metadata": {},
     "output_type": "execute_result"
    }
   ],
   "source": [
    "# Score do modelo\n",
    "scores = cross_val_score(Model_XGBClassifier, X_train, y_train)\n",
    "# Média do score\n",
    "mean = scores.mean();mean"
   ]
  },
  {
   "cell_type": "code",
   "execution_count": 32,
   "metadata": {},
   "outputs": [
    {
     "data": {
      "text/plain": [
       "0.9364525139664804"
      ]
     },
     "execution_count": 32,
     "metadata": {},
     "output_type": "execute_result"
    }
   ],
   "source": [
    "#Score do modelo com os dados de teste\n",
    "XGBClassifier_score = Model_XGBClassifier.score(X_test,y_test)\n",
    "XGBClassifier_score"
   ]
  },
  {
   "cell_type": "markdown",
   "metadata": {},
   "source": [
    "# Comparar todos os modelos - Base de teste"
   ]
  },
  {
   "cell_type": "code",
   "execution_count": 96,
   "metadata": {},
   "outputs": [
    {
     "data": {
      "image/png": "[encoded data removed]",
      "text/plain": [
       "<Figure size 432x288 with 1 Axes>"
      ]
     },
     "metadata": {
      "needs_background": "light"
     },
     "output_type": "display_data"
    }
   ],
   "source": [
    "#Criar um dataset com os valores dos scores dos modelos com os dados de teste\n",
    "scores = pd.DataFrame([bagging_score,ExtraTrees_score,AdaBoost_score1,AdaBoost_score2,\n",
    "                       GradientBoosting_score,XGBClassifier_score])\n",
    "\n",
    "scores['columns1'] =  ['bagging_score','ExtraTrees_score','AdaBoost_DT_score',\"AdaBoost_RF_score\",\n",
    "                       'GradientBoosting_score','XGBClassifier_score']\n",
    "\n",
    "scores.columns = ['Scores','Modelos']\n",
    "\n",
    "#Plotar os scores dos modelos\n",
    "import matplotlib.pyplot as plt\n",
    "plt.barh(scores.Modelos,scores['Scores']);\n",
    "plt.xlabel('Valores dos Scores');"
   ]
  },
  {
   "cell_type": "code",
   "execution_count": 95,
   "metadata": {},
   "outputs": [
    {
     "data": {
      "text/html": [
       "<div>\n",
       "<style scoped>\n",
       "    .dataframe tbody tr th:only-of-type {\n",
       "        vertical-align: middle;\n",
       "    }\n",
       "\n",
       "    .dataframe tbody tr th {\n",
       "        vertical-align: top;\n",
       "    }\n",
       "\n",
       "    .dataframe thead th {\n",
       "        text-align: right;\n",
       "    }\n",
       "</style>\n",
       "<table border=\"1\" class=\"dataframe\">\n",
       "  <thead>\n",
       "    <tr style=\"text-align: right;\">\n",
       "      <th></th>\n",
       "      <th>Scores</th>\n",
       "      <th>Modelos</th>\n",
       "    </tr>\n",
       "  </thead>\n",
       "  <tbody>\n",
       "    <tr>\n",
       "      <th>0</th>\n",
       "      <td>0.925861</td>\n",
       "      <td>bagging_score</td>\n",
       "    </tr>\n",
       "    <tr>\n",
       "      <th>1</th>\n",
       "      <td>0.923301</td>\n",
       "      <td>ExtraTrees_score</td>\n",
       "    </tr>\n",
       "    <tr>\n",
       "      <th>2</th>\n",
       "      <td>0.884195</td>\n",
       "      <td>AdaBoost_DT_score</td>\n",
       "    </tr>\n",
       "    <tr>\n",
       "      <th>3</th>\n",
       "      <td>0.930982</td>\n",
       "      <td>AdaBoost_RF_score</td>\n",
       "    </tr>\n",
       "    <tr>\n",
       "      <th>4</th>\n",
       "      <td>0.936453</td>\n",
       "      <td>GradientBoosting_score</td>\n",
       "    </tr>\n",
       "    <tr>\n",
       "      <th>5</th>\n",
       "      <td>0.936453</td>\n",
       "      <td>XGBClassifier_score</td>\n",
       "    </tr>\n",
       "  </tbody>\n",
       "</table>\n",
       "</div>"
      ],
      "text/plain": [
       "     Scores                 Modelos\n",
       "0  0.925861           bagging_score\n",
       "1  0.923301        ExtraTrees_score\n",
       "2  0.884195       AdaBoost_DT_score\n",
       "3  0.930982       AdaBoost_RF_score\n",
       "4  0.936453  GradientBoosting_score\n",
       "5  0.936453     XGBClassifier_score"
      ]
     },
     "execution_count": 95,
     "metadata": {},
     "output_type": "execute_result"
    }
   ],
   "source": [
    "#Valor dos Scores dos modelos \n",
    "scores"
   ]
  },
  {
   "cell_type": "markdown",
   "metadata": {},
   "source": [
    "**Verificamos que não há diferença na acurácia entre os modelo, a não ser o modelo AdaBoost decision tree**"
   ]
  },
  {
   "cell_type": "markdown",
   "metadata": {},
   "source": [
    "# Conclusão:"
   ]
  },
  {
   "cell_type": "markdown",
   "metadata": {},
   "source": [
    "**Os modelos Ensamble tem varios parâmetros que podem ser otimizados conseguindo chegar a uma acuracia ainda melhor, porém o objetivo foi demonstras as aplicações dos algoritimos na pratica**"
   ]
  }
 ],
 "metadata": {
  "anaconda-cloud": {},
  "kernelspec": {
   "display_name": "Python 3 (ipykernel)",
   "language": "python",
   "name": "python3"
  },
  "language_info": {
   "codemirror_mode": {
    "name": "ipython",
    "version": 3
   },
   "file_extension": ".py",
   "mimetype": "text/x-python",
   "name": "python",
   "nbconvert_exporter": "python",
   "pygments_lexer": "ipython3",
   "version": "3.9.7"
  }
 },
 "nbformat": 4,
 "nbformat_minor": 1
}
