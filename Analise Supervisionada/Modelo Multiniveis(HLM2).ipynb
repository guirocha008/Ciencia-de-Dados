{
 "cells": [
  {
   "cell_type": "markdown",
   "metadata": {},
   "source": [
    "$$CONCEITO:$$\n",
    "\n",
    "- **Modelo GLM derivam do modelo GLMM, portanto qualquer modelo GLM pode ser implantado no GLMM caso tenha níveis**\n",
    "\n",
    "\n",
    "- **GLMM Captura o comportamento Heterocedastico(Efeitos Aleatórios) e Multicolineares(Efeitos Fixos) das variáveis**\n",
    "\n",
    "\n",
    "- **Caso não tenho grupos definidos para analise multinível , pode fazer uma análise de cluster para encontrar os grupos**\n",
    "\n",
    "\n",
    "- **Variáveis dummies só mudam o intercepto, não leva em consideração a inclinação da reta**\n",
    "\n",
    "\n",
    "\n",
    "**Estratégia Step-Up:**\n",
    "\n",
    "\n",
    "- **Não existe Step-wise para extrair parâmetros nos modelos Multiníveis, temos que fazer o passo a passo(Step-Up), inserindo estágios de efeitos aleatórios a cada modelagem:**\n",
    "\n",
    "\n",
    "- **1° Modelo nulo** = Analisa se há efeito aleatório no intercepto, nível 1 variável target, nível 2 variável que pode dar aleatoriedade no intercepto\n",
    "\n",
    "\n",
    "- **2° Modelo com Interceptos aleatórios** = Sabendo que existe efeitos aleatórios no intercepto(Nível 2), adicionamos variáveis no nível 1 para saber se existe efeitos aleatórios de inclinação no nível 2\n",
    "\n",
    "\n",
    "- **3° Modelos com Interceptos e Inclinações aleatórias** = Agora que já sabemos que existe aleatoriedade tanto no intercepto quanto na inclinação, adicionamos variável/s de efeito aleatório de inclinação no nível 2\n",
    "\n",
    "\n",
    "- **4° Demais Modelos** = Ir adicionando variáveis no nível 1 ou nível 2 e verificar se são estatisticamente significantes para a modelagem\n",
    "\n",
    "\n",
    "\n",
    "\n",
    "\n",
    "\n",
    "\n",
    "\n",
    "\n",
    "\n",
    "\n",
    "\n",
    "\n",
    "\n"
   ]
  },
  {
   "cell_type": "code",
   "execution_count": 2,
   "metadata": {},
   "outputs": [],
   "source": [
    "#Pacotes\n",
    "import multilevel_py\n",
    "import seaborn as sns\n",
    "import pandas as pd\n",
    "import numpy as np\n",
    "import matplotlib.pyplot as plt "
   ]
  },
  {
   "cell_type": "markdown",
   "metadata": {},
   "source": [
    "# Banco de dados "
   ]
  },
  {
   "cell_type": "code",
   "execution_count": 3,
   "metadata": {},
   "outputs": [
    {
     "data": {
      "text/html": [
       "<div>\n",
       "<style scoped>\n",
       "    .dataframe tbody tr th:only-of-type {\n",
       "        vertical-align: middle;\n",
       "    }\n",
       "\n",
       "    .dataframe tbody tr th {\n",
       "        vertical-align: top;\n",
       "    }\n",
       "\n",
       "    .dataframe thead th {\n",
       "        text-align: right;\n",
       "    }\n",
       "</style>\n",
       "<table border=\"1\" class=\"dataframe\">\n",
       "  <thead>\n",
       "    <tr style=\"text-align: right;\">\n",
       "      <th></th>\n",
       "      <th>escola</th>\n",
       "      <th>desempenho</th>\n",
       "      <th>horas</th>\n",
       "      <th>texp</th>\n",
       "    </tr>\n",
       "    <tr>\n",
       "      <th>estudante</th>\n",
       "      <th></th>\n",
       "      <th></th>\n",
       "      <th></th>\n",
       "      <th></th>\n",
       "    </tr>\n",
       "  </thead>\n",
       "  <tbody>\n",
       "    <tr>\n",
       "      <th>1</th>\n",
       "      <td>1</td>\n",
       "      <td>25.0</td>\n",
       "      <td>11</td>\n",
       "      <td>3.6</td>\n",
       "    </tr>\n",
       "    <tr>\n",
       "      <th>2</th>\n",
       "      <td>1</td>\n",
       "      <td>52.0</td>\n",
       "      <td>23</td>\n",
       "      <td>3.6</td>\n",
       "    </tr>\n",
       "    <tr>\n",
       "      <th>3</th>\n",
       "      <td>1</td>\n",
       "      <td>52.0</td>\n",
       "      <td>25</td>\n",
       "      <td>3.6</td>\n",
       "    </tr>\n",
       "    <tr>\n",
       "      <th>4</th>\n",
       "      <td>1</td>\n",
       "      <td>30.0</td>\n",
       "      <td>14</td>\n",
       "      <td>3.6</td>\n",
       "    </tr>\n",
       "    <tr>\n",
       "      <th>5</th>\n",
       "      <td>1</td>\n",
       "      <td>51.0</td>\n",
       "      <td>24</td>\n",
       "      <td>3.6</td>\n",
       "    </tr>\n",
       "    <tr>\n",
       "      <th>...</th>\n",
       "      <td>...</td>\n",
       "      <td>...</td>\n",
       "      <td>...</td>\n",
       "      <td>...</td>\n",
       "    </tr>\n",
       "    <tr>\n",
       "      <th>354</th>\n",
       "      <td>10</td>\n",
       "      <td>46.5</td>\n",
       "      <td>28</td>\n",
       "      <td>3.9</td>\n",
       "    </tr>\n",
       "    <tr>\n",
       "      <th>355</th>\n",
       "      <td>10</td>\n",
       "      <td>21.0</td>\n",
       "      <td>9</td>\n",
       "      <td>3.9</td>\n",
       "    </tr>\n",
       "    <tr>\n",
       "      <th>356</th>\n",
       "      <td>10</td>\n",
       "      <td>42.0</td>\n",
       "      <td>27</td>\n",
       "      <td>3.9</td>\n",
       "    </tr>\n",
       "    <tr>\n",
       "      <th>357</th>\n",
       "      <td>10</td>\n",
       "      <td>14.0</td>\n",
       "      <td>7</td>\n",
       "      <td>3.9</td>\n",
       "    </tr>\n",
       "    <tr>\n",
       "      <th>358</th>\n",
       "      <td>10</td>\n",
       "      <td>41.5</td>\n",
       "      <td>24</td>\n",
       "      <td>3.9</td>\n",
       "    </tr>\n",
       "  </tbody>\n",
       "</table>\n",
       "<p>358 rows × 4 columns</p>\n",
       "</div>"
      ],
      "text/plain": [
       "           escola  desempenho  horas  texp\n",
       "estudante                                 \n",
       "1               1        25.0     11   3.6\n",
       "2               1        52.0     23   3.6\n",
       "3               1        52.0     25   3.6\n",
       "4               1        30.0     14   3.6\n",
       "5               1        51.0     24   3.6\n",
       "...           ...         ...    ...   ...\n",
       "354            10        46.5     28   3.9\n",
       "355            10        21.0      9   3.9\n",
       "356            10        42.0     27   3.9\n",
       "357            10        14.0      7   3.9\n",
       "358            10        41.5     24   3.9\n",
       "\n",
       "[358 rows x 4 columns]"
      ]
     },
     "execution_count": 3,
     "metadata": {},
     "output_type": "execute_result"
    }
   ],
   "source": [
    "# Carregando o dataset\n",
    "dados = pd.read_csv('estudante_escola.csv',encoding='latin1',sep=',')\n",
    "dados = dados.set_index('estudante')\n",
    "x = dados[['escola','horas','texp']]\n",
    "y = dados.desempenho\n",
    "dados"
   ]
  },
  {
   "cell_type": "markdown",
   "metadata": {},
   "source": [
    "**Tabela com 358 observações e 4 variáveis**"
   ]
  },
  {
   "cell_type": "markdown",
   "metadata": {},
   "source": [
    "# Dicionário de Dados das variáveis Selecionadas"
   ]
  },
  {
   "cell_type": "markdown",
   "metadata": {},
   "source": [
    "$$Variáveis:$$\n",
    "\n",
    "- **estudante:** Número de estudantes \n",
    "\n",
    "\n",
    "- **escola:** Número de escolas, cada número representa uma escola diferente\n",
    "\n",
    "    \n",
    "- **desempenho:** Nota do aluno no vestibular, de 0 a 100\n",
    "    \n",
    "\n",
    "- **horas:** Quantidade de horas que o aluno estudou por semana em média no último ano\n",
    "    \n",
    "    \n",
    "- **texp:** Tempo médio de experiencia dos professores nas escolas\n",
    "\n"
   ]
  },
  {
   "cell_type": "code",
   "execution_count": 4,
   "metadata": {},
   "outputs": [
    {
     "name": "stdout",
     "output_type": "stream",
     "text": [
      "<class 'pandas.core.frame.DataFrame'>\n",
      "Int64Index: 358 entries, 1 to 358\n",
      "Data columns (total 4 columns):\n",
      " #   Column      Non-Null Count  Dtype  \n",
      "---  ------      --------------  -----  \n",
      " 0   escola      358 non-null    int64  \n",
      " 1   desempenho  358 non-null    float64\n",
      " 2   horas       358 non-null    int64  \n",
      " 3   texp        358 non-null    float64\n",
      "dtypes: float64(2), int64(2)\n",
      "memory usage: 14.0 KB\n"
     ]
    }
   ],
   "source": [
    "#Info da tabela\n",
    "dados.info()"
   ]
  },
  {
   "cell_type": "markdown",
   "metadata": {},
   "source": [
    "**Todas as variáveis são Quantitativas**"
   ]
  },
  {
   "cell_type": "code",
   "execution_count": 4,
   "metadata": {},
   "outputs": [
    {
     "data": {
      "text/html": [
       "<div>\n",
       "<style scoped>\n",
       "    .dataframe tbody tr th:only-of-type {\n",
       "        vertical-align: middle;\n",
       "    }\n",
       "\n",
       "    .dataframe tbody tr th {\n",
       "        vertical-align: top;\n",
       "    }\n",
       "\n",
       "    .dataframe thead th {\n",
       "        text-align: right;\n",
       "    }\n",
       "</style>\n",
       "<table border=\"1\" class=\"dataframe\">\n",
       "  <thead>\n",
       "    <tr style=\"text-align: right;\">\n",
       "      <th></th>\n",
       "      <th>desempenho</th>\n",
       "      <th>horas</th>\n",
       "      <th>texp</th>\n",
       "    </tr>\n",
       "  </thead>\n",
       "  <tbody>\n",
       "    <tr>\n",
       "      <th>count</th>\n",
       "      <td>358.000000</td>\n",
       "      <td>358.000000</td>\n",
       "      <td>358.000000</td>\n",
       "    </tr>\n",
       "    <tr>\n",
       "      <th>mean</th>\n",
       "      <td>41.554190</td>\n",
       "      <td>18.997207</td>\n",
       "      <td>5.161173</td>\n",
       "    </tr>\n",
       "    <tr>\n",
       "      <th>std</th>\n",
       "      <td>23.225896</td>\n",
       "      <td>6.368910</td>\n",
       "      <td>3.682676</td>\n",
       "    </tr>\n",
       "    <tr>\n",
       "      <th>min</th>\n",
       "      <td>6.500000</td>\n",
       "      <td>4.000000</td>\n",
       "      <td>1.900000</td>\n",
       "    </tr>\n",
       "    <tr>\n",
       "      <th>25%</th>\n",
       "      <td>21.000000</td>\n",
       "      <td>14.000000</td>\n",
       "      <td>1.900000</td>\n",
       "    </tr>\n",
       "    <tr>\n",
       "      <th>50%</th>\n",
       "      <td>35.500000</td>\n",
       "      <td>20.000000</td>\n",
       "      <td>3.600000</td>\n",
       "    </tr>\n",
       "    <tr>\n",
       "      <th>75%</th>\n",
       "      <td>59.000000</td>\n",
       "      <td>24.000000</td>\n",
       "      <td>7.500000</td>\n",
       "    </tr>\n",
       "    <tr>\n",
       "      <th>max</th>\n",
       "      <td>100.000000</td>\n",
       "      <td>31.000000</td>\n",
       "      <td>13.000000</td>\n",
       "    </tr>\n",
       "  </tbody>\n",
       "</table>\n",
       "</div>"
      ],
      "text/plain": [
       "       desempenho       horas        texp\n",
       "count  358.000000  358.000000  358.000000\n",
       "mean    41.554190   18.997207    5.161173\n",
       "std     23.225896    6.368910    3.682676\n",
       "min      6.500000    4.000000    1.900000\n",
       "25%     21.000000   14.000000    1.900000\n",
       "50%     35.500000   20.000000    3.600000\n",
       "75%     59.000000   24.000000    7.500000\n",
       "max    100.000000   31.000000   13.000000"
      ]
     },
     "execution_count": 4,
     "metadata": {},
     "output_type": "execute_result"
    }
   ],
   "source": [
    "# Estatistica descritivas(Variáveis numericas)\n",
    "dados[['desempenho','horas','texp']].describe()"
   ]
  },
  {
   "cell_type": "markdown",
   "metadata": {},
   "source": [
    "**Observe que a variável resposta tem uma grande variância nos dados, podemos notar através do desvio padrão**"
   ]
  },
  {
   "cell_type": "code",
   "execution_count": 5,
   "metadata": {},
   "outputs": [
    {
     "data": {
      "text/plain": [
       "3     48\n",
       "5     48\n",
       "1     47\n",
       "9     44\n",
       "8     35\n",
       "10    33\n",
       "6     30\n",
       "7     28\n",
       "2     25\n",
       "4     20\n",
       "Name: escola, dtype: int64"
      ]
     },
     "execution_count": 5,
     "metadata": {},
     "output_type": "execute_result"
    }
   ],
   "source": [
    "# Analise da variável Categorica('escola')\n",
    "dados['escola'].value_counts(ascending=False)"
   ]
  },
  {
   "cell_type": "markdown",
   "metadata": {},
   "source": [
    "**Note que há um desbalanceamento entre o total de escolas, porém para perspectiva multinível acima de 3 dados na variável qualitativa (nível 2) que neste caso seria a variável 'escola' já seria possível a modelagem**"
   ]
  },
  {
   "cell_type": "code",
   "execution_count": 6,
   "metadata": {},
   "outputs": [
    {
     "data": {
      "text/html": [
       "<div>\n",
       "<style scoped>\n",
       "    .dataframe tbody tr th:only-of-type {\n",
       "        vertical-align: middle;\n",
       "    }\n",
       "\n",
       "    .dataframe tbody tr th {\n",
       "        vertical-align: top;\n",
       "    }\n",
       "\n",
       "    .dataframe thead th {\n",
       "        text-align: right;\n",
       "    }\n",
       "</style>\n",
       "<table border=\"1\" class=\"dataframe\">\n",
       "  <thead>\n",
       "    <tr style=\"text-align: right;\">\n",
       "      <th></th>\n",
       "      <th>Desempenho Medio</th>\n",
       "    </tr>\n",
       "    <tr>\n",
       "      <th>escola</th>\n",
       "      <th></th>\n",
       "    </tr>\n",
       "  </thead>\n",
       "  <tbody>\n",
       "    <tr>\n",
       "      <th>1</th>\n",
       "      <td>36.765957</td>\n",
       "    </tr>\n",
       "    <tr>\n",
       "      <th>2</th>\n",
       "      <td>21.400000</td>\n",
       "    </tr>\n",
       "    <tr>\n",
       "      <th>3</th>\n",
       "      <td>67.125000</td>\n",
       "    </tr>\n",
       "    <tr>\n",
       "      <th>4</th>\n",
       "      <td>55.325000</td>\n",
       "    </tr>\n",
       "    <tr>\n",
       "      <th>5</th>\n",
       "      <td>19.270833</td>\n",
       "    </tr>\n",
       "    <tr>\n",
       "      <th>6</th>\n",
       "      <td>33.966667</td>\n",
       "    </tr>\n",
       "    <tr>\n",
       "      <th>7</th>\n",
       "      <td>57.532143</td>\n",
       "    </tr>\n",
       "    <tr>\n",
       "      <th>8</th>\n",
       "      <td>75.428571</td>\n",
       "    </tr>\n",
       "    <tr>\n",
       "      <th>9</th>\n",
       "      <td>18.556818</td>\n",
       "    </tr>\n",
       "    <tr>\n",
       "      <th>10</th>\n",
       "      <td>38.590909</td>\n",
       "    </tr>\n",
       "  </tbody>\n",
       "</table>\n",
       "</div>"
      ],
      "text/plain": [
       "        Desempenho Medio\n",
       "escola                  \n",
       "1              36.765957\n",
       "2              21.400000\n",
       "3              67.125000\n",
       "4              55.325000\n",
       "5              19.270833\n",
       "6              33.966667\n",
       "7              57.532143\n",
       "8              75.428571\n",
       "9              18.556818\n",
       "10             38.590909"
      ]
     },
     "execution_count": 6,
     "metadata": {},
     "output_type": "execute_result"
    }
   ],
   "source": [
    "#Desempenho médio dos estudantes por escola\n",
    "desemp= pd.DataFrame(dados.groupby('escola').desempenho.mean())\n",
    "desemp.columns = ['Desempenho Medio']\n",
    "desemp"
   ]
  },
  {
   "cell_type": "markdown",
   "metadata": {},
   "source": [
    "**Há diferença no desempenho médio dos alunos levando em consideração a escola**"
   ]
  },
  {
   "cell_type": "markdown",
   "metadata": {},
   "source": [
    "**Questões para insights:** \n",
    "\n",
    "- **Qual a razão da escola 8 estar com média boa no desempenho dos alunos?**\n",
    "\n",
    "\n",
    "- **Porque a escola 9 está com uma média ruim? Será a variável 'texp'(tempo de experiencia dos professores) tem influência nesta nota?**\n",
    "\n",
    "\n",
    "- **A variável 'horas' tem influência no desempenho dos alunos?**\n"
   ]
  },
  {
   "cell_type": "markdown",
   "metadata": {},
   "source": [
    "# Análise Exploratória"
   ]
  },
  {
   "cell_type": "markdown",
   "metadata": {},
   "source": [
    "### Escola X Desempenho"
   ]
  },
  {
   "cell_type": "code",
   "execution_count": 7,
   "metadata": {},
   "outputs": [
    {
     "data": {
      "image/png": "[encoded data removed]",
      "text/plain": [
       "<Figure size 432x288 with 1 Axes>"
      ]
     },
     "metadata": {
      "needs_background": "light"
     },
     "output_type": "display_data"
    }
   ],
   "source": [
    "#Exploração visual do desempenho médio dos aluno para cada escola\n",
    "import matplotlib.pyplot as plt\n",
    "plt.scatter(dados.escola, dados.desempenho)\n",
    "plt.plot(desemp['Desempenho Medio'],c='red')\n",
    "plt.xlabel('escola')\n",
    "plt.ylabel('desempenho')\n",
    "plt.show()\n"
   ]
  },
  {
   "cell_type": "code",
   "execution_count": 8,
   "metadata": {},
   "outputs": [
    {
     "data": {
      "text/plain": [
       "<AxesSubplot:xlabel='desempenho', ylabel='Density'>"
      ]
     },
     "execution_count": 8,
     "metadata": {},
     "output_type": "execute_result"
    },
    {
     "data": {
      "image/png": "[encoded data removed]",
      "text/plain": [
       "<Figure size 432x288 with 1 Axes>"
      ]
     },
     "metadata": {
      "needs_background": "light"
     },
     "output_type": "display_data"
    }
   ],
   "source": [
    "#Kernel density estimation (KDE) - função densidade de probabilidade da variável dependente (desempenho) por escola\n",
    "sns.kdeplot(data=dados, x=\"desempenho\", hue=\"escola\",fill='escola',palette=\"viridis\",alpha=.3)"
   ]
  },
  {
   "cell_type": "code",
   "execution_count": 9,
   "metadata": {},
   "outputs": [
    {
     "data": {
      "image/png": "[encoded data removed]",
      "text/plain": [
       "<Figure size 432x288 with 1 Axes>"
      ]
     },
     "metadata": {},
     "output_type": "display_data"
    }
   ],
   "source": [
    "#Distribuição dos dados\n",
    "sns.set(style=\"ticks\", palette=\"muted\", color_codes=True)\n",
    "plt.figure()\n",
    "sns.violinplot(y=y, x=x.escola, data=dados, split=True,inner=\"quart\")\n",
    "sns.despine(left=True)"
   ]
  },
  {
   "cell_type": "code",
   "execution_count": 10,
   "metadata": {},
   "outputs": [
    {
     "data": {
      "text/plain": [
       "<seaborn.axisgrid.FacetGrid at 0x1a80ff226a0>"
      ]
     },
     "execution_count": 10,
     "metadata": {},
     "output_type": "execute_result"
    },
    {
     "data": {
      "image/png": "[encoded data removed]",
      "text/plain": [
       "<Figure size 864x648 with 10 Axes>"
      ]
     },
     "metadata": {},
     "output_type": "display_data"
    }
   ],
   "source": [
    "#Histograma individual do desempenho por escola\n",
    "sns.displot(dados, x=\"desempenho\", col=\"escola\",kde=True,bins=15,col_wrap=4, height=3)\n"
   ]
  },
  {
   "cell_type": "markdown",
   "metadata": {},
   "source": [
    "## Conclusão dos gráficos:"
   ]
  },
  {
   "cell_type": "markdown",
   "metadata": {},
   "source": [
    "**Note que visualmente há uma diferença no desempenho dos alunos por escola**"
   ]
  },
  {
   "cell_type": "markdown",
   "metadata": {},
   "source": [
    "**As escolas 2, 5 e 9 tem os piores desempenhos, já as escolas de número 8 e 3 tem os melhores desempenho**"
   ]
  },
  {
   "cell_type": "code",
   "execution_count": 11,
   "metadata": {},
   "outputs": [
    {
     "data": {
      "image/png": "[encoded data removed]",
      "text/plain": [
       "<Figure size 360x360 with 1 Axes>"
      ]
     },
     "metadata": {},
     "output_type": "display_data"
    }
   ],
   "source": [
    "#Kernel density estimation (KDE) - função densidade de probabilidade da variável dependente (desempenho), com histograma\n",
    "import seaborn as sns\n",
    "sns.displot(dados.desempenho,kde=True,bins=30);"
   ]
  },
  {
   "cell_type": "markdown",
   "metadata": {},
   "source": [
    "**A maioria dos alunos tem um desempenho em torno de 20**"
   ]
  },
  {
   "cell_type": "code",
   "execution_count": 12,
   "metadata": {},
   "outputs": [
    {
     "data": {
      "text/plain": [
       "<seaborn.axisgrid.FacetGrid at 0x1a810692700>"
      ]
     },
     "execution_count": 12,
     "metadata": {},
     "output_type": "execute_result"
    },
    {
     "data": {
      "image/png": "[encoded data removed]",
      "text/plain": [
       "<Figure size 360x360 with 1 Axes>"
      ]
     },
     "metadata": {},
     "output_type": "display_data"
    }
   ],
   "source": [
    "#Gráfico de desempenho x horas (OLS)\n",
    "sns.lmplot(x=\"horas\", y=\"desempenho\", data=dados)"
   ]
  },
  {
   "cell_type": "markdown",
   "metadata": {},
   "source": [
    "**Regressão linear não é o ideal para esse conjunto de dados, uma possível solução caso não tivesse uma variável qualitativa que representasse níveis, seria primeiro clusterizar os dados e depois fazer uma OLS para cada cluster, veja o modelo no gráfico abaixo**"
   ]
  },
  {
   "cell_type": "code",
   "execution_count": 13,
   "metadata": {},
   "outputs": [
    {
     "data": {
      "text/plain": [
       "<seaborn.axisgrid.FacetGrid at 0x1a810880520>"
      ]
     },
     "execution_count": 13,
     "metadata": {},
     "output_type": "execute_result"
    },
    {
     "data": {
      "image/png": "[encoded data removed]",
      "text/plain": [
       "<Figure size 411.85x360 with 1 Axes>"
      ]
     },
     "metadata": {},
     "output_type": "display_data"
    }
   ],
   "source": [
    "#Gráfico de desempenho x horas por escola (visualização do contexto)\n",
    "import seaborn as sns; sns.set_theme(color_codes=True)\n",
    "ax = sns.lmplot(x=\"horas\", y=\"desempenho\", hue=\"escola\", data=dados)\n",
    "ax.set(xlabel=\"Quantidade Semanal de Horas de Estudo do Aluno\", ylabel=\"Desempenho Escolar\")"
   ]
  },
  {
   "cell_type": "markdown",
   "metadata": {},
   "source": [
    "**Clusterizamos os dados através da variável 'escola', veja que agora os resíduos são bem menores**"
   ]
  },
  {
   "cell_type": "markdown",
   "metadata": {},
   "source": [
    "**OBS: NOTE QUE A PERSPECTIVA MULTINÍVEL NATURALMENTE CONSIDERA O COMPORTAMENTO HETEROCEDÁSTICO NOS DADOS**"
   ]
  },
  {
   "cell_type": "code",
   "execution_count": 14,
   "metadata": {},
   "outputs": [
    {
     "data": {
      "text/plain": [
       "<seaborn.axisgrid.FacetGrid at 0x1a810c82370>"
      ]
     },
     "execution_count": 14,
     "metadata": {},
     "output_type": "execute_result"
    },
    {
     "data": {
      "image/png": "[encoded data removed]",
      "text/plain": [
       "<Figure size 691.2x1296 with 10 Axes>"
      ]
     },
     "metadata": {},
     "output_type": "display_data"
    }
   ],
   "source": [
    "#Gráfico de desempenho x horas por escola (visualização do contexto)\n",
    "ax = sns.lmplot(x=\"horas\", y=\"desempenho\", hue=\"escola\", col=\"escola\",\n",
    "               data=dados, height=6, aspect=.4, x_jitter=.1,col_wrap=4)\n",
    "ax.set(xlabel=\"Horas de Estudo\", ylabel=\"Desempenho Escolar\")"
   ]
  },
  {
   "cell_type": "markdown",
   "metadata": {},
   "source": [
    "**Modelo de regressão linear de Forma individual, Horas de Estudo X Desempenho Escolar**"
   ]
  },
  {
   "cell_type": "markdown",
   "metadata": {},
   "source": [
    "# Modelagem Multinivel:"
   ]
  },
  {
   "cell_type": "markdown",
   "metadata": {},
   "source": [
    "# 1° Estágio do modelo Step Up:"
   ]
  },
  {
   "cell_type": "markdown",
   "metadata": {},
   "source": [
    "# Estimação do modelo nulo, apenas variação no intercepto (HML2)"
   ]
  },
  {
   "cell_type": "markdown",
   "metadata": {},
   "source": [
    "### Analisa se há efeito aleatório no intercepto, nível 1 variável target, nível 2 variável 'escola', caso a variável se mostrar significante terá efeito aleatório no intercepto"
   ]
  },
  {
   "cell_type": "code",
   "execution_count": 15,
   "metadata": {},
   "outputs": [],
   "source": [
    "from statsmodels.genmod.bayes_mixed_glm import BinomialBayesMixedGLM as bgmm"
   ]
  },
  {
   "cell_type": "code",
   "execution_count": 16,
   "metadata": {},
   "outputs": [
    {
     "name": "stdout",
     "output_type": "stream",
     "text": [
      "         Mixed Linear Model Regression Results\n",
      "========================================================\n",
      "Model:            MixedLM Dependent Variable: desempenho\n",
      "No. Observations: 358     Method:             REML      \n",
      "No. Groups:       10      Scale:              142.9242  \n",
      "Min. group size:  20      Log-Likelihood:     -1416.0074\n",
      "Max. group size:  48      Converged:          Yes       \n",
      "Mean group size:  35.8                                  \n",
      "--------------------------------------------------------\n",
      "               Coef.  Std.Err.   z   P>|z| [0.025 0.975]\n",
      "--------------------------------------------------------\n",
      "Intercept      42.387    6.468 6.553 0.000 29.709 55.065\n",
      "escola Var    414.067   16.695                          \n",
      "========================================================\n",
      "\n"
     ]
    }
   ],
   "source": [
    "import statsmodels.formula.api as smf\n",
    "from patsy import dmatrices\n",
    "nivel_1 = \"desempenho ~ 1\"\n",
    "nivel_2 = \"escola\"\n",
    "efeito_aleat_nulo_Nivel_2 = '~1'\n",
    "\n",
    "modelo1  = smf.mixedlm(nivel_1, dados, groups=nivel_2,re_formula = efeito_aleat_nulo_Nivel_2)\n",
    "modelo_nulo = modelo1.fit()\n",
    "print(modelo_nulo.summary())"
   ]
  },
  {
   "cell_type": "code",
   "execution_count": 17,
   "metadata": {},
   "outputs": [
    {
     "name": "stdout",
     "output_type": "stream",
     "text": [
      "Intercepto nivel 1: 42.3871085309764\n"
     ]
    }
   ],
   "source": [
    "# Gamma00  = Y00 (intercepto nivel 1)\n",
    "intercpto = modelo_nulo.params.Intercept\n",
    "print(f'Intercepto nivel 1: {intercpto}')"
   ]
  },
  {
   "cell_type": "code",
   "execution_count": 18,
   "metadata": {},
   "outputs": [
    {
     "name": "stdout",
     "output_type": "stream",
     "text": [
      "Aleat Intercepto nivel 2: 414.0671090661259\n"
     ]
    }
   ],
   "source": [
    "#V0j - Termos aleatórios de intercepto nível 2\n",
    "int_2 = modelo_nulo.cov_re.values[0][0]\n",
    "print(f'Aleat Intercepto nivel 2: {int_2}')"
   ]
  },
  {
   "cell_type": "code",
   "execution_count": 19,
   "metadata": {},
   "outputs": [
    {
     "data": {
      "text/plain": [
       "Intercept     0.00000\n",
       "escola Var    0.03803\n",
       "dtype: float64"
      ]
     },
     "execution_count": 19,
     "metadata": {},
     "output_type": "execute_result"
    }
   ],
   "source": [
    "# P_value do modelo nulo\n",
    "round(modelo_nulo.pvalues,5)"
   ]
  },
  {
   "cell_type": "markdown",
   "metadata": {},
   "source": [
    "**P_value < 0.10 da variável escola de nível 2, isso quer dizer que a variância é estatisticamente diferente de 0 (Existe efeitos aleatórios de intercepto quando adicionamos a variável escola no nível 2), Modelo Multinível é superior a qualquer modelo OLS, Caso o p_valor fosse > 0.10 o loglike do modelo multinível iria ser parecido ao loglike do OLS**"
   ]
  },
  {
   "cell_type": "code",
   "execution_count": 20,
   "metadata": {},
   "outputs": [
    {
     "name": "stdout",
     "output_type": "stream",
     "text": [
      "Efeito aleatorio de intercepto no nivel escola: 414.0671090661259\n",
      "\n",
      "Desvio padrão do Intercepto: 20.34863899788204\n"
     ]
    }
   ],
   "source": [
    "#Variancia do v0j = Efeito aleatorio de intercpto nivel escola\n",
    "print(f'Efeito aleatorio de intercepto no nivel escola: {np.array(modelo_nulo.cov_re)[0,0]}')\n",
    "\n",
    "#Desvio padrao do Intercepto\n",
    "print(f'\\nDesvio padrão do Intercepto: {np.array(np.sqrt(modelo_nulo.cov_re))[0,0]}')"
   ]
  },
  {
   "cell_type": "code",
   "execution_count": 21,
   "metadata": {},
   "outputs": [
    {
     "name": "stdout",
     "output_type": "stream",
     "text": [
      "Efeito aleatorio do nivel aluno(nivel 1): 142.92421239557424\n",
      "\n",
      "Desvio padrão dos Residuos: 11.955091484199285\n"
     ]
    }
   ],
   "source": [
    "#Variancia E(erro) do efeito aleatorio do nivel aluno(nivel1)\n",
    "print(f'Efeito aleatorio do nivel aluno(nivel 1): {modelo_nulo.scale}')\n",
    "\n",
    "#Desvio padrao dos Residuos\n",
    "print(f'\\nDesvio padrão dos Residuos: {np.sqrt(modelo_nulo.scale)}')"
   ]
  },
  {
   "cell_type": "markdown",
   "metadata": {},
   "source": [
    "## Conclusão do modelo 1:"
   ]
  },
  {
   "cell_type": "markdown",
   "metadata": {},
   "source": [
    "**Existe diferença no desempenho dos estudantes que estudam em escola distintas**"
   ]
  },
  {
   "cell_type": "markdown",
   "metadata": {},
   "source": [
    "# Calculo do ICC"
   ]
  },
  {
   "cell_type": "markdown",
   "metadata": {
    "scrolled": true
   },
   "source": [
    "- **ICC - Intraclass Correlation**\n",
    "\n",
    "\n",
    "- **Calcula a variação explicada da variável Y em relação a variável X, operando em dados estruturados como grupos(Perspectiva Multinível)**\n",
    "\n",
    "\n",
    "- **Proporção da variância do nível escola em relação a variância total dos termos de erro**\n",
    "\n",
    "\n",
    "\n"
   ]
  },
  {
   "cell_type": "code",
   "execution_count": 76,
   "metadata": {},
   "outputs": [
    {
     "name": "stdout",
     "output_type": "stream",
     "text": [
      "ICC= 74%\n"
     ]
    }
   ],
   "source": [
    "#Desempenho X Escola\n",
    "v0j = modelo_nulo.cov_re.iloc[0,0] # Efeito aleatorio de intercpto nivel escola\n",
    "E = modelo_nulo.scale # Variancia E(erro) do efeito aleatorio do nivel individuo\n",
    "icc = v0j /(v0j + E)\n",
    "print(f'ICC= {round(icc*100)}%')"
   ]
  },
  {
   "cell_type": "markdown",
   "metadata": {},
   "source": [
    "**74% da variável Y(Desempenho) é explicada pela variável X(Escola)**"
   ]
  },
  {
   "cell_type": "markdown",
   "metadata": {},
   "source": [
    "## ESTIMAÇÃO DO MODELO NULO OLS"
   ]
  },
  {
   "cell_type": "markdown",
   "metadata": {},
   "source": [
    "### Comparar o LL do modelo nulo multinível com o modelo nulo OLS"
   ]
  },
  {
   "cell_type": "code",
   "execution_count": 23,
   "metadata": {},
   "outputs": [
    {
     "data": {
      "text/html": [
       "<table class=\"simpletable\">\n",
       "<caption>OLS Regression Results</caption>\n",
       "<tr>\n",
       "  <th>Dep. Variable:</th>       <td>desempenho</td>    <th>  R-squared:         </th> <td>   0.000</td>\n",
       "</tr>\n",
       "<tr>\n",
       "  <th>Model:</th>                   <td>OLS</td>       <th>  Adj. R-squared:    </th> <td>   0.000</td>\n",
       "</tr>\n",
       "<tr>\n",
       "  <th>Method:</th>             <td>Least Squares</td>  <th>  F-statistic:       </th> <td>     nan</td>\n",
       "</tr>\n",
       "<tr>\n",
       "  <th>Date:</th>             <td>Wed, 09 Mar 2022</td> <th>  Prob (F-statistic):</th>  <td>   nan</td> \n",
       "</tr>\n",
       "<tr>\n",
       "  <th>Time:</th>                 <td>10:12:08</td>     <th>  Log-Likelihood:    </th> <td> -1633.5</td>\n",
       "</tr>\n",
       "<tr>\n",
       "  <th>No. Observations:</th>      <td>   358</td>      <th>  AIC:               </th> <td>   3269.</td>\n",
       "</tr>\n",
       "<tr>\n",
       "  <th>Df Residuals:</th>          <td>   357</td>      <th>  BIC:               </th> <td>   3273.</td>\n",
       "</tr>\n",
       "<tr>\n",
       "  <th>Df Model:</th>              <td>     0</td>      <th>                     </th>     <td> </td>   \n",
       "</tr>\n",
       "<tr>\n",
       "  <th>Covariance Type:</th>      <td>nonrobust</td>    <th>                     </th>     <td> </td>   \n",
       "</tr>\n",
       "</table>\n",
       "<table class=\"simpletable\">\n",
       "<tr>\n",
       "    <td></td>       <th>coef</th>     <th>std err</th>      <th>t</th>      <th>P>|t|</th>  <th>[0.025</th>    <th>0.975]</th>  \n",
       "</tr>\n",
       "<tr>\n",
       "  <th>const</th> <td>   41.5542</td> <td>    1.228</td> <td>   33.852</td> <td> 0.000</td> <td>   39.140</td> <td>   43.968</td>\n",
       "</tr>\n",
       "</table>\n",
       "<table class=\"simpletable\">\n",
       "<tr>\n",
       "  <th>Omnibus:</th>       <td>38.443</td> <th>  Durbin-Watson:     </th> <td>   0.584</td>\n",
       "</tr>\n",
       "<tr>\n",
       "  <th>Prob(Omnibus):</th> <td> 0.000</td> <th>  Jarque-Bera (JB):  </th> <td>  30.903</td>\n",
       "</tr>\n",
       "<tr>\n",
       "  <th>Skew:</th>          <td> 0.626</td> <th>  Prob(JB):          </th> <td>1.95e-07</td>\n",
       "</tr>\n",
       "<tr>\n",
       "  <th>Kurtosis:</th>      <td> 2.291</td> <th>  Cond. No.          </th> <td>    1.00</td>\n",
       "</tr>\n",
       "</table><br/><br/>Notes:<br/>[1] Standard Errors assume that the covariance matrix of the errors is correctly specified."
      ],
      "text/plain": [
       "<class 'statsmodels.iolib.summary.Summary'>\n",
       "\"\"\"\n",
       "                            OLS Regression Results                            \n",
       "==============================================================================\n",
       "Dep. Variable:             desempenho   R-squared:                       0.000\n",
       "Model:                            OLS   Adj. R-squared:                  0.000\n",
       "Method:                 Least Squares   F-statistic:                       nan\n",
       "Date:                Wed, 09 Mar 2022   Prob (F-statistic):                nan\n",
       "Time:                        10:12:08   Log-Likelihood:                -1633.5\n",
       "No. Observations:                 358   AIC:                             3269.\n",
       "Df Residuals:                     357   BIC:                             3273.\n",
       "Df Model:                           0                                         \n",
       "Covariance Type:            nonrobust                                         \n",
       "==============================================================================\n",
       "                 coef    std err          t      P>|t|      [0.025      0.975]\n",
       "------------------------------------------------------------------------------\n",
       "const         41.5542      1.228     33.852      0.000      39.140      43.968\n",
       "==============================================================================\n",
       "Omnibus:                       38.443   Durbin-Watson:                   0.584\n",
       "Prob(Omnibus):                  0.000   Jarque-Bera (JB):               30.903\n",
       "Skew:                           0.626   Prob(JB):                     1.95e-07\n",
       "Kurtosis:                       2.291   Cond. No.                         1.00\n",
       "==============================================================================\n",
       "\n",
       "Notes:\n",
       "[1] Standard Errors assume that the covariance matrix of the errors is correctly specified.\n",
       "\"\"\""
      ]
     },
     "execution_count": 23,
     "metadata": {},
     "output_type": "execute_result"
    }
   ],
   "source": [
    "import statsmodels.api as sm\n",
    "x_interc = sm.add_constant(x) # Somente o Intercept\n",
    "modelo = sm.OLS(y,x_interc[['const']]) # funçao \n",
    "modelo_OLS = modelo.fit() # Treinar o modelo\n",
    "modelo_OLS.summary() # Verificar os dados do modelo"
   ]
  },
  {
   "cell_type": "markdown",
   "metadata": {},
   "source": [
    "## COMPARAÇÃO DO HLM2 NULO COM UM OLS NULO  "
   ]
  },
  {
   "cell_type": "code",
   "execution_count": 24,
   "metadata": {},
   "outputs": [
    {
     "name": "stdout",
     "output_type": "stream",
     "text": [
      "LogLike Modelo Nulo Multinivel: -1416.01\n",
      "\n",
      "LogLike Modelo OLS: -1633.49\n",
      "\n",
      "Diferença entre Multinivel e OlS: -217.48\n"
     ]
    }
   ],
   "source": [
    "#Loglike\n",
    "print(f'LogLike Modelo Nulo Multinivel: {round(modelo_nulo.llf,2)}')\n",
    "print(f'\\nLogLike Modelo OLS: {round(modelo_OLS.llf,2)}')\n",
    "print(f'\\nDiferença entre Multinivel e OlS: {round(-1*(modelo_nulo.llf -modelo_OLS.llf),2) }')"
   ]
  },
  {
   "cell_type": "markdown",
   "metadata": {},
   "source": [
    "**Apenas demonstramos que o LL do modelo multinível é melhor quando há efeitos aleatórios de intercepto**"
   ]
  },
  {
   "cell_type": "markdown",
   "metadata": {},
   "source": [
    "# 2° Estagio do modelo Step Up:\n",
    "\n",
    "## Modelo com Interceptos aleatórios (Incluir a variável horas no nível 1)\n"
   ]
  },
  {
   "cell_type": "markdown",
   "metadata": {},
   "source": [
    "### Existe diferença no interceptos do desempenho em função de horas entre alunos de escolas distintas?"
   ]
  },
  {
   "cell_type": "code",
   "execution_count": 25,
   "metadata": {},
   "outputs": [
    {
     "name": "stdout",
     "output_type": "stream",
     "text": [
      "         Mixed Linear Model Regression Results\n",
      "========================================================\n",
      "Model:            MixedLM Dependent Variable: desempenho\n",
      "No. Observations: 358     Method:             REML      \n",
      "No. Groups:       10      Scale:              31.5519   \n",
      "Min. group size:  20      Log-Likelihood:     -1155.2466\n",
      "Max. group size:  48      Converged:          Yes       \n",
      "Mean group size:  35.8                                  \n",
      "--------------------------------------------------------\n",
      "              Coef.  Std.Err.   z    P>|z| [0.025 0.975]\n",
      "--------------------------------------------------------\n",
      "Intercept      4.530    7.027  0.645 0.519 -9.243 18.303\n",
      "horas          1.970    0.056 35.042 0.000  1.859  2.080\n",
      "Group Var    481.185   40.975                           \n",
      "========================================================\n",
      "\n"
     ]
    }
   ],
   "source": [
    "import statsmodels.formula.api as smf\n",
    "from patsy import dmatrices\n",
    "nivel_1 = \"desempenho ~ horas\" # Componentes de efeitos fixos\n",
    "efeito_aleat_nulo_nivel_2 = '~1'\n",
    "modelo2  = smf.mixedlm(nivel_1, dados, groups=dados[\"escola\"],re_formula = efeito_aleat_nulo_nivel_2 )\n",
    "mod_interc_aleat = modelo2.fit()\n",
    "print(mod_interc_aleat.summary())"
   ]
  },
  {
   "cell_type": "markdown",
   "metadata": {},
   "source": [
    "**P_value < 0.10, existe significância estatística na variável 'horas', portanto à medida que você estuda mais, cresce o nível de desempenho dos estudantes**"
   ]
  },
  {
   "cell_type": "code",
   "execution_count": 26,
   "metadata": {},
   "outputs": [
    {
     "name": "stdout",
     "output_type": "stream",
     "text": [
      "Intercepto: 4.530000095029805\n"
     ]
    }
   ],
   "source": [
    "# Gamma00  = Y00 (intercpto)\n",
    "intercpto = mod_interc_aleat.params.Intercept\n",
    "print(f'Intercepto: {intercpto}')"
   ]
  },
  {
   "cell_type": "code",
   "execution_count": 27,
   "metadata": {},
   "outputs": [
    {
     "name": "stdout",
     "output_type": "stream",
     "text": [
      "Beta nivel_1: 1.969615174243303\n"
     ]
    }
   ],
   "source": [
    "#Beta1 (Horas)\n",
    "beta1 = mod_interc_aleat.params\n",
    "print(f'Beta nivel_1: {beta1[1]}')"
   ]
  },
  {
   "cell_type": "code",
   "execution_count": 28,
   "metadata": {},
   "outputs": [
    {
     "name": "stdout",
     "output_type": "stream",
     "text": [
      "Aleat Intercepto nivel 2: 481.1851609203298\n"
     ]
    }
   ],
   "source": [
    "#V0j - Termos aleatórios de intercepto nível 2 (Estudante)\n",
    "int_2 = mod_interc_aleat.cov_re.values[0][0]\n",
    "print(f'Aleat Intercepto nivel 2: {int_2}')"
   ]
  },
  {
   "cell_type": "code",
   "execution_count": 29,
   "metadata": {},
   "outputs": [
    {
     "data": {
      "text/plain": [
       "Intercept    0.5192\n",
       "horas        0.0000\n",
       "Group Var    0.0366\n",
       "dtype: float64"
      ]
     },
     "execution_count": 29,
     "metadata": {},
     "output_type": "execute_result"
    }
   ],
   "source": [
    "#P_value\n",
    "round(mod_interc_aleat.pvalues,4)"
   ]
  },
  {
   "cell_type": "markdown",
   "metadata": {},
   "source": [
    "**Tanto a variável horas no nível 1 quanto a variável estudante no nível 2, são estatisticamente significantes para o modelo**"
   ]
  },
  {
   "cell_type": "markdown",
   "metadata": {},
   "source": [
    "## Conclusão modelo 2:"
   ]
  },
  {
   "cell_type": "markdown",
   "metadata": {},
   "source": [
    "**Existe diferença no desempenho entre os estudantes de escolas distintas que estudam mais**"
   ]
  },
  {
   "cell_type": "markdown",
   "metadata": {},
   "source": [
    "## COMPARAÇÃO DOS LOGLIKES ENTRE OS MODELOS"
   ]
  },
  {
   "cell_type": "code",
   "execution_count": 30,
   "metadata": {},
   "outputs": [
    {
     "name": "stdout",
     "output_type": "stream",
     "text": [
      "LogLike Modelo HLM2 Nulo: -1416.0073929574764\n",
      "LogLike Modelo OLS: -1633.485196978135\n",
      "LogLike Modelo HLM2 com Intercepto Aleatorio: -1155.2466403888093\n"
     ]
    }
   ],
   "source": [
    "#Loglike\n",
    "print(f'LogLike Modelo HLM2 Nulo: {modelo_nulo.llf}')\n",
    "print(f'LogLike Modelo OLS: {modelo_OLS.llf}')\n",
    "print(f'LogLike Modelo HLM2 com Intercepto Aleatorio: {mod_interc_aleat.llf}')\n"
   ]
  },
  {
   "cell_type": "markdown",
   "metadata": {},
   "source": [
    "# 3° Estagio do modelo Step Up"
   ]
  },
  {
   "cell_type": "markdown",
   "metadata": {},
   "source": [
    "## Modelos com Interceptos e Inclinações aleatórias (Incluir a variável horas no nível 2)"
   ]
  },
  {
   "cell_type": "markdown",
   "metadata": {},
   "source": [
    "### Existe diferença nos interceptos das equações do desempenho em função de horas e nas taxas de crescimento do desempenho em função da quantidade de horas que os alunos estudam entre alunos da mesma ou diferentes escolas?"
   ]
  },
  {
   "cell_type": "code",
   "execution_count": 31,
   "metadata": {},
   "outputs": [
    {
     "name": "stdout",
     "output_type": "stream",
     "text": [
      "           Mixed Linear Model Regression Results\n",
      "============================================================\n",
      "Model:              MixedLM  Dependent Variable:  desempenho\n",
      "No. Observations:   358      Method:              REML      \n",
      "No. Groups:         10       Scale:               7.0497    \n",
      "Min. group size:    20       Log-Likelihood:      -906.8028 \n",
      "Max. group size:    48       Converged:           Yes       \n",
      "Mean group size:    35.8                                    \n",
      "------------------------------------------------------------\n",
      "                   Coef.  Std.Err.   z   P>|z| [0.025 0.975]\n",
      "------------------------------------------------------------\n",
      "Intercept           7.121    2.426 2.935 0.003  2.366 11.875\n",
      "horas               1.895    0.308 6.158 0.000  1.292  2.498\n",
      "escola Var         55.078   10.278                          \n",
      "escola x horas Cov  2.568    0.986                          \n",
      "horas Var           0.938    0.170                          \n",
      "============================================================\n",
      "\n"
     ]
    }
   ],
   "source": [
    "#Modelo 3\n",
    "Nivel_1 = \"desempenho ~ horas\"\n",
    "incli_nivel2_horas = 'horas'\n",
    "intercp_nivel_2 = \"escola\"\n",
    "modelo3  = smf.mixedlm(Nivel_1, dados,re_formula= incli_nivel2_horas,groups=intercp_nivel_2)\n",
    "inter_incli_aleat = modelo3.fit()\n",
    "print(inter_incli_aleat.summary())"
   ]
  },
  {
   "cell_type": "markdown",
   "metadata": {},
   "source": [
    "# P-value dos parametros"
   ]
  },
  {
   "cell_type": "code",
   "execution_count": 32,
   "metadata": {},
   "outputs": [
    {
     "data": {
      "text/plain": [
       "Intercept             0.003\n",
       "horas                 0.000\n",
       "escola Var            0.044\n",
       "escola x horas Cov    0.326\n",
       "horas Var             0.038\n",
       "dtype: float64"
      ]
     },
     "execution_count": 32,
     "metadata": {},
     "output_type": "execute_result"
    }
   ],
   "source": [
    "round(inter_incli_aleat.pvalues,3)"
   ]
  },
  {
   "cell_type": "markdown",
   "metadata": {},
   "source": [
    "**Podemos observar que tanto o intercepto quanto a inclinação são estatisticamente significantes a um nível de 5%, porém nos modelos multiníveis podemos aceitar com um nível de significância de 10% para os efeitos aleatórios de inclinação, pois podemos não ter uma substancialidade amostral significante no contexto**"
   ]
  },
  {
   "cell_type": "markdown",
   "metadata": {},
   "source": [
    "**Caso o p-valor da variável 'horas' no nível 2 não tivesse sido estatisticamente diferente de 0, esse modelo não seria estatisticamente diferente do anterior**"
   ]
  },
  {
   "cell_type": "code",
   "execution_count": 33,
   "metadata": {},
   "outputs": [
    {
     "data": {
      "text/plain": [
       "Intercept    7.120541\n",
       "horas        1.894527\n",
       "dtype: float64"
      ]
     },
     "execution_count": 33,
     "metadata": {},
     "output_type": "execute_result"
    }
   ],
   "source": [
    "#Parametros das variaveis Fixas\n",
    "inter_incli_aleat.fe_params"
   ]
  },
  {
   "cell_type": "code",
   "execution_count": 34,
   "metadata": {},
   "outputs": [
    {
     "name": "stdout",
     "output_type": "stream",
     "text": [
      "Nivel_2 Escola: 55.07815150149513\n",
      "\n",
      "Nivel_2 horas: 0.9380294038150638\n"
     ]
    }
   ],
   "source": [
    "# Parametros das variaveis Aleatorias\n",
    "print(f'Nivel_2 Escola: {inter_incli_aleat.cov_re.escola[0]}')\n",
    "\n",
    "print(f'\\nNivel_2 horas: {inter_incli_aleat.cov_re.horas[1]}')"
   ]
  },
  {
   "cell_type": "markdown",
   "metadata": {},
   "source": [
    "## COMPARAÇÃO DOS LOGLIKES ENTRE OS MODELOS"
   ]
  },
  {
   "cell_type": "code",
   "execution_count": 35,
   "metadata": {},
   "outputs": [
    {
     "name": "stdout",
     "output_type": "stream",
     "text": [
      "LogLike Modelo HLM2 Nulo: -1416.0073929574764\n",
      "LogLike Modelo OLS: -1633.485196978135\n",
      "LogLike Modelo HLM2 com Intercepto Aleatorio: -1155.2466403888093\n",
      "LogLike Modelo HLM2 com Intercepto e Inclinações Aleatorias : -906.8027522125874\n"
     ]
    }
   ],
   "source": [
    "#Loglike\n",
    "print(f'LogLike Modelo HLM2 Nulo: {modelo_nulo.llf}')\n",
    "print(f'LogLike Modelo OLS: {modelo_OLS.llf}')\n",
    "print(f'LogLike Modelo HLM2 com Intercepto Aleatorio: {mod_interc_aleat.llf}')\n",
    "print(f'LogLike Modelo HLM2 com Intercepto e Inclinações Aleatorias : {inter_incli_aleat.llf}')"
   ]
  },
  {
   "cell_type": "markdown",
   "metadata": {},
   "source": [
    "**Podemos observar o ganho de LogLike quando colocamos o efeito aleatório de inclinação**"
   ]
  },
  {
   "cell_type": "markdown",
   "metadata": {},
   "source": [
    "# 4° Estagio do modelo Step Up"
   ]
  },
  {
   "cell_type": "markdown",
   "metadata": {},
   "source": [
    "## Modelos com Interceptos e Inclinações aleatórias (Incluir a variável 'Texp')"
   ]
  },
  {
   "cell_type": "markdown",
   "metadata": {},
   "source": [
    "### Verificar se os interceptos diferentes das equações das escolas, ocorrem em função da variável 'Texp'(Tempo de experiencia dos professores)? e verificar se a taxa de crescimento do desempenho em relação as horas se dá em função do tempo de experiencia dos professores em cada uma das escolas?"
   ]
  },
  {
   "cell_type": "code",
   "execution_count": 74,
   "metadata": {},
   "outputs": [
    {
     "name": "stdout",
     "output_type": "stream",
     "text": [
      "            Mixed Linear Model Regression Results\n",
      "=============================================================\n",
      "Model:               MixedLM  Dependent Variable:  desempenho\n",
      "No. Observations:    358      Method:              REML      \n",
      "No. Groups:          10       Scale:               7.0443    \n",
      "Min. group size:     20       Log-Likelihood:      -894.5684 \n",
      "Max. group size:     48       Converged:           Yes       \n",
      "Mean group size:     35.8                                    \n",
      "-------------------------------------------------------------\n",
      "                   Coef.  Std.Err.   z    P>|z| [0.025 0.975]\n",
      "-------------------------------------------------------------\n",
      "Intercept          -0.850    2.999 -0.283 0.777 -6.727  5.028\n",
      "horas               0.713    0.321  2.225 0.026  0.085  1.342\n",
      "texp                1.585    0.487  3.256 0.001  0.631  2.540\n",
      "texp:horas          0.232    0.053  4.405 0.000  0.129  0.335\n",
      "escola Var         24.345    5.167                           \n",
      "escola x horas Cov -2.354    0.514                           \n",
      "horas Var           0.305    0.059                           \n",
      "=============================================================\n",
      "\n"
     ]
    }
   ],
   "source": [
    "#Modelo 4 \n",
    "nivel_1 = \"desempenho ~ horas + texp +texp*horas \"\n",
    "incli_nivel2_horas = 'horas'\n",
    "intercp_nivel_2 = \"escola\"\n",
    "modelo4  = smf.mixedlm(nivel_1, dados,re_formula= incli_nivel2_horas,groups=intercp_nivel_2)\n",
    "inter_aleat_final = modelo4.fit()\n",
    "print(inter_aleat_final.summary())"
   ]
  },
  {
   "cell_type": "markdown",
   "metadata": {},
   "source": [
    "# P-value dos parametros"
   ]
  },
  {
   "cell_type": "code",
   "execution_count": 37,
   "metadata": {},
   "outputs": [
    {
     "data": {
      "text/plain": [
       "Intercept             0.777\n",
       "horas                 0.026\n",
       "texp                  0.001\n",
       "texp:horas            0.000\n",
       "escola Var            0.076\n",
       "escola x horas Cov    0.084\n",
       "horas Var             0.053\n",
       "dtype: float64"
      ]
     },
     "execution_count": 37,
     "metadata": {},
     "output_type": "execute_result"
    }
   ],
   "source": [
    "round(inter_aleat_final.pvalues,3)"
   ]
  },
  {
   "cell_type": "markdown",
   "metadata": {},
   "source": [
    "**Todas as variáveis tanto no nível 1 quanto no nível 2 são estatisticamente significantes para o modelo a um nível de significância de 5%**"
   ]
  },
  {
   "cell_type": "code",
   "execution_count": 38,
   "metadata": {},
   "outputs": [
    {
     "data": {
      "text/plain": [
       "Intercept    -0.849603\n",
       "horas         0.713461\n",
       "texp          1.585256\n",
       "texp:horas    0.231829\n",
       "dtype: float64"
      ]
     },
     "execution_count": 38,
     "metadata": {},
     "output_type": "execute_result"
    }
   ],
   "source": [
    "#Parametros das variaveis Fixas\n",
    "inter_aleat_final.fe_params"
   ]
  },
  {
   "cell_type": "code",
   "execution_count": 39,
   "metadata": {},
   "outputs": [
    {
     "name": "stdout",
     "output_type": "stream",
     "text": [
      "Nivel_2 Escola: 24.345359999619717\n",
      "\n",
      "Nivel_2 horas: 0.30527753343540276\n"
     ]
    }
   ],
   "source": [
    "# Parametros das variaveis Aleatorias\n",
    "print(f'Nivel_2 Escola: {inter_aleat_final.cov_re.escola[0]}')\n",
    "\n",
    "print(f'\\nNivel_2 horas: {inter_aleat_final.cov_re.horas[1]}')"
   ]
  },
  {
   "cell_type": "markdown",
   "metadata": {},
   "source": [
    "## COMPARAÇÃO DOS LOGLIKES ENTRE OS MODELOS"
   ]
  },
  {
   "cell_type": "code",
   "execution_count": 40,
   "metadata": {},
   "outputs": [
    {
     "name": "stdout",
     "output_type": "stream",
     "text": [
      "LogLike Modelo HLM2 Nulo: -1416.0073929574764\n",
      "LogLike Modelo OLS: -1633.485196978135\n",
      "LogLike Modelo HLM2 com Intercepto Aleatorio: -1155.2466403888093\n",
      "LogLike Modelo HLM2 com Intercepto e Inclinações Aleatorias : -906.8027522125874\n",
      "LogLike Modelo HLM2 com Intercepto e Inclinações Aleatorias +Var texp : -894.568407853362\n"
     ]
    }
   ],
   "source": [
    "#Loglike\n",
    "print(f'LogLike Modelo HLM2 Nulo: {modelo_nulo.llf}')\n",
    "print(f'LogLike Modelo OLS: {modelo_OLS.llf}')\n",
    "print(f'LogLike Modelo HLM2 com Intercepto Aleatorio: {mod_interc_aleat.llf}')\n",
    "print(f'LogLike Modelo HLM2 com Intercepto e Inclinações Aleatorias : {inter_incli_aleat.llf}')\n",
    "print(f'LogLike Modelo HLM2 com Intercepto e Inclinações Aleatorias +Var texp : {inter_aleat_final.llf}')"
   ]
  },
  {
   "cell_type": "code",
   "execution_count": 41,
   "metadata": {},
   "outputs": [
    {
     "data": {
      "image/png": "[encoded data removed]",
      "text/plain": [
       "<Figure size 432x288 with 1 Axes>"
      ]
     },
     "metadata": {},
     "output_type": "display_data"
    }
   ],
   "source": [
    "#Grafico de comparação dos LLs\n",
    "a = ['HLM2 Nulo','OLS','Int Aleat','Int e Incli Aleat','Modelo Final']\n",
    "b = [modelo_nulo.llf,modelo_OLS.llf,mod_interc_aleat.llf,inter_incli_aleat.llf,inter_aleat_final.llf]\n",
    "plt.barh(a,b);\n",
    "plt.title('Comparação dos LL',size=20);"
   ]
  },
  {
   "cell_type": "markdown",
   "metadata": {},
   "source": [
    "**Podemos observar que o LL do modelo Final com a variável 'texp' e o modelo com Intercepto e Inclinações Aleatórias obtiveram os melhores LL**"
   ]
  },
  {
   "cell_type": "code",
   "execution_count": 42,
   "metadata": {},
   "outputs": [
    {
     "name": "stdout",
     "output_type": "stream",
     "text": [
      "P_valor: 0.0\n"
     ]
    }
   ],
   "source": [
    "#Verificar se os LL do modelo final e do modelo Int e Incli Aleat são estatisticamente diferentes de 0\n",
    "import statsmodels.api as sm\n",
    "import statsmodels.formula.api as smf\n",
    "from scipy import stats\n",
    "stats.chisqprob = lambda chisq, df: stats.chi2.sf(chisq, df)\n",
    "\n",
    "def lrtest(llmin, llmax):\n",
    "    lr = 2 * (llmax - llmin)\n",
    "    p = stats.chisqprob(lr, 1) # llmax has 1 dof more than llmin\n",
    "    return lr, p\n",
    "\n",
    "lr, p = lrtest(inter_incli_aleat.llf, inter_aleat_final.llf)\n",
    "print(f'P_valor: {round(p,4)}')"
   ]
  },
  {
   "cell_type": "markdown",
   "metadata": {},
   "source": [
    "**p_value < 0.05, rejeita a hipótese nula, os loglikes dos 2 modelos não são estatisticamente iguais, portanto o modelo final apresentou o melhor LL, consequentemente o melhor modelo**"
   ]
  },
  {
   "cell_type": "markdown",
   "metadata": {},
   "source": [
    "## Visualização dos interceptos e das inclinações aleatórios por escola"
   ]
  },
  {
   "cell_type": "code",
   "execution_count": 43,
   "metadata": {},
   "outputs": [
    {
     "data": {
      "text/html": [
       "<div>\n",
       "<style scoped>\n",
       "    .dataframe tbody tr th:only-of-type {\n",
       "        vertical-align: middle;\n",
       "    }\n",
       "\n",
       "    .dataframe tbody tr th {\n",
       "        vertical-align: top;\n",
       "    }\n",
       "\n",
       "    .dataframe thead th {\n",
       "        text-align: right;\n",
       "    }\n",
       "</style>\n",
       "<table border=\"1\" class=\"dataframe\">\n",
       "  <thead>\n",
       "    <tr style=\"text-align: right;\">\n",
       "      <th></th>\n",
       "      <th>Intercepto</th>\n",
       "      <th>Inclinação</th>\n",
       "    </tr>\n",
       "    <tr>\n",
       "      <th>escola</th>\n",
       "      <th></th>\n",
       "      <th></th>\n",
       "    </tr>\n",
       "  </thead>\n",
       "  <tbody>\n",
       "    <tr>\n",
       "      <th>1</th>\n",
       "      <td>-0.211364</td>\n",
       "      <td>0.438811</td>\n",
       "    </tr>\n",
       "    <tr>\n",
       "      <th>2</th>\n",
       "      <td>1.291495</td>\n",
       "      <td>-0.278181</td>\n",
       "    </tr>\n",
       "    <tr>\n",
       "      <th>3</th>\n",
       "      <td>6.090772</td>\n",
       "      <td>-0.779130</td>\n",
       "    </tr>\n",
       "    <tr>\n",
       "      <th>4</th>\n",
       "      <td>-5.245506</td>\n",
       "      <td>0.450368</td>\n",
       "    </tr>\n",
       "    <tr>\n",
       "      <th>5</th>\n",
       "      <td>-1.695358</td>\n",
       "      <td>-0.139678</td>\n",
       "    </tr>\n",
       "    <tr>\n",
       "      <th>6</th>\n",
       "      <td>3.864292</td>\n",
       "      <td>0.005096</td>\n",
       "    </tr>\n",
       "    <tr>\n",
       "      <th>7</th>\n",
       "      <td>-8.270892</td>\n",
       "      <td>0.909171</td>\n",
       "    </tr>\n",
       "    <tr>\n",
       "      <th>8</th>\n",
       "      <td>-1.363471</td>\n",
       "      <td>0.217166</td>\n",
       "    </tr>\n",
       "    <tr>\n",
       "      <th>9</th>\n",
       "      <td>3.705674</td>\n",
       "      <td>-0.607100</td>\n",
       "    </tr>\n",
       "    <tr>\n",
       "      <th>10</th>\n",
       "      <td>1.834358</td>\n",
       "      <td>-0.216522</td>\n",
       "    </tr>\n",
       "  </tbody>\n",
       "</table>\n",
       "</div>"
      ],
      "text/plain": [
       "        Intercepto  Inclinação\n",
       "escola                        \n",
       "1        -0.211364    0.438811\n",
       "2         1.291495   -0.278181\n",
       "3         6.090772   -0.779130\n",
       "4        -5.245506    0.450368\n",
       "5        -1.695358   -0.139678\n",
       "6         3.864292    0.005096\n",
       "7        -8.270892    0.909171\n",
       "8        -1.363471    0.217166\n",
       "9         3.705674   -0.607100\n",
       "10        1.834358   -0.216522"
      ]
     },
     "execution_count": 43,
     "metadata": {},
     "output_type": "execute_result"
    }
   ],
   "source": [
    "#Valores dos Intercepto e inclinação do nivel 2\n",
    "int_incli = pd.DataFrame(inter_aleat_final.random_effects).T\n",
    "int_incli.columns = ['Intercepto','Inclinação']\n",
    "int_incli['escola'] = dados.escola.unique()\n",
    "int_incli = int_incli.set_index('escola')\n",
    "int_incli"
   ]
  },
  {
   "cell_type": "markdown",
   "metadata": {},
   "source": [
    "**Intercepto da Escola e o valor da inclinação a cada incremento de 1 unidade de estudo**"
   ]
  },
  {
   "cell_type": "markdown",
   "metadata": {},
   "source": [
    "**As escola 2, 3, 5, 9 e 10 tem um decréscimo a medida que se avança a quantidade de horas de estudo**"
   ]
  },
  {
   "cell_type": "code",
   "execution_count": 44,
   "metadata": {},
   "outputs": [
    {
     "data": {
      "image/png": "[encoded data removed]",
      "text/plain": [
       "<Figure size 864x504 with 2 Axes>"
      ]
     },
     "metadata": {},
     "output_type": "display_data"
    }
   ],
   "source": [
    "#Verificar graficamente os efeitos aleatorios nos dados\n",
    "\n",
    "#Efeito de aleatorio de intercepto\n",
    "fig, (ax1, ax2) = plt.subplots(1, 2, figsize=(12,7))\n",
    "a = np.arange(len(int_incli))+1\n",
    "b = int_incli.Intercepto\n",
    "ax1.barh(a,b);\n",
    "ax1.set(title=\"Efeitos aleatorios de Intercepto\", xlabel=\"Y00\", ylabel=\"Escola\")\n",
    "plt.gca().invert_yaxis()\n",
    "\n",
    "#Efeito de aleatorio de Inclinação\n",
    "a1 = np.arange(len(int_incli))+1\n",
    "b1 = int_incli.Inclinação\n",
    "ax2.barh(a1,b1);\n",
    "ax2.set(title=\"Efeitos aleatorios de Inclinação\", xlabel=\"V1j\", ylabel=\"Escola\")\n",
    "\n",
    "plt.gca().invert_yaxis()"
   ]
  },
  {
   "cell_type": "markdown",
   "metadata": {},
   "source": [
    "**Podemos interpretar os efeitos aleatórios de intercepto do nível 2 como o intercepto da regressão linear, porem neste caso cada escola terá um intercepto diferente, o parâmetro da inclinação segue o mesmo raciocínio**"
   ]
  },
  {
   "cell_type": "markdown",
   "metadata": {},
   "source": [
    "# Previsão"
   ]
  },
  {
   "cell_type": "code",
   "execution_count": 45,
   "metadata": {},
   "outputs": [
    {
     "data": {
      "text/html": [
       "<div>\n",
       "<style scoped>\n",
       "    .dataframe tbody tr th:only-of-type {\n",
       "        vertical-align: middle;\n",
       "    }\n",
       "\n",
       "    .dataframe tbody tr th {\n",
       "        vertical-align: top;\n",
       "    }\n",
       "\n",
       "    .dataframe thead th {\n",
       "        text-align: right;\n",
       "    }\n",
       "</style>\n",
       "<table border=\"1\" class=\"dataframe\">\n",
       "  <thead>\n",
       "    <tr style=\"text-align: right;\">\n",
       "      <th></th>\n",
       "      <th>escola</th>\n",
       "      <th>desempenho</th>\n",
       "      <th>horas</th>\n",
       "      <th>texp</th>\n",
       "      <th>predict_efeito_fixo</th>\n",
       "      <th>Predict_efeito_Aleatorio</th>\n",
       "    </tr>\n",
       "    <tr>\n",
       "      <th>estudante</th>\n",
       "      <th></th>\n",
       "      <th></th>\n",
       "      <th></th>\n",
       "      <th></th>\n",
       "      <th></th>\n",
       "      <th></th>\n",
       "    </tr>\n",
       "  </thead>\n",
       "  <tbody>\n",
       "    <tr>\n",
       "      <th>1</th>\n",
       "      <td>1</td>\n",
       "      <td>25.0</td>\n",
       "      <td>11</td>\n",
       "      <td>3.6</td>\n",
       "      <td>21.885819</td>\n",
       "      <td>26.501371</td>\n",
       "    </tr>\n",
       "    <tr>\n",
       "      <th>2</th>\n",
       "      <td>1</td>\n",
       "      <td>52.0</td>\n",
       "      <td>23</td>\n",
       "      <td>3.6</td>\n",
       "      <td>40.462363</td>\n",
       "      <td>50.343641</td>\n",
       "    </tr>\n",
       "    <tr>\n",
       "      <th>3</th>\n",
       "      <td>1</td>\n",
       "      <td>52.0</td>\n",
       "      <td>25</td>\n",
       "      <td>3.6</td>\n",
       "      <td>43.558453</td>\n",
       "      <td>54.317353</td>\n",
       "    </tr>\n",
       "    <tr>\n",
       "      <th>4</th>\n",
       "      <td>1</td>\n",
       "      <td>30.0</td>\n",
       "      <td>14</td>\n",
       "      <td>3.6</td>\n",
       "      <td>26.529955</td>\n",
       "      <td>32.461938</td>\n",
       "    </tr>\n",
       "    <tr>\n",
       "      <th>5</th>\n",
       "      <td>1</td>\n",
       "      <td>51.0</td>\n",
       "      <td>24</td>\n",
       "      <td>3.6</td>\n",
       "      <td>42.010408</td>\n",
       "      <td>52.330497</td>\n",
       "    </tr>\n",
       "    <tr>\n",
       "      <th>...</th>\n",
       "      <td>...</td>\n",
       "      <td>...</td>\n",
       "      <td>...</td>\n",
       "      <td>...</td>\n",
       "      <td>...</td>\n",
       "      <td>...</td>\n",
       "    </tr>\n",
       "    <tr>\n",
       "      <th>354</th>\n",
       "      <td>10</td>\n",
       "      <td>46.5</td>\n",
       "      <td>28</td>\n",
       "      <td>3.9</td>\n",
       "      <td>50.625529</td>\n",
       "      <td>46.397262</td>\n",
       "    </tr>\n",
       "    <tr>\n",
       "      <th>355</th>\n",
       "      <td>10</td>\n",
       "      <td>21.0</td>\n",
       "      <td>9</td>\n",
       "      <td>3.9</td>\n",
       "      <td>19.891243</td>\n",
       "      <td>19.776900</td>\n",
       "    </tr>\n",
       "    <tr>\n",
       "      <th>356</th>\n",
       "      <td>10</td>\n",
       "      <td>42.0</td>\n",
       "      <td>27</td>\n",
       "      <td>3.9</td>\n",
       "      <td>49.007935</td>\n",
       "      <td>44.996191</td>\n",
       "    </tr>\n",
       "    <tr>\n",
       "      <th>357</th>\n",
       "      <td>10</td>\n",
       "      <td>14.0</td>\n",
       "      <td>7</td>\n",
       "      <td>3.9</td>\n",
       "      <td>16.656055</td>\n",
       "      <td>16.974757</td>\n",
       "    </tr>\n",
       "    <tr>\n",
       "      <th>358</th>\n",
       "      <td>10</td>\n",
       "      <td>41.5</td>\n",
       "      <td>24</td>\n",
       "      <td>3.9</td>\n",
       "      <td>44.155153</td>\n",
       "      <td>40.792976</td>\n",
       "    </tr>\n",
       "  </tbody>\n",
       "</table>\n",
       "<p>358 rows × 6 columns</p>\n",
       "</div>"
      ],
      "text/plain": [
       "           escola  desempenho  horas  texp  predict_efeito_fixo  \\\n",
       "estudante                                                         \n",
       "1               1        25.0     11   3.6            21.885819   \n",
       "2               1        52.0     23   3.6            40.462363   \n",
       "3               1        52.0     25   3.6            43.558453   \n",
       "4               1        30.0     14   3.6            26.529955   \n",
       "5               1        51.0     24   3.6            42.010408   \n",
       "...           ...         ...    ...   ...                  ...   \n",
       "354            10        46.5     28   3.9            50.625529   \n",
       "355            10        21.0      9   3.9            19.891243   \n",
       "356            10        42.0     27   3.9            49.007935   \n",
       "357            10        14.0      7   3.9            16.656055   \n",
       "358            10        41.5     24   3.9            44.155153   \n",
       "\n",
       "           Predict_efeito_Aleatorio  \n",
       "estudante                            \n",
       "1                         26.501371  \n",
       "2                         50.343641  \n",
       "3                         54.317353  \n",
       "4                         32.461938  \n",
       "5                         52.330497  \n",
       "...                             ...  \n",
       "354                       46.397262  \n",
       "355                       19.776900  \n",
       "356                       44.996191  \n",
       "357                       16.974757  \n",
       "358                       40.792976  \n",
       "\n",
       "[358 rows x 6 columns]"
      ]
     },
     "execution_count": 45,
     "metadata": {},
     "output_type": "execute_result"
    }
   ],
   "source": [
    "#Previsão efeitos fixos\n",
    "dados['predict_efeito_fixo'] = inter_aleat_final.predict(exog=x)\n",
    "\n",
    "#Previsão efeitos aleatorios\n",
    "dados['Predict_efeito_Aleatorio'] = inter_aleat_final.fittedvalues\n",
    "\n",
    "dados"
   ]
  },
  {
   "cell_type": "code",
   "execution_count": 46,
   "metadata": {},
   "outputs": [
    {
     "name": "stdout",
     "output_type": "stream",
     "text": [
      "mean_squared_error:\n",
      "mse_fixo: 48.74335943664914\n",
      "mse_aleat: 6.686243581932358\n",
      "\n",
      "mean_absolute_error:\n",
      "mae_fixo: 5.768255023000559\n",
      "mae_aleat: 2.2121267449280153\n"
     ]
    }
   ],
   "source": [
    "from sklearn.metrics import mean_squared_error, mean_absolute_error, r2_score\n",
    "\n",
    "mse_fixo = mean_squared_error(y,dados.predict_efeito_fixo)\n",
    "mse_aleat = mean_squared_error(y,dados.Predict_efeito_Aleatorio)\n",
    "\n",
    "mae_fixo = mean_absolute_error(y,dados.predict_efeito_fixo)\n",
    "mae_aleat = mean_absolute_error(y,dados.Predict_efeito_Aleatorio)\n",
    "\n",
    "print(f'mean_squared_error:')\n",
    "print(f'mse_fixo: {mse_fixo}')\n",
    "print(f'mse_aleat: {mse_aleat}')\n",
    "\n",
    "print(f'\\nmean_absolute_error:')\n",
    "print(f'mae_fixo: {mae_fixo}')\n",
    "print(f'mae_aleat: {mae_aleat}')"
   ]
  },
  {
   "cell_type": "markdown",
   "metadata": {},
   "source": [
    "**Observe que o valor das métrica: Mean_squared_error e Mean_absolute_error o modelo de efeito aleatório é mais baixo**"
   ]
  },
  {
   "cell_type": "markdown",
   "metadata": {},
   "source": [
    "## Previsão sem o uso do algoritimo "
   ]
  },
  {
   "cell_type": "markdown",
   "metadata": {},
   "source": [
    "### Prever a observação da linha 0"
   ]
  },
  {
   "cell_type": "code",
   "execution_count": 47,
   "metadata": {},
   "outputs": [
    {
     "data": {
      "text/html": [
       "<div>\n",
       "<style scoped>\n",
       "    .dataframe tbody tr th:only-of-type {\n",
       "        vertical-align: middle;\n",
       "    }\n",
       "\n",
       "    .dataframe tbody tr th {\n",
       "        vertical-align: top;\n",
       "    }\n",
       "\n",
       "    .dataframe thead th {\n",
       "        text-align: right;\n",
       "    }\n",
       "</style>\n",
       "<table border=\"1\" class=\"dataframe\">\n",
       "  <thead>\n",
       "    <tr style=\"text-align: right;\">\n",
       "      <th></th>\n",
       "      <th>escola</th>\n",
       "      <th>horas</th>\n",
       "      <th>texp</th>\n",
       "      <th>Target</th>\n",
       "    </tr>\n",
       "    <tr>\n",
       "      <th>estudante</th>\n",
       "      <th></th>\n",
       "      <th></th>\n",
       "      <th></th>\n",
       "      <th></th>\n",
       "    </tr>\n",
       "  </thead>\n",
       "  <tbody>\n",
       "    <tr>\n",
       "      <th>1</th>\n",
       "      <td>1</td>\n",
       "      <td>11</td>\n",
       "      <td>3.6</td>\n",
       "      <td>25.0</td>\n",
       "    </tr>\n",
       "  </tbody>\n",
       "</table>\n",
       "</div>"
      ],
      "text/plain": [
       "           escola  horas  texp  Target\n",
       "estudante                             \n",
       "1               1     11   3.6    25.0"
      ]
     },
     "execution_count": 47,
     "metadata": {},
     "output_type": "execute_result"
    }
   ],
   "source": [
    "linha_zero = dados[['escola','horas','texp']]\n",
    "linha_zero = linha_zero.head(1)\n",
    "linha_zero['Target'] = dados.iloc[0,1]\n",
    "linha_zero"
   ]
  },
  {
   "cell_type": "markdown",
   "metadata": {},
   "source": [
    "### Parâmetros Efeitos Fixos"
   ]
  },
  {
   "cell_type": "code",
   "execution_count": 48,
   "metadata": {},
   "outputs": [
    {
     "name": "stdout",
     "output_type": "stream",
     "text": [
      "intercepto_fixed: -0.8496025656423983\n",
      "horas_fixed: 0.7134611038732946\n",
      "texp_fixed: 1.5852563538778488\n",
      "texp_horas_fixed 0.2318289476392338\n"
     ]
    }
   ],
   "source": [
    "#Atribuindo os parametros nas variaveis\n",
    "intercepto_fixed = inter_aleat_final.params.Intercept\n",
    "horas_fixed = inter_aleat_final.params.horas\n",
    "texp_fixed = inter_aleat_final.params.texp\n",
    "texp_horas_fixed = inter_aleat_final.params[3]\n",
    "\n",
    "print(f'intercepto_fixed: {intercepto_fixed}')\n",
    "print(f'horas_fixed: {horas_fixed}')\n",
    "print(f'texp_fixed: {texp_fixed}')\n",
    "print(f'texp_horas_fixed {texp_horas_fixed}')"
   ]
  },
  {
   "cell_type": "markdown",
   "metadata": {},
   "source": [
    "### Previsão: Parametros Fixos"
   ]
  },
  {
   "cell_type": "code",
   "execution_count": 49,
   "metadata": {},
   "outputs": [
    {
     "data": {
      "text/html": [
       "<div>\n",
       "<style scoped>\n",
       "    .dataframe tbody tr th:only-of-type {\n",
       "        vertical-align: middle;\n",
       "    }\n",
       "\n",
       "    .dataframe tbody tr th {\n",
       "        vertical-align: top;\n",
       "    }\n",
       "\n",
       "    .dataframe thead th {\n",
       "        text-align: right;\n",
       "    }\n",
       "</style>\n",
       "<table border=\"1\" class=\"dataframe\">\n",
       "  <thead>\n",
       "    <tr style=\"text-align: right;\">\n",
       "      <th></th>\n",
       "      <th>escola</th>\n",
       "      <th>horas</th>\n",
       "      <th>texp</th>\n",
       "      <th>Target</th>\n",
       "      <th>Prev_fixed</th>\n",
       "    </tr>\n",
       "    <tr>\n",
       "      <th>estudante</th>\n",
       "      <th></th>\n",
       "      <th></th>\n",
       "      <th></th>\n",
       "      <th></th>\n",
       "      <th></th>\n",
       "    </tr>\n",
       "  </thead>\n",
       "  <tbody>\n",
       "    <tr>\n",
       "      <th>1</th>\n",
       "      <td>1</td>\n",
       "      <td>11</td>\n",
       "      <td>3.6</td>\n",
       "      <td>25.0</td>\n",
       "      <td>21.885819</td>\n",
       "    </tr>\n",
       "  </tbody>\n",
       "</table>\n",
       "</div>"
      ],
      "text/plain": [
       "           escola  horas  texp  Target  Prev_fixed\n",
       "estudante                                         \n",
       "1               1     11   3.6    25.0   21.885819"
      ]
     },
     "execution_count": 49,
     "metadata": {},
     "output_type": "execute_result"
    }
   ],
   "source": [
    "#Variaveis Preditoras\n",
    "escola = linha_zero.iloc[0,0]\n",
    "horas = linha_zero.iloc[0,1]\n",
    "texp = linha_zero.iloc[0,2]\n",
    "\n",
    "#Previsão Parametros Fixos\n",
    "fixed = intercepto_fixed + horas_fixed*horas + texp_fixed*texp + texp_horas_fixed*(texp*horas)\n",
    "linha_zero['Prev_fixed'] = fixed\n",
    "linha_zero"
   ]
  },
  {
   "cell_type": "markdown",
   "metadata": {},
   "source": [
    "## Previsão: Parâmetros Fixos + Aleatórios"
   ]
  },
  {
   "cell_type": "markdown",
   "metadata": {},
   "source": [
    "### Parâmetros Efeitos Aleatórios"
   ]
  },
  {
   "cell_type": "code",
   "execution_count": 50,
   "metadata": {},
   "outputs": [
    {
     "name": "stdout",
     "output_type": "stream",
     "text": [
      "intercepto_alet: -0.21136442177602\n",
      "inclinacao_alet: 0.4388105800486315\n"
     ]
    }
   ],
   "source": [
    "#Tabela com os parametros de efeito aleatorios\n",
    "parans_aleat = pd.DataFrame(inter_aleat_final.random_effects)\n",
    "\n",
    "#Atribuindo os parametros nas variaveis\n",
    "intercepto_alet = parans_aleat.iloc[0,0]\n",
    "inclinacao_alet = parans_aleat.iloc[1,0]\n",
    "\n",
    "print(f'intercepto_alet: {intercepto_alet}')\n",
    "print(f'inclinacao_alet: {inclinacao_alet}')\n"
   ]
  },
  {
   "cell_type": "markdown",
   "metadata": {},
   "source": [
    "### Previsão: Parâmetros Fixos + Aleatórios"
   ]
  },
  {
   "cell_type": "code",
   "execution_count": 51,
   "metadata": {},
   "outputs": [
    {
     "data": {
      "text/html": [
       "<div>\n",
       "<style scoped>\n",
       "    .dataframe tbody tr th:only-of-type {\n",
       "        vertical-align: middle;\n",
       "    }\n",
       "\n",
       "    .dataframe tbody tr th {\n",
       "        vertical-align: top;\n",
       "    }\n",
       "\n",
       "    .dataframe thead th {\n",
       "        text-align: right;\n",
       "    }\n",
       "</style>\n",
       "<table border=\"1\" class=\"dataframe\">\n",
       "  <thead>\n",
       "    <tr style=\"text-align: right;\">\n",
       "      <th></th>\n",
       "      <th>escola</th>\n",
       "      <th>horas</th>\n",
       "      <th>texp</th>\n",
       "      <th>Target</th>\n",
       "      <th>Prev_fixed</th>\n",
       "      <th>fixed+aleat</th>\n",
       "    </tr>\n",
       "    <tr>\n",
       "      <th>estudante</th>\n",
       "      <th></th>\n",
       "      <th></th>\n",
       "      <th></th>\n",
       "      <th></th>\n",
       "      <th></th>\n",
       "      <th></th>\n",
       "    </tr>\n",
       "  </thead>\n",
       "  <tbody>\n",
       "    <tr>\n",
       "      <th>1</th>\n",
       "      <td>1</td>\n",
       "      <td>11</td>\n",
       "      <td>3.6</td>\n",
       "      <td>25.0</td>\n",
       "      <td>21.885819</td>\n",
       "      <td>26.501371</td>\n",
       "    </tr>\n",
       "  </tbody>\n",
       "</table>\n",
       "</div>"
      ],
      "text/plain": [
       "           escola  horas  texp  Target  Prev_fixed  fixed+aleat\n",
       "estudante                                                      \n",
       "1               1     11   3.6    25.0   21.885819    26.501371"
      ]
     },
     "execution_count": 51,
     "metadata": {},
     "output_type": "execute_result"
    }
   ],
   "source": [
    "#Variaveis Preditoras\n",
    "horas = linha_zero.iloc[0,1]\n",
    "\n",
    "#Previsão\n",
    "fixed_alet = fixed + intercepto_alet + inclinacao_alet*horas\n",
    "linha_zero['fixed+aleat'] = fixed_alet\n",
    "linha_zero"
   ]
  },
  {
   "cell_type": "markdown",
   "metadata": {},
   "source": [
    "# Comparar as Previsões com os Efeitos Fixos e Efeitos Fixos + Aleatórios"
   ]
  },
  {
   "cell_type": "code",
   "execution_count": 52,
   "metadata": {},
   "outputs": [
    {
     "data": {
      "text/plain": [
       "<matplotlib.legend.Legend at 0x1a813a1d370>"
      ]
     },
     "execution_count": 52,
     "metadata": {},
     "output_type": "execute_result"
    },
    {
     "data": {
      "image/png": "[encoded data removed]",
      "text/plain": [
       "<Figure size 432x288 with 1 Axes>"
      ]
     },
     "metadata": {},
     "output_type": "display_data"
    }
   ],
   "source": [
    "plt.scatter(dados.desempenho,dados['predict_efeito_fixo']);\n",
    "plt.scatter(dados.desempenho,dados['Predict_efeito_Aleatorio']);\n",
    "plt.xlabel('Desempenho');\n",
    "plt.ylabel('fixed e fixed_aleat');\n",
    "\n",
    "plt.legend(['efeito_fixo','efeito_fixo+Aleatorio'])"
   ]
  },
  {
   "cell_type": "markdown",
   "metadata": {},
   "source": [
    "**Note que o ajuste do modelo com efeitos fixo + aleatório teve pouca dispersão em relação ao modelo somente com efeitos fixos**"
   ]
  },
  {
   "cell_type": "markdown",
   "metadata": {},
   "source": [
    "# COMPARAÇÃO COM UM MODELO OLS COM DUMMIES "
   ]
  },
  {
   "cell_type": "code",
   "execution_count": 53,
   "metadata": {},
   "outputs": [
    {
     "data": {
      "text/html": [
       "<div>\n",
       "<style scoped>\n",
       "    .dataframe tbody tr th:only-of-type {\n",
       "        vertical-align: middle;\n",
       "    }\n",
       "\n",
       "    .dataframe tbody tr th {\n",
       "        vertical-align: top;\n",
       "    }\n",
       "\n",
       "    .dataframe thead th {\n",
       "        text-align: right;\n",
       "    }\n",
       "</style>\n",
       "<table border=\"1\" class=\"dataframe\">\n",
       "  <thead>\n",
       "    <tr style=\"text-align: right;\">\n",
       "      <th></th>\n",
       "      <th>2</th>\n",
       "      <th>3</th>\n",
       "      <th>4</th>\n",
       "      <th>5</th>\n",
       "      <th>6</th>\n",
       "      <th>7</th>\n",
       "      <th>8</th>\n",
       "      <th>9</th>\n",
       "      <th>10</th>\n",
       "    </tr>\n",
       "    <tr>\n",
       "      <th>estudante</th>\n",
       "      <th></th>\n",
       "      <th></th>\n",
       "      <th></th>\n",
       "      <th></th>\n",
       "      <th></th>\n",
       "      <th></th>\n",
       "      <th></th>\n",
       "      <th></th>\n",
       "      <th></th>\n",
       "    </tr>\n",
       "  </thead>\n",
       "  <tbody>\n",
       "    <tr>\n",
       "      <th>1</th>\n",
       "      <td>0</td>\n",
       "      <td>0</td>\n",
       "      <td>0</td>\n",
       "      <td>0</td>\n",
       "      <td>0</td>\n",
       "      <td>0</td>\n",
       "      <td>0</td>\n",
       "      <td>0</td>\n",
       "      <td>0</td>\n",
       "    </tr>\n",
       "    <tr>\n",
       "      <th>2</th>\n",
       "      <td>0</td>\n",
       "      <td>0</td>\n",
       "      <td>0</td>\n",
       "      <td>0</td>\n",
       "      <td>0</td>\n",
       "      <td>0</td>\n",
       "      <td>0</td>\n",
       "      <td>0</td>\n",
       "      <td>0</td>\n",
       "    </tr>\n",
       "    <tr>\n",
       "      <th>3</th>\n",
       "      <td>0</td>\n",
       "      <td>0</td>\n",
       "      <td>0</td>\n",
       "      <td>0</td>\n",
       "      <td>0</td>\n",
       "      <td>0</td>\n",
       "      <td>0</td>\n",
       "      <td>0</td>\n",
       "      <td>0</td>\n",
       "    </tr>\n",
       "    <tr>\n",
       "      <th>4</th>\n",
       "      <td>0</td>\n",
       "      <td>0</td>\n",
       "      <td>0</td>\n",
       "      <td>0</td>\n",
       "      <td>0</td>\n",
       "      <td>0</td>\n",
       "      <td>0</td>\n",
       "      <td>0</td>\n",
       "      <td>0</td>\n",
       "    </tr>\n",
       "    <tr>\n",
       "      <th>5</th>\n",
       "      <td>0</td>\n",
       "      <td>0</td>\n",
       "      <td>0</td>\n",
       "      <td>0</td>\n",
       "      <td>0</td>\n",
       "      <td>0</td>\n",
       "      <td>0</td>\n",
       "      <td>0</td>\n",
       "      <td>0</td>\n",
       "    </tr>\n",
       "    <tr>\n",
       "      <th>...</th>\n",
       "      <td>...</td>\n",
       "      <td>...</td>\n",
       "      <td>...</td>\n",
       "      <td>...</td>\n",
       "      <td>...</td>\n",
       "      <td>...</td>\n",
       "      <td>...</td>\n",
       "      <td>...</td>\n",
       "      <td>...</td>\n",
       "    </tr>\n",
       "    <tr>\n",
       "      <th>354</th>\n",
       "      <td>0</td>\n",
       "      <td>0</td>\n",
       "      <td>0</td>\n",
       "      <td>0</td>\n",
       "      <td>0</td>\n",
       "      <td>0</td>\n",
       "      <td>0</td>\n",
       "      <td>0</td>\n",
       "      <td>1</td>\n",
       "    </tr>\n",
       "    <tr>\n",
       "      <th>355</th>\n",
       "      <td>0</td>\n",
       "      <td>0</td>\n",
       "      <td>0</td>\n",
       "      <td>0</td>\n",
       "      <td>0</td>\n",
       "      <td>0</td>\n",
       "      <td>0</td>\n",
       "      <td>0</td>\n",
       "      <td>1</td>\n",
       "    </tr>\n",
       "    <tr>\n",
       "      <th>356</th>\n",
       "      <td>0</td>\n",
       "      <td>0</td>\n",
       "      <td>0</td>\n",
       "      <td>0</td>\n",
       "      <td>0</td>\n",
       "      <td>0</td>\n",
       "      <td>0</td>\n",
       "      <td>0</td>\n",
       "      <td>1</td>\n",
       "    </tr>\n",
       "    <tr>\n",
       "      <th>357</th>\n",
       "      <td>0</td>\n",
       "      <td>0</td>\n",
       "      <td>0</td>\n",
       "      <td>0</td>\n",
       "      <td>0</td>\n",
       "      <td>0</td>\n",
       "      <td>0</td>\n",
       "      <td>0</td>\n",
       "      <td>1</td>\n",
       "    </tr>\n",
       "    <tr>\n",
       "      <th>358</th>\n",
       "      <td>0</td>\n",
       "      <td>0</td>\n",
       "      <td>0</td>\n",
       "      <td>0</td>\n",
       "      <td>0</td>\n",
       "      <td>0</td>\n",
       "      <td>0</td>\n",
       "      <td>0</td>\n",
       "      <td>1</td>\n",
       "    </tr>\n",
       "  </tbody>\n",
       "</table>\n",
       "<p>358 rows × 9 columns</p>\n",
       "</div>"
      ],
      "text/plain": [
       "           2   3   4   5   6   7   8   9   10\n",
       "estudante                                    \n",
       "1           0   0   0   0   0   0   0   0   0\n",
       "2           0   0   0   0   0   0   0   0   0\n",
       "3           0   0   0   0   0   0   0   0   0\n",
       "4           0   0   0   0   0   0   0   0   0\n",
       "5           0   0   0   0   0   0   0   0   0\n",
       "...        ..  ..  ..  ..  ..  ..  ..  ..  ..\n",
       "354         0   0   0   0   0   0   0   0   1\n",
       "355         0   0   0   0   0   0   0   0   1\n",
       "356         0   0   0   0   0   0   0   0   1\n",
       "357         0   0   0   0   0   0   0   0   1\n",
       "358         0   0   0   0   0   0   0   0   1\n",
       "\n",
       "[358 rows x 9 columns]"
      ]
     },
     "execution_count": 53,
     "metadata": {},
     "output_type": "execute_result"
    }
   ],
   "source": [
    "#Transformar a variável escola em dummie\n",
    "Dummies = pd.get_dummies(dados['escola'])\n",
    "\n",
    "#Excluir a 1 variaveis para que ela seja a variável de referencia do modelo\n",
    "Dummies = Dummies.iloc[:,1:10]\n",
    "Dummies"
   ]
  },
  {
   "cell_type": "code",
   "execution_count": 54,
   "metadata": {},
   "outputs": [
    {
     "data": {
      "text/html": [
       "<div>\n",
       "<style scoped>\n",
       "    .dataframe tbody tr th:only-of-type {\n",
       "        vertical-align: middle;\n",
       "    }\n",
       "\n",
       "    .dataframe tbody tr th {\n",
       "        vertical-align: top;\n",
       "    }\n",
       "\n",
       "    .dataframe thead th {\n",
       "        text-align: right;\n",
       "    }\n",
       "</style>\n",
       "<table border=\"1\" class=\"dataframe\">\n",
       "  <thead>\n",
       "    <tr style=\"text-align: right;\">\n",
       "      <th></th>\n",
       "      <th>horas</th>\n",
       "      <th>texp</th>\n",
       "      <th>2</th>\n",
       "      <th>3</th>\n",
       "      <th>4</th>\n",
       "      <th>5</th>\n",
       "      <th>6</th>\n",
       "      <th>7</th>\n",
       "      <th>8</th>\n",
       "      <th>9</th>\n",
       "      <th>10</th>\n",
       "    </tr>\n",
       "    <tr>\n",
       "      <th>estudante</th>\n",
       "      <th></th>\n",
       "      <th></th>\n",
       "      <th></th>\n",
       "      <th></th>\n",
       "      <th></th>\n",
       "      <th></th>\n",
       "      <th></th>\n",
       "      <th></th>\n",
       "      <th></th>\n",
       "      <th></th>\n",
       "      <th></th>\n",
       "    </tr>\n",
       "  </thead>\n",
       "  <tbody>\n",
       "    <tr>\n",
       "      <th>1</th>\n",
       "      <td>11</td>\n",
       "      <td>3.6</td>\n",
       "      <td>0</td>\n",
       "      <td>0</td>\n",
       "      <td>0</td>\n",
       "      <td>0</td>\n",
       "      <td>0</td>\n",
       "      <td>0</td>\n",
       "      <td>0</td>\n",
       "      <td>0</td>\n",
       "      <td>0</td>\n",
       "    </tr>\n",
       "    <tr>\n",
       "      <th>2</th>\n",
       "      <td>23</td>\n",
       "      <td>3.6</td>\n",
       "      <td>0</td>\n",
       "      <td>0</td>\n",
       "      <td>0</td>\n",
       "      <td>0</td>\n",
       "      <td>0</td>\n",
       "      <td>0</td>\n",
       "      <td>0</td>\n",
       "      <td>0</td>\n",
       "      <td>0</td>\n",
       "    </tr>\n",
       "    <tr>\n",
       "      <th>3</th>\n",
       "      <td>25</td>\n",
       "      <td>3.6</td>\n",
       "      <td>0</td>\n",
       "      <td>0</td>\n",
       "      <td>0</td>\n",
       "      <td>0</td>\n",
       "      <td>0</td>\n",
       "      <td>0</td>\n",
       "      <td>0</td>\n",
       "      <td>0</td>\n",
       "      <td>0</td>\n",
       "    </tr>\n",
       "  </tbody>\n",
       "</table>\n",
       "</div>"
      ],
      "text/plain": [
       "           horas  texp  2  3  4  5  6  7  8  9  10\n",
       "estudante                                         \n",
       "1             11   3.6  0  0  0  0  0  0  0  0   0\n",
       "2             23   3.6  0  0  0  0  0  0  0  0   0\n",
       "3             25   3.6  0  0  0  0  0  0  0  0   0"
      ]
     },
     "execution_count": 54,
     "metadata": {},
     "output_type": "execute_result"
    }
   ],
   "source": [
    "#Juntar as dataframes\n",
    "x1 = x[['horas','texp']]\n",
    "dados1 = x1.join(Dummies)\n",
    "dados1.head(3)"
   ]
  },
  {
   "cell_type": "code",
   "execution_count": 55,
   "metadata": {},
   "outputs": [
    {
     "data": {
      "text/html": [
       "<table class=\"simpletable\">\n",
       "<caption>OLS Regression Results</caption>\n",
       "<tr>\n",
       "  <th>Dep. Variable:</th>            <td>y</td>        <th>  R-squared:         </th> <td>   0.943</td> \n",
       "</tr>\n",
       "<tr>\n",
       "  <th>Model:</th>                   <td>OLS</td>       <th>  Adj. R-squared:    </th> <td>   0.942</td> \n",
       "</tr>\n",
       "<tr>\n",
       "  <th>Method:</th>             <td>Least Squares</td>  <th>  F-statistic:       </th> <td>   575.7</td> \n",
       "</tr>\n",
       "<tr>\n",
       "  <th>Date:</th>             <td>Wed, 09 Mar 2022</td> <th>  Prob (F-statistic):</th> <td>2.81e-209</td>\n",
       "</tr>\n",
       "<tr>\n",
       "  <th>Time:</th>                 <td>10:12:10</td>     <th>  Log-Likelihood:    </th> <td> -1120.2</td> \n",
       "</tr>\n",
       "<tr>\n",
       "  <th>No. Observations:</th>      <td>   358</td>      <th>  AIC:               </th> <td>   2262.</td> \n",
       "</tr>\n",
       "<tr>\n",
       "  <th>Df Residuals:</th>          <td>   347</td>      <th>  BIC:               </th> <td>   2305.</td> \n",
       "</tr>\n",
       "<tr>\n",
       "  <th>Df Model:</th>              <td>    10</td>      <th>                     </th>     <td> </td>    \n",
       "</tr>\n",
       "<tr>\n",
       "  <th>Covariance Type:</th>      <td>nonrobust</td>    <th>                     </th>     <td> </td>    \n",
       "</tr>\n",
       "</table>\n",
       "<table class=\"simpletable\">\n",
       "<tr>\n",
       "    <td></td>       <th>coef</th>     <th>std err</th>      <th>t</th>      <th>P>|t|</th>  <th>[0.025</th>    <th>0.975]</th>  \n",
       "</tr>\n",
       "<tr>\n",
       "  <th>const</th> <td>  -11.0528</td> <td>    1.352</td> <td>   -8.175</td> <td> 0.000</td> <td>  -13.712</td> <td>   -8.394</td>\n",
       "</tr>\n",
       "<tr>\n",
       "  <th>horas</th> <td>    1.9713</td> <td>    0.056</td> <td>   35.063</td> <td> 0.000</td> <td>    1.861</td> <td>    2.082</td>\n",
       "</tr>\n",
       "<tr>\n",
       "  <th>texp</th>  <td>    4.4516</td> <td>    0.096</td> <td>   46.582</td> <td> 0.000</td> <td>    4.264</td> <td>    4.640</td>\n",
       "</tr>\n",
       "<tr>\n",
       "  <th>2</th>     <td>  -14.6664</td> <td>    1.452</td> <td>  -10.101</td> <td> 0.000</td> <td>  -17.522</td> <td>  -11.811</td>\n",
       "</tr>\n",
       "<tr>\n",
       "  <th>3</th>     <td>   -7.2914</td> <td>    0.685</td> <td>  -10.651</td> <td> 0.000</td> <td>   -8.638</td> <td>   -5.945</td>\n",
       "</tr>\n",
       "<tr>\n",
       "  <th>4</th>     <td>   -0.7854</td> <td>    1.443</td> <td>   -0.544</td> <td> 0.587</td> <td>   -3.624</td> <td>    2.053</td>\n",
       "</tr>\n",
       "<tr>\n",
       "  <th>5</th>     <td>  -14.8095</td> <td>    1.238</td> <td>  -11.967</td> <td> 0.000</td> <td>  -17.244</td> <td>  -12.375</td>\n",
       "</tr>\n",
       "<tr>\n",
       "  <th>6</th>     <td>   -3.3658</td> <td>    1.321</td> <td>   -2.548</td> <td> 0.011</td> <td>   -5.964</td> <td>   -0.768</td>\n",
       "</tr>\n",
       "<tr>\n",
       "  <th>7</th>     <td>    2.3462</td> <td>    1.115</td> <td>    2.103</td> <td> 0.036</td> <td>    0.152</td> <td>    4.540</td>\n",
       "</tr>\n",
       "<tr>\n",
       "  <th>8</th>     <td>    4.5433</td> <td>    1.130</td> <td>    4.021</td> <td> 0.000</td> <td>    2.321</td> <td>    6.766</td>\n",
       "</tr>\n",
       "<tr>\n",
       "  <th>9</th>     <td>  -24.6820</td> <td>    1.323</td> <td>  -18.657</td> <td> 0.000</td> <td>  -27.284</td> <td>  -22.080</td>\n",
       "</tr>\n",
       "<tr>\n",
       "  <th>10</th>    <td>  -11.9232</td> <td>    1.310</td> <td>   -9.099</td> <td> 0.000</td> <td>  -14.501</td> <td>   -9.346</td>\n",
       "</tr>\n",
       "</table>\n",
       "<table class=\"simpletable\">\n",
       "<tr>\n",
       "  <th>Omnibus:</th>       <td>14.171</td> <th>  Durbin-Watson:     </th> <td>   2.091</td>\n",
       "</tr>\n",
       "<tr>\n",
       "  <th>Prob(Omnibus):</th> <td> 0.001</td> <th>  Jarque-Bera (JB):  </th> <td>  32.665</td>\n",
       "</tr>\n",
       "<tr>\n",
       "  <th>Skew:</th>          <td> 0.002</td> <th>  Prob(JB):          </th> <td>8.07e-08</td>\n",
       "</tr>\n",
       "<tr>\n",
       "  <th>Kurtosis:</th>      <td> 4.480</td> <th>  Cond. No.          </th> <td>7.10e+16</td>\n",
       "</tr>\n",
       "</table><br/><br/>Notes:<br/>[1] Standard Errors assume that the covariance matrix of the errors is correctly specified.<br/>[2] The smallest eigenvalue is 3.02e-29. This might indicate that there are<br/>strong multicollinearity problems or that the design matrix is singular."
      ],
      "text/plain": [
       "<class 'statsmodels.iolib.summary.Summary'>\n",
       "\"\"\"\n",
       "                            OLS Regression Results                            \n",
       "==============================================================================\n",
       "Dep. Variable:                      y   R-squared:                       0.943\n",
       "Model:                            OLS   Adj. R-squared:                  0.942\n",
       "Method:                 Least Squares   F-statistic:                     575.7\n",
       "Date:                Wed, 09 Mar 2022   Prob (F-statistic):          2.81e-209\n",
       "Time:                        10:12:10   Log-Likelihood:                -1120.2\n",
       "No. Observations:                 358   AIC:                             2262.\n",
       "Df Residuals:                     347   BIC:                             2305.\n",
       "Df Model:                          10                                         \n",
       "Covariance Type:            nonrobust                                         \n",
       "==============================================================================\n",
       "                 coef    std err          t      P>|t|      [0.025      0.975]\n",
       "------------------------------------------------------------------------------\n",
       "const        -11.0528      1.352     -8.175      0.000     -13.712      -8.394\n",
       "horas          1.9713      0.056     35.063      0.000       1.861       2.082\n",
       "texp           4.4516      0.096     46.582      0.000       4.264       4.640\n",
       "2            -14.6664      1.452    -10.101      0.000     -17.522     -11.811\n",
       "3             -7.2914      0.685    -10.651      0.000      -8.638      -5.945\n",
       "4             -0.7854      1.443     -0.544      0.587      -3.624       2.053\n",
       "5            -14.8095      1.238    -11.967      0.000     -17.244     -12.375\n",
       "6             -3.3658      1.321     -2.548      0.011      -5.964      -0.768\n",
       "7              2.3462      1.115      2.103      0.036       0.152       4.540\n",
       "8              4.5433      1.130      4.021      0.000       2.321       6.766\n",
       "9            -24.6820      1.323    -18.657      0.000     -27.284     -22.080\n",
       "10           -11.9232      1.310     -9.099      0.000     -14.501      -9.346\n",
       "==============================================================================\n",
       "Omnibus:                       14.171   Durbin-Watson:                   2.091\n",
       "Prob(Omnibus):                  0.001   Jarque-Bera (JB):               32.665\n",
       "Skew:                           0.002   Prob(JB):                     8.07e-08\n",
       "Kurtosis:                       4.480   Cond. No.                     7.10e+16\n",
       "==============================================================================\n",
       "\n",
       "Notes:\n",
       "[1] Standard Errors assume that the covariance matrix of the errors is correctly specified.\n",
       "[2] The smallest eigenvalue is 3.02e-29. This might indicate that there are\n",
       "strong multicollinearity problems or that the design matrix is singular.\n",
       "\"\"\""
      ]
     },
     "execution_count": 55,
     "metadata": {},
     "output_type": "execute_result"
    }
   ],
   "source": [
    "#Modelo OLS\n",
    "import statsmodels.api as sm\n",
    "x_constante = sm.add_constant(dados1)\n",
    "y = dados['desempenho'].values\n",
    "modelo = sm.OLS(y,x_constante)\n",
    "modelo_v1 = modelo.fit()\n",
    "modelo_v1.summary()"
   ]
  },
  {
   "cell_type": "markdown",
   "metadata": {},
   "source": [
    "**Note que a variável dummie de número 4, não é estatisticamente significante, vamos fazer o processo step-wise para selecionar as variáveis relevantes para o modelo**"
   ]
  },
  {
   "cell_type": "code",
   "execution_count": 56,
   "metadata": {},
   "outputs": [
    {
     "name": "stdout",
     "output_type": "stream",
     "text": [
      "Add  const                          with p-value 1.77917e-113\n",
      "Add  texp                           with p-value 2.00108e-66\n",
      "Add  horas                          with p-value 2.41038e-71\n",
      "Add                               3 with p-value 7.0592e-42\n",
      "Add                               9 with p-value 5.25954e-21\n",
      "Add                              10 with p-value 3.96859e-07\n",
      "Add                               5 with p-value 1.96925e-08\n",
      "Add                               2 with p-value 1.63638e-14\n"
     ]
    }
   ],
   "source": [
    "#Processo Step-Wise\n",
    "import warnings\n",
    "warnings.filterwarnings('ignore')\n",
    "\n",
    "def stepwise_selection(X, y, \n",
    "                           initial_list=[], \n",
    "                           threshold_in=0.01, \n",
    "                           threshold_out = 0.05, \n",
    "                           verbose=True):\n",
    "        \"\"\" Perform a forward-backward feature selection \n",
    "        based on p-value from statsmodels.api.OLS\n",
    "        Arguments:\n",
    "            X - pandas.DataFrame with candidate features\n",
    "            y - list-like with the target\n",
    "            initial_list - list of features to start with (column names of X)\n",
    "            threshold_in - include a feature if its p-value < threshold_in\n",
    "            threshold_out - exclude a feature if its p-value > threshold_out\n",
    "            verbose - whether to print the sequence of inclusions and exclusions\n",
    "        Returns: list of selected features \n",
    "        Always set threshold_in < threshold_out to avoid infinite looping.\n",
    "        See https://en.wikipedia.org/wiki/Stepwise_regression for the details\n",
    "        \"\"\"\n",
    "        included = list(initial_list)\n",
    "        while True:\n",
    "            changed=False\n",
    "            # forward step\n",
    "            excluded = list(set(X.columns)-set(included))\n",
    "            new_pval = pd.Series(index=excluded)\n",
    "            for new_column in excluded:\n",
    "                model = sm.OLS(y, sm.add_constant(pd.DataFrame(X[included+[new_column]]))).fit()\n",
    "                new_pval[new_column] = model.pvalues[new_column]\n",
    "            best_pval = new_pval.min()\n",
    "            if best_pval < threshold_in:\n",
    "                best_feature = new_pval.idxmin()\n",
    "                included.append(best_feature)\n",
    "                changed=True\n",
    "                if verbose:\n",
    "                    print('Add  {:30} with p-value {:.6}'.format(best_feature, best_pval))\n",
    "\n",
    "            # backward step\n",
    "            model = sm.OLS(y, sm.add_constant(pd.DataFrame(X[included]))).fit()\n",
    "            # use all coefs except intercept\n",
    "            pvalues = model.pvalues.iloc[1:]\n",
    "            worst_pval = pvalues.max() # null if pvalues is empty\n",
    "            if worst_pval > threshold_out:\n",
    "                changed=True\n",
    "                worst_feature = pvalues.idxmax()\n",
    "                included.remove(worst_feature)\n",
    "                if verbose:\n",
    "                    print('Drop {:30} with p-value {:.6}'.format(worst_feature, worst_pval))\n",
    "            if not changed:\n",
    "                break\n",
    "        return included\n",
    "\n",
    "result = stepwise_selection(x_constante, y)"
   ]
  },
  {
   "cell_type": "code",
   "execution_count": 57,
   "metadata": {},
   "outputs": [
    {
     "data": {
      "text/plain": [
       "['const', 'texp', 'horas', 3, 9, 10, 5, 2]"
      ]
     },
     "execution_count": 57,
     "metadata": {},
     "output_type": "execute_result"
    }
   ],
   "source": [
    "#Variáveis que demonstraram ser estatisticamente significantes para o modelo OLS\n",
    "result"
   ]
  },
  {
   "cell_type": "code",
   "execution_count": 58,
   "metadata": {},
   "outputs": [],
   "source": [
    "#Selecionar as veriáveis que demonstraram ser estatisticamente significantes para o modelo OLS\n",
    "dados_2 = x_constante[result]\n"
   ]
  },
  {
   "cell_type": "code",
   "execution_count": 59,
   "metadata": {},
   "outputs": [
    {
     "data": {
      "text/html": [
       "<table class=\"simpletable\">\n",
       "<caption>OLS Regression Results</caption>\n",
       "<tr>\n",
       "  <th>Dep. Variable:</th>            <td>y</td>        <th>  R-squared:         </th> <td>   0.941</td> \n",
       "</tr>\n",
       "<tr>\n",
       "  <th>Model:</th>                   <td>OLS</td>       <th>  Adj. R-squared:    </th> <td>   0.940</td> \n",
       "</tr>\n",
       "<tr>\n",
       "  <th>Method:</th>             <td>Least Squares</td>  <th>  F-statistic:       </th> <td>   802.3</td> \n",
       "</tr>\n",
       "<tr>\n",
       "  <th>Date:</th>             <td>Wed, 09 Mar 2022</td> <th>  Prob (F-statistic):</th> <td>3.12e-211</td>\n",
       "</tr>\n",
       "<tr>\n",
       "  <th>Time:</th>                 <td>10:12:10</td>     <th>  Log-Likelihood:    </th> <td> -1125.8</td> \n",
       "</tr>\n",
       "<tr>\n",
       "  <th>No. Observations:</th>      <td>   358</td>      <th>  AIC:               </th> <td>   2268.</td> \n",
       "</tr>\n",
       "<tr>\n",
       "  <th>Df Residuals:</th>          <td>   350</td>      <th>  BIC:               </th> <td>   2299.</td> \n",
       "</tr>\n",
       "<tr>\n",
       "  <th>Df Model:</th>              <td>     7</td>      <th>                     </th>     <td> </td>    \n",
       "</tr>\n",
       "<tr>\n",
       "  <th>Covariance Type:</th>      <td>nonrobust</td>    <th>                     </th>     <td> </td>    \n",
       "</tr>\n",
       "</table>\n",
       "<table class=\"simpletable\">\n",
       "<tr>\n",
       "    <td></td>       <th>coef</th>     <th>std err</th>      <th>t</th>      <th>P>|t|</th>  <th>[0.025</th>    <th>0.975]</th>  \n",
       "</tr>\n",
       "<tr>\n",
       "  <th>const</th> <td>  -16.8732</td> <td>    1.512</td> <td>  -11.161</td> <td> 0.000</td> <td>  -19.846</td> <td>  -13.900</td>\n",
       "</tr>\n",
       "<tr>\n",
       "  <th>texp</th>  <td>    5.5727</td> <td>    0.234</td> <td>   23.865</td> <td> 0.000</td> <td>    5.113</td> <td>    6.032</td>\n",
       "</tr>\n",
       "<tr>\n",
       "  <th>horas</th> <td>    1.9935</td> <td>    0.053</td> <td>   37.803</td> <td> 0.000</td> <td>    1.890</td> <td>    2.097</td>\n",
       "</tr>\n",
       "<tr>\n",
       "  <th>3</th>     <td>  -16.3567</td> <td>    2.059</td> <td>   -7.944</td> <td> 0.000</td> <td>  -20.406</td> <td>  -12.307</td>\n",
       "</tr>\n",
       "<tr>\n",
       "  <th>9</th>     <td>  -21.5080</td> <td>    1.322</td> <td>  -16.272</td> <td> 0.000</td> <td>  -24.108</td> <td>  -18.908</td>\n",
       "</tr>\n",
       "<tr>\n",
       "  <th>10</th>    <td>  -10.9732</td> <td>    1.171</td> <td>   -9.368</td> <td> 0.000</td> <td>  -13.277</td> <td>   -8.669</td>\n",
       "</tr>\n",
       "<tr>\n",
       "  <th>5</th>     <td>  -11.5323</td> <td>    1.245</td> <td>   -9.266</td> <td> 0.000</td> <td>  -13.980</td> <td>   -9.084</td>\n",
       "</tr>\n",
       "<tr>\n",
       "  <th>2</th>     <td>  -11.6258</td> <td>    1.450</td> <td>   -8.017</td> <td> 0.000</td> <td>  -14.478</td> <td>   -8.774</td>\n",
       "</tr>\n",
       "</table>\n",
       "<table class=\"simpletable\">\n",
       "<tr>\n",
       "  <th>Omnibus:</th>       <td>13.805</td> <th>  Durbin-Watson:     </th> <td>   2.019</td>\n",
       "</tr>\n",
       "<tr>\n",
       "  <th>Prob(Omnibus):</th> <td> 0.001</td> <th>  Jarque-Bera (JB):  </th> <td>  25.182</td>\n",
       "</tr>\n",
       "<tr>\n",
       "  <th>Skew:</th>          <td>-0.201</td> <th>  Prob(JB):          </th> <td>3.40e-06</td>\n",
       "</tr>\n",
       "<tr>\n",
       "  <th>Kurtosis:</th>      <td> 4.235</td> <th>  Cond. No.          </th> <td>    188.</td>\n",
       "</tr>\n",
       "</table><br/><br/>Notes:<br/>[1] Standard Errors assume that the covariance matrix of the errors is correctly specified."
      ],
      "text/plain": [
       "<class 'statsmodels.iolib.summary.Summary'>\n",
       "\"\"\"\n",
       "                            OLS Regression Results                            \n",
       "==============================================================================\n",
       "Dep. Variable:                      y   R-squared:                       0.941\n",
       "Model:                            OLS   Adj. R-squared:                  0.940\n",
       "Method:                 Least Squares   F-statistic:                     802.3\n",
       "Date:                Wed, 09 Mar 2022   Prob (F-statistic):          3.12e-211\n",
       "Time:                        10:12:10   Log-Likelihood:                -1125.8\n",
       "No. Observations:                 358   AIC:                             2268.\n",
       "Df Residuals:                     350   BIC:                             2299.\n",
       "Df Model:                           7                                         \n",
       "Covariance Type:            nonrobust                                         \n",
       "==============================================================================\n",
       "                 coef    std err          t      P>|t|      [0.025      0.975]\n",
       "------------------------------------------------------------------------------\n",
       "const        -16.8732      1.512    -11.161      0.000     -19.846     -13.900\n",
       "texp           5.5727      0.234     23.865      0.000       5.113       6.032\n",
       "horas          1.9935      0.053     37.803      0.000       1.890       2.097\n",
       "3            -16.3567      2.059     -7.944      0.000     -20.406     -12.307\n",
       "9            -21.5080      1.322    -16.272      0.000     -24.108     -18.908\n",
       "10           -10.9732      1.171     -9.368      0.000     -13.277      -8.669\n",
       "5            -11.5323      1.245     -9.266      0.000     -13.980      -9.084\n",
       "2            -11.6258      1.450     -8.017      0.000     -14.478      -8.774\n",
       "==============================================================================\n",
       "Omnibus:                       13.805   Durbin-Watson:                   2.019\n",
       "Prob(Omnibus):                  0.001   Jarque-Bera (JB):               25.182\n",
       "Skew:                          -0.201   Prob(JB):                     3.40e-06\n",
       "Kurtosis:                       4.235   Cond. No.                         188.\n",
       "==============================================================================\n",
       "\n",
       "Notes:\n",
       "[1] Standard Errors assume that the covariance matrix of the errors is correctly specified.\n",
       "\"\"\""
      ]
     },
     "execution_count": 59,
     "metadata": {},
     "output_type": "execute_result"
    }
   ],
   "source": [
    "#Modelo OLS (excluida variavel de escola 10)\n",
    "import statsmodels.api as sm\n",
    "x_constante = sm.add_constant(dados_2)\n",
    "y = dados['desempenho'].values\n",
    "modelo5 = sm.OLS(y,x_constante)\n",
    "modelo_OLS1 = modelo5.fit()\n",
    "modelo_OLS1.summary()"
   ]
  },
  {
   "cell_type": "markdown",
   "metadata": {},
   "source": [
    "**Note que todas as variáveis agora tem significância estatística**"
   ]
  },
  {
   "cell_type": "markdown",
   "metadata": {},
   "source": [
    "## COMPARAÇÃO DOS LOGLIKES ENTRE OS MODELOS"
   ]
  },
  {
   "cell_type": "code",
   "execution_count": 60,
   "metadata": {},
   "outputs": [
    {
     "data": {
      "image/png": "[encoded data removed]",
      "text/plain": [
       "<Figure size 432x288 with 1 Axes>"
      ]
     },
     "metadata": {},
     "output_type": "display_data"
    }
   ],
   "source": [
    "a = ['Modelo Final','OLS_Dummies_StepWise']\n",
    "b = [inter_aleat_final.llf,modelo_OLS1.llf]\n",
    "plt.barh(a,b);\n",
    "plt.title('Comparação dos LL',size=20);"
   ]
  },
  {
   "cell_type": "markdown",
   "metadata": {},
   "source": [
    "## Conclusão:"
   ]
  },
  {
   "cell_type": "markdown",
   "metadata": {},
   "source": [
    "**Modelo OLS X Modelo Multinível tem uma grande diferença no LL, porém, caso o efeito aleatório de inclinação no nível 2 do modelo multinível não se mostra-se estatisticamente significantes o LL dos 2 modelos será muito parecido**"
   ]
  },
  {
   "cell_type": "markdown",
   "metadata": {},
   "source": [
    "## Gráfico dos fitted values dos modelos HLM2 Final contra OLS"
   ]
  },
  {
   "cell_type": "code",
   "execution_count": 69,
   "metadata": {},
   "outputs": [
    {
     "data": {
      "image/png": "[encoded data removed]",
      "text/plain": [
       "<Figure size 432x288 with 1 Axes>"
      ]
     },
     "metadata": {},
     "output_type": "display_data"
    }
   ],
   "source": [
    "#Gráficos\n",
    "plt.scatter(dados.desempenho,dados['Predict_efeito_Aleatorio']);\n",
    "plt.scatter(dados.desempenho,modelo_OLS1.predict(dados_2));\n",
    "plt.xlabel('Desempenho');\n",
    "plt.ylabel('fixed_aleat X OLS')\n",
    "plt.legend(['Predict_efeito_Aleatorio','OLS']);"
   ]
  },
  {
   "cell_type": "markdown",
   "metadata": {},
   "source": [
    "**A dispersão nos dados no modelo OLS é maior, isso mostra os erros que o modelo cometeu**"
   ]
  },
  {
   "cell_type": "markdown",
   "metadata": {},
   "source": [
    "# Modelo OLS com dummies + Interação entre as variáveis Horas e texp"
   ]
  },
  {
   "cell_type": "code",
   "execution_count": 70,
   "metadata": {},
   "outputs": [
    {
     "data": {
      "text/html": [
       "<div>\n",
       "<style scoped>\n",
       "    .dataframe tbody tr th:only-of-type {\n",
       "        vertical-align: middle;\n",
       "    }\n",
       "\n",
       "    .dataframe tbody tr th {\n",
       "        vertical-align: top;\n",
       "    }\n",
       "\n",
       "    .dataframe thead th {\n",
       "        text-align: right;\n",
       "    }\n",
       "</style>\n",
       "<table border=\"1\" class=\"dataframe\">\n",
       "  <thead>\n",
       "    <tr style=\"text-align: right;\">\n",
       "      <th></th>\n",
       "      <th>horas</th>\n",
       "      <th>texp</th>\n",
       "      <th>2</th>\n",
       "      <th>3</th>\n",
       "      <th>4</th>\n",
       "      <th>5</th>\n",
       "      <th>6</th>\n",
       "      <th>7</th>\n",
       "      <th>8</th>\n",
       "      <th>9</th>\n",
       "      <th>10</th>\n",
       "      <th>texp_horas</th>\n",
       "    </tr>\n",
       "    <tr>\n",
       "      <th>estudante</th>\n",
       "      <th></th>\n",
       "      <th></th>\n",
       "      <th></th>\n",
       "      <th></th>\n",
       "      <th></th>\n",
       "      <th></th>\n",
       "      <th></th>\n",
       "      <th></th>\n",
       "      <th></th>\n",
       "      <th></th>\n",
       "      <th></th>\n",
       "      <th></th>\n",
       "    </tr>\n",
       "  </thead>\n",
       "  <tbody>\n",
       "    <tr>\n",
       "      <th>1</th>\n",
       "      <td>11</td>\n",
       "      <td>3.6</td>\n",
       "      <td>0</td>\n",
       "      <td>0</td>\n",
       "      <td>0</td>\n",
       "      <td>0</td>\n",
       "      <td>0</td>\n",
       "      <td>0</td>\n",
       "      <td>0</td>\n",
       "      <td>0</td>\n",
       "      <td>0</td>\n",
       "      <td>39.6</td>\n",
       "    </tr>\n",
       "    <tr>\n",
       "      <th>2</th>\n",
       "      <td>23</td>\n",
       "      <td>3.6</td>\n",
       "      <td>0</td>\n",
       "      <td>0</td>\n",
       "      <td>0</td>\n",
       "      <td>0</td>\n",
       "      <td>0</td>\n",
       "      <td>0</td>\n",
       "      <td>0</td>\n",
       "      <td>0</td>\n",
       "      <td>0</td>\n",
       "      <td>82.8</td>\n",
       "    </tr>\n",
       "    <tr>\n",
       "      <th>3</th>\n",
       "      <td>25</td>\n",
       "      <td>3.6</td>\n",
       "      <td>0</td>\n",
       "      <td>0</td>\n",
       "      <td>0</td>\n",
       "      <td>0</td>\n",
       "      <td>0</td>\n",
       "      <td>0</td>\n",
       "      <td>0</td>\n",
       "      <td>0</td>\n",
       "      <td>0</td>\n",
       "      <td>90.0</td>\n",
       "    </tr>\n",
       "    <tr>\n",
       "      <th>4</th>\n",
       "      <td>14</td>\n",
       "      <td>3.6</td>\n",
       "      <td>0</td>\n",
       "      <td>0</td>\n",
       "      <td>0</td>\n",
       "      <td>0</td>\n",
       "      <td>0</td>\n",
       "      <td>0</td>\n",
       "      <td>0</td>\n",
       "      <td>0</td>\n",
       "      <td>0</td>\n",
       "      <td>50.4</td>\n",
       "    </tr>\n",
       "    <tr>\n",
       "      <th>5</th>\n",
       "      <td>24</td>\n",
       "      <td>3.6</td>\n",
       "      <td>0</td>\n",
       "      <td>0</td>\n",
       "      <td>0</td>\n",
       "      <td>0</td>\n",
       "      <td>0</td>\n",
       "      <td>0</td>\n",
       "      <td>0</td>\n",
       "      <td>0</td>\n",
       "      <td>0</td>\n",
       "      <td>86.4</td>\n",
       "    </tr>\n",
       "    <tr>\n",
       "      <th>...</th>\n",
       "      <td>...</td>\n",
       "      <td>...</td>\n",
       "      <td>...</td>\n",
       "      <td>...</td>\n",
       "      <td>...</td>\n",
       "      <td>...</td>\n",
       "      <td>...</td>\n",
       "      <td>...</td>\n",
       "      <td>...</td>\n",
       "      <td>...</td>\n",
       "      <td>...</td>\n",
       "      <td>...</td>\n",
       "    </tr>\n",
       "    <tr>\n",
       "      <th>354</th>\n",
       "      <td>28</td>\n",
       "      <td>3.9</td>\n",
       "      <td>0</td>\n",
       "      <td>0</td>\n",
       "      <td>0</td>\n",
       "      <td>0</td>\n",
       "      <td>0</td>\n",
       "      <td>0</td>\n",
       "      <td>0</td>\n",
       "      <td>0</td>\n",
       "      <td>1</td>\n",
       "      <td>109.2</td>\n",
       "    </tr>\n",
       "    <tr>\n",
       "      <th>355</th>\n",
       "      <td>9</td>\n",
       "      <td>3.9</td>\n",
       "      <td>0</td>\n",
       "      <td>0</td>\n",
       "      <td>0</td>\n",
       "      <td>0</td>\n",
       "      <td>0</td>\n",
       "      <td>0</td>\n",
       "      <td>0</td>\n",
       "      <td>0</td>\n",
       "      <td>1</td>\n",
       "      <td>35.1</td>\n",
       "    </tr>\n",
       "    <tr>\n",
       "      <th>356</th>\n",
       "      <td>27</td>\n",
       "      <td>3.9</td>\n",
       "      <td>0</td>\n",
       "      <td>0</td>\n",
       "      <td>0</td>\n",
       "      <td>0</td>\n",
       "      <td>0</td>\n",
       "      <td>0</td>\n",
       "      <td>0</td>\n",
       "      <td>0</td>\n",
       "      <td>1</td>\n",
       "      <td>105.3</td>\n",
       "    </tr>\n",
       "    <tr>\n",
       "      <th>357</th>\n",
       "      <td>7</td>\n",
       "      <td>3.9</td>\n",
       "      <td>0</td>\n",
       "      <td>0</td>\n",
       "      <td>0</td>\n",
       "      <td>0</td>\n",
       "      <td>0</td>\n",
       "      <td>0</td>\n",
       "      <td>0</td>\n",
       "      <td>0</td>\n",
       "      <td>1</td>\n",
       "      <td>27.3</td>\n",
       "    </tr>\n",
       "    <tr>\n",
       "      <th>358</th>\n",
       "      <td>24</td>\n",
       "      <td>3.9</td>\n",
       "      <td>0</td>\n",
       "      <td>0</td>\n",
       "      <td>0</td>\n",
       "      <td>0</td>\n",
       "      <td>0</td>\n",
       "      <td>0</td>\n",
       "      <td>0</td>\n",
       "      <td>0</td>\n",
       "      <td>1</td>\n",
       "      <td>93.6</td>\n",
       "    </tr>\n",
       "  </tbody>\n",
       "</table>\n",
       "<p>358 rows × 12 columns</p>\n",
       "</div>"
      ],
      "text/plain": [
       "           horas  texp  2  3  4  5  6  7  8  9  10  texp_horas\n",
       "estudante                                                     \n",
       "1             11   3.6  0  0  0  0  0  0  0  0   0        39.6\n",
       "2             23   3.6  0  0  0  0  0  0  0  0   0        82.8\n",
       "3             25   3.6  0  0  0  0  0  0  0  0   0        90.0\n",
       "4             14   3.6  0  0  0  0  0  0  0  0   0        50.4\n",
       "5             24   3.6  0  0  0  0  0  0  0  0   0        86.4\n",
       "...          ...   ... .. .. .. .. .. .. .. ..  ..         ...\n",
       "354           28   3.9  0  0  0  0  0  0  0  0   1       109.2\n",
       "355            9   3.9  0  0  0  0  0  0  0  0   1        35.1\n",
       "356           27   3.9  0  0  0  0  0  0  0  0   1       105.3\n",
       "357            7   3.9  0  0  0  0  0  0  0  0   1        27.3\n",
       "358           24   3.9  0  0  0  0  0  0  0  0   1        93.6\n",
       "\n",
       "[358 rows x 12 columns]"
      ]
     },
     "execution_count": 70,
     "metadata": {},
     "output_type": "execute_result"
    }
   ],
   "source": [
    "#Dados\n",
    "dados3=dados1.copy()\n",
    "dados3['texp_horas'] = dados1.texp*dados1.horas #Interaçao entre as variaveis horas e texp\n",
    "dados3"
   ]
  },
  {
   "cell_type": "code",
   "execution_count": 63,
   "metadata": {},
   "outputs": [
    {
     "name": "stdout",
     "output_type": "stream",
     "text": [
      "Add  texp_horas                     with p-value 1.59279e-198\n",
      "Add                               9 with p-value 1.2549e-14\n",
      "Add                               3 with p-value 1.18638e-14\n",
      "Add                               5 with p-value 7.71654e-11\n",
      "Add                               2 with p-value 1.21965e-09\n",
      "Add                              10 with p-value 3.83313e-12\n",
      "Add  horas                          with p-value 1.24343e-18\n",
      "Drop                              3 with p-value 0.0696652\n",
      "Add                               7 with p-value 2.73072e-08\n",
      "Add                               6 with p-value 6.46773e-05\n"
     ]
    }
   ],
   "source": [
    "#Step_Wise\n",
    "result2 = stepwise_selection(dados3, y)\n"
   ]
  },
  {
   "cell_type": "code",
   "execution_count": 64,
   "metadata": {},
   "outputs": [
    {
     "data": {
      "text/plain": [
       "['texp_horas', 9, 5, 2, 10, 'horas', 7, 6]"
      ]
     },
     "execution_count": 64,
     "metadata": {},
     "output_type": "execute_result"
    }
   ],
   "source": [
    "#Variáveis que demonstraram ser estatisticamente significantes para o modelo OLS\n",
    "result2"
   ]
  },
  {
   "cell_type": "code",
   "execution_count": 65,
   "metadata": {},
   "outputs": [],
   "source": [
    "#Selecionar as veriáveis que demonstraram ser estatisticamente significantes para o modelo OLS\n",
    "dados_3 = dados3[result2]"
   ]
  },
  {
   "cell_type": "code",
   "execution_count": 66,
   "metadata": {},
   "outputs": [
    {
     "data": {
      "text/html": [
       "<table class=\"simpletable\">\n",
       "<caption>OLS Regression Results</caption>\n",
       "<tr>\n",
       "  <th>Dep. Variable:</th>            <td>y</td>        <th>  R-squared:         </th> <td>   0.972</td> \n",
       "</tr>\n",
       "<tr>\n",
       "  <th>Model:</th>                   <td>OLS</td>       <th>  Adj. R-squared:    </th> <td>   0.972</td> \n",
       "</tr>\n",
       "<tr>\n",
       "  <th>Method:</th>             <td>Least Squares</td>  <th>  F-statistic:       </th> <td>   1532.</td> \n",
       "</tr>\n",
       "<tr>\n",
       "  <th>Date:</th>             <td>Wed, 09 Mar 2022</td> <th>  Prob (F-statistic):</th> <td>1.25e-266</td>\n",
       "</tr>\n",
       "<tr>\n",
       "  <th>Time:</th>                 <td>10:12:11</td>     <th>  Log-Likelihood:    </th> <td> -991.43</td> \n",
       "</tr>\n",
       "<tr>\n",
       "  <th>No. Observations:</th>      <td>   358</td>      <th>  AIC:               </th> <td>   2001.</td> \n",
       "</tr>\n",
       "<tr>\n",
       "  <th>Df Residuals:</th>          <td>   349</td>      <th>  BIC:               </th> <td>   2036.</td> \n",
       "</tr>\n",
       "<tr>\n",
       "  <th>Df Model:</th>              <td>     8</td>      <th>                     </th>     <td> </td>    \n",
       "</tr>\n",
       "<tr>\n",
       "  <th>Covariance Type:</th>      <td>nonrobust</td>    <th>                     </th>     <td> </td>    \n",
       "</tr>\n",
       "</table>\n",
       "<table class=\"simpletable\">\n",
       "<tr>\n",
       "       <td></td>         <th>coef</th>     <th>std err</th>      <th>t</th>      <th>P>|t|</th>  <th>[0.025</th>    <th>0.975]</th>  \n",
       "</tr>\n",
       "<tr>\n",
       "  <th>const</th>      <td>   11.4020</td> <td>    0.753</td> <td>   15.141</td> <td> 0.000</td> <td>    9.921</td> <td>   12.883</td>\n",
       "</tr>\n",
       "<tr>\n",
       "  <th>texp_horas</th> <td>    0.2512</td> <td>    0.005</td> <td>   48.818</td> <td> 0.000</td> <td>    0.241</td> <td>    0.261</td>\n",
       "</tr>\n",
       "<tr>\n",
       "  <th>9</th>          <td>  -20.0187</td> <td>    0.911</td> <td>  -21.981</td> <td> 0.000</td> <td>  -21.810</td> <td>  -18.228</td>\n",
       "</tr>\n",
       "<tr>\n",
       "  <th>5</th>          <td>  -13.8749</td> <td>    0.834</td> <td>  -16.628</td> <td> 0.000</td> <td>  -15.516</td> <td>  -12.234</td>\n",
       "</tr>\n",
       "<tr>\n",
       "  <th>2</th>          <td>  -13.3578</td> <td>    0.989</td> <td>  -13.509</td> <td> 0.000</td> <td>  -15.303</td> <td>  -11.413</td>\n",
       "</tr>\n",
       "<tr>\n",
       "  <th>10</th>         <td>  -10.2847</td> <td>    0.841</td> <td>  -12.222</td> <td> 0.000</td> <td>  -11.940</td> <td>   -8.630</td>\n",
       "</tr>\n",
       "<tr>\n",
       "  <th>horas</th>      <td>    0.6915</td> <td>    0.042</td> <td>   16.418</td> <td> 0.000</td> <td>    0.609</td> <td>    0.774</td>\n",
       "</tr>\n",
       "<tr>\n",
       "  <th>7</th>          <td>    4.1687</td> <td>    0.810</td> <td>    5.148</td> <td> 0.000</td> <td>    2.576</td> <td>    5.761</td>\n",
       "</tr>\n",
       "<tr>\n",
       "  <th>6</th>          <td>   -3.5032</td> <td>    0.866</td> <td>   -4.044</td> <td> 0.000</td> <td>   -5.207</td> <td>   -1.799</td>\n",
       "</tr>\n",
       "</table>\n",
       "<table class=\"simpletable\">\n",
       "<tr>\n",
       "  <th>Omnibus:</th>       <td>29.891</td> <th>  Durbin-Watson:     </th> <td>   2.072</td>\n",
       "</tr>\n",
       "<tr>\n",
       "  <th>Prob(Omnibus):</th> <td> 0.000</td> <th>  Jarque-Bera (JB):  </th> <td>  66.235</td>\n",
       "</tr>\n",
       "<tr>\n",
       "  <th>Skew:</th>          <td>-0.432</td> <th>  Prob(JB):          </th> <td>4.14e-15</td>\n",
       "</tr>\n",
       "<tr>\n",
       "  <th>Kurtosis:</th>      <td> 4.922</td> <th>  Cond. No.          </th> <td>    830.</td>\n",
       "</tr>\n",
       "</table><br/><br/>Notes:<br/>[1] Standard Errors assume that the covariance matrix of the errors is correctly specified."
      ],
      "text/plain": [
       "<class 'statsmodels.iolib.summary.Summary'>\n",
       "\"\"\"\n",
       "                            OLS Regression Results                            \n",
       "==============================================================================\n",
       "Dep. Variable:                      y   R-squared:                       0.972\n",
       "Model:                            OLS   Adj. R-squared:                  0.972\n",
       "Method:                 Least Squares   F-statistic:                     1532.\n",
       "Date:                Wed, 09 Mar 2022   Prob (F-statistic):          1.25e-266\n",
       "Time:                        10:12:11   Log-Likelihood:                -991.43\n",
       "No. Observations:                 358   AIC:                             2001.\n",
       "Df Residuals:                     349   BIC:                             2036.\n",
       "Df Model:                           8                                         \n",
       "Covariance Type:            nonrobust                                         \n",
       "==============================================================================\n",
       "                 coef    std err          t      P>|t|      [0.025      0.975]\n",
       "------------------------------------------------------------------------------\n",
       "const         11.4020      0.753     15.141      0.000       9.921      12.883\n",
       "texp_horas     0.2512      0.005     48.818      0.000       0.241       0.261\n",
       "9            -20.0187      0.911    -21.981      0.000     -21.810     -18.228\n",
       "5            -13.8749      0.834    -16.628      0.000     -15.516     -12.234\n",
       "2            -13.3578      0.989    -13.509      0.000     -15.303     -11.413\n",
       "10           -10.2847      0.841    -12.222      0.000     -11.940      -8.630\n",
       "horas          0.6915      0.042     16.418      0.000       0.609       0.774\n",
       "7              4.1687      0.810      5.148      0.000       2.576       5.761\n",
       "6             -3.5032      0.866     -4.044      0.000      -5.207      -1.799\n",
       "==============================================================================\n",
       "Omnibus:                       29.891   Durbin-Watson:                   2.072\n",
       "Prob(Omnibus):                  0.000   Jarque-Bera (JB):               66.235\n",
       "Skew:                          -0.432   Prob(JB):                     4.14e-15\n",
       "Kurtosis:                       4.922   Cond. No.                         830.\n",
       "==============================================================================\n",
       "\n",
       "Notes:\n",
       "[1] Standard Errors assume that the covariance matrix of the errors is correctly specified.\n",
       "\"\"\""
      ]
     },
     "execution_count": 66,
     "metadata": {},
     "output_type": "execute_result"
    }
   ],
   "source": [
    "#Modelo OLS\n",
    "import statsmodels.api as sm\n",
    "x_constante = sm.add_constant(dados_3)\n",
    "y = dados['desempenho'].values\n",
    "modelo6 = sm.OLS(y,x_constante)\n",
    "modelo_OLS2 = modelo6.fit()\n",
    "modelo_OLS2.summary()"
   ]
  },
  {
   "cell_type": "markdown",
   "metadata": {},
   "source": [
    "**Todas as variáveis tem significância estatística**"
   ]
  },
  {
   "cell_type": "markdown",
   "metadata": {},
   "source": [
    "## COMPARAÇÃO DOS LLs DE TODOS OS MODELOS "
   ]
  },
  {
   "cell_type": "code",
   "execution_count": 67,
   "metadata": {},
   "outputs": [
    {
     "data": {
      "image/png": "[encoded data removed]",
      "text/plain": [
       "<Figure size 432x288 with 1 Axes>"
      ]
     },
     "metadata": {},
     "output_type": "display_data"
    }
   ],
   "source": [
    "#Criar um dataFrame com os LLs\n",
    "a = ['HLM2 Nulo','OLS_Nulo','Int Aleat','Int e Incli Aleat','Modelo Final + Variáveis','OLS_com_Dummie','OLS_Interação']\n",
    "b = [modelo_nulo.llf,modelo_OLS.llf,mod_interc_aleat.llf,inter_incli_aleat.llf,inter_aleat_final.llf,\n",
    "     modelo_OLS1.llf,modelo_OLS2.llf]\n",
    "dados_grafico = pd.DataFrame(a,b)\n",
    "dados_grafico= dados_grafico.reset_index()\n",
    "dados_grafico.columns=['Index','Modelo']\n",
    "\n",
    "#Plotar no Grafico \n",
    "df_ordenado = dados_grafico.sort_values(by='Index',ascending=True)\n",
    "plt.barh(df_ordenado.Modelo, df_ordenado.Index, color='red', alpha=0.5)\n",
    "plt.title('Comparação dos LL',size=40,);"
   ]
  },
  {
   "cell_type": "code",
   "execution_count": 68,
   "metadata": {},
   "outputs": [
    {
     "data": {
      "text/html": [
       "<div>\n",
       "<style scoped>\n",
       "    .dataframe tbody tr th:only-of-type {\n",
       "        vertical-align: middle;\n",
       "    }\n",
       "\n",
       "    .dataframe tbody tr th {\n",
       "        vertical-align: top;\n",
       "    }\n",
       "\n",
       "    .dataframe thead th {\n",
       "        text-align: right;\n",
       "    }\n",
       "</style>\n",
       "<table border=\"1\" class=\"dataframe\">\n",
       "  <thead>\n",
       "    <tr style=\"text-align: right;\">\n",
       "      <th></th>\n",
       "      <th>LL</th>\n",
       "    </tr>\n",
       "  </thead>\n",
       "  <tbody>\n",
       "    <tr>\n",
       "      <th>Modelo Final + Variáveis</th>\n",
       "      <td>-894.568408</td>\n",
       "    </tr>\n",
       "    <tr>\n",
       "      <th>Int e Incli Aleat</th>\n",
       "      <td>-906.802752</td>\n",
       "    </tr>\n",
       "    <tr>\n",
       "      <th>OLS_Interação</th>\n",
       "      <td>-991.431454</td>\n",
       "    </tr>\n",
       "    <tr>\n",
       "      <th>OLS_com_Dummie</th>\n",
       "      <td>-1125.849437</td>\n",
       "    </tr>\n",
       "    <tr>\n",
       "      <th>Int Aleat</th>\n",
       "      <td>-1155.246640</td>\n",
       "    </tr>\n",
       "    <tr>\n",
       "      <th>HLM2 Nulo</th>\n",
       "      <td>-1416.007393</td>\n",
       "    </tr>\n",
       "    <tr>\n",
       "      <th>OLS_Nulo</th>\n",
       "      <td>-1633.485197</td>\n",
       "    </tr>\n",
       "  </tbody>\n",
       "</table>\n",
       "</div>"
      ],
      "text/plain": [
       "                                   LL\n",
       "Modelo Final + Variáveis  -894.568408\n",
       "Int e Incli Aleat         -906.802752\n",
       "OLS_Interação             -991.431454\n",
       "OLS_com_Dummie           -1125.849437\n",
       "Int Aleat                -1155.246640\n",
       "HLM2 Nulo                -1416.007393\n",
       "OLS_Nulo                 -1633.485197"
      ]
     },
     "execution_count": 68,
     "metadata": {},
     "output_type": "execute_result"
    }
   ],
   "source": [
    "#Tabela com todos os valores do LL\n",
    "tab = pd.DataFrame(b,a,columns=['LL'])\n",
    "pd.DataFrame(tab.LL.sort_values(ascending=False))"
   ]
  },
  {
   "cell_type": "markdown",
   "metadata": {},
   "source": [
    "**Podemos observar que o Modelo Final tem o melhor LL**"
   ]
  },
  {
   "cell_type": "markdown",
   "metadata": {},
   "source": [
    "## Conclusão:"
   ]
  },
  {
   "cell_type": "markdown",
   "metadata": {},
   "source": [
    "**Os Modelos Multiníveis levam em consideração uma estrutura aninhada para os dados, combinando informações de variáveis de diferentes níveis, e reduzindo perda de informações, caso as variáveis se mostrem estatisticamente significantes para o modelo, dificilmente outro modelo conseguirá obter uma métrica melhor**"
   ]
  }
 ],
 "metadata": {
  "anaconda-cloud": {},
  "kernelspec": {
   "display_name": "Python 3 (ipykernel)",
   "language": "python",
   "name": "python3"
  },
  "language_info": {
   "codemirror_mode": {
    "name": "ipython",
    "version": 3
   },
   "file_extension": ".py",
   "mimetype": "text/x-python",
   "name": "python",
   "nbconvert_exporter": "python",
   "pygments_lexer": "ipython3",
   "version": "3.9.7"
  }
 },
 "nbformat": 4,
 "nbformat_minor": 1
}
