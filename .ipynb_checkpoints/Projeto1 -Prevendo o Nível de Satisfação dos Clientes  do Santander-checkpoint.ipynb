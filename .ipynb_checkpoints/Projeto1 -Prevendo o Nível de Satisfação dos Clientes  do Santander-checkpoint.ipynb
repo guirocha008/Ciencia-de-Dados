{
 "cells": [
  {
   "cell_type": "markdown",
   "metadata": {},
   "source": [
    "## Projeto1"
   ]
  },
  {
   "cell_type": "code",
   "execution_count": 1,
   "metadata": {},
   "outputs": [],
   "source": [
    "import pandas as pd\n",
    "import numpy as np"
   ]
  },
  {
   "cell_type": "code",
   "execution_count": 2,
   "metadata": {},
   "outputs": [],
   "source": [
    "df = pd.read_csv(\"projeto4_telecom_treino.csv\")"
   ]
  },
  {
   "cell_type": "markdown",
   "metadata": {},
   "source": [
    "## 1-Analise Exploratoria"
   ]
  },
  {
   "cell_type": "markdown",
   "metadata": {},
   "source": [
    "<h2>Conhecer os Dados"
   ]
  },
  {
   "cell_type": "code",
   "execution_count": 3,
   "metadata": {},
   "outputs": [
    {
     "data": {
      "text/plain": [
       "(3333, 21)"
      ]
     },
     "execution_count": 3,
     "metadata": {},
     "output_type": "execute_result"
    }
   ],
   "source": [
    "#Dimensao da tabela\n",
    "df.shape"
   ]
  },
  {
   "cell_type": "code",
   "execution_count": 4,
   "metadata": {},
   "outputs": [
    {
     "data": {
      "text/html": [
       "<div>\n",
       "<style scoped>\n",
       "    .dataframe tbody tr th:only-of-type {\n",
       "        vertical-align: middle;\n",
       "    }\n",
       "\n",
       "    .dataframe tbody tr th {\n",
       "        vertical-align: top;\n",
       "    }\n",
       "\n",
       "    .dataframe thead th {\n",
       "        text-align: right;\n",
       "    }\n",
       "</style>\n",
       "<table border=\"1\" class=\"dataframe\">\n",
       "  <thead>\n",
       "    <tr style=\"text-align: right;\">\n",
       "      <th></th>\n",
       "      <th>Unnamed: 0</th>\n",
       "      <th>state</th>\n",
       "      <th>account_length</th>\n",
       "      <th>area_code</th>\n",
       "      <th>international_plan</th>\n",
       "      <th>voice_mail_plan</th>\n",
       "      <th>number_vmail_messages</th>\n",
       "      <th>total_day_minutes</th>\n",
       "      <th>total_day_calls</th>\n",
       "      <th>total_day_charge</th>\n",
       "      <th>...</th>\n",
       "      <th>total_eve_calls</th>\n",
       "      <th>total_eve_charge</th>\n",
       "      <th>total_night_minutes</th>\n",
       "      <th>total_night_calls</th>\n",
       "      <th>total_night_charge</th>\n",
       "      <th>total_intl_minutes</th>\n",
       "      <th>total_intl_calls</th>\n",
       "      <th>total_intl_charge</th>\n",
       "      <th>number_customer_service_calls</th>\n",
       "      <th>churn</th>\n",
       "    </tr>\n",
       "  </thead>\n",
       "  <tbody>\n",
       "    <tr>\n",
       "      <th>0</th>\n",
       "      <td>1</td>\n",
       "      <td>KS</td>\n",
       "      <td>128</td>\n",
       "      <td>area_code_415</td>\n",
       "      <td>no</td>\n",
       "      <td>yes</td>\n",
       "      <td>25</td>\n",
       "      <td>265.1</td>\n",
       "      <td>110</td>\n",
       "      <td>45.07</td>\n",
       "      <td>...</td>\n",
       "      <td>99</td>\n",
       "      <td>16.78</td>\n",
       "      <td>244.7</td>\n",
       "      <td>91</td>\n",
       "      <td>11.01</td>\n",
       "      <td>10.0</td>\n",
       "      <td>3</td>\n",
       "      <td>2.70</td>\n",
       "      <td>1</td>\n",
       "      <td>no</td>\n",
       "    </tr>\n",
       "    <tr>\n",
       "      <th>1</th>\n",
       "      <td>2</td>\n",
       "      <td>OH</td>\n",
       "      <td>107</td>\n",
       "      <td>area_code_415</td>\n",
       "      <td>no</td>\n",
       "      <td>yes</td>\n",
       "      <td>26</td>\n",
       "      <td>161.6</td>\n",
       "      <td>123</td>\n",
       "      <td>27.47</td>\n",
       "      <td>...</td>\n",
       "      <td>103</td>\n",
       "      <td>16.62</td>\n",
       "      <td>254.4</td>\n",
       "      <td>103</td>\n",
       "      <td>11.45</td>\n",
       "      <td>13.7</td>\n",
       "      <td>3</td>\n",
       "      <td>3.70</td>\n",
       "      <td>1</td>\n",
       "      <td>no</td>\n",
       "    </tr>\n",
       "    <tr>\n",
       "      <th>2</th>\n",
       "      <td>3</td>\n",
       "      <td>NJ</td>\n",
       "      <td>137</td>\n",
       "      <td>area_code_415</td>\n",
       "      <td>no</td>\n",
       "      <td>no</td>\n",
       "      <td>0</td>\n",
       "      <td>243.4</td>\n",
       "      <td>114</td>\n",
       "      <td>41.38</td>\n",
       "      <td>...</td>\n",
       "      <td>110</td>\n",
       "      <td>10.30</td>\n",
       "      <td>162.6</td>\n",
       "      <td>104</td>\n",
       "      <td>7.32</td>\n",
       "      <td>12.2</td>\n",
       "      <td>5</td>\n",
       "      <td>3.29</td>\n",
       "      <td>0</td>\n",
       "      <td>no</td>\n",
       "    </tr>\n",
       "  </tbody>\n",
       "</table>\n",
       "<p>3 rows × 21 columns</p>\n",
       "</div>"
      ],
      "text/plain": [
       "   Unnamed: 0 state  account_length      area_code international_plan  \\\n",
       "0           1    KS             128  area_code_415                 no   \n",
       "1           2    OH             107  area_code_415                 no   \n",
       "2           3    NJ             137  area_code_415                 no   \n",
       "\n",
       "  voice_mail_plan  number_vmail_messages  total_day_minutes  total_day_calls  \\\n",
       "0             yes                     25              265.1              110   \n",
       "1             yes                     26              161.6              123   \n",
       "2              no                      0              243.4              114   \n",
       "\n",
       "   total_day_charge  ...  total_eve_calls  total_eve_charge  \\\n",
       "0             45.07  ...               99             16.78   \n",
       "1             27.47  ...              103             16.62   \n",
       "2             41.38  ...              110             10.30   \n",
       "\n",
       "   total_night_minutes  total_night_calls  total_night_charge  \\\n",
       "0                244.7                 91               11.01   \n",
       "1                254.4                103               11.45   \n",
       "2                162.6                104                7.32   \n",
       "\n",
       "   total_intl_minutes  total_intl_calls  total_intl_charge  \\\n",
       "0                10.0                 3               2.70   \n",
       "1                13.7                 3               3.70   \n",
       "2                12.2                 5               3.29   \n",
       "\n",
       "   number_customer_service_calls  churn  \n",
       "0                              1     no  \n",
       "1                              1     no  \n",
       "2                              0     no  \n",
       "\n",
       "[3 rows x 21 columns]"
      ]
     },
     "execution_count": 4,
     "metadata": {},
     "output_type": "execute_result"
    }
   ],
   "source": [
    "#Varificando a tabela de dados(Colunas e Registros)\n",
    "df.head(3)"
   ]
  },
  {
   "cell_type": "code",
   "execution_count": 5,
   "metadata": {},
   "outputs": [
    {
     "data": {
      "text/plain": [
       "Unnamed: 0                       0\n",
       "state                            0\n",
       "account_length                   0\n",
       "area_code                        0\n",
       "international_plan               0\n",
       "voice_mail_plan                  0\n",
       "number_vmail_messages            0\n",
       "total_day_minutes                0\n",
       "total_day_calls                  0\n",
       "total_day_charge                 0\n",
       "total_eve_minutes                0\n",
       "total_eve_calls                  0\n",
       "total_eve_charge                 0\n",
       "total_night_minutes              0\n",
       "total_night_calls                0\n",
       "total_night_charge               0\n",
       "total_intl_minutes               0\n",
       "total_intl_calls                 0\n",
       "total_intl_charge                0\n",
       "number_customer_service_calls    0\n",
       "churn                            0\n",
       "dtype: int64"
      ]
     },
     "execution_count": 5,
     "metadata": {},
     "output_type": "execute_result"
    }
   ],
   "source": [
    "#Valores NAs\n",
    "df.isnull().sum()"
   ]
  },
  {
   "cell_type": "code",
   "execution_count": 6,
   "metadata": {},
   "outputs": [
    {
     "data": {
      "text/plain": [
       "Unnamed: 0                         int64\n",
       "state                             object\n",
       "account_length                     int64\n",
       "area_code                         object\n",
       "international_plan                object\n",
       "voice_mail_plan                   object\n",
       "number_vmail_messages              int64\n",
       "total_day_minutes                float64\n",
       "total_day_calls                    int64\n",
       "total_day_charge                 float64\n",
       "total_eve_minutes                float64\n",
       "total_eve_calls                    int64\n",
       "total_eve_charge                 float64\n",
       "total_night_minutes              float64\n",
       "total_night_calls                  int64\n",
       "total_night_charge               float64\n",
       "total_intl_minutes               float64\n",
       "total_intl_calls                   int64\n",
       "total_intl_charge                float64\n",
       "number_customer_service_calls      int64\n",
       "churn                             object\n",
       "dtype: object"
      ]
     },
     "execution_count": 6,
     "metadata": {},
     "output_type": "execute_result"
    }
   ],
   "source": [
    "#Estrutura dos Dados\n",
    "df.dtypes"
   ]
  },
  {
   "cell_type": "code",
   "execution_count": 7,
   "metadata": {},
   "outputs": [
    {
     "data": {
      "text/plain": [
       "Index(['Unnamed: 0', 'state', 'account_length', 'area_code',\n",
       "       'international_plan', 'voice_mail_plan', 'number_vmail_messages',\n",
       "       'total_day_minutes', 'total_day_calls', 'total_day_charge',\n",
       "       'total_eve_minutes', 'total_eve_calls', 'total_eve_charge',\n",
       "       'total_night_minutes', 'total_night_calls', 'total_night_charge',\n",
       "       'total_intl_minutes', 'total_intl_calls', 'total_intl_charge',\n",
       "       'number_customer_service_calls', 'churn'],\n",
       "      dtype='object')"
      ]
     },
     "execution_count": 7,
     "metadata": {},
     "output_type": "execute_result"
    }
   ],
   "source": [
    "#Nome das Colunas\n",
    "df.columns"
   ]
  },
  {
   "cell_type": "code",
   "execution_count": 8,
   "metadata": {},
   "outputs": [
    {
     "data": {
      "text/html": [
       "<div>\n",
       "<style scoped>\n",
       "    .dataframe tbody tr th:only-of-type {\n",
       "        vertical-align: middle;\n",
       "    }\n",
       "\n",
       "    .dataframe tbody tr th {\n",
       "        vertical-align: top;\n",
       "    }\n",
       "\n",
       "    .dataframe thead th {\n",
       "        text-align: right;\n",
       "    }\n",
       "</style>\n",
       "<table border=\"1\" class=\"dataframe\">\n",
       "  <thead>\n",
       "    <tr style=\"text-align: right;\">\n",
       "      <th></th>\n",
       "      <th>Unnamed: 0</th>\n",
       "      <th>account_length</th>\n",
       "      <th>number_vmail_messages</th>\n",
       "      <th>total_day_minutes</th>\n",
       "      <th>total_day_calls</th>\n",
       "      <th>total_day_charge</th>\n",
       "      <th>total_eve_minutes</th>\n",
       "      <th>total_eve_calls</th>\n",
       "      <th>total_eve_charge</th>\n",
       "      <th>total_night_minutes</th>\n",
       "      <th>total_night_calls</th>\n",
       "      <th>total_night_charge</th>\n",
       "      <th>total_intl_minutes</th>\n",
       "      <th>total_intl_calls</th>\n",
       "      <th>total_intl_charge</th>\n",
       "      <th>number_customer_service_calls</th>\n",
       "    </tr>\n",
       "  </thead>\n",
       "  <tbody>\n",
       "    <tr>\n",
       "      <th>count</th>\n",
       "      <td>3333.00000</td>\n",
       "      <td>3333.000000</td>\n",
       "      <td>3333.000000</td>\n",
       "      <td>3333.000000</td>\n",
       "      <td>3333.000000</td>\n",
       "      <td>3333.000000</td>\n",
       "      <td>3333.000000</td>\n",
       "      <td>3333.000000</td>\n",
       "      <td>3333.000000</td>\n",
       "      <td>3333.000000</td>\n",
       "      <td>3333.000000</td>\n",
       "      <td>3333.000000</td>\n",
       "      <td>3333.000000</td>\n",
       "      <td>3333.000000</td>\n",
       "      <td>3333.000000</td>\n",
       "      <td>3333.000000</td>\n",
       "    </tr>\n",
       "    <tr>\n",
       "      <th>mean</th>\n",
       "      <td>1667.00000</td>\n",
       "      <td>101.064806</td>\n",
       "      <td>8.099010</td>\n",
       "      <td>179.775098</td>\n",
       "      <td>100.435644</td>\n",
       "      <td>30.562307</td>\n",
       "      <td>200.980348</td>\n",
       "      <td>100.114311</td>\n",
       "      <td>17.083540</td>\n",
       "      <td>200.872037</td>\n",
       "      <td>100.107711</td>\n",
       "      <td>9.039325</td>\n",
       "      <td>10.237294</td>\n",
       "      <td>4.479448</td>\n",
       "      <td>2.764581</td>\n",
       "      <td>1.562856</td>\n",
       "    </tr>\n",
       "    <tr>\n",
       "      <th>std</th>\n",
       "      <td>962.29855</td>\n",
       "      <td>39.822106</td>\n",
       "      <td>13.688365</td>\n",
       "      <td>54.467389</td>\n",
       "      <td>20.069084</td>\n",
       "      <td>9.259435</td>\n",
       "      <td>50.713844</td>\n",
       "      <td>19.922625</td>\n",
       "      <td>4.310668</td>\n",
       "      <td>50.573847</td>\n",
       "      <td>19.568609</td>\n",
       "      <td>2.275873</td>\n",
       "      <td>2.791840</td>\n",
       "      <td>2.461214</td>\n",
       "      <td>0.753773</td>\n",
       "      <td>1.315491</td>\n",
       "    </tr>\n",
       "    <tr>\n",
       "      <th>min</th>\n",
       "      <td>1.00000</td>\n",
       "      <td>1.000000</td>\n",
       "      <td>0.000000</td>\n",
       "      <td>0.000000</td>\n",
       "      <td>0.000000</td>\n",
       "      <td>0.000000</td>\n",
       "      <td>0.000000</td>\n",
       "      <td>0.000000</td>\n",
       "      <td>0.000000</td>\n",
       "      <td>23.200000</td>\n",
       "      <td>33.000000</td>\n",
       "      <td>1.040000</td>\n",
       "      <td>0.000000</td>\n",
       "      <td>0.000000</td>\n",
       "      <td>0.000000</td>\n",
       "      <td>0.000000</td>\n",
       "    </tr>\n",
       "    <tr>\n",
       "      <th>25%</th>\n",
       "      <td>834.00000</td>\n",
       "      <td>74.000000</td>\n",
       "      <td>0.000000</td>\n",
       "      <td>143.700000</td>\n",
       "      <td>87.000000</td>\n",
       "      <td>24.430000</td>\n",
       "      <td>166.600000</td>\n",
       "      <td>87.000000</td>\n",
       "      <td>14.160000</td>\n",
       "      <td>167.000000</td>\n",
       "      <td>87.000000</td>\n",
       "      <td>7.520000</td>\n",
       "      <td>8.500000</td>\n",
       "      <td>3.000000</td>\n",
       "      <td>2.300000</td>\n",
       "      <td>1.000000</td>\n",
       "    </tr>\n",
       "    <tr>\n",
       "      <th>50%</th>\n",
       "      <td>1667.00000</td>\n",
       "      <td>101.000000</td>\n",
       "      <td>0.000000</td>\n",
       "      <td>179.400000</td>\n",
       "      <td>101.000000</td>\n",
       "      <td>30.500000</td>\n",
       "      <td>201.400000</td>\n",
       "      <td>100.000000</td>\n",
       "      <td>17.120000</td>\n",
       "      <td>201.200000</td>\n",
       "      <td>100.000000</td>\n",
       "      <td>9.050000</td>\n",
       "      <td>10.300000</td>\n",
       "      <td>4.000000</td>\n",
       "      <td>2.780000</td>\n",
       "      <td>1.000000</td>\n",
       "    </tr>\n",
       "    <tr>\n",
       "      <th>75%</th>\n",
       "      <td>2500.00000</td>\n",
       "      <td>127.000000</td>\n",
       "      <td>20.000000</td>\n",
       "      <td>216.400000</td>\n",
       "      <td>114.000000</td>\n",
       "      <td>36.790000</td>\n",
       "      <td>235.300000</td>\n",
       "      <td>114.000000</td>\n",
       "      <td>20.000000</td>\n",
       "      <td>235.300000</td>\n",
       "      <td>113.000000</td>\n",
       "      <td>10.590000</td>\n",
       "      <td>12.100000</td>\n",
       "      <td>6.000000</td>\n",
       "      <td>3.270000</td>\n",
       "      <td>2.000000</td>\n",
       "    </tr>\n",
       "    <tr>\n",
       "      <th>max</th>\n",
       "      <td>3333.00000</td>\n",
       "      <td>243.000000</td>\n",
       "      <td>51.000000</td>\n",
       "      <td>350.800000</td>\n",
       "      <td>165.000000</td>\n",
       "      <td>59.640000</td>\n",
       "      <td>363.700000</td>\n",
       "      <td>170.000000</td>\n",
       "      <td>30.910000</td>\n",
       "      <td>395.000000</td>\n",
       "      <td>175.000000</td>\n",
       "      <td>17.770000</td>\n",
       "      <td>20.000000</td>\n",
       "      <td>20.000000</td>\n",
       "      <td>5.400000</td>\n",
       "      <td>9.000000</td>\n",
       "    </tr>\n",
       "  </tbody>\n",
       "</table>\n",
       "</div>"
      ],
      "text/plain": [
       "       Unnamed: 0  account_length  number_vmail_messages  total_day_minutes  \\\n",
       "count  3333.00000     3333.000000            3333.000000        3333.000000   \n",
       "mean   1667.00000      101.064806               8.099010         179.775098   \n",
       "std     962.29855       39.822106              13.688365          54.467389   \n",
       "min       1.00000        1.000000               0.000000           0.000000   \n",
       "25%     834.00000       74.000000               0.000000         143.700000   \n",
       "50%    1667.00000      101.000000               0.000000         179.400000   \n",
       "75%    2500.00000      127.000000              20.000000         216.400000   \n",
       "max    3333.00000      243.000000              51.000000         350.800000   \n",
       "\n",
       "       total_day_calls  total_day_charge  total_eve_minutes  total_eve_calls  \\\n",
       "count      3333.000000       3333.000000        3333.000000      3333.000000   \n",
       "mean        100.435644         30.562307         200.980348       100.114311   \n",
       "std          20.069084          9.259435          50.713844        19.922625   \n",
       "min           0.000000          0.000000           0.000000         0.000000   \n",
       "25%          87.000000         24.430000         166.600000        87.000000   \n",
       "50%         101.000000         30.500000         201.400000       100.000000   \n",
       "75%         114.000000         36.790000         235.300000       114.000000   \n",
       "max         165.000000         59.640000         363.700000       170.000000   \n",
       "\n",
       "       total_eve_charge  total_night_minutes  total_night_calls  \\\n",
       "count       3333.000000          3333.000000        3333.000000   \n",
       "mean          17.083540           200.872037         100.107711   \n",
       "std            4.310668            50.573847          19.568609   \n",
       "min            0.000000            23.200000          33.000000   \n",
       "25%           14.160000           167.000000          87.000000   \n",
       "50%           17.120000           201.200000         100.000000   \n",
       "75%           20.000000           235.300000         113.000000   \n",
       "max           30.910000           395.000000         175.000000   \n",
       "\n",
       "       total_night_charge  total_intl_minutes  total_intl_calls  \\\n",
       "count         3333.000000         3333.000000       3333.000000   \n",
       "mean             9.039325           10.237294          4.479448   \n",
       "std              2.275873            2.791840          2.461214   \n",
       "min              1.040000            0.000000          0.000000   \n",
       "25%              7.520000            8.500000          3.000000   \n",
       "50%              9.050000           10.300000          4.000000   \n",
       "75%             10.590000           12.100000          6.000000   \n",
       "max             17.770000           20.000000         20.000000   \n",
       "\n",
       "       total_intl_charge  number_customer_service_calls  \n",
       "count        3333.000000                    3333.000000  \n",
       "mean            2.764581                       1.562856  \n",
       "std             0.753773                       1.315491  \n",
       "min             0.000000                       0.000000  \n",
       "25%             2.300000                       1.000000  \n",
       "50%             2.780000                       1.000000  \n",
       "75%             3.270000                       2.000000  \n",
       "max             5.400000                       9.000000  "
      ]
     },
     "execution_count": 8,
     "metadata": {},
     "output_type": "execute_result"
    }
   ],
   "source": [
    "#Dados Estatisticos\n",
    "df.describe()"
   ]
  },
  {
   "cell_type": "code",
   "execution_count": 9,
   "metadata": {},
   "outputs": [
    {
     "data": {
      "text/plain": [
       "pandas.core.frame.DataFrame"
      ]
     },
     "execution_count": 9,
     "metadata": {},
     "output_type": "execute_result"
    }
   ],
   "source": [
    "#Formato do Dataset\n",
    "type(df)"
   ]
  },
  {
   "cell_type": "code",
   "execution_count": 10,
   "metadata": {},
   "outputs": [
    {
     "name": "stdout",
     "output_type": "stream",
     "text": [
      "object\n",
      "int64\n"
     ]
    }
   ],
   "source": [
    "#Verificar a classe de 1 coluna\n",
    "print(df.state.dtypes)\n",
    "print(df.account_length.dtypes)"
   ]
  },
  {
   "cell_type": "markdown",
   "metadata": {},
   "source": [
    "<h2>Explorando variaveis numericas"
   ]
  },
  {
   "cell_type": "code",
   "execution_count": 11,
   "metadata": {},
   "outputs": [
    {
     "data": {
      "text/html": [
       "<div>\n",
       "<style scoped>\n",
       "    .dataframe tbody tr th:only-of-type {\n",
       "        vertical-align: middle;\n",
       "    }\n",
       "\n",
       "    .dataframe tbody tr th {\n",
       "        vertical-align: top;\n",
       "    }\n",
       "\n",
       "    .dataframe thead th {\n",
       "        text-align: right;\n",
       "    }\n",
       "</style>\n",
       "<table border=\"1\" class=\"dataframe\">\n",
       "  <thead>\n",
       "    <tr style=\"text-align: right;\">\n",
       "      <th></th>\n",
       "      <th>Unnamed: 0</th>\n",
       "      <th>account_length</th>\n",
       "      <th>number_vmail_messages</th>\n",
       "      <th>total_day_minutes</th>\n",
       "      <th>total_day_calls</th>\n",
       "      <th>total_day_charge</th>\n",
       "      <th>total_eve_minutes</th>\n",
       "      <th>total_eve_calls</th>\n",
       "      <th>total_eve_charge</th>\n",
       "      <th>total_night_minutes</th>\n",
       "      <th>total_night_calls</th>\n",
       "      <th>total_night_charge</th>\n",
       "      <th>total_intl_minutes</th>\n",
       "      <th>total_intl_calls</th>\n",
       "      <th>total_intl_charge</th>\n",
       "      <th>number_customer_service_calls</th>\n",
       "    </tr>\n",
       "  </thead>\n",
       "  <tbody>\n",
       "    <tr>\n",
       "      <th>0</th>\n",
       "      <td>1</td>\n",
       "      <td>128</td>\n",
       "      <td>25</td>\n",
       "      <td>265.1</td>\n",
       "      <td>110</td>\n",
       "      <td>45.07</td>\n",
       "      <td>197.4</td>\n",
       "      <td>99</td>\n",
       "      <td>16.78</td>\n",
       "      <td>244.7</td>\n",
       "      <td>91</td>\n",
       "      <td>11.01</td>\n",
       "      <td>10.0</td>\n",
       "      <td>3</td>\n",
       "      <td>2.7</td>\n",
       "      <td>1</td>\n",
       "    </tr>\n",
       "    <tr>\n",
       "      <th>1</th>\n",
       "      <td>2</td>\n",
       "      <td>107</td>\n",
       "      <td>26</td>\n",
       "      <td>161.6</td>\n",
       "      <td>123</td>\n",
       "      <td>27.47</td>\n",
       "      <td>195.5</td>\n",
       "      <td>103</td>\n",
       "      <td>16.62</td>\n",
       "      <td>254.4</td>\n",
       "      <td>103</td>\n",
       "      <td>11.45</td>\n",
       "      <td>13.7</td>\n",
       "      <td>3</td>\n",
       "      <td>3.7</td>\n",
       "      <td>1</td>\n",
       "    </tr>\n",
       "  </tbody>\n",
       "</table>\n",
       "</div>"
      ],
      "text/plain": [
       "   Unnamed: 0  account_length  number_vmail_messages  total_day_minutes  \\\n",
       "0           1             128                     25              265.1   \n",
       "1           2             107                     26              161.6   \n",
       "\n",
       "   total_day_calls  total_day_charge  total_eve_minutes  total_eve_calls  \\\n",
       "0              110             45.07              197.4               99   \n",
       "1              123             27.47              195.5              103   \n",
       "\n",
       "   total_eve_charge  total_night_minutes  total_night_calls  \\\n",
       "0             16.78                244.7                 91   \n",
       "1             16.62                254.4                103   \n",
       "\n",
       "   total_night_charge  total_intl_minutes  total_intl_calls  \\\n",
       "0               11.01                10.0                 3   \n",
       "1               11.45                13.7                 3   \n",
       "\n",
       "   total_intl_charge  number_customer_service_calls  \n",
       "0                2.7                              1  \n",
       "1                3.7                              1  "
      ]
     },
     "execution_count": 11,
     "metadata": {},
     "output_type": "execute_result"
    }
   ],
   "source": [
    "#Selecionar Somente as variaveis Numericas\n",
    "dfnum=df.select_dtypes(include='number')\n",
    "dfnum.head(2)"
   ]
  },
  {
   "cell_type": "code",
   "execution_count": 12,
   "metadata": {},
   "outputs": [
    {
     "data": {
      "text/html": [
       "<div>\n",
       "<style scoped>\n",
       "    .dataframe tbody tr th:only-of-type {\n",
       "        vertical-align: middle;\n",
       "    }\n",
       "\n",
       "    .dataframe tbody tr th {\n",
       "        vertical-align: top;\n",
       "    }\n",
       "\n",
       "    .dataframe thead th {\n",
       "        text-align: right;\n",
       "    }\n",
       "</style>\n",
       "<table border=\"1\" class=\"dataframe\">\n",
       "  <thead>\n",
       "    <tr style=\"text-align: right;\">\n",
       "      <th></th>\n",
       "      <th>Unnamed: 0</th>\n",
       "      <th>account_length</th>\n",
       "      <th>number_vmail_messages</th>\n",
       "      <th>total_day_minutes</th>\n",
       "      <th>total_day_calls</th>\n",
       "      <th>total_day_charge</th>\n",
       "      <th>total_eve_minutes</th>\n",
       "      <th>total_eve_calls</th>\n",
       "      <th>total_eve_charge</th>\n",
       "      <th>total_night_minutes</th>\n",
       "      <th>total_night_calls</th>\n",
       "      <th>total_night_charge</th>\n",
       "      <th>total_intl_minutes</th>\n",
       "      <th>total_intl_calls</th>\n",
       "      <th>total_intl_charge</th>\n",
       "      <th>number_customer_service_calls</th>\n",
       "    </tr>\n",
       "  </thead>\n",
       "  <tbody>\n",
       "    <tr>\n",
       "      <th>count</th>\n",
       "      <td>3333.00000</td>\n",
       "      <td>3333.000000</td>\n",
       "      <td>3333.000000</td>\n",
       "      <td>3333.000000</td>\n",
       "      <td>3333.000000</td>\n",
       "      <td>3333.000000</td>\n",
       "      <td>3333.000000</td>\n",
       "      <td>3333.000000</td>\n",
       "      <td>3333.000000</td>\n",
       "      <td>3333.000000</td>\n",
       "      <td>3333.000000</td>\n",
       "      <td>3333.000000</td>\n",
       "      <td>3333.000000</td>\n",
       "      <td>3333.000000</td>\n",
       "      <td>3333.000000</td>\n",
       "      <td>3333.000000</td>\n",
       "    </tr>\n",
       "    <tr>\n",
       "      <th>mean</th>\n",
       "      <td>1667.00000</td>\n",
       "      <td>101.064806</td>\n",
       "      <td>8.099010</td>\n",
       "      <td>179.775098</td>\n",
       "      <td>100.435644</td>\n",
       "      <td>30.562307</td>\n",
       "      <td>200.980348</td>\n",
       "      <td>100.114311</td>\n",
       "      <td>17.083540</td>\n",
       "      <td>200.872037</td>\n",
       "      <td>100.107711</td>\n",
       "      <td>9.039325</td>\n",
       "      <td>10.237294</td>\n",
       "      <td>4.479448</td>\n",
       "      <td>2.764581</td>\n",
       "      <td>1.562856</td>\n",
       "    </tr>\n",
       "    <tr>\n",
       "      <th>std</th>\n",
       "      <td>962.29855</td>\n",
       "      <td>39.822106</td>\n",
       "      <td>13.688365</td>\n",
       "      <td>54.467389</td>\n",
       "      <td>20.069084</td>\n",
       "      <td>9.259435</td>\n",
       "      <td>50.713844</td>\n",
       "      <td>19.922625</td>\n",
       "      <td>4.310668</td>\n",
       "      <td>50.573847</td>\n",
       "      <td>19.568609</td>\n",
       "      <td>2.275873</td>\n",
       "      <td>2.791840</td>\n",
       "      <td>2.461214</td>\n",
       "      <td>0.753773</td>\n",
       "      <td>1.315491</td>\n",
       "    </tr>\n",
       "    <tr>\n",
       "      <th>min</th>\n",
       "      <td>1.00000</td>\n",
       "      <td>1.000000</td>\n",
       "      <td>0.000000</td>\n",
       "      <td>0.000000</td>\n",
       "      <td>0.000000</td>\n",
       "      <td>0.000000</td>\n",
       "      <td>0.000000</td>\n",
       "      <td>0.000000</td>\n",
       "      <td>0.000000</td>\n",
       "      <td>23.200000</td>\n",
       "      <td>33.000000</td>\n",
       "      <td>1.040000</td>\n",
       "      <td>0.000000</td>\n",
       "      <td>0.000000</td>\n",
       "      <td>0.000000</td>\n",
       "      <td>0.000000</td>\n",
       "    </tr>\n",
       "    <tr>\n",
       "      <th>25%</th>\n",
       "      <td>834.00000</td>\n",
       "      <td>74.000000</td>\n",
       "      <td>0.000000</td>\n",
       "      <td>143.700000</td>\n",
       "      <td>87.000000</td>\n",
       "      <td>24.430000</td>\n",
       "      <td>166.600000</td>\n",
       "      <td>87.000000</td>\n",
       "      <td>14.160000</td>\n",
       "      <td>167.000000</td>\n",
       "      <td>87.000000</td>\n",
       "      <td>7.520000</td>\n",
       "      <td>8.500000</td>\n",
       "      <td>3.000000</td>\n",
       "      <td>2.300000</td>\n",
       "      <td>1.000000</td>\n",
       "    </tr>\n",
       "    <tr>\n",
       "      <th>50%</th>\n",
       "      <td>1667.00000</td>\n",
       "      <td>101.000000</td>\n",
       "      <td>0.000000</td>\n",
       "      <td>179.400000</td>\n",
       "      <td>101.000000</td>\n",
       "      <td>30.500000</td>\n",
       "      <td>201.400000</td>\n",
       "      <td>100.000000</td>\n",
       "      <td>17.120000</td>\n",
       "      <td>201.200000</td>\n",
       "      <td>100.000000</td>\n",
       "      <td>9.050000</td>\n",
       "      <td>10.300000</td>\n",
       "      <td>4.000000</td>\n",
       "      <td>2.780000</td>\n",
       "      <td>1.000000</td>\n",
       "    </tr>\n",
       "    <tr>\n",
       "      <th>75%</th>\n",
       "      <td>2500.00000</td>\n",
       "      <td>127.000000</td>\n",
       "      <td>20.000000</td>\n",
       "      <td>216.400000</td>\n",
       "      <td>114.000000</td>\n",
       "      <td>36.790000</td>\n",
       "      <td>235.300000</td>\n",
       "      <td>114.000000</td>\n",
       "      <td>20.000000</td>\n",
       "      <td>235.300000</td>\n",
       "      <td>113.000000</td>\n",
       "      <td>10.590000</td>\n",
       "      <td>12.100000</td>\n",
       "      <td>6.000000</td>\n",
       "      <td>3.270000</td>\n",
       "      <td>2.000000</td>\n",
       "    </tr>\n",
       "    <tr>\n",
       "      <th>max</th>\n",
       "      <td>3333.00000</td>\n",
       "      <td>243.000000</td>\n",
       "      <td>51.000000</td>\n",
       "      <td>350.800000</td>\n",
       "      <td>165.000000</td>\n",
       "      <td>59.640000</td>\n",
       "      <td>363.700000</td>\n",
       "      <td>170.000000</td>\n",
       "      <td>30.910000</td>\n",
       "      <td>395.000000</td>\n",
       "      <td>175.000000</td>\n",
       "      <td>17.770000</td>\n",
       "      <td>20.000000</td>\n",
       "      <td>20.000000</td>\n",
       "      <td>5.400000</td>\n",
       "      <td>9.000000</td>\n",
       "    </tr>\n",
       "  </tbody>\n",
       "</table>\n",
       "</div>"
      ],
      "text/plain": [
       "       Unnamed: 0  account_length  number_vmail_messages  total_day_minutes  \\\n",
       "count  3333.00000     3333.000000            3333.000000        3333.000000   \n",
       "mean   1667.00000      101.064806               8.099010         179.775098   \n",
       "std     962.29855       39.822106              13.688365          54.467389   \n",
       "min       1.00000        1.000000               0.000000           0.000000   \n",
       "25%     834.00000       74.000000               0.000000         143.700000   \n",
       "50%    1667.00000      101.000000               0.000000         179.400000   \n",
       "75%    2500.00000      127.000000              20.000000         216.400000   \n",
       "max    3333.00000      243.000000              51.000000         350.800000   \n",
       "\n",
       "       total_day_calls  total_day_charge  total_eve_minutes  total_eve_calls  \\\n",
       "count      3333.000000       3333.000000        3333.000000      3333.000000   \n",
       "mean        100.435644         30.562307         200.980348       100.114311   \n",
       "std          20.069084          9.259435          50.713844        19.922625   \n",
       "min           0.000000          0.000000           0.000000         0.000000   \n",
       "25%          87.000000         24.430000         166.600000        87.000000   \n",
       "50%         101.000000         30.500000         201.400000       100.000000   \n",
       "75%         114.000000         36.790000         235.300000       114.000000   \n",
       "max         165.000000         59.640000         363.700000       170.000000   \n",
       "\n",
       "       total_eve_charge  total_night_minutes  total_night_calls  \\\n",
       "count       3333.000000          3333.000000        3333.000000   \n",
       "mean          17.083540           200.872037         100.107711   \n",
       "std            4.310668            50.573847          19.568609   \n",
       "min            0.000000            23.200000          33.000000   \n",
       "25%           14.160000           167.000000          87.000000   \n",
       "50%           17.120000           201.200000         100.000000   \n",
       "75%           20.000000           235.300000         113.000000   \n",
       "max           30.910000           395.000000         175.000000   \n",
       "\n",
       "       total_night_charge  total_intl_minutes  total_intl_calls  \\\n",
       "count         3333.000000         3333.000000       3333.000000   \n",
       "mean             9.039325           10.237294          4.479448   \n",
       "std              2.275873            2.791840          2.461214   \n",
       "min              1.040000            0.000000          0.000000   \n",
       "25%              7.520000            8.500000          3.000000   \n",
       "50%              9.050000           10.300000          4.000000   \n",
       "75%             10.590000           12.100000          6.000000   \n",
       "max             17.770000           20.000000         20.000000   \n",
       "\n",
       "       total_intl_charge  number_customer_service_calls  \n",
       "count        3333.000000                    3333.000000  \n",
       "mean            2.764581                       1.562856  \n",
       "std             0.753773                       1.315491  \n",
       "min             0.000000                       0.000000  \n",
       "25%             2.300000                       1.000000  \n",
       "50%             2.780000                       1.000000  \n",
       "75%             3.270000                       2.000000  \n",
       "max             5.400000                       9.000000  "
      ]
     },
     "execution_count": 12,
     "metadata": {},
     "output_type": "execute_result"
    }
   ],
   "source": [
    "#Dados Estatisticos da Variavel Numerica\n",
    "dfnum.describe()"
   ]
  },
  {
   "cell_type": "code",
   "execution_count": 13,
   "metadata": {},
   "outputs": [
    {
     "data": {
      "text/plain": [
       "Unnamed: 0                       1667.00\n",
       "account_length                    101.00\n",
       "number_vmail_messages               0.00\n",
       "total_day_minutes                 179.40\n",
       "total_day_calls                   101.00\n",
       "total_day_charge                   30.50\n",
       "total_eve_minutes                 201.40\n",
       "total_eve_calls                   100.00\n",
       "total_eve_charge                   17.12\n",
       "total_night_minutes               201.20\n",
       "total_night_calls                 100.00\n",
       "total_night_charge                  9.05\n",
       "total_intl_minutes                 10.30\n",
       "total_intl_calls                    4.00\n",
       "total_intl_charge                   2.78\n",
       "number_customer_service_calls       1.00\n",
       "dtype: float64"
      ]
     },
     "execution_count": 13,
     "metadata": {},
     "output_type": "execute_result"
    }
   ],
   "source": [
    "#Mediana\n",
    "dfnum.median()"
   ]
  },
  {
   "cell_type": "code",
   "execution_count": 14,
   "metadata": {},
   "outputs": [
    {
     "data": {
      "text/plain": [
       "Unnamed: 0                       1667.000000\n",
       "account_length                    101.064806\n",
       "number_vmail_messages               8.099010\n",
       "total_day_minutes                 179.775098\n",
       "total_day_calls                   100.435644\n",
       "total_day_charge                   30.562307\n",
       "total_eve_minutes                 200.980348\n",
       "total_eve_calls                   100.114311\n",
       "total_eve_charge                   17.083540\n",
       "total_night_minutes               200.872037\n",
       "total_night_calls                 100.107711\n",
       "total_night_charge                  9.039325\n",
       "total_intl_minutes                 10.237294\n",
       "total_intl_calls                    4.479448\n",
       "total_intl_charge                   2.764581\n",
       "number_customer_service_calls       1.562856\n",
       "dtype: float64"
      ]
     },
     "execution_count": 14,
     "metadata": {},
     "output_type": "execute_result"
    }
   ],
   "source": [
    "#Media\n",
    "dfnum.mean()"
   ]
  },
  {
   "cell_type": "code",
   "execution_count": 15,
   "metadata": {},
   "outputs": [
    {
     "data": {
      "text/html": [
       "<div>\n",
       "<style scoped>\n",
       "    .dataframe tbody tr th:only-of-type {\n",
       "        vertical-align: middle;\n",
       "    }\n",
       "\n",
       "    .dataframe tbody tr th {\n",
       "        vertical-align: top;\n",
       "    }\n",
       "\n",
       "    .dataframe thead th {\n",
       "        text-align: right;\n",
       "    }\n",
       "</style>\n",
       "<table border=\"1\" class=\"dataframe\">\n",
       "  <thead>\n",
       "    <tr style=\"text-align: right;\">\n",
       "      <th></th>\n",
       "      <th>Unnamed: 0</th>\n",
       "      <th>account_length</th>\n",
       "      <th>number_vmail_messages</th>\n",
       "      <th>total_day_minutes</th>\n",
       "      <th>total_day_calls</th>\n",
       "      <th>total_day_charge</th>\n",
       "      <th>total_eve_minutes</th>\n",
       "      <th>total_eve_calls</th>\n",
       "      <th>total_eve_charge</th>\n",
       "      <th>total_night_minutes</th>\n",
       "      <th>total_night_calls</th>\n",
       "      <th>total_night_charge</th>\n",
       "      <th>total_intl_minutes</th>\n",
       "      <th>total_intl_calls</th>\n",
       "      <th>total_intl_charge</th>\n",
       "      <th>number_customer_service_calls</th>\n",
       "    </tr>\n",
       "  </thead>\n",
       "  <tbody>\n",
       "    <tr>\n",
       "      <th>0</th>\n",
       "      <td>1</td>\n",
       "      <td>105.0</td>\n",
       "      <td>0.0</td>\n",
       "      <td>154.0</td>\n",
       "      <td>102.0</td>\n",
       "      <td>26.18</td>\n",
       "      <td>169.9</td>\n",
       "      <td>105.0</td>\n",
       "      <td>14.25</td>\n",
       "      <td>188.2</td>\n",
       "      <td>105.0</td>\n",
       "      <td>9.45</td>\n",
       "      <td>10.0</td>\n",
       "      <td>3.0</td>\n",
       "      <td>2.7</td>\n",
       "      <td>1.0</td>\n",
       "    </tr>\n",
       "    <tr>\n",
       "      <th>1</th>\n",
       "      <td>2</td>\n",
       "      <td>NaN</td>\n",
       "      <td>NaN</td>\n",
       "      <td>159.5</td>\n",
       "      <td>NaN</td>\n",
       "      <td>27.12</td>\n",
       "      <td>NaN</td>\n",
       "      <td>NaN</td>\n",
       "      <td>16.12</td>\n",
       "      <td>191.4</td>\n",
       "      <td>NaN</td>\n",
       "      <td>9.66</td>\n",
       "      <td>NaN</td>\n",
       "      <td>NaN</td>\n",
       "      <td>NaN</td>\n",
       "      <td>NaN</td>\n",
       "    </tr>\n",
       "    <tr>\n",
       "      <th>2</th>\n",
       "      <td>3</td>\n",
       "      <td>NaN</td>\n",
       "      <td>NaN</td>\n",
       "      <td>174.5</td>\n",
       "      <td>NaN</td>\n",
       "      <td>29.67</td>\n",
       "      <td>NaN</td>\n",
       "      <td>NaN</td>\n",
       "      <td>NaN</td>\n",
       "      <td>197.4</td>\n",
       "      <td>NaN</td>\n",
       "      <td>NaN</td>\n",
       "      <td>NaN</td>\n",
       "      <td>NaN</td>\n",
       "      <td>NaN</td>\n",
       "      <td>NaN</td>\n",
       "    </tr>\n",
       "    <tr>\n",
       "      <th>3</th>\n",
       "      <td>4</td>\n",
       "      <td>NaN</td>\n",
       "      <td>NaN</td>\n",
       "      <td>NaN</td>\n",
       "      <td>NaN</td>\n",
       "      <td>NaN</td>\n",
       "      <td>NaN</td>\n",
       "      <td>NaN</td>\n",
       "      <td>NaN</td>\n",
       "      <td>210.0</td>\n",
       "      <td>NaN</td>\n",
       "      <td>NaN</td>\n",
       "      <td>NaN</td>\n",
       "      <td>NaN</td>\n",
       "      <td>NaN</td>\n",
       "      <td>NaN</td>\n",
       "    </tr>\n",
       "  </tbody>\n",
       "</table>\n",
       "</div>"
      ],
      "text/plain": [
       "   Unnamed: 0  account_length  number_vmail_messages  total_day_minutes  \\\n",
       "0           1           105.0                    0.0              154.0   \n",
       "1           2             NaN                    NaN              159.5   \n",
       "2           3             NaN                    NaN              174.5   \n",
       "3           4             NaN                    NaN                NaN   \n",
       "\n",
       "   total_day_calls  total_day_charge  total_eve_minutes  total_eve_calls  \\\n",
       "0            102.0             26.18              169.9            105.0   \n",
       "1              NaN             27.12                NaN              NaN   \n",
       "2              NaN             29.67                NaN              NaN   \n",
       "3              NaN               NaN                NaN              NaN   \n",
       "\n",
       "   total_eve_charge  total_night_minutes  total_night_calls  \\\n",
       "0             14.25                188.2              105.0   \n",
       "1             16.12                191.4                NaN   \n",
       "2               NaN                197.4                NaN   \n",
       "3               NaN                210.0                NaN   \n",
       "\n",
       "   total_night_charge  total_intl_minutes  total_intl_calls  \\\n",
       "0                9.45                10.0               3.0   \n",
       "1                9.66                 NaN               NaN   \n",
       "2                 NaN                 NaN               NaN   \n",
       "3                 NaN                 NaN               NaN   \n",
       "\n",
       "   total_intl_charge  number_customer_service_calls  \n",
       "0                2.7                            1.0  \n",
       "1                NaN                            NaN  \n",
       "2                NaN                            NaN  \n",
       "3                NaN                            NaN  "
      ]
     },
     "execution_count": 15,
     "metadata": {},
     "output_type": "execute_result"
    }
   ],
   "source": [
    "#Moda (Valor mais comum , nota-se que algumas colunas possuem mais que uma moda)\n",
    "dfnum.mode().head(4)"
   ]
  },
  {
   "cell_type": "code",
   "execution_count": 16,
   "metadata": {},
   "outputs": [
    {
     "name": "stdout",
     "output_type": "stream",
     "text": [
      "243\n"
     ]
    },
    {
     "data": {
      "text/plain": [
       "1"
      ]
     },
     "execution_count": 16,
     "metadata": {},
     "output_type": "execute_result"
    }
   ],
   "source": [
    "#Maior e menor valor de uma coluna\n",
    "print(max(dfnum.account_length))\n",
    "min(dfnum.account_length)"
   ]
  },
  {
   "cell_type": "markdown",
   "metadata": {},
   "source": [
    "<h2>Explorando variaveis Categoricas"
   ]
  },
  {
   "cell_type": "code",
   "execution_count": 17,
   "metadata": {},
   "outputs": [
    {
     "data": {
      "text/plain": [
       "state                 object\n",
       "area_code             object\n",
       "international_plan    object\n",
       "voice_mail_plan       object\n",
       "churn                 object\n",
       "dtype: object"
      ]
     },
     "execution_count": 17,
     "metadata": {},
     "output_type": "execute_result"
    }
   ],
   "source": [
    "#Filtrar apenas dados Categoricos\n",
    "dfcateg=df.select_dtypes(exclude=['int64','float'])\n",
    "dfcateg.dtypes"
   ]
  },
  {
   "cell_type": "markdown",
   "metadata": {},
   "source": [
    "<h2>Engenharia de Atributos(Transformar Variaveis Object em Categoricas ou em Numericas)"
   ]
  },
  {
   "cell_type": "code",
   "execution_count": 18,
   "metadata": {},
   "outputs": [
    {
     "name": "stderr",
     "output_type": "stream",
     "text": [
      "<ipython-input-18-f3be0686deb8>:4: SettingWithCopyWarning: \n",
      "A value is trying to be set on a copy of a slice from a DataFrame.\n",
      "Try using .loc[row_indexer,col_indexer] = value instead\n",
      "\n",
      "See the caveats in the documentation: https://pandas.pydata.org/pandas-docs/stable/user_guide/indexing.html#returning-a-view-versus-a-copy\n",
      "  dfcateg[\"state\"] = encoder.fit_transform(dfcateg[[\"state\"]]).astype(int)\n",
      "<ipython-input-18-f3be0686deb8>:5: SettingWithCopyWarning: \n",
      "A value is trying to be set on a copy of a slice from a DataFrame.\n",
      "Try using .loc[row_indexer,col_indexer] = value instead\n",
      "\n",
      "See the caveats in the documentation: https://pandas.pydata.org/pandas-docs/stable/user_guide/indexing.html#returning-a-view-versus-a-copy\n",
      "  dfcateg[\"area_code\"] = encoder.fit_transform(dfcateg[[\"area_code\"]]).astype(int)\n",
      "<ipython-input-18-f3be0686deb8>:6: SettingWithCopyWarning: \n",
      "A value is trying to be set on a copy of a slice from a DataFrame.\n",
      "Try using .loc[row_indexer,col_indexer] = value instead\n",
      "\n",
      "See the caveats in the documentation: https://pandas.pydata.org/pandas-docs/stable/user_guide/indexing.html#returning-a-view-versus-a-copy\n",
      "  dfcateg[\"international_plan\"] = encoder.fit_transform(dfcateg[[\"international_plan\"]]).astype(int)\n",
      "<ipython-input-18-f3be0686deb8>:7: SettingWithCopyWarning: \n",
      "A value is trying to be set on a copy of a slice from a DataFrame.\n",
      "Try using .loc[row_indexer,col_indexer] = value instead\n",
      "\n",
      "See the caveats in the documentation: https://pandas.pydata.org/pandas-docs/stable/user_guide/indexing.html#returning-a-view-versus-a-copy\n",
      "  dfcateg[\"voice_mail_plan\"] = encoder.fit_transform(dfcateg[[\"voice_mail_plan\"]]).astype(int)\n",
      "<ipython-input-18-f3be0686deb8>:8: SettingWithCopyWarning: \n",
      "A value is trying to be set on a copy of a slice from a DataFrame.\n",
      "Try using .loc[row_indexer,col_indexer] = value instead\n",
      "\n",
      "See the caveats in the documentation: https://pandas.pydata.org/pandas-docs/stable/user_guide/indexing.html#returning-a-view-versus-a-copy\n",
      "  dfcateg[\"churn\"] = encoder.fit_transform(dfcateg[[\"churn\"]]).astype(int)\n"
     ]
    },
    {
     "data": {
      "text/plain": [
       "state                 int32\n",
       "area_code             int32\n",
       "international_plan    int32\n",
       "voice_mail_plan       int32\n",
       "churn                 int32\n",
       "dtype: object"
      ]
     },
     "execution_count": 18,
     "metadata": {},
     "output_type": "execute_result"
    }
   ],
   "source": [
    "# Aplicar One-Hot-Encoder nas variaveis Object\n",
    "from sklearn.preprocessing import OrdinalEncoder\n",
    "encoder = OrdinalEncoder()\n",
    "dfcateg[\"state\"] = encoder.fit_transform(dfcateg[[\"state\"]]).astype(int)\n",
    "dfcateg[\"area_code\"] = encoder.fit_transform(dfcateg[[\"area_code\"]]).astype(int)\n",
    "dfcateg[\"international_plan\"] = encoder.fit_transform(dfcateg[[\"international_plan\"]]).astype(int)\n",
    "dfcateg[\"voice_mail_plan\"] = encoder.fit_transform(dfcateg[[\"voice_mail_plan\"]]).astype(int)\n",
    "dfcateg[\"churn\"] = encoder.fit_transform(dfcateg[[\"churn\"]]).astype(int)\n",
    "dfcateg.dtypes\n",
    "\n"
   ]
  },
  {
   "cell_type": "code",
   "execution_count": 19,
   "metadata": {},
   "outputs": [
    {
     "data": {
      "text/html": [
       "<div>\n",
       "<style scoped>\n",
       "    .dataframe tbody tr th:only-of-type {\n",
       "        vertical-align: middle;\n",
       "    }\n",
       "\n",
       "    .dataframe tbody tr th {\n",
       "        vertical-align: top;\n",
       "    }\n",
       "\n",
       "    .dataframe thead th {\n",
       "        text-align: right;\n",
       "    }\n",
       "</style>\n",
       "<table border=\"1\" class=\"dataframe\">\n",
       "  <thead>\n",
       "    <tr style=\"text-align: right;\">\n",
       "      <th></th>\n",
       "      <th>state</th>\n",
       "      <th>area_code</th>\n",
       "      <th>international_plan</th>\n",
       "      <th>voice_mail_plan</th>\n",
       "      <th>churn</th>\n",
       "    </tr>\n",
       "  </thead>\n",
       "  <tbody>\n",
       "    <tr>\n",
       "      <th>0</th>\n",
       "      <td>16</td>\n",
       "      <td>1</td>\n",
       "      <td>0</td>\n",
       "      <td>1</td>\n",
       "      <td>0</td>\n",
       "    </tr>\n",
       "    <tr>\n",
       "      <th>1</th>\n",
       "      <td>35</td>\n",
       "      <td>1</td>\n",
       "      <td>0</td>\n",
       "      <td>1</td>\n",
       "      <td>0</td>\n",
       "    </tr>\n",
       "    <tr>\n",
       "      <th>2</th>\n",
       "      <td>31</td>\n",
       "      <td>1</td>\n",
       "      <td>0</td>\n",
       "      <td>0</td>\n",
       "      <td>0</td>\n",
       "    </tr>\n",
       "  </tbody>\n",
       "</table>\n",
       "</div>"
      ],
      "text/plain": [
       "   state  area_code  international_plan  voice_mail_plan  churn\n",
       "0     16          1                   0                1      0\n",
       "1     35          1                   0                1      0\n",
       "2     31          1                   0                0      0"
      ]
     },
     "execution_count": 19,
     "metadata": {},
     "output_type": "execute_result"
    }
   ],
   "source": [
    "dfcateg.head(3)\n"
   ]
  },
  {
   "cell_type": "markdown",
   "metadata": {},
   "source": [
    "## Juntar as variaveis Numericas e Categoricas(dfcateg , dfnum)"
   ]
  },
  {
   "cell_type": "code",
   "execution_count": 20,
   "metadata": {},
   "outputs": [
    {
     "name": "stdout",
     "output_type": "stream",
     "text": [
      "3333\n"
     ]
    },
    {
     "data": {
      "text/plain": [
       "3333"
      ]
     },
     "execution_count": 20,
     "metadata": {},
     "output_type": "execute_result"
    }
   ],
   "source": [
    "#Verificar se tem o mesmo numero de linhas\n",
    "print(len(dfcateg))\n",
    "len(dfnum)"
   ]
  },
  {
   "cell_type": "code",
   "execution_count": 21,
   "metadata": {},
   "outputs": [],
   "source": [
    "#Transformar indice em Coluna para fazer o merge entre as colunas\n",
    "a=dfcateg.reset_index()\n",
    "b=dfnum.reset_index()"
   ]
  },
  {
   "cell_type": "code",
   "execution_count": 22,
   "metadata": {},
   "outputs": [
    {
     "data": {
      "text/html": [
       "<div>\n",
       "<style scoped>\n",
       "    .dataframe tbody tr th:only-of-type {\n",
       "        vertical-align: middle;\n",
       "    }\n",
       "\n",
       "    .dataframe tbody tr th {\n",
       "        vertical-align: top;\n",
       "    }\n",
       "\n",
       "    .dataframe thead th {\n",
       "        text-align: right;\n",
       "    }\n",
       "</style>\n",
       "<table border=\"1\" class=\"dataframe\">\n",
       "  <thead>\n",
       "    <tr style=\"text-align: right;\">\n",
       "      <th></th>\n",
       "      <th>account_length</th>\n",
       "      <th>number_vmail_messages</th>\n",
       "      <th>total_day_minutes</th>\n",
       "      <th>total_day_calls</th>\n",
       "      <th>total_day_charge</th>\n",
       "      <th>total_eve_minutes</th>\n",
       "      <th>total_eve_calls</th>\n",
       "      <th>total_eve_charge</th>\n",
       "      <th>total_night_minutes</th>\n",
       "      <th>total_night_calls</th>\n",
       "      <th>total_night_charge</th>\n",
       "      <th>total_intl_minutes</th>\n",
       "      <th>total_intl_calls</th>\n",
       "      <th>total_intl_charge</th>\n",
       "      <th>number_customer_service_calls</th>\n",
       "      <th>state</th>\n",
       "      <th>area_code</th>\n",
       "      <th>international_plan</th>\n",
       "      <th>voice_mail_plan</th>\n",
       "      <th>churn</th>\n",
       "    </tr>\n",
       "  </thead>\n",
       "  <tbody>\n",
       "    <tr>\n",
       "      <th>0</th>\n",
       "      <td>128</td>\n",
       "      <td>25</td>\n",
       "      <td>265.1</td>\n",
       "      <td>110</td>\n",
       "      <td>45.07</td>\n",
       "      <td>197.4</td>\n",
       "      <td>99</td>\n",
       "      <td>16.78</td>\n",
       "      <td>244.7</td>\n",
       "      <td>91</td>\n",
       "      <td>11.01</td>\n",
       "      <td>10.0</td>\n",
       "      <td>3</td>\n",
       "      <td>2.7</td>\n",
       "      <td>1</td>\n",
       "      <td>16</td>\n",
       "      <td>1</td>\n",
       "      <td>0</td>\n",
       "      <td>1</td>\n",
       "      <td>0</td>\n",
       "    </tr>\n",
       "    <tr>\n",
       "      <th>1</th>\n",
       "      <td>107</td>\n",
       "      <td>26</td>\n",
       "      <td>161.6</td>\n",
       "      <td>123</td>\n",
       "      <td>27.47</td>\n",
       "      <td>195.5</td>\n",
       "      <td>103</td>\n",
       "      <td>16.62</td>\n",
       "      <td>254.4</td>\n",
       "      <td>103</td>\n",
       "      <td>11.45</td>\n",
       "      <td>13.7</td>\n",
       "      <td>3</td>\n",
       "      <td>3.7</td>\n",
       "      <td>1</td>\n",
       "      <td>35</td>\n",
       "      <td>1</td>\n",
       "      <td>0</td>\n",
       "      <td>1</td>\n",
       "      <td>0</td>\n",
       "    </tr>\n",
       "  </tbody>\n",
       "</table>\n",
       "</div>"
      ],
      "text/plain": [
       "   account_length  number_vmail_messages  total_day_minutes  total_day_calls  \\\n",
       "0             128                     25              265.1              110   \n",
       "1             107                     26              161.6              123   \n",
       "\n",
       "   total_day_charge  total_eve_minutes  total_eve_calls  total_eve_charge  \\\n",
       "0             45.07              197.4               99             16.78   \n",
       "1             27.47              195.5              103             16.62   \n",
       "\n",
       "   total_night_minutes  total_night_calls  total_night_charge  \\\n",
       "0                244.7                 91               11.01   \n",
       "1                254.4                103               11.45   \n",
       "\n",
       "   total_intl_minutes  total_intl_calls  total_intl_charge  \\\n",
       "0                10.0                 3                2.7   \n",
       "1                13.7                 3                3.7   \n",
       "\n",
       "   number_customer_service_calls  state  area_code  international_plan  \\\n",
       "0                              1     16          1                   0   \n",
       "1                              1     35          1                   0   \n",
       "\n",
       "   voice_mail_plan  churn  \n",
       "0                1      0  \n",
       "1                1      0  "
      ]
     },
     "execution_count": 22,
     "metadata": {},
     "output_type": "execute_result"
    }
   ],
   "source": [
    "#Unindo os 2 Dataframes pela coluna index\n",
    "df1=pd.merge(b, a, on='index')\n",
    "#Excluir a coluna Unnamed: 0 e index\n",
    "df1=df1.drop('Unnamed: 0', axis = 1)\n",
    "df1=df1.drop('index', axis = 1)\n",
    "df1.head(2)"
   ]
  },
  {
   "cell_type": "code",
   "execution_count": 23,
   "metadata": {},
   "outputs": [
    {
     "data": {
      "text/plain": [
       "account_length                     int64\n",
       "number_vmail_messages              int64\n",
       "total_day_minutes                float64\n",
       "total_day_calls                    int64\n",
       "total_day_charge                 float64\n",
       "total_eve_minutes                float64\n",
       "total_eve_calls                    int64\n",
       "total_eve_charge                 float64\n",
       "total_night_minutes              float64\n",
       "total_night_calls                  int64\n",
       "total_night_charge               float64\n",
       "total_intl_minutes               float64\n",
       "total_intl_calls                   int64\n",
       "total_intl_charge                float64\n",
       "number_customer_service_calls      int64\n",
       "state                              int32\n",
       "area_code                          int32\n",
       "international_plan                 int32\n",
       "voice_mail_plan                    int32\n",
       "churn                              int32\n",
       "dtype: object"
      ]
     },
     "execution_count": 23,
     "metadata": {},
     "output_type": "execute_result"
    }
   ],
   "source": [
    "#Verificar os tipos de dados\n",
    "df1.dtypes"
   ]
  },
  {
   "cell_type": "code",
   "execution_count": 24,
   "metadata": {},
   "outputs": [
    {
     "data": {
      "text/plain": [
       "account_length                   0\n",
       "number_vmail_messages            0\n",
       "total_day_minutes                0\n",
       "total_day_calls                  0\n",
       "total_day_charge                 0\n",
       "total_eve_minutes                0\n",
       "total_eve_calls                  0\n",
       "total_eve_charge                 0\n",
       "total_night_minutes              0\n",
       "total_night_calls                0\n",
       "total_night_charge               0\n",
       "total_intl_minutes               0\n",
       "total_intl_calls                 0\n",
       "total_intl_charge                0\n",
       "number_customer_service_calls    0\n",
       "state                            0\n",
       "area_code                        0\n",
       "international_plan               0\n",
       "voice_mail_plan                  0\n",
       "churn                            0\n",
       "dtype: int64"
      ]
     },
     "execution_count": 24,
     "metadata": {},
     "output_type": "execute_result"
    }
   ],
   "source": [
    "#Verificar se ficou algum dado missing\n",
    "df1.isnull().sum()"
   ]
  },
  {
   "cell_type": "markdown",
   "metadata": {},
   "source": [
    "## Estatistica"
   ]
  },
  {
   "cell_type": "markdown",
   "metadata": {},
   "source": [
    "<h2>Analise Descritiva"
   ]
  },
  {
   "cell_type": "code",
   "execution_count": 25,
   "metadata": {},
   "outputs": [],
   "source": [
    "#Agrupara a variavel Target e verificar a estatitica das outras variaveis em relaçao a ela\n",
    "group = df1.groupby(\"churn\")"
   ]
  },
  {
   "cell_type": "code",
   "execution_count": 26,
   "metadata": {},
   "outputs": [
    {
     "data": {
      "text/html": [
       "<div>\n",
       "<style scoped>\n",
       "    .dataframe tbody tr th:only-of-type {\n",
       "        vertical-align: middle;\n",
       "    }\n",
       "\n",
       "    .dataframe tbody tr th {\n",
       "        vertical-align: top;\n",
       "    }\n",
       "\n",
       "    .dataframe thead th {\n",
       "        text-align: right;\n",
       "    }\n",
       "</style>\n",
       "<table border=\"1\" class=\"dataframe\">\n",
       "  <thead>\n",
       "    <tr style=\"text-align: right;\">\n",
       "      <th></th>\n",
       "      <th>account_length</th>\n",
       "      <th>number_vmail_messages</th>\n",
       "      <th>total_day_minutes</th>\n",
       "      <th>total_day_calls</th>\n",
       "      <th>total_day_charge</th>\n",
       "      <th>total_eve_minutes</th>\n",
       "      <th>total_eve_calls</th>\n",
       "      <th>total_eve_charge</th>\n",
       "      <th>total_night_minutes</th>\n",
       "      <th>total_night_calls</th>\n",
       "      <th>total_night_charge</th>\n",
       "      <th>total_intl_minutes</th>\n",
       "      <th>total_intl_calls</th>\n",
       "      <th>total_intl_charge</th>\n",
       "      <th>number_customer_service_calls</th>\n",
       "      <th>state</th>\n",
       "      <th>area_code</th>\n",
       "      <th>international_plan</th>\n",
       "      <th>voice_mail_plan</th>\n",
       "    </tr>\n",
       "    <tr>\n",
       "      <th>churn</th>\n",
       "      <th></th>\n",
       "      <th></th>\n",
       "      <th></th>\n",
       "      <th></th>\n",
       "      <th></th>\n",
       "      <th></th>\n",
       "      <th></th>\n",
       "      <th></th>\n",
       "      <th></th>\n",
       "      <th></th>\n",
       "      <th></th>\n",
       "      <th></th>\n",
       "      <th></th>\n",
       "      <th></th>\n",
       "      <th></th>\n",
       "      <th></th>\n",
       "      <th></th>\n",
       "      <th></th>\n",
       "      <th></th>\n",
       "    </tr>\n",
       "  </thead>\n",
       "  <tbody>\n",
       "    <tr>\n",
       "      <th>0</th>\n",
       "      <td>100.793684</td>\n",
       "      <td>8.604561</td>\n",
       "      <td>175.175754</td>\n",
       "      <td>100.283158</td>\n",
       "      <td>29.780421</td>\n",
       "      <td>199.043298</td>\n",
       "      <td>100.038596</td>\n",
       "      <td>16.918909</td>\n",
       "      <td>200.133193</td>\n",
       "      <td>100.058246</td>\n",
       "      <td>9.006074</td>\n",
       "      <td>10.158877</td>\n",
       "      <td>4.532982</td>\n",
       "      <td>2.743404</td>\n",
       "      <td>1.449825</td>\n",
       "      <td>26.011930</td>\n",
       "      <td>0.999649</td>\n",
       "      <td>0.065263</td>\n",
       "      <td>0.295439</td>\n",
       "    </tr>\n",
       "    <tr>\n",
       "      <th>1</th>\n",
       "      <td>102.664596</td>\n",
       "      <td>5.115942</td>\n",
       "      <td>206.914079</td>\n",
       "      <td>101.335404</td>\n",
       "      <td>35.175921</td>\n",
       "      <td>212.410145</td>\n",
       "      <td>100.561077</td>\n",
       "      <td>18.054969</td>\n",
       "      <td>205.231677</td>\n",
       "      <td>100.399586</td>\n",
       "      <td>9.235528</td>\n",
       "      <td>10.700000</td>\n",
       "      <td>4.163561</td>\n",
       "      <td>2.889545</td>\n",
       "      <td>2.229814</td>\n",
       "      <td>26.339545</td>\n",
       "      <td>1.006211</td>\n",
       "      <td>0.283644</td>\n",
       "      <td>0.165631</td>\n",
       "    </tr>\n",
       "  </tbody>\n",
       "</table>\n",
       "</div>"
      ],
      "text/plain": [
       "       account_length  number_vmail_messages  total_day_minutes  \\\n",
       "churn                                                             \n",
       "0          100.793684               8.604561         175.175754   \n",
       "1          102.664596               5.115942         206.914079   \n",
       "\n",
       "       total_day_calls  total_day_charge  total_eve_minutes  total_eve_calls  \\\n",
       "churn                                                                          \n",
       "0           100.283158         29.780421         199.043298       100.038596   \n",
       "1           101.335404         35.175921         212.410145       100.561077   \n",
       "\n",
       "       total_eve_charge  total_night_minutes  total_night_calls  \\\n",
       "churn                                                             \n",
       "0             16.918909           200.133193         100.058246   \n",
       "1             18.054969           205.231677         100.399586   \n",
       "\n",
       "       total_night_charge  total_intl_minutes  total_intl_calls  \\\n",
       "churn                                                             \n",
       "0                9.006074           10.158877          4.532982   \n",
       "1                9.235528           10.700000          4.163561   \n",
       "\n",
       "       total_intl_charge  number_customer_service_calls      state  area_code  \\\n",
       "churn                                                                           \n",
       "0               2.743404                       1.449825  26.011930   0.999649   \n",
       "1               2.889545                       2.229814  26.339545   1.006211   \n",
       "\n",
       "       international_plan  voice_mail_plan  \n",
       "churn                                       \n",
       "0                0.065263         0.295439  \n",
       "1                0.283644         0.165631  "
      ]
     },
     "execution_count": 26,
     "metadata": {},
     "output_type": "execute_result"
    }
   ],
   "source": [
    "#Media\n",
    "group.mean()"
   ]
  },
  {
   "cell_type": "code",
   "execution_count": 27,
   "metadata": {},
   "outputs": [
    {
     "data": {
      "text/html": [
       "<div>\n",
       "<style scoped>\n",
       "    .dataframe tbody tr th:only-of-type {\n",
       "        vertical-align: middle;\n",
       "    }\n",
       "\n",
       "    .dataframe tbody tr th {\n",
       "        vertical-align: top;\n",
       "    }\n",
       "\n",
       "    .dataframe thead th {\n",
       "        text-align: right;\n",
       "    }\n",
       "</style>\n",
       "<table border=\"1\" class=\"dataframe\">\n",
       "  <thead>\n",
       "    <tr style=\"text-align: right;\">\n",
       "      <th></th>\n",
       "      <th>account_length</th>\n",
       "      <th>number_vmail_messages</th>\n",
       "      <th>total_day_minutes</th>\n",
       "      <th>total_day_calls</th>\n",
       "      <th>total_day_charge</th>\n",
       "      <th>total_eve_minutes</th>\n",
       "      <th>total_eve_calls</th>\n",
       "      <th>total_eve_charge</th>\n",
       "      <th>total_night_minutes</th>\n",
       "      <th>total_night_calls</th>\n",
       "      <th>total_night_charge</th>\n",
       "      <th>total_intl_minutes</th>\n",
       "      <th>total_intl_calls</th>\n",
       "      <th>total_intl_charge</th>\n",
       "      <th>number_customer_service_calls</th>\n",
       "      <th>state</th>\n",
       "      <th>area_code</th>\n",
       "      <th>international_plan</th>\n",
       "      <th>voice_mail_plan</th>\n",
       "    </tr>\n",
       "    <tr>\n",
       "      <th>churn</th>\n",
       "      <th></th>\n",
       "      <th></th>\n",
       "      <th></th>\n",
       "      <th></th>\n",
       "      <th></th>\n",
       "      <th></th>\n",
       "      <th></th>\n",
       "      <th></th>\n",
       "      <th></th>\n",
       "      <th></th>\n",
       "      <th></th>\n",
       "      <th></th>\n",
       "      <th></th>\n",
       "      <th></th>\n",
       "      <th></th>\n",
       "      <th></th>\n",
       "      <th></th>\n",
       "      <th></th>\n",
       "      <th></th>\n",
       "    </tr>\n",
       "  </thead>\n",
       "  <tbody>\n",
       "    <tr>\n",
       "      <th>0</th>\n",
       "      <td>287262</td>\n",
       "      <td>24523</td>\n",
       "      <td>499250.9</td>\n",
       "      <td>285807</td>\n",
       "      <td>84874.20</td>\n",
       "      <td>567273.4</td>\n",
       "      <td>285110</td>\n",
       "      <td>48218.89</td>\n",
       "      <td>570379.6</td>\n",
       "      <td>285166</td>\n",
       "      <td>25667.31</td>\n",
       "      <td>28952.8</td>\n",
       "      <td>12919</td>\n",
       "      <td>7818.70</td>\n",
       "      <td>4132</td>\n",
       "      <td>74134</td>\n",
       "      <td>2849</td>\n",
       "      <td>186</td>\n",
       "      <td>842</td>\n",
       "    </tr>\n",
       "    <tr>\n",
       "      <th>1</th>\n",
       "      <td>49587</td>\n",
       "      <td>2471</td>\n",
       "      <td>99939.5</td>\n",
       "      <td>48945</td>\n",
       "      <td>16989.97</td>\n",
       "      <td>102594.1</td>\n",
       "      <td>48571</td>\n",
       "      <td>8720.55</td>\n",
       "      <td>99126.9</td>\n",
       "      <td>48493</td>\n",
       "      <td>4460.76</td>\n",
       "      <td>5168.1</td>\n",
       "      <td>2011</td>\n",
       "      <td>1395.65</td>\n",
       "      <td>1077</td>\n",
       "      <td>12722</td>\n",
       "      <td>486</td>\n",
       "      <td>137</td>\n",
       "      <td>80</td>\n",
       "    </tr>\n",
       "  </tbody>\n",
       "</table>\n",
       "</div>"
      ],
      "text/plain": [
       "       account_length  number_vmail_messages  total_day_minutes  \\\n",
       "churn                                                             \n",
       "0              287262                  24523           499250.9   \n",
       "1               49587                   2471            99939.5   \n",
       "\n",
       "       total_day_calls  total_day_charge  total_eve_minutes  total_eve_calls  \\\n",
       "churn                                                                          \n",
       "0               285807          84874.20           567273.4           285110   \n",
       "1                48945          16989.97           102594.1            48571   \n",
       "\n",
       "       total_eve_charge  total_night_minutes  total_night_calls  \\\n",
       "churn                                                             \n",
       "0              48218.89             570379.6             285166   \n",
       "1               8720.55              99126.9              48493   \n",
       "\n",
       "       total_night_charge  total_intl_minutes  total_intl_calls  \\\n",
       "churn                                                             \n",
       "0                25667.31             28952.8             12919   \n",
       "1                 4460.76              5168.1              2011   \n",
       "\n",
       "       total_intl_charge  number_customer_service_calls  state  area_code  \\\n",
       "churn                                                                       \n",
       "0                7818.70                           4132  74134       2849   \n",
       "1                1395.65                           1077  12722        486   \n",
       "\n",
       "       international_plan  voice_mail_plan  \n",
       "churn                                       \n",
       "0                     186              842  \n",
       "1                     137               80  "
      ]
     },
     "execution_count": 27,
     "metadata": {},
     "output_type": "execute_result"
    }
   ],
   "source": [
    "#Soma\n",
    "group.sum()"
   ]
  },
  {
   "cell_type": "code",
   "execution_count": 28,
   "metadata": {},
   "outputs": [
    {
     "data": {
      "text/html": [
       "<div>\n",
       "<style scoped>\n",
       "    .dataframe tbody tr th:only-of-type {\n",
       "        vertical-align: middle;\n",
       "    }\n",
       "\n",
       "    .dataframe tbody tr th {\n",
       "        vertical-align: top;\n",
       "    }\n",
       "\n",
       "    .dataframe thead th {\n",
       "        text-align: right;\n",
       "    }\n",
       "</style>\n",
       "<table border=\"1\" class=\"dataframe\">\n",
       "  <thead>\n",
       "    <tr style=\"text-align: right;\">\n",
       "      <th></th>\n",
       "      <th>count</th>\n",
       "      <th>mean</th>\n",
       "      <th>std</th>\n",
       "      <th>min</th>\n",
       "      <th>25%</th>\n",
       "      <th>50%</th>\n",
       "      <th>75%</th>\n",
       "      <th>max</th>\n",
       "    </tr>\n",
       "    <tr>\n",
       "      <th>churn</th>\n",
       "      <th></th>\n",
       "      <th></th>\n",
       "      <th></th>\n",
       "      <th></th>\n",
       "      <th></th>\n",
       "      <th></th>\n",
       "      <th></th>\n",
       "      <th></th>\n",
       "    </tr>\n",
       "  </thead>\n",
       "  <tbody>\n",
       "    <tr>\n",
       "      <th>0</th>\n",
       "      <td>2850.0</td>\n",
       "      <td>100.793684</td>\n",
       "      <td>39.88235</td>\n",
       "      <td>1.0</td>\n",
       "      <td>73.0</td>\n",
       "      <td>100.0</td>\n",
       "      <td>127.0</td>\n",
       "      <td>243.0</td>\n",
       "    </tr>\n",
       "    <tr>\n",
       "      <th>1</th>\n",
       "      <td>483.0</td>\n",
       "      <td>102.664596</td>\n",
       "      <td>39.46782</td>\n",
       "      <td>1.0</td>\n",
       "      <td>76.0</td>\n",
       "      <td>103.0</td>\n",
       "      <td>127.0</td>\n",
       "      <td>225.0</td>\n",
       "    </tr>\n",
       "  </tbody>\n",
       "</table>\n",
       "</div>"
      ],
      "text/plain": [
       "        count        mean       std  min   25%    50%    75%    max\n",
       "churn                                                              \n",
       "0      2850.0  100.793684  39.88235  1.0  73.0  100.0  127.0  243.0\n",
       "1       483.0  102.664596  39.46782  1.0  76.0  103.0  127.0  225.0"
      ]
     },
     "execution_count": 28,
     "metadata": {},
     "output_type": "execute_result"
    }
   ],
   "source": [
    "#Descrever a estatitica dos Dados\n",
    "group.account_length.describe()"
   ]
  },
  {
   "cell_type": "markdown",
   "metadata": {},
   "source": [
    "<h2> Correlaçao"
   ]
  },
  {
   "cell_type": "code",
   "execution_count": 29,
   "metadata": {},
   "outputs": [
    {
     "data": {
      "image/png": "[encoded data removed]",
      "text/plain": [
       "<Figure size 432x288 with 2 Axes>"
      ]
     },
     "metadata": {
      "needs_background": "light"
     },
     "output_type": "display_data"
    }
   ],
   "source": [
    "import seaborn as sns\n",
    "# Identificando a correlação entre as variáveis\n",
    "# Correlação não implica causalidade\n",
    "plot = sns.heatmap(df1.corr(), annot = True, fmt=\".1f\", linewidths=-4)\n",
    "sns.set(rc={'figure.figsize':(20,18.27)})\n",
    "#Podemos Notar que alguma Colunas sao Identicas"
   ]
  },
  {
   "cell_type": "code",
   "execution_count": 30,
   "metadata": {},
   "outputs": [],
   "source": [
    "# Excluindo as variaveis Identicas\n",
    "df1=df1.drop('number_vmail_messages', axis = 1)\n",
    "df1=df1.drop('total_day_minutes', axis = 1)\n",
    "df1=df1.drop('total_night_minutes', axis = 1)\n",
    "df1=df1.drop('total_eve_minutes', axis = 1)\n",
    "df1=df1.drop('total_intl_minutes', axis = 1)\n",
    "\n"
   ]
  },
  {
   "cell_type": "code",
   "execution_count": 31,
   "metadata": {},
   "outputs": [
    {
     "data": {
      "image/png": "[encoded data removed]",
      "text/plain": [
       "<Figure size 1440x1315.44 with 2 Axes>"
      ]
     },
     "metadata": {},
     "output_type": "display_data"
    }
   ],
   "source": [
    "#Verificar a correlaçao sem as variaveis identicas\n",
    "plot = sns.heatmap(df1.corr(), annot = True, fmt=\".1f\", linewidths=-4)\n",
    "sns.set(rc={'figure.figsize':(10,10.27)})"
   ]
  },
  {
   "cell_type": "code",
   "execution_count": 32,
   "metadata": {},
   "outputs": [
    {
     "data": {
      "text/html": [
       "<div>\n",
       "<style scoped>\n",
       "    .dataframe tbody tr th:only-of-type {\n",
       "        vertical-align: middle;\n",
       "    }\n",
       "\n",
       "    .dataframe tbody tr th {\n",
       "        vertical-align: top;\n",
       "    }\n",
       "\n",
       "    .dataframe thead th {\n",
       "        text-align: right;\n",
       "    }\n",
       "</style>\n",
       "<table border=\"1\" class=\"dataframe\">\n",
       "  <thead>\n",
       "    <tr style=\"text-align: right;\">\n",
       "      <th></th>\n",
       "      <th>account_length</th>\n",
       "      <th>total_day_calls</th>\n",
       "      <th>total_day_charge</th>\n",
       "      <th>total_eve_calls</th>\n",
       "      <th>total_eve_charge</th>\n",
       "      <th>total_night_calls</th>\n",
       "      <th>total_night_charge</th>\n",
       "      <th>total_intl_calls</th>\n",
       "      <th>total_intl_charge</th>\n",
       "      <th>number_customer_service_calls</th>\n",
       "      <th>state</th>\n",
       "      <th>area_code</th>\n",
       "      <th>international_plan</th>\n",
       "      <th>voice_mail_plan</th>\n",
       "      <th>churn</th>\n",
       "    </tr>\n",
       "  </thead>\n",
       "  <tbody>\n",
       "    <tr>\n",
       "      <th>total_day_charge</th>\n",
       "      <td>0.017884</td>\n",
       "      <td>0.009391</td>\n",
       "      <td>1.000000</td>\n",
       "      <td>0.017867</td>\n",
       "      <td>0.006391</td>\n",
       "      <td>0.023052</td>\n",
       "      <td>-0.005730</td>\n",
       "      <td>-0.000291</td>\n",
       "      <td>-0.016110</td>\n",
       "      <td>-0.015032</td>\n",
       "      <td>-0.005951</td>\n",
       "      <td>0.008327</td>\n",
       "      <td>0.049604</td>\n",
       "      <td>0.002989</td>\n",
       "      <td>0.170677</td>\n",
       "    </tr>\n",
       "    <tr>\n",
       "      <th>number_customer_service_calls</th>\n",
       "      <td>-0.005942</td>\n",
       "      <td>-0.020957</td>\n",
       "      <td>-0.015032</td>\n",
       "      <td>0.002697</td>\n",
       "      <td>-0.017800</td>\n",
       "      <td>-0.008087</td>\n",
       "      <td>-0.012709</td>\n",
       "      <td>-0.000598</td>\n",
       "      <td>-0.017374</td>\n",
       "      <td>1.000000</td>\n",
       "      <td>-0.020956</td>\n",
       "      <td>0.031850</td>\n",
       "      <td>-0.030328</td>\n",
       "      <td>-0.022156</td>\n",
       "      <td>0.136657</td>\n",
       "    </tr>\n",
       "    <tr>\n",
       "      <th>international_plan</th>\n",
       "      <td>0.029538</td>\n",
       "      <td>0.013043</td>\n",
       "      <td>0.049604</td>\n",
       "      <td>0.004413</td>\n",
       "      <td>0.010417</td>\n",
       "      <td>0.009285</td>\n",
       "      <td>-0.032380</td>\n",
       "      <td>0.007968</td>\n",
       "      <td>0.043836</td>\n",
       "      <td>-0.030328</td>\n",
       "      <td>-0.004653</td>\n",
       "      <td>0.044039</td>\n",
       "      <td>1.000000</td>\n",
       "      <td>0.006006</td>\n",
       "      <td>0.259852</td>\n",
       "    </tr>\n",
       "    <tr>\n",
       "      <th>churn</th>\n",
       "      <td>0.015583</td>\n",
       "      <td>0.026311</td>\n",
       "      <td>0.170677</td>\n",
       "      <td>0.008578</td>\n",
       "      <td>0.088580</td>\n",
       "      <td>0.004694</td>\n",
       "      <td>0.034353</td>\n",
       "      <td>-0.074758</td>\n",
       "      <td>0.060850</td>\n",
       "      <td>0.136657</td>\n",
       "      <td>0.006353</td>\n",
       "      <td>0.003257</td>\n",
       "      <td>0.259852</td>\n",
       "      <td>-0.102148</td>\n",
       "      <td>1.000000</td>\n",
       "    </tr>\n",
       "  </tbody>\n",
       "</table>\n",
       "</div>"
      ],
      "text/plain": [
       "                               account_length  total_day_calls  \\\n",
       "total_day_charge                     0.017884         0.009391   \n",
       "number_customer_service_calls       -0.005942        -0.020957   \n",
       "international_plan                   0.029538         0.013043   \n",
       "churn                                0.015583         0.026311   \n",
       "\n",
       "                               total_day_charge  total_eve_calls  \\\n",
       "total_day_charge                       1.000000         0.017867   \n",
       "number_customer_service_calls         -0.015032         0.002697   \n",
       "international_plan                     0.049604         0.004413   \n",
       "churn                                  0.170677         0.008578   \n",
       "\n",
       "                               total_eve_charge  total_night_calls  \\\n",
       "total_day_charge                       0.006391           0.023052   \n",
       "number_customer_service_calls         -0.017800          -0.008087   \n",
       "international_plan                     0.010417           0.009285   \n",
       "churn                                  0.088580           0.004694   \n",
       "\n",
       "                               total_night_charge  total_intl_calls  \\\n",
       "total_day_charge                        -0.005730         -0.000291   \n",
       "number_customer_service_calls           -0.012709         -0.000598   \n",
       "international_plan                      -0.032380          0.007968   \n",
       "churn                                    0.034353         -0.074758   \n",
       "\n",
       "                               total_intl_charge  \\\n",
       "total_day_charge                       -0.016110   \n",
       "number_customer_service_calls          -0.017374   \n",
       "international_plan                      0.043836   \n",
       "churn                                   0.060850   \n",
       "\n",
       "                               number_customer_service_calls     state  \\\n",
       "total_day_charge                                   -0.015032 -0.005951   \n",
       "number_customer_service_calls                       1.000000 -0.020956   \n",
       "international_plan                                 -0.030328 -0.004653   \n",
       "churn                                               0.136657  0.006353   \n",
       "\n",
       "                               area_code  international_plan  voice_mail_plan  \\\n",
       "total_day_charge                0.008327            0.049604         0.002989   \n",
       "number_customer_service_calls   0.031850           -0.030328        -0.022156   \n",
       "international_plan              0.044039            1.000000         0.006006   \n",
       "churn                           0.003257            0.259852        -0.102148   \n",
       "\n",
       "                                  churn  \n",
       "total_day_charge               0.170677  \n",
       "number_customer_service_calls  0.136657  \n",
       "international_plan             0.259852  \n",
       "churn                          1.000000  "
      ]
     },
     "execution_count": 32,
     "metadata": {},
     "output_type": "execute_result"
    }
   ],
   "source": [
    "#Correlaçao Formato de Tabela com Spearman\n",
    "corspear=df1.corr(method = 'spearman')\n",
    "corspear.loc[(corspear['churn'] >0.1)]\n"
   ]
  },
  {
   "cell_type": "code",
   "execution_count": 33,
   "metadata": {},
   "outputs": [
    {
     "data": {
      "text/html": [
       "<div>\n",
       "<style scoped>\n",
       "    .dataframe tbody tr th:only-of-type {\n",
       "        vertical-align: middle;\n",
       "    }\n",
       "\n",
       "    .dataframe tbody tr th {\n",
       "        vertical-align: top;\n",
       "    }\n",
       "\n",
       "    .dataframe thead th {\n",
       "        text-align: right;\n",
       "    }\n",
       "</style>\n",
       "<table border=\"1\" class=\"dataframe\">\n",
       "  <thead>\n",
       "    <tr style=\"text-align: right;\">\n",
       "      <th></th>\n",
       "      <th>account_length</th>\n",
       "      <th>total_day_calls</th>\n",
       "      <th>total_day_charge</th>\n",
       "      <th>total_eve_calls</th>\n",
       "      <th>total_eve_charge</th>\n",
       "      <th>total_night_calls</th>\n",
       "      <th>total_night_charge</th>\n",
       "      <th>total_intl_calls</th>\n",
       "      <th>total_intl_charge</th>\n",
       "      <th>number_customer_service_calls</th>\n",
       "      <th>state</th>\n",
       "      <th>area_code</th>\n",
       "      <th>international_plan</th>\n",
       "      <th>voice_mail_plan</th>\n",
       "      <th>churn</th>\n",
       "    </tr>\n",
       "  </thead>\n",
       "  <tbody>\n",
       "    <tr>\n",
       "      <th>voice_mail_plan</th>\n",
       "      <td>0.008741</td>\n",
       "      <td>-0.012653</td>\n",
       "      <td>0.002989</td>\n",
       "      <td>-0.007885</td>\n",
       "      <td>0.022789</td>\n",
       "      <td>0.016718</td>\n",
       "      <td>0.004594</td>\n",
       "      <td>0.0014</td>\n",
       "      <td>-0.004484</td>\n",
       "      <td>-0.022156</td>\n",
       "      <td>-0.031796</td>\n",
       "      <td>0.00987</td>\n",
       "      <td>0.006006</td>\n",
       "      <td>1.0</td>\n",
       "      <td>-0.102148</td>\n",
       "    </tr>\n",
       "  </tbody>\n",
       "</table>\n",
       "</div>"
      ],
      "text/plain": [
       "                 account_length  total_day_calls  total_day_charge  \\\n",
       "voice_mail_plan        0.008741        -0.012653          0.002989   \n",
       "\n",
       "                 total_eve_calls  total_eve_charge  total_night_calls  \\\n",
       "voice_mail_plan        -0.007885          0.022789           0.016718   \n",
       "\n",
       "                 total_night_charge  total_intl_calls  total_intl_charge  \\\n",
       "voice_mail_plan            0.004594            0.0014          -0.004484   \n",
       "\n",
       "                 number_customer_service_calls     state  area_code  \\\n",
       "voice_mail_plan                      -0.022156 -0.031796    0.00987   \n",
       "\n",
       "                 international_plan  voice_mail_plan     churn  \n",
       "voice_mail_plan            0.006006              1.0 -0.102148  "
      ]
     },
     "execution_count": 33,
     "metadata": {},
     "output_type": "execute_result"
    }
   ],
   "source": [
    "corspear.loc[(corspear['churn'] <-0.1)]"
   ]
  },
  {
   "cell_type": "code",
   "execution_count": 34,
   "metadata": {},
   "outputs": [
    {
     "data": {
      "text/html": [
       "<div>\n",
       "<style scoped>\n",
       "    .dataframe tbody tr th:only-of-type {\n",
       "        vertical-align: middle;\n",
       "    }\n",
       "\n",
       "    .dataframe tbody tr th {\n",
       "        vertical-align: top;\n",
       "    }\n",
       "\n",
       "    .dataframe thead th {\n",
       "        text-align: right;\n",
       "    }\n",
       "</style>\n",
       "<table border=\"1\" class=\"dataframe\">\n",
       "  <thead>\n",
       "    <tr style=\"text-align: right;\">\n",
       "      <th></th>\n",
       "      <th>account_length</th>\n",
       "      <th>total_day_calls</th>\n",
       "      <th>total_day_charge</th>\n",
       "      <th>total_eve_calls</th>\n",
       "      <th>total_eve_charge</th>\n",
       "      <th>total_night_calls</th>\n",
       "      <th>total_night_charge</th>\n",
       "      <th>total_intl_calls</th>\n",
       "      <th>total_intl_charge</th>\n",
       "      <th>number_customer_service_calls</th>\n",
       "      <th>state</th>\n",
       "      <th>area_code</th>\n",
       "      <th>international_plan</th>\n",
       "      <th>voice_mail_plan</th>\n",
       "      <th>churn</th>\n",
       "    </tr>\n",
       "  </thead>\n",
       "  <tbody>\n",
       "    <tr>\n",
       "      <th>total_day_charge</th>\n",
       "      <td>0.011916</td>\n",
       "      <td>0.006333</td>\n",
       "      <td>1.000000</td>\n",
       "      <td>0.011682</td>\n",
       "      <td>0.004190</td>\n",
       "      <td>0.015618</td>\n",
       "      <td>-0.003952</td>\n",
       "      <td>-0.000294</td>\n",
       "      <td>-0.010711</td>\n",
       "      <td>-0.011260</td>\n",
       "      <td>-0.003990</td>\n",
       "      <td>0.006386</td>\n",
       "      <td>0.040518</td>\n",
       "      <td>0.002442</td>\n",
       "      <td>0.139415</td>\n",
       "    </tr>\n",
       "    <tr>\n",
       "      <th>number_customer_service_calls</th>\n",
       "      <td>-0.004341</td>\n",
       "      <td>-0.015558</td>\n",
       "      <td>-0.011260</td>\n",
       "      <td>0.001911</td>\n",
       "      <td>-0.013055</td>\n",
       "      <td>-0.006056</td>\n",
       "      <td>-0.009387</td>\n",
       "      <td>-0.000485</td>\n",
       "      <td>-0.012870</td>\n",
       "      <td>1.000000</td>\n",
       "      <td>-0.015637</td>\n",
       "      <td>0.027234</td>\n",
       "      <td>-0.027438</td>\n",
       "      <td>-0.020044</td>\n",
       "      <td>0.123633</td>\n",
       "    </tr>\n",
       "    <tr>\n",
       "      <th>international_plan</th>\n",
       "      <td>0.024206</td>\n",
       "      <td>0.010726</td>\n",
       "      <td>0.040518</td>\n",
       "      <td>0.003630</td>\n",
       "      <td>0.008510</td>\n",
       "      <td>0.007636</td>\n",
       "      <td>-0.026460</td>\n",
       "      <td>0.006921</td>\n",
       "      <td>0.035982</td>\n",
       "      <td>-0.027438</td>\n",
       "      <td>-0.003837</td>\n",
       "      <td>0.041769</td>\n",
       "      <td>1.000000</td>\n",
       "      <td>0.006006</td>\n",
       "      <td>0.259852</td>\n",
       "    </tr>\n",
       "    <tr>\n",
       "      <th>churn</th>\n",
       "      <td>0.012770</td>\n",
       "      <td>0.021636</td>\n",
       "      <td>0.139415</td>\n",
       "      <td>0.007055</td>\n",
       "      <td>0.072363</td>\n",
       "      <td>0.003861</td>\n",
       "      <td>0.028072</td>\n",
       "      <td>-0.064930</td>\n",
       "      <td>0.049948</td>\n",
       "      <td>0.123633</td>\n",
       "      <td>0.005239</td>\n",
       "      <td>0.003090</td>\n",
       "      <td>0.259852</td>\n",
       "      <td>-0.102148</td>\n",
       "      <td>1.000000</td>\n",
       "    </tr>\n",
       "  </tbody>\n",
       "</table>\n",
       "</div>"
      ],
      "text/plain": [
       "                               account_length  total_day_calls  \\\n",
       "total_day_charge                     0.011916         0.006333   \n",
       "number_customer_service_calls       -0.004341        -0.015558   \n",
       "international_plan                   0.024206         0.010726   \n",
       "churn                                0.012770         0.021636   \n",
       "\n",
       "                               total_day_charge  total_eve_calls  \\\n",
       "total_day_charge                       1.000000         0.011682   \n",
       "number_customer_service_calls         -0.011260         0.001911   \n",
       "international_plan                     0.040518         0.003630   \n",
       "churn                                  0.139415         0.007055   \n",
       "\n",
       "                               total_eve_charge  total_night_calls  \\\n",
       "total_day_charge                       0.004190           0.015618   \n",
       "number_customer_service_calls         -0.013055          -0.006056   \n",
       "international_plan                     0.008510           0.007636   \n",
       "churn                                  0.072363           0.003861   \n",
       "\n",
       "                               total_night_charge  total_intl_calls  \\\n",
       "total_day_charge                        -0.003952         -0.000294   \n",
       "number_customer_service_calls           -0.009387         -0.000485   \n",
       "international_plan                      -0.026460          0.006921   \n",
       "churn                                    0.028072         -0.064930   \n",
       "\n",
       "                               total_intl_charge  \\\n",
       "total_day_charge                       -0.010711   \n",
       "number_customer_service_calls          -0.012870   \n",
       "international_plan                      0.035982   \n",
       "churn                                   0.049948   \n",
       "\n",
       "                               number_customer_service_calls     state  \\\n",
       "total_day_charge                                   -0.011260 -0.003990   \n",
       "number_customer_service_calls                       1.000000 -0.015637   \n",
       "international_plan                                 -0.027438 -0.003837   \n",
       "churn                                               0.123633  0.005239   \n",
       "\n",
       "                               area_code  international_plan  voice_mail_plan  \\\n",
       "total_day_charge                0.006386            0.040518         0.002442   \n",
       "number_customer_service_calls   0.027234           -0.027438        -0.020044   \n",
       "international_plan              0.041769            1.000000         0.006006   \n",
       "churn                           0.003090            0.259852        -0.102148   \n",
       "\n",
       "                                  churn  \n",
       "total_day_charge               0.139415  \n",
       "number_customer_service_calls  0.123633  \n",
       "international_plan             0.259852  \n",
       "churn                          1.000000  "
      ]
     },
     "execution_count": 34,
     "metadata": {},
     "output_type": "execute_result"
    }
   ],
   "source": [
    "# Correlaçao Formato de Tabela com kendall\n",
    "corkend=df1.corr(method = 'kendall')\n",
    "corkend.loc[(corkend['churn'] >0.1)]"
   ]
  },
  {
   "cell_type": "code",
   "execution_count": 35,
   "metadata": {},
   "outputs": [
    {
     "data": {
      "text/html": [
       "<div>\n",
       "<style scoped>\n",
       "    .dataframe tbody tr th:only-of-type {\n",
       "        vertical-align: middle;\n",
       "    }\n",
       "\n",
       "    .dataframe tbody tr th {\n",
       "        vertical-align: top;\n",
       "    }\n",
       "\n",
       "    .dataframe thead th {\n",
       "        text-align: right;\n",
       "    }\n",
       "</style>\n",
       "<table border=\"1\" class=\"dataframe\">\n",
       "  <thead>\n",
       "    <tr style=\"text-align: right;\">\n",
       "      <th></th>\n",
       "      <th>account_length</th>\n",
       "      <th>total_day_calls</th>\n",
       "      <th>total_day_charge</th>\n",
       "      <th>total_eve_calls</th>\n",
       "      <th>total_eve_charge</th>\n",
       "      <th>total_night_calls</th>\n",
       "      <th>total_night_charge</th>\n",
       "      <th>total_intl_calls</th>\n",
       "      <th>total_intl_charge</th>\n",
       "      <th>number_customer_service_calls</th>\n",
       "      <th>state</th>\n",
       "      <th>area_code</th>\n",
       "      <th>international_plan</th>\n",
       "      <th>voice_mail_plan</th>\n",
       "      <th>churn</th>\n",
       "    </tr>\n",
       "  </thead>\n",
       "  <tbody>\n",
       "    <tr>\n",
       "      <th>voice_mail_plan</th>\n",
       "      <td>0.007163</td>\n",
       "      <td>-0.010405</td>\n",
       "      <td>0.002442</td>\n",
       "      <td>-0.006485</td>\n",
       "      <td>0.018616</td>\n",
       "      <td>0.013749</td>\n",
       "      <td>0.003754</td>\n",
       "      <td>0.001216</td>\n",
       "      <td>-0.003681</td>\n",
       "      <td>-0.020044</td>\n",
       "      <td>-0.026222</td>\n",
       "      <td>0.009361</td>\n",
       "      <td>0.006006</td>\n",
       "      <td>1.0</td>\n",
       "      <td>-0.102148</td>\n",
       "    </tr>\n",
       "  </tbody>\n",
       "</table>\n",
       "</div>"
      ],
      "text/plain": [
       "                 account_length  total_day_calls  total_day_charge  \\\n",
       "voice_mail_plan        0.007163        -0.010405          0.002442   \n",
       "\n",
       "                 total_eve_calls  total_eve_charge  total_night_calls  \\\n",
       "voice_mail_plan        -0.006485          0.018616           0.013749   \n",
       "\n",
       "                 total_night_charge  total_intl_calls  total_intl_charge  \\\n",
       "voice_mail_plan            0.003754          0.001216          -0.003681   \n",
       "\n",
       "                 number_customer_service_calls     state  area_code  \\\n",
       "voice_mail_plan                      -0.020044 -0.026222   0.009361   \n",
       "\n",
       "                 international_plan  voice_mail_plan     churn  \n",
       "voice_mail_plan            0.006006              1.0 -0.102148  "
      ]
     },
     "execution_count": 35,
     "metadata": {},
     "output_type": "execute_result"
    }
   ],
   "source": [
    "corkend.loc[(corkend['churn'] <-0.1)]"
   ]
  },
  {
   "cell_type": "code",
   "execution_count": 36,
   "metadata": {},
   "outputs": [],
   "source": [
    "#As Variaveis que tem mais correlaçao sendo positiva ou negativa sao:total_day_charge,number_customer_service_calls\n",
    "#international_plan,voice_mail_plan\n",
    "df2=df1[[\"total_day_charge\",\"number_customer_service_calls\",\"international_plan\",\"voice_mail_plan\",\"churn\"]]"
   ]
  },
  {
   "cell_type": "markdown",
   "metadata": {},
   "source": [
    "## Gráficos Estatísticos"
   ]
  },
  {
   "cell_type": "code",
   "execution_count": 37,
   "metadata": {},
   "outputs": [],
   "source": [
    "import matplotlib.pyplot as plt\n",
    "import seaborn as sns\n",
    "from scipy import stats\n",
    "import warnings\n",
    "warnings.filterwarnings('ignore')\n",
    "%matplotlib inline"
   ]
  },
  {
   "cell_type": "markdown",
   "metadata": {},
   "source": [
    "<h2> Histograma "
   ]
  },
  {
   "cell_type": "code",
   "execution_count": 38,
   "metadata": {},
   "outputs": [
    {
     "data": {
      "text/plain": [
       "<AxesSubplot:xlabel='churn', ylabel='Density'>"
      ]
     },
     "execution_count": 38,
     "metadata": {},
     "output_type": "execute_result"
    },
    {
     "data": {
      "image/png": "[encoded data removed]",
      "text/plain": [
       "<Figure size 432x288 with 1 Axes>"
      ]
     },
     "metadata": {
      "needs_background": "light"
     },
     "output_type": "display_data"
    }
   ],
   "source": [
    "#Histograma da Variavel Target\n",
    "sns.distplot(df2.churn, rug = True, fit = stats.gausshyper)\n",
    "#Temos problema com balanceamento das classe"
   ]
  },
  {
   "cell_type": "code",
   "execution_count": 39,
   "metadata": {},
   "outputs": [
    {
     "data": {
      "text/plain": [
       "<AxesSubplot:xlabel='total_day_charge', ylabel='Density'>"
      ]
     },
     "execution_count": 39,
     "metadata": {},
     "output_type": "execute_result"
    },
    {
     "data": {
      "image/png": "[encoded data removed]",
      "text/plain": [
       "<Figure size 432x288 with 1 Axes>"
      ]
     },
     "metadata": {
      "needs_background": "light"
     },
     "output_type": "display_data"
    }
   ],
   "source": [
    "sns.distplot(df2.total_day_charge, rug = True, fit = stats.gausshyper)\n"
   ]
  },
  {
   "cell_type": "code",
   "execution_count": 40,
   "metadata": {},
   "outputs": [
    {
     "data": {
      "text/plain": [
       "<AxesSubplot:xlabel='number_customer_service_calls', ylabel='Density'>"
      ]
     },
     "execution_count": 40,
     "metadata": {},
     "output_type": "execute_result"
    },
    {
     "data": {
      "image/png": "[encoded data removed]",
      "text/plain": [
       "<Figure size 432x288 with 1 Axes>"
      ]
     },
     "metadata": {
      "needs_background": "light"
     },
     "output_type": "display_data"
    }
   ],
   "source": [
    "sns.distplot(df2.number_customer_service_calls, rug = True, fit = stats.gausshyper)"
   ]
  },
  {
   "cell_type": "code",
   "execution_count": 41,
   "metadata": {},
   "outputs": [
    {
     "data": {
      "text/plain": [
       "<AxesSubplot:xlabel='international_plan', ylabel='Density'>"
      ]
     },
     "execution_count": 41,
     "metadata": {},
     "output_type": "execute_result"
    },
    {
     "data": {
      "image/png": "[encoded data removed]",
      "text/plain": [
       "<Figure size 432x288 with 1 Axes>"
      ]
     },
     "metadata": {
      "needs_background": "light"
     },
     "output_type": "display_data"
    }
   ],
   "source": [
    "sns.distplot(df2.international_plan, rug = True, fit = stats.gausshyper)"
   ]
  },
  {
   "cell_type": "code",
   "execution_count": 42,
   "metadata": {},
   "outputs": [
    {
     "data": {
      "text/plain": [
       "<AxesSubplot:xlabel='voice_mail_plan', ylabel='Density'>"
      ]
     },
     "execution_count": 42,
     "metadata": {},
     "output_type": "execute_result"
    },
    {
     "data": {
      "image/png": "[encoded data removed]",
      "text/plain": [
       "<Figure size 432x288 with 1 Axes>"
      ]
     },
     "metadata": {
      "needs_background": "light"
     },
     "output_type": "display_data"
    }
   ],
   "source": [
    "sns.distplot(df2.voice_mail_plan, rug = True, fit = stats.gausshyper)"
   ]
  },
  {
   "cell_type": "code",
   "execution_count": 43,
   "metadata": {},
   "outputs": [
    {
     "data": {
      "text/plain": [
       "array([[<AxesSubplot:title={'center':'churn'}>,\n",
       "        <AxesSubplot:title={'center':'international_plan'}>],\n",
       "       [<AxesSubplot:title={'center':'number_customer_service_calls'}>,\n",
       "        <AxesSubplot:title={'center':'total_day_charge'}>],\n",
       "       [<AxesSubplot:title={'center':'voice_mail_plan'}>, <AxesSubplot:>]],\n",
       "      dtype=object)"
      ]
     },
     "execution_count": 43,
     "metadata": {},
     "output_type": "execute_result"
    },
    {
     "data": {
      "image/png": "[encoded data removed]",
      "text/plain": [
       "<Figure size 432x288 with 6 Axes>"
      ]
     },
     "metadata": {
      "needs_background": "light"
     },
     "output_type": "display_data"
    }
   ],
   "source": [
    "#\n",
    "df2.hist()"
   ]
  },
  {
   "cell_type": "markdown",
   "metadata": {},
   "source": [
    "## Distribuição Bivariada"
   ]
  },
  {
   "cell_type": "code",
   "execution_count": 44,
   "metadata": {},
   "outputs": [
    {
     "data": {
      "image/png": "[encoded data removed]",
      "text/plain": [
       "<Figure size 900x900 with 30 Axes>"
      ]
     },
     "metadata": {
      "needs_background": "light"
     },
     "output_type": "display_data"
    }
   ],
   "source": [
    "sns.pairplot(df2);"
   ]
  },
  {
   "cell_type": "code",
   "execution_count": 45,
   "metadata": {},
   "outputs": [
    {
     "data": {
      "image/png": "[encoded data removed]",
      "text/plain": [
       "<Figure size 765.725x720 with 20 Axes>"
      ]
     },
     "metadata": {
      "needs_background": "light"
     },
     "output_type": "display_data"
    }
   ],
   "source": [
    "sns.pairplot(df2, hue = 'churn', size = 2.5);"
   ]
  },
  {
   "cell_type": "markdown",
   "metadata": {},
   "source": [
    "<h2> boxplot"
   ]
  },
  {
   "cell_type": "code",
   "execution_count": 46,
   "metadata": {},
   "outputs": [
    {
     "data": {
      "image/png": "[encoded data removed]",
      "text/plain": [
       "<Figure size 432x288 with 1 Axes>"
      ]
     },
     "metadata": {
      "needs_background": "light"
     },
     "output_type": "display_data"
    }
   ],
   "source": [
    "# boxplot\n",
    "sns.boxplot(data = df2, orient = \"h\");"
   ]
  },
  {
   "cell_type": "markdown",
   "metadata": {},
   "source": [
    "<h2> Verificar Distribuiçao Normal dos Dados"
   ]
  },
  {
   "cell_type": "code",
   "execution_count": 47,
   "metadata": {},
   "outputs": [
    {
     "data": {
      "text/plain": [
       "total_day_charge                -0.029083\n",
       "number_customer_service_calls    1.091359\n",
       "international_plan               2.726332\n",
       "voice_mail_plan                  0.999140\n",
       "churn                            2.018356\n",
       "dtype: float64"
      ]
     },
     "execution_count": 47,
     "metadata": {},
     "output_type": "execute_result"
    }
   ],
   "source": [
    "#Quanto mais perto de 0 significa distNormal dos dados\n",
    "df2.skew()"
   ]
  },
  {
   "cell_type": "markdown",
   "metadata": {},
   "source": [
    "## Feature Selection"
   ]
  },
  {
   "cell_type": "markdown",
   "metadata": {},
   "source": [
    "<h2> Eliminação Recursiva de Atributos"
   ]
  },
  {
   "cell_type": "code",
   "execution_count": 48,
   "metadata": {},
   "outputs": [
    {
     "name": "stdout",
     "output_type": "stream",
     "text": [
      "Variáveis Preditoras: Index(['account_length', 'total_day_calls', 'total_day_charge',\n",
      "       'total_eve_calls', 'total_eve_charge', 'total_night_calls',\n",
      "       'total_night_charge', 'total_intl_calls', 'total_intl_charge',\n",
      "       'number_customer_service_calls', 'state', 'area_code',\n",
      "       'international_plan', 'voice_mail_plan'],\n",
      "      dtype='object')\n",
      "Variáveis Selecionadas: [False False False False False False False  True False  True False False\n",
      "  True  True]\n",
      "Ranking dos Atributos: [11  9  4  7  2  6  3  1  8  1 10  5  1  1]\n",
      "Número de Melhores Atributos: 4\n"
     ]
    }
   ],
   "source": [
    "from sklearn.linear_model import LogisticRegression\n",
    "from pandas import read_csv\n",
    "from sklearn.feature_selection import RFE\n",
    "\n",
    "# Carregando os dados\n",
    "df4 = df1\n",
    "array = df4.values\n",
    "\n",
    "# Separando o array em componentes de input e output\n",
    "X = array[:,0:14]\n",
    "Y = array[:,14]\n",
    "\n",
    "# Criação do modelo\n",
    "modelo = LogisticRegression()\n",
    "\n",
    "# RFE\n",
    "rfe = RFE(modelo, 4)\n",
    "fit = rfe.fit(X, Y)\n",
    "\n",
    "# Print dos resultados\n",
    "print(\"Variáveis Preditoras:\", df4.columns[0:14])\n",
    "print(\"Variáveis Selecionadas: %s\" % fit.support_)\n",
    "print(\"Ranking dos Atributos: %s\" % fit.ranking_)\n",
    "print(\"Número de Melhores Atributos: %d\" % fit.n_features_)\n",
    "#Variaveis mais Relevantes\n",
    "#total_intl_calls,number_customer_service_calls,international_plan ,voice_mail_plan"
   ]
  },
  {
   "cell_type": "markdown",
   "metadata": {},
   "source": [
    "<h2>Método Ensemble para Seleção de Variáveis"
   ]
  },
  {
   "cell_type": "code",
   "execution_count": 49,
   "metadata": {},
   "outputs": [
    {
     "name": "stdout",
     "output_type": "stream",
     "text": [
      "Index(['account_length', 'total_day_calls', 'total_day_charge',\n",
      "       'total_eve_calls', 'total_eve_charge', 'total_night_calls',\n",
      "       'total_night_charge', 'total_intl_calls', 'total_intl_charge',\n",
      "       'number_customer_service_calls', 'state', 'area_code',\n",
      "       'international_plan', 'voice_mail_plan'],\n",
      "      dtype='object')\n",
      "[0.0561088  0.05548809 0.19100721 0.05326612 0.08088096 0.05461662\n",
      " 0.05846241 0.06580603 0.06940465 0.12884468 0.05326015 0.03273536\n",
      " 0.07486193 0.02525699]\n"
     ]
    }
   ],
   "source": [
    "# Importância do Atributo com o Extra Trees Classifier\n",
    "\n",
    "# Import dos Módulos\n",
    "from pandas import read_csv\n",
    "from sklearn.ensemble import ExtraTreesClassifier\n",
    "\n",
    "# Carregando os dados\n",
    "df4 = df1\n",
    "array = df4.values\n",
    "\n",
    "# Separando o array em componentes de input e output\n",
    "X = array[:,0:14]\n",
    "Y = array[:,14]\n",
    "\n",
    "# Criação do Modelo - Feature Selection\n",
    "modelo = ExtraTreesClassifier()\n",
    "modelo.fit(X, Y)\n",
    "\n",
    "# Print dos Resultados\n",
    "print(df1.columns[0:14])\n",
    "print(modelo.feature_importances_)\n",
    "\n",
    "#As 4 Variaveis Mais Importantes\n",
    "#total_day_charge,total_intl_charge,total_eve_charge,number_customer_service_calls"
   ]
  },
  {
   "cell_type": "code",
   "execution_count": 50,
   "metadata": {},
   "outputs": [
    {
     "name": "stdout",
     "output_type": "stream",
     "text": [
      "\n",
      "Número original de features: 14\n",
      "\n",
      "Número reduzido de features: 4\n",
      "\n",
      "Features (Variáveis Selecionadas): \n",
      "\n",
      " [[45.07 16.78  1.    0.  ]\n",
      " [27.47 16.62  1.    0.  ]\n",
      " [41.38 10.3   0.    0.  ]\n",
      " ...\n",
      " [30.74 24.55  2.    0.  ]\n",
      " [36.35 13.57  2.    1.  ]\n",
      " [39.85 22.6   0.    0.  ]]\n"
     ]
    }
   ],
   "source": [
    "# Extração de Variáveis com Testes Estatísticos Univariados (Teste qui-quadrado neste exemplo)\n",
    "\n",
    "# Import dos módulos\n",
    "from pandas import read_csv\n",
    "from sklearn.feature_selection import SelectKBest\n",
    "from sklearn.feature_selection import chi2\n",
    "\n",
    "# Carregando os dados\n",
    "df4 = df1\n",
    "array = df4.values\n",
    "\n",
    "# Separando o array em componentes de input e output\n",
    "X = array[:,0:14]\n",
    "Y = array[:,14]\n",
    "\n",
    "# Função para seleção de variáveis\n",
    "best_var = SelectKBest(score_func = chi2, k = 4)\n",
    "\n",
    "# Executa a função de pontuação em (X, y) e obtém os recursos selecionados\n",
    "fit = best_var.fit(X, Y)\n",
    "\n",
    "# Reduz X para os recursos selecionados\n",
    "features = fit.transform(X)\n",
    "\n",
    "# Resultados\n",
    "print('\\nNúmero original de features:', X.shape[1])\n",
    "print('\\nNúmero reduzido de features:', features.shape[1])\n",
    "print('\\nFeatures (Variáveis Selecionadas): \\n\\n', features)\n",
    "\n",
    "#As 4 Variaveis Mais Importantes\n",
    "#total_day_charge,total_eve_charge,number_customer_service_calls,international_plan"
   ]
  },
  {
   "cell_type": "markdown",
   "metadata": {},
   "source": [
    "## Resample(Balanceamento dos Dados)"
   ]
  },
  {
   "cell_type": "code",
   "execution_count": 51,
   "metadata": {},
   "outputs": [
    {
     "data": {
      "text/plain": [
       "<AxesSubplot:xlabel='churn', ylabel='count'>"
      ]
     },
     "execution_count": 51,
     "metadata": {},
     "output_type": "execute_result"
    },
    {
     "data": {
      "image/png": "[encoded data removed]",
      "text/plain": [
       "<Figure size 432x288 with 1 Axes>"
      ]
     },
     "metadata": {
      "needs_background": "light"
     },
     "output_type": "display_data"
    }
   ],
   "source": [
    "#Verificando os registro da coluna target\n",
    "sns.countplot(df1['churn'])"
   ]
  },
  {
   "cell_type": "code",
   "execution_count": 52,
   "metadata": {},
   "outputs": [],
   "source": [
    "# Separar os registros\n",
    "classe0 = df1[df1.churn==0]\n",
    "classe1 = df1[df1.churn==1]"
   ]
  },
  {
   "cell_type": "code",
   "execution_count": 53,
   "metadata": {},
   "outputs": [
    {
     "name": "stdout",
     "output_type": "stream",
     "text": [
      "(2850, 15)\n"
     ]
    },
    {
     "data": {
      "text/plain": [
       "(483, 15)"
      ]
     },
     "execution_count": 53,
     "metadata": {},
     "output_type": "execute_result"
    }
   ],
   "source": [
    "#Verificar o shape\n",
    "print(classe0.shape)\n",
    "classe1.shape"
   ]
  },
  {
   "cell_type": "code",
   "execution_count": 54,
   "metadata": {},
   "outputs": [],
   "source": [
    "# Aplicar a tecnica Upsample da classe minoritária\n",
    "from sklearn.utils import resample\n",
    "classe1upsample = resample(classe1, \n",
    "                         replace = True,     \n",
    "                         n_samples = 2850,   \n",
    "                         random_state = 150)"
   ]
  },
  {
   "cell_type": "code",
   "execution_count": 55,
   "metadata": {},
   "outputs": [
    {
     "data": {
      "text/plain": [
       "(2850, 15)"
      ]
     },
     "execution_count": 55,
     "metadata": {},
     "output_type": "execute_result"
    }
   ],
   "source": [
    "#Igualamos o numero de registro da coluna target\n",
    "classe1upsample.shape"
   ]
  },
  {
   "cell_type": "code",
   "execution_count": 56,
   "metadata": {},
   "outputs": [],
   "source": [
    "#Juntar as tabelas com os registro 1 e 0\n",
    "df0 = pd.concat([classe0, classe1upsample])"
   ]
  },
  {
   "cell_type": "code",
   "execution_count": 57,
   "metadata": {},
   "outputs": [
    {
     "data": {
      "text/plain": [
       "<AxesSubplot:xlabel='churn', ylabel='count'>"
      ]
     },
     "execution_count": 57,
     "metadata": {},
     "output_type": "execute_result"
    },
    {
     "data": {
      "image/png": "[encoded data removed]",
      "text/plain": [
       "<Figure size 432x288 with 1 Axes>"
      ]
     },
     "metadata": {
      "needs_background": "light"
     },
     "output_type": "display_data"
    }
   ],
   "source": [
    "#Verificar os dados no grafico \n",
    "sns.countplot(df0['churn'])"
   ]
  },
  {
   "cell_type": "code",
   "execution_count": 58,
   "metadata": {},
   "outputs": [
    {
     "data": {
      "text/html": [
       "<div>\n",
       "<style scoped>\n",
       "    .dataframe tbody tr th:only-of-type {\n",
       "        vertical-align: middle;\n",
       "    }\n",
       "\n",
       "    .dataframe tbody tr th {\n",
       "        vertical-align: top;\n",
       "    }\n",
       "\n",
       "    .dataframe thead th {\n",
       "        text-align: right;\n",
       "    }\n",
       "</style>\n",
       "<table border=\"1\" class=\"dataframe\">\n",
       "  <thead>\n",
       "    <tr style=\"text-align: right;\">\n",
       "      <th></th>\n",
       "      <th>account_length</th>\n",
       "      <th>total_day_calls</th>\n",
       "      <th>total_day_charge</th>\n",
       "      <th>total_eve_calls</th>\n",
       "      <th>total_eve_charge</th>\n",
       "      <th>total_night_calls</th>\n",
       "      <th>total_night_charge</th>\n",
       "      <th>total_intl_calls</th>\n",
       "      <th>total_intl_charge</th>\n",
       "      <th>number_customer_service_calls</th>\n",
       "      <th>state</th>\n",
       "      <th>area_code</th>\n",
       "      <th>international_plan</th>\n",
       "      <th>voice_mail_plan</th>\n",
       "      <th>churn</th>\n",
       "    </tr>\n",
       "  </thead>\n",
       "  <tbody>\n",
       "    <tr>\n",
       "      <th>0</th>\n",
       "      <td>128</td>\n",
       "      <td>110</td>\n",
       "      <td>45.07</td>\n",
       "      <td>99</td>\n",
       "      <td>16.78</td>\n",
       "      <td>91</td>\n",
       "      <td>11.01</td>\n",
       "      <td>3</td>\n",
       "      <td>2.70</td>\n",
       "      <td>1</td>\n",
       "      <td>16</td>\n",
       "      <td>1</td>\n",
       "      <td>0</td>\n",
       "      <td>1</td>\n",
       "      <td>0</td>\n",
       "    </tr>\n",
       "    <tr>\n",
       "      <th>1</th>\n",
       "      <td>107</td>\n",
       "      <td>123</td>\n",
       "      <td>27.47</td>\n",
       "      <td>103</td>\n",
       "      <td>16.62</td>\n",
       "      <td>103</td>\n",
       "      <td>11.45</td>\n",
       "      <td>3</td>\n",
       "      <td>3.70</td>\n",
       "      <td>1</td>\n",
       "      <td>35</td>\n",
       "      <td>1</td>\n",
       "      <td>0</td>\n",
       "      <td>1</td>\n",
       "      <td>0</td>\n",
       "    </tr>\n",
       "    <tr>\n",
       "      <th>2</th>\n",
       "      <td>137</td>\n",
       "      <td>114</td>\n",
       "      <td>41.38</td>\n",
       "      <td>110</td>\n",
       "      <td>10.30</td>\n",
       "      <td>104</td>\n",
       "      <td>7.32</td>\n",
       "      <td>5</td>\n",
       "      <td>3.29</td>\n",
       "      <td>0</td>\n",
       "      <td>31</td>\n",
       "      <td>1</td>\n",
       "      <td>0</td>\n",
       "      <td>0</td>\n",
       "      <td>0</td>\n",
       "    </tr>\n",
       "    <tr>\n",
       "      <th>3</th>\n",
       "      <td>84</td>\n",
       "      <td>71</td>\n",
       "      <td>50.90</td>\n",
       "      <td>88</td>\n",
       "      <td>5.26</td>\n",
       "      <td>89</td>\n",
       "      <td>8.86</td>\n",
       "      <td>7</td>\n",
       "      <td>1.78</td>\n",
       "      <td>2</td>\n",
       "      <td>35</td>\n",
       "      <td>0</td>\n",
       "      <td>1</td>\n",
       "      <td>0</td>\n",
       "      <td>0</td>\n",
       "    </tr>\n",
       "    <tr>\n",
       "      <th>4</th>\n",
       "      <td>75</td>\n",
       "      <td>113</td>\n",
       "      <td>28.34</td>\n",
       "      <td>122</td>\n",
       "      <td>12.61</td>\n",
       "      <td>121</td>\n",
       "      <td>8.41</td>\n",
       "      <td>3</td>\n",
       "      <td>2.73</td>\n",
       "      <td>3</td>\n",
       "      <td>36</td>\n",
       "      <td>1</td>\n",
       "      <td>1</td>\n",
       "      <td>0</td>\n",
       "      <td>0</td>\n",
       "    </tr>\n",
       "    <tr>\n",
       "      <th>...</th>\n",
       "      <td>...</td>\n",
       "      <td>...</td>\n",
       "      <td>...</td>\n",
       "      <td>...</td>\n",
       "      <td>...</td>\n",
       "      <td>...</td>\n",
       "      <td>...</td>\n",
       "      <td>...</td>\n",
       "      <td>...</td>\n",
       "      <td>...</td>\n",
       "      <td>...</td>\n",
       "      <td>...</td>\n",
       "      <td>...</td>\n",
       "      <td>...</td>\n",
       "      <td>...</td>\n",
       "    </tr>\n",
       "    <tr>\n",
       "      <th>1950</th>\n",
       "      <td>52</td>\n",
       "      <td>110</td>\n",
       "      <td>26.35</td>\n",
       "      <td>104</td>\n",
       "      <td>11.34</td>\n",
       "      <td>84</td>\n",
       "      <td>7.92</td>\n",
       "      <td>4</td>\n",
       "      <td>1.89</td>\n",
       "      <td>4</td>\n",
       "      <td>43</td>\n",
       "      <td>1</td>\n",
       "      <td>0</td>\n",
       "      <td>0</td>\n",
       "      <td>1</td>\n",
       "    </tr>\n",
       "    <tr>\n",
       "      <th>144</th>\n",
       "      <td>117</td>\n",
       "      <td>86</td>\n",
       "      <td>28.41</td>\n",
       "      <td>87</td>\n",
       "      <td>15.09</td>\n",
       "      <td>132</td>\n",
       "      <td>11.22</td>\n",
       "      <td>7</td>\n",
       "      <td>3.81</td>\n",
       "      <td>2</td>\n",
       "      <td>46</td>\n",
       "      <td>0</td>\n",
       "      <td>1</td>\n",
       "      <td>0</td>\n",
       "      <td>1</td>\n",
       "    </tr>\n",
       "    <tr>\n",
       "      <th>1713</th>\n",
       "      <td>76</td>\n",
       "      <td>84</td>\n",
       "      <td>22.05</td>\n",
       "      <td>80</td>\n",
       "      <td>15.09</td>\n",
       "      <td>87</td>\n",
       "      <td>10.30</td>\n",
       "      <td>3</td>\n",
       "      <td>2.03</td>\n",
       "      <td>5</td>\n",
       "      <td>24</td>\n",
       "      <td>2</td>\n",
       "      <td>0</td>\n",
       "      <td>0</td>\n",
       "      <td>1</td>\n",
       "    </tr>\n",
       "    <tr>\n",
       "      <th>1376</th>\n",
       "      <td>65</td>\n",
       "      <td>139</td>\n",
       "      <td>41.77</td>\n",
       "      <td>113</td>\n",
       "      <td>20.56</td>\n",
       "      <td>117</td>\n",
       "      <td>12.84</td>\n",
       "      <td>5</td>\n",
       "      <td>1.13</td>\n",
       "      <td>4</td>\n",
       "      <td>35</td>\n",
       "      <td>1</td>\n",
       "      <td>0</td>\n",
       "      <td>0</td>\n",
       "      <td>1</td>\n",
       "    </tr>\n",
       "    <tr>\n",
       "      <th>737</th>\n",
       "      <td>91</td>\n",
       "      <td>89</td>\n",
       "      <td>24.65</td>\n",
       "      <td>102</td>\n",
       "      <td>14.94</td>\n",
       "      <td>151</td>\n",
       "      <td>10.07</td>\n",
       "      <td>3</td>\n",
       "      <td>4.51</td>\n",
       "      <td>2</td>\n",
       "      <td>17</td>\n",
       "      <td>1</td>\n",
       "      <td>1</td>\n",
       "      <td>0</td>\n",
       "      <td>1</td>\n",
       "    </tr>\n",
       "  </tbody>\n",
       "</table>\n",
       "<p>5700 rows × 15 columns</p>\n",
       "</div>"
      ],
      "text/plain": [
       "      account_length  total_day_calls  total_day_charge  total_eve_calls  \\\n",
       "0                128              110             45.07               99   \n",
       "1                107              123             27.47              103   \n",
       "2                137              114             41.38              110   \n",
       "3                 84               71             50.90               88   \n",
       "4                 75              113             28.34              122   \n",
       "...              ...              ...               ...              ...   \n",
       "1950              52              110             26.35              104   \n",
       "144              117               86             28.41               87   \n",
       "1713              76               84             22.05               80   \n",
       "1376              65              139             41.77              113   \n",
       "737               91               89             24.65              102   \n",
       "\n",
       "      total_eve_charge  total_night_calls  total_night_charge  \\\n",
       "0                16.78                 91               11.01   \n",
       "1                16.62                103               11.45   \n",
       "2                10.30                104                7.32   \n",
       "3                 5.26                 89                8.86   \n",
       "4                12.61                121                8.41   \n",
       "...                ...                ...                 ...   \n",
       "1950             11.34                 84                7.92   \n",
       "144              15.09                132               11.22   \n",
       "1713             15.09                 87               10.30   \n",
       "1376             20.56                117               12.84   \n",
       "737              14.94                151               10.07   \n",
       "\n",
       "      total_intl_calls  total_intl_charge  number_customer_service_calls  \\\n",
       "0                    3               2.70                              1   \n",
       "1                    3               3.70                              1   \n",
       "2                    5               3.29                              0   \n",
       "3                    7               1.78                              2   \n",
       "4                    3               2.73                              3   \n",
       "...                ...                ...                            ...   \n",
       "1950                 4               1.89                              4   \n",
       "144                  7               3.81                              2   \n",
       "1713                 3               2.03                              5   \n",
       "1376                 5               1.13                              4   \n",
       "737                  3               4.51                              2   \n",
       "\n",
       "      state  area_code  international_plan  voice_mail_plan  churn  \n",
       "0        16          1                   0                1      0  \n",
       "1        35          1                   0                1      0  \n",
       "2        31          1                   0                0      0  \n",
       "3        35          0                   1                0      0  \n",
       "4        36          1                   1                0      0  \n",
       "...     ...        ...                 ...              ...    ...  \n",
       "1950     43          1                   0                0      1  \n",
       "144      46          0                   1                0      1  \n",
       "1713     24          2                   0                0      1  \n",
       "1376     35          1                   0                0      1  \n",
       "737      17          1                   1                0      1  \n",
       "\n",
       "[5700 rows x 15 columns]"
      ]
     },
     "execution_count": 58,
     "metadata": {},
     "output_type": "execute_result"
    }
   ],
   "source": [
    "#Novos Dados\n",
    "df0"
   ]
  },
  {
   "cell_type": "code",
   "execution_count": 59,
   "metadata": {},
   "outputs": [
    {
     "data": {
      "text/plain": [
       "array([[<AxesSubplot:title={'center':'account_length'}>,\n",
       "        <AxesSubplot:title={'center':'area_code'}>,\n",
       "        <AxesSubplot:title={'center':'churn'}>,\n",
       "        <AxesSubplot:title={'center':'international_plan'}>],\n",
       "       [<AxesSubplot:title={'center':'number_customer_service_calls'}>,\n",
       "        <AxesSubplot:title={'center':'state'}>,\n",
       "        <AxesSubplot:title={'center':'total_day_calls'}>,\n",
       "        <AxesSubplot:title={'center':'total_day_charge'}>],\n",
       "       [<AxesSubplot:title={'center':'total_eve_calls'}>,\n",
       "        <AxesSubplot:title={'center':'total_eve_charge'}>,\n",
       "        <AxesSubplot:title={'center':'total_intl_calls'}>,\n",
       "        <AxesSubplot:title={'center':'total_intl_charge'}>],\n",
       "       [<AxesSubplot:title={'center':'total_night_calls'}>,\n",
       "        <AxesSubplot:title={'center':'total_night_charge'}>,\n",
       "        <AxesSubplot:title={'center':'voice_mail_plan'}>, <AxesSubplot:>]],\n",
       "      dtype=object)"
      ]
     },
     "execution_count": 59,
     "metadata": {},
     "output_type": "execute_result"
    },
    {
     "data": {
      "image/png": "[encoded data removed]",
      "text/plain": [
       "<Figure size 432x288 with 16 Axes>"
      ]
     },
     "metadata": {
      "needs_background": "light"
     },
     "output_type": "display_data"
    }
   ],
   "source": [
    "df0.hist()"
   ]
  },
  {
   "cell_type": "code",
   "execution_count": 60,
   "metadata": {},
   "outputs": [
    {
     "data": {
      "text/plain": [
       "array([[<AxesSubplot:title={'center':'account_length'}>,\n",
       "        <AxesSubplot:title={'center':'area_code'}>,\n",
       "        <AxesSubplot:title={'center':'churn'}>,\n",
       "        <AxesSubplot:title={'center':'international_plan'}>],\n",
       "       [<AxesSubplot:title={'center':'number_customer_service_calls'}>,\n",
       "        <AxesSubplot:title={'center':'state'}>,\n",
       "        <AxesSubplot:title={'center':'total_day_calls'}>,\n",
       "        <AxesSubplot:title={'center':'total_day_charge'}>],\n",
       "       [<AxesSubplot:title={'center':'total_eve_calls'}>,\n",
       "        <AxesSubplot:title={'center':'total_eve_charge'}>,\n",
       "        <AxesSubplot:title={'center':'total_intl_calls'}>,\n",
       "        <AxesSubplot:title={'center':'total_intl_charge'}>],\n",
       "       [<AxesSubplot:title={'center':'total_night_calls'}>,\n",
       "        <AxesSubplot:title={'center':'total_night_charge'}>,\n",
       "        <AxesSubplot:title={'center':'voice_mail_plan'}>, <AxesSubplot:>]],\n",
       "      dtype=object)"
      ]
     },
     "execution_count": 60,
     "metadata": {},
     "output_type": "execute_result"
    },
    {
     "data": {
      "image/png": "[encoded data removed]",
      "text/plain": [
       "<Figure size 432x288 with 16 Axes>"
      ]
     },
     "metadata": {
      "needs_background": "light"
     },
     "output_type": "display_data"
    }
   ],
   "source": [
    "df1.hist()"
   ]
  },
  {
   "cell_type": "markdown",
   "metadata": {},
   "source": [
    "## Normalizaçao "
   ]
  },
  {
   "cell_type": "code",
   "execution_count": 139,
   "metadata": {},
   "outputs": [
    {
     "name": "stdout",
     "output_type": "stream",
     "text": [
      "Dados Originais: \n",
      "\n",
      " [[128.   110.    45.07 ...   0.     1.     0.  ]\n",
      " [107.   123.    27.47 ...   0.     1.     0.  ]\n",
      " [137.   114.    41.38 ...   0.     0.     0.  ]\n",
      " ...\n",
      " [ 76.    84.    22.05 ...   0.     0.     1.  ]\n",
      " [ 65.   139.    41.77 ...   0.     0.     1.  ]\n",
      " [ 91.    89.    24.65 ...   1.     0.     1.  ]]\n",
      "\n",
      "Dados Normalizados: \n",
      "\n",
      " [[0.57662699 0.49553882 0.20303577 0.44598493 0.07559219 0.40994575\n",
      "  0.04959893 0.01351469 0.01216323 0.0045049  0.07207837 0.0045049\n",
      "  0.         0.0045049 ]\n",
      " [0.47752339 0.54892875 0.12259409 0.45967204 0.07417232 0.45967204\n",
      "  0.05109947 0.01338851 0.01651249 0.00446284 0.15619924 0.00446284\n",
      "  0.         0.00446284]]\n"
     ]
    }
   ],
   "source": [
    "# Normalizando os dados (comprimento igual a 1)\n",
    "from pandas import read_csv\n",
    "from sklearn.preprocessing import Normalizer\n",
    "\n",
    "# Carregando os dados\n",
    "df4 = df0\n",
    "array = df4.values\n",
    "\n",
    "# Separando o array em componentes de input e output\n",
    "X = array[:,0:14]\n",
    "Y = array[:,14]\n",
    "\n",
    "# Gerando os dados normalizados\n",
    "scaler = Normalizer().fit(X)\n",
    "normalizedX = scaler.transform(X)\n",
    "\n",
    "# Sumarizando os dados transformados\n",
    "print(\"Dados Originais: \\n\\n\", df4.values)\n",
    "print(\"\\nDados Normalizados: \\n\\n\", normalizedX[0:2,:])"
   ]
  },
  {
   "cell_type": "code",
   "execution_count": 136,
   "metadata": {},
   "outputs": [
    {
     "data": {
      "text/plain": [
       "(5700, 15)"
      ]
     },
     "execution_count": 136,
     "metadata": {},
     "output_type": "execute_result"
    }
   ],
   "source": []
  },
  {
   "cell_type": "markdown",
   "metadata": {},
   "source": [
    "## Machine Learning (Dados Nao Normalizados)"
   ]
  },
  {
   "cell_type": "code",
   "execution_count": 149,
   "metadata": {},
   "outputs": [
    {
     "name": "stdout",
     "output_type": "stream",
     "text": [
      "Acurácia Final: 73.070%\n"
     ]
    }
   ],
   "source": [
    "# Avaliação usando Cross Validation\n",
    "\n",
    "# Import dos módulos\n",
    "from sklearn.model_selection import KFold\n",
    "from sklearn.model_selection import cross_val_score\n",
    "from sklearn.linear_model import LogisticRegression\n",
    "\n",
    "# Carregando os dados\n",
    "df4 = df0\n",
    "array = df4.values\n",
    "\n",
    "# Separando o array em componentes de input e output\n",
    "X = array[:,0:14]\n",
    "Y = array[:,14]\n",
    "\n",
    "# Definindo os valores para os folds\n",
    "num_folds = 30\n",
    "seed = 7\n",
    "\n",
    "# Separando os dados em folds\n",
    "kfold = KFold(num_folds, True, random_state = seed)\n",
    "\n",
    "# Criando o modelo\n",
    "modelo1 = LogisticRegression()\n",
    "resultado = cross_val_score(modelo1, X, Y, cv = kfold)\n",
    "\n",
    "# Usamos a média e o desvio padrão\n",
    "print(\"Acurácia Final: %.3f%%\" % (resultado.mean() * 100.0))"
   ]
  },
  {
   "cell_type": "markdown",
   "metadata": {},
   "source": [
    "<h2>LazyClassifier"
   ]
  },
  {
   "cell_type": "code",
   "execution_count": 150,
   "metadata": {},
   "outputs": [
    {
     "name": "stderr",
     "output_type": "stream",
     "text": [
      "100%|██████████| 42/42 [00:14<00:00,  2.91it/s]"
     ]
    },
    {
     "name": "stdout",
     "output_type": "stream",
     "text": [
      "                               Adjusted R-Squared  R-Squared  RMSE  Time Taken\n",
      "Model                                                                         \n",
      "GaussianProcessRegressor                     0.96       0.96  0.10        1.62\n",
      "ExtraTreesRegressor                          0.95       0.95  0.11        0.48\n",
      "RandomForestRegressor                        0.92       0.92  0.14        1.28\n",
      "BaggingRegressor                             0.92       0.92  0.14        0.12\n",
      "XGBRegressor                                 0.92       0.92  0.14        0.28\n",
      "LGBMRegressor                                0.89       0.89  0.16        0.16\n",
      "HistGradientBoostingRegressor                0.89       0.89  0.17        0.98\n",
      "ExtraTreeRegressor                           0.85       0.85  0.19        0.02\n",
      "DecisionTreeRegressor                        0.84       0.84  0.20        0.03\n",
      "MLPRegressor                                 0.74       0.74  0.26        5.34\n",
      "SVR                                          0.73       0.73  0.26        0.65\n",
      "NuSVR                                        0.72       0.73  0.26        1.10\n",
      "GradientBoostingRegressor                    0.69       0.69  0.28        0.58\n",
      "KNeighborsRegressor                          0.62       0.62  0.31        0.21\n",
      "AdaBoostRegressor                            0.43       0.43  0.38        0.19\n",
      "Lars                                         0.29       0.30  0.42        0.03\n",
      "TransformedTargetRegressor                   0.29       0.30  0.42        0.03\n",
      "LinearRegression                             0.29       0.30  0.42        0.02\n",
      "Ridge                                        0.29       0.30  0.42        0.02\n",
      "RidgeCV                                      0.29       0.30  0.42        0.02\n",
      "BayesianRidge                                0.29       0.30  0.42        0.02\n",
      "LassoCV                                      0.29       0.30  0.42        0.08\n",
      "LassoLarsIC                                  0.29       0.30  0.42        0.01\n",
      "ElasticNetCV                                 0.29       0.30  0.42        0.06\n",
      "LarsCV                                       0.29       0.30  0.42        0.04\n",
      "LassoLarsCV                                  0.29       0.30  0.42        0.03\n",
      "SGDRegressor                                 0.29       0.30  0.42        0.01\n",
      "HuberRegressor                               0.28       0.29  0.42        0.03\n",
      "OrthogonalMatchingPursuitCV                  0.28       0.28  0.42        0.02\n",
      "LinearSVR                                    0.26       0.26  0.43        0.05\n",
      "GeneralizedLinearRegressor                   0.21       0.21  0.44        0.01\n",
      "TweedieRegressor                             0.21       0.21  0.44        0.01\n",
      "PoissonRegressor                             0.15       0.15  0.46        0.02\n",
      "OrthogonalMatchingPursuit                    0.07       0.07  0.48        0.02\n",
      "DummyRegressor                              -0.01      -0.00  0.50        0.01\n",
      "LassoLars                                   -0.01      -0.00  0.50        0.02\n",
      "ElasticNet                                  -0.01      -0.00  0.50        0.01\n",
      "Lasso                                       -0.01      -0.00  0.50        0.00\n",
      "KernelRidge                                 -0.76      -0.74  0.66        0.71\n",
      "PassiveAggressiveRegressor                  -0.78      -0.77  0.66        0.01\n"
     ]
    },
    {
     "name": "stderr",
     "output_type": "stream",
     "text": [
      "\n"
     ]
    }
   ],
   "source": [
    "# Import dos módulos\n",
    "from pandas import read_csv\n",
    "from sklearn.model_selection import KFold\n",
    "from sklearn.model_selection import cross_val_score\n",
    "from sklearn.naive_bayes import GaussianNB\n",
    "import warnings\n",
    "warnings.filterwarnings(\"ignore\")\n",
    "import lazypredict \n",
    "from lazypredict.Supervised import LazyClassifier\n",
    "from sklearn.model_selection import train_test_split\n",
    "from lazypredict.Supervised import LazyRegressor\n",
    "\n",
    "# Carregando os dados\n",
    "df4 = df0\n",
    "array = df4.values\n",
    "\n",
    "# Separando o array em componentes de input e output\n",
    "X = array[:,0:14]\n",
    "Y = array[:,14]\n",
    "\n",
    "# Divide os dados em treino e teste\n",
    "X_train, X_test, Y_train, Y_test = train_test_split(X, Y, test_size = 0.33, random_state = 5)\n",
    "\n",
    "# Criando o modelo\n",
    "clf = LazyRegressor(verbose=0,ignore_warnings = True)\n",
    "\n",
    "# Treinando o modelo\n",
    "modelo2,predicao =clf.fit(X_train, X_test, Y_train, Y_test)\n",
    "print(modelo2)"
   ]
  },
  {
   "cell_type": "markdown",
   "metadata": {},
   "source": [
    "# Algoritmo XGBoost - Extreme Gradient Boosting"
   ]
  },
  {
   "cell_type": "code",
   "execution_count": 151,
   "metadata": {},
   "outputs": [
    {
     "name": "stdout",
     "output_type": "stream",
     "text": [
      "XGBClassifier(base_score=0.5, booster='gbtree', colsample_bylevel=1,\n",
      "              colsample_bynode=1, colsample_bytree=1, gamma=0, gpu_id=-1,\n",
      "              importance_type='gain', interaction_constraints='',\n",
      "              learning_rate=0.300000012, max_delta_step=0, max_depth=6,\n",
      "              min_child_weight=1, missing=nan, monotone_constraints='()',\n",
      "              n_estimators=100, n_jobs=0, num_parallel_tree=1, random_state=0,\n",
      "              reg_alpha=0, reg_lambda=1, scale_pos_weight=1, subsample=1,\n",
      "              tree_method='exact', validate_parameters=1, verbosity=None)\n",
      "Acurácia: 98.62%\n"
     ]
    }
   ],
   "source": [
    "# Import dos módulos\n",
    "import warnings\n",
    "warnings.filterwarnings(\"ignore\")\n",
    "from pandas import read_csv\n",
    "from sklearn.model_selection import train_test_split\n",
    "from sklearn.metrics import accuracy_score\n",
    "from xgboost import XGBClassifier\n",
    "\n",
    "# Carregando os dados\n",
    "df4 = df0\n",
    "array = df4.values\n",
    "\n",
    "# Separando o array em componentes de input e output\n",
    "X = array[:,0:14]\n",
    "Y = array[:,14]\n",
    "\n",
    "# Definindo o tamanho dos dados de treino e de teste\n",
    "teste_size = 0.33\n",
    "seed = 7\n",
    "\n",
    "# Criando o dataset de treino e de teste\n",
    "X_treino, X_teste, y_treino, y_teste = train_test_split(X, Y, test_size = teste_size, random_state = seed)\n",
    "\n",
    "# Criando o modelo\n",
    "modelo3 = XGBClassifier()\n",
    "\n",
    "# Treinando o modelo\n",
    "modelo3.fit(X_treino, y_treino)\n",
    "\n",
    "# Pront do modelo\n",
    "print(modelo3)\n",
    "\n",
    "# Fazendo previsões\n",
    "y_pred = modelo3.predict(X_teste)\n",
    "previsoes = [round(value) for value in y_pred]\n",
    "\n",
    "# Avaliando as previsões\n",
    "accuracy = accuracy_score(y_teste, previsoes)\n",
    "print(\"Acurácia: %.2f%%\" % (accuracy * 100.0))"
   ]
  },
  {
   "cell_type": "markdown",
   "metadata": {},
   "source": [
    "## Machine Learning (Dados Normalizados)"
   ]
  },
  {
   "cell_type": "code",
   "execution_count": 152,
   "metadata": {},
   "outputs": [
    {
     "name": "stdout",
     "output_type": "stream",
     "text": [
      "Acurácia Final: 60.000%\n"
     ]
    }
   ],
   "source": [
    "# Avaliação usando Cross Validation\n",
    "\n",
    "# Import dos módulos\n",
    "from sklearn.model_selection import KFold\n",
    "from sklearn.model_selection import cross_val_score\n",
    "from sklearn.linear_model import LogisticRegression\n",
    "\n",
    "# Carregando os dados\n",
    "array1 = df0.values\n",
    "\n",
    "# Separando o array em componentes de input e output\n",
    "X = normalizedX[:,0:13]\n",
    "Y = array1[:,14]\n",
    "\n",
    "# Definindo os valores para os folds\n",
    "num_folds = 30\n",
    "seed = 7\n",
    "\n",
    "# Separando os dados em folds\n",
    "kfold = KFold(num_folds, True, random_state = seed)\n",
    "\n",
    "# Criando o modelo\n",
    "modelo4 = LogisticRegression()\n",
    "resultado = cross_val_score(modelo4, X, Y, cv = kfold)\n",
    "\n",
    "# Usamos a média e o desvio padrão\n",
    "print(\"Acurácia Final: %.3f%%\" % (resultado.mean() * 100.0))"
   ]
  },
  {
   "cell_type": "code",
   "execution_count": 153,
   "metadata": {},
   "outputs": [
    {
     "name": "stderr",
     "output_type": "stream",
     "text": [
      "100%|██████████| 42/42 [00:14<00:00,  2.88it/s]"
     ]
    },
    {
     "name": "stdout",
     "output_type": "stream",
     "text": [
      "                               Adjusted R-Squared  R-Squared  RMSE  Time Taken\n",
      "Model                                                                         \n",
      "GaussianProcessRegressor                     0.92       0.93  0.14        1.65\n",
      "ExtraTreesRegressor                          0.92       0.92  0.14        0.58\n",
      "RandomForestRegressor                        0.87       0.87  0.18        1.78\n",
      "XGBRegressor                                 0.86       0.86  0.19        0.36\n",
      "BaggingRegressor                             0.85       0.85  0.19        0.18\n",
      "HistGradientBoostingRegressor                0.82       0.82  0.21        1.12\n",
      "LGBMRegressor                                0.82       0.82  0.21        0.24\n",
      "DecisionTreeRegressor                        0.73       0.73  0.26        0.03\n",
      "ExtraTreeRegressor                           0.72       0.72  0.26        0.02\n",
      "MLPRegressor                                 0.62       0.63  0.31        4.41\n",
      "NuSVR                                        0.60       0.60  0.32        0.85\n",
      "SVR                                          0.60       0.60  0.32        0.69\n",
      "GradientBoostingRegressor                    0.57       0.58  0.32        0.94\n",
      "KNeighborsRegressor                          0.51       0.51  0.35        0.21\n",
      "AdaBoostRegressor                            0.35       0.36  0.40        0.14\n",
      "OrthogonalMatchingPursuitCV                  0.23       0.23  0.44        0.06\n",
      "LassoLarsCV                                  0.23       0.23  0.44        0.03\n",
      "LassoCV                                      0.23       0.23  0.44        0.09\n",
      "ElasticNetCV                                 0.23       0.23  0.44        0.06\n",
      "LassoLarsIC                                  0.23       0.23  0.44        0.01\n",
      "LarsCV                                       0.23       0.23  0.44        0.03\n",
      "BayesianRidge                                0.23       0.23  0.44        0.03\n",
      "RidgeCV                                      0.23       0.23  0.44        0.01\n",
      "Ridge                                        0.23       0.23  0.44        0.01\n",
      "TransformedTargetRegressor                   0.23       0.23  0.44        0.02\n",
      "LinearRegression                             0.23       0.23  0.44        0.01\n",
      "Lars                                         0.23       0.23  0.44        0.02\n",
      "SGDRegressor                                 0.22       0.23  0.44        0.01\n",
      "HuberRegressor                               0.22       0.22  0.44        0.04\n",
      "GeneralizedLinearRegressor                   0.16       0.17  0.46        0.02\n",
      "TweedieRegressor                             0.16       0.17  0.46        0.01\n",
      "LinearSVR                                    0.15       0.16  0.46        0.05\n",
      "PoissonRegressor                             0.11       0.12  0.47        0.01\n",
      "OrthogonalMatchingPursuit                    0.07       0.07  0.48        0.02\n",
      "DummyRegressor                              -0.01      -0.00  0.50        0.00\n",
      "LassoLars                                   -0.01      -0.00  0.50        0.01\n",
      "ElasticNet                                  -0.01      -0.00  0.50        0.02\n",
      "Lasso                                       -0.01      -0.00  0.50        0.00\n",
      "PassiveAggressiveRegressor                  -0.51      -0.50  0.61        0.01\n",
      "KernelRidge                                 -0.82      -0.80  0.67        0.71\n"
     ]
    },
    {
     "name": "stderr",
     "output_type": "stream",
     "text": [
      "\n"
     ]
    }
   ],
   "source": [
    "# Import dos módulos\n",
    "from pandas import read_csv\n",
    "from sklearn.model_selection import KFold\n",
    "from sklearn.model_selection import cross_val_score\n",
    "from sklearn.naive_bayes import GaussianNB\n",
    "import warnings\n",
    "warnings.filterwarnings(\"ignore\")\n",
    "import lazypredict \n",
    "from lazypredict.Supervised import LazyClassifier\n",
    "from sklearn.model_selection import train_test_split\n",
    "from lazypredict.Supervised import LazyRegressor\n",
    "\n",
    "# Carregando os dados\n",
    "array1 = df0.values\n",
    "\n",
    "# Separando o array em componentes de input e output\n",
    "X = normalizedX[:,0:13]\n",
    "Y = array1[:,14]\n",
    "\n",
    "# Divide os dados em treino e teste\n",
    "X_train, X_test, Y_train, Y_test = train_test_split(X, Y, test_size = 0.33, random_state = 5)\n",
    "\n",
    "# Criando o modelo\n",
    "clf = LazyRegressor(verbose=0,ignore_warnings = True)\n",
    "\n",
    "# Treinando o modelo\n",
    "modelo5,predicao =clf.fit(X_train, X_test, Y_train, Y_test)\n",
    "print(modelo5)"
   ]
  },
  {
   "cell_type": "code",
   "execution_count": 154,
   "metadata": {},
   "outputs": [
    {
     "name": "stdout",
     "output_type": "stream",
     "text": [
      "XGBClassifier(base_score=0.5, booster='gbtree', colsample_bylevel=1,\n",
      "              colsample_bynode=1, colsample_bytree=1, gamma=0, gpu_id=-1,\n",
      "              importance_type='gain', interaction_constraints='',\n",
      "              learning_rate=0.300000012, max_delta_step=0, max_depth=6,\n",
      "              min_child_weight=1, missing=nan, monotone_constraints='()',\n",
      "              n_estimators=100, n_jobs=0, num_parallel_tree=1, random_state=0,\n",
      "              reg_alpha=0, reg_lambda=1, scale_pos_weight=1, subsample=1,\n",
      "              tree_method='exact', validate_parameters=1, verbosity=None)\n",
      "Acurácia: 96.70%\n"
     ]
    }
   ],
   "source": [
    "# Import dos módulos\n",
    "import warnings\n",
    "warnings.filterwarnings(\"ignore\")\n",
    "from pandas import read_csv\n",
    "from sklearn.model_selection import train_test_split\n",
    "from sklearn.metrics import accuracy_score\n",
    "from xgboost import XGBClassifier\n",
    "\n",
    "# Carregando os dados\n",
    "array1 = df0.values\n",
    "\n",
    "# Separando o array em componentes de input e output\n",
    "X = normalizedX[:,0:13]\n",
    "Y = array1[:,14]\n",
    "\n",
    "# Definindo o tamanho dos dados de treino e de teste\n",
    "teste_size = 0.33\n",
    "seed = 7\n",
    "\n",
    "# Criando o dataset de treino e de teste\n",
    "X_treino, X_teste, y_treino, y_teste = train_test_split(X, Y, test_size = teste_size, random_state = seed)\n",
    "\n",
    "# Criando o modelo\n",
    "modelo6 = XGBClassifier()\n",
    "\n",
    "# Treinando o modelo\n",
    "modelo6.fit(X_treino, y_treino)\n",
    "\n",
    "# Pront do modelo\n",
    "print(modelo6)\n",
    "\n",
    "# Fazendo previsões\n",
    "y_pred = modelo6.predict(X_teste)\n",
    "previsoes = [round(value) for value in y_pred]\n",
    "\n",
    "# Avaliando as previsões\n",
    "accuracy = accuracy_score(y_teste, previsoes)\n",
    "print(\"Acurácia: %.2f%%\" % (accuracy * 100.0))"
   ]
  },
  {
   "cell_type": "markdown",
   "metadata": {},
   "source": [
    "## Conclusão: Podemos observar neste projeto que os dados nao normalizados tiveram uma performance melhor do que os dados normalizados.O Algoritimo XGBoost conseguiu a melhor performance chegando a 98.62% de acuracia (Modelo3)"
   ]
  },
  {
   "cell_type": "markdown",
   "metadata": {},
   "source": [
    "## DADOS DE TESTE"
   ]
  },
  {
   "cell_type": "code",
   "execution_count": 164,
   "metadata": {},
   "outputs": [
    {
     "data": {
      "text/html": [
       "<div>\n",
       "<style scoped>\n",
       "    .dataframe tbody tr th:only-of-type {\n",
       "        vertical-align: middle;\n",
       "    }\n",
       "\n",
       "    .dataframe tbody tr th {\n",
       "        vertical-align: top;\n",
       "    }\n",
       "\n",
       "    .dataframe thead th {\n",
       "        text-align: right;\n",
       "    }\n",
       "</style>\n",
       "<table border=\"1\" class=\"dataframe\">\n",
       "  <thead>\n",
       "    <tr style=\"text-align: right;\">\n",
       "      <th></th>\n",
       "      <th>Unnamed: 0</th>\n",
       "      <th>state</th>\n",
       "      <th>account_length</th>\n",
       "      <th>area_code</th>\n",
       "      <th>international_plan</th>\n",
       "      <th>voice_mail_plan</th>\n",
       "      <th>number_vmail_messages</th>\n",
       "      <th>total_day_minutes</th>\n",
       "      <th>total_day_calls</th>\n",
       "      <th>total_day_charge</th>\n",
       "      <th>...</th>\n",
       "      <th>total_eve_calls</th>\n",
       "      <th>total_eve_charge</th>\n",
       "      <th>total_night_minutes</th>\n",
       "      <th>total_night_calls</th>\n",
       "      <th>total_night_charge</th>\n",
       "      <th>total_intl_minutes</th>\n",
       "      <th>total_intl_calls</th>\n",
       "      <th>total_intl_charge</th>\n",
       "      <th>number_customer_service_calls</th>\n",
       "      <th>churn</th>\n",
       "    </tr>\n",
       "  </thead>\n",
       "  <tbody>\n",
       "    <tr>\n",
       "      <th>0</th>\n",
       "      <td>1</td>\n",
       "      <td>HI</td>\n",
       "      <td>101</td>\n",
       "      <td>area_code_510</td>\n",
       "      <td>no</td>\n",
       "      <td>no</td>\n",
       "      <td>0</td>\n",
       "      <td>70.90</td>\n",
       "      <td>123</td>\n",
       "      <td>12.05</td>\n",
       "      <td>...</td>\n",
       "      <td>73</td>\n",
       "      <td>18.01</td>\n",
       "      <td>236.00</td>\n",
       "      <td>73</td>\n",
       "      <td>10.62</td>\n",
       "      <td>10.60</td>\n",
       "      <td>3</td>\n",
       "      <td>2.86</td>\n",
       "      <td>3</td>\n",
       "      <td>no</td>\n",
       "    </tr>\n",
       "    <tr>\n",
       "      <th>1</th>\n",
       "      <td>2</td>\n",
       "      <td>MT</td>\n",
       "      <td>137</td>\n",
       "      <td>area_code_510</td>\n",
       "      <td>no</td>\n",
       "      <td>no</td>\n",
       "      <td>0</td>\n",
       "      <td>223.60</td>\n",
       "      <td>86</td>\n",
       "      <td>38.01</td>\n",
       "      <td>...</td>\n",
       "      <td>139</td>\n",
       "      <td>20.81</td>\n",
       "      <td>94.20</td>\n",
       "      <td>81</td>\n",
       "      <td>4.24</td>\n",
       "      <td>9.50</td>\n",
       "      <td>7</td>\n",
       "      <td>2.57</td>\n",
       "      <td>0</td>\n",
       "      <td>no</td>\n",
       "    </tr>\n",
       "    <tr>\n",
       "      <th>2</th>\n",
       "      <td>3</td>\n",
       "      <td>OH</td>\n",
       "      <td>103</td>\n",
       "      <td>area_code_408</td>\n",
       "      <td>no</td>\n",
       "      <td>yes</td>\n",
       "      <td>29</td>\n",
       "      <td>294.70</td>\n",
       "      <td>95</td>\n",
       "      <td>50.10</td>\n",
       "      <td>...</td>\n",
       "      <td>105</td>\n",
       "      <td>20.17</td>\n",
       "      <td>300.30</td>\n",
       "      <td>127</td>\n",
       "      <td>13.51</td>\n",
       "      <td>13.70</td>\n",
       "      <td>6</td>\n",
       "      <td>3.70</td>\n",
       "      <td>1</td>\n",
       "      <td>no</td>\n",
       "    </tr>\n",
       "    <tr>\n",
       "      <th>3</th>\n",
       "      <td>4</td>\n",
       "      <td>NM</td>\n",
       "      <td>99</td>\n",
       "      <td>area_code_415</td>\n",
       "      <td>no</td>\n",
       "      <td>no</td>\n",
       "      <td>0</td>\n",
       "      <td>216.80</td>\n",
       "      <td>123</td>\n",
       "      <td>36.86</td>\n",
       "      <td>...</td>\n",
       "      <td>88</td>\n",
       "      <td>10.74</td>\n",
       "      <td>220.60</td>\n",
       "      <td>82</td>\n",
       "      <td>9.93</td>\n",
       "      <td>15.70</td>\n",
       "      <td>2</td>\n",
       "      <td>4.24</td>\n",
       "      <td>1</td>\n",
       "      <td>no</td>\n",
       "    </tr>\n",
       "  </tbody>\n",
       "</table>\n",
       "<p>4 rows × 21 columns</p>\n",
       "</div>"
      ],
      "text/plain": [
       "   Unnamed: 0 state  account_length      area_code international_plan  \\\n",
       "0           1    HI             101  area_code_510                 no   \n",
       "1           2    MT             137  area_code_510                 no   \n",
       "2           3    OH             103  area_code_408                 no   \n",
       "3           4    NM              99  area_code_415                 no   \n",
       "\n",
       "  voice_mail_plan  number_vmail_messages  total_day_minutes  total_day_calls  \\\n",
       "0              no                      0              70.90              123   \n",
       "1              no                      0             223.60               86   \n",
       "2             yes                     29             294.70               95   \n",
       "3              no                      0             216.80              123   \n",
       "\n",
       "   total_day_charge  ...  total_eve_calls  total_eve_charge  \\\n",
       "0             12.05  ...               73             18.01   \n",
       "1             38.01  ...              139             20.81   \n",
       "2             50.10  ...              105             20.17   \n",
       "3             36.86  ...               88             10.74   \n",
       "\n",
       "   total_night_minutes  total_night_calls  total_night_charge  \\\n",
       "0               236.00                 73               10.62   \n",
       "1                94.20                 81                4.24   \n",
       "2               300.30                127               13.51   \n",
       "3               220.60                 82                9.93   \n",
       "\n",
       "   total_intl_minutes  total_intl_calls  total_intl_charge  \\\n",
       "0               10.60                 3               2.86   \n",
       "1                9.50                 7               2.57   \n",
       "2               13.70                 6               3.70   \n",
       "3               15.70                 2               4.24   \n",
       "\n",
       "   number_customer_service_calls  churn  \n",
       "0                              3     no  \n",
       "1                              0     no  \n",
       "2                              1     no  \n",
       "3                              1     no  \n",
       "\n",
       "[4 rows x 21 columns]"
      ]
     },
     "execution_count": 164,
     "metadata": {},
     "output_type": "execute_result"
    }
   ],
   "source": [
    "teste = pd.read_csv(\"projeto4_telecom_teste.csv\")\n",
    "teste.head(4)"
   ]
  },
  {
   "cell_type": "code",
   "execution_count": 165,
   "metadata": {},
   "outputs": [],
   "source": [
    "# Aplicar One-Hot-Encoder nas variaveis Object\n",
    "from sklearn.preprocessing import OrdinalEncoder\n",
    "encoder = OrdinalEncoder()\n",
    "teste[\"state\"] = encoder.fit_transform(teste[[\"state\"]]).astype(int)\n",
    "teste[\"area_code\"] = encoder.fit_transform(teste[[\"area_code\"]]).astype(int)\n",
    "teste[\"international_plan\"] = encoder.fit_transform(teste[[\"international_plan\"]]).astype(int)\n",
    "teste[\"voice_mail_plan\"] = encoder.fit_transform(teste[[\"voice_mail_plan\"]]).astype(int)\n",
    "teste[\"churn\"] = encoder.fit_transform(teste[[\"churn\"]]).astype(int)\n",
    "#Excluir a coluna Unnamed: 0\n",
    "teste=teste.drop('Unnamed: 0', axis = 1)\n"
   ]
  },
  {
   "cell_type": "code",
   "execution_count": 166,
   "metadata": {},
   "outputs": [
    {
     "data": {
      "text/plain": [
       "state                              int32\n",
       "account_length                     int64\n",
       "area_code                          int32\n",
       "international_plan                 int32\n",
       "voice_mail_plan                    int32\n",
       "total_day_calls                    int64\n",
       "total_day_charge                 float64\n",
       "total_eve_calls                    int64\n",
       "total_eve_charge                 float64\n",
       "total_night_calls                  int64\n",
       "total_night_charge               float64\n",
       "total_intl_calls                   int64\n",
       "total_intl_charge                float64\n",
       "number_customer_service_calls      int64\n",
       "churn                              int32\n",
       "dtype: object"
      ]
     },
     "execution_count": 166,
     "metadata": {},
     "output_type": "execute_result"
    }
   ],
   "source": [
    "# Excluindo as variaveis Identicas\n",
    "teste=teste.drop('number_vmail_messages', axis = 1)\n",
    "teste=teste.drop('total_day_minutes', axis = 1)\n",
    "teste=teste.drop('total_night_minutes', axis = 1)\n",
    "teste=teste.drop('total_eve_minutes', axis = 1)\n",
    "teste=teste.drop('total_intl_minutes', axis = 1)\n",
    "teste.dtypes"
   ]
  },
  {
   "cell_type": "code",
   "execution_count": 167,
   "metadata": {},
   "outputs": [
    {
     "name": "stdout",
     "output_type": "stream",
     "text": [
      "XGBClassifier(base_score=0.5, booster='gbtree', colsample_bylevel=1,\n",
      "              colsample_bynode=1, colsample_bytree=1, gamma=0, gpu_id=-1,\n",
      "              importance_type='gain', interaction_constraints='',\n",
      "              learning_rate=0.300000012, max_delta_step=0, max_depth=6,\n",
      "              min_child_weight=1, missing=nan, monotone_constraints='()',\n",
      "              n_estimators=100, n_jobs=0, num_parallel_tree=1, random_state=0,\n",
      "              reg_alpha=0, reg_lambda=1, scale_pos_weight=1, subsample=1,\n",
      "              tree_method='exact', validate_parameters=1, verbosity=None)\n",
      "Acurácia: 94.37%\n"
     ]
    }
   ],
   "source": [
    "# Carregando os dados\n",
    "teste1 = teste\n",
    "array = teste1.values\n",
    "\n",
    "# Separando o array em componentes de input e output\n",
    "X = array[:,0:14]\n",
    "Y = array[:,14]\n",
    "\n",
    "# Definindo o tamanho dos dados de treino e de teste\n",
    "teste_size = 0.33\n",
    "seed = 7\n",
    "\n",
    "# Criando o dataset de treino e de teste\n",
    "X_treino, X_teste, y_treino, y_teste = train_test_split(X, Y, test_size = teste_size, random_state = seed)\n",
    "\n",
    "# Criando o modelo\n",
    "modelo7 = XGBClassifier()\n",
    "\n",
    "# Treinando o modelo\n",
    "modelo7.fit(X_treino, y_treino)\n",
    "\n",
    "# Pront do modelo\n",
    "print(modelo7)\n",
    "\n",
    "# Fazendo previsões\n",
    "y_pred = modelo7.predict(X_teste)\n",
    "previsoes = [round(value) for value in y_pred]\n",
    "\n",
    "# Avaliando as previsões\n",
    "accuracy = accuracy_score(y_teste, previsoes)\n",
    "print(\"Acurácia: %.2f%%\" % (accuracy * 100.0))"
   ]
  },
  {
   "cell_type": "markdown",
   "metadata": {},
   "source": [
    "## Com os dados de teste conseguimos uma Acuracia de 94.37% só com alguns pre-processamentos"
   ]
  },
  {
   "cell_type": "code",
   "execution_count": null,
   "metadata": {},
   "outputs": [],
   "source": []
  }
 ],
 "metadata": {
  "kernelspec": {
   "display_name": "Python 3",
   "language": "python",
   "name": "python3"
  },
  "language_info": {
   "codemirror_mode": {
    "name": "ipython",
    "version": 3
   },
   "file_extension": ".py",
   "mimetype": "text/x-python",
   "name": "python",
   "nbconvert_exporter": "python",
   "pygments_lexer": "ipython3",
   "version": "3.8.5"
  }
 },
 "nbformat": 4,
 "nbformat_minor": 4
}
