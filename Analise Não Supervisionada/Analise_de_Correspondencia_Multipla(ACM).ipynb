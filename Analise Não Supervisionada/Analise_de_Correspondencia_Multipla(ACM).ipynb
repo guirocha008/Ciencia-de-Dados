{
 "cells": [
  {
   "cell_type": "markdown",
   "metadata": {},
   "source": [
    "# $$Análises~de~Correspondências~Múltiplas~(ACM)$$"
   ]
  },
  {
   "cell_type": "markdown",
   "metadata": {},
   "source": [
    "## $$Conceito$$\n",
    "\n",
    "- Técnica não supervisionada(Diagnostica), que visa a redução de dimensão da base de dados\n",
    "\n",
    "\n",
    "- Trabalhar com dados que se manifestam de forma qualitativa\n",
    "\n",
    "\n",
    "- Quando o número de variáveis de interesse for igual a 2, utilizaremos as Análises de Correspondências Simples (ANACOR); por outro lado, quando o número de variáveis de interesse for maior do que 2, utilizaremos as Análises de Correspondências Múltiplas (ACM)\n",
    "\n",
    "\n",
    "- A ideia, portanto, é a de se estudar as relações de interdependência em razão das associações entre as categorias das variáveis de interesse, O grande objetivo das Análises de Correspondências é o estabelecimento de um mapa perceptual. O mapa perceptual é uma espécie de gráfico que utilizará coordenadas que representarão as linhas e as colunas de uma tabela de contingências.\n",
    "\n",
    "\n",
    "- Conseguimos extrair dados métricos de uma variável categórica usando analise de correspondência\n"
   ]
  },
  {
   "cell_type": "code",
   "execution_count": 1,
   "metadata": {},
   "outputs": [],
   "source": [
    "#Pacotes\n",
    "import pandas as pd\n",
    "import numpy as np\n",
    "import scipy.stats as stats \n",
    "import matplotlib.pyplot as plt"
   ]
  },
  {
   "cell_type": "markdown",
   "metadata": {},
   "source": [
    "# Banco de dados "
   ]
  },
  {
   "cell_type": "code",
   "execution_count": 2,
   "metadata": {},
   "outputs": [
    {
     "data": {
      "text/html": [
       "<div>\n",
       "<style scoped>\n",
       "    .dataframe tbody tr th:only-of-type {\n",
       "        vertical-align: middle;\n",
       "    }\n",
       "\n",
       "    .dataframe tbody tr th {\n",
       "        vertical-align: top;\n",
       "    }\n",
       "\n",
       "    .dataframe thead th {\n",
       "        text-align: right;\n",
       "    }\n",
       "</style>\n",
       "<table border=\"1\" class=\"dataframe\">\n",
       "  <thead>\n",
       "    <tr style=\"text-align: right;\">\n",
       "      <th></th>\n",
       "      <th>perfil</th>\n",
       "      <th>aplicacao</th>\n",
       "      <th>estado_civil</th>\n",
       "    </tr>\n",
       "    <tr>\n",
       "      <th>estudante</th>\n",
       "      <th></th>\n",
       "      <th></th>\n",
       "      <th></th>\n",
       "    </tr>\n",
       "  </thead>\n",
       "  <tbody>\n",
       "    <tr>\n",
       "      <th>Gabriela</th>\n",
       "      <td>Conservador</td>\n",
       "      <td>Poupanca</td>\n",
       "      <td>Casado</td>\n",
       "    </tr>\n",
       "    <tr>\n",
       "      <th>Luiz Felipe</th>\n",
       "      <td>Conservador</td>\n",
       "      <td>Poupanca</td>\n",
       "      <td>Casado</td>\n",
       "    </tr>\n",
       "    <tr>\n",
       "      <th>Patrícia</th>\n",
       "      <td>Conservador</td>\n",
       "      <td>Poupanca</td>\n",
       "      <td>Casado</td>\n",
       "    </tr>\n",
       "    <tr>\n",
       "      <th>Gustavo</th>\n",
       "      <td>Conservador</td>\n",
       "      <td>Poupanca</td>\n",
       "      <td>Solteiro</td>\n",
       "    </tr>\n",
       "    <tr>\n",
       "      <th>Letícia</th>\n",
       "      <td>Conservador</td>\n",
       "      <td>Poupanca</td>\n",
       "      <td>Casado</td>\n",
       "    </tr>\n",
       "    <tr>\n",
       "      <th>...</th>\n",
       "      <td>...</td>\n",
       "      <td>...</td>\n",
       "      <td>...</td>\n",
       "    </tr>\n",
       "    <tr>\n",
       "      <th>Sheila</th>\n",
       "      <td>Agressivo</td>\n",
       "      <td>Acoes</td>\n",
       "      <td>Solteiro</td>\n",
       "    </tr>\n",
       "    <tr>\n",
       "      <th>Pedro</th>\n",
       "      <td>Agressivo</td>\n",
       "      <td>Acoes</td>\n",
       "      <td>Solteiro</td>\n",
       "    </tr>\n",
       "    <tr>\n",
       "      <th>Horácio</th>\n",
       "      <td>Agressivo</td>\n",
       "      <td>Acoes</td>\n",
       "      <td>Solteiro</td>\n",
       "    </tr>\n",
       "    <tr>\n",
       "      <th>Leandro</th>\n",
       "      <td>Agressivo</td>\n",
       "      <td>Acoes</td>\n",
       "      <td>Solteiro</td>\n",
       "    </tr>\n",
       "    <tr>\n",
       "      <th>Estela</th>\n",
       "      <td>Agressivo</td>\n",
       "      <td>Acoes</td>\n",
       "      <td>Solteiro</td>\n",
       "    </tr>\n",
       "  </tbody>\n",
       "</table>\n",
       "<p>100 rows × 3 columns</p>\n",
       "</div>"
      ],
      "text/plain": [
       "                  perfil aplicacao estado_civil\n",
       "estudante                                      \n",
       "Gabriela     Conservador  Poupanca       Casado\n",
       "Luiz Felipe  Conservador  Poupanca       Casado\n",
       "Patrícia     Conservador  Poupanca       Casado\n",
       "Gustavo      Conservador  Poupanca     Solteiro\n",
       "Letícia      Conservador  Poupanca       Casado\n",
       "...                  ...       ...          ...\n",
       "Sheila         Agressivo     Acoes     Solteiro\n",
       "Pedro          Agressivo     Acoes     Solteiro\n",
       "Horácio        Agressivo     Acoes     Solteiro\n",
       "Leandro        Agressivo     Acoes     Solteiro\n",
       "Estela         Agressivo     Acoes     Solteiro\n",
       "\n",
       "[100 rows x 3 columns]"
      ]
     },
     "execution_count": 2,
     "metadata": {},
     "output_type": "execute_result"
    }
   ],
   "source": [
    "#Base de dados\n",
    "dados = pd.read_csv('perfil_investidor2.csv',encoding='latin-1')\n",
    "dados = dados.set_index('estudante')\n",
    "dados"
   ]
  },
  {
   "cell_type": "markdown",
   "metadata": {},
   "source": [
    "**Tabela com 100 observações e 3 variáveis**"
   ]
  },
  {
   "cell_type": "code",
   "execution_count": 3,
   "metadata": {},
   "outputs": [
    {
     "name": "stdout",
     "output_type": "stream",
     "text": [
      "['Conservador' 'Moderado' 'Agressivo']\n",
      "['Poupanca' 'CDB' 'Acoes']\n",
      "['Casado' 'Solteiro']\n"
     ]
    }
   ],
   "source": [
    "#Labels\n",
    "print(dados.perfil.unique())\n",
    "print(dados.aplicacao.unique())\n",
    "print(dados.estado_civil.unique())\n",
    "\n"
   ]
  },
  {
   "cell_type": "markdown",
   "metadata": {},
   "source": [
    "**Nome das labels de cada variável**"
   ]
  },
  {
   "cell_type": "code",
   "execution_count": 4,
   "metadata": {},
   "outputs": [
    {
     "data": {
      "text/plain": [
       "Agressivo      58\n",
       "Moderado       25\n",
       "Conservador    17\n",
       "Name: perfil, dtype: int64"
      ]
     },
     "execution_count": 4,
     "metadata": {},
     "output_type": "execute_result"
    }
   ],
   "source": [
    "#Frequência das labels na variável perfil\n",
    "dados.perfil.value_counts()"
   ]
  },
  {
   "cell_type": "code",
   "execution_count": 5,
   "metadata": {},
   "outputs": [
    {
     "data": {
      "text/plain": [
       "Acoes       45\n",
       "CDB         40\n",
       "Poupanca    15\n",
       "Name: aplicacao, dtype: int64"
      ]
     },
     "execution_count": 5,
     "metadata": {},
     "output_type": "execute_result"
    }
   ],
   "source": [
    "#Frequência das labels na variável aplicacao\n",
    "dados.aplicacao.value_counts()"
   ]
  },
  {
   "cell_type": "code",
   "execution_count": 6,
   "metadata": {},
   "outputs": [
    {
     "data": {
      "text/plain": [
       "Solteiro    57\n",
       "Casado      43\n",
       "Name: estado_civil, dtype: int64"
      ]
     },
     "execution_count": 6,
     "metadata": {},
     "output_type": "execute_result"
    }
   ],
   "source": [
    "#Frequência das labels na variável estado_civil\n",
    "dados.estado_civil.value_counts()"
   ]
  },
  {
   "cell_type": "markdown",
   "metadata": {},
   "source": [
    "## Tabela de Contingências "
   ]
  },
  {
   "cell_type": "markdown",
   "metadata": {},
   "source": [
    "**Na ACM não há como se estabelecer uma única tabela de contingência que abranja todas as variáveis presentes na base de dados, temos que criar as tabelas de contingencias de duas em duas e fazer o estudo do Qui-Quadrado de cada tabela**"
   ]
  },
  {
   "cell_type": "code",
   "execution_count": 7,
   "metadata": {},
   "outputs": [
    {
     "data": {
      "text/html": [
       "<div>\n",
       "<style scoped>\n",
       "    .dataframe tbody tr th:only-of-type {\n",
       "        vertical-align: middle;\n",
       "    }\n",
       "\n",
       "    .dataframe tbody tr th {\n",
       "        vertical-align: top;\n",
       "    }\n",
       "\n",
       "    .dataframe thead th {\n",
       "        text-align: right;\n",
       "    }\n",
       "</style>\n",
       "<table border=\"1\" class=\"dataframe\">\n",
       "  <thead>\n",
       "    <tr style=\"text-align: right;\">\n",
       "      <th>aplicacao</th>\n",
       "      <th>Acoes</th>\n",
       "      <th>CDB</th>\n",
       "      <th>Poupanca</th>\n",
       "      <th>All</th>\n",
       "    </tr>\n",
       "    <tr>\n",
       "      <th>perfil</th>\n",
       "      <th></th>\n",
       "      <th></th>\n",
       "      <th></th>\n",
       "      <th></th>\n",
       "    </tr>\n",
       "  </thead>\n",
       "  <tbody>\n",
       "    <tr>\n",
       "      <th>Agressivo</th>\n",
       "      <td>36</td>\n",
       "      <td>20</td>\n",
       "      <td>2</td>\n",
       "      <td>58</td>\n",
       "    </tr>\n",
       "    <tr>\n",
       "      <th>Conservador</th>\n",
       "      <td>5</td>\n",
       "      <td>4</td>\n",
       "      <td>8</td>\n",
       "      <td>17</td>\n",
       "    </tr>\n",
       "    <tr>\n",
       "      <th>Moderado</th>\n",
       "      <td>4</td>\n",
       "      <td>16</td>\n",
       "      <td>5</td>\n",
       "      <td>25</td>\n",
       "    </tr>\n",
       "    <tr>\n",
       "      <th>All</th>\n",
       "      <td>45</td>\n",
       "      <td>40</td>\n",
       "      <td>15</td>\n",
       "      <td>100</td>\n",
       "    </tr>\n",
       "  </tbody>\n",
       "</table>\n",
       "</div>"
      ],
      "text/plain": [
       "aplicacao    Acoes  CDB  Poupanca  All\n",
       "perfil                                \n",
       "Agressivo       36   20         2   58\n",
       "Conservador      5    4         8   17\n",
       "Moderado         4   16         5   25\n",
       "All             45   40        15  100"
      ]
     },
     "execution_count": 7,
     "metadata": {},
     "output_type": "execute_result"
    }
   ],
   "source": [
    "# Perfil x Aplicação\n",
    "tab_cont_PA = pd.crosstab(dados.perfil,dados.aplicacao,margins=True)\n",
    "tab_cont_PA"
   ]
  },
  {
   "cell_type": "code",
   "execution_count": 8,
   "metadata": {},
   "outputs": [
    {
     "data": {
      "text/html": [
       "<div>\n",
       "<style scoped>\n",
       "    .dataframe tbody tr th:only-of-type {\n",
       "        vertical-align: middle;\n",
       "    }\n",
       "\n",
       "    .dataframe tbody tr th {\n",
       "        vertical-align: top;\n",
       "    }\n",
       "\n",
       "    .dataframe thead th {\n",
       "        text-align: right;\n",
       "    }\n",
       "</style>\n",
       "<table border=\"1\" class=\"dataframe\">\n",
       "  <thead>\n",
       "    <tr style=\"text-align: right;\">\n",
       "      <th>estado_civil</th>\n",
       "      <th>Casado</th>\n",
       "      <th>Solteiro</th>\n",
       "      <th>All</th>\n",
       "    </tr>\n",
       "    <tr>\n",
       "      <th>perfil</th>\n",
       "      <th></th>\n",
       "      <th></th>\n",
       "      <th></th>\n",
       "    </tr>\n",
       "  </thead>\n",
       "  <tbody>\n",
       "    <tr>\n",
       "      <th>Agressivo</th>\n",
       "      <td>17</td>\n",
       "      <td>41</td>\n",
       "      <td>58</td>\n",
       "    </tr>\n",
       "    <tr>\n",
       "      <th>Conservador</th>\n",
       "      <td>12</td>\n",
       "      <td>5</td>\n",
       "      <td>17</td>\n",
       "    </tr>\n",
       "    <tr>\n",
       "      <th>Moderado</th>\n",
       "      <td>14</td>\n",
       "      <td>11</td>\n",
       "      <td>25</td>\n",
       "    </tr>\n",
       "    <tr>\n",
       "      <th>All</th>\n",
       "      <td>43</td>\n",
       "      <td>57</td>\n",
       "      <td>100</td>\n",
       "    </tr>\n",
       "  </tbody>\n",
       "</table>\n",
       "</div>"
      ],
      "text/plain": [
       "estado_civil  Casado  Solteiro  All\n",
       "perfil                             \n",
       "Agressivo         17        41   58\n",
       "Conservador       12         5   17\n",
       "Moderado          14        11   25\n",
       "All               43        57  100"
      ]
     },
     "execution_count": 8,
     "metadata": {},
     "output_type": "execute_result"
    }
   ],
   "source": [
    "# Perfil x Estado Civil\n",
    "tab_cont_PE = pd.crosstab(dados.perfil,dados.estado_civil,margins=True)\n",
    "tab_cont_PE"
   ]
  },
  {
   "cell_type": "code",
   "execution_count": 9,
   "metadata": {},
   "outputs": [
    {
     "data": {
      "text/html": [
       "<div>\n",
       "<style scoped>\n",
       "    .dataframe tbody tr th:only-of-type {\n",
       "        vertical-align: middle;\n",
       "    }\n",
       "\n",
       "    .dataframe tbody tr th {\n",
       "        vertical-align: top;\n",
       "    }\n",
       "\n",
       "    .dataframe thead th {\n",
       "        text-align: right;\n",
       "    }\n",
       "</style>\n",
       "<table border=\"1\" class=\"dataframe\">\n",
       "  <thead>\n",
       "    <tr style=\"text-align: right;\">\n",
       "      <th>estado_civil</th>\n",
       "      <th>Casado</th>\n",
       "      <th>Solteiro</th>\n",
       "      <th>All</th>\n",
       "    </tr>\n",
       "    <tr>\n",
       "      <th>aplicacao</th>\n",
       "      <th></th>\n",
       "      <th></th>\n",
       "      <th></th>\n",
       "    </tr>\n",
       "  </thead>\n",
       "  <tbody>\n",
       "    <tr>\n",
       "      <th>Acoes</th>\n",
       "      <td>9</td>\n",
       "      <td>36</td>\n",
       "      <td>45</td>\n",
       "    </tr>\n",
       "    <tr>\n",
       "      <th>CDB</th>\n",
       "      <td>24</td>\n",
       "      <td>16</td>\n",
       "      <td>40</td>\n",
       "    </tr>\n",
       "    <tr>\n",
       "      <th>Poupanca</th>\n",
       "      <td>10</td>\n",
       "      <td>5</td>\n",
       "      <td>15</td>\n",
       "    </tr>\n",
       "    <tr>\n",
       "      <th>All</th>\n",
       "      <td>43</td>\n",
       "      <td>57</td>\n",
       "      <td>100</td>\n",
       "    </tr>\n",
       "  </tbody>\n",
       "</table>\n",
       "</div>"
      ],
      "text/plain": [
       "estado_civil  Casado  Solteiro  All\n",
       "aplicacao                          \n",
       "Acoes              9        36   45\n",
       "CDB               24        16   40\n",
       "Poupanca          10         5   15\n",
       "All               43        57  100"
      ]
     },
     "execution_count": 9,
     "metadata": {},
     "output_type": "execute_result"
    }
   ],
   "source": [
    "# Aplicação x Estado Civil\n",
    "tab_cont_AE = pd.crosstab(dados.aplicacao,dados.estado_civil,margins=True)\n",
    "tab_cont_AE"
   ]
  },
  {
   "cell_type": "markdown",
   "metadata": {},
   "source": [
    "**Construímos uma tabela de contingência para todos os pares de variáveis do dataset**"
   ]
  },
  {
   "cell_type": "markdown",
   "metadata": {},
   "source": [
    "## Estudo do Qui-Quadrado de cada tabela de contingências"
   ]
  },
  {
   "cell_type": "markdown",
   "metadata": {},
   "source": [
    "**Para o estudo das associações entre as categorias das variáveis, utilizaremos dois instrumentos: o Teste 𝜒2**\n",
    "\n",
    "\n",
    "- O **Teste 𝜒2** estudará se as associações entre as categorias das variáveis se associam, ou não, de forma aleatória, caso o p_valor seja < 0.05, rejeitamos a hipótese nula que diz que as duas variáveis categóricas se associam de forma aleatória e pelo menos 1 categoria se mostrará associada com outra\n",
    "\n",
    "\n",
    "- Logo, deveremos estabelecer uma matriz de valores esperados e, a seguir, uma matriz de resíduos – isso bastará para o Teste 𝜒2\n",
    "\n"
   ]
  },
  {
   "cell_type": "code",
   "execution_count": 10,
   "metadata": {},
   "outputs": [
    {
     "data": {
      "text/plain": [
       "0.0002187073702990959"
      ]
     },
     "execution_count": 10,
     "metadata": {},
     "output_type": "execute_result"
    }
   ],
   "source": [
    "#Teste chi² (Perfil x Aplicação)\n",
    "chi2, pvalor, graus_liberdade, valores_esperados = stats.chi2_contingency(tab_cont_PA)\n",
    "pvalor"
   ]
  },
  {
   "cell_type": "markdown",
   "metadata": {},
   "source": [
    "**P_Valor < 0.05, portanto rejeita H0, as variáveis categóricas não se associam de forma aleatória, tem ACM entre as variáveis Perfil e Aplicação**"
   ]
  },
  {
   "cell_type": "code",
   "execution_count": 11,
   "metadata": {},
   "outputs": [
    {
     "data": {
      "text/plain": [
       "0.07575848845254271"
      ]
     },
     "execution_count": 11,
     "metadata": {},
     "output_type": "execute_result"
    }
   ],
   "source": [
    "#Teste chi² (Perfil x Estado Civil)\n",
    "chi2, pvalor, graus_liberdade, valores_esperados = stats.chi2_contingency(tab_cont_PE)\n",
    "pvalor"
   ]
  },
  {
   "cell_type": "markdown",
   "metadata": {},
   "source": [
    "**P_Valor < 0.05, portanto rejeita H0, as variáveis categóricas não se associam de forma aleatória, tem ACM entre as variáveis Perfil e Estado Civil**"
   ]
  },
  {
   "cell_type": "code",
   "execution_count": 12,
   "metadata": {},
   "outputs": [
    {
     "data": {
      "text/plain": [
       "0.006600580473427465"
      ]
     },
     "execution_count": 12,
     "metadata": {},
     "output_type": "execute_result"
    }
   ],
   "source": [
    "#Teste chi² (Aplicação x Estado Civil)\n",
    "chi2, pvalor, graus_liberdade, valores_esperados = stats.chi2_contingency(tab_cont_AE)\n",
    "pvalor"
   ]
  },
  {
   "cell_type": "markdown",
   "metadata": {},
   "source": [
    "**P_Valor < 0.05, portanto rejeita H0, as variáveis categóricas não se associam de forma aleatória, tem ACM entre as variáveis Aplicação e Estado Civil**"
   ]
  },
  {
   "cell_type": "markdown",
   "metadata": {},
   "source": [
    "**Como todas as variáveis tem associação com pelo menos 1 categoria de outra variável, não vamos excluir nenhuma variável do dataset**"
   ]
  },
  {
   "cell_type": "markdown",
   "metadata": {},
   "source": [
    "# Matriz Binária(Z) "
   ]
  },
  {
   "cell_type": "markdown",
   "metadata": {},
   "source": [
    "**Matriz Binária(Z) se assemelha a tabela de contingencia de uma ANACOR, sendo agora a matéria prima da ACM, com ela conseguimos extrair as coordenadas(consideradas variáveis metricas) das observações e das variáveis, sendo assim , podemos estudar associações entre categorias e observações das variáveis**"
   ]
  },
  {
   "cell_type": "code",
   "execution_count": 13,
   "metadata": {},
   "outputs": [
    {
     "data": {
      "text/html": [
       "<div>\n",
       "<style scoped>\n",
       "    .dataframe tbody tr th:only-of-type {\n",
       "        vertical-align: middle;\n",
       "    }\n",
       "\n",
       "    .dataframe tbody tr th {\n",
       "        vertical-align: top;\n",
       "    }\n",
       "\n",
       "    .dataframe thead th {\n",
       "        text-align: right;\n",
       "    }\n",
       "</style>\n",
       "<table border=\"1\" class=\"dataframe\">\n",
       "  <thead>\n",
       "    <tr style=\"text-align: right;\">\n",
       "      <th></th>\n",
       "      <th>perfil_Agressivo</th>\n",
       "      <th>perfil_Conservador</th>\n",
       "      <th>perfil_Moderado</th>\n",
       "      <th>aplicacao_Acoes</th>\n",
       "      <th>aplicacao_CDB</th>\n",
       "      <th>aplicacao_Poupanca</th>\n",
       "      <th>estado_civil_Casado</th>\n",
       "      <th>estado_civil_Solteiro</th>\n",
       "    </tr>\n",
       "    <tr>\n",
       "      <th>estudante</th>\n",
       "      <th></th>\n",
       "      <th></th>\n",
       "      <th></th>\n",
       "      <th></th>\n",
       "      <th></th>\n",
       "      <th></th>\n",
       "      <th></th>\n",
       "      <th></th>\n",
       "    </tr>\n",
       "  </thead>\n",
       "  <tbody>\n",
       "    <tr>\n",
       "      <th>Gabriela</th>\n",
       "      <td>0</td>\n",
       "      <td>1</td>\n",
       "      <td>0</td>\n",
       "      <td>0</td>\n",
       "      <td>0</td>\n",
       "      <td>1</td>\n",
       "      <td>1</td>\n",
       "      <td>0</td>\n",
       "    </tr>\n",
       "    <tr>\n",
       "      <th>Luiz Felipe</th>\n",
       "      <td>0</td>\n",
       "      <td>1</td>\n",
       "      <td>0</td>\n",
       "      <td>0</td>\n",
       "      <td>0</td>\n",
       "      <td>1</td>\n",
       "      <td>1</td>\n",
       "      <td>0</td>\n",
       "    </tr>\n",
       "    <tr>\n",
       "      <th>Patrícia</th>\n",
       "      <td>0</td>\n",
       "      <td>1</td>\n",
       "      <td>0</td>\n",
       "      <td>0</td>\n",
       "      <td>0</td>\n",
       "      <td>1</td>\n",
       "      <td>1</td>\n",
       "      <td>0</td>\n",
       "    </tr>\n",
       "    <tr>\n",
       "      <th>Gustavo</th>\n",
       "      <td>0</td>\n",
       "      <td>1</td>\n",
       "      <td>0</td>\n",
       "      <td>0</td>\n",
       "      <td>0</td>\n",
       "      <td>1</td>\n",
       "      <td>0</td>\n",
       "      <td>1</td>\n",
       "    </tr>\n",
       "    <tr>\n",
       "      <th>Letícia</th>\n",
       "      <td>0</td>\n",
       "      <td>1</td>\n",
       "      <td>0</td>\n",
       "      <td>0</td>\n",
       "      <td>0</td>\n",
       "      <td>1</td>\n",
       "      <td>1</td>\n",
       "      <td>0</td>\n",
       "    </tr>\n",
       "    <tr>\n",
       "      <th>...</th>\n",
       "      <td>...</td>\n",
       "      <td>...</td>\n",
       "      <td>...</td>\n",
       "      <td>...</td>\n",
       "      <td>...</td>\n",
       "      <td>...</td>\n",
       "      <td>...</td>\n",
       "      <td>...</td>\n",
       "    </tr>\n",
       "    <tr>\n",
       "      <th>Sheila</th>\n",
       "      <td>1</td>\n",
       "      <td>0</td>\n",
       "      <td>0</td>\n",
       "      <td>1</td>\n",
       "      <td>0</td>\n",
       "      <td>0</td>\n",
       "      <td>0</td>\n",
       "      <td>1</td>\n",
       "    </tr>\n",
       "    <tr>\n",
       "      <th>Pedro</th>\n",
       "      <td>1</td>\n",
       "      <td>0</td>\n",
       "      <td>0</td>\n",
       "      <td>1</td>\n",
       "      <td>0</td>\n",
       "      <td>0</td>\n",
       "      <td>0</td>\n",
       "      <td>1</td>\n",
       "    </tr>\n",
       "    <tr>\n",
       "      <th>Horácio</th>\n",
       "      <td>1</td>\n",
       "      <td>0</td>\n",
       "      <td>0</td>\n",
       "      <td>1</td>\n",
       "      <td>0</td>\n",
       "      <td>0</td>\n",
       "      <td>0</td>\n",
       "      <td>1</td>\n",
       "    </tr>\n",
       "    <tr>\n",
       "      <th>Leandro</th>\n",
       "      <td>1</td>\n",
       "      <td>0</td>\n",
       "      <td>0</td>\n",
       "      <td>1</td>\n",
       "      <td>0</td>\n",
       "      <td>0</td>\n",
       "      <td>0</td>\n",
       "      <td>1</td>\n",
       "    </tr>\n",
       "    <tr>\n",
       "      <th>Estela</th>\n",
       "      <td>1</td>\n",
       "      <td>0</td>\n",
       "      <td>0</td>\n",
       "      <td>1</td>\n",
       "      <td>0</td>\n",
       "      <td>0</td>\n",
       "      <td>0</td>\n",
       "      <td>1</td>\n",
       "    </tr>\n",
       "  </tbody>\n",
       "</table>\n",
       "<p>100 rows × 8 columns</p>\n",
       "</div>"
      ],
      "text/plain": [
       "             perfil_Agressivo  perfil_Conservador  perfil_Moderado  \\\n",
       "estudante                                                            \n",
       "Gabriela                    0                   1                0   \n",
       "Luiz Felipe                 0                   1                0   \n",
       "Patrícia                    0                   1                0   \n",
       "Gustavo                     0                   1                0   \n",
       "Letícia                     0                   1                0   \n",
       "...                       ...                 ...              ...   \n",
       "Sheila                      1                   0                0   \n",
       "Pedro                       1                   0                0   \n",
       "Horácio                     1                   0                0   \n",
       "Leandro                     1                   0                0   \n",
       "Estela                      1                   0                0   \n",
       "\n",
       "             aplicacao_Acoes  aplicacao_CDB  aplicacao_Poupanca  \\\n",
       "estudante                                                         \n",
       "Gabriela                   0              0                   1   \n",
       "Luiz Felipe                0              0                   1   \n",
       "Patrícia                   0              0                   1   \n",
       "Gustavo                    0              0                   1   \n",
       "Letícia                    0              0                   1   \n",
       "...                      ...            ...                 ...   \n",
       "Sheila                     1              0                   0   \n",
       "Pedro                      1              0                   0   \n",
       "Horácio                    1              0                   0   \n",
       "Leandro                    1              0                   0   \n",
       "Estela                     1              0                   0   \n",
       "\n",
       "             estado_civil_Casado  estado_civil_Solteiro  \n",
       "estudante                                                \n",
       "Gabriela                       1                      0  \n",
       "Luiz Felipe                    1                      0  \n",
       "Patrícia                       1                      0  \n",
       "Gustavo                        0                      1  \n",
       "Letícia                        1                      0  \n",
       "...                          ...                    ...  \n",
       "Sheila                         0                      1  \n",
       "Pedro                          0                      1  \n",
       "Horácio                        0                      1  \n",
       "Leandro                        0                      1  \n",
       "Estela                         0                      1  \n",
       "\n",
       "[100 rows x 8 columns]"
      ]
     },
     "execution_count": 13,
     "metadata": {},
     "output_type": "execute_result"
    }
   ],
   "source": [
    "#Matriz Binária(Z)\n",
    "matriz_binaria = pd.get_dummies(dados)\n",
    "matriz_binaria"
   ]
  },
  {
   "cell_type": "markdown",
   "metadata": {},
   "source": [
    "# Matriz de Burt "
   ]
  },
  {
   "cell_type": "markdown",
   "metadata": {},
   "source": [
    "**Parecido com a Matriz Binária(Z), porém não captura as coordenadas das observações, mas possui uma grande vantagem se sua intenção for estudar as coordenadas das categorias, pois a matriz de Burt consegue capturar mais da inercia principal total**"
   ]
  },
  {
   "cell_type": "code",
   "execution_count": 14,
   "metadata": {},
   "outputs": [
    {
     "data": {
      "text/html": [
       "<div>\n",
       "<style scoped>\n",
       "    .dataframe tbody tr th:only-of-type {\n",
       "        vertical-align: middle;\n",
       "    }\n",
       "\n",
       "    .dataframe tbody tr th {\n",
       "        vertical-align: top;\n",
       "    }\n",
       "\n",
       "    .dataframe thead th {\n",
       "        text-align: right;\n",
       "    }\n",
       "</style>\n",
       "<table border=\"1\" class=\"dataframe\">\n",
       "  <thead>\n",
       "    <tr style=\"text-align: right;\">\n",
       "      <th></th>\n",
       "      <th>perfil_Agressivo</th>\n",
       "      <th>perfil_Conservador</th>\n",
       "      <th>perfil_Moderado</th>\n",
       "      <th>aplicacao_Acoes</th>\n",
       "      <th>aplicacao_CDB</th>\n",
       "      <th>aplicacao_Poupanca</th>\n",
       "      <th>estado_civil_Casado</th>\n",
       "      <th>estado_civil_Solteiro</th>\n",
       "    </tr>\n",
       "  </thead>\n",
       "  <tbody>\n",
       "    <tr>\n",
       "      <th>perfil_Agressivo</th>\n",
       "      <td>58</td>\n",
       "      <td>0</td>\n",
       "      <td>0</td>\n",
       "      <td>36</td>\n",
       "      <td>20</td>\n",
       "      <td>2</td>\n",
       "      <td>17</td>\n",
       "      <td>41</td>\n",
       "    </tr>\n",
       "    <tr>\n",
       "      <th>perfil_Conservador</th>\n",
       "      <td>0</td>\n",
       "      <td>17</td>\n",
       "      <td>0</td>\n",
       "      <td>5</td>\n",
       "      <td>4</td>\n",
       "      <td>8</td>\n",
       "      <td>12</td>\n",
       "      <td>5</td>\n",
       "    </tr>\n",
       "    <tr>\n",
       "      <th>perfil_Moderado</th>\n",
       "      <td>0</td>\n",
       "      <td>0</td>\n",
       "      <td>25</td>\n",
       "      <td>4</td>\n",
       "      <td>16</td>\n",
       "      <td>5</td>\n",
       "      <td>14</td>\n",
       "      <td>11</td>\n",
       "    </tr>\n",
       "    <tr>\n",
       "      <th>aplicacao_Acoes</th>\n",
       "      <td>36</td>\n",
       "      <td>5</td>\n",
       "      <td>4</td>\n",
       "      <td>45</td>\n",
       "      <td>0</td>\n",
       "      <td>0</td>\n",
       "      <td>9</td>\n",
       "      <td>36</td>\n",
       "    </tr>\n",
       "    <tr>\n",
       "      <th>aplicacao_CDB</th>\n",
       "      <td>20</td>\n",
       "      <td>4</td>\n",
       "      <td>16</td>\n",
       "      <td>0</td>\n",
       "      <td>40</td>\n",
       "      <td>0</td>\n",
       "      <td>24</td>\n",
       "      <td>16</td>\n",
       "    </tr>\n",
       "    <tr>\n",
       "      <th>aplicacao_Poupanca</th>\n",
       "      <td>2</td>\n",
       "      <td>8</td>\n",
       "      <td>5</td>\n",
       "      <td>0</td>\n",
       "      <td>0</td>\n",
       "      <td>15</td>\n",
       "      <td>10</td>\n",
       "      <td>5</td>\n",
       "    </tr>\n",
       "    <tr>\n",
       "      <th>estado_civil_Casado</th>\n",
       "      <td>17</td>\n",
       "      <td>12</td>\n",
       "      <td>14</td>\n",
       "      <td>9</td>\n",
       "      <td>24</td>\n",
       "      <td>10</td>\n",
       "      <td>43</td>\n",
       "      <td>0</td>\n",
       "    </tr>\n",
       "    <tr>\n",
       "      <th>estado_civil_Solteiro</th>\n",
       "      <td>41</td>\n",
       "      <td>5</td>\n",
       "      <td>11</td>\n",
       "      <td>36</td>\n",
       "      <td>16</td>\n",
       "      <td>5</td>\n",
       "      <td>0</td>\n",
       "      <td>57</td>\n",
       "    </tr>\n",
       "  </tbody>\n",
       "</table>\n",
       "</div>"
      ],
      "text/plain": [
       "                       perfil_Agressivo  perfil_Conservador  perfil_Moderado  \\\n",
       "perfil_Agressivo                     58                   0                0   \n",
       "perfil_Conservador                    0                  17                0   \n",
       "perfil_Moderado                       0                   0               25   \n",
       "aplicacao_Acoes                      36                   5                4   \n",
       "aplicacao_CDB                        20                   4               16   \n",
       "aplicacao_Poupanca                    2                   8                5   \n",
       "estado_civil_Casado                  17                  12               14   \n",
       "estado_civil_Solteiro                41                   5               11   \n",
       "\n",
       "                       aplicacao_Acoes  aplicacao_CDB  aplicacao_Poupanca  \\\n",
       "perfil_Agressivo                    36             20                   2   \n",
       "perfil_Conservador                   5              4                   8   \n",
       "perfil_Moderado                      4             16                   5   \n",
       "aplicacao_Acoes                     45              0                   0   \n",
       "aplicacao_CDB                        0             40                   0   \n",
       "aplicacao_Poupanca                   0              0                  15   \n",
       "estado_civil_Casado                  9             24                  10   \n",
       "estado_civil_Solteiro               36             16                   5   \n",
       "\n",
       "                       estado_civil_Casado  estado_civil_Solteiro  \n",
       "perfil_Agressivo                        17                     41  \n",
       "perfil_Conservador                      12                      5  \n",
       "perfil_Moderado                         14                     11  \n",
       "aplicacao_Acoes                          9                     36  \n",
       "aplicacao_CDB                           24                     16  \n",
       "aplicacao_Poupanca                      10                      5  \n",
       "estado_civil_Casado                     43                      0  \n",
       "estado_civil_Solteiro                    0                     57  "
      ]
     },
     "execution_count": 14,
     "metadata": {},
     "output_type": "execute_result"
    }
   ],
   "source": [
    "# Matriz de Burt\n",
    "Matriz_Burt = pd.DataFrame(np.dot(matriz_binaria.T,matriz_binaria),columns=matriz_binaria.columns)\n",
    "Matriz_Burt.index = Matriz_Burt.columns\n",
    "Matriz_Burt"
   ]
  },
  {
   "cell_type": "markdown",
   "metadata": {},
   "source": [
    "**A matriz de burt é a matriz binaria pela sua transposta, note que as colunas e as linhas são as mesmas**"
   ]
  },
  {
   "cell_type": "markdown",
   "metadata": {},
   "source": [
    "## Decomposição da Inércia Principal Total na ACM"
   ]
  },
  {
   "cell_type": "markdown",
   "metadata": {},
   "source": [
    "### **Formula:**\n",
    "    \n",
    "- **J = N° Total de Categorias**\n",
    "\n",
    "\n",
    "- **Q = N° Total de Variáveis**\n",
    "    \n",
    "    \n",
    "- **Inércia Principal Total = (J - Q) / Q**"
   ]
  },
  {
   "cell_type": "code",
   "execution_count": 15,
   "metadata": {},
   "outputs": [
    {
     "name": "stdout",
     "output_type": "stream",
     "text": [
      "Incercia Principal Total: 1.6666666666666667\n"
     ]
    }
   ],
   "source": [
    "#Decomposição da inércia principal total \n",
    "\n",
    "J = len(Matriz_Burt) #Numero de categorias\n",
    "Q = len(dados.columns) #Numero de Variáveis\n",
    "IPT = (J-Q)/Q\n",
    "\n",
    "print(f'Incercia Principal Total: {IPT}')"
   ]
  },
  {
   "cell_type": "markdown",
   "metadata": {},
   "source": [
    "**Valor da Inércia Principal Total**"
   ]
  },
  {
   "cell_type": "markdown",
   "metadata": {},
   "source": [
    "## Determinar o número máximo de Eigenvalues para a Decomposição Inercial"
   ]
  },
  {
   "cell_type": "markdown",
   "metadata": {},
   "source": [
    "### **Formula:**\n",
    "    \n",
    "- **J = N° Total de Categorias**\n",
    "\n",
    "\n",
    "- **Q = N° Total de Variáveis**"
   ]
  },
  {
   "cell_type": "code",
   "execution_count": 40,
   "metadata": {},
   "outputs": [
    {
     "name": "stdout",
     "output_type": "stream",
     "text": [
      "Número máximo de Eigenvalues: 5\n"
     ]
    }
   ],
   "source": [
    "#Numero de Eigenvalues\n",
    "J = len(Matriz_Burt) #Numero de categorias\n",
    "Q = len(dados.columns) #Numero de Variáveis\n",
    "N_Eigenvalues = J-Q\n",
    "\n",
    "print(f'Número máximo de Eigenvalues: {N_Eigenvalues}')"
   ]
  },
  {
   "cell_type": "markdown",
   "metadata": {},
   "source": [
    "## Criando o modelo ACM com o Algoritimo prince.CA"
   ]
  },
  {
   "cell_type": "code",
   "execution_count": 30,
   "metadata": {},
   "outputs": [
    {
     "data": {
      "text/plain": [
       "array([0.36277072, 0.19008538, 0.07643719, 0.03234137, 0.02960619])"
      ]
     },
     "execution_count": 30,
     "metadata": {},
     "output_type": "execute_result"
    }
   ],
   "source": [
    "# Criando o modelo ACM com a Matriz Burt\n",
    "import prince\n",
    "\n",
    "\n",
    "# Num. de dimensões necessarias para analise\n",
    "J = len(Matriz_Burt.columns)\n",
    "Q = len(dados.columns)\n",
    "dim = J - Q\n",
    "\n",
    "#Modelo\n",
    "IPT_Burt = prince.CA(n_components=dim)\n",
    "IPT_Burt.fit(Matriz_Burt);\n",
    "\n",
    "# Eigenvalues da Matriz de burt\n",
    "np.array(IPT_Burt.eigenvalues_)"
   ]
  },
  {
   "cell_type": "markdown",
   "metadata": {},
   "source": [
    "**Eigenvalues da Matriz de burt**"
   ]
  },
  {
   "cell_type": "code",
   "execution_count": 31,
   "metadata": {},
   "outputs": [
    {
     "data": {
      "text/plain": [
       "array([0.52481088, 0.27499153, 0.11057967, 0.04678741, 0.0428305 ])"
      ]
     },
     "execution_count": 31,
     "metadata": {},
     "output_type": "execute_result"
    }
   ],
   "source": [
    "# Porcentagem  de cada Eigenvalues da Matriz de burt\n",
    "np.divide(IPT_Burt.eigenvalues_,sum(IPT_Burt.eigenvalues_))\n"
   ]
  },
  {
   "cell_type": "markdown",
   "metadata": {},
   "source": [
    "**Porcentagem  de cada Eigenvalues da Matriz de Burt**"
   ]
  },
  {
   "cell_type": "code",
   "execution_count": 33,
   "metadata": {},
   "outputs": [
    {
     "data": {
      "text/plain": [
       "array([0.60230451, 0.43598782, 0.27647276, 0.17983707, 0.1720645 ])"
      ]
     },
     "execution_count": 33,
     "metadata": {},
     "output_type": "execute_result"
    }
   ],
   "source": [
    "# Criando o modelo ACM com a Matriz Binaria\n",
    "\n",
    "# Num. de dimensões necessarias para analise\n",
    "J = len(matriz_binaria.columns)\n",
    "Q = len(dados.columns)\n",
    "dim = J - Q\n",
    "\n",
    "#Modelo\n",
    "IPT_binaria = prince.CA(n_components=dim)\n",
    "IPT_binaria.fit(matriz_binaria);\n",
    "\n",
    "# Eigenvalues da Matriz Binaria\n",
    "np.array(IPT_binaria.eigenvalues_)"
   ]
  },
  {
   "cell_type": "markdown",
   "metadata": {},
   "source": [
    "**Eigenvalues da Matriz Binaria**"
   ]
  },
  {
   "cell_type": "code",
   "execution_count": 32,
   "metadata": {},
   "outputs": [
    {
     "data": {
      "text/plain": [
       "array([0.36138271, 0.26159269, 0.16588365, 0.10790224, 0.1032387 ])"
      ]
     },
     "execution_count": 32,
     "metadata": {},
     "output_type": "execute_result"
    }
   ],
   "source": [
    "#Inercia principal total da matriz Binaria decomposta\n",
    "np.divide(IPT_binaria.eigenvalues_,sum(IPT_binaria.eigenvalues_))"
   ]
  },
  {
   "cell_type": "markdown",
   "metadata": {},
   "source": [
    "**Porcentagem  de cada Eigenvalues da Matriz Binaria**"
   ]
  },
  {
   "cell_type": "markdown",
   "metadata": {},
   "source": [
    "**OBS: Comprovamos que as duas primeiras dimensões da Matriz de Burt captura mais da inercia principal total do que a Matriz Binaria**"
   ]
  },
  {
   "cell_type": "code",
   "execution_count": 39,
   "metadata": {},
   "outputs": [
    {
     "name": "stdout",
     "output_type": "stream",
     "text": [
      "Eigenvalues Matriz de Burts: [0.36277072 0.19008538 0.07643719 0.03234137 0.02960619]\n",
      "\n",
      "Eigenvalues Matriz de Binaria: [0.60230451 0.43598782 0.27647276 0.17983707 0.1720645 ]\n",
      "\n"
     ]
    }
   ],
   "source": [
    "# Eigenvalues da Matriz de burt\n",
    "print(f'Eigenvalues Matriz de Burts: {np.array(IPT_Burt.eigenvalues_)}\\n')\n",
    "\n",
    "# Eigenvalues da Matriz de burt\n",
    "print(f'Eigenvalues Matriz de Binaria: {np.array(IPT_binaria.eigenvalues_)}\\n')"
   ]
  },
  {
   "cell_type": "markdown",
   "metadata": {},
   "source": [
    "**Percebemos que os Eigenvalues da matriz binaria é a raiz quadrada dos Eigenvalues da matriz de Burt**"
   ]
  },
  {
   "cell_type": "code",
   "execution_count": 19,
   "metadata": {},
   "outputs": [
    {
     "name": "stdout",
     "output_type": "stream",
     "text": [
      "Soma dos eigenvalues da matriz de Burt: 0.6912408573221831\n",
      "Soma dos eigenvalues da matriz Binaria: 1.6666666666666683\n",
      "Inercia Principal Total: 1.6666666666666645\n"
     ]
    }
   ],
   "source": [
    "# Inercia Principal Total\n",
    "sum_autovalores = sum(IPT_binaria.eigenvalues_)\n",
    "print(f'Soma dos eigenvalues da matriz de Burt: {sum(IPT_Burt.eigenvalues_)}')\n",
    "print(f'Soma dos eigenvalues da matriz Binaria: {sum_autovalores}')\n",
    "print(f'Inercia Principal Total: {IPT_binaria.total_inertia_}')"
   ]
  },
  {
   "cell_type": "markdown",
   "metadata": {},
   "source": [
    "**A Soma dos Eigenvalues da matriz Binaria é igual ao valor da inercia principal total**"
   ]
  },
  {
   "cell_type": "markdown",
   "metadata": {},
   "source": [
    "**Obs: O valor total dos eigenvalues da Matriz de Burt vai ser inferior ao valor da inercia principal total, pois a matriz de burt não captura as observações dos dados, já  a matriz binaria captura tanto as observações como as variáveis**"
   ]
  },
  {
   "cell_type": "markdown",
   "metadata": {},
   "source": [
    "## Usando matriz binária para plotar os dados"
   ]
  },
  {
   "cell_type": "code",
   "execution_count": 41,
   "metadata": {},
   "outputs": [
    {
     "data": {
      "text/html": [
       "<div>\n",
       "<style scoped>\n",
       "    .dataframe tbody tr th:only-of-type {\n",
       "        vertical-align: middle;\n",
       "    }\n",
       "\n",
       "    .dataframe tbody tr th {\n",
       "        vertical-align: top;\n",
       "    }\n",
       "\n",
       "    .dataframe thead th {\n",
       "        text-align: right;\n",
       "    }\n",
       "</style>\n",
       "<table border=\"1\" class=\"dataframe\">\n",
       "  <thead>\n",
       "    <tr style=\"text-align: right;\">\n",
       "      <th></th>\n",
       "      <th>0</th>\n",
       "      <th>1</th>\n",
       "      <th>2</th>\n",
       "      <th>3</th>\n",
       "      <th>4</th>\n",
       "    </tr>\n",
       "  </thead>\n",
       "  <tbody>\n",
       "    <tr>\n",
       "      <th>0</th>\n",
       "      <td>0.185644</td>\n",
       "      <td>0.205177</td>\n",
       "      <td>-0.015362</td>\n",
       "      <td>0.000217</td>\n",
       "      <td>0.048522</td>\n",
       "    </tr>\n",
       "    <tr>\n",
       "      <th>1</th>\n",
       "      <td>0.185644</td>\n",
       "      <td>0.205177</td>\n",
       "      <td>-0.015362</td>\n",
       "      <td>0.000217</td>\n",
       "      <td>0.048522</td>\n",
       "    </tr>\n",
       "    <tr>\n",
       "      <th>2</th>\n",
       "      <td>0.185644</td>\n",
       "      <td>0.205177</td>\n",
       "      <td>-0.015362</td>\n",
       "      <td>0.000217</td>\n",
       "      <td>0.048522</td>\n",
       "    </tr>\n",
       "    <tr>\n",
       "      <th>3</th>\n",
       "      <td>0.103778</td>\n",
       "      <td>0.222768</td>\n",
       "      <td>0.099000</td>\n",
       "      <td>0.176360</td>\n",
       "      <td>0.085305</td>\n",
       "    </tr>\n",
       "    <tr>\n",
       "      <th>4</th>\n",
       "      <td>0.185644</td>\n",
       "      <td>0.205177</td>\n",
       "      <td>-0.015362</td>\n",
       "      <td>0.000217</td>\n",
       "      <td>0.048522</td>\n",
       "    </tr>\n",
       "    <tr>\n",
       "      <th>...</th>\n",
       "      <td>...</td>\n",
       "      <td>...</td>\n",
       "      <td>...</td>\n",
       "      <td>...</td>\n",
       "      <td>...</td>\n",
       "    </tr>\n",
       "    <tr>\n",
       "      <th>95</th>\n",
       "      <td>-0.117350</td>\n",
       "      <td>0.036065</td>\n",
       "      <td>0.014817</td>\n",
       "      <td>-0.020592</td>\n",
       "      <td>-0.004923</td>\n",
       "    </tr>\n",
       "    <tr>\n",
       "      <th>96</th>\n",
       "      <td>-0.117350</td>\n",
       "      <td>0.036065</td>\n",
       "      <td>0.014817</td>\n",
       "      <td>-0.020592</td>\n",
       "      <td>-0.004923</td>\n",
       "    </tr>\n",
       "    <tr>\n",
       "      <th>97</th>\n",
       "      <td>-0.117350</td>\n",
       "      <td>0.036065</td>\n",
       "      <td>0.014817</td>\n",
       "      <td>-0.020592</td>\n",
       "      <td>-0.004923</td>\n",
       "    </tr>\n",
       "    <tr>\n",
       "      <th>98</th>\n",
       "      <td>-0.117350</td>\n",
       "      <td>0.036065</td>\n",
       "      <td>0.014817</td>\n",
       "      <td>-0.020592</td>\n",
       "      <td>-0.004923</td>\n",
       "    </tr>\n",
       "    <tr>\n",
       "      <th>99</th>\n",
       "      <td>-0.117350</td>\n",
       "      <td>0.036065</td>\n",
       "      <td>0.014817</td>\n",
       "      <td>-0.020592</td>\n",
       "      <td>-0.004923</td>\n",
       "    </tr>\n",
       "  </tbody>\n",
       "</table>\n",
       "<p>100 rows × 5 columns</p>\n",
       "</div>"
      ],
      "text/plain": [
       "           0         1         2         3         4\n",
       "0   0.185644  0.205177 -0.015362  0.000217  0.048522\n",
       "1   0.185644  0.205177 -0.015362  0.000217  0.048522\n",
       "2   0.185644  0.205177 -0.015362  0.000217  0.048522\n",
       "3   0.103778  0.222768  0.099000  0.176360  0.085305\n",
       "4   0.185644  0.205177 -0.015362  0.000217  0.048522\n",
       "..       ...       ...       ...       ...       ...\n",
       "95 -0.117350  0.036065  0.014817 -0.020592 -0.004923\n",
       "96 -0.117350  0.036065  0.014817 -0.020592 -0.004923\n",
       "97 -0.117350  0.036065  0.014817 -0.020592 -0.004923\n",
       "98 -0.117350  0.036065  0.014817 -0.020592 -0.004923\n",
       "99 -0.117350  0.036065  0.014817 -0.020592 -0.004923\n",
       "\n",
       "[100 rows x 5 columns]"
      ]
     },
     "execution_count": 41,
     "metadata": {},
     "output_type": "execute_result"
    }
   ],
   "source": [
    "#Coordenadas das observações da matriz binária (Coordenadas Padrão)\n",
    "pd.DataFrame(IPT_binaria.U_)"
   ]
  },
  {
   "cell_type": "markdown",
   "metadata": {},
   "source": [
    "**Coordenadas das observações usando a matriz binária**"
   ]
  },
  {
   "cell_type": "code",
   "execution_count": 21,
   "metadata": {},
   "outputs": [
    {
     "data": {
      "text/html": [
       "<div>\n",
       "<style scoped>\n",
       "    .dataframe tbody tr th:only-of-type {\n",
       "        vertical-align: middle;\n",
       "    }\n",
       "\n",
       "    .dataframe tbody tr th {\n",
       "        vertical-align: top;\n",
       "    }\n",
       "\n",
       "    .dataframe thead th {\n",
       "        text-align: right;\n",
       "    }\n",
       "</style>\n",
       "<table border=\"1\" class=\"dataframe\">\n",
       "  <thead>\n",
       "    <tr style=\"text-align: right;\">\n",
       "      <th></th>\n",
       "      <th>0</th>\n",
       "      <th>1</th>\n",
       "      <th>2</th>\n",
       "      <th>3</th>\n",
       "      <th>4</th>\n",
       "    </tr>\n",
       "  </thead>\n",
       "  <tbody>\n",
       "    <tr>\n",
       "      <th>perfil_Agressivo</th>\n",
       "      <td>-0.653069</td>\n",
       "      <td>-0.014732</td>\n",
       "      <td>-0.342998</td>\n",
       "      <td>-0.161253</td>\n",
       "      <td>0.392137</td>\n",
       "    </tr>\n",
       "    <tr>\n",
       "      <th>perfil_Conservador</th>\n",
       "      <td>1.129970</td>\n",
       "      <td>1.483614</td>\n",
       "      <td>-0.481506</td>\n",
       "      <td>0.833892</td>\n",
       "      <td>-0.690786</td>\n",
       "    </tr>\n",
       "    <tr>\n",
       "      <th>perfil_Moderado</th>\n",
       "      <td>0.746741</td>\n",
       "      <td>-0.974679</td>\n",
       "      <td>1.123180</td>\n",
       "      <td>-0.192940</td>\n",
       "      <td>-0.440022</td>\n",
       "    </tr>\n",
       "    <tr>\n",
       "      <th>aplicacao_Acoes</th>\n",
       "      <td>-0.831258</td>\n",
       "      <td>0.387515</td>\n",
       "      <td>0.058025</td>\n",
       "      <td>-0.358473</td>\n",
       "      <td>-0.499194</td>\n",
       "    </tr>\n",
       "    <tr>\n",
       "      <th>aplicacao_CDB</th>\n",
       "      <td>0.417184</td>\n",
       "      <td>-0.935143</td>\n",
       "      <td>-0.400813</td>\n",
       "      <td>0.512424</td>\n",
       "      <td>0.168038</td>\n",
       "    </tr>\n",
       "    <tr>\n",
       "      <th>aplicacao_Poupanca</th>\n",
       "      <td>1.381285</td>\n",
       "      <td>1.331169</td>\n",
       "      <td>0.894758</td>\n",
       "      <td>-0.291044</td>\n",
       "      <td>1.049480</td>\n",
       "    </tr>\n",
       "    <tr>\n",
       "      <th>estado_civil_Casado</th>\n",
       "      <td>0.843172</td>\n",
       "      <td>-0.131145</td>\n",
       "      <td>-0.540665</td>\n",
       "      <td>-0.541675</td>\n",
       "      <td>-0.108228</td>\n",
       "    </tr>\n",
       "    <tr>\n",
       "      <th>estado_civil_Solteiro</th>\n",
       "      <td>-0.636077</td>\n",
       "      <td>0.098934</td>\n",
       "      <td>0.407870</td>\n",
       "      <td>0.408632</td>\n",
       "      <td>0.081646</td>\n",
       "    </tr>\n",
       "  </tbody>\n",
       "</table>\n",
       "</div>"
      ],
      "text/plain": [
       "                              0         1         2         3         4\n",
       "perfil_Agressivo      -0.653069 -0.014732 -0.342998 -0.161253  0.392137\n",
       "perfil_Conservador     1.129970  1.483614 -0.481506  0.833892 -0.690786\n",
       "perfil_Moderado        0.746741 -0.974679  1.123180 -0.192940 -0.440022\n",
       "aplicacao_Acoes       -0.831258  0.387515  0.058025 -0.358473 -0.499194\n",
       "aplicacao_CDB          0.417184 -0.935143 -0.400813  0.512424  0.168038\n",
       "aplicacao_Poupanca     1.381285  1.331169  0.894758 -0.291044  1.049480\n",
       "estado_civil_Casado    0.843172 -0.131145 -0.540665 -0.541675 -0.108228\n",
       "estado_civil_Solteiro -0.636077  0.098934  0.407870  0.408632  0.081646"
      ]
     },
     "execution_count": 21,
     "metadata": {},
     "output_type": "execute_result"
    }
   ],
   "source": [
    "#Coordenadas das varáveis da matriz binária\n",
    "coord = pd.DataFrame(IPT_binaria.column_coordinates(matriz_binaria))\n",
    "coord"
   ]
  },
  {
   "cell_type": "markdown",
   "metadata": {},
   "source": [
    "**Coordenadas da variáveis usando a matriz binária**"
   ]
  },
  {
   "cell_type": "code",
   "execution_count": 42,
   "metadata": {},
   "outputs": [
    {
     "data": {
      "image/png": "[encoded data removed]",
      "text/plain": [
       "<Figure size 1296x864 with 1 Axes>"
      ]
     },
     "metadata": {
      "needs_background": "light"
     },
     "output_type": "display_data"
    }
   ],
   "source": [
    "#Plot das coordenadas da Matriz Binária\n",
    "\n",
    "#Criando tabela\n",
    "IPT_binaria.plot_coordinates(matriz_binaria, figsize=(18,12))\n",
    "plt.show()"
   ]
  },
  {
   "cell_type": "markdown",
   "metadata": {},
   "source": [
    "**Note que várias observações são idênticas a outras, por isso a sobreposição de pontos**"
   ]
  },
  {
   "cell_type": "markdown",
   "metadata": {},
   "source": [
    "## Usando matriz de Burt para plotar os dados"
   ]
  },
  {
   "cell_type": "code",
   "execution_count": 23,
   "metadata": {},
   "outputs": [
    {
     "data": {
      "text/html": [
       "<div>\n",
       "<style scoped>\n",
       "    .dataframe tbody tr th:only-of-type {\n",
       "        vertical-align: middle;\n",
       "    }\n",
       "\n",
       "    .dataframe tbody tr th {\n",
       "        vertical-align: top;\n",
       "    }\n",
       "\n",
       "    .dataframe thead th {\n",
       "        text-align: right;\n",
       "    }\n",
       "</style>\n",
       "<table border=\"1\" class=\"dataframe\">\n",
       "  <thead>\n",
       "    <tr style=\"text-align: right;\">\n",
       "      <th></th>\n",
       "      <th>0</th>\n",
       "      <th>1</th>\n",
       "      <th>2</th>\n",
       "      <th>3</th>\n",
       "      <th>4</th>\n",
       "    </tr>\n",
       "  </thead>\n",
       "  <tbody>\n",
       "    <tr>\n",
       "      <th>perfil_Agressivo</th>\n",
       "      <td>0.506836</td>\n",
       "      <td>-0.009728</td>\n",
       "      <td>-0.180351</td>\n",
       "      <td>0.068383</td>\n",
       "      <td>0.162661</td>\n",
       "    </tr>\n",
       "    <tr>\n",
       "      <th>perfil_Conservador</th>\n",
       "      <td>-0.876950</td>\n",
       "      <td>0.979621</td>\n",
       "      <td>-0.253179</td>\n",
       "      <td>-0.353630</td>\n",
       "      <td>-0.286543</td>\n",
       "    </tr>\n",
       "    <tr>\n",
       "      <th>perfil_Moderado</th>\n",
       "      <td>-0.579533</td>\n",
       "      <td>-0.643574</td>\n",
       "      <td>0.590576</td>\n",
       "      <td>0.081821</td>\n",
       "      <td>-0.182524</td>\n",
       "    </tr>\n",
       "    <tr>\n",
       "      <th>aplicacao_Acoes</th>\n",
       "      <td>0.645125</td>\n",
       "      <td>0.255874</td>\n",
       "      <td>0.030510</td>\n",
       "      <td>0.152018</td>\n",
       "      <td>-0.207069</td>\n",
       "    </tr>\n",
       "    <tr>\n",
       "      <th>aplicacao_CDB</th>\n",
       "      <td>-0.323769</td>\n",
       "      <td>-0.617469</td>\n",
       "      <td>-0.210750</td>\n",
       "      <td>-0.217305</td>\n",
       "      <td>0.069703</td>\n",
       "    </tr>\n",
       "    <tr>\n",
       "      <th>aplicacao_Poupanca</th>\n",
       "      <td>-1.071991</td>\n",
       "      <td>0.878963</td>\n",
       "      <td>0.470470</td>\n",
       "      <td>0.123424</td>\n",
       "      <td>0.435331</td>\n",
       "    </tr>\n",
       "    <tr>\n",
       "      <th>estado_civil_Casado</th>\n",
       "      <td>-0.654371</td>\n",
       "      <td>-0.086594</td>\n",
       "      <td>-0.284285</td>\n",
       "      <td>0.229709</td>\n",
       "      <td>-0.044894</td>\n",
       "    </tr>\n",
       "    <tr>\n",
       "      <th>estado_civil_Solteiro</th>\n",
       "      <td>0.493648</td>\n",
       "      <td>0.065326</td>\n",
       "      <td>0.214461</td>\n",
       "      <td>-0.173289</td>\n",
       "      <td>0.033867</td>\n",
       "    </tr>\n",
       "  </tbody>\n",
       "</table>\n",
       "</div>"
      ],
      "text/plain": [
       "                              0         1         2         3         4\n",
       "perfil_Agressivo       0.506836 -0.009728 -0.180351  0.068383  0.162661\n",
       "perfil_Conservador    -0.876950  0.979621 -0.253179 -0.353630 -0.286543\n",
       "perfil_Moderado       -0.579533 -0.643574  0.590576  0.081821 -0.182524\n",
       "aplicacao_Acoes        0.645125  0.255874  0.030510  0.152018 -0.207069\n",
       "aplicacao_CDB         -0.323769 -0.617469 -0.210750 -0.217305  0.069703\n",
       "aplicacao_Poupanca    -1.071991  0.878963  0.470470  0.123424  0.435331\n",
       "estado_civil_Casado   -0.654371 -0.086594 -0.284285  0.229709 -0.044894\n",
       "estado_civil_Solteiro  0.493648  0.065326  0.214461 -0.173289  0.033867"
      ]
     },
     "execution_count": 23,
     "metadata": {},
     "output_type": "execute_result"
    }
   ],
   "source": [
    "#Coordenadas da matriz de Burt (Coordenadas Principais)\n",
    "coord = pd.DataFrame(IPT_Burt.column_coordinates(Matriz_Burt))\n",
    "coord"
   ]
  },
  {
   "cell_type": "markdown",
   "metadata": {},
   "source": [
    "**Coordenadas das variáveis usando a matriz de Burt**"
   ]
  },
  {
   "cell_type": "code",
   "execution_count": 24,
   "metadata": {},
   "outputs": [
    {
     "data": {
      "image/png": "[encoded data removed]",
      "text/plain": [
       "<Figure size 1296x864 with 1 Axes>"
      ]
     },
     "metadata": {
      "needs_background": "light"
     },
     "output_type": "display_data"
    }
   ],
   "source": [
    "#Plot das coordenadas da Matriz de Burt\n",
    "\n",
    "#Criando tabela\n",
    "IPT_Burt.plot_coordinates(Matriz_Burt, figsize=(18,12))\n",
    "plt.show()"
   ]
  },
  {
   "cell_type": "markdown",
   "metadata": {},
   "source": [
    "**A matriz de burt captura uma maior porcentagem nas primeiras dimensões, além da escala dos dados ser menor**"
   ]
  },
  {
   "cell_type": "markdown",
   "metadata": {},
   "source": [
    "# Conclusão:"
   ]
  },
  {
   "cell_type": "markdown",
   "metadata": {},
   "source": [
    "**Na ACM usamos 3 ou mais variáveis para analise, com isso temos 2 opções de matrizes, a binaria que captura as coordenadas das observações e variáveis e temos a matriz de burt que captura melhor as coordenadas das variáveis, portanto depende do seu objetivo para escolher a melhor matriz, lembrando que as coordenadas além de conseguir fazer o mapa perceptual, serve como variáveis metricas sem cometer ponderação arbitraria** "
   ]
  }
 ],
 "metadata": {
  "anaconda-cloud": {},
  "kernelspec": {
   "display_name": "Python 3 (ipykernel)",
   "language": "python",
   "name": "python3"
  },
  "language_info": {
   "codemirror_mode": {
    "name": "ipython",
    "version": 3
   },
   "file_extension": ".py",
   "mimetype": "text/x-python",
   "name": "python",
   "nbconvert_exporter": "python",
   "pygments_lexer": "ipython3",
   "version": "3.9.7"
  }
 },
 "nbformat": 4,
 "nbformat_minor": 1
}
