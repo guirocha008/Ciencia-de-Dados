{
 "cells": [
  {
   "cell_type": "markdown",
   "metadata": {},
   "source": [
    "# $$Análise ~Fatorial - PCA:$$"
   ]
  },
  {
   "cell_type": "markdown",
   "metadata": {},
   "source": [
    "## $$Conceito:$$\n",
    "    \n",
    "\n",
    "\n",
    "Técnica Exploratória não supervisionada, que lida com variáveis metricas que possuem, entre si, consideráveis valores de correlação, a fim de se estabelecer nova(s) variável(is) que capture(m) o comportamento conjunto das variáveis originais\n",
    "\n",
    "\n",
    "Pode-se entender a PCA como uma técnica que agrupa as variáveis(Matéria Prima: Correlação de Pearson), enquanto Clustering agrupa observações(Matéria Prima: Distância entre os pontos)\n",
    "\n",
    "\n",
    "Uma das mais importantes características da PCA é que, todos as variáveis dentro dos componentes são relacionadas entre si, porém não relacionadas entre os componentes\n",
    "\n",
    "Número máximo de fatores que pode ser extraído é igual a o número de variáveis utilizadas na análise \n",
    "\n",
    "\n",
    "\n",
    "- **Autovalores(eigenvalues)** = Variáveis independentes, advindos de uma matriz de correlação, que capturam o máximo da variabilidade dos dados. Pode-se entender, portanto, os autovalores como o total de variáveis capturadas, sempre o 1° componente vai capturar mais da variabilidade de cada variável.\n",
    "\n",
    "\n",
    "- **Autovetores(eigenvectors)** = Os eigenvectors indicam o percentual capturado de cada variável, quanto maior o valor em modulo mais representativa é a variável para aquele componente, utilizados também para o cálculo dos scores fatoriais e das cargas fatoriais.\n",
    "\n",
    "\n",
    "- **Score Fatorial** = Estabelece pesos para cada variável em razão da variância capturada sem cometer ponderação arbitraria\n",
    "\n",
    "- **Fator** = Os fatores têm o objetivo de resumir as diversas variáveis em um conjunto menor de dimensões com uma perda mínima de informação\n",
    "\n",
    "\n",
    "- **Cargas Fatoriais** = Correspondem às correlações de Pearson entre os fatores e as variáveis originais, utilizadas para a elaboração da PCA\n",
    "\n",
    "\n",
    "- **Comunalidade** = Representam a variância total compartilhada de cada uma das variáveis originais com todos os fatores extraídos\n",
    "\n",
    "\n",
    "### Temos 2 condições para se usar o PCA:\n",
    "\n",
    "- As variáveis devem ser métricas\n",
    "\n",
    "- Elas devem ter um alto grau de correlação entre si\n",
    "\n",
    "\n",
    "## $$Critério~ da~ raiz~ latente$$\n",
    "\n",
    "- **Critério da raiz latente diz respeito ao número de componentes que serão selecionados para PCA, e o valor do critério adotado é autovalores > 1, então todo componente que capturar no mínimo 1 variável vai ser considerado para uso na PCA**\n",
    "\n",
    "\n",
    "## $$Como~ saber ~quando ~existe~ a~ possibilidade ~de~ se~ utilizar~ uma ~PCA?$$\n",
    "\n",
    "**O primeiro passo é a construção da matriz de correlações (rho). Feito isso, a literatura costuma mencionar 3 métodos principais para responder à pergunta acima:**\n",
    "\n",
    "- **Estatística Kaiser-Meyer-Olkin (KMO)** = Verifica se há adequabilidade dos dados para uma análise fatorial, varia entre 0 e 1, quanto maior o valor, melhor vai ser o resultado da PCA\n",
    "\n",
    "\n",
    "- **Teste de esfericidade de Bartlett** = Verificar se a matriz de correlação é estatisticamente igual (Ho) ou diferente(H1) a uma matriz de identidade(Diagonais com valores = 1 e o resto da matriz com valores = 0) de mesma dimensão\n",
    "\n",
    "\n",
    "- **Alpha de Cronbach**\n",
    "\n"
   ]
  },
  {
   "cell_type": "markdown",
   "metadata": {},
   "source": [
    "# Objetivo: Fazer a redução de dimensionalidade dos dados e estabelecer um ranking dos melhores alunos"
   ]
  },
  {
   "cell_type": "code",
   "execution_count": 1,
   "metadata": {},
   "outputs": [],
   "source": [
    "#Pacotes\n",
    "import pandas as pd\n",
    "import numpy as np\n",
    "import matplotlib.pyplot as plt"
   ]
  },
  {
   "cell_type": "markdown",
   "metadata": {},
   "source": [
    "# Base de dados"
   ]
  },
  {
   "cell_type": "code",
   "execution_count": 2,
   "metadata": {},
   "outputs": [
    {
     "data": {
      "text/html": [
       "<div>\n",
       "<style scoped>\n",
       "    .dataframe tbody tr th:only-of-type {\n",
       "        vertical-align: middle;\n",
       "    }\n",
       "\n",
       "    .dataframe tbody tr th {\n",
       "        vertical-align: top;\n",
       "    }\n",
       "\n",
       "    .dataframe thead th {\n",
       "        text-align: right;\n",
       "    }\n",
       "</style>\n",
       "<table border=\"1\" class=\"dataframe\">\n",
       "  <thead>\n",
       "    <tr style=\"text-align: right;\">\n",
       "      <th></th>\n",
       "      <th>notas_financas</th>\n",
       "      <th>notas_custos</th>\n",
       "      <th>notas_marketing</th>\n",
       "      <th>notas_atuarias</th>\n",
       "    </tr>\n",
       "    <tr>\n",
       "      <th>estudante</th>\n",
       "      <th></th>\n",
       "      <th></th>\n",
       "      <th></th>\n",
       "      <th></th>\n",
       "    </tr>\n",
       "  </thead>\n",
       "  <tbody>\n",
       "    <tr>\n",
       "      <th>Gabriela</th>\n",
       "      <td>5.8</td>\n",
       "      <td>4.00</td>\n",
       "      <td>1.00</td>\n",
       "      <td>6.0</td>\n",
       "    </tr>\n",
       "    <tr>\n",
       "      <th>Luiz Felipe</th>\n",
       "      <td>3.1</td>\n",
       "      <td>3.00</td>\n",
       "      <td>10.00</td>\n",
       "      <td>2.0</td>\n",
       "    </tr>\n",
       "    <tr>\n",
       "      <th>Patrícia</th>\n",
       "      <td>3.1</td>\n",
       "      <td>4.00</td>\n",
       "      <td>4.00</td>\n",
       "      <td>4.0</td>\n",
       "    </tr>\n",
       "    <tr>\n",
       "      <th>Gustavo</th>\n",
       "      <td>10.0</td>\n",
       "      <td>8.00</td>\n",
       "      <td>8.00</td>\n",
       "      <td>8.0</td>\n",
       "    </tr>\n",
       "    <tr>\n",
       "      <th>Letícia</th>\n",
       "      <td>3.4</td>\n",
       "      <td>2.00</td>\n",
       "      <td>3.20</td>\n",
       "      <td>3.2</td>\n",
       "    </tr>\n",
       "    <tr>\n",
       "      <th>...</th>\n",
       "      <td>...</td>\n",
       "      <td>...</td>\n",
       "      <td>...</td>\n",
       "      <td>...</td>\n",
       "    </tr>\n",
       "    <tr>\n",
       "      <th>Sheila</th>\n",
       "      <td>7.7</td>\n",
       "      <td>4.33</td>\n",
       "      <td>5.16</td>\n",
       "      <td>5.1</td>\n",
       "    </tr>\n",
       "    <tr>\n",
       "      <th>Pedro</th>\n",
       "      <td>9.0</td>\n",
       "      <td>6.00</td>\n",
       "      <td>4.00</td>\n",
       "      <td>9.8</td>\n",
       "    </tr>\n",
       "    <tr>\n",
       "      <th>Horácio</th>\n",
       "      <td>9.3</td>\n",
       "      <td>6.00</td>\n",
       "      <td>7.00</td>\n",
       "      <td>7.0</td>\n",
       "    </tr>\n",
       "    <tr>\n",
       "      <th>Leandro</th>\n",
       "      <td>9.0</td>\n",
       "      <td>6.50</td>\n",
       "      <td>3.00</td>\n",
       "      <td>9.0</td>\n",
       "    </tr>\n",
       "    <tr>\n",
       "      <th>Estela</th>\n",
       "      <td>8.9</td>\n",
       "      <td>4.99</td>\n",
       "      <td>2.00</td>\n",
       "      <td>8.0</td>\n",
       "    </tr>\n",
       "  </tbody>\n",
       "</table>\n",
       "<p>100 rows × 4 columns</p>\n",
       "</div>"
      ],
      "text/plain": [
       "             notas_financas  notas_custos  notas_marketing  notas_atuarias\n",
       "estudante                                                                 \n",
       "Gabriela                5.8          4.00             1.00             6.0\n",
       "Luiz Felipe             3.1          3.00            10.00             2.0\n",
       "Patrícia                3.1          4.00             4.00             4.0\n",
       "Gustavo                10.0          8.00             8.00             8.0\n",
       "Letícia                 3.4          2.00             3.20             3.2\n",
       "...                     ...           ...              ...             ...\n",
       "Sheila                  7.7          4.33             5.16             5.1\n",
       "Pedro                   9.0          6.00             4.00             9.8\n",
       "Horácio                 9.3          6.00             7.00             7.0\n",
       "Leandro                 9.0          6.50             3.00             9.0\n",
       "Estela                  8.9          4.99             2.00             8.0\n",
       "\n",
       "[100 rows x 4 columns]"
      ]
     },
     "execution_count": 2,
     "metadata": {},
     "output_type": "execute_result"
    }
   ],
   "source": [
    "# Carregando o dataset\n",
    "dados = pd.read_csv('notasfatorial.csv',encoding='latin1',sep=',')\n",
    "dados = dados.set_index('estudante')\n",
    "dados"
   ]
  },
  {
   "cell_type": "markdown",
   "metadata": {},
   "source": [
    "**Temos 100 observações e 4 variáveis**"
   ]
  },
  {
   "cell_type": "markdown",
   "metadata": {},
   "source": [
    "## Grafico 3D"
   ]
  },
  {
   "cell_type": "code",
   "execution_count": 3,
   "metadata": {},
   "outputs": [
    {
     "data": {
      "image/png": "[encoded data removed]",
      "text/plain": [
       "<Figure size 720x576 with 1 Axes>"
      ]
     },
     "metadata": {
      "needs_background": "light"
     },
     "output_type": "display_data"
    }
   ],
   "source": [
    "#Grafico 3D\n",
    "\n",
    "#Variáveis\n",
    "x = np.array(dados.notas_financas)\n",
    "y = np.array(dados.notas_custos)\n",
    "z = np.array(dados.notas_marketing)\n",
    "\n",
    "#Tamanho dos gráficos\n",
    "fig = plt.figure(figsize=(10, 8))\n",
    "ax = plt.axes(projection=\"3d\")\n",
    "\n",
    "#Pontos no gráfico\n",
    "ax.scatter3D(x, y, z)\n",
    "\n",
    "#Labels\n",
    "ax.set_title(\"3D plot\")\n",
    "ax.set_xlabel('notas_financas')\n",
    "ax.set_ylabel('notas_custos')\n",
    "ax.set_zlabel('notas_marketing')\n",
    "\n",
    "plt.show()"
   ]
  },
  {
   "cell_type": "markdown",
   "metadata": {},
   "source": [
    "**Note que fica muito difícil interpretar o gráfico 3D, vamos dividir as variáveis em 2 dimensões**"
   ]
  },
  {
   "cell_type": "markdown",
   "metadata": {},
   "source": [
    "## Plot em 2D"
   ]
  },
  {
   "cell_type": "code",
   "execution_count": 4,
   "metadata": {},
   "outputs": [
    {
     "data": {
      "image/png": "[encoded data removed]",
      "text/plain": [
       "<Figure size 1080x576 with 6 Axes>"
      ]
     },
     "metadata": {
      "needs_background": "light"
     },
     "output_type": "display_data"
    }
   ],
   "source": [
    "#Variáveis no formato array\n",
    "x = np.array(dados.notas_financas)\n",
    "y = np.array(dados.notas_custos)\n",
    "z = np.array(dados.notas_marketing)\n",
    "w = np.array(dados.notas_atuarias)\n",
    "\n",
    "\n",
    "#Plot dos gráficos\n",
    "plt.figure(figsize = (15, 8))\n",
    "plt.subplots_adjust(left=None, bottom=None, right=None, top=1.5, wspace=None, hspace=None)\n",
    "plt.subplot(3, 2, 1)\n",
    "plt.title('financas X custos')\n",
    "plt.scatter(x,y);\n",
    "plt.subplot(3, 2, 2)\n",
    "plt.title('financas X marketing')\n",
    "plt.scatter(x,z)\n",
    "plt.subplot(3, 2, 3)\n",
    "plt.title('financas X atuarias')\n",
    "plt.scatter(x,w)\n",
    "plt.subplot(3, 2, 4)\n",
    "plt.title('custos X marketing')\n",
    "plt.scatter(y,z)\n",
    "plt.subplot(3, 2, 5)\n",
    "plt.title('custos X atuarias')\n",
    "plt.scatter(y,w)\n",
    "plt.subplot(3, 2, 6)\n",
    "plt.title('marketing X atuarias')\n",
    "plt.scatter(z,w);"
   ]
  },
  {
   "cell_type": "markdown",
   "metadata": {},
   "source": [
    "**Observe que temos variáveis correlacionadas e não correlacionadas, a PCA vai unir essas variáveis mais correlacionadas em fatores para ter uma melhor interpretabilidade dos dados**"
   ]
  },
  {
   "cell_type": "markdown",
   "metadata": {},
   "source": [
    "## Testar a adequabilidade dos dados para utilizar PCA"
   ]
  },
  {
   "cell_type": "markdown",
   "metadata": {},
   "source": [
    "## Matriz de correlação"
   ]
  },
  {
   "cell_type": "code",
   "execution_count": 5,
   "metadata": {},
   "outputs": [
    {
     "data": {
      "text/plain": [
       "<AxesSubplot:>"
      ]
     },
     "execution_count": 5,
     "metadata": {},
     "output_type": "execute_result"
    },
    {
     "data": {
      "image/png": "[encoded data removed]",
      "text/plain": [
       "<Figure size 720x504 with 2 Axes>"
      ]
     },
     "metadata": {
      "needs_background": "light"
     },
     "output_type": "display_data"
    }
   ],
   "source": [
    "#Matriz\n",
    "import seaborn as sns\n",
    "fig, ax = plt.subplots(figsize=(10,7))  \n",
    "sns.heatmap(dados.corr(),annot = True)\n"
   ]
  },
  {
   "cell_type": "markdown",
   "metadata": {},
   "source": [
    "**Observe que os valores de uma matriz de correlação tem mais facil interpretabilidade do que um gráfico scatter**"
   ]
  },
  {
   "cell_type": "markdown",
   "metadata": {},
   "source": [
    "**OBS: As Nota de Marketing não tem correlação com nenhuma outra materia, provavelmente terá um fator exclusivo para ela**"
   ]
  },
  {
   "cell_type": "markdown",
   "metadata": {},
   "source": [
    "## Estatística Kaiser-Meyer-Olkin (KMO)"
   ]
  },
  {
   "cell_type": "markdown",
   "metadata": {},
   "source": [
    "- KMO é uma estatistica e não um teste estatistico"
   ]
  },
  {
   "cell_type": "code",
   "execution_count": 6,
   "metadata": {},
   "outputs": [
    {
     "data": {
      "image/png": "[encoded data removed]",
      "text/plain": [
       "<IPython.core.display.Image object>"
      ]
     },
     "execution_count": 6,
     "metadata": {},
     "output_type": "execute_result"
    }
   ],
   "source": [
    "#Tabela KMO\n",
    "from IPython.display import Image\n",
    "Image(filename=\"KMO.png\")"
   ]
  },
  {
   "cell_type": "code",
   "execution_count": 7,
   "metadata": {},
   "outputs": [],
   "source": [
    "#Calculo do KMO\n",
    "from factor_analyzer.factor_analyzer import calculate_kmo\n",
    "kmo_all,kmo_model=calculate_kmo(dados)"
   ]
  },
  {
   "cell_type": "code",
   "execution_count": 8,
   "metadata": {},
   "outputs": [
    {
     "data": {
      "text/plain": [
       "array([0.80371458, 0.68680937, 0.20277363, 0.73023231])"
      ]
     },
     "execution_count": 8,
     "metadata": {},
     "output_type": "execute_result"
    }
   ],
   "source": [
    "#KMO de cada variável\n",
    "kmo_all"
   ]
  },
  {
   "cell_type": "code",
   "execution_count": 9,
   "metadata": {},
   "outputs": [
    {
     "data": {
      "text/plain": [
       "0.7331061995145736"
      ]
     },
     "execution_count": 9,
     "metadata": {},
     "output_type": "execute_result"
    }
   ],
   "source": [
    "#Valor do KMO Total\n",
    "kmo_model"
   ]
  },
  {
   "cell_type": "markdown",
   "metadata": {},
   "source": [
    "**O valor do KMO é considerável, visto que o valor entre 0.7 até 0.8 é intermediário, então pelo teste KMO há adequabilidade nos dados para usar PCA**"
   ]
  },
  {
   "cell_type": "markdown",
   "metadata": {},
   "source": [
    "## Obs: Sempre quaisquer 2 variáveis o Valor do KMO será 0.5 - Inaceitável"
   ]
  },
  {
   "cell_type": "code",
   "execution_count": 10,
   "metadata": {},
   "outputs": [
    {
     "name": "stdout",
     "output_type": "stream",
     "text": [
      "Correlação:\n",
      "                notas_custos\n",
      "notas_financas      0.755923\n",
      "\n",
      "Valor do KMO: 0.4949750012625625\n"
     ]
    }
   ],
   "source": [
    "#KMO\n",
    "var_2 = dados.iloc[:,0:2]\n",
    "kmo_all,kmo_model=calculate_kmo(var_2)\n",
    "print('Correlação:')\n",
    "print(var_2.corr(min_periods = 0).iloc[0:1,1:2])\n",
    "print(f'\\nValor do KMO: {kmo_model}')"
   ]
  },
  {
   "cell_type": "markdown",
   "metadata": {},
   "source": [
    "**Note que mesmo a correlação sendo 0.75 entre as 2 variáveis, o teste de adequabilidade KMO apontou como inaceitável, portanto, o teste KMO não pode ser o único aceito para verificar a adequabilidade dos dados**"
   ]
  },
  {
   "cell_type": "markdown",
   "metadata": {},
   "source": [
    "## Teste de esfericidade de Bartlett"
   ]
  },
  {
   "cell_type": "markdown",
   "metadata": {},
   "source": [
    "- H0: >0.05,  Matriz identidade = Matriz de Correlação\n",
    "\n",
    "\n",
    "- H1: <0.05, Matriz identidade != Matriz de Correlação"
   ]
  },
  {
   "cell_type": "code",
   "execution_count": 11,
   "metadata": {},
   "outputs": [
    {
     "data": {
      "text/plain": [
       "(4, 4)"
      ]
     },
     "execution_count": 11,
     "metadata": {},
     "output_type": "execute_result"
    }
   ],
   "source": [
    "#Shape da matriz de correlação\n",
    "dados.corr().shape"
   ]
  },
  {
   "cell_type": "code",
   "execution_count": 12,
   "metadata": {},
   "outputs": [
    {
     "name": "stdout",
     "output_type": "stream",
     "text": [
      "Matriz identidade:\n",
      "[[1 0 0 0]\n",
      " [0 1 0 0]\n",
      " [0 0 1 0]\n",
      " [0 0 0 1]]\n",
      "\n",
      "Shape: (4, 4)\n"
     ]
    }
   ],
   "source": [
    "#Matriz identidade\n",
    "ma = np.diag([1,1,1,1])\n",
    "print('Matriz identidade:')\n",
    "print(ma)\n",
    "print(f'\\nShape: {ma.shape}')"
   ]
  },
  {
   "cell_type": "markdown",
   "metadata": {},
   "source": [
    "**Para fazer o teste de bartlett precisamos comparar a matriz de correlação com a matriz identidade de mesma dimensão e verificar se elas são estatisticamente iguais ou diferentes de 0**"
   ]
  },
  {
   "cell_type": "code",
   "execution_count": 59,
   "metadata": {},
   "outputs": [
    {
     "name": "stdout",
     "output_type": "stream",
     "text": [
      "Teste da Esfericidade de Bartlett: chi² = 196,  p_value = 0\n"
     ]
    }
   ],
   "source": [
    "#Teste de Bartlett\n",
    "from factor_analyzer.factor_analyzer import calculate_bartlett_sphericity\n",
    "chi_square_value, p_value = calculate_bartlett_sphericity(dados)\n",
    "print('Teste da Esfericidade de Bartlett: chi² = %d,  p_value = %d' % (chi_square_value, p_value))"
   ]
  },
  {
   "cell_type": "markdown",
   "metadata": {},
   "source": [
    "**P_value < 0.05, rejeita-se a hipótese nula de que as correlações entre os dados são estatisticamente iguais a 0, portanto há correlação**"
   ]
  },
  {
   "cell_type": "markdown",
   "metadata": {},
   "source": [
    "# Fatores"
   ]
  },
  {
   "cell_type": "markdown",
   "metadata": {},
   "source": [
    "- Para ter os fatores 1° precisa gerar os Scores Fatoriais"
   ]
  },
  {
   "cell_type": "markdown",
   "metadata": {},
   "source": [
    "## Scores Fatoriais"
   ]
  },
  {
   "cell_type": "markdown",
   "metadata": {},
   "source": [
    "- Para ter os Scores fatoriais 1° precisa calcular os Autovalores e Autovetores da matriz de correlação"
   ]
  },
  {
   "cell_type": "markdown",
   "metadata": {},
   "source": [
    "## AutoValores e AutoVetores"
   ]
  },
  {
   "cell_type": "code",
   "execution_count": 14,
   "metadata": {},
   "outputs": [],
   "source": [
    "#Calculo dos Autovalore e Autovetores\n",
    "(auto_valores,auto_vetores) = np.linalg.eig(dados.corr())"
   ]
  },
  {
   "cell_type": "markdown",
   "metadata": {},
   "source": [
    "## Auto valores"
   ]
  },
  {
   "cell_type": "code",
   "execution_count": 15,
   "metadata": {},
   "outputs": [
    {
     "data": {
      "text/plain": [
       "[2.5190526567139164, 1.0004080697941395, 0.29773205909984, 0.18280721439210387]"
      ]
     },
     "execution_count": 15,
     "metadata": {},
     "output_type": "execute_result"
    }
   ],
   "source": [
    "#Auto valores\n",
    "Auto_valores_sort = sorted(auto_valores,reverse=True)\n",
    "Auto_valores_sort"
   ]
  },
  {
   "cell_type": "code",
   "execution_count": 16,
   "metadata": {},
   "outputs": [
    {
     "data": {
      "text/html": [
       "<div>\n",
       "<style scoped>\n",
       "    .dataframe tbody tr th:only-of-type {\n",
       "        vertical-align: middle;\n",
       "    }\n",
       "\n",
       "    .dataframe tbody tr th {\n",
       "        vertical-align: top;\n",
       "    }\n",
       "\n",
       "    .dataframe thead th {\n",
       "        text-align: right;\n",
       "    }\n",
       "</style>\n",
       "<table border=\"1\" class=\"dataframe\">\n",
       "  <thead>\n",
       "    <tr style=\"text-align: right;\">\n",
       "      <th></th>\n",
       "      <th>Auto_valores</th>\n",
       "    </tr>\n",
       "    <tr>\n",
       "      <th>Componetes_Principais</th>\n",
       "      <th></th>\n",
       "    </tr>\n",
       "  </thead>\n",
       "  <tbody>\n",
       "    <tr>\n",
       "      <th>PC1</th>\n",
       "      <td>2.519053</td>\n",
       "    </tr>\n",
       "    <tr>\n",
       "      <th>PC2</th>\n",
       "      <td>1.000408</td>\n",
       "    </tr>\n",
       "    <tr>\n",
       "      <th>PC3</th>\n",
       "      <td>0.297732</td>\n",
       "    </tr>\n",
       "    <tr>\n",
       "      <th>PC4</th>\n",
       "      <td>0.182807</td>\n",
       "    </tr>\n",
       "  </tbody>\n",
       "</table>\n",
       "</div>"
      ],
      "text/plain": [
       "                       Auto_valores\n",
       "Componetes_Principais              \n",
       "PC1                        2.519053\n",
       "PC2                        1.000408\n",
       "PC3                        0.297732\n",
       "PC4                        0.182807"
      ]
     },
     "execution_count": 16,
     "metadata": {},
     "output_type": "execute_result"
    }
   ],
   "source": [
    "Auto_valores = pd.DataFrame(sorted(auto_valores,reverse=True),columns=['Auto_valores'])\n",
    "Auto_valores['Componetes_Principais'] = ['PC1','PC2','PC3','PC4']\n",
    "Auto_valores = Auto_valores.set_index('Componetes_Principais')\n",
    "Auto_valores"
   ]
  },
  {
   "cell_type": "markdown",
   "metadata": {},
   "source": [
    "**Os valores correspondem ao percentual capturado de variáveis, sendo que o 1° componente conseguiu capturar as variâncias de 2.51 variáveis**"
   ]
  },
  {
   "cell_type": "code",
   "execution_count": 17,
   "metadata": {},
   "outputs": [
    {
     "data": {
      "image/png": "[encoded data removed]",
      "text/plain": [
       "<Figure size 576x432 with 1 Axes>"
      ]
     },
     "metadata": {
      "needs_background": "light"
     },
     "output_type": "display_data"
    }
   ],
   "source": [
    "# Plot dos Autovalores \n",
    "plt.figure(figsize = (8, 6))\n",
    "plt.scatter(range(1,dados.shape[1]+1),Auto_valores_sort)\n",
    "plt.plot(range(1,dados.shape[1]+1),Auto_valores_sort)\n",
    "plt.title('Scree Plot')\n",
    "plt.xlabel('Factors')\n",
    "plt.ylabel('Eigenvalue')\n",
    "plt.grid()\n",
    "plt.show()"
   ]
  },
  {
   "cell_type": "markdown",
   "metadata": {},
   "source": [
    "**Os 2 primeiros componentes são os que mais capturam a variabilidade dos dados**"
   ]
  },
  {
   "cell_type": "code",
   "execution_count": 18,
   "metadata": {},
   "outputs": [
    {
     "data": {
      "text/plain": [
       "4.0"
      ]
     },
     "execution_count": 18,
     "metadata": {},
     "output_type": "execute_result"
    }
   ],
   "source": [
    "#Soma dos Auto Valores\n",
    "auto_valores.sum()"
   ]
  },
  {
   "cell_type": "markdown",
   "metadata": {},
   "source": [
    "**A soma dos auto valores vai dar o número de variáveis analisadas**"
   ]
  },
  {
   "cell_type": "code",
   "execution_count": 19,
   "metadata": {},
   "outputs": [
    {
     "data": {
      "text/plain": [
       "[62.97631641784791, 25.01020174485349, 7.443301477496, 4.570180359802597]"
      ]
     },
     "execution_count": 19,
     "metadata": {},
     "output_type": "execute_result"
    }
   ],
   "source": [
    "#Auto valores em Percentual (Variância Compartilhada)\n",
    "sorted(auto_valores/sum(auto_valores)*100,reverse=True)"
   ]
  },
  {
   "cell_type": "code",
   "execution_count": 20,
   "metadata": {},
   "outputs": [
    {
     "data": {
      "text/plain": [
       "array([ 62.97631642,  87.98651816,  95.42981964, 100.        ])"
      ]
     },
     "execution_count": 20,
     "metadata": {},
     "output_type": "execute_result"
    }
   ],
   "source": [
    "#Variância cumulativa\n",
    "np.cumsum(sorted(auto_valores/sum(auto_valores)*100,reverse=True))"
   ]
  },
  {
   "cell_type": "markdown",
   "metadata": {},
   "source": [
    "**Praticamente os 2 primeiros componentes está conseguindo capturar 88% de toda variância da base de dados**"
   ]
  },
  {
   "cell_type": "code",
   "execution_count": 21,
   "metadata": {},
   "outputs": [
    {
     "data": {
      "text/html": [
       "<div>\n",
       "<style scoped>\n",
       "    .dataframe tbody tr th:only-of-type {\n",
       "        vertical-align: middle;\n",
       "    }\n",
       "\n",
       "    .dataframe tbody tr th {\n",
       "        vertical-align: top;\n",
       "    }\n",
       "\n",
       "    .dataframe thead th {\n",
       "        text-align: right;\n",
       "    }\n",
       "</style>\n",
       "<table border=\"1\" class=\"dataframe\">\n",
       "  <thead>\n",
       "    <tr style=\"text-align: right;\">\n",
       "      <th></th>\n",
       "      <th>Auto_valores</th>\n",
       "      <th>Var_Compartilhada</th>\n",
       "      <th>Var_Cumulativa</th>\n",
       "    </tr>\n",
       "    <tr>\n",
       "      <th>Componetes_Principais</th>\n",
       "      <th></th>\n",
       "      <th></th>\n",
       "      <th></th>\n",
       "    </tr>\n",
       "  </thead>\n",
       "  <tbody>\n",
       "    <tr>\n",
       "      <th>PC1</th>\n",
       "      <td>2.519053</td>\n",
       "      <td>62.976316</td>\n",
       "      <td>62.976316</td>\n",
       "    </tr>\n",
       "    <tr>\n",
       "      <th>PC2</th>\n",
       "      <td>1.000408</td>\n",
       "      <td>25.010202</td>\n",
       "      <td>87.986518</td>\n",
       "    </tr>\n",
       "    <tr>\n",
       "      <th>PC3</th>\n",
       "      <td>0.297732</td>\n",
       "      <td>7.443301</td>\n",
       "      <td>95.429820</td>\n",
       "    </tr>\n",
       "    <tr>\n",
       "      <th>PC4</th>\n",
       "      <td>0.182807</td>\n",
       "      <td>4.570180</td>\n",
       "      <td>100.000000</td>\n",
       "    </tr>\n",
       "  </tbody>\n",
       "</table>\n",
       "</div>"
      ],
      "text/plain": [
       "                       Auto_valores  Var_Compartilhada  Var_Cumulativa\n",
       "Componetes_Principais                                                 \n",
       "PC1                        2.519053          62.976316       62.976316\n",
       "PC2                        1.000408          25.010202       87.986518\n",
       "PC3                        0.297732           7.443301       95.429820\n",
       "PC4                        0.182807           4.570180      100.000000"
      ]
     },
     "execution_count": 21,
     "metadata": {},
     "output_type": "execute_result"
    }
   ],
   "source": [
    "#Overview dos resultados até o momento\n",
    "AV = pd.DataFrame(sorted(auto_valores,reverse=True),columns=['Auto_valores'])\n",
    "AV['Var_Compartilhada'] = sorted(auto_valores/sum(auto_valores)*100,reverse=True)\n",
    "AV['Var_Cumulativa'] = np.cumsum(sorted(auto_valores/sum(auto_valores)*100,reverse=True))\n",
    "AV['Componetes_Principais'] = ['PC1','PC2','PC3','PC4']\n",
    "AV = AV.set_index('Componetes_Principais')\n",
    "AV"
   ]
  },
  {
   "cell_type": "markdown",
   "metadata": {},
   "source": [
    "## Auto vetores"
   ]
  },
  {
   "cell_type": "markdown",
   "metadata": {},
   "source": [
    "- **Para cada um dos Auto Vetores vai ter o número total de auto valores**"
   ]
  },
  {
   "cell_type": "code",
   "execution_count": 22,
   "metadata": {},
   "outputs": [
    {
     "data": {
      "text/html": [
       "<div>\n",
       "<style scoped>\n",
       "    .dataframe tbody tr th:only-of-type {\n",
       "        vertical-align: middle;\n",
       "    }\n",
       "\n",
       "    .dataframe tbody tr th {\n",
       "        vertical-align: top;\n",
       "    }\n",
       "\n",
       "    .dataframe thead th {\n",
       "        text-align: right;\n",
       "    }\n",
       "</style>\n",
       "<table border=\"1\" class=\"dataframe\">\n",
       "  <thead>\n",
       "    <tr style=\"text-align: right;\">\n",
       "      <th></th>\n",
       "      <th>PC1</th>\n",
       "      <th>PC2</th>\n",
       "      <th>PC3</th>\n",
       "      <th>PC4</th>\n",
       "    </tr>\n",
       "    <tr>\n",
       "      <th>Notas</th>\n",
       "      <th></th>\n",
       "      <th></th>\n",
       "      <th></th>\n",
       "      <th></th>\n",
       "    </tr>\n",
       "  </thead>\n",
       "  <tbody>\n",
       "    <tr>\n",
       "      <th>notas_financas</th>\n",
       "      <td>-0.564124</td>\n",
       "      <td>0.006728</td>\n",
       "      <td>-0.800695</td>\n",
       "      <td>-0.201511</td>\n",
       "    </tr>\n",
       "    <tr>\n",
       "      <th>notas_custos</th>\n",
       "      <td>-0.588711</td>\n",
       "      <td>0.048746</td>\n",
       "      <td>0.219796</td>\n",
       "      <td>0.776359</td>\n",
       "    </tr>\n",
       "    <tr>\n",
       "      <th>notas_marketing</th>\n",
       "      <td>0.026629</td>\n",
       "      <td>0.998737</td>\n",
       "      <td>0.000356</td>\n",
       "      <td>-0.042616</td>\n",
       "    </tr>\n",
       "    <tr>\n",
       "      <th>notas_atuarias</th>\n",
       "      <td>-0.578338</td>\n",
       "      <td>-0.010196</td>\n",
       "      <td>0.557294</td>\n",
       "      <td>-0.595688</td>\n",
       "    </tr>\n",
       "  </tbody>\n",
       "</table>\n",
       "</div>"
      ],
      "text/plain": [
       "                      PC1       PC2       PC3       PC4\n",
       "Notas                                                  \n",
       "notas_financas  -0.564124  0.006728 -0.800695 -0.201511\n",
       "notas_custos    -0.588711  0.048746  0.219796  0.776359\n",
       "notas_marketing  0.026629  0.998737  0.000356 -0.042616\n",
       "notas_atuarias  -0.578338 -0.010196  0.557294 -0.595688"
      ]
     },
     "execution_count": 22,
     "metadata": {},
     "output_type": "execute_result"
    }
   ],
   "source": [
    "#Auto vetores\n",
    "Aut_vet = pd.DataFrame(auto_vetores,columns=['PC1','PC3','PC4','PC2'])\n",
    "Aut_vet['Notas'] = dados.columns.values\n",
    "Aut_vet = Aut_vet.set_index('Notas')\n",
    "nova_ordem = ['PC1','PC2','PC3','PC4']\n",
    "Aut_vet = Aut_vet[nova_ordem]\n",
    "Aut_vet"
   ]
  },
  {
   "cell_type": "markdown",
   "metadata": {},
   "source": [
    "**Os valores de cada eigenvectors indicam o percentual capturado de cada variável, quanto maior o valor mais representativa é a variável para aquele componente(Independente do sinal), no PC1 as variáveis 'Financas','Custos' e 'Atuarias são as mais significantes, já no PC2 é a variável 'Marketing'**"
   ]
  },
  {
   "cell_type": "markdown",
   "metadata": {},
   "source": [
    "# Plot da captura de cada eigenvectors dentro dos componentes"
   ]
  },
  {
   "cell_type": "code",
   "execution_count": 23,
   "metadata": {},
   "outputs": [
    {
     "data": {
      "image/png": "[encoded data removed]",
      "text/plain": [
       "<Figure size 1440x936 with 4 Axes>"
      ]
     },
     "metadata": {
      "needs_background": "light"
     },
     "output_type": "display_data"
    }
   ],
   "source": [
    "#Transformar os auto vetores em um dataframe\n",
    "aa = pd.DataFrame(auto_vetores,columns=dados.columns)\n",
    "aa\n",
    "\n",
    "#Plot dos Autovetores\n",
    "plt.figure(figsize = (20, 13))\n",
    "plt.subplot(2, 2, 1)\n",
    "plt.title('PC1')\n",
    "plt.bar(aa.index,aa.iloc[:,0],tick_label=dados.columns[0:]);\n",
    "plt.subplot(2, 2, 2)\n",
    "plt.title('PC2')\n",
    "plt.bar(aa.index,aa.iloc[:,3],tick_label=dados.columns[0:]);\n",
    "plt.subplot(2, 2, 3)\n",
    "plt.title('PC3')\n",
    "plt.bar(aa.index,aa.iloc[:,1],tick_label=dados.columns[0:]);\n",
    "plt.subplot(2, 2, 4)\n",
    "plt.title('PC4')\n",
    "plt.bar(aa.index,aa.iloc[:,2],tick_label=dados.columns[0:]);"
   ]
  },
  {
   "cell_type": "markdown",
   "metadata": {},
   "source": [
    "**Visualizando os pesos que cada variável tem em cada componente, a correlação entre os componentes será sempre 0**"
   ]
  },
  {
   "cell_type": "markdown",
   "metadata": {},
   "source": [
    "# Plot dos 2 principais componentes"
   ]
  },
  {
   "cell_type": "code",
   "execution_count": 24,
   "metadata": {},
   "outputs": [
    {
     "data": {
      "image/png": "[encoded data removed]",
      "text/plain": [
       "<Figure size 720x576 with 1 Axes>"
      ]
     },
     "metadata": {
      "needs_background": "light"
     },
     "output_type": "display_data"
    }
   ],
   "source": [
    "#Plotar os 2 Principais componentes dos Auto Vetores\n",
    "fig, ax = plt.subplots(1,1, figsize=(10,8))\n",
    "\n",
    "# Scatter plot\n",
    "ax.scatter(Aut_vet['PC1'],Aut_vet['PC2'])\n",
    "\n",
    "# Add as labels\n",
    "for index, series in Aut_vet.iterrows():\n",
    "    ax.text(series[0]+0.01,series[1]+0.01, index)\n",
    "    \n",
    "# Ajuste do plot\n",
    "ax.set_xlabel('PC 1')\n",
    "ax.set_ylabel('PC 2')\n",
    "ax.set_title('PC (2 components)')\n",
    "#ax.set_xlim(-4,4.5)\n",
    "#ax.set_ylim(-2,2)\n",
    "ax.grid()"
   ]
  },
  {
   "cell_type": "markdown",
   "metadata": {},
   "source": [
    "**Note que temos 3 variáveis que estão correlacionadas entre si ('Custo','Finanças' e 'Atuarias'), já as notas de marketing não tem correlação com as outras**"
   ]
  },
  {
   "cell_type": "markdown",
   "metadata": {},
   "source": [
    "**OBS: Para a escolha do número de componentes usamos o critério da raiz latente e selecionamos os 2 primeiros componentes, assim poderíamos finalizar o miniprojeto aqui, porém para ordenar os estudantes através das melhores notas, temos que extrair os Scores fatoriais e criar o ranking**"
   ]
  },
  {
   "cell_type": "markdown",
   "metadata": {},
   "source": [
    "# Calculando os Scores Fatoriais das variáveis"
   ]
  },
  {
   "cell_type": "markdown",
   "metadata": {},
   "source": [
    "- Para calcular os Scores fatoriais dividimos a transposta dos Auto vetores pela raiz dos Auto valores\n",
    "\n",
    "\n",
    "- Estabelece pesos para cada variável em razão da variância capturada sem cometer ponderação arbitraria\n"
   ]
  },
  {
   "cell_type": "code",
   "execution_count": 25,
   "metadata": {},
   "outputs": [
    {
     "data": {
      "text/html": [
       "<div>\n",
       "<style scoped>\n",
       "    .dataframe tbody tr th:only-of-type {\n",
       "        vertical-align: middle;\n",
       "    }\n",
       "\n",
       "    .dataframe tbody tr th {\n",
       "        vertical-align: top;\n",
       "    }\n",
       "\n",
       "    .dataframe thead th {\n",
       "        text-align: right;\n",
       "    }\n",
       "</style>\n",
       "<table border=\"1\" class=\"dataframe\">\n",
       "  <thead>\n",
       "    <tr style=\"text-align: right;\">\n",
       "      <th>Notas</th>\n",
       "      <th>notas_financas</th>\n",
       "      <th>notas_custos</th>\n",
       "      <th>notas_marketing</th>\n",
       "      <th>notas_atuarias</th>\n",
       "    </tr>\n",
       "  </thead>\n",
       "  <tbody>\n",
       "    <tr>\n",
       "      <th>PC1</th>\n",
       "      <td>-0.564124</td>\n",
       "      <td>-0.588711</td>\n",
       "      <td>0.026629</td>\n",
       "      <td>-0.578338</td>\n",
       "    </tr>\n",
       "    <tr>\n",
       "      <th>PC2</th>\n",
       "      <td>0.006728</td>\n",
       "      <td>0.048746</td>\n",
       "      <td>0.998737</td>\n",
       "      <td>-0.010196</td>\n",
       "    </tr>\n",
       "    <tr>\n",
       "      <th>PC3</th>\n",
       "      <td>-0.800695</td>\n",
       "      <td>0.219796</td>\n",
       "      <td>0.000356</td>\n",
       "      <td>0.557294</td>\n",
       "    </tr>\n",
       "    <tr>\n",
       "      <th>PC4</th>\n",
       "      <td>-0.201511</td>\n",
       "      <td>0.776359</td>\n",
       "      <td>-0.042616</td>\n",
       "      <td>-0.595688</td>\n",
       "    </tr>\n",
       "  </tbody>\n",
       "</table>\n",
       "</div>"
      ],
      "text/plain": [
       "Notas  notas_financas  notas_custos  notas_marketing  notas_atuarias\n",
       "PC1         -0.564124     -0.588711         0.026629       -0.578338\n",
       "PC2          0.006728      0.048746         0.998737       -0.010196\n",
       "PC3         -0.800695      0.219796         0.000356        0.557294\n",
       "PC4         -0.201511      0.776359        -0.042616       -0.595688"
      ]
     },
     "execution_count": 25,
     "metadata": {},
     "output_type": "execute_result"
    }
   ],
   "source": [
    "#Transposta dos Auto Vetores\n",
    "Aut_vet.T"
   ]
  },
  {
   "cell_type": "code",
   "execution_count": 26,
   "metadata": {},
   "outputs": [
    {
     "data": {
      "text/html": [
       "<div>\n",
       "<style scoped>\n",
       "    .dataframe tbody tr th:only-of-type {\n",
       "        vertical-align: middle;\n",
       "    }\n",
       "\n",
       "    .dataframe tbody tr th {\n",
       "        vertical-align: top;\n",
       "    }\n",
       "\n",
       "    .dataframe thead th {\n",
       "        text-align: right;\n",
       "    }\n",
       "</style>\n",
       "<table border=\"1\" class=\"dataframe\">\n",
       "  <thead>\n",
       "    <tr style=\"text-align: right;\">\n",
       "      <th></th>\n",
       "      <th>Auto_valores</th>\n",
       "    </tr>\n",
       "    <tr>\n",
       "      <th>Componetes_Principais</th>\n",
       "      <th></th>\n",
       "    </tr>\n",
       "  </thead>\n",
       "  <tbody>\n",
       "    <tr>\n",
       "      <th>PC1</th>\n",
       "      <td>1.587152</td>\n",
       "    </tr>\n",
       "    <tr>\n",
       "      <th>PC2</th>\n",
       "      <td>1.000204</td>\n",
       "    </tr>\n",
       "    <tr>\n",
       "      <th>PC3</th>\n",
       "      <td>0.545648</td>\n",
       "    </tr>\n",
       "    <tr>\n",
       "      <th>PC4</th>\n",
       "      <td>0.427560</td>\n",
       "    </tr>\n",
       "  </tbody>\n",
       "</table>\n",
       "</div>"
      ],
      "text/plain": [
       "                       Auto_valores\n",
       "Componetes_Principais              \n",
       "PC1                        1.587152\n",
       "PC2                        1.000204\n",
       "PC3                        0.545648\n",
       "PC4                        0.427560"
      ]
     },
     "execution_count": 26,
     "metadata": {},
     "output_type": "execute_result"
    }
   ],
   "source": [
    "# Raiz quadrada dos Auto Valores\n",
    "np.sqrt(Auto_valores)"
   ]
  },
  {
   "cell_type": "code",
   "execution_count": 27,
   "metadata": {},
   "outputs": [
    {
     "data": {
      "text/html": [
       "<div>\n",
       "<style scoped>\n",
       "    .dataframe tbody tr th:only-of-type {\n",
       "        vertical-align: middle;\n",
       "    }\n",
       "\n",
       "    .dataframe tbody tr th {\n",
       "        vertical-align: top;\n",
       "    }\n",
       "\n",
       "    .dataframe thead th {\n",
       "        text-align: right;\n",
       "    }\n",
       "</style>\n",
       "<table border=\"1\" class=\"dataframe\">\n",
       "  <thead>\n",
       "    <tr style=\"text-align: right;\">\n",
       "      <th>Notas</th>\n",
       "      <th>notas_financas</th>\n",
       "      <th>notas_custos</th>\n",
       "      <th>notas_marketing</th>\n",
       "      <th>notas_atuarias</th>\n",
       "    </tr>\n",
       "  </thead>\n",
       "  <tbody>\n",
       "    <tr>\n",
       "      <th>Score_Fat_1</th>\n",
       "      <td>-0.355431</td>\n",
       "      <td>-0.370923</td>\n",
       "      <td>0.016778</td>\n",
       "      <td>-0.364387</td>\n",
       "    </tr>\n",
       "    <tr>\n",
       "      <th>Score_Fat_2</th>\n",
       "      <td>0.006726</td>\n",
       "      <td>0.048736</td>\n",
       "      <td>0.998533</td>\n",
       "      <td>-0.010194</td>\n",
       "    </tr>\n",
       "    <tr>\n",
       "      <th>Score_Fat_3</th>\n",
       "      <td>-1.467420</td>\n",
       "      <td>0.402816</td>\n",
       "      <td>0.000652</td>\n",
       "      <td>1.021343</td>\n",
       "    </tr>\n",
       "    <tr>\n",
       "      <th>Score_Fat_4</th>\n",
       "      <td>-0.471304</td>\n",
       "      <td>1.815791</td>\n",
       "      <td>-0.099673</td>\n",
       "      <td>-1.393229</td>\n",
       "    </tr>\n",
       "  </tbody>\n",
       "</table>\n",
       "</div>"
      ],
      "text/plain": [
       "Notas        notas_financas  notas_custos  notas_marketing  notas_atuarias\n",
       "Score_Fat_1       -0.355431     -0.370923         0.016778       -0.364387\n",
       "Score_Fat_2        0.006726      0.048736         0.998533       -0.010194\n",
       "Score_Fat_3       -1.467420      0.402816         0.000652        1.021343\n",
       "Score_Fat_4       -0.471304      1.815791        -0.099673       -1.393229"
      ]
     },
     "execution_count": 27,
     "metadata": {},
     "output_type": "execute_result"
    }
   ],
   "source": [
    "#Score fatorial das variáveis\n",
    "\n",
    "score_fat = Aut_vet.T/np.sqrt(Auto_valores.values)\n",
    "score_fat.index = [['Score_Fat_1','Score_Fat_2','Score_Fat_3','Score_Fat_4']]\n",
    "score_fat"
   ]
  },
  {
   "cell_type": "markdown",
   "metadata": {},
   "source": [
    "**Score fatorial diz respeito a cada variável de cada componente do Auto Vetor, dividido pela raiz quadrada do seu respectivo Auto valor**"
   ]
  },
  {
   "cell_type": "markdown",
   "metadata": {},
   "source": [
    "# Fatores"
   ]
  },
  {
   "cell_type": "markdown",
   "metadata": {},
   "source": [
    "- Antes de calcular os fatores 1° precisa padronizar a base de dados"
   ]
  },
  {
   "cell_type": "code",
   "execution_count": 28,
   "metadata": {},
   "outputs": [
    {
     "data": {
      "text/html": [
       "<div>\n",
       "<style scoped>\n",
       "    .dataframe tbody tr th:only-of-type {\n",
       "        vertical-align: middle;\n",
       "    }\n",
       "\n",
       "    .dataframe tbody tr th {\n",
       "        vertical-align: top;\n",
       "    }\n",
       "\n",
       "    .dataframe thead th {\n",
       "        text-align: right;\n",
       "    }\n",
       "</style>\n",
       "<table border=\"1\" class=\"dataframe\">\n",
       "  <thead>\n",
       "    <tr style=\"text-align: right;\">\n",
       "      <th></th>\n",
       "      <th>notas_financas</th>\n",
       "      <th>notas_custos</th>\n",
       "      <th>notas_marketing</th>\n",
       "      <th>notas_atuarias</th>\n",
       "    </tr>\n",
       "    <tr>\n",
       "      <th>estudante</th>\n",
       "      <th></th>\n",
       "      <th></th>\n",
       "      <th></th>\n",
       "      <th></th>\n",
       "    </tr>\n",
       "  </thead>\n",
       "  <tbody>\n",
       "    <tr>\n",
       "      <th>Gabriela</th>\n",
       "      <td>-0.010943</td>\n",
       "      <td>-0.292100</td>\n",
       "      <td>-1.658407</td>\n",
       "      <td>0.274347</td>\n",
       "    </tr>\n",
       "    <tr>\n",
       "      <th>Luiz Felipe</th>\n",
       "      <td>-0.879921</td>\n",
       "      <td>-0.700974</td>\n",
       "      <td>1.539447</td>\n",
       "      <td>-1.325345</td>\n",
       "    </tr>\n",
       "    <tr>\n",
       "      <th>Patrícia</th>\n",
       "      <td>-0.879921</td>\n",
       "      <td>-0.292100</td>\n",
       "      <td>-0.592456</td>\n",
       "      <td>-0.525499</td>\n",
       "    </tr>\n",
       "    <tr>\n",
       "      <th>Gustavo</th>\n",
       "      <td>1.340802</td>\n",
       "      <td>1.343398</td>\n",
       "      <td>0.828813</td>\n",
       "      <td>1.074193</td>\n",
       "    </tr>\n",
       "    <tr>\n",
       "      <th>Letícia</th>\n",
       "      <td>-0.783368</td>\n",
       "      <td>-1.109849</td>\n",
       "      <td>-0.876710</td>\n",
       "      <td>-0.845437</td>\n",
       "    </tr>\n",
       "  </tbody>\n",
       "</table>\n",
       "</div>"
      ],
      "text/plain": [
       "             notas_financas  notas_custos  notas_marketing  notas_atuarias\n",
       "estudante                                                                 \n",
       "Gabriela          -0.010943     -0.292100        -1.658407        0.274347\n",
       "Luiz Felipe       -0.879921     -0.700974         1.539447       -1.325345\n",
       "Patrícia          -0.879921     -0.292100        -0.592456       -0.525499\n",
       "Gustavo            1.340802      1.343398         0.828813        1.074193\n",
       "Letícia           -0.783368     -1.109849        -0.876710       -0.845437"
      ]
     },
     "execution_count": 28,
     "metadata": {},
     "output_type": "execute_result"
    }
   ],
   "source": [
    "#Padronizar os dados\n",
    "from sklearn.preprocessing import StandardScaler\n",
    "dados_norm = StandardScaler().fit(dados)\n",
    "dados_norm = pd.DataFrame(dados_norm.transform(dados),columns=dados.columns)\n",
    "dados_norm.index = dados.index\n",
    "dados_norm.head()"
   ]
  },
  {
   "cell_type": "markdown",
   "metadata": {},
   "source": [
    "**Dados padronizados para criar os fatores**"
   ]
  },
  {
   "cell_type": "markdown",
   "metadata": {},
   "source": [
    "# Calculando os Fatores"
   ]
  },
  {
   "cell_type": "markdown",
   "metadata": {},
   "source": [
    "- Para calcular os fatores, precisamos multiplicar cada componente de cada uma das variáveis do score fatorial por cada dado padronizado da mesma variável por observação\n",
    "\n",
    "\n",
    "- Se temos 4 Scores fatoriais teremos 4 Fatores\n",
    "\n",
    "\n",
    "- Resumindo: Cada Fator será a multiplicação dos dados de uma observação pelos numeros de Scores Fatoriais"
   ]
  },
  {
   "cell_type": "code",
   "execution_count": 29,
   "metadata": {},
   "outputs": [
    {
     "data": {
      "text/html": [
       "<div>\n",
       "<style scoped>\n",
       "    .dataframe tbody tr th:only-of-type {\n",
       "        vertical-align: middle;\n",
       "    }\n",
       "\n",
       "    .dataframe tbody tr th {\n",
       "        vertical-align: top;\n",
       "    }\n",
       "\n",
       "    .dataframe thead th {\n",
       "        text-align: right;\n",
       "    }\n",
       "</style>\n",
       "<table border=\"1\" class=\"dataframe\">\n",
       "  <thead>\n",
       "    <tr style=\"text-align: right;\">\n",
       "      <th></th>\n",
       "      <th>FT1</th>\n",
       "      <th>FT2</th>\n",
       "      <th>FT3</th>\n",
       "      <th>FT4</th>\n",
       "    </tr>\n",
       "    <tr>\n",
       "      <th>Estudantes</th>\n",
       "      <th></th>\n",
       "      <th></th>\n",
       "      <th></th>\n",
       "      <th></th>\n",
       "    </tr>\n",
       "  </thead>\n",
       "  <tbody>\n",
       "    <tr>\n",
       "      <th>Gabriela</th>\n",
       "      <td>-0.015557</td>\n",
       "      <td>-1.673080</td>\n",
       "      <td>0.177517</td>\n",
       "      <td>-0.742165</td>\n",
       "    </tr>\n",
       "    <tr>\n",
       "      <th>Luiz Felipe</th>\n",
       "      <td>1.081527</td>\n",
       "      <td>1.510618</td>\n",
       "      <td>-0.343779</td>\n",
       "      <td>0.834955</td>\n",
       "    </tr>\n",
       "    <tr>\n",
       "      <th>Patrícia</th>\n",
       "      <td>0.602643</td>\n",
       "      <td>-0.606384</td>\n",
       "      <td>0.636451</td>\n",
       "      <td>0.675510</td>\n",
       "    </tr>\n",
       "    <tr>\n",
       "      <th>Gustavo</th>\n",
       "      <td>-1.352376</td>\n",
       "      <td>0.891137</td>\n",
       "      <td>-0.328718</td>\n",
       "      <td>0.228197</td>\n",
       "    </tr>\n",
       "    <tr>\n",
       "      <th>Letícia</th>\n",
       "      <td>0.983459</td>\n",
       "      <td>-0.926163</td>\n",
       "      <td>-0.161587</td>\n",
       "      <td>-0.380777</td>\n",
       "    </tr>\n",
       "    <tr>\n",
       "      <th>...</th>\n",
       "      <td>...</td>\n",
       "      <td>...</td>\n",
       "      <td>...</td>\n",
       "      <td>...</td>\n",
       "    </tr>\n",
       "    <tr>\n",
       "      <th>Sheila</th>\n",
       "      <td>-0.126999</td>\n",
       "      <td>-0.182771</td>\n",
       "      <td>-1.032114</td>\n",
       "      <td>-0.431230</td>\n",
       "    </tr>\n",
       "    <tr>\n",
       "      <th>Pedro</th>\n",
       "      <td>-1.220815</td>\n",
       "      <td>-0.577404</td>\n",
       "      <td>0.548461</td>\n",
       "      <td>-1.966247</td>\n",
       "    </tr>\n",
       "    <tr>\n",
       "      <th>Horácio</th>\n",
       "      <td>-0.829214</td>\n",
       "      <td>0.499049</td>\n",
       "      <td>-0.736214</td>\n",
       "      <td>-0.557884</td>\n",
       "    </tr>\n",
       "    <tr>\n",
       "      <th>Leandro</th>\n",
       "      <td>-1.186026</td>\n",
       "      <td>-0.918975</td>\n",
       "      <td>0.303812</td>\n",
       "      <td>-1.113869</td>\n",
       "    </tr>\n",
       "    <tr>\n",
       "      <th>Estela</th>\n",
       "      <td>-0.805813</td>\n",
       "      <td>-1.300000</td>\n",
       "      <td>-0.306348</td>\n",
       "      <td>-1.627171</td>\n",
       "    </tr>\n",
       "  </tbody>\n",
       "</table>\n",
       "<p>100 rows × 4 columns</p>\n",
       "</div>"
      ],
      "text/plain": [
       "                  FT1       FT2       FT3       FT4\n",
       "Estudantes                                         \n",
       "Gabriela    -0.015557 -1.673080  0.177517 -0.742165\n",
       "Luiz Felipe  1.081527  1.510618 -0.343779  0.834955\n",
       "Patrícia     0.602643 -0.606384  0.636451  0.675510\n",
       "Gustavo     -1.352376  0.891137 -0.328718  0.228197\n",
       "Letícia      0.983459 -0.926163 -0.161587 -0.380777\n",
       "...               ...       ...       ...       ...\n",
       "Sheila      -0.126999 -0.182771 -1.032114 -0.431230\n",
       "Pedro       -1.220815 -0.577404  0.548461 -1.966247\n",
       "Horácio     -0.829214  0.499049 -0.736214 -0.557884\n",
       "Leandro     -1.186026 -0.918975  0.303812 -1.113869\n",
       "Estela      -0.805813 -1.300000 -0.306348 -1.627171\n",
       "\n",
       "[100 rows x 4 columns]"
      ]
     },
     "execution_count": 29,
     "metadata": {},
     "output_type": "execute_result"
    }
   ],
   "source": [
    "#Fatores (Score Fatorial X Dados Padronizados)\n",
    "fator = pd.DataFrame(np.dot(dados_norm.values, score_fat.T.values),columns=['FT1','FT2','FT3','FT4'])\n",
    "fator['Estudantes'] = dados.index\n",
    "fator = fator.set_index('Estudantes')\n",
    "fator"
   ]
  },
  {
   "cell_type": "markdown",
   "metadata": {},
   "source": [
    "**Criamos os fatores para cada componente, porém usaremos os 2 principais Fatores para criar o ranking, que já explica 88% da variabilidade dos dados**"
   ]
  },
  {
   "cell_type": "markdown",
   "metadata": {},
   "source": [
    "**OBS: Antes de criar o ranking, vamos verificar as Cargas Fatoriais e a Comunalidade**"
   ]
  },
  {
   "cell_type": "markdown",
   "metadata": {},
   "source": [
    "# Cargas Fatoriais e Comunalidade"
   ]
  },
  {
   "cell_type": "markdown",
   "metadata": {},
   "source": [
    "- Correlação entre as variáveis originais X Fatores\n",
    "\n",
    "\n",
    "- Quanto maior a correlação em modulo, mais o fator conseguiu extrair a variabilidade daquela variável"
   ]
  },
  {
   "cell_type": "code",
   "execution_count": 31,
   "metadata": {},
   "outputs": [
    {
     "data": {
      "image/png": "[encoded data removed]",
      "text/plain": [
       "<Figure size 720x504 with 2 Axes>"
      ]
     },
     "metadata": {
      "needs_background": "light"
     },
     "output_type": "display_data"
    }
   ],
   "source": [
    "#Cargas Fatoriais \n",
    "cor_fat = dados_ft.corr()\n",
    "cor_fat = cor_fat.iloc[4:,0:4]\n",
    "\n",
    "#Heatmap\n",
    "\n",
    "fig, ax = plt.subplots(figsize=(10,7))  \n",
    "sns.heatmap(round(cor_fat,3),annot = True);"
   ]
  },
  {
   "cell_type": "code",
   "execution_count": 32,
   "metadata": {},
   "outputs": [
    {
     "data": {
      "text/html": [
       "<div>\n",
       "<style scoped>\n",
       "    .dataframe tbody tr th:only-of-type {\n",
       "        vertical-align: middle;\n",
       "    }\n",
       "\n",
       "    .dataframe tbody tr th {\n",
       "        vertical-align: top;\n",
       "    }\n",
       "\n",
       "    .dataframe thead th {\n",
       "        text-align: right;\n",
       "    }\n",
       "</style>\n",
       "<table border=\"1\" class=\"dataframe\">\n",
       "  <thead>\n",
       "    <tr style=\"text-align: right;\">\n",
       "      <th></th>\n",
       "      <th>notas_financas</th>\n",
       "      <th>notas_custos</th>\n",
       "      <th>notas_marketing</th>\n",
       "      <th>notas_atuarias</th>\n",
       "      <th>eigenvalues</th>\n",
       "    </tr>\n",
       "  </thead>\n",
       "  <tbody>\n",
       "    <tr>\n",
       "      <th>FT1</th>\n",
       "      <td>-0.895350</td>\n",
       "      <td>-0.934374</td>\n",
       "      <td>0.042265</td>\n",
       "      <td>-0.917910</td>\n",
       "      <td>2.520</td>\n",
       "    </tr>\n",
       "    <tr>\n",
       "      <th>FT2</th>\n",
       "      <td>0.006729</td>\n",
       "      <td>0.048756</td>\n",
       "      <td>0.998940</td>\n",
       "      <td>-0.010198</td>\n",
       "      <td>1.000</td>\n",
       "    </tr>\n",
       "    <tr>\n",
       "      <th>FT3</th>\n",
       "      <td>-0.436898</td>\n",
       "      <td>0.119931</td>\n",
       "      <td>0.000194</td>\n",
       "      <td>0.304087</td>\n",
       "      <td>0.297</td>\n",
       "    </tr>\n",
       "    <tr>\n",
       "      <th>FT4</th>\n",
       "      <td>-0.086158</td>\n",
       "      <td>0.331940</td>\n",
       "      <td>-0.018221</td>\n",
       "      <td>-0.254692</td>\n",
       "      <td>0.182</td>\n",
       "    </tr>\n",
       "  </tbody>\n",
       "</table>\n",
       "</div>"
      ],
      "text/plain": [
       "     notas_financas  notas_custos  notas_marketing  notas_atuarias  \\\n",
       "FT1       -0.895350     -0.934374         0.042265       -0.917910   \n",
       "FT2        0.006729      0.048756         0.998940       -0.010198   \n",
       "FT3       -0.436898      0.119931         0.000194        0.304087   \n",
       "FT4       -0.086158      0.331940        -0.018221       -0.254692   \n",
       "\n",
       "     eigenvalues  \n",
       "FT1        2.520  \n",
       "FT2        1.000  \n",
       "FT3        0.297  \n",
       "FT4        0.182  "
      ]
     },
     "execution_count": 32,
     "metadata": {},
     "output_type": "execute_result"
    }
   ],
   "source": [
    "#Eigenvalues, Somatorio dos quadrados das cargas fatorias  \n",
    "cor_fat1 = cor_fat.copy()\n",
    "cor_fat1 =round(cor_fat1**2,3)\n",
    "cor_fat['eigenvalues'] = np.sum(cor_fat1,axis=1)\n",
    "cor_fat"
   ]
  },
  {
   "cell_type": "markdown",
   "metadata": {},
   "source": [
    "**Somatorio dos quadrados das cargas fatorias = eigenvalues**"
   ]
  },
  {
   "cell_type": "markdown",
   "metadata": {},
   "source": [
    "# Comunalidade"
   ]
  },
  {
   "cell_type": "markdown",
   "metadata": {},
   "source": [
    "- Comunalidades são a soma das cargas fatoriais ao quadrado de cada variável medida."
   ]
  },
  {
   "cell_type": "code",
   "execution_count": 63,
   "metadata": {},
   "outputs": [
    {
     "data": {
      "text/html": [
       "<div>\n",
       "<style scoped>\n",
       "    .dataframe tbody tr th:only-of-type {\n",
       "        vertical-align: middle;\n",
       "    }\n",
       "\n",
       "    .dataframe tbody tr th {\n",
       "        vertical-align: top;\n",
       "    }\n",
       "\n",
       "    .dataframe thead tr th {\n",
       "        text-align: left;\n",
       "    }\n",
       "</style>\n",
       "<table border=\"1\" class=\"dataframe\">\n",
       "  <thead>\n",
       "    <tr>\n",
       "      <th></th>\n",
       "      <th>FT1²</th>\n",
       "      <th>FT2²</th>\n",
       "      <th>FT3²</th>\n",
       "      <th>FT4²</th>\n",
       "      <th>Comu_total_Variável</th>\n",
       "    </tr>\n",
       "  </thead>\n",
       "  <tbody>\n",
       "    <tr>\n",
       "      <th>notas_financas</th>\n",
       "      <td>0.8017</td>\n",
       "      <td>0.0000</td>\n",
       "      <td>0.1909</td>\n",
       "      <td>0.0074</td>\n",
       "      <td>1.0</td>\n",
       "    </tr>\n",
       "    <tr>\n",
       "      <th>notas_custos</th>\n",
       "      <td>0.8731</td>\n",
       "      <td>0.0024</td>\n",
       "      <td>0.0144</td>\n",
       "      <td>0.1102</td>\n",
       "      <td>1.0</td>\n",
       "    </tr>\n",
       "    <tr>\n",
       "      <th>notas_marketing</th>\n",
       "      <td>0.0018</td>\n",
       "      <td>0.9979</td>\n",
       "      <td>0.0000</td>\n",
       "      <td>0.0003</td>\n",
       "      <td>1.0</td>\n",
       "    </tr>\n",
       "    <tr>\n",
       "      <th>notas_atuarias</th>\n",
       "      <td>0.8426</td>\n",
       "      <td>0.0001</td>\n",
       "      <td>0.0925</td>\n",
       "      <td>0.0649</td>\n",
       "      <td>1.0</td>\n",
       "    </tr>\n",
       "    <tr>\n",
       "      <th>eigenvalues</th>\n",
       "      <td>2.5192</td>\n",
       "      <td>1.0004</td>\n",
       "      <td>0.2978</td>\n",
       "      <td>0.1828</td>\n",
       "      <td>4.0</td>\n",
       "    </tr>\n",
       "  </tbody>\n",
       "</table>\n",
       "</div>"
      ],
      "text/plain": [
       "                   FT1²    FT2²    FT3²    FT4² Comu_total_Variável\n",
       "notas_financas   0.8017  0.0000  0.1909  0.0074                 1.0\n",
       "notas_custos     0.8731  0.0024  0.0144  0.1102                 1.0\n",
       "notas_marketing  0.0018  0.9979  0.0000  0.0003                 1.0\n",
       "notas_atuarias   0.8426  0.0001  0.0925  0.0649                 1.0\n",
       "eigenvalues      2.5192  1.0004  0.2978  0.1828                 4.0"
      ]
     },
     "execution_count": 63,
     "metadata": {},
     "output_type": "execute_result"
    }
   ],
   "source": [
    "#Calculo da comunalidade Total\n",
    "comu_total = round(cor_fat.iloc[:,0:4].T**2,4)\n",
    "comu_total['Comu_total_Variável'] = np.sum(round(comu_total,1),axis=1)\n",
    "s = np.sum(comu_total,axis=0)\n",
    "comu_total.loc['eigenvalues'] = s\n",
    "comu_total.columns = [['FT1²','FT2²','FT3²','FT4²','Comu_total_Variável']]\n",
    "comu_total"
   ]
  },
  {
   "cell_type": "markdown",
   "metadata": {},
   "source": [
    "**Cada valor representa a porcentagem da variável capturada naquele fator, observe que os fatores 3 e 4 capturam muito pouco da variabilidade das variáveis**"
   ]
  },
  {
   "cell_type": "markdown",
   "metadata": {},
   "source": [
    "**OBS: Observe que somando cada fator ao quadrado, teremos o número de eigenvalues, e somando cada percentual de variável capturada, teremos o número de variáveis**"
   ]
  },
  {
   "cell_type": "code",
   "execution_count": 34,
   "metadata": {},
   "outputs": [
    {
     "data": {
      "text/html": [
       "<div>\n",
       "<style scoped>\n",
       "    .dataframe tbody tr th:only-of-type {\n",
       "        vertical-align: middle;\n",
       "    }\n",
       "\n",
       "    .dataframe tbody tr th {\n",
       "        vertical-align: top;\n",
       "    }\n",
       "\n",
       "    .dataframe thead th {\n",
       "        text-align: right;\n",
       "    }\n",
       "</style>\n",
       "<table border=\"1\" class=\"dataframe\">\n",
       "  <thead>\n",
       "    <tr style=\"text-align: right;\">\n",
       "      <th></th>\n",
       "      <th>FT1</th>\n",
       "      <th>FT2</th>\n",
       "      <th>Comu_Variável</th>\n",
       "    </tr>\n",
       "  </thead>\n",
       "  <tbody>\n",
       "    <tr>\n",
       "      <th>notas_financas</th>\n",
       "      <td>0.8017</td>\n",
       "      <td>0.0000</td>\n",
       "      <td>0.80</td>\n",
       "    </tr>\n",
       "    <tr>\n",
       "      <th>notas_custos</th>\n",
       "      <td>0.8731</td>\n",
       "      <td>0.0024</td>\n",
       "      <td>0.87</td>\n",
       "    </tr>\n",
       "    <tr>\n",
       "      <th>notas_marketing</th>\n",
       "      <td>0.0018</td>\n",
       "      <td>0.9979</td>\n",
       "      <td>1.00</td>\n",
       "    </tr>\n",
       "    <tr>\n",
       "      <th>notas_atuarias</th>\n",
       "      <td>0.8426</td>\n",
       "      <td>0.0001</td>\n",
       "      <td>0.84</td>\n",
       "    </tr>\n",
       "  </tbody>\n",
       "</table>\n",
       "</div>"
      ],
      "text/plain": [
       "                    FT1     FT2  Comu_Variável\n",
       "notas_financas   0.8017  0.0000           0.80\n",
       "notas_custos     0.8731  0.0024           0.87\n",
       "notas_marketing  0.0018  0.9979           1.00\n",
       "notas_atuarias   0.8426  0.0001           0.84"
      ]
     },
     "execution_count": 34,
     "metadata": {},
     "output_type": "execute_result"
    }
   ],
   "source": [
    "#Comunalidade dos 2 fatores principais\n",
    "comu = comu_total.iloc[0:4,0:2]\n",
    "comu['Comu_Variável'] = np.sum(round(comu,2),axis=1)\n",
    "comu"
   ]
  },
  {
   "cell_type": "code",
   "execution_count": 35,
   "metadata": {},
   "outputs": [
    {
     "name": "stdout",
     "output_type": "stream",
     "text": [
      "Porcentagem Explicada dos 2 fatores principais: [0.6297631641784791, 0.2501020174485349]\n",
      "\n",
      "Porcentagem Explicada da soma dos 2 fatores principais: 0.879865181627014\n"
     ]
    }
   ],
   "source": [
    "#Porcentagem de cada fator\n",
    "porcent1 = sorted(auto_valores/sum(auto_valores),reverse=True)[0:2]\n",
    "print(f'Porcentagem Explicada dos 2 fatores principais: {porcent1}\\n')\n",
    "print(f'Porcentagem Explicada da soma dos 2 fatores principais: {sum(porcent1)}')"
   ]
  },
  {
   "cell_type": "markdown",
   "metadata": {},
   "source": [
    "**Quase que a variabilidade total é explicada pelos 2 primeiros fatores**"
   ]
  },
  {
   "cell_type": "code",
   "execution_count": 36,
   "metadata": {},
   "outputs": [
    {
     "data": {
      "text/html": [
       "<div>\n",
       "<style scoped>\n",
       "    .dataframe tbody tr th:only-of-type {\n",
       "        vertical-align: middle;\n",
       "    }\n",
       "\n",
       "    .dataframe tbody tr th {\n",
       "        vertical-align: top;\n",
       "    }\n",
       "\n",
       "    .dataframe thead th {\n",
       "        text-align: right;\n",
       "    }\n",
       "</style>\n",
       "<table border=\"1\" class=\"dataframe\">\n",
       "  <thead>\n",
       "    <tr style=\"text-align: right;\">\n",
       "      <th></th>\n",
       "      <th>FT1</th>\n",
       "      <th>FT2</th>\n",
       "    </tr>\n",
       "    <tr>\n",
       "      <th>Estudantes</th>\n",
       "      <th></th>\n",
       "      <th></th>\n",
       "    </tr>\n",
       "  </thead>\n",
       "  <tbody>\n",
       "    <tr>\n",
       "      <th>Gabriela</th>\n",
       "      <td>-0.015557</td>\n",
       "      <td>-1.673080</td>\n",
       "    </tr>\n",
       "    <tr>\n",
       "      <th>Luiz Felipe</th>\n",
       "      <td>1.081527</td>\n",
       "      <td>1.510618</td>\n",
       "    </tr>\n",
       "    <tr>\n",
       "      <th>Patrícia</th>\n",
       "      <td>0.602643</td>\n",
       "      <td>-0.606384</td>\n",
       "    </tr>\n",
       "    <tr>\n",
       "      <th>Gustavo</th>\n",
       "      <td>-1.352376</td>\n",
       "      <td>0.891137</td>\n",
       "    </tr>\n",
       "    <tr>\n",
       "      <th>Letícia</th>\n",
       "      <td>0.983459</td>\n",
       "      <td>-0.926163</td>\n",
       "    </tr>\n",
       "    <tr>\n",
       "      <th>...</th>\n",
       "      <td>...</td>\n",
       "      <td>...</td>\n",
       "    </tr>\n",
       "    <tr>\n",
       "      <th>Sheila</th>\n",
       "      <td>-0.126999</td>\n",
       "      <td>-0.182771</td>\n",
       "    </tr>\n",
       "    <tr>\n",
       "      <th>Pedro</th>\n",
       "      <td>-1.220815</td>\n",
       "      <td>-0.577404</td>\n",
       "    </tr>\n",
       "    <tr>\n",
       "      <th>Horácio</th>\n",
       "      <td>-0.829214</td>\n",
       "      <td>0.499049</td>\n",
       "    </tr>\n",
       "    <tr>\n",
       "      <th>Leandro</th>\n",
       "      <td>-1.186026</td>\n",
       "      <td>-0.918975</td>\n",
       "    </tr>\n",
       "    <tr>\n",
       "      <th>Estela</th>\n",
       "      <td>-0.805813</td>\n",
       "      <td>-1.300000</td>\n",
       "    </tr>\n",
       "  </tbody>\n",
       "</table>\n",
       "<p>100 rows × 2 columns</p>\n",
       "</div>"
      ],
      "text/plain": [
       "                  FT1       FT2\n",
       "Estudantes                     \n",
       "Gabriela    -0.015557 -1.673080\n",
       "Luiz Felipe  1.081527  1.510618\n",
       "Patrícia     0.602643 -0.606384\n",
       "Gustavo     -1.352376  0.891137\n",
       "Letícia      0.983459 -0.926163\n",
       "...               ...       ...\n",
       "Sheila      -0.126999 -0.182771\n",
       "Pedro       -1.220815 -0.577404\n",
       "Horácio     -0.829214  0.499049\n",
       "Leandro     -1.186026 -0.918975\n",
       "Estela      -0.805813 -1.300000\n",
       "\n",
       "[100 rows x 2 columns]"
      ]
     },
     "execution_count": 36,
     "metadata": {},
     "output_type": "execute_result"
    }
   ],
   "source": [
    "#Selecionar os 2 primeiros fatores\n",
    "fator1 = fator.iloc[:,0:2]\n",
    "fator1"
   ]
  },
  {
   "cell_type": "markdown",
   "metadata": {},
   "source": [
    "**Para construção do ranking, vamos usar os 2 primeiros fatores**"
   ]
  },
  {
   "cell_type": "markdown",
   "metadata": {},
   "source": [
    "# Ranking"
   ]
  },
  {
   "cell_type": "markdown",
   "metadata": {},
   "source": [
    "- Usando os 2 primeiros fatores, podemos fazer um ranking dos melhores e piores alunos \n",
    "\n",
    "\n",
    "- O valor da pontuação do ranking é dado através da multiplicação do score fatorial pela sua respectiva porcentagem do eigenvalues\n",
    "\n",
    "\n",
    "- Para construção do ranking as variáveis devem estar todas com o mesmo sentido de correlação\n"
   ]
  },
  {
   "cell_type": "code",
   "execution_count": 37,
   "metadata": {},
   "outputs": [
    {
     "data": {
      "text/html": [
       "<div>\n",
       "<style scoped>\n",
       "    .dataframe tbody tr th:only-of-type {\n",
       "        vertical-align: middle;\n",
       "    }\n",
       "\n",
       "    .dataframe tbody tr th {\n",
       "        vertical-align: top;\n",
       "    }\n",
       "\n",
       "    .dataframe thead th {\n",
       "        text-align: right;\n",
       "    }\n",
       "</style>\n",
       "<table border=\"1\" class=\"dataframe\">\n",
       "  <thead>\n",
       "    <tr style=\"text-align: right;\">\n",
       "      <th></th>\n",
       "      <th>PC1</th>\n",
       "      <th>PC2</th>\n",
       "    </tr>\n",
       "    <tr>\n",
       "      <th>Notas</th>\n",
       "      <th></th>\n",
       "      <th></th>\n",
       "    </tr>\n",
       "  </thead>\n",
       "  <tbody>\n",
       "    <tr>\n",
       "      <th>notas_financas</th>\n",
       "      <td>-0.564124</td>\n",
       "      <td>0.006728</td>\n",
       "    </tr>\n",
       "    <tr>\n",
       "      <th>notas_custos</th>\n",
       "      <td>-0.588711</td>\n",
       "      <td>0.048746</td>\n",
       "    </tr>\n",
       "    <tr>\n",
       "      <th>notas_marketing</th>\n",
       "      <td>0.026629</td>\n",
       "      <td>0.998737</td>\n",
       "    </tr>\n",
       "    <tr>\n",
       "      <th>notas_atuarias</th>\n",
       "      <td>-0.578338</td>\n",
       "      <td>-0.010196</td>\n",
       "    </tr>\n",
       "  </tbody>\n",
       "</table>\n",
       "</div>"
      ],
      "text/plain": [
       "                      PC1       PC2\n",
       "Notas                              \n",
       "notas_financas  -0.564124  0.006728\n",
       "notas_custos    -0.588711  0.048746\n",
       "notas_marketing  0.026629  0.998737\n",
       "notas_atuarias  -0.578338 -0.010196"
      ]
     },
     "execution_count": 37,
     "metadata": {},
     "output_type": "execute_result"
    }
   ],
   "source": [
    "#Correlação\n",
    "Aut_vet.iloc[:,0:2]"
   ]
  },
  {
   "cell_type": "markdown",
   "metadata": {},
   "source": [
    "**Os 2 principais componentes(PC1 e PC2) extraídos da matriz de correlação para o cálculo do ranking estão com os valores invertidos, precisamos deixar as correlações da PC1 e PC2 com o mesmo sentido**"
   ]
  },
  {
   "cell_type": "code",
   "execution_count": 38,
   "metadata": {},
   "outputs": [
    {
     "data": {
      "image/png": "[encoded data removed]",
      "text/plain": [
       "<Figure size 360x360 with 1 Axes>"
      ]
     },
     "metadata": {
      "needs_background": "light"
     },
     "output_type": "display_data"
    }
   ],
   "source": [
    "#Plotar os 2 Principais componentes dos Auto Vetores\n",
    "fig, ax = plt.subplots(1,1, figsize=(5,5))\n",
    "\n",
    "plt.scatter(Aut_vet.PC1,Aut_vet.PC2)\n",
    "# Add as labels\n",
    "for index, series in Aut_vet.iterrows():\n",
    "    ax.text(series[0]+0.01,series[1]+0.01, index)\n",
    "    \n"
   ]
  },
  {
   "cell_type": "markdown",
   "metadata": {},
   "source": [
    "**Analisando a PC1 e a PC2(Dim1 e Dim2) para construção do ranking, repare que a nota_marketing é a única que esta positiva, e para a construção do ranking ela está melhorando o ranking de todos os alunos, já as outras notas estão negativas e piorando o ranking em relação a nota_marketing, por isso devemos multiplicar um dos Auto Vetores ou um dos Fatores por -1, para deixar todas as variáveis com o mesmo sentido na correlação, e para construção do ranking que todas as variáveis melhorem o ranking dos alunos**"
   ]
  },
  {
   "cell_type": "code",
   "execution_count": 43,
   "metadata": {},
   "outputs": [
    {
     "data": {
      "text/html": [
       "<div>\n",
       "<style scoped>\n",
       "    .dataframe tbody tr th:only-of-type {\n",
       "        vertical-align: middle;\n",
       "    }\n",
       "\n",
       "    .dataframe tbody tr th {\n",
       "        vertical-align: top;\n",
       "    }\n",
       "\n",
       "    .dataframe thead th {\n",
       "        text-align: right;\n",
       "    }\n",
       "</style>\n",
       "<table border=\"1\" class=\"dataframe\">\n",
       "  <thead>\n",
       "    <tr style=\"text-align: right;\">\n",
       "      <th></th>\n",
       "      <th>FT1</th>\n",
       "      <th>FT2</th>\n",
       "    </tr>\n",
       "    <tr>\n",
       "      <th>Estudantes</th>\n",
       "      <th></th>\n",
       "      <th></th>\n",
       "    </tr>\n",
       "  </thead>\n",
       "  <tbody>\n",
       "    <tr>\n",
       "      <th>Gabriela</th>\n",
       "      <td>0.015557</td>\n",
       "      <td>-1.673080</td>\n",
       "    </tr>\n",
       "    <tr>\n",
       "      <th>Luiz Felipe</th>\n",
       "      <td>-1.081527</td>\n",
       "      <td>1.510618</td>\n",
       "    </tr>\n",
       "    <tr>\n",
       "      <th>Patrícia</th>\n",
       "      <td>-0.602643</td>\n",
       "      <td>-0.606384</td>\n",
       "    </tr>\n",
       "    <tr>\n",
       "      <th>Gustavo</th>\n",
       "      <td>1.352376</td>\n",
       "      <td>0.891137</td>\n",
       "    </tr>\n",
       "    <tr>\n",
       "      <th>Letícia</th>\n",
       "      <td>-0.983459</td>\n",
       "      <td>-0.926163</td>\n",
       "    </tr>\n",
       "    <tr>\n",
       "      <th>...</th>\n",
       "      <td>...</td>\n",
       "      <td>...</td>\n",
       "    </tr>\n",
       "    <tr>\n",
       "      <th>Sheila</th>\n",
       "      <td>0.126999</td>\n",
       "      <td>-0.182771</td>\n",
       "    </tr>\n",
       "    <tr>\n",
       "      <th>Pedro</th>\n",
       "      <td>1.220815</td>\n",
       "      <td>-0.577404</td>\n",
       "    </tr>\n",
       "    <tr>\n",
       "      <th>Horácio</th>\n",
       "      <td>0.829214</td>\n",
       "      <td>0.499049</td>\n",
       "    </tr>\n",
       "    <tr>\n",
       "      <th>Leandro</th>\n",
       "      <td>1.186026</td>\n",
       "      <td>-0.918975</td>\n",
       "    </tr>\n",
       "    <tr>\n",
       "      <th>Estela</th>\n",
       "      <td>0.805813</td>\n",
       "      <td>-1.300000</td>\n",
       "    </tr>\n",
       "  </tbody>\n",
       "</table>\n",
       "<p>100 rows × 2 columns</p>\n",
       "</div>"
      ],
      "text/plain": [
       "                  FT1       FT2\n",
       "Estudantes                     \n",
       "Gabriela     0.015557 -1.673080\n",
       "Luiz Felipe -1.081527  1.510618\n",
       "Patrícia    -0.602643 -0.606384\n",
       "Gustavo      1.352376  0.891137\n",
       "Letícia     -0.983459 -0.926163\n",
       "...               ...       ...\n",
       "Sheila       0.126999 -0.182771\n",
       "Pedro        1.220815 -0.577404\n",
       "Horácio      0.829214  0.499049\n",
       "Leandro      1.186026 -0.918975\n",
       "Estela       0.805813 -1.300000\n",
       "\n",
       "[100 rows x 2 columns]"
      ]
     },
     "execution_count": 43,
     "metadata": {},
     "output_type": "execute_result"
    }
   ],
   "source": [
    "#Invertendo o sinal de um dos fatores\n",
    "fator2 = fator1.copy()\n",
    "fator2['FT1'] = fator2.iloc[:,0]*-1\n",
    "fator2"
   ]
  },
  {
   "cell_type": "markdown",
   "metadata": {},
   "source": [
    "**Agora os 2 fatores estão com o mesmo sentido nas correlações**"
   ]
  },
  {
   "cell_type": "code",
   "execution_count": 46,
   "metadata": {},
   "outputs": [
    {
     "data": {
      "text/html": [
       "<div>\n",
       "<style scoped>\n",
       "    .dataframe tbody tr th:only-of-type {\n",
       "        vertical-align: middle;\n",
       "    }\n",
       "\n",
       "    .dataframe tbody tr th {\n",
       "        vertical-align: top;\n",
       "    }\n",
       "\n",
       "    .dataframe thead th {\n",
       "        text-align: right;\n",
       "    }\n",
       "</style>\n",
       "<table border=\"1\" class=\"dataframe\">\n",
       "  <thead>\n",
       "    <tr style=\"text-align: right;\">\n",
       "      <th></th>\n",
       "      <th>notas_financas</th>\n",
       "      <th>notas_custos</th>\n",
       "      <th>notas_marketing</th>\n",
       "      <th>notas_atuarias</th>\n",
       "      <th>FT1</th>\n",
       "      <th>FT2</th>\n",
       "    </tr>\n",
       "    <tr>\n",
       "      <th>estudante</th>\n",
       "      <th></th>\n",
       "      <th></th>\n",
       "      <th></th>\n",
       "      <th></th>\n",
       "      <th></th>\n",
       "      <th></th>\n",
       "    </tr>\n",
       "  </thead>\n",
       "  <tbody>\n",
       "    <tr>\n",
       "      <th>Gabriela</th>\n",
       "      <td>5.8</td>\n",
       "      <td>4.00</td>\n",
       "      <td>1.00</td>\n",
       "      <td>6.0</td>\n",
       "      <td>0.015557</td>\n",
       "      <td>-1.673080</td>\n",
       "    </tr>\n",
       "    <tr>\n",
       "      <th>Luiz Felipe</th>\n",
       "      <td>3.1</td>\n",
       "      <td>3.00</td>\n",
       "      <td>10.00</td>\n",
       "      <td>2.0</td>\n",
       "      <td>-1.081527</td>\n",
       "      <td>1.510618</td>\n",
       "    </tr>\n",
       "    <tr>\n",
       "      <th>Patrícia</th>\n",
       "      <td>3.1</td>\n",
       "      <td>4.00</td>\n",
       "      <td>4.00</td>\n",
       "      <td>4.0</td>\n",
       "      <td>-0.602643</td>\n",
       "      <td>-0.606384</td>\n",
       "    </tr>\n",
       "    <tr>\n",
       "      <th>Gustavo</th>\n",
       "      <td>10.0</td>\n",
       "      <td>8.00</td>\n",
       "      <td>8.00</td>\n",
       "      <td>8.0</td>\n",
       "      <td>1.352376</td>\n",
       "      <td>0.891137</td>\n",
       "    </tr>\n",
       "    <tr>\n",
       "      <th>Letícia</th>\n",
       "      <td>3.4</td>\n",
       "      <td>2.00</td>\n",
       "      <td>3.20</td>\n",
       "      <td>3.2</td>\n",
       "      <td>-0.983459</td>\n",
       "      <td>-0.926163</td>\n",
       "    </tr>\n",
       "    <tr>\n",
       "      <th>...</th>\n",
       "      <td>...</td>\n",
       "      <td>...</td>\n",
       "      <td>...</td>\n",
       "      <td>...</td>\n",
       "      <td>...</td>\n",
       "      <td>...</td>\n",
       "    </tr>\n",
       "    <tr>\n",
       "      <th>Sheila</th>\n",
       "      <td>7.7</td>\n",
       "      <td>4.33</td>\n",
       "      <td>5.16</td>\n",
       "      <td>5.1</td>\n",
       "      <td>0.126999</td>\n",
       "      <td>-0.182771</td>\n",
       "    </tr>\n",
       "    <tr>\n",
       "      <th>Pedro</th>\n",
       "      <td>9.0</td>\n",
       "      <td>6.00</td>\n",
       "      <td>4.00</td>\n",
       "      <td>9.8</td>\n",
       "      <td>1.220815</td>\n",
       "      <td>-0.577404</td>\n",
       "    </tr>\n",
       "    <tr>\n",
       "      <th>Horácio</th>\n",
       "      <td>9.3</td>\n",
       "      <td>6.00</td>\n",
       "      <td>7.00</td>\n",
       "      <td>7.0</td>\n",
       "      <td>0.829214</td>\n",
       "      <td>0.499049</td>\n",
       "    </tr>\n",
       "    <tr>\n",
       "      <th>Leandro</th>\n",
       "      <td>9.0</td>\n",
       "      <td>6.50</td>\n",
       "      <td>3.00</td>\n",
       "      <td>9.0</td>\n",
       "      <td>1.186026</td>\n",
       "      <td>-0.918975</td>\n",
       "    </tr>\n",
       "    <tr>\n",
       "      <th>Estela</th>\n",
       "      <td>8.9</td>\n",
       "      <td>4.99</td>\n",
       "      <td>2.00</td>\n",
       "      <td>8.0</td>\n",
       "      <td>0.805813</td>\n",
       "      <td>-1.300000</td>\n",
       "    </tr>\n",
       "  </tbody>\n",
       "</table>\n",
       "<p>100 rows × 6 columns</p>\n",
       "</div>"
      ],
      "text/plain": [
       "             notas_financas  notas_custos  notas_marketing  notas_atuarias  \\\n",
       "estudante                                                                    \n",
       "Gabriela                5.8          4.00             1.00             6.0   \n",
       "Luiz Felipe             3.1          3.00            10.00             2.0   \n",
       "Patrícia                3.1          4.00             4.00             4.0   \n",
       "Gustavo                10.0          8.00             8.00             8.0   \n",
       "Letícia                 3.4          2.00             3.20             3.2   \n",
       "...                     ...           ...              ...             ...   \n",
       "Sheila                  7.7          4.33             5.16             5.1   \n",
       "Pedro                   9.0          6.00             4.00             9.8   \n",
       "Horácio                 9.3          6.00             7.00             7.0   \n",
       "Leandro                 9.0          6.50             3.00             9.0   \n",
       "Estela                  8.9          4.99             2.00             8.0   \n",
       "\n",
       "                  FT1       FT2  \n",
       "estudante                        \n",
       "Gabriela     0.015557 -1.673080  \n",
       "Luiz Felipe -1.081527  1.510618  \n",
       "Patrícia    -0.602643 -0.606384  \n",
       "Gustavo      1.352376  0.891137  \n",
       "Letícia     -0.983459 -0.926163  \n",
       "...               ...       ...  \n",
       "Sheila       0.126999 -0.182771  \n",
       "Pedro        1.220815 -0.577404  \n",
       "Horácio      0.829214  0.499049  \n",
       "Leandro      1.186026 -0.918975  \n",
       "Estela       0.805813 -1.300000  \n",
       "\n",
       "[100 rows x 6 columns]"
      ]
     },
     "execution_count": 46,
     "metadata": {},
     "output_type": "execute_result"
    }
   ],
   "source": [
    "#Base de dados originais + os fatores\n",
    "base_total = dados.join(fator2)\n",
    "base_total"
   ]
  },
  {
   "cell_type": "markdown",
   "metadata": {},
   "source": [
    "## Construção de um Ranking"
   ]
  },
  {
   "cell_type": "markdown",
   "metadata": {},
   "source": [
    "- Criando um ranking pela soma dos fatores por sua variância compartilhada"
   ]
  },
  {
   "cell_type": "code",
   "execution_count": 51,
   "metadata": {},
   "outputs": [
    {
     "name": "stdout",
     "output_type": "stream",
     "text": [
      "Variância Compartilhada Fator 1: 0.6297631641784791\n",
      "\n",
      "Variância Compartilhada Fator 2: 0.2501020174485349\n"
     ]
    }
   ],
   "source": [
    "#Variância Compartilhada\n",
    "print(f'Variância Compartilhada Fator 1: {porcent1[0]}')\n",
    "print(f'\\nVariância Compartilhada Fator 2: {porcent1[1]}')"
   ]
  },
  {
   "cell_type": "code",
   "execution_count": 54,
   "metadata": {},
   "outputs": [
    {
     "data": {
      "text/html": [
       "<div>\n",
       "<style scoped>\n",
       "    .dataframe tbody tr th:only-of-type {\n",
       "        vertical-align: middle;\n",
       "    }\n",
       "\n",
       "    .dataframe tbody tr th {\n",
       "        vertical-align: top;\n",
       "    }\n",
       "\n",
       "    .dataframe thead th {\n",
       "        text-align: right;\n",
       "    }\n",
       "</style>\n",
       "<table border=\"1\" class=\"dataframe\">\n",
       "  <thead>\n",
       "    <tr style=\"text-align: right;\">\n",
       "      <th></th>\n",
       "      <th>notas_financas</th>\n",
       "      <th>notas_custos</th>\n",
       "      <th>notas_marketing</th>\n",
       "      <th>notas_atuarias</th>\n",
       "      <th>FT1</th>\n",
       "      <th>FT2</th>\n",
       "      <th>Ranking_Pontuacão</th>\n",
       "    </tr>\n",
       "    <tr>\n",
       "      <th>estudante</th>\n",
       "      <th></th>\n",
       "      <th></th>\n",
       "      <th></th>\n",
       "      <th></th>\n",
       "      <th></th>\n",
       "      <th></th>\n",
       "      <th></th>\n",
       "    </tr>\n",
       "  </thead>\n",
       "  <tbody>\n",
       "    <tr>\n",
       "      <th>Gabriela</th>\n",
       "      <td>5.8</td>\n",
       "      <td>4.00</td>\n",
       "      <td>1.00</td>\n",
       "      <td>6.0</td>\n",
       "      <td>0.015557</td>\n",
       "      <td>-1.673080</td>\n",
       "      <td>-0.408643</td>\n",
       "    </tr>\n",
       "    <tr>\n",
       "      <th>Luiz Felipe</th>\n",
       "      <td>3.1</td>\n",
       "      <td>3.00</td>\n",
       "      <td>10.00</td>\n",
       "      <td>2.0</td>\n",
       "      <td>-1.081527</td>\n",
       "      <td>1.510618</td>\n",
       "      <td>-0.303297</td>\n",
       "    </tr>\n",
       "    <tr>\n",
       "      <th>Patrícia</th>\n",
       "      <td>3.1</td>\n",
       "      <td>4.00</td>\n",
       "      <td>4.00</td>\n",
       "      <td>4.0</td>\n",
       "      <td>-0.602643</td>\n",
       "      <td>-0.606384</td>\n",
       "      <td>-0.531180</td>\n",
       "    </tr>\n",
       "    <tr>\n",
       "      <th>Gustavo</th>\n",
       "      <td>10.0</td>\n",
       "      <td>8.00</td>\n",
       "      <td>8.00</td>\n",
       "      <td>8.0</td>\n",
       "      <td>1.352376</td>\n",
       "      <td>0.891137</td>\n",
       "      <td>1.074552</td>\n",
       "    </tr>\n",
       "    <tr>\n",
       "      <th>Letícia</th>\n",
       "      <td>3.4</td>\n",
       "      <td>2.00</td>\n",
       "      <td>3.20</td>\n",
       "      <td>3.2</td>\n",
       "      <td>-0.983459</td>\n",
       "      <td>-0.926163</td>\n",
       "      <td>-0.850982</td>\n",
       "    </tr>\n",
       "    <tr>\n",
       "      <th>...</th>\n",
       "      <td>...</td>\n",
       "      <td>...</td>\n",
       "      <td>...</td>\n",
       "      <td>...</td>\n",
       "      <td>...</td>\n",
       "      <td>...</td>\n",
       "      <td>...</td>\n",
       "    </tr>\n",
       "    <tr>\n",
       "      <th>Sheila</th>\n",
       "      <td>7.7</td>\n",
       "      <td>4.33</td>\n",
       "      <td>5.16</td>\n",
       "      <td>5.1</td>\n",
       "      <td>0.126999</td>\n",
       "      <td>-0.182771</td>\n",
       "      <td>0.034268</td>\n",
       "    </tr>\n",
       "    <tr>\n",
       "      <th>Pedro</th>\n",
       "      <td>9.0</td>\n",
       "      <td>6.00</td>\n",
       "      <td>4.00</td>\n",
       "      <td>9.8</td>\n",
       "      <td>1.220815</td>\n",
       "      <td>-0.577404</td>\n",
       "      <td>0.624415</td>\n",
       "    </tr>\n",
       "    <tr>\n",
       "      <th>Horácio</th>\n",
       "      <td>9.3</td>\n",
       "      <td>6.00</td>\n",
       "      <td>7.00</td>\n",
       "      <td>7.0</td>\n",
       "      <td>0.829214</td>\n",
       "      <td>0.499049</td>\n",
       "      <td>0.647021</td>\n",
       "    </tr>\n",
       "    <tr>\n",
       "      <th>Leandro</th>\n",
       "      <td>9.0</td>\n",
       "      <td>6.50</td>\n",
       "      <td>3.00</td>\n",
       "      <td>9.0</td>\n",
       "      <td>1.186026</td>\n",
       "      <td>-0.918975</td>\n",
       "      <td>0.517078</td>\n",
       "    </tr>\n",
       "    <tr>\n",
       "      <th>Estela</th>\n",
       "      <td>8.9</td>\n",
       "      <td>4.99</td>\n",
       "      <td>2.00</td>\n",
       "      <td>8.0</td>\n",
       "      <td>0.805813</td>\n",
       "      <td>-1.300000</td>\n",
       "      <td>0.182339</td>\n",
       "    </tr>\n",
       "  </tbody>\n",
       "</table>\n",
       "<p>100 rows × 7 columns</p>\n",
       "</div>"
      ],
      "text/plain": [
       "             notas_financas  notas_custos  notas_marketing  notas_atuarias  \\\n",
       "estudante                                                                    \n",
       "Gabriela                5.8          4.00             1.00             6.0   \n",
       "Luiz Felipe             3.1          3.00            10.00             2.0   \n",
       "Patrícia                3.1          4.00             4.00             4.0   \n",
       "Gustavo                10.0          8.00             8.00             8.0   \n",
       "Letícia                 3.4          2.00             3.20             3.2   \n",
       "...                     ...           ...              ...             ...   \n",
       "Sheila                  7.7          4.33             5.16             5.1   \n",
       "Pedro                   9.0          6.00             4.00             9.8   \n",
       "Horácio                 9.3          6.00             7.00             7.0   \n",
       "Leandro                 9.0          6.50             3.00             9.0   \n",
       "Estela                  8.9          4.99             2.00             8.0   \n",
       "\n",
       "                  FT1       FT2  Ranking_Pontuacão  \n",
       "estudante                                           \n",
       "Gabriela     0.015557 -1.673080          -0.408643  \n",
       "Luiz Felipe -1.081527  1.510618          -0.303297  \n",
       "Patrícia    -0.602643 -0.606384          -0.531180  \n",
       "Gustavo      1.352376  0.891137           1.074552  \n",
       "Letícia     -0.983459 -0.926163          -0.850982  \n",
       "...               ...       ...                ...  \n",
       "Sheila       0.126999 -0.182771           0.034268  \n",
       "Pedro        1.220815 -0.577404           0.624415  \n",
       "Horácio      0.829214  0.499049           0.647021  \n",
       "Leandro      1.186026 -0.918975           0.517078  \n",
       "Estela       0.805813 -1.300000           0.182339  \n",
       "\n",
       "[100 rows x 7 columns]"
      ]
     },
     "execution_count": 54,
     "metadata": {},
     "output_type": "execute_result"
    }
   ],
   "source": [
    "#Ranking \n",
    "import warnings\n",
    "warnings.filterwarnings('ignore')\n",
    "base_total['Ranking_Pontuacão'] = (fator2.iloc[:,0] * porcent1[0]) + (fator2.iloc[:,1] * porcent1[1])\n",
    "base_total"
   ]
  },
  {
   "cell_type": "markdown",
   "metadata": {},
   "source": [
    "**Multiplicamos cada fatores pelo suas porcentagens de variâncias capturadas pelas variáveis originais e somamos para extrair as pontuações e assim gerar o ranking** "
   ]
  },
  {
   "cell_type": "code",
   "execution_count": 55,
   "metadata": {},
   "outputs": [
    {
     "data": {
      "text/html": [
       "<div>\n",
       "<style scoped>\n",
       "    .dataframe tbody tr th:only-of-type {\n",
       "        vertical-align: middle;\n",
       "    }\n",
       "\n",
       "    .dataframe tbody tr th {\n",
       "        vertical-align: top;\n",
       "    }\n",
       "\n",
       "    .dataframe thead th {\n",
       "        text-align: right;\n",
       "    }\n",
       "</style>\n",
       "<table border=\"1\" class=\"dataframe\">\n",
       "  <thead>\n",
       "    <tr style=\"text-align: right;\">\n",
       "      <th></th>\n",
       "      <th>notas_financas</th>\n",
       "      <th>notas_custos</th>\n",
       "      <th>notas_marketing</th>\n",
       "      <th>notas_atuarias</th>\n",
       "      <th>FT1</th>\n",
       "      <th>FT2</th>\n",
       "      <th>Ranking_Pontuacão</th>\n",
       "    </tr>\n",
       "    <tr>\n",
       "      <th>estudante</th>\n",
       "      <th></th>\n",
       "      <th></th>\n",
       "      <th></th>\n",
       "      <th></th>\n",
       "      <th></th>\n",
       "      <th></th>\n",
       "      <th></th>\n",
       "    </tr>\n",
       "  </thead>\n",
       "  <tbody>\n",
       "    <tr>\n",
       "      <th>Adelino</th>\n",
       "      <td>9.9</td>\n",
       "      <td>10.00</td>\n",
       "      <td>10.0</td>\n",
       "      <td>10.0</td>\n",
       "      <td>1.923789</td>\n",
       "      <td>1.632212</td>\n",
       "      <td>1.619751</td>\n",
       "    </tr>\n",
       "    <tr>\n",
       "      <th>Renata</th>\n",
       "      <td>7.7</td>\n",
       "      <td>10.00</td>\n",
       "      <td>10.0</td>\n",
       "      <td>10.0</td>\n",
       "      <td>1.672124</td>\n",
       "      <td>1.627449</td>\n",
       "      <td>1.460070</td>\n",
       "    </tr>\n",
       "    <tr>\n",
       "      <th>Cecília</th>\n",
       "      <td>9.8</td>\n",
       "      <td>10.00</td>\n",
       "      <td>7.0</td>\n",
       "      <td>10.0</td>\n",
       "      <td>1.930235</td>\n",
       "      <td>0.567608</td>\n",
       "      <td>1.357551</td>\n",
       "    </tr>\n",
       "    <tr>\n",
       "      <th>Felipe</th>\n",
       "      <td>8.7</td>\n",
       "      <td>10.00</td>\n",
       "      <td>9.0</td>\n",
       "      <td>9.0</td>\n",
       "      <td>1.646752</td>\n",
       "      <td>1.278895</td>\n",
       "      <td>1.356918</td>\n",
       "    </tr>\n",
       "    <tr>\n",
       "      <th>Giulia</th>\n",
       "      <td>6.2</td>\n",
       "      <td>10.00</td>\n",
       "      <td>10.0</td>\n",
       "      <td>10.0</td>\n",
       "      <td>1.500534</td>\n",
       "      <td>1.624202</td>\n",
       "      <td>1.351197</td>\n",
       "    </tr>\n",
       "    <tr>\n",
       "      <th>...</th>\n",
       "      <td>...</td>\n",
       "      <td>...</td>\n",
       "      <td>...</td>\n",
       "      <td>...</td>\n",
       "      <td>...</td>\n",
       "      <td>...</td>\n",
       "      <td>...</td>\n",
       "    </tr>\n",
       "    <tr>\n",
       "      <th>Ester</th>\n",
       "      <td>0.6</td>\n",
       "      <td>1.94</td>\n",
       "      <td>3.0</td>\n",
       "      <td>3.2</td>\n",
       "      <td>-1.311668</td>\n",
       "      <td>-1.004380</td>\n",
       "      <td>-1.077237</td>\n",
       "    </tr>\n",
       "    <tr>\n",
       "      <th>Carolina</th>\n",
       "      <td>3.1</td>\n",
       "      <td>2.00</td>\n",
       "      <td>2.0</td>\n",
       "      <td>2.0</td>\n",
       "      <td>-1.185495</td>\n",
       "      <td>-1.347676</td>\n",
       "      <td>-1.083638</td>\n",
       "    </tr>\n",
       "    <tr>\n",
       "      <th>Elaine</th>\n",
       "      <td>3.1</td>\n",
       "      <td>2.00</td>\n",
       "      <td>2.0</td>\n",
       "      <td>2.0</td>\n",
       "      <td>-1.185495</td>\n",
       "      <td>-1.347676</td>\n",
       "      <td>-1.083638</td>\n",
       "    </tr>\n",
       "    <tr>\n",
       "      <th>Viviane</th>\n",
       "      <td>0.7</td>\n",
       "      <td>1.87</td>\n",
       "      <td>2.8</td>\n",
       "      <td>2.8</td>\n",
       "      <td>-1.367943</td>\n",
       "      <td>-1.074887</td>\n",
       "      <td>-1.130312</td>\n",
       "    </tr>\n",
       "    <tr>\n",
       "      <th>Gilmar</th>\n",
       "      <td>1.1</td>\n",
       "      <td>1.85</td>\n",
       "      <td>1.7</td>\n",
       "      <td>1.7</td>\n",
       "      <td>-1.478961</td>\n",
       "      <td>-1.460210</td>\n",
       "      <td>-1.296597</td>\n",
       "    </tr>\n",
       "  </tbody>\n",
       "</table>\n",
       "<p>100 rows × 7 columns</p>\n",
       "</div>"
      ],
      "text/plain": [
       "           notas_financas  notas_custos  notas_marketing  notas_atuarias  \\\n",
       "estudante                                                                  \n",
       "Adelino               9.9         10.00             10.0            10.0   \n",
       "Renata                7.7         10.00             10.0            10.0   \n",
       "Cecília               9.8         10.00              7.0            10.0   \n",
       "Felipe                8.7         10.00              9.0             9.0   \n",
       "Giulia                6.2         10.00             10.0            10.0   \n",
       "...                   ...           ...              ...             ...   \n",
       "Ester                 0.6          1.94              3.0             3.2   \n",
       "Carolina              3.1          2.00              2.0             2.0   \n",
       "Elaine                3.1          2.00              2.0             2.0   \n",
       "Viviane               0.7          1.87              2.8             2.8   \n",
       "Gilmar                1.1          1.85              1.7             1.7   \n",
       "\n",
       "                FT1       FT2  Ranking_Pontuacão  \n",
       "estudante                                         \n",
       "Adelino    1.923789  1.632212           1.619751  \n",
       "Renata     1.672124  1.627449           1.460070  \n",
       "Cecília    1.930235  0.567608           1.357551  \n",
       "Felipe     1.646752  1.278895           1.356918  \n",
       "Giulia     1.500534  1.624202           1.351197  \n",
       "...             ...       ...                ...  \n",
       "Ester     -1.311668 -1.004380          -1.077237  \n",
       "Carolina  -1.185495 -1.347676          -1.083638  \n",
       "Elaine    -1.185495 -1.347676          -1.083638  \n",
       "Viviane   -1.367943 -1.074887          -1.130312  \n",
       "Gilmar    -1.478961 -1.460210          -1.296597  \n",
       "\n",
       "[100 rows x 7 columns]"
      ]
     },
     "execution_count": 55,
     "metadata": {},
     "output_type": "execute_result"
    }
   ],
   "source": [
    "#Ranking em ordem decrescente\n",
    "base_total.sort_values(by='Ranking_Pontuacão',ascending=False)"
   ]
  },
  {
   "cell_type": "markdown",
   "metadata": {},
   "source": [
    "**Ranking das notas através das melhores pontuações**"
   ]
  },
  {
   "cell_type": "code",
   "execution_count": 58,
   "metadata": {},
   "outputs": [
    {
     "data": {
      "image/png": "[encoded data removed]",
      "text/plain": [
       "<Figure size 1440x1296 with 1 Axes>"
      ]
     },
     "metadata": {
      "needs_background": "light"
     },
     "output_type": "display_data"
    }
   ],
   "source": [
    "#Gerar o plot das observações\n",
    "f = base_total[['FT1','FT2']]\n",
    "f\n",
    "\n",
    "#Plotar os 2 Componentes principais com os nomes dos alunos\n",
    "fig, ax = plt.subplots(1,1, figsize=(20,18))\n",
    "\n",
    "# Gerar o scatterplot\n",
    "ax.scatter(f['FT1'],f['FT2'])\n",
    "\n",
    "# Add as labels com os nomes dos alunos\n",
    "for index, series in f.iterrows():\n",
    "    ax.text(series[0]+0.02,series[1]+0.02, index)\n",
    "    \n",
    "# Ajuste do grid\n",
    "ax.set_xlabel('Fator 1')\n",
    "ax.set_ylabel('Fator 2')\n",
    "ax.set_title('Fatores (2 componentes)')\n",
    "#ax.set_xlim(-4,4.5)\n",
    "#ax.set_ylim(-2,2)\n",
    "ax.grid()"
   ]
  },
  {
   "cell_type": "markdown",
   "metadata": {},
   "source": [
    "**Plotamos as observações em um scatter plot para ter uma visualização gráfica dos resultados obtidos com as pontuações**"
   ]
  },
  {
   "cell_type": "markdown",
   "metadata": {},
   "source": [
    "# Conclusão:"
   ]
  },
  {
   "cell_type": "markdown",
   "metadata": {},
   "source": [
    "**Primeiramente utilizamos a Analise de componentes principais(PCA) para reduzir o número de variáveis, antes aplicamos o método KMO e o teste de esfericidade de Bartlett para saber a adequabilidade dos dados(matriz de correlação é estatisticamente igual(Ho) ou diferente(H1) de uma matriz de identidade de mesma dimensão), após aplicar o método de redução de dimensionalidade chegamos à conclusão que 2 componentes seria o suficiente para explicar a variabilidade dos dados, e por último criamos um ranking através dos Fatores para saber os melhores e piores estudantes**"
   ]
  }
 ],
 "metadata": {
  "anaconda-cloud": {},
  "kernelspec": {
   "display_name": "Python 3 (ipykernel)",
   "language": "python",
   "name": "python3"
  },
  "language_info": {
   "codemirror_mode": {
    "name": "ipython",
    "version": 3
   },
   "file_extension": ".py",
   "mimetype": "text/x-python",
   "name": "python",
   "nbconvert_exporter": "python",
   "pygments_lexer": "ipython3",
   "version": "3.9.7"
  }
 },
 "nbformat": 4,
 "nbformat_minor": 1
}
