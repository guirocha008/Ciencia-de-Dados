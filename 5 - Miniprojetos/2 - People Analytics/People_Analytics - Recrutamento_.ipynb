{
 "cells": [
  {
   "cell_type": "markdown",
   "metadata": {},
   "source": [
    "# $$Peoople~Analytics:Recrutamento$$\n"
   ]
  },
  {
   "cell_type": "markdown",
   "metadata": {},
   "source": [
    "## $$Conceito:$$\n",
    "\n",
    "**People Analytics é um método de gestão de pessoas baseado na coleta e análise de dados sobre os funcionários de uma empresa. Essa \"análise de pessoas\" torna o RH mais estratégico, otimizando processos, diminuindo o turnover, aumentando a atração de talentos e mais**\n",
    "\n",
    "\n",
    "\n",
    "**Seu objetivo é melhorar a qualidade da tomada de decisão sobre os profissionais a partir da coleta e do cruzamento de informações relacionadas a eles. Assim, é possível tanto reconhecer um funcionário que se destaca quanto identificar problemas que estejam ocorrendo, como baixa produtividade, pouco engajamento, insatisfação, alto índice de rotatividade, entre outros**"
   ]
  },
  {
   "cell_type": "markdown",
   "metadata": {},
   "source": [
    "__------------------------------------------------------------------------------------------------------------------------------------------------------------------------------------------------------------------__\n",
    "\n",
    "\n",
    "__------------------------------------------------------------------------------------------------------------------------------------------------------------------------------------------------------------------__"
   ]
  },
  {
   "cell_type": "markdown",
   "metadata": {},
   "source": [
    "## $$Objetivo:$$  \n",
    "\n",
    "## $$Ajudar~ o ~RH ~a ~recrutar~ melhor~ através~das~ variáveis,~ para ~evitar~ pedidos~ de ~demissões$$"
   ]
  },
  {
   "cell_type": "code",
   "execution_count": 1,
   "metadata": {},
   "outputs": [],
   "source": [
    "# Pacotes\n",
    "import numpy as np\n",
    "import pandas as pd\n",
    "import seaborn as sns\n",
    "import matplotlib\n",
    "import matplotlib.pyplot as plt\n",
    "from sklearn.model_selection import cross_val_score\n",
    "%matplotlib inline\n",
    "import warnings\n",
    "warnings.filterwarnings('ignore')"
   ]
  },
  {
   "cell_type": "markdown",
   "metadata": {},
   "source": [
    "# Base de Dados "
   ]
  },
  {
   "cell_type": "code",
   "execution_count": 2,
   "metadata": {},
   "outputs": [
    {
     "data": {
      "text/html": [
       "<div>\n",
       "<style scoped>\n",
       "    .dataframe tbody tr th:only-of-type {\n",
       "        vertical-align: middle;\n",
       "    }\n",
       "\n",
       "    .dataframe tbody tr th {\n",
       "        vertical-align: top;\n",
       "    }\n",
       "\n",
       "    .dataframe thead th {\n",
       "        text-align: right;\n",
       "    }\n",
       "</style>\n",
       "<table border=\"1\" class=\"dataframe\">\n",
       "  <thead>\n",
       "    <tr style=\"text-align: right;\">\n",
       "      <th></th>\n",
       "      <th>Age</th>\n",
       "      <th>Attrition</th>\n",
       "      <th>BusinessTravel</th>\n",
       "      <th>Department</th>\n",
       "      <th>DistanceFromHome</th>\n",
       "      <th>Education</th>\n",
       "      <th>EducationField</th>\n",
       "      <th>EnvironmentSatisfaction</th>\n",
       "      <th>Gender</th>\n",
       "      <th>JobInvolvement</th>\n",
       "      <th>...</th>\n",
       "      <th>StockOptionLevel</th>\n",
       "      <th>TotalWorkingYears</th>\n",
       "      <th>TrainingTimesLastYear</th>\n",
       "      <th>WorkLifeBalance</th>\n",
       "      <th>YearsAtCompany</th>\n",
       "      <th>YearsInCurrentRole</th>\n",
       "      <th>YearsSinceLastPromotion</th>\n",
       "      <th>YearsWithCurrManager</th>\n",
       "      <th>Employee Source</th>\n",
       "      <th>AgeStartedWorking</th>\n",
       "    </tr>\n",
       "  </thead>\n",
       "  <tbody>\n",
       "    <tr>\n",
       "      <th>0</th>\n",
       "      <td>41</td>\n",
       "      <td>Voluntary Resignation</td>\n",
       "      <td>Travel_Rarely</td>\n",
       "      <td>Sales</td>\n",
       "      <td>1</td>\n",
       "      <td>2</td>\n",
       "      <td>Life Sciences</td>\n",
       "      <td>2</td>\n",
       "      <td>Female</td>\n",
       "      <td>3</td>\n",
       "      <td>...</td>\n",
       "      <td>0</td>\n",
       "      <td>8</td>\n",
       "      <td>0</td>\n",
       "      <td>1</td>\n",
       "      <td>6</td>\n",
       "      <td>4</td>\n",
       "      <td>0</td>\n",
       "      <td>5</td>\n",
       "      <td>Referral</td>\n",
       "      <td>33</td>\n",
       "    </tr>\n",
       "    <tr>\n",
       "      <th>1</th>\n",
       "      <td>37</td>\n",
       "      <td>Voluntary Resignation</td>\n",
       "      <td>Travel_Rarely</td>\n",
       "      <td>Human Resources</td>\n",
       "      <td>6</td>\n",
       "      <td>4</td>\n",
       "      <td>Human Resources</td>\n",
       "      <td>1</td>\n",
       "      <td>Female</td>\n",
       "      <td>3</td>\n",
       "      <td>...</td>\n",
       "      <td>0</td>\n",
       "      <td>8</td>\n",
       "      <td>0</td>\n",
       "      <td>1</td>\n",
       "      <td>6</td>\n",
       "      <td>4</td>\n",
       "      <td>0</td>\n",
       "      <td>5</td>\n",
       "      <td>Referral</td>\n",
       "      <td>29</td>\n",
       "    </tr>\n",
       "    <tr>\n",
       "      <th>2</th>\n",
       "      <td>41</td>\n",
       "      <td>Voluntary Resignation</td>\n",
       "      <td>Travel_Rarely</td>\n",
       "      <td>Sales</td>\n",
       "      <td>1</td>\n",
       "      <td>2</td>\n",
       "      <td>Life Sciences</td>\n",
       "      <td>2</td>\n",
       "      <td>Female</td>\n",
       "      <td>3</td>\n",
       "      <td>...</td>\n",
       "      <td>0</td>\n",
       "      <td>8</td>\n",
       "      <td>0</td>\n",
       "      <td>1</td>\n",
       "      <td>6</td>\n",
       "      <td>4</td>\n",
       "      <td>0</td>\n",
       "      <td>5</td>\n",
       "      <td>Referral</td>\n",
       "      <td>33</td>\n",
       "    </tr>\n",
       "    <tr>\n",
       "      <th>3</th>\n",
       "      <td>37</td>\n",
       "      <td>Voluntary Resignation</td>\n",
       "      <td>Travel_Rarely</td>\n",
       "      <td>Human Resources</td>\n",
       "      <td>6</td>\n",
       "      <td>4</td>\n",
       "      <td>Marketing</td>\n",
       "      <td>1</td>\n",
       "      <td>Female</td>\n",
       "      <td>3</td>\n",
       "      <td>...</td>\n",
       "      <td>0</td>\n",
       "      <td>8</td>\n",
       "      <td>0</td>\n",
       "      <td>1</td>\n",
       "      <td>6</td>\n",
       "      <td>4</td>\n",
       "      <td>0</td>\n",
       "      <td>5</td>\n",
       "      <td>Referral</td>\n",
       "      <td>29</td>\n",
       "    </tr>\n",
       "    <tr>\n",
       "      <th>4</th>\n",
       "      <td>37</td>\n",
       "      <td>Voluntary Resignation</td>\n",
       "      <td>Travel_Rarely</td>\n",
       "      <td>Human Resources</td>\n",
       "      <td>6</td>\n",
       "      <td>4</td>\n",
       "      <td>Human Resources</td>\n",
       "      <td>1</td>\n",
       "      <td>Female</td>\n",
       "      <td>3</td>\n",
       "      <td>...</td>\n",
       "      <td>0</td>\n",
       "      <td>8</td>\n",
       "      <td>0</td>\n",
       "      <td>1</td>\n",
       "      <td>6</td>\n",
       "      <td>4</td>\n",
       "      <td>0</td>\n",
       "      <td>5</td>\n",
       "      <td>Referral</td>\n",
       "      <td>29</td>\n",
       "    </tr>\n",
       "    <tr>\n",
       "      <th>...</th>\n",
       "      <td>...</td>\n",
       "      <td>...</td>\n",
       "      <td>...</td>\n",
       "      <td>...</td>\n",
       "      <td>...</td>\n",
       "      <td>...</td>\n",
       "      <td>...</td>\n",
       "      <td>...</td>\n",
       "      <td>...</td>\n",
       "      <td>...</td>\n",
       "      <td>...</td>\n",
       "      <td>...</td>\n",
       "      <td>...</td>\n",
       "      <td>...</td>\n",
       "      <td>...</td>\n",
       "      <td>...</td>\n",
       "      <td>...</td>\n",
       "      <td>...</td>\n",
       "      <td>...</td>\n",
       "      <td>...</td>\n",
       "      <td>...</td>\n",
       "    </tr>\n",
       "    <tr>\n",
       "      <th>23053</th>\n",
       "      <td>34</td>\n",
       "      <td>Current employee</td>\n",
       "      <td>Travel_Rarely</td>\n",
       "      <td>Research &amp; Development</td>\n",
       "      <td>27</td>\n",
       "      <td>2</td>\n",
       "      <td>Medical</td>\n",
       "      <td>4</td>\n",
       "      <td>Female</td>\n",
       "      <td>3</td>\n",
       "      <td>...</td>\n",
       "      <td>0</td>\n",
       "      <td>9</td>\n",
       "      <td>3</td>\n",
       "      <td>3</td>\n",
       "      <td>3</td>\n",
       "      <td>2</td>\n",
       "      <td>1</td>\n",
       "      <td>2</td>\n",
       "      <td>Company Website</td>\n",
       "      <td>25</td>\n",
       "    </tr>\n",
       "    <tr>\n",
       "      <th>23054</th>\n",
       "      <td>37</td>\n",
       "      <td>Current employee</td>\n",
       "      <td>Travel_Frequently</td>\n",
       "      <td>Research &amp; Development</td>\n",
       "      <td>9</td>\n",
       "      <td>3</td>\n",
       "      <td>Medical</td>\n",
       "      <td>3</td>\n",
       "      <td>Female</td>\n",
       "      <td>3</td>\n",
       "      <td>...</td>\n",
       "      <td>3</td>\n",
       "      <td>3</td>\n",
       "      <td>5</td>\n",
       "      <td>3</td>\n",
       "      <td>3</td>\n",
       "      <td>2</td>\n",
       "      <td>1</td>\n",
       "      <td>2</td>\n",
       "      <td>Jora</td>\n",
       "      <td>34</td>\n",
       "    </tr>\n",
       "    <tr>\n",
       "      <th>23055</th>\n",
       "      <td>55</td>\n",
       "      <td>Current employee</td>\n",
       "      <td>Non-Travel</td>\n",
       "      <td>Research &amp; Development</td>\n",
       "      <td>8</td>\n",
       "      <td>1</td>\n",
       "      <td>Medical</td>\n",
       "      <td>4</td>\n",
       "      <td>Female</td>\n",
       "      <td>3</td>\n",
       "      <td>...</td>\n",
       "      <td>0</td>\n",
       "      <td>31</td>\n",
       "      <td>3</td>\n",
       "      <td>3</td>\n",
       "      <td>2</td>\n",
       "      <td>0</td>\n",
       "      <td>2</td>\n",
       "      <td>2</td>\n",
       "      <td>Recruit.net</td>\n",
       "      <td>24</td>\n",
       "    </tr>\n",
       "    <tr>\n",
       "      <th>23056</th>\n",
       "      <td>27</td>\n",
       "      <td>Current employee</td>\n",
       "      <td>Travel_Rarely</td>\n",
       "      <td>Research &amp; Development</td>\n",
       "      <td>16</td>\n",
       "      <td>4</td>\n",
       "      <td>Technical Degree</td>\n",
       "      <td>4</td>\n",
       "      <td>Male</td>\n",
       "      <td>3</td>\n",
       "      <td>...</td>\n",
       "      <td>1</td>\n",
       "      <td>7</td>\n",
       "      <td>2</td>\n",
       "      <td>3</td>\n",
       "      <td>6</td>\n",
       "      <td>2</td>\n",
       "      <td>1</td>\n",
       "      <td>2</td>\n",
       "      <td>Company Website</td>\n",
       "      <td>20</td>\n",
       "    </tr>\n",
       "    <tr>\n",
       "      <th>23057</th>\n",
       "      <td>19</td>\n",
       "      <td>Voluntary Resignation</td>\n",
       "      <td>Non-Travel</td>\n",
       "      <td>Research &amp; Development</td>\n",
       "      <td>10</td>\n",
       "      <td>3</td>\n",
       "      <td>Medical</td>\n",
       "      <td>2</td>\n",
       "      <td>Male</td>\n",
       "      <td>3</td>\n",
       "      <td>...</td>\n",
       "      <td>0</td>\n",
       "      <td>10</td>\n",
       "      <td>5</td>\n",
       "      <td>4</td>\n",
       "      <td>5</td>\n",
       "      <td>2</td>\n",
       "      <td>0</td>\n",
       "      <td>0</td>\n",
       "      <td>Company Website</td>\n",
       "      <td>9</td>\n",
       "    </tr>\n",
       "  </tbody>\n",
       "</table>\n",
       "<p>23058 rows × 30 columns</p>\n",
       "</div>"
      ],
      "text/plain": [
       "       Age              Attrition     BusinessTravel              Department  \\\n",
       "0       41  Voluntary Resignation      Travel_Rarely                   Sales   \n",
       "1       37  Voluntary Resignation      Travel_Rarely         Human Resources   \n",
       "2       41  Voluntary Resignation      Travel_Rarely                   Sales   \n",
       "3       37  Voluntary Resignation      Travel_Rarely         Human Resources   \n",
       "4       37  Voluntary Resignation      Travel_Rarely         Human Resources   \n",
       "...    ...                    ...                ...                     ...   \n",
       "23053   34       Current employee      Travel_Rarely  Research & Development   \n",
       "23054   37       Current employee  Travel_Frequently  Research & Development   \n",
       "23055   55       Current employee         Non-Travel  Research & Development   \n",
       "23056   27       Current employee      Travel_Rarely  Research & Development   \n",
       "23057   19  Voluntary Resignation         Non-Travel  Research & Development   \n",
       "\n",
       "       DistanceFromHome  Education    EducationField  EnvironmentSatisfaction  \\\n",
       "0                     1          2     Life Sciences                        2   \n",
       "1                     6          4   Human Resources                        1   \n",
       "2                     1          2     Life Sciences                        2   \n",
       "3                     6          4         Marketing                        1   \n",
       "4                     6          4   Human Resources                        1   \n",
       "...                 ...        ...               ...                      ...   \n",
       "23053                27          2           Medical                        4   \n",
       "23054                 9          3           Medical                        3   \n",
       "23055                 8          1           Medical                        4   \n",
       "23056                16          4  Technical Degree                        4   \n",
       "23057                10          3           Medical                        2   \n",
       "\n",
       "       Gender  JobInvolvement  ...  StockOptionLevel TotalWorkingYears  \\\n",
       "0      Female               3  ...                 0                 8   \n",
       "1      Female               3  ...                 0                 8   \n",
       "2      Female               3  ...                 0                 8   \n",
       "3      Female               3  ...                 0                 8   \n",
       "4      Female               3  ...                 0                 8   \n",
       "...       ...             ...  ...               ...               ...   \n",
       "23053  Female               3  ...                 0                 9   \n",
       "23054  Female               3  ...                 3                 3   \n",
       "23055  Female               3  ...                 0                31   \n",
       "23056    Male               3  ...                 1                 7   \n",
       "23057    Male               3  ...                 0                10   \n",
       "\n",
       "       TrainingTimesLastYear WorkLifeBalance  YearsAtCompany  \\\n",
       "0                          0               1               6   \n",
       "1                          0               1               6   \n",
       "2                          0               1               6   \n",
       "3                          0               1               6   \n",
       "4                          0               1               6   \n",
       "...                      ...             ...             ...   \n",
       "23053                      3               3               3   \n",
       "23054                      5               3               3   \n",
       "23055                      3               3               2   \n",
       "23056                      2               3               6   \n",
       "23057                      5               4               5   \n",
       "\n",
       "       YearsInCurrentRole YearsSinceLastPromotion  YearsWithCurrManager  \\\n",
       "0                       4                       0                     5   \n",
       "1                       4                       0                     5   \n",
       "2                       4                       0                     5   \n",
       "3                       4                       0                     5   \n",
       "4                       4                       0                     5   \n",
       "...                   ...                     ...                   ...   \n",
       "23053                   2                       1                     2   \n",
       "23054                   2                       1                     2   \n",
       "23055                   0                       2                     2   \n",
       "23056                   2                       1                     2   \n",
       "23057                   2                       0                     0   \n",
       "\n",
       "       Employee Source  AgeStartedWorking  \n",
       "0             Referral                 33  \n",
       "1             Referral                 29  \n",
       "2             Referral                 33  \n",
       "3             Referral                 29  \n",
       "4             Referral                 29  \n",
       "...                ...                ...  \n",
       "23053  Company Website                 25  \n",
       "23054             Jora                 34  \n",
       "23055      Recruit.net                 24  \n",
       "23056  Company Website                 20  \n",
       "23057  Company Website                  9  \n",
       "\n",
       "[23058 rows x 30 columns]"
      ]
     },
     "execution_count": 2,
     "metadata": {},
     "output_type": "execute_result"
    }
   ],
   "source": [
    "# Carrega os dados\n",
    "dados = pd.read_csv(\"dados/dataset.csv\")\n",
    "dados"
   ]
  },
  {
   "cell_type": "markdown",
   "metadata": {},
   "source": [
    "**Dataset contém 23.058 registros e 30 variáveis.**"
   ]
  },
  {
   "cell_type": "markdown",
   "metadata": {},
   "source": [
    "# Dicionário de Dados\n",
    "\n"
   ]
  },
  {
   "cell_type": "markdown",
   "metadata": {},
   "source": [
    "- **Age** = Idade dos Funcionários\n",
    "\n",
    "\n",
    "- **Attrition** = Decisão Tomada pelo funcionário, são 3 Labels: Pedir demissão voluntaria, ser demitido ou continuar na empresa, essa é a variável Target.\n",
    "\n",
    "\n",
    "- **BusinessTravel** = Se o funcionário viaja ou não pela empresa.\n",
    "\n",
    "\n",
    "- **Department** = Departamento onde o funcionário trabalha.\n",
    "\n",
    "\n",
    "- **DistanceFromHome** = Distancia da casa ao trabalho.\n",
    "\n",
    "\n",
    "- **Education** = Nível de Escolaridade do funcionário.\n",
    "\n",
    "\n",
    "- **EducationField** = Área de Escolaridade do funcionário.\n",
    "\n",
    "\n",
    "- **EnvironmentSatisfaction** = Nível de satisfação do ambiente\n",
    "\n",
    "\n",
    "- **Gender** = Gênero: Masculino ou Feminino.\n",
    "\n",
    "\n",
    "- **JobInvolvement** = Nível de envolvimento no trabalho.\n",
    "\n",
    "\n",
    "- **JobLevel** = Nível do trabalho.\n",
    "\n",
    "\n",
    "- **JobRole** = Tipo de função no trabalho.\n",
    "\n",
    "\n",
    "- **JobSatisfaction** = Nível de Satisfação no trabalho.\n",
    "\n",
    "\n",
    "- **MaritalStatus** = Estado civil do funcionário.\n",
    "\n",
    "\n",
    "- **MonthlyIncome** = Valor do salário mensal.\n",
    "\n",
    "\n",
    "- **NumCompaniesWorked** = Número de empresas que já trabalhou\n",
    "\n",
    "\n",
    "- **OverTime** = Se o funcionário faz hora extra ou não.\n",
    "\n",
    "\n",
    "- **PercentSalaryHike** = Percentual de aumento salarial.\n",
    "\n",
    "\n",
    "- **PerformanceRating** = Nível de performance da empresa dada pelo funcionário.\n",
    "\n",
    "\n",
    "- **RelationshipSatisfaction** = Nível de satisfação no relacionamento do funcionário. \n",
    "\n",
    "\n",
    "- **StockOptionLevel** = Nível de participações acionárias do funcionário com a empresa.\n",
    "\n",
    "\n",
    "- **TotalWorkingYears** = Total de anos já trabalhado\n",
    "\n",
    "\n",
    "- **TrainingTimesLastYear** = Tempo em anos desde o último treinamento.\n",
    "\n",
    "\n",
    "- **WorkLifeBalance** = Nível de equilíbrio entre trabalho e vida pessoal do funcionário.\n",
    "\n",
    "\n",
    "- **YearsAtCompany** = Anos trabalhados na empresa\n",
    "\n",
    "\n",
    "- **YearsInCurrentRole** = Tempo em anos na mesma função\n",
    "\n",
    "\n",
    "- **YearsSinceLastPromotion** = Tempo em anos desde a última promoção\n",
    "\n",
    "\n",
    "- **YearsWithCurrManager** = Tempo em anos trabalhando com o mesmo Gerente.\n",
    "\n",
    "\n",
    "- **Employee Source** = Como o funcionário foi encontrado pela empresa: Indicação, site ,etc.\n",
    "\n",
    "\n",
    "- **AgeStartedWorking** = Idade que começou a trabalhar na empresa.\n",
    "\n"
   ]
  },
  {
   "cell_type": "markdown",
   "metadata": {},
   "source": [
    "# Análise Exploratória"
   ]
  },
  {
   "cell_type": "code",
   "execution_count": 3,
   "metadata": {},
   "outputs": [
    {
     "data": {
      "text/plain": [
       "Age                         0\n",
       "Attrition                   0\n",
       "BusinessTravel              0\n",
       "Department                  0\n",
       "DistanceFromHome            0\n",
       "Education                   0\n",
       "EducationField              0\n",
       "EnvironmentSatisfaction     0\n",
       "Gender                      0\n",
       "JobInvolvement              0\n",
       "JobLevel                    0\n",
       "JobRole                     0\n",
       "JobSatisfaction             0\n",
       "MaritalStatus               0\n",
       "MonthlyIncome               0\n",
       "NumCompaniesWorked          0\n",
       "OverTime                    0\n",
       "PercentSalaryHike           0\n",
       "PerformanceRating           0\n",
       "RelationshipSatisfaction    0\n",
       "StockOptionLevel            0\n",
       "TotalWorkingYears           0\n",
       "TrainingTimesLastYear       0\n",
       "WorkLifeBalance             0\n",
       "YearsAtCompany              0\n",
       "YearsInCurrentRole          0\n",
       "YearsSinceLastPromotion     0\n",
       "YearsWithCurrManager        0\n",
       "Employee Source             0\n",
       "AgeStartedWorking           0\n",
       "dtype: int64"
      ]
     },
     "execution_count": 3,
     "metadata": {},
     "output_type": "execute_result"
    }
   ],
   "source": [
    "# Verificar se existe valores nulos\n",
    "dados.isnull().sum()"
   ]
  },
  {
   "cell_type": "markdown",
   "metadata": {},
   "source": [
    "**Não temos variáveis com valores nulos**"
   ]
  },
  {
   "cell_type": "code",
   "execution_count": 4,
   "metadata": {},
   "outputs": [
    {
     "data": {
      "text/plain": [
       "14882"
      ]
     },
     "execution_count": 4,
     "metadata": {},
     "output_type": "execute_result"
    }
   ],
   "source": [
    "#Verificar se existe dados duplicados\n",
    "sum(dados.duplicated())"
   ]
  },
  {
   "cell_type": "markdown",
   "metadata": {},
   "source": [
    "**Apesar do dataset haver muitos dados duplicados, não vamos remove-los, pois eles representam mais da metade dos dados**"
   ]
  },
  {
   "cell_type": "code",
   "execution_count": 5,
   "metadata": {},
   "outputs": [
    {
     "data": {
      "text/plain": [
       "Age                           43\n",
       "Attrition                      3\n",
       "BusinessTravel                 3\n",
       "Department                     3\n",
       "DistanceFromHome              29\n",
       "Education                      5\n",
       "EducationField                 6\n",
       "EnvironmentSatisfaction        4\n",
       "Gender                         2\n",
       "JobInvolvement                 4\n",
       "JobLevel                       5\n",
       "JobRole                        9\n",
       "JobSatisfaction                4\n",
       "MaritalStatus                  3\n",
       "MonthlyIncome               1349\n",
       "NumCompaniesWorked            10\n",
       "OverTime                       2\n",
       "PercentSalaryHike             15\n",
       "PerformanceRating              2\n",
       "RelationshipSatisfaction       4\n",
       "StockOptionLevel               4\n",
       "TotalWorkingYears             40\n",
       "TrainingTimesLastYear          7\n",
       "WorkLifeBalance                4\n",
       "YearsAtCompany                37\n",
       "YearsInCurrentRole            19\n",
       "YearsSinceLastPromotion       16\n",
       "YearsWithCurrManager          18\n",
       "Employee Source                9\n",
       "AgeStartedWorking             61\n",
       "dtype: int64"
      ]
     },
     "execution_count": 5,
     "metadata": {},
     "output_type": "execute_result"
    }
   ],
   "source": [
    "# Verifica o total de valores únicos por coluna\n",
    "dados.nunique()"
   ]
  },
  {
   "cell_type": "code",
   "execution_count": 6,
   "metadata": {},
   "outputs": [
    {
     "data": {
      "text/plain": [
       "Age                          int64\n",
       "Attrition                   object\n",
       "BusinessTravel              object\n",
       "Department                  object\n",
       "DistanceFromHome             int64\n",
       "Education                    int64\n",
       "EducationField              object\n",
       "EnvironmentSatisfaction      int64\n",
       "Gender                      object\n",
       "JobInvolvement               int64\n",
       "JobLevel                     int64\n",
       "JobRole                     object\n",
       "JobSatisfaction              int64\n",
       "MaritalStatus               object\n",
       "MonthlyIncome                int64\n",
       "NumCompaniesWorked           int64\n",
       "OverTime                    object\n",
       "PercentSalaryHike            int64\n",
       "PerformanceRating            int64\n",
       "RelationshipSatisfaction     int64\n",
       "StockOptionLevel             int64\n",
       "TotalWorkingYears            int64\n",
       "TrainingTimesLastYear        int64\n",
       "WorkLifeBalance              int64\n",
       "YearsAtCompany               int64\n",
       "YearsInCurrentRole           int64\n",
       "YearsSinceLastPromotion      int64\n",
       "YearsWithCurrManager         int64\n",
       "Employee Source             object\n",
       "AgeStartedWorking            int64\n",
       "dtype: object"
      ]
     },
     "execution_count": 6,
     "metadata": {},
     "output_type": "execute_result"
    }
   ],
   "source": [
    "# Tipos de dados nas colunas\n",
    "dados.dtypes"
   ]
  },
  {
   "cell_type": "markdown",
   "metadata": {},
   "source": [
    "**Temos várias variáveis categóricas que temos que transforma-las em one-hot-encoder para não cometermos erros de ponderação arbitraria**"
   ]
  },
  {
   "cell_type": "code",
   "execution_count": 7,
   "metadata": {},
   "outputs": [
    {
     "data": {
      "text/html": [
       "<div>\n",
       "<style scoped>\n",
       "    .dataframe tbody tr th:only-of-type {\n",
       "        vertical-align: middle;\n",
       "    }\n",
       "\n",
       "    .dataframe tbody tr th {\n",
       "        vertical-align: top;\n",
       "    }\n",
       "\n",
       "    .dataframe thead th {\n",
       "        text-align: right;\n",
       "    }\n",
       "</style>\n",
       "<table border=\"1\" class=\"dataframe\">\n",
       "  <thead>\n",
       "    <tr style=\"text-align: right;\">\n",
       "      <th></th>\n",
       "      <th>Age</th>\n",
       "      <th>Attrition</th>\n",
       "      <th>DistanceFromHome</th>\n",
       "      <th>MonthlyIncome</th>\n",
       "      <th>NumCompaniesWorked</th>\n",
       "      <th>PercentSalaryHike</th>\n",
       "      <th>TotalWorkingYears</th>\n",
       "      <th>TrainingTimesLastYear</th>\n",
       "      <th>YearsAtCompany</th>\n",
       "      <th>YearsInCurrentRole</th>\n",
       "      <th>...</th>\n",
       "      <th>WorkLifeBalance_4</th>\n",
       "      <th>Employee Source_Adzuna</th>\n",
       "      <th>Employee Source_Company Website</th>\n",
       "      <th>Employee Source_GlassDoor</th>\n",
       "      <th>Employee Source_Indeed</th>\n",
       "      <th>Employee Source_Jora</th>\n",
       "      <th>Employee Source_LinkedIn</th>\n",
       "      <th>Employee Source_Recruit.net</th>\n",
       "      <th>Employee Source_Referral</th>\n",
       "      <th>Employee Source_Seek</th>\n",
       "    </tr>\n",
       "  </thead>\n",
       "  <tbody>\n",
       "    <tr>\n",
       "      <th>0</th>\n",
       "      <td>41</td>\n",
       "      <td>2</td>\n",
       "      <td>1</td>\n",
       "      <td>5993</td>\n",
       "      <td>8</td>\n",
       "      <td>11</td>\n",
       "      <td>8</td>\n",
       "      <td>0</td>\n",
       "      <td>6</td>\n",
       "      <td>4</td>\n",
       "      <td>...</td>\n",
       "      <td>0</td>\n",
       "      <td>0</td>\n",
       "      <td>0</td>\n",
       "      <td>0</td>\n",
       "      <td>0</td>\n",
       "      <td>0</td>\n",
       "      <td>0</td>\n",
       "      <td>0</td>\n",
       "      <td>1</td>\n",
       "      <td>0</td>\n",
       "    </tr>\n",
       "    <tr>\n",
       "      <th>1</th>\n",
       "      <td>37</td>\n",
       "      <td>2</td>\n",
       "      <td>6</td>\n",
       "      <td>5993</td>\n",
       "      <td>8</td>\n",
       "      <td>11</td>\n",
       "      <td>8</td>\n",
       "      <td>0</td>\n",
       "      <td>6</td>\n",
       "      <td>4</td>\n",
       "      <td>...</td>\n",
       "      <td>0</td>\n",
       "      <td>0</td>\n",
       "      <td>0</td>\n",
       "      <td>0</td>\n",
       "      <td>0</td>\n",
       "      <td>0</td>\n",
       "      <td>0</td>\n",
       "      <td>0</td>\n",
       "      <td>1</td>\n",
       "      <td>0</td>\n",
       "    </tr>\n",
       "    <tr>\n",
       "      <th>2</th>\n",
       "      <td>41</td>\n",
       "      <td>2</td>\n",
       "      <td>1</td>\n",
       "      <td>5993</td>\n",
       "      <td>4</td>\n",
       "      <td>11</td>\n",
       "      <td>8</td>\n",
       "      <td>0</td>\n",
       "      <td>6</td>\n",
       "      <td>4</td>\n",
       "      <td>...</td>\n",
       "      <td>0</td>\n",
       "      <td>0</td>\n",
       "      <td>0</td>\n",
       "      <td>0</td>\n",
       "      <td>0</td>\n",
       "      <td>0</td>\n",
       "      <td>0</td>\n",
       "      <td>0</td>\n",
       "      <td>1</td>\n",
       "      <td>0</td>\n",
       "    </tr>\n",
       "    <tr>\n",
       "      <th>3</th>\n",
       "      <td>37</td>\n",
       "      <td>2</td>\n",
       "      <td>6</td>\n",
       "      <td>5993</td>\n",
       "      <td>5</td>\n",
       "      <td>11</td>\n",
       "      <td>8</td>\n",
       "      <td>0</td>\n",
       "      <td>6</td>\n",
       "      <td>4</td>\n",
       "      <td>...</td>\n",
       "      <td>0</td>\n",
       "      <td>0</td>\n",
       "      <td>0</td>\n",
       "      <td>0</td>\n",
       "      <td>0</td>\n",
       "      <td>0</td>\n",
       "      <td>0</td>\n",
       "      <td>0</td>\n",
       "      <td>1</td>\n",
       "      <td>0</td>\n",
       "    </tr>\n",
       "    <tr>\n",
       "      <th>4</th>\n",
       "      <td>37</td>\n",
       "      <td>2</td>\n",
       "      <td>6</td>\n",
       "      <td>5993</td>\n",
       "      <td>8</td>\n",
       "      <td>11</td>\n",
       "      <td>8</td>\n",
       "      <td>0</td>\n",
       "      <td>6</td>\n",
       "      <td>4</td>\n",
       "      <td>...</td>\n",
       "      <td>0</td>\n",
       "      <td>0</td>\n",
       "      <td>0</td>\n",
       "      <td>0</td>\n",
       "      <td>0</td>\n",
       "      <td>0</td>\n",
       "      <td>0</td>\n",
       "      <td>0</td>\n",
       "      <td>1</td>\n",
       "      <td>0</td>\n",
       "    </tr>\n",
       "  </tbody>\n",
       "</table>\n",
       "<p>5 rows × 86 columns</p>\n",
       "</div>"
      ],
      "text/plain": [
       "   Age  Attrition  DistanceFromHome  MonthlyIncome  NumCompaniesWorked  \\\n",
       "0   41          2                 1           5993                   8   \n",
       "1   37          2                 6           5993                   8   \n",
       "2   41          2                 1           5993                   4   \n",
       "3   37          2                 6           5993                   5   \n",
       "4   37          2                 6           5993                   8   \n",
       "\n",
       "   PercentSalaryHike  TotalWorkingYears  TrainingTimesLastYear  \\\n",
       "0                 11                  8                      0   \n",
       "1                 11                  8                      0   \n",
       "2                 11                  8                      0   \n",
       "3                 11                  8                      0   \n",
       "4                 11                  8                      0   \n",
       "\n",
       "   YearsAtCompany  YearsInCurrentRole  ...  WorkLifeBalance_4  \\\n",
       "0               6                   4  ...                  0   \n",
       "1               6                   4  ...                  0   \n",
       "2               6                   4  ...                  0   \n",
       "3               6                   4  ...                  0   \n",
       "4               6                   4  ...                  0   \n",
       "\n",
       "   Employee Source_Adzuna  Employee Source_Company Website  \\\n",
       "0                       0                                0   \n",
       "1                       0                                0   \n",
       "2                       0                                0   \n",
       "3                       0                                0   \n",
       "4                       0                                0   \n",
       "\n",
       "   Employee Source_GlassDoor  Employee Source_Indeed  Employee Source_Jora  \\\n",
       "0                          0                       0                     0   \n",
       "1                          0                       0                     0   \n",
       "2                          0                       0                     0   \n",
       "3                          0                       0                     0   \n",
       "4                          0                       0                     0   \n",
       "\n",
       "   Employee Source_LinkedIn  Employee Source_Recruit.net  \\\n",
       "0                         0                            0   \n",
       "1                         0                            0   \n",
       "2                         0                            0   \n",
       "3                         0                            0   \n",
       "4                         0                            0   \n",
       "\n",
       "   Employee Source_Referral  Employee Source_Seek  \n",
       "0                         1                     0  \n",
       "1                         1                     0  \n",
       "2                         1                     0  \n",
       "3                         1                     0  \n",
       "4                         1                     0  \n",
       "\n",
       "[5 rows x 86 columns]"
      ]
     },
     "execution_count": 7,
     "metadata": {},
     "output_type": "execute_result"
    }
   ],
   "source": [
    "#Transformando as variáveis categoricas em One-Hot-Encoding\n",
    "data = pd.get_dummies(dados,prefix=['BusinessTravel'], columns = ['BusinessTravel'])\n",
    "data = pd.get_dummies(data,prefix=['Department'], columns = ['Department'])\n",
    "data = pd.get_dummies(data,prefix=['Education'], columns = ['Education'])\n",
    "data = pd.get_dummies(data,prefix=['EducationField'], columns = ['EducationField'])\n",
    "data = pd.get_dummies(data,prefix=['EnvironmentSatisfaction'], columns = ['EnvironmentSatisfaction'])\n",
    "data = pd.get_dummies(data,prefix=['Gender'], columns = ['Gender'])\n",
    "data = pd.get_dummies(data,prefix=['JobInvolvement'], columns = ['JobInvolvement'])\n",
    "data = pd.get_dummies(data,prefix=['JobLevel'], columns = ['JobLevel'])\n",
    "data = pd.get_dummies(data,prefix=['JobRole'], columns = ['JobRole'])\n",
    "data = pd.get_dummies(data,prefix=['JobSatisfaction'], columns = ['JobSatisfaction'])\n",
    "data = pd.get_dummies(data,prefix=['MaritalStatus'], columns = ['MaritalStatus'])\n",
    "data = pd.get_dummies(data,prefix=['OverTime'], columns = ['OverTime'])\n",
    "data = pd.get_dummies(data,prefix=['PerformanceRating'], columns = ['PerformanceRating'])\n",
    "data = pd.get_dummies(data,prefix=['RelationshipSatisfaction'], columns = ['RelationshipSatisfaction'])\n",
    "data = pd.get_dummies(data,prefix=['StockOptionLevel'], columns = ['StockOptionLevel'])\n",
    "data = pd.get_dummies(data,prefix=['WorkLifeBalance'], columns = ['WorkLifeBalance'])\n",
    "data = pd.get_dummies(data,prefix=['Employee Source'], columns = ['Employee Source'])\n",
    "\n",
    "\n",
    "#Label Encoder\n",
    "from sklearn import preprocessing\n",
    "label_enc = preprocessing.LabelEncoder()\n",
    "data['Attrition'] = label_enc.fit_transform(data['Attrition'])\n",
    "data['Attrition']\n",
    "\n",
    "data.head(5)"
   ]
  },
  {
   "cell_type": "code",
   "execution_count": 8,
   "metadata": {},
   "outputs": [
    {
     "data": {
      "text/plain": [
       "(23058, 86)"
      ]
     },
     "execution_count": 8,
     "metadata": {},
     "output_type": "execute_result"
    }
   ],
   "source": [
    "#Shape \n",
    "data.shape"
   ]
  },
  {
   "cell_type": "markdown",
   "metadata": {},
   "source": [
    "**Com as transformações das variáveis, Criamos 58 novas variáveis**"
   ]
  },
  {
   "cell_type": "markdown",
   "metadata": {},
   "source": [
    "## Engenharia de Atributos:"
   ]
  },
  {
   "cell_type": "markdown",
   "metadata": {},
   "source": [
    "### Criar a variável que mostra o tempo de experiência dos funcionários em outras empresas"
   ]
  },
  {
   "cell_type": "markdown",
   "metadata": {},
   "source": [
    "- Total de anos trabalhados - total de anos na empresa atual"
   ]
  },
  {
   "cell_type": "code",
   "execution_count": 9,
   "metadata": {},
   "outputs": [
    {
     "data": {
      "text/html": [
       "<div>\n",
       "<style scoped>\n",
       "    .dataframe tbody tr th:only-of-type {\n",
       "        vertical-align: middle;\n",
       "    }\n",
       "\n",
       "    .dataframe tbody tr th {\n",
       "        vertical-align: top;\n",
       "    }\n",
       "\n",
       "    .dataframe thead th {\n",
       "        text-align: right;\n",
       "    }\n",
       "</style>\n",
       "<table border=\"1\" class=\"dataframe\">\n",
       "  <thead>\n",
       "    <tr style=\"text-align: right;\">\n",
       "      <th></th>\n",
       "      <th>PriorYearsOfExperience</th>\n",
       "    </tr>\n",
       "  </thead>\n",
       "  <tbody>\n",
       "    <tr>\n",
       "      <th>23053</th>\n",
       "      <td>6</td>\n",
       "    </tr>\n",
       "    <tr>\n",
       "      <th>23054</th>\n",
       "      <td>0</td>\n",
       "    </tr>\n",
       "    <tr>\n",
       "      <th>23055</th>\n",
       "      <td>29</td>\n",
       "    </tr>\n",
       "    <tr>\n",
       "      <th>23056</th>\n",
       "      <td>1</td>\n",
       "    </tr>\n",
       "    <tr>\n",
       "      <th>23057</th>\n",
       "      <td>5</td>\n",
       "    </tr>\n",
       "  </tbody>\n",
       "</table>\n",
       "</div>"
      ],
      "text/plain": [
       "       PriorYearsOfExperience\n",
       "23053                       6\n",
       "23054                       0\n",
       "23055                      29\n",
       "23056                       1\n",
       "23057                       5"
      ]
     },
     "execution_count": 9,
     "metadata": {},
     "output_type": "execute_result"
    }
   ],
   "source": [
    "#Criaremos uma coluna de anos anteriores de experiência do funcionário.\n",
    "data['PriorYearsOfExperience']= data.TotalWorkingYears - data.YearsAtCompany\n",
    "\n",
    "#Verificar os 5 ultimos registross\n",
    "data['PriorYearsOfExperience'].to_frame().tail(5)"
   ]
  },
  {
   "cell_type": "markdown",
   "metadata": {},
   "source": [
    "**Com essa variável vamos conseguir visualizar melhor o perfil de experiência do funcionário e tirar melhores insights em relação ao turnover da empresa**"
   ]
  },
  {
   "cell_type": "markdown",
   "metadata": {},
   "source": [
    "### Criar a variável que mostra a taxa de estabilidade, com base nos empregos anteriores"
   ]
  },
  {
   "cell_type": "markdown",
   "metadata": {},
   "source": [
    "- Anos trabalhados em outras empresas / numero de empresas que já trabalhou"
   ]
  },
  {
   "cell_type": "code",
   "execution_count": 10,
   "metadata": {},
   "outputs": [
    {
     "data": {
      "text/plain": [
       "count    22686.0\n",
       "mean         inf\n",
       "std          NaN\n",
       "min          0.0\n",
       "25%          0.0\n",
       "50%          1.0\n",
       "75%          4.0\n",
       "max          inf\n",
       "Name: AverageTenure, dtype: float64"
      ]
     },
     "execution_count": 10,
     "metadata": {},
     "output_type": "execute_result"
    }
   ],
   "source": [
    "#Criar variável\n",
    "data['AverageTenure']=data.PriorYearsOfExperience / data.NumCompaniesWorked\n",
    "data['AverageTenure'].describe()"
   ]
  },
  {
   "cell_type": "markdown",
   "metadata": {},
   "source": [
    "**Note que foi gerado varios valores INF e NaN, pois muitas funcionários nunca trabalharam antes de entrar na empresa, temos que substituir esses registros por 0**"
   ]
  },
  {
   "cell_type": "code",
   "execution_count": 11,
   "metadata": {},
   "outputs": [],
   "source": [
    "#Alterando os valores INF por 0\n",
    "data.loc[data.AverageTenure > 29, 'AverageTenure'] = 0\n",
    "\n",
    "#Alterando os valores NaN\n",
    "data[data.AverageTenure.isnull()]=0"
   ]
  },
  {
   "cell_type": "code",
   "execution_count": 12,
   "metadata": {},
   "outputs": [
    {
     "data": {
      "text/plain": [
       "count    23058.000000\n",
       "mean         1.728911\n",
       "std          3.760196\n",
       "min          0.000000\n",
       "25%          0.000000\n",
       "50%          0.333333\n",
       "75%          1.500000\n",
       "max         29.000000\n",
       "Name: AverageTenure, dtype: float64"
      ]
     },
     "execution_count": 12,
     "metadata": {},
     "output_type": "execute_result"
    }
   ],
   "source": [
    "data['AverageTenure'].describe()"
   ]
  },
  {
   "cell_type": "markdown",
   "metadata": {},
   "source": [
    "**Agora os valores INF e NaN foram substituídos por 0, visualizando os dados concluímos que na média os funcionários não ficam mais de 2 anos nas empresas, porém esse insight pode estar enviesado, pois temos varios funcionários tendo sua primeira oportunidade de emprego na empresa**"
   ]
  },
  {
   "cell_type": "markdown",
   "metadata": {},
   "source": [
    "## Plot para análise da variável Target"
   ]
  },
  {
   "cell_type": "code",
   "execution_count": 13,
   "metadata": {},
   "outputs": [
    {
     "data": {
      "image/png": "[encoded data removed]",
      "text/plain": [
       "<Figure size 432x288 with 1 Axes>"
      ]
     },
     "metadata": {
      "needs_background": "light"
     },
     "output_type": "display_data"
    }
   ],
   "source": [
    "#Plot da variável target\n",
    "plt.hist(dados.Attrition);"
   ]
  },
  {
   "cell_type": "code",
   "execution_count": 14,
   "metadata": {},
   "outputs": [
    {
     "name": "stdout",
     "output_type": "stream",
     "text": [
      "Demissões por parte da empresa = 0.4\n",
      "Funcionarios Ativos na empresa = 84.0\n",
      "Pedido de demissão = 15.6\n"
     ]
    }
   ],
   "source": [
    "Termination = len(dados[dados.Attrition=='Termination'])\n",
    "Current_employee = len(dados[dados.Attrition=='Current employee'])\n",
    "Resignation = len(dados[dados.Attrition=='Voluntary Resignation'])\n",
    "\n",
    "print(f'Demissões por parte da empresa = {round(Termination/len(dados)*100,1)}')\n",
    "print(f'Funcionarios Ativos na empresa = {round(Current_employee/len(dados)*100,1)}')\n",
    "print(f'Pedido de demissão = {round(Resignation/len(dados)*100,1)}')"
   ]
  },
  {
   "cell_type": "markdown",
   "metadata": {},
   "source": [
    "**O objetivo principal do RH é diminuir o número de demissões dos funcionários, vamos selecionar as principais variáveis que vão ajudar nesta tomada de decisão**"
   ]
  },
  {
   "cell_type": "markdown",
   "metadata": {},
   "source": [
    "**Como a classe 'Termination' tem apenas 4% na base de dados ela será excluída para darmos foco somente nas classes relevantes**"
   ]
  },
  {
   "cell_type": "code",
   "execution_count": 15,
   "metadata": {},
   "outputs": [],
   "source": [
    "#Excluir a classe 'Termination'\n",
    "dados = dados[dados.Attrition!='Termination']\n",
    "data =    data[data.Attrition!=1]\n"
   ]
  },
  {
   "cell_type": "markdown",
   "metadata": {},
   "source": [
    "# Modelagem:"
   ]
  },
  {
   "cell_type": "markdown",
   "metadata": {},
   "source": [
    "## Selecionar as variáveis mais importantes usando o  Algoritimo Random Forest"
   ]
  },
  {
   "cell_type": "markdown",
   "metadata": {},
   "source": [
    "- Como o dataset possui muitas variáveis explicativa, vamos selecionar as mais relevantes para a tomada de decisão"
   ]
  },
  {
   "cell_type": "code",
   "execution_count": 16,
   "metadata": {},
   "outputs": [],
   "source": [
    "#Selecionar as variáveis mais importantes\n",
    "from sklearn.ensemble import RandomForestClassifier\n",
    "\n",
    "#Selecionar as variáveis X e Y\n",
    "x  = data.drop('Attrition', 1)\n",
    "y = data['Attrition']\n",
    "\n",
    "\n",
    "#Modelo RandomForest\n",
    "modelo = RandomForestClassifier(n_estimators=1000)\n",
    "\n",
    "#Treinamento do modelo\n",
    "fit = modelo.fit(x,y)"
   ]
  },
  {
   "cell_type": "code",
   "execution_count": 17,
   "metadata": {},
   "outputs": [
    {
     "data": {
      "text/html": [
       "<div>\n",
       "<style scoped>\n",
       "    .dataframe tbody tr th:only-of-type {\n",
       "        vertical-align: middle;\n",
       "    }\n",
       "\n",
       "    .dataframe tbody tr th {\n",
       "        vertical-align: top;\n",
       "    }\n",
       "\n",
       "    .dataframe thead th {\n",
       "        text-align: right;\n",
       "    }\n",
       "</style>\n",
       "<table border=\"1\" class=\"dataframe\">\n",
       "  <thead>\n",
       "    <tr style=\"text-align: right;\">\n",
       "      <th></th>\n",
       "      <th>importance</th>\n",
       "    </tr>\n",
       "  </thead>\n",
       "  <tbody>\n",
       "    <tr>\n",
       "      <th>Age</th>\n",
       "      <td>0.080450</td>\n",
       "    </tr>\n",
       "    <tr>\n",
       "      <th>AgeStartedWorking</th>\n",
       "      <td>0.062395</td>\n",
       "    </tr>\n",
       "    <tr>\n",
       "      <th>DistanceFromHome</th>\n",
       "      <td>0.055677</td>\n",
       "    </tr>\n",
       "    <tr>\n",
       "      <th>MonthlyIncome</th>\n",
       "      <td>0.055113</td>\n",
       "    </tr>\n",
       "    <tr>\n",
       "      <th>TotalWorkingYears</th>\n",
       "      <td>0.036363</td>\n",
       "    </tr>\n",
       "    <tr>\n",
       "      <th>PercentSalaryHike</th>\n",
       "      <td>0.033896</td>\n",
       "    </tr>\n",
       "    <tr>\n",
       "      <th>YearsAtCompany</th>\n",
       "      <td>0.030921</td>\n",
       "    </tr>\n",
       "    <tr>\n",
       "      <th>PriorYearsOfExperience</th>\n",
       "      <td>0.025355</td>\n",
       "    </tr>\n",
       "    <tr>\n",
       "      <th>YearsWithCurrManager</th>\n",
       "      <td>0.025231</td>\n",
       "    </tr>\n",
       "    <tr>\n",
       "      <th>YearsInCurrentRole</th>\n",
       "      <td>0.025062</td>\n",
       "    </tr>\n",
       "    <tr>\n",
       "      <th>TrainingTimesLastYear</th>\n",
       "      <td>0.024526</td>\n",
       "    </tr>\n",
       "    <tr>\n",
       "      <th>YearsSinceLastPromotion</th>\n",
       "      <td>0.023104</td>\n",
       "    </tr>\n",
       "    <tr>\n",
       "      <th>AverageTenure</th>\n",
       "      <td>0.017779</td>\n",
       "    </tr>\n",
       "    <tr>\n",
       "      <th>BusinessTravel_Travel_Frequently</th>\n",
       "      <td>0.016753</td>\n",
       "    </tr>\n",
       "    <tr>\n",
       "      <th>OverTime_Yes</th>\n",
       "      <td>0.015403</td>\n",
       "    </tr>\n",
       "    <tr>\n",
       "      <th>NumCompaniesWorked</th>\n",
       "      <td>0.013486</td>\n",
       "    </tr>\n",
       "    <tr>\n",
       "      <th>OverTime_No</th>\n",
       "      <td>0.012396</td>\n",
       "    </tr>\n",
       "    <tr>\n",
       "      <th>Education_3</th>\n",
       "      <td>0.012395</td>\n",
       "    </tr>\n",
       "    <tr>\n",
       "      <th>Department_Sales</th>\n",
       "      <td>0.011573</td>\n",
       "    </tr>\n",
       "    <tr>\n",
       "      <th>StockOptionLevel_0</th>\n",
       "      <td>0.011464</td>\n",
       "    </tr>\n",
       "    <tr>\n",
       "      <th>Department_Research &amp; Development</th>\n",
       "      <td>0.011340</td>\n",
       "    </tr>\n",
       "    <tr>\n",
       "      <th>MaritalStatus_Single</th>\n",
       "      <td>0.011121</td>\n",
       "    </tr>\n",
       "    <tr>\n",
       "      <th>EnvironmentSatisfaction_1</th>\n",
       "      <td>0.010982</td>\n",
       "    </tr>\n",
       "    <tr>\n",
       "      <th>Education_4</th>\n",
       "      <td>0.010916</td>\n",
       "    </tr>\n",
       "    <tr>\n",
       "      <th>EnvironmentSatisfaction_4</th>\n",
       "      <td>0.010323</td>\n",
       "    </tr>\n",
       "    <tr>\n",
       "      <th>Education_2</th>\n",
       "      <td>0.010210</td>\n",
       "    </tr>\n",
       "    <tr>\n",
       "      <th>EnvironmentSatisfaction_3</th>\n",
       "      <td>0.010069</td>\n",
       "    </tr>\n",
       "    <tr>\n",
       "      <th>JobSatisfaction_4</th>\n",
       "      <td>0.009999</td>\n",
       "    </tr>\n",
       "    <tr>\n",
       "      <th>BusinessTravel_Travel_Rarely</th>\n",
       "      <td>0.009949</td>\n",
       "    </tr>\n",
       "    <tr>\n",
       "      <th>WorkLifeBalance_3</th>\n",
       "      <td>0.009171</td>\n",
       "    </tr>\n",
       "    <tr>\n",
       "      <th>RelationshipSatisfaction_3</th>\n",
       "      <td>0.008858</td>\n",
       "    </tr>\n",
       "    <tr>\n",
       "      <th>EnvironmentSatisfaction_2</th>\n",
       "      <td>0.008796</td>\n",
       "    </tr>\n",
       "    <tr>\n",
       "      <th>JobSatisfaction_3</th>\n",
       "      <td>0.008699</td>\n",
       "    </tr>\n",
       "    <tr>\n",
       "      <th>JobSatisfaction_1</th>\n",
       "      <td>0.008685</td>\n",
       "    </tr>\n",
       "    <tr>\n",
       "      <th>RelationshipSatisfaction_4</th>\n",
       "      <td>0.008651</td>\n",
       "    </tr>\n",
       "    <tr>\n",
       "      <th>JobInvolvement_3</th>\n",
       "      <td>0.008572</td>\n",
       "    </tr>\n",
       "    <tr>\n",
       "      <th>JobLevel_1</th>\n",
       "      <td>0.008539</td>\n",
       "    </tr>\n",
       "    <tr>\n",
       "      <th>WorkLifeBalance_2</th>\n",
       "      <td>0.008438</td>\n",
       "    </tr>\n",
       "    <tr>\n",
       "      <th>RelationshipSatisfaction_1</th>\n",
       "      <td>0.008389</td>\n",
       "    </tr>\n",
       "    <tr>\n",
       "      <th>Gender_Female</th>\n",
       "      <td>0.008172</td>\n",
       "    </tr>\n",
       "  </tbody>\n",
       "</table>\n",
       "</div>"
      ],
      "text/plain": [
       "                                   importance\n",
       "Age                                  0.080450\n",
       "AgeStartedWorking                    0.062395\n",
       "DistanceFromHome                     0.055677\n",
       "MonthlyIncome                        0.055113\n",
       "TotalWorkingYears                    0.036363\n",
       "PercentSalaryHike                    0.033896\n",
       "YearsAtCompany                       0.030921\n",
       "PriorYearsOfExperience               0.025355\n",
       "YearsWithCurrManager                 0.025231\n",
       "YearsInCurrentRole                   0.025062\n",
       "TrainingTimesLastYear                0.024526\n",
       "YearsSinceLastPromotion              0.023104\n",
       "AverageTenure                        0.017779\n",
       "BusinessTravel_Travel_Frequently     0.016753\n",
       "OverTime_Yes                         0.015403\n",
       "NumCompaniesWorked                   0.013486\n",
       "OverTime_No                          0.012396\n",
       "Education_3                          0.012395\n",
       "Department_Sales                     0.011573\n",
       "StockOptionLevel_0                   0.011464\n",
       "Department_Research & Development    0.011340\n",
       "MaritalStatus_Single                 0.011121\n",
       "EnvironmentSatisfaction_1            0.010982\n",
       "Education_4                          0.010916\n",
       "EnvironmentSatisfaction_4            0.010323\n",
       "Education_2                          0.010210\n",
       "EnvironmentSatisfaction_3            0.010069\n",
       "JobSatisfaction_4                    0.009999\n",
       "BusinessTravel_Travel_Rarely         0.009949\n",
       "WorkLifeBalance_3                    0.009171\n",
       "RelationshipSatisfaction_3           0.008858\n",
       "EnvironmentSatisfaction_2            0.008796\n",
       "JobSatisfaction_3                    0.008699\n",
       "JobSatisfaction_1                    0.008685\n",
       "RelationshipSatisfaction_4           0.008651\n",
       "JobInvolvement_3                     0.008572\n",
       "JobLevel_1                           0.008539\n",
       "WorkLifeBalance_2                    0.008438\n",
       "RelationshipSatisfaction_1           0.008389\n",
       "Gender_Female                        0.008172"
      ]
     },
     "execution_count": 17,
     "metadata": {},
     "output_type": "execute_result"
    }
   ],
   "source": [
    "#Valor da importancia de cada Feature\n",
    "valor_imp = fit.feature_importances_\n",
    "valor_imp = pd.DataFrame(valor_imp,index = x.columns,columns=['importance']).sort_values('importance',ascending=False)\n",
    "valor_imp.head(40)"
   ]
  },
  {
   "cell_type": "markdown",
   "metadata": {},
   "source": [
    "**Vamos selecionar as variáveis com o valor de importância > 0.02 para analise**"
   ]
  },
  {
   "cell_type": "markdown",
   "metadata": {},
   "source": [
    "**OBS: Esse critério quem decide é o cientista de dados, com base em experimentações poderíamos ter escolhido outros valores**"
   ]
  },
  {
   "cell_type": "code",
   "execution_count": 18,
   "metadata": {},
   "outputs": [
    {
     "data": {
      "text/html": [
       "<div>\n",
       "<style scoped>\n",
       "    .dataframe tbody tr th:only-of-type {\n",
       "        vertical-align: middle;\n",
       "    }\n",
       "\n",
       "    .dataframe tbody tr th {\n",
       "        vertical-align: top;\n",
       "    }\n",
       "\n",
       "    .dataframe thead th {\n",
       "        text-align: right;\n",
       "    }\n",
       "</style>\n",
       "<table border=\"1\" class=\"dataframe\">\n",
       "  <thead>\n",
       "    <tr style=\"text-align: right;\">\n",
       "      <th></th>\n",
       "      <th>Age</th>\n",
       "      <th>AgeStartedWorking</th>\n",
       "      <th>DistanceFromHome</th>\n",
       "      <th>MonthlyIncome</th>\n",
       "      <th>TotalWorkingYears</th>\n",
       "      <th>PercentSalaryHike</th>\n",
       "      <th>YearsAtCompany</th>\n",
       "      <th>PriorYearsOfExperience</th>\n",
       "      <th>YearsWithCurrManager</th>\n",
       "      <th>YearsInCurrentRole</th>\n",
       "      <th>TrainingTimesLastYear</th>\n",
       "      <th>YearsSinceLastPromotion</th>\n",
       "    </tr>\n",
       "  </thead>\n",
       "  <tbody>\n",
       "    <tr>\n",
       "      <th>0</th>\n",
       "      <td>41</td>\n",
       "      <td>33</td>\n",
       "      <td>1</td>\n",
       "      <td>5993</td>\n",
       "      <td>8</td>\n",
       "      <td>11</td>\n",
       "      <td>6</td>\n",
       "      <td>2</td>\n",
       "      <td>5</td>\n",
       "      <td>4</td>\n",
       "      <td>0</td>\n",
       "      <td>0</td>\n",
       "    </tr>\n",
       "    <tr>\n",
       "      <th>1</th>\n",
       "      <td>37</td>\n",
       "      <td>29</td>\n",
       "      <td>6</td>\n",
       "      <td>5993</td>\n",
       "      <td>8</td>\n",
       "      <td>11</td>\n",
       "      <td>6</td>\n",
       "      <td>2</td>\n",
       "      <td>5</td>\n",
       "      <td>4</td>\n",
       "      <td>0</td>\n",
       "      <td>0</td>\n",
       "    </tr>\n",
       "    <tr>\n",
       "      <th>2</th>\n",
       "      <td>41</td>\n",
       "      <td>33</td>\n",
       "      <td>1</td>\n",
       "      <td>5993</td>\n",
       "      <td>8</td>\n",
       "      <td>11</td>\n",
       "      <td>6</td>\n",
       "      <td>2</td>\n",
       "      <td>5</td>\n",
       "      <td>4</td>\n",
       "      <td>0</td>\n",
       "      <td>0</td>\n",
       "    </tr>\n",
       "    <tr>\n",
       "      <th>3</th>\n",
       "      <td>37</td>\n",
       "      <td>29</td>\n",
       "      <td>6</td>\n",
       "      <td>5993</td>\n",
       "      <td>8</td>\n",
       "      <td>11</td>\n",
       "      <td>6</td>\n",
       "      <td>2</td>\n",
       "      <td>5</td>\n",
       "      <td>4</td>\n",
       "      <td>0</td>\n",
       "      <td>0</td>\n",
       "    </tr>\n",
       "    <tr>\n",
       "      <th>4</th>\n",
       "      <td>37</td>\n",
       "      <td>29</td>\n",
       "      <td>6</td>\n",
       "      <td>5993</td>\n",
       "      <td>8</td>\n",
       "      <td>11</td>\n",
       "      <td>6</td>\n",
       "      <td>2</td>\n",
       "      <td>5</td>\n",
       "      <td>4</td>\n",
       "      <td>0</td>\n",
       "      <td>0</td>\n",
       "    </tr>\n",
       "    <tr>\n",
       "      <th>...</th>\n",
       "      <td>...</td>\n",
       "      <td>...</td>\n",
       "      <td>...</td>\n",
       "      <td>...</td>\n",
       "      <td>...</td>\n",
       "      <td>...</td>\n",
       "      <td>...</td>\n",
       "      <td>...</td>\n",
       "      <td>...</td>\n",
       "      <td>...</td>\n",
       "      <td>...</td>\n",
       "      <td>...</td>\n",
       "    </tr>\n",
       "    <tr>\n",
       "      <th>23053</th>\n",
       "      <td>34</td>\n",
       "      <td>25</td>\n",
       "      <td>27</td>\n",
       "      <td>2311</td>\n",
       "      <td>9</td>\n",
       "      <td>15</td>\n",
       "      <td>3</td>\n",
       "      <td>6</td>\n",
       "      <td>2</td>\n",
       "      <td>2</td>\n",
       "      <td>3</td>\n",
       "      <td>1</td>\n",
       "    </tr>\n",
       "    <tr>\n",
       "      <th>23054</th>\n",
       "      <td>37</td>\n",
       "      <td>34</td>\n",
       "      <td>9</td>\n",
       "      <td>3760</td>\n",
       "      <td>3</td>\n",
       "      <td>15</td>\n",
       "      <td>3</td>\n",
       "      <td>0</td>\n",
       "      <td>2</td>\n",
       "      <td>2</td>\n",
       "      <td>5</td>\n",
       "      <td>1</td>\n",
       "    </tr>\n",
       "    <tr>\n",
       "      <th>23055</th>\n",
       "      <td>55</td>\n",
       "      <td>24</td>\n",
       "      <td>8</td>\n",
       "      <td>10008</td>\n",
       "      <td>31</td>\n",
       "      <td>14</td>\n",
       "      <td>2</td>\n",
       "      <td>29</td>\n",
       "      <td>2</td>\n",
       "      <td>0</td>\n",
       "      <td>3</td>\n",
       "      <td>2</td>\n",
       "    </tr>\n",
       "    <tr>\n",
       "      <th>23056</th>\n",
       "      <td>27</td>\n",
       "      <td>20</td>\n",
       "      <td>16</td>\n",
       "      <td>2991</td>\n",
       "      <td>7</td>\n",
       "      <td>11</td>\n",
       "      <td>6</td>\n",
       "      <td>1</td>\n",
       "      <td>2</td>\n",
       "      <td>2</td>\n",
       "      <td>2</td>\n",
       "      <td>1</td>\n",
       "    </tr>\n",
       "    <tr>\n",
       "      <th>23057</th>\n",
       "      <td>19</td>\n",
       "      <td>9</td>\n",
       "      <td>10</td>\n",
       "      <td>11244</td>\n",
       "      <td>10</td>\n",
       "      <td>25</td>\n",
       "      <td>5</td>\n",
       "      <td>5</td>\n",
       "      <td>0</td>\n",
       "      <td>2</td>\n",
       "      <td>5</td>\n",
       "      <td>0</td>\n",
       "    </tr>\n",
       "  </tbody>\n",
       "</table>\n",
       "<p>22971 rows × 12 columns</p>\n",
       "</div>"
      ],
      "text/plain": [
       "       Age  AgeStartedWorking  DistanceFromHome  MonthlyIncome  \\\n",
       "0       41                 33                 1           5993   \n",
       "1       37                 29                 6           5993   \n",
       "2       41                 33                 1           5993   \n",
       "3       37                 29                 6           5993   \n",
       "4       37                 29                 6           5993   \n",
       "...    ...                ...               ...            ...   \n",
       "23053   34                 25                27           2311   \n",
       "23054   37                 34                 9           3760   \n",
       "23055   55                 24                 8          10008   \n",
       "23056   27                 20                16           2991   \n",
       "23057   19                  9                10          11244   \n",
       "\n",
       "       TotalWorkingYears  PercentSalaryHike  YearsAtCompany  \\\n",
       "0                      8                 11               6   \n",
       "1                      8                 11               6   \n",
       "2                      8                 11               6   \n",
       "3                      8                 11               6   \n",
       "4                      8                 11               6   \n",
       "...                  ...                ...             ...   \n",
       "23053                  9                 15               3   \n",
       "23054                  3                 15               3   \n",
       "23055                 31                 14               2   \n",
       "23056                  7                 11               6   \n",
       "23057                 10                 25               5   \n",
       "\n",
       "       PriorYearsOfExperience  YearsWithCurrManager  YearsInCurrentRole  \\\n",
       "0                           2                     5                   4   \n",
       "1                           2                     5                   4   \n",
       "2                           2                     5                   4   \n",
       "3                           2                     5                   4   \n",
       "4                           2                     5                   4   \n",
       "...                       ...                   ...                 ...   \n",
       "23053                       6                     2                   2   \n",
       "23054                       0                     2                   2   \n",
       "23055                      29                     2                   0   \n",
       "23056                       1                     2                   2   \n",
       "23057                       5                     0                   2   \n",
       "\n",
       "       TrainingTimesLastYear  YearsSinceLastPromotion  \n",
       "0                          0                        0  \n",
       "1                          0                        0  \n",
       "2                          0                        0  \n",
       "3                          0                        0  \n",
       "4                          0                        0  \n",
       "...                      ...                      ...  \n",
       "23053                      3                        1  \n",
       "23054                      5                        1  \n",
       "23055                      3                        2  \n",
       "23056                      2                        1  \n",
       "23057                      5                        0  \n",
       "\n",
       "[22971 rows x 12 columns]"
      ]
     },
     "execution_count": 18,
     "metadata": {},
     "output_type": "execute_result"
    }
   ],
   "source": [
    "#Selecionar as variáveis mais importantes\n",
    "valor_imp_1 = valor_imp[valor_imp.importance>0.02].index\n",
    "\n",
    "#Filtrar no dataset\n",
    "var_importance = data[valor_imp_1]\n",
    "var_importance"
   ]
  },
  {
   "cell_type": "markdown",
   "metadata": {},
   "source": [
    "**Selecionamos as variáveis mais relevantes usando o algoritimo Random Forest**"
   ]
  },
  {
   "cell_type": "markdown",
   "metadata": {},
   "source": [
    "## Verificar se há diferença nas medias de cada variável em relação a variável target"
   ]
  },
  {
   "cell_type": "markdown",
   "metadata": {},
   "source": [
    "**Difinir as classes da variável target**\n",
    "\n",
    "- **Classe 0** = Current employee\n",
    "\n",
    "\n",
    "- **Classe 2** = Voluntary Resignation\n",
    "\n"
   ]
  },
  {
   "cell_type": "markdown",
   "metadata": {},
   "source": [
    "### Age"
   ]
  },
  {
   "cell_type": "code",
   "execution_count": 19,
   "metadata": {},
   "outputs": [
    {
     "name": "stdout",
     "output_type": "stream",
     "text": [
      "Classe 0 = 36.96\n",
      "Classe 2 = 33.93\n"
     ]
    }
   ],
   "source": [
    "#classe 0\n",
    "LastPromotion = data.loc[(data['Attrition']==0)]\n",
    "a = LastPromotion['Age'].mean()\n",
    "\n",
    "#Classe 2\n",
    "LastPromotion2 = data.loc[(data['Attrition']==2)]\n",
    "b = LastPromotion2['Age'].mean()\n",
    "\n",
    "print(f'Classe 0 = {round(a,2)}')\n",
    "print(f'Classe 2 = {round(b,2)}')\n",
    "\n"
   ]
  },
  {
   "cell_type": "markdown",
   "metadata": {},
   "source": [
    "**Há uma pequena diferença na média de idade dos funcionários em relação ao pedido de demissão, quanto mais novo mais propicio a pedir demissão**"
   ]
  },
  {
   "cell_type": "markdown",
   "metadata": {},
   "source": [
    "### AgeStartedWorking"
   ]
  },
  {
   "cell_type": "code",
   "execution_count": 20,
   "metadata": {},
   "outputs": [
    {
     "name": "stdout",
     "output_type": "stream",
     "text": [
      "Classe 0 = 25.76\n",
      "Classe 2 = 24.42\n"
     ]
    }
   ],
   "source": [
    "#classe 0\n",
    "LastPromotion = data.loc[(data['Attrition']==0)]\n",
    "a = LastPromotion['AgeStartedWorking'].mean()\n",
    "\n",
    "#Classe 2\n",
    "LastPromotion2 = data.loc[(data['Attrition']==2)]\n",
    "b = LastPromotion2['AgeStartedWorking'].mean()\n",
    "\n",
    "print(f'Classe 0 = {round(a,2)}')\n",
    "print(f'Classe 2 = {round(b,2)}')"
   ]
  },
  {
   "cell_type": "markdown",
   "metadata": {},
   "source": [
    "**Não há diferença significativa na idade que o funcionário começou a trabalhar em relação ao pedido de demissão**"
   ]
  },
  {
   "cell_type": "markdown",
   "metadata": {},
   "source": [
    "### DistanceFromHome"
   ]
  },
  {
   "cell_type": "code",
   "execution_count": 21,
   "metadata": {},
   "outputs": [
    {
     "name": "stdout",
     "output_type": "stream",
     "text": [
      "Classe 0 = 8.77\n",
      "Classe 2 = 10.55\n"
     ]
    }
   ],
   "source": [
    "#classe 0\n",
    "LastPromotion = data.loc[(data['Attrition']==0)]\n",
    "a = LastPromotion['DistanceFromHome'].mean()\n",
    "\n",
    "#Classe 2\n",
    "LastPromotion2 = data.loc[(data['Attrition']==2)]\n",
    "b = LastPromotion2['DistanceFromHome'].mean()\n",
    "\n",
    "print(f'Classe 0 = {round(a,2)}')\n",
    "print(f'Classe 2 = {round(b,2)}')"
   ]
  },
  {
   "cell_type": "markdown",
   "metadata": {},
   "source": [
    "**Há uma pequena diferença na distância da casa para o trabalho em relação ao pedido de demissão, pois o funcionário que mora mais longe tem mais chance de pedir demissão**"
   ]
  },
  {
   "cell_type": "markdown",
   "metadata": {},
   "source": [
    "### MonthlyIncome"
   ]
  },
  {
   "cell_type": "code",
   "execution_count": 22,
   "metadata": {},
   "outputs": [
    {
     "name": "stdout",
     "output_type": "stream",
     "text": [
      "Classe 0 = 6479.63\n",
      "Classe 2 = 5506.71\n"
     ]
    }
   ],
   "source": [
    "#classe 0\n",
    "LastPromotion = data.loc[(data['Attrition']==0)]\n",
    "a = LastPromotion['MonthlyIncome'].mean()\n",
    "\n",
    "#Classe 2\n",
    "LastPromotion2 = data.loc[(data['Attrition']==2)]\n",
    "b = LastPromotion2['MonthlyIncome'].mean()\n",
    "\n",
    "print(f'Classe 0 = {round(a,2)}')\n",
    "print(f'Classe 2 = {round(b,2)}')"
   ]
  },
  {
   "cell_type": "markdown",
   "metadata": {},
   "source": [
    "**Há uma diferença significativa quando comparamos a média de salário com pedido de demissão, fica evidente que quem ganha menos tem mais pretensão de pedir demissão do que um funcionário que ganha mais, uma das causas pode ser que o funcionário que ganha menos encontrou outra empresa que paga um salário maior**"
   ]
  },
  {
   "cell_type": "markdown",
   "metadata": {},
   "source": [
    "### TotalWorkingYears"
   ]
  },
  {
   "cell_type": "code",
   "execution_count": 23,
   "metadata": {},
   "outputs": [
    {
     "name": "stdout",
     "output_type": "stream",
     "text": [
      "Classe 0 = 11.2\n",
      "Classe 2 = 9.51\n"
     ]
    }
   ],
   "source": [
    "#classe 0\n",
    "LastPromotion = data.loc[(data['Attrition']==0)]\n",
    "a = LastPromotion['TotalWorkingYears'].mean()\n",
    "\n",
    "#Classe 2\n",
    "LastPromotion2 = data.loc[(data['Attrition']==2)]\n",
    "b = LastPromotion2['TotalWorkingYears'].mean()\n",
    "\n",
    "print(f'Classe 0 = {round(a,2)}')\n",
    "print(f'Classe 2 = {round(b,2)}')"
   ]
  },
  {
   "cell_type": "markdown",
   "metadata": {},
   "source": [
    "**Há uma pequena diferença em relação ao total de anos trabalhados (empresa atual + empresas anteriores), pois os funcionários que tem mais tempo de serviço, tem mesmo pretensão de pedir demissão, pessoas mais novas são mais aventureiras ou não acharam o emprego ideal**"
   ]
  },
  {
   "cell_type": "markdown",
   "metadata": {},
   "source": [
    "### PercentSalaryHike"
   ]
  },
  {
   "cell_type": "code",
   "execution_count": 24,
   "metadata": {},
   "outputs": [
    {
     "name": "stdout",
     "output_type": "stream",
     "text": [
      "Classe 0 = 14.96\n",
      "Classe 2 = 15.04\n"
     ]
    }
   ],
   "source": [
    "#classe 0\n",
    "LastPromotion = data.loc[(data['Attrition']==0)]\n",
    "a = LastPromotion['PercentSalaryHike'].mean()\n",
    "\n",
    "#Classe 2\n",
    "LastPromotion2 = data.loc[(data['Attrition']==2)]\n",
    "b = LastPromotion2['PercentSalaryHike'].mean()\n",
    "\n",
    "print(f'Classe 0 = {round(a,2)}')\n",
    "print(f'Classe 2 = {round(b,2)}')"
   ]
  },
  {
   "cell_type": "markdown",
   "metadata": {},
   "source": [
    "**Não há diferença significativa no percentual de aumento de salário em relação ao pedido de demissão**"
   ]
  },
  {
   "cell_type": "markdown",
   "metadata": {},
   "source": [
    "### YearsAtCompany"
   ]
  },
  {
   "cell_type": "code",
   "execution_count": 25,
   "metadata": {},
   "outputs": [
    {
     "name": "stdout",
     "output_type": "stream",
     "text": [
      "Classe 0 = 6.93\n",
      "Classe 2 = 5.95\n"
     ]
    }
   ],
   "source": [
    "#classe 0\n",
    "LastPromotion = data.loc[(data['Attrition']==0)]\n",
    "a = LastPromotion['YearsAtCompany'].mean()\n",
    "\n",
    "#Classe 2\n",
    "LastPromotion2 = data.loc[(data['Attrition']==2)]\n",
    "b = LastPromotion2['YearsAtCompany'].mean()\n",
    "\n",
    "print(f'Classe 0 = {round(a,2)}')\n",
    "print(f'Classe 2 = {round(b,2)}')"
   ]
  },
  {
   "cell_type": "markdown",
   "metadata": {},
   "source": [
    "**Há uma pequena diferença em relação aos anos trabalhados na empresa atual, pois os funcionários que tem mais tempo de casa tem menos pretensão de pedir demissão**"
   ]
  },
  {
   "cell_type": "markdown",
   "metadata": {},
   "source": [
    "### YearsWithCurrManager"
   ]
  },
  {
   "cell_type": "code",
   "execution_count": 26,
   "metadata": {},
   "outputs": [
    {
     "name": "stdout",
     "output_type": "stream",
     "text": [
      "Classe 0 = 4.11\n",
      "Classe 2 = 3.52\n"
     ]
    }
   ],
   "source": [
    "#classe 0\n",
    "LastPromotion = data.loc[(data['Attrition']==0)]\n",
    "a = LastPromotion['YearsWithCurrManager'].mean()\n",
    "\n",
    "#Classe 2\n",
    "LastPromotion2 = data.loc[(data['Attrition']==2)]\n",
    "b = LastPromotion2['YearsWithCurrManager'].mean()\n",
    "\n",
    "print(f'Classe 0 = {round(a,2)}')\n",
    "print(f'Classe 2 = {round(b,2)}')"
   ]
  },
  {
   "cell_type": "markdown",
   "metadata": {},
   "source": [
    "**Não há diferença significativa no tempo de trabalho com o mesmo gerente em relação ao pedido de demissão**"
   ]
  },
  {
   "cell_type": "markdown",
   "metadata": {},
   "source": [
    "### PriorYearsOfExperience"
   ]
  },
  {
   "cell_type": "code",
   "execution_count": 27,
   "metadata": {},
   "outputs": [
    {
     "name": "stdout",
     "output_type": "stream",
     "text": [
      "Classe 0 = 4.28\n",
      "Classe 2 = 3.56\n"
     ]
    }
   ],
   "source": [
    "#classe 0\n",
    "LastPromotion = data.loc[(data['Attrition']==0)]\n",
    "a = LastPromotion['PriorYearsOfExperience'].mean()\n",
    "\n",
    "#Classe 2\n",
    "LastPromotion2 = data.loc[(data['Attrition']==2)]\n",
    "b = LastPromotion2['PriorYearsOfExperience'].mean()\n",
    "\n",
    "print(f'Classe 0 = {round(a,2)}')\n",
    "print(f'Classe 2 = {round(b,2)}')"
   ]
  },
  {
   "cell_type": "markdown",
   "metadata": {},
   "source": [
    "**Não há diferença significativa no tempo de experiencia somente nos trabalhos anteriores em relação ao pedido de demissão**"
   ]
  },
  {
   "cell_type": "markdown",
   "metadata": {},
   "source": [
    "### YearsInCurrentRole"
   ]
  },
  {
   "cell_type": "code",
   "execution_count": 28,
   "metadata": {},
   "outputs": [
    {
     "name": "stdout",
     "output_type": "stream",
     "text": [
      "Classe 0 = 4.25\n",
      "Classe 2 = 3.41\n"
     ]
    }
   ],
   "source": [
    "#classe 0\n",
    "LastPromotion = data.loc[(data['Attrition']==0)]\n",
    "a = LastPromotion['YearsInCurrentRole'].mean()\n",
    "\n",
    "#Classe 2\n",
    "LastPromotion2 = data.loc[(data['Attrition']==2)]\n",
    "b = LastPromotion2['YearsInCurrentRole'].mean()\n",
    "\n",
    "print(f'Classe 0 = {round(a,2)}')\n",
    "print(f'Classe 2 = {round(b,2)}')"
   ]
  },
  {
   "cell_type": "markdown",
   "metadata": {},
   "source": [
    "**Não há diferença significativa no tempo de serviço na mesma função em relação ao pedido de demissão**"
   ]
  },
  {
   "cell_type": "markdown",
   "metadata": {},
   "source": [
    "### TrainingTimesLastYear"
   ]
  },
  {
   "cell_type": "code",
   "execution_count": 29,
   "metadata": {},
   "outputs": [
    {
     "name": "stdout",
     "output_type": "stream",
     "text": [
      "Classe 0 = 2.78\n",
      "Classe 2 = 2.69\n"
     ]
    }
   ],
   "source": [
    "#classe 0\n",
    "LastPromotion = data.loc[(data['Attrition']==0)]\n",
    "a = LastPromotion['TrainingTimesLastYear'].mean()\n",
    "\n",
    "#Classe 2\n",
    "LastPromotion2 = data.loc[(data['Attrition']==2)]\n",
    "b = LastPromotion2['TrainingTimesLastYear'].mean()\n",
    "\n",
    "print(f'Classe 0 = {round(a,2)}')\n",
    "print(f'Classe 2 = {round(b,2)}')"
   ]
  },
  {
   "cell_type": "markdown",
   "metadata": {},
   "source": [
    "**Não há diferença significativa quando comparamos o período do último treinamento feito pelo funcionário em relação ao pedido de demissão**"
   ]
  },
  {
   "cell_type": "markdown",
   "metadata": {},
   "source": [
    "### YearsSinceLastPromotion"
   ]
  },
  {
   "cell_type": "code",
   "execution_count": 30,
   "metadata": {},
   "outputs": [
    {
     "name": "stdout",
     "output_type": "stream",
     "text": [
      "Classe 0 = 2.15\n",
      "Classe 2 = 1.98\n"
     ]
    }
   ],
   "source": [
    "#classe 0\n",
    "LastPromotion = data.loc[(data['Attrition']==0)]\n",
    "a = LastPromotion['YearsSinceLastPromotion'].mean()\n",
    "\n",
    "#Classe 2\n",
    "LastPromotion2 = data.loc[(data['Attrition']==2)]\n",
    "b = LastPromotion2['YearsSinceLastPromotion'].mean()\n",
    "\n",
    "print(f'Classe 0 = {round(a,2)}')\n",
    "print(f'Classe 2 = {round(b,2)}')"
   ]
  },
  {
   "cell_type": "markdown",
   "metadata": {},
   "source": [
    "**Não há diferença significativa com o ano da última promoção do funcionário em relação ao pedido de demissão**"
   ]
  },
  {
   "cell_type": "markdown",
   "metadata": {},
   "source": [
    "## Analise da Variáveis Categóricas"
   ]
  },
  {
   "cell_type": "markdown",
   "metadata": {},
   "source": [
    "**Sabemos que a média de demissões feita pelos funcionários gira em torno de 15%, vamos buscar as variáveis categóricas que mais contribuem para essa média aumentar**"
   ]
  },
  {
   "cell_type": "markdown",
   "metadata": {},
   "source": [
    "### BusinessTravel"
   ]
  },
  {
   "cell_type": "code",
   "execution_count": 31,
   "metadata": {},
   "outputs": [
    {
     "data": {
      "text/html": [
       "<div>\n",
       "<style scoped>\n",
       "    .dataframe tbody tr th:only-of-type {\n",
       "        vertical-align: middle;\n",
       "    }\n",
       "\n",
       "    .dataframe tbody tr th {\n",
       "        vertical-align: top;\n",
       "    }\n",
       "\n",
       "    .dataframe thead th {\n",
       "        text-align: right;\n",
       "    }\n",
       "</style>\n",
       "<table border=\"1\" class=\"dataframe\">\n",
       "  <thead>\n",
       "    <tr style=\"text-align: right;\">\n",
       "      <th>BusinessTravel</th>\n",
       "      <th>Non-Travel</th>\n",
       "      <th>Travel_Frequently</th>\n",
       "      <th>Travel_Rarely</th>\n",
       "    </tr>\n",
       "    <tr>\n",
       "      <th>Attrition</th>\n",
       "      <th></th>\n",
       "      <th></th>\n",
       "      <th></th>\n",
       "    </tr>\n",
       "  </thead>\n",
       "  <tbody>\n",
       "    <tr>\n",
       "      <th>Current employee</th>\n",
       "      <td>0.918942</td>\n",
       "      <td>0.754298</td>\n",
       "      <td>0.856185</td>\n",
       "    </tr>\n",
       "    <tr>\n",
       "      <th>Voluntary Resignation</th>\n",
       "      <td>0.081058</td>\n",
       "      <td>0.245702</td>\n",
       "      <td>0.143815</td>\n",
       "    </tr>\n",
       "  </tbody>\n",
       "</table>\n",
       "</div>"
      ],
      "text/plain": [
       "BusinessTravel         Non-Travel  Travel_Frequently  Travel_Rarely\n",
       "Attrition                                                          \n",
       "Current employee         0.918942           0.754298       0.856185\n",
       "Voluntary Resignation    0.081058           0.245702       0.143815"
      ]
     },
     "execution_count": 31,
     "metadata": {},
     "output_type": "execute_result"
    }
   ],
   "source": [
    "bus = pd.crosstab(dados.Attrition,dados.BusinessTravel)\n",
    "bus/bus.aggregate(np.sum)"
   ]
  },
  {
   "cell_type": "markdown",
   "metadata": {},
   "source": [
    "**Os funcionários que mais viajam pela empresa tem mais pretensão de pedir demissão**"
   ]
  },
  {
   "cell_type": "markdown",
   "metadata": {},
   "source": [
    "### Department"
   ]
  },
  {
   "cell_type": "code",
   "execution_count": 32,
   "metadata": {},
   "outputs": [
    {
     "data": {
      "text/html": [
       "<div>\n",
       "<style scoped>\n",
       "    .dataframe tbody tr th:only-of-type {\n",
       "        vertical-align: middle;\n",
       "    }\n",
       "\n",
       "    .dataframe tbody tr th {\n",
       "        vertical-align: top;\n",
       "    }\n",
       "\n",
       "    .dataframe thead th {\n",
       "        text-align: right;\n",
       "    }\n",
       "</style>\n",
       "<table border=\"1\" class=\"dataframe\">\n",
       "  <thead>\n",
       "    <tr style=\"text-align: right;\">\n",
       "      <th>Department</th>\n",
       "      <th>Human Resources</th>\n",
       "      <th>Research &amp; Development</th>\n",
       "      <th>Sales</th>\n",
       "    </tr>\n",
       "    <tr>\n",
       "      <th>Attrition</th>\n",
       "      <th></th>\n",
       "      <th></th>\n",
       "      <th></th>\n",
       "    </tr>\n",
       "  </thead>\n",
       "  <tbody>\n",
       "    <tr>\n",
       "      <th>Current employee</th>\n",
       "      <td>0.812871</td>\n",
       "      <td>0.865861</td>\n",
       "      <td>0.799112</td>\n",
       "    </tr>\n",
       "    <tr>\n",
       "      <th>Voluntary Resignation</th>\n",
       "      <td>0.187129</td>\n",
       "      <td>0.134139</td>\n",
       "      <td>0.200888</td>\n",
       "    </tr>\n",
       "  </tbody>\n",
       "</table>\n",
       "</div>"
      ],
      "text/plain": [
       "Department             Human Resources  Research & Development     Sales\n",
       "Attrition                                                               \n",
       "Current employee              0.812871                0.865861  0.799112\n",
       "Voluntary Resignation         0.187129                0.134139  0.200888"
      ]
     },
     "execution_count": 32,
     "metadata": {},
     "output_type": "execute_result"
    }
   ],
   "source": [
    "dep = pd.crosstab(dados.Attrition,dados.Department)\n",
    "dep/dep.aggregate(np.sum)"
   ]
  },
  {
   "cell_type": "markdown",
   "metadata": {},
   "source": [
    "**Os departamentos de Vendas e RH são os que mais contribuem para o aumento de pedidos de demissões na empresa**"
   ]
  },
  {
   "cell_type": "markdown",
   "metadata": {},
   "source": [
    "### Education"
   ]
  },
  {
   "cell_type": "code",
   "execution_count": 33,
   "metadata": {},
   "outputs": [
    {
     "data": {
      "text/html": [
       "<div>\n",
       "<style scoped>\n",
       "    .dataframe tbody tr th:only-of-type {\n",
       "        vertical-align: middle;\n",
       "    }\n",
       "\n",
       "    .dataframe tbody tr th {\n",
       "        vertical-align: top;\n",
       "    }\n",
       "\n",
       "    .dataframe thead th {\n",
       "        text-align: right;\n",
       "    }\n",
       "</style>\n",
       "<table border=\"1\" class=\"dataframe\">\n",
       "  <thead>\n",
       "    <tr style=\"text-align: right;\">\n",
       "      <th>Education</th>\n",
       "      <th>1</th>\n",
       "      <th>2</th>\n",
       "      <th>3</th>\n",
       "      <th>4</th>\n",
       "      <th>5</th>\n",
       "    </tr>\n",
       "    <tr>\n",
       "      <th>Attrition</th>\n",
       "      <th></th>\n",
       "      <th></th>\n",
       "      <th></th>\n",
       "      <th></th>\n",
       "      <th></th>\n",
       "    </tr>\n",
       "  </thead>\n",
       "  <tbody>\n",
       "    <tr>\n",
       "      <th>Current employee</th>\n",
       "      <td>0.819105</td>\n",
       "      <td>0.847546</td>\n",
       "      <td>0.834083</td>\n",
       "      <td>0.857211</td>\n",
       "      <td>0.895225</td>\n",
       "    </tr>\n",
       "    <tr>\n",
       "      <th>Voluntary Resignation</th>\n",
       "      <td>0.180895</td>\n",
       "      <td>0.152454</td>\n",
       "      <td>0.165917</td>\n",
       "      <td>0.142789</td>\n",
       "      <td>0.104775</td>\n",
       "    </tr>\n",
       "  </tbody>\n",
       "</table>\n",
       "</div>"
      ],
      "text/plain": [
       "Education                     1         2         3         4         5\n",
       "Attrition                                                              \n",
       "Current employee       0.819105  0.847546  0.834083  0.857211  0.895225\n",
       "Voluntary Resignation  0.180895  0.152454  0.165917  0.142789  0.104775"
      ]
     },
     "execution_count": 33,
     "metadata": {},
     "output_type": "execute_result"
    }
   ],
   "source": [
    "Edu = pd.crosstab(dados.Attrition,dados.Education)\n",
    "Edu/Edu.aggregate(np.sum)"
   ]
  },
  {
   "cell_type": "markdown",
   "metadata": {},
   "source": [
    "**Quanto menor o nível de escolaridade do funcionário maior a chance de pedir demissão, normalmente são funcionário mais jovem que não são bem pagos e estão em busca de melhores salários em outras companhias**"
   ]
  },
  {
   "cell_type": "markdown",
   "metadata": {},
   "source": [
    "### EducationField"
   ]
  },
  {
   "cell_type": "code",
   "execution_count": 34,
   "metadata": {},
   "outputs": [
    {
     "data": {
      "text/html": [
       "<div>\n",
       "<style scoped>\n",
       "    .dataframe tbody tr th:only-of-type {\n",
       "        vertical-align: middle;\n",
       "    }\n",
       "\n",
       "    .dataframe tbody tr th {\n",
       "        vertical-align: top;\n",
       "    }\n",
       "\n",
       "    .dataframe thead th {\n",
       "        text-align: right;\n",
       "    }\n",
       "</style>\n",
       "<table border=\"1\" class=\"dataframe\">\n",
       "  <thead>\n",
       "    <tr style=\"text-align: right;\">\n",
       "      <th>EducationField</th>\n",
       "      <th>Human Resources</th>\n",
       "      <th>Life Sciences</th>\n",
       "      <th>Marketing</th>\n",
       "      <th>Medical</th>\n",
       "      <th>Other</th>\n",
       "      <th>Technical Degree</th>\n",
       "    </tr>\n",
       "    <tr>\n",
       "      <th>Attrition</th>\n",
       "      <th></th>\n",
       "      <th></th>\n",
       "      <th></th>\n",
       "      <th></th>\n",
       "      <th></th>\n",
       "      <th></th>\n",
       "    </tr>\n",
       "  </thead>\n",
       "  <tbody>\n",
       "    <tr>\n",
       "      <th>Current employee</th>\n",
       "      <td>0.830317</td>\n",
       "      <td>0.858542</td>\n",
       "      <td>0.833333</td>\n",
       "      <td>0.850173</td>\n",
       "      <td>0.824942</td>\n",
       "      <td>0.774083</td>\n",
       "    </tr>\n",
       "    <tr>\n",
       "      <th>Voluntary Resignation</th>\n",
       "      <td>0.169683</td>\n",
       "      <td>0.141458</td>\n",
       "      <td>0.166667</td>\n",
       "      <td>0.149827</td>\n",
       "      <td>0.175058</td>\n",
       "      <td>0.225917</td>\n",
       "    </tr>\n",
       "  </tbody>\n",
       "</table>\n",
       "</div>"
      ],
      "text/plain": [
       "EducationField         Human Resources  Life Sciences  Marketing   Medical  \\\n",
       "Attrition                                                                    \n",
       "Current employee              0.830317       0.858542   0.833333  0.850173   \n",
       "Voluntary Resignation         0.169683       0.141458   0.166667  0.149827   \n",
       "\n",
       "EducationField            Other  Technical Degree  \n",
       "Attrition                                          \n",
       "Current employee       0.824942          0.774083  \n",
       "Voluntary Resignation  0.175058          0.225917  "
      ]
     },
     "execution_count": 34,
     "metadata": {},
     "output_type": "execute_result"
    }
   ],
   "source": [
    "Edufil = pd.crosstab(dados.Attrition,dados.EducationField)\n",
    "Edufil/Edufil.agg(sum)"
   ]
  },
  {
   "cell_type": "markdown",
   "metadata": {},
   "source": [
    "**Os funcionários formados em cursos técnicos tem uma alta probabilidade de pedir demissão em relação as outras áreas**"
   ]
  },
  {
   "cell_type": "markdown",
   "metadata": {},
   "source": [
    "### EnvironmentSatisfaction"
   ]
  },
  {
   "cell_type": "code",
   "execution_count": 35,
   "metadata": {},
   "outputs": [
    {
     "data": {
      "text/html": [
       "<div>\n",
       "<style scoped>\n",
       "    .dataframe tbody tr th:only-of-type {\n",
       "        vertical-align: middle;\n",
       "    }\n",
       "\n",
       "    .dataframe tbody tr th {\n",
       "        vertical-align: top;\n",
       "    }\n",
       "\n",
       "    .dataframe thead th {\n",
       "        text-align: right;\n",
       "    }\n",
       "</style>\n",
       "<table border=\"1\" class=\"dataframe\">\n",
       "  <thead>\n",
       "    <tr style=\"text-align: right;\">\n",
       "      <th>EnvironmentSatisfaction</th>\n",
       "      <th>1</th>\n",
       "      <th>2</th>\n",
       "      <th>3</th>\n",
       "      <th>4</th>\n",
       "    </tr>\n",
       "    <tr>\n",
       "      <th>Attrition</th>\n",
       "      <th></th>\n",
       "      <th></th>\n",
       "      <th></th>\n",
       "      <th></th>\n",
       "    </tr>\n",
       "  </thead>\n",
       "  <tbody>\n",
       "    <tr>\n",
       "      <th>Current employee</th>\n",
       "      <td>0.80946</td>\n",
       "      <td>0.836996</td>\n",
       "      <td>0.855101</td>\n",
       "      <td>0.856938</td>\n",
       "    </tr>\n",
       "    <tr>\n",
       "      <th>Voluntary Resignation</th>\n",
       "      <td>0.19054</td>\n",
       "      <td>0.163004</td>\n",
       "      <td>0.144899</td>\n",
       "      <td>0.143062</td>\n",
       "    </tr>\n",
       "  </tbody>\n",
       "</table>\n",
       "</div>"
      ],
      "text/plain": [
       "EnvironmentSatisfaction        1         2         3         4\n",
       "Attrition                                                     \n",
       "Current employee         0.80946  0.836996  0.855101  0.856938\n",
       "Voluntary Resignation    0.19054  0.163004  0.144899  0.143062"
      ]
     },
     "execution_count": 35,
     "metadata": {},
     "output_type": "execute_result"
    }
   ],
   "source": [
    "Edusat = pd.crosstab(dados.Attrition,dados.EnvironmentSatisfaction)\n",
    "Edusat/Edusat.agg(sum)"
   ]
  },
  {
   "cell_type": "markdown",
   "metadata": {},
   "source": [
    "**Funcionários que tem baixa satisfação em seu ambiente de trabalho, tem mais probabilidade de pedir demissão**"
   ]
  },
  {
   "cell_type": "markdown",
   "metadata": {},
   "source": [
    "### Gender"
   ]
  },
  {
   "cell_type": "code",
   "execution_count": 36,
   "metadata": {},
   "outputs": [
    {
     "data": {
      "text/html": [
       "<div>\n",
       "<style scoped>\n",
       "    .dataframe tbody tr th:only-of-type {\n",
       "        vertical-align: middle;\n",
       "    }\n",
       "\n",
       "    .dataframe tbody tr th {\n",
       "        vertical-align: top;\n",
       "    }\n",
       "\n",
       "    .dataframe thead th {\n",
       "        text-align: right;\n",
       "    }\n",
       "</style>\n",
       "<table border=\"1\" class=\"dataframe\">\n",
       "  <thead>\n",
       "    <tr style=\"text-align: right;\">\n",
       "      <th>Gender</th>\n",
       "      <th>Female</th>\n",
       "      <th>Male</th>\n",
       "    </tr>\n",
       "    <tr>\n",
       "      <th>Attrition</th>\n",
       "      <th></th>\n",
       "      <th></th>\n",
       "    </tr>\n",
       "  </thead>\n",
       "  <tbody>\n",
       "    <tr>\n",
       "      <th>Current employee</th>\n",
       "      <td>0.847596</td>\n",
       "      <td>0.840339</td>\n",
       "    </tr>\n",
       "    <tr>\n",
       "      <th>Voluntary Resignation</th>\n",
       "      <td>0.152404</td>\n",
       "      <td>0.159661</td>\n",
       "    </tr>\n",
       "  </tbody>\n",
       "</table>\n",
       "</div>"
      ],
      "text/plain": [
       "Gender                   Female      Male\n",
       "Attrition                                \n",
       "Current employee       0.847596  0.840339\n",
       "Voluntary Resignation  0.152404  0.159661"
      ]
     },
     "execution_count": 36,
     "metadata": {},
     "output_type": "execute_result"
    }
   ],
   "source": [
    "Gen = pd.crosstab(dados.Attrition,dados.Gender)\n",
    "Gen/Gen.agg(sum)"
   ]
  },
  {
   "cell_type": "markdown",
   "metadata": {},
   "source": [
    "**Não há diferença significativa entre homens e mulheres em relação ao pedido de demissão na empresa**"
   ]
  },
  {
   "cell_type": "markdown",
   "metadata": {},
   "source": [
    "### JobInvolvement"
   ]
  },
  {
   "cell_type": "code",
   "execution_count": 37,
   "metadata": {},
   "outputs": [
    {
     "data": {
      "text/html": [
       "<div>\n",
       "<style scoped>\n",
       "    .dataframe tbody tr th:only-of-type {\n",
       "        vertical-align: middle;\n",
       "    }\n",
       "\n",
       "    .dataframe tbody tr th {\n",
       "        vertical-align: top;\n",
       "    }\n",
       "\n",
       "    .dataframe thead th {\n",
       "        text-align: right;\n",
       "    }\n",
       "</style>\n",
       "<table border=\"1\" class=\"dataframe\">\n",
       "  <thead>\n",
       "    <tr style=\"text-align: right;\">\n",
       "      <th>JobInvolvement</th>\n",
       "      <th>1</th>\n",
       "      <th>2</th>\n",
       "      <th>3</th>\n",
       "      <th>4</th>\n",
       "    </tr>\n",
       "    <tr>\n",
       "      <th>Attrition</th>\n",
       "      <th></th>\n",
       "      <th></th>\n",
       "      <th></th>\n",
       "      <th></th>\n",
       "    </tr>\n",
       "  </thead>\n",
       "  <tbody>\n",
       "    <tr>\n",
       "      <th>Current employee</th>\n",
       "      <td>0.761532</td>\n",
       "      <td>0.823902</td>\n",
       "      <td>0.853659</td>\n",
       "      <td>0.877185</td>\n",
       "    </tr>\n",
       "    <tr>\n",
       "      <th>Voluntary Resignation</th>\n",
       "      <td>0.238468</td>\n",
       "      <td>0.176098</td>\n",
       "      <td>0.146341</td>\n",
       "      <td>0.122815</td>\n",
       "    </tr>\n",
       "  </tbody>\n",
       "</table>\n",
       "</div>"
      ],
      "text/plain": [
       "JobInvolvement                1         2         3         4\n",
       "Attrition                                                    \n",
       "Current employee       0.761532  0.823902  0.853659  0.877185\n",
       "Voluntary Resignation  0.238468  0.176098  0.146341  0.122815"
      ]
     },
     "execution_count": 37,
     "metadata": {},
     "output_type": "execute_result"
    }
   ],
   "source": [
    "JobInvo = pd.crosstab(dados.Attrition,dados.JobInvolvement)\n",
    "JobInvo/JobInvo.agg(sum)"
   ]
  },
  {
   "cell_type": "markdown",
   "metadata": {},
   "source": [
    "**Quanto menos envolvimento o funcionário tem com o trabalho mais chance do pedido de demissão**"
   ]
  },
  {
   "cell_type": "markdown",
   "metadata": {},
   "source": [
    "### JobLevel"
   ]
  },
  {
   "cell_type": "code",
   "execution_count": 38,
   "metadata": {},
   "outputs": [
    {
     "data": {
      "text/html": [
       "<div>\n",
       "<style scoped>\n",
       "    .dataframe tbody tr th:only-of-type {\n",
       "        vertical-align: middle;\n",
       "    }\n",
       "\n",
       "    .dataframe tbody tr th {\n",
       "        vertical-align: top;\n",
       "    }\n",
       "\n",
       "    .dataframe thead th {\n",
       "        text-align: right;\n",
       "    }\n",
       "</style>\n",
       "<table border=\"1\" class=\"dataframe\">\n",
       "  <thead>\n",
       "    <tr style=\"text-align: right;\">\n",
       "      <th>JobLevel</th>\n",
       "      <th>1</th>\n",
       "      <th>2</th>\n",
       "      <th>3</th>\n",
       "      <th>4</th>\n",
       "      <th>5</th>\n",
       "    </tr>\n",
       "    <tr>\n",
       "      <th>Attrition</th>\n",
       "      <th></th>\n",
       "      <th></th>\n",
       "      <th></th>\n",
       "      <th></th>\n",
       "      <th></th>\n",
       "    </tr>\n",
       "  </thead>\n",
       "  <tbody>\n",
       "    <tr>\n",
       "      <th>Current employee</th>\n",
       "      <td>0.794431</td>\n",
       "      <td>0.873695</td>\n",
       "      <td>0.845502</td>\n",
       "      <td>0.886756</td>\n",
       "      <td>0.927363</td>\n",
       "    </tr>\n",
       "    <tr>\n",
       "      <th>Voluntary Resignation</th>\n",
       "      <td>0.205569</td>\n",
       "      <td>0.126305</td>\n",
       "      <td>0.154498</td>\n",
       "      <td>0.113244</td>\n",
       "      <td>0.072637</td>\n",
       "    </tr>\n",
       "  </tbody>\n",
       "</table>\n",
       "</div>"
      ],
      "text/plain": [
       "JobLevel                      1         2         3         4         5\n",
       "Attrition                                                              \n",
       "Current employee       0.794431  0.873695  0.845502  0.886756  0.927363\n",
       "Voluntary Resignation  0.205569  0.126305  0.154498  0.113244  0.072637"
      ]
     },
     "execution_count": 38,
     "metadata": {},
     "output_type": "execute_result"
    }
   ],
   "source": [
    "JobLevel = pd.crosstab(dados.Attrition,dados.JobLevel)\n",
    "JobLevel/JobLevel.agg(sum)"
   ]
  },
  {
   "cell_type": "markdown",
   "metadata": {},
   "source": [
    "**Quanto menor o nível do trabalho, maior a chance do pedido de demissão, normalmente os níveis de trabalho determina o salário do empregado, quanto menor o nível menor o salário, por conta disso há maior chance do pedido de demissão**"
   ]
  },
  {
   "cell_type": "markdown",
   "metadata": {},
   "source": [
    "### JobRole"
   ]
  },
  {
   "cell_type": "code",
   "execution_count": 39,
   "metadata": {},
   "outputs": [
    {
     "data": {
      "text/html": [
       "<div>\n",
       "<style scoped>\n",
       "    .dataframe tbody tr th:only-of-type {\n",
       "        vertical-align: middle;\n",
       "    }\n",
       "\n",
       "    .dataframe tbody tr th {\n",
       "        vertical-align: top;\n",
       "    }\n",
       "\n",
       "    .dataframe thead th {\n",
       "        text-align: right;\n",
       "    }\n",
       "</style>\n",
       "<table border=\"1\" class=\"dataframe\">\n",
       "  <thead>\n",
       "    <tr style=\"text-align: right;\">\n",
       "      <th>JobRole</th>\n",
       "      <th>Healthcare Representative</th>\n",
       "      <th>Human Resources</th>\n",
       "      <th>Laboratory Technician</th>\n",
       "      <th>Manager</th>\n",
       "      <th>Manufacturing Director</th>\n",
       "      <th>Research Director</th>\n",
       "      <th>Research Scientist</th>\n",
       "      <th>Sales Executive</th>\n",
       "      <th>Sales Representative</th>\n",
       "    </tr>\n",
       "    <tr>\n",
       "      <th>Attrition</th>\n",
       "      <th></th>\n",
       "      <th></th>\n",
       "      <th></th>\n",
       "      <th></th>\n",
       "      <th></th>\n",
       "      <th></th>\n",
       "      <th></th>\n",
       "      <th></th>\n",
       "      <th></th>\n",
       "    </tr>\n",
       "  </thead>\n",
       "  <tbody>\n",
       "    <tr>\n",
       "      <th>Current employee</th>\n",
       "      <td>0.859777</td>\n",
       "      <td>0.82593</td>\n",
       "      <td>0.81727</td>\n",
       "      <td>0.921348</td>\n",
       "      <td>0.88024</td>\n",
       "      <td>0.915017</td>\n",
       "      <td>0.840253</td>\n",
       "      <td>0.83726</td>\n",
       "      <td>0.719015</td>\n",
       "    </tr>\n",
       "    <tr>\n",
       "      <th>Voluntary Resignation</th>\n",
       "      <td>0.140223</td>\n",
       "      <td>0.17407</td>\n",
       "      <td>0.18273</td>\n",
       "      <td>0.078652</td>\n",
       "      <td>0.11976</td>\n",
       "      <td>0.084983</td>\n",
       "      <td>0.159747</td>\n",
       "      <td>0.16274</td>\n",
       "      <td>0.280985</td>\n",
       "    </tr>\n",
       "  </tbody>\n",
       "</table>\n",
       "</div>"
      ],
      "text/plain": [
       "JobRole                Healthcare Representative  Human Resources  \\\n",
       "Attrition                                                           \n",
       "Current employee                        0.859777          0.82593   \n",
       "Voluntary Resignation                   0.140223          0.17407   \n",
       "\n",
       "JobRole                Laboratory Technician   Manager  \\\n",
       "Attrition                                                \n",
       "Current employee                     0.81727  0.921348   \n",
       "Voluntary Resignation                0.18273  0.078652   \n",
       "\n",
       "JobRole                Manufacturing Director  Research Director  \\\n",
       "Attrition                                                          \n",
       "Current employee                      0.88024           0.915017   \n",
       "Voluntary Resignation                 0.11976           0.084983   \n",
       "\n",
       "JobRole                Research Scientist  Sales Executive  \\\n",
       "Attrition                                                    \n",
       "Current employee                 0.840253          0.83726   \n",
       "Voluntary Resignation            0.159747          0.16274   \n",
       "\n",
       "JobRole                Sales Representative  \n",
       "Attrition                                    \n",
       "Current employee                   0.719015  \n",
       "Voluntary Resignation              0.280985  "
      ]
     },
     "execution_count": 39,
     "metadata": {},
     "output_type": "execute_result"
    }
   ],
   "source": [
    "JobRole = pd.crosstab(dados.Attrition,dados.JobRole)\n",
    "JobRole/JobRole.agg(sum)"
   ]
  },
  {
   "cell_type": "markdown",
   "metadata": {},
   "source": [
    "**Disparado a função de representante de vendas é o que mais tem probabilidade de o funcionário pedir de demissão, os salários normalmente são baixos com alta comissão, representantes de vendas normalmente ficam fora da empresa e tem um ciclo de amizade maior, podendo conseguir melhores remunerações em outras companhias**"
   ]
  },
  {
   "cell_type": "markdown",
   "metadata": {},
   "source": [
    "### JobSatisfaction"
   ]
  },
  {
   "cell_type": "code",
   "execution_count": 40,
   "metadata": {},
   "outputs": [
    {
     "data": {
      "text/html": [
       "<div>\n",
       "<style scoped>\n",
       "    .dataframe tbody tr th:only-of-type {\n",
       "        vertical-align: middle;\n",
       "    }\n",
       "\n",
       "    .dataframe tbody tr th {\n",
       "        vertical-align: top;\n",
       "    }\n",
       "\n",
       "    .dataframe thead th {\n",
       "        text-align: right;\n",
       "    }\n",
       "</style>\n",
       "<table border=\"1\" class=\"dataframe\">\n",
       "  <thead>\n",
       "    <tr style=\"text-align: right;\">\n",
       "      <th>JobSatisfaction</th>\n",
       "      <th>1</th>\n",
       "      <th>2</th>\n",
       "      <th>3</th>\n",
       "      <th>4</th>\n",
       "    </tr>\n",
       "    <tr>\n",
       "      <th>Attrition</th>\n",
       "      <th></th>\n",
       "      <th></th>\n",
       "      <th></th>\n",
       "      <th></th>\n",
       "    </tr>\n",
       "  </thead>\n",
       "  <tbody>\n",
       "    <tr>\n",
       "      <th>Current employee</th>\n",
       "      <td>0.806956</td>\n",
       "      <td>0.846154</td>\n",
       "      <td>0.838444</td>\n",
       "      <td>0.869116</td>\n",
       "    </tr>\n",
       "    <tr>\n",
       "      <th>Voluntary Resignation</th>\n",
       "      <td>0.193044</td>\n",
       "      <td>0.153846</td>\n",
       "      <td>0.161556</td>\n",
       "      <td>0.130884</td>\n",
       "    </tr>\n",
       "  </tbody>\n",
       "</table>\n",
       "</div>"
      ],
      "text/plain": [
       "JobSatisfaction               1         2         3         4\n",
       "Attrition                                                    \n",
       "Current employee       0.806956  0.846154  0.838444  0.869116\n",
       "Voluntary Resignation  0.193044  0.153846  0.161556  0.130884"
      ]
     },
     "execution_count": 40,
     "metadata": {},
     "output_type": "execute_result"
    }
   ],
   "source": [
    "JobSatisfaction = pd.crosstab(dados.Attrition,dados.JobSatisfaction)\n",
    "JobSatisfaction/JobSatisfaction.agg(sum)"
   ]
  },
  {
   "cell_type": "markdown",
   "metadata": {},
   "source": [
    "**Quanto menor a satisfação do funcionário com o trabalho, maior a chance de pedir demissão**"
   ]
  },
  {
   "cell_type": "markdown",
   "metadata": {},
   "source": [
    "### MaritalStatus"
   ]
  },
  {
   "cell_type": "code",
   "execution_count": 41,
   "metadata": {},
   "outputs": [
    {
     "data": {
      "text/html": [
       "<div>\n",
       "<style scoped>\n",
       "    .dataframe tbody tr th:only-of-type {\n",
       "        vertical-align: middle;\n",
       "    }\n",
       "\n",
       "    .dataframe tbody tr th {\n",
       "        vertical-align: top;\n",
       "    }\n",
       "\n",
       "    .dataframe thead th {\n",
       "        text-align: right;\n",
       "    }\n",
       "</style>\n",
       "<table border=\"1\" class=\"dataframe\">\n",
       "  <thead>\n",
       "    <tr style=\"text-align: right;\">\n",
       "      <th>MaritalStatus</th>\n",
       "      <th>Divorced</th>\n",
       "      <th>Married</th>\n",
       "      <th>Single</th>\n",
       "    </tr>\n",
       "    <tr>\n",
       "      <th>Attrition</th>\n",
       "      <th></th>\n",
       "      <th></th>\n",
       "      <th></th>\n",
       "    </tr>\n",
       "  </thead>\n",
       "  <tbody>\n",
       "    <tr>\n",
       "      <th>Current employee</th>\n",
       "      <td>0.886946</td>\n",
       "      <td>0.868977</td>\n",
       "      <td>0.775577</td>\n",
       "    </tr>\n",
       "    <tr>\n",
       "      <th>Voluntary Resignation</th>\n",
       "      <td>0.113054</td>\n",
       "      <td>0.131023</td>\n",
       "      <td>0.224423</td>\n",
       "    </tr>\n",
       "  </tbody>\n",
       "</table>\n",
       "</div>"
      ],
      "text/plain": [
       "MaritalStatus          Divorced   Married    Single\n",
       "Attrition                                          \n",
       "Current employee       0.886946  0.868977  0.775577\n",
       "Voluntary Resignation  0.113054  0.131023  0.224423"
      ]
     },
     "execution_count": 41,
     "metadata": {},
     "output_type": "execute_result"
    }
   ],
   "source": [
    "MaritalStatus = pd.crosstab(dados.Attrition,dados.MaritalStatus)\n",
    "MaritalStatus/MaritalStatus.agg(sum)"
   ]
  },
  {
   "cell_type": "markdown",
   "metadata": {},
   "source": [
    "**Os funcionários solteiros tem mais probabilidade de pedir demissão da empresa, eles têm um perfil mais aventureiro, não há impeditivo para mudar sua rotina**"
   ]
  },
  {
   "cell_type": "markdown",
   "metadata": {},
   "source": [
    "### NumCompaniesWorked"
   ]
  },
  {
   "cell_type": "code",
   "execution_count": 42,
   "metadata": {},
   "outputs": [
    {
     "data": {
      "text/html": [
       "<div>\n",
       "<style scoped>\n",
       "    .dataframe tbody tr th:only-of-type {\n",
       "        vertical-align: middle;\n",
       "    }\n",
       "\n",
       "    .dataframe tbody tr th {\n",
       "        vertical-align: top;\n",
       "    }\n",
       "\n",
       "    .dataframe thead th {\n",
       "        text-align: right;\n",
       "    }\n",
       "</style>\n",
       "<table border=\"1\" class=\"dataframe\">\n",
       "  <thead>\n",
       "    <tr style=\"text-align: right;\">\n",
       "      <th>NumCompaniesWorked</th>\n",
       "      <th>0</th>\n",
       "      <th>1</th>\n",
       "      <th>2</th>\n",
       "      <th>3</th>\n",
       "      <th>4</th>\n",
       "      <th>5</th>\n",
       "      <th>6</th>\n",
       "      <th>7</th>\n",
       "      <th>8</th>\n",
       "      <th>9</th>\n",
       "    </tr>\n",
       "    <tr>\n",
       "      <th>Attrition</th>\n",
       "      <th></th>\n",
       "      <th></th>\n",
       "      <th></th>\n",
       "      <th></th>\n",
       "      <th></th>\n",
       "      <th></th>\n",
       "      <th></th>\n",
       "      <th></th>\n",
       "      <th></th>\n",
       "      <th></th>\n",
       "    </tr>\n",
       "  </thead>\n",
       "  <tbody>\n",
       "    <tr>\n",
       "      <th>Current employee</th>\n",
       "      <td>0.856778</td>\n",
       "      <td>0.840389</td>\n",
       "      <td>0.862528</td>\n",
       "      <td>0.859521</td>\n",
       "      <td>0.873213</td>\n",
       "      <td>0.838057</td>\n",
       "      <td>0.857273</td>\n",
       "      <td>0.761168</td>\n",
       "      <td>0.78784</td>\n",
       "      <td>0.793233</td>\n",
       "    </tr>\n",
       "    <tr>\n",
       "      <th>Voluntary Resignation</th>\n",
       "      <td>0.143222</td>\n",
       "      <td>0.159611</td>\n",
       "      <td>0.137472</td>\n",
       "      <td>0.140479</td>\n",
       "      <td>0.126787</td>\n",
       "      <td>0.161943</td>\n",
       "      <td>0.142727</td>\n",
       "      <td>0.238832</td>\n",
       "      <td>0.21216</td>\n",
       "      <td>0.206767</td>\n",
       "    </tr>\n",
       "  </tbody>\n",
       "</table>\n",
       "</div>"
      ],
      "text/plain": [
       "NumCompaniesWorked            0         1         2         3         4  \\\n",
       "Attrition                                                                 \n",
       "Current employee       0.856778  0.840389  0.862528  0.859521  0.873213   \n",
       "Voluntary Resignation  0.143222  0.159611  0.137472  0.140479  0.126787   \n",
       "\n",
       "NumCompaniesWorked            5         6         7        8         9  \n",
       "Attrition                                                               \n",
       "Current employee       0.838057  0.857273  0.761168  0.78784  0.793233  \n",
       "Voluntary Resignation  0.161943  0.142727  0.238832  0.21216  0.206767  "
      ]
     },
     "execution_count": 42,
     "metadata": {},
     "output_type": "execute_result"
    }
   ],
   "source": [
    "NumCompaniesWorked = pd.crosstab(dados.Attrition,dados.NumCompaniesWorked)\n",
    "NumCompaniesWorked/NumCompaniesWorked.agg(sum)"
   ]
  },
  {
   "cell_type": "markdown",
   "metadata": {},
   "source": [
    "**Quanto mais empresas o funcionário trabalhou antes de ser contratado mais chance ele tem de pedir demissão, normalmente são pessoas que não estão satisfeitas com seu trabalho, porém não tem estudos para conseguir trabalhos melhores com alta remuneração**"
   ]
  },
  {
   "cell_type": "markdown",
   "metadata": {},
   "source": [
    "### OverTime"
   ]
  },
  {
   "cell_type": "code",
   "execution_count": 43,
   "metadata": {},
   "outputs": [
    {
     "data": {
      "text/html": [
       "<div>\n",
       "<style scoped>\n",
       "    .dataframe tbody tr th:only-of-type {\n",
       "        vertical-align: middle;\n",
       "    }\n",
       "\n",
       "    .dataframe tbody tr th {\n",
       "        vertical-align: top;\n",
       "    }\n",
       "\n",
       "    .dataframe thead th {\n",
       "        text-align: right;\n",
       "    }\n",
       "</style>\n",
       "<table border=\"1\" class=\"dataframe\">\n",
       "  <thead>\n",
       "    <tr style=\"text-align: right;\">\n",
       "      <th>OverTime</th>\n",
       "      <th>No</th>\n",
       "      <th>Yes</th>\n",
       "    </tr>\n",
       "    <tr>\n",
       "      <th>Attrition</th>\n",
       "      <th></th>\n",
       "      <th></th>\n",
       "    </tr>\n",
       "  </thead>\n",
       "  <tbody>\n",
       "    <tr>\n",
       "      <th>Current employee</th>\n",
       "      <td>0.876244</td>\n",
       "      <td>0.759507</td>\n",
       "    </tr>\n",
       "    <tr>\n",
       "      <th>Voluntary Resignation</th>\n",
       "      <td>0.123756</td>\n",
       "      <td>0.240493</td>\n",
       "    </tr>\n",
       "  </tbody>\n",
       "</table>\n",
       "</div>"
      ],
      "text/plain": [
       "OverTime                     No       Yes\n",
       "Attrition                                \n",
       "Current employee       0.876244  0.759507\n",
       "Voluntary Resignation  0.123756  0.240493"
      ]
     },
     "execution_count": 43,
     "metadata": {},
     "output_type": "execute_result"
    }
   ],
   "source": [
    "OverTime = pd.crosstab(dados.Attrition,dados.OverTime)\n",
    "OverTime/OverTime.agg(sum)"
   ]
  },
  {
   "cell_type": "markdown",
   "metadata": {},
   "source": [
    "**Fica claro que o funcionário que faz hora extra tem mais chance de pedir demissão, normalmente esse funcionário estão exaustos do trabalho, não tem tempo para se divertir ou ficar com a família e acaba por pedir demissão**"
   ]
  },
  {
   "cell_type": "markdown",
   "metadata": {},
   "source": [
    "### PerformanceRating"
   ]
  },
  {
   "cell_type": "code",
   "execution_count": 44,
   "metadata": {},
   "outputs": [
    {
     "data": {
      "text/html": [
       "<div>\n",
       "<style scoped>\n",
       "    .dataframe tbody tr th:only-of-type {\n",
       "        vertical-align: middle;\n",
       "    }\n",
       "\n",
       "    .dataframe tbody tr th {\n",
       "        vertical-align: top;\n",
       "    }\n",
       "\n",
       "    .dataframe thead th {\n",
       "        text-align: right;\n",
       "    }\n",
       "</style>\n",
       "<table border=\"1\" class=\"dataframe\">\n",
       "  <thead>\n",
       "    <tr style=\"text-align: right;\">\n",
       "      <th>PerformanceRating</th>\n",
       "      <th>3</th>\n",
       "      <th>4</th>\n",
       "    </tr>\n",
       "    <tr>\n",
       "      <th>Attrition</th>\n",
       "      <th></th>\n",
       "      <th></th>\n",
       "    </tr>\n",
       "  </thead>\n",
       "  <tbody>\n",
       "    <tr>\n",
       "      <th>Current employee</th>\n",
       "      <td>0.842222</td>\n",
       "      <td>0.848765</td>\n",
       "    </tr>\n",
       "    <tr>\n",
       "      <th>Voluntary Resignation</th>\n",
       "      <td>0.157778</td>\n",
       "      <td>0.151235</td>\n",
       "    </tr>\n",
       "  </tbody>\n",
       "</table>\n",
       "</div>"
      ],
      "text/plain": [
       "PerformanceRating             3         4\n",
       "Attrition                                \n",
       "Current employee       0.842222  0.848765\n",
       "Voluntary Resignation  0.157778  0.151235"
      ]
     },
     "execution_count": 44,
     "metadata": {},
     "output_type": "execute_result"
    }
   ],
   "source": [
    "PerformanceRating = pd.crosstab(dados.Attrition,dados.PerformanceRating)\n",
    "PerformanceRating/PerformanceRating.agg(sum)"
   ]
  },
  {
   "cell_type": "markdown",
   "metadata": {},
   "source": [
    "**Não há diferença na nota de performance da empresa dada pelo funcionário em relação ao pedido de demissão, muitos gerentes manipulam seus funcionários para conseguir uma nota alta no seu departamento, esse tipo de pesquisa normalmente é enviesado**"
   ]
  },
  {
   "cell_type": "markdown",
   "metadata": {},
   "source": [
    "### RelationshipSatisfaction"
   ]
  },
  {
   "cell_type": "code",
   "execution_count": 45,
   "metadata": {},
   "outputs": [
    {
     "data": {
      "text/html": [
       "<div>\n",
       "<style scoped>\n",
       "    .dataframe tbody tr th:only-of-type {\n",
       "        vertical-align: middle;\n",
       "    }\n",
       "\n",
       "    .dataframe tbody tr th {\n",
       "        vertical-align: top;\n",
       "    }\n",
       "\n",
       "    .dataframe thead th {\n",
       "        text-align: right;\n",
       "    }\n",
       "</style>\n",
       "<table border=\"1\" class=\"dataframe\">\n",
       "  <thead>\n",
       "    <tr style=\"text-align: right;\">\n",
       "      <th>RelationshipSatisfaction</th>\n",
       "      <th>1</th>\n",
       "      <th>2</th>\n",
       "      <th>3</th>\n",
       "      <th>4</th>\n",
       "    </tr>\n",
       "    <tr>\n",
       "      <th>Attrition</th>\n",
       "      <th></th>\n",
       "      <th></th>\n",
       "      <th></th>\n",
       "      <th></th>\n",
       "    </tr>\n",
       "  </thead>\n",
       "  <tbody>\n",
       "    <tr>\n",
       "      <th>Current employee</th>\n",
       "      <td>0.826188</td>\n",
       "      <td>0.86896</td>\n",
       "      <td>0.834408</td>\n",
       "      <td>0.845394</td>\n",
       "    </tr>\n",
       "    <tr>\n",
       "      <th>Voluntary Resignation</th>\n",
       "      <td>0.173812</td>\n",
       "      <td>0.13104</td>\n",
       "      <td>0.165592</td>\n",
       "      <td>0.154606</td>\n",
       "    </tr>\n",
       "  </tbody>\n",
       "</table>\n",
       "</div>"
      ],
      "text/plain": [
       "RelationshipSatisfaction         1        2         3         4\n",
       "Attrition                                                      \n",
       "Current employee          0.826188  0.86896  0.834408  0.845394\n",
       "Voluntary Resignation     0.173812  0.13104  0.165592  0.154606"
      ]
     },
     "execution_count": 45,
     "metadata": {},
     "output_type": "execute_result"
    }
   ],
   "source": [
    "RelationshipSatisfaction = pd.crosstab(dados.Attrition,dados.RelationshipSatisfaction)\n",
    "RelationshipSatisfaction/RelationshipSatisfaction.agg(sum)"
   ]
  },
  {
   "cell_type": "markdown",
   "metadata": {},
   "source": [
    "**Não há uma diferença expressiva quando comparamos o pedido de demissão com o nível de satisfação no relacionamento pessoal, porém observamos um ligeiro aumento quando o nível de satisfação está muito baixo**"
   ]
  },
  {
   "cell_type": "markdown",
   "metadata": {},
   "source": [
    "### StockOptionLevel"
   ]
  },
  {
   "cell_type": "code",
   "execution_count": 46,
   "metadata": {},
   "outputs": [
    {
     "data": {
      "text/html": [
       "<div>\n",
       "<style scoped>\n",
       "    .dataframe tbody tr th:only-of-type {\n",
       "        vertical-align: middle;\n",
       "    }\n",
       "\n",
       "    .dataframe tbody tr th {\n",
       "        vertical-align: top;\n",
       "    }\n",
       "\n",
       "    .dataframe thead th {\n",
       "        text-align: right;\n",
       "    }\n",
       "</style>\n",
       "<table border=\"1\" class=\"dataframe\">\n",
       "  <thead>\n",
       "    <tr style=\"text-align: right;\">\n",
       "      <th>StockOptionLevel</th>\n",
       "      <th>0</th>\n",
       "      <th>1</th>\n",
       "      <th>2</th>\n",
       "      <th>3</th>\n",
       "    </tr>\n",
       "    <tr>\n",
       "      <th>Attrition</th>\n",
       "      <th></th>\n",
       "      <th></th>\n",
       "      <th></th>\n",
       "      <th></th>\n",
       "    </tr>\n",
       "  </thead>\n",
       "  <tbody>\n",
       "    <tr>\n",
       "      <th>Current employee</th>\n",
       "      <td>0.785874</td>\n",
       "      <td>0.891854</td>\n",
       "      <td>0.889067</td>\n",
       "      <td>0.839909</td>\n",
       "    </tr>\n",
       "    <tr>\n",
       "      <th>Voluntary Resignation</th>\n",
       "      <td>0.214126</td>\n",
       "      <td>0.108146</td>\n",
       "      <td>0.110933</td>\n",
       "      <td>0.160091</td>\n",
       "    </tr>\n",
       "  </tbody>\n",
       "</table>\n",
       "</div>"
      ],
      "text/plain": [
       "StockOptionLevel              0         1         2         3\n",
       "Attrition                                                    \n",
       "Current employee       0.785874  0.891854  0.889067  0.839909\n",
       "Voluntary Resignation  0.214126  0.108146  0.110933  0.160091"
      ]
     },
     "execution_count": 46,
     "metadata": {},
     "output_type": "execute_result"
    }
   ],
   "source": [
    "StockOptionLevel = pd.crosstab(dados.Attrition,dados.StockOptionLevel)\n",
    "StockOptionLevel/StockOptionLevel.agg(sum)"
   ]
  },
  {
   "cell_type": "markdown",
   "metadata": {},
   "source": [
    "**Fica claro que quando o funcionário não tem participações na empresa ele tem maior probabilidade de pedir demissão, normalmente a participação na empresa é dada para funcionários antigos como bonus por completar ciclos dentro da empresa**"
   ]
  },
  {
   "cell_type": "markdown",
   "metadata": {},
   "source": [
    "### WorkLifeBalance"
   ]
  },
  {
   "cell_type": "code",
   "execution_count": 47,
   "metadata": {},
   "outputs": [
    {
     "data": {
      "text/html": [
       "<div>\n",
       "<style scoped>\n",
       "    .dataframe tbody tr th:only-of-type {\n",
       "        vertical-align: middle;\n",
       "    }\n",
       "\n",
       "    .dataframe tbody tr th {\n",
       "        vertical-align: top;\n",
       "    }\n",
       "\n",
       "    .dataframe thead th {\n",
       "        text-align: right;\n",
       "    }\n",
       "</style>\n",
       "<table border=\"1\" class=\"dataframe\">\n",
       "  <thead>\n",
       "    <tr style=\"text-align: right;\">\n",
       "      <th>WorkLifeBalance</th>\n",
       "      <th>1</th>\n",
       "      <th>2</th>\n",
       "      <th>3</th>\n",
       "      <th>4</th>\n",
       "    </tr>\n",
       "    <tr>\n",
       "      <th>Attrition</th>\n",
       "      <th></th>\n",
       "      <th></th>\n",
       "      <th></th>\n",
       "      <th></th>\n",
       "    </tr>\n",
       "  </thead>\n",
       "  <tbody>\n",
       "    <tr>\n",
       "      <th>Current employee</th>\n",
       "      <td>0.803984</td>\n",
       "      <td>0.839149</td>\n",
       "      <td>0.846203</td>\n",
       "      <td>0.855653</td>\n",
       "    </tr>\n",
       "    <tr>\n",
       "      <th>Voluntary Resignation</th>\n",
       "      <td>0.196016</td>\n",
       "      <td>0.160851</td>\n",
       "      <td>0.153797</td>\n",
       "      <td>0.144347</td>\n",
       "    </tr>\n",
       "  </tbody>\n",
       "</table>\n",
       "</div>"
      ],
      "text/plain": [
       "WorkLifeBalance               1         2         3         4\n",
       "Attrition                                                    \n",
       "Current employee       0.803984  0.839149  0.846203  0.855653\n",
       "Voluntary Resignation  0.196016  0.160851  0.153797  0.144347"
      ]
     },
     "execution_count": 47,
     "metadata": {},
     "output_type": "execute_result"
    }
   ],
   "source": [
    "WorkLifeBalance = pd.crosstab(dados.Attrition,dados.WorkLifeBalance)\n",
    "WorkLifeBalance/WorkLifeBalance.agg(sum)"
   ]
  },
  {
   "cell_type": "markdown",
   "metadata": {},
   "source": [
    "**Quando o funcionário não tem equilíbrio entre a vida pessoal e profissional ele fica mais propicio a pedir demissão, fica claro que funcionário insatisfeito não tem uma vida longa na empresa**"
   ]
  },
  {
   "cell_type": "markdown",
   "metadata": {},
   "source": [
    "### Employee Source"
   ]
  },
  {
   "cell_type": "code",
   "execution_count": 48,
   "metadata": {},
   "outputs": [
    {
     "data": {
      "text/html": [
       "<div>\n",
       "<style scoped>\n",
       "    .dataframe tbody tr th:only-of-type {\n",
       "        vertical-align: middle;\n",
       "    }\n",
       "\n",
       "    .dataframe tbody tr th {\n",
       "        vertical-align: top;\n",
       "    }\n",
       "\n",
       "    .dataframe thead th {\n",
       "        text-align: right;\n",
       "    }\n",
       "</style>\n",
       "<table border=\"1\" class=\"dataframe\">\n",
       "  <thead>\n",
       "    <tr style=\"text-align: right;\">\n",
       "      <th>Employee Source</th>\n",
       "      <th>Adzuna</th>\n",
       "      <th>Company Website</th>\n",
       "      <th>GlassDoor</th>\n",
       "      <th>Indeed</th>\n",
       "      <th>Jora</th>\n",
       "      <th>LinkedIn</th>\n",
       "      <th>Recruit.net</th>\n",
       "      <th>Referral</th>\n",
       "      <th>Seek</th>\n",
       "    </tr>\n",
       "    <tr>\n",
       "      <th>Attrition</th>\n",
       "      <th></th>\n",
       "      <th></th>\n",
       "      <th></th>\n",
       "      <th></th>\n",
       "      <th></th>\n",
       "      <th></th>\n",
       "      <th></th>\n",
       "      <th></th>\n",
       "      <th></th>\n",
       "    </tr>\n",
       "  </thead>\n",
       "  <tbody>\n",
       "    <tr>\n",
       "      <th>Current employee</th>\n",
       "      <td>0.856729</td>\n",
       "      <td>0.827021</td>\n",
       "      <td>0.849251</td>\n",
       "      <td>0.869866</td>\n",
       "      <td>0.816931</td>\n",
       "      <td>0.865737</td>\n",
       "      <td>0.853938</td>\n",
       "      <td>0.811736</td>\n",
       "      <td>0.837659</td>\n",
       "    </tr>\n",
       "    <tr>\n",
       "      <th>Voluntary Resignation</th>\n",
       "      <td>0.143271</td>\n",
       "      <td>0.172979</td>\n",
       "      <td>0.150749</td>\n",
       "      <td>0.130134</td>\n",
       "      <td>0.183069</td>\n",
       "      <td>0.134263</td>\n",
       "      <td>0.146062</td>\n",
       "      <td>0.188264</td>\n",
       "      <td>0.162341</td>\n",
       "    </tr>\n",
       "  </tbody>\n",
       "</table>\n",
       "</div>"
      ],
      "text/plain": [
       "Employee Source          Adzuna  Company Website  GlassDoor    Indeed  \\\n",
       "Attrition                                                               \n",
       "Current employee       0.856729         0.827021   0.849251  0.869866   \n",
       "Voluntary Resignation  0.143271         0.172979   0.150749  0.130134   \n",
       "\n",
       "Employee Source            Jora  LinkedIn  Recruit.net  Referral      Seek  \n",
       "Attrition                                                                   \n",
       "Current employee       0.816931  0.865737     0.853938  0.811736  0.837659  \n",
       "Voluntary Resignation  0.183069  0.134263     0.146062  0.188264  0.162341  "
      ]
     },
     "execution_count": 48,
     "metadata": {},
     "output_type": "execute_result"
    }
   ],
   "source": [
    "Employee_Source = pd.crosstab(dados.Attrition,dados['Employee Source'])\n",
    "Employee_Source/Employee_Source.agg(sum)"
   ]
  },
  {
   "cell_type": "markdown",
   "metadata": {},
   "source": [
    "**Os funcionários contratados através de Website, da plataforma de emprego Jora e por indicação, são os funcionários mais propensos a pedir demissão**"
   ]
  },
  {
   "cell_type": "markdown",
   "metadata": {},
   "source": [
    "## Variáveis mais relevantes depois da análise dos dados"
   ]
  },
  {
   "cell_type": "markdown",
   "metadata": {},
   "source": [
    "**-DistanceFromHome**\n",
    "\n",
    "**-MonthlyIncome**\n",
    "\n",
    "**-Department**\n",
    "\n",
    "**-Education**\n",
    "\n",
    "**-EducationField**\n",
    "\n",
    "**-EnvironmentSatisfaction**\n",
    "\n",
    "**-JobInvolvement**\n",
    "\n",
    "**-JobLevel**\n",
    "\n",
    "**-JobRole**\n",
    "\n",
    "**-JobSatisfaction**\n",
    "\n",
    "**-MaritalStatus**\n",
    "\n",
    "**-NumCompaniesWorked**\n",
    "\n",
    "**-OverTime**\n",
    "\n",
    "**-StockOptionLevel**\n",
    "\n",
    "**-WorkLifeBalance**\n"
   ]
  },
  {
   "cell_type": "markdown",
   "metadata": {},
   "source": [
    "**Nosso Primeiro objetivo é ajudar o RH a contratar melhor os funcionário para a empresa, portanto iremos remover as variáveis que depende do funcionário já estar empregado: Variáveis que serão removidas:'EnvironmentSatisfaction', 'JobInvolvement', 'JobSatisfaction',  'OverTime', 'StockOptionLevel' e 'WorkLifeBalance'**"
   ]
  },
  {
   "cell_type": "code",
   "execution_count": 49,
   "metadata": {},
   "outputs": [
    {
     "data": {
      "text/html": [
       "<div>\n",
       "<style scoped>\n",
       "    .dataframe tbody tr th:only-of-type {\n",
       "        vertical-align: middle;\n",
       "    }\n",
       "\n",
       "    .dataframe tbody tr th {\n",
       "        vertical-align: top;\n",
       "    }\n",
       "\n",
       "    .dataframe thead th {\n",
       "        text-align: right;\n",
       "    }\n",
       "</style>\n",
       "<table border=\"1\" class=\"dataframe\">\n",
       "  <thead>\n",
       "    <tr style=\"text-align: right;\">\n",
       "      <th></th>\n",
       "      <th>Department</th>\n",
       "      <th>Education</th>\n",
       "      <th>EducationField</th>\n",
       "      <th>JobLevel</th>\n",
       "      <th>JobRole</th>\n",
       "      <th>MaritalStatus</th>\n",
       "      <th>NumCompaniesWorked</th>\n",
       "      <th>MonthlyIncome</th>\n",
       "      <th>DistanceFromHome</th>\n",
       "    </tr>\n",
       "  </thead>\n",
       "  <tbody>\n",
       "    <tr>\n",
       "      <th>0</th>\n",
       "      <td>Sales</td>\n",
       "      <td>2</td>\n",
       "      <td>Life Sciences</td>\n",
       "      <td>2</td>\n",
       "      <td>Sales Executive</td>\n",
       "      <td>Single</td>\n",
       "      <td>8</td>\n",
       "      <td>5993</td>\n",
       "      <td>1</td>\n",
       "    </tr>\n",
       "    <tr>\n",
       "      <th>1</th>\n",
       "      <td>Human Resources</td>\n",
       "      <td>4</td>\n",
       "      <td>Human Resources</td>\n",
       "      <td>2</td>\n",
       "      <td>Sales Executive</td>\n",
       "      <td>Single</td>\n",
       "      <td>8</td>\n",
       "      <td>5993</td>\n",
       "      <td>6</td>\n",
       "    </tr>\n",
       "  </tbody>\n",
       "</table>\n",
       "</div>"
      ],
      "text/plain": [
       "        Department  Education   EducationField  JobLevel          JobRole  \\\n",
       "0            Sales          2    Life Sciences         2  Sales Executive   \n",
       "1  Human Resources          4  Human Resources         2  Sales Executive   \n",
       "\n",
       "  MaritalStatus  NumCompaniesWorked  MonthlyIncome  DistanceFromHome  \n",
       "0        Single                   8           5993                 1  \n",
       "1        Single                   8           5993                 6  "
      ]
     },
     "execution_count": 49,
     "metadata": {},
     "output_type": "execute_result"
    }
   ],
   "source": [
    "#Variáveis que serão usadas para modelagem:\n",
    "var_rh = dados[['Department','Education','EducationField','JobLevel','JobRole','MaritalStatus','NumCompaniesWorked',\n",
    "               'MonthlyIncome','DistanceFromHome']]\n",
    "var_rh.head(2)"
   ]
  },
  {
   "cell_type": "markdown",
   "metadata": {},
   "source": [
    "**Variáveis identificadas como relevantes para o processo seletivo de contratação para companhia**"
   ]
  },
  {
   "cell_type": "code",
   "execution_count": 50,
   "metadata": {},
   "outputs": [
    {
     "name": "stdout",
     "output_type": "stream",
     "text": [
      "<class 'pandas.core.frame.DataFrame'>\n",
      "Int64Index: 22971 entries, 0 to 23057\n",
      "Data columns (total 9 columns):\n",
      " #   Column              Non-Null Count  Dtype \n",
      "---  ------              --------------  ----- \n",
      " 0   Department          22971 non-null  object\n",
      " 1   Education           22971 non-null  int64 \n",
      " 2   EducationField      22971 non-null  object\n",
      " 3   JobLevel            22971 non-null  int64 \n",
      " 4   JobRole             22971 non-null  object\n",
      " 5   MaritalStatus       22971 non-null  object\n",
      " 6   NumCompaniesWorked  22971 non-null  int64 \n",
      " 7   MonthlyIncome       22971 non-null  int64 \n",
      " 8   DistanceFromHome    22971 non-null  int64 \n",
      "dtypes: int64(5), object(4)\n",
      "memory usage: 1.8+ MB\n"
     ]
    }
   ],
   "source": [
    "#Verificar os tipos de variaveis\n",
    "var_rh.info()"
   ]
  },
  {
   "cell_type": "markdown",
   "metadata": {},
   "source": [
    "**Temos 4 variáveis categóricas e 5 numéricas**"
   ]
  },
  {
   "cell_type": "code",
   "execution_count": 51,
   "metadata": {},
   "outputs": [
    {
     "data": {
      "text/html": [
       "<div>\n",
       "<style scoped>\n",
       "    .dataframe tbody tr th:only-of-type {\n",
       "        vertical-align: middle;\n",
       "    }\n",
       "\n",
       "    .dataframe tbody tr th {\n",
       "        vertical-align: top;\n",
       "    }\n",
       "\n",
       "    .dataframe thead th {\n",
       "        text-align: right;\n",
       "    }\n",
       "</style>\n",
       "<table border=\"1\" class=\"dataframe\">\n",
       "  <thead>\n",
       "    <tr style=\"text-align: right;\">\n",
       "      <th></th>\n",
       "      <th>Education</th>\n",
       "      <th>JobLevel</th>\n",
       "      <th>NumCompaniesWorked</th>\n",
       "      <th>MonthlyIncome</th>\n",
       "      <th>DistanceFromHome</th>\n",
       "      <th>Department_Research &amp; Development</th>\n",
       "      <th>Department_Sales</th>\n",
       "      <th>EducationField_Life Sciences</th>\n",
       "      <th>EducationField_Marketing</th>\n",
       "      <th>EducationField_Medical</th>\n",
       "      <th>...</th>\n",
       "      <th>JobRole_Human Resources</th>\n",
       "      <th>JobRole_Laboratory Technician</th>\n",
       "      <th>JobRole_Manager</th>\n",
       "      <th>JobRole_Manufacturing Director</th>\n",
       "      <th>JobRole_Research Director</th>\n",
       "      <th>JobRole_Research Scientist</th>\n",
       "      <th>JobRole_Sales Executive</th>\n",
       "      <th>JobRole_Sales Representative</th>\n",
       "      <th>MaritalStatus_Married</th>\n",
       "      <th>MaritalStatus_Single</th>\n",
       "    </tr>\n",
       "  </thead>\n",
       "  <tbody>\n",
       "    <tr>\n",
       "      <th>0</th>\n",
       "      <td>2</td>\n",
       "      <td>2</td>\n",
       "      <td>8</td>\n",
       "      <td>5993</td>\n",
       "      <td>1</td>\n",
       "      <td>0</td>\n",
       "      <td>1</td>\n",
       "      <td>1</td>\n",
       "      <td>0</td>\n",
       "      <td>0</td>\n",
       "      <td>...</td>\n",
       "      <td>0</td>\n",
       "      <td>0</td>\n",
       "      <td>0</td>\n",
       "      <td>0</td>\n",
       "      <td>0</td>\n",
       "      <td>0</td>\n",
       "      <td>1</td>\n",
       "      <td>0</td>\n",
       "      <td>0</td>\n",
       "      <td>1</td>\n",
       "    </tr>\n",
       "    <tr>\n",
       "      <th>1</th>\n",
       "      <td>4</td>\n",
       "      <td>2</td>\n",
       "      <td>8</td>\n",
       "      <td>5993</td>\n",
       "      <td>6</td>\n",
       "      <td>0</td>\n",
       "      <td>0</td>\n",
       "      <td>0</td>\n",
       "      <td>0</td>\n",
       "      <td>0</td>\n",
       "      <td>...</td>\n",
       "      <td>0</td>\n",
       "      <td>0</td>\n",
       "      <td>0</td>\n",
       "      <td>0</td>\n",
       "      <td>0</td>\n",
       "      <td>0</td>\n",
       "      <td>1</td>\n",
       "      <td>0</td>\n",
       "      <td>0</td>\n",
       "      <td>1</td>\n",
       "    </tr>\n",
       "    <tr>\n",
       "      <th>2</th>\n",
       "      <td>2</td>\n",
       "      <td>2</td>\n",
       "      <td>4</td>\n",
       "      <td>5993</td>\n",
       "      <td>1</td>\n",
       "      <td>0</td>\n",
       "      <td>1</td>\n",
       "      <td>1</td>\n",
       "      <td>0</td>\n",
       "      <td>0</td>\n",
       "      <td>...</td>\n",
       "      <td>0</td>\n",
       "      <td>0</td>\n",
       "      <td>0</td>\n",
       "      <td>0</td>\n",
       "      <td>0</td>\n",
       "      <td>0</td>\n",
       "      <td>1</td>\n",
       "      <td>0</td>\n",
       "      <td>0</td>\n",
       "      <td>1</td>\n",
       "    </tr>\n",
       "  </tbody>\n",
       "</table>\n",
       "<p>3 rows × 22 columns</p>\n",
       "</div>"
      ],
      "text/plain": [
       "   Education  JobLevel  NumCompaniesWorked  MonthlyIncome  DistanceFromHome  \\\n",
       "0          2         2                   8           5993                 1   \n",
       "1          4         2                   8           5993                 6   \n",
       "2          2         2                   4           5993                 1   \n",
       "\n",
       "   Department_Research & Development  Department_Sales  \\\n",
       "0                                  0                 1   \n",
       "1                                  0                 0   \n",
       "2                                  0                 1   \n",
       "\n",
       "   EducationField_Life Sciences  EducationField_Marketing  \\\n",
       "0                             1                         0   \n",
       "1                             0                         0   \n",
       "2                             1                         0   \n",
       "\n",
       "   EducationField_Medical  ...  JobRole_Human Resources  \\\n",
       "0                       0  ...                        0   \n",
       "1                       0  ...                        0   \n",
       "2                       0  ...                        0   \n",
       "\n",
       "   JobRole_Laboratory Technician  JobRole_Manager  \\\n",
       "0                              0                0   \n",
       "1                              0                0   \n",
       "2                              0                0   \n",
       "\n",
       "   JobRole_Manufacturing Director  JobRole_Research Director  \\\n",
       "0                               0                          0   \n",
       "1                               0                          0   \n",
       "2                               0                          0   \n",
       "\n",
       "   JobRole_Research Scientist  JobRole_Sales Executive  \\\n",
       "0                           0                        1   \n",
       "1                           0                        1   \n",
       "2                           0                        1   \n",
       "\n",
       "   JobRole_Sales Representative  MaritalStatus_Married  MaritalStatus_Single  \n",
       "0                             0                      0                     1  \n",
       "1                             0                      0                     1  \n",
       "2                             0                      0                     1  \n",
       "\n",
       "[3 rows x 22 columns]"
      ]
     },
     "execution_count": 51,
     "metadata": {},
     "output_type": "execute_result"
    }
   ],
   "source": [
    "#Transformando as variáveis categoricas em One-Hot-Encoding\n",
    "var_rh = pd.get_dummies(var_rh,prefix=['Department'], columns = ['Department'],drop_first=True)\n",
    "var_rh = pd.get_dummies(var_rh,prefix=['EducationField'], columns = ['EducationField'],drop_first=True)\n",
    "var_rh = pd.get_dummies(var_rh,prefix=['JobRole'], columns = ['JobRole'],drop_first=True)\n",
    "var_rh = pd.get_dummies(var_rh,prefix=['MaritalStatus'], columns = ['MaritalStatus'],drop_first=True)\n",
    "var_rh.head(3)"
   ]
  },
  {
   "cell_type": "markdown",
   "metadata": {},
   "source": [
    "**Para não cometer ponderação arbitraria, transformamos as variáveis categóricas em variáveis dummys**"
   ]
  },
  {
   "cell_type": "code",
   "execution_count": 52,
   "metadata": {},
   "outputs": [
    {
     "name": "stdout",
     "output_type": "stream",
     "text": [
      "<class 'pandas.core.frame.DataFrame'>\n",
      "Int64Index: 22971 entries, 0 to 23057\n",
      "Data columns (total 22 columns):\n",
      " #   Column                             Non-Null Count  Dtype\n",
      "---  ------                             --------------  -----\n",
      " 0   Education                          22971 non-null  int64\n",
      " 1   JobLevel                           22971 non-null  int64\n",
      " 2   NumCompaniesWorked                 22971 non-null  int64\n",
      " 3   MonthlyIncome                      22971 non-null  int64\n",
      " 4   DistanceFromHome                   22971 non-null  int64\n",
      " 5   Department_Research & Development  22971 non-null  uint8\n",
      " 6   Department_Sales                   22971 non-null  uint8\n",
      " 7   EducationField_Life Sciences       22971 non-null  uint8\n",
      " 8   EducationField_Marketing           22971 non-null  uint8\n",
      " 9   EducationField_Medical             22971 non-null  uint8\n",
      " 10  EducationField_Other               22971 non-null  uint8\n",
      " 11  EducationField_Technical Degree    22971 non-null  uint8\n",
      " 12  JobRole_Human Resources            22971 non-null  uint8\n",
      " 13  JobRole_Laboratory Technician      22971 non-null  uint8\n",
      " 14  JobRole_Manager                    22971 non-null  uint8\n",
      " 15  JobRole_Manufacturing Director     22971 non-null  uint8\n",
      " 16  JobRole_Research Director          22971 non-null  uint8\n",
      " 17  JobRole_Research Scientist         22971 non-null  uint8\n",
      " 18  JobRole_Sales Executive            22971 non-null  uint8\n",
      " 19  JobRole_Sales Representative       22971 non-null  uint8\n",
      " 20  MaritalStatus_Married              22971 non-null  uint8\n",
      " 21  MaritalStatus_Single               22971 non-null  uint8\n",
      "dtypes: int64(5), uint8(17)\n",
      "memory usage: 1.4 MB\n"
     ]
    }
   ],
   "source": [
    "#Verificar os tipos de variaveis\n",
    "var_rh.info()"
   ]
  },
  {
   "cell_type": "markdown",
   "metadata": {},
   "source": [
    "**Agora todas as colunas são numericas**"
   ]
  },
  {
   "cell_type": "markdown",
   "metadata": {},
   "source": [
    "# Modelagem 1 - Regressão Logistica"
   ]
  },
  {
   "cell_type": "code",
   "execution_count": 53,
   "metadata": {},
   "outputs": [
    {
     "data": {
      "text/plain": [
       "array([1, 0])"
      ]
     },
     "execution_count": 53,
     "metadata": {},
     "output_type": "execute_result"
    }
   ],
   "source": [
    "#Transformar a variável target em valores 0 e 1\n",
    "data.loc[data.Attrition == 2, 'Attrition'] = 1\n",
    "data.Attrition.unique()"
   ]
  },
  {
   "cell_type": "code",
   "execution_count": 54,
   "metadata": {},
   "outputs": [],
   "source": [
    "#Separando as variáveis em X e Y para modelagem\n",
    "x = var_rh\n",
    "y = data.Attrition\n"
   ]
  },
  {
   "cell_type": "code",
   "execution_count": 55,
   "metadata": {},
   "outputs": [],
   "source": [
    "#Separar as variaveis em treino e teste\n",
    "from sklearn.model_selection import train_test_split\n",
    "X_treino,X_teste,Y_treino,Y_teste=train_test_split(x,y,test_size=0.3,random_state=1)"
   ]
  },
  {
   "cell_type": "code",
   "execution_count": 56,
   "metadata": {},
   "outputs": [
    {
     "name": "stdout",
     "output_type": "stream",
     "text": [
      "Optimization terminated successfully.\n",
      "         Current function value: 0.403955\n",
      "         Iterations 7\n"
     ]
    },
    {
     "data": {
      "text/html": [
       "<table class=\"simpletable\">\n",
       "<caption>Logit Regression Results</caption>\n",
       "<tr>\n",
       "  <th>Dep. Variable:</th>       <td>Attrition</td>    <th>  No. Observations:  </th>   <td> 16079</td>  \n",
       "</tr>\n",
       "<tr>\n",
       "  <th>Model:</th>                 <td>Logit</td>      <th>  Df Residuals:      </th>   <td> 16056</td>  \n",
       "</tr>\n",
       "<tr>\n",
       "  <th>Method:</th>                 <td>MLE</td>       <th>  Df Model:          </th>   <td>    22</td>  \n",
       "</tr>\n",
       "<tr>\n",
       "  <th>Date:</th>            <td>Wed, 08 Jun 2022</td> <th>  Pseudo R-squ.:     </th>   <td>0.05140</td> \n",
       "</tr>\n",
       "<tr>\n",
       "  <th>Time:</th>                <td>10:51:14</td>     <th>  Log-Likelihood:    </th>  <td> -6495.2</td> \n",
       "</tr>\n",
       "<tr>\n",
       "  <th>converged:</th>             <td>True</td>       <th>  LL-Null:           </th>  <td> -6847.1</td> \n",
       "</tr>\n",
       "<tr>\n",
       "  <th>Covariance Type:</th>     <td>nonrobust</td>    <th>  LLR p-value:       </th> <td>1.217e-134</td>\n",
       "</tr>\n",
       "</table>\n",
       "<table class=\"simpletable\">\n",
       "<tr>\n",
       "                  <td></td>                     <th>coef</th>     <th>std err</th>      <th>z</th>      <th>P>|z|</th>  <th>[0.025</th>    <th>0.975]</th>  \n",
       "</tr>\n",
       "<tr>\n",
       "  <th>const</th>                             <td>   -1.8120</td> <td>    0.238</td> <td>   -7.623</td> <td> 0.000</td> <td>   -2.278</td> <td>   -1.346</td>\n",
       "</tr>\n",
       "<tr>\n",
       "  <th>Education</th>                         <td>   -0.0878</td> <td>    0.022</td> <td>   -3.997</td> <td> 0.000</td> <td>   -0.131</td> <td>   -0.045</td>\n",
       "</tr>\n",
       "<tr>\n",
       "  <th>JobLevel</th>                          <td>   -0.1706</td> <td>    0.069</td> <td>   -2.478</td> <td> 0.013</td> <td>   -0.306</td> <td>   -0.036</td>\n",
       "</tr>\n",
       "<tr>\n",
       "  <th>NumCompaniesWorked</th>                <td>    0.0321</td> <td>    0.010</td> <td>    3.349</td> <td> 0.001</td> <td>    0.013</td> <td>    0.051</td>\n",
       "</tr>\n",
       "<tr>\n",
       "  <th>MonthlyIncome</th>                     <td> 1.217e-05</td> <td> 1.85e-05</td> <td>    0.659</td> <td> 0.510</td> <td> -2.4e-05</td> <td> 4.84e-05</td>\n",
       "</tr>\n",
       "<tr>\n",
       "  <th>DistanceFromHome</th>                  <td>    0.0187</td> <td>    0.003</td> <td>    6.163</td> <td> 0.000</td> <td>    0.013</td> <td>    0.025</td>\n",
       "</tr>\n",
       "<tr>\n",
       "  <th>Department_Research & Development</th> <td>   -0.2817</td> <td>    0.129</td> <td>   -2.182</td> <td> 0.029</td> <td>   -0.535</td> <td>   -0.029</td>\n",
       "</tr>\n",
       "<tr>\n",
       "  <th>Department_Sales</th>                  <td>    0.1534</td> <td>    0.133</td> <td>    1.152</td> <td> 0.249</td> <td>   -0.108</td> <td>    0.414</td>\n",
       "</tr>\n",
       "<tr>\n",
       "  <th>EducationField_Life Sciences</th>      <td>   -0.2005</td> <td>    0.174</td> <td>   -1.151</td> <td> 0.250</td> <td>   -0.542</td> <td>    0.141</td>\n",
       "</tr>\n",
       "<tr>\n",
       "  <th>EducationField_Marketing</th>          <td>   -0.1150</td> <td>    0.185</td> <td>   -0.622</td> <td> 0.534</td> <td>   -0.477</td> <td>    0.247</td>\n",
       "</tr>\n",
       "<tr>\n",
       "  <th>EducationField_Medical</th>            <td>   -0.1748</td> <td>    0.176</td> <td>   -0.994</td> <td> 0.320</td> <td>   -0.519</td> <td>    0.170</td>\n",
       "</tr>\n",
       "<tr>\n",
       "  <th>EducationField_Other</th>              <td>   -0.2445</td> <td>    0.197</td> <td>   -1.239</td> <td> 0.215</td> <td>   -0.631</td> <td>    0.142</td>\n",
       "</tr>\n",
       "<tr>\n",
       "  <th>EducationField_Technical Degree</th>   <td>    0.1626</td> <td>    0.187</td> <td>    0.870</td> <td> 0.385</td> <td>   -0.204</td> <td>    0.529</td>\n",
       "</tr>\n",
       "<tr>\n",
       "  <th>JobRole_Human Resources</th>           <td>    0.2467</td> <td>    0.164</td> <td>    1.501</td> <td> 0.133</td> <td>   -0.075</td> <td>    0.569</td>\n",
       "</tr>\n",
       "<tr>\n",
       "  <th>JobRole_Laboratory Technician</th>     <td>    0.4390</td> <td>    0.114</td> <td>    3.850</td> <td> 0.000</td> <td>    0.216</td> <td>    0.662</td>\n",
       "</tr>\n",
       "<tr>\n",
       "  <th>JobRole_Manager</th>                   <td>   -0.2368</td> <td>    0.184</td> <td>   -1.288</td> <td> 0.198</td> <td>   -0.597</td> <td>    0.124</td>\n",
       "</tr>\n",
       "<tr>\n",
       "  <th>JobRole_Manufacturing Director</th>    <td>    0.1429</td> <td>    0.116</td> <td>    1.227</td> <td> 0.220</td> <td>   -0.085</td> <td>    0.371</td>\n",
       "</tr>\n",
       "<tr>\n",
       "  <th>JobRole_Research Director</th>         <td>    0.0548</td> <td>    0.179</td> <td>    0.305</td> <td> 0.760</td> <td>   -0.297</td> <td>    0.406</td>\n",
       "</tr>\n",
       "<tr>\n",
       "  <th>JobRole_Research Scientist</th>        <td>    0.2342</td> <td>    0.115</td> <td>    2.036</td> <td> 0.042</td> <td>    0.009</td> <td>    0.460</td>\n",
       "</tr>\n",
       "<tr>\n",
       "  <th>JobRole_Sales Executive</th>           <td>    0.1710</td> <td>    0.105</td> <td>    1.621</td> <td> 0.105</td> <td>   -0.036</td> <td>    0.378</td>\n",
       "</tr>\n",
       "<tr>\n",
       "  <th>JobRole_Sales Representative</th>      <td>    0.6892</td> <td>    0.137</td> <td>    5.017</td> <td> 0.000</td> <td>    0.420</td> <td>    0.958</td>\n",
       "</tr>\n",
       "<tr>\n",
       "  <th>MaritalStatus_Married</th>             <td>    0.1550</td> <td>    0.065</td> <td>    2.385</td> <td> 0.017</td> <td>    0.028</td> <td>    0.282</td>\n",
       "</tr>\n",
       "<tr>\n",
       "  <th>MaritalStatus_Single</th>              <td>    0.7876</td> <td>    0.065</td> <td>   12.193</td> <td> 0.000</td> <td>    0.661</td> <td>    0.914</td>\n",
       "</tr>\n",
       "</table>"
      ],
      "text/plain": [
       "<class 'statsmodels.iolib.summary.Summary'>\n",
       "\"\"\"\n",
       "                           Logit Regression Results                           \n",
       "==============================================================================\n",
       "Dep. Variable:              Attrition   No. Observations:                16079\n",
       "Model:                          Logit   Df Residuals:                    16056\n",
       "Method:                           MLE   Df Model:                           22\n",
       "Date:                Wed, 08 Jun 2022   Pseudo R-squ.:                 0.05140\n",
       "Time:                        10:51:14   Log-Likelihood:                -6495.2\n",
       "converged:                       True   LL-Null:                       -6847.1\n",
       "Covariance Type:            nonrobust   LLR p-value:                1.217e-134\n",
       "=====================================================================================================\n",
       "                                        coef    std err          z      P>|z|      [0.025      0.975]\n",
       "-----------------------------------------------------------------------------------------------------\n",
       "const                                -1.8120      0.238     -7.623      0.000      -2.278      -1.346\n",
       "Education                            -0.0878      0.022     -3.997      0.000      -0.131      -0.045\n",
       "JobLevel                             -0.1706      0.069     -2.478      0.013      -0.306      -0.036\n",
       "NumCompaniesWorked                    0.0321      0.010      3.349      0.001       0.013       0.051\n",
       "MonthlyIncome                      1.217e-05   1.85e-05      0.659      0.510    -2.4e-05    4.84e-05\n",
       "DistanceFromHome                      0.0187      0.003      6.163      0.000       0.013       0.025\n",
       "Department_Research & Development    -0.2817      0.129     -2.182      0.029      -0.535      -0.029\n",
       "Department_Sales                      0.1534      0.133      1.152      0.249      -0.108       0.414\n",
       "EducationField_Life Sciences         -0.2005      0.174     -1.151      0.250      -0.542       0.141\n",
       "EducationField_Marketing             -0.1150      0.185     -0.622      0.534      -0.477       0.247\n",
       "EducationField_Medical               -0.1748      0.176     -0.994      0.320      -0.519       0.170\n",
       "EducationField_Other                 -0.2445      0.197     -1.239      0.215      -0.631       0.142\n",
       "EducationField_Technical Degree       0.1626      0.187      0.870      0.385      -0.204       0.529\n",
       "JobRole_Human Resources               0.2467      0.164      1.501      0.133      -0.075       0.569\n",
       "JobRole_Laboratory Technician         0.4390      0.114      3.850      0.000       0.216       0.662\n",
       "JobRole_Manager                      -0.2368      0.184     -1.288      0.198      -0.597       0.124\n",
       "JobRole_Manufacturing Director        0.1429      0.116      1.227      0.220      -0.085       0.371\n",
       "JobRole_Research Director             0.0548      0.179      0.305      0.760      -0.297       0.406\n",
       "JobRole_Research Scientist            0.2342      0.115      2.036      0.042       0.009       0.460\n",
       "JobRole_Sales Executive               0.1710      0.105      1.621      0.105      -0.036       0.378\n",
       "JobRole_Sales Representative          0.6892      0.137      5.017      0.000       0.420       0.958\n",
       "MaritalStatus_Married                 0.1550      0.065      2.385      0.017       0.028       0.282\n",
       "MaritalStatus_Single                  0.7876      0.065     12.193      0.000       0.661       0.914\n",
       "=====================================================================================================\n",
       "\"\"\""
      ]
     },
     "execution_count": 56,
     "metadata": {},
     "output_type": "execute_result"
    }
   ],
   "source": [
    "#Modelagem e treinamento\n",
    "import statsmodels.api as sm\n",
    "x_interc = sm.add_constant(X_treino) \n",
    "modelo = sm.Logit(Y_treino.astype(float),x_interc.astype(float)) \n",
    "modelo_fit = modelo.fit()\n",
    "modelo_fit.summary() "
   ]
  },
  {
   "cell_type": "markdown",
   "metadata": {},
   "source": [
    "**Note que metade das variáveis não passaram no teste de significância estatística, porém todas as variáveis que eram categóricas têm alguma de suas categorias relevantes, somente a variáveis Education não tem**"
   ]
  },
  {
   "cell_type": "markdown",
   "metadata": {},
   "source": [
    "**A variável numérica 'MonthlyIncome' também não se mostrou estatisticamente significante**"
   ]
  },
  {
   "cell_type": "code",
   "execution_count": 57,
   "metadata": {},
   "outputs": [
    {
     "data": {
      "text/plain": [
       "<AxesSubplot:>"
      ]
     },
     "execution_count": 57,
     "metadata": {},
     "output_type": "execute_result"
    },
    {
     "data": {
      "image/png": "[encoded data removed]",
      "text/plain": [
       "<Figure size 432x288 with 2 Axes>"
      ]
     },
     "metadata": {
      "needs_background": "light"
     },
     "output_type": "display_data"
    }
   ],
   "source": [
    "#Difinindo o threshold para gerar a matriz de confusão\n",
    "pred =pd.DataFrame(modelo_fit.predict(x_interc),columns=['Pred'])\n",
    "pred['y'] = Y_treino \n",
    "pred['Pred'] = np.where(pred.iloc[:,0] >=0.5 , 1, 0)\n",
    "\n",
    "#Matriz de confusão\n",
    "from sklearn.metrics import confusion_matrix\n",
    "cm = confusion_matrix(pred['y'],pred['Pred'])\n",
    "sns.heatmap(cm,annot=True,fmt='d')"
   ]
  },
  {
   "cell_type": "code",
   "execution_count": 58,
   "metadata": {},
   "outputs": [
    {
     "name": "stdout",
     "output_type": "stream",
     "text": [
      "Acuracia: 84.8%\n"
     ]
    }
   ],
   "source": [
    "#Acurácia\n",
    "from sklearn.metrics import accuracy_score\n",
    "acuracia = accuracy_score(pred['y'],pred['Pred'])\n",
    "print(f'Acuracia: {acuracia*100:.1f}%')"
   ]
  },
  {
   "cell_type": "markdown",
   "metadata": {},
   "source": [
    "**O modelo 1 é bom para prever os funcionários que permaneceram na empresa, porém não consegue prever quem pedirá demissão, isso pode ser explicado pelo desbalanceamento dos dados, para um melhor resultado o ideal é aplicar o balanceamento nos dados de treino**"
   ]
  },
  {
   "cell_type": "markdown",
   "metadata": {},
   "source": [
    "# Modelo 2 - Regressão Logistica"
   ]
  },
  {
   "cell_type": "markdown",
   "metadata": {},
   "source": [
    "### Vamos excluir as variáveis que não se mostraram significantes no modelo 1"
   ]
  },
  {
   "cell_type": "code",
   "execution_count": 59,
   "metadata": {},
   "outputs": [
    {
     "name": "stdout",
     "output_type": "stream",
     "text": [
      "Optimization terminated successfully.\n",
      "         Current function value: 0.404679\n",
      "         Iterations 7\n"
     ]
    },
    {
     "data": {
      "text/html": [
       "<table class=\"simpletable\">\n",
       "<caption>Logit Regression Results</caption>\n",
       "<tr>\n",
       "  <th>Dep. Variable:</th>       <td>Attrition</td>    <th>  No. Observations:  </th>   <td> 16079</td>  \n",
       "</tr>\n",
       "<tr>\n",
       "  <th>Model:</th>                 <td>Logit</td>      <th>  Df Residuals:      </th>   <td> 16062</td>  \n",
       "</tr>\n",
       "<tr>\n",
       "  <th>Method:</th>                 <td>MLE</td>       <th>  Df Model:          </th>   <td>    16</td>  \n",
       "</tr>\n",
       "<tr>\n",
       "  <th>Date:</th>            <td>Wed, 08 Jun 2022</td> <th>  Pseudo R-squ.:     </th>   <td>0.04969</td> \n",
       "</tr>\n",
       "<tr>\n",
       "  <th>Time:</th>                <td>10:51:14</td>     <th>  Log-Likelihood:    </th>  <td> -6506.8</td> \n",
       "</tr>\n",
       "<tr>\n",
       "  <th>converged:</th>             <td>True</td>       <th>  LL-Null:           </th>  <td> -6847.1</td> \n",
       "</tr>\n",
       "<tr>\n",
       "  <th>Covariance Type:</th>     <td>nonrobust</td>    <th>  LLR p-value:       </th> <td>1.796e-134</td>\n",
       "</tr>\n",
       "</table>\n",
       "<table class=\"simpletable\">\n",
       "<tr>\n",
       "                  <td></td>                     <th>coef</th>     <th>std err</th>      <th>z</th>      <th>P>|z|</th>  <th>[0.025</th>    <th>0.975]</th>  \n",
       "</tr>\n",
       "<tr>\n",
       "  <th>const</th>                             <td>   -1.9599</td> <td>    0.200</td> <td>   -9.800</td> <td> 0.000</td> <td>   -2.352</td> <td>   -1.568</td>\n",
       "</tr>\n",
       "<tr>\n",
       "  <th>Education</th>                         <td>   -0.0897</td> <td>    0.022</td> <td>   -4.095</td> <td> 0.000</td> <td>   -0.133</td> <td>   -0.047</td>\n",
       "</tr>\n",
       "<tr>\n",
       "  <th>JobLevel</th>                          <td>   -0.1325</td> <td>    0.044</td> <td>   -3.040</td> <td> 0.002</td> <td>   -0.218</td> <td>   -0.047</td>\n",
       "</tr>\n",
       "<tr>\n",
       "  <th>NumCompaniesWorked</th>                <td>    0.0320</td> <td>    0.010</td> <td>    3.357</td> <td> 0.001</td> <td>    0.013</td> <td>    0.051</td>\n",
       "</tr>\n",
       "<tr>\n",
       "  <th>DistanceFromHome</th>                  <td>    0.0230</td> <td>    0.003</td> <td>    8.638</td> <td> 0.000</td> <td>    0.018</td> <td>    0.028</td>\n",
       "</tr>\n",
       "<tr>\n",
       "  <th>Department_Research & Development</th> <td>   -0.3232</td> <td>    0.123</td> <td>   -2.636</td> <td> 0.008</td> <td>   -0.563</td> <td>   -0.083</td>\n",
       "</tr>\n",
       "<tr>\n",
       "  <th>Department_Sales</th>                  <td>    0.1199</td> <td>    0.126</td> <td>    0.950</td> <td> 0.342</td> <td>   -0.127</td> <td>    0.367</td>\n",
       "</tr>\n",
       "<tr>\n",
       "  <th>JobRole_Human Resources</th>           <td>    0.2317</td> <td>    0.164</td> <td>    1.413</td> <td> 0.158</td> <td>   -0.090</td> <td>    0.553</td>\n",
       "</tr>\n",
       "<tr>\n",
       "  <th>JobRole_Laboratory Technician</th>     <td>    0.4300</td> <td>    0.113</td> <td>    3.808</td> <td> 0.000</td> <td>    0.209</td> <td>    0.651</td>\n",
       "</tr>\n",
       "<tr>\n",
       "  <th>JobRole_Manager</th>                   <td>   -0.1915</td> <td>    0.166</td> <td>   -1.155</td> <td> 0.248</td> <td>   -0.517</td> <td>    0.134</td>\n",
       "</tr>\n",
       "<tr>\n",
       "  <th>JobRole_Manufacturing Director</th>    <td>    0.1427</td> <td>    0.116</td> <td>    1.228</td> <td> 0.219</td> <td>   -0.085</td> <td>    0.371</td>\n",
       "</tr>\n",
       "<tr>\n",
       "  <th>JobRole_Research Director</th>         <td>    0.0990</td> <td>    0.162</td> <td>    0.610</td> <td> 0.542</td> <td>   -0.219</td> <td>    0.417</td>\n",
       "</tr>\n",
       "<tr>\n",
       "  <th>JobRole_Research Scientist</th>        <td>    0.2335</td> <td>    0.114</td> <td>    2.046</td> <td> 0.041</td> <td>    0.010</td> <td>    0.457</td>\n",
       "</tr>\n",
       "<tr>\n",
       "  <th>JobRole_Sales Executive</th>           <td>    0.1758</td> <td>    0.105</td> <td>    1.672</td> <td> 0.094</td> <td>   -0.030</td> <td>    0.382</td>\n",
       "</tr>\n",
       "<tr>\n",
       "  <th>JobRole_Sales Representative</th>      <td>    0.6832</td> <td>    0.136</td> <td>    5.022</td> <td> 0.000</td> <td>    0.417</td> <td>    0.950</td>\n",
       "</tr>\n",
       "<tr>\n",
       "  <th>MaritalStatus_Married</th>             <td>    0.1585</td> <td>    0.065</td> <td>    2.442</td> <td> 0.015</td> <td>    0.031</td> <td>    0.286</td>\n",
       "</tr>\n",
       "<tr>\n",
       "  <th>MaritalStatus_Single</th>              <td>    0.7871</td> <td>    0.065</td> <td>   12.203</td> <td> 0.000</td> <td>    0.661</td> <td>    0.914</td>\n",
       "</tr>\n",
       "</table>"
      ],
      "text/plain": [
       "<class 'statsmodels.iolib.summary.Summary'>\n",
       "\"\"\"\n",
       "                           Logit Regression Results                           \n",
       "==============================================================================\n",
       "Dep. Variable:              Attrition   No. Observations:                16079\n",
       "Model:                          Logit   Df Residuals:                    16062\n",
       "Method:                           MLE   Df Model:                           16\n",
       "Date:                Wed, 08 Jun 2022   Pseudo R-squ.:                 0.04969\n",
       "Time:                        10:51:14   Log-Likelihood:                -6506.8\n",
       "converged:                       True   LL-Null:                       -6847.1\n",
       "Covariance Type:            nonrobust   LLR p-value:                1.796e-134\n",
       "=====================================================================================================\n",
       "                                        coef    std err          z      P>|z|      [0.025      0.975]\n",
       "-----------------------------------------------------------------------------------------------------\n",
       "const                                -1.9599      0.200     -9.800      0.000      -2.352      -1.568\n",
       "Education                            -0.0897      0.022     -4.095      0.000      -0.133      -0.047\n",
       "JobLevel                             -0.1325      0.044     -3.040      0.002      -0.218      -0.047\n",
       "NumCompaniesWorked                    0.0320      0.010      3.357      0.001       0.013       0.051\n",
       "DistanceFromHome                      0.0230      0.003      8.638      0.000       0.018       0.028\n",
       "Department_Research & Development    -0.3232      0.123     -2.636      0.008      -0.563      -0.083\n",
       "Department_Sales                      0.1199      0.126      0.950      0.342      -0.127       0.367\n",
       "JobRole_Human Resources               0.2317      0.164      1.413      0.158      -0.090       0.553\n",
       "JobRole_Laboratory Technician         0.4300      0.113      3.808      0.000       0.209       0.651\n",
       "JobRole_Manager                      -0.1915      0.166     -1.155      0.248      -0.517       0.134\n",
       "JobRole_Manufacturing Director        0.1427      0.116      1.228      0.219      -0.085       0.371\n",
       "JobRole_Research Director             0.0990      0.162      0.610      0.542      -0.219       0.417\n",
       "JobRole_Research Scientist            0.2335      0.114      2.046      0.041       0.010       0.457\n",
       "JobRole_Sales Executive               0.1758      0.105      1.672      0.094      -0.030       0.382\n",
       "JobRole_Sales Representative          0.6832      0.136      5.022      0.000       0.417       0.950\n",
       "MaritalStatus_Married                 0.1585      0.065      2.442      0.015       0.031       0.286\n",
       "MaritalStatus_Single                  0.7871      0.065     12.203      0.000       0.661       0.914\n",
       "=====================================================================================================\n",
       "\"\"\""
      ]
     },
     "execution_count": 59,
     "metadata": {},
     "output_type": "execute_result"
    }
   ],
   "source": [
    "#Separando as variáveis em X e Y\n",
    "x1 = var_rh.drop(['EducationField_Life Sciences','EducationField_Marketing','EducationField_Medical',\n",
    "            'EducationField_Other','EducationField_Technical Degree','MonthlyIncome'],axis=1)\n",
    "y1 = data.Attrition\n",
    "\n",
    "\n",
    "#Treino e teste\n",
    "X_treino,X_teste,Y_treino,Y_teste=train_test_split(x1,y1,test_size=0.3,random_state=1)\n",
    "\n",
    "#Modelagem e treinamento\n",
    "x_interc = sm.add_constant(X_treino) \n",
    "modelo1 = sm.Logit(Y_treino.astype(float),x_interc.astype(float)) \n",
    "modelo_fit1 = modelo1.fit()\n",
    "modelo_fit1.summary() "
   ]
  },
  {
   "cell_type": "markdown",
   "metadata": {},
   "source": [
    "**Observe que todas as variáveis numéricas são significantes, e as variáveis que eram categóricas, pelo menos uma de suas categorias também tem significância estatística**"
   ]
  },
  {
   "cell_type": "code",
   "execution_count": 60,
   "metadata": {},
   "outputs": [
    {
     "data": {
      "text/plain": [
       "<AxesSubplot:>"
      ]
     },
     "execution_count": 60,
     "metadata": {},
     "output_type": "execute_result"
    },
    {
     "data": {
      "image/png": "[encoded data removed]",
      "text/plain": [
       "<Figure size 432x288 with 2 Axes>"
      ]
     },
     "metadata": {
      "needs_background": "light"
     },
     "output_type": "display_data"
    }
   ],
   "source": [
    "#Difinindo o threshold para gerar a matriz de confusão\n",
    "pred1 =pd.DataFrame(modelo_fit1.predict(x_interc),columns=['Pred'])\n",
    "pred1['y'] = Y_treino \n",
    "pred1['Pred'] = np.where(pred1.iloc[:,0] >=0.5 , 1, 0)\n",
    "\n",
    "#Matriz de confusão\n",
    "cm = confusion_matrix(pred1['y'],pred1['Pred'])\n",
    "sns.heatmap(cm,annot=True,fmt='d')"
   ]
  },
  {
   "cell_type": "code",
   "execution_count": 61,
   "metadata": {},
   "outputs": [
    {
     "name": "stdout",
     "output_type": "stream",
     "text": [
      "Acuracia: 84.8%\n"
     ]
    }
   ],
   "source": [
    "#Acurácia\n",
    "acuracia = accuracy_score(pred1['y'],pred1['Pred'])\n",
    "print(f'Acuracia: {acuracia*100:.1f}%')"
   ]
  },
  {
   "cell_type": "markdown",
   "metadata": {},
   "source": [
    "**Não houve uma melhora significativa entre os 2 modelos criados, porém no modelo 1 tínhamos 22 variáveis preditoras, já no modelo 2 apenas 16, já para melhorar o resultado do modelo, podemos usar outro algoritimo ou balancear os dados de treino**"
   ]
  },
  {
   "cell_type": "markdown",
   "metadata": {},
   "source": [
    "# Modelo 3 - Random Forest"
   ]
  },
  {
   "cell_type": "code",
   "execution_count": 62,
   "metadata": {},
   "outputs": [
    {
     "data": {
      "text/plain": [
       "0.9407922479360584"
      ]
     },
     "execution_count": 62,
     "metadata": {},
     "output_type": "execute_result"
    }
   ],
   "source": [
    "from sklearn.ensemble import RandomForestClassifier\n",
    "\n",
    "#Separando as variáveis em X e Y para modelagem\n",
    "x1\n",
    "y = data.Attrition\n",
    "\n",
    "#Separar as variaveis em treino e teste\n",
    "X_treino,X_teste,Y_treino,Y_teste=train_test_split(x1,y,test_size=0.3,random_state=1)\n",
    "\n",
    "# Construção do Classificador\n",
    "random_forest = RandomForestClassifier() \n",
    "\n",
    "#Treinar o modelo com os dados de treino\n",
    "modelo_random =  random_forest.fit(X_treino, Y_treino)\n",
    "\n",
    "# Score do modelo\n",
    "scores = cross_val_score(modelo_random, X_treino, Y_treino)\n",
    "\n",
    "# Média do score\n",
    "mean = scores.mean();mean  "
   ]
  },
  {
   "cell_type": "code",
   "execution_count": 63,
   "metadata": {},
   "outputs": [
    {
     "data": {
      "text/plain": [
       "<AxesSubplot:>"
      ]
     },
     "execution_count": 63,
     "metadata": {},
     "output_type": "execute_result"
    },
    {
     "data": {
      "image/png": "[encoded data removed]",
      "text/plain": [
       "<Figure size 432x288 with 2 Axes>"
      ]
     },
     "metadata": {
      "needs_background": "light"
     },
     "output_type": "display_data"
    }
   ],
   "source": [
    "#Matriz de confusão\n",
    "y_pred = random_forest.predict(X_teste) \n",
    "cm = confusion_matrix(Y_teste,y_pred)\n",
    "sns.heatmap(cm,annot=True,fmt='d')"
   ]
  },
  {
   "cell_type": "code",
   "execution_count": 64,
   "metadata": {},
   "outputs": [
    {
     "name": "stdout",
     "output_type": "stream",
     "text": [
      "Acuracia: 94.9%\n"
     ]
    }
   ],
   "source": [
    "#Acurácia\n",
    "acuracia = accuracy_score(Y_teste,y_pred)\n",
    "print(f'Acuracia: {acuracia*100:.1f}%')"
   ]
  },
  {
   "cell_type": "markdown",
   "metadata": {},
   "source": [
    "**O Modelo 3 Random Forest teve a melhor performance dos 3 modelos, porém como esse modelo aprende demais ele pode estar sofrendo de overfitting, temos que usar os dados de teste para verificar se o modelo continua com a mesma performance**"
   ]
  },
  {
   "cell_type": "markdown",
   "metadata": {},
   "source": [
    "**OBS: Note que o modelo conseguiu ter uma boa performance nas 2 classes da variável target, no qual já não era possível nos outros modelos**"
   ]
  },
  {
   "cell_type": "code",
   "execution_count": 65,
   "metadata": {},
   "outputs": [
    {
     "data": {
      "text/plain": [
       "0.9023503074839155"
      ]
     },
     "execution_count": 65,
     "metadata": {},
     "output_type": "execute_result"
    }
   ],
   "source": [
    "# Score do modelo de teste\n",
    "scores = cross_val_score(modelo_random, X_teste, Y_teste)\n",
    "\n",
    "# Média do score\n",
    "mean = scores.mean();mean  "
   ]
  },
  {
   "cell_type": "markdown",
   "metadata": {},
   "source": [
    "**Observe que com os dados de teste a acuracia do modelo foi um pouco menor, porém continua tendo uma ótima performance com 90% de acuracia, sendo que nos outros modelos não passava de 85% com dados de treino**"
   ]
  },
  {
   "cell_type": "markdown",
   "metadata": {},
   "source": [
    "# Conclusão:"
   ]
  },
  {
   "cell_type": "markdown",
   "metadata": {},
   "source": [
    "**A Analise Exploratória se mostrou mais uma vez o ponto chave para chegar no melhor resultado final, primeiramente fizemos engenharia de atributos criando variáveis que poderia ser útil para a modelagem e usamos o algoritimo Random Forest na análise exploratória para selecionar as melhores features, depois fizemos mais um filtro usando a relevância das variáveis selecionadas em relação a variável target, na modelagem preditiva usamos 2 algoritimos diferentes de machine learning para alcançar o melhor resultado, ficou faltando aplicar o balanceamento nos dados para conseguir uma performance ainda melhor, porém o modelo preditivo não é o principal fator para esse projeto e sim entender cada variável  e como ela pode contribuir na hora do processo seletivo**  "
   ]
  },
  {
   "cell_type": "markdown",
   "metadata": {},
   "source": [
    "**OBS: Quando usamos variáveis categóricas temos que tomar cuidado para não cometermos ponderação arbitraria, one-hot-encoding é a melhor maneira de tratar esses tipos de dados na hora da modelagem**  "
   ]
  }
 ],
 "metadata": {
  "anaconda-cloud": {},
  "kernelspec": {
   "display_name": "Python 3 (ipykernel)",
   "language": "python",
   "name": "python3"
  },
  "language_info": {
   "codemirror_mode": {
    "name": "ipython",
    "version": 3
   },
   "file_extension": ".py",
   "mimetype": "text/x-python",
   "name": "python",
   "nbconvert_exporter": "python",
   "pygments_lexer": "ipython3",
   "version": "3.9.12"
  }
 },
 "nbformat": 4,
 "nbformat_minor": 1
}
