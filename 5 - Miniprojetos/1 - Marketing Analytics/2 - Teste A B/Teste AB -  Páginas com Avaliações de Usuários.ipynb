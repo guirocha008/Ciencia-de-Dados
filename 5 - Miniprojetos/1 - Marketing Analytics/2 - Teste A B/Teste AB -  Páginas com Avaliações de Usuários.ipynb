{
 "cells": [
  {
   "cell_type": "markdown",
   "metadata": {},
   "source": [
    "# $$Marketing~Analytics: ~Teste-A/B$$"
   ]
  },
  {
   "cell_type": "markdown",
   "metadata": {},
   "source": [
    "## $$Conceito:$$\n",
    "\n",
    "**Também conhecidos como testes divididos, permitem comparar duas versões de algo para saber qual é mais eficaz. Em poucas palavras, seus usuários gostam da versão A ou da versão B?**\n",
    "\n",
    "**A principal motivação para fazer um teste A/B é a necessidade de melhora de alguma métrica**\n",
    "\n",
    "## $$Premissas$$\n",
    "\n",
    "**Criar 2 grupos: Controle e Tratamento:**\n",
    "\n",
    "- **Controle:** É aquele cujas variáveis e taxas são a referência\n",
    "\n",
    "\n",
    "- **Tratamento:**  É idêntico ao grupo controle, porém alterando uma variável\n",
    "\n",
    "\n",
    "**Definir publico semelhante para o teste**\n",
    "\n",
    "\n",
    "**Aleatoriedade dos grupos no teste**"
   ]
  },
  {
   "cell_type": "markdown",
   "metadata": {},
   "source": [
    "__------------------------------------------------------------------------------------------------------------------------------------------------------------------------------------------------------------------__\n",
    "\n",
    "\n",
    "__------------------------------------------------------------------------------------------------------------------------------------------------------------------------------------------------------------------__"
   ]
  },
  {
   "cell_type": "markdown",
   "metadata": {},
   "source": [
    "## $$Objetivo:$$  \n",
    "\n",
    "## $$Páginas~ sem~Avaliações ~de~ Usuários ~Aumentam~ as~ Vendas ~de ~Produtos~Online ~ ?$$\n",
    "\n",
    "## $$Analisar~ o~ resultado~ usando~ o~ Teste~ A/B$$"
   ]
  },
  {
   "cell_type": "code",
   "execution_count": 1,
   "metadata": {},
   "outputs": [],
   "source": [
    "#Carregar os pacotes\n",
    "import datetime\n",
    "import matplotlib\n",
    "import numpy as np\n",
    "import pandas as pd\n",
    "import matplotlib.pyplot as plt\n",
    "import scipy.stats as scipy\n",
    "import warnings\n",
    "warnings.filterwarnings('ignore')\n",
    "\n",
    "# Formatação dos gráficos\n",
    "plt.style.use('fivethirtyeight')\n",
    "plt.figure(1 , figsize = (15 , 6))\n",
    "%matplotlib inline"
   ]
  },
  {
   "cell_type": "markdown",
   "metadata": {},
   "source": [
    "# Base de Dados"
   ]
  },
  {
   "cell_type": "code",
   "execution_count": 2,
   "metadata": {},
   "outputs": [
    {
     "data": {
      "text/html": [
       "<div>\n",
       "<style scoped>\n",
       "    .dataframe tbody tr th:only-of-type {\n",
       "        vertical-align: middle;\n",
       "    }\n",
       "\n",
       "    .dataframe tbody tr th {\n",
       "        vertical-align: top;\n",
       "    }\n",
       "\n",
       "    .dataframe thead th {\n",
       "        text-align: right;\n",
       "    }\n",
       "</style>\n",
       "<table border=\"1\" class=\"dataframe\">\n",
       "  <thead>\n",
       "    <tr style=\"text-align: right;\">\n",
       "      <th></th>\n",
       "      <th>id</th>\n",
       "      <th>variante</th>\n",
       "      <th>compra</th>\n",
       "      <th>data</th>\n",
       "    </tr>\n",
       "  </thead>\n",
       "  <tbody>\n",
       "    <tr>\n",
       "      <th>0</th>\n",
       "      <td>0x6f9421</td>\n",
       "      <td>A</td>\n",
       "      <td>False</td>\n",
       "      <td>2019-12-26</td>\n",
       "    </tr>\n",
       "    <tr>\n",
       "      <th>1</th>\n",
       "      <td>0x59d442</td>\n",
       "      <td>A</td>\n",
       "      <td>False</td>\n",
       "      <td>2019-08-16</td>\n",
       "    </tr>\n",
       "    <tr>\n",
       "      <th>2</th>\n",
       "      <td>0x6db8f8</td>\n",
       "      <td>A</td>\n",
       "      <td>True</td>\n",
       "      <td>2019-03-18</td>\n",
       "    </tr>\n",
       "    <tr>\n",
       "      <th>3</th>\n",
       "      <td>0x68245d</td>\n",
       "      <td>A</td>\n",
       "      <td>False</td>\n",
       "      <td>2019-02-13</td>\n",
       "    </tr>\n",
       "    <tr>\n",
       "      <th>4</th>\n",
       "      <td>0x28566e</td>\n",
       "      <td>A</td>\n",
       "      <td>False</td>\n",
       "      <td>2019-09-28</td>\n",
       "    </tr>\n",
       "    <tr>\n",
       "      <th>...</th>\n",
       "      <td>...</td>\n",
       "      <td>...</td>\n",
       "      <td>...</td>\n",
       "      <td>...</td>\n",
       "    </tr>\n",
       "    <tr>\n",
       "      <th>54995</th>\n",
       "      <td>0x451451</td>\n",
       "      <td>A</td>\n",
       "      <td>False</td>\n",
       "      <td>2019-06-19</td>\n",
       "    </tr>\n",
       "    <tr>\n",
       "      <th>54996</th>\n",
       "      <td>0x871d51</td>\n",
       "      <td>A</td>\n",
       "      <td>False</td>\n",
       "      <td>2019-03-22</td>\n",
       "    </tr>\n",
       "    <tr>\n",
       "      <th>54997</th>\n",
       "      <td>0x50d163</td>\n",
       "      <td>A</td>\n",
       "      <td>False</td>\n",
       "      <td>2019-02-10</td>\n",
       "    </tr>\n",
       "    <tr>\n",
       "      <th>54998</th>\n",
       "      <td>0x3544c4</td>\n",
       "      <td>B</td>\n",
       "      <td>False</td>\n",
       "      <td>2020-01-09</td>\n",
       "    </tr>\n",
       "    <tr>\n",
       "      <th>54999</th>\n",
       "      <td>0x983331</td>\n",
       "      <td>A</td>\n",
       "      <td>False</td>\n",
       "      <td>2019-09-05</td>\n",
       "    </tr>\n",
       "  </tbody>\n",
       "</table>\n",
       "<p>55000 rows × 4 columns</p>\n",
       "</div>"
      ],
      "text/plain": [
       "             id variante  compra        data\n",
       "0      0x6f9421        A   False  2019-12-26\n",
       "1      0x59d442        A   False  2019-08-16\n",
       "2      0x6db8f8        A    True  2019-03-18\n",
       "3      0x68245d        A   False  2019-02-13\n",
       "4      0x28566e        A   False  2019-09-28\n",
       "...         ...      ...     ...         ...\n",
       "54995  0x451451        A   False  2019-06-19\n",
       "54996  0x871d51        A   False  2019-03-22\n",
       "54997  0x50d163        A   False  2019-02-10\n",
       "54998  0x3544c4        B   False  2020-01-09\n",
       "54999  0x983331        A   False  2019-09-05\n",
       "\n",
       "[55000 rows x 4 columns]"
      ]
     },
     "execution_count": 2,
     "metadata": {},
     "output_type": "execute_result"
    }
   ],
   "source": [
    "# Carrega o dataset\n",
    "dados = pd.read_csv(\"dados/dataset.csv\")\n",
    "dados"
   ]
  },
  {
   "cell_type": "markdown",
   "metadata": {},
   "source": [
    "**Dataset contém 55.000 mil registros e 4 variáveis.**"
   ]
  },
  {
   "cell_type": "markdown",
   "metadata": {},
   "source": [
    "# Dicionário de Dados\n",
    "\n"
   ]
  },
  {
   "cell_type": "markdown",
   "metadata": {},
   "source": [
    "## $$Variáveis:$$\n",
    "\n",
    "**Id:** Código de identificação do usuário que entrou no site\n",
    "\n",
    "\n",
    "**Variante:** 2 Grupos de controle: \n",
    "\n",
    "- **Variante A:** Mostra o número de comentários e avaliações de usuários.\n",
    "\n",
    "- **Variante B:** Não mostra os comentários e as avaliações dos usuários no site. \n",
    "\n",
    "\n",
    "**Compra:** Se foi efetuado a compra(True) ou não(False) de um produto no site\n",
    "\n",
    "\n",
    "**Data:** Data da visita do usuário no site \n"
   ]
  },
  {
   "cell_type": "markdown",
   "metadata": {},
   "source": [
    "# Análise Exploratória"
   ]
  },
  {
   "cell_type": "code",
   "execution_count": 3,
   "metadata": {},
   "outputs": [
    {
     "data": {
      "text/plain": [
       "id          0\n",
       "variante    0\n",
       "compra      0\n",
       "data        0\n",
       "dtype: int64"
      ]
     },
     "execution_count": 3,
     "metadata": {},
     "output_type": "execute_result"
    }
   ],
   "source": [
    "# Verificar se existe valores nulos\n",
    "dados.isnull().sum()"
   ]
  },
  {
   "cell_type": "code",
   "execution_count": 4,
   "metadata": {},
   "outputs": [
    {
     "data": {
      "text/plain": [
       "0"
      ]
     },
     "execution_count": 4,
     "metadata": {},
     "output_type": "execute_result"
    }
   ],
   "source": [
    "#Verificar se existe dados duplicados\n",
    "sum(dados.duplicated())"
   ]
  },
  {
   "cell_type": "code",
   "execution_count": 5,
   "metadata": {},
   "outputs": [
    {
     "data": {
      "text/plain": [
       "id          object\n",
       "variante    object\n",
       "compra        bool\n",
       "data        object\n",
       "dtype: object"
      ]
     },
     "execution_count": 5,
     "metadata": {},
     "output_type": "execute_result"
    }
   ],
   "source": [
    "# Tipos de variáveis\n",
    "dados.dtypes"
   ]
  },
  {
   "cell_type": "markdown",
   "metadata": {},
   "source": [
    "**Note que para esse projeto não vai ser usado variável do tipo numérica**"
   ]
  },
  {
   "cell_type": "code",
   "execution_count": 6,
   "metadata": {},
   "outputs": [
    {
     "data": {
      "text/plain": [
       "id          55000\n",
       "variante        2\n",
       "compra          2\n",
       "data          395\n",
       "dtype: int64"
      ]
     },
     "execution_count": 6,
     "metadata": {},
     "output_type": "execute_result"
    }
   ],
   "source": [
    "# Verifica o total de valores únicos por coluna\n",
    "dados.nunique()"
   ]
  },
  {
   "cell_type": "markdown",
   "metadata": {},
   "source": [
    "**Para esse tipo de teste não podemos ter o mesmo usuário fazendo o teste mais de 1 vez, observe que a variavel 'id' não tem repetição do usuário**"
   ]
  },
  {
   "cell_type": "code",
   "execution_count": 7,
   "metadata": {},
   "outputs": [
    {
     "name": "stdout",
     "output_type": "stream",
     "text": [
      "2019-01-01\n",
      "2020-01-30\n"
     ]
    }
   ],
   "source": [
    "# Data mínima\n",
    "print(dados['data'].min())\n",
    "\n",
    "# Data máxima\n",
    "print(dados['data'].max())"
   ]
  },
  {
   "cell_type": "markdown",
   "metadata": {},
   "source": [
    "**A data de coleta dos dados para o teste foi de aproximadamente 1 ano**"
   ]
  },
  {
   "cell_type": "markdown",
   "metadata": {},
   "source": [
    "## Informações dos usuários"
   ]
  },
  {
   "cell_type": "code",
   "execution_count": 8,
   "metadata": {},
   "outputs": [
    {
     "data": {
      "text/plain": [
       "55000"
      ]
     },
     "execution_count": 8,
     "metadata": {},
     "output_type": "execute_result"
    }
   ],
   "source": [
    "# Numero de amostras \n",
    "sum(dados.variante.value_counts())"
   ]
  },
  {
   "cell_type": "markdown",
   "metadata": {},
   "source": [
    "**55.000 mil usuários participaram do teste** "
   ]
  },
  {
   "cell_type": "code",
   "execution_count": 9,
   "metadata": {},
   "outputs": [
    {
     "name": "stdout",
     "output_type": "stream",
     "text": [
      "Resultado total das conversão:\n",
      "False    46416\n",
      "True      8584\n",
      "Name: compra, dtype: int64\n",
      "\n",
      "\n",
      "Proporção total de compras não efetuadas: 84.0%\n",
      "\n",
      "Proporção total de compras efetuadas: 16.0%\n",
      "\n"
     ]
    }
   ],
   "source": [
    "#Resultado total das conversão \n",
    "conv = dados.compra.value_counts()\n",
    "\n",
    "print('Resultado total das conversão:')\n",
    "print(conv)\n",
    "\n",
    "\n",
    "#Proporção total de compras não efetuadas\n",
    "prop = round((dados[dados.compra == False].count()[0])/ sum(dados.variante.value_counts()),2)*100\n",
    "\n",
    "print(f'\\n\\nProporção total de compras não efetuadas: {prop}%\\n')\n",
    "\n",
    "#Proporção total de compras efetuadas\n",
    "c_efet = round((dados[dados.compra == True].count()[0])/ sum(dados.variante.value_counts()),2)*100\n",
    "\n",
    "print(f'Proporção total de compras efetuadas: {c_efet}%\\n')\n"
   ]
  },
  {
   "cell_type": "markdown",
   "metadata": {},
   "source": [
    "**Com os dados analisados podemos concluir que 84% dos usuários que entram no site não efetuam compras, independente se o site tiver avaliação dos produtos ou não, e 16% efetuam, isso é esperado para um site de e-commerce, pois muitos usuários entram para ver ou pesquisar o preço dos produtos**"
   ]
  },
  {
   "cell_type": "markdown",
   "metadata": {},
   "source": [
    "## Informações da coluna Variante"
   ]
  },
  {
   "cell_type": "code",
   "execution_count": 10,
   "metadata": {},
   "outputs": [
    {
     "data": {
      "text/html": [
       "<div>\n",
       "<style scoped>\n",
       "    .dataframe tbody tr th:only-of-type {\n",
       "        vertical-align: middle;\n",
       "    }\n",
       "\n",
       "    .dataframe tbody tr th {\n",
       "        vertical-align: top;\n",
       "    }\n",
       "\n",
       "    .dataframe thead th {\n",
       "        text-align: right;\n",
       "    }\n",
       "</style>\n",
       "<table border=\"1\" class=\"dataframe\">\n",
       "  <thead>\n",
       "    <tr style=\"text-align: right;\">\n",
       "      <th></th>\n",
       "      <th>variante</th>\n",
       "      <th>%</th>\n",
       "    </tr>\n",
       "  </thead>\n",
       "  <tbody>\n",
       "    <tr>\n",
       "      <th>A</th>\n",
       "      <td>50000</td>\n",
       "      <td>0.91</td>\n",
       "    </tr>\n",
       "    <tr>\n",
       "      <th>B</th>\n",
       "      <td>5000</td>\n",
       "      <td>0.09</td>\n",
       "    </tr>\n",
       "  </tbody>\n",
       "</table>\n",
       "</div>"
      ],
      "text/plain": [
       "   variante     %\n",
       "A     50000  0.91\n",
       "B      5000  0.09"
      ]
     },
     "execution_count": 10,
     "metadata": {},
     "output_type": "execute_result"
    }
   ],
   "source": [
    "# Numero de amostras coletadas por variante\n",
    "total_ab = pd.DataFrame(dados.variante.value_counts())\n",
    "total_ab['%'] = round(dados.variante.value_counts()/55000,2)\n",
    "total_ab"
   ]
  },
  {
   "cell_type": "markdown",
   "metadata": {},
   "source": [
    "**91% dos dados são da variante A, onde há avaliação dos produtos e 9% da variante B que não tem avaliação dos produtos, o tamanho da amostra pode ser um problema na hora de realizar o teste de hipótese, pois a variante B pode ser pequena para afirmar tal hipótese**"
   ]
  },
  {
   "cell_type": "code",
   "execution_count": 11,
   "metadata": {},
   "outputs": [
    {
     "data": {
      "text/html": [
       "<div>\n",
       "<style scoped>\n",
       "    .dataframe tbody tr th:only-of-type {\n",
       "        vertical-align: middle;\n",
       "    }\n",
       "\n",
       "    .dataframe tbody tr th {\n",
       "        vertical-align: top;\n",
       "    }\n",
       "\n",
       "    .dataframe thead th {\n",
       "        text-align: right;\n",
       "    }\n",
       "</style>\n",
       "<table border=\"1\" class=\"dataframe\">\n",
       "  <thead>\n",
       "    <tr style=\"text-align: right;\">\n",
       "      <th>compra</th>\n",
       "      <th>False</th>\n",
       "      <th>True</th>\n",
       "    </tr>\n",
       "  </thead>\n",
       "  <tbody>\n",
       "    <tr>\n",
       "      <th>A</th>\n",
       "      <td>0.85</td>\n",
       "      <td>0.15</td>\n",
       "    </tr>\n",
       "    <tr>\n",
       "      <th>B</th>\n",
       "      <td>0.80</td>\n",
       "      <td>0.20</td>\n",
       "    </tr>\n",
       "  </tbody>\n",
       "</table>\n",
       "</div>"
      ],
      "text/plain": [
       "compra  False  True\n",
       "A        0.85  0.15\n",
       "B        0.80  0.20"
      ]
     },
     "execution_count": 11,
     "metadata": {},
     "output_type": "execute_result"
    }
   ],
   "source": [
    "#Porcentagem das conversões para cada variante\n",
    "tab_freq1 = dados.groupby(['variante', 'compra']).size().unstack(1)\n",
    "tab_freq2 = pd.DataFrame(tab_freq1.iloc[0,:]/50000)\n",
    "tab_freq2['B'] =tab_freq1.iloc[1,:]/5000\n",
    "round(tab_freq2.T,2)"
   ]
  },
  {
   "cell_type": "markdown",
   "metadata": {},
   "source": [
    "**Note que a taxa de conversão da variante B é 5% maior quando comparado com a variante A, porém precisamos fazer o teste de hipótese para saber se estatisticamente essa porcentagem é significante ou não, pois como já mencionado o número de amostras são completamente desproporcionais entre as duas variantes**"
   ]
  },
  {
   "cell_type": "markdown",
   "metadata": {},
   "source": [
    "## Pré-Processamento dos Dados\n",
    "\n"
   ]
  },
  {
   "cell_type": "markdown",
   "metadata": {},
   "source": [
    "- Vamos dividir o experimento por meses, pois assim eliminamos o risco de ter discrepância nos dados em algum dos meses"
   ]
  },
  {
   "cell_type": "code",
   "execution_count": 12,
   "metadata": {},
   "outputs": [
    {
     "data": {
      "text/html": [
       "<div>\n",
       "<style scoped>\n",
       "    .dataframe tbody tr th:only-of-type {\n",
       "        vertical-align: middle;\n",
       "    }\n",
       "\n",
       "    .dataframe tbody tr th {\n",
       "        vertical-align: top;\n",
       "    }\n",
       "\n",
       "    .dataframe thead th {\n",
       "        text-align: right;\n",
       "    }\n",
       "</style>\n",
       "<table border=\"1\" class=\"dataframe\">\n",
       "  <thead>\n",
       "    <tr style=\"text-align: right;\">\n",
       "      <th></th>\n",
       "      <th>id</th>\n",
       "      <th>variante</th>\n",
       "      <th>compra</th>\n",
       "      <th>data</th>\n",
       "      <th>ano_mes</th>\n",
       "    </tr>\n",
       "  </thead>\n",
       "  <tbody>\n",
       "    <tr>\n",
       "      <th>0</th>\n",
       "      <td>0x6f9421</td>\n",
       "      <td>A</td>\n",
       "      <td>False</td>\n",
       "      <td>2019-12-26</td>\n",
       "      <td>2019-12</td>\n",
       "    </tr>\n",
       "    <tr>\n",
       "      <th>1</th>\n",
       "      <td>0x59d442</td>\n",
       "      <td>A</td>\n",
       "      <td>False</td>\n",
       "      <td>2019-08-16</td>\n",
       "      <td>2019-08</td>\n",
       "    </tr>\n",
       "    <tr>\n",
       "      <th>2</th>\n",
       "      <td>0x6db8f8</td>\n",
       "      <td>A</td>\n",
       "      <td>True</td>\n",
       "      <td>2019-03-18</td>\n",
       "      <td>2019-03</td>\n",
       "    </tr>\n",
       "    <tr>\n",
       "      <th>3</th>\n",
       "      <td>0x68245d</td>\n",
       "      <td>A</td>\n",
       "      <td>False</td>\n",
       "      <td>2019-02-13</td>\n",
       "      <td>2019-02</td>\n",
       "    </tr>\n",
       "    <tr>\n",
       "      <th>4</th>\n",
       "      <td>0x28566e</td>\n",
       "      <td>A</td>\n",
       "      <td>False</td>\n",
       "      <td>2019-09-28</td>\n",
       "      <td>2019-09</td>\n",
       "    </tr>\n",
       "    <tr>\n",
       "      <th>...</th>\n",
       "      <td>...</td>\n",
       "      <td>...</td>\n",
       "      <td>...</td>\n",
       "      <td>...</td>\n",
       "      <td>...</td>\n",
       "    </tr>\n",
       "    <tr>\n",
       "      <th>54995</th>\n",
       "      <td>0x451451</td>\n",
       "      <td>A</td>\n",
       "      <td>False</td>\n",
       "      <td>2019-06-19</td>\n",
       "      <td>2019-06</td>\n",
       "    </tr>\n",
       "    <tr>\n",
       "      <th>54996</th>\n",
       "      <td>0x871d51</td>\n",
       "      <td>A</td>\n",
       "      <td>False</td>\n",
       "      <td>2019-03-22</td>\n",
       "      <td>2019-03</td>\n",
       "    </tr>\n",
       "    <tr>\n",
       "      <th>54997</th>\n",
       "      <td>0x50d163</td>\n",
       "      <td>A</td>\n",
       "      <td>False</td>\n",
       "      <td>2019-02-10</td>\n",
       "      <td>2019-02</td>\n",
       "    </tr>\n",
       "    <tr>\n",
       "      <th>54998</th>\n",
       "      <td>0x3544c4</td>\n",
       "      <td>B</td>\n",
       "      <td>False</td>\n",
       "      <td>2020-01-09</td>\n",
       "      <td>2020-01</td>\n",
       "    </tr>\n",
       "    <tr>\n",
       "      <th>54999</th>\n",
       "      <td>0x983331</td>\n",
       "      <td>A</td>\n",
       "      <td>False</td>\n",
       "      <td>2019-09-05</td>\n",
       "      <td>2019-09</td>\n",
       "    </tr>\n",
       "  </tbody>\n",
       "</table>\n",
       "<p>55000 rows × 5 columns</p>\n",
       "</div>"
      ],
      "text/plain": [
       "             id variante  compra        data  ano_mes\n",
       "0      0x6f9421        A   False  2019-12-26  2019-12\n",
       "1      0x59d442        A   False  2019-08-16  2019-08\n",
       "2      0x6db8f8        A    True  2019-03-18  2019-03\n",
       "3      0x68245d        A   False  2019-02-13  2019-02\n",
       "4      0x28566e        A   False  2019-09-28  2019-09\n",
       "...         ...      ...     ...         ...      ...\n",
       "54995  0x451451        A   False  2019-06-19  2019-06\n",
       "54996  0x871d51        A   False  2019-03-22  2019-03\n",
       "54997  0x50d163        A   False  2019-02-10  2019-02\n",
       "54998  0x3544c4        B   False  2020-01-09  2020-01\n",
       "54999  0x983331        A   False  2019-09-05  2019-09\n",
       "\n",
       "[55000 rows x 5 columns]"
      ]
     },
     "execution_count": 12,
     "metadata": {},
     "output_type": "execute_result"
    }
   ],
   "source": [
    "# Função para extrair ano e mês da coluna data\n",
    "\n",
    "def extrai_data(x):\n",
    "    return x[:7] #Função extrai os primeiros 7 caracteres da coluna data\n",
    "\n",
    "# Extrai ano e mês da coluna de data\n",
    "dados['ano_mes'] = dados['data'].apply(extrai_data)\n",
    "dados"
   ]
  },
  {
   "cell_type": "markdown",
   "metadata": {},
   "source": [
    "**Observe que a coluna 'ano_mes' foi agrupada por mês**"
   ]
  },
  {
   "cell_type": "code",
   "execution_count": 13,
   "metadata": {},
   "outputs": [
    {
     "data": {
      "text/plain": [
       "ano_mes  variante\n",
       "2019-01  A           3869\n",
       "2019-02  A           3487\n",
       "2019-03  A           3842\n",
       "2019-04  A           3771\n",
       "2019-05  A           3952\n",
       "2019-06  A           3723\n",
       "2019-07  A           3950\n",
       "2019-08  A           3992\n",
       "2019-09  A           3949\n",
       "2019-10  A           3843\n",
       "2019-11  A           3804\n",
       "2019-12  A           3997\n",
       "2020-01  A           3821\n",
       "         B           5000\n",
       "Name: variante, dtype: int64"
      ]
     },
     "execution_count": 13,
     "metadata": {},
     "output_type": "execute_result"
    }
   ],
   "source": [
    "#Verificar todos os meses que foram feito os testes\n",
    "dados.groupby(['ano_mes','variante'])['variante'].count()"
   ]
  },
  {
   "cell_type": "markdown",
   "metadata": {},
   "source": [
    "**Note que apenas a data '2020-01' foi feito o teste A/B**"
   ]
  },
  {
   "cell_type": "code",
   "execution_count": 14,
   "metadata": {},
   "outputs": [
    {
     "data": {
      "text/html": [
       "<div>\n",
       "<style scoped>\n",
       "    .dataframe tbody tr th:only-of-type {\n",
       "        vertical-align: middle;\n",
       "    }\n",
       "\n",
       "    .dataframe tbody tr th {\n",
       "        vertical-align: top;\n",
       "    }\n",
       "\n",
       "    .dataframe thead th {\n",
       "        text-align: right;\n",
       "    }\n",
       "</style>\n",
       "<table border=\"1\" class=\"dataframe\">\n",
       "  <thead>\n",
       "    <tr style=\"text-align: right;\">\n",
       "      <th></th>\n",
       "      <th>id</th>\n",
       "      <th>variante</th>\n",
       "      <th>compra</th>\n",
       "      <th>data</th>\n",
       "      <th>ano_mes</th>\n",
       "    </tr>\n",
       "  </thead>\n",
       "  <tbody>\n",
       "    <tr>\n",
       "      <th>5</th>\n",
       "      <td>0x792f1d</td>\n",
       "      <td>A</td>\n",
       "      <td>False</td>\n",
       "      <td>2020-01-14</td>\n",
       "      <td>2020-01</td>\n",
       "    </tr>\n",
       "    <tr>\n",
       "      <th>7</th>\n",
       "      <td>0x724b78</td>\n",
       "      <td>B</td>\n",
       "      <td>False</td>\n",
       "      <td>2020-01-23</td>\n",
       "      <td>2020-01</td>\n",
       "    </tr>\n",
       "    <tr>\n",
       "      <th>9</th>\n",
       "      <td>0x684bf9</td>\n",
       "      <td>A</td>\n",
       "      <td>False</td>\n",
       "      <td>2020-01-17</td>\n",
       "      <td>2020-01</td>\n",
       "    </tr>\n",
       "    <tr>\n",
       "      <th>10</th>\n",
       "      <td>0x6394dc</td>\n",
       "      <td>A</td>\n",
       "      <td>False</td>\n",
       "      <td>2020-01-06</td>\n",
       "      <td>2020-01</td>\n",
       "    </tr>\n",
       "    <tr>\n",
       "      <th>11</th>\n",
       "      <td>0x625f5d</td>\n",
       "      <td>A</td>\n",
       "      <td>False</td>\n",
       "      <td>2020-01-05</td>\n",
       "      <td>2020-01</td>\n",
       "    </tr>\n",
       "    <tr>\n",
       "      <th>...</th>\n",
       "      <td>...</td>\n",
       "      <td>...</td>\n",
       "      <td>...</td>\n",
       "      <td>...</td>\n",
       "      <td>...</td>\n",
       "    </tr>\n",
       "    <tr>\n",
       "      <th>54974</th>\n",
       "      <td>0x8d888b</td>\n",
       "      <td>A</td>\n",
       "      <td>False</td>\n",
       "      <td>2020-01-27</td>\n",
       "      <td>2020-01</td>\n",
       "    </tr>\n",
       "    <tr>\n",
       "      <th>54982</th>\n",
       "      <td>0x28cefc</td>\n",
       "      <td>B</td>\n",
       "      <td>True</td>\n",
       "      <td>2020-01-03</td>\n",
       "      <td>2020-01</td>\n",
       "    </tr>\n",
       "    <tr>\n",
       "      <th>54987</th>\n",
       "      <td>0x2bbeed</td>\n",
       "      <td>B</td>\n",
       "      <td>False</td>\n",
       "      <td>2020-01-02</td>\n",
       "      <td>2020-01</td>\n",
       "    </tr>\n",
       "    <tr>\n",
       "      <th>54991</th>\n",
       "      <td>0x66e7ed</td>\n",
       "      <td>A</td>\n",
       "      <td>False</td>\n",
       "      <td>2020-01-22</td>\n",
       "      <td>2020-01</td>\n",
       "    </tr>\n",
       "    <tr>\n",
       "      <th>54998</th>\n",
       "      <td>0x3544c4</td>\n",
       "      <td>B</td>\n",
       "      <td>False</td>\n",
       "      <td>2020-01-09</td>\n",
       "      <td>2020-01</td>\n",
       "    </tr>\n",
       "  </tbody>\n",
       "</table>\n",
       "<p>8821 rows × 5 columns</p>\n",
       "</div>"
      ],
      "text/plain": [
       "             id variante  compra        data  ano_mes\n",
       "5      0x792f1d        A   False  2020-01-14  2020-01\n",
       "7      0x724b78        B   False  2020-01-23  2020-01\n",
       "9      0x684bf9        A   False  2020-01-17  2020-01\n",
       "10     0x6394dc        A   False  2020-01-06  2020-01\n",
       "11     0x625f5d        A   False  2020-01-05  2020-01\n",
       "...         ...      ...     ...         ...      ...\n",
       "54974  0x8d888b        A   False  2020-01-27  2020-01\n",
       "54982  0x28cefc        B    True  2020-01-03  2020-01\n",
       "54987  0x2bbeed        B   False  2020-01-02  2020-01\n",
       "54991  0x66e7ed        A   False  2020-01-22  2020-01\n",
       "54998  0x3544c4        B   False  2020-01-09  2020-01\n",
       "\n",
       "[8821 rows x 5 columns]"
      ]
     },
     "execution_count": 14,
     "metadata": {},
     "output_type": "execute_result"
    }
   ],
   "source": [
    "# Vamos filtrar apenas os dados de Janeiro/2020 \n",
    "df_vendas_2020 = dados[dados['ano_mes'] == '2020-01']\n",
    "df_vendas_2020"
   ]
  },
  {
   "cell_type": "markdown",
   "metadata": {},
   "source": [
    "**Note que me janeiro de 2020 tivemos 8.821 amostras**"
   ]
  },
  {
   "cell_type": "code",
   "execution_count": 15,
   "metadata": {},
   "outputs": [
    {
     "data": {
      "text/html": [
       "<div>\n",
       "<style scoped>\n",
       "    .dataframe tbody tr th:only-of-type {\n",
       "        vertical-align: middle;\n",
       "    }\n",
       "\n",
       "    .dataframe tbody tr th {\n",
       "        vertical-align: top;\n",
       "    }\n",
       "\n",
       "    .dataframe thead th {\n",
       "        text-align: right;\n",
       "    }\n",
       "</style>\n",
       "<table border=\"1\" class=\"dataframe\">\n",
       "  <thead>\n",
       "    <tr style=\"text-align: right;\">\n",
       "      <th></th>\n",
       "      <th>variante</th>\n",
       "      <th>Total</th>\n",
       "      <th>%_Amostral</th>\n",
       "    </tr>\n",
       "  </thead>\n",
       "  <tbody>\n",
       "    <tr>\n",
       "      <th>A</th>\n",
       "      <td>3821</td>\n",
       "      <td>8821</td>\n",
       "      <td>0.433171</td>\n",
       "    </tr>\n",
       "    <tr>\n",
       "      <th>B</th>\n",
       "      <td>5000</td>\n",
       "      <td>8821</td>\n",
       "      <td>0.566829</td>\n",
       "    </tr>\n",
       "  </tbody>\n",
       "</table>\n",
       "</div>"
      ],
      "text/plain": [
       "   variante  Total  %_Amostral\n",
       "A      3821   8821    0.433171\n",
       "B      5000   8821    0.566829"
      ]
     },
     "execution_count": 15,
     "metadata": {},
     "output_type": "execute_result"
    }
   ],
   "source": [
    "# Numero de amostras coletadas por variante\n",
    "total01_ab = pd.DataFrame(df_vendas_2020.variante.value_counts(ascending=True))\n",
    "total01_ab['Total'] = len(df_vendas_2020)\n",
    "total01_ab['%_Amostral'] = df_vendas_2020.variante.value_counts()/8821\n",
    "total01_ab"
   ]
  },
  {
   "cell_type": "markdown",
   "metadata": {},
   "source": [
    "**Temos 8821 registros no total, sendo 57% dos dados da variante B e 43% da variante A**"
   ]
  },
  {
   "cell_type": "markdown",
   "metadata": {},
   "source": [
    "### Criação do Baseline - Modelo com a performance mínima aceitável\n",
    "\n",
    "Vamos criar um modelo base da taxa de conversão entre os grupos A e B antes de executar o teste de hipótese. Assim, saberemos a taxa de conversão base e o aumento desejado em compras que gostaríamos de testar.\n",
    "\n",
    "* A será o grupo de controle \n",
    "* B será o grupo de teste\n"
   ]
  },
  {
   "cell_type": "code",
   "execution_count": 97,
   "metadata": {},
   "outputs": [
    {
     "data": {
      "text/html": [
       "<div>\n",
       "<style scoped>\n",
       "    .dataframe tbody tr th:only-of-type {\n",
       "        vertical-align: middle;\n",
       "    }\n",
       "\n",
       "    .dataframe tbody tr th {\n",
       "        vertical-align: top;\n",
       "    }\n",
       "\n",
       "    .dataframe thead th {\n",
       "        text-align: right;\n",
       "    }\n",
       "</style>\n",
       "<table border=\"1\" class=\"dataframe\">\n",
       "  <thead>\n",
       "    <tr style=\"text-align: right;\">\n",
       "      <th></th>\n",
       "      <th>variante</th>\n",
       "      <th>compra</th>\n",
       "    </tr>\n",
       "  </thead>\n",
       "  <tbody>\n",
       "    <tr>\n",
       "      <th>5</th>\n",
       "      <td>A</td>\n",
       "      <td>False</td>\n",
       "    </tr>\n",
       "    <tr>\n",
       "      <th>7</th>\n",
       "      <td>B</td>\n",
       "      <td>False</td>\n",
       "    </tr>\n",
       "    <tr>\n",
       "      <th>9</th>\n",
       "      <td>A</td>\n",
       "      <td>False</td>\n",
       "    </tr>\n",
       "    <tr>\n",
       "      <th>10</th>\n",
       "      <td>A</td>\n",
       "      <td>False</td>\n",
       "    </tr>\n",
       "    <tr>\n",
       "      <th>11</th>\n",
       "      <td>A</td>\n",
       "      <td>False</td>\n",
       "    </tr>\n",
       "    <tr>\n",
       "      <th>...</th>\n",
       "      <td>...</td>\n",
       "      <td>...</td>\n",
       "    </tr>\n",
       "    <tr>\n",
       "      <th>54974</th>\n",
       "      <td>A</td>\n",
       "      <td>False</td>\n",
       "    </tr>\n",
       "    <tr>\n",
       "      <th>54982</th>\n",
       "      <td>B</td>\n",
       "      <td>True</td>\n",
       "    </tr>\n",
       "    <tr>\n",
       "      <th>54987</th>\n",
       "      <td>B</td>\n",
       "      <td>False</td>\n",
       "    </tr>\n",
       "    <tr>\n",
       "      <th>54991</th>\n",
       "      <td>A</td>\n",
       "      <td>False</td>\n",
       "    </tr>\n",
       "    <tr>\n",
       "      <th>54998</th>\n",
       "      <td>B</td>\n",
       "      <td>False</td>\n",
       "    </tr>\n",
       "  </tbody>\n",
       "</table>\n",
       "<p>8821 rows × 2 columns</p>\n",
       "</div>"
      ],
      "text/plain": [
       "      variante  compra\n",
       "5            A   False\n",
       "7            B   False\n",
       "9            A   False\n",
       "10           A   False\n",
       "11           A   False\n",
       "...        ...     ...\n",
       "54974        A   False\n",
       "54982        B    True\n",
       "54987        B   False\n",
       "54991        A   False\n",
       "54998        B   False\n",
       "\n",
       "[8821 rows x 2 columns]"
      ]
     },
     "execution_count": 97,
     "metadata": {},
     "output_type": "execute_result"
    }
   ],
   "source": [
    "# Selecionamos apenas as variáveis significativas para o modelo\n",
    "df_ab_data = df_vendas_2020[['variante', 'compra']]\n",
    "df_ab_data"
   ]
  },
  {
   "cell_type": "code",
   "execution_count": 17,
   "metadata": {},
   "outputs": [
    {
     "data": {
      "text/html": [
       "<div>\n",
       "<style scoped>\n",
       "    .dataframe tbody tr th:only-of-type {\n",
       "        vertical-align: middle;\n",
       "    }\n",
       "\n",
       "    .dataframe tbody tr th {\n",
       "        vertical-align: top;\n",
       "    }\n",
       "\n",
       "    .dataframe thead th {\n",
       "        text-align: right;\n",
       "    }\n",
       "</style>\n",
       "<table border=\"1\" class=\"dataframe\">\n",
       "  <thead>\n",
       "    <tr style=\"text-align: right;\">\n",
       "      <th></th>\n",
       "      <th>compra</th>\n",
       "    </tr>\n",
       "    <tr>\n",
       "      <th>variante</th>\n",
       "      <th></th>\n",
       "    </tr>\n",
       "  </thead>\n",
       "  <tbody>\n",
       "    <tr>\n",
       "      <th>A</th>\n",
       "      <td>587</td>\n",
       "    </tr>\n",
       "    <tr>\n",
       "      <th>B</th>\n",
       "      <td>981</td>\n",
       "    </tr>\n",
       "  </tbody>\n",
       "</table>\n",
       "</div>"
      ],
      "text/plain": [
       "          compra\n",
       "variante        \n",
       "A            587\n",
       "B            981"
      ]
     },
     "execution_count": 17,
     "metadata": {},
     "output_type": "execute_result"
    }
   ],
   "source": [
    "#Porcentagem das conversões para cada variante\n",
    "\n",
    "# Tabela pivot para o sumário dos dados\n",
    "df_ab_sumario = df_ab_data.pivot_table(values = 'compra', index = 'variante', aggfunc = np.sum)\n",
    "df_ab_sumario"
   ]
  },
  {
   "cell_type": "markdown",
   "metadata": {},
   "source": [
    "**Total de conversões dos grupos para o mês de janeiro**"
   ]
  },
  {
   "cell_type": "code",
   "execution_count": 18,
   "metadata": {},
   "outputs": [
    {
     "data": {
      "text/html": [
       "<div>\n",
       "<style scoped>\n",
       "    .dataframe tbody tr th:only-of-type {\n",
       "        vertical-align: middle;\n",
       "    }\n",
       "\n",
       "    .dataframe tbody tr th {\n",
       "        vertical-align: top;\n",
       "    }\n",
       "\n",
       "    .dataframe thead th {\n",
       "        text-align: right;\n",
       "    }\n",
       "</style>\n",
       "<table border=\"1\" class=\"dataframe\">\n",
       "  <thead>\n",
       "    <tr style=\"text-align: right;\">\n",
       "      <th></th>\n",
       "      <th>compra</th>\n",
       "      <th>taxa</th>\n",
       "    </tr>\n",
       "    <tr>\n",
       "      <th>variante</th>\n",
       "      <th></th>\n",
       "      <th></th>\n",
       "    </tr>\n",
       "  </thead>\n",
       "  <tbody>\n",
       "    <tr>\n",
       "      <th>A</th>\n",
       "      <td>587</td>\n",
       "      <td>0.153625</td>\n",
       "    </tr>\n",
       "    <tr>\n",
       "      <th>B</th>\n",
       "      <td>981</td>\n",
       "      <td>0.196200</td>\n",
       "    </tr>\n",
       "  </tbody>\n",
       "</table>\n",
       "</div>"
      ],
      "text/plain": [
       "          compra      taxa\n",
       "variante                  \n",
       "A            587  0.153625\n",
       "B            981  0.196200"
      ]
     },
     "execution_count": 18,
     "metadata": {},
     "output_type": "execute_result"
    }
   ],
   "source": [
    "# Sumário com taxa\n",
    "df_ab_sumario['taxa'] = df_ab_data.pivot_table(values = 'compra', index = 'variante')\n",
    "df_ab_sumario"
   ]
  },
  {
   "cell_type": "markdown",
   "metadata": {},
   "source": [
    "**Taxa de conversão dos grupos**"
   ]
  },
  {
   "cell_type": "code",
   "execution_count": 19,
   "metadata": {},
   "outputs": [
    {
     "data": {
      "text/plain": [
       "0.15362470557445695"
      ]
     },
     "execution_count": 19,
     "metadata": {},
     "output_type": "execute_result"
    }
   ],
   "source": [
    "# Taxa de conversão da linha de base.\n",
    "conversao_base = df_ab_sumario.iloc[0,1]\n",
    "conversao_base"
   ]
  },
  {
   "cell_type": "markdown",
   "metadata": {},
   "source": [
    "**Para o teste A/B o grupo controle tem uma taxa de conversão de 15%, isso significa que se continuar do mesmo jeito 15% dos usuários que entrarem no site com avaliação, iram adquirir um produto, e a finalidade do teste é verificar se mudando para variante B onde os produtos não são avaliados consegue-se aumentar a taxa de conversão, para isso criamos o teste de hipótese**"
   ]
  },
  {
   "cell_type": "code",
   "execution_count": 20,
   "metadata": {},
   "outputs": [
    {
     "data": {
      "text/plain": [
       "0.04257529442554306"
      ]
     },
     "execution_count": 20,
     "metadata": {},
     "output_type": "execute_result"
    }
   ],
   "source": [
    "# Efeito mínimo detectável\n",
    "taxa_A = df_ab_sumario.iloc[0,1]\n",
    "taxa_B = df_ab_sumario.iloc[1,1]\n",
    "\n",
    "efeito_minimo = taxa_B - taxa_A\n",
    "efeito_minimo"
   ]
  },
  {
   "cell_type": "markdown",
   "metadata": {},
   "source": [
    "**Diferença entre as taxas de conversão, podemos usar como nível de significância para o teste**"
   ]
  },
  {
   "cell_type": "code",
   "execution_count": 21,
   "metadata": {},
   "outputs": [
    {
     "data": {
      "image/png": "[encoded data removed]",
      "text/plain": [
       "<Figure size 1008x432 with 1 Axes>"
      ]
     },
     "metadata": {
      "needs_background": "light"
     },
     "output_type": "display_data"
    }
   ],
   "source": [
    "#Plot\n",
    "conversao_A = df_ab_sumario.iloc[0,0]\n",
    "conversao_B = df_ab_sumario.iloc[1,0]\n",
    "\n",
    "total_A = total01_ab.iloc[0,0]\n",
    "total_B = total01_ab.iloc[1,0]\n",
    "\n",
    "# Plot da distribuição dos 2 grupos\n",
    "\n",
    "# Área de plotagem \n",
    "fig, ax = plt.subplots(figsize = (14,6))\n",
    "\n",
    "# Gráfico de A\n",
    "xA = np.linspace(conversao_A - 49, conversao_A + 50, 100)\n",
    "yA = scipy.binom(total_A, taxa_A).pmf(xA)\n",
    "ax.bar(xA, yA, alpha = 0.5)\n",
    "\n",
    "# Gráfico de B\n",
    "xB = np.linspace(conversao_B - 49, conversao_B + 50, 100)\n",
    "yB = scipy.binom(total_B, taxa_B).pmf(xB)\n",
    "ax.bar(xB, yB, alpha = 0.5)\n",
    "ax.legend(['Variante A','Variante B'])\n",
    "# Labels\n",
    "plt.xlabel('N° de Conversões')\n",
    "plt.ylabel('Probabilidade de Ocorrência');"
   ]
  },
  {
   "cell_type": "markdown",
   "metadata": {},
   "source": [
    "**Note que a distribuição da variante A tem menor taxa de conversão, porém sua probabilidade de ocorrência é um pouco maior que a variante B, ainda assim não podemos afirmar que sites sem avaliações levam a uma maior conversão de compras em relação a sites que usam avaliações, pois a probabilidade de ocorrência da variante A é maior que a B, temos que igualar as 2 probabilidades para ter uma melhor conclusão do teste**"
   ]
  },
  {
   "cell_type": "markdown",
   "metadata": {},
   "source": [
    "#  Teste de Hipóteses"
   ]
  },
  {
   "cell_type": "markdown",
   "metadata": {},
   "source": [
    "## Configuração do experimento:"
   ]
  },
  {
   "cell_type": "markdown",
   "metadata": {},
   "source": [
    "Nesta etapa você define qual será a hipótese testada no experimento:\n",
    "\n",
    "- **H0: PB - PA = 0**, não há diferença estatística entre os dois grupos.\n",
    "\n",
    "\n",
    "- **H1: PB - PA > 0**, há diferença estatística entre os dois grupos\n"
   ]
  },
  {
   "cell_type": "markdown",
   "metadata": {},
   "source": [
    "Para fazer o teste, temos que levar em conta que as distribuições dos dados seguem uma distribuição normal e que as probabilidades de ocorrência sejam iguais para as 2 amostras"
   ]
  },
  {
   "cell_type": "code",
   "execution_count": 22,
   "metadata": {},
   "outputs": [
    {
     "name": "stdout",
     "output_type": "stream",
     "text": [
      "Probabilidades (taxas de conversão):\n",
      "Variante A: 0.1536\n",
      "Variante B: 0.1962\n",
      "\n",
      "Número de conversões:\n",
      "Variante A: 3821\n",
      "Variante B: 5000\n",
      "\n",
      "Efeito mínimo detectável\n",
      "0.04257529442554306\n"
     ]
    }
   ],
   "source": [
    "#Parametros para o teste\n",
    "\n",
    "# Probabilidades (taxas de conversão)\n",
    "p_A = taxa_A\n",
    "p_B = taxa_B\n",
    "\n",
    "# Número de conversões\n",
    "N_A = 3821\n",
    "N_B = 5000\n",
    "\n",
    "print(f'Probabilidades (taxas de conversão):')\n",
    "print(f'Variante A: {round(p_A,4)}')\n",
    "print(f'Variante B: {p_B}')\n",
    "\n",
    "print(f'\\nNúmero de conversões:')\n",
    "print(f'Variante A: {N_A}')\n",
    "print(f'Variante B: {N_B}')\n",
    "\n",
    "print('\\nEfeito mínimo detectável')\n",
    "print(f'{efeito_minimo}')"
   ]
  },
  {
   "cell_type": "markdown",
   "metadata": {},
   "source": [
    "**Parâmetros que serão usados para o teste de hipotese**"
   ]
  },
  {
   "cell_type": "code",
   "execution_count": 90,
   "metadata": {},
   "outputs": [
    {
     "data": {
      "text/plain": [
       "0.17775762385217095"
      ]
     },
     "execution_count": 90,
     "metadata": {},
     "output_type": "execute_result"
    }
   ],
   "source": [
    "# Calculando a probabilidade agrupada\n",
    "prob_agrupada = (p_A * N_A + p_B * N_B) / (N_A + N_B)\n",
    "\n",
    "\n",
    "#OU \n",
    "\n",
    "#Total de vendas\n",
    "t_vendas = np.sum(df_ab_sumario.compra)\n",
    "\n",
    "#Total de usuarios \n",
    "tot_teste = len(df_vendas_2020)\n",
    "\n",
    "# Calculando a probabilidade agrupada\n",
    "prob_agrupada = t_vendas / tot_teste\n",
    "prob_agrupada"
   ]
  },
  {
   "cell_type": "markdown",
   "metadata": {},
   "source": [
    "**Calculando a probabilidade agrupada, retiramos a probabilidade da variante A ser maior que a variante B, sendo assim podemos realizar o teste de Hipótese**"
   ]
  },
  {
   "cell_type": "code",
   "execution_count": 24,
   "metadata": {},
   "outputs": [
    {
     "data": {
      "text/plain": [
       "5.1827257006909795"
      ]
     },
     "execution_count": 24,
     "metadata": {},
     "output_type": "execute_result"
    }
   ],
   "source": [
    "#Calcular o Alfa: Nível de confiança a 95%\n",
    "alpha = (efeito_minimo) / (prob_agrupada * (1 - prob_agrupada) * (1 / N_A + 1 / N_B))**0.5\n",
    "alpha"
   ]
  },
  {
   "cell_type": "markdown",
   "metadata": {},
   "source": [
    "**Valor de rejeição da variante B**"
   ]
  },
  {
   "cell_type": "code",
   "execution_count": 25,
   "metadata": {},
   "outputs": [
    {
     "name": "stdout",
     "output_type": "stream",
     "text": [
      "Valor Critico: 1.64\n"
     ]
    }
   ],
   "source": [
    "#Valor critico para um nivel de confiança de 95%\n",
    "valor_critico = 1.64\n",
    "print(f'Valor Critico: {valor_critico}')"
   ]
  },
  {
   "cell_type": "code",
   "execution_count": 26,
   "metadata": {},
   "outputs": [
    {
     "data": {
      "text/plain": [
       "True"
      ]
     },
     "execution_count": 26,
     "metadata": {},
     "output_type": "execute_result"
    }
   ],
   "source": [
    "# Verificamos se o alpha(região de rejeição) é maior que o valor critico(nível de confiança de 95%)\n",
    "\n",
    "alpha > valor_critico"
   ]
  },
  {
   "cell_type": "markdown",
   "metadata": {},
   "source": [
    "**O valor critico com um nível de confiança de 95% é menor que alpha, sendo assim podemos rejeitar H0, e concluir que para esse conjunto de dados se retirarmos as avaliações do site, há 95% de chance de aumentar o número de conversão de vendas dos produtos**  "
   ]
  },
  {
   "cell_type": "markdown",
   "metadata": {},
   "source": [
    "# Teste A/B usando o algortimo MultiComparison"
   ]
  },
  {
   "cell_type": "code",
   "execution_count": 27,
   "metadata": {},
   "outputs": [
    {
     "data": {
      "text/html": [
       "<table class=\"simpletable\">\n",
       "<caption>Multiple Comparison of Means - Tukey HSD, FWER=0.05</caption>\n",
       "<tr>\n",
       "  <th>group1</th> <th>group2</th> <th>meandiff</th> <th>p-adj</th>  <th>lower</th>  <th>upper</th> <th>reject</th>\n",
       "</tr>\n",
       "<tr>\n",
       "     <td>A</td>      <td>B</td>    <td>0.0426</td>  <td>0.001</td> <td>0.0265</td> <td>0.0587</td>  <td>True</td> \n",
       "</tr>\n",
       "</table>"
      ],
      "text/plain": [
       "<class 'statsmodels.iolib.table.SimpleTable'>"
      ]
     },
     "execution_count": 27,
     "metadata": {},
     "output_type": "execute_result"
    }
   ],
   "source": [
    "# Criando o teste\n",
    "from statsmodels.stats.multicomp import MultiComparison\n",
    "\n",
    "#Filtrando as vendas de janeiro\n",
    "df_vendas_ = dados[dados['ano_mes'] == '2020-01']\n",
    "\n",
    "#Criando o teste A/B\n",
    "com = MultiComparison(df_vendas_['compra'],df_vendas_['variante'])\n",
    "\n",
    "#Nivel de confiança a 95%\n",
    "tukey = com.tukeyhsd(alpha=0.05)\n",
    "\n",
    "#Sumario do teste\n",
    "tukey.summary()\n"
   ]
  },
  {
   "cell_type": "markdown",
   "metadata": {},
   "source": [
    "**O algoritimo do teste A/B já leva em consideração o tamanho das amostras e calcula a diferença estatística das medias do teste e faz a comparação, caso H0 for rejeitado a coluna reject estará como True**"
   ]
  },
  {
   "cell_type": "markdown",
   "metadata": {},
   "source": [
    "# Calcular o tamanho mínimo necessário das amostras para cada grupo"
   ]
  },
  {
   "cell_type": "markdown",
   "metadata": {},
   "source": [
    "O cálculo determina o mínimo de amostras de cada variante necessária para ter um poder estatístico de 80% (probabilidade de ocorrência)"
   ]
  },
  {
   "cell_type": "markdown",
   "metadata": {},
   "source": [
    "Nível de confiança de 95% para um teste A / B"
   ]
  },
  {
   "cell_type": "markdown",
   "metadata": {},
   "source": [
    "$$ n_A = k*n_B $$\n",
    "\n",
    "$$ n_B = (\\frac{p_A(1-p_A)}{k}+p_B(1-p_B)) (\\frac{Z_{1-\\alpha} + Z_{1-\\beta}}{p_A-p_B})^{2}$$\n",
    "\n",
    "$$ n = \\frac{2(\\bar{p})(1-\\bar{p})(Z_{1-\\beta}+Z_{1-\\alpha})^2}{(p_B-p_A)^2}$$"
   ]
  },
  {
   "cell_type": "markdown",
   "metadata": {},
   "source": [
    "Abaixo está o código Python que executa o mesmo cálculo para o tamanho mínimo das amostras:"
   ]
  },
  {
   "cell_type": "code",
   "execution_count": 28,
   "metadata": {},
   "outputs": [],
   "source": [
    "# Função para encontrar o tamanho mínimo da amostra\n",
    "def calcula_tamanho_min_amostra(N_A, \n",
    "                                N_B, \n",
    "                                p_A, \n",
    "                                p_B, \n",
    "                                power = 0.8, \n",
    "                                sig_level = 0.05, \n",
    "                                two_sided = False):\n",
    "   \n",
    "    k = N_A/N_B\n",
    "    \n",
    "    # Distribuição normal para determinar os valores z\n",
    "    standard_norm = scipy.norm(0, 1)\n",
    "\n",
    "    # Encontramos o valor de z para o poder estatístico\n",
    "    Z_beta = standard_norm.ppf(power)\n",
    "    \n",
    "    # Encontramos z alfa\n",
    "    if two_sided == True:\n",
    "        Z_alpha = standard_norm.ppf(1-sig_level/2)\n",
    "    else:\n",
    "        Z_alpha = standard_norm.ppf(1-sig_level)\n",
    "\n",
    "    # Probabilidade agrupada\n",
    "    pooled_prob = (p_A + p_B) / 2\n",
    "\n",
    "    # Tamanho mínimo da amostra\n",
    "    min_N = (2 * pooled_prob * (1 - pooled_prob) * (Z_beta + Z_alpha)**2 / efeito_minimo**2)    \n",
    "\n",
    "    return min_N"
   ]
  },
  {
   "cell_type": "code",
   "execution_count": 29,
   "metadata": {},
   "outputs": [
    {
     "data": {
      "text/plain": [
       "1249.8068972849476"
      ]
     },
     "execution_count": 29,
     "metadata": {},
     "output_type": "execute_result"
    }
   ],
   "source": [
    "# Calculamos o tamanho mínimo das amostras com two_sided = True\n",
    "calcula_tamanho_min_amostra(N_A, N_B, p_A, p_B, power = 0.8, sig_level = 0.05, two_sided = True)"
   ]
  },
  {
   "cell_type": "markdown",
   "metadata": {},
   "source": [
    "**Para esse conjunto de dados onde temos 3821 registros para variante A e 5000 registros para variante B, com taxa de conversão de 15% para variante A e 20% para B, podemos afirmar que para um poder estatístico de 80% que é o mínimo aceitável, uma amostra de 1250 para cada variante ja é o suficiente para determinar o teste A/B**"
   ]
  },
  {
   "cell_type": "markdown",
   "metadata": {},
   "source": [
    "# Conclusão:"
   ]
  },
  {
   "cell_type": "markdown",
   "metadata": {},
   "source": [
    "**Para chegar à conclusão do teste A/B, há varios parâmetros a ser seguidos como vimos ao longo desse mini-projeto, o importante é chegar no resultado que seja confiável, por isso além do teste A/B é de extrema importância calcular o teste de hipotese, ele que vai nos dizer se o teste é confiável ou não através dos dados fornecidos**"
   ]
  },
  {
   "cell_type": "code",
   "execution_count": null,
   "metadata": {},
   "outputs": [],
   "source": []
  }
 ],
 "metadata": {
  "anaconda-cloud": {},
  "kernelspec": {
   "display_name": "Python 3 (ipykernel)",
   "language": "python",
   "name": "python3"
  },
  "language_info": {
   "codemirror_mode": {
    "name": "ipython",
    "version": 3
   },
   "file_extension": ".py",
   "mimetype": "text/x-python",
   "name": "python",
   "nbconvert_exporter": "python",
   "pygments_lexer": "ipython3",
   "version": "3.9.12"
  }
 },
 "nbformat": 4,
 "nbformat_minor": 1
}
