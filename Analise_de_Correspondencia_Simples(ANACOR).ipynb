{
 "cells": [
  {
   "cell_type": "markdown",
   "metadata": {},
   "source": [
    "# $$Análises~de~Correspondências~Simples~(ANACOR)$$"
   ]
  },
  {
   "cell_type": "markdown",
   "metadata": {},
   "source": [
    "## $$Conceito$$\n",
    "\n",
    "- Técnica não supervisionada(Diagnostica), que visa a redução de dimensão da base de dados\n",
    "\n",
    "\n",
    "- Trabalhar com dados que se manifestam de forma qualitativa, não possuindo a intenção de se fazer predições para observações não presentes na amostra\n",
    "\n",
    "\n",
    "- Quando o número de variáveis de interesse for igual a 2, utilizaremos as Análises de Correspondências Simples (ANACOR); por outro lado, quando o número de variáveis de interesse for maior do que 2, utilizaremos as Análises de Correspondências Múltiplas (ACM)\n",
    "\n",
    "\n",
    "- A ideia, portanto, é a de se estudar as relações de interdependência em razão das associações entre as categorias das variáveis de interesse, O grande objetivo das Análises de Correspondências é o estabelecimento de um mapa perceptual. O mapa perceptual é uma espécie de gráfico que utilizará coordenadas que representarão as linhas e as colunas de uma tabela de contingências.\n",
    "\n",
    "\n",
    "- Conseguimos extrair dados métricos de uma variável categórica usando analise de correspondência"
   ]
  },
  {
   "cell_type": "markdown",
   "metadata": {},
   "source": [
    "# Objetivo: Criar um mapa perceptual do perfil investidor dos clientes "
   ]
  },
  {
   "cell_type": "code",
   "execution_count": 1,
   "metadata": {},
   "outputs": [],
   "source": [
    "#Pacotes\n",
    "import pandas as pd\n",
    "import numpy as np\n",
    "import scipy.stats as stats \n",
    "import matplotlib.pyplot as plt"
   ]
  },
  {
   "cell_type": "markdown",
   "metadata": {},
   "source": [
    "# Banco de dados "
   ]
  },
  {
   "cell_type": "code",
   "execution_count": 2,
   "metadata": {},
   "outputs": [
    {
     "data": {
      "text/html": [
       "<div>\n",
       "<style scoped>\n",
       "    .dataframe tbody tr th:only-of-type {\n",
       "        vertical-align: middle;\n",
       "    }\n",
       "\n",
       "    .dataframe tbody tr th {\n",
       "        vertical-align: top;\n",
       "    }\n",
       "\n",
       "    .dataframe thead th {\n",
       "        text-align: right;\n",
       "    }\n",
       "</style>\n",
       "<table border=\"1\" class=\"dataframe\">\n",
       "  <thead>\n",
       "    <tr style=\"text-align: right;\">\n",
       "      <th></th>\n",
       "      <th>perfil</th>\n",
       "      <th>aplicacao</th>\n",
       "    </tr>\n",
       "    <tr>\n",
       "      <th>estudante</th>\n",
       "      <th></th>\n",
       "      <th></th>\n",
       "    </tr>\n",
       "  </thead>\n",
       "  <tbody>\n",
       "    <tr>\n",
       "      <th>Gabriela</th>\n",
       "      <td>Conservador</td>\n",
       "      <td>Poupanca</td>\n",
       "    </tr>\n",
       "    <tr>\n",
       "      <th>Luiz Felipe</th>\n",
       "      <td>Conservador</td>\n",
       "      <td>Poupanca</td>\n",
       "    </tr>\n",
       "    <tr>\n",
       "      <th>Patrícia</th>\n",
       "      <td>Conservador</td>\n",
       "      <td>Poupanca</td>\n",
       "    </tr>\n",
       "    <tr>\n",
       "      <th>Gustavo</th>\n",
       "      <td>Conservador</td>\n",
       "      <td>Poupanca</td>\n",
       "    </tr>\n",
       "    <tr>\n",
       "      <th>Letícia</th>\n",
       "      <td>Conservador</td>\n",
       "      <td>Poupanca</td>\n",
       "    </tr>\n",
       "    <tr>\n",
       "      <th>...</th>\n",
       "      <td>...</td>\n",
       "      <td>...</td>\n",
       "    </tr>\n",
       "    <tr>\n",
       "      <th>Sheila</th>\n",
       "      <td>Agressivo</td>\n",
       "      <td>Acoes</td>\n",
       "    </tr>\n",
       "    <tr>\n",
       "      <th>Pedro</th>\n",
       "      <td>Agressivo</td>\n",
       "      <td>Acoes</td>\n",
       "    </tr>\n",
       "    <tr>\n",
       "      <th>Horácio</th>\n",
       "      <td>Agressivo</td>\n",
       "      <td>Acoes</td>\n",
       "    </tr>\n",
       "    <tr>\n",
       "      <th>Leandro</th>\n",
       "      <td>Agressivo</td>\n",
       "      <td>Acoes</td>\n",
       "    </tr>\n",
       "    <tr>\n",
       "      <th>Estela</th>\n",
       "      <td>Agressivo</td>\n",
       "      <td>Acoes</td>\n",
       "    </tr>\n",
       "  </tbody>\n",
       "</table>\n",
       "<p>100 rows × 2 columns</p>\n",
       "</div>"
      ],
      "text/plain": [
       "                  perfil aplicacao\n",
       "estudante                         \n",
       "Gabriela     Conservador  Poupanca\n",
       "Luiz Felipe  Conservador  Poupanca\n",
       "Patrícia     Conservador  Poupanca\n",
       "Gustavo      Conservador  Poupanca\n",
       "Letícia      Conservador  Poupanca\n",
       "...                  ...       ...\n",
       "Sheila         Agressivo     Acoes\n",
       "Pedro          Agressivo     Acoes\n",
       "Horácio        Agressivo     Acoes\n",
       "Leandro        Agressivo     Acoes\n",
       "Estela         Agressivo     Acoes\n",
       "\n",
       "[100 rows x 2 columns]"
      ]
     },
     "execution_count": 2,
     "metadata": {},
     "output_type": "execute_result"
    }
   ],
   "source": [
    "#Base de dados\n",
    "dados = pd.read_csv('perfil_investidor.csv',encoding='latin-1')\n",
    "dados = dados.set_index('estudante')\n",
    "dados"
   ]
  },
  {
   "cell_type": "markdown",
   "metadata": {},
   "source": [
    "**Tabela com 100 observações e 2 variáveis**"
   ]
  },
  {
   "cell_type": "code",
   "execution_count": 3,
   "metadata": {},
   "outputs": [
    {
     "name": "stdout",
     "output_type": "stream",
     "text": [
      "['Conservador' 'Moderado' 'Agressivo']\n",
      "['Poupanca' 'CDB' 'Acoes']\n"
     ]
    }
   ],
   "source": [
    "#Labels\n",
    "print(dados.perfil.unique())\n",
    "print(dados.aplicacao.unique())\n"
   ]
  },
  {
   "cell_type": "markdown",
   "metadata": {},
   "source": [
    "**Cada variável possui 3 labels cada**"
   ]
  },
  {
   "cell_type": "code",
   "execution_count": 4,
   "metadata": {},
   "outputs": [
    {
     "data": {
      "text/plain": [
       "Agressivo      58\n",
       "Moderado       25\n",
       "Conservador    17\n",
       "Name: perfil, dtype: int64"
      ]
     },
     "execution_count": 4,
     "metadata": {},
     "output_type": "execute_result"
    }
   ],
   "source": [
    "#Frequência das labels na variável perfil\n",
    "dados.perfil.value_counts()"
   ]
  },
  {
   "cell_type": "code",
   "execution_count": 5,
   "metadata": {},
   "outputs": [
    {
     "data": {
      "text/plain": [
       "Acoes       45\n",
       "CDB         40\n",
       "Poupanca    15\n",
       "Name: aplicacao, dtype: int64"
      ]
     },
     "execution_count": 5,
     "metadata": {},
     "output_type": "execute_result"
    }
   ],
   "source": [
    "#Frequencia das labels na variável aplicacao\n",
    "dados.aplicacao.value_counts()"
   ]
  },
  {
   "cell_type": "markdown",
   "metadata": {},
   "source": [
    "## $$PRIMEIRO~PASSO:$$\n",
    "\n",
    "\n",
    "- A Construção de uma Tabela de Frequências Observadas "
   ]
  },
  {
   "cell_type": "code",
   "execution_count": 6,
   "metadata": {},
   "outputs": [
    {
     "data": {
      "text/html": [
       "<div>\n",
       "<style scoped>\n",
       "    .dataframe tbody tr th:only-of-type {\n",
       "        vertical-align: middle;\n",
       "    }\n",
       "\n",
       "    .dataframe tbody tr th {\n",
       "        vertical-align: top;\n",
       "    }\n",
       "\n",
       "    .dataframe thead th {\n",
       "        text-align: right;\n",
       "    }\n",
       "</style>\n",
       "<table border=\"1\" class=\"dataframe\">\n",
       "  <thead>\n",
       "    <tr style=\"text-align: right;\">\n",
       "      <th>aplicacao</th>\n",
       "      <th>Acoes</th>\n",
       "      <th>CDB</th>\n",
       "      <th>Poupanca</th>\n",
       "      <th>All</th>\n",
       "    </tr>\n",
       "    <tr>\n",
       "      <th>perfil</th>\n",
       "      <th></th>\n",
       "      <th></th>\n",
       "      <th></th>\n",
       "      <th></th>\n",
       "    </tr>\n",
       "  </thead>\n",
       "  <tbody>\n",
       "    <tr>\n",
       "      <th>Agressivo</th>\n",
       "      <td>36</td>\n",
       "      <td>20</td>\n",
       "      <td>2</td>\n",
       "      <td>58</td>\n",
       "    </tr>\n",
       "    <tr>\n",
       "      <th>Conservador</th>\n",
       "      <td>5</td>\n",
       "      <td>4</td>\n",
       "      <td>8</td>\n",
       "      <td>17</td>\n",
       "    </tr>\n",
       "    <tr>\n",
       "      <th>Moderado</th>\n",
       "      <td>4</td>\n",
       "      <td>16</td>\n",
       "      <td>5</td>\n",
       "      <td>25</td>\n",
       "    </tr>\n",
       "    <tr>\n",
       "      <th>All</th>\n",
       "      <td>45</td>\n",
       "      <td>40</td>\n",
       "      <td>15</td>\n",
       "      <td>100</td>\n",
       "    </tr>\n",
       "  </tbody>\n",
       "</table>\n",
       "</div>"
      ],
      "text/plain": [
       "aplicacao    Acoes  CDB  Poupanca  All\n",
       "perfil                                \n",
       "Agressivo       36   20         2   58\n",
       "Conservador      5    4         8   17\n",
       "Moderado         4   16         5   25\n",
       "All             45   40        15  100"
      ]
     },
     "execution_count": 6,
     "metadata": {},
     "output_type": "execute_result"
    }
   ],
   "source": [
    "#Tabela de Contingências = Valores Observados\n",
    "tab_cont = pd.crosstab(dados.perfil,dados.aplicacao,margins=True)\n",
    "tab_cont"
   ]
  },
  {
   "cell_type": "markdown",
   "metadata": {},
   "source": [
    "**Cruzamento entre pares de 2 variáveis categóricas**"
   ]
  },
  {
   "cell_type": "markdown",
   "metadata": {},
   "source": [
    "**Tabela de Contingências é a chave para construção da ANACOR, através dela que conseguimos extrair os Auto Valores e Auto Vetores**"
   ]
  },
  {
   "cell_type": "markdown",
   "metadata": {},
   "source": [
    "## $$SEGUNDO~PASSO:$$\n",
    "\n",
    "\n"
   ]
  },
  {
   "cell_type": "markdown",
   "metadata": {},
   "source": [
    " ## Estudo das Associações entre as Categorias das Variáveis de Interesse "
   ]
  },
  {
   "cell_type": "markdown",
   "metadata": {},
   "source": [
    "**Para o estudo das associações entre as categorias das variáveis, utilizaremos dois instrumentos: o Teste 𝜒2 e a análise dos resíduos padronizados ajustados**\n",
    "\n",
    "\n",
    "- O **Teste 𝜒2** estudará se as associações entre as categorias das variáveis se associam, ou não, de forma aleatória, caso o p_valor seja < 0.05, rejeitamos a hipótese nula que diz que as duas variáveis categóricas se associam de forma aleatória e pelo menos 1 categoria se mostrará correlacionada com outra\n",
    "\n",
    "\n",
    "- Logo, deveremos estabelecer uma matriz de valores esperados e, a seguir, uma matriz de resíduos – isso bastará para o Teste 𝜒2\n",
    "\n",
    "\n",
    "- A **análise dos resíduos padronizados ajustados** revelará os padrões característicos de cada categoria, caso o valor entre 2 variáveis for maior que 1.96, elas se mostraram correlacionadas\n",
    "\n",
    "\n",
    "\n",
    "- No caso da análise dos resíduos padronizados ajustados, devemos utilizar a matriz de resíduos para definir uma matriz de resíduos padronizados. Após isso, conseguimos estabelecer uma matriz de resíduos padronizados ajustados.\n"
   ]
  },
  {
   "cell_type": "markdown",
   "metadata": {},
   "source": [
    "## Contruir a tabela de frequência esperada"
   ]
  },
  {
   "cell_type": "code",
   "execution_count": 7,
   "metadata": {},
   "outputs": [
    {
     "data": {
      "text/html": [
       "<div>\n",
       "<style scoped>\n",
       "    .dataframe tbody tr th:only-of-type {\n",
       "        vertical-align: middle;\n",
       "    }\n",
       "\n",
       "    .dataframe tbody tr th {\n",
       "        vertical-align: top;\n",
       "    }\n",
       "\n",
       "    .dataframe thead th {\n",
       "        text-align: right;\n",
       "    }\n",
       "</style>\n",
       "<table border=\"1\" class=\"dataframe\">\n",
       "  <thead>\n",
       "    <tr style=\"text-align: right;\">\n",
       "      <th>aplicacao</th>\n",
       "      <th>Acoes</th>\n",
       "      <th>CDB</th>\n",
       "      <th>Poupanca</th>\n",
       "      <th>All</th>\n",
       "    </tr>\n",
       "    <tr>\n",
       "      <th>perfil</th>\n",
       "      <th></th>\n",
       "      <th></th>\n",
       "      <th></th>\n",
       "      <th></th>\n",
       "    </tr>\n",
       "  </thead>\n",
       "  <tbody>\n",
       "    <tr>\n",
       "      <th>Agressivo</th>\n",
       "      <td>26.10</td>\n",
       "      <td>23.2</td>\n",
       "      <td>8.70</td>\n",
       "      <td>58.0</td>\n",
       "    </tr>\n",
       "    <tr>\n",
       "      <th>Conservador</th>\n",
       "      <td>7.65</td>\n",
       "      <td>6.8</td>\n",
       "      <td>2.55</td>\n",
       "      <td>17.0</td>\n",
       "    </tr>\n",
       "    <tr>\n",
       "      <th>Moderado</th>\n",
       "      <td>11.25</td>\n",
       "      <td>10.0</td>\n",
       "      <td>3.75</td>\n",
       "      <td>25.0</td>\n",
       "    </tr>\n",
       "    <tr>\n",
       "      <th>All</th>\n",
       "      <td>45.00</td>\n",
       "      <td>40.0</td>\n",
       "      <td>15.00</td>\n",
       "      <td>100.0</td>\n",
       "    </tr>\n",
       "  </tbody>\n",
       "</table>\n",
       "</div>"
      ],
      "text/plain": [
       "aplicacao    Acoes   CDB  Poupanca    All\n",
       "perfil                                   \n",
       "Agressivo    26.10  23.2      8.70   58.0\n",
       "Conservador   7.65   6.8      2.55   17.0\n",
       "Moderado     11.25  10.0      3.75   25.0\n",
       "All          45.00  40.0     15.00  100.0"
      ]
     },
     "execution_count": 7,
     "metadata": {},
     "output_type": "execute_result"
    }
   ],
   "source": [
    "# frequência esperada\n",
    "_,_,_,valores_esperados = stats.chi2_contingency(tab_cont)\n",
    "\n",
    "#Tabela de frequência esperada\n",
    "tab_esp = pd.DataFrame(valores_esperados,columns=tab_cont.columns)\n",
    "tab_esp['perfil'] = tab_cont.index\n",
    "tab_esp = tab_esp.set_index('perfil')\n",
    "tab_esp"
   ]
  },
  {
   "cell_type": "markdown",
   "metadata": {},
   "source": [
    "**Contagem de observações que se esperaria, em média, se as variáveis fossem independentes, sem nenhum grau de correlação**"
   ]
  },
  {
   "cell_type": "markdown",
   "metadata": {},
   "source": [
    "## Tabela de Resíduos "
   ]
  },
  {
   "cell_type": "code",
   "execution_count": 8,
   "metadata": {},
   "outputs": [
    {
     "data": {
      "text/html": [
       "<div>\n",
       "<style scoped>\n",
       "    .dataframe tbody tr th:only-of-type {\n",
       "        vertical-align: middle;\n",
       "    }\n",
       "\n",
       "    .dataframe tbody tr th {\n",
       "        vertical-align: top;\n",
       "    }\n",
       "\n",
       "    .dataframe thead th {\n",
       "        text-align: right;\n",
       "    }\n",
       "</style>\n",
       "<table border=\"1\" class=\"dataframe\">\n",
       "  <thead>\n",
       "    <tr style=\"text-align: right;\">\n",
       "      <th>aplicacao</th>\n",
       "      <th>Acoes</th>\n",
       "      <th>CDB</th>\n",
       "      <th>Poupanca</th>\n",
       "    </tr>\n",
       "    <tr>\n",
       "      <th>perfil</th>\n",
       "      <th></th>\n",
       "      <th></th>\n",
       "      <th></th>\n",
       "    </tr>\n",
       "  </thead>\n",
       "  <tbody>\n",
       "    <tr>\n",
       "      <th>Agressivo</th>\n",
       "      <td>9.90</td>\n",
       "      <td>-3.2</td>\n",
       "      <td>-6.70</td>\n",
       "    </tr>\n",
       "    <tr>\n",
       "      <th>Conservador</th>\n",
       "      <td>-2.65</td>\n",
       "      <td>-2.8</td>\n",
       "      <td>5.45</td>\n",
       "    </tr>\n",
       "    <tr>\n",
       "      <th>Moderado</th>\n",
       "      <td>-7.25</td>\n",
       "      <td>6.0</td>\n",
       "      <td>1.25</td>\n",
       "    </tr>\n",
       "  </tbody>\n",
       "</table>\n",
       "</div>"
      ],
      "text/plain": [
       "aplicacao    Acoes  CDB  Poupanca\n",
       "perfil                           \n",
       "Agressivo     9.90 -3.2     -6.70\n",
       "Conservador  -2.65 -2.8      5.45\n",
       "Moderado     -7.25  6.0      1.25"
      ]
     },
     "execution_count": 8,
     "metadata": {},
     "output_type": "execute_result"
    }
   ],
   "source": [
    "#Residuos \n",
    "resi = tab_cont - tab_esp\n",
    "resi = resi.iloc[0:3,0:3]\n",
    "resi"
   ]
  },
  {
   "cell_type": "markdown",
   "metadata": {},
   "source": [
    "**Diferença entre as tabelas dos valores observados e dos valores esperados, soma dos resíduos será sempre 0, com a tabela de resíduos podemos fazer o teste Chi²**"
   ]
  },
  {
   "cell_type": "markdown",
   "metadata": {},
   "source": [
    "## Teste chi²"
   ]
  },
  {
   "cell_type": "markdown",
   "metadata": {},
   "source": [
    "**São hipóteses do Teste 𝜒2:**\n",
    "\n",
    "\n",
    "- H0: as duas variáveis categóricas se associam de forma aleatória\n",
    "    \n",
    "    \n",
    "- 𝐻1: as duas variáveis categóricas não se associam de forma aleatória"
   ]
  },
  {
   "cell_type": "code",
   "execution_count": 9,
   "metadata": {},
   "outputs": [
    {
     "data": {
      "text/html": [
       "<div>\n",
       "<style scoped>\n",
       "    .dataframe tbody tr th:only-of-type {\n",
       "        vertical-align: middle;\n",
       "    }\n",
       "\n",
       "    .dataframe tbody tr th {\n",
       "        vertical-align: top;\n",
       "    }\n",
       "\n",
       "    .dataframe thead th {\n",
       "        text-align: right;\n",
       "    }\n",
       "</style>\n",
       "<table border=\"1\" class=\"dataframe\">\n",
       "  <thead>\n",
       "    <tr style=\"text-align: right;\">\n",
       "      <th>aplicacao</th>\n",
       "      <th>Acoes</th>\n",
       "      <th>CDB</th>\n",
       "      <th>Poupanca</th>\n",
       "    </tr>\n",
       "    <tr>\n",
       "      <th>perfil</th>\n",
       "      <th></th>\n",
       "      <th></th>\n",
       "      <th></th>\n",
       "    </tr>\n",
       "  </thead>\n",
       "  <tbody>\n",
       "    <tr>\n",
       "      <th>Agressivo</th>\n",
       "      <td>3.755172</td>\n",
       "      <td>0.441379</td>\n",
       "      <td>5.159770</td>\n",
       "    </tr>\n",
       "    <tr>\n",
       "      <th>Conservador</th>\n",
       "      <td>0.917974</td>\n",
       "      <td>1.152941</td>\n",
       "      <td>11.648039</td>\n",
       "    </tr>\n",
       "    <tr>\n",
       "      <th>Moderado</th>\n",
       "      <td>4.672222</td>\n",
       "      <td>3.600000</td>\n",
       "      <td>0.416667</td>\n",
       "    </tr>\n",
       "  </tbody>\n",
       "</table>\n",
       "</div>"
      ],
      "text/plain": [
       "aplicacao       Acoes       CDB   Poupanca\n",
       "perfil                                    \n",
       "Agressivo    3.755172  0.441379   5.159770\n",
       "Conservador  0.917974  1.152941  11.648039\n",
       "Moderado     4.672222  3.600000   0.416667"
      ]
     },
     "execution_count": 9,
     "metadata": {},
     "output_type": "execute_result"
    }
   ],
   "source": [
    "#Matriz chi²\n",
    "x2 = resi**2 / tab_esp.iloc[0:3,0:3]\n",
    "x2"
   ]
  },
  {
   "cell_type": "markdown",
   "metadata": {},
   "source": [
    "**A matriz Chi² é construída através dos resíduos ao quadrado dividido pelos valores esperados**"
   ]
  },
  {
   "cell_type": "code",
   "execution_count": 10,
   "metadata": {},
   "outputs": [
    {
     "data": {
      "text/plain": [
       "31.764164976335362"
      ]
     },
     "execution_count": 10,
     "metadata": {},
     "output_type": "execute_result"
    }
   ],
   "source": [
    "#Valor Chi² (Soma da matriz chi²)\n",
    "Valor_chi2 = np.array(x2).sum()\n",
    "Valor_chi2"
   ]
  },
  {
   "cell_type": "markdown",
   "metadata": {},
   "source": [
    "**O valor Chi² é calculado através da soma da matriz chi², com esse valor podemos rejeitar ou não a hipótese nula a um nível de confiança de 95%**"
   ]
  },
  {
   "cell_type": "markdown",
   "metadata": {},
   "source": [
    "**OBS: Para saber se o valor Chi² 31.76 é maior ou menor que o valor critico, temos que usar o algoritimo do teste Chi² e observar o P_valor, caso ele seja < 0.05, as duas variáveis categóricas não se associam de forma aleatória**"
   ]
  },
  {
   "cell_type": "code",
   "execution_count": 11,
   "metadata": {},
   "outputs": [
    {
     "data": {
      "text/plain": [
       "0.0002187073702990959"
      ]
     },
     "execution_count": 11,
     "metadata": {},
     "output_type": "execute_result"
    }
   ],
   "source": [
    "#Teste chi²\n",
    "chi2, pvalor, graus_liberdade, _ = stats.chi2_contingency(tab_cont)\n",
    "pvalor"
   ]
  },
  {
   "cell_type": "markdown",
   "metadata": {},
   "source": [
    "**P_valor < 0.05, rejeita-se H0, as duas variáveis categóricas não se associam de forma aleatória, portanto há ANACOR**"
   ]
  },
  {
   "cell_type": "markdown",
   "metadata": {},
   "source": [
    "## Outra maneira de construir o teste Chi²"
   ]
  },
  {
   "cell_type": "code",
   "execution_count": 12,
   "metadata": {},
   "outputs": [
    {
     "name": "stdout",
     "output_type": "stream",
     "text": [
      "Graus de Liberdade: 4\n",
      "Valor Critico: 9.487729036781158\n",
      "Valor do chi²: 31.764164976335362\n"
     ]
    }
   ],
   "source": [
    "#Valor do chi²\n",
    "\n",
    "#Grau de liberdade = (numero de linha da tabela de contingencia - 1) * (Numero de coluna da tabela de contingencia - 1) \n",
    "tab_gl = pd.crosstab(dados.perfil,dados.aplicacao)\n",
    "\n",
    "nl = tab_gl.shape[0] # numero de linha \n",
    "nc = tab_gl.shape[1] # numero de Colunas \n",
    "\n",
    "gl = (nl -1)*(nc-1)#Formula do gl\n",
    "print(f'Graus de Liberdade: {gl}')\n",
    "\n",
    "#Valor Critico\n",
    "from scipy.special import chdtri\n",
    "va_c = chdtri(4,0.05) #Graus de liberdade e nivel de significancia\n",
    "\n",
    "print(f'Valor Critico: {va_c}')\n",
    "print(f'Valor do chi²: {Valor_chi2}')"
   ]
  },
  {
   "cell_type": "markdown",
   "metadata": {},
   "source": [
    "**Como o valor do chi² foi maior que o valor critico, então rejeitamos a hipótese nula, que diz que as duas variáveis categóricas se associam de forma aleatória**"
   ]
  },
  {
   "cell_type": "markdown",
   "metadata": {},
   "source": [
    "# 1° Conclusão:"
   ]
  },
  {
   "cell_type": "markdown",
   "metadata": {},
   "source": [
    "**Caso o teste Chi² não rejeitasse a hipótese nula, o problema acabaria aqui, pois não haveria ANACOR, porém o teste rejeitou H0, portanto há pelos menos 1 associação entre as categorias das variáveis, e para saber qual ou quais são essas categorias, criaremos a tabela de resíduos padronizados ajustados**"
   ]
  },
  {
   "cell_type": "markdown",
   "metadata": {},
   "source": [
    "# Resíduos padronizados ajustados"
   ]
  },
  {
   "cell_type": "markdown",
   "metadata": {},
   "source": [
    "**Podemos interpretar os resíduos padronizados ajustados, para a nossa análise, como a força da associação entre as categorias, análogo a uma matriz de correlação de Pearson**"
   ]
  },
  {
   "cell_type": "markdown",
   "metadata": {},
   "source": [
    "**OBS: Precisamos construir a tabela dos Resíduos padronizados para criar a tabela dos Resíduos padronizados ajustados**"
   ]
  },
  {
   "cell_type": "markdown",
   "metadata": {},
   "source": [
    "## 1° Criar a tabela de resíduos padronizados"
   ]
  },
  {
   "cell_type": "code",
   "execution_count": 13,
   "metadata": {},
   "outputs": [
    {
     "data": {
      "text/html": [
       "<div>\n",
       "<style scoped>\n",
       "    .dataframe tbody tr th:only-of-type {\n",
       "        vertical-align: middle;\n",
       "    }\n",
       "\n",
       "    .dataframe tbody tr th {\n",
       "        vertical-align: top;\n",
       "    }\n",
       "\n",
       "    .dataframe thead th {\n",
       "        text-align: right;\n",
       "    }\n",
       "</style>\n",
       "<table border=\"1\" class=\"dataframe\">\n",
       "  <thead>\n",
       "    <tr style=\"text-align: right;\">\n",
       "      <th>aplicacao</th>\n",
       "      <th>Acoes</th>\n",
       "      <th>CDB</th>\n",
       "      <th>Poupanca</th>\n",
       "    </tr>\n",
       "    <tr>\n",
       "      <th>perfil</th>\n",
       "      <th></th>\n",
       "      <th></th>\n",
       "      <th></th>\n",
       "    </tr>\n",
       "  </thead>\n",
       "  <tbody>\n",
       "    <tr>\n",
       "      <th>Agressivo</th>\n",
       "      <td>1.937827</td>\n",
       "      <td>-0.664364</td>\n",
       "      <td>-2.271513</td>\n",
       "    </tr>\n",
       "    <tr>\n",
       "      <th>Conservador</th>\n",
       "      <td>-0.958110</td>\n",
       "      <td>-1.073751</td>\n",
       "      <td>3.412922</td>\n",
       "    </tr>\n",
       "    <tr>\n",
       "      <th>Moderado</th>\n",
       "      <td>-2.161532</td>\n",
       "      <td>1.897367</td>\n",
       "      <td>0.645497</td>\n",
       "    </tr>\n",
       "  </tbody>\n",
       "</table>\n",
       "</div>"
      ],
      "text/plain": [
       "aplicacao       Acoes       CDB  Poupanca\n",
       "perfil                                   \n",
       "Agressivo    1.937827 -0.664364 -2.271513\n",
       "Conservador -0.958110 -1.073751  3.412922\n",
       "Moderado    -2.161532  1.897367  0.645497"
      ]
     },
     "execution_count": 13,
     "metadata": {},
     "output_type": "execute_result"
    }
   ],
   "source": [
    "#Residuos padronizados\n",
    "res_padro = (resi/np.sqrt(tab_esp.iloc[0:3,0:3]))\n",
    "res_padro"
   ]
  },
  {
   "cell_type": "markdown",
   "metadata": {},
   "source": [
    "**Os resíduos padronizados serve para calcular os valores dos resíduos padronizados ajustados**"
   ]
  },
  {
   "cell_type": "markdown",
   "metadata": {},
   "source": [
    "## 2° Criar a tabela de resíduos padronizados ajustados\n"
   ]
  },
  {
   "cell_type": "code",
   "execution_count": 14,
   "metadata": {},
   "outputs": [
    {
     "data": {
      "text/html": [
       "<div>\n",
       "<style scoped>\n",
       "    .dataframe tbody tr th:only-of-type {\n",
       "        vertical-align: middle;\n",
       "    }\n",
       "\n",
       "    .dataframe tbody tr th {\n",
       "        vertical-align: top;\n",
       "    }\n",
       "\n",
       "    .dataframe thead th {\n",
       "        text-align: right;\n",
       "    }\n",
       "</style>\n",
       "<table border=\"1\" class=\"dataframe\">\n",
       "  <thead>\n",
       "    <tr style=\"text-align: right;\">\n",
       "      <th>aplicacao</th>\n",
       "      <th>Acoes</th>\n",
       "      <th>CDB</th>\n",
       "      <th>Poupanca</th>\n",
       "    </tr>\n",
       "    <tr>\n",
       "      <th>perfil</th>\n",
       "      <th></th>\n",
       "      <th></th>\n",
       "      <th></th>\n",
       "    </tr>\n",
       "  </thead>\n",
       "  <tbody>\n",
       "    <tr>\n",
       "      <th>Agressivo</th>\n",
       "      <td>4.03</td>\n",
       "      <td>-1.32</td>\n",
       "      <td>-3.80</td>\n",
       "    </tr>\n",
       "    <tr>\n",
       "      <th>Conservador</th>\n",
       "      <td>-1.42</td>\n",
       "      <td>-1.52</td>\n",
       "      <td>4.06</td>\n",
       "    </tr>\n",
       "    <tr>\n",
       "      <th>Moderado</th>\n",
       "      <td>-3.37</td>\n",
       "      <td>2.83</td>\n",
       "      <td>0.81</td>\n",
       "    </tr>\n",
       "  </tbody>\n",
       "</table>\n",
       "</div>"
      ],
      "text/plain": [
       "aplicacao    Acoes   CDB  Poupanca\n",
       "perfil                            \n",
       "Agressivo     4.03 -1.32     -3.80\n",
       "Conservador  -1.42 -1.52      4.06\n",
       "Moderado     -3.37  2.83      0.81"
      ]
     },
     "execution_count": 14,
     "metadata": {},
     "output_type": "execute_result"
    }
   ],
   "source": [
    "#Tabela de contingencia excluindo a bordas das somas\n",
    "Tabl_conting = tab_cont.iloc[0:3,0:3]\n",
    "\n",
    "#Transformando a tabela de frequencia observada em um array\n",
    "n = np.matrix(Tabl_conting, dtype = float)\n",
    "\n",
    "#Capturar a soma do total das colunas\n",
    "cont_sum_row = n.sum(axis=1)\n",
    "#Capturar a soma do total das Linhas\n",
    "cont_sum_col = n.sum(axis=0)\n",
    "\n",
    "#Residuos padronizados ajustados\n",
    "residuo_std_ajst = np.divide(res_padro,\n",
    "                       np.sqrt(np.multiply(\n",
    "                           (1-(cont_sum_col/n.sum())),\n",
    "                           (1-(cont_sum_row/n.sum())))))\n",
    "residuo_std_ajst = np.around(residuo_std_ajst, decimals = 2)\n",
    "\n",
    "residuo_std_ajst"
   ]
  },
  {
   "cell_type": "markdown",
   "metadata": {},
   "source": [
    "**Para construir a tabela dos Resíduos padronizados ajustado, precisamos fazer os cálculos com a tabela de Frequência observada e com a tabela de resíduos padronizados**"
   ]
  },
  {
   "cell_type": "code",
   "execution_count": 15,
   "metadata": {},
   "outputs": [
    {
     "data": {
      "image/png": "[encoded data removed]",
      "text/plain": [
       "<Figure size 432x288 with 2 Axes>"
      ]
     },
     "metadata": {
      "needs_background": "light"
     },
     "output_type": "display_data"
    }
   ],
   "source": [
    "#Residuos padronizados ajustados com heatmap\n",
    "import seaborn as sns\n",
    "ax = sns.heatmap(residuo_std_ajst, annot=True)"
   ]
  },
  {
   "cell_type": "markdown",
   "metadata": {},
   "source": [
    "### Interpretação dos Resíduos padronizados ajustado:"
   ]
  },
  {
   "cell_type": "markdown",
   "metadata": {},
   "source": [
    "**Valores maiores que 1.96, diz respeito o quanto uma categoria está atraindo mais uma variável para si, neste caso podemos observar que a label 'Agressivo' da variável perfil está tendo uma atração maior pela label 'Acoes' da variavel aplicação, a label 'Conservador' atraída pela label 'Poupanca' e a label 'Moderado' atraída pela label 'CDB'**"
   ]
  },
  {
   "cell_type": "markdown",
   "metadata": {},
   "source": [
    "## $$TERCEIRO~ PASSO:$$\n"
   ]
  },
  {
   "cell_type": "markdown",
   "metadata": {},
   "source": [
    "## Decomposição da Inércia Principal Total (𝐖 = 𝐀′𝐀)"
   ]
  },
  {
   "cell_type": "markdown",
   "metadata": {},
   "source": [
    "- O Teste 𝜒2 consegue apontar se associação entre as categorias de dadas variáveis se dá, ou não, de forma aleatória. Porém, o Teste 𝜒2 aumenta à medida que o numero de amostras aumenta. Então, no lugar de decompor o 𝜒2 para realizarmos a análise de correspondência, padronizaremos em razão do tamanho amostral, para então, decompô-lo.\n",
    "\n",
    "\n",
    "\n",
    "- A decomposição inercial para a elaboração da análise de correspondência perpassa pela extração dos eigenvalues de uma matriz 𝐖, dada por 𝐖 = 𝐀′𝐀,em que 𝐀 = 𝐃𝑙¹².(𝐏 − 𝑙𝑐′). 𝐃𝑐¹²\n"
   ]
  },
  {
   "cell_type": "code",
   "execution_count": 16,
   "metadata": {},
   "outputs": [
    {
     "data": {
      "text/plain": [
       "0.31764164976335363"
      ]
     },
     "execution_count": 16,
     "metadata": {},
     "output_type": "execute_result"
    }
   ],
   "source": [
    "#Decomposição da inércia principal total = Valor Chi² / tamanho da amostra\n",
    "It = Valor_chi2/len(dados)\n",
    "It"
   ]
  },
  {
   "cell_type": "markdown",
   "metadata": {},
   "source": [
    "**Soma dos Eigenvalues é o mesmo valor da Inercia principal total**"
   ]
  },
  {
   "cell_type": "markdown",
   "metadata": {},
   "source": [
    "## Determinação dos Eigenvalues para a Decomposição Inercial"
   ]
  },
  {
   "cell_type": "markdown",
   "metadata": {},
   "source": [
    "- Quantidade 𝑚 de eigenvalues é dada por 𝑚 = mín(𝐼 − 1,𝐽 − 1)."
   ]
  },
  {
   "cell_type": "code",
   "execution_count": 17,
   "metadata": {},
   "outputs": [
    {
     "name": "stdout",
     "output_type": "stream",
     "text": [
      "Minimo do numero de Colunas: 2\n",
      "Minimo do numero de linhas: 2\n",
      "\n",
      "Numero de eigenvalues é = 2\n"
     ]
    }
   ],
   "source": [
    "#Tabela de Contingências sem a margem , para calcular o valor do m\n",
    "tab_obs = pd.crosstab(dados.perfil,dados.aplicacao,margins=False)\n",
    "len(tab_obs.columns) #Numero de Colunas\n",
    "len(tab_obs) #Numero de linhas\n",
    "\n",
    "m_col = (len(tab_obs.columns))-1\n",
    "m_linha = (len(tab_obs))-1\n",
    "\n",
    "print(f'Minimo do numero de Colunas: {m_col}')\n",
    "print(f'Minimo do numero de linhas: {m_linha}\\n')\n",
    "\n",
    "print(f'Numero de eigenvalues é = 2')"
   ]
  },
  {
   "cell_type": "markdown",
   "metadata": {},
   "source": [
    "**Note que os dados vão ser representados através de 2 dimensões, porém não sabemos a porcentagem que será explicada de cada eixo**"
   ]
  },
  {
   "cell_type": "markdown",
   "metadata": {},
   "source": [
    "## 1° Criar a Matriz P (frequências relativas observadas)"
   ]
  },
  {
   "cell_type": "code",
   "execution_count": 18,
   "metadata": {},
   "outputs": [
    {
     "data": {
      "text/html": [
       "<div>\n",
       "<style scoped>\n",
       "    .dataframe tbody tr th:only-of-type {\n",
       "        vertical-align: middle;\n",
       "    }\n",
       "\n",
       "    .dataframe tbody tr th {\n",
       "        vertical-align: top;\n",
       "    }\n",
       "\n",
       "    .dataframe thead th {\n",
       "        text-align: right;\n",
       "    }\n",
       "</style>\n",
       "<table border=\"1\" class=\"dataframe\">\n",
       "  <thead>\n",
       "    <tr style=\"text-align: right;\">\n",
       "      <th>aplicacao</th>\n",
       "      <th>Acoes</th>\n",
       "      <th>CDB</th>\n",
       "      <th>Poupanca</th>\n",
       "      <th>All</th>\n",
       "    </tr>\n",
       "    <tr>\n",
       "      <th>perfil</th>\n",
       "      <th></th>\n",
       "      <th></th>\n",
       "      <th></th>\n",
       "      <th></th>\n",
       "    </tr>\n",
       "  </thead>\n",
       "  <tbody>\n",
       "    <tr>\n",
       "      <th>Agressivo</th>\n",
       "      <td>0.36</td>\n",
       "      <td>0.20</td>\n",
       "      <td>0.02</td>\n",
       "      <td>0.58</td>\n",
       "    </tr>\n",
       "    <tr>\n",
       "      <th>Conservador</th>\n",
       "      <td>0.05</td>\n",
       "      <td>0.04</td>\n",
       "      <td>0.08</td>\n",
       "      <td>0.17</td>\n",
       "    </tr>\n",
       "    <tr>\n",
       "      <th>Moderado</th>\n",
       "      <td>0.04</td>\n",
       "      <td>0.16</td>\n",
       "      <td>0.05</td>\n",
       "      <td>0.25</td>\n",
       "    </tr>\n",
       "    <tr>\n",
       "      <th>All</th>\n",
       "      <td>0.45</td>\n",
       "      <td>0.40</td>\n",
       "      <td>0.15</td>\n",
       "      <td>1.00</td>\n",
       "    </tr>\n",
       "  </tbody>\n",
       "</table>\n",
       "</div>"
      ],
      "text/plain": [
       "aplicacao    Acoes   CDB  Poupanca   All\n",
       "perfil                                  \n",
       "Agressivo     0.36  0.20      0.02  0.58\n",
       "Conservador   0.05  0.04      0.08  0.17\n",
       "Moderado      0.04  0.16      0.05  0.25\n",
       "All           0.45  0.40      0.15  1.00"
      ]
     },
     "execution_count": 18,
     "metadata": {},
     "output_type": "execute_result"
    }
   ],
   "source": [
    "#1° Matriz p \n",
    "p = round(tab_cont/len(dados),2)\n",
    "p"
   ]
  },
  {
   "cell_type": "markdown",
   "metadata": {},
   "source": [
    "**A soma relativa das variáveis 'perfil' e 'aplicacao' serão as massas das linhas e das colunas para o cálculo da Matriz W porém para o cálculo da matriz P, ela não vem com a soma relativa dos dados**"
   ]
  },
  {
   "cell_type": "code",
   "execution_count": 19,
   "metadata": {},
   "outputs": [
    {
     "data": {
      "text/html": [
       "<div>\n",
       "<style scoped>\n",
       "    .dataframe tbody tr th:only-of-type {\n",
       "        vertical-align: middle;\n",
       "    }\n",
       "\n",
       "    .dataframe tbody tr th {\n",
       "        vertical-align: top;\n",
       "    }\n",
       "\n",
       "    .dataframe thead th {\n",
       "        text-align: right;\n",
       "    }\n",
       "</style>\n",
       "<table border=\"1\" class=\"dataframe\">\n",
       "  <thead>\n",
       "    <tr style=\"text-align: right;\">\n",
       "      <th>aplicacao</th>\n",
       "      <th>Acoes</th>\n",
       "      <th>CDB</th>\n",
       "      <th>Poupanca</th>\n",
       "    </tr>\n",
       "    <tr>\n",
       "      <th>perfil</th>\n",
       "      <th></th>\n",
       "      <th></th>\n",
       "      <th></th>\n",
       "    </tr>\n",
       "  </thead>\n",
       "  <tbody>\n",
       "    <tr>\n",
       "      <th>Agressivo</th>\n",
       "      <td>0.36</td>\n",
       "      <td>0.20</td>\n",
       "      <td>0.02</td>\n",
       "    </tr>\n",
       "    <tr>\n",
       "      <th>Conservador</th>\n",
       "      <td>0.05</td>\n",
       "      <td>0.04</td>\n",
       "      <td>0.08</td>\n",
       "    </tr>\n",
       "    <tr>\n",
       "      <th>Moderado</th>\n",
       "      <td>0.04</td>\n",
       "      <td>0.16</td>\n",
       "      <td>0.05</td>\n",
       "    </tr>\n",
       "  </tbody>\n",
       "</table>\n",
       "</div>"
      ],
      "text/plain": [
       "aplicacao    Acoes   CDB  Poupanca\n",
       "perfil                            \n",
       "Agressivo     0.36  0.20      0.02\n",
       "Conservador   0.05  0.04      0.08\n",
       "Moderado      0.04  0.16      0.05"
      ]
     },
     "execution_count": 19,
     "metadata": {},
     "output_type": "execute_result"
    }
   ],
   "source": [
    "#1° Matriz p \n",
    "P = round(tab_obs/len(dados),2)\n",
    "P"
   ]
  },
  {
   "cell_type": "markdown",
   "metadata": {},
   "source": [
    "**Matriz P no formato correto**"
   ]
  },
  {
   "cell_type": "markdown",
   "metadata": {},
   "source": [
    "## 2° Massas de linhas e Colunas"
   ]
  },
  {
   "cell_type": "markdown",
   "metadata": {},
   "source": [
    "- Calculadas as frequências relativas observadas, presentes na matriz 𝐏(Tabela acima), podemos entender o conceito de massa (profiles) como medidas influência de determinada categoria em relação às demais. Nós precisaremos dessas massas para prosseguirmos para a decomposição dos eigenvalues"
   ]
  },
  {
   "cell_type": "code",
   "execution_count": 20,
   "metadata": {},
   "outputs": [],
   "source": [
    "# 2° Massas de linhas e Colunas\n",
    "\n",
    "Tabl_conting # Tabela de contingencia sem as margens\n",
    "tab_cont # Tabela de contingencia com as margens\n",
    "\n",
    "#Column Profiles = Massa das linhas\n",
    "col_prof = round(Tabl_conting/tab_cont.iloc[3,:].values[0:3],2)\n",
    "\n",
    "#Criar a Coluna das Massa_media\n",
    "col_prof['Massa_media'] = tab_cont.iloc[:,3].values[0:3]/ 100\n",
    "teste = pd.DataFrame(round(col_prof.sum(axis=0),1)).T\n",
    "teste = teste.rename(index={0: \"Total\"})\n",
    "col_prof = pd.concat([col_prof,teste]) \n",
    "\n",
    "\n",
    "\n",
    "#Row Profiles = Massas das Colunas\n",
    "row_prof = round(Tabl_conting.T/tab_cont.iloc[:,3].values[0:3],2)\n",
    "row_prof = row_prof.T\n",
    "\n",
    "#Criar a linha das Massa_media\n",
    "Massa_media_row = pd.DataFrame(tab_cont.iloc[3,:].values[0:3]/ 100).T\n",
    "Massa_media_row.columns = P.columns\n",
    "Massa_media_row = Massa_media_row.rename(index={0: \"Massa_media\"})\n",
    "row_prof = pd.concat([row_prof,Massa_media_row]) \n",
    "row_prof['Total'] = round(row_prof.sum(axis=1),1)\n"
   ]
  },
  {
   "cell_type": "code",
   "execution_count": 21,
   "metadata": {},
   "outputs": [
    {
     "data": {
      "text/html": [
       "<div>\n",
       "<style scoped>\n",
       "    .dataframe tbody tr th:only-of-type {\n",
       "        vertical-align: middle;\n",
       "    }\n",
       "\n",
       "    .dataframe tbody tr th {\n",
       "        vertical-align: top;\n",
       "    }\n",
       "\n",
       "    .dataframe thead th {\n",
       "        text-align: right;\n",
       "    }\n",
       "</style>\n",
       "<table border=\"1\" class=\"dataframe\">\n",
       "  <thead>\n",
       "    <tr style=\"text-align: right;\">\n",
       "      <th>aplicacao</th>\n",
       "      <th>Acoes</th>\n",
       "      <th>CDB</th>\n",
       "      <th>Poupanca</th>\n",
       "      <th>Total</th>\n",
       "    </tr>\n",
       "  </thead>\n",
       "  <tbody>\n",
       "    <tr>\n",
       "      <th>Agressivo</th>\n",
       "      <td>0.62</td>\n",
       "      <td>0.34</td>\n",
       "      <td>0.03</td>\n",
       "      <td>1.0</td>\n",
       "    </tr>\n",
       "    <tr>\n",
       "      <th>Conservador</th>\n",
       "      <td>0.29</td>\n",
       "      <td>0.24</td>\n",
       "      <td>0.47</td>\n",
       "      <td>1.0</td>\n",
       "    </tr>\n",
       "    <tr>\n",
       "      <th>Moderado</th>\n",
       "      <td>0.16</td>\n",
       "      <td>0.64</td>\n",
       "      <td>0.20</td>\n",
       "      <td>1.0</td>\n",
       "    </tr>\n",
       "    <tr>\n",
       "      <th>Massa_media</th>\n",
       "      <td>0.45</td>\n",
       "      <td>0.40</td>\n",
       "      <td>0.15</td>\n",
       "      <td>1.0</td>\n",
       "    </tr>\n",
       "  </tbody>\n",
       "</table>\n",
       "</div>"
      ],
      "text/plain": [
       "aplicacao    Acoes   CDB  Poupanca  Total\n",
       "Agressivo     0.62  0.34      0.03    1.0\n",
       "Conservador   0.29  0.24      0.47    1.0\n",
       "Moderado      0.16  0.64      0.20    1.0\n",
       "Massa_media   0.45  0.40      0.15    1.0"
      ]
     },
     "execution_count": 21,
     "metadata": {},
     "output_type": "execute_result"
    }
   ],
   "source": [
    "#Row Profiles = Massas das Colunas\n",
    "row_prof"
   ]
  },
  {
   "cell_type": "code",
   "execution_count": 22,
   "metadata": {},
   "outputs": [
    {
     "name": "stdout",
     "output_type": "stream",
     "text": [
      "45\n",
      "40\n",
      "15\n"
     ]
    }
   ],
   "source": [
    "print(len(dados[dados.aplicacao=='Acoes']))\n",
    "print(len(dados[dados.aplicacao=='CDB']))\n",
    "print(len(dados[dados.aplicacao=='Poupanca']))"
   ]
  },
  {
   "cell_type": "markdown",
   "metadata": {},
   "source": [
    "**A massa média da Row Profiles se dá pela frequência relativa da coluna 'aplicaçao' de cada label**"
   ]
  },
  {
   "cell_type": "code",
   "execution_count": 23,
   "metadata": {},
   "outputs": [
    {
     "data": {
      "text/html": [
       "<div>\n",
       "<style scoped>\n",
       "    .dataframe tbody tr th:only-of-type {\n",
       "        vertical-align: middle;\n",
       "    }\n",
       "\n",
       "    .dataframe tbody tr th {\n",
       "        vertical-align: top;\n",
       "    }\n",
       "\n",
       "    .dataframe thead th {\n",
       "        text-align: right;\n",
       "    }\n",
       "</style>\n",
       "<table border=\"1\" class=\"dataframe\">\n",
       "  <thead>\n",
       "    <tr style=\"text-align: right;\">\n",
       "      <th>aplicacao</th>\n",
       "      <th>Acoes</th>\n",
       "      <th>CDB</th>\n",
       "      <th>Poupanca</th>\n",
       "      <th>Massa_media</th>\n",
       "    </tr>\n",
       "  </thead>\n",
       "  <tbody>\n",
       "    <tr>\n",
       "      <th>Agressivo</th>\n",
       "      <td>0.80</td>\n",
       "      <td>0.5</td>\n",
       "      <td>0.13</td>\n",
       "      <td>0.58</td>\n",
       "    </tr>\n",
       "    <tr>\n",
       "      <th>Conservador</th>\n",
       "      <td>0.11</td>\n",
       "      <td>0.1</td>\n",
       "      <td>0.53</td>\n",
       "      <td>0.17</td>\n",
       "    </tr>\n",
       "    <tr>\n",
       "      <th>Moderado</th>\n",
       "      <td>0.09</td>\n",
       "      <td>0.4</td>\n",
       "      <td>0.33</td>\n",
       "      <td>0.25</td>\n",
       "    </tr>\n",
       "    <tr>\n",
       "      <th>Total</th>\n",
       "      <td>1.00</td>\n",
       "      <td>1.0</td>\n",
       "      <td>1.00</td>\n",
       "      <td>1.00</td>\n",
       "    </tr>\n",
       "  </tbody>\n",
       "</table>\n",
       "</div>"
      ],
      "text/plain": [
       "aplicacao    Acoes  CDB  Poupanca  Massa_media\n",
       "Agressivo     0.80  0.5      0.13         0.58\n",
       "Conservador   0.11  0.1      0.53         0.17\n",
       "Moderado      0.09  0.4      0.33         0.25\n",
       "Total         1.00  1.0      1.00         1.00"
      ]
     },
     "execution_count": 23,
     "metadata": {},
     "output_type": "execute_result"
    }
   ],
   "source": [
    "#Column Profiles = Massa das linhas\n",
    "col_prof"
   ]
  },
  {
   "cell_type": "code",
   "execution_count": 24,
   "metadata": {},
   "outputs": [
    {
     "name": "stdout",
     "output_type": "stream",
     "text": [
      "17\n",
      "25\n",
      "58\n"
     ]
    }
   ],
   "source": [
    "print(len(dados[dados.perfil=='Conservador']))\n",
    "print(len(dados[dados.perfil=='Moderado']))\n",
    "print(len(dados[dados.perfil=='Agressivo']))"
   ]
  },
  {
   "cell_type": "markdown",
   "metadata": {},
   "source": [
    "**A massa média da Column Profiles se dá pela frequência relativa da coluna 'perfil' de cada label**"
   ]
  },
  {
   "cell_type": "markdown",
   "metadata": {},
   "source": [
    "## 3° Definições das matrizes 𝐃𝒍 e 𝐃c"
   ]
  },
  {
   "cell_type": "markdown",
   "metadata": {},
   "source": [
    "- Fazer as Column Profiles e as Row Profiles virarem diagonais principais"
   ]
  },
  {
   "cell_type": "code",
   "execution_count": 25,
   "metadata": {},
   "outputs": [
    {
     "data": {
      "text/html": [
       "<div>\n",
       "<style scoped>\n",
       "    .dataframe tbody tr th:only-of-type {\n",
       "        vertical-align: middle;\n",
       "    }\n",
       "\n",
       "    .dataframe tbody tr th {\n",
       "        vertical-align: top;\n",
       "    }\n",
       "\n",
       "    .dataframe thead th {\n",
       "        text-align: right;\n",
       "    }\n",
       "</style>\n",
       "<table border=\"1\" class=\"dataframe\">\n",
       "  <thead>\n",
       "    <tr style=\"text-align: right;\">\n",
       "      <th></th>\n",
       "      <th>0</th>\n",
       "      <th>1</th>\n",
       "      <th>2</th>\n",
       "    </tr>\n",
       "  </thead>\n",
       "  <tbody>\n",
       "    <tr>\n",
       "      <th>0</th>\n",
       "      <td>0.45</td>\n",
       "      <td>0.0</td>\n",
       "      <td>0.00</td>\n",
       "    </tr>\n",
       "    <tr>\n",
       "      <th>1</th>\n",
       "      <td>0.00</td>\n",
       "      <td>0.4</td>\n",
       "      <td>0.00</td>\n",
       "    </tr>\n",
       "    <tr>\n",
       "      <th>2</th>\n",
       "      <td>0.00</td>\n",
       "      <td>0.0</td>\n",
       "      <td>0.15</td>\n",
       "    </tr>\n",
       "  </tbody>\n",
       "</table>\n",
       "</div>"
      ],
      "text/plain": [
       "      0    1     2\n",
       "0  0.45  0.0  0.00\n",
       "1  0.00  0.4  0.00\n",
       "2  0.00  0.0  0.15"
      ]
     },
     "execution_count": 25,
     "metadata": {},
     "output_type": "execute_result"
    }
   ],
   "source": [
    "#Diagonal das Colunas(Somente das massas médias)\n",
    "C = pd.DataFrame(np.diag(row_prof.iloc[3,:3]))\n",
    "C"
   ]
  },
  {
   "cell_type": "markdown",
   "metadata": {},
   "source": [
    "**Massa das Linhas**"
   ]
  },
  {
   "cell_type": "code",
   "execution_count": 26,
   "metadata": {},
   "outputs": [
    {
     "data": {
      "text/html": [
       "<div>\n",
       "<style scoped>\n",
       "    .dataframe tbody tr th:only-of-type {\n",
       "        vertical-align: middle;\n",
       "    }\n",
       "\n",
       "    .dataframe tbody tr th {\n",
       "        vertical-align: top;\n",
       "    }\n",
       "\n",
       "    .dataframe thead th {\n",
       "        text-align: right;\n",
       "    }\n",
       "</style>\n",
       "<table border=\"1\" class=\"dataframe\">\n",
       "  <thead>\n",
       "    <tr style=\"text-align: right;\">\n",
       "      <th></th>\n",
       "      <th>0</th>\n",
       "      <th>1</th>\n",
       "      <th>2</th>\n",
       "    </tr>\n",
       "  </thead>\n",
       "  <tbody>\n",
       "    <tr>\n",
       "      <th>0</th>\n",
       "      <td>0.58</td>\n",
       "      <td>0.00</td>\n",
       "      <td>0.00</td>\n",
       "    </tr>\n",
       "    <tr>\n",
       "      <th>1</th>\n",
       "      <td>0.00</td>\n",
       "      <td>0.17</td>\n",
       "      <td>0.00</td>\n",
       "    </tr>\n",
       "    <tr>\n",
       "      <th>2</th>\n",
       "      <td>0.00</td>\n",
       "      <td>0.00</td>\n",
       "      <td>0.25</td>\n",
       "    </tr>\n",
       "  </tbody>\n",
       "</table>\n",
       "</div>"
      ],
      "text/plain": [
       "      0     1     2\n",
       "0  0.58  0.00  0.00\n",
       "1  0.00  0.17  0.00\n",
       "2  0.00  0.00  0.25"
      ]
     },
     "execution_count": 26,
     "metadata": {},
     "output_type": "execute_result"
    }
   ],
   "source": [
    "#Diagonal das linhas(Somente das massas)\n",
    "L = pd.DataFrame(np.diag(col_prof.Massa_media[0:3]))\n",
    "L"
   ]
  },
  {
   "cell_type": "markdown",
   "metadata": {},
   "source": [
    "**Massa das Colunas**"
   ]
  },
  {
   "cell_type": "markdown",
   "metadata": {},
   "source": [
    "## 4° Matriz lc'"
   ]
  },
  {
   "cell_type": "markdown",
   "metadata": {},
   "source": [
    "- Multiplicação das massas das colunas VS massas das linhas transpostas"
   ]
  },
  {
   "cell_type": "markdown",
   "metadata": {},
   "source": [
    "- Sendo 𝐂, a matriz que contém as massas das column profiles de cada célula considerada; e 𝐋, a matriz que contém as massas das row\n",
    "profiles de cada célula considerada, a matriz 𝑙𝑐' é definida por: \n",
    "\n",
    "- 𝒍𝒄' = C ⊗ L'"
   ]
  },
  {
   "cell_type": "code",
   "execution_count": 27,
   "metadata": {},
   "outputs": [
    {
     "data": {
      "text/html": [
       "<div>\n",
       "<style scoped>\n",
       "    .dataframe tbody tr th:only-of-type {\n",
       "        vertical-align: middle;\n",
       "    }\n",
       "\n",
       "    .dataframe tbody tr th {\n",
       "        vertical-align: top;\n",
       "    }\n",
       "\n",
       "    .dataframe thead th {\n",
       "        text-align: right;\n",
       "    }\n",
       "</style>\n",
       "<table border=\"1\" class=\"dataframe\">\n",
       "  <thead>\n",
       "    <tr style=\"text-align: right;\">\n",
       "      <th>aplicacao</th>\n",
       "      <th>Acoes</th>\n",
       "      <th>CDB</th>\n",
       "      <th>Poupanca</th>\n",
       "    </tr>\n",
       "  </thead>\n",
       "  <tbody>\n",
       "    <tr>\n",
       "      <th>Agressivo</th>\n",
       "      <td>0.2610</td>\n",
       "      <td>0.232</td>\n",
       "      <td>0.0870</td>\n",
       "    </tr>\n",
       "    <tr>\n",
       "      <th>Conservador</th>\n",
       "      <td>0.0765</td>\n",
       "      <td>0.068</td>\n",
       "      <td>0.0255</td>\n",
       "    </tr>\n",
       "    <tr>\n",
       "      <th>Moderado</th>\n",
       "      <td>0.1125</td>\n",
       "      <td>0.100</td>\n",
       "      <td>0.0375</td>\n",
       "    </tr>\n",
       "  </tbody>\n",
       "</table>\n",
       "</div>"
      ],
      "text/plain": [
       "aplicacao     Acoes    CDB  Poupanca\n",
       "Agressivo    0.2610  0.232    0.0870\n",
       "Conservador  0.0765  0.068    0.0255\n",
       "Moderado     0.1125  0.100    0.0375"
      ]
     },
     "execution_count": 27,
     "metadata": {},
     "output_type": "execute_result"
    }
   ],
   "source": [
    "#Matriz lc'\n",
    "lc = pd.DataFrame(np.dot(pd.DataFrame(np.diag(C)) , pd.DataFrame(np.diag(L)).T))\n",
    "lc = lc.T\n",
    "\n",
    "#Add nome nas colunas e linhas\n",
    "lc.columns = row_prof.columns[0:3]\n",
    "lc.index = col_prof.index[0:3]\n",
    "lc"
   ]
  },
  {
   "cell_type": "markdown",
   "metadata": {},
   "source": [
    "**Agora com todas as matrizes calculadas, conseguimos calcular a Matriz A, para extrair os Eigenvalues e Eigenvectors**"
   ]
  },
  {
   "cell_type": "markdown",
   "metadata": {},
   "source": [
    "## 5° Matriz A"
   ]
  },
  {
   "cell_type": "code",
   "execution_count": 28,
   "metadata": {},
   "outputs": [
    {
     "data": {
      "image/png": "[encoded data removed]",
      "text/plain": [
       "<IPython.core.display.Image object>"
      ]
     },
     "execution_count": 28,
     "metadata": {},
     "output_type": "execute_result"
    }
   ],
   "source": [
    "from IPython.display import Image\n",
    "Image(filename=\"matrizA.png\")"
   ]
  },
  {
   "cell_type": "markdown",
   "metadata": {},
   "source": [
    "## Calculo da Matriz A:"
   ]
  },
  {
   "cell_type": "markdown",
   "metadata": {},
   "source": [
    "- 𝐀 = 𝐃𝑙¹².(𝐏 − 𝑙𝑐′). 𝐃𝑐¹²"
   ]
  },
  {
   "cell_type": "code",
   "execution_count": 29,
   "metadata": {},
   "outputs": [
    {
     "data": {
      "text/html": [
       "<div>\n",
       "<style scoped>\n",
       "    .dataframe tbody tr th:only-of-type {\n",
       "        vertical-align: middle;\n",
       "    }\n",
       "\n",
       "    .dataframe tbody tr th {\n",
       "        vertical-align: top;\n",
       "    }\n",
       "\n",
       "    .dataframe thead th {\n",
       "        text-align: right;\n",
       "    }\n",
       "</style>\n",
       "<table border=\"1\" class=\"dataframe\">\n",
       "  <thead>\n",
       "    <tr style=\"text-align: right;\">\n",
       "      <th>aplicacao</th>\n",
       "      <th>Acoes</th>\n",
       "      <th>CDB</th>\n",
       "      <th>Poupanca</th>\n",
       "    </tr>\n",
       "  </thead>\n",
       "  <tbody>\n",
       "    <tr>\n",
       "      <th>Agressivo</th>\n",
       "      <td>0.193783</td>\n",
       "      <td>-0.066436</td>\n",
       "      <td>-0.227151</td>\n",
       "    </tr>\n",
       "    <tr>\n",
       "      <th>Conservador</th>\n",
       "      <td>-0.095811</td>\n",
       "      <td>-0.107375</td>\n",
       "      <td>0.341292</td>\n",
       "    </tr>\n",
       "    <tr>\n",
       "      <th>Moderado</th>\n",
       "      <td>-0.216153</td>\n",
       "      <td>0.189737</td>\n",
       "      <td>0.064550</td>\n",
       "    </tr>\n",
       "  </tbody>\n",
       "</table>\n",
       "</div>"
      ],
      "text/plain": [
       "aplicacao       Acoes       CDB  Poupanca\n",
       "Agressivo    0.193783 -0.066436 -0.227151\n",
       "Conservador -0.095811 -0.107375  0.341292\n",
       "Moderado    -0.216153  0.189737  0.064550"
      ]
     },
     "execution_count": 29,
     "metadata": {},
     "output_type": "execute_result"
    }
   ],
   "source": [
    "#Decompondo a formula da Matriz A \n",
    "\n",
    "# 𝐃𝑙¹²\n",
    "Dl = L**-0.5\n",
    "Dl = Dl.replace(np.inf, 0)\n",
    "Dl = np.array(Dl)\n",
    "\n",
    "# 𝐃𝑐¹²\n",
    "Dc = C**-0.5\n",
    "Dc = Dc.replace(np.inf, 0)\n",
    "Dc = np.array(Dc)\n",
    "\n",
    "#(𝐏 − 𝑙𝑐′)\n",
    "P_lc = np.array(P-lc)\n",
    "\n",
    "\n",
    "#Criando a Matriz A : (𝐀 = 𝐃𝑙¹².(𝐏 − 𝑙𝑐′). 𝐃𝑐¹²)\n",
    "Matriz_Dl_P_lc = np.dot(Dl,P_lc)\n",
    "matriz_A = pd.DataFrame(np.dot(Matriz_Dl_P_lc,Dc),columns=lc.columns)\n",
    "matriz_A.index = lc.index\n",
    "matriz_A"
   ]
  },
  {
   "cell_type": "markdown",
   "metadata": {},
   "source": [
    "**Poderíamos extrair os Eigenvalues da matriz A, porém muitas vezes podemos ter número complexos de não interpretabilidade, portanto, multiplicamos a matriz A pela sua transposta assim chegamos na matriz W**"
   ]
  },
  {
   "cell_type": "markdown",
   "metadata": {},
   "source": [
    "## CURIOSIDADE: \n",
    "\n",
    "**Para encurtar todo o processo poderíamos chegar na matriz A simplesmente dividindo os resíduos padronizados pela raiz quadrada do tamanho da amostra, veja abaixo:**"
   ]
  },
  {
   "cell_type": "code",
   "execution_count": 30,
   "metadata": {},
   "outputs": [
    {
     "data": {
      "text/html": [
       "<div>\n",
       "<style scoped>\n",
       "    .dataframe tbody tr th:only-of-type {\n",
       "        vertical-align: middle;\n",
       "    }\n",
       "\n",
       "    .dataframe tbody tr th {\n",
       "        vertical-align: top;\n",
       "    }\n",
       "\n",
       "    .dataframe thead th {\n",
       "        text-align: right;\n",
       "    }\n",
       "</style>\n",
       "<table border=\"1\" class=\"dataframe\">\n",
       "  <thead>\n",
       "    <tr style=\"text-align: right;\">\n",
       "      <th>aplicacao</th>\n",
       "      <th>Acoes</th>\n",
       "      <th>CDB</th>\n",
       "      <th>Poupanca</th>\n",
       "    </tr>\n",
       "    <tr>\n",
       "      <th>perfil</th>\n",
       "      <th></th>\n",
       "      <th></th>\n",
       "      <th></th>\n",
       "    </tr>\n",
       "  </thead>\n",
       "  <tbody>\n",
       "    <tr>\n",
       "      <th>Agressivo</th>\n",
       "      <td>0.193783</td>\n",
       "      <td>-0.066436</td>\n",
       "      <td>-0.227151</td>\n",
       "    </tr>\n",
       "    <tr>\n",
       "      <th>Conservador</th>\n",
       "      <td>-0.095811</td>\n",
       "      <td>-0.107375</td>\n",
       "      <td>0.341292</td>\n",
       "    </tr>\n",
       "    <tr>\n",
       "      <th>Moderado</th>\n",
       "      <td>-0.216153</td>\n",
       "      <td>0.189737</td>\n",
       "      <td>0.064550</td>\n",
       "    </tr>\n",
       "  </tbody>\n",
       "</table>\n",
       "</div>"
      ],
      "text/plain": [
       "aplicacao       Acoes       CDB  Poupanca\n",
       "perfil                                   \n",
       "Agressivo    0.193783 -0.066436 -0.227151\n",
       "Conservador -0.095811 -0.107375  0.341292\n",
       "Moderado    -0.216153  0.189737  0.064550"
      ]
     },
     "execution_count": 30,
     "metadata": {},
     "output_type": "execute_result"
    }
   ],
   "source": [
    "#Residos pronizados/raiz(Tamanho da amostra) = Matriz_A\n",
    "matriz_A = res_padro/np.sqrt(len(dados))\n",
    "matriz_A"
   ]
  },
  {
   "cell_type": "markdown",
   "metadata": {},
   "source": [
    "**Podemos chegar na matriz A desta forma, bem mais facil**"
   ]
  },
  {
   "cell_type": "markdown",
   "metadata": {},
   "source": [
    "## 6° Matriz W\n",
    "\n",
    "- Matriz_A muitas vezes podem dar numeros complexos com difícil interpretabilidade, então transformamos em uma matriz_W para que isso não ocorra\n",
    "\n",
    "\n",
    "- 𝐖 = 𝐀′ ⊗ 𝐀"
   ]
  },
  {
   "cell_type": "code",
   "execution_count": 43,
   "metadata": {},
   "outputs": [
    {
     "data": {
      "text/html": [
       "<div>\n",
       "<style scoped>\n",
       "    .dataframe tbody tr th:only-of-type {\n",
       "        vertical-align: middle;\n",
       "    }\n",
       "\n",
       "    .dataframe tbody tr th {\n",
       "        vertical-align: top;\n",
       "    }\n",
       "\n",
       "    .dataframe thead th {\n",
       "        text-align: right;\n",
       "    }\n",
       "</style>\n",
       "<table border=\"1\" class=\"dataframe\">\n",
       "  <thead>\n",
       "    <tr style=\"text-align: right;\">\n",
       "      <th>aplicacao</th>\n",
       "      <th>Acoes</th>\n",
       "      <th>CDB</th>\n",
       "      <th>Poupanca</th>\n",
       "    </tr>\n",
       "    <tr>\n",
       "      <th>aplicacao</th>\n",
       "      <th></th>\n",
       "      <th></th>\n",
       "      <th></th>\n",
       "    </tr>\n",
       "  </thead>\n",
       "  <tbody>\n",
       "    <tr>\n",
       "      <th>Acoes</th>\n",
       "      <td>0.093454</td>\n",
       "      <td>-0.043599</td>\n",
       "      <td>-0.090670</td>\n",
       "    </tr>\n",
       "    <tr>\n",
       "      <th>CDB</th>\n",
       "      <td>-0.043599</td>\n",
       "      <td>0.051943</td>\n",
       "      <td>-0.009308</td>\n",
       "    </tr>\n",
       "    <tr>\n",
       "      <th>Poupanca</th>\n",
       "      <td>-0.090670</td>\n",
       "      <td>-0.009308</td>\n",
       "      <td>0.172245</td>\n",
       "    </tr>\n",
       "  </tbody>\n",
       "</table>\n",
       "</div>"
      ],
      "text/plain": [
       "aplicacao     Acoes       CDB  Poupanca\n",
       "aplicacao                              \n",
       "Acoes      0.093454 -0.043599 -0.090670\n",
       "CDB       -0.043599  0.051943 -0.009308\n",
       "Poupanca  -0.090670 -0.009308  0.172245"
      ]
     },
     "execution_count": 43,
     "metadata": {},
     "output_type": "execute_result"
    }
   ],
   "source": [
    "#Calculo da Matriz W\n",
    "matriz_W = pd.DataFrame(np.dot(matriz_A.T,matriz_A),columns=matriz_A.columns)\n",
    "matriz_W.index = matriz_A.columns\n",
    "matriz_W"
   ]
  },
  {
   "cell_type": "markdown",
   "metadata": {},
   "source": [
    "**Temos uma matriz semelhante a uma matriz de variância, covariância, portanto agora conseguimos extrair os Eigenvalues e Eigenvectors da matriz**"
   ]
  },
  {
   "cell_type": "markdown",
   "metadata": {},
   "source": [
    "## 7° Extrair os Eigenvalues e Eigenvectors da matriz W"
   ]
  },
  {
   "cell_type": "code",
   "execution_count": 32,
   "metadata": {},
   "outputs": [
    {
     "data": {
      "text/plain": [
       "2"
      ]
     },
     "execution_count": 32,
     "metadata": {},
     "output_type": "execute_result"
    }
   ],
   "source": [
    "#Dimensionalidade dos dados(Minimo de linhas ou colunas da matriz A - 1)\n",
    "min((matriz_A.shape[0] - 1) , (matriz_A.shape[1] - 1))"
   ]
  },
  {
   "cell_type": "markdown",
   "metadata": {},
   "source": [
    "**Note que a formula (𝑚 = mín(𝐼 − 1,𝐽 − 1)) já calcula o número de Eigenvalues que serão capturados, podemos perceber que são 3, porém o último valor é insignificante, portanto, o número de Eigenvalues capturados são 2**"
   ]
  },
  {
   "cell_type": "code",
   "execution_count": 33,
   "metadata": {},
   "outputs": [],
   "source": [
    "#Extraindo os Eigenvalues e Eigenvectors da matriz W\n",
    "auto_valores, auto_vetores = np.linalg.eig(matriz_W)\n"
   ]
  },
  {
   "cell_type": "code",
   "execution_count": 34,
   "metadata": {},
   "outputs": [
    {
     "data": {
      "text/plain": [
       "[0.23321487282583853, 0.08442677693751503, -8.358521123505436e-18]"
      ]
     },
     "execution_count": 34,
     "metadata": {},
     "output_type": "execute_result"
    }
   ],
   "source": [
    "#Eigenvalues\n",
    "auto_valores = sorted(auto_valores,reverse=True)\n",
    "auto_valores"
   ]
  },
  {
   "cell_type": "markdown",
   "metadata": {},
   "source": [
    "**OBS: O último Eigenvalue sempre tende a 0, portanto sempre ficamos com o número de Eigenvalue entre a quantidade da linha da tabela de contingencias - 1 e/ou quantidade de colunas da tabela de contingencias - 1**"
   ]
  },
  {
   "cell_type": "code",
   "execution_count": 35,
   "metadata": {},
   "outputs": [
    {
     "name": "stdout",
     "output_type": "stream",
     "text": [
      "Soma dos Eigenvalues: 0.3176416497633536\n",
      "Inercia Principal Total: 0.31764164976335363\n"
     ]
    }
   ],
   "source": [
    "# Soma dos Eigenvalues = Inercia principal total \n",
    "sum_Eigenvalues = auto_valores[0]+auto_valores[1]\n",
    "print(f'Soma dos Eigenvalues: {sum_Eigenvalues}')\n",
    "print(f'Inercia Principal Total: {It}')"
   ]
  },
  {
   "cell_type": "markdown",
   "metadata": {},
   "source": [
    "**A Soma dos Eigenvalues é igual ao valor da inercia principal total**"
   ]
  },
  {
   "cell_type": "code",
   "execution_count": 36,
   "metadata": {},
   "outputs": [
    {
     "name": "stdout",
     "output_type": "stream",
     "text": [
      "Porcentagem Explicada dos dados de cada Eigenvalues: [0.73420747 0.26579253]\n",
      "\n",
      "Porcentagem total explicada: 0.9999999999999998\n"
     ]
    }
   ],
   "source": [
    "#Percentual da Inércia Total explicada\n",
    "perct_val = auto_valores[0:2]/It\n",
    "print(f'Porcentagem Explicada dos dados de cada Eigenvalues: {perct_val}\\n')\n",
    "print(f'Porcentagem total explicada: {sum(perct_val)}')"
   ]
  },
  {
   "cell_type": "markdown",
   "metadata": {},
   "source": [
    "**Fazendo a divisão dos Eigenvalues pela Inercia principal total, conseguimos dizer o quanto da inercia principal dos dados está sendo explicadas com 2 dimensões, podemos concluir que precisamos apenas de duas dimensões para explicar praticamente 100% dos dados**"
   ]
  },
  {
   "cell_type": "code",
   "execution_count": 37,
   "metadata": {},
   "outputs": [
    {
     "data": {
      "text/plain": [
       "array([[-0.56215025,  0.67082039,  0.48372213],\n",
       "       [ 0.09300977,  0.63245553, -0.76899232],\n",
       "       [ 0.82178847,  0.38729833,  0.41792789]])"
      ]
     },
     "execution_count": 37,
     "metadata": {},
     "output_type": "execute_result"
    }
   ],
   "source": [
    "#Eigenvectors\n",
    "auto_vetores"
   ]
  },
  {
   "cell_type": "markdown",
   "metadata": {},
   "source": [
    "**Os Eigenvectors serão necessários para os cálculos das coordenadas a respeito de cada categoria no mapa perceptual**"
   ]
  },
  {
   "cell_type": "markdown",
   "metadata": {},
   "source": [
    "## $$QUARTO PASSO:$$"
   ]
  },
  {
   "cell_type": "markdown",
   "metadata": {},
   "source": [
    "## Cálculo das coordenadas do mapa perceptual"
   ]
  },
  {
   "cell_type": "markdown",
   "metadata": {},
   "source": [
    "- Como temos 2 dimensões, precisamos do eixo X e Y para criar o mapa perceptual"
   ]
  },
  {
   "cell_type": "markdown",
   "metadata": {},
   "source": [
    "## Criando o modelo ANACOR com o Algoritimo prince.CA"
   ]
  },
  {
   "cell_type": "code",
   "execution_count": 38,
   "metadata": {},
   "outputs": [],
   "source": [
    "# Criando o modelo ANACOR\n",
    "import prince\n",
    "\n",
    "\n",
    "# Num. de dimensões necessarias para analise\n",
    "ndim = min((matriz_A.shape[0] - 1) , (matriz_A.shape[1] - 1))\n",
    "\n",
    "#Modelo\n",
    "ca = prince.CA(n_components=ndim)\n",
    "ca.fit(tab_gl);\n"
   ]
  },
  {
   "cell_type": "markdown",
   "metadata": {},
   "source": [
    "**Criação do modelo, com ele podemos extrair as coordenadas do mapa perceptual**"
   ]
  },
  {
   "cell_type": "code",
   "execution_count": 39,
   "metadata": {},
   "outputs": [
    {
     "data": {
      "text/html": [
       "<div>\n",
       "<style scoped>\n",
       "    .dataframe tbody tr th:only-of-type {\n",
       "        vertical-align: middle;\n",
       "    }\n",
       "\n",
       "    .dataframe tbody tr th {\n",
       "        vertical-align: top;\n",
       "    }\n",
       "\n",
       "    .dataframe thead th {\n",
       "        text-align: right;\n",
       "    }\n",
       "</style>\n",
       "<table border=\"1\" class=\"dataframe\">\n",
       "  <thead>\n",
       "    <tr style=\"text-align: right;\">\n",
       "      <th></th>\n",
       "      <th>X</th>\n",
       "      <th>Y</th>\n",
       "    </tr>\n",
       "  </thead>\n",
       "  <tbody>\n",
       "    <tr>\n",
       "      <th>Agressivo</th>\n",
       "      <td>-0.396262</td>\n",
       "      <td>-0.065513</td>\n",
       "    </tr>\n",
       "    <tr>\n",
       "      <th>Conservador</th>\n",
       "      <td>0.786648</td>\n",
       "      <td>-0.433800</td>\n",
       "    </tr>\n",
       "    <tr>\n",
       "      <th>Moderado</th>\n",
       "      <td>0.384408</td>\n",
       "      <td>0.446974</td>\n",
       "    </tr>\n",
       "  </tbody>\n",
       "</table>\n",
       "</div>"
      ],
      "text/plain": [
       "                    X         Y\n",
       "Agressivo   -0.396262 -0.065513\n",
       "Conservador  0.786648 -0.433800\n",
       "Moderado     0.384408  0.446974"
      ]
     },
     "execution_count": 39,
     "metadata": {},
     "output_type": "execute_result"
    }
   ],
   "source": [
    "#Coordenadas das linhas\n",
    "c_lin = ca.row_coordinates(tab_gl)\n",
    "c_lin.columns = ['X','Y']\n",
    "c_lin\n"
   ]
  },
  {
   "cell_type": "code",
   "execution_count": 40,
   "metadata": {},
   "outputs": [
    {
     "data": {
      "text/html": [
       "<div>\n",
       "<style scoped>\n",
       "    .dataframe tbody tr th:only-of-type {\n",
       "        vertical-align: middle;\n",
       "    }\n",
       "\n",
       "    .dataframe tbody tr th {\n",
       "        vertical-align: top;\n",
       "    }\n",
       "\n",
       "    .dataframe thead th {\n",
       "        text-align: right;\n",
       "    }\n",
       "</style>\n",
       "<table border=\"1\" class=\"dataframe\">\n",
       "  <thead>\n",
       "    <tr style=\"text-align: right;\">\n",
       "      <th></th>\n",
       "      <th>X</th>\n",
       "      <th>Y</th>\n",
       "    </tr>\n",
       "  </thead>\n",
       "  <tbody>\n",
       "    <tr>\n",
       "      <th>Acoes</th>\n",
       "      <td>-0.404692</td>\n",
       "      <td>-0.209522</td>\n",
       "    </tr>\n",
       "    <tr>\n",
       "      <th>CDB</th>\n",
       "      <td>0.071019</td>\n",
       "      <td>0.353291</td>\n",
       "    </tr>\n",
       "    <tr>\n",
       "      <th>Poupanca</th>\n",
       "      <td>1.024690</td>\n",
       "      <td>-0.313542</td>\n",
       "    </tr>\n",
       "  </tbody>\n",
       "</table>\n",
       "</div>"
      ],
      "text/plain": [
       "                 X         Y\n",
       "Acoes    -0.404692 -0.209522\n",
       "CDB       0.071019  0.353291\n",
       "Poupanca  1.024690 -0.313542"
      ]
     },
     "execution_count": 40,
     "metadata": {},
     "output_type": "execute_result"
    }
   ],
   "source": [
    "#Coordenadas das Colunas\n",
    "c_col = ca.column_coordinates(tab_gl)\n",
    "c_col.columns = ['X','Y']\n",
    "c_col"
   ]
  },
  {
   "cell_type": "markdown",
   "metadata": {},
   "source": [
    "**Coordenadas dos eixos X e Y de cada variável**"
   ]
  },
  {
   "cell_type": "code",
   "execution_count": 41,
   "metadata": {},
   "outputs": [
    {
     "data": {
      "image/png": "[encoded data removed]",
      "text/plain": [
       "<Figure size 864x576 with 1 Axes>"
      ]
     },
     "metadata": {
      "needs_background": "light"
     },
     "output_type": "display_data"
    }
   ],
   "source": [
    "#Plot das coordenadas \n",
    "\n",
    "#Criando tabela\n",
    "ca.plot_coordinates(tab_gl, figsize=(12, 8))\n",
    "plt.show()"
   ]
  },
  {
   "cell_type": "markdown",
   "metadata": {},
   "source": [
    "**Resultado do plot da ANACOR**\n",
    "\n",
    "**Através dos dados, podemos concluir com praticamente 100% de interpretabilidade dos dados que: o Perfil Conservador se assemelha com a aplicação de poupança, Perfil Moderado com a aplicação de CDB e o Perfil Agressivo com Aplicação de Ações**"
   ]
  },
  {
   "cell_type": "markdown",
   "metadata": {},
   "source": [
    "### OBS: Não podemos interpretar o mapa perceptual sem a tabela de resíduos padronizados ajustados, pois o mapa bidimensional não contem a profundidade dos dados, podendo levar a interpretações errôneas"
   ]
  },
  {
   "cell_type": "markdown",
   "metadata": {},
   "source": [
    "# Conclusão:"
   ]
  },
  {
   "cell_type": "markdown",
   "metadata": {},
   "source": [
    "**Na ANACOR usamos 2 variáveis para analise, e como matéria prima do algoritimo fazemos a tabela de contingencia, essa tabela que vai ser determinante para o nosso objetivo, além da tabela de contingencia extrair os Eigenvalues para criação do mapa perceptual, e os Eigenvectors para determinar as coordenadas dos eixos X e Y, que servem como variáveis metricas para a construção do mapa perceptual sem cometer ponderação arbitraria**"
   ]
  }
 ],
 "metadata": {
  "anaconda-cloud": {},
  "kernelspec": {
   "display_name": "Python 3 (ipykernel)",
   "language": "python",
   "name": "python3"
  },
  "language_info": {
   "codemirror_mode": {
    "name": "ipython",
    "version": 3
   },
   "file_extension": ".py",
   "mimetype": "text/x-python",
   "name": "python",
   "nbconvert_exporter": "python",
   "pygments_lexer": "ipython3",
   "version": "3.9.7"
  }
 },
 "nbformat": 4,
 "nbformat_minor": 1
}
