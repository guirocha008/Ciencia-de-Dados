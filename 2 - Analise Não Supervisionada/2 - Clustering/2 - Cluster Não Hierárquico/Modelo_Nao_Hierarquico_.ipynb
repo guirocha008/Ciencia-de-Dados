{
 "cells": [
  {
   "cell_type": "markdown",
   "metadata": {},
   "source": [
    "# $$Cluster~Não~Hierárquico:K-Means$$\n"
   ]
  },
  {
   "cell_type": "markdown",
   "metadata": {},
   "source": [
    "### $$CONCEITO:$$\n",
    "\n",
    "Técnica Não-Supervisionada (Diagnostica)\n",
    "\n",
    "\n",
    "Os clusters são definidos pela distância das variáveis X\n",
    "\n",
    "\n",
    "**Objetivo:** Criar Grupos de observações através do cálculo da distância entre os dados, que sejam próximos entre si e diferente entre grupos, dentro do Grupo a variabilidade dos dados dever ser mínima e entre grupo deve ser máxima\n",
    "\n",
    "\n",
    "\n",
    "A definição do número de grupos se dá através da variabilidade entre eles, quanto mais grupos, menor a variabilidade\n",
    "\n",
    "-----------------------------------------------------------------------------------------------------------------------\n",
    "\n",
    "### $$Distâncias(Métricas):$$\n",
    "\n",
    "\n",
    "**Precisamos saber qual método usar para calcular a distância entre os dados, e as principais métricas são:**\n",
    "\n",
    "\n",
    "\n",
    "**Euclidiana:** É a distância em linha reta entre dois pontos de dados no espaço euclidiano. Também é chamada de norma L2 ou distância L2.\n",
    "\n",
    "\n",
    "\n",
    "**Minkowsky:** Forma generalizada da distância euclidiana e da distância de Manhattan, é normalmente usada com 'p' sendo 1 ou 2, que corresponde à distância de Manhattan e à distância euclidiana, respetivamente.\n",
    "\n",
    "\n",
    "\n",
    "**Manhattan:** É a soma das diferenças absolutas das suas coordenadas cartesianas, também é chamada com nomes diferentes, distância L1, norma L1, distância da cobra, distância do quarteirão da cidade, etc \n",
    "\n",
    "\n",
    "\n",
    "**Hamming:** A distância de Hamming entre duas sequências de comprimento igual é o número de posições nas quais os símbolos correspondentes são diferentes. Os dados usados podem ser strings contendo letras, bits ou dígitos decimais, etc.\n",
    "\n",
    "-----------------------------------------------------------------------------------------------------------------------\n",
    "\n",
    "### $$Método~De~Agrupamento:K-Means$$\n",
    "\n",
    "A ideia do algoritmo K-Means é fornecer uma classificação em forma de grupos de acordo com a distância dos dados. \n",
    "\n",
    "\n",
    "O usuário deve fornecer ao algoritmo a quantidade de classes que ele deseja. Este número de classes que deve ser passada para o algoritmo é chamado de k\n",
    "\n",
    "\n",
    "O algoritmo faz uma comparação entre cada dado por meio da distância, após o cálculo das distâncias o algoritmo calcula centroides para cada um dos grupos, conforme o algoritmo vai iterando, o valor de cada centroide é redefinido pela média dos valores dentro dos grupos.\n",
    "\n",
    "\n",
    "Uma vez que cada cluster formado é mutuamente exclusivo, nunca pode haver uma relação hierárquica entre os clusters\n",
    "\n",
    "\n",
    "\n",
    "-----------------------------------------------------------------------------------------------------------------------\n",
    "\n",
    "### $$Tipo~De~Distribuição:$$\n",
    "\n",
    "\n",
    "**Variáveis Explicativas:** Somente variáveis Quantitativas, porém para interpretação dos Clusters podemos adicionar as variáveis categóricas após ter concluído o processo de clusterização\n",
    "\n",
    "\n",
    "\n",
    "**OBS1: Não usar Variáveis com Alta Correlação**\n",
    "\n",
    "\n",
    "\n",
    "**OBS2: Padronizar os dados**\n",
    "\n",
    "-----------------------------------------------------------------------------------------------------------------------\n",
    "\n",
    "### $$Técnicas~Para~Escolha~Do~Número~De~Clusters:$$\n",
    "\n",
    "\n",
    "\n",
    "**Coeficiente R²:** Definir o número de grupos quando o R² não aumentar consideravelmente, ou seja, quanto maior o R² melhor o agrupamento.\n",
    "\n",
    "\n",
    "- **Soma de Quadrados Total(SST)** = **SSR**(variabilidade dentro do grupo) **+** **SSB** (variabilidade entre os grupos)\n",
    "\n",
    "\n",
    "- **R²** = **SSB** **/** **SST** \n",
    "\n",
    "\n",
    "**CCC (Cubic Cluster Critirion):**  Buscar o maior valor do R² antes da queda brusca \n",
    "\n",
    "\n",
    "\n",
    "**Elbow:** Soma das variâncias VS Número de Clusters = Quanto maior o número de clusters menor a variância dentro do grupo.\n",
    "\n",
    "\n",
    "\n",
    "**Silhoutte:** Verificar se o dado está no grupo certo, calculando a distância media do dado no seu grupo e comparando o valor com outro grupo, se a distância do seu grupo estiver menor então é o grupo certo, quanto maior o S mais correto está a divisão dos dados nos grupos.\n",
    "\n"
   ]
  },
  {
   "cell_type": "markdown",
   "metadata": {},
   "source": [
    "__------------------------------------------------------------------------------------------------------------------------------------------------------------------------------------------------------------------__\n",
    "\n",
    "\n",
    "__------------------------------------------------------------------------------------------------------------------------------------------------------------------------------------------------------------------__"
   ]
  },
  {
   "cell_type": "markdown",
   "metadata": {},
   "source": [
    "## $$Objetivo:$$\n",
    "\n",
    "## $$Encontrar ~os~ lanches~ menos~ caloricos~ do~ McDonald's~ com~ base ~nas~ informações$$$$~ nutricionais('Carboidratos'~ ,'Gorduras.Totais' ~e ~'Colesterol')$$$$ para~ uma~ campanha ~de~ marketing~usando~o~modelo~K-Mean$$"
   ]
  },
  {
   "cell_type": "markdown",
   "metadata": {},
   "source": [
    "__------------------------------------------------------------------------------------------------------------------------------------------------------------------------------------------------------------------__\n",
    "\n",
    "\n",
    "__------------------------------------------------------------------------------------------------------------------------------------------------------------------------------------------------------------------__"
   ]
  },
  {
   "cell_type": "code",
   "execution_count": 1,
   "metadata": {},
   "outputs": [],
   "source": [
    "import pandas as pd\n",
    "import sklearn.datasets  as dataset\n",
    "import numpy as np\n",
    "import matplotlib.pyplot as plt\n",
    "import matplotlib as mpl\n",
    "import warnings\n",
    "from sklearn.neighbors import KNeighborsClassifier\n",
    "warnings.filterwarnings(\"ignore\")\n",
    "%matplotlib inline "
   ]
  },
  {
   "cell_type": "markdown",
   "metadata": {},
   "source": [
    "# Base de dados"
   ]
  },
  {
   "cell_type": "code",
   "execution_count": 2,
   "metadata": {},
   "outputs": [
    {
     "name": "stdout",
     "output_type": "stream",
     "text": [
      "Shape da base de dados: (25, 3)\n"
     ]
    },
    {
     "data": {
      "text/html": [
       "<div>\n",
       "<style scoped>\n",
       "    .dataframe tbody tr th:only-of-type {\n",
       "        vertical-align: middle;\n",
       "    }\n",
       "\n",
       "    .dataframe tbody tr th {\n",
       "        vertical-align: top;\n",
       "    }\n",
       "\n",
       "    .dataframe thead th {\n",
       "        text-align: right;\n",
       "    }\n",
       "</style>\n",
       "<table border=\"1\" class=\"dataframe\">\n",
       "  <thead>\n",
       "    <tr style=\"text-align: right;\">\n",
       "      <th></th>\n",
       "      <th>Carboidratos</th>\n",
       "      <th>Gorduras.Totais</th>\n",
       "      <th>Colesterol</th>\n",
       "    </tr>\n",
       "    <tr>\n",
       "      <th>Lanche</th>\n",
       "      <th></th>\n",
       "      <th></th>\n",
       "      <th></th>\n",
       "    </tr>\n",
       "  </thead>\n",
       "  <tbody>\n",
       "    <tr>\n",
       "      <th>Big Mac</th>\n",
       "      <td>41</td>\n",
       "      <td>27.0</td>\n",
       "      <td>54</td>\n",
       "    </tr>\n",
       "    <tr>\n",
       "      <th>Big Tasty</th>\n",
       "      <td>45</td>\n",
       "      <td>55.0</td>\n",
       "      <td>104</td>\n",
       "    </tr>\n",
       "    <tr>\n",
       "      <th>Quarterao</th>\n",
       "      <td>36</td>\n",
       "      <td>32.0</td>\n",
       "      <td>86</td>\n",
       "    </tr>\n",
       "    <tr>\n",
       "      <th>Mcnifico Bacon</th>\n",
       "      <td>38</td>\n",
       "      <td>37.0</td>\n",
       "      <td>95</td>\n",
       "    </tr>\n",
       "    <tr>\n",
       "      <th>Cheddar McMelt</th>\n",
       "      <td>33</td>\n",
       "      <td>29.0</td>\n",
       "      <td>81</td>\n",
       "    </tr>\n",
       "    <tr>\n",
       "      <th>McFish</th>\n",
       "      <td>38</td>\n",
       "      <td>16.0</td>\n",
       "      <td>43</td>\n",
       "    </tr>\n",
       "    <tr>\n",
       "      <th>McChicken</th>\n",
       "      <td>40</td>\n",
       "      <td>25.0</td>\n",
       "      <td>49</td>\n",
       "    </tr>\n",
       "    <tr>\n",
       "      <th>McChicken Jr</th>\n",
       "      <td>33</td>\n",
       "      <td>17.0</td>\n",
       "      <td>11</td>\n",
       "    </tr>\n",
       "    <tr>\n",
       "      <th>Chicken Classic Crispy</th>\n",
       "      <td>52</td>\n",
       "      <td>20.0</td>\n",
       "      <td>33</td>\n",
       "    </tr>\n",
       "    <tr>\n",
       "      <th>Chicken Classic Grill</th>\n",
       "      <td>44</td>\n",
       "      <td>12.0</td>\n",
       "      <td>68</td>\n",
       "    </tr>\n",
       "    <tr>\n",
       "      <th>Chicken Club Crispy</th>\n",
       "      <td>54</td>\n",
       "      <td>30.0</td>\n",
       "      <td>58</td>\n",
       "    </tr>\n",
       "    <tr>\n",
       "      <th>Chicken Club Grill</th>\n",
       "      <td>46</td>\n",
       "      <td>22.0</td>\n",
       "      <td>93</td>\n",
       "    </tr>\n",
       "    <tr>\n",
       "      <th>Chicken Lemon Crispy</th>\n",
       "      <td>54</td>\n",
       "      <td>16.0</td>\n",
       "      <td>28</td>\n",
       "    </tr>\n",
       "    <tr>\n",
       "      <th>Chicken Lemon Grill</th>\n",
       "      <td>46</td>\n",
       "      <td>7.8</td>\n",
       "      <td>63</td>\n",
       "    </tr>\n",
       "    <tr>\n",
       "      <th>Cheeseburger</th>\n",
       "      <td>32</td>\n",
       "      <td>14.0</td>\n",
       "      <td>31</td>\n",
       "    </tr>\n",
       "    <tr>\n",
       "      <th>Hamburger</th>\n",
       "      <td>31</td>\n",
       "      <td>9.3</td>\n",
       "      <td>22</td>\n",
       "    </tr>\n",
       "    <tr>\n",
       "      <th>Wrap Grill Maionese</th>\n",
       "      <td>29</td>\n",
       "      <td>16.0</td>\n",
       "      <td>42</td>\n",
       "    </tr>\n",
       "    <tr>\n",
       "      <th>Wrap Crispy Maionese</th>\n",
       "      <td>33</td>\n",
       "      <td>20.0</td>\n",
       "      <td>25</td>\n",
       "    </tr>\n",
       "    <tr>\n",
       "      <th>Wrap Grill Lemon</th>\n",
       "      <td>30</td>\n",
       "      <td>12.0</td>\n",
       "      <td>38</td>\n",
       "    </tr>\n",
       "    <tr>\n",
       "      <th>Wrap Crispy Lemon</th>\n",
       "      <td>34</td>\n",
       "      <td>16.0</td>\n",
       "      <td>21</td>\n",
       "    </tr>\n",
       "    <tr>\n",
       "      <th>Chicken Bacon Crispy</th>\n",
       "      <td>45</td>\n",
       "      <td>25.0</td>\n",
       "      <td>47</td>\n",
       "    </tr>\n",
       "    <tr>\n",
       "      <th>Chicken Bacon Grill</th>\n",
       "      <td>31</td>\n",
       "      <td>16.0</td>\n",
       "      <td>83</td>\n",
       "    </tr>\n",
       "    <tr>\n",
       "      <th>Angus Bacon</th>\n",
       "      <td>57</td>\n",
       "      <td>46.0</td>\n",
       "      <td>145</td>\n",
       "    </tr>\n",
       "    <tr>\n",
       "      <th>Angus Deluxe</th>\n",
       "      <td>56</td>\n",
       "      <td>49.0</td>\n",
       "      <td>139</td>\n",
       "    </tr>\n",
       "    <tr>\n",
       "      <th>CBO</th>\n",
       "      <td>56</td>\n",
       "      <td>35.0</td>\n",
       "      <td>71</td>\n",
       "    </tr>\n",
       "  </tbody>\n",
       "</table>\n",
       "</div>"
      ],
      "text/plain": [
       "                        Carboidratos  Gorduras.Totais  Colesterol\n",
       "Lanche                                                           \n",
       "Big Mac                           41             27.0          54\n",
       "Big Tasty                         45             55.0         104\n",
       "Quarterao                         36             32.0          86\n",
       "Mcnifico Bacon                    38             37.0          95\n",
       "Cheddar McMelt                    33             29.0          81\n",
       "McFish                            38             16.0          43\n",
       "McChicken                         40             25.0          49\n",
       "McChicken Jr                      33             17.0          11\n",
       "Chicken Classic Crispy            52             20.0          33\n",
       "Chicken Classic Grill             44             12.0          68\n",
       "Chicken Club Crispy               54             30.0          58\n",
       "Chicken Club Grill                46             22.0          93\n",
       "Chicken Lemon Crispy              54             16.0          28\n",
       "Chicken Lemon Grill               46              7.8          63\n",
       "Cheeseburger                      32             14.0          31\n",
       "Hamburger                         31              9.3          22\n",
       "Wrap Grill Maionese               29             16.0          42\n",
       "Wrap Crispy Maionese              33             20.0          25\n",
       "Wrap Grill Lemon                  30             12.0          38\n",
       "Wrap Crispy Lemon                 34             16.0          21\n",
       "Chicken Bacon Crispy              45             25.0          47\n",
       "Chicken Bacon Grill               31             16.0          83\n",
       "Angus Bacon                       57             46.0         145\n",
       "Angus Deluxe                      56             49.0         139\n",
       "CBO                               56             35.0          71"
      ]
     },
     "execution_count": 2,
     "metadata": {},
     "output_type": "execute_result"
    }
   ],
   "source": [
    "# Carregando o dataset\n",
    "dados = pd.read_csv('MCDONALDS.csv',encoding='latin1',sep=',')\n",
    "dados = dados.set_index('Lanche')\n",
    "\n",
    "\n",
    "dados = dados[['Carboidratos','Gorduras.Totais','Colesterol']]\n",
    "print(f'Shape da base de dados: {dados.shape}')\n",
    "dados"
   ]
  },
  {
   "cell_type": "markdown",
   "metadata": {},
   "source": [
    "**Os dados estão em escalas diferentes , isso vai interferir na hora da formação dos clusters , precisamos padronizar os dados**"
   ]
  },
  {
   "cell_type": "markdown",
   "metadata": {},
   "source": [
    "# Padronizar os dados"
   ]
  },
  {
   "cell_type": "code",
   "execution_count": 3,
   "metadata": {},
   "outputs": [
    {
     "data": {
      "text/html": [
       "<div>\n",
       "<style scoped>\n",
       "    .dataframe tbody tr th:only-of-type {\n",
       "        vertical-align: middle;\n",
       "    }\n",
       "\n",
       "    .dataframe tbody tr th {\n",
       "        vertical-align: top;\n",
       "    }\n",
       "\n",
       "    .dataframe thead th {\n",
       "        text-align: right;\n",
       "    }\n",
       "</style>\n",
       "<table border=\"1\" class=\"dataframe\">\n",
       "  <thead>\n",
       "    <tr style=\"text-align: right;\">\n",
       "      <th></th>\n",
       "      <th>Carboidratos</th>\n",
       "      <th>Gorduras.Totais</th>\n",
       "      <th>Colesterol</th>\n",
       "    </tr>\n",
       "    <tr>\n",
       "      <th>Lanche</th>\n",
       "      <th></th>\n",
       "      <th></th>\n",
       "      <th></th>\n",
       "    </tr>\n",
       "  </thead>\n",
       "  <tbody>\n",
       "    <tr>\n",
       "      <th>Big Mac</th>\n",
       "      <td>-0.039432</td>\n",
       "      <td>0.231040</td>\n",
       "      <td>-0.207390</td>\n",
       "    </tr>\n",
       "    <tr>\n",
       "      <th>Big Tasty</th>\n",
       "      <td>0.398701</td>\n",
       "      <td>2.512109</td>\n",
       "      <td>1.232820</td>\n",
       "    </tr>\n",
       "    <tr>\n",
       "      <th>Quarterao</th>\n",
       "      <td>-0.587098</td>\n",
       "      <td>0.638373</td>\n",
       "      <td>0.714345</td>\n",
       "    </tr>\n",
       "    <tr>\n",
       "      <th>Mcnifico Bacon</th>\n",
       "      <td>-0.368032</td>\n",
       "      <td>1.045707</td>\n",
       "      <td>0.973582</td>\n",
       "    </tr>\n",
       "    <tr>\n",
       "      <th>Cheddar McMelt</th>\n",
       "      <td>-0.915698</td>\n",
       "      <td>0.393973</td>\n",
       "      <td>0.570323</td>\n",
       "    </tr>\n",
       "  </tbody>\n",
       "</table>\n",
       "</div>"
      ],
      "text/plain": [
       "                Carboidratos  Gorduras.Totais  Colesterol\n",
       "Lanche                                                   \n",
       "Big Mac            -0.039432         0.231040   -0.207390\n",
       "Big Tasty           0.398701         2.512109    1.232820\n",
       "Quarterao          -0.587098         0.638373    0.714345\n",
       "Mcnifico Bacon     -0.368032         1.045707    0.973582\n",
       "Cheddar McMelt     -0.915698         0.393973    0.570323"
      ]
     },
     "execution_count": 3,
     "metadata": {},
     "output_type": "execute_result"
    }
   ],
   "source": [
    "#Padronização\n",
    "from sklearn.preprocessing import StandardScaler  \n",
    "scaler = StandardScaler()  \n",
    "scaler.fit(dados)\n",
    "dados_padro = scaler.transform(dados)\n",
    "dados_padro = pd.DataFrame(dados_padro,columns=dados.columns)\n",
    "dados_padro.index = dados.index\n",
    "dados_padro.head(5)"
   ]
  },
  {
   "cell_type": "markdown",
   "metadata": {},
   "source": [
    "**Todos os dados estão na mesma escala**"
   ]
  },
  {
   "cell_type": "markdown",
   "metadata": {},
   "source": [
    "# Técnicas para escolha do número de clusters:"
   ]
  },
  {
   "cell_type": "markdown",
   "metadata": {},
   "source": [
    "# Metodo Elbow "
   ]
  },
  {
   "cell_type": "code",
   "execution_count": 4,
   "metadata": {},
   "outputs": [
    {
     "data": {
      "image/png": "[encoded data removed]",
      "text/plain": [
       "<Figure size 576x396 with 1 Axes>"
      ]
     },
     "metadata": {},
     "output_type": "display_data"
    }
   ],
   "source": [
    "from sklearn.cluster import KMeans\n",
    "from yellowbrick.cluster import KElbowVisualizer, SilhouetteVisualizer\n",
    "model = KMeans()\n",
    "visualizer = KElbowVisualizer(model, k=(1,11),timings=False)\n",
    "visualizer.fit(dados_padro)   \n",
    "plt.xlabel('Numero de Clusters $k$')\n",
    "plt.ylabel('Variabilidade')\n",
    "plt.title('Metodo Elbow')\n",
    "plt.show()"
   ]
  },
  {
   "cell_type": "markdown",
   "metadata": {},
   "source": [
    "**Veja que quanto maior o número de clusters, menor o valor da variabilidade dos dados, o Método Elbow neste conjunto de dados indica que 4 clusters é o ideal, porém podemos utilizar outros valores e fazer as comparações**"
   ]
  },
  {
   "cell_type": "markdown",
   "metadata": {},
   "source": [
    "## Silhouette"
   ]
  },
  {
   "cell_type": "code",
   "execution_count": 5,
   "metadata": {},
   "outputs": [
    {
     "data": {
      "image/png": "[encoded data removed]",
      "text/plain": [
       "<Figure size 648x525.6 with 1 Axes>"
      ]
     },
     "metadata": {},
     "output_type": "display_data"
    }
   ],
   "source": [
    "from sklearn.metrics import silhouette_score\n",
    "\n",
    "scores = [0]\n",
    "for i in range(2,11):\n",
    "    fitx = KMeans(n_clusters=i, init='random', n_init=5, random_state=109).fit(dados_padro)\n",
    "    score = silhouette_score(dados_padro, fitx.labels_)\n",
    "    scores.append(score)\n",
    "    \n",
    "plt.figure(figsize=(9,7.3))\n",
    "plt.plot(range(1,11), np.array(scores), 'bx-')\n",
    "plt.xlabel('Numero de Clusters $k$')\n",
    "plt.ylabel('Média Silhouette')\n",
    "plt.title('Método da Silhouette')\n",
    "plt.show()"
   ]
  },
  {
   "cell_type": "markdown",
   "metadata": {},
   "source": [
    "**O Método da Silhouette indica que o número de clusters igual a 4 é o ideal para essa base de dados, porém podemos utilizar outros valores e fazer as comparações**"
   ]
  },
  {
   "cell_type": "markdown",
   "metadata": {},
   "source": [
    "### Conclusão 1: \n",
    "\n",
    "**Segundo a análise feita com os métodos Elbow e Silhouette, 4 clusters é o número ideal para separar os dados, para que fiquem o mais heterogêneos possível entre os grupos formados**"
   ]
  },
  {
   "cell_type": "markdown",
   "metadata": {},
   "source": [
    "# Visualização gráfica dos dados"
   ]
  },
  {
   "cell_type": "markdown",
   "metadata": {},
   "source": [
    "## PCA"
   ]
  },
  {
   "cell_type": "markdown",
   "metadata": {},
   "source": [
    "- Para dados que contém mais de 2 variáveis em seu dataset, precisamos transforma-los em 2 componentes para conseguir visualizar no gráfico"
   ]
  },
  {
   "cell_type": "code",
   "execution_count": 6,
   "metadata": {},
   "outputs": [
    {
     "data": {
      "text/html": [
       "<div>\n",
       "<style scoped>\n",
       "    .dataframe tbody tr th:only-of-type {\n",
       "        vertical-align: middle;\n",
       "    }\n",
       "\n",
       "    .dataframe tbody tr th {\n",
       "        vertical-align: top;\n",
       "    }\n",
       "\n",
       "    .dataframe thead th {\n",
       "        text-align: right;\n",
       "    }\n",
       "</style>\n",
       "<table border=\"1\" class=\"dataframe\">\n",
       "  <thead>\n",
       "    <tr style=\"text-align: right;\">\n",
       "      <th></th>\n",
       "      <th>x</th>\n",
       "      <th>y</th>\n",
       "    </tr>\n",
       "    <tr>\n",
       "      <th>Lanche</th>\n",
       "      <th></th>\n",
       "      <th></th>\n",
       "    </tr>\n",
       "  </thead>\n",
       "  <tbody>\n",
       "    <tr>\n",
       "      <th>Big Mac</th>\n",
       "      <td>-0.003864</td>\n",
       "      <td>-0.026685</td>\n",
       "    </tr>\n",
       "    <tr>\n",
       "      <th>Big Tasty</th>\n",
       "      <td>2.489335</td>\n",
       "      <td>-0.953181</td>\n",
       "    </tr>\n",
       "    <tr>\n",
       "      <th>Quarterao</th>\n",
       "      <td>0.526206</td>\n",
       "      <td>-0.992754</td>\n",
       "    </tr>\n",
       "    <tr>\n",
       "      <th>Mcnifico Bacon</th>\n",
       "      <td>1.044100</td>\n",
       "      <td>-1.037822</td>\n",
       "    </tr>\n",
       "    <tr>\n",
       "      <th>Cheddar McMelt</th>\n",
       "      <td>0.122436</td>\n",
       "      <td>-1.139921</td>\n",
       "    </tr>\n",
       "    <tr>\n",
       "      <th>McFish</th>\n",
       "      <td>-0.911983</td>\n",
       "      <td>0.104490</td>\n",
       "    </tr>\n",
       "    <tr>\n",
       "      <th>McChicken</th>\n",
       "      <td>-0.246548</td>\n",
       "      <td>-0.011611</td>\n",
       "    </tr>\n",
       "    <tr>\n",
       "      <th>McChicken Jr</th>\n",
       "      <td>-1.697871</td>\n",
       "      <td>-0.029676</td>\n",
       "    </tr>\n",
       "    <tr>\n",
       "      <th>Chicken Classic Crispy</th>\n",
       "      <td>-0.108670</td>\n",
       "      <td>1.432565</td>\n",
       "    </tr>\n",
       "    <tr>\n",
       "      <th>Chicken Classic Grill</th>\n",
       "      <td>-0.342502</td>\n",
       "      <td>0.491235</td>\n",
       "    </tr>\n",
       "    <tr>\n",
       "      <th>Chicken Club Crispy</th>\n",
       "      <td>0.938071</td>\n",
       "      <td>1.074419</td>\n",
       "    </tr>\n",
       "    <tr>\n",
       "      <th>Chicken Club Grill</th>\n",
       "      <td>0.704239</td>\n",
       "      <td>0.133089</td>\n",
       "    </tr>\n",
       "    <tr>\n",
       "      <th>Chicken Lemon Crispy</th>\n",
       "      <td>-0.284602</td>\n",
       "      <td>1.782965</td>\n",
       "    </tr>\n",
       "    <tr>\n",
       "      <th>Chicken Lemon Grill</th>\n",
       "      <td>-0.528427</td>\n",
       "      <td>0.846890</td>\n",
       "    </tr>\n",
       "    <tr>\n",
       "      <th>Cheeseburger</th>\n",
       "      <td>-1.554544</td>\n",
       "      <td>-0.272233</td>\n",
       "    </tr>\n",
       "    <tr>\n",
       "      <th>Hamburger</th>\n",
       "      <td>-2.001888</td>\n",
       "      <td>-0.140790</td>\n",
       "    </tr>\n",
       "    <tr>\n",
       "      <th>Wrap Grill Maionese</th>\n",
       "      <td>-1.429466</td>\n",
       "      <td>-0.732477</td>\n",
       "    </tr>\n",
       "    <tr>\n",
       "      <th>Wrap Crispy Maionese</th>\n",
       "      <td>-1.303831</td>\n",
       "      <td>-0.267490</td>\n",
       "    </tr>\n",
       "    <tr>\n",
       "      <th>Wrap Grill Lemon</th>\n",
       "      <td>-1.643520</td>\n",
       "      <td>-0.487692</td>\n",
       "    </tr>\n",
       "    <tr>\n",
       "      <th>Wrap Crispy Lemon</th>\n",
       "      <td>-1.517884</td>\n",
       "      <td>-0.022705</td>\n",
       "    </tr>\n",
       "    <tr>\n",
       "      <th>Chicken Bacon Crispy</th>\n",
       "      <td>-0.003624</td>\n",
       "      <td>0.482392</td>\n",
       "    </tr>\n",
       "    <tr>\n",
       "      <th>Chicken Bacon Grill</th>\n",
       "      <td>-0.603345</td>\n",
       "      <td>-1.009568</td>\n",
       "    </tr>\n",
       "    <tr>\n",
       "      <th>Angus Bacon</th>\n",
       "      <td>3.421381</td>\n",
       "      <td>-0.051209</td>\n",
       "    </tr>\n",
       "    <tr>\n",
       "      <th>Angus Deluxe</th>\n",
       "      <td>3.411080</td>\n",
       "      <td>-0.156157</td>\n",
       "    </tr>\n",
       "    <tr>\n",
       "      <th>CBO</th>\n",
       "      <td>1.525722</td>\n",
       "      <td>0.983927</td>\n",
       "    </tr>\n",
       "  </tbody>\n",
       "</table>\n",
       "</div>"
      ],
      "text/plain": [
       "                               x         y\n",
       "Lanche                                    \n",
       "Big Mac                -0.003864 -0.026685\n",
       "Big Tasty               2.489335 -0.953181\n",
       "Quarterao               0.526206 -0.992754\n",
       "Mcnifico Bacon          1.044100 -1.037822\n",
       "Cheddar McMelt          0.122436 -1.139921\n",
       "McFish                 -0.911983  0.104490\n",
       "McChicken              -0.246548 -0.011611\n",
       "McChicken Jr           -1.697871 -0.029676\n",
       "Chicken Classic Crispy -0.108670  1.432565\n",
       "Chicken Classic Grill  -0.342502  0.491235\n",
       "Chicken Club Crispy     0.938071  1.074419\n",
       "Chicken Club Grill      0.704239  0.133089\n",
       "Chicken Lemon Crispy   -0.284602  1.782965\n",
       "Chicken Lemon Grill    -0.528427  0.846890\n",
       "Cheeseburger           -1.554544 -0.272233\n",
       "Hamburger              -2.001888 -0.140790\n",
       "Wrap Grill Maionese    -1.429466 -0.732477\n",
       "Wrap Crispy Maionese   -1.303831 -0.267490\n",
       "Wrap Grill Lemon       -1.643520 -0.487692\n",
       "Wrap Crispy Lemon      -1.517884 -0.022705\n",
       "Chicken Bacon Crispy   -0.003624  0.482392\n",
       "Chicken Bacon Grill    -0.603345 -1.009568\n",
       "Angus Bacon             3.421381 -0.051209\n",
       "Angus Deluxe            3.411080 -0.156157\n",
       "CBO                     1.525722  0.983927"
      ]
     },
     "execution_count": 6,
     "metadata": {},
     "output_type": "execute_result"
    }
   ],
   "source": [
    "from sklearn.decomposition import PCA\n",
    "pca_c = PCA(n_components=2).fit_transform(dados_padro)\n",
    "pca = pd.DataFrame(pca_c,columns=['x','y'])\n",
    "pca.index = dados.index\n",
    "pca"
   ]
  },
  {
   "cell_type": "markdown",
   "metadata": {},
   "source": [
    "**Note que as 3 variáveis do dataset, foram transformadas em 2 componentes**"
   ]
  },
  {
   "cell_type": "markdown",
   "metadata": {},
   "source": [
    "## Plot dos dados com 2 componentes"
   ]
  },
  {
   "cell_type": "code",
   "execution_count": 7,
   "metadata": {},
   "outputs": [
    {
     "data": {
      "image/png": "[encoded data removed]",
      "text/plain": [
       "<Figure size 1224x720 with 1 Axes>"
      ]
     },
     "metadata": {},
     "output_type": "display_data"
    }
   ],
   "source": [
    "#Plotar os 2 Principais componentes dos Auto Vetores\n",
    "fig, ax = plt.subplots(1,1, figsize=(17,10))\n",
    "\n",
    "\n",
    "ax.scatter(pca.iloc[:,0],pca.iloc[:,1]);\n",
    "\n",
    "# Add as labels\n",
    "for index, series in pca.iterrows():\n",
    "    ax.text(series[0]+0.01,series[1]+0.01, index)"
   ]
  },
  {
   "cell_type": "markdown",
   "metadata": {},
   "source": [
    "**Mesmo sem o uso dos clusters podemos notar uma grande diferença entre os lanches ANGUS dos demais**"
   ]
  },
  {
   "cell_type": "markdown",
   "metadata": {},
   "source": [
    "# Algoritimo de Clusterização Não Hierarquica"
   ]
  },
  {
   "cell_type": "markdown",
   "metadata": {},
   "source": [
    "## Modelo K-Means"
   ]
  },
  {
   "cell_type": "code",
   "execution_count": 8,
   "metadata": {},
   "outputs": [],
   "source": [
    "# Criar os modelos K-Means de 2 a 5 clusters\n",
    "fitted_2 = KMeans(n_clusters=2,  random_state=109).fit(pca)\n",
    "fitted_3 = KMeans(n_clusters=3,  random_state=109).fit(pca)\n",
    "fitted_4 = KMeans(n_clusters=4,  random_state=109).fit(pca)\n",
    "fitted_5 = KMeans(n_clusters=5,  random_state=109).fit(pca)\n"
   ]
  },
  {
   "cell_type": "markdown",
   "metadata": {},
   "source": [
    "**4 modelos k-means criados, com 2 a 5 clusters**"
   ]
  },
  {
   "cell_type": "markdown",
   "metadata": {},
   "source": [
    "## Plotar os dados e os centroids"
   ]
  },
  {
   "cell_type": "markdown",
   "metadata": {},
   "source": [
    "- Vamos visualizar graficamente como os dados foram agrupados "
   ]
  },
  {
   "cell_type": "code",
   "execution_count": 22,
   "metadata": {},
   "outputs": [
    {
     "data": {
      "image/png": "[encoded data removed]",
      "text/plain": [
       "<Figure size 1440x864 with 4 Axes>"
      ]
     },
     "metadata": {},
     "output_type": "display_data"
    }
   ],
   "source": [
    "#Plotar os centroids\n",
    "fig,axes =plt.subplots(nrows=2,ncols=2,figsize=(20,12))\n",
    "axes =axes.ravel()\n",
    "\n",
    "axes[0].scatter(x=pca.iloc[:,0],y=pca.iloc[:,1],c=fitted_2.labels_,cmap='tab20b');\n",
    "axes[0].scatter(fitted_2.cluster_centers_[:,0],fitted_2.cluster_centers_[:,1], c='r', marker='o', s=100);\n",
    "axes[0].set_title('2 Clusters', fontsize=17)\n",
    "\n",
    "axes[1].scatter(x=pca.iloc[:,0],y=pca.iloc[:,1],c=fitted_3.labels_,cmap='tab20b');\n",
    "axes[1].scatter(fitted_3.cluster_centers_[:,0],fitted_3.cluster_centers_[:,1], c='r', marker='o', s=100); \n",
    "axes[1].set_title('3 Clusters', fontsize=17)\n",
    "\n",
    "axes[2].scatter(x=pca.iloc[:,0],y=pca.iloc[:,1],c=fitted_4.labels_,cmap='tab20b');\n",
    "axes[2].scatter(fitted_4.cluster_centers_[:,0],fitted_4.cluster_centers_[:,1], c='r', marker='o', s=100); \n",
    "axes[2].set_title('4 Clusters', fontsize=17)\n",
    "\n",
    "axes[3].scatter(x=pca.iloc[:,0],y=pca.iloc[:,1],c=fitted_5.labels_,cmap='tab20b');\n",
    "axes[3].scatter(fitted_5.cluster_centers_[:,0],fitted_5.cluster_centers_[:,1], c='r', marker='o', s=100); \n",
    "axes[3].set_title('5 Clusters', fontsize=17);\n"
   ]
  },
  {
   "cell_type": "markdown",
   "metadata": {},
   "source": [
    "**Observe que os pontos em vermelhos são os centroides de cada grupo, com essa base de dados fica difícil graficamente definir qual número de K é o melhor, só podemos tirar a conclusão que todos parecem ter coerência na definição dos grupos, visualizar de forma descritiva os dados, pode ser uma alternativa para definir o melhor número de clusters**"
   ]
  },
  {
   "cell_type": "markdown",
   "metadata": {},
   "source": [
    "# Análise Descritiva"
   ]
  },
  {
   "cell_type": "markdown",
   "metadata": {},
   "source": [
    "### 2 Clusters "
   ]
  },
  {
   "cell_type": "code",
   "execution_count": 23,
   "metadata": {},
   "outputs": [
    {
     "data": {
      "text/html": [
       "<div>\n",
       "<style scoped>\n",
       "    .dataframe tbody tr th:only-of-type {\n",
       "        vertical-align: middle;\n",
       "    }\n",
       "\n",
       "    .dataframe tbody tr th {\n",
       "        vertical-align: top;\n",
       "    }\n",
       "\n",
       "    .dataframe thead th {\n",
       "        text-align: right;\n",
       "    }\n",
       "</style>\n",
       "<table border=\"1\" class=\"dataframe\">\n",
       "  <thead>\n",
       "    <tr style=\"text-align: right;\">\n",
       "      <th></th>\n",
       "      <th>Carboidratos</th>\n",
       "      <th>Gorduras.Totais</th>\n",
       "      <th>Colesterol</th>\n",
       "      <th>N_Dados</th>\n",
       "    </tr>\n",
       "    <tr>\n",
       "      <th>2_clusters</th>\n",
       "      <th></th>\n",
       "      <th></th>\n",
       "      <th></th>\n",
       "      <th></th>\n",
       "    </tr>\n",
       "  </thead>\n",
       "  <tbody>\n",
       "    <tr>\n",
       "      <th>0</th>\n",
       "      <td>38.0</td>\n",
       "      <td>17.535294</td>\n",
       "      <td>43.470588</td>\n",
       "      <td>17</td>\n",
       "    </tr>\n",
       "    <tr>\n",
       "      <th>1</th>\n",
       "      <td>48.5</td>\n",
       "      <td>38.250000</td>\n",
       "      <td>98.875000</td>\n",
       "      <td>8</td>\n",
       "    </tr>\n",
       "  </tbody>\n",
       "</table>\n",
       "</div>"
      ],
      "text/plain": [
       "            Carboidratos  Gorduras.Totais  Colesterol  N_Dados\n",
       "2_clusters                                                    \n",
       "0                   38.0        17.535294   43.470588       17\n",
       "1                   48.5        38.250000   98.875000        8"
      ]
     },
     "execution_count": 23,
     "metadata": {},
     "output_type": "execute_result"
    }
   ],
   "source": [
    "dados2 = dados.copy()\n",
    "dados2['2_clusters'] = fitted_2.labels_ #Unir o dataframe original com os clusters\n",
    "analise_2 = dados2.groupby('2_clusters')[dados2.columns].mean() #Analise dos clusters\n",
    "analise_2 = analise_2.drop('2_clusters',axis=1)\n",
    "analise_2['N_Dados'] = dados2['2_clusters'].value_counts()\n",
    "analise_2"
   ]
  },
  {
   "cell_type": "markdown",
   "metadata": {},
   "source": [
    "**O Cluster de número 0 são os lanches que tem menos calorias em comparação aos lanches do cluster 1**"
   ]
  },
  {
   "cell_type": "markdown",
   "metadata": {},
   "source": [
    "### 3 Clusters "
   ]
  },
  {
   "cell_type": "code",
   "execution_count": 24,
   "metadata": {},
   "outputs": [
    {
     "data": {
      "text/html": [
       "<div>\n",
       "<style scoped>\n",
       "    .dataframe tbody tr th:only-of-type {\n",
       "        vertical-align: middle;\n",
       "    }\n",
       "\n",
       "    .dataframe tbody tr th {\n",
       "        vertical-align: top;\n",
       "    }\n",
       "\n",
       "    .dataframe thead th {\n",
       "        text-align: right;\n",
       "    }\n",
       "</style>\n",
       "<table border=\"1\" class=\"dataframe\">\n",
       "  <thead>\n",
       "    <tr style=\"text-align: right;\">\n",
       "      <th></th>\n",
       "      <th>Carboidratos</th>\n",
       "      <th>Gorduras.Totais</th>\n",
       "      <th>Colesterol</th>\n",
       "      <th>N_Dados</th>\n",
       "    </tr>\n",
       "    <tr>\n",
       "      <th>3_clusters</th>\n",
       "      <th></th>\n",
       "      <th></th>\n",
       "      <th></th>\n",
       "      <th></th>\n",
       "    </tr>\n",
       "  </thead>\n",
       "  <tbody>\n",
       "    <tr>\n",
       "      <th>0</th>\n",
       "      <td>32.333333</td>\n",
       "      <td>15.144444</td>\n",
       "      <td>35.111111</td>\n",
       "      <td>9</td>\n",
       "    </tr>\n",
       "    <tr>\n",
       "      <th>1</th>\n",
       "      <td>45.000000</td>\n",
       "      <td>24.446154</td>\n",
       "      <td>63.538462</td>\n",
       "      <td>13</td>\n",
       "    </tr>\n",
       "    <tr>\n",
       "      <th>2</th>\n",
       "      <td>52.666667</td>\n",
       "      <td>50.000000</td>\n",
       "      <td>129.333333</td>\n",
       "      <td>3</td>\n",
       "    </tr>\n",
       "  </tbody>\n",
       "</table>\n",
       "</div>"
      ],
      "text/plain": [
       "            Carboidratos  Gorduras.Totais  Colesterol  N_Dados\n",
       "3_clusters                                                    \n",
       "0              32.333333        15.144444   35.111111        9\n",
       "1              45.000000        24.446154   63.538462       13\n",
       "2              52.666667        50.000000  129.333333        3"
      ]
     },
     "execution_count": 24,
     "metadata": {},
     "output_type": "execute_result"
    }
   ],
   "source": [
    "dados3 = dados.copy()\n",
    "dados3['3_clusters'] = fitted_3.labels_  #Unir o dataframe original com os clusters\n",
    "analise_3 = dados3.groupby('3_clusters')[dados3.columns].mean() #Analise dos clusters\n",
    "analise_3 = analise_3.drop('3_clusters',axis=1)\n",
    "analise_3['N_Dados'] = dados3['3_clusters'].value_counts()\n",
    "analise_3"
   ]
  },
  {
   "cell_type": "markdown",
   "metadata": {},
   "source": [
    "**Com 3 clusters diminuímos mais a média das variáveis do cluster 0, conseguimos identificar que o cluster número 2 são os que tem os lanches mais calóricos, seguidos pelos cluster 1 e 0**"
   ]
  },
  {
   "cell_type": "markdown",
   "metadata": {},
   "source": [
    "### 4 Clusters "
   ]
  },
  {
   "cell_type": "code",
   "execution_count": 25,
   "metadata": {},
   "outputs": [
    {
     "data": {
      "text/html": [
       "<div>\n",
       "<style scoped>\n",
       "    .dataframe tbody tr th:only-of-type {\n",
       "        vertical-align: middle;\n",
       "    }\n",
       "\n",
       "    .dataframe tbody tr th {\n",
       "        vertical-align: top;\n",
       "    }\n",
       "\n",
       "    .dataframe thead th {\n",
       "        text-align: right;\n",
       "    }\n",
       "</style>\n",
       "<table border=\"1\" class=\"dataframe\">\n",
       "  <thead>\n",
       "    <tr style=\"text-align: right;\">\n",
       "      <th></th>\n",
       "      <th>Carboidratos</th>\n",
       "      <th>Gorduras.Totais</th>\n",
       "      <th>Colesterol</th>\n",
       "      <th>N_Dados</th>\n",
       "    </tr>\n",
       "    <tr>\n",
       "      <th>4_clusters</th>\n",
       "      <th></th>\n",
       "      <th></th>\n",
       "      <th></th>\n",
       "      <th></th>\n",
       "    </tr>\n",
       "  </thead>\n",
       "  <tbody>\n",
       "    <tr>\n",
       "      <th>0</th>\n",
       "      <td>37.857143</td>\n",
       "      <td>26.857143</td>\n",
       "      <td>77.285714</td>\n",
       "      <td>7</td>\n",
       "    </tr>\n",
       "    <tr>\n",
       "      <th>1</th>\n",
       "      <td>52.666667</td>\n",
       "      <td>50.000000</td>\n",
       "      <td>129.333333</td>\n",
       "      <td>3</td>\n",
       "    </tr>\n",
       "    <tr>\n",
       "      <th>2</th>\n",
       "      <td>50.142857</td>\n",
       "      <td>20.828571</td>\n",
       "      <td>52.571429</td>\n",
       "      <td>7</td>\n",
       "    </tr>\n",
       "    <tr>\n",
       "      <th>3</th>\n",
       "      <td>32.500000</td>\n",
       "      <td>15.037500</td>\n",
       "      <td>29.125000</td>\n",
       "      <td>8</td>\n",
       "    </tr>\n",
       "  </tbody>\n",
       "</table>\n",
       "</div>"
      ],
      "text/plain": [
       "            Carboidratos  Gorduras.Totais  Colesterol  N_Dados\n",
       "4_clusters                                                    \n",
       "0              37.857143        26.857143   77.285714        7\n",
       "1              52.666667        50.000000  129.333333        3\n",
       "2              50.142857        20.828571   52.571429        7\n",
       "3              32.500000        15.037500   29.125000        8"
      ]
     },
     "execution_count": 25,
     "metadata": {},
     "output_type": "execute_result"
    }
   ],
   "source": [
    "dados4 = dados.copy()\n",
    "dados4['4_clusters'] = fitted_4.labels_  #Unir o dataframe original com os clusters\n",
    "analise_4 = dados4.groupby('4_clusters')[dados4.columns].mean() #Analise dos clusters\n",
    "analise_4 = analise_4.drop('4_clusters',axis=1)\n",
    "analise_4['N_Dados'] = dados4['4_clusters'].value_counts()\n",
    "analise_4"
   ]
  },
  {
   "cell_type": "markdown",
   "metadata": {},
   "source": [
    "**Com 4 clusters podemos verificar que o cluster de número 3 é o que representa os lanches com menor poder calórico, em comparação com K = 3, conseguimos diminuir ainda mais a média das variáveis, quando comparamos somente os lanches menos calorias**"
   ]
  },
  {
   "cell_type": "markdown",
   "metadata": {},
   "source": [
    "### 5 Clusters "
   ]
  },
  {
   "cell_type": "code",
   "execution_count": 26,
   "metadata": {},
   "outputs": [
    {
     "data": {
      "text/html": [
       "<div>\n",
       "<style scoped>\n",
       "    .dataframe tbody tr th:only-of-type {\n",
       "        vertical-align: middle;\n",
       "    }\n",
       "\n",
       "    .dataframe tbody tr th {\n",
       "        vertical-align: top;\n",
       "    }\n",
       "\n",
       "    .dataframe thead th {\n",
       "        text-align: right;\n",
       "    }\n",
       "</style>\n",
       "<table border=\"1\" class=\"dataframe\">\n",
       "  <thead>\n",
       "    <tr style=\"text-align: right;\">\n",
       "      <th></th>\n",
       "      <th>Carboidratos</th>\n",
       "      <th>Gorduras.Totais</th>\n",
       "      <th>Colesterol</th>\n",
       "      <th>N_Dados</th>\n",
       "    </tr>\n",
       "    <tr>\n",
       "      <th>5_clusters</th>\n",
       "      <th></th>\n",
       "      <th></th>\n",
       "      <th></th>\n",
       "      <th></th>\n",
       "    </tr>\n",
       "  </thead>\n",
       "  <tbody>\n",
       "    <tr>\n",
       "      <th>0</th>\n",
       "      <td>34.500000</td>\n",
       "      <td>28.500000</td>\n",
       "      <td>86.250000</td>\n",
       "      <td>4</td>\n",
       "    </tr>\n",
       "    <tr>\n",
       "      <th>1</th>\n",
       "      <td>52.000000</td>\n",
       "      <td>29.000000</td>\n",
       "      <td>74.000000</td>\n",
       "      <td>3</td>\n",
       "    </tr>\n",
       "    <tr>\n",
       "      <th>2</th>\n",
       "      <td>46.000000</td>\n",
       "      <td>18.971429</td>\n",
       "      <td>48.857143</td>\n",
       "      <td>7</td>\n",
       "    </tr>\n",
       "    <tr>\n",
       "      <th>3</th>\n",
       "      <td>52.666667</td>\n",
       "      <td>50.000000</td>\n",
       "      <td>129.333333</td>\n",
       "      <td>3</td>\n",
       "    </tr>\n",
       "    <tr>\n",
       "      <th>4</th>\n",
       "      <td>32.500000</td>\n",
       "      <td>15.037500</td>\n",
       "      <td>29.125000</td>\n",
       "      <td>8</td>\n",
       "    </tr>\n",
       "  </tbody>\n",
       "</table>\n",
       "</div>"
      ],
      "text/plain": [
       "            Carboidratos  Gorduras.Totais  Colesterol  N_Dados\n",
       "5_clusters                                                    \n",
       "0              34.500000        28.500000   86.250000        4\n",
       "1              52.000000        29.000000   74.000000        3\n",
       "2              46.000000        18.971429   48.857143        7\n",
       "3              52.666667        50.000000  129.333333        3\n",
       "4              32.500000        15.037500   29.125000        8"
      ]
     },
     "execution_count": 26,
     "metadata": {},
     "output_type": "execute_result"
    }
   ],
   "source": [
    "dados5 = dados.copy()\n",
    "dados5['5_clusters'] = fitted_5.labels_  #Unir o dataframe original com os clusters\n",
    "analise_5 = dados5.groupby('5_clusters')[dados5.columns].mean() #Analise dos clusters\n",
    "analise_5 = analise_5.drop('5_clusters',axis=1)\n",
    "analise_5['N_Dados'] = dados5['5_clusters'].value_counts()\n",
    "analise_5"
   ]
  },
  {
   "cell_type": "markdown",
   "metadata": {},
   "source": [
    "**Apesar de ter aumentado o número de clusters repare que a média do cluster 4 não teve diferença com o cluster de número 3 da tabela anterior, onde usamos K = 4**"
   ]
  },
  {
   "cell_type": "markdown",
   "metadata": {},
   "source": [
    "### Conclusão 2: \n",
    "\n",
    "**Independente se usar o número de K = 4 ou 5, vamos ter os mesmos dados no cluster de menor caloria, por isso é tão importante definir o problema de negócio, pois o número de K é apenas uma sugestão para ajudar na decisão**\n"
   ]
  },
  {
   "cell_type": "markdown",
   "metadata": {},
   "source": [
    "## Escolher os lanches menos caloricos"
   ]
  },
  {
   "cell_type": "code",
   "execution_count": 27,
   "metadata": {},
   "outputs": [
    {
     "data": {
      "text/html": [
       "<div>\n",
       "<style scoped>\n",
       "    .dataframe tbody tr th:only-of-type {\n",
       "        vertical-align: middle;\n",
       "    }\n",
       "\n",
       "    .dataframe tbody tr th {\n",
       "        vertical-align: top;\n",
       "    }\n",
       "\n",
       "    .dataframe thead th {\n",
       "        text-align: right;\n",
       "    }\n",
       "</style>\n",
       "<table border=\"1\" class=\"dataframe\">\n",
       "  <thead>\n",
       "    <tr style=\"text-align: right;\">\n",
       "      <th></th>\n",
       "      <th>Carboidratos</th>\n",
       "      <th>Gorduras.Totais</th>\n",
       "      <th>Colesterol</th>\n",
       "      <th>clusters</th>\n",
       "    </tr>\n",
       "    <tr>\n",
       "      <th>Lanche</th>\n",
       "      <th></th>\n",
       "      <th></th>\n",
       "      <th></th>\n",
       "      <th></th>\n",
       "    </tr>\n",
       "  </thead>\n",
       "  <tbody>\n",
       "    <tr>\n",
       "      <th>McFish</th>\n",
       "      <td>38</td>\n",
       "      <td>16.0</td>\n",
       "      <td>43</td>\n",
       "      <td>4</td>\n",
       "    </tr>\n",
       "    <tr>\n",
       "      <th>McChicken Jr</th>\n",
       "      <td>33</td>\n",
       "      <td>17.0</td>\n",
       "      <td>11</td>\n",
       "      <td>4</td>\n",
       "    </tr>\n",
       "    <tr>\n",
       "      <th>Cheeseburger</th>\n",
       "      <td>32</td>\n",
       "      <td>14.0</td>\n",
       "      <td>31</td>\n",
       "      <td>4</td>\n",
       "    </tr>\n",
       "    <tr>\n",
       "      <th>Hamburger</th>\n",
       "      <td>31</td>\n",
       "      <td>9.3</td>\n",
       "      <td>22</td>\n",
       "      <td>4</td>\n",
       "    </tr>\n",
       "    <tr>\n",
       "      <th>Wrap Grill Maionese</th>\n",
       "      <td>29</td>\n",
       "      <td>16.0</td>\n",
       "      <td>42</td>\n",
       "      <td>4</td>\n",
       "    </tr>\n",
       "    <tr>\n",
       "      <th>Wrap Crispy Maionese</th>\n",
       "      <td>33</td>\n",
       "      <td>20.0</td>\n",
       "      <td>25</td>\n",
       "      <td>4</td>\n",
       "    </tr>\n",
       "    <tr>\n",
       "      <th>Wrap Grill Lemon</th>\n",
       "      <td>30</td>\n",
       "      <td>12.0</td>\n",
       "      <td>38</td>\n",
       "      <td>4</td>\n",
       "    </tr>\n",
       "    <tr>\n",
       "      <th>Wrap Crispy Lemon</th>\n",
       "      <td>34</td>\n",
       "      <td>16.0</td>\n",
       "      <td>21</td>\n",
       "      <td>4</td>\n",
       "    </tr>\n",
       "  </tbody>\n",
       "</table>\n",
       "</div>"
      ],
      "text/plain": [
       "                      Carboidratos  Gorduras.Totais  Colesterol  clusters\n",
       "Lanche                                                                   \n",
       "McFish                          38             16.0          43         4\n",
       "McChicken Jr                    33             17.0          11         4\n",
       "Cheeseburger                    32             14.0          31         4\n",
       "Hamburger                       31              9.3          22         4\n",
       "Wrap Grill Maionese             29             16.0          42         4\n",
       "Wrap Crispy Maionese            33             20.0          25         4\n",
       "Wrap Grill Lemon                30             12.0          38         4\n",
       "Wrap Crispy Lemon               34             16.0          21         4"
      ]
     },
     "execution_count": 27,
     "metadata": {},
     "output_type": "execute_result"
    }
   ],
   "source": [
    "#Filtrar os lanches menos caloricos\n",
    "dados['clusters'] = fitted_5.labels_\n",
    "dados[dados.clusters ==4]"
   ]
  },
  {
   "cell_type": "markdown",
   "metadata": {},
   "source": [
    "**Selecionamos o cluster de número 4 do agrupamento do K = 5, porém poderíamos fazer um filtro maior a partir desse conjunto de dados caso tenha que selecionar um grupo ainda menor de lanches para campanha de marketing**  "
   ]
  },
  {
   "cell_type": "markdown",
   "metadata": {},
   "source": [
    "## Conclusão:"
   ]
  },
  {
   "cell_type": "markdown",
   "metadata": {},
   "source": [
    "**Não existe um número correto de agrupamento, tudo vai depender do seu problema de negócio, independente da escolha do número de clusters do método Elbow ou da Silhouette, com a analise descritiva chegamos à conclusão que 4 ou 5 clusters seria o ideal, pois conseguimos ter um grupo com as características semelhantes com menos dados**"
   ]
  }
 ],
 "metadata": {
  "anaconda-cloud": {},
  "kernelspec": {
   "display_name": "Python 3 (ipykernel)",
   "language": "python",
   "name": "python3"
  },
  "language_info": {
   "codemirror_mode": {
    "name": "ipython",
    "version": 3
   },
   "file_extension": ".py",
   "mimetype": "text/x-python",
   "name": "python",
   "nbconvert_exporter": "python",
   "pygments_lexer": "ipython3",
   "version": "3.9.12"
  }
 },
 "nbformat": 4,
 "nbformat_minor": 1
}
