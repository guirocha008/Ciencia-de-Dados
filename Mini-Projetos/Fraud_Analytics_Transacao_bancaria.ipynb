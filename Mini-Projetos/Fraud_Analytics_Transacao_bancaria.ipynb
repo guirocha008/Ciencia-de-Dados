{
 "cells": [
  {
   "cell_type": "markdown",
   "metadata": {},
   "source": [
    "# $$Fraud ~Analytics: fraudes~em~ transações~bancarias$$"
   ]
  },
  {
   "cell_type": "markdown",
   "metadata": {},
   "source": [
    "### $$Conceito:$$\n",
    "\n",
    "\n",
    "**A análise de fraudes é o uso de técnicas de análise de big data, combinadas com a interação humana, para detectar e investigar atividades suspeitas ou transações impróprias relacionadas a fraudes financeiras**\n",
    "\n",
    "\n",
    "**A análise de fraude pode ser uma solução para prevenção, detecção ou ambas. Ele ajuda a prever futuros comportamentos fraudulentos, tornando-o útil para gerenciar riscos, detectar esquemas de fraude mais rapidamente em tempo real e dimensionar a detecção. O Analytics descobre padrões, discrepâncias e anomalias nos dados que, de outra forma, poderiam passar despercebidos**\n",
    "\n",
    "\n",
    "## $$Técnicas~ de ~análise~ de ~dados~ para~ detecção ~de~ fraudes:$$\n",
    "\n",
    "### **Aprendizado não supervisionado (Análise Descritiva):**\n",
    "\n",
    "**1. Método de detecção estatística de valores discrepantes:**\n",
    "\n",
    "   - **Pontuação padrão/escore z:** calcular a distância do valor fornecido da média de todo o conjunto de valores pode se tornar uma pontuação de risco.\n",
    "   - **Ponto de interrupção:** observando mudanças repentinas no comportamento de uma determinada entidade\n",
    "   - **Análise de grupo de pares:** mudanças repentinas em comparação com os pares \n",
    "   - **Recência, frequência, valor monetário:** compare se uma determinada entidade difere do RFM esperado\n",
    "   - **Aprendizagem de regras de associação:** descubra associações ocultas entre diferentes variáveis usando regras if, then\n",
    "   \n",
    "   \n",
    "**2. Algoritmos de agrupamento:**\n",
    "   - Existem muitos tipos de algoritmos de agrupamento disponíveis, e todos eles visam agrupar um conjunto de objetos com base em sua semelhança entre si em algum sentido e suas diferenças em relação aos outros.\n",
    "   - Quando se trata de detecção de fraude, você tem uma infinidade de pontos de dados disponíveis para esse tipo de agrupamento, e isso permite descobrir padrões de fraude que um analista humano pode perder.\n",
    "   \n",
    "   \n",
    "   \n",
    "### **Aprendizado supervisionado (Análise Preditiva):**\n",
    "\n",
    "**1. Rotulando seu banco de dados histórico:**\n",
    "   - Você também pode usar uma amostra, mas, se puder, deve usar todos os dados disponíveis. É simplesmente classificar ações e transações históricas como boas ou ruins (fraude ou não), para servir de entrada para suas análises ou modelos de aprendizado\n",
    "   \n",
    "\n",
    "**2. Padrão de fraude e análise de variáveis:**\n",
    "   - Nem todas as variáveis são iguais, e esta etapa serve como uma verificação de sanidade. Desconsidere as informações que são distribuídas tão igualmente que não servem como um indicador significativo, pois apenas adicionarão ruído ao seu modelo\n",
    "   \n",
    "   \n",
    "**3. Modelagem de dados:**\n",
    "   - Usando a metodologia fornecida acima, agora você pode encontrar discrepâncias ou ações arriscadas que você não considerou anteriormente. Com esses novos insights, você deve ser capaz de identificar quais são os fortes indicadores de fraude, permitindo que você estabeleça regras contra ela\n",
    "   \n",
    "   \n",
    "**4. Implementação do modelo:**\n",
    "   - Uma das formas é usando algoritimos de Machine Learning: KNN, Random Forest, Redes Neurais, Naive Bayes, etc.\n",
    "   \n",
    "   \n",
    "**5. Monitoramento e feedback:**\n",
    "   - Com o tempo, seus modelos implementados podem ficar desatualizados, enquanto a fraude pode mudar para escapar da detecção, é por isso que você precisa monitorar seus resultados de tempos em tempos e fazer ajustes de acordo"
   ]
  },
  {
   "cell_type": "markdown",
   "metadata": {},
   "source": [
    "## $$Objetivo:$$  \n",
    "\n",
    "## $$Identificar~ as~ variáveis~ mais ~relevantes~ para~ detecção~ de~ fraudes$$$$ ~em ~transações~ bancarias$$"
   ]
  },
  {
   "cell_type": "code",
   "execution_count": 1,
   "metadata": {},
   "outputs": [],
   "source": [
    "#Carregar os pacotes\n",
    "import numpy as np\n",
    "import pandas as pd\n",
    "import seaborn as sns \n",
    "import matplotlib.pyplot as plt\n",
    "import seaborn as sns"
   ]
  },
  {
   "cell_type": "markdown",
   "metadata": {},
   "source": [
    "# Base de Dados "
   ]
  },
  {
   "cell_type": "code",
   "execution_count": 2,
   "metadata": {},
   "outputs": [
    {
     "data": {
      "text/html": [
       "<div>\n",
       "<style scoped>\n",
       "    .dataframe tbody tr th:only-of-type {\n",
       "        vertical-align: middle;\n",
       "    }\n",
       "\n",
       "    .dataframe tbody tr th {\n",
       "        vertical-align: top;\n",
       "    }\n",
       "\n",
       "    .dataframe thead th {\n",
       "        text-align: right;\n",
       "    }\n",
       "</style>\n",
       "<table border=\"1\" class=\"dataframe\">\n",
       "  <thead>\n",
       "    <tr style=\"text-align: right;\">\n",
       "      <th></th>\n",
       "      <th>step</th>\n",
       "      <th>type</th>\n",
       "      <th>amount</th>\n",
       "      <th>nameOrig</th>\n",
       "      <th>oldbalanceOrg</th>\n",
       "      <th>newbalanceOrig</th>\n",
       "      <th>nameDest</th>\n",
       "      <th>oldbalanceDest</th>\n",
       "      <th>newbalanceDest</th>\n",
       "      <th>isFraud</th>\n",
       "      <th>isFlaggedFraud</th>\n",
       "    </tr>\n",
       "  </thead>\n",
       "  <tbody>\n",
       "    <tr>\n",
       "      <th>0</th>\n",
       "      <td>1</td>\n",
       "      <td>PAYMENT</td>\n",
       "      <td>9839.64</td>\n",
       "      <td>C1231006815</td>\n",
       "      <td>170136.00</td>\n",
       "      <td>160296.36</td>\n",
       "      <td>M1979787155</td>\n",
       "      <td>0.00</td>\n",
       "      <td>0.00</td>\n",
       "      <td>0</td>\n",
       "      <td>0</td>\n",
       "    </tr>\n",
       "    <tr>\n",
       "      <th>1</th>\n",
       "      <td>1</td>\n",
       "      <td>PAYMENT</td>\n",
       "      <td>1864.28</td>\n",
       "      <td>C1666544295</td>\n",
       "      <td>21249.00</td>\n",
       "      <td>19384.72</td>\n",
       "      <td>M2044282225</td>\n",
       "      <td>0.00</td>\n",
       "      <td>0.00</td>\n",
       "      <td>0</td>\n",
       "      <td>0</td>\n",
       "    </tr>\n",
       "    <tr>\n",
       "      <th>2</th>\n",
       "      <td>1</td>\n",
       "      <td>TRANSFER</td>\n",
       "      <td>181.00</td>\n",
       "      <td>C1305486145</td>\n",
       "      <td>181.00</td>\n",
       "      <td>0.00</td>\n",
       "      <td>C553264065</td>\n",
       "      <td>0.00</td>\n",
       "      <td>0.00</td>\n",
       "      <td>1</td>\n",
       "      <td>0</td>\n",
       "    </tr>\n",
       "    <tr>\n",
       "      <th>3</th>\n",
       "      <td>1</td>\n",
       "      <td>CASH_OUT</td>\n",
       "      <td>181.00</td>\n",
       "      <td>C840083671</td>\n",
       "      <td>181.00</td>\n",
       "      <td>0.00</td>\n",
       "      <td>C38997010</td>\n",
       "      <td>21182.00</td>\n",
       "      <td>0.00</td>\n",
       "      <td>1</td>\n",
       "      <td>0</td>\n",
       "    </tr>\n",
       "    <tr>\n",
       "      <th>4</th>\n",
       "      <td>1</td>\n",
       "      <td>PAYMENT</td>\n",
       "      <td>11668.14</td>\n",
       "      <td>C2048537720</td>\n",
       "      <td>41554.00</td>\n",
       "      <td>29885.86</td>\n",
       "      <td>M1230701703</td>\n",
       "      <td>0.00</td>\n",
       "      <td>0.00</td>\n",
       "      <td>0</td>\n",
       "      <td>0</td>\n",
       "    </tr>\n",
       "    <tr>\n",
       "      <th>...</th>\n",
       "      <td>...</td>\n",
       "      <td>...</td>\n",
       "      <td>...</td>\n",
       "      <td>...</td>\n",
       "      <td>...</td>\n",
       "      <td>...</td>\n",
       "      <td>...</td>\n",
       "      <td>...</td>\n",
       "      <td>...</td>\n",
       "      <td>...</td>\n",
       "      <td>...</td>\n",
       "    </tr>\n",
       "    <tr>\n",
       "      <th>6362615</th>\n",
       "      <td>743</td>\n",
       "      <td>CASH_OUT</td>\n",
       "      <td>339682.13</td>\n",
       "      <td>C786484425</td>\n",
       "      <td>339682.13</td>\n",
       "      <td>0.00</td>\n",
       "      <td>C776919290</td>\n",
       "      <td>0.00</td>\n",
       "      <td>339682.13</td>\n",
       "      <td>1</td>\n",
       "      <td>0</td>\n",
       "    </tr>\n",
       "    <tr>\n",
       "      <th>6362616</th>\n",
       "      <td>743</td>\n",
       "      <td>TRANSFER</td>\n",
       "      <td>6311409.28</td>\n",
       "      <td>C1529008245</td>\n",
       "      <td>6311409.28</td>\n",
       "      <td>0.00</td>\n",
       "      <td>C1881841831</td>\n",
       "      <td>0.00</td>\n",
       "      <td>0.00</td>\n",
       "      <td>1</td>\n",
       "      <td>0</td>\n",
       "    </tr>\n",
       "    <tr>\n",
       "      <th>6362617</th>\n",
       "      <td>743</td>\n",
       "      <td>CASH_OUT</td>\n",
       "      <td>6311409.28</td>\n",
       "      <td>C1162922333</td>\n",
       "      <td>6311409.28</td>\n",
       "      <td>0.00</td>\n",
       "      <td>C1365125890</td>\n",
       "      <td>68488.84</td>\n",
       "      <td>6379898.11</td>\n",
       "      <td>1</td>\n",
       "      <td>0</td>\n",
       "    </tr>\n",
       "    <tr>\n",
       "      <th>6362618</th>\n",
       "      <td>743</td>\n",
       "      <td>TRANSFER</td>\n",
       "      <td>850002.52</td>\n",
       "      <td>C1685995037</td>\n",
       "      <td>850002.52</td>\n",
       "      <td>0.00</td>\n",
       "      <td>C2080388513</td>\n",
       "      <td>0.00</td>\n",
       "      <td>0.00</td>\n",
       "      <td>1</td>\n",
       "      <td>0</td>\n",
       "    </tr>\n",
       "    <tr>\n",
       "      <th>6362619</th>\n",
       "      <td>743</td>\n",
       "      <td>CASH_OUT</td>\n",
       "      <td>850002.52</td>\n",
       "      <td>C1280323807</td>\n",
       "      <td>850002.52</td>\n",
       "      <td>0.00</td>\n",
       "      <td>C873221189</td>\n",
       "      <td>6510099.11</td>\n",
       "      <td>7360101.63</td>\n",
       "      <td>1</td>\n",
       "      <td>0</td>\n",
       "    </tr>\n",
       "  </tbody>\n",
       "</table>\n",
       "<p>6362620 rows × 11 columns</p>\n",
       "</div>"
      ],
      "text/plain": [
       "         step      type      amount     nameOrig  oldbalanceOrg  \\\n",
       "0           1   PAYMENT     9839.64  C1231006815      170136.00   \n",
       "1           1   PAYMENT     1864.28  C1666544295       21249.00   \n",
       "2           1  TRANSFER      181.00  C1305486145         181.00   \n",
       "3           1  CASH_OUT      181.00   C840083671         181.00   \n",
       "4           1   PAYMENT    11668.14  C2048537720       41554.00   \n",
       "...       ...       ...         ...          ...            ...   \n",
       "6362615   743  CASH_OUT   339682.13   C786484425      339682.13   \n",
       "6362616   743  TRANSFER  6311409.28  C1529008245     6311409.28   \n",
       "6362617   743  CASH_OUT  6311409.28  C1162922333     6311409.28   \n",
       "6362618   743  TRANSFER   850002.52  C1685995037      850002.52   \n",
       "6362619   743  CASH_OUT   850002.52  C1280323807      850002.52   \n",
       "\n",
       "         newbalanceOrig     nameDest  oldbalanceDest  newbalanceDest  isFraud  \\\n",
       "0             160296.36  M1979787155            0.00            0.00        0   \n",
       "1              19384.72  M2044282225            0.00            0.00        0   \n",
       "2                  0.00   C553264065            0.00            0.00        1   \n",
       "3                  0.00    C38997010        21182.00            0.00        1   \n",
       "4              29885.86  M1230701703            0.00            0.00        0   \n",
       "...                 ...          ...             ...             ...      ...   \n",
       "6362615            0.00   C776919290            0.00       339682.13        1   \n",
       "6362616            0.00  C1881841831            0.00            0.00        1   \n",
       "6362617            0.00  C1365125890        68488.84      6379898.11        1   \n",
       "6362618            0.00  C2080388513            0.00            0.00        1   \n",
       "6362619            0.00   C873221189      6510099.11      7360101.63        1   \n",
       "\n",
       "         isFlaggedFraud  \n",
       "0                     0  \n",
       "1                     0  \n",
       "2                     0  \n",
       "3                     0  \n",
       "4                     0  \n",
       "...                 ...  \n",
       "6362615               0  \n",
       "6362616               0  \n",
       "6362617               0  \n",
       "6362618               0  \n",
       "6362619               0  \n",
       "\n",
       "[6362620 rows x 11 columns]"
      ]
     },
     "execution_count": 2,
     "metadata": {},
     "output_type": "execute_result"
    }
   ],
   "source": [
    "# Carrega o dataset\n",
    "dados = pd.read_csv(\"fraud.csv\",sep=',')\n",
    "dados"
   ]
  },
  {
   "cell_type": "markdown",
   "metadata": {},
   "source": [
    "**Dataset contém 6.362.620 registros e 11 variáveis.**"
   ]
  },
  {
   "cell_type": "markdown",
   "metadata": {},
   "source": [
    "# Dicionário de Dados\n",
    "\n"
   ]
  },
  {
   "cell_type": "markdown",
   "metadata": {},
   "source": [
    "### **$$Variáveis:$$**\n",
    "\n",
    "- **step:** 1 step é 1 hora de tempo. Total de step 744 (simulação de 31 dias).\n",
    "\n",
    "\n",
    "- **type:** Tipo de transação financeira\n",
    "\n",
    "    \n",
    "- **amount:** Valor da transação\n",
    "\n",
    "\n",
    "- **nameOrig:**  Cliente que iniciou a transação\n",
    "\n",
    "\n",
    "- **oldbalanceOrg:**  Saldo inicial antes da transação\n",
    "\n",
    "\n",
    "- **newbalanceOrig:** Novo saldo após a transação\n",
    "\n",
    "\n",
    "- **nameDest:** Cliente que é o destinatário da transação\n",
    "\n",
    "\n",
    "- **oldbalanceDest:** Destinatário do saldo inicial antes da transação. Observe que não há informações para clientes que começam com M (Comerciantes).\n",
    "\n",
    "\n",
    "- **newbalanceDest:** Novo destinatário do saldo após a transação. Observe que não há informações para clientes que começam com M (Comerciantes).\n",
    "\n",
    "\n",
    "- **isFraud:** São as transações feitas pelos agentes fraudulentos\n",
    "\n",
    "\n",
    "- **isFlaggedFraud:** Sinaliza tentativas ilegais de fraude, uma tentativa ilegal neste conjunto de dados é uma tentativa de transferir mais de 200.000 em uma única transação.\n"
   ]
  },
  {
   "cell_type": "markdown",
   "metadata": {},
   "source": [
    "# Análise Exploratória"
   ]
  },
  {
   "cell_type": "code",
   "execution_count": 3,
   "metadata": {},
   "outputs": [
    {
     "data": {
      "text/html": [
       "<div>\n",
       "<style scoped>\n",
       "    .dataframe tbody tr th:only-of-type {\n",
       "        vertical-align: middle;\n",
       "    }\n",
       "\n",
       "    .dataframe tbody tr th {\n",
       "        vertical-align: top;\n",
       "    }\n",
       "\n",
       "    .dataframe thead th {\n",
       "        text-align: right;\n",
       "    }\n",
       "</style>\n",
       "<table border=\"1\" class=\"dataframe\">\n",
       "  <thead>\n",
       "    <tr style=\"text-align: right;\">\n",
       "      <th></th>\n",
       "      <th>Type</th>\n",
       "    </tr>\n",
       "  </thead>\n",
       "  <tbody>\n",
       "    <tr>\n",
       "      <th>step</th>\n",
       "      <td>int64</td>\n",
       "    </tr>\n",
       "    <tr>\n",
       "      <th>type</th>\n",
       "      <td>object</td>\n",
       "    </tr>\n",
       "    <tr>\n",
       "      <th>amount</th>\n",
       "      <td>float64</td>\n",
       "    </tr>\n",
       "    <tr>\n",
       "      <th>nameOrig</th>\n",
       "      <td>object</td>\n",
       "    </tr>\n",
       "    <tr>\n",
       "      <th>oldbalanceOrg</th>\n",
       "      <td>float64</td>\n",
       "    </tr>\n",
       "    <tr>\n",
       "      <th>newbalanceOrig</th>\n",
       "      <td>float64</td>\n",
       "    </tr>\n",
       "    <tr>\n",
       "      <th>nameDest</th>\n",
       "      <td>object</td>\n",
       "    </tr>\n",
       "    <tr>\n",
       "      <th>oldbalanceDest</th>\n",
       "      <td>float64</td>\n",
       "    </tr>\n",
       "    <tr>\n",
       "      <th>newbalanceDest</th>\n",
       "      <td>float64</td>\n",
       "    </tr>\n",
       "    <tr>\n",
       "      <th>isFraud</th>\n",
       "      <td>int64</td>\n",
       "    </tr>\n",
       "    <tr>\n",
       "      <th>isFlaggedFraud</th>\n",
       "      <td>int64</td>\n",
       "    </tr>\n",
       "  </tbody>\n",
       "</table>\n",
       "</div>"
      ],
      "text/plain": [
       "                   Type\n",
       "step              int64\n",
       "type             object\n",
       "amount          float64\n",
       "nameOrig         object\n",
       "oldbalanceOrg   float64\n",
       "newbalanceOrig  float64\n",
       "nameDest         object\n",
       "oldbalanceDest  float64\n",
       "newbalanceDest  float64\n",
       "isFraud           int64\n",
       "isFlaggedFraud    int64"
      ]
     },
     "execution_count": 3,
     "metadata": {},
     "output_type": "execute_result"
    }
   ],
   "source": [
    "# Tipos de dados das colunas\n",
    "tipo = dados.dtypes\n",
    "tipo = tipo.to_frame()\n",
    "tipo.columns = ['Type']\n",
    "tipo"
   ]
  },
  {
   "cell_type": "code",
   "execution_count": 4,
   "metadata": {},
   "outputs": [
    {
     "data": {
      "text/html": [
       "<div>\n",
       "<style scoped>\n",
       "    .dataframe tbody tr th:only-of-type {\n",
       "        vertical-align: middle;\n",
       "    }\n",
       "\n",
       "    .dataframe tbody tr th {\n",
       "        vertical-align: top;\n",
       "    }\n",
       "\n",
       "    .dataframe thead th {\n",
       "        text-align: right;\n",
       "    }\n",
       "</style>\n",
       "<table border=\"1\" class=\"dataframe\">\n",
       "  <thead>\n",
       "    <tr style=\"text-align: right;\">\n",
       "      <th></th>\n",
       "      <th>Type</th>\n",
       "      <th>Unique</th>\n",
       "    </tr>\n",
       "  </thead>\n",
       "  <tbody>\n",
       "    <tr>\n",
       "      <th>step</th>\n",
       "      <td>int64</td>\n",
       "      <td>743</td>\n",
       "    </tr>\n",
       "    <tr>\n",
       "      <th>type</th>\n",
       "      <td>object</td>\n",
       "      <td>5</td>\n",
       "    </tr>\n",
       "    <tr>\n",
       "      <th>amount</th>\n",
       "      <td>float64</td>\n",
       "      <td>5316900</td>\n",
       "    </tr>\n",
       "    <tr>\n",
       "      <th>nameOrig</th>\n",
       "      <td>object</td>\n",
       "      <td>6353307</td>\n",
       "    </tr>\n",
       "    <tr>\n",
       "      <th>oldbalanceOrg</th>\n",
       "      <td>float64</td>\n",
       "      <td>1845844</td>\n",
       "    </tr>\n",
       "    <tr>\n",
       "      <th>newbalanceOrig</th>\n",
       "      <td>float64</td>\n",
       "      <td>2682586</td>\n",
       "    </tr>\n",
       "    <tr>\n",
       "      <th>nameDest</th>\n",
       "      <td>object</td>\n",
       "      <td>2722362</td>\n",
       "    </tr>\n",
       "    <tr>\n",
       "      <th>oldbalanceDest</th>\n",
       "      <td>float64</td>\n",
       "      <td>3614697</td>\n",
       "    </tr>\n",
       "    <tr>\n",
       "      <th>newbalanceDest</th>\n",
       "      <td>float64</td>\n",
       "      <td>3555499</td>\n",
       "    </tr>\n",
       "    <tr>\n",
       "      <th>isFraud</th>\n",
       "      <td>int64</td>\n",
       "      <td>2</td>\n",
       "    </tr>\n",
       "    <tr>\n",
       "      <th>isFlaggedFraud</th>\n",
       "      <td>int64</td>\n",
       "      <td>2</td>\n",
       "    </tr>\n",
       "  </tbody>\n",
       "</table>\n",
       "</div>"
      ],
      "text/plain": [
       "                   Type   Unique\n",
       "step              int64      743\n",
       "type             object        5\n",
       "amount          float64  5316900\n",
       "nameOrig         object  6353307\n",
       "oldbalanceOrg   float64  1845844\n",
       "newbalanceOrig  float64  2682586\n",
       "nameDest         object  2722362\n",
       "oldbalanceDest  float64  3614697\n",
       "newbalanceDest  float64  3555499\n",
       "isFraud           int64        2\n",
       "isFlaggedFraud    int64        2"
      ]
     },
     "execution_count": 4,
     "metadata": {},
     "output_type": "execute_result"
    }
   ],
   "source": [
    "# Verifica o total de valores únicos por coluna\n",
    "tipo['Unique']= dados.nunique()\n",
    "tipo"
   ]
  },
  {
   "cell_type": "markdown",
   "metadata": {},
   "source": [
    "**Todas as variáveis estão com o type definidos corretamente**"
   ]
  },
  {
   "cell_type": "code",
   "execution_count": 5,
   "metadata": {},
   "outputs": [
    {
     "data": {
      "text/plain": [
       "step              0\n",
       "type              0\n",
       "amount            0\n",
       "nameOrig          0\n",
       "oldbalanceOrg     0\n",
       "newbalanceOrig    0\n",
       "nameDest          0\n",
       "oldbalanceDest    0\n",
       "newbalanceDest    0\n",
       "isFraud           0\n",
       "isFlaggedFraud    0\n",
       "dtype: int64"
      ]
     },
     "execution_count": 5,
     "metadata": {},
     "output_type": "execute_result"
    }
   ],
   "source": [
    "# Verificar se existe valores nulos\n",
    "dados.isnull().sum()"
   ]
  },
  {
   "cell_type": "code",
   "execution_count": 6,
   "metadata": {},
   "outputs": [
    {
     "data": {
      "text/plain": [
       "0"
      ]
     },
     "execution_count": 6,
     "metadata": {},
     "output_type": "execute_result"
    }
   ],
   "source": [
    "#Verificar se existe dados duplicados\n",
    "sum(dados.duplicated())"
   ]
  },
  {
   "cell_type": "markdown",
   "metadata": {},
   "source": [
    "**Não existe dados nulos e nem duplicados no dataset**"
   ]
  },
  {
   "cell_type": "code",
   "execution_count": 7,
   "metadata": {},
   "outputs": [
    {
     "name": "stdout",
     "output_type": "stream",
     "text": [
      "\n",
      "Coluna: step, [  1   2   3   4   5   6   7   8   9  10  11  12  13  14  15  16  17  18\n",
      "  19  20  21  22  23  24  25  26  27  28  29  30  31  32  33  34  35  36\n",
      "  37  38  39  40  41  42  43  44  45  46  47  48  49  50  51  52  53  54\n",
      "  55  56  57  58  59  60  61  62  63  64  65  66  67  68  69  70  71  72\n",
      "  73  74  75  76  77  78  79  80  81  82  83  84  85  86  87  88  89  90\n",
      "  91  92  93  94  95  96  97  98  99 100 101 102 103 104 105 106 107 108\n",
      " 109 110 111 112 113 114 115 116 117 118 119 120 121 122 123 124 125 126\n",
      " 127 128 129 130 131 132 133 134 135 136 137 138 139 140 141 142 143 144\n",
      " 145 146 147 148 149 150 151 152 153 154 155 156 157 158 159 160 161 162\n",
      " 163 164 165 166 167 168 169 170 171 172 173 174 175 176 177 178 179 180\n",
      " 181 182 183 184 185 186 187 188 189 190 191 192 193 194 195 196 197 198\n",
      " 199 200 201 202 203 204 205 206 207 208 209 210 211 212 213 214 215 216\n",
      " 217 218 219 220 221 222 223 224 225 226 227 228 229 230 231 232 233 234\n",
      " 235 236 237 238 239 240 241 242 243 244 245 246 247 248 249 250 251 252\n",
      " 253 254 255 256 257 258 259 260 261 262 263 264 265 266 267 268 269 270\n",
      " 271 272 273 274 275 276 277 278 279 280 281 282 283 284 285 286 287 288\n",
      " 289 290 291 292 293 294 295 296 297 298 299 300 301 302 303 304 305 306\n",
      " 307 308 309 310 311 312 313 314 315 316 317 318 319 320 321 322 323 324\n",
      " 325 326 327 328 329 330 331 332 333 334 335 336 337 338 339 340 341 342\n",
      " 343 344 345 346 347 348 349 350 351 352 353 354 355 356 357 358 359 360\n",
      " 361 362 363 364 365 366 367 368 369 370 371 372 373 374 375 376 377 378\n",
      " 379 380 381 382 383 384 385 386 387 388 389 390 391 392 393 394 395 396\n",
      " 397 398 399 400 401 402 403 404 405 406 407 408 409 410 411 412 413 414\n",
      " 415 416 417 418 419 420 421 422 423 424 425 426 427 428 429 430 431 432\n",
      " 433 434 435 436 437 438 439 440 441 442 443 444 445 446 447 448 449 450\n",
      " 451 452 453 454 455 456 457 458 459 460 461 462 463 464 465 466 467 468\n",
      " 469 470 471 472 473 474 475 476 477 478 479 480 481 482 483 484 485 486\n",
      " 487 488 489 490 491 492 493 494 495 496 497 498 499 500 501 502 503 504\n",
      " 505 506 507 508 509 510 511 512 513 514 515 516 517 518 519 520 521 522\n",
      " 523 524 525 526 527 528 529 530 531 532 533 534 535 536 537 538 539 540\n",
      " 541 542 543 544 545 546 547 548 549 550 551 552 553 554 555 556 557 558\n",
      " 559 560 561 562 563 564 565 566 567 568 569 570 571 572 573 574 575 576\n",
      " 577 578 579 580 581 582 583 584 585 586 587 588 589 590 591 592 593 594\n",
      " 595 596 597 598 599 600 601 602 603 604 605 606 607 608 609 610 611 612\n",
      " 613 614 615 616 617 618 619 620 621 622 623 624 625 626 627 628 629 630\n",
      " 631 632 633 634 635 636 637 638 639 640 641 642 643 644 645 646 647 648\n",
      " 649 650 651 652 653 654 655 656 657 658 659 660 661 662 663 664 665 666\n",
      " 667 668 669 670 671 672 673 674 675 676 677 678 679 680 681 682 683 684\n",
      " 685 686 687 688 689 690 691 692 693 694 695 696 697 698 699 700 701 702\n",
      " 703 704 705 706 707 708 709 710 711 712 713 714 715 716 717 718 719 720\n",
      " 721 722 723 724 725 726 727 728 729 730 731 732 733 734 735 736 737 738\n",
      " 739 740 741 742 743]\n",
      "\n",
      "Coluna: type, ['PAYMENT' 'TRANSFER' 'CASH_OUT' 'DEBIT' 'CASH_IN']\n",
      "\n",
      "Coluna: amount, [9.83964000e+03 1.86428000e+03 1.81000000e+02 ... 3.39682130e+05\n",
      " 6.31140928e+06 8.50002520e+05]\n",
      "\n",
      "Coluna: nameOrig, ['C1231006815' 'C1666544295' 'C1305486145' ... 'C1162922333' 'C1685995037'\n",
      " 'C1280323807']\n",
      "\n",
      "Coluna: oldbalanceOrg, [1.70136000e+05 2.12490000e+04 1.81000000e+02 ... 3.39682130e+05\n",
      " 6.31140928e+06 8.50002520e+05]\n",
      "\n",
      "Coluna: newbalanceOrig, [1.60296360e+05 1.93847200e+04 0.00000000e+00 ... 2.56745479e+07\n",
      " 1.56745479e+07 5.67454789e+06]\n",
      "\n",
      "Coluna: nameDest, ['M1979787155' 'M2044282225' 'C553264065' ... 'C1850423904' 'C1881841831'\n",
      " 'C2080388513']\n",
      "\n",
      "Coluna: oldbalanceDest, [      0.     21182.     41898.   ...  503464.5    68488.84 6510099.11]\n",
      "\n",
      "Coluna: newbalanceDest, [      0.     40348.79  157982.12 ... 1762283.33 6379898.11 7360101.63]\n",
      "\n",
      "Coluna: isFraud, [0 1]\n",
      "\n",
      "Coluna: isFlaggedFraud, [0 1]\n"
     ]
    }
   ],
   "source": [
    "#Verificar todos os dados preenchidos de cada coluna\n",
    "\n",
    "for i in dados.columns:\n",
    "    print(f'\\nColuna: {i}, {dados[i].unique()}')"
   ]
  },
  {
   "cell_type": "markdown",
   "metadata": {},
   "source": [
    "**Note que todas os valores estão coerentes, vamos apenas transformar a variável 'step' em formato de horas(24H), para conseguir tirar insights**"
   ]
  },
  {
   "cell_type": "code",
   "execution_count": 49,
   "metadata": {},
   "outputs": [
    {
     "data": {
      "text/plain": [
       "array([ 1,  2,  3,  4,  5,  6,  7,  8,  9, 10, 11, 12, 13, 14, 15, 16, 17,\n",
       "       18, 19, 20, 21, 22, 23,  0], dtype=int64)"
      ]
     },
     "execution_count": 49,
     "metadata": {},
     "output_type": "execute_result"
    }
   ],
   "source": [
    "#Transformar a variável 'step' em hora\n",
    "dados['hour'] =  dados.step % 24\n",
    "\n",
    "\n",
    "#Excluir a variável 'step'\n",
    "dados = dados.drop('step',axis=1)\n",
    "\n",
    "#Verificar os dados da variável 'hour'\n",
    "dados.hour.unique()"
   ]
  },
  {
   "cell_type": "markdown",
   "metadata": {},
   "source": [
    "**Note que agora a variável está em formato de horas**"
   ]
  },
  {
   "cell_type": "markdown",
   "metadata": {},
   "source": [
    "## Análise das variáveis:"
   ]
  },
  {
   "cell_type": "markdown",
   "metadata": {},
   "source": [
    "**Variável Target: isFraud**\n",
    "\n"
   ]
  },
  {
   "cell_type": "code",
   "execution_count": 50,
   "metadata": {},
   "outputs": [
    {
     "data": {
      "image/png": "[encoded data removed]",
      "text/plain": [
       "<Figure size 432x288 with 1 Axes>"
      ]
     },
     "metadata": {
      "needs_background": "light"
     },
     "output_type": "display_data"
    }
   ],
   "source": [
    "#Plot\n",
    "plt.hist(dados.isFraud);"
   ]
  },
  {
   "cell_type": "code",
   "execution_count": 51,
   "metadata": {},
   "outputs": [
    {
     "name": "stdout",
     "output_type": "stream",
     "text": [
      "Porcentagem de não fraudes em transações: 99.87\n",
      "Porcentagem de fraudes em transações: 0.13\n"
     ]
    }
   ],
   "source": [
    "a = len(dados[dados.isFraud==0])\n",
    "b = len(dados[dados.isFraud==1])\n",
    "total = len(dados)\n",
    "\n",
    "print(f'Porcentagem de não fraudes em transações: {round(a/total*100,2)}')\n",
    "print(f'Porcentagem de fraudes em transações: {round(b/total*100,2)}')\n"
   ]
  },
  {
   "cell_type": "markdown",
   "metadata": {},
   "source": [
    "**Note que temos um problema com a distribuições das classes, esse desbalanceamento faz com que os algoritimos não tenha tanta precisão nas previsões dos dados em uma das classes, vamos ter que usar a técnica de amostragem para equilibrar os dados, em fraudes essa porcentagem é normal, devido ao número baixo de fraudes em transações financeiras**"
   ]
  },
  {
   "cell_type": "markdown",
   "metadata": {},
   "source": [
    "## Análise dos dados numéricos VS variável target"
   ]
  },
  {
   "cell_type": "code",
   "execution_count": 52,
   "metadata": {},
   "outputs": [
    {
     "name": "stdout",
     "output_type": "stream",
     "text": [
      "<class 'pandas.core.frame.DataFrame'>\n",
      "RangeIndex: 6362620 entries, 0 to 6362619\n",
      "Data columns (total 8 columns):\n",
      " #   Column          Dtype  \n",
      "---  ------          -----  \n",
      " 0   amount          float64\n",
      " 1   oldbalanceOrg   float64\n",
      " 2   newbalanceOrig  float64\n",
      " 3   oldbalanceDest  float64\n",
      " 4   newbalanceDest  float64\n",
      " 5   isFraud         int64  \n",
      " 6   isFlaggedFraud  int64  \n",
      " 7   hour            int64  \n",
      "dtypes: float64(5), int64(3)\n",
      "memory usage: 388.3 MB\n"
     ]
    }
   ],
   "source": [
    "#Selecionar as variáveis numericas\n",
    "import warnings\n",
    "warnings.filterwarnings('ignore')\n",
    "var_num = dados.select_dtypes(['float','int']).columns\n",
    "var_num = dados[var_num]\n",
    "\n",
    "\n",
    "\n",
    "var_num.info()"
   ]
  },
  {
   "cell_type": "code",
   "execution_count": 53,
   "metadata": {},
   "outputs": [
    {
     "name": "stdout",
     "output_type": "stream",
     "text": [
      "\n",
      "Variável:**amount**, P_valor:0.00, Não tem distribuição normal\n",
      "\n",
      "Variável:**oldbalanceOrg**, P_valor:0.00, Não tem distribuição normal\n",
      "\n",
      "Variável:**newbalanceOrig**, P_valor:0.00, Não tem distribuição normal\n",
      "\n",
      "Variável:**oldbalanceDest**, P_valor:0.00, Não tem distribuição normal\n",
      "\n",
      "Variável:**newbalanceDest**, P_valor:0.00, Não tem distribuição normal\n",
      "\n",
      "Variável:**isFraud**, P_valor:0.00, Não tem distribuição normal\n",
      "\n",
      "Variável:isFlaggedFraud, P_valor:1.00, Maior que 0.05 ,Tem Distribuiçao Normal\n",
      "\n",
      "Variável:hour, P_valor:1.00, Maior que 0.05 ,Tem Distribuiçao Normal\n"
     ]
    }
   ],
   "source": [
    "#Teste de Shapiro, verificar se as variáveis tem distribuição normal\n",
    "import scipy.stats as stats\n",
    "for i in var_num.columns:\n",
    "    shapiro_stats, shapiro_p_valor = stats.shapiro(var_num[i][0:500])\n",
    "    if shapiro_p_valor > 0.05:\n",
    "        print(f'\\nVariável:{i}, P_valor:{shapiro_p_valor:.2f}, Maior que 0.05 ,Tem Distribuiçao Normal')\n",
    "    else:\n",
    "        print(f'\\nVariável:**{i}**, P_valor:{shapiro_p_valor:.2f}, Não tem distribuição normal')"
   ]
  },
  {
   "cell_type": "markdown",
   "metadata": {},
   "source": [
    "**Dependendo do tipo de distribuição, os dados serão analisados através da média ou mediana**\n",
    "\n",
    "- Distribuição Normal = Analise é feita com a média entre os dados\n",
    "\n",
    "\n",
    "- Não tem distribuição normal = Analise é feita com a mediana entre os dados"
   ]
  },
  {
   "cell_type": "markdown",
   "metadata": {},
   "source": [
    "### hour"
   ]
  },
  {
   "cell_type": "code",
   "execution_count": 13,
   "metadata": {},
   "outputs": [],
   "source": [
    "#Separar os dados da classe 0 e 1\n",
    "fraud_0 = var_num.loc[(var_num['isFraud']==0)]\n",
    "fraud_1 = var_num.loc[(var_num['isFraud']==1)]\n"
   ]
  },
  {
   "cell_type": "code",
   "execution_count": 14,
   "metadata": {},
   "outputs": [
    {
     "data": {
      "image/png": "[encoded data removed]",
      "text/plain": [
       "<Figure size 432x288 with 1 Axes>"
      ]
     },
     "metadata": {
      "needs_background": "light"
     },
     "output_type": "display_data"
    }
   ],
   "source": [
    "#Verificar os horários mais frequentes das transações não fraudulentas\n",
    "a =fraud_0.groupby('hour')['isFraud'].count()\n",
    "a = a.to_frame()\n",
    "sns.barplot(x=a.index,y=a.isFraud)\n",
    "plt.show()"
   ]
  },
  {
   "cell_type": "markdown",
   "metadata": {},
   "source": [
    "**A maioria das transações são feitas em horario comercial**"
   ]
  },
  {
   "cell_type": "code",
   "execution_count": 15,
   "metadata": {},
   "outputs": [
    {
     "data": {
      "image/png": "[encoded data removed]",
      "text/plain": [
       "<Figure size 432x288 with 1 Axes>"
      ]
     },
     "metadata": {
      "needs_background": "light"
     },
     "output_type": "display_data"
    }
   ],
   "source": [
    "#Verificar os horários mais frequentes das transações fraudulentas\n",
    "a =fraud_1.groupby('hour')['isFraud'].count()\n",
    "a = a.to_frame()\n",
    "sns.barplot(x=a.index,y=a.isFraud)\n",
    "plt.show()"
   ]
  },
  {
   "cell_type": "markdown",
   "metadata": {},
   "source": [
    "**Observe que ao longo do dia, não há um horario especifico para ocorrer transações fraudulentas, porém a uma significância no horario noturno em relação as transações não fraudulentas**"
   ]
  },
  {
   "cell_type": "markdown",
   "metadata": {},
   "source": [
    "### amount"
   ]
  },
  {
   "cell_type": "code",
   "execution_count": 16,
   "metadata": {},
   "outputs": [
    {
     "name": "stdout",
     "output_type": "stream",
     "text": [
      "Classe 0  = 74684.72\n",
      "Classe 1 = 441423.44\n"
     ]
    }
   ],
   "source": [
    "#Mediana das classes fraud e não fraud\n",
    "#classe 0\n",
    "fraud_0 = var_num.loc[(var_num['isFraud']==0)]\n",
    "a = fraud_0['amount'].median()\n",
    "\n",
    "#Classe 1\n",
    "fraud_1 = var_num.loc[(var_num['isFraud']==1)]\n",
    "b = fraud_1['amount'].median()\n",
    "\n",
    "print(f'Classe 0  = {round(a,2)}')\n",
    "print(f'Classe 1 = {round(b,2)}')"
   ]
  },
  {
   "cell_type": "code",
   "execution_count": 17,
   "metadata": {},
   "outputs": [
    {
     "data": {
      "text/html": [
       "<div>\n",
       "<style scoped>\n",
       "    .dataframe tbody tr th:only-of-type {\n",
       "        vertical-align: middle;\n",
       "    }\n",
       "\n",
       "    .dataframe tbody tr th {\n",
       "        vertical-align: top;\n",
       "    }\n",
       "\n",
       "    .dataframe thead th {\n",
       "        text-align: right;\n",
       "    }\n",
       "</style>\n",
       "<table border=\"1\" class=\"dataframe\">\n",
       "  <thead>\n",
       "    <tr style=\"text-align: right;\">\n",
       "      <th></th>\n",
       "      <th>N_fraud</th>\n",
       "      <th>Fraud</th>\n",
       "    </tr>\n",
       "  </thead>\n",
       "  <tbody>\n",
       "    <tr>\n",
       "      <th>count</th>\n",
       "      <td>6354407.0</td>\n",
       "      <td>8213.0</td>\n",
       "    </tr>\n",
       "    <tr>\n",
       "      <th>mean</th>\n",
       "      <td>178197.0</td>\n",
       "      <td>1467967.0</td>\n",
       "    </tr>\n",
       "    <tr>\n",
       "      <th>std</th>\n",
       "      <td>596237.0</td>\n",
       "      <td>2404253.0</td>\n",
       "    </tr>\n",
       "    <tr>\n",
       "      <th>min</th>\n",
       "      <td>0.0</td>\n",
       "      <td>0.0</td>\n",
       "    </tr>\n",
       "    <tr>\n",
       "      <th>25%</th>\n",
       "      <td>13368.0</td>\n",
       "      <td>127091.0</td>\n",
       "    </tr>\n",
       "    <tr>\n",
       "      <th>50%</th>\n",
       "      <td>74685.0</td>\n",
       "      <td>441423.0</td>\n",
       "    </tr>\n",
       "    <tr>\n",
       "      <th>75%</th>\n",
       "      <td>208365.0</td>\n",
       "      <td>1517771.0</td>\n",
       "    </tr>\n",
       "    <tr>\n",
       "      <th>max</th>\n",
       "      <td>92445517.0</td>\n",
       "      <td>10000000.0</td>\n",
       "    </tr>\n",
       "  </tbody>\n",
       "</table>\n",
       "</div>"
      ],
      "text/plain": [
       "          N_fraud       Fraud\n",
       "count   6354407.0      8213.0\n",
       "mean     178197.0   1467967.0\n",
       "std      596237.0   2404253.0\n",
       "min           0.0         0.0\n",
       "25%       13368.0    127091.0\n",
       "50%       74685.0    441423.0\n",
       "75%      208365.0   1517771.0\n",
       "max    92445517.0  10000000.0"
      ]
     },
     "execution_count": 17,
     "metadata": {},
     "output_type": "execute_result"
    }
   ],
   "source": [
    "#Analise descritiva das 2 classes\n",
    "a = round(fraud_0['amount'].describe())\n",
    "a = a.to_frame()\n",
    "\n",
    "b = round(fraud_1['amount'].describe())\n",
    "b =b.to_frame()\n",
    "a['Fraud'] = b\n",
    "a.columns  = ['N_fraud','Fraud']\n",
    "a"
   ]
  },
  {
   "cell_type": "markdown",
   "metadata": {},
   "source": [
    "**Há significância na mediana da variável 'amount', quanto maior o valor da transação maior a probabilidade do cliente está cometendo fraude**"
   ]
  },
  {
   "cell_type": "markdown",
   "metadata": {},
   "source": [
    "### oldbalanceOrg"
   ]
  },
  {
   "cell_type": "code",
   "execution_count": 18,
   "metadata": {},
   "outputs": [
    {
     "name": "stdout",
     "output_type": "stream",
     "text": [
      "Classe 0  = 14069.0\n",
      "Classe 1 = 438983.45\n"
     ]
    }
   ],
   "source": [
    "#Mediana das classes fraud e não fraud\n",
    "#classe 0\n",
    "fraud_0 = var_num.loc[(var_num['isFraud']==0)]\n",
    "a = fraud_0['oldbalanceOrg'].median()\n",
    "\n",
    "#Classe 1\n",
    "fraud_1 = var_num.loc[(var_num['isFraud']==1)]\n",
    "b = fraud_1['oldbalanceOrg'].median()\n",
    "\n",
    "print(f'Classe 0  = {round(a,2)}')\n",
    "print(f'Classe 1 = {round(b,2)}')"
   ]
  },
  {
   "cell_type": "code",
   "execution_count": 19,
   "metadata": {},
   "outputs": [
    {
     "data": {
      "text/html": [
       "<div>\n",
       "<style scoped>\n",
       "    .dataframe tbody tr th:only-of-type {\n",
       "        vertical-align: middle;\n",
       "    }\n",
       "\n",
       "    .dataframe tbody tr th {\n",
       "        vertical-align: top;\n",
       "    }\n",
       "\n",
       "    .dataframe thead th {\n",
       "        text-align: right;\n",
       "    }\n",
       "</style>\n",
       "<table border=\"1\" class=\"dataframe\">\n",
       "  <thead>\n",
       "    <tr style=\"text-align: right;\">\n",
       "      <th></th>\n",
       "      <th>N_fraud</th>\n",
       "      <th>Fraud</th>\n",
       "    </tr>\n",
       "  </thead>\n",
       "  <tbody>\n",
       "    <tr>\n",
       "      <th>count</th>\n",
       "      <td>6354407.0</td>\n",
       "      <td>8213.0</td>\n",
       "    </tr>\n",
       "    <tr>\n",
       "      <th>mean</th>\n",
       "      <td>832829.0</td>\n",
       "      <td>1649668.0</td>\n",
       "    </tr>\n",
       "    <tr>\n",
       "      <th>std</th>\n",
       "      <td>2887144.0</td>\n",
       "      <td>3547719.0</td>\n",
       "    </tr>\n",
       "    <tr>\n",
       "      <th>min</th>\n",
       "      <td>0.0</td>\n",
       "      <td>0.0</td>\n",
       "    </tr>\n",
       "    <tr>\n",
       "      <th>25%</th>\n",
       "      <td>0.0</td>\n",
       "      <td>125822.0</td>\n",
       "    </tr>\n",
       "    <tr>\n",
       "      <th>50%</th>\n",
       "      <td>14069.0</td>\n",
       "      <td>438983.0</td>\n",
       "    </tr>\n",
       "    <tr>\n",
       "      <th>75%</th>\n",
       "      <td>106970.0</td>\n",
       "      <td>1517771.0</td>\n",
       "    </tr>\n",
       "    <tr>\n",
       "      <th>max</th>\n",
       "      <td>43818855.0</td>\n",
       "      <td>59585040.0</td>\n",
       "    </tr>\n",
       "  </tbody>\n",
       "</table>\n",
       "</div>"
      ],
      "text/plain": [
       "          N_fraud       Fraud\n",
       "count   6354407.0      8213.0\n",
       "mean     832829.0   1649668.0\n",
       "std     2887144.0   3547719.0\n",
       "min           0.0         0.0\n",
       "25%           0.0    125822.0\n",
       "50%       14069.0    438983.0\n",
       "75%      106970.0   1517771.0\n",
       "max    43818855.0  59585040.0"
      ]
     },
     "execution_count": 19,
     "metadata": {},
     "output_type": "execute_result"
    }
   ],
   "source": [
    "#Analise descritiva das 2 classes\n",
    "a = round(fraud_0['oldbalanceOrg'].describe())\n",
    "a = a.to_frame()\n",
    "\n",
    "b = round(fraud_1['oldbalanceOrg'].describe())\n",
    "b =b.to_frame()\n",
    "a['Fraud'] = b\n",
    "a.columns  = ['N_fraud','Fraud']\n",
    "a"
   ]
  },
  {
   "cell_type": "markdown",
   "metadata": {},
   "source": [
    "**Há significância na mediana da variável 'oldbalanceOrg', quanto maior o valor do saldo da conta de origem antes da transação, maior a chance de fraude**"
   ]
  },
  {
   "cell_type": "markdown",
   "metadata": {},
   "source": [
    "### newbalanceOrig"
   ]
  },
  {
   "cell_type": "code",
   "execution_count": 20,
   "metadata": {},
   "outputs": [
    {
     "name": "stdout",
     "output_type": "stream",
     "text": [
      "Classe 0 = 0.0\n",
      "Classe 1 = 0.0\n"
     ]
    }
   ],
   "source": [
    "#Mediana das classes fraud e não fraud\n",
    "#classe 0\n",
    "fraud_0 = var_num.loc[(var_num['isFraud']==0)]\n",
    "a = fraud_0['newbalanceOrig'].median()\n",
    "\n",
    "#Classe 1\n",
    "fraud_1 = var_num.loc[(var_num['isFraud']==1)]\n",
    "b = fraud_1['newbalanceOrig'].median()\n",
    "\n",
    "print(f'Classe 0 = {round(a,2)}')\n",
    "print(f'Classe 1 = {round(b,2)}')"
   ]
  },
  {
   "cell_type": "code",
   "execution_count": 21,
   "metadata": {},
   "outputs": [
    {
     "data": {
      "text/html": [
       "<div>\n",
       "<style scoped>\n",
       "    .dataframe tbody tr th:only-of-type {\n",
       "        vertical-align: middle;\n",
       "    }\n",
       "\n",
       "    .dataframe tbody tr th {\n",
       "        vertical-align: top;\n",
       "    }\n",
       "\n",
       "    .dataframe thead th {\n",
       "        text-align: right;\n",
       "    }\n",
       "</style>\n",
       "<table border=\"1\" class=\"dataframe\">\n",
       "  <thead>\n",
       "    <tr style=\"text-align: right;\">\n",
       "      <th></th>\n",
       "      <th>N_fraud</th>\n",
       "      <th>Fraud</th>\n",
       "    </tr>\n",
       "  </thead>\n",
       "  <tbody>\n",
       "    <tr>\n",
       "      <th>count</th>\n",
       "      <td>6354407.0</td>\n",
       "      <td>8213.0</td>\n",
       "    </tr>\n",
       "    <tr>\n",
       "      <th>mean</th>\n",
       "      <td>855970.0</td>\n",
       "      <td>192393.0</td>\n",
       "    </tr>\n",
       "    <tr>\n",
       "      <th>std</th>\n",
       "      <td>2924987.0</td>\n",
       "      <td>1965666.0</td>\n",
       "    </tr>\n",
       "    <tr>\n",
       "      <th>min</th>\n",
       "      <td>0.0</td>\n",
       "      <td>0.0</td>\n",
       "    </tr>\n",
       "    <tr>\n",
       "      <th>25%</th>\n",
       "      <td>0.0</td>\n",
       "      <td>0.0</td>\n",
       "    </tr>\n",
       "    <tr>\n",
       "      <th>50%</th>\n",
       "      <td>0.0</td>\n",
       "      <td>0.0</td>\n",
       "    </tr>\n",
       "    <tr>\n",
       "      <th>75%</th>\n",
       "      <td>144731.0</td>\n",
       "      <td>0.0</td>\n",
       "    </tr>\n",
       "    <tr>\n",
       "      <th>max</th>\n",
       "      <td>43686616.0</td>\n",
       "      <td>49585040.0</td>\n",
       "    </tr>\n",
       "  </tbody>\n",
       "</table>\n",
       "</div>"
      ],
      "text/plain": [
       "          N_fraud       Fraud\n",
       "count   6354407.0      8213.0\n",
       "mean     855970.0    192393.0\n",
       "std     2924987.0   1965666.0\n",
       "min           0.0         0.0\n",
       "25%           0.0         0.0\n",
       "50%           0.0         0.0\n",
       "75%      144731.0         0.0\n",
       "max    43686616.0  49585040.0"
      ]
     },
     "execution_count": 21,
     "metadata": {},
     "output_type": "execute_result"
    }
   ],
   "source": [
    "#Analise descritiva das 2 classes\n",
    "a = round(fraud_0['newbalanceOrig'].describe())\n",
    "a = a.to_frame()\n",
    "\n",
    "b = round(fraud_1['newbalanceOrig'].describe())\n",
    "b =b.to_frame()\n",
    "a['Fraud'] = b\n",
    "a.columns  = ['N_fraud','Fraud']\n",
    "a"
   ]
  },
  {
   "cell_type": "markdown",
   "metadata": {},
   "source": [
    "**Não há significância na mediana da variável 'newbalanceOrig'**"
   ]
  },
  {
   "cell_type": "markdown",
   "metadata": {},
   "source": [
    "### oldbalanceDest"
   ]
  },
  {
   "cell_type": "code",
   "execution_count": 22,
   "metadata": {},
   "outputs": [
    {
     "data": {
      "text/html": [
       "<div>\n",
       "<style scoped>\n",
       "    .dataframe tbody tr th:only-of-type {\n",
       "        vertical-align: middle;\n",
       "    }\n",
       "\n",
       "    .dataframe tbody tr th {\n",
       "        vertical-align: top;\n",
       "    }\n",
       "\n",
       "    .dataframe thead th {\n",
       "        text-align: right;\n",
       "    }\n",
       "</style>\n",
       "<table border=\"1\" class=\"dataframe\">\n",
       "  <thead>\n",
       "    <tr style=\"text-align: right;\">\n",
       "      <th></th>\n",
       "      <th>Pessoa Juridica</th>\n",
       "      <th>Pessoa fisica</th>\n",
       "    </tr>\n",
       "  </thead>\n",
       "  <tbody>\n",
       "    <tr>\n",
       "      <th>count</th>\n",
       "      <td>2151495.0</td>\n",
       "      <td>4211125.0</td>\n",
       "    </tr>\n",
       "    <tr>\n",
       "      <th>mean</th>\n",
       "      <td>0.0</td>\n",
       "      <td>1663058.0</td>\n",
       "    </tr>\n",
       "    <tr>\n",
       "      <th>std</th>\n",
       "      <td>0.0</td>\n",
       "      <td>4064780.0</td>\n",
       "    </tr>\n",
       "    <tr>\n",
       "      <th>min</th>\n",
       "      <td>0.0</td>\n",
       "      <td>0.0</td>\n",
       "    </tr>\n",
       "    <tr>\n",
       "      <th>25%</th>\n",
       "      <td>0.0</td>\n",
       "      <td>139659.0</td>\n",
       "    </tr>\n",
       "    <tr>\n",
       "      <th>50%</th>\n",
       "      <td>0.0</td>\n",
       "      <td>551247.0</td>\n",
       "    </tr>\n",
       "    <tr>\n",
       "      <th>75%</th>\n",
       "      <td>0.0</td>\n",
       "      <td>1692951.0</td>\n",
       "    </tr>\n",
       "    <tr>\n",
       "      <th>max</th>\n",
       "      <td>0.0</td>\n",
       "      <td>356015889.0</td>\n",
       "    </tr>\n",
       "  </tbody>\n",
       "</table>\n",
       "</div>"
      ],
      "text/plain": [
       "       Pessoa Juridica  Pessoa fisica\n",
       "count        2151495.0      4211125.0\n",
       "mean               0.0      1663058.0\n",
       "std                0.0      4064780.0\n",
       "min                0.0            0.0\n",
       "25%                0.0       139659.0\n",
       "50%                0.0       551247.0\n",
       "75%                0.0      1692951.0\n",
       "max                0.0    356015889.0"
      ]
     },
     "execution_count": 22,
     "metadata": {},
     "output_type": "execute_result"
    }
   ],
   "source": [
    "#Separar os dados de destino em : C = Pessoa fisica  , M = Pessoa Juridica\n",
    "m = dados[dados.nameDest.str.contains(\"M\", regex=False)]\n",
    "c = dados[dados.nameDest.str.contains(\"C\", regex=False)]\n",
    "\n",
    "a = m['oldbalanceDest'].describe()\n",
    "a = a.to_frame()\n",
    "\n",
    "b = round(c['oldbalanceDest'].describe())\n",
    "b = b.to_frame()\n",
    "a['Pessoa fisica'] = b\n",
    "a.columns  = ['Pessoa Juridica','Pessoa fisica']\n",
    "a"
   ]
  },
  {
   "cell_type": "markdown",
   "metadata": {},
   "source": [
    "**Note que a variável ('oldbalanceDest') está com os dados zerados para Pessoa Jurídica, vamos apenas analisar os dados da Pessoa física**"
   ]
  },
  {
   "cell_type": "code",
   "execution_count": 23,
   "metadata": {},
   "outputs": [
    {
     "name": "stdout",
     "output_type": "stream",
     "text": [
      "Classe 0 = 552879.66\n",
      "Classe 1 = 0.0\n"
     ]
    }
   ],
   "source": [
    "#classe 0\n",
    "fraud_0 = c.loc[(c['isFraud']==0)]\n",
    "a = fraud_0['oldbalanceDest'].median()\n",
    "\n",
    "#Classe 1\n",
    "fraud_1 = c.loc[(c['isFraud']==1)]\n",
    "b = fraud_1['oldbalanceDest'].median()\n",
    "\n",
    "print(f'Classe 0 = {round(a,2)}')\n",
    "print(f'Classe 1 = {round(b,2)}')"
   ]
  },
  {
   "cell_type": "code",
   "execution_count": 24,
   "metadata": {},
   "outputs": [
    {
     "data": {
      "text/html": [
       "<div>\n",
       "<style scoped>\n",
       "    .dataframe tbody tr th:only-of-type {\n",
       "        vertical-align: middle;\n",
       "    }\n",
       "\n",
       "    .dataframe tbody tr th {\n",
       "        vertical-align: top;\n",
       "    }\n",
       "\n",
       "    .dataframe thead th {\n",
       "        text-align: right;\n",
       "    }\n",
       "</style>\n",
       "<table border=\"1\" class=\"dataframe\">\n",
       "  <thead>\n",
       "    <tr style=\"text-align: right;\">\n",
       "      <th></th>\n",
       "      <th>N_fraud</th>\n",
       "      <th>Fraud</th>\n",
       "    </tr>\n",
       "  </thead>\n",
       "  <tbody>\n",
       "    <tr>\n",
       "      <th>count</th>\n",
       "      <td>4202912.0</td>\n",
       "      <td>8213.0</td>\n",
       "    </tr>\n",
       "    <tr>\n",
       "      <th>mean</th>\n",
       "      <td>1665245.0</td>\n",
       "      <td>544250.0</td>\n",
       "    </tr>\n",
       "    <tr>\n",
       "      <th>std</th>\n",
       "      <td>4065775.0</td>\n",
       "      <td>3336421.0</td>\n",
       "    </tr>\n",
       "    <tr>\n",
       "      <th>min</th>\n",
       "      <td>0.0</td>\n",
       "      <td>0.0</td>\n",
       "    </tr>\n",
       "    <tr>\n",
       "      <th>25%</th>\n",
       "      <td>140915.0</td>\n",
       "      <td>0.0</td>\n",
       "    </tr>\n",
       "    <tr>\n",
       "      <th>50%</th>\n",
       "      <td>552880.0</td>\n",
       "      <td>0.0</td>\n",
       "    </tr>\n",
       "    <tr>\n",
       "      <th>75%</th>\n",
       "      <td>1695674.0</td>\n",
       "      <td>147829.0</td>\n",
       "    </tr>\n",
       "    <tr>\n",
       "      <th>max</th>\n",
       "      <td>356015889.0</td>\n",
       "      <td>236230517.0</td>\n",
       "    </tr>\n",
       "  </tbody>\n",
       "</table>\n",
       "</div>"
      ],
      "text/plain": [
       "           N_fraud        Fraud\n",
       "count    4202912.0       8213.0\n",
       "mean     1665245.0     544250.0\n",
       "std      4065775.0    3336421.0\n",
       "min            0.0          0.0\n",
       "25%       140915.0          0.0\n",
       "50%       552880.0          0.0\n",
       "75%      1695674.0     147829.0\n",
       "max    356015889.0  236230517.0"
      ]
     },
     "execution_count": 24,
     "metadata": {},
     "output_type": "execute_result"
    }
   ],
   "source": [
    "#Analise descritiva das 2 classes\n",
    "a = round(fraud_0['oldbalanceDest'].describe())\n",
    "a = a.to_frame()\n",
    "\n",
    "b = round(fraud_1['oldbalanceDest'].describe())\n",
    "b =b.to_frame()\n",
    "a['Fraud'] = b\n",
    "a.columns  = ['N_fraud','Fraud']\n",
    "a"
   ]
  },
  {
   "cell_type": "markdown",
   "metadata": {},
   "source": [
    "**Há significância na mediana da variável 'oldbalanceDest', quanto menor o valor do saldo antes da transação financeira da conta destino, maior a chance da fraude**"
   ]
  },
  {
   "cell_type": "markdown",
   "metadata": {},
   "source": [
    "### newbalanceDest"
   ]
  },
  {
   "cell_type": "code",
   "execution_count": 25,
   "metadata": {},
   "outputs": [
    {
     "name": "stdout",
     "output_type": "stream",
     "text": [
      "Classe 0 = 684780.38\n",
      "Classe 1  =  4676.42\n"
     ]
    }
   ],
   "source": [
    "#classe 0\n",
    "fraud_0 = c.loc[(c['isFraud']==0)]\n",
    "a = fraud_0['newbalanceDest'].median()\n",
    "\n",
    "#Classe 1\n",
    "fraud_1 = c.loc[(c['isFraud']==1)]\n",
    "b = fraud_1['newbalanceDest'].median()\n",
    "\n",
    "print(f'Classe 0 = {round(a,2)}')\n",
    "print(f'Classe 1  =  {round(b,2)}')"
   ]
  },
  {
   "cell_type": "code",
   "execution_count": 26,
   "metadata": {},
   "outputs": [
    {
     "data": {
      "text/html": [
       "<div>\n",
       "<style scoped>\n",
       "    .dataframe tbody tr th:only-of-type {\n",
       "        vertical-align: middle;\n",
       "    }\n",
       "\n",
       "    .dataframe tbody tr th {\n",
       "        vertical-align: top;\n",
       "    }\n",
       "\n",
       "    .dataframe thead th {\n",
       "        text-align: right;\n",
       "    }\n",
       "</style>\n",
       "<table border=\"1\" class=\"dataframe\">\n",
       "  <thead>\n",
       "    <tr style=\"text-align: right;\">\n",
       "      <th></th>\n",
       "      <th>N_fraud</th>\n",
       "      <th>Fraud</th>\n",
       "    </tr>\n",
       "  </thead>\n",
       "  <tbody>\n",
       "    <tr>\n",
       "      <th>count</th>\n",
       "      <td>4202912.0</td>\n",
       "      <td>8213.0</td>\n",
       "    </tr>\n",
       "    <tr>\n",
       "      <th>mean</th>\n",
       "      <td>1851972.0</td>\n",
       "      <td>1279708.0</td>\n",
       "    </tr>\n",
       "    <tr>\n",
       "      <th>std</th>\n",
       "      <td>4386890.0</td>\n",
       "      <td>3908817.0</td>\n",
       "    </tr>\n",
       "    <tr>\n",
       "      <th>min</th>\n",
       "      <td>0.0</td>\n",
       "      <td>0.0</td>\n",
       "    </tr>\n",
       "    <tr>\n",
       "      <th>25%</th>\n",
       "      <td>222549.0</td>\n",
       "      <td>0.0</td>\n",
       "    </tr>\n",
       "    <tr>\n",
       "      <th>50%</th>\n",
       "      <td>684780.0</td>\n",
       "      <td>4676.0</td>\n",
       "    </tr>\n",
       "    <tr>\n",
       "      <th>75%</th>\n",
       "      <td>1912209.0</td>\n",
       "      <td>1058725.0</td>\n",
       "    </tr>\n",
       "    <tr>\n",
       "      <th>max</th>\n",
       "      <td>356179279.0</td>\n",
       "      <td>236726495.0</td>\n",
       "    </tr>\n",
       "  </tbody>\n",
       "</table>\n",
       "</div>"
      ],
      "text/plain": [
       "           N_fraud        Fraud\n",
       "count    4202912.0       8213.0\n",
       "mean     1851972.0    1279708.0\n",
       "std      4386890.0    3908817.0\n",
       "min            0.0          0.0\n",
       "25%       222549.0          0.0\n",
       "50%       684780.0       4676.0\n",
       "75%      1912209.0    1058725.0\n",
       "max    356179279.0  236726495.0"
      ]
     },
     "execution_count": 26,
     "metadata": {},
     "output_type": "execute_result"
    }
   ],
   "source": [
    "#Analise descritiva das 2 classes\n",
    "a = round(fraud_0['newbalanceDest'].describe())\n",
    "a = a.to_frame()\n",
    "\n",
    "b = round(fraud_1['newbalanceDest'].describe())\n",
    "b =b.to_frame()\n",
    "a['Fraud'] = b\n",
    "a.columns  = ['N_fraud','Fraud']\n",
    "a"
   ]
  },
  {
   "cell_type": "markdown",
   "metadata": {},
   "source": [
    "**Há significância na mediana da variável 'newbalanceDest', quanto maior a mediana do saldo da conta destino após a transação, menor a chance de fraude, isso se dá por conta que a maioria das transações fraudulentas fica zerada antes da transação**"
   ]
  },
  {
   "cell_type": "markdown",
   "metadata": {},
   "source": [
    "### isFlaggedFraud"
   ]
  },
  {
   "cell_type": "code",
   "execution_count": 27,
   "metadata": {},
   "outputs": [
    {
     "name": "stdout",
     "output_type": "stream",
     "text": [
      "Classe 0, numeros de registros: 6362604\n",
      "classe 1, numeros de registros: 16\n"
     ]
    }
   ],
   "source": [
    "#Analisa do registros da variável \n",
    "a =len(var_num[var_num.isFlaggedFraud==0])\n",
    "b = len(var_num[var_num.isFlaggedFraud==1])\n",
    "\n",
    "print(f'Classe 0, numeros de registros: {a}')\n",
    "print(f'classe 1, numeros de registros: {b}')"
   ]
  },
  {
   "cell_type": "markdown",
   "metadata": {},
   "source": [
    "**Temos apenas 16 registros da classe 1, a variável está totalmente enviesada não agregando em nada para predição do modelo**"
   ]
  },
  {
   "cell_type": "markdown",
   "metadata": {},
   "source": [
    "## Conclusão da análise das variáveis Numéricas"
   ]
  },
  {
   "cell_type": "markdown",
   "metadata": {},
   "source": [
    "**Feita a análise de dados, podemos concluir que há diferença entre as medianas nas variáveis: 'hour', 'amount', 'oldbalanceOrg', 'oldbalanceDest', 'newbalanceDest'**"
   ]
  },
  {
   "cell_type": "markdown",
   "metadata": {},
   "source": [
    "## Análise de correlação entre as variáveis Numéricas"
   ]
  },
  {
   "cell_type": "markdown",
   "metadata": {},
   "source": [
    "- Usaremos a correlação de Pearson para excluir algumas variáveis com multicolinearidade\n",
    "\n",
    "\n",
    "- Variáveis acima de 0.8 em modulo serão consideradas com multicolinearidade\n"
   ]
  },
  {
   "cell_type": "code",
   "execution_count": 28,
   "metadata": {},
   "outputs": [],
   "source": [
    "#Selecionar as variáveis que foram identificada como relevantes para a modelagem\n",
    "var_select_num = var_num[[ 'hour', 'amount', 'oldbalanceOrg', 'oldbalanceDest', 'newbalanceDest','isFraud']]"
   ]
  },
  {
   "cell_type": "code",
   "execution_count": 29,
   "metadata": {},
   "outputs": [
    {
     "data": {
      "text/html": [
       "<div>\n",
       "<style scoped>\n",
       "    .dataframe tbody tr th:only-of-type {\n",
       "        vertical-align: middle;\n",
       "    }\n",
       "\n",
       "    .dataframe tbody tr th {\n",
       "        vertical-align: top;\n",
       "    }\n",
       "\n",
       "    .dataframe thead th {\n",
       "        text-align: right;\n",
       "    }\n",
       "</style>\n",
       "<table border=\"1\" class=\"dataframe\">\n",
       "  <thead>\n",
       "    <tr style=\"text-align: right;\">\n",
       "      <th></th>\n",
       "      <th>hour</th>\n",
       "      <th>amount</th>\n",
       "      <th>oldbalanceOrg</th>\n",
       "      <th>oldbalanceDest</th>\n",
       "      <th>newbalanceDest</th>\n",
       "      <th>isFraud</th>\n",
       "    </tr>\n",
       "  </thead>\n",
       "  <tbody>\n",
       "    <tr>\n",
       "      <th>hour</th>\n",
       "      <td>1.000000</td>\n",
       "      <td>-0.029676</td>\n",
       "      <td>-0.001015</td>\n",
       "      <td>-0.001564</td>\n",
       "      <td>-0.006697</td>\n",
       "      <td>-0.031403</td>\n",
       "    </tr>\n",
       "    <tr>\n",
       "      <th>amount</th>\n",
       "      <td>-0.029676</td>\n",
       "      <td>1.000000</td>\n",
       "      <td>-0.002762</td>\n",
       "      <td>0.294137</td>\n",
       "      <td>0.459304</td>\n",
       "      <td>0.076688</td>\n",
       "    </tr>\n",
       "    <tr>\n",
       "      <th>oldbalanceOrg</th>\n",
       "      <td>-0.001015</td>\n",
       "      <td>-0.002762</td>\n",
       "      <td>1.000000</td>\n",
       "      <td>0.066243</td>\n",
       "      <td>0.042029</td>\n",
       "      <td>0.010154</td>\n",
       "    </tr>\n",
       "    <tr>\n",
       "      <th>oldbalanceDest</th>\n",
       "      <td>-0.001564</td>\n",
       "      <td>0.294137</td>\n",
       "      <td>0.066243</td>\n",
       "      <td>1.000000</td>\n",
       "      <td>0.976569</td>\n",
       "      <td>-0.005885</td>\n",
       "    </tr>\n",
       "    <tr>\n",
       "      <th>newbalanceDest</th>\n",
       "      <td>-0.006697</td>\n",
       "      <td>0.459304</td>\n",
       "      <td>0.042029</td>\n",
       "      <td>0.976569</td>\n",
       "      <td>1.000000</td>\n",
       "      <td>0.000535</td>\n",
       "    </tr>\n",
       "    <tr>\n",
       "      <th>isFraud</th>\n",
       "      <td>-0.031403</td>\n",
       "      <td>0.076688</td>\n",
       "      <td>0.010154</td>\n",
       "      <td>-0.005885</td>\n",
       "      <td>0.000535</td>\n",
       "      <td>1.000000</td>\n",
       "    </tr>\n",
       "  </tbody>\n",
       "</table>\n",
       "</div>"
      ],
      "text/plain": [
       "                    hour    amount  oldbalanceOrg  oldbalanceDest  \\\n",
       "hour            1.000000 -0.029676      -0.001015       -0.001564   \n",
       "amount         -0.029676  1.000000      -0.002762        0.294137   \n",
       "oldbalanceOrg  -0.001015 -0.002762       1.000000        0.066243   \n",
       "oldbalanceDest -0.001564  0.294137       0.066243        1.000000   \n",
       "newbalanceDest -0.006697  0.459304       0.042029        0.976569   \n",
       "isFraud        -0.031403  0.076688       0.010154       -0.005885   \n",
       "\n",
       "                newbalanceDest   isFraud  \n",
       "hour                 -0.006697 -0.031403  \n",
       "amount                0.459304  0.076688  \n",
       "oldbalanceOrg         0.042029  0.010154  \n",
       "oldbalanceDest        0.976569 -0.005885  \n",
       "newbalanceDest        1.000000  0.000535  \n",
       "isFraud               0.000535  1.000000  "
      ]
     },
     "execution_count": 29,
     "metadata": {},
     "output_type": "execute_result"
    }
   ],
   "source": [
    "#Correlação\n",
    "var_select_num.corr()"
   ]
  },
  {
   "cell_type": "markdown",
   "metadata": {},
   "source": [
    "**Observe que as variáveis 'oldbalanceDest' e 'newbalanceDest' tem correlação quase perfeita, vamos excluir a variável 'newbalanceDest', para não ter problemas com multicolinearidade na modelagem**"
   ]
  },
  {
   "cell_type": "code",
   "execution_count": 30,
   "metadata": {},
   "outputs": [
    {
     "data": {
      "text/html": [
       "<div>\n",
       "<style scoped>\n",
       "    .dataframe tbody tr th:only-of-type {\n",
       "        vertical-align: middle;\n",
       "    }\n",
       "\n",
       "    .dataframe tbody tr th {\n",
       "        vertical-align: top;\n",
       "    }\n",
       "\n",
       "    .dataframe thead th {\n",
       "        text-align: right;\n",
       "    }\n",
       "</style>\n",
       "<table border=\"1\" class=\"dataframe\">\n",
       "  <thead>\n",
       "    <tr style=\"text-align: right;\">\n",
       "      <th></th>\n",
       "      <th>hour</th>\n",
       "      <th>amount</th>\n",
       "      <th>oldbalanceOrg</th>\n",
       "      <th>oldbalanceDest</th>\n",
       "      <th>isFraud</th>\n",
       "    </tr>\n",
       "  </thead>\n",
       "  <tbody>\n",
       "    <tr>\n",
       "      <th>0</th>\n",
       "      <td>1</td>\n",
       "      <td>9839.64</td>\n",
       "      <td>170136.0</td>\n",
       "      <td>0.0</td>\n",
       "      <td>0</td>\n",
       "    </tr>\n",
       "    <tr>\n",
       "      <th>1</th>\n",
       "      <td>1</td>\n",
       "      <td>1864.28</td>\n",
       "      <td>21249.0</td>\n",
       "      <td>0.0</td>\n",
       "      <td>0</td>\n",
       "    </tr>\n",
       "  </tbody>\n",
       "</table>\n",
       "</div>"
      ],
      "text/plain": [
       "   hour   amount  oldbalanceOrg  oldbalanceDest  isFraud\n",
       "0     1  9839.64       170136.0             0.0        0\n",
       "1     1  1864.28        21249.0             0.0        0"
      ]
     },
     "execution_count": 30,
     "metadata": {},
     "output_type": "execute_result"
    }
   ],
   "source": [
    "#Excluir a variável 'newbalanceDest'\n",
    "var_select_num = var_select_num.drop('newbalanceDest',axis=1)\n",
    "var_select_num.head(2)"
   ]
  },
  {
   "cell_type": "code",
   "execution_count": 31,
   "metadata": {},
   "outputs": [
    {
     "data": {
      "text/html": [
       "<div>\n",
       "<style scoped>\n",
       "    .dataframe tbody tr th:only-of-type {\n",
       "        vertical-align: middle;\n",
       "    }\n",
       "\n",
       "    .dataframe tbody tr th {\n",
       "        vertical-align: top;\n",
       "    }\n",
       "\n",
       "    .dataframe thead th {\n",
       "        text-align: right;\n",
       "    }\n",
       "</style>\n",
       "<table border=\"1\" class=\"dataframe\">\n",
       "  <thead>\n",
       "    <tr style=\"text-align: right;\">\n",
       "      <th></th>\n",
       "      <th>Pessoa Juridica</th>\n",
       "      <th>Pessoa fisica</th>\n",
       "    </tr>\n",
       "  </thead>\n",
       "  <tbody>\n",
       "    <tr>\n",
       "      <th>count</th>\n",
       "      <td>2151495.0</td>\n",
       "      <td>4211125.0</td>\n",
       "    </tr>\n",
       "    <tr>\n",
       "      <th>mean</th>\n",
       "      <td>0.0</td>\n",
       "      <td>1663058.0</td>\n",
       "    </tr>\n",
       "    <tr>\n",
       "      <th>std</th>\n",
       "      <td>0.0</td>\n",
       "      <td>4064780.0</td>\n",
       "    </tr>\n",
       "    <tr>\n",
       "      <th>min</th>\n",
       "      <td>0.0</td>\n",
       "      <td>0.0</td>\n",
       "    </tr>\n",
       "    <tr>\n",
       "      <th>25%</th>\n",
       "      <td>0.0</td>\n",
       "      <td>139659.0</td>\n",
       "    </tr>\n",
       "    <tr>\n",
       "      <th>50%</th>\n",
       "      <td>0.0</td>\n",
       "      <td>551247.0</td>\n",
       "    </tr>\n",
       "    <tr>\n",
       "      <th>75%</th>\n",
       "      <td>0.0</td>\n",
       "      <td>1692951.0</td>\n",
       "    </tr>\n",
       "    <tr>\n",
       "      <th>max</th>\n",
       "      <td>0.0</td>\n",
       "      <td>356015889.0</td>\n",
       "    </tr>\n",
       "  </tbody>\n",
       "</table>\n",
       "</div>"
      ],
      "text/plain": [
       "       Pessoa Juridica  Pessoa fisica\n",
       "count        2151495.0      4211125.0\n",
       "mean               0.0      1663058.0\n",
       "std                0.0      4064780.0\n",
       "min                0.0            0.0\n",
       "25%                0.0       139659.0\n",
       "50%                0.0       551247.0\n",
       "75%                0.0      1692951.0\n",
       "max                0.0    356015889.0"
      ]
     },
     "execution_count": 31,
     "metadata": {},
     "output_type": "execute_result"
    }
   ],
   "source": [
    "#Variavel oldbalanceDest\n",
    "\n",
    "#Separar os dados de destino em : C = Pessoa fisica  , M = Pessoa Juridica\n",
    "m = dados[dados.nameDest.str.contains(\"M\", regex=False)]\n",
    "c = dados[dados.nameDest.str.contains(\"C\", regex=False)]\n",
    "\n",
    "\n",
    "a = round(m['oldbalanceDest'].describe())\n",
    "a = a.to_frame()\n",
    "\n",
    "b = round(c['oldbalanceDest'].describe())\n",
    "b =b.to_frame()\n",
    "a['Pessoa fisica'] = b\n",
    "a.columns  = ['Pessoa Juridica','Pessoa fisica']\n",
    "a"
   ]
  },
  {
   "cell_type": "markdown",
   "metadata": {},
   "source": [
    "**Observe que a classe da pessoa jurídica não tem dados, portanto para não excluir muitos dados deixando somente a classe da pessoa física, vamos excluir essa variável**"
   ]
  },
  {
   "cell_type": "code",
   "execution_count": 32,
   "metadata": {},
   "outputs": [
    {
     "data": {
      "text/html": [
       "<div>\n",
       "<style scoped>\n",
       "    .dataframe tbody tr th:only-of-type {\n",
       "        vertical-align: middle;\n",
       "    }\n",
       "\n",
       "    .dataframe tbody tr th {\n",
       "        vertical-align: top;\n",
       "    }\n",
       "\n",
       "    .dataframe thead th {\n",
       "        text-align: right;\n",
       "    }\n",
       "</style>\n",
       "<table border=\"1\" class=\"dataframe\">\n",
       "  <thead>\n",
       "    <tr style=\"text-align: right;\">\n",
       "      <th></th>\n",
       "      <th>hour</th>\n",
       "      <th>amount</th>\n",
       "      <th>oldbalanceOrg</th>\n",
       "      <th>isFraud</th>\n",
       "    </tr>\n",
       "  </thead>\n",
       "  <tbody>\n",
       "    <tr>\n",
       "      <th>0</th>\n",
       "      <td>1</td>\n",
       "      <td>9839.64</td>\n",
       "      <td>170136.0</td>\n",
       "      <td>0</td>\n",
       "    </tr>\n",
       "    <tr>\n",
       "      <th>1</th>\n",
       "      <td>1</td>\n",
       "      <td>1864.28</td>\n",
       "      <td>21249.0</td>\n",
       "      <td>0</td>\n",
       "    </tr>\n",
       "  </tbody>\n",
       "</table>\n",
       "</div>"
      ],
      "text/plain": [
       "   hour   amount  oldbalanceOrg  isFraud\n",
       "0     1  9839.64       170136.0        0\n",
       "1     1  1864.28        21249.0        0"
      ]
     },
     "execution_count": 32,
     "metadata": {},
     "output_type": "execute_result"
    }
   ],
   "source": [
    "#Exlcuir variável oldbalanceDest\n",
    "var_select_num = var_select_num.drop('oldbalanceDest',axis=1)\n",
    "var_select_num.head(2)"
   ]
  },
  {
   "cell_type": "markdown",
   "metadata": {},
   "source": [
    "**Variáveis numéricas selecionadas como relevantes para modelagem**"
   ]
  },
  {
   "cell_type": "markdown",
   "metadata": {},
   "source": [
    "## Analise dos dados Categóricas X Target"
   ]
  },
  {
   "cell_type": "markdown",
   "metadata": {},
   "source": [
    "**Vamos considerar como relevantes as variáveis das quais as categorias com as probabilidade da classe 1, seja maior que 0.2%**"
   ]
  },
  {
   "cell_type": "code",
   "execution_count": 33,
   "metadata": {},
   "outputs": [
    {
     "name": "stdout",
     "output_type": "stream",
     "text": [
      "<class 'pandas.core.frame.DataFrame'>\n",
      "RangeIndex: 6362620 entries, 0 to 6362619\n",
      "Data columns (total 4 columns):\n",
      " #   Column    Dtype \n",
      "---  ------    ----- \n",
      " 0   type      object\n",
      " 1   nameOrig  object\n",
      " 2   nameDest  object\n",
      " 3   isFraud   int64 \n",
      "dtypes: int64(1), object(3)\n",
      "memory usage: 194.2+ MB\n"
     ]
    }
   ],
   "source": [
    "#Selecionar as variáveis categoricas\n",
    "var_cat = dados.select_dtypes(['object']).columns\n",
    "var_cat = dados[var_cat]\n",
    "\n",
    "#Adicionar a variavel target para analise\n",
    "var_cat['isFraud'] = dados['isFraud']\n",
    "\n",
    "var_cat.info()"
   ]
  },
  {
   "cell_type": "markdown",
   "metadata": {},
   "source": [
    "**Filtrando as variáveis categóricas e a variável target para as analises**"
   ]
  },
  {
   "cell_type": "markdown",
   "metadata": {},
   "source": [
    "### type"
   ]
  },
  {
   "cell_type": "code",
   "execution_count": 34,
   "metadata": {},
   "outputs": [
    {
     "data": {
      "text/html": [
       "<div>\n",
       "<style scoped>\n",
       "    .dataframe tbody tr th:only-of-type {\n",
       "        vertical-align: middle;\n",
       "    }\n",
       "\n",
       "    .dataframe tbody tr th {\n",
       "        vertical-align: top;\n",
       "    }\n",
       "\n",
       "    .dataframe thead th {\n",
       "        text-align: right;\n",
       "    }\n",
       "</style>\n",
       "<table border=\"1\" class=\"dataframe\">\n",
       "  <thead>\n",
       "    <tr style=\"text-align: right;\">\n",
       "      <th>type</th>\n",
       "      <th>CASH_IN</th>\n",
       "      <th>CASH_OUT</th>\n",
       "      <th>DEBIT</th>\n",
       "      <th>PAYMENT</th>\n",
       "      <th>TRANSFER</th>\n",
       "    </tr>\n",
       "    <tr>\n",
       "      <th>isFraud</th>\n",
       "      <th></th>\n",
       "      <th></th>\n",
       "      <th></th>\n",
       "      <th></th>\n",
       "      <th></th>\n",
       "    </tr>\n",
       "  </thead>\n",
       "  <tbody>\n",
       "    <tr>\n",
       "      <th>0</th>\n",
       "      <td>1.0</td>\n",
       "      <td>0.99816</td>\n",
       "      <td>1.0</td>\n",
       "      <td>1.0</td>\n",
       "      <td>0.992312</td>\n",
       "    </tr>\n",
       "    <tr>\n",
       "      <th>1</th>\n",
       "      <td>0.0</td>\n",
       "      <td>0.00184</td>\n",
       "      <td>0.0</td>\n",
       "      <td>0.0</td>\n",
       "      <td>0.007688</td>\n",
       "    </tr>\n",
       "  </tbody>\n",
       "</table>\n",
       "</div>"
      ],
      "text/plain": [
       "type     CASH_IN  CASH_OUT  DEBIT  PAYMENT  TRANSFER\n",
       "isFraud                                             \n",
       "0            1.0   0.99816    1.0      1.0  0.992312\n",
       "1            0.0   0.00184    0.0      0.0  0.007688"
      ]
     },
     "execution_count": 34,
     "metadata": {},
     "output_type": "execute_result"
    }
   ],
   "source": [
    "#Criar as probabilidades\n",
    "type_ = pd.crosstab(var_cat.isFraud,var_cat.type)\n",
    "type_/type_.aggregate(np.sum)"
   ]
  },
  {
   "cell_type": "markdown",
   "metadata": {},
   "source": [
    "**Não há significância nas probabilidades da classe 1 na variável type**"
   ]
  },
  {
   "cell_type": "markdown",
   "metadata": {},
   "source": [
    "### nameDest"
   ]
  },
  {
   "cell_type": "code",
   "execution_count": 35,
   "metadata": {},
   "outputs": [],
   "source": [
    "#Separar os dados de destino em : C = Pessoa fisica  , M = Pessoa Juridica\n",
    "m = var_cat[var_cat.nameDest.str.contains(\"M\", regex=False)]\n",
    "c = var_cat[var_cat.nameDest.str.contains(\"C\", regex=False)]\n"
   ]
  },
  {
   "cell_type": "code",
   "execution_count": 36,
   "metadata": {},
   "outputs": [
    {
     "name": "stdout",
     "output_type": "stream",
     "text": [
      "Pessoa fisica: 8213\n",
      "Pessoa Juridica: 0\n"
     ]
    }
   ],
   "source": [
    "#Quantidade de fraudes com pessoa fisica e juridica\n",
    "a = len(c[c.isFraud==1])\n",
    "b = len(m[m.isFraud==1])\n",
    "\n",
    "print(f'Pessoa fisica: {a}')\n",
    "print(f'Pessoa Juridica: {b}')"
   ]
  },
  {
   "cell_type": "markdown",
   "metadata": {},
   "source": [
    "**Observe que como o dataset não tem dados para conta de destino(M = Pessoa Jurídica), não há como identificar as fraudes para esses clientes, por motivos já vistos na análise numérica, vamos excluir essa variável**"
   ]
  },
  {
   "cell_type": "markdown",
   "metadata": {},
   "source": [
    "## Conclusão da análise exploratória dos dados"
   ]
  },
  {
   "cell_type": "markdown",
   "metadata": {},
   "source": [
    "**Como visto na análise das variáveis categóricas, não vamos selecionar nenhuma das variáveis**"
   ]
  },
  {
   "cell_type": "markdown",
   "metadata": {},
   "source": [
    "## Variáveis Relevantes para predição"
   ]
  },
  {
   "cell_type": "code",
   "execution_count": 37,
   "metadata": {},
   "outputs": [
    {
     "data": {
      "text/html": [
       "<div>\n",
       "<style scoped>\n",
       "    .dataframe tbody tr th:only-of-type {\n",
       "        vertical-align: middle;\n",
       "    }\n",
       "\n",
       "    .dataframe tbody tr th {\n",
       "        vertical-align: top;\n",
       "    }\n",
       "\n",
       "    .dataframe thead th {\n",
       "        text-align: right;\n",
       "    }\n",
       "</style>\n",
       "<table border=\"1\" class=\"dataframe\">\n",
       "  <thead>\n",
       "    <tr style=\"text-align: right;\">\n",
       "      <th></th>\n",
       "      <th>hour</th>\n",
       "      <th>amount</th>\n",
       "      <th>oldbalanceOrg</th>\n",
       "      <th>isFraud</th>\n",
       "    </tr>\n",
       "  </thead>\n",
       "  <tbody>\n",
       "    <tr>\n",
       "      <th>0</th>\n",
       "      <td>1</td>\n",
       "      <td>9839.64</td>\n",
       "      <td>170136.00</td>\n",
       "      <td>0</td>\n",
       "    </tr>\n",
       "    <tr>\n",
       "      <th>1</th>\n",
       "      <td>1</td>\n",
       "      <td>1864.28</td>\n",
       "      <td>21249.00</td>\n",
       "      <td>0</td>\n",
       "    </tr>\n",
       "    <tr>\n",
       "      <th>2</th>\n",
       "      <td>1</td>\n",
       "      <td>181.00</td>\n",
       "      <td>181.00</td>\n",
       "      <td>1</td>\n",
       "    </tr>\n",
       "    <tr>\n",
       "      <th>3</th>\n",
       "      <td>1</td>\n",
       "      <td>181.00</td>\n",
       "      <td>181.00</td>\n",
       "      <td>1</td>\n",
       "    </tr>\n",
       "    <tr>\n",
       "      <th>4</th>\n",
       "      <td>1</td>\n",
       "      <td>11668.14</td>\n",
       "      <td>41554.00</td>\n",
       "      <td>0</td>\n",
       "    </tr>\n",
       "    <tr>\n",
       "      <th>...</th>\n",
       "      <td>...</td>\n",
       "      <td>...</td>\n",
       "      <td>...</td>\n",
       "      <td>...</td>\n",
       "    </tr>\n",
       "    <tr>\n",
       "      <th>6362615</th>\n",
       "      <td>23</td>\n",
       "      <td>339682.13</td>\n",
       "      <td>339682.13</td>\n",
       "      <td>1</td>\n",
       "    </tr>\n",
       "    <tr>\n",
       "      <th>6362616</th>\n",
       "      <td>23</td>\n",
       "      <td>6311409.28</td>\n",
       "      <td>6311409.28</td>\n",
       "      <td>1</td>\n",
       "    </tr>\n",
       "    <tr>\n",
       "      <th>6362617</th>\n",
       "      <td>23</td>\n",
       "      <td>6311409.28</td>\n",
       "      <td>6311409.28</td>\n",
       "      <td>1</td>\n",
       "    </tr>\n",
       "    <tr>\n",
       "      <th>6362618</th>\n",
       "      <td>23</td>\n",
       "      <td>850002.52</td>\n",
       "      <td>850002.52</td>\n",
       "      <td>1</td>\n",
       "    </tr>\n",
       "    <tr>\n",
       "      <th>6362619</th>\n",
       "      <td>23</td>\n",
       "      <td>850002.52</td>\n",
       "      <td>850002.52</td>\n",
       "      <td>1</td>\n",
       "    </tr>\n",
       "  </tbody>\n",
       "</table>\n",
       "<p>6362620 rows × 4 columns</p>\n",
       "</div>"
      ],
      "text/plain": [
       "         hour      amount  oldbalanceOrg  isFraud\n",
       "0           1     9839.64      170136.00        0\n",
       "1           1     1864.28       21249.00        0\n",
       "2           1      181.00         181.00        1\n",
       "3           1      181.00         181.00        1\n",
       "4           1    11668.14       41554.00        0\n",
       "...       ...         ...            ...      ...\n",
       "6362615    23   339682.13      339682.13        1\n",
       "6362616    23  6311409.28     6311409.28        1\n",
       "6362617    23  6311409.28     6311409.28        1\n",
       "6362618    23   850002.52      850002.52        1\n",
       "6362619    23   850002.52      850002.52        1\n",
       "\n",
       "[6362620 rows x 4 columns]"
      ]
     },
     "execution_count": 37,
     "metadata": {},
     "output_type": "execute_result"
    }
   ],
   "source": [
    "#Selecionar as variáveis relevante para modelagem\n",
    "dados_relev = var_select_num\n",
    "dados_relev"
   ]
  },
  {
   "cell_type": "markdown",
   "metadata": {},
   "source": [
    "**Todas as variáveis identificadas como relevantes na análise exploratória**"
   ]
  },
  {
   "cell_type": "code",
   "execution_count": 38,
   "metadata": {},
   "outputs": [
    {
     "data": {
      "text/plain": [
       "hour             0\n",
       "amount           0\n",
       "oldbalanceOrg    0\n",
       "isFraud          0\n",
       "dtype: int64"
      ]
     },
     "execution_count": 38,
     "metadata": {},
     "output_type": "execute_result"
    }
   ],
   "source": [
    "#Dados nulos\n",
    "dados_relev.isnull().sum()"
   ]
  },
  {
   "cell_type": "code",
   "execution_count": 39,
   "metadata": {},
   "outputs": [
    {
     "data": {
      "text/plain": [
       "(6362620, 4)"
      ]
     },
     "execution_count": 39,
     "metadata": {},
     "output_type": "execute_result"
    }
   ],
   "source": [
    "#shape\n",
    "dados_relev.shape"
   ]
  },
  {
   "cell_type": "markdown",
   "metadata": {},
   "source": [
    "**Temos 6.362.620 registros, com 3 variáveis preditoras e 1 variável target**"
   ]
  },
  {
   "cell_type": "markdown",
   "metadata": {},
   "source": [
    "# Modelagem:"
   ]
  },
  {
   "cell_type": "markdown",
   "metadata": {},
   "source": [
    "- Como o objetivo é identificar o risco de fraude em uma instituição financeira através das transações bancarias dos clientes, vamos usar como critério a métrica Recall para determinar o melhor resultado, pois indica o quanto da classe 1 (Fraude) o algoritimo acerta"
   ]
  },
  {
   "cell_type": "markdown",
   "metadata": {},
   "source": [
    "## Dividir os dados em treino e teste"
   ]
  },
  {
   "cell_type": "code",
   "execution_count": 40,
   "metadata": {},
   "outputs": [],
   "source": [
    "#Separar os dados em x e y\n",
    "x = dados_relev.iloc[:,0:3]\n",
    "y = dados_relev.iloc[:,3]\n",
    "\n",
    "#Separar as variaveis em treino e teste\n",
    "from sklearn.model_selection import train_test_split\n",
    "X_treino,X_teste,Y_treino,Y_teste=train_test_split(x,y,\n",
    "                                                   test_size=0.3,random_state=1)"
   ]
  },
  {
   "cell_type": "markdown",
   "metadata": {},
   "source": [
    "## Under Sampling"
   ]
  },
  {
   "cell_type": "markdown",
   "metadata": {},
   "source": [
    "- Como temos muitos dados, podemos aplicar o algoritimo Under Sampling"
   ]
  },
  {
   "cell_type": "code",
   "execution_count": 43,
   "metadata": {},
   "outputs": [
    {
     "name": "stdout",
     "output_type": "stream",
     "text": [
      "Numero de exemplos da variavel target Antes: 6362620\n",
      "Numero de exemplos da variavel target com under_sampling: 11490\n",
      "\n",
      "Numero de exemplos da Classe 0: 5745\n",
      "Numero de exemplos da Classe 1: 5745\n"
     ]
    }
   ],
   "source": [
    "#Aplicando o balancemanto nos dados\n",
    "from imblearn.under_sampling import RandomUnderSampler\n",
    "smt = RandomUnderSampler()\n",
    "x_smote, y_smote = smt.fit_resample(X_treino, Y_treino)\n",
    "print(f'Numero de exemplos da variavel target Antes: {len(y)}')\n",
    "print(f'Numero de exemplos da variavel target com under_sampling: {len(y_smote)}')\n",
    "\n",
    "print(f'\\nNumero de exemplos da Classe 0: {len(y_smote[y_smote==0])}')\n",
    "print(f'Numero de exemplos da Classe 1: {len(y_smote[y_smote==1])}')"
   ]
  },
  {
   "cell_type": "markdown",
   "metadata": {},
   "source": [
    "**Agora podemos ver equilíbrio nas classes da variável target no dataset de treino**"
   ]
  },
  {
   "cell_type": "markdown",
   "metadata": {},
   "source": [
    "# Modelo 1 - Random Forest"
   ]
  },
  {
   "cell_type": "code",
   "execution_count": 44,
   "metadata": {},
   "outputs": [
    {
     "data": {
      "text/html": [
       "<div>\n",
       "<style scoped>\n",
       "    .dataframe tbody tr th:only-of-type {\n",
       "        vertical-align: middle;\n",
       "    }\n",
       "\n",
       "    .dataframe tbody tr th {\n",
       "        vertical-align: top;\n",
       "    }\n",
       "\n",
       "    .dataframe thead tr th {\n",
       "        text-align: left;\n",
       "    }\n",
       "</style>\n",
       "<table border=\"1\" class=\"dataframe\">\n",
       "  <thead>\n",
       "    <tr>\n",
       "      <th></th>\n",
       "      <th>Metricas</th>\n",
       "      <th>RF1</th>\n",
       "    </tr>\n",
       "  </thead>\n",
       "  <tbody>\n",
       "    <tr>\n",
       "      <th>0</th>\n",
       "      <td>Acurácia_Treino</td>\n",
       "      <td>1.000000</td>\n",
       "    </tr>\n",
       "    <tr>\n",
       "      <th>1</th>\n",
       "      <td>Acurácia_Teste</td>\n",
       "      <td>0.966025</td>\n",
       "    </tr>\n",
       "    <tr>\n",
       "      <th>2</th>\n",
       "      <td>Precision_Teste</td>\n",
       "      <td>0.036344</td>\n",
       "    </tr>\n",
       "    <tr>\n",
       "      <th>3</th>\n",
       "      <td>Recall_Teste</td>\n",
       "      <td>0.990681</td>\n",
       "    </tr>\n",
       "    <tr>\n",
       "      <th>4</th>\n",
       "      <td>AUC_Teste</td>\n",
       "      <td>0.978337</td>\n",
       "    </tr>\n",
       "  </tbody>\n",
       "</table>\n",
       "</div>"
      ],
      "text/plain": [
       "          Metricas       RF1\n",
       "0  Acurácia_Treino  1.000000\n",
       "1   Acurácia_Teste  0.966025\n",
       "2  Precision_Teste  0.036344\n",
       "3     Recall_Teste  0.990681\n",
       "4        AUC_Teste  0.978337"
      ]
     },
     "execution_count": 44,
     "metadata": {},
     "output_type": "execute_result"
    }
   ],
   "source": [
    "from sklearn.ensemble import RandomForestClassifier\n",
    "\n",
    "# Construção do Classificador\n",
    "random_forest = RandomForestClassifier() \n",
    "\n",
    "#Treinar o modelo com os dados de treino\n",
    "modelo_random =  random_forest.fit(x_smote, y_smote)\n",
    "\n",
    "\n",
    "#Previsões com o modelo de teste\n",
    "previsoes_v1 = modelo_random.predict(X_teste)\n",
    "\n",
    "# Dicionário de métricas e metadados\n",
    "from sklearn.metrics import precision_score, recall_score, f1_score, accuracy_score, roc_auc_score\n",
    "rf1 = {'Acurácia_Treino':modelo_random.score(x_smote, y_smote),\n",
    "               'Acurácia_Teste':accuracy_score(Y_teste,previsoes_v1),\n",
    "               'Precision_Teste':precision_score(Y_teste,previsoes_v1),\n",
    "               'Recall_Teste':recall_score(Y_teste,previsoes_v1),\n",
    "               'AUC_Teste':roc_auc_score(Y_teste, previsoes_v1)}\n",
    "# Print\n",
    "\n",
    "metricas = pd.DataFrame(rf1.items(),columns=[['Metricas','RF1']]);metricas"
   ]
  },
  {
   "cell_type": "code",
   "execution_count": 45,
   "metadata": {},
   "outputs": [
    {
     "data": {
      "text/plain": [
       "<AxesSubplot:>"
      ]
     },
     "execution_count": 45,
     "metadata": {},
     "output_type": "execute_result"
    },
    {
     "data": {
      "image/png": "[encoded data removed]",
      "text/plain": [
       "<Figure size 432x288 with 2 Axes>"
      ]
     },
     "metadata": {
      "needs_background": "light"
     },
     "output_type": "display_data"
    }
   ],
   "source": [
    "#Matriz de Confusão\n",
    "from sklearn.metrics import confusion_matrix\n",
    "cm = confusion_matrix(Y_teste,previsoes_v1)\n",
    "sns.heatmap(cm,annot=True,fmt='d')"
   ]
  },
  {
   "cell_type": "markdown",
   "metadata": {},
   "source": [
    "**O modelo Random Forest teve um ótimo desempenho na maioria de suas metricas, porém o objetivo é diminuir o máximo de falsos negativos, e essa métrica houve um excelente desempenho chegando praticamente a 99% de acerto**"
   ]
  },
  {
   "cell_type": "markdown",
   "metadata": {},
   "source": [
    "# Modelo 2 - Redes Neurais"
   ]
  },
  {
   "cell_type": "code",
   "execution_count": 46,
   "metadata": {},
   "outputs": [
    {
     "name": "stdout",
     "output_type": "stream",
     "text": [
      "Iteration 1, loss = 16.85597782\n",
      "Iteration 2, loss = 2.88094909\n",
      "Iteration 3, loss = 2.35110817\n",
      "Iteration 4, loss = 2.49266976\n",
      "Iteration 5, loss = 2.47430618\n",
      "Iteration 6, loss = 2.43400101\n",
      "Iteration 7, loss = 2.30597962\n",
      "Iteration 8, loss = 2.17335767\n",
      "Iteration 9, loss = 2.00450048\n",
      "Iteration 10, loss = 2.25642548\n",
      "Iteration 11, loss = 2.01467524\n",
      "Iteration 12, loss = 2.50961071\n",
      "Iteration 13, loss = 2.89907506\n",
      "Iteration 14, loss = 2.10389938\n",
      "Iteration 15, loss = 2.32625938\n",
      "Iteration 16, loss = 2.11156287\n",
      "Iteration 17, loss = 2.46621565\n",
      "Iteration 18, loss = 1.99088399\n",
      "Iteration 19, loss = 2.22976289\n",
      "Iteration 20, loss = 1.85501964\n",
      "Iteration 21, loss = 3.35018024\n",
      "Iteration 22, loss = 2.96106372\n",
      "Iteration 23, loss = 2.45593024\n",
      "Iteration 24, loss = 2.41555169\n",
      "Iteration 25, loss = 2.44876700\n",
      "Iteration 26, loss = 2.01598324\n",
      "Iteration 27, loss = 2.47593530\n",
      "Iteration 28, loss = 2.14062561\n",
      "Iteration 29, loss = 2.01089826\n",
      "Iteration 30, loss = 2.39088170\n",
      "Iteration 31, loss = 2.05154967\n",
      "Iteration 32, loss = 3.04334220\n",
      "Iteration 33, loss = 2.53777246\n",
      "Iteration 34, loss = 2.52015696\n",
      "Iteration 35, loss = 2.26964384\n",
      "Iteration 36, loss = 2.41422639\n",
      "Iteration 37, loss = 1.92496933\n",
      "Iteration 38, loss = 2.28383750\n",
      "Iteration 39, loss = 2.42576984\n",
      "Iteration 40, loss = 1.92105478\n",
      "Iteration 41, loss = 2.20740605\n",
      "Iteration 42, loss = 2.47421411\n",
      "Iteration 43, loss = 2.01441022\n",
      "Iteration 44, loss = 2.22957192\n",
      "Iteration 45, loss = 2.06323265\n",
      "Iteration 46, loss = 3.39645704\n",
      "Iteration 47, loss = 2.89139908\n",
      "Iteration 48, loss = 2.37809289\n",
      "Iteration 49, loss = 2.41144416\n",
      "Iteration 50, loss = 2.11096435\n",
      "Iteration 51, loss = 3.08094113\n",
      "Iteration 52, loss = 2.55410413\n",
      "Iteration 53, loss = 2.61131751\n",
      "Iteration 54, loss = 2.34639399\n",
      "Iteration 55, loss = 2.41536504\n",
      "Iteration 56, loss = 2.12098826\n",
      "Iteration 57, loss = 2.22751226\n",
      "Iteration 58, loss = 2.03978653\n",
      "Iteration 59, loss = 2.36146775\n",
      "Iteration 60, loss = 2.11849501\n",
      "Iteration 61, loss = 2.33567056\n",
      "Training loss did not improve more than tol=0.000100 for 40 consecutive epochs. Stopping.\n"
     ]
    },
    {
     "data": {
      "text/html": [
       "<style>#sk-container-id-1 {color: black;background-color: white;}#sk-container-id-1 pre{padding: 0;}#sk-container-id-1 div.sk-toggleable {background-color: white;}#sk-container-id-1 label.sk-toggleable__label {cursor: pointer;display: block;width: 100%;margin-bottom: 0;padding: 0.3em;box-sizing: border-box;text-align: center;}#sk-container-id-1 label.sk-toggleable__label-arrow:before {content: \"▸\";float: left;margin-right: 0.25em;color: #696969;}#sk-container-id-1 label.sk-toggleable__label-arrow:hover:before {color: black;}#sk-container-id-1 div.sk-estimator:hover label.sk-toggleable__label-arrow:before {color: black;}#sk-container-id-1 div.sk-toggleable__content {max-height: 0;max-width: 0;overflow: hidden;text-align: left;background-color: #f0f8ff;}#sk-container-id-1 div.sk-toggleable__content pre {margin: 0.2em;color: black;border-radius: 0.25em;background-color: #f0f8ff;}#sk-container-id-1 input.sk-toggleable__control:checked~div.sk-toggleable__content {max-height: 200px;max-width: 100%;overflow: auto;}#sk-container-id-1 input.sk-toggleable__control:checked~label.sk-toggleable__label-arrow:before {content: \"▾\";}#sk-container-id-1 div.sk-estimator input.sk-toggleable__control:checked~label.sk-toggleable__label {background-color: #d4ebff;}#sk-container-id-1 div.sk-label input.sk-toggleable__control:checked~label.sk-toggleable__label {background-color: #d4ebff;}#sk-container-id-1 input.sk-hidden--visually {border: 0;clip: rect(1px 1px 1px 1px);clip: rect(1px, 1px, 1px, 1px);height: 1px;margin: -1px;overflow: hidden;padding: 0;position: absolute;width: 1px;}#sk-container-id-1 div.sk-estimator {font-family: monospace;background-color: #f0f8ff;border: 1px dotted black;border-radius: 0.25em;box-sizing: border-box;margin-bottom: 0.5em;}#sk-container-id-1 div.sk-estimator:hover {background-color: #d4ebff;}#sk-container-id-1 div.sk-parallel-item::after {content: \"\";width: 100%;border-bottom: 1px solid gray;flex-grow: 1;}#sk-container-id-1 div.sk-label:hover label.sk-toggleable__label {background-color: #d4ebff;}#sk-container-id-1 div.sk-serial::before {content: \"\";position: absolute;border-left: 1px solid gray;box-sizing: border-box;top: 0;bottom: 0;left: 50%;z-index: 0;}#sk-container-id-1 div.sk-serial {display: flex;flex-direction: column;align-items: center;background-color: white;padding-right: 0.2em;padding-left: 0.2em;position: relative;}#sk-container-id-1 div.sk-item {position: relative;z-index: 1;}#sk-container-id-1 div.sk-parallel {display: flex;align-items: stretch;justify-content: center;background-color: white;position: relative;}#sk-container-id-1 div.sk-item::before, #sk-container-id-1 div.sk-parallel-item::before {content: \"\";position: absolute;border-left: 1px solid gray;box-sizing: border-box;top: 0;bottom: 0;left: 50%;z-index: -1;}#sk-container-id-1 div.sk-parallel-item {display: flex;flex-direction: column;z-index: 1;position: relative;background-color: white;}#sk-container-id-1 div.sk-parallel-item:first-child::after {align-self: flex-end;width: 50%;}#sk-container-id-1 div.sk-parallel-item:last-child::after {align-self: flex-start;width: 50%;}#sk-container-id-1 div.sk-parallel-item:only-child::after {width: 0;}#sk-container-id-1 div.sk-dashed-wrapped {border: 1px dashed gray;margin: 0 0.4em 0.5em 0.4em;box-sizing: border-box;padding-bottom: 0.4em;background-color: white;}#sk-container-id-1 div.sk-label label {font-family: monospace;font-weight: bold;display: inline-block;line-height: 1.2em;}#sk-container-id-1 div.sk-label-container {text-align: center;}#sk-container-id-1 div.sk-container {/* jupyter's `normalize.less` sets `[hidden] { display: none; }` but bootstrap.min.css set `[hidden] { display: none !important; }` so we also need the `!important` here to be able to override the default hidden behavior on the sphinx rendered scikit-learn.org. See: https://github.com/scikit-learn/scikit-learn/issues/21755 */display: inline-block !important;position: relative;}#sk-container-id-1 div.sk-text-repr-fallback {display: none;}</style><div id=\"sk-container-id-1\" class=\"sk-top-container\"><div class=\"sk-text-repr-fallback\"><pre>MLPClassifier(hidden_layer_sizes=(50, 50), learning_rate_init=0.0001,\n",
       "              max_iter=1500, n_iter_no_change=40, verbose=True)</pre><b>In a Jupyter environment, please rerun this cell to show the HTML representation or trust the notebook. <br />On GitHub, the HTML representation is unable to render, please try loading this page with nbviewer.org.</b></div><div class=\"sk-container\" hidden><div class=\"sk-item\"><div class=\"sk-estimator sk-toggleable\"><input class=\"sk-toggleable__control sk-hidden--visually\" id=\"sk-estimator-id-1\" type=\"checkbox\" checked><label for=\"sk-estimator-id-1\" class=\"sk-toggleable__label sk-toggleable__label-arrow\">MLPClassifier</label><div class=\"sk-toggleable__content\"><pre>MLPClassifier(hidden_layer_sizes=(50, 50), learning_rate_init=0.0001,\n",
       "              max_iter=1500, n_iter_no_change=40, verbose=True)</pre></div></div></div></div></div>"
      ],
      "text/plain": [
       "MLPClassifier(hidden_layer_sizes=(50, 50), learning_rate_init=0.0001,\n",
       "              max_iter=1500, n_iter_no_change=40, verbose=True)"
      ]
     },
     "execution_count": 46,
     "metadata": {},
     "output_type": "execute_result"
    }
   ],
   "source": [
    "from sklearn.neural_network import MLPClassifier\n",
    "\n",
    "rede_neural_credit1 = MLPClassifier(max_iter=1500, verbose=True,\n",
    "                                   solver = 'adam', activation = 'relu',n_iter_no_change=40,learning_rate_init=0.0001,\n",
    "                                   hidden_layer_sizes = (50,50))\n",
    "rede_neural_credit1.fit(x_smote, y_smote)\n",
    "\n"
   ]
  },
  {
   "cell_type": "code",
   "execution_count": 47,
   "metadata": {},
   "outputs": [
    {
     "data": {
      "text/html": [
       "<div>\n",
       "<style scoped>\n",
       "    .dataframe tbody tr th:only-of-type {\n",
       "        vertical-align: middle;\n",
       "    }\n",
       "\n",
       "    .dataframe tbody tr th {\n",
       "        vertical-align: top;\n",
       "    }\n",
       "\n",
       "    .dataframe thead tr th {\n",
       "        text-align: left;\n",
       "    }\n",
       "</style>\n",
       "<table border=\"1\" class=\"dataframe\">\n",
       "  <thead>\n",
       "    <tr>\n",
       "      <th></th>\n",
       "      <th>Metricas</th>\n",
       "      <th>RF1</th>\n",
       "      <th>RN1</th>\n",
       "    </tr>\n",
       "  </thead>\n",
       "  <tbody>\n",
       "    <tr>\n",
       "      <th>0</th>\n",
       "      <td>Acurácia_Treino</td>\n",
       "      <td>1.000000</td>\n",
       "      <td>0.900261</td>\n",
       "    </tr>\n",
       "    <tr>\n",
       "      <th>1</th>\n",
       "      <td>Acurácia_Teste</td>\n",
       "      <td>0.966025</td>\n",
       "      <td>0.811314</td>\n",
       "    </tr>\n",
       "    <tr>\n",
       "      <th>2</th>\n",
       "      <td>Precision_Teste</td>\n",
       "      <td>0.036344</td>\n",
       "      <td>0.006738</td>\n",
       "    </tr>\n",
       "    <tr>\n",
       "      <th>3</th>\n",
       "      <td>Recall_Teste</td>\n",
       "      <td>0.990681</td>\n",
       "      <td>0.989870</td>\n",
       "    </tr>\n",
       "    <tr>\n",
       "      <th>4</th>\n",
       "      <td>AUC_Teste</td>\n",
       "      <td>0.978337</td>\n",
       "      <td>0.900476</td>\n",
       "    </tr>\n",
       "  </tbody>\n",
       "</table>\n",
       "</div>"
      ],
      "text/plain": [
       "          Metricas       RF1       RN1\n",
       "0  Acurácia_Treino  1.000000  0.900261\n",
       "1   Acurácia_Teste  0.966025  0.811314\n",
       "2  Precision_Teste  0.036344  0.006738\n",
       "3     Recall_Teste  0.990681  0.989870\n",
       "4        AUC_Teste  0.978337  0.900476"
      ]
     },
     "execution_count": 47,
     "metadata": {},
     "output_type": "execute_result"
    }
   ],
   "source": [
    "#Previsões com o modelo de teste\n",
    "previsoes_v1 = rede_neural_credit1.predict(X_teste)\n",
    "\n",
    "# Dicionário de métricas e metadados\n",
    "from sklearn.metrics import precision_score, recall_score, f1_score, accuracy_score, roc_auc_score\n",
    "rn1 = {'Acurácia_Treino':rede_neural_credit1.score(x_smote, y_smote),\n",
    "               'Acurácia_Teste':accuracy_score(Y_teste,previsoes_v1),\n",
    "               'Precision_Teste':precision_score(Y_teste,previsoes_v1),\n",
    "               'Recall_Teste':recall_score(Y_teste,previsoes_v1),\n",
    "               'AUC_Teste':roc_auc_score(Y_teste,previsoes_v1)}\n",
    "# Print\n",
    "\n",
    "metricas['RN1'] = rn1.values()\n",
    "metricas"
   ]
  },
  {
   "cell_type": "code",
   "execution_count": 48,
   "metadata": {},
   "outputs": [
    {
     "data": {
      "text/plain": [
       "<AxesSubplot:>"
      ]
     },
     "execution_count": 48,
     "metadata": {},
     "output_type": "execute_result"
    },
    {
     "data": {
      "image/png": "[encoded data removed]",
      "text/plain": [
       "<Figure size 432x288 with 2 Axes>"
      ]
     },
     "metadata": {
      "needs_background": "light"
     },
     "output_type": "display_data"
    }
   ],
   "source": [
    "#Matriz de Confusão\n",
    "\n",
    "cm = confusion_matrix(Y_teste,previsoes_v1)\n",
    "sns.heatmap(cm,annot=True,fmt='d')"
   ]
  },
  {
   "cell_type": "markdown",
   "metadata": {},
   "source": [
    "**O modelo de Redes Neurais teve praticamente o mesmo desempenho do algoritimo Random Forest**"
   ]
  },
  {
   "cell_type": "markdown",
   "metadata": {},
   "source": [
    "# Conclusão:"
   ]
  },
  {
   "cell_type": "markdown",
   "metadata": {},
   "source": [
    "**Fraud Analyticss é um processo diferente dos demais, pois existe apenas uma classe predominante na variável target, e isso dificulta o treinamento dos modelos.**\n",
    "\n",
    "**Com a analise exploratória dos dados, conseguimos selecionar as variáveis mais relevantes para a modelagem, como tínhamos muitos dados no dataset, aplicamos o algoritimo Under Sampling para balancear as classes, evitando criar dados sintéticos.** \n",
    "\n",
    "**Na modelagem preditiva usamos 2 algoritimos de ML: Random forest e Redes Neurais, com o objetivo de ter uma taxa baixa de Falso negativo, os algoritimos tiveram uma excelente performance de aproximadamente 99% de acerto, porém a precisão da classe 1 é muito baixa, isso quer dizer que apesar do algoritimo detectar quase todas as fraudes, ele também erra quando diz que é fraude mais não é, mas levando em conta que essa etapa pode ser a 1° entre outras, consideramos um ótimo caminho a se seguir, pois apenas 1% dos dados coletados terá erro quando o assunto é detecção de transações com fraudes**\n"
   ]
  }
 ],
 "metadata": {
  "anaconda-cloud": {},
  "kernelspec": {
   "display_name": "Python 3 (ipykernel)",
   "language": "python",
   "name": "python3"
  },
  "language_info": {
   "codemirror_mode": {
    "name": "ipython",
    "version": 3
   },
   "file_extension": ".py",
   "mimetype": "text/x-python",
   "name": "python",
   "nbconvert_exporter": "python",
   "pygments_lexer": "ipython3",
   "version": "3.9.12"
  }
 },
 "nbformat": 4,
 "nbformat_minor": 1
}
