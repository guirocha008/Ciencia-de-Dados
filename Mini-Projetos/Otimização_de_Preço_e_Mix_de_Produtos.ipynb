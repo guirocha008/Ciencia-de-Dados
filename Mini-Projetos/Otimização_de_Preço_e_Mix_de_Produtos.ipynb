{
 "cells": [
  {
   "cell_type": "markdown",
   "metadata": {},
   "source": [
    "# $$Marketing~Analytics:Pesquisa~Operacional$$\n",
    "\n",
    "# $$Otimização~de~Preços~e~Mix~de~Produtos$$"
   ]
  },
  {
   "cell_type": "markdown",
   "metadata": {},
   "source": [
    "## $$Conceitos:$$\n",
    "\n",
    "\n",
    "**É um método analítico avançado que permite a solução de problemas e a tomada de decisões nas organizações**\n",
    "\n",
    "\n",
    "**Pilares para tomada de decisões assertivas:**\n",
    "\n",
    "- Método Cientifica\n",
    "- Modelagem de sistemas \n",
    "- Abordagem Interdisciplinar \n",
    "- Uso de Computadores\n",
    "- Pragmatismo\n",
    "\n",
    "\n",
    "\n",
    "**Modelos da P.O:**\n",
    "\n",
    "- Programação Matemática (P.Linear, P.Inteira)\n",
    "- Machine Learning\n",
    "- Simulação a Eventos Discretos\n",
    "- Apoio Multicritério à Decisão\n",
    "- Teoria dos Grafos\n",
    "- Lógica Fuzzy\n",
    "- Estatística\n",
    "- Análise Envoltória de Dados\n",
    "\n",
    "**Fatores que influenciaram a Expansão da P.O:**\n",
    "\n",
    "- Novos modelos matemáticos\n",
    "- Evolução dos computadores\n",
    "\n",
    "\n",
    "**O QUE É UM SISTEMA:**\n",
    "\n",
    "- É um conjunto de elementos interdependentes que interagem com objetivos comuns. Normalmente, o resultado gerado pelo sistema é maior do que o somatório dos resultados isolados das partes que compõem o sistema\n",
    "\n",
    "**MEDIDA DE EFICÁCIA OPERACIONAL(MEO):**\n",
    "\n",
    "- É uma medida, quantificável, que procura representar o grau com que dado sistema, em condições de operação tão reais quanto possível, atinge sua finalidade. A MEO permite quantificar aspectos pertinentes a requisitos operacionais específicos\n",
    "\n",
    "\n",
    "- **Três atributos de uma boa MEO:**\n",
    "\n",
    "- Quantificável\n",
    "- Mensurável\n",
    "- “Closely Related”\n",
    "\n",
    "\n",
    "**MODELO:**\n",
    "\n",
    "- É uma representação simplificada da realidade, destinada a facilitar o entendimento e, consequentemente, a manipulação de um fenômeno complexo\n",
    "\n",
    "\n",
    "**ETAPAS PARA SOLUÇÃO DE PROBLEMAS:**\n",
    "\n",
    "- 1° - Entender o sistema (objetivo)\n",
    "- 2° - Definir as MEO\n",
    "- 3° - Construir o Modelo\n",
    "- 4° - Obter uma massa de dados\n",
    "- 5° - Melhorar o modelo\n",
    "- 6° - Validar o modelo\n",
    "- 7° - Reportar, explicar, comunicar e auxiliar na implementação do modelo (STORYTELLING)\n",
    "\n",
    "\n",
    "**P.O. E A CIÊNCIA DE DADOS:**\n",
    "\n",
    "- Pesquisa Operacional e Ciência de Dados estão intimamente relacionadas. Os modelos da P.O. precisam dos dados para que esses dados sejam processados e possam gerar um resultado útil para o tomador de decisão. Por outro lado, de nada adianta dispor de um conjunto de dados, em quantidade e com qualidade, se não houver um modelo matemático que possa dar forma a esses dados, de maneira a apoiar adequadamente o processo de tomada de decisão\n",
    "\n",
    "**BRAINSTORMING:**\n",
    "\n",
    "- “tempestade de ideias”, aborda a utilização do processo criativo para a solução de problemas.\n",
    "\n",
    "\n",
    "**MAPA MENTAL:**\n",
    "\n",
    "- Um mapa mental é uma ferramenta simples utilizada para organizar o pensamento. Um mapa mental é uma maneira fácil de extrair informações do cérebro humano\n",
    "\n",
    "\n",
    "- Com um mapa mental, uma longa lista de informações pode se transformar num diagrama colorido, fácil de lembrar, intuitivo e bem organizado que opera em harmonia com o funcionamento natural do cérebro\n",
    "\n",
    "\n",
    "\n",
    "## $$Conceito~de~Problema~de~Programação~Linear (PPL)$$\n",
    "\n",
    "- Maximização ou Minimização de uma Função Objetivo (F.O.) linear com relação às Variáveis de Decisão (V.D.) do modelo.\n",
    "\n",
    "\n",
    "- Respeitando-se as restrições do problema expressas por um sistema de equações e/ou inequações lineares associadas com as Variáveis de Decisão do modelo\n",
    "\n",
    "\n",
    "- VARIÁVEIS DE DECISÃO: são aqueles valores que representam o cerne do problema. São as quantidades pelas quais devemos decidir\n",
    "\n",
    "\n",
    "- As variáveis de decisão representam as opções que um gestor tem para atingir um objetivo\n",
    "\n",
    "\n",
    "- SUPOSIÇÕES DA PL: Certeza, Divisibilidade, Aditividade e Proporcionalidade\n",
    "\n",
    "\n",
    "**SOLUÇÃO DE UM PPL:**\n",
    "\n",
    "Qualquer especificação de valores para as variáveis de decisão é chamada solução, independentemente de ela ser desejável ou não\n",
    "\n",
    "\n",
    "Quando o problema envolve apenas duas variáveis de decisão, a solução ótima de um problema de programação linear pode ser encontrada graficamente.\n",
    "\n",
    "\n",
    "- **solução viável** = É aquela para a qual todas as restrições são satisfeitas\n",
    "\n",
    "\n",
    "- **Inviável** = É aquela para a qual pelo menos uma das restrições não é satisfeita\n",
    "\n",
    "\n",
    "- **solução ótima** = É aquela em que todas as restrições são atendidas, otimizando-se o valor da função objetivo.\n",
    "\n",
    "\n",
    "**PPL NA FORMA PADRÃO:**\n",
    "\n",
    "- A Função-Objetivo é de Maximização\n",
    "\n",
    "\n",
    "- As restrições têm sinal de menor ou igual\n",
    "\n",
    "\n",
    "- As constantes de todas as restrições são não-negativas\n",
    "\n",
    "\n",
    "- As variáveis de decisão só podem assumir valores não-negativos\n",
    "\n",
    "\n",
    "**Variáveis de Folga ou Excesso:**\n",
    "\n",
    "- Dado um Problema de Programação Linear, precisamos inserir as variáveis de folga ou excesso para que as desigualdades se tornem igualdades"
   ]
  },
  {
   "cell_type": "markdown",
   "metadata": {},
   "source": [
    "__------------------------------------------------------------------------------------------------------------------------------------------------------------------------------------------------------------------__\n",
    "\n",
    "\n",
    "__------------------------------------------------------------------------------------------------------------------------------------------------------------------------------------------------------------------__"
   ]
  },
  {
   "cell_type": "markdown",
   "metadata": {},
   "source": [
    "## $$Desafio~ de~ PO:$$\n",
    "\n",
    "**A empresa quer montar e testar dois modelos de carros, XTZ1 e XTZ2. Para o próximo mês, a empresa quer decidir quantas unidades de cada modelo vai montar e depois testar**\n",
    "\n",
    "**Nenhum Carro está em estoque, como esses modelos serão limitados somente para este mês, a empresa não quer manter nenhum estoque para o mês seguinte**\n",
    "\n",
    "**Ela acredita que o máximo que pode vender neste mês são 300 unidades do modelo XTZ1 e 150 unidades do modelo XTZ2**\n",
    "\n",
    "**Cada modelo XTZ1 é vendido por RS300.000,00 e cada modelo Lua2 por RS370.000,00 O custo dos componentes de um XTZ1 é de RS150.000,00 e para um XTZ2 é RS185.000,00**\n",
    "\n",
    "**A mão de obra é necessária para a montagem e teste. Existem no máximo 5.000 horas de montagem e 3.000 horas de teste disponíveis. Cada hora de trabalho para montagem custa RS110 e cada hora de trabalho para teste custa RS150. Cada carro XTZ1 requer doze horas para montagem e uma hora para teste. Cada XTZ2 requer quatorze horas para montagem e duas horas para teste**\n",
    "\n",
    "**A Empresa deseja saber quantas unidades de cada modelo deve produzir (montar e testar) para maximizar seu lucro líquido, mas não pode usar mais horas de trabalho do que as disponíveis e não deseja produzir mais do que pode vender**\n",
    "\n",
    "\n"
   ]
  },
  {
   "cell_type": "markdown",
   "metadata": {},
   "source": [
    "__------------------------------------------------------------------------------------------------------------------------------------------------------------------------------------------------------------------__\n",
    "\n",
    "\n",
    "__------------------------------------------------------------------------------------------------------------------------------------------------------------------------------------------------------------------__"
   ]
  },
  {
   "cell_type": "markdown",
   "metadata": {},
   "source": [
    "## $$Objetivo:$$  \n",
    "\n",
    "## $$Realizar~a ~otimização~de~preços~e~ mix ~dos~produtos~da~empresa$$"
   ]
  },
  {
   "cell_type": "code",
   "execution_count": 1,
   "metadata": {},
   "outputs": [],
   "source": [
    "# Pacote\n",
    "from pulp import *"
   ]
  },
  {
   "cell_type": "markdown",
   "metadata": {},
   "source": [
    "## Criando o Modelo Matemático Para a Otimização"
   ]
  },
  {
   "cell_type": "markdown",
   "metadata": {},
   "source": [
    "### Parâmetros"
   ]
  },
  {
   "cell_type": "markdown",
   "metadata": {},
   "source": [
    "- Ai = Número máximo de carros modelo tipo i para vender este mês, onde i pertence ao conjunto {XTZ1, XTZ2}\n",
    "\n",
    "\n",
    "- Bi = Preço de venda de carros modelo tipo i, onde i pertence ao conjunto {XTZ1, XTZ2}\n",
    "\n",
    "\n",
    "- Ci = Preço de custo das peças componentes para os carros modelo tipo i, onde i pertence ao conjunto {XTZ1, XTZ2}\n",
    "\n",
    "\n",
    "- Di = Custo de mão de obra de montagem por hora dos carros modelo tipo i, onde i pertence ao conjunto {XTZ1, XTZ2}\n",
    "\n",
    "\n",
    "- Ei = Custo de mão de obra de teste por hora dos carros modelo tipo i, onde i pertence ao conjunto {XTZ1, XTZ2}\n",
    "\n",
    "\n",
    "- F = Número máximo de horas de trabalho de montagem\n",
    "\n",
    "\n",
    "- G = Número máximo de horas de trabalho de teste\n",
    "\n",
    "\n",
    "- Hf,i = Horas de montagem necessárias para construir cada modelo de carro tipo i, onde i pertence ao conjunto {XTZ1, XTZ2}\n",
    "\n",
    "\n",
    "- Hg,i = Horas de teste necessárias para testar cada modelo de carro tipo i, onde i pertence ao conjunto {XTZ1, XTZ2}"
   ]
  },
  {
   "cell_type": "markdown",
   "metadata": {},
   "source": [
    "**Para criar o modelo matemático, primeiro devemos entender o problema de negócio para assim construir o modelo de otimização**"
   ]
  },
  {
   "cell_type": "markdown",
   "metadata": {},
   "source": [
    "### Variável de Decisão"
   ]
  },
  {
   "cell_type": "markdown",
   "metadata": {},
   "source": [
    "- Xi = Número de carros modelo tipo i a produzir este mês, onde i pertence ao conjunto {XTZ1, XTZ2}"
   ]
  },
  {
   "cell_type": "markdown",
   "metadata": {},
   "source": [
    "**A Variavel de decisão é o resultado do modelo matemático, variavel resposta**"
   ]
  },
  {
   "cell_type": "markdown",
   "metadata": {},
   "source": [
    "### Função Objetivo"
   ]
  },
  {
   "cell_type": "markdown",
   "metadata": {},
   "source": [
    "![title](imagens/formula.png)"
   ]
  },
  {
   "cell_type": "markdown",
   "metadata": {},
   "source": [
    "**Lucro total de cada empresa depende de varios fatores que contribuem para os lucros e gastos, estamos simplificando a formula do lucro total apenas para fins didáticos**"
   ]
  },
  {
   "cell_type": "markdown",
   "metadata": {},
   "source": [
    "### Restrições"
   ]
  },
  {
   "cell_type": "markdown",
   "metadata": {},
   "source": [
    "- O número de carros do modelo tipo i a serem produzidos não pode ser negativo, ou seja, Xi >= 0, onde i pertence ao conjunto {XTZ1, XTZ2}.\n",
    "\n",
    "\n",
    "- O número total de horas de montagem não pode ser maior que o número máximo de horas de mão de obra de montagem disponíveis.\n",
    "\n",
    "\n",
    "- O número total de horas de teste não pode ser maior do que o máximo de horas de mão de obra de teste disponíveis.\n",
    "\n",
    "\n",
    "- O número de carros do modelo tipo i a serem produzidos não pode ser maior do que o número máximo de carros do modelo tipo i a serem vendidos neste mês, onde i pertence ao conjunto {XTZ1, XTZ2}."
   ]
  },
  {
   "cell_type": "markdown",
   "metadata": {},
   "source": [
    "**As restrições também variam dependendo do projeto e do objetivo que a empresa quer atingir, criamos algumas restrições que fazem sentido para o problema proposto**"
   ]
  },
  {
   "cell_type": "markdown",
   "metadata": {},
   "source": [
    "## Implementando o Modelo Matemático\n",
    "\n",
    "### Organizando os Parâmetros"
   ]
  },
  {
   "cell_type": "code",
   "execution_count": 2,
   "metadata": {},
   "outputs": [],
   "source": [
    "# Número máximo de Carros para vender este mês\n",
    "A_XTZ1 = 300\n",
    "A_XTZ2 = 150"
   ]
  },
  {
   "cell_type": "code",
   "execution_count": 3,
   "metadata": {},
   "outputs": [],
   "source": [
    "# Preço de venda dos Carros \n",
    "B_XTZ1 = 300000\n",
    "B_XTZ2 = 370000"
   ]
  },
  {
   "cell_type": "code",
   "execution_count": 4,
   "metadata": {},
   "outputs": [],
   "source": [
    "# Preço de custo das peças componentes para os carros\n",
    "C_XTZ1 = 150000\n",
    "C_XTZ2 = 185000"
   ]
  },
  {
   "cell_type": "code",
   "execution_count": 5,
   "metadata": {},
   "outputs": [],
   "source": [
    "# Custo de mão de obra de montagem por hora dos carros\n",
    "D_XTZ1 = 110\n",
    "D_XTZ2 = 110"
   ]
  },
  {
   "cell_type": "code",
   "execution_count": 6,
   "metadata": {},
   "outputs": [],
   "source": [
    "# Custo de mão de obra de teste por hora dos carros\n",
    "E_XTZ1 = 150\n",
    "E_XTZ2 = 150"
   ]
  },
  {
   "cell_type": "code",
   "execution_count": 7,
   "metadata": {},
   "outputs": [],
   "source": [
    "# Número máximo de horas de trabalho de montagem\n",
    "F = 5000"
   ]
  },
  {
   "cell_type": "code",
   "execution_count": 8,
   "metadata": {},
   "outputs": [],
   "source": [
    "# Número máximo de horas de trabalho de teste\n",
    "G = 3000"
   ]
  },
  {
   "cell_type": "code",
   "execution_count": 9,
   "metadata": {},
   "outputs": [],
   "source": [
    "# Horas de montagem necessárias para construir cada modelo de carro\n",
    "Hfi_XTZ1 = 12\n",
    "Hfi_XTZ2 = 14"
   ]
  },
  {
   "cell_type": "code",
   "execution_count": 10,
   "metadata": {},
   "outputs": [],
   "source": [
    "# Horas de teste necessárias para testar cada modelo de carro\n",
    "Hgi_XTZ1 = 1\n",
    "Hgi_XTZ2 = 2"
   ]
  },
  {
   "cell_type": "markdown",
   "metadata": {},
   "source": [
    "**A organização dos parâmetros é o processo onde colocamos todas as informações numéricas da empresa em variáveis para chegar no objetivo desejado**"
   ]
  },
  {
   "cell_type": "markdown",
   "metadata": {},
   "source": [
    "### Criação da Variável Para o Problema de Otimização"
   ]
  },
  {
   "cell_type": "code",
   "execution_count": 11,
   "metadata": {},
   "outputs": [],
   "source": [
    "# Criando a variável para o problema\n",
    "problema = LpProblem(\"MixCarros\", LpMaximize)"
   ]
  },
  {
   "cell_type": "code",
   "execution_count": 12,
   "metadata": {},
   "outputs": [
    {
     "data": {
      "text/plain": [
       "MixCarros:\n",
       "MAXIMIZE\n",
       "None\n",
       "VARIABLES"
      ]
     },
     "execution_count": 12,
     "metadata": {},
     "output_type": "execute_result"
    }
   ],
   "source": [
    "# Visualiza\n",
    "problema"
   ]
  },
  {
   "cell_type": "markdown",
   "metadata": {},
   "source": [
    "### Definindo a Variável de Decisão para Cada Modelo dos Carros"
   ]
  },
  {
   "cell_type": "code",
   "execution_count": 13,
   "metadata": {},
   "outputs": [],
   "source": [
    "# Define as variáveis\n",
    "x_XTZ1 = LpVariable(\"Unidades XTZ1\", 0, None, LpInteger)\n",
    "x_XTZ2 = LpVariable(\"Unidades XTZ2\", 0, None, LpInteger)"
   ]
  },
  {
   "cell_type": "code",
   "execution_count": 14,
   "metadata": {},
   "outputs": [
    {
     "name": "stdout",
     "output_type": "stream",
     "text": [
      "Unidades_XTZ1\n",
      "Unidades_XTZ2\n"
     ]
    }
   ],
   "source": [
    "# Print\n",
    "print(x_XTZ1)\n",
    "print(x_XTZ2)"
   ]
  },
  {
   "cell_type": "markdown",
   "metadata": {},
   "source": [
    "**Definimos que cada modelo de carro pode ter de 0 carros fabricados no mês até o número definido nos parâmetros acima**"
   ]
  },
  {
   "cell_type": "markdown",
   "metadata": {},
   "source": [
    "### Implementando a Função Objetivo"
   ]
  },
  {
   "cell_type": "markdown",
   "metadata": {},
   "source": [
    "![title](imagens/formula.png)"
   ]
  },
  {
   "cell_type": "markdown",
   "metadata": {},
   "source": [
    "## Replicando a formula acima:"
   ]
  },
  {
   "cell_type": "code",
   "execution_count": 15,
   "metadata": {},
   "outputs": [
    {
     "data": {
      "text/plain": [
       "300000*Unidades_XTZ1 + 370000*Unidades_XTZ2 + 0"
      ]
     },
     "execution_count": 15,
     "metadata": {},
     "output_type": "execute_result"
    }
   ],
   "source": [
    "# Faturamento\n",
    "faturamento = (x_XTZ1 * B_XTZ1) + (x_XTZ2 * B_XTZ2)\n",
    "faturamento"
   ]
  },
  {
   "cell_type": "markdown",
   "metadata": {},
   "source": [
    "**Variáveis usadas:**\n",
    "\n",
    "- **x_XTZ1 e x_XTZ2:** Quantidade de carros a serem fabricados\n",
    "\n",
    "\n",
    "\n",
    "- **B_XTZ1 e B_XTZ2:** Preço de venda dos Carros "
   ]
  },
  {
   "cell_type": "code",
   "execution_count": 16,
   "metadata": {},
   "outputs": [
    {
     "data": {
      "text/plain": [
       "1320*Unidades_XTZ1 + 1540*Unidades_XTZ2 + 0"
      ]
     },
     "execution_count": 16,
     "metadata": {},
     "output_type": "execute_result"
    }
   ],
   "source": [
    "# Custo de Montagem\n",
    "custo_montagem = (x_XTZ1 * Hfi_XTZ1 * D_XTZ1) + (x_XTZ2 * Hfi_XTZ2 * D_XTZ2)\n",
    "custo_montagem"
   ]
  },
  {
   "cell_type": "markdown",
   "metadata": {},
   "source": [
    "**Variáveis usadas:**\n",
    "\n",
    "- **x_XTZ1 e x_XTZ2:** Quantidade de carros a serem fabricados\n",
    "\n",
    "\n",
    "\n",
    "- **Hfi_XTZ1 e Hfi_XTZ2:** Horas de montagem necessárias para construir cada modelo de carro\n",
    "\n",
    "\n",
    "\n",
    "- **D_XTZ1 e D_XTZ2:** Custo de mão de obra de montagem por hora dos carros"
   ]
  },
  {
   "cell_type": "code",
   "execution_count": 17,
   "metadata": {},
   "outputs": [
    {
     "data": {
      "text/plain": [
       "150*Unidades_XTZ1 + 300*Unidades_XTZ2 + 0"
      ]
     },
     "execution_count": 17,
     "metadata": {},
     "output_type": "execute_result"
    }
   ],
   "source": [
    "# Custo de Teste\n",
    "custo_teste = (x_XTZ1 * Hgi_XTZ1 * E_XTZ1) + (x_XTZ2 * Hgi_XTZ2 * E_XTZ2)\n",
    "custo_teste"
   ]
  },
  {
   "cell_type": "markdown",
   "metadata": {},
   "source": [
    "**Variáveis usadas:**\n",
    "\n",
    "- **x_XTZ1 e x_XTZ2:** Quantidade de carros a serem fabricados\n",
    "\n",
    "\n",
    "\n",
    "- **Hgi_XTZ1 e Hgi_XTZ2:** Horas de teste necessárias para testar cada modelo de carro\n",
    "\n",
    "\n",
    "\n",
    "- **E_XTZ1 e E_XTZ2:** Custo de mão de obra de teste por hora dos carros"
   ]
  },
  {
   "cell_type": "code",
   "execution_count": 18,
   "metadata": {},
   "outputs": [
    {
     "data": {
      "text/plain": [
       "150000*Unidades_XTZ1 + 185000*Unidades_XTZ2 + 0"
      ]
     },
     "execution_count": 18,
     "metadata": {},
     "output_type": "execute_result"
    }
   ],
   "source": [
    "# Custo de Componentes\n",
    "custo_componentes = (x_XTZ1 * C_XTZ1) + (x_XTZ2 * C_XTZ2) \n",
    "custo_componentes"
   ]
  },
  {
   "cell_type": "markdown",
   "metadata": {},
   "source": [
    "**Variáveis usadas:**\n",
    "\n",
    "- **x_XTZ1 e x_XTZ2:** Quantidade de carros a serem fabricados\n",
    "\n",
    "\n",
    "\n",
    "- **C_XTZ1 e C_XTZ2:** Preço de custo das peças componentes para os carros "
   ]
  },
  {
   "cell_type": "code",
   "execution_count": 19,
   "metadata": {},
   "outputs": [
    {
     "data": {
      "text/plain": [
       "MixCarros:\n",
       "MAXIMIZE\n",
       "148530*Unidades_XTZ1 + 183160*Unidades_XTZ2 + 0\n",
       "VARIABLES\n",
       "0 <= Unidades_XTZ1 Integer\n",
       "0 <= Unidades_XTZ2 Integer"
      ]
     },
     "execution_count": 19,
     "metadata": {},
     "output_type": "execute_result"
    }
   ],
   "source": [
    "# Lucro = Faturamento - Custo de Montagem - Custo de Teste - Custo de Componentes\n",
    "problema += faturamento - custo_montagem - custo_teste - custo_componentes\n",
    "problema"
   ]
  },
  {
   "cell_type": "markdown",
   "metadata": {},
   "source": [
    "**Formula para encontra o lucro**"
   ]
  },
  {
   "cell_type": "markdown",
   "metadata": {},
   "source": [
    "### Restrições"
   ]
  },
  {
   "cell_type": "code",
   "execution_count": 20,
   "metadata": {},
   "outputs": [],
   "source": [
    "# Número máximo de horas de montagem\n",
    "problema += (x_XTZ1 * Hfi_XTZ1) + (x_XTZ2 * Hfi_XTZ2) <= F,\"Número Máximo de Horas de Montagem\""
   ]
  },
  {
   "cell_type": "markdown",
   "metadata": {},
   "source": [
    "**Variáveis usadas:**\n",
    "\n",
    "- **x_XTZ1 e x_XTZ2:** Quantidade de carros a serem fabricados\n",
    "\n",
    "\n",
    "\n",
    "- **Hfi_XTZ1 e Hfi_XTZ2:** Horas de montagem necessárias para construir cada modelo de carro"
   ]
  },
  {
   "cell_type": "code",
   "execution_count": 21,
   "metadata": {},
   "outputs": [],
   "source": [
    "# Número máximo de horas de teste\n",
    "problema += (x_XTZ1 * Hgi_XTZ1) + (x_XTZ2 * Hgi_XTZ2) <= G,\"Número Máximo de Horas de Teste\""
   ]
  },
  {
   "cell_type": "markdown",
   "metadata": {},
   "source": [
    "**Variáveis usadas:**\n",
    "\n",
    "- **x_XTZ1 e x_XTZ2:** Quantidade de carros a serem fabricados\n",
    "\n",
    "\n",
    "\n",
    "\n",
    "- **Hgi_XTZ1 e Hgi_XTZ2:** Horas de teste necessárias para testar cada modelo de carro"
   ]
  },
  {
   "cell_type": "code",
   "execution_count": 22,
   "metadata": {},
   "outputs": [],
   "source": [
    "# Produção menor ou igual a demanda pelo modelo 1\n",
    "problema += x_XTZ1 <= A_XTZ1,\"Produção menor ou igual a demanda pelo modelo 1\""
   ]
  },
  {
   "cell_type": "markdown",
   "metadata": {},
   "source": [
    "**Variáveis usadas:**\n",
    "\n",
    "- **x_XTZ1:** Quantidade de carros a serem fabricados, modelo 1\n",
    "\n",
    "\n",
    "\n",
    "\n",
    "- **A_XTZ1:** Número máximo de Carros para vender este mês, modelo 1"
   ]
  },
  {
   "cell_type": "code",
   "execution_count": 23,
   "metadata": {},
   "outputs": [],
   "source": [
    "# Produção menor ou igual a demanda pelo modelo 2\n",
    "problema += x_XTZ2 <= A_XTZ2,\"Produção menor ou igual a demanda pelo modelo 2\""
   ]
  },
  {
   "cell_type": "markdown",
   "metadata": {},
   "source": [
    "**Variáveis usadas:**\n",
    "\n",
    "- **x_XTZ2:** Quantidade de carros a serem fabricados, modelo 2\n",
    "\n",
    "\n",
    "\n",
    "\n",
    "- **A_XTZ2:** Número máximo de Carros para vender este mês, modelo 2"
   ]
  },
  {
   "cell_type": "code",
   "execution_count": 24,
   "metadata": {},
   "outputs": [
    {
     "data": {
      "text/plain": [
       "MixCarros:\n",
       "MAXIMIZE\n",
       "148530*Unidades_XTZ1 + 183160*Unidades_XTZ2 + 0\n",
       "SUBJECT TO\n",
       "Número_Máximo_de_Horas_de_Montagem: 12 Unidades_XTZ1 + 14 Unidades_XTZ2\n",
       " <= 5000\n",
       "\n",
       "Número_Máximo_de_Horas_de_Teste: Unidades_XTZ1 + 2 Unidades_XTZ2 <= 3000\n",
       "\n",
       "Produção_menor_ou_igual_a_demanda_pelo_modelo_1: Unidades_XTZ1 <= 300\n",
       "\n",
       "Produção_menor_ou_igual_a_demanda_pelo_modelo_2: Unidades_XTZ2 <= 150\n",
       "\n",
       "VARIABLES\n",
       "0 <= Unidades_XTZ1 Integer\n",
       "0 <= Unidades_XTZ2 Integer"
      ]
     },
     "execution_count": 24,
     "metadata": {},
     "output_type": "execute_result"
    }
   ],
   "source": [
    "# Problema final\n",
    "problema"
   ]
  },
  {
   "cell_type": "markdown",
   "metadata": {},
   "source": [
    "**Todo o modelo de otimização está dentro da variável 'problema'**"
   ]
  },
  {
   "cell_type": "markdown",
   "metadata": {},
   "source": [
    "### Resolvendo o Problema de Otimização"
   ]
  },
  {
   "cell_type": "code",
   "execution_count": 25,
   "metadata": {},
   "outputs": [
    {
     "data": {
      "text/plain": [
       "1"
      ]
     },
     "execution_count": 25,
     "metadata": {},
     "output_type": "execute_result"
    }
   ],
   "source": [
    "# Otimização\n",
    "problema.solve()"
   ]
  },
  {
   "cell_type": "code",
   "execution_count": 26,
   "metadata": {},
   "outputs": [
    {
     "name": "stdout",
     "output_type": "stream",
     "text": [
      "Lucro Maximizado: 63349000.0\n"
     ]
    }
   ],
   "source": [
    "# Lucro Maximizado\n",
    "print(\"Lucro Maximizado:\", value(problema.objective))"
   ]
  },
  {
   "cell_type": "code",
   "execution_count": 27,
   "metadata": {},
   "outputs": [
    {
     "name": "stdout",
     "output_type": "stream",
     "text": [
      "Número de Unidades do Modelo XTZ1 a Produzir: 244.0\n"
     ]
    }
   ],
   "source": [
    "# Número de Unidades do Modelo XTZ1 a Produzir\n",
    "print(\"Número de Unidades do Modelo XTZ1 a Produzir:\", problema.variables()[0].varValue)"
   ]
  },
  {
   "cell_type": "code",
   "execution_count": 28,
   "metadata": {},
   "outputs": [
    {
     "name": "stdout",
     "output_type": "stream",
     "text": [
      "Número de Unidades do Modelo XTZ2 a Produzir: 148.0\n"
     ]
    }
   ],
   "source": [
    "# Número de Unidades do Modelo XTZ2 a Produzir\n",
    "print(\"Número de Unidades do Modelo XTZ2 a Produzir:\", problema.variables()[1].varValue)"
   ]
  },
  {
   "cell_type": "markdown",
   "metadata": {},
   "source": [
    "**A empresa deve produzir 244 unidades de carros do tipo XTZ1 e 148 unidades do tipo XTZ2 para atingir o lucro máximo de R$63.349.000.00**"
   ]
  },
  {
   "cell_type": "markdown",
   "metadata": {},
   "source": [
    "##  Conclusão"
   ]
  },
  {
   "cell_type": "markdown",
   "metadata": {},
   "source": [
    "**Nem todo processo de um cientista de dados vai precisar de uma tabela ou do uso de machine learning para conclusão do projeto, o objetivo é sempre resolver problemas de negócio e esse é mais um caso onde foi resolvido o problema, porém usando outras ferramentas**"
   ]
  }
 ],
 "metadata": {
  "kernelspec": {
   "display_name": "Python 3 (ipykernel)",
   "language": "python",
   "name": "python3"
  },
  "language_info": {
   "codemirror_mode": {
    "name": "ipython",
    "version": 3
   },
   "file_extension": ".py",
   "mimetype": "text/x-python",
   "name": "python",
   "nbconvert_exporter": "python",
   "pygments_lexer": "ipython3",
   "version": "3.9.12"
  }
 },
 "nbformat": 4,
 "nbformat_minor": 2
}
