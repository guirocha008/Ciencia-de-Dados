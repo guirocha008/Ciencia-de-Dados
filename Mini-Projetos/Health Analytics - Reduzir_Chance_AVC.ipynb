{
 "cells": [
  {
   "cell_type": "markdown",
   "metadata": {},
   "source": [
    "# $$Health ~Analytics: Acidente~Vascular~ Cerebral(AVC)$$"
   ]
  },
  {
   "cell_type": "markdown",
   "metadata": {},
   "source": [
    "**Health Analytics** é a coleta e tratamento de dados gerados por pacientes, hospitais e órgãos públicos de saúde, a partir do momento em que esses dados são analisados, permitem que insights sejam gerados por cientistas de dados, analistas, matemáticos e profissionais especializados. Esses insights auxiliam empresas, corretoras e operadoras de saúde a oferecer soluções sob medida, que evitam desperdícios de recursos e oferecem diferencial competitivo\n",
    "\n",
    "\n",
    "**O Acidente Vascular Cerebral(AVC)**, ou derrame cerebral, ocorre quando há um entupimento ou o rompimento dos vasos que levam sangue ao cérebro provocando a paralisia da área cerebral que ficou sem circulação sanguínea adequada."
   ]
  },
  {
   "cell_type": "markdown",
   "metadata": {},
   "source": [
    "__------------------------------------------------------------------------------------------------------------------------------------------------------------------------------------------------------------------__\n",
    "\n",
    "\n",
    "__------------------------------------------------------------------------------------------------------------------------------------------------------------------------------------------------------------------__"
   ]
  },
  {
   "cell_type": "markdown",
   "metadata": {},
   "source": [
    "## $$Objetivo:$$  \n",
    "\n",
    "## $$Verificar~as~variáveis~mais~relevantes~para~uma~pessoa~reduzir~a~chance~de~sofre~AVC$$"
   ]
  },
  {
   "cell_type": "code",
   "execution_count": 3,
   "metadata": {},
   "outputs": [],
   "source": [
    "#Carregar os pacotes\n",
    "import numpy as np\n",
    "import pandas as pd\n",
    "import seaborn as sns \n",
    "import matplotlib.pyplot as plt\n",
    "from imblearn.over_sampling import SMOTE"
   ]
  },
  {
   "cell_type": "markdown",
   "metadata": {},
   "source": [
    "# Base de Dados "
   ]
  },
  {
   "cell_type": "code",
   "execution_count": 4,
   "metadata": {},
   "outputs": [
    {
     "data": {
      "text/html": [
       "<div>\n",
       "<style scoped>\n",
       "    .dataframe tbody tr th:only-of-type {\n",
       "        vertical-align: middle;\n",
       "    }\n",
       "\n",
       "    .dataframe tbody tr th {\n",
       "        vertical-align: top;\n",
       "    }\n",
       "\n",
       "    .dataframe thead th {\n",
       "        text-align: right;\n",
       "    }\n",
       "</style>\n",
       "<table border=\"1\" class=\"dataframe\">\n",
       "  <thead>\n",
       "    <tr style=\"text-align: right;\">\n",
       "      <th></th>\n",
       "      <th>id</th>\n",
       "      <th>gender</th>\n",
       "      <th>age</th>\n",
       "      <th>hypertension</th>\n",
       "      <th>heart_disease</th>\n",
       "      <th>ever_married</th>\n",
       "      <th>work_type</th>\n",
       "      <th>Residence_type</th>\n",
       "      <th>avg_glucose_level</th>\n",
       "      <th>bmi</th>\n",
       "      <th>smoking_status</th>\n",
       "      <th>stroke</th>\n",
       "    </tr>\n",
       "  </thead>\n",
       "  <tbody>\n",
       "    <tr>\n",
       "      <th>0</th>\n",
       "      <td>9046</td>\n",
       "      <td>Male</td>\n",
       "      <td>67.0</td>\n",
       "      <td>0</td>\n",
       "      <td>1</td>\n",
       "      <td>Yes</td>\n",
       "      <td>Private</td>\n",
       "      <td>Urban</td>\n",
       "      <td>228.69</td>\n",
       "      <td>36.6</td>\n",
       "      <td>formerly smoked</td>\n",
       "      <td>1</td>\n",
       "    </tr>\n",
       "    <tr>\n",
       "      <th>1</th>\n",
       "      <td>51676</td>\n",
       "      <td>Female</td>\n",
       "      <td>61.0</td>\n",
       "      <td>0</td>\n",
       "      <td>0</td>\n",
       "      <td>Yes</td>\n",
       "      <td>Self-employed</td>\n",
       "      <td>Rural</td>\n",
       "      <td>202.21</td>\n",
       "      <td>NaN</td>\n",
       "      <td>never smoked</td>\n",
       "      <td>1</td>\n",
       "    </tr>\n",
       "    <tr>\n",
       "      <th>2</th>\n",
       "      <td>31112</td>\n",
       "      <td>Male</td>\n",
       "      <td>80.0</td>\n",
       "      <td>0</td>\n",
       "      <td>1</td>\n",
       "      <td>Yes</td>\n",
       "      <td>Private</td>\n",
       "      <td>Rural</td>\n",
       "      <td>105.92</td>\n",
       "      <td>32.5</td>\n",
       "      <td>never smoked</td>\n",
       "      <td>1</td>\n",
       "    </tr>\n",
       "    <tr>\n",
       "      <th>3</th>\n",
       "      <td>60182</td>\n",
       "      <td>Female</td>\n",
       "      <td>49.0</td>\n",
       "      <td>0</td>\n",
       "      <td>0</td>\n",
       "      <td>Yes</td>\n",
       "      <td>Private</td>\n",
       "      <td>Urban</td>\n",
       "      <td>171.23</td>\n",
       "      <td>34.4</td>\n",
       "      <td>smokes</td>\n",
       "      <td>1</td>\n",
       "    </tr>\n",
       "    <tr>\n",
       "      <th>4</th>\n",
       "      <td>1665</td>\n",
       "      <td>Female</td>\n",
       "      <td>79.0</td>\n",
       "      <td>1</td>\n",
       "      <td>0</td>\n",
       "      <td>Yes</td>\n",
       "      <td>Self-employed</td>\n",
       "      <td>Rural</td>\n",
       "      <td>174.12</td>\n",
       "      <td>24.0</td>\n",
       "      <td>never smoked</td>\n",
       "      <td>1</td>\n",
       "    </tr>\n",
       "    <tr>\n",
       "      <th>...</th>\n",
       "      <td>...</td>\n",
       "      <td>...</td>\n",
       "      <td>...</td>\n",
       "      <td>...</td>\n",
       "      <td>...</td>\n",
       "      <td>...</td>\n",
       "      <td>...</td>\n",
       "      <td>...</td>\n",
       "      <td>...</td>\n",
       "      <td>...</td>\n",
       "      <td>...</td>\n",
       "      <td>...</td>\n",
       "    </tr>\n",
       "    <tr>\n",
       "      <th>5105</th>\n",
       "      <td>18234</td>\n",
       "      <td>Female</td>\n",
       "      <td>80.0</td>\n",
       "      <td>1</td>\n",
       "      <td>0</td>\n",
       "      <td>Yes</td>\n",
       "      <td>Private</td>\n",
       "      <td>Urban</td>\n",
       "      <td>83.75</td>\n",
       "      <td>NaN</td>\n",
       "      <td>never smoked</td>\n",
       "      <td>0</td>\n",
       "    </tr>\n",
       "    <tr>\n",
       "      <th>5106</th>\n",
       "      <td>44873</td>\n",
       "      <td>Female</td>\n",
       "      <td>81.0</td>\n",
       "      <td>0</td>\n",
       "      <td>0</td>\n",
       "      <td>Yes</td>\n",
       "      <td>Self-employed</td>\n",
       "      <td>Urban</td>\n",
       "      <td>125.20</td>\n",
       "      <td>40.0</td>\n",
       "      <td>never smoked</td>\n",
       "      <td>0</td>\n",
       "    </tr>\n",
       "    <tr>\n",
       "      <th>5107</th>\n",
       "      <td>19723</td>\n",
       "      <td>Female</td>\n",
       "      <td>35.0</td>\n",
       "      <td>0</td>\n",
       "      <td>0</td>\n",
       "      <td>Yes</td>\n",
       "      <td>Self-employed</td>\n",
       "      <td>Rural</td>\n",
       "      <td>82.99</td>\n",
       "      <td>30.6</td>\n",
       "      <td>never smoked</td>\n",
       "      <td>0</td>\n",
       "    </tr>\n",
       "    <tr>\n",
       "      <th>5108</th>\n",
       "      <td>37544</td>\n",
       "      <td>Male</td>\n",
       "      <td>51.0</td>\n",
       "      <td>0</td>\n",
       "      <td>0</td>\n",
       "      <td>Yes</td>\n",
       "      <td>Private</td>\n",
       "      <td>Rural</td>\n",
       "      <td>166.29</td>\n",
       "      <td>25.6</td>\n",
       "      <td>formerly smoked</td>\n",
       "      <td>0</td>\n",
       "    </tr>\n",
       "    <tr>\n",
       "      <th>5109</th>\n",
       "      <td>44679</td>\n",
       "      <td>Female</td>\n",
       "      <td>44.0</td>\n",
       "      <td>0</td>\n",
       "      <td>0</td>\n",
       "      <td>Yes</td>\n",
       "      <td>Govt_job</td>\n",
       "      <td>Urban</td>\n",
       "      <td>85.28</td>\n",
       "      <td>26.2</td>\n",
       "      <td>Unknown</td>\n",
       "      <td>0</td>\n",
       "    </tr>\n",
       "  </tbody>\n",
       "</table>\n",
       "<p>5110 rows × 12 columns</p>\n",
       "</div>"
      ],
      "text/plain": [
       "         id  gender   age  hypertension  heart_disease ever_married  \\\n",
       "0      9046    Male  67.0             0              1          Yes   \n",
       "1     51676  Female  61.0             0              0          Yes   \n",
       "2     31112    Male  80.0             0              1          Yes   \n",
       "3     60182  Female  49.0             0              0          Yes   \n",
       "4      1665  Female  79.0             1              0          Yes   \n",
       "...     ...     ...   ...           ...            ...          ...   \n",
       "5105  18234  Female  80.0             1              0          Yes   \n",
       "5106  44873  Female  81.0             0              0          Yes   \n",
       "5107  19723  Female  35.0             0              0          Yes   \n",
       "5108  37544    Male  51.0             0              0          Yes   \n",
       "5109  44679  Female  44.0             0              0          Yes   \n",
       "\n",
       "          work_type Residence_type  avg_glucose_level   bmi   smoking_status  \\\n",
       "0           Private          Urban             228.69  36.6  formerly smoked   \n",
       "1     Self-employed          Rural             202.21   NaN     never smoked   \n",
       "2           Private          Rural             105.92  32.5     never smoked   \n",
       "3           Private          Urban             171.23  34.4           smokes   \n",
       "4     Self-employed          Rural             174.12  24.0     never smoked   \n",
       "...             ...            ...                ...   ...              ...   \n",
       "5105        Private          Urban              83.75   NaN     never smoked   \n",
       "5106  Self-employed          Urban             125.20  40.0     never smoked   \n",
       "5107  Self-employed          Rural              82.99  30.6     never smoked   \n",
       "5108        Private          Rural             166.29  25.6  formerly smoked   \n",
       "5109       Govt_job          Urban              85.28  26.2          Unknown   \n",
       "\n",
       "      stroke  \n",
       "0          1  \n",
       "1          1  \n",
       "2          1  \n",
       "3          1  \n",
       "4          1  \n",
       "...      ...  \n",
       "5105       0  \n",
       "5106       0  \n",
       "5107       0  \n",
       "5108       0  \n",
       "5109       0  \n",
       "\n",
       "[5110 rows x 12 columns]"
      ]
     },
     "execution_count": 4,
     "metadata": {},
     "output_type": "execute_result"
    }
   ],
   "source": [
    "# Carrega o dataset\n",
    "dados = pd.read_csv(\"Stroke.csv\",sep=',')\n",
    "dados"
   ]
  },
  {
   "cell_type": "markdown",
   "metadata": {},
   "source": [
    "**Dataset contém 5.110 registros e 12 variáveis.**"
   ]
  },
  {
   "cell_type": "markdown",
   "metadata": {},
   "source": [
    "# Dicionário de Dados\n",
    "\n"
   ]
  },
  {
   "cell_type": "markdown",
   "metadata": {},
   "source": [
    "### $$Variáveis:$$\n",
    "\n",
    "- **id:** Código de identificação de cada paciente.\n",
    "\n",
    "\n",
    "- **gender:** O gênero do paciente, podendo assumir 3 valores: Masculino, Feminino e Outros\n",
    "    \n",
    "    \n",
    "- **age:** Idade do Paciente\n",
    "\n",
    "\n",
    "- **hypertension:** Dados binários indicando a presença ou não de hipertensão.\n",
    "    \n",
    "    \n",
    "- **heart_disease:** Dados binários indicando a presença ou não de doenças do coração\n",
    "\n",
    "\n",
    "- **ever_married:** Dados binários indicando se o paciente já foi casado em algum momento da vida. \n",
    "\n",
    "\n",
    "- **work_type:** Tipo de trabalho realizado pelo paciente.\n",
    "\n",
    "\n",
    "- **Residence_type:** Dados binário indicando se o paciente mora em residência rural ou urbana\n",
    "\n",
    "\n",
    "- **avg_glucose_level:** Nível de glicose média no sangue.\n",
    "\n",
    "\n",
    "- **bmi:** Índice de massa corporal (IMC)\n",
    "\n",
    "\n",
    "- **smoking_status:** 4 categorias que classifica os pacientes em relação ao fumo\n",
    "\n",
    "\n",
    "- **stroke:** Informa se o participante já teve ou não AVC.\n",
    "\n"
   ]
  },
  {
   "cell_type": "markdown",
   "metadata": {},
   "source": [
    "# Análise Exploratória"
   ]
  },
  {
   "cell_type": "code",
   "execution_count": 5,
   "metadata": {},
   "outputs": [],
   "source": [
    "#Vamos excluir a variável ID pois ela é inrrelavante para nosso objetivo\n",
    "dados = dados.drop('id',axis=1)\n"
   ]
  },
  {
   "cell_type": "code",
   "execution_count": 6,
   "metadata": {},
   "outputs": [
    {
     "data": {
      "text/plain": [
       "gender                object\n",
       "age                  float64\n",
       "hypertension           int64\n",
       "heart_disease          int64\n",
       "ever_married          object\n",
       "work_type             object\n",
       "Residence_type        object\n",
       "avg_glucose_level    float64\n",
       "bmi                  float64\n",
       "smoking_status        object\n",
       "stroke                 int64\n",
       "dtype: object"
      ]
     },
     "execution_count": 6,
     "metadata": {},
     "output_type": "execute_result"
    }
   ],
   "source": [
    "# Tipos de dados das colunas\n",
    "dados.dtypes"
   ]
  },
  {
   "cell_type": "markdown",
   "metadata": {},
   "source": [
    "**Temos que transformar os dados de acordo com as características de cada variável**"
   ]
  },
  {
   "cell_type": "code",
   "execution_count": 7,
   "metadata": {},
   "outputs": [
    {
     "data": {
      "text/plain": [
       "gender                 0\n",
       "age                    0\n",
       "hypertension           0\n",
       "heart_disease          0\n",
       "ever_married           0\n",
       "work_type              0\n",
       "Residence_type         0\n",
       "avg_glucose_level      0\n",
       "bmi                  201\n",
       "smoking_status         0\n",
       "stroke                 0\n",
       "dtype: int64"
      ]
     },
     "execution_count": 7,
     "metadata": {},
     "output_type": "execute_result"
    }
   ],
   "source": [
    "# Verificar se existe valores nulos\n",
    "dados.isnull().sum()"
   ]
  },
  {
   "cell_type": "markdown",
   "metadata": {},
   "source": [
    "**A coluna 'bmi' possui 201 dados incompletos, após a análise exploratória vamos verificar se essa variável é relevante para o modelo, caso seja, vamos ter que excluir os dados faltantes**"
   ]
  },
  {
   "cell_type": "code",
   "execution_count": 8,
   "metadata": {},
   "outputs": [
    {
     "data": {
      "text/plain": [
       "0"
      ]
     },
     "execution_count": 8,
     "metadata": {},
     "output_type": "execute_result"
    }
   ],
   "source": [
    "#Verificar se existe dados duplicados\n",
    "sum(dados.duplicated())"
   ]
  },
  {
   "cell_type": "code",
   "execution_count": 9,
   "metadata": {},
   "outputs": [
    {
     "data": {
      "text/plain": [
       "gender                  3\n",
       "age                   104\n",
       "hypertension            2\n",
       "heart_disease           2\n",
       "ever_married            2\n",
       "work_type               5\n",
       "Residence_type          2\n",
       "avg_glucose_level    3979\n",
       "bmi                   418\n",
       "smoking_status          4\n",
       "stroke                  2\n",
       "dtype: int64"
      ]
     },
     "execution_count": 9,
     "metadata": {},
     "output_type": "execute_result"
    }
   ],
   "source": [
    "# Verifica o total de valores únicos por coluna\n",
    "dados.nunique()"
   ]
  },
  {
   "cell_type": "markdown",
   "metadata": {},
   "source": [
    "**Analisandos os valores únicos, pela quantidade de classes, podemos concluir que temos 3 variáveis numéricas ('age','avg_glucose_level','bmi'), e 8 variáveis categóricas**"
   ]
  },
  {
   "cell_type": "code",
   "execution_count": 10,
   "metadata": {},
   "outputs": [
    {
     "data": {
      "text/html": [
       "<div>\n",
       "<style scoped>\n",
       "    .dataframe tbody tr th:only-of-type {\n",
       "        vertical-align: middle;\n",
       "    }\n",
       "\n",
       "    .dataframe tbody tr th {\n",
       "        vertical-align: top;\n",
       "    }\n",
       "\n",
       "    .dataframe thead th {\n",
       "        text-align: right;\n",
       "    }\n",
       "</style>\n",
       "<table border=\"1\" class=\"dataframe\">\n",
       "  <thead>\n",
       "    <tr style=\"text-align: right;\">\n",
       "      <th></th>\n",
       "      <th>age</th>\n",
       "      <th>avg_glucose_level</th>\n",
       "      <th>bmi</th>\n",
       "      <th>stroke</th>\n",
       "      <th>gender_Female</th>\n",
       "      <th>gender_Male</th>\n",
       "      <th>gender_Other</th>\n",
       "      <th>hypertension_0</th>\n",
       "      <th>hypertension_1</th>\n",
       "      <th>heart_disease_0</th>\n",
       "      <th>...</th>\n",
       "      <th>work_type_Never_worked</th>\n",
       "      <th>work_type_Private</th>\n",
       "      <th>work_type_Self-employed</th>\n",
       "      <th>work_type_children</th>\n",
       "      <th>Residence_type_Rural</th>\n",
       "      <th>Residence_type_Urban</th>\n",
       "      <th>smoking_status_Unknown</th>\n",
       "      <th>smoking_status_formerly smoked</th>\n",
       "      <th>smoking_status_never smoked</th>\n",
       "      <th>smoking_status_smokes</th>\n",
       "    </tr>\n",
       "  </thead>\n",
       "  <tbody>\n",
       "    <tr>\n",
       "      <th>0</th>\n",
       "      <td>67.0</td>\n",
       "      <td>228.69</td>\n",
       "      <td>36.6</td>\n",
       "      <td>1</td>\n",
       "      <td>0</td>\n",
       "      <td>1</td>\n",
       "      <td>0</td>\n",
       "      <td>1</td>\n",
       "      <td>0</td>\n",
       "      <td>0</td>\n",
       "      <td>...</td>\n",
       "      <td>0</td>\n",
       "      <td>1</td>\n",
       "      <td>0</td>\n",
       "      <td>0</td>\n",
       "      <td>0</td>\n",
       "      <td>1</td>\n",
       "      <td>0</td>\n",
       "      <td>1</td>\n",
       "      <td>0</td>\n",
       "      <td>0</td>\n",
       "    </tr>\n",
       "    <tr>\n",
       "      <th>1</th>\n",
       "      <td>61.0</td>\n",
       "      <td>202.21</td>\n",
       "      <td>NaN</td>\n",
       "      <td>1</td>\n",
       "      <td>1</td>\n",
       "      <td>0</td>\n",
       "      <td>0</td>\n",
       "      <td>1</td>\n",
       "      <td>0</td>\n",
       "      <td>1</td>\n",
       "      <td>...</td>\n",
       "      <td>0</td>\n",
       "      <td>0</td>\n",
       "      <td>1</td>\n",
       "      <td>0</td>\n",
       "      <td>1</td>\n",
       "      <td>0</td>\n",
       "      <td>0</td>\n",
       "      <td>0</td>\n",
       "      <td>1</td>\n",
       "      <td>0</td>\n",
       "    </tr>\n",
       "    <tr>\n",
       "      <th>2</th>\n",
       "      <td>80.0</td>\n",
       "      <td>105.92</td>\n",
       "      <td>32.5</td>\n",
       "      <td>1</td>\n",
       "      <td>0</td>\n",
       "      <td>1</td>\n",
       "      <td>0</td>\n",
       "      <td>1</td>\n",
       "      <td>0</td>\n",
       "      <td>0</td>\n",
       "      <td>...</td>\n",
       "      <td>0</td>\n",
       "      <td>1</td>\n",
       "      <td>0</td>\n",
       "      <td>0</td>\n",
       "      <td>1</td>\n",
       "      <td>0</td>\n",
       "      <td>0</td>\n",
       "      <td>0</td>\n",
       "      <td>1</td>\n",
       "      <td>0</td>\n",
       "    </tr>\n",
       "    <tr>\n",
       "      <th>3</th>\n",
       "      <td>49.0</td>\n",
       "      <td>171.23</td>\n",
       "      <td>34.4</td>\n",
       "      <td>1</td>\n",
       "      <td>1</td>\n",
       "      <td>0</td>\n",
       "      <td>0</td>\n",
       "      <td>1</td>\n",
       "      <td>0</td>\n",
       "      <td>1</td>\n",
       "      <td>...</td>\n",
       "      <td>0</td>\n",
       "      <td>1</td>\n",
       "      <td>0</td>\n",
       "      <td>0</td>\n",
       "      <td>0</td>\n",
       "      <td>1</td>\n",
       "      <td>0</td>\n",
       "      <td>0</td>\n",
       "      <td>0</td>\n",
       "      <td>1</td>\n",
       "    </tr>\n",
       "    <tr>\n",
       "      <th>4</th>\n",
       "      <td>79.0</td>\n",
       "      <td>174.12</td>\n",
       "      <td>24.0</td>\n",
       "      <td>1</td>\n",
       "      <td>1</td>\n",
       "      <td>0</td>\n",
       "      <td>0</td>\n",
       "      <td>0</td>\n",
       "      <td>1</td>\n",
       "      <td>1</td>\n",
       "      <td>...</td>\n",
       "      <td>0</td>\n",
       "      <td>0</td>\n",
       "      <td>1</td>\n",
       "      <td>0</td>\n",
       "      <td>1</td>\n",
       "      <td>0</td>\n",
       "      <td>0</td>\n",
       "      <td>0</td>\n",
       "      <td>1</td>\n",
       "      <td>0</td>\n",
       "    </tr>\n",
       "    <tr>\n",
       "      <th>...</th>\n",
       "      <td>...</td>\n",
       "      <td>...</td>\n",
       "      <td>...</td>\n",
       "      <td>...</td>\n",
       "      <td>...</td>\n",
       "      <td>...</td>\n",
       "      <td>...</td>\n",
       "      <td>...</td>\n",
       "      <td>...</td>\n",
       "      <td>...</td>\n",
       "      <td>...</td>\n",
       "      <td>...</td>\n",
       "      <td>...</td>\n",
       "      <td>...</td>\n",
       "      <td>...</td>\n",
       "      <td>...</td>\n",
       "      <td>...</td>\n",
       "      <td>...</td>\n",
       "      <td>...</td>\n",
       "      <td>...</td>\n",
       "      <td>...</td>\n",
       "    </tr>\n",
       "    <tr>\n",
       "      <th>5105</th>\n",
       "      <td>80.0</td>\n",
       "      <td>83.75</td>\n",
       "      <td>NaN</td>\n",
       "      <td>0</td>\n",
       "      <td>1</td>\n",
       "      <td>0</td>\n",
       "      <td>0</td>\n",
       "      <td>0</td>\n",
       "      <td>1</td>\n",
       "      <td>1</td>\n",
       "      <td>...</td>\n",
       "      <td>0</td>\n",
       "      <td>1</td>\n",
       "      <td>0</td>\n",
       "      <td>0</td>\n",
       "      <td>0</td>\n",
       "      <td>1</td>\n",
       "      <td>0</td>\n",
       "      <td>0</td>\n",
       "      <td>1</td>\n",
       "      <td>0</td>\n",
       "    </tr>\n",
       "    <tr>\n",
       "      <th>5106</th>\n",
       "      <td>81.0</td>\n",
       "      <td>125.20</td>\n",
       "      <td>40.0</td>\n",
       "      <td>0</td>\n",
       "      <td>1</td>\n",
       "      <td>0</td>\n",
       "      <td>0</td>\n",
       "      <td>1</td>\n",
       "      <td>0</td>\n",
       "      <td>1</td>\n",
       "      <td>...</td>\n",
       "      <td>0</td>\n",
       "      <td>0</td>\n",
       "      <td>1</td>\n",
       "      <td>0</td>\n",
       "      <td>0</td>\n",
       "      <td>1</td>\n",
       "      <td>0</td>\n",
       "      <td>0</td>\n",
       "      <td>1</td>\n",
       "      <td>0</td>\n",
       "    </tr>\n",
       "    <tr>\n",
       "      <th>5107</th>\n",
       "      <td>35.0</td>\n",
       "      <td>82.99</td>\n",
       "      <td>30.6</td>\n",
       "      <td>0</td>\n",
       "      <td>1</td>\n",
       "      <td>0</td>\n",
       "      <td>0</td>\n",
       "      <td>1</td>\n",
       "      <td>0</td>\n",
       "      <td>1</td>\n",
       "      <td>...</td>\n",
       "      <td>0</td>\n",
       "      <td>0</td>\n",
       "      <td>1</td>\n",
       "      <td>0</td>\n",
       "      <td>1</td>\n",
       "      <td>0</td>\n",
       "      <td>0</td>\n",
       "      <td>0</td>\n",
       "      <td>1</td>\n",
       "      <td>0</td>\n",
       "    </tr>\n",
       "    <tr>\n",
       "      <th>5108</th>\n",
       "      <td>51.0</td>\n",
       "      <td>166.29</td>\n",
       "      <td>25.6</td>\n",
       "      <td>0</td>\n",
       "      <td>0</td>\n",
       "      <td>1</td>\n",
       "      <td>0</td>\n",
       "      <td>1</td>\n",
       "      <td>0</td>\n",
       "      <td>1</td>\n",
       "      <td>...</td>\n",
       "      <td>0</td>\n",
       "      <td>1</td>\n",
       "      <td>0</td>\n",
       "      <td>0</td>\n",
       "      <td>1</td>\n",
       "      <td>0</td>\n",
       "      <td>0</td>\n",
       "      <td>1</td>\n",
       "      <td>0</td>\n",
       "      <td>0</td>\n",
       "    </tr>\n",
       "    <tr>\n",
       "      <th>5109</th>\n",
       "      <td>44.0</td>\n",
       "      <td>85.28</td>\n",
       "      <td>26.2</td>\n",
       "      <td>0</td>\n",
       "      <td>1</td>\n",
       "      <td>0</td>\n",
       "      <td>0</td>\n",
       "      <td>1</td>\n",
       "      <td>0</td>\n",
       "      <td>1</td>\n",
       "      <td>...</td>\n",
       "      <td>0</td>\n",
       "      <td>0</td>\n",
       "      <td>0</td>\n",
       "      <td>0</td>\n",
       "      <td>0</td>\n",
       "      <td>1</td>\n",
       "      <td>1</td>\n",
       "      <td>0</td>\n",
       "      <td>0</td>\n",
       "      <td>0</td>\n",
       "    </tr>\n",
       "  </tbody>\n",
       "</table>\n",
       "<p>5110 rows × 24 columns</p>\n",
       "</div>"
      ],
      "text/plain": [
       "       age  avg_glucose_level   bmi  stroke  gender_Female  gender_Male  \\\n",
       "0     67.0             228.69  36.6       1              0            1   \n",
       "1     61.0             202.21   NaN       1              1            0   \n",
       "2     80.0             105.92  32.5       1              0            1   \n",
       "3     49.0             171.23  34.4       1              1            0   \n",
       "4     79.0             174.12  24.0       1              1            0   \n",
       "...    ...                ...   ...     ...            ...          ...   \n",
       "5105  80.0              83.75   NaN       0              1            0   \n",
       "5106  81.0             125.20  40.0       0              1            0   \n",
       "5107  35.0              82.99  30.6       0              1            0   \n",
       "5108  51.0             166.29  25.6       0              0            1   \n",
       "5109  44.0              85.28  26.2       0              1            0   \n",
       "\n",
       "      gender_Other  hypertension_0  hypertension_1  heart_disease_0  ...  \\\n",
       "0                0               1               0                0  ...   \n",
       "1                0               1               0                1  ...   \n",
       "2                0               1               0                0  ...   \n",
       "3                0               1               0                1  ...   \n",
       "4                0               0               1                1  ...   \n",
       "...            ...             ...             ...              ...  ...   \n",
       "5105             0               0               1                1  ...   \n",
       "5106             0               1               0                1  ...   \n",
       "5107             0               1               0                1  ...   \n",
       "5108             0               1               0                1  ...   \n",
       "5109             0               1               0                1  ...   \n",
       "\n",
       "      work_type_Never_worked  work_type_Private  work_type_Self-employed  \\\n",
       "0                          0                  1                        0   \n",
       "1                          0                  0                        1   \n",
       "2                          0                  1                        0   \n",
       "3                          0                  1                        0   \n",
       "4                          0                  0                        1   \n",
       "...                      ...                ...                      ...   \n",
       "5105                       0                  1                        0   \n",
       "5106                       0                  0                        1   \n",
       "5107                       0                  0                        1   \n",
       "5108                       0                  1                        0   \n",
       "5109                       0                  0                        0   \n",
       "\n",
       "      work_type_children  Residence_type_Rural  Residence_type_Urban  \\\n",
       "0                      0                     0                     1   \n",
       "1                      0                     1                     0   \n",
       "2                      0                     1                     0   \n",
       "3                      0                     0                     1   \n",
       "4                      0                     1                     0   \n",
       "...                  ...                   ...                   ...   \n",
       "5105                   0                     0                     1   \n",
       "5106                   0                     0                     1   \n",
       "5107                   0                     1                     0   \n",
       "5108                   0                     1                     0   \n",
       "5109                   0                     0                     1   \n",
       "\n",
       "      smoking_status_Unknown  smoking_status_formerly smoked  \\\n",
       "0                          0                               1   \n",
       "1                          0                               0   \n",
       "2                          0                               0   \n",
       "3                          0                               0   \n",
       "4                          0                               0   \n",
       "...                      ...                             ...   \n",
       "5105                       0                               0   \n",
       "5106                       0                               0   \n",
       "5107                       0                               0   \n",
       "5108                       0                               1   \n",
       "5109                       1                               0   \n",
       "\n",
       "      smoking_status_never smoked  smoking_status_smokes  \n",
       "0                               0                      0  \n",
       "1                               1                      0  \n",
       "2                               1                      0  \n",
       "3                               0                      1  \n",
       "4                               1                      0  \n",
       "...                           ...                    ...  \n",
       "5105                            1                      0  \n",
       "5106                            1                      0  \n",
       "5107                            1                      0  \n",
       "5108                            0                      0  \n",
       "5109                            0                      0  \n",
       "\n",
       "[5110 rows x 24 columns]"
      ]
     },
     "execution_count": 10,
     "metadata": {},
     "output_type": "execute_result"
    }
   ],
   "source": [
    "#Transformações dos dados categoricos em dummys\n",
    "dados_transform = pd.get_dummies(dados,prefix=['gender'], columns = ['gender'])\n",
    "dados_transform = pd.get_dummies(dados_transform,prefix=['hypertension'], columns = ['hypertension'])\n",
    "dados_transform = pd.get_dummies(dados_transform,prefix=['heart_disease'], columns = ['heart_disease'])\n",
    "dados_transform = pd.get_dummies(dados_transform,prefix=['ever_married'], columns = ['ever_married'])\n",
    "dados_transform = pd.get_dummies(dados_transform,prefix=['work_type'], columns = ['work_type'])\n",
    "dados_transform = pd.get_dummies(dados_transform,prefix=['Residence_type'], columns = ['Residence_type'])\n",
    "dados_transform = pd.get_dummies(dados_transform,prefix=['smoking_status'], columns = ['smoking_status'])\n",
    "\n",
    "\n",
    "dados_transform"
   ]
  },
  {
   "cell_type": "markdown",
   "metadata": {},
   "source": [
    "**Transformamos as variáveis categóricas em dummys para não cometer ponderação arbitraria durante a modelagem dos dados**"
   ]
  },
  {
   "cell_type": "code",
   "execution_count": 11,
   "metadata": {},
   "outputs": [
    {
     "data": {
      "text/plain": [
       "age                               float64\n",
       "avg_glucose_level                 float64\n",
       "bmi                               float64\n",
       "stroke                              int64\n",
       "gender_Female                       uint8\n",
       "gender_Male                         uint8\n",
       "gender_Other                        uint8\n",
       "hypertension_0                      uint8\n",
       "hypertension_1                      uint8\n",
       "heart_disease_0                     uint8\n",
       "heart_disease_1                     uint8\n",
       "ever_married_No                     uint8\n",
       "ever_married_Yes                    uint8\n",
       "work_type_Govt_job                  uint8\n",
       "work_type_Never_worked              uint8\n",
       "work_type_Private                   uint8\n",
       "work_type_Self-employed             uint8\n",
       "work_type_children                  uint8\n",
       "Residence_type_Rural                uint8\n",
       "Residence_type_Urban                uint8\n",
       "smoking_status_Unknown              uint8\n",
       "smoking_status_formerly smoked      uint8\n",
       "smoking_status_never smoked         uint8\n",
       "smoking_status_smokes               uint8\n",
       "dtype: object"
      ]
     },
     "execution_count": 11,
     "metadata": {},
     "output_type": "execute_result"
    }
   ],
   "source": [
    "# Tipos de dados das colunas\n",
    "dados_transform.dtypes"
   ]
  },
  {
   "cell_type": "code",
   "execution_count": 12,
   "metadata": {},
   "outputs": [
    {
     "data": {
      "text/plain": [
       "(5110, 24)"
      ]
     },
     "execution_count": 12,
     "metadata": {},
     "output_type": "execute_result"
    }
   ],
   "source": [
    "#Shape \n",
    "dados_transform.shape"
   ]
  },
  {
   "cell_type": "markdown",
   "metadata": {},
   "source": [
    "**Observe que após a transformação dos dados passamos de 12 variáveis para 24**"
   ]
  },
  {
   "cell_type": "markdown",
   "metadata": {},
   "source": [
    "## Análise da variável Target:"
   ]
  },
  {
   "cell_type": "markdown",
   "metadata": {},
   "source": [
    "## **stroke**"
   ]
  },
  {
   "cell_type": "code",
   "execution_count": 13,
   "metadata": {},
   "outputs": [
    {
     "data": {
      "image/png": "[encoded data removed]",
      "text/plain": [
       "<Figure size 432x288 with 1 Axes>"
      ]
     },
     "metadata": {
      "needs_background": "light"
     },
     "output_type": "display_data"
    }
   ],
   "source": [
    "#Plot\n",
    "plt.hist(dados_transform.stroke);"
   ]
  },
  {
   "cell_type": "code",
   "execution_count": 14,
   "metadata": {},
   "outputs": [
    {
     "name": "stdout",
     "output_type": "stream",
     "text": [
      "Porcentagem de Paciente que já tiveram AVC: 4.87\n",
      "Porcentagem de Paciente que não tiveram AVC: 95.13\n"
     ]
    }
   ],
   "source": [
    "#Porcentagem dos dados \n",
    "a = len(dados_transform[dados_transform.stroke==0])\n",
    "b = len(dados_transform[dados_transform.stroke==1])\n",
    "total = len(dados_transform)\n",
    "\n",
    "print(f'Porcentagem de Paciente que já tiveram AVC: {round(b/total*100,2)}')\n",
    "print(f'Porcentagem de Paciente que não tiveram AVC: {round(a/total*100,2)}')"
   ]
  },
  {
   "cell_type": "markdown",
   "metadata": {},
   "source": [
    "**Temos um problema com a distribuições das classes, esse desbalanceamento faz com que não tenhamos tanta precisão nas previsões dos dados em uma das classes, vamos ter que usar a técnica de sub amostragem para equilibrar os dados**"
   ]
  },
  {
   "cell_type": "markdown",
   "metadata": {},
   "source": [
    "## Análise dos dados categóricos X Target"
   ]
  },
  {
   "cell_type": "markdown",
   "metadata": {},
   "source": [
    "**Vamos considerar como média as porcentagens nas análises de 95% para classe 0 e 5% para classe 1, acima de 5% da classe 1 é considerado significante para aumentar a chance do paciente contrair AVC**"
   ]
  },
  {
   "cell_type": "markdown",
   "metadata": {},
   "source": [
    "## gender"
   ]
  },
  {
   "cell_type": "code",
   "execution_count": 15,
   "metadata": {},
   "outputs": [
    {
     "data": {
      "text/html": [
       "<div>\n",
       "<style scoped>\n",
       "    .dataframe tbody tr th:only-of-type {\n",
       "        vertical-align: middle;\n",
       "    }\n",
       "\n",
       "    .dataframe tbody tr th {\n",
       "        vertical-align: top;\n",
       "    }\n",
       "\n",
       "    .dataframe thead th {\n",
       "        text-align: right;\n",
       "    }\n",
       "</style>\n",
       "<table border=\"1\" class=\"dataframe\">\n",
       "  <thead>\n",
       "    <tr style=\"text-align: right;\">\n",
       "      <th>gender</th>\n",
       "      <th>Female</th>\n",
       "      <th>Male</th>\n",
       "      <th>Other</th>\n",
       "    </tr>\n",
       "    <tr>\n",
       "      <th>stroke</th>\n",
       "      <th></th>\n",
       "      <th></th>\n",
       "      <th></th>\n",
       "    </tr>\n",
       "  </thead>\n",
       "  <tbody>\n",
       "    <tr>\n",
       "      <th>0</th>\n",
       "      <td>2853</td>\n",
       "      <td>2007</td>\n",
       "      <td>1</td>\n",
       "    </tr>\n",
       "    <tr>\n",
       "      <th>1</th>\n",
       "      <td>141</td>\n",
       "      <td>108</td>\n",
       "      <td>0</td>\n",
       "    </tr>\n",
       "  </tbody>\n",
       "</table>\n",
       "</div>"
      ],
      "text/plain": [
       "gender  Female  Male  Other\n",
       "stroke                     \n",
       "0         2853  2007      1\n",
       "1          141   108      0"
      ]
     },
     "execution_count": 15,
     "metadata": {},
     "output_type": "execute_result"
    }
   ],
   "source": [
    "#Porcentagem das categorias em relação a variável Target\n",
    "pd.crosstab(dados.stroke,dados.gender)"
   ]
  },
  {
   "cell_type": "markdown",
   "metadata": {},
   "source": [
    "**Temos apenas 1 dados da classe 'Other', vamos excluir esse dado**"
   ]
  },
  {
   "cell_type": "code",
   "execution_count": 16,
   "metadata": {},
   "outputs": [
    {
     "data": {
      "text/html": [
       "<div>\n",
       "<style scoped>\n",
       "    .dataframe tbody tr th:only-of-type {\n",
       "        vertical-align: middle;\n",
       "    }\n",
       "\n",
       "    .dataframe tbody tr th {\n",
       "        vertical-align: top;\n",
       "    }\n",
       "\n",
       "    .dataframe thead th {\n",
       "        text-align: right;\n",
       "    }\n",
       "</style>\n",
       "<table border=\"1\" class=\"dataframe\">\n",
       "  <thead>\n",
       "    <tr style=\"text-align: right;\">\n",
       "      <th>gender</th>\n",
       "      <th>Female</th>\n",
       "      <th>Male</th>\n",
       "    </tr>\n",
       "    <tr>\n",
       "      <th>stroke</th>\n",
       "      <th></th>\n",
       "      <th></th>\n",
       "    </tr>\n",
       "  </thead>\n",
       "  <tbody>\n",
       "    <tr>\n",
       "      <th>0</th>\n",
       "      <td>0.952906</td>\n",
       "      <td>0.948936</td>\n",
       "    </tr>\n",
       "    <tr>\n",
       "      <th>1</th>\n",
       "      <td>0.047094</td>\n",
       "      <td>0.051064</td>\n",
       "    </tr>\n",
       "  </tbody>\n",
       "</table>\n",
       "</div>"
      ],
      "text/plain": [
       "gender    Female      Male\n",
       "stroke                    \n",
       "0       0.952906  0.948936\n",
       "1       0.047094  0.051064"
      ]
     },
     "execution_count": 16,
     "metadata": {},
     "output_type": "execute_result"
    }
   ],
   "source": [
    "#Exlcuir a classe 'Other'\n",
    "dados = dados[dados.gender!='Other']\n",
    "gen = pd.crosstab(dados.stroke,dados.gender)\n",
    "gen/gen.aggregate(np.sum)"
   ]
  },
  {
   "cell_type": "markdown",
   "metadata": {},
   "source": [
    "**Não tem diferença estatística entre Homens e Mulheres**"
   ]
  },
  {
   "cell_type": "markdown",
   "metadata": {},
   "source": [
    "## hypertension"
   ]
  },
  {
   "cell_type": "code",
   "execution_count": 17,
   "metadata": {},
   "outputs": [
    {
     "data": {
      "text/html": [
       "<div>\n",
       "<style scoped>\n",
       "    .dataframe tbody tr th:only-of-type {\n",
       "        vertical-align: middle;\n",
       "    }\n",
       "\n",
       "    .dataframe tbody tr th {\n",
       "        vertical-align: top;\n",
       "    }\n",
       "\n",
       "    .dataframe thead th {\n",
       "        text-align: right;\n",
       "    }\n",
       "</style>\n",
       "<table border=\"1\" class=\"dataframe\">\n",
       "  <thead>\n",
       "    <tr style=\"text-align: right;\">\n",
       "      <th>hypertension</th>\n",
       "      <th>0</th>\n",
       "      <th>1</th>\n",
       "    </tr>\n",
       "    <tr>\n",
       "      <th>stroke</th>\n",
       "      <th></th>\n",
       "      <th></th>\n",
       "    </tr>\n",
       "  </thead>\n",
       "  <tbody>\n",
       "    <tr>\n",
       "      <th>0</th>\n",
       "      <td>0.960312</td>\n",
       "      <td>0.86747</td>\n",
       "    </tr>\n",
       "    <tr>\n",
       "      <th>1</th>\n",
       "      <td>0.039688</td>\n",
       "      <td>0.13253</td>\n",
       "    </tr>\n",
       "  </tbody>\n",
       "</table>\n",
       "</div>"
      ],
      "text/plain": [
       "hypertension         0        1\n",
       "stroke                         \n",
       "0             0.960312  0.86747\n",
       "1             0.039688  0.13253"
      ]
     },
     "execution_count": 17,
     "metadata": {},
     "output_type": "execute_result"
    }
   ],
   "source": [
    "#Porcentagem das categorias em relação a variável Target\n",
    "hyp = pd.crosstab(dados.stroke,dados.hypertension)\n",
    "hyp/hyp.aggregate(np.sum)"
   ]
  },
  {
   "cell_type": "markdown",
   "metadata": {},
   "source": [
    "**Há diferença significativa quando um paciente é hipertenso com a chance de contrair um AVC**"
   ]
  },
  {
   "cell_type": "markdown",
   "metadata": {},
   "source": [
    "## heart_disease"
   ]
  },
  {
   "cell_type": "code",
   "execution_count": 18,
   "metadata": {},
   "outputs": [
    {
     "data": {
      "text/html": [
       "<div>\n",
       "<style scoped>\n",
       "    .dataframe tbody tr th:only-of-type {\n",
       "        vertical-align: middle;\n",
       "    }\n",
       "\n",
       "    .dataframe tbody tr th {\n",
       "        vertical-align: top;\n",
       "    }\n",
       "\n",
       "    .dataframe thead th {\n",
       "        text-align: right;\n",
       "    }\n",
       "</style>\n",
       "<table border=\"1\" class=\"dataframe\">\n",
       "  <thead>\n",
       "    <tr style=\"text-align: right;\">\n",
       "      <th>heart_disease</th>\n",
       "      <th>0</th>\n",
       "      <th>1</th>\n",
       "    </tr>\n",
       "    <tr>\n",
       "      <th>stroke</th>\n",
       "      <th></th>\n",
       "      <th></th>\n",
       "    </tr>\n",
       "  </thead>\n",
       "  <tbody>\n",
       "    <tr>\n",
       "      <th>0</th>\n",
       "      <td>0.958204</td>\n",
       "      <td>0.82971</td>\n",
       "    </tr>\n",
       "    <tr>\n",
       "      <th>1</th>\n",
       "      <td>0.041796</td>\n",
       "      <td>0.17029</td>\n",
       "    </tr>\n",
       "  </tbody>\n",
       "</table>\n",
       "</div>"
      ],
      "text/plain": [
       "heart_disease         0        1\n",
       "stroke                          \n",
       "0              0.958204  0.82971\n",
       "1              0.041796  0.17029"
      ]
     },
     "execution_count": 18,
     "metadata": {},
     "output_type": "execute_result"
    }
   ],
   "source": [
    "#Porcentagem das categorias em relação a variável Target\n",
    "heart = pd.crosstab(dados.stroke,dados.heart_disease)\n",
    "heart/heart.aggregate(np.sum)"
   ]
  },
  {
   "cell_type": "markdown",
   "metadata": {},
   "source": [
    "**Há diferença significativa quando um paciente tem doença no coração com a chance de contrair um AVC**"
   ]
  },
  {
   "cell_type": "markdown",
   "metadata": {},
   "source": [
    "## ever_married"
   ]
  },
  {
   "cell_type": "code",
   "execution_count": 19,
   "metadata": {},
   "outputs": [
    {
     "data": {
      "text/html": [
       "<div>\n",
       "<style scoped>\n",
       "    .dataframe tbody tr th:only-of-type {\n",
       "        vertical-align: middle;\n",
       "    }\n",
       "\n",
       "    .dataframe tbody tr th {\n",
       "        vertical-align: top;\n",
       "    }\n",
       "\n",
       "    .dataframe thead th {\n",
       "        text-align: right;\n",
       "    }\n",
       "</style>\n",
       "<table border=\"1\" class=\"dataframe\">\n",
       "  <thead>\n",
       "    <tr style=\"text-align: right;\">\n",
       "      <th>ever_married</th>\n",
       "      <th>No</th>\n",
       "      <th>Yes</th>\n",
       "    </tr>\n",
       "    <tr>\n",
       "      <th>stroke</th>\n",
       "      <th></th>\n",
       "      <th></th>\n",
       "    </tr>\n",
       "  </thead>\n",
       "  <tbody>\n",
       "    <tr>\n",
       "      <th>0</th>\n",
       "      <td>0.983485</td>\n",
       "      <td>0.934387</td>\n",
       "    </tr>\n",
       "    <tr>\n",
       "      <th>1</th>\n",
       "      <td>0.016515</td>\n",
       "      <td>0.065613</td>\n",
       "    </tr>\n",
       "  </tbody>\n",
       "</table>\n",
       "</div>"
      ],
      "text/plain": [
       "ever_married        No       Yes\n",
       "stroke                          \n",
       "0             0.983485  0.934387\n",
       "1             0.016515  0.065613"
      ]
     },
     "execution_count": 19,
     "metadata": {},
     "output_type": "execute_result"
    }
   ],
   "source": [
    "#Porcentagem das categorias em relação a variável Target\n",
    "marr = pd.crosstab(dados.stroke,dados.ever_married)\n",
    "marr/marr.aggregate(np.sum)"
   ]
  },
  {
   "cell_type": "markdown",
   "metadata": {},
   "source": [
    "**Há diferença estatística quando o paciente já foi casado em algum momento da vida em relação a chance de ter um AVC**"
   ]
  },
  {
   "cell_type": "markdown",
   "metadata": {},
   "source": [
    "## work_type"
   ]
  },
  {
   "cell_type": "code",
   "execution_count": 20,
   "metadata": {},
   "outputs": [
    {
     "data": {
      "text/html": [
       "<div>\n",
       "<style scoped>\n",
       "    .dataframe tbody tr th:only-of-type {\n",
       "        vertical-align: middle;\n",
       "    }\n",
       "\n",
       "    .dataframe tbody tr th {\n",
       "        vertical-align: top;\n",
       "    }\n",
       "\n",
       "    .dataframe thead th {\n",
       "        text-align: right;\n",
       "    }\n",
       "</style>\n",
       "<table border=\"1\" class=\"dataframe\">\n",
       "  <thead>\n",
       "    <tr style=\"text-align: right;\">\n",
       "      <th>work_type</th>\n",
       "      <th>Govt_job</th>\n",
       "      <th>Never_worked</th>\n",
       "      <th>Private</th>\n",
       "      <th>Self-employed</th>\n",
       "      <th>children</th>\n",
       "    </tr>\n",
       "    <tr>\n",
       "      <th>stroke</th>\n",
       "      <th></th>\n",
       "      <th></th>\n",
       "      <th></th>\n",
       "      <th></th>\n",
       "      <th></th>\n",
       "    </tr>\n",
       "  </thead>\n",
       "  <tbody>\n",
       "    <tr>\n",
       "      <th>0</th>\n",
       "      <td>0.949772</td>\n",
       "      <td>1.0</td>\n",
       "      <td>0.949042</td>\n",
       "      <td>0.920635</td>\n",
       "      <td>0.997089</td>\n",
       "    </tr>\n",
       "    <tr>\n",
       "      <th>1</th>\n",
       "      <td>0.050228</td>\n",
       "      <td>0.0</td>\n",
       "      <td>0.050958</td>\n",
       "      <td>0.079365</td>\n",
       "      <td>0.002911</td>\n",
       "    </tr>\n",
       "  </tbody>\n",
       "</table>\n",
       "</div>"
      ],
      "text/plain": [
       "work_type  Govt_job  Never_worked   Private  Self-employed  children\n",
       "stroke                                                              \n",
       "0          0.949772           1.0  0.949042       0.920635  0.997089\n",
       "1          0.050228           0.0  0.050958       0.079365  0.002911"
      ]
     },
     "execution_count": 20,
     "metadata": {},
     "output_type": "execute_result"
    }
   ],
   "source": [
    "#Porcentagem das categorias em relação a variável Target\n",
    "work = pd.crosstab(dados.stroke,dados.work_type)\n",
    "work/work.aggregate(np.sum)"
   ]
  },
  {
   "cell_type": "markdown",
   "metadata": {},
   "source": [
    "**Se o paciente não trabalha ou trabalha com crianças, diminui consideravelmente o risco de ter um AVC em relação aos outros tipos de trabalho**"
   ]
  },
  {
   "cell_type": "markdown",
   "metadata": {},
   "source": [
    "## Residence_type"
   ]
  },
  {
   "cell_type": "code",
   "execution_count": 21,
   "metadata": {},
   "outputs": [
    {
     "data": {
      "text/html": [
       "<div>\n",
       "<style scoped>\n",
       "    .dataframe tbody tr th:only-of-type {\n",
       "        vertical-align: middle;\n",
       "    }\n",
       "\n",
       "    .dataframe tbody tr th {\n",
       "        vertical-align: top;\n",
       "    }\n",
       "\n",
       "    .dataframe thead th {\n",
       "        text-align: right;\n",
       "    }\n",
       "</style>\n",
       "<table border=\"1\" class=\"dataframe\">\n",
       "  <thead>\n",
       "    <tr style=\"text-align: right;\">\n",
       "      <th>Residence_type</th>\n",
       "      <th>Rural</th>\n",
       "      <th>Urban</th>\n",
       "    </tr>\n",
       "    <tr>\n",
       "      <th>stroke</th>\n",
       "      <th></th>\n",
       "      <th></th>\n",
       "    </tr>\n",
       "  </thead>\n",
       "  <tbody>\n",
       "    <tr>\n",
       "      <th>0</th>\n",
       "      <td>0.954636</td>\n",
       "      <td>0.947997</td>\n",
       "    </tr>\n",
       "    <tr>\n",
       "      <th>1</th>\n",
       "      <td>0.045364</td>\n",
       "      <td>0.052003</td>\n",
       "    </tr>\n",
       "  </tbody>\n",
       "</table>\n",
       "</div>"
      ],
      "text/plain": [
       "Residence_type     Rural     Urban\n",
       "stroke                            \n",
       "0               0.954636  0.947997\n",
       "1               0.045364  0.052003"
      ]
     },
     "execution_count": 21,
     "metadata": {},
     "output_type": "execute_result"
    }
   ],
   "source": [
    "#Porcentagem das categorias em relação a variável Target\n",
    "resid = pd.crosstab(dados.stroke,dados.Residence_type)\n",
    "resid/resid.aggregate(np.sum)"
   ]
  },
  {
   "cell_type": "markdown",
   "metadata": {},
   "source": [
    "**Não há diferença estatística para comprovar que quem reside na área urbana ou rural tem mais chance de ter AVC**"
   ]
  },
  {
   "cell_type": "markdown",
   "metadata": {},
   "source": [
    "## smoking_status"
   ]
  },
  {
   "cell_type": "code",
   "execution_count": 22,
   "metadata": {},
   "outputs": [
    {
     "data": {
      "text/html": [
       "<div>\n",
       "<style scoped>\n",
       "    .dataframe tbody tr th:only-of-type {\n",
       "        vertical-align: middle;\n",
       "    }\n",
       "\n",
       "    .dataframe tbody tr th {\n",
       "        vertical-align: top;\n",
       "    }\n",
       "\n",
       "    .dataframe thead th {\n",
       "        text-align: right;\n",
       "    }\n",
       "</style>\n",
       "<table border=\"1\" class=\"dataframe\">\n",
       "  <thead>\n",
       "    <tr style=\"text-align: right;\">\n",
       "      <th>smoking_status</th>\n",
       "      <th>Unknown</th>\n",
       "      <th>formerly smoked</th>\n",
       "      <th>never smoked</th>\n",
       "      <th>smokes</th>\n",
       "    </tr>\n",
       "    <tr>\n",
       "      <th>stroke</th>\n",
       "      <th></th>\n",
       "      <th></th>\n",
       "      <th></th>\n",
       "      <th></th>\n",
       "    </tr>\n",
       "  </thead>\n",
       "  <tbody>\n",
       "    <tr>\n",
       "      <th>0</th>\n",
       "      <td>0.96956</td>\n",
       "      <td>0.920814</td>\n",
       "      <td>0.952431</td>\n",
       "      <td>0.946768</td>\n",
       "    </tr>\n",
       "    <tr>\n",
       "      <th>1</th>\n",
       "      <td>0.03044</td>\n",
       "      <td>0.079186</td>\n",
       "      <td>0.047569</td>\n",
       "      <td>0.053232</td>\n",
       "    </tr>\n",
       "  </tbody>\n",
       "</table>\n",
       "</div>"
      ],
      "text/plain": [
       "smoking_status  Unknown  formerly smoked  never smoked    smokes\n",
       "stroke                                                          \n",
       "0               0.96956         0.920814      0.952431  0.946768\n",
       "1               0.03044         0.079186      0.047569  0.053232"
      ]
     },
     "execution_count": 22,
     "metadata": {},
     "output_type": "execute_result"
    }
   ],
   "source": [
    "#Porcentagem das categorias em relação a variável Target\n",
    "smoking = pd.crosstab(dados.stroke,dados.smoking_status)\n",
    "smoking/smoking.aggregate(np.sum)"
   ]
  },
  {
   "cell_type": "markdown",
   "metadata": {},
   "source": [
    "**OBS: A classe 'Unknown' não é relevante para essa variável**"
   ]
  },
  {
   "cell_type": "code",
   "execution_count": 23,
   "metadata": {},
   "outputs": [
    {
     "data": {
      "text/html": [
       "<div>\n",
       "<style scoped>\n",
       "    .dataframe tbody tr th:only-of-type {\n",
       "        vertical-align: middle;\n",
       "    }\n",
       "\n",
       "    .dataframe tbody tr th {\n",
       "        vertical-align: top;\n",
       "    }\n",
       "\n",
       "    .dataframe thead th {\n",
       "        text-align: right;\n",
       "    }\n",
       "</style>\n",
       "<table border=\"1\" class=\"dataframe\">\n",
       "  <thead>\n",
       "    <tr style=\"text-align: right;\">\n",
       "      <th>smoking_status</th>\n",
       "      <th>formerly smoked</th>\n",
       "      <th>never smoked</th>\n",
       "      <th>smokes</th>\n",
       "    </tr>\n",
       "    <tr>\n",
       "      <th>stroke</th>\n",
       "      <th></th>\n",
       "      <th></th>\n",
       "      <th></th>\n",
       "    </tr>\n",
       "  </thead>\n",
       "  <tbody>\n",
       "    <tr>\n",
       "      <th>0</th>\n",
       "      <td>0.920814</td>\n",
       "      <td>0.952431</td>\n",
       "      <td>0.946768</td>\n",
       "    </tr>\n",
       "    <tr>\n",
       "      <th>1</th>\n",
       "      <td>0.079186</td>\n",
       "      <td>0.047569</td>\n",
       "      <td>0.053232</td>\n",
       "    </tr>\n",
       "  </tbody>\n",
       "</table>\n",
       "</div>"
      ],
      "text/plain": [
       "smoking_status  formerly smoked  never smoked    smokes\n",
       "stroke                                                 \n",
       "0                      0.920814      0.952431  0.946768\n",
       "1                      0.079186      0.047569  0.053232"
      ]
     },
     "execution_count": 23,
     "metadata": {},
     "output_type": "execute_result"
    }
   ],
   "source": [
    "#Exlcuir a classe 'Unknown'\n",
    "dados = dados[dados.smoking_status!='Unknown']\n",
    "\n",
    "\n",
    "smoking = pd.crosstab(dados.stroke,dados.smoking_status)\n",
    "smoking/smoking.aggregate(np.sum)"
   ]
  },
  {
   "cell_type": "markdown",
   "metadata": {},
   "source": [
    "**Pacientes que já fumaram tem uma pequena diferença estatística em relação aos outros pacientes para sofrer AVC, porém para ter uma precisão maior no resultado teríamos que ter o tempo que o paciente fuma ou já fumou durante sua vida**"
   ]
  },
  {
   "cell_type": "markdown",
   "metadata": {},
   "source": [
    "## Análise dos dados Numéricos X Target"
   ]
  },
  {
   "cell_type": "markdown",
   "metadata": {},
   "source": [
    "**Vamos adotar o mesmo critério que nos dados categóricos para considerar as variáveis relevantes para o paciente sofre AVC**"
   ]
  },
  {
   "cell_type": "markdown",
   "metadata": {},
   "source": [
    "## age"
   ]
  },
  {
   "cell_type": "code",
   "execution_count": 24,
   "metadata": {},
   "outputs": [
    {
     "name": "stdout",
     "output_type": "stream",
     "text": [
      "Classe 0 = 47.7\n",
      "Classe 1 = 68.17\n"
     ]
    }
   ],
   "source": [
    "#classe 0\n",
    "stroke0 = dados.loc[(dados['stroke']==0)]\n",
    "a = stroke0['age'].mean()\n",
    "\n",
    "#Classe 1\n",
    "stroke1 = dados.loc[(dados['stroke']==1)]\n",
    "b = stroke1['age'].mean()\n",
    "\n",
    "print(f'Classe 0 = {round(a,2)}')\n",
    "print(f'Classe 1 = {round(b,2)}')"
   ]
  },
  {
   "cell_type": "markdown",
   "metadata": {},
   "source": [
    "**Há diferença estatística quando o paciente é mais velho para sofre um AVC**"
   ]
  },
  {
   "cell_type": "markdown",
   "metadata": {},
   "source": [
    "## avg_glucose_level"
   ]
  },
  {
   "cell_type": "code",
   "execution_count": 25,
   "metadata": {},
   "outputs": [
    {
     "name": "stdout",
     "output_type": "stream",
     "text": [
      "Classe 0 = 107.45\n",
      "Classe 1 = 134.34\n"
     ]
    }
   ],
   "source": [
    "#classe 0\n",
    "stroke0 = dados.loc[(dados['stroke']==0)]\n",
    "a = stroke0['avg_glucose_level'].mean()\n",
    "\n",
    "#Classe 1\n",
    "stroke1 = dados.loc[(dados['stroke']==1)]\n",
    "b = stroke1['avg_glucose_level'].mean()\n",
    "\n",
    "print(f'Classe 0 = {round(a,2)}')\n",
    "print(f'Classe 1 = {round(b,2)}')"
   ]
  },
  {
   "cell_type": "markdown",
   "metadata": {},
   "source": [
    "**Há diferença estatística quando o paciente tem um nível de glicose mais alto no sangue, pois ele tem mais chance de sofre um AVC**"
   ]
  },
  {
   "cell_type": "markdown",
   "metadata": {},
   "source": [
    "## bmi"
   ]
  },
  {
   "cell_type": "code",
   "execution_count": 26,
   "metadata": {},
   "outputs": [
    {
     "name": "stdout",
     "output_type": "stream",
     "text": [
      "Classe 0 = 30.27\n",
      "Classe 1 = 30.65\n"
     ]
    }
   ],
   "source": [
    "#classe 0\n",
    "stroke0 = dados.loc[(dados['stroke']==0)]\n",
    "a = stroke0['bmi'].mean()\n",
    "\n",
    "#Classe 1\n",
    "stroke1 = dados.loc[(dados['stroke']==1)]\n",
    "b = stroke1['bmi'].mean()\n",
    "\n",
    "print(f'Classe 0 = {round(a,2)}')\n",
    "print(f'Classe 1 = {round(b,2)}')"
   ]
  },
  {
   "cell_type": "markdown",
   "metadata": {},
   "source": [
    "**Não há diferença estatística com o índice de massa corporal**"
   ]
  },
  {
   "cell_type": "markdown",
   "metadata": {},
   "source": [
    "## Conclusão da análise exploratória:"
   ]
  },
  {
   "cell_type": "markdown",
   "metadata": {},
   "source": [
    "**Podemos concluir depois da análise exploratória, que as variáveis: 'avg_glucose_level,\n",
    "'age','ever_married', 'work_type', 'smoking_status','heart_disease' e 'hypertension' mostra estatisticamente significância em relação a chance de sofre um AVC.**\n",
    "\n"
   ]
  },
  {
   "cell_type": "markdown",
   "metadata": {},
   "source": [
    "## Selecionar as variáveis mais relevantes"
   ]
  },
  {
   "cell_type": "code",
   "execution_count": 27,
   "metadata": {},
   "outputs": [
    {
     "data": {
      "text/html": [
       "<div>\n",
       "<style scoped>\n",
       "    .dataframe tbody tr th:only-of-type {\n",
       "        vertical-align: middle;\n",
       "    }\n",
       "\n",
       "    .dataframe tbody tr th {\n",
       "        vertical-align: top;\n",
       "    }\n",
       "\n",
       "    .dataframe thead th {\n",
       "        text-align: right;\n",
       "    }\n",
       "</style>\n",
       "<table border=\"1\" class=\"dataframe\">\n",
       "  <thead>\n",
       "    <tr style=\"text-align: right;\">\n",
       "      <th></th>\n",
       "      <th>avg_glucose_level</th>\n",
       "      <th>age</th>\n",
       "      <th>ever_married</th>\n",
       "      <th>work_type</th>\n",
       "      <th>smoking_status</th>\n",
       "      <th>heart_disease</th>\n",
       "      <th>hypertension</th>\n",
       "    </tr>\n",
       "  </thead>\n",
       "  <tbody>\n",
       "    <tr>\n",
       "      <th>0</th>\n",
       "      <td>228.69</td>\n",
       "      <td>67.0</td>\n",
       "      <td>Yes</td>\n",
       "      <td>Private</td>\n",
       "      <td>formerly smoked</td>\n",
       "      <td>1</td>\n",
       "      <td>0</td>\n",
       "    </tr>\n",
       "    <tr>\n",
       "      <th>1</th>\n",
       "      <td>202.21</td>\n",
       "      <td>61.0</td>\n",
       "      <td>Yes</td>\n",
       "      <td>Self-employed</td>\n",
       "      <td>never smoked</td>\n",
       "      <td>0</td>\n",
       "      <td>0</td>\n",
       "    </tr>\n",
       "    <tr>\n",
       "      <th>2</th>\n",
       "      <td>105.92</td>\n",
       "      <td>80.0</td>\n",
       "      <td>Yes</td>\n",
       "      <td>Private</td>\n",
       "      <td>never smoked</td>\n",
       "      <td>1</td>\n",
       "      <td>0</td>\n",
       "    </tr>\n",
       "    <tr>\n",
       "      <th>3</th>\n",
       "      <td>171.23</td>\n",
       "      <td>49.0</td>\n",
       "      <td>Yes</td>\n",
       "      <td>Private</td>\n",
       "      <td>smokes</td>\n",
       "      <td>0</td>\n",
       "      <td>0</td>\n",
       "    </tr>\n",
       "    <tr>\n",
       "      <th>4</th>\n",
       "      <td>174.12</td>\n",
       "      <td>79.0</td>\n",
       "      <td>Yes</td>\n",
       "      <td>Self-employed</td>\n",
       "      <td>never smoked</td>\n",
       "      <td>0</td>\n",
       "      <td>1</td>\n",
       "    </tr>\n",
       "    <tr>\n",
       "      <th>...</th>\n",
       "      <td>...</td>\n",
       "      <td>...</td>\n",
       "      <td>...</td>\n",
       "      <td>...</td>\n",
       "      <td>...</td>\n",
       "      <td>...</td>\n",
       "      <td>...</td>\n",
       "    </tr>\n",
       "    <tr>\n",
       "      <th>5102</th>\n",
       "      <td>77.93</td>\n",
       "      <td>57.0</td>\n",
       "      <td>Yes</td>\n",
       "      <td>Private</td>\n",
       "      <td>never smoked</td>\n",
       "      <td>0</td>\n",
       "      <td>0</td>\n",
       "    </tr>\n",
       "    <tr>\n",
       "      <th>5105</th>\n",
       "      <td>83.75</td>\n",
       "      <td>80.0</td>\n",
       "      <td>Yes</td>\n",
       "      <td>Private</td>\n",
       "      <td>never smoked</td>\n",
       "      <td>0</td>\n",
       "      <td>1</td>\n",
       "    </tr>\n",
       "    <tr>\n",
       "      <th>5106</th>\n",
       "      <td>125.20</td>\n",
       "      <td>81.0</td>\n",
       "      <td>Yes</td>\n",
       "      <td>Self-employed</td>\n",
       "      <td>never smoked</td>\n",
       "      <td>0</td>\n",
       "      <td>0</td>\n",
       "    </tr>\n",
       "    <tr>\n",
       "      <th>5107</th>\n",
       "      <td>82.99</td>\n",
       "      <td>35.0</td>\n",
       "      <td>Yes</td>\n",
       "      <td>Self-employed</td>\n",
       "      <td>never smoked</td>\n",
       "      <td>0</td>\n",
       "      <td>0</td>\n",
       "    </tr>\n",
       "    <tr>\n",
       "      <th>5108</th>\n",
       "      <td>166.29</td>\n",
       "      <td>51.0</td>\n",
       "      <td>Yes</td>\n",
       "      <td>Private</td>\n",
       "      <td>formerly smoked</td>\n",
       "      <td>0</td>\n",
       "      <td>0</td>\n",
       "    </tr>\n",
       "  </tbody>\n",
       "</table>\n",
       "<p>3565 rows × 7 columns</p>\n",
       "</div>"
      ],
      "text/plain": [
       "      avg_glucose_level   age ever_married      work_type   smoking_status  \\\n",
       "0                228.69  67.0          Yes        Private  formerly smoked   \n",
       "1                202.21  61.0          Yes  Self-employed     never smoked   \n",
       "2                105.92  80.0          Yes        Private     never smoked   \n",
       "3                171.23  49.0          Yes        Private           smokes   \n",
       "4                174.12  79.0          Yes  Self-employed     never smoked   \n",
       "...                 ...   ...          ...            ...              ...   \n",
       "5102              77.93  57.0          Yes        Private     never smoked   \n",
       "5105              83.75  80.0          Yes        Private     never smoked   \n",
       "5106             125.20  81.0          Yes  Self-employed     never smoked   \n",
       "5107              82.99  35.0          Yes  Self-employed     never smoked   \n",
       "5108             166.29  51.0          Yes        Private  formerly smoked   \n",
       "\n",
       "      heart_disease  hypertension  \n",
       "0                 1             0  \n",
       "1                 0             0  \n",
       "2                 1             0  \n",
       "3                 0             0  \n",
       "4                 0             1  \n",
       "...             ...           ...  \n",
       "5102              0             0  \n",
       "5105              0             1  \n",
       "5106              0             0  \n",
       "5107              0             0  \n",
       "5108              0             0  \n",
       "\n",
       "[3565 rows x 7 columns]"
      ]
     },
     "execution_count": 27,
     "metadata": {},
     "output_type": "execute_result"
    }
   ],
   "source": [
    "dados_relev = dados[['avg_glucose_level','age','ever_married', 'work_type', 'smoking_status','heart_disease','hypertension']]\n",
    "dados_relev"
   ]
  },
  {
   "cell_type": "markdown",
   "metadata": {},
   "source": [
    "# Conclusão 1"
   ]
  },
  {
   "cell_type": "markdown",
   "metadata": {},
   "source": [
    "**Para o objetivo principal, o projeto terminaria aqui, pois selecionamos as variáveis mais relevantes para um paciente reduzir as chances de sofre um AVC com esses dados coletados, porém para fins didáticos vamos usar as variáveis que demonstraram mais relevantes e usar algoritimos de ML para fazer previsões**"
   ]
  },
  {
   "cell_type": "markdown",
   "metadata": {},
   "source": [
    "# Tratamento dos dados"
   ]
  },
  {
   "cell_type": "code",
   "execution_count": 28,
   "metadata": {},
   "outputs": [
    {
     "data": {
      "text/html": [
       "<div>\n",
       "<style scoped>\n",
       "    .dataframe tbody tr th:only-of-type {\n",
       "        vertical-align: middle;\n",
       "    }\n",
       "\n",
       "    .dataframe tbody tr th {\n",
       "        vertical-align: top;\n",
       "    }\n",
       "\n",
       "    .dataframe thead th {\n",
       "        text-align: right;\n",
       "    }\n",
       "</style>\n",
       "<table border=\"1\" class=\"dataframe\">\n",
       "  <thead>\n",
       "    <tr style=\"text-align: right;\">\n",
       "      <th></th>\n",
       "      <th>avg_glucose_level</th>\n",
       "      <th>age</th>\n",
       "      <th>heart_disease</th>\n",
       "      <th>hypertension</th>\n",
       "      <th>ever_married_No</th>\n",
       "      <th>ever_married_Yes</th>\n",
       "      <th>work_type_Govt_job</th>\n",
       "      <th>work_type_Never_worked</th>\n",
       "      <th>work_type_Private</th>\n",
       "      <th>work_type_Self-employed</th>\n",
       "      <th>work_type_children</th>\n",
       "      <th>smoking_status_formerly smoked</th>\n",
       "      <th>smoking_status_never smoked</th>\n",
       "      <th>smoking_status_smokes</th>\n",
       "    </tr>\n",
       "  </thead>\n",
       "  <tbody>\n",
       "    <tr>\n",
       "      <th>0</th>\n",
       "      <td>228.69</td>\n",
       "      <td>67.0</td>\n",
       "      <td>1</td>\n",
       "      <td>0</td>\n",
       "      <td>0</td>\n",
       "      <td>1</td>\n",
       "      <td>0</td>\n",
       "      <td>0</td>\n",
       "      <td>1</td>\n",
       "      <td>0</td>\n",
       "      <td>0</td>\n",
       "      <td>1</td>\n",
       "      <td>0</td>\n",
       "      <td>0</td>\n",
       "    </tr>\n",
       "    <tr>\n",
       "      <th>1</th>\n",
       "      <td>202.21</td>\n",
       "      <td>61.0</td>\n",
       "      <td>0</td>\n",
       "      <td>0</td>\n",
       "      <td>0</td>\n",
       "      <td>1</td>\n",
       "      <td>0</td>\n",
       "      <td>0</td>\n",
       "      <td>0</td>\n",
       "      <td>1</td>\n",
       "      <td>0</td>\n",
       "      <td>0</td>\n",
       "      <td>1</td>\n",
       "      <td>0</td>\n",
       "    </tr>\n",
       "    <tr>\n",
       "      <th>2</th>\n",
       "      <td>105.92</td>\n",
       "      <td>80.0</td>\n",
       "      <td>1</td>\n",
       "      <td>0</td>\n",
       "      <td>0</td>\n",
       "      <td>1</td>\n",
       "      <td>0</td>\n",
       "      <td>0</td>\n",
       "      <td>1</td>\n",
       "      <td>0</td>\n",
       "      <td>0</td>\n",
       "      <td>0</td>\n",
       "      <td>1</td>\n",
       "      <td>0</td>\n",
       "    </tr>\n",
       "    <tr>\n",
       "      <th>3</th>\n",
       "      <td>171.23</td>\n",
       "      <td>49.0</td>\n",
       "      <td>0</td>\n",
       "      <td>0</td>\n",
       "      <td>0</td>\n",
       "      <td>1</td>\n",
       "      <td>0</td>\n",
       "      <td>0</td>\n",
       "      <td>1</td>\n",
       "      <td>0</td>\n",
       "      <td>0</td>\n",
       "      <td>0</td>\n",
       "      <td>0</td>\n",
       "      <td>1</td>\n",
       "    </tr>\n",
       "    <tr>\n",
       "      <th>4</th>\n",
       "      <td>174.12</td>\n",
       "      <td>79.0</td>\n",
       "      <td>0</td>\n",
       "      <td>1</td>\n",
       "      <td>0</td>\n",
       "      <td>1</td>\n",
       "      <td>0</td>\n",
       "      <td>0</td>\n",
       "      <td>0</td>\n",
       "      <td>1</td>\n",
       "      <td>0</td>\n",
       "      <td>0</td>\n",
       "      <td>1</td>\n",
       "      <td>0</td>\n",
       "    </tr>\n",
       "    <tr>\n",
       "      <th>...</th>\n",
       "      <td>...</td>\n",
       "      <td>...</td>\n",
       "      <td>...</td>\n",
       "      <td>...</td>\n",
       "      <td>...</td>\n",
       "      <td>...</td>\n",
       "      <td>...</td>\n",
       "      <td>...</td>\n",
       "      <td>...</td>\n",
       "      <td>...</td>\n",
       "      <td>...</td>\n",
       "      <td>...</td>\n",
       "      <td>...</td>\n",
       "      <td>...</td>\n",
       "    </tr>\n",
       "    <tr>\n",
       "      <th>5102</th>\n",
       "      <td>77.93</td>\n",
       "      <td>57.0</td>\n",
       "      <td>0</td>\n",
       "      <td>0</td>\n",
       "      <td>0</td>\n",
       "      <td>1</td>\n",
       "      <td>0</td>\n",
       "      <td>0</td>\n",
       "      <td>1</td>\n",
       "      <td>0</td>\n",
       "      <td>0</td>\n",
       "      <td>0</td>\n",
       "      <td>1</td>\n",
       "      <td>0</td>\n",
       "    </tr>\n",
       "    <tr>\n",
       "      <th>5105</th>\n",
       "      <td>83.75</td>\n",
       "      <td>80.0</td>\n",
       "      <td>0</td>\n",
       "      <td>1</td>\n",
       "      <td>0</td>\n",
       "      <td>1</td>\n",
       "      <td>0</td>\n",
       "      <td>0</td>\n",
       "      <td>1</td>\n",
       "      <td>0</td>\n",
       "      <td>0</td>\n",
       "      <td>0</td>\n",
       "      <td>1</td>\n",
       "      <td>0</td>\n",
       "    </tr>\n",
       "    <tr>\n",
       "      <th>5106</th>\n",
       "      <td>125.20</td>\n",
       "      <td>81.0</td>\n",
       "      <td>0</td>\n",
       "      <td>0</td>\n",
       "      <td>0</td>\n",
       "      <td>1</td>\n",
       "      <td>0</td>\n",
       "      <td>0</td>\n",
       "      <td>0</td>\n",
       "      <td>1</td>\n",
       "      <td>0</td>\n",
       "      <td>0</td>\n",
       "      <td>1</td>\n",
       "      <td>0</td>\n",
       "    </tr>\n",
       "    <tr>\n",
       "      <th>5107</th>\n",
       "      <td>82.99</td>\n",
       "      <td>35.0</td>\n",
       "      <td>0</td>\n",
       "      <td>0</td>\n",
       "      <td>0</td>\n",
       "      <td>1</td>\n",
       "      <td>0</td>\n",
       "      <td>0</td>\n",
       "      <td>0</td>\n",
       "      <td>1</td>\n",
       "      <td>0</td>\n",
       "      <td>0</td>\n",
       "      <td>1</td>\n",
       "      <td>0</td>\n",
       "    </tr>\n",
       "    <tr>\n",
       "      <th>5108</th>\n",
       "      <td>166.29</td>\n",
       "      <td>51.0</td>\n",
       "      <td>0</td>\n",
       "      <td>0</td>\n",
       "      <td>0</td>\n",
       "      <td>1</td>\n",
       "      <td>0</td>\n",
       "      <td>0</td>\n",
       "      <td>1</td>\n",
       "      <td>0</td>\n",
       "      <td>0</td>\n",
       "      <td>1</td>\n",
       "      <td>0</td>\n",
       "      <td>0</td>\n",
       "    </tr>\n",
       "  </tbody>\n",
       "</table>\n",
       "<p>3565 rows × 14 columns</p>\n",
       "</div>"
      ],
      "text/plain": [
       "      avg_glucose_level   age  heart_disease  hypertension  ever_married_No  \\\n",
       "0                228.69  67.0              1             0                0   \n",
       "1                202.21  61.0              0             0                0   \n",
       "2                105.92  80.0              1             0                0   \n",
       "3                171.23  49.0              0             0                0   \n",
       "4                174.12  79.0              0             1                0   \n",
       "...                 ...   ...            ...           ...              ...   \n",
       "5102              77.93  57.0              0             0                0   \n",
       "5105              83.75  80.0              0             1                0   \n",
       "5106             125.20  81.0              0             0                0   \n",
       "5107              82.99  35.0              0             0                0   \n",
       "5108             166.29  51.0              0             0                0   \n",
       "\n",
       "      ever_married_Yes  work_type_Govt_job  work_type_Never_worked  \\\n",
       "0                    1                   0                       0   \n",
       "1                    1                   0                       0   \n",
       "2                    1                   0                       0   \n",
       "3                    1                   0                       0   \n",
       "4                    1                   0                       0   \n",
       "...                ...                 ...                     ...   \n",
       "5102                 1                   0                       0   \n",
       "5105                 1                   0                       0   \n",
       "5106                 1                   0                       0   \n",
       "5107                 1                   0                       0   \n",
       "5108                 1                   0                       0   \n",
       "\n",
       "      work_type_Private  work_type_Self-employed  work_type_children  \\\n",
       "0                     1                        0                   0   \n",
       "1                     0                        1                   0   \n",
       "2                     1                        0                   0   \n",
       "3                     1                        0                   0   \n",
       "4                     0                        1                   0   \n",
       "...                 ...                      ...                 ...   \n",
       "5102                  1                        0                   0   \n",
       "5105                  1                        0                   0   \n",
       "5106                  0                        1                   0   \n",
       "5107                  0                        1                   0   \n",
       "5108                  1                        0                   0   \n",
       "\n",
       "      smoking_status_formerly smoked  smoking_status_never smoked  \\\n",
       "0                                  1                            0   \n",
       "1                                  0                            1   \n",
       "2                                  0                            1   \n",
       "3                                  0                            0   \n",
       "4                                  0                            1   \n",
       "...                              ...                          ...   \n",
       "5102                               0                            1   \n",
       "5105                               0                            1   \n",
       "5106                               0                            1   \n",
       "5107                               0                            1   \n",
       "5108                               1                            0   \n",
       "\n",
       "      smoking_status_smokes  \n",
       "0                         0  \n",
       "1                         0  \n",
       "2                         0  \n",
       "3                         1  \n",
       "4                         0  \n",
       "...                     ...  \n",
       "5102                      0  \n",
       "5105                      0  \n",
       "5106                      0  \n",
       "5107                      0  \n",
       "5108                      0  \n",
       "\n",
       "[3565 rows x 14 columns]"
      ]
     },
     "execution_count": 28,
     "metadata": {},
     "output_type": "execute_result"
    }
   ],
   "source": [
    "#Transformações dos dados categoricos em dummys\n",
    "dados_transform1 = pd.get_dummies(dados_relev,prefix=['ever_married'], columns = ['ever_married'])\n",
    "dados_transform1 = pd.get_dummies(dados_transform1,prefix=['work_type'], columns = ['work_type'])\n",
    "dados_transform1 = pd.get_dummies(dados_transform1,prefix=['smoking_status'], columns = ['smoking_status'])\n",
    "\n",
    "\n",
    "\n",
    "dados_transform1"
   ]
  },
  {
   "cell_type": "markdown",
   "metadata": {},
   "source": [
    "**Transformamos as variáveis categóricas em dummys para não cometer ponderação arbitraria durante a modelagem dos dados**"
   ]
  },
  {
   "cell_type": "code",
   "execution_count": 29,
   "metadata": {},
   "outputs": [
    {
     "data": {
      "text/plain": [
       "avg_glucose_level                 3000\n",
       "age                                 73\n",
       "heart_disease                        2\n",
       "hypertension                         2\n",
       "ever_married_No                      2\n",
       "ever_married_Yes                     2\n",
       "work_type_Govt_job                   2\n",
       "work_type_Never_worked               2\n",
       "work_type_Private                    2\n",
       "work_type_Self-employed              2\n",
       "work_type_children                   2\n",
       "smoking_status_formerly smoked       2\n",
       "smoking_status_never smoked          2\n",
       "smoking_status_smokes                2\n",
       "dtype: int64"
      ]
     },
     "execution_count": 29,
     "metadata": {},
     "output_type": "execute_result"
    }
   ],
   "source": [
    "#Verificar valores unicos após a transformações dos dados\n",
    "dados_transform1.nunique()"
   ]
  },
  {
   "cell_type": "code",
   "execution_count": 30,
   "metadata": {},
   "outputs": [
    {
     "data": {
      "text/plain": [
       "avg_glucose_level                 0\n",
       "age                               0\n",
       "heart_disease                     0\n",
       "hypertension                      0\n",
       "ever_married_No                   0\n",
       "ever_married_Yes                  0\n",
       "work_type_Govt_job                0\n",
       "work_type_Never_worked            0\n",
       "work_type_Private                 0\n",
       "work_type_Self-employed           0\n",
       "work_type_children                0\n",
       "smoking_status_formerly smoked    0\n",
       "smoking_status_never smoked       0\n",
       "smoking_status_smokes             0\n",
       "dtype: int64"
      ]
     },
     "execution_count": 30,
     "metadata": {},
     "output_type": "execute_result"
    }
   ],
   "source": [
    "# Verificar se existe valores nulos\n",
    "dados_transform1.isnull().sum()"
   ]
  },
  {
   "cell_type": "code",
   "execution_count": 31,
   "metadata": {},
   "outputs": [
    {
     "data": {
      "text/plain": [
       "0"
      ]
     },
     "execution_count": 31,
     "metadata": {},
     "output_type": "execute_result"
    }
   ],
   "source": [
    "#Verificar se existe dados duplicados\n",
    "sum(dados_transform1.duplicated())"
   ]
  },
  {
   "cell_type": "markdown",
   "metadata": {},
   "source": [
    "**Dataset não contém dados nulos e duplicados**"
   ]
  },
  {
   "cell_type": "markdown",
   "metadata": {},
   "source": [
    "# Modelagem"
   ]
  },
  {
   "cell_type": "markdown",
   "metadata": {},
   "source": [
    "- A probabilidade de uma pessoa sofre AVC é de 5% nesse conjunto de dados, o objetivo da modelagem é ter a maior porcentagem possível no recall nos casos de AVC, pois o erro nesse indicador é o mais grave, ele diz que o paciente nunca teve AVC mas na verdade já teve"
   ]
  },
  {
   "cell_type": "code",
   "execution_count": 32,
   "metadata": {},
   "outputs": [],
   "source": [
    "#Separar as variáveis X e Y\n",
    "x = dados_transform1\n",
    "y = dados.stroke\n"
   ]
  },
  {
   "cell_type": "code",
   "execution_count": 33,
   "metadata": {},
   "outputs": [
    {
     "data": {
      "text/html": [
       "<div>\n",
       "<style scoped>\n",
       "    .dataframe tbody tr th:only-of-type {\n",
       "        vertical-align: middle;\n",
       "    }\n",
       "\n",
       "    .dataframe tbody tr th {\n",
       "        vertical-align: top;\n",
       "    }\n",
       "\n",
       "    .dataframe thead th {\n",
       "        text-align: right;\n",
       "    }\n",
       "</style>\n",
       "<table border=\"1\" class=\"dataframe\">\n",
       "  <thead>\n",
       "    <tr style=\"text-align: right;\">\n",
       "      <th></th>\n",
       "      <th>avg_glucose_level</th>\n",
       "      <th>age</th>\n",
       "      <th>heart_disease</th>\n",
       "      <th>hypertension</th>\n",
       "      <th>ever_married_Yes</th>\n",
       "      <th>work_type_Govt_job</th>\n",
       "      <th>work_type_Never_worked</th>\n",
       "      <th>work_type_Private</th>\n",
       "      <th>work_type_Self-employed</th>\n",
       "      <th>smoking_status_formerly smoked</th>\n",
       "      <th>smoking_status_smokes</th>\n",
       "    </tr>\n",
       "  </thead>\n",
       "  <tbody>\n",
       "    <tr>\n",
       "      <th>0</th>\n",
       "      <td>228.69</td>\n",
       "      <td>67.0</td>\n",
       "      <td>1</td>\n",
       "      <td>0</td>\n",
       "      <td>1</td>\n",
       "      <td>0</td>\n",
       "      <td>0</td>\n",
       "      <td>1</td>\n",
       "      <td>0</td>\n",
       "      <td>1</td>\n",
       "      <td>0</td>\n",
       "    </tr>\n",
       "    <tr>\n",
       "      <th>1</th>\n",
       "      <td>202.21</td>\n",
       "      <td>61.0</td>\n",
       "      <td>0</td>\n",
       "      <td>0</td>\n",
       "      <td>1</td>\n",
       "      <td>0</td>\n",
       "      <td>0</td>\n",
       "      <td>0</td>\n",
       "      <td>1</td>\n",
       "      <td>0</td>\n",
       "      <td>0</td>\n",
       "    </tr>\n",
       "    <tr>\n",
       "      <th>2</th>\n",
       "      <td>105.92</td>\n",
       "      <td>80.0</td>\n",
       "      <td>1</td>\n",
       "      <td>0</td>\n",
       "      <td>1</td>\n",
       "      <td>0</td>\n",
       "      <td>0</td>\n",
       "      <td>1</td>\n",
       "      <td>0</td>\n",
       "      <td>0</td>\n",
       "      <td>0</td>\n",
       "    </tr>\n",
       "    <tr>\n",
       "      <th>3</th>\n",
       "      <td>171.23</td>\n",
       "      <td>49.0</td>\n",
       "      <td>0</td>\n",
       "      <td>0</td>\n",
       "      <td>1</td>\n",
       "      <td>0</td>\n",
       "      <td>0</td>\n",
       "      <td>1</td>\n",
       "      <td>0</td>\n",
       "      <td>0</td>\n",
       "      <td>1</td>\n",
       "    </tr>\n",
       "    <tr>\n",
       "      <th>4</th>\n",
       "      <td>174.12</td>\n",
       "      <td>79.0</td>\n",
       "      <td>0</td>\n",
       "      <td>1</td>\n",
       "      <td>1</td>\n",
       "      <td>0</td>\n",
       "      <td>0</td>\n",
       "      <td>0</td>\n",
       "      <td>1</td>\n",
       "      <td>0</td>\n",
       "      <td>0</td>\n",
       "    </tr>\n",
       "  </tbody>\n",
       "</table>\n",
       "</div>"
      ],
      "text/plain": [
       "   avg_glucose_level   age  heart_disease  hypertension  ever_married_Yes  \\\n",
       "0             228.69  67.0              1             0                 1   \n",
       "1             202.21  61.0              0             0                 1   \n",
       "2             105.92  80.0              1             0                 1   \n",
       "3             171.23  49.0              0             0                 1   \n",
       "4             174.12  79.0              0             1                 1   \n",
       "\n",
       "   work_type_Govt_job  work_type_Never_worked  work_type_Private  \\\n",
       "0                   0                       0                  1   \n",
       "1                   0                       0                  0   \n",
       "2                   0                       0                  1   \n",
       "3                   0                       0                  1   \n",
       "4                   0                       0                  0   \n",
       "\n",
       "   work_type_Self-employed  smoking_status_formerly smoked  \\\n",
       "0                        0                               1   \n",
       "1                        1                               0   \n",
       "2                        0                               0   \n",
       "3                        0                               0   \n",
       "4                        1                               0   \n",
       "\n",
       "   smoking_status_smokes  \n",
       "0                      0  \n",
       "1                      0  \n",
       "2                      0  \n",
       "3                      1  \n",
       "4                      0  "
      ]
     },
     "execution_count": 33,
     "metadata": {},
     "output_type": "execute_result"
    }
   ],
   "source": [
    "# Classe de referência pra o modelo de regressão logistica\n",
    "x_ref = x.drop(['ever_married_No','work_type_children','smoking_status_never smoked'],axis=1)\n",
    "x_ref.head(5)"
   ]
  },
  {
   "cell_type": "markdown",
   "metadata": {},
   "source": [
    "**No modelo de regressão logistica, temos que deixar uma das classes das variáveis dummys como referência**"
   ]
  },
  {
   "cell_type": "code",
   "execution_count": 34,
   "metadata": {},
   "outputs": [],
   "source": [
    "#Separar os dados em treino e testes\n",
    "from sklearn.model_selection import train_test_split\n",
    "X_treino,X_teste,Y_treino,Y_teste=train_test_split(x_ref,y,test_size=0.3,random_state=1)"
   ]
  },
  {
   "cell_type": "markdown",
   "metadata": {},
   "source": [
    "# Smote"
   ]
  },
  {
   "cell_type": "markdown",
   "metadata": {},
   "source": [
    "- Técnicas padrão de ML, como Árvore de Decisão e Regressão Logística, têm um viés para a classe majoritária e tendem a ignorar a classe minoritária. Eles tendem apenas a prever a classe majoritária\n",
    "\n",
    "\n",
    "- O balanceamento das classes é feito através do algoritimo Smote, ele equilibra as classes para que o aprendizado seja igual para ambas as classes"
   ]
  },
  {
   "cell_type": "code",
   "execution_count": 35,
   "metadata": {},
   "outputs": [
    {
     "name": "stdout",
     "output_type": "stream",
     "text": [
      "Dados de treino classe 0: 2355\n",
      "Dados de treino classe 1: 2355\n",
      "\n",
      "Dados de teste classe 0: 1008\n",
      "Dados de teste classe 1: 62\n"
     ]
    }
   ],
   "source": [
    "#Aplicar o Smote\n",
    "\n",
    "x_smote = X_treino\n",
    "y_smote = Y_treino\n",
    "\n",
    "smt = SMOTE()\n",
    "x_smote, y_smote = smt.fit_resample(x_smote, y_smote)\n",
    "print(f'Dados de treino classe 0: {len(y_smote[y_smote==0])}')\n",
    "print(f'Dados de treino classe 1: {len(y_smote[y_smote==1])}')\n",
    "\n",
    "print(f'\\nDados de teste classe 0: {len(Y_teste[Y_teste==0])}')\n",
    "print(f'Dados de teste classe 1: {len(Y_teste[Y_teste==1])}')\n",
    "\n"
   ]
  },
  {
   "cell_type": "markdown",
   "metadata": {},
   "source": [
    "**Balanceamos os dados de treino aplicando a técnica de sobreamostragem**"
   ]
  },
  {
   "cell_type": "markdown",
   "metadata": {},
   "source": [
    "## Modelo 1 - Regressão Logistica"
   ]
  },
  {
   "cell_type": "code",
   "execution_count": 60,
   "metadata": {},
   "outputs": [
    {
     "name": "stdout",
     "output_type": "stream",
     "text": [
      "Warning: Maximum number of iterations has been exceeded.\n",
      "         Current function value: 0.332908\n",
      "         Iterations: 35\n"
     ]
    },
    {
     "data": {
      "text/html": [
       "<table class=\"simpletable\">\n",
       "<caption>Logit Regression Results</caption>\n",
       "<tr>\n",
       "  <th>Dep. Variable:</th>        <td>stroke</td>      <th>  No. Observations:  </th>  <td>  4710</td> \n",
       "</tr>\n",
       "<tr>\n",
       "  <th>Model:</th>                 <td>Logit</td>      <th>  Df Residuals:      </th>  <td>  4698</td> \n",
       "</tr>\n",
       "<tr>\n",
       "  <th>Method:</th>                 <td>MLE</td>       <th>  Df Model:          </th>  <td>    11</td> \n",
       "</tr>\n",
       "<tr>\n",
       "  <th>Date:</th>            <td>Fri, 10 Jun 2022</td> <th>  Pseudo R-squ.:     </th>  <td>0.5197</td> \n",
       "</tr>\n",
       "<tr>\n",
       "  <th>Time:</th>                <td>17:44:17</td>     <th>  Log-Likelihood:    </th> <td> -1568.0</td>\n",
       "</tr>\n",
       "<tr>\n",
       "  <th>converged:</th>             <td>False</td>      <th>  LL-Null:           </th> <td> -3264.7</td>\n",
       "</tr>\n",
       "<tr>\n",
       "  <th>Covariance Type:</th>     <td>nonrobust</td>    <th>  LLR p-value:       </th>  <td> 0.000</td> \n",
       "</tr>\n",
       "</table>\n",
       "<table class=\"simpletable\">\n",
       "<tr>\n",
       "                 <td></td>                   <th>coef</th>     <th>std err</th>      <th>z</th>      <th>P>|z|</th>  <th>[0.025</th>    <th>0.975]</th>  \n",
       "</tr>\n",
       "<tr>\n",
       "  <th>const</th>                          <td>   -2.4427</td> <td>    0.249</td> <td>   -9.809</td> <td> 0.000</td> <td>   -2.931</td> <td>   -1.955</td>\n",
       "</tr>\n",
       "<tr>\n",
       "  <th>avg_glucose_level</th>              <td>    0.0069</td> <td>    0.001</td> <td>    8.594</td> <td> 0.000</td> <td>    0.005</td> <td>    0.009</td>\n",
       "</tr>\n",
       "<tr>\n",
       "  <th>age</th>                            <td>    0.1011</td> <td>    0.004</td> <td>   27.207</td> <td> 0.000</td> <td>    0.094</td> <td>    0.108</td>\n",
       "</tr>\n",
       "<tr>\n",
       "  <th>heart_disease</th>                  <td>   -1.0403</td> <td>    0.196</td> <td>   -5.312</td> <td> 0.000</td> <td>   -1.424</td> <td>   -0.656</td>\n",
       "</tr>\n",
       "<tr>\n",
       "  <th>hypertension</th>                   <td>   -0.8240</td> <td>    0.137</td> <td>   -5.993</td> <td> 0.000</td> <td>   -1.093</td> <td>   -0.555</td>\n",
       "</tr>\n",
       "<tr>\n",
       "  <th>ever_married_Yes</th>               <td>   -0.2638</td> <td>    0.137</td> <td>   -1.925</td> <td> 0.054</td> <td>   -0.532</td> <td>    0.005</td>\n",
       "</tr>\n",
       "<tr>\n",
       "  <th>work_type_Govt_job</th>             <td>   -6.0376</td> <td>    0.297</td> <td>  -20.307</td> <td> 0.000</td> <td>   -6.620</td> <td>   -5.455</td>\n",
       "</tr>\n",
       "<tr>\n",
       "  <th>work_type_Never_worked</th>         <td>  -24.1420</td> <td> 5.89e+04</td> <td>   -0.000</td> <td> 1.000</td> <td>-1.15e+05</td> <td> 1.15e+05</td>\n",
       "</tr>\n",
       "<tr>\n",
       "  <th>work_type_Private</th>              <td>   -3.7340</td> <td>    0.217</td> <td>  -17.229</td> <td> 0.000</td> <td>   -4.159</td> <td>   -3.309</td>\n",
       "</tr>\n",
       "<tr>\n",
       "  <th>work_type_Self-employed</th>        <td>   -5.1136</td> <td>    0.245</td> <td>  -20.842</td> <td> 0.000</td> <td>   -5.595</td> <td>   -4.633</td>\n",
       "</tr>\n",
       "<tr>\n",
       "  <th>smoking_status_formerly smoked</th> <td>   -1.4529</td> <td>    0.121</td> <td>  -12.030</td> <td> 0.000</td> <td>   -1.690</td> <td>   -1.216</td>\n",
       "</tr>\n",
       "<tr>\n",
       "  <th>smoking_status_smokes</th>          <td>   -0.7557</td> <td>    0.130</td> <td>   -5.831</td> <td> 0.000</td> <td>   -1.010</td> <td>   -0.502</td>\n",
       "</tr>\n",
       "</table>"
      ],
      "text/plain": [
       "<class 'statsmodels.iolib.summary.Summary'>\n",
       "\"\"\"\n",
       "                           Logit Regression Results                           \n",
       "==============================================================================\n",
       "Dep. Variable:                 stroke   No. Observations:                 4710\n",
       "Model:                          Logit   Df Residuals:                     4698\n",
       "Method:                           MLE   Df Model:                           11\n",
       "Date:                Fri, 10 Jun 2022   Pseudo R-squ.:                  0.5197\n",
       "Time:                        17:44:17   Log-Likelihood:                -1568.0\n",
       "converged:                      False   LL-Null:                       -3264.7\n",
       "Covariance Type:            nonrobust   LLR p-value:                     0.000\n",
       "==================================================================================================\n",
       "                                     coef    std err          z      P>|z|      [0.025      0.975]\n",
       "--------------------------------------------------------------------------------------------------\n",
       "const                             -2.4427      0.249     -9.809      0.000      -2.931      -1.955\n",
       "avg_glucose_level                  0.0069      0.001      8.594      0.000       0.005       0.009\n",
       "age                                0.1011      0.004     27.207      0.000       0.094       0.108\n",
       "heart_disease                     -1.0403      0.196     -5.312      0.000      -1.424      -0.656\n",
       "hypertension                      -0.8240      0.137     -5.993      0.000      -1.093      -0.555\n",
       "ever_married_Yes                  -0.2638      0.137     -1.925      0.054      -0.532       0.005\n",
       "work_type_Govt_job                -6.0376      0.297    -20.307      0.000      -6.620      -5.455\n",
       "work_type_Never_worked           -24.1420   5.89e+04     -0.000      1.000   -1.15e+05    1.15e+05\n",
       "work_type_Private                 -3.7340      0.217    -17.229      0.000      -4.159      -3.309\n",
       "work_type_Self-employed           -5.1136      0.245    -20.842      0.000      -5.595      -4.633\n",
       "smoking_status_formerly smoked    -1.4529      0.121    -12.030      0.000      -1.690      -1.216\n",
       "smoking_status_smokes             -0.7557      0.130     -5.831      0.000      -1.010      -0.502\n",
       "==================================================================================================\n",
       "\"\"\""
      ]
     },
     "execution_count": 60,
     "metadata": {},
     "output_type": "execute_result"
    }
   ],
   "source": [
    "#Criar e treinar o modelo de regressão logistica\n",
    "import statsmodels.api as sm\n",
    "\n",
    "x_interc_smote = sm.add_constant(x_smote) # Add o Intercept\n",
    "modelo = sm.Logit(y_smote,x_interc_smote) # funçao com os 2 coeficientes,(Primeiro o y depois o x)\n",
    "modelo_fit = modelo.fit() # Treinar o modelo\n",
    "modelo_fit.summary() # Verificar os dados do modelo"
   ]
  },
  {
   "cell_type": "markdown",
   "metadata": {},
   "source": [
    "**Todas as variáveis tem significância estatística para o modelo de regressão logistica**"
   ]
  },
  {
   "cell_type": "markdown",
   "metadata": {},
   "source": [
    "**OBS: Apesar da variável 'work_type_Never_worked' não ter significância estatística, as outras classes da sua categoria têm, isso faz com que ela permaneça no modelo**"
   ]
  },
  {
   "cell_type": "code",
   "execution_count": 37,
   "metadata": {},
   "outputs": [
    {
     "data": {
      "text/plain": [
       "<AxesSubplot:>"
      ]
     },
     "execution_count": 37,
     "metadata": {},
     "output_type": "execute_result"
    },
    {
     "data": {
      "image/png": "[encoded data removed]",
      "text/plain": [
       "<Figure size 432x288 with 2 Axes>"
      ]
     },
     "metadata": {
      "needs_background": "light"
     },
     "output_type": "display_data"
    }
   ],
   "source": [
    "#Previsão dados de treino\n",
    "pred_treino_RL =pd.DataFrame(modelo_fit.predict(x_interc_smote),columns=['Pred'])\n",
    "pred_treino_RL['Pred'] = np.where(pred_treino_RL.iloc[:,0] >=0.5 , 1, 0)\n",
    "\n",
    "#Matriz de confusão\n",
    "from sklearn.metrics import confusion_matrix\n",
    "cm = confusion_matrix(pred_treino_RL,y_smote)\n",
    "sns.heatmap(cm,annot=True,fmt='d')"
   ]
  },
  {
   "cell_type": "code",
   "execution_count": 38,
   "metadata": {},
   "outputs": [
    {
     "name": "stdout",
     "output_type": "stream",
     "text": [
      "              precision    recall  f1-score   support\n",
      "\n",
      "           0       0.87      0.83      0.85      2464\n",
      "           1       0.82      0.86      0.84      2246\n",
      "\n",
      "    accuracy                           0.84      4710\n",
      "   macro avg       0.84      0.84      0.84      4710\n",
      "weighted avg       0.84      0.84      0.84      4710\n",
      "\n"
     ]
    }
   ],
   "source": [
    "#Metricas dos dados de treino\n",
    "from sklearn.metrics import classification_report\n",
    "print(classification_report(pred_treino_RL,y_smote))"
   ]
  },
  {
   "cell_type": "code",
   "execution_count": 61,
   "metadata": {},
   "outputs": [
    {
     "data": {
      "text/plain": [
       "<AxesSubplot:>"
      ]
     },
     "execution_count": 61,
     "metadata": {},
     "output_type": "execute_result"
    },
    {
     "data": {
      "image/png": "[encoded data removed]",
      "text/plain": [
       "<Figure size 432x288 with 2 Axes>"
      ]
     },
     "metadata": {
      "needs_background": "light"
     },
     "output_type": "display_data"
    }
   ],
   "source": [
    "#Previsão dados de teste\n",
    "x_interc_teste = sm.add_constant(X_teste) # Add o Intercept\n",
    "pred_teste_RL =pd.DataFrame(modelo_fit.predict(x_interc_teste),columns=['Pred'])\n",
    "pred_teste_RL['Pred'] = np.where(pred_teste_RL.iloc[:,0] >=0.5 , 1, 0)\n",
    "\n",
    "#Matriz de confusão\n",
    "from sklearn.metrics import confusion_matrix\n",
    "cm = confusion_matrix(pred_teste_RL,Y_teste)\n",
    "sns.heatmap(cm,annot=True,fmt='d')"
   ]
  },
  {
   "cell_type": "code",
   "execution_count": 40,
   "metadata": {},
   "outputs": [
    {
     "name": "stdout",
     "output_type": "stream",
     "text": [
      "              precision    recall  f1-score   support\n",
      "\n",
      "           0       0.86      0.96      0.91       906\n",
      "           1       0.40      0.15      0.22       164\n",
      "\n",
      "    accuracy                           0.84      1070\n",
      "   macro avg       0.63      0.56      0.56      1070\n",
      "weighted avg       0.79      0.84      0.80      1070\n",
      "\n"
     ]
    }
   ],
   "source": [
    "#Metricas dos dados de teste\n",
    "from sklearn.metrics import classification_report, recall_score\n",
    "print(classification_report(pred_teste_RL,Y_teste))\n"
   ]
  },
  {
   "cell_type": "code",
   "execution_count": 41,
   "metadata": {},
   "outputs": [
    {
     "data": {
      "text/html": [
       "<div>\n",
       "<style scoped>\n",
       "    .dataframe tbody tr th:only-of-type {\n",
       "        vertical-align: middle;\n",
       "    }\n",
       "\n",
       "    .dataframe tbody tr th {\n",
       "        vertical-align: top;\n",
       "    }\n",
       "\n",
       "    .dataframe thead th {\n",
       "        text-align: right;\n",
       "    }\n",
       "</style>\n",
       "<table border=\"1\" class=\"dataframe\">\n",
       "  <thead>\n",
       "    <tr style=\"text-align: right;\">\n",
       "      <th></th>\n",
       "      <th>R_Logistica</th>\n",
       "    </tr>\n",
       "  </thead>\n",
       "  <tbody>\n",
       "    <tr>\n",
       "      <th>0</th>\n",
       "      <td>0.86</td>\n",
       "    </tr>\n",
       "    <tr>\n",
       "      <th>1</th>\n",
       "      <td>0.15</td>\n",
       "    </tr>\n",
       "  </tbody>\n",
       "</table>\n",
       "</div>"
      ],
      "text/plain": [
       "   R_Logistica\n",
       "0         0.86\n",
       "1         0.15"
      ]
     },
     "execution_count": 41,
     "metadata": {},
     "output_type": "execute_result"
    }
   ],
   "source": [
    "#Recall\n",
    "a = round(recall_score(pred_treino_RL,y_smote),2)\n",
    "b = round(recall_score(pred_teste_RL,Y_teste),2)\n",
    "c = [a,b]\n",
    "recall = pd.DataFrame(c,columns=['R_Logistica'])\n",
    "\n",
    "recall"
   ]
  },
  {
   "cell_type": "markdown",
   "metadata": {},
   "source": [
    "**Note que a uma discrepância entre o valor do recall dos dados de treino e teste, mesmo balanceando os dados o algoritimo de regressão logistica não conseguiu uma boa performance**"
   ]
  },
  {
   "cell_type": "markdown",
   "metadata": {},
   "source": [
    "# Modelo 2 - Random Forest"
   ]
  },
  {
   "cell_type": "code",
   "execution_count": 42,
   "metadata": {},
   "outputs": [
    {
     "data": {
      "text/plain": [
       "0.9402805611222446"
      ]
     },
     "execution_count": 42,
     "metadata": {},
     "output_type": "execute_result"
    }
   ],
   "source": [
    "from sklearn.ensemble import RandomForestClassifier\n",
    "\n",
    "#Separar os dados em treino e testes\n",
    "X_treino,X_teste,Y_treino,Y_teste=train_test_split(x_ref,y,test_size=0.3,random_state=1)\n",
    "\n",
    "\n",
    "# Construção do Classificador\n",
    "random_forest = RandomForestClassifier(random_state=1) \n",
    "\n",
    "#Treinar o modelo com os dados de treino\n",
    "modelo_random =  random_forest.fit(X_treino, Y_treino)\n",
    "\n",
    "# Score do modelo\n",
    "from sklearn.model_selection import cross_val_score\n",
    "scores = cross_val_score(modelo_random, X_treino, Y_treino)\n",
    "\n",
    "# Média do score\n",
    "mean = scores.mean();mean  "
   ]
  },
  {
   "cell_type": "code",
   "execution_count": 43,
   "metadata": {},
   "outputs": [
    {
     "data": {
      "text/plain": [
       "<AxesSubplot:>"
      ]
     },
     "execution_count": 43,
     "metadata": {},
     "output_type": "execute_result"
    },
    {
     "data": {
      "image/png": "[encoded data removed]",
      "text/plain": [
       "<Figure size 432x288 with 2 Axes>"
      ]
     },
     "metadata": {
      "needs_background": "light"
     },
     "output_type": "display_data"
    }
   ],
   "source": [
    "#Matriz de confusão dados de treino\n",
    "pred_treino_RF = random_forest.predict(X_treino) \n",
    "cm = confusion_matrix(pred_treino_RF,Y_treino)\n",
    "sns.heatmap(cm,annot=True,fmt='d')"
   ]
  },
  {
   "cell_type": "code",
   "execution_count": 44,
   "metadata": {},
   "outputs": [
    {
     "name": "stdout",
     "output_type": "stream",
     "text": [
      "              precision    recall  f1-score   support\n",
      "\n",
      "           0       1.00      1.00      1.00      2355\n",
      "           1       1.00      1.00      1.00       140\n",
      "\n",
      "    accuracy                           1.00      2495\n",
      "   macro avg       1.00      1.00      1.00      2495\n",
      "weighted avg       1.00      1.00      1.00      2495\n",
      "\n"
     ]
    }
   ],
   "source": [
    "#Metricas dos dados de treino\n",
    "from sklearn.metrics import classification_report\n",
    "print(classification_report(pred_treino_RF,Y_treino))"
   ]
  },
  {
   "cell_type": "code",
   "execution_count": 45,
   "metadata": {},
   "outputs": [
    {
     "data": {
      "text/plain": [
       "<AxesSubplot:>"
      ]
     },
     "execution_count": 45,
     "metadata": {},
     "output_type": "execute_result"
    },
    {
     "data": {
      "image/png": "[encoded data removed]",
      "text/plain": [
       "<Figure size 432x288 with 2 Axes>"
      ]
     },
     "metadata": {
      "needs_background": "light"
     },
     "output_type": "display_data"
    }
   ],
   "source": [
    "#Matriz de confusão dados de teste\n",
    "pred_teste_RF = random_forest.predict(X_teste) \n",
    "cm = confusion_matrix(pred_teste_RF,Y_teste)\n",
    "sns.heatmap(cm,annot=True,fmt='d')"
   ]
  },
  {
   "cell_type": "code",
   "execution_count": 46,
   "metadata": {},
   "outputs": [
    {
     "name": "stdout",
     "output_type": "stream",
     "text": [
      "              precision    recall  f1-score   support\n",
      "\n",
      "           0       0.99      0.95      0.97      1056\n",
      "           1       0.06      0.29      0.11        14\n",
      "\n",
      "    accuracy                           0.94      1070\n",
      "   macro avg       0.53      0.62      0.54      1070\n",
      "weighted avg       0.98      0.94      0.96      1070\n",
      "\n"
     ]
    }
   ],
   "source": [
    "#Metricas dos dados de teste\n",
    "print(classification_report(pred_teste_RF,Y_teste))"
   ]
  },
  {
   "cell_type": "code",
   "execution_count": 47,
   "metadata": {},
   "outputs": [
    {
     "data": {
      "text/html": [
       "<div>\n",
       "<style scoped>\n",
       "    .dataframe tbody tr th:only-of-type {\n",
       "        vertical-align: middle;\n",
       "    }\n",
       "\n",
       "    .dataframe tbody tr th {\n",
       "        vertical-align: top;\n",
       "    }\n",
       "\n",
       "    .dataframe thead th {\n",
       "        text-align: right;\n",
       "    }\n",
       "</style>\n",
       "<table border=\"1\" class=\"dataframe\">\n",
       "  <thead>\n",
       "    <tr style=\"text-align: right;\">\n",
       "      <th></th>\n",
       "      <th>R_Logistica</th>\n",
       "      <th>R_Forest</th>\n",
       "    </tr>\n",
       "  </thead>\n",
       "  <tbody>\n",
       "    <tr>\n",
       "      <th>0</th>\n",
       "      <td>0.86</td>\n",
       "      <td>1.00</td>\n",
       "    </tr>\n",
       "    <tr>\n",
       "      <th>1</th>\n",
       "      <td>0.15</td>\n",
       "      <td>0.29</td>\n",
       "    </tr>\n",
       "  </tbody>\n",
       "</table>\n",
       "</div>"
      ],
      "text/plain": [
       "   R_Logistica  R_Forest\n",
       "0         0.86      1.00\n",
       "1         0.15      0.29"
      ]
     },
     "execution_count": 47,
     "metadata": {},
     "output_type": "execute_result"
    }
   ],
   "source": [
    "#Recall\n",
    "a = round(recall_score(pred_treino_RF,Y_treino),2)\n",
    "b = round(recall_score(pred_teste_RF,Y_teste),2)\n",
    "c = [a,b]\n",
    "recall['R_Forest'] = c\n",
    "recall"
   ]
  },
  {
   "cell_type": "markdown",
   "metadata": {},
   "source": [
    "**Observe que o algoritimo Random Forest não comete nenhum erro com os dados de treino, mesmo sem balancear os dados, já com os dados de teste o algoritimo não performa bem, deixando evidente que a overfitting no modelo**"
   ]
  },
  {
   "cell_type": "markdown",
   "metadata": {},
   "source": [
    "# Modelo 3 - Redes Neurais - MLPClassifier"
   ]
  },
  {
   "cell_type": "code",
   "execution_count": 48,
   "metadata": {},
   "outputs": [
    {
     "name": "stdout",
     "output_type": "stream",
     "text": [
      "Iteration 1, loss = 0.38609595\n",
      "Iteration 2, loss = 0.28212011\n",
      "Iteration 3, loss = 0.28207541\n",
      "Iteration 4, loss = 0.29920946\n",
      "Iteration 5, loss = 0.26458396\n",
      "Iteration 6, loss = 0.25856717\n",
      "Iteration 7, loss = 0.25374356\n",
      "Iteration 8, loss = 0.25173718\n",
      "Iteration 9, loss = 0.24367219\n",
      "Iteration 10, loss = 0.24508092\n",
      "Iteration 11, loss = 0.23929214\n",
      "Iteration 12, loss = 0.25430654\n",
      "Iteration 13, loss = 0.26182688\n",
      "Iteration 14, loss = 0.24563365\n",
      "Iteration 15, loss = 0.23187486\n",
      "Iteration 16, loss = 0.23452406\n",
      "Iteration 17, loss = 0.22755493\n",
      "Iteration 18, loss = 0.22436823\n",
      "Iteration 19, loss = 0.23131102\n",
      "Iteration 20, loss = 0.22217648\n",
      "Iteration 21, loss = 0.22083454\n",
      "Iteration 22, loss = 0.22307928\n",
      "Iteration 23, loss = 0.21328605\n",
      "Iteration 24, loss = 0.21311442\n",
      "Iteration 25, loss = 0.22892462\n",
      "Iteration 26, loss = 0.21937711\n",
      "Iteration 27, loss = 0.22492005\n",
      "Iteration 28, loss = 0.21898499\n",
      "Iteration 29, loss = 0.20940023\n",
      "Iteration 30, loss = 0.21208625\n",
      "Iteration 31, loss = 0.20476811\n",
      "Iteration 32, loss = 0.23228897\n",
      "Iteration 33, loss = 0.23481255\n",
      "Iteration 34, loss = 0.22079215\n",
      "Iteration 35, loss = 0.21911621\n",
      "Iteration 36, loss = 0.21354744\n",
      "Iteration 37, loss = 0.24513848\n",
      "Iteration 38, loss = 0.24276230\n",
      "Iteration 39, loss = 0.20324900\n",
      "Iteration 40, loss = 0.20254971\n",
      "Iteration 41, loss = 0.20262731\n",
      "Iteration 42, loss = 0.19682496\n",
      "Iteration 43, loss = 0.20667352\n",
      "Iteration 44, loss = 0.20501452\n",
      "Iteration 45, loss = 0.19763045\n",
      "Iteration 46, loss = 0.19623411\n",
      "Iteration 47, loss = 0.19864424\n",
      "Iteration 48, loss = 0.19505178\n",
      "Iteration 49, loss = 0.21481501\n",
      "Iteration 50, loss = 0.21747393\n",
      "Iteration 51, loss = 0.22810041\n",
      "Iteration 52, loss = 0.19229012\n",
      "Iteration 53, loss = 0.19574740\n",
      "Iteration 54, loss = 0.20546949\n",
      "Iteration 55, loss = 0.20427794\n",
      "Iteration 56, loss = 0.21289324\n",
      "Iteration 57, loss = 0.19758233\n",
      "Iteration 58, loss = 0.19374869\n",
      "Iteration 59, loss = 0.19684876\n",
      "Iteration 60, loss = 0.19240809\n",
      "Iteration 61, loss = 0.20297761\n",
      "Iteration 62, loss = 0.19230714\n",
      "Iteration 63, loss = 0.19117340\n",
      "Iteration 64, loss = 0.18811468\n",
      "Iteration 65, loss = 0.19754191\n",
      "Iteration 66, loss = 0.20105151\n",
      "Iteration 67, loss = 0.19528538\n",
      "Iteration 68, loss = 0.19047480\n",
      "Iteration 69, loss = 0.18868825\n",
      "Iteration 70, loss = 0.19017409\n",
      "Iteration 71, loss = 0.19084234\n",
      "Iteration 72, loss = 0.20056121\n",
      "Iteration 73, loss = 0.20433647\n",
      "Iteration 74, loss = 0.19765006\n",
      "Iteration 75, loss = 0.19553726\n",
      "Training loss did not improve more than tol=0.000100 for 10 consecutive epochs. Stopping.\n"
     ]
    },
    {
     "data": {
      "text/html": [
       "<style>#sk-container-id-1 {color: black;background-color: white;}#sk-container-id-1 pre{padding: 0;}#sk-container-id-1 div.sk-toggleable {background-color: white;}#sk-container-id-1 label.sk-toggleable__label {cursor: pointer;display: block;width: 100%;margin-bottom: 0;padding: 0.3em;box-sizing: border-box;text-align: center;}#sk-container-id-1 label.sk-toggleable__label-arrow:before {content: \"▸\";float: left;margin-right: 0.25em;color: #696969;}#sk-container-id-1 label.sk-toggleable__label-arrow:hover:before {color: black;}#sk-container-id-1 div.sk-estimator:hover label.sk-toggleable__label-arrow:before {color: black;}#sk-container-id-1 div.sk-toggleable__content {max-height: 0;max-width: 0;overflow: hidden;text-align: left;background-color: #f0f8ff;}#sk-container-id-1 div.sk-toggleable__content pre {margin: 0.2em;color: black;border-radius: 0.25em;background-color: #f0f8ff;}#sk-container-id-1 input.sk-toggleable__control:checked~div.sk-toggleable__content {max-height: 200px;max-width: 100%;overflow: auto;}#sk-container-id-1 input.sk-toggleable__control:checked~label.sk-toggleable__label-arrow:before {content: \"▾\";}#sk-container-id-1 div.sk-estimator input.sk-toggleable__control:checked~label.sk-toggleable__label {background-color: #d4ebff;}#sk-container-id-1 div.sk-label input.sk-toggleable__control:checked~label.sk-toggleable__label {background-color: #d4ebff;}#sk-container-id-1 input.sk-hidden--visually {border: 0;clip: rect(1px 1px 1px 1px);clip: rect(1px, 1px, 1px, 1px);height: 1px;margin: -1px;overflow: hidden;padding: 0;position: absolute;width: 1px;}#sk-container-id-1 div.sk-estimator {font-family: monospace;background-color: #f0f8ff;border: 1px dotted black;border-radius: 0.25em;box-sizing: border-box;margin-bottom: 0.5em;}#sk-container-id-1 div.sk-estimator:hover {background-color: #d4ebff;}#sk-container-id-1 div.sk-parallel-item::after {content: \"\";width: 100%;border-bottom: 1px solid gray;flex-grow: 1;}#sk-container-id-1 div.sk-label:hover label.sk-toggleable__label {background-color: #d4ebff;}#sk-container-id-1 div.sk-serial::before {content: \"\";position: absolute;border-left: 1px solid gray;box-sizing: border-box;top: 0;bottom: 0;left: 50%;z-index: 0;}#sk-container-id-1 div.sk-serial {display: flex;flex-direction: column;align-items: center;background-color: white;padding-right: 0.2em;padding-left: 0.2em;position: relative;}#sk-container-id-1 div.sk-item {position: relative;z-index: 1;}#sk-container-id-1 div.sk-parallel {display: flex;align-items: stretch;justify-content: center;background-color: white;position: relative;}#sk-container-id-1 div.sk-item::before, #sk-container-id-1 div.sk-parallel-item::before {content: \"\";position: absolute;border-left: 1px solid gray;box-sizing: border-box;top: 0;bottom: 0;left: 50%;z-index: -1;}#sk-container-id-1 div.sk-parallel-item {display: flex;flex-direction: column;z-index: 1;position: relative;background-color: white;}#sk-container-id-1 div.sk-parallel-item:first-child::after {align-self: flex-end;width: 50%;}#sk-container-id-1 div.sk-parallel-item:last-child::after {align-self: flex-start;width: 50%;}#sk-container-id-1 div.sk-parallel-item:only-child::after {width: 0;}#sk-container-id-1 div.sk-dashed-wrapped {border: 1px dashed gray;margin: 0 0.4em 0.5em 0.4em;box-sizing: border-box;padding-bottom: 0.4em;background-color: white;}#sk-container-id-1 div.sk-label label {font-family: monospace;font-weight: bold;display: inline-block;line-height: 1.2em;}#sk-container-id-1 div.sk-label-container {text-align: center;}#sk-container-id-1 div.sk-container {/* jupyter's `normalize.less` sets `[hidden] { display: none; }` but bootstrap.min.css set `[hidden] { display: none !important; }` so we also need the `!important` here to be able to override the default hidden behavior on the sphinx rendered scikit-learn.org. See: https://github.com/scikit-learn/scikit-learn/issues/21755 */display: inline-block !important;position: relative;}#sk-container-id-1 div.sk-text-repr-fallback {display: none;}</style><div id=\"sk-container-id-1\" class=\"sk-top-container\"><div class=\"sk-text-repr-fallback\"><pre>MLPClassifier(hidden_layer_sizes=(100, 100), max_iter=1500, random_state=1,\n",
       "              verbose=True)</pre><b>In a Jupyter environment, please rerun this cell to show the HTML representation or trust the notebook. <br />On GitHub, the HTML representation is unable to render, please try loading this page with nbviewer.org.</b></div><div class=\"sk-container\" hidden><div class=\"sk-item\"><div class=\"sk-estimator sk-toggleable\"><input class=\"sk-toggleable__control sk-hidden--visually\" id=\"sk-estimator-id-1\" type=\"checkbox\" checked><label for=\"sk-estimator-id-1\" class=\"sk-toggleable__label sk-toggleable__label-arrow\">MLPClassifier</label><div class=\"sk-toggleable__content\"><pre>MLPClassifier(hidden_layer_sizes=(100, 100), max_iter=1500, random_state=1,\n",
       "              verbose=True)</pre></div></div></div></div></div>"
      ],
      "text/plain": [
       "MLPClassifier(hidden_layer_sizes=(100, 100), max_iter=1500, random_state=1,\n",
       "              verbose=True)"
      ]
     },
     "execution_count": 48,
     "metadata": {},
     "output_type": "execute_result"
    }
   ],
   "source": [
    "from sklearn.neural_network import MLPClassifier\n",
    "\n",
    "#Separar os dados em treino e testes\n",
    "\n",
    "X_treino,X_teste,Y_treino,Y_teste=train_test_split(x_ref,y,test_size=0.3,random_state=1)\n",
    "\n",
    "\n",
    "#Smote\n",
    "smt = SMOTE()\n",
    "x_smote, y_smote = smt.fit_resample(X_treino, Y_treino)\n",
    "\n",
    "\n",
    "\n",
    "rede_neural1 = MLPClassifier(max_iter=1500, verbose=True, \n",
    "                                   solver = 'adam', activation = 'relu',\n",
    "                                   hidden_layer_sizes = (100,100),random_state=1)\n",
    "rede_neural1.fit(X_treino, Y_treino)"
   ]
  },
  {
   "cell_type": "code",
   "execution_count": 49,
   "metadata": {},
   "outputs": [
    {
     "data": {
      "image/png": "[encoded data removed]",
      "text/plain": [
       "<Figure size 432x288 with 2 Axes>"
      ]
     },
     "metadata": {
      "needs_background": "light"
     },
     "output_type": "display_data"
    }
   ],
   "source": [
    "#Matriz de confusão dados de treino\n",
    "pred_treino_RN1 = rede_neural1.predict(x_smote) \n",
    "cm = confusion_matrix(pred_treino_RN1,y_smote)\n",
    "sns.heatmap(cm,annot=True,fmt='d');"
   ]
  },
  {
   "cell_type": "code",
   "execution_count": 50,
   "metadata": {},
   "outputs": [
    {
     "name": "stdout",
     "output_type": "stream",
     "text": [
      "              precision    recall  f1-score   support\n",
      "\n",
      "           0       1.00      0.50      0.67      4704\n",
      "           1       0.00      1.00      0.01         6\n",
      "\n",
      "    accuracy                           0.50      4710\n",
      "   macro avg       0.50      0.75      0.34      4710\n",
      "weighted avg       1.00      0.50      0.67      4710\n",
      "\n"
     ]
    }
   ],
   "source": [
    "#Metricas dos dados de treino\n",
    "from sklearn.metrics import classification_report\n",
    "print(classification_report(pred_treino_RN1,y_smote))"
   ]
  },
  {
   "cell_type": "code",
   "execution_count": 51,
   "metadata": {},
   "outputs": [
    {
     "data": {
      "text/plain": [
       "<AxesSubplot:>"
      ]
     },
     "execution_count": 51,
     "metadata": {},
     "output_type": "execute_result"
    },
    {
     "data": {
      "image/png": "[encoded data removed]",
      "text/plain": [
       "<Figure size 432x288 with 2 Axes>"
      ]
     },
     "metadata": {
      "needs_background": "light"
     },
     "output_type": "display_data"
    }
   ],
   "source": [
    "#Matriz de confusão dados de teste\n",
    "pred_teste_RN1 = rede_neural1.predict(X_teste) \n",
    "cm = confusion_matrix(pred_teste_RN1,Y_teste)\n",
    "sns.heatmap(cm,annot=True,fmt='d')"
   ]
  },
  {
   "cell_type": "code",
   "execution_count": 62,
   "metadata": {},
   "outputs": [
    {
     "name": "stdout",
     "output_type": "stream",
     "text": [
      "              precision    recall  f1-score   support\n",
      "\n",
      "           0       1.00      0.94      0.97      1070\n",
      "           1       0.00      0.00      0.00         0\n",
      "\n",
      "    accuracy                           0.94      1070\n",
      "   macro avg       0.50      0.47      0.49      1070\n",
      "weighted avg       1.00      0.94      0.97      1070\n",
      "\n"
     ]
    }
   ],
   "source": [
    "#Metricas dos dados de teste\n",
    "print(classification_report(pred_teste_RN1,Y_teste))"
   ]
  },
  {
   "cell_type": "code",
   "execution_count": 63,
   "metadata": {},
   "outputs": [
    {
     "data": {
      "text/html": [
       "<div>\n",
       "<style scoped>\n",
       "    .dataframe tbody tr th:only-of-type {\n",
       "        vertical-align: middle;\n",
       "    }\n",
       "\n",
       "    .dataframe tbody tr th {\n",
       "        vertical-align: top;\n",
       "    }\n",
       "\n",
       "    .dataframe thead th {\n",
       "        text-align: right;\n",
       "    }\n",
       "</style>\n",
       "<table border=\"1\" class=\"dataframe\">\n",
       "  <thead>\n",
       "    <tr style=\"text-align: right;\">\n",
       "      <th></th>\n",
       "      <th>R_Logistica</th>\n",
       "      <th>R_Forest</th>\n",
       "      <th>R_Neural_1</th>\n",
       "      <th>R_Neural_2</th>\n",
       "    </tr>\n",
       "  </thead>\n",
       "  <tbody>\n",
       "    <tr>\n",
       "      <th>Treino</th>\n",
       "      <td>0.86</td>\n",
       "      <td>1.00</td>\n",
       "      <td>1.0</td>\n",
       "      <td>1.0</td>\n",
       "    </tr>\n",
       "    <tr>\n",
       "      <th>Teste</th>\n",
       "      <td>0.15</td>\n",
       "      <td>0.29</td>\n",
       "      <td>0.0</td>\n",
       "      <td>0.0</td>\n",
       "    </tr>\n",
       "  </tbody>\n",
       "</table>\n",
       "</div>"
      ],
      "text/plain": [
       "        R_Logistica  R_Forest  R_Neural_1  R_Neural_2\n",
       "Treino         0.86      1.00         1.0         1.0\n",
       "Teste          0.15      0.29         0.0         0.0"
      ]
     },
     "execution_count": 63,
     "metadata": {},
     "output_type": "execute_result"
    }
   ],
   "source": [
    "#Recall\n",
    "a = round(recall_score(pred_treino_RN1,y_smote),2)\n",
    "b = round(recall_score(pred_teste_RN1,Y_teste),2)\n",
    "c = [a,b]\n",
    "recall['R_Neural_1'] = c\n",
    "recall"
   ]
  },
  {
   "cell_type": "markdown",
   "metadata": {},
   "source": [
    "**Apesar das Redes Neurais normalmente terem um bom desempenho em relação aos algoritimos de machine learning, neste caso o desempenho nos dados de teste foi muito abaixo comparado com o algoritimo Random Forest, não acertando nenhum resultado dos pacientes que sofreram de AVC**"
   ]
  },
  {
   "cell_type": "markdown",
   "metadata": {},
   "source": [
    "# Modelo 4 - Redes Neurais - MLPClassifier"
   ]
  },
  {
   "cell_type": "markdown",
   "metadata": {},
   "source": [
    "## Otimizando o algoritimo"
   ]
  },
  {
   "cell_type": "code",
   "execution_count": 54,
   "metadata": {},
   "outputs": [
    {
     "name": "stdout",
     "output_type": "stream",
     "text": [
      "0.9438877755511023\n",
      "0.944689378757515\n"
     ]
    }
   ],
   "source": [
    "#Separar as variaveis em treino e teste\n",
    "import warnings\n",
    "warnings.filterwarnings('ignore')\n",
    "X_treino,X_teste,Y_treino,Y_teste=train_test_split(x_ref,y,test_size=0.3,random_state=1)\n",
    "\n",
    "\n",
    "#Otimizção \n",
    "score = 0.8\n",
    "r = ['identity', 'logistic', 'tanh', 'relu']\n",
    "p = ['lbfgs', 'sgd', 'adam']\n",
    "q = ['constant', 'invscaling', 'adaptive']\n",
    "for i in r:\n",
    "    for u in p:\n",
    "        for e in q:\n",
    "            try:\n",
    "                rede_neural_2 = MLPClassifier(max_iter=500, verbose=False, tol=0.0000100,\n",
    "                                                   solver = u, activation = i,\n",
    "                                                   hidden_layer_sizes = (50,50),learning_rate=e,random_state=1)\n",
    "                rede_neural_2.fit(X_treino, Y_treino)\n",
    "                \n",
    "                if rede_neural_2.score(X_treino, Y_treino) > score:\n",
    "                    melhor_fit = rede_neural_2.fit(X_treino, Y_treino)\n",
    "                    score = rede_neural_2.score(X_treino, Y_treino)\n",
    "                    \n",
    "                    print(score)\n",
    "                    \n",
    "            except: continue\n",
    "         "
   ]
  },
  {
   "cell_type": "code",
   "execution_count": 55,
   "metadata": {},
   "outputs": [
    {
     "data": {
      "text/plain": [
       "<AxesSubplot:>"
      ]
     },
     "execution_count": 55,
     "metadata": {},
     "output_type": "execute_result"
    },
    {
     "data": {
      "image/png": "[encoded data removed]",
      "text/plain": [
       "<Figure size 432x288 with 2 Axes>"
      ]
     },
     "metadata": {
      "needs_background": "light"
     },
     "output_type": "display_data"
    }
   ],
   "source": [
    "#Matriz de confusão dados de treino\n",
    "pred_treino_RN2 = melhor_fit.predict(X_treino) \n",
    "cm = confusion_matrix(pred_treino_RN2,Y_treino)\n",
    "sns.heatmap(cm,annot=True,fmt='d')"
   ]
  },
  {
   "cell_type": "code",
   "execution_count": 56,
   "metadata": {},
   "outputs": [
    {
     "name": "stdout",
     "output_type": "stream",
     "text": [
      "              precision    recall  f1-score   support\n",
      "\n",
      "           0       1.00      0.94      0.97      2493\n",
      "           1       0.01      1.00      0.03         2\n",
      "\n",
      "    accuracy                           0.94      2495\n",
      "   macro avg       0.51      0.97      0.50      2495\n",
      "weighted avg       1.00      0.94      0.97      2495\n",
      "\n"
     ]
    }
   ],
   "source": [
    "#Metricas dos dados de treino\n",
    "from sklearn.metrics import classification_report\n",
    "print(classification_report(pred_treino_RN2,Y_treino))"
   ]
  },
  {
   "cell_type": "code",
   "execution_count": 57,
   "metadata": {},
   "outputs": [
    {
     "data": {
      "text/plain": [
       "<AxesSubplot:>"
      ]
     },
     "execution_count": 57,
     "metadata": {},
     "output_type": "execute_result"
    },
    {
     "data": {
      "image/png": "[encoded data removed]",
      "text/plain": [
       "<Figure size 432x288 with 2 Axes>"
      ]
     },
     "metadata": {
      "needs_background": "light"
     },
     "output_type": "display_data"
    }
   ],
   "source": [
    "#Matriz de confusão dados de teste\n",
    "pred_teste_RN2 = melhor_fit.predict(X_teste) \n",
    "cm = confusion_matrix(pred_teste_RN2,Y_teste)\n",
    "sns.heatmap(cm,annot=True,fmt='d')"
   ]
  },
  {
   "cell_type": "code",
   "execution_count": 58,
   "metadata": {},
   "outputs": [
    {
     "name": "stdout",
     "output_type": "stream",
     "text": [
      "              precision    recall  f1-score   support\n",
      "\n",
      "           0       1.00      0.94      0.97      1070\n",
      "           1       0.00      0.00      0.00         0\n",
      "\n",
      "    accuracy                           0.94      1070\n",
      "   macro avg       0.50      0.47      0.49      1070\n",
      "weighted avg       1.00      0.94      0.97      1070\n",
      "\n"
     ]
    }
   ],
   "source": [
    "#Metricas dos dados de teste\n",
    "from sklearn.metrics import classification_report\n",
    "print(classification_report(pred_teste_RN2,Y_teste))"
   ]
  },
  {
   "cell_type": "markdown",
   "metadata": {},
   "source": [
    "**Apesar de usar varios hiperparâmetros para ter o melhor resultado, o algoritimo praticamente manteve o mesmo resultado do modelo 3, no qual foi usado o mesmo algoritimo**"
   ]
  },
  {
   "cell_type": "markdown",
   "metadata": {},
   "source": [
    "# Comparação do recall de todos os modelos"
   ]
  },
  {
   "cell_type": "code",
   "execution_count": 59,
   "metadata": {},
   "outputs": [
    {
     "data": {
      "text/html": [
       "<div>\n",
       "<style scoped>\n",
       "    .dataframe tbody tr th:only-of-type {\n",
       "        vertical-align: middle;\n",
       "    }\n",
       "\n",
       "    .dataframe tbody tr th {\n",
       "        vertical-align: top;\n",
       "    }\n",
       "\n",
       "    .dataframe thead th {\n",
       "        text-align: right;\n",
       "    }\n",
       "</style>\n",
       "<table border=\"1\" class=\"dataframe\">\n",
       "  <thead>\n",
       "    <tr style=\"text-align: right;\">\n",
       "      <th></th>\n",
       "      <th>R_Logistica</th>\n",
       "      <th>R_Forest</th>\n",
       "      <th>R_Neural_1</th>\n",
       "      <th>R_Neural_2</th>\n",
       "    </tr>\n",
       "  </thead>\n",
       "  <tbody>\n",
       "    <tr>\n",
       "      <th>Treino</th>\n",
       "      <td>0.86</td>\n",
       "      <td>1.00</td>\n",
       "      <td>1.0</td>\n",
       "      <td>1.0</td>\n",
       "    </tr>\n",
       "    <tr>\n",
       "      <th>Teste</th>\n",
       "      <td>0.15</td>\n",
       "      <td>0.29</td>\n",
       "      <td>0.0</td>\n",
       "      <td>0.0</td>\n",
       "    </tr>\n",
       "  </tbody>\n",
       "</table>\n",
       "</div>"
      ],
      "text/plain": [
       "        R_Logistica  R_Forest  R_Neural_1  R_Neural_2\n",
       "Treino         0.86      1.00         1.0         1.0\n",
       "Teste          0.15      0.29         0.0         0.0"
      ]
     },
     "execution_count": 59,
     "metadata": {},
     "output_type": "execute_result"
    }
   ],
   "source": [
    "#Recall\n",
    "a = round(recall_score(pred_treino_RN2,Y_treino),2)\n",
    "b = round(recall_score(pred_teste_RN2,Y_teste),2)\n",
    "c = [a,b]\n",
    "recall['R_Neural_2'] = c\n",
    "recall = recall.T\n",
    "recall.columns = ['Treino','Teste']\n",
    "recall = recall.T\n",
    "recall"
   ]
  },
  {
   "cell_type": "markdown",
   "metadata": {},
   "source": [
    "**Conseguimos perceber que em todos os modelos houve overfitting, apesar do modelo Random Forest ter uma melhor performance no recall nos dados de teste do que com os outros algoritimos, não podemos levar em consideração, pois ele previu muito poucos dados da classe 1, não sendo significante para um diagnóstico mais detalhado**"
   ]
  },
  {
   "cell_type": "markdown",
   "metadata": {},
   "source": [
    "# Conclusão"
   ]
  },
  {
   "cell_type": "markdown",
   "metadata": {},
   "source": [
    "**Nesse mini-projeto tivemos 2 objetivos, o primeiro foi através de uma analise exploratória, selecionar as variáveis do dataset mais relevante para encontrar pacientes que já sofreram de AVC, e o segundo objetivo foi através dessas variáveis selecionadas criar alguns modelos para previsão da classe 1 (AVC), mesmo com todas as análises feitas, nenhum modelo conseguiu performar bem, é fato que faltam variáveis mais relevantes para melhorar o resultado em geral, porém o fato do algoritimo ter um péssimo desempenho significa que toda analise exploratória feita não deve ser considerada?, até que ponto uma análise feita com bons insights pode fazer mais sentido que o resultado de um algoritimo?, nesse caso percebemos que algumas variáveis tem relação direta para um paciente sofrer AVC, mais nenhuma dessas variáveis foi capaz de gerar bons resultado para os algoritimo.**"
   ]
  },
  {
   "cell_type": "markdown",
   "metadata": {},
   "source": [
    "**OBS: Poderíamos tentar outros algoritimos e mesclar as variáveis para chegar em um melhor resultado**"
   ]
  }
 ],
 "metadata": {
  "anaconda-cloud": {},
  "kernelspec": {
   "display_name": "Python 3 (ipykernel)",
   "language": "python",
   "name": "python3"
  },
  "language_info": {
   "codemirror_mode": {
    "name": "ipython",
    "version": 3
   },
   "file_extension": ".py",
   "mimetype": "text/x-python",
   "name": "python",
   "nbconvert_exporter": "python",
   "pygments_lexer": "ipython3",
   "version": "3.9.12"
  }
 },
 "nbformat": 4,
 "nbformat_minor": 1
}
