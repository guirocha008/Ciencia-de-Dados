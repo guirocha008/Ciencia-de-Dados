{
 "cells": [
  {
   "cell_type": "markdown",
   "metadata": {},
   "source": [
    "# $$Text ~Analytics: Análise~de~ Sentimentos~no~Mercado~Financeiro$$"
   ]
  },
  {
   "cell_type": "markdown",
   "metadata": {},
   "source": [
    "### $$Conceito:$$\n",
    "\n",
    "**A análise de texto é o processo automatizado de tradução de grandes volumes de texto não estruturado em dados quantitativos para descobrir insights, tendências e padrões. Combinada com ferramentas de visualização de dados, essa técnica permite que as empresas entendam a história por trás dos números e tomem melhores decisões**\n",
    "\n",
    "## $$Qual ~é ~a~ diferença~ entre~ mineração~ de~ texto~ e~ análise ~de~ texto$$\n",
    "\n",
    "\n",
    "**A mineração de texto e a análise de texto são frequentemente usadas de forma intercambiável. O termo mineração de texto geralmente é usado para obter insights qualitativos de texto não estruturado, enquanto a análise de texto fornece resultados quantitativos**\n",
    "\n",
    "- **Mineração de texto =** Pode ser usada para identificar se os clientes estão satisfeitos com um produto analisando suas avaliações e pesquisas\n",
    "\n",
    "\n",
    "- **Análise de texto =** É usada para insights mais profundos, como identificar um padrão ou tendência do texto não estruturado, os resultados da análise de texto podem ser usados com técnicas de visualização de dados para uma compreensão mais fácil e rápida tomada de decisão\n",
    "\n",
    "\n",
    "## $$Benefícios~da~análise~de~texto$$\n",
    "\n",
    "\n",
    "- Ajude as empresas a entender as tendências dos clientes, o desempenho do produto e a qualidade do serviço. Isso resulta em tomada de decisão rápida, melhorando inteligência de negócios, aumento da produtividade e economia de custos.\n",
    "\n",
    "\n",
    "- Ajuda os pesquisadores a explorar uma grande quantidade de literatura pré-existente em um curto espaço de tempo, extraindo o que é relevante para seu estudo. Isso ajuda em avanços científicos mais rápidos.\n",
    "\n",
    "\n",
    "- Auxilia na compreensão de tendências e opiniões gerais da sociedade, que possibilitam governos e órgãos políticos na tomada de decisões.\n",
    "\n",
    "\n",
    "- As técnicas de análise de texto ajudam os mecanismos de pesquisa e os sistemas de recuperação de informações a melhorar seu desempenho, proporcionando experiências rápidas ao usuário.\n",
    "\n",
    "\n",
    "- Refine os sistemas de recomendação de conteúdo do usuário categorizando o conteúdo relacionado.\n",
    "\n",
    "\n",
    "## $$Técnicas ~de~ análise~ de ~texto~ e ~casos~ de~ uso$$\n",
    "\n",
    "**Existem várias técnicas relacionadas à análise do texto não estruturado. Cada uma dessas técnicas é usada para diferentes cenários de caso de uso**\n",
    "\n",
    "\n",
    "#### **1 - Análise de sentimentos:**\n",
    "\n",
    "- A análise de sentimentos é usada para identificar as emoções transmitidas pelo texto não estruturado\n",
    "\n",
    "\n",
    "\n",
    "#### **2 - Modelagem de tópicos:**\n",
    "\n",
    "- A modelagem de tópicos identifica as palavras-chave usadas no texto para identificar o assunto do artigo\n",
    "\n",
    "\n",
    "#### **3 - Reconhecimento de Entidade Nomeada (NER):**\n",
    "\n",
    "- NER é uma técnica de análise de texto usada para identificar entidades nomeadas como pessoas, lugares, organizações e eventos em texto não estruturado. NER extrai substantivos do texto e determina os valores desses substantivos\n",
    "\n",
    "\n",
    "#### **4 - Frequência do prazo - frequência inversa do documento(TF-IDF):**\n",
    "\n",
    "- O TF-IDF é usado para determinar a frequência com que um termo aparece em um texto ou grupo de documentos, é a importância desse termo para o documento\n",
    "\n",
    "#### **5 - Extração de evento:**\n",
    "\n",
    "- Esta é uma técnica de análise de texto que é um avanço em relação à extração de entidade nomeada, os algoritmos avançados se esforçam para reconhecer não apenas os eventos, mas também o local, os participantes, a data e a hora, sempre que aplicável\n",
    "\n"
   ]
  },
  {
   "cell_type": "markdown",
   "metadata": {},
   "source": [
    "__------------------------------------------------------------------------------------------------------------------------------------------------------------------------------------------------------------------__\n",
    "\n",
    "\n",
    "__------------------------------------------------------------------------------------------------------------------------------------------------------------------------------------------------------------------__"
   ]
  },
  {
   "cell_type": "markdown",
   "metadata": {},
   "source": [
    "## $$Objetivo:$$  \n",
    "\n",
    "## $$Analisar~o~mercado~financeiro~por~meio~da~análise~de~sentimento~nas~mídias~sociais$$"
   ]
  },
  {
   "cell_type": "code",
   "execution_count": 1,
   "metadata": {},
   "outputs": [],
   "source": [
    "#Carregar os pacotes\n",
    "import warnings\n",
    "warnings.filterwarnings('ignore')\n",
    "import re\n",
    "import nltk\n",
    "import xgboost\n",
    "import lightgbm\n",
    "import numpy as np\n",
    "import pandas as pd\n",
    "import seaborn as sns\n",
    "import matplotlib.pyplot as plt\n",
    "from textblob import TextBlob, Word, Blobber\n",
    "from nltk.sentiment.vader import SentimentIntensityAnalyzer\n",
    "from sklearn.preprocessing import MinMaxScaler\n",
    "from sklearn.metrics import mean_squared_error\n",
    "from sklearn.model_selection import train_test_split\n",
    "from sklearn.ensemble import RandomForestRegressor\n",
    "from math import sqrt\n",
    "from pandas_datareader.data import DataReader\n",
    "from datetime import datetime"
   ]
  },
  {
   "cell_type": "markdown",
   "metadata": {},
   "source": [
    "# Base de Dados "
   ]
  },
  {
   "cell_type": "code",
   "execution_count": 2,
   "metadata": {},
   "outputs": [
    {
     "data": {
      "text/html": [
       "<div>\n",
       "<style scoped>\n",
       "    .dataframe tbody tr th:only-of-type {\n",
       "        vertical-align: middle;\n",
       "    }\n",
       "\n",
       "    .dataframe tbody tr th {\n",
       "        vertical-align: top;\n",
       "    }\n",
       "\n",
       "    .dataframe thead th {\n",
       "        text-align: right;\n",
       "    }\n",
       "</style>\n",
       "<table border=\"1\" class=\"dataframe\">\n",
       "  <thead>\n",
       "    <tr style=\"text-align: right;\">\n",
       "      <th></th>\n",
       "      <th>Date</th>\n",
       "      <th>Category</th>\n",
       "      <th>News</th>\n",
       "    </tr>\n",
       "  </thead>\n",
       "  <tbody>\n",
       "    <tr>\n",
       "      <th>0</th>\n",
       "      <td>publish_date</td>\n",
       "      <td>headline_category</td>\n",
       "      <td>headline_text</td>\n",
       "    </tr>\n",
       "    <tr>\n",
       "      <th>1</th>\n",
       "      <td>20010102</td>\n",
       "      <td>unknown</td>\n",
       "      <td>Status quo will not be disturbed at Ayodhya; s...</td>\n",
       "    </tr>\n",
       "    <tr>\n",
       "      <th>2</th>\n",
       "      <td>20010102</td>\n",
       "      <td>unknown</td>\n",
       "      <td>Fissures in Hurriyat over Pak visit</td>\n",
       "    </tr>\n",
       "    <tr>\n",
       "      <th>3</th>\n",
       "      <td>20010102</td>\n",
       "      <td>unknown</td>\n",
       "      <td>America's unwanted heading for India?</td>\n",
       "    </tr>\n",
       "    <tr>\n",
       "      <th>4</th>\n",
       "      <td>20010102</td>\n",
       "      <td>unknown</td>\n",
       "      <td>For bigwigs; it is destination Goa</td>\n",
       "    </tr>\n",
       "    <tr>\n",
       "      <th>...</th>\n",
       "      <td>...</td>\n",
       "      <td>...</td>\n",
       "      <td>...</td>\n",
       "    </tr>\n",
       "    <tr>\n",
       "      <th>3424063</th>\n",
       "      <td>20201231</td>\n",
       "      <td>city.jodhpur</td>\n",
       "      <td>Covid-19: Despite dip in cases; Rajasthan amon...</td>\n",
       "    </tr>\n",
       "    <tr>\n",
       "      <th>3424064</th>\n",
       "      <td>20201231</td>\n",
       "      <td>city.udaipur</td>\n",
       "      <td>Covid-19: Despite dip in cases; Rajasthan amon...</td>\n",
       "    </tr>\n",
       "    <tr>\n",
       "      <th>3424065</th>\n",
       "      <td>20201231</td>\n",
       "      <td>city.ajmer</td>\n",
       "      <td>Covid-19: Despite dip in cases; Rajasthan amon...</td>\n",
       "    </tr>\n",
       "    <tr>\n",
       "      <th>3424066</th>\n",
       "      <td>20201231</td>\n",
       "      <td>removed</td>\n",
       "      <td>Govt extends deadline for use of FASTag till F...</td>\n",
       "    </tr>\n",
       "    <tr>\n",
       "      <th>3424067</th>\n",
       "      <td>20201231</td>\n",
       "      <td>entertainment.bengali.movies.news</td>\n",
       "      <td>Celebs plan to party safely and responsibly on...</td>\n",
       "    </tr>\n",
       "  </tbody>\n",
       "</table>\n",
       "<p>3424068 rows × 3 columns</p>\n",
       "</div>"
      ],
      "text/plain": [
       "                 Date                           Category  \\\n",
       "0        publish_date                  headline_category   \n",
       "1            20010102                            unknown   \n",
       "2            20010102                            unknown   \n",
       "3            20010102                            unknown   \n",
       "4            20010102                            unknown   \n",
       "...               ...                                ...   \n",
       "3424063      20201231                       city.jodhpur   \n",
       "3424064      20201231                       city.udaipur   \n",
       "3424065      20201231                         city.ajmer   \n",
       "3424066      20201231                            removed   \n",
       "3424067      20201231  entertainment.bengali.movies.news   \n",
       "\n",
       "                                                      News  \n",
       "0                                            headline_text  \n",
       "1        Status quo will not be disturbed at Ayodhya; s...  \n",
       "2                      Fissures in Hurriyat over Pak visit  \n",
       "3                    America's unwanted heading for India?  \n",
       "4                       For bigwigs; it is destination Goa  \n",
       "...                                                    ...  \n",
       "3424063  Covid-19: Despite dip in cases; Rajasthan amon...  \n",
       "3424064  Covid-19: Despite dip in cases; Rajasthan amon...  \n",
       "3424065  Covid-19: Despite dip in cases; Rajasthan amon...  \n",
       "3424066  Govt extends deadline for use of FASTag till F...  \n",
       "3424067  Celebs plan to party safely and responsibly on...  \n",
       "\n",
       "[3424068 rows x 3 columns]"
      ]
     },
     "execution_count": 2,
     "metadata": {},
     "output_type": "execute_result"
    }
   ],
   "source": [
    "# Carregando o dataset de texto de notícias\n",
    "columns = ['Date', 'Category', 'News']\n",
    "df_texto = pd.read_csv(\"dados/news.csv\", names = columns)\n",
    "df_texto"
   ]
  },
  {
   "cell_type": "markdown",
   "metadata": {},
   "source": [
    "**Dataset contém 3.424.068 registros e 3 variáveis.**"
   ]
  },
  {
   "cell_type": "markdown",
   "metadata": {},
   "source": [
    "**Precisamos fazer ajustes no dataframe, temos registros, colunas e caracteres que são irrelevantes para interpretação das notícias**"
   ]
  },
  {
   "cell_type": "markdown",
   "metadata": {},
   "source": [
    "# Dicionário de Dados\n",
    "\n",
    "### **$$Variáveis:$$**\n",
    "\n",
    "- **Date:** Data que foi publicado a noticia\n",
    "\n",
    "\n",
    "- **Category:** Categoria da noticia\n",
    "    \n",
    "    \n",
    "- **News:** Texto sobre a noticia"
   ]
  },
  {
   "cell_type": "markdown",
   "metadata": {},
   "source": [
    "# Análise Exploratória"
   ]
  },
  {
   "cell_type": "code",
   "execution_count": 3,
   "metadata": {},
   "outputs": [
    {
     "name": "stdout",
     "output_type": "stream",
     "text": [
      "<class 'pandas.core.frame.DataFrame'>\n",
      "RangeIndex: 3424068 entries, 0 to 3424067\n",
      "Data columns (total 3 columns):\n",
      " #   Column    Dtype \n",
      "---  ------    ----- \n",
      " 0   Date      object\n",
      " 1   Category  object\n",
      " 2   News      object\n",
      "dtypes: object(3)\n",
      "memory usage: 78.4+ MB\n"
     ]
    }
   ],
   "source": [
    "# Tipos de dados das colunas\n",
    "df_texto.info()"
   ]
  },
  {
   "cell_type": "code",
   "execution_count": 4,
   "metadata": {},
   "outputs": [],
   "source": [
    "# Remover a primeira linha pois é o cabeçalho do arquivo\n",
    "df_texto.drop(0, inplace = True)"
   ]
  },
  {
   "cell_type": "code",
   "execution_count": 5,
   "metadata": {},
   "outputs": [],
   "source": [
    "# Remover a coluna categoria pois não precisamos dela para nossa análise\n",
    "df_texto.drop('Category', axis = 1, inplace = True)"
   ]
  },
  {
   "cell_type": "code",
   "execution_count": 6,
   "metadata": {},
   "outputs": [
    {
     "data": {
      "text/html": [
       "<div>\n",
       "<style scoped>\n",
       "    .dataframe tbody tr th:only-of-type {\n",
       "        vertical-align: middle;\n",
       "    }\n",
       "\n",
       "    .dataframe tbody tr th {\n",
       "        vertical-align: top;\n",
       "    }\n",
       "\n",
       "    .dataframe thead th {\n",
       "        text-align: right;\n",
       "    }\n",
       "</style>\n",
       "<table border=\"1\" class=\"dataframe\">\n",
       "  <thead>\n",
       "    <tr style=\"text-align: right;\">\n",
       "      <th></th>\n",
       "      <th>Date</th>\n",
       "      <th>News</th>\n",
       "    </tr>\n",
       "  </thead>\n",
       "  <tbody>\n",
       "    <tr>\n",
       "      <th>1</th>\n",
       "      <td>20010102</td>\n",
       "      <td>Status quo will not be disturbed at Ayodhya; s...</td>\n",
       "    </tr>\n",
       "    <tr>\n",
       "      <th>2</th>\n",
       "      <td>20010102</td>\n",
       "      <td>Fissures in Hurriyat over Pak visit</td>\n",
       "    </tr>\n",
       "    <tr>\n",
       "      <th>3</th>\n",
       "      <td>20010102</td>\n",
       "      <td>America's unwanted heading for India?</td>\n",
       "    </tr>\n",
       "    <tr>\n",
       "      <th>4</th>\n",
       "      <td>20010102</td>\n",
       "      <td>For bigwigs; it is destination Goa</td>\n",
       "    </tr>\n",
       "    <tr>\n",
       "      <th>5</th>\n",
       "      <td>20010102</td>\n",
       "      <td>Extra buses to clear tourist traffic</td>\n",
       "    </tr>\n",
       "    <tr>\n",
       "      <th>...</th>\n",
       "      <td>...</td>\n",
       "      <td>...</td>\n",
       "    </tr>\n",
       "    <tr>\n",
       "      <th>3424063</th>\n",
       "      <td>20201231</td>\n",
       "      <td>Covid-19: Despite dip in cases; Rajasthan amon...</td>\n",
       "    </tr>\n",
       "    <tr>\n",
       "      <th>3424064</th>\n",
       "      <td>20201231</td>\n",
       "      <td>Covid-19: Despite dip in cases; Rajasthan amon...</td>\n",
       "    </tr>\n",
       "    <tr>\n",
       "      <th>3424065</th>\n",
       "      <td>20201231</td>\n",
       "      <td>Covid-19: Despite dip in cases; Rajasthan amon...</td>\n",
       "    </tr>\n",
       "    <tr>\n",
       "      <th>3424066</th>\n",
       "      <td>20201231</td>\n",
       "      <td>Govt extends deadline for use of FASTag till F...</td>\n",
       "    </tr>\n",
       "    <tr>\n",
       "      <th>3424067</th>\n",
       "      <td>20201231</td>\n",
       "      <td>Celebs plan to party safely and responsibly on...</td>\n",
       "    </tr>\n",
       "  </tbody>\n",
       "</table>\n",
       "<p>3424067 rows × 2 columns</p>\n",
       "</div>"
      ],
      "text/plain": [
       "             Date                                               News\n",
       "1        20010102  Status quo will not be disturbed at Ayodhya; s...\n",
       "2        20010102                Fissures in Hurriyat over Pak visit\n",
       "3        20010102              America's unwanted heading for India?\n",
       "4        20010102                 For bigwigs; it is destination Goa\n",
       "5        20010102               Extra buses to clear tourist traffic\n",
       "...           ...                                                ...\n",
       "3424063  20201231  Covid-19: Despite dip in cases; Rajasthan amon...\n",
       "3424064  20201231  Covid-19: Despite dip in cases; Rajasthan amon...\n",
       "3424065  20201231  Covid-19: Despite dip in cases; Rajasthan amon...\n",
       "3424066  20201231  Govt extends deadline for use of FASTag till F...\n",
       "3424067  20201231  Celebs plan to party safely and responsibly on...\n",
       "\n",
       "[3424067 rows x 2 columns]"
      ]
     },
     "execution_count": 6,
     "metadata": {},
     "output_type": "execute_result"
    }
   ],
   "source": [
    "# Visualizando o dataset\n",
    "df_texto"
   ]
  },
  {
   "cell_type": "markdown",
   "metadata": {},
   "source": [
    "**Com pequenos ajustes deixamos nosso dataframe mais claro para fazer as analises**"
   ]
  },
  {
   "cell_type": "code",
   "execution_count": 7,
   "metadata": {},
   "outputs": [
    {
     "data": {
      "text/plain": [
       "1   2001-01-02\n",
       "2   2001-01-02\n",
       "3   2001-01-02\n",
       "4   2001-01-02\n",
       "5   2001-01-02\n",
       "Name: Date, dtype: datetime64[ns]"
      ]
     },
     "execution_count": 7,
     "metadata": {},
     "output_type": "execute_result"
    }
   ],
   "source": [
    "# Transforamar a coluna de data Str em Datetime\n",
    "df_texto[\"Date\"] = pd.to_datetime(df_texto[\"Date\"], format = '%Y%m%d')\n",
    "df_texto[\"Date\"].head()"
   ]
  },
  {
   "cell_type": "markdown",
   "metadata": {},
   "source": [
    "**Transformamos a coluna 'data' no formato 'datetime64' para conseguir fazer as analises usando as datas**"
   ]
  },
  {
   "cell_type": "code",
   "execution_count": 8,
   "metadata": {},
   "outputs": [
    {
     "data": {
      "text/plain": [
       "1    Status quo will not be disturbed at Ayodhya; s...\n",
       "2                  Fissures in Hurriyat over Pak visit\n",
       "3                America's unwanted heading for India?\n",
       "4                   For bigwigs; it is destination Goa\n",
       "5                 Extra buses to clear tourist traffic\n",
       "6          Dilute the power of transfers; says Riberio\n",
       "Name: News, dtype: object"
      ]
     },
     "execution_count": 8,
     "metadata": {},
     "output_type": "execute_result"
    }
   ],
   "source": [
    "#Textos em seu formato bruto\n",
    "df_texto.News[0:6]"
   ]
  },
  {
   "cell_type": "markdown",
   "metadata": {},
   "source": [
    "**Tratar os textos para que fique mais fácil do algoritimo interpretar cada sentimento de cada frase**"
   ]
  },
  {
   "cell_type": "code",
   "execution_count": 9,
   "metadata": {},
   "outputs": [
    {
     "data": {
      "text/plain": [
       "1    Status quo will not be disturbed at Ayodhya  s...\n",
       "2                  Fissures in Hurriyat over Pak visit\n",
       "3                America's unwanted heading for India \n",
       "4                   For bigwigs  it is destination Goa\n",
       "5                 Extra buses to clear tourist traffic\n",
       "6          Dilute the power of transfers  says Riberio\n",
       "Name: News, dtype: object"
      ]
     },
     "execution_count": 9,
     "metadata": {},
     "output_type": "execute_result"
    }
   ],
   "source": [
    "# Remover os caracteres que não sejam letras\n",
    "df_texto.replace(\"[^a-zA-Z']\", \" \", regex = True, inplace = True)\n",
    "\n",
    "#Textos tratados\n",
    "df_texto.News[0:6]"
   ]
  },
  {
   "cell_type": "markdown",
   "metadata": {},
   "source": [
    "**Agora o texto só contém letras, foi removido os números e caracteres especiais**"
   ]
  },
  {
   "cell_type": "code",
   "execution_count": 10,
   "metadata": {},
   "outputs": [
    {
     "data": {
      "text/html": [
       "<div>\n",
       "<style scoped>\n",
       "    .dataframe tbody tr th:only-of-type {\n",
       "        vertical-align: middle;\n",
       "    }\n",
       "\n",
       "    .dataframe tbody tr th {\n",
       "        vertical-align: top;\n",
       "    }\n",
       "\n",
       "    .dataframe thead th {\n",
       "        text-align: right;\n",
       "    }\n",
       "</style>\n",
       "<table border=\"1\" class=\"dataframe\">\n",
       "  <thead>\n",
       "    <tr style=\"text-align: right;\">\n",
       "      <th></th>\n",
       "      <th>Date</th>\n",
       "      <th>News</th>\n",
       "    </tr>\n",
       "  </thead>\n",
       "  <tbody>\n",
       "    <tr>\n",
       "      <th>0</th>\n",
       "      <td>2001-01-02</td>\n",
       "      <td>Status quo will not be disturbed at Ayodhya  s...</td>\n",
       "    </tr>\n",
       "    <tr>\n",
       "      <th>1</th>\n",
       "      <td>2001-01-03</td>\n",
       "      <td>Powerless north India gropes in the dark Think...</td>\n",
       "    </tr>\n",
       "    <tr>\n",
       "      <th>2</th>\n",
       "      <td>2001-01-04</td>\n",
       "      <td>The string that pulled Stephen Hawking to Indi...</td>\n",
       "    </tr>\n",
       "    <tr>\n",
       "      <th>3</th>\n",
       "      <td>2001-01-05</td>\n",
       "      <td>Light combat craft takes India into club class...</td>\n",
       "    </tr>\n",
       "    <tr>\n",
       "      <th>4</th>\n",
       "      <td>2001-01-06</td>\n",
       "      <td>Light combat craft takes India into club class...</td>\n",
       "    </tr>\n",
       "    <tr>\n",
       "      <th>...</th>\n",
       "      <td>...</td>\n",
       "      <td>...</td>\n",
       "    </tr>\n",
       "    <tr>\n",
       "      <th>7257</th>\n",
       "      <td>2020-12-27</td>\n",
       "      <td>BigInterview  Dhritiman Chatterjee  Nobody da...</td>\n",
       "    </tr>\n",
       "    <tr>\n",
       "      <th>7258</th>\n",
       "      <td>2020-12-28</td>\n",
       "      <td>Horoscope Today     December       Check astro...</td>\n",
       "    </tr>\n",
       "    <tr>\n",
       "      <th>7259</th>\n",
       "      <td>2020-12-29</td>\n",
       "      <td>Man recovers charred remains of 'thief' from h...</td>\n",
       "    </tr>\n",
       "    <tr>\n",
       "      <th>7260</th>\n",
       "      <td>2020-12-30</td>\n",
       "      <td>Numerology Readings    December       Predicti...</td>\n",
       "    </tr>\n",
       "    <tr>\n",
       "      <th>7261</th>\n",
       "      <td>2020-12-31</td>\n",
       "      <td>Horoscope Today     December       Check astro...</td>\n",
       "    </tr>\n",
       "  </tbody>\n",
       "</table>\n",
       "<p>7262 rows × 2 columns</p>\n",
       "</div>"
      ],
      "text/plain": [
       "           Date                                               News\n",
       "0    2001-01-02  Status quo will not be disturbed at Ayodhya  s...\n",
       "1    2001-01-03  Powerless north India gropes in the dark Think...\n",
       "2    2001-01-04  The string that pulled Stephen Hawking to Indi...\n",
       "3    2001-01-05  Light combat craft takes India into club class...\n",
       "4    2001-01-06  Light combat craft takes India into club class...\n",
       "...         ...                                                ...\n",
       "7257 2020-12-27   BigInterview  Dhritiman Chatterjee  Nobody da...\n",
       "7258 2020-12-28  Horoscope Today     December       Check astro...\n",
       "7259 2020-12-29  Man recovers charred remains of 'thief' from h...\n",
       "7260 2020-12-30  Numerology Readings    December       Predicti...\n",
       "7261 2020-12-31  Horoscope Today     December       Check astro...\n",
       "\n",
       "[7262 rows x 2 columns]"
      ]
     },
     "execution_count": 10,
     "metadata": {},
     "output_type": "execute_result"
    }
   ],
   "source": [
    "# Agrupar as notícias por dia\n",
    "df_texto['News'] = df_texto.groupby(['Date']).transform(lambda x : ' '.join(x))\n",
    "\n",
    "#Remover duplicatas\n",
    "df_texto = df_texto.drop_duplicates() \n",
    "\n",
    "#Reset do índice\n",
    "df_texto.reset_index(inplace = True, drop = True)\n",
    "df_texto"
   ]
  },
  {
   "cell_type": "markdown",
   "metadata": {},
   "source": [
    "**Agrupamos todas as notícias por data**"
   ]
  },
  {
   "cell_type": "code",
   "execution_count": 11,
   "metadata": {},
   "outputs": [
    {
     "data": {
      "text/plain": [
       "Date    0\n",
       "News    0\n",
       "dtype: int64"
      ]
     },
     "execution_count": 11,
     "metadata": {},
     "output_type": "execute_result"
    }
   ],
   "source": [
    "# Vamos checar se temos valores ausentes\n",
    "df_texto.isnull().sum()"
   ]
  },
  {
   "cell_type": "code",
   "execution_count": 12,
   "metadata": {},
   "outputs": [
    {
     "data": {
      "text/plain": [
       "(7262, 2)"
      ]
     },
     "execution_count": 12,
     "metadata": {},
     "output_type": "execute_result"
    }
   ],
   "source": [
    "# Shape do dataframe\n",
    "df_texto.shape"
   ]
  },
  {
   "cell_type": "markdown",
   "metadata": {},
   "source": [
    "**Dataframe com 7.262 Registros e 2 colunas**"
   ]
  },
  {
   "cell_type": "markdown",
   "metadata": {},
   "source": [
    "# Carregar dados das cotações de ações "
   ]
  },
  {
   "cell_type": "code",
   "execution_count": 13,
   "metadata": {},
   "outputs": [
    {
     "data": {
      "text/html": [
       "<div>\n",
       "<style scoped>\n",
       "    .dataframe tbody tr th:only-of-type {\n",
       "        vertical-align: middle;\n",
       "    }\n",
       "\n",
       "    .dataframe tbody tr th {\n",
       "        vertical-align: top;\n",
       "    }\n",
       "\n",
       "    .dataframe thead th {\n",
       "        text-align: right;\n",
       "    }\n",
       "</style>\n",
       "<table border=\"1\" class=\"dataframe\">\n",
       "  <thead>\n",
       "    <tr style=\"text-align: right;\">\n",
       "      <th></th>\n",
       "      <th>Date</th>\n",
       "      <th>Open</th>\n",
       "      <th>High</th>\n",
       "      <th>Low</th>\n",
       "      <th>Close</th>\n",
       "      <th>Adj Close</th>\n",
       "      <th>Volume</th>\n",
       "    </tr>\n",
       "  </thead>\n",
       "  <tbody>\n",
       "    <tr>\n",
       "      <th>0</th>\n",
       "      <td>2005-01-03</td>\n",
       "      <td>6626.490234</td>\n",
       "      <td>6684.220215</td>\n",
       "      <td>6626.490234</td>\n",
       "      <td>6679.200195</td>\n",
       "      <td>6679.200195</td>\n",
       "      <td>12000.0</td>\n",
       "    </tr>\n",
       "    <tr>\n",
       "      <th>1</th>\n",
       "      <td>2005-01-04</td>\n",
       "      <td>6683.560059</td>\n",
       "      <td>6696.310059</td>\n",
       "      <td>6640.899902</td>\n",
       "      <td>6651.009766</td>\n",
       "      <td>6651.009766</td>\n",
       "      <td>16600.0</td>\n",
       "    </tr>\n",
       "    <tr>\n",
       "      <th>2</th>\n",
       "      <td>2005-01-05</td>\n",
       "      <td>6628.890137</td>\n",
       "      <td>6629.979980</td>\n",
       "      <td>6337.609863</td>\n",
       "      <td>6458.839844</td>\n",
       "      <td>6458.839844</td>\n",
       "      <td>24000.0</td>\n",
       "    </tr>\n",
       "    <tr>\n",
       "      <th>3</th>\n",
       "      <td>2005-01-06</td>\n",
       "      <td>6447.270020</td>\n",
       "      <td>6481.229980</td>\n",
       "      <td>6325.359863</td>\n",
       "      <td>6367.390137</td>\n",
       "      <td>6367.390137</td>\n",
       "      <td>22200.0</td>\n",
       "    </tr>\n",
       "    <tr>\n",
       "      <th>4</th>\n",
       "      <td>2005-01-07</td>\n",
       "      <td>6374.189941</td>\n",
       "      <td>6440.169922</td>\n",
       "      <td>6348.750000</td>\n",
       "      <td>6420.459961</td>\n",
       "      <td>6420.459961</td>\n",
       "      <td>17800.0</td>\n",
       "    </tr>\n",
       "    <tr>\n",
       "      <th>...</th>\n",
       "      <td>...</td>\n",
       "      <td>...</td>\n",
       "      <td>...</td>\n",
       "      <td>...</td>\n",
       "      <td>...</td>\n",
       "      <td>...</td>\n",
       "      <td>...</td>\n",
       "    </tr>\n",
       "    <tr>\n",
       "      <th>3677</th>\n",
       "      <td>2019-11-25</td>\n",
       "      <td>40439.660156</td>\n",
       "      <td>40931.710938</td>\n",
       "      <td>40393.898438</td>\n",
       "      <td>40889.230469</td>\n",
       "      <td>40889.230469</td>\n",
       "      <td>28600.0</td>\n",
       "    </tr>\n",
       "    <tr>\n",
       "      <th>3678</th>\n",
       "      <td>2019-11-26</td>\n",
       "      <td>41022.851563</td>\n",
       "      <td>41120.281250</td>\n",
       "      <td>40710.199219</td>\n",
       "      <td>40821.300781</td>\n",
       "      <td>40821.300781</td>\n",
       "      <td>32800.0</td>\n",
       "    </tr>\n",
       "    <tr>\n",
       "      <th>3679</th>\n",
       "      <td>2019-11-27</td>\n",
       "      <td>40979.390625</td>\n",
       "      <td>41075.761719</td>\n",
       "      <td>40848.699219</td>\n",
       "      <td>41020.609375</td>\n",
       "      <td>41020.609375</td>\n",
       "      <td>32400.0</td>\n",
       "    </tr>\n",
       "    <tr>\n",
       "      <th>3680</th>\n",
       "      <td>2019-11-28</td>\n",
       "      <td>41161.539063</td>\n",
       "      <td>41163.789063</td>\n",
       "      <td>40996.078125</td>\n",
       "      <td>41130.171875</td>\n",
       "      <td>41130.171875</td>\n",
       "      <td>30900.0</td>\n",
       "    </tr>\n",
       "    <tr>\n",
       "      <th>3681</th>\n",
       "      <td>2019-11-29</td>\n",
       "      <td>41138.261719</td>\n",
       "      <td>41143.218750</td>\n",
       "      <td>40664.179688</td>\n",
       "      <td>40793.808594</td>\n",
       "      <td>40793.808594</td>\n",
       "      <td>46700.0</td>\n",
       "    </tr>\n",
       "  </tbody>\n",
       "</table>\n",
       "<p>3682 rows × 7 columns</p>\n",
       "</div>"
      ],
      "text/plain": [
       "            Date          Open          High           Low         Close  \\\n",
       "0     2005-01-03   6626.490234   6684.220215   6626.490234   6679.200195   \n",
       "1     2005-01-04   6683.560059   6696.310059   6640.899902   6651.009766   \n",
       "2     2005-01-05   6628.890137   6629.979980   6337.609863   6458.839844   \n",
       "3     2005-01-06   6447.270020   6481.229980   6325.359863   6367.390137   \n",
       "4     2005-01-07   6374.189941   6440.169922   6348.750000   6420.459961   \n",
       "...          ...           ...           ...           ...           ...   \n",
       "3677  2019-11-25  40439.660156  40931.710938  40393.898438  40889.230469   \n",
       "3678  2019-11-26  41022.851563  41120.281250  40710.199219  40821.300781   \n",
       "3679  2019-11-27  40979.390625  41075.761719  40848.699219  41020.609375   \n",
       "3680  2019-11-28  41161.539063  41163.789063  40996.078125  41130.171875   \n",
       "3681  2019-11-29  41138.261719  41143.218750  40664.179688  40793.808594   \n",
       "\n",
       "         Adj Close   Volume  \n",
       "0      6679.200195  12000.0  \n",
       "1      6651.009766  16600.0  \n",
       "2      6458.839844  24000.0  \n",
       "3      6367.390137  22200.0  \n",
       "4      6420.459961  17800.0  \n",
       "...            ...      ...  \n",
       "3677  40889.230469  28600.0  \n",
       "3678  40821.300781  32800.0  \n",
       "3679  41020.609375  32400.0  \n",
       "3680  41130.171875  30900.0  \n",
       "3681  40793.808594  46700.0  \n",
       "\n",
       "[3682 rows x 7 columns]"
      ]
     },
     "execution_count": 13,
     "metadata": {},
     "output_type": "execute_result"
    }
   ],
   "source": [
    "# Dataset de cotação de ações\n",
    "df_numerico = pd.read_csv(\"dados/BSESN.csv\")\n",
    "df_numerico"
   ]
  },
  {
   "cell_type": "markdown",
   "metadata": {},
   "source": [
    "**Dataset contém 3.682 registros e 7 variáveis.**"
   ]
  },
  {
   "cell_type": "markdown",
   "metadata": {},
   "source": [
    "# Dicionário de Dados\n",
    "\n"
   ]
  },
  {
   "cell_type": "markdown",
   "metadata": {},
   "source": [
    "### **$$Variáveis:$$**\n",
    "\n",
    "- **Date:** Data que foi registrado os valores das ações \n",
    "\n",
    "\n",
    "- **Open:** Valor da ação na abertura do pregão \n",
    "    \n",
    "    \n",
    "- **High:** Valor mais alto que a ação chegou no dia\n",
    "\n",
    "\n",
    "- **Low:**  Valor mais baixo que a ação chegou no dia\n",
    "\n",
    "\n",
    "- **Close:**  Valor que a ação estava no fechamento do mercado\n",
    "\n",
    "\n",
    "- **Adj Close:** Ajuste no valor da ação após o fechamento do mercado\n",
    "\n",
    "\n",
    "- **Volume:** Volume de ações negociadas no dia"
   ]
  },
  {
   "cell_type": "markdown",
   "metadata": {},
   "source": [
    "# Análise Exploratória  "
   ]
  },
  {
   "cell_type": "code",
   "execution_count": 14,
   "metadata": {},
   "outputs": [
    {
     "data": {
      "text/html": [
       "<div>\n",
       "<style scoped>\n",
       "    .dataframe tbody tr th:only-of-type {\n",
       "        vertical-align: middle;\n",
       "    }\n",
       "\n",
       "    .dataframe tbody tr th {\n",
       "        vertical-align: top;\n",
       "    }\n",
       "\n",
       "    .dataframe thead th {\n",
       "        text-align: right;\n",
       "    }\n",
       "</style>\n",
       "<table border=\"1\" class=\"dataframe\">\n",
       "  <thead>\n",
       "    <tr style=\"text-align: right;\">\n",
       "      <th></th>\n",
       "      <th>Type</th>\n",
       "      <th>Unique</th>\n",
       "    </tr>\n",
       "  </thead>\n",
       "  <tbody>\n",
       "    <tr>\n",
       "      <th>Date</th>\n",
       "      <td>object</td>\n",
       "      <td>3682</td>\n",
       "    </tr>\n",
       "    <tr>\n",
       "      <th>Open</th>\n",
       "      <td>float64</td>\n",
       "      <td>3648</td>\n",
       "    </tr>\n",
       "    <tr>\n",
       "      <th>High</th>\n",
       "      <td>float64</td>\n",
       "      <td>3653</td>\n",
       "    </tr>\n",
       "    <tr>\n",
       "      <th>Low</th>\n",
       "      <td>float64</td>\n",
       "      <td>3651</td>\n",
       "    </tr>\n",
       "    <tr>\n",
       "      <th>Close</th>\n",
       "      <td>float64</td>\n",
       "      <td>3654</td>\n",
       "    </tr>\n",
       "    <tr>\n",
       "      <th>Adj Close</th>\n",
       "      <td>float64</td>\n",
       "      <td>3654</td>\n",
       "    </tr>\n",
       "    <tr>\n",
       "      <th>Volume</th>\n",
       "      <td>float64</td>\n",
       "      <td>433</td>\n",
       "    </tr>\n",
       "  </tbody>\n",
       "</table>\n",
       "</div>"
      ],
      "text/plain": [
       "              Type  Unique\n",
       "Date        object    3682\n",
       "Open       float64    3648\n",
       "High       float64    3653\n",
       "Low        float64    3651\n",
       "Close      float64    3654\n",
       "Adj Close  float64    3654\n",
       "Volume     float64     433"
      ]
     },
     "execution_count": 14,
     "metadata": {},
     "output_type": "execute_result"
    }
   ],
   "source": [
    "# Tipos de dados das colunas\n",
    "tipo = df_numerico.dtypes\n",
    "tipo = tipo.to_frame()\n",
    "tipo.columns = ['Type']\n",
    "\n",
    "# Verifica o total de valores únicos por coluna\n",
    "tipo['Unique']= df_numerico.nunique()\n",
    "tipo"
   ]
  },
  {
   "cell_type": "markdown",
   "metadata": {},
   "source": [
    "**A variável 'Date' precisa ser transformada no type Datetime**"
   ]
  },
  {
   "cell_type": "code",
   "execution_count": 15,
   "metadata": {},
   "outputs": [
    {
     "name": "stdout",
     "output_type": "stream",
     "text": [
      "<class 'pandas.core.frame.DataFrame'>\n",
      "RangeIndex: 3682 entries, 0 to 3681\n",
      "Data columns (total 7 columns):\n",
      " #   Column     Non-Null Count  Dtype         \n",
      "---  ------     --------------  -----         \n",
      " 0   Date       3682 non-null   datetime64[ns]\n",
      " 1   Open       3655 non-null   float64       \n",
      " 2   High       3655 non-null   float64       \n",
      " 3   Low        3655 non-null   float64       \n",
      " 4   Close      3655 non-null   float64       \n",
      " 5   Adj Close  3655 non-null   float64       \n",
      " 6   Volume     3655 non-null   float64       \n",
      "dtypes: datetime64[ns](1), float64(6)\n",
      "memory usage: 201.5 KB\n"
     ]
    }
   ],
   "source": [
    "# Transformar a coluna de data object em Datetime\n",
    "df_numerico[\"Date\"] = pd.to_datetime(df_numerico[\"Date\"])\n",
    "\n",
    "# Info do dataset\n",
    "df_numerico.info()"
   ]
  },
  {
   "cell_type": "markdown",
   "metadata": {},
   "source": [
    "**Transformamos a coluna 'Date' em 'datetime', para juntar os 2 dataframes pela coluna 'Date'** "
   ]
  },
  {
   "cell_type": "code",
   "execution_count": 16,
   "metadata": {},
   "outputs": [
    {
     "data": {
      "text/html": [
       "<div>\n",
       "<style scoped>\n",
       "    .dataframe tbody tr th:only-of-type {\n",
       "        vertical-align: middle;\n",
       "    }\n",
       "\n",
       "    .dataframe tbody tr th {\n",
       "        vertical-align: top;\n",
       "    }\n",
       "\n",
       "    .dataframe thead th {\n",
       "        text-align: right;\n",
       "    }\n",
       "</style>\n",
       "<table border=\"1\" class=\"dataframe\">\n",
       "  <thead>\n",
       "    <tr style=\"text-align: right;\">\n",
       "      <th></th>\n",
       "      <th>Open</th>\n",
       "      <th>High</th>\n",
       "      <th>Low</th>\n",
       "      <th>Close</th>\n",
       "      <th>Adj Close</th>\n",
       "      <th>Volume</th>\n",
       "    </tr>\n",
       "  </thead>\n",
       "  <tbody>\n",
       "    <tr>\n",
       "      <th>count</th>\n",
       "      <td>3655.000000</td>\n",
       "      <td>3655.000000</td>\n",
       "      <td>3655.000000</td>\n",
       "      <td>3655.000000</td>\n",
       "      <td>3655.000000</td>\n",
       "      <td>3.655000e+03</td>\n",
       "    </tr>\n",
       "    <tr>\n",
       "      <th>mean</th>\n",
       "      <td>21146.347264</td>\n",
       "      <td>21269.132682</td>\n",
       "      <td>20984.649405</td>\n",
       "      <td>21124.125256</td>\n",
       "      <td>21124.125256</td>\n",
       "      <td>1.037558e+05</td>\n",
       "    </tr>\n",
       "    <tr>\n",
       "      <th>std</th>\n",
       "      <td>8749.525123</td>\n",
       "      <td>8759.377962</td>\n",
       "      <td>8716.504502</td>\n",
       "      <td>8733.757649</td>\n",
       "      <td>8733.757649</td>\n",
       "      <td>1.237143e+06</td>\n",
       "    </tr>\n",
       "    <tr>\n",
       "      <th>min</th>\n",
       "      <td>6093.660156</td>\n",
       "      <td>6174.000000</td>\n",
       "      <td>6069.330078</td>\n",
       "      <td>6102.740234</td>\n",
       "      <td>6102.740234</td>\n",
       "      <td>8.000000e+02</td>\n",
       "    </tr>\n",
       "    <tr>\n",
       "      <th>25%</th>\n",
       "      <td>15181.980469</td>\n",
       "      <td>15328.830078</td>\n",
       "      <td>15007.475098</td>\n",
       "      <td>15149.320312</td>\n",
       "      <td>15149.320312</td>\n",
       "      <td>1.060000e+04</td>\n",
       "    </tr>\n",
       "    <tr>\n",
       "      <th>50%</th>\n",
       "      <td>19072.019531</td>\n",
       "      <td>19201.919922</td>\n",
       "      <td>18864.810547</td>\n",
       "      <td>19016.460938</td>\n",
       "      <td>19016.460938</td>\n",
       "      <td>1.420000e+04</td>\n",
       "    </tr>\n",
       "    <tr>\n",
       "      <th>75%</th>\n",
       "      <td>27634.455078</td>\n",
       "      <td>27772.924805</td>\n",
       "      <td>27438.979493</td>\n",
       "      <td>27579.464844</td>\n",
       "      <td>27579.464844</td>\n",
       "      <td>2.000000e+04</td>\n",
       "    </tr>\n",
       "    <tr>\n",
       "      <th>max</th>\n",
       "      <td>41161.539063</td>\n",
       "      <td>41163.789063</td>\n",
       "      <td>40996.078125</td>\n",
       "      <td>41130.171875</td>\n",
       "      <td>41130.171875</td>\n",
       "      <td>3.181510e+07</td>\n",
       "    </tr>\n",
       "  </tbody>\n",
       "</table>\n",
       "</div>"
      ],
      "text/plain": [
       "               Open          High           Low         Close     Adj Close  \\\n",
       "count   3655.000000   3655.000000   3655.000000   3655.000000   3655.000000   \n",
       "mean   21146.347264  21269.132682  20984.649405  21124.125256  21124.125256   \n",
       "std     8749.525123   8759.377962   8716.504502   8733.757649   8733.757649   \n",
       "min     6093.660156   6174.000000   6069.330078   6102.740234   6102.740234   \n",
       "25%    15181.980469  15328.830078  15007.475098  15149.320312  15149.320312   \n",
       "50%    19072.019531  19201.919922  18864.810547  19016.460938  19016.460938   \n",
       "75%    27634.455078  27772.924805  27438.979493  27579.464844  27579.464844   \n",
       "max    41161.539063  41163.789063  40996.078125  41130.171875  41130.171875   \n",
       "\n",
       "             Volume  \n",
       "count  3.655000e+03  \n",
       "mean   1.037558e+05  \n",
       "std    1.237143e+06  \n",
       "min    8.000000e+02  \n",
       "25%    1.060000e+04  \n",
       "50%    1.420000e+04  \n",
       "75%    2.000000e+04  \n",
       "max    3.181510e+07  "
      ]
     },
     "execution_count": 16,
     "metadata": {},
     "output_type": "execute_result"
    }
   ],
   "source": [
    "# Resumo estatístico\n",
    "df_numerico.describe()"
   ]
  },
  {
   "cell_type": "markdown",
   "metadata": {},
   "source": [
    "**Não temos diferença nas medias das variáveis**"
   ]
  },
  {
   "cell_type": "code",
   "execution_count": 17,
   "metadata": {},
   "outputs": [
    {
     "data": {
      "text/plain": [
       "Date          0\n",
       "Open         27\n",
       "High         27\n",
       "Low          27\n",
       "Close        27\n",
       "Adj Close    27\n",
       "Volume       27\n",
       "dtype: int64"
      ]
     },
     "execution_count": 17,
     "metadata": {},
     "output_type": "execute_result"
    }
   ],
   "source": [
    "# Valores Nulos\n",
    "df_numerico.isnull().sum()"
   ]
  },
  {
   "cell_type": "code",
   "execution_count": 18,
   "metadata": {},
   "outputs": [
    {
     "data": {
      "text/plain": [
       "Date         0\n",
       "Open         0\n",
       "High         0\n",
       "Low          0\n",
       "Close        0\n",
       "Adj Close    0\n",
       "Volume       0\n",
       "dtype: int64"
      ]
     },
     "execution_count": 18,
     "metadata": {},
     "output_type": "execute_result"
    }
   ],
   "source": [
    "# Drop dos valores Nulos\n",
    "df_numerico.dropna(inplace = True)\n",
    "\n",
    "df_numerico.isnull().sum()"
   ]
  },
  {
   "cell_type": "markdown",
   "metadata": {},
   "source": [
    "**Dataset sem valores nulos**"
   ]
  },
  {
   "cell_type": "markdown",
   "metadata": {},
   "source": [
    "# Engenharia de atributos"
   ]
  },
  {
   "cell_type": "markdown",
   "metadata": {},
   "source": [
    "- Vamos criar a variável de retorno do investimento por dia, usando as variáveis 'Open' e 'Close' fazendo a diferença entre elas"
   ]
  },
  {
   "cell_type": "markdown",
   "metadata": {},
   "source": [
    "- Para criar a variável target através das cotações, precisamos transformar algumas variáveis no dataframe"
   ]
  },
  {
   "cell_type": "code",
   "execution_count": 19,
   "metadata": {},
   "outputs": [
    {
     "data": {
      "text/html": [
       "<div>\n",
       "<style scoped>\n",
       "    .dataframe tbody tr th:only-of-type {\n",
       "        vertical-align: middle;\n",
       "    }\n",
       "\n",
       "    .dataframe tbody tr th {\n",
       "        vertical-align: top;\n",
       "    }\n",
       "\n",
       "    .dataframe thead th {\n",
       "        text-align: right;\n",
       "    }\n",
       "</style>\n",
       "<table border=\"1\" class=\"dataframe\">\n",
       "  <thead>\n",
       "    <tr style=\"text-align: right;\">\n",
       "      <th></th>\n",
       "      <th>Date</th>\n",
       "      <th>Open</th>\n",
       "      <th>Close</th>\n",
       "    </tr>\n",
       "  </thead>\n",
       "  <tbody>\n",
       "    <tr>\n",
       "      <th>0</th>\n",
       "      <td>2005-01-03</td>\n",
       "      <td>6626.490234</td>\n",
       "      <td>6679.200195</td>\n",
       "    </tr>\n",
       "    <tr>\n",
       "      <th>1</th>\n",
       "      <td>2005-01-04</td>\n",
       "      <td>6683.560059</td>\n",
       "      <td>6651.009766</td>\n",
       "    </tr>\n",
       "    <tr>\n",
       "      <th>2</th>\n",
       "      <td>2005-01-05</td>\n",
       "      <td>6628.890137</td>\n",
       "      <td>6458.839844</td>\n",
       "    </tr>\n",
       "    <tr>\n",
       "      <th>3</th>\n",
       "      <td>2005-01-06</td>\n",
       "      <td>6447.270020</td>\n",
       "      <td>6367.390137</td>\n",
       "    </tr>\n",
       "    <tr>\n",
       "      <th>4</th>\n",
       "      <td>2005-01-07</td>\n",
       "      <td>6374.189941</td>\n",
       "      <td>6420.459961</td>\n",
       "    </tr>\n",
       "    <tr>\n",
       "      <th>...</th>\n",
       "      <td>...</td>\n",
       "      <td>...</td>\n",
       "      <td>...</td>\n",
       "    </tr>\n",
       "    <tr>\n",
       "      <th>3677</th>\n",
       "      <td>2019-11-25</td>\n",
       "      <td>40439.660156</td>\n",
       "      <td>40889.230469</td>\n",
       "    </tr>\n",
       "    <tr>\n",
       "      <th>3678</th>\n",
       "      <td>2019-11-26</td>\n",
       "      <td>41022.851563</td>\n",
       "      <td>40821.300781</td>\n",
       "    </tr>\n",
       "    <tr>\n",
       "      <th>3679</th>\n",
       "      <td>2019-11-27</td>\n",
       "      <td>40979.390625</td>\n",
       "      <td>41020.609375</td>\n",
       "    </tr>\n",
       "    <tr>\n",
       "      <th>3680</th>\n",
       "      <td>2019-11-28</td>\n",
       "      <td>41161.539063</td>\n",
       "      <td>41130.171875</td>\n",
       "    </tr>\n",
       "    <tr>\n",
       "      <th>3681</th>\n",
       "      <td>2019-11-29</td>\n",
       "      <td>41138.261719</td>\n",
       "      <td>40793.808594</td>\n",
       "    </tr>\n",
       "  </tbody>\n",
       "</table>\n",
       "<p>3655 rows × 3 columns</p>\n",
       "</div>"
      ],
      "text/plain": [
       "           Date          Open         Close\n",
       "0    2005-01-03   6626.490234   6679.200195\n",
       "1    2005-01-04   6683.560059   6651.009766\n",
       "2    2005-01-05   6628.890137   6458.839844\n",
       "3    2005-01-06   6447.270020   6367.390137\n",
       "4    2005-01-07   6374.189941   6420.459961\n",
       "...         ...           ...           ...\n",
       "3677 2019-11-25  40439.660156  40889.230469\n",
       "3678 2019-11-26  41022.851563  40821.300781\n",
       "3679 2019-11-27  40979.390625  41020.609375\n",
       "3680 2019-11-28  41161.539063  41130.171875\n",
       "3681 2019-11-29  41138.261719  40793.808594\n",
       "\n",
       "[3655 rows x 3 columns]"
      ]
     },
     "execution_count": 19,
     "metadata": {},
     "output_type": "execute_result"
    }
   ],
   "source": [
    "#Selecionar as variáveis relevante para a análise\n",
    "retor = df_numerico[['Date','Open','Close']]\n",
    "retor "
   ]
  },
  {
   "cell_type": "markdown",
   "metadata": {},
   "source": [
    "**Selecionamos as variáveis: 'Date','Open' e 'Close'**"
   ]
  },
  {
   "cell_type": "code",
   "execution_count": 20,
   "metadata": {},
   "outputs": [
    {
     "data": {
      "text/html": [
       "<div>\n",
       "<style scoped>\n",
       "    .dataframe tbody tr th:only-of-type {\n",
       "        vertical-align: middle;\n",
       "    }\n",
       "\n",
       "    .dataframe tbody tr th {\n",
       "        vertical-align: top;\n",
       "    }\n",
       "\n",
       "    .dataframe thead th {\n",
       "        text-align: right;\n",
       "    }\n",
       "</style>\n",
       "<table border=\"1\" class=\"dataframe\">\n",
       "  <thead>\n",
       "    <tr style=\"text-align: right;\">\n",
       "      <th></th>\n",
       "      <th>Date</th>\n",
       "      <th>Open</th>\n",
       "      <th>Close</th>\n",
       "      <th>Retorno_diario</th>\n",
       "    </tr>\n",
       "  </thead>\n",
       "  <tbody>\n",
       "    <tr>\n",
       "      <th>0</th>\n",
       "      <td>2005-01-03</td>\n",
       "      <td>6626.490234</td>\n",
       "      <td>6679.200195</td>\n",
       "      <td>0.795443</td>\n",
       "    </tr>\n",
       "    <tr>\n",
       "      <th>1</th>\n",
       "      <td>2005-01-04</td>\n",
       "      <td>6683.560059</td>\n",
       "      <td>6651.009766</td>\n",
       "      <td>-0.487020</td>\n",
       "    </tr>\n",
       "    <tr>\n",
       "      <th>2</th>\n",
       "      <td>2005-01-05</td>\n",
       "      <td>6628.890137</td>\n",
       "      <td>6458.839844</td>\n",
       "      <td>-2.565291</td>\n",
       "    </tr>\n",
       "    <tr>\n",
       "      <th>3</th>\n",
       "      <td>2005-01-06</td>\n",
       "      <td>6447.270020</td>\n",
       "      <td>6367.390137</td>\n",
       "      <td>-1.238972</td>\n",
       "    </tr>\n",
       "    <tr>\n",
       "      <th>4</th>\n",
       "      <td>2005-01-07</td>\n",
       "      <td>6374.189941</td>\n",
       "      <td>6420.459961</td>\n",
       "      <td>0.725896</td>\n",
       "    </tr>\n",
       "    <tr>\n",
       "      <th>...</th>\n",
       "      <td>...</td>\n",
       "      <td>...</td>\n",
       "      <td>...</td>\n",
       "      <td>...</td>\n",
       "    </tr>\n",
       "    <tr>\n",
       "      <th>3677</th>\n",
       "      <td>2019-11-25</td>\n",
       "      <td>40439.660156</td>\n",
       "      <td>40889.230469</td>\n",
       "      <td>1.111706</td>\n",
       "    </tr>\n",
       "    <tr>\n",
       "      <th>3678</th>\n",
       "      <td>2019-11-26</td>\n",
       "      <td>41022.851563</td>\n",
       "      <td>40821.300781</td>\n",
       "      <td>-0.491313</td>\n",
       "    </tr>\n",
       "    <tr>\n",
       "      <th>3679</th>\n",
       "      <td>2019-11-27</td>\n",
       "      <td>40979.390625</td>\n",
       "      <td>41020.609375</td>\n",
       "      <td>0.100584</td>\n",
       "    </tr>\n",
       "    <tr>\n",
       "      <th>3680</th>\n",
       "      <td>2019-11-28</td>\n",
       "      <td>41161.539063</td>\n",
       "      <td>41130.171875</td>\n",
       "      <td>-0.076205</td>\n",
       "    </tr>\n",
       "    <tr>\n",
       "      <th>3681</th>\n",
       "      <td>2019-11-29</td>\n",
       "      <td>41138.261719</td>\n",
       "      <td>40793.808594</td>\n",
       "      <td>-0.837306</td>\n",
       "    </tr>\n",
       "  </tbody>\n",
       "</table>\n",
       "<p>3655 rows × 4 columns</p>\n",
       "</div>"
      ],
      "text/plain": [
       "           Date          Open         Close  Retorno_diario\n",
       "0    2005-01-03   6626.490234   6679.200195        0.795443\n",
       "1    2005-01-04   6683.560059   6651.009766       -0.487020\n",
       "2    2005-01-05   6628.890137   6458.839844       -2.565291\n",
       "3    2005-01-06   6447.270020   6367.390137       -1.238972\n",
       "4    2005-01-07   6374.189941   6420.459961        0.725896\n",
       "...         ...           ...           ...             ...\n",
       "3677 2019-11-25  40439.660156  40889.230469        1.111706\n",
       "3678 2019-11-26  41022.851563  40821.300781       -0.491313\n",
       "3679 2019-11-27  40979.390625  41020.609375        0.100584\n",
       "3680 2019-11-28  41161.539063  41130.171875       -0.076205\n",
       "3681 2019-11-29  41138.261719  40793.808594       -0.837306\n",
       "\n",
       "[3655 rows x 4 columns]"
      ]
     },
     "execution_count": 20,
     "metadata": {},
     "output_type": "execute_result"
    }
   ],
   "source": [
    "# Calculo do retornos financeiro\n",
    "retor['Retorno_diario']= ((retor.Close/retor.Open)-1)*100\n",
    "retor"
   ]
  },
  {
   "cell_type": "markdown",
   "metadata": {},
   "source": [
    "**Variável 'Retorno_diario', porcentagem de ganho ou perda no dia, comprando na abertura e vendendo no fechamento do dia**"
   ]
  },
  {
   "cell_type": "code",
   "execution_count": 22,
   "metadata": {},
   "outputs": [
    {
     "data": {
      "text/html": [
       "<div>\n",
       "<style scoped>\n",
       "    .dataframe tbody tr th:only-of-type {\n",
       "        vertical-align: middle;\n",
       "    }\n",
       "\n",
       "    .dataframe tbody tr th {\n",
       "        vertical-align: top;\n",
       "    }\n",
       "\n",
       "    .dataframe thead th {\n",
       "        text-align: right;\n",
       "    }\n",
       "</style>\n",
       "<table border=\"1\" class=\"dataframe\">\n",
       "  <thead>\n",
       "    <tr style=\"text-align: right;\">\n",
       "      <th></th>\n",
       "      <th>Date</th>\n",
       "      <th>Open</th>\n",
       "      <th>Close</th>\n",
       "      <th>Retorno_diario</th>\n",
       "      <th>Classe</th>\n",
       "    </tr>\n",
       "  </thead>\n",
       "  <tbody>\n",
       "    <tr>\n",
       "      <th>0</th>\n",
       "      <td>2005-01-03</td>\n",
       "      <td>6626.490234</td>\n",
       "      <td>6679.200195</td>\n",
       "      <td>0.795443</td>\n",
       "      <td>1</td>\n",
       "    </tr>\n",
       "    <tr>\n",
       "      <th>1</th>\n",
       "      <td>2005-01-04</td>\n",
       "      <td>6683.560059</td>\n",
       "      <td>6651.009766</td>\n",
       "      <td>-0.487020</td>\n",
       "      <td>0</td>\n",
       "    </tr>\n",
       "    <tr>\n",
       "      <th>2</th>\n",
       "      <td>2005-01-05</td>\n",
       "      <td>6628.890137</td>\n",
       "      <td>6458.839844</td>\n",
       "      <td>-2.565291</td>\n",
       "      <td>0</td>\n",
       "    </tr>\n",
       "    <tr>\n",
       "      <th>3</th>\n",
       "      <td>2005-01-06</td>\n",
       "      <td>6447.270020</td>\n",
       "      <td>6367.390137</td>\n",
       "      <td>-1.238972</td>\n",
       "      <td>0</td>\n",
       "    </tr>\n",
       "    <tr>\n",
       "      <th>4</th>\n",
       "      <td>2005-01-07</td>\n",
       "      <td>6374.189941</td>\n",
       "      <td>6420.459961</td>\n",
       "      <td>0.725896</td>\n",
       "      <td>1</td>\n",
       "    </tr>\n",
       "    <tr>\n",
       "      <th>...</th>\n",
       "      <td>...</td>\n",
       "      <td>...</td>\n",
       "      <td>...</td>\n",
       "      <td>...</td>\n",
       "      <td>...</td>\n",
       "    </tr>\n",
       "    <tr>\n",
       "      <th>3677</th>\n",
       "      <td>2019-11-25</td>\n",
       "      <td>40439.660156</td>\n",
       "      <td>40889.230469</td>\n",
       "      <td>1.111706</td>\n",
       "      <td>1</td>\n",
       "    </tr>\n",
       "    <tr>\n",
       "      <th>3678</th>\n",
       "      <td>2019-11-26</td>\n",
       "      <td>41022.851563</td>\n",
       "      <td>40821.300781</td>\n",
       "      <td>-0.491313</td>\n",
       "      <td>0</td>\n",
       "    </tr>\n",
       "    <tr>\n",
       "      <th>3679</th>\n",
       "      <td>2019-11-27</td>\n",
       "      <td>40979.390625</td>\n",
       "      <td>41020.609375</td>\n",
       "      <td>0.100584</td>\n",
       "      <td>1</td>\n",
       "    </tr>\n",
       "    <tr>\n",
       "      <th>3680</th>\n",
       "      <td>2019-11-28</td>\n",
       "      <td>41161.539063</td>\n",
       "      <td>41130.171875</td>\n",
       "      <td>-0.076205</td>\n",
       "      <td>0</td>\n",
       "    </tr>\n",
       "    <tr>\n",
       "      <th>3681</th>\n",
       "      <td>2019-11-29</td>\n",
       "      <td>41138.261719</td>\n",
       "      <td>40793.808594</td>\n",
       "      <td>-0.837306</td>\n",
       "      <td>0</td>\n",
       "    </tr>\n",
       "  </tbody>\n",
       "</table>\n",
       "<p>3655 rows × 5 columns</p>\n",
       "</div>"
      ],
      "text/plain": [
       "           Date          Open         Close  Retorno_diario  Classe\n",
       "0    2005-01-03   6626.490234   6679.200195        0.795443       1\n",
       "1    2005-01-04   6683.560059   6651.009766       -0.487020       0\n",
       "2    2005-01-05   6628.890137   6458.839844       -2.565291       0\n",
       "3    2005-01-06   6447.270020   6367.390137       -1.238972       0\n",
       "4    2005-01-07   6374.189941   6420.459961        0.725896       1\n",
       "...         ...           ...           ...             ...     ...\n",
       "3677 2019-11-25  40439.660156  40889.230469        1.111706       1\n",
       "3678 2019-11-26  41022.851563  40821.300781       -0.491313       0\n",
       "3679 2019-11-27  40979.390625  41020.609375        0.100584       1\n",
       "3680 2019-11-28  41161.539063  41130.171875       -0.076205       0\n",
       "3681 2019-11-29  41138.261719  40793.808594       -0.837306       0\n",
       "\n",
       "[3655 rows x 5 columns]"
      ]
     },
     "execution_count": 22,
     "metadata": {},
     "output_type": "execute_result"
    }
   ],
   "source": [
    "#Criar a variável Target\n",
    "retor['Classe'] = np.where((retor['Retorno_diario']>0),1, 0)\n",
    "retor"
   ]
  },
  {
   "cell_type": "markdown",
   "metadata": {},
   "source": [
    "**Para criar a variável target usamos 2 classes: 'Classe = 0' retorno negativo < 0 e a 'Classe = 1'  retorno positivo > 0, não considerando impostos e corretagem**"
   ]
  },
  {
   "cell_type": "code",
   "execution_count": 24,
   "metadata": {},
   "outputs": [
    {
     "data": {
      "image/png": "[encoded data removed]",
      "text/plain": [
       "<Figure size 432x288 with 1 Axes>"
      ]
     },
     "metadata": {
      "needs_background": "light"
     },
     "output_type": "display_data"
    }
   ],
   "source": [
    "#Plot da variável Target\n",
    "plt.hist(retor.Classe);"
   ]
  },
  {
   "cell_type": "code",
   "execution_count": 25,
   "metadata": {},
   "outputs": [
    {
     "name": "stdout",
     "output_type": "stream",
     "text": [
      "Retorno Negativo: 53.79%\n",
      "Retorno Positivo: 46.21%\n"
     ]
    }
   ],
   "source": [
    "a = len(retor[retor.Classe==0])\n",
    "b = len(retor[retor.Classe==1])\n",
    "total = len(retor)\n",
    "\n",
    "print(f'Retorno Negativo: {round(a/total*100,2)}%')\n",
    "print(f'Retorno Positivo: {round(b/total*100,2)}%')"
   ]
  },
  {
   "cell_type": "markdown",
   "metadata": {},
   "source": [
    "**As 2 classes estão balanceadas**"
   ]
  },
  {
   "cell_type": "code",
   "execution_count": 27,
   "metadata": {},
   "outputs": [
    {
     "data": {
      "text/plain": [
       "1374.0479773941822"
      ]
     },
     "execution_count": 27,
     "metadata": {},
     "output_type": "execute_result"
    }
   ],
   "source": [
    "#Retorno Positivo\n",
    "a = retor[retor['Retorno_diario']>0]\n",
    "a.Retorno_diario.sum()"
   ]
  },
  {
   "cell_type": "code",
   "execution_count": 28,
   "metadata": {},
   "outputs": [
    {
     "data": {
      "text/plain": [
       "-1679.8018396744515"
      ]
     },
     "execution_count": 28,
     "metadata": {},
     "output_type": "execute_result"
    }
   ],
   "source": [
    "#Retorno Negativo\n",
    "b = retor[retor['Retorno_diario']<0]\n",
    "b.Retorno_diario.sum()"
   ]
  },
  {
   "cell_type": "code",
   "execution_count": 23,
   "metadata": {},
   "outputs": [
    {
     "data": {
      "text/html": [
       "<div>\n",
       "<style scoped>\n",
       "    .dataframe tbody tr th:only-of-type {\n",
       "        vertical-align: middle;\n",
       "    }\n",
       "\n",
       "    .dataframe tbody tr th {\n",
       "        vertical-align: top;\n",
       "    }\n",
       "\n",
       "    .dataframe thead th {\n",
       "        text-align: right;\n",
       "    }\n",
       "</style>\n",
       "<table border=\"1\" class=\"dataframe\">\n",
       "  <thead>\n",
       "    <tr style=\"text-align: right;\">\n",
       "      <th></th>\n",
       "      <th>Retorno_diario</th>\n",
       "    </tr>\n",
       "  </thead>\n",
       "  <tbody>\n",
       "    <tr>\n",
       "      <th>0</th>\n",
       "      <td>0.795443</td>\n",
       "    </tr>\n",
       "    <tr>\n",
       "      <th>1</th>\n",
       "      <td>0.308423</td>\n",
       "    </tr>\n",
       "    <tr>\n",
       "      <th>2</th>\n",
       "      <td>-2.256868</td>\n",
       "    </tr>\n",
       "    <tr>\n",
       "      <th>3</th>\n",
       "      <td>-3.495840</td>\n",
       "    </tr>\n",
       "    <tr>\n",
       "      <th>4</th>\n",
       "      <td>-2.769943</td>\n",
       "    </tr>\n",
       "    <tr>\n",
       "      <th>...</th>\n",
       "      <td>...</td>\n",
       "    </tr>\n",
       "    <tr>\n",
       "      <th>3677</th>\n",
       "      <td>-304.449622</td>\n",
       "    </tr>\n",
       "    <tr>\n",
       "      <th>3678</th>\n",
       "      <td>-304.940935</td>\n",
       "    </tr>\n",
       "    <tr>\n",
       "      <th>3679</th>\n",
       "      <td>-304.840351</td>\n",
       "    </tr>\n",
       "    <tr>\n",
       "      <th>3680</th>\n",
       "      <td>-304.916556</td>\n",
       "    </tr>\n",
       "    <tr>\n",
       "      <th>3681</th>\n",
       "      <td>-305.753862</td>\n",
       "    </tr>\n",
       "  </tbody>\n",
       "</table>\n",
       "<p>3655 rows × 1 columns</p>\n",
       "</div>"
      ],
      "text/plain": [
       "      Retorno_diario\n",
       "0           0.795443\n",
       "1           0.308423\n",
       "2          -2.256868\n",
       "3          -3.495840\n",
       "4          -2.769943\n",
       "...              ...\n",
       "3677     -304.449622\n",
       "3678     -304.940935\n",
       "3679     -304.840351\n",
       "3680     -304.916556\n",
       "3681     -305.753862\n",
       "\n",
       "[3655 rows x 1 columns]"
      ]
     },
     "execution_count": 23,
     "metadata": {},
     "output_type": "execute_result"
    }
   ],
   "source": [
    "#Retorno ao longo dos meses\n",
    "retor['Retorno_diario'].cumsum().to_frame()"
   ]
  },
  {
   "cell_type": "markdown",
   "metadata": {},
   "source": [
    "**Note que apesar do equilibrio entre as 2 classes, o acumulado durante os anos fica em -305%, vamos tentar diminuir essa diferença usando analise textual**"
   ]
  },
  {
   "cell_type": "code",
   "execution_count": 30,
   "metadata": {},
   "outputs": [
    {
     "data": {
      "text/html": [
       "<div>\n",
       "<style scoped>\n",
       "    .dataframe tbody tr th:only-of-type {\n",
       "        vertical-align: middle;\n",
       "    }\n",
       "\n",
       "    .dataframe tbody tr th {\n",
       "        vertical-align: top;\n",
       "    }\n",
       "\n",
       "    .dataframe thead th {\n",
       "        text-align: right;\n",
       "    }\n",
       "</style>\n",
       "<table border=\"1\" class=\"dataframe\">\n",
       "  <thead>\n",
       "    <tr style=\"text-align: right;\">\n",
       "      <th></th>\n",
       "      <th>Date</th>\n",
       "      <th>Open</th>\n",
       "      <th>Close</th>\n",
       "      <th>Retorno_diario</th>\n",
       "      <th>Classe</th>\n",
       "    </tr>\n",
       "  </thead>\n",
       "  <tbody>\n",
       "    <tr>\n",
       "      <th>2</th>\n",
       "      <td>2005-01-05</td>\n",
       "      <td>6628.890137</td>\n",
       "      <td>6458.839844</td>\n",
       "      <td>-2.565291</td>\n",
       "      <td>0</td>\n",
       "    </tr>\n",
       "    <tr>\n",
       "      <th>3</th>\n",
       "      <td>2005-01-06</td>\n",
       "      <td>6447.270020</td>\n",
       "      <td>6367.390137</td>\n",
       "      <td>-1.238972</td>\n",
       "      <td>0</td>\n",
       "    </tr>\n",
       "    <tr>\n",
       "      <th>5</th>\n",
       "      <td>2005-01-10</td>\n",
       "      <td>6440.330078</td>\n",
       "      <td>6308.540039</td>\n",
       "      <td>-2.046324</td>\n",
       "      <td>0</td>\n",
       "    </tr>\n",
       "    <tr>\n",
       "      <th>6</th>\n",
       "      <td>2005-01-11</td>\n",
       "      <td>6317.390137</td>\n",
       "      <td>6222.870117</td>\n",
       "      <td>-1.496188</td>\n",
       "      <td>0</td>\n",
       "    </tr>\n",
       "    <tr>\n",
       "      <th>7</th>\n",
       "      <td>2005-01-12</td>\n",
       "      <td>6250.350098</td>\n",
       "      <td>6102.740234</td>\n",
       "      <td>-2.361626</td>\n",
       "      <td>0</td>\n",
       "    </tr>\n",
       "    <tr>\n",
       "      <th>...</th>\n",
       "      <td>...</td>\n",
       "      <td>...</td>\n",
       "      <td>...</td>\n",
       "      <td>...</td>\n",
       "      <td>...</td>\n",
       "    </tr>\n",
       "    <tr>\n",
       "      <th>3635</th>\n",
       "      <td>2019-09-20</td>\n",
       "      <td>36214.921875</td>\n",
       "      <td>38014.621094</td>\n",
       "      <td>4.969496</td>\n",
       "      <td>1</td>\n",
       "    </tr>\n",
       "    <tr>\n",
       "      <th>3646</th>\n",
       "      <td>2019-10-09</td>\n",
       "      <td>37628.050781</td>\n",
       "      <td>38177.949219</td>\n",
       "      <td>1.461406</td>\n",
       "      <td>1</td>\n",
       "    </tr>\n",
       "    <tr>\n",
       "      <th>3652</th>\n",
       "      <td>2019-10-17</td>\n",
       "      <td>38647.441406</td>\n",
       "      <td>39052.058594</td>\n",
       "      <td>1.046944</td>\n",
       "      <td>1</td>\n",
       "    </tr>\n",
       "    <tr>\n",
       "      <th>3659</th>\n",
       "      <td>2019-10-29</td>\n",
       "      <td>39293.488281</td>\n",
       "      <td>39831.839844</td>\n",
       "      <td>1.370078</td>\n",
       "      <td>1</td>\n",
       "    </tr>\n",
       "    <tr>\n",
       "      <th>3677</th>\n",
       "      <td>2019-11-25</td>\n",
       "      <td>40439.660156</td>\n",
       "      <td>40889.230469</td>\n",
       "      <td>1.111706</td>\n",
       "      <td>1</td>\n",
       "    </tr>\n",
       "  </tbody>\n",
       "</table>\n",
       "<p>1043 rows × 5 columns</p>\n",
       "</div>"
      ],
      "text/plain": [
       "           Date          Open         Close  Retorno_diario  Classe\n",
       "2    2005-01-05   6628.890137   6458.839844       -2.565291       0\n",
       "3    2005-01-06   6447.270020   6367.390137       -1.238972       0\n",
       "5    2005-01-10   6440.330078   6308.540039       -2.046324       0\n",
       "6    2005-01-11   6317.390137   6222.870117       -1.496188       0\n",
       "7    2005-01-12   6250.350098   6102.740234       -2.361626       0\n",
       "...         ...           ...           ...             ...     ...\n",
       "3635 2019-09-20  36214.921875  38014.621094        4.969496       1\n",
       "3646 2019-10-09  37628.050781  38177.949219        1.461406       1\n",
       "3652 2019-10-17  38647.441406  39052.058594        1.046944       1\n",
       "3659 2019-10-29  39293.488281  39831.839844        1.370078       1\n",
       "3677 2019-11-25  40439.660156  40889.230469        1.111706       1\n",
       "\n",
       "[1043 rows x 5 columns]"
      ]
     },
     "execution_count": 30,
     "metadata": {},
     "output_type": "execute_result"
    }
   ],
   "source": [
    "#Fitrar os dados < -1 e > 1\n",
    "menor = retor[(retor.Retorno_diario<-1)]\n",
    "maior = retor[(retor.Retorno_diario>1)]\n",
    "filtro_1 = pd.concat([menor,maior])\n",
    "filtro_1"
   ]
  },
  {
   "cell_type": "markdown",
   "metadata": {},
   "source": [
    "**Filtramos somente os retornos > 1% ou < -1%, com isso conseguimos verificar o impacto das notícias em relação as cotações de forma mais enfática**"
   ]
  },
  {
   "cell_type": "markdown",
   "metadata": {},
   "source": [
    "## Análise Textual\n"
   ]
  },
  {
   "cell_type": "code",
   "execution_count": 31,
   "metadata": {},
   "outputs": [],
   "source": [
    "# Função para obter subjetividade\n",
    "def getSubjectivity(text):\n",
    "    return TextBlob(text).sentiment.subjectivity"
   ]
  },
  {
   "cell_type": "markdown",
   "metadata": {},
   "source": [
    "**Função para calcular a subjetividade do texto, dando pontuações próximas de 0 (negativa) e próximas de 1 (positiva)**"
   ]
  },
  {
   "cell_type": "code",
   "execution_count": 32,
   "metadata": {},
   "outputs": [],
   "source": [
    "# Função para obter polaridade\n",
    "def getPolarity(text):\n",
    "    return TextBlob(text).sentiment.polarity"
   ]
  },
  {
   "cell_type": "markdown",
   "metadata": {},
   "source": [
    "**Função para calcula a Polaridade(Tendencia mais positiva ou negativa) do texto**"
   ]
  },
  {
   "cell_type": "code",
   "execution_count": 33,
   "metadata": {},
   "outputs": [
    {
     "data": {
      "text/html": [
       "<div>\n",
       "<style scoped>\n",
       "    .dataframe tbody tr th:only-of-type {\n",
       "        vertical-align: middle;\n",
       "    }\n",
       "\n",
       "    .dataframe tbody tr th {\n",
       "        vertical-align: top;\n",
       "    }\n",
       "\n",
       "    .dataframe thead th {\n",
       "        text-align: right;\n",
       "    }\n",
       "</style>\n",
       "<table border=\"1\" class=\"dataframe\">\n",
       "  <thead>\n",
       "    <tr style=\"text-align: right;\">\n",
       "      <th></th>\n",
       "      <th>Date</th>\n",
       "      <th>News</th>\n",
       "      <th>Subjectivity</th>\n",
       "      <th>Polarity</th>\n",
       "    </tr>\n",
       "  </thead>\n",
       "  <tbody>\n",
       "    <tr>\n",
       "      <th>0</th>\n",
       "      <td>2001-01-02</td>\n",
       "      <td>Status quo will not be disturbed at Ayodhya  s...</td>\n",
       "      <td>0.286859</td>\n",
       "      <td>0.143590</td>\n",
       "    </tr>\n",
       "    <tr>\n",
       "      <th>1</th>\n",
       "      <td>2001-01-03</td>\n",
       "      <td>Powerless north India gropes in the dark Think...</td>\n",
       "      <td>0.392857</td>\n",
       "      <td>0.089286</td>\n",
       "    </tr>\n",
       "    <tr>\n",
       "      <th>2</th>\n",
       "      <td>2001-01-04</td>\n",
       "      <td>The string that pulled Stephen Hawking to Indi...</td>\n",
       "      <td>0.445360</td>\n",
       "      <td>0.093039</td>\n",
       "    </tr>\n",
       "    <tr>\n",
       "      <th>3</th>\n",
       "      <td>2001-01-05</td>\n",
       "      <td>Light combat craft takes India into club class...</td>\n",
       "      <td>0.480553</td>\n",
       "      <td>0.264024</td>\n",
       "    </tr>\n",
       "    <tr>\n",
       "      <th>4</th>\n",
       "      <td>2001-01-06</td>\n",
       "      <td>Light combat craft takes India into club class...</td>\n",
       "      <td>0.439394</td>\n",
       "      <td>0.248485</td>\n",
       "    </tr>\n",
       "    <tr>\n",
       "      <th>...</th>\n",
       "      <td>...</td>\n",
       "      <td>...</td>\n",
       "      <td>...</td>\n",
       "      <td>...</td>\n",
       "    </tr>\n",
       "    <tr>\n",
       "      <th>7257</th>\n",
       "      <td>2020-12-27</td>\n",
       "      <td>BigInterview  Dhritiman Chatterjee  Nobody da...</td>\n",
       "      <td>0.392082</td>\n",
       "      <td>0.042978</td>\n",
       "    </tr>\n",
       "    <tr>\n",
       "      <th>7258</th>\n",
       "      <td>2020-12-28</td>\n",
       "      <td>Horoscope Today     December       Check astro...</td>\n",
       "      <td>0.409973</td>\n",
       "      <td>0.071405</td>\n",
       "    </tr>\n",
       "    <tr>\n",
       "      <th>7259</th>\n",
       "      <td>2020-12-29</td>\n",
       "      <td>Man recovers charred remains of 'thief' from h...</td>\n",
       "      <td>0.415684</td>\n",
       "      <td>0.060775</td>\n",
       "    </tr>\n",
       "    <tr>\n",
       "      <th>7260</th>\n",
       "      <td>2020-12-30</td>\n",
       "      <td>Numerology Readings    December       Predicti...</td>\n",
       "      <td>0.436863</td>\n",
       "      <td>0.046930</td>\n",
       "    </tr>\n",
       "    <tr>\n",
       "      <th>7261</th>\n",
       "      <td>2020-12-31</td>\n",
       "      <td>Horoscope Today     December       Check astro...</td>\n",
       "      <td>0.408454</td>\n",
       "      <td>0.091829</td>\n",
       "    </tr>\n",
       "  </tbody>\n",
       "</table>\n",
       "<p>7262 rows × 4 columns</p>\n",
       "</div>"
      ],
      "text/plain": [
       "           Date                                               News  \\\n",
       "0    2001-01-02  Status quo will not be disturbed at Ayodhya  s...   \n",
       "1    2001-01-03  Powerless north India gropes in the dark Think...   \n",
       "2    2001-01-04  The string that pulled Stephen Hawking to Indi...   \n",
       "3    2001-01-05  Light combat craft takes India into club class...   \n",
       "4    2001-01-06  Light combat craft takes India into club class...   \n",
       "...         ...                                                ...   \n",
       "7257 2020-12-27   BigInterview  Dhritiman Chatterjee  Nobody da...   \n",
       "7258 2020-12-28  Horoscope Today     December       Check astro...   \n",
       "7259 2020-12-29  Man recovers charred remains of 'thief' from h...   \n",
       "7260 2020-12-30  Numerology Readings    December       Predicti...   \n",
       "7261 2020-12-31  Horoscope Today     December       Check astro...   \n",
       "\n",
       "      Subjectivity  Polarity  \n",
       "0         0.286859  0.143590  \n",
       "1         0.392857  0.089286  \n",
       "2         0.445360  0.093039  \n",
       "3         0.480553  0.264024  \n",
       "4         0.439394  0.248485  \n",
       "...            ...       ...  \n",
       "7257      0.392082  0.042978  \n",
       "7258      0.409973  0.071405  \n",
       "7259      0.415684  0.060775  \n",
       "7260      0.436863  0.046930  \n",
       "7261      0.408454  0.091829  \n",
       "\n",
       "[7262 rows x 4 columns]"
      ]
     },
     "execution_count": 33,
     "metadata": {},
     "output_type": "execute_result"
    }
   ],
   "source": [
    "# Criar as variáveis Subjectivity e Polarity\n",
    "df_texto['Subjectivity'] = df_texto['News'].apply(getSubjectivity)\n",
    "df_texto['Polarity'] = df_texto['News'].apply(getPolarity)\n",
    "\n",
    "df_texto"
   ]
  },
  {
   "cell_type": "markdown",
   "metadata": {},
   "source": [
    "**Criamos 2 variáveis de sentimentos: Subjectivity e Polarity**"
   ]
  },
  {
   "cell_type": "code",
   "execution_count": 34,
   "metadata": {},
   "outputs": [
    {
     "name": "stdout",
     "output_type": "stream",
     "text": [
      "CPU times: total: 45min 10s\n",
      "Wall time: 46min 49s\n"
     ]
    },
    {
     "data": {
      "text/html": [
       "<div>\n",
       "<style scoped>\n",
       "    .dataframe tbody tr th:only-of-type {\n",
       "        vertical-align: middle;\n",
       "    }\n",
       "\n",
       "    .dataframe tbody tr th {\n",
       "        vertical-align: top;\n",
       "    }\n",
       "\n",
       "    .dataframe thead th {\n",
       "        text-align: right;\n",
       "    }\n",
       "</style>\n",
       "<table border=\"1\" class=\"dataframe\">\n",
       "  <thead>\n",
       "    <tr style=\"text-align: right;\">\n",
       "      <th></th>\n",
       "      <th>Date</th>\n",
       "      <th>News</th>\n",
       "      <th>Subjectivity</th>\n",
       "      <th>Polarity</th>\n",
       "      <th>Compound</th>\n",
       "      <th>Negative</th>\n",
       "      <th>Neutral</th>\n",
       "      <th>Positive</th>\n",
       "    </tr>\n",
       "  </thead>\n",
       "  <tbody>\n",
       "    <tr>\n",
       "      <th>0</th>\n",
       "      <td>2001-01-02</td>\n",
       "      <td>Status quo will not be disturbed at Ayodhya  s...</td>\n",
       "      <td>0.286859</td>\n",
       "      <td>0.143590</td>\n",
       "      <td>-0.9792</td>\n",
       "      <td>0.121</td>\n",
       "      <td>0.809</td>\n",
       "      <td>0.071</td>\n",
       "    </tr>\n",
       "    <tr>\n",
       "      <th>1</th>\n",
       "      <td>2001-01-03</td>\n",
       "      <td>Powerless north India gropes in the dark Think...</td>\n",
       "      <td>0.392857</td>\n",
       "      <td>0.089286</td>\n",
       "      <td>-0.8910</td>\n",
       "      <td>0.156</td>\n",
       "      <td>0.735</td>\n",
       "      <td>0.109</td>\n",
       "    </tr>\n",
       "    <tr>\n",
       "      <th>2</th>\n",
       "      <td>2001-01-04</td>\n",
       "      <td>The string that pulled Stephen Hawking to Indi...</td>\n",
       "      <td>0.445360</td>\n",
       "      <td>0.093039</td>\n",
       "      <td>0.7543</td>\n",
       "      <td>0.104</td>\n",
       "      <td>0.792</td>\n",
       "      <td>0.104</td>\n",
       "    </tr>\n",
       "    <tr>\n",
       "      <th>3</th>\n",
       "      <td>2001-01-05</td>\n",
       "      <td>Light combat craft takes India into club class...</td>\n",
       "      <td>0.480553</td>\n",
       "      <td>0.264024</td>\n",
       "      <td>0.9645</td>\n",
       "      <td>0.142</td>\n",
       "      <td>0.694</td>\n",
       "      <td>0.164</td>\n",
       "    </tr>\n",
       "    <tr>\n",
       "      <th>4</th>\n",
       "      <td>2001-01-06</td>\n",
       "      <td>Light combat craft takes India into club class...</td>\n",
       "      <td>0.439394</td>\n",
       "      <td>0.248485</td>\n",
       "      <td>-0.8316</td>\n",
       "      <td>0.214</td>\n",
       "      <td>0.655</td>\n",
       "      <td>0.131</td>\n",
       "    </tr>\n",
       "  </tbody>\n",
       "</table>\n",
       "</div>"
      ],
      "text/plain": [
       "        Date                                               News  Subjectivity  \\\n",
       "0 2001-01-02  Status quo will not be disturbed at Ayodhya  s...      0.286859   \n",
       "1 2001-01-03  Powerless north India gropes in the dark Think...      0.392857   \n",
       "2 2001-01-04  The string that pulled Stephen Hawking to Indi...      0.445360   \n",
       "3 2001-01-05  Light combat craft takes India into club class...      0.480553   \n",
       "4 2001-01-06  Light combat craft takes India into club class...      0.439394   \n",
       "\n",
       "   Polarity  Compound  Negative  Neutral  Positive  \n",
       "0  0.143590   -0.9792     0.121    0.809     0.071  \n",
       "1  0.089286   -0.8910     0.156    0.735     0.109  \n",
       "2  0.093039    0.7543     0.104    0.792     0.104  \n",
       "3  0.264024    0.9645     0.142    0.694     0.164  \n",
       "4  0.248485   -0.8316     0.214    0.655     0.131  "
      ]
     },
     "execution_count": 34,
     "metadata": {},
     "output_type": "execute_result"
    }
   ],
   "source": [
    "%%time\n",
    "# Criando um analisador de sentimento\n",
    "analisador = SentimentIntensityAnalyzer()\n",
    "\n",
    "#Criando os sentimentos extraido dos textos\n",
    "df_texto['Compound'] = [analisador.polarity_scores(v)['compound'] for v in df_texto['News']]\n",
    "df_texto['Negative'] = [analisador.polarity_scores(v)['neg'] for v in df_texto['News']]\n",
    "df_texto['Neutral']  = [analisador.polarity_scores(v)['neu'] for v in df_texto['News']]\n",
    "df_texto['Positive'] = [analisador.polarity_scores(v)['pos'] for v in df_texto['News']]\n",
    "\n",
    "# Visualizar o resultado\n",
    "df_texto.head()"
   ]
  },
  {
   "cell_type": "markdown",
   "metadata": {},
   "source": [
    "**Além das variáveis de Subjetividade e Polaridade, criamos mais 4 variáveis de análise de sentimentos: 'Negative' = Texto com conotação negativa, 'Positive' = Conotação positiva, 'Neutral' = Textos neutros e 'Compound' = Scores dado a junção das outras 3 variáveis**"
   ]
  },
  {
   "cell_type": "code",
   "execution_count": 67,
   "metadata": {
    "scrolled": true
   },
   "outputs": [
    {
     "data": {
      "text/html": [
       "<div>\n",
       "<style scoped>\n",
       "    .dataframe tbody tr th:only-of-type {\n",
       "        vertical-align: middle;\n",
       "    }\n",
       "\n",
       "    .dataframe tbody tr th {\n",
       "        vertical-align: top;\n",
       "    }\n",
       "\n",
       "    .dataframe thead th {\n",
       "        text-align: right;\n",
       "    }\n",
       "</style>\n",
       "<table border=\"1\" class=\"dataframe\">\n",
       "  <thead>\n",
       "    <tr style=\"text-align: right;\">\n",
       "      <th></th>\n",
       "      <th>Subjectivity</th>\n",
       "      <th>Polarity</th>\n",
       "      <th>Compound</th>\n",
       "      <th>Negative</th>\n",
       "      <th>Neutral</th>\n",
       "      <th>Positive</th>\n",
       "    </tr>\n",
       "  </thead>\n",
       "  <tbody>\n",
       "    <tr>\n",
       "      <th>count</th>\n",
       "      <td>7262.000000</td>\n",
       "      <td>7262.000000</td>\n",
       "      <td>7262.000000</td>\n",
       "      <td>7262.000000</td>\n",
       "      <td>7262.000000</td>\n",
       "      <td>7262.000000</td>\n",
       "    </tr>\n",
       "    <tr>\n",
       "      <th>mean</th>\n",
       "      <td>0.402244</td>\n",
       "      <td>0.069796</td>\n",
       "      <td>-0.894801</td>\n",
       "      <td>0.153573</td>\n",
       "      <td>0.742588</td>\n",
       "      <td>0.103849</td>\n",
       "    </tr>\n",
       "    <tr>\n",
       "      <th>std</th>\n",
       "      <td>0.037109</td>\n",
       "      <td>0.037357</td>\n",
       "      <td>0.408166</td>\n",
       "      <td>0.026748</td>\n",
       "      <td>0.034713</td>\n",
       "      <td>0.022078</td>\n",
       "    </tr>\n",
       "    <tr>\n",
       "      <th>min</th>\n",
       "      <td>0.000000</td>\n",
       "      <td>-0.233333</td>\n",
       "      <td>-1.000000</td>\n",
       "      <td>0.000000</td>\n",
       "      <td>0.000000</td>\n",
       "      <td>0.000000</td>\n",
       "    </tr>\n",
       "    <tr>\n",
       "      <th>25%</th>\n",
       "      <td>0.384137</td>\n",
       "      <td>0.049041</td>\n",
       "      <td>-0.999900</td>\n",
       "      <td>0.138000</td>\n",
       "      <td>0.723000</td>\n",
       "      <td>0.092000</td>\n",
       "    </tr>\n",
       "    <tr>\n",
       "      <th>50%</th>\n",
       "      <td>0.401477</td>\n",
       "      <td>0.068362</td>\n",
       "      <td>-0.999600</td>\n",
       "      <td>0.155000</td>\n",
       "      <td>0.740000</td>\n",
       "      <td>0.103000</td>\n",
       "    </tr>\n",
       "    <tr>\n",
       "      <th>75%</th>\n",
       "      <td>0.419616</td>\n",
       "      <td>0.088798</td>\n",
       "      <td>-0.997500</td>\n",
       "      <td>0.170000</td>\n",
       "      <td>0.761000</td>\n",
       "      <td>0.115000</td>\n",
       "    </tr>\n",
       "    <tr>\n",
       "      <th>max</th>\n",
       "      <td>1.000000</td>\n",
       "      <td>0.666667</td>\n",
       "      <td>1.000000</td>\n",
       "      <td>0.444000</td>\n",
       "      <td>1.000000</td>\n",
       "      <td>0.608000</td>\n",
       "    </tr>\n",
       "  </tbody>\n",
       "</table>\n",
       "</div>"
      ],
      "text/plain": [
       "       Subjectivity     Polarity     Compound     Negative      Neutral  \\\n",
       "count   7262.000000  7262.000000  7262.000000  7262.000000  7262.000000   \n",
       "mean       0.402244     0.069796    -0.894801     0.153573     0.742588   \n",
       "std        0.037109     0.037357     0.408166     0.026748     0.034713   \n",
       "min        0.000000    -0.233333    -1.000000     0.000000     0.000000   \n",
       "25%        0.384137     0.049041    -0.999900     0.138000     0.723000   \n",
       "50%        0.401477     0.068362    -0.999600     0.155000     0.740000   \n",
       "75%        0.419616     0.088798    -0.997500     0.170000     0.761000   \n",
       "max        1.000000     0.666667     1.000000     0.444000     1.000000   \n",
       "\n",
       "          Positive  \n",
       "count  7262.000000  \n",
       "mean      0.103849  \n",
       "std       0.022078  \n",
       "min       0.000000  \n",
       "25%       0.092000  \n",
       "50%       0.103000  \n",
       "75%       0.115000  \n",
       "max       0.608000  "
      ]
     },
     "execution_count": 67,
     "metadata": {},
     "output_type": "execute_result"
    }
   ],
   "source": [
    "#Analise descritiva dos dados \n",
    "df_texto.describe()"
   ]
  },
  {
   "cell_type": "markdown",
   "metadata": {},
   "source": [
    "**Note que a maioria dos dados tiveram uma pontuação maior na variavel 'Neutral', isso pode ser um problema na hora da predição**"
   ]
  },
  {
   "cell_type": "markdown",
   "metadata": {},
   "source": [
    "## Merge dos Dados (Classe do Retorno Financeiro e das polaridades do texto)"
   ]
  },
  {
   "cell_type": "code",
   "execution_count": 299,
   "metadata": {},
   "outputs": [
    {
     "data": {
      "text/html": [
       "<div>\n",
       "<style scoped>\n",
       "    .dataframe tbody tr th:only-of-type {\n",
       "        vertical-align: middle;\n",
       "    }\n",
       "\n",
       "    .dataframe tbody tr th {\n",
       "        vertical-align: top;\n",
       "    }\n",
       "\n",
       "    .dataframe thead th {\n",
       "        text-align: right;\n",
       "    }\n",
       "</style>\n",
       "<table border=\"1\" class=\"dataframe\">\n",
       "  <thead>\n",
       "    <tr style=\"text-align: right;\">\n",
       "      <th></th>\n",
       "      <th>Date</th>\n",
       "      <th>Classe</th>\n",
       "      <th>Retorno_diario</th>\n",
       "      <th>Subjectivity</th>\n",
       "      <th>Polarity</th>\n",
       "      <th>Compound</th>\n",
       "      <th>Negative</th>\n",
       "      <th>Neutral</th>\n",
       "      <th>Positive</th>\n",
       "    </tr>\n",
       "  </thead>\n",
       "  <tbody>\n",
       "    <tr>\n",
       "      <th>0</th>\n",
       "      <td>2005-01-05</td>\n",
       "      <td>0</td>\n",
       "      <td>-2.565291</td>\n",
       "      <td>0.422979</td>\n",
       "      <td>0.084374</td>\n",
       "      <td>-0.9947</td>\n",
       "      <td>0.149</td>\n",
       "      <td>0.749</td>\n",
       "      <td>0.103</td>\n",
       "    </tr>\n",
       "    <tr>\n",
       "      <th>1</th>\n",
       "      <td>2005-01-06</td>\n",
       "      <td>0</td>\n",
       "      <td>-1.238972</td>\n",
       "      <td>0.329153</td>\n",
       "      <td>0.169928</td>\n",
       "      <td>0.0262</td>\n",
       "      <td>0.101</td>\n",
       "      <td>0.799</td>\n",
       "      <td>0.101</td>\n",
       "    </tr>\n",
       "    <tr>\n",
       "      <th>2</th>\n",
       "      <td>2005-01-10</td>\n",
       "      <td>0</td>\n",
       "      <td>-2.046324</td>\n",
       "      <td>0.390789</td>\n",
       "      <td>0.175591</td>\n",
       "      <td>0.9757</td>\n",
       "      <td>0.108</td>\n",
       "      <td>0.747</td>\n",
       "      <td>0.146</td>\n",
       "    </tr>\n",
       "    <tr>\n",
       "      <th>3</th>\n",
       "      <td>2005-01-11</td>\n",
       "      <td>0</td>\n",
       "      <td>-1.496188</td>\n",
       "      <td>0.416421</td>\n",
       "      <td>0.089603</td>\n",
       "      <td>-0.9896</td>\n",
       "      <td>0.152</td>\n",
       "      <td>0.721</td>\n",
       "      <td>0.127</td>\n",
       "    </tr>\n",
       "    <tr>\n",
       "      <th>4</th>\n",
       "      <td>2005-01-12</td>\n",
       "      <td>0</td>\n",
       "      <td>-2.361626</td>\n",
       "      <td>0.370177</td>\n",
       "      <td>0.061235</td>\n",
       "      <td>-0.9694</td>\n",
       "      <td>0.130</td>\n",
       "      <td>0.761</td>\n",
       "      <td>0.109</td>\n",
       "    </tr>\n",
       "    <tr>\n",
       "      <th>...</th>\n",
       "      <td>...</td>\n",
       "      <td>...</td>\n",
       "      <td>...</td>\n",
       "      <td>...</td>\n",
       "      <td>...</td>\n",
       "      <td>...</td>\n",
       "      <td>...</td>\n",
       "      <td>...</td>\n",
       "      <td>...</td>\n",
       "    </tr>\n",
       "    <tr>\n",
       "      <th>562</th>\n",
       "      <td>2019-10-04</td>\n",
       "      <td>0</td>\n",
       "      <td>-1.896228</td>\n",
       "      <td>0.404196</td>\n",
       "      <td>0.091570</td>\n",
       "      <td>-0.9999</td>\n",
       "      <td>0.159</td>\n",
       "      <td>0.745</td>\n",
       "      <td>0.096</td>\n",
       "    </tr>\n",
       "    <tr>\n",
       "      <th>1039</th>\n",
       "      <td>2019-10-09</td>\n",
       "      <td>1</td>\n",
       "      <td>1.461406</td>\n",
       "      <td>0.426521</td>\n",
       "      <td>0.082447</td>\n",
       "      <td>-0.9999</td>\n",
       "      <td>0.161</td>\n",
       "      <td>0.743</td>\n",
       "      <td>0.095</td>\n",
       "    </tr>\n",
       "    <tr>\n",
       "      <th>1040</th>\n",
       "      <td>2019-10-17</td>\n",
       "      <td>1</td>\n",
       "      <td>1.046944</td>\n",
       "      <td>0.411840</td>\n",
       "      <td>0.061206</td>\n",
       "      <td>-0.9998</td>\n",
       "      <td>0.145</td>\n",
       "      <td>0.757</td>\n",
       "      <td>0.099</td>\n",
       "    </tr>\n",
       "    <tr>\n",
       "      <th>1041</th>\n",
       "      <td>2019-10-29</td>\n",
       "      <td>1</td>\n",
       "      <td>1.370078</td>\n",
       "      <td>0.449153</td>\n",
       "      <td>0.056285</td>\n",
       "      <td>-0.9994</td>\n",
       "      <td>0.150</td>\n",
       "      <td>0.722</td>\n",
       "      <td>0.128</td>\n",
       "    </tr>\n",
       "    <tr>\n",
       "      <th>1042</th>\n",
       "      <td>2019-11-25</td>\n",
       "      <td>1</td>\n",
       "      <td>1.111706</td>\n",
       "      <td>0.367645</td>\n",
       "      <td>0.051117</td>\n",
       "      <td>-0.9998</td>\n",
       "      <td>0.138</td>\n",
       "      <td>0.780</td>\n",
       "      <td>0.081</td>\n",
       "    </tr>\n",
       "  </tbody>\n",
       "</table>\n",
       "<p>1043 rows × 9 columns</p>\n",
       "</div>"
      ],
      "text/plain": [
       "           Date  Classe  Retorno_diario  Subjectivity  Polarity  Compound  \\\n",
       "0    2005-01-05       0       -2.565291      0.422979  0.084374   -0.9947   \n",
       "1    2005-01-06       0       -1.238972      0.329153  0.169928    0.0262   \n",
       "2    2005-01-10       0       -2.046324      0.390789  0.175591    0.9757   \n",
       "3    2005-01-11       0       -1.496188      0.416421  0.089603   -0.9896   \n",
       "4    2005-01-12       0       -2.361626      0.370177  0.061235   -0.9694   \n",
       "...         ...     ...             ...           ...       ...       ...   \n",
       "562  2019-10-04       0       -1.896228      0.404196  0.091570   -0.9999   \n",
       "1039 2019-10-09       1        1.461406      0.426521  0.082447   -0.9999   \n",
       "1040 2019-10-17       1        1.046944      0.411840  0.061206   -0.9998   \n",
       "1041 2019-10-29       1        1.370078      0.449153  0.056285   -0.9994   \n",
       "1042 2019-11-25       1        1.111706      0.367645  0.051117   -0.9998   \n",
       "\n",
       "      Negative  Neutral  Positive  \n",
       "0        0.149    0.749     0.103  \n",
       "1        0.101    0.799     0.101  \n",
       "2        0.108    0.747     0.146  \n",
       "3        0.152    0.721     0.127  \n",
       "4        0.130    0.761     0.109  \n",
       "...        ...      ...       ...  \n",
       "562      0.159    0.745     0.096  \n",
       "1039     0.161    0.743     0.095  \n",
       "1040     0.145    0.757     0.099  \n",
       "1041     0.150    0.722     0.128  \n",
       "1042     0.138    0.780     0.081  \n",
       "\n",
       "[1043 rows x 9 columns]"
      ]
     },
     "execution_count": 299,
     "metadata": {},
     "output_type": "execute_result"
    }
   ],
   "source": [
    "#Selecionar as variáveis relevantes do dataset das cotações financeiras\n",
    "retorno1  = filtro_1[['Date','Classe','Retorno_diario']]\n",
    "\n",
    "#Selecionar as variáveis relevantes do dataset textual\n",
    "retorno2 = df_texto[['Date','Subjectivity','Polarity','Compound','Negative','Neutral','Positive']]\n",
    "\n",
    "#Merge\n",
    "dados_completos = pd.merge(retorno1,retorno2,on = 'Date')\n",
    "\n",
    "#Ordenar por Data\n",
    "dados_completos = dados_completos.sort_values(by='Date')\n",
    "dados_completos"
   ]
  },
  {
   "cell_type": "markdown",
   "metadata": {},
   "source": [
    "**Selecionamos apenas as variáveis relevantes para a predição, note que através dos textos conseguimos criar as variáveis exógenas, portanto os textos não são mais relevantes**"
   ]
  },
  {
   "cell_type": "markdown",
   "metadata": {},
   "source": [
    "# Análise Exploratória "
   ]
  },
  {
   "cell_type": "markdown",
   "metadata": {},
   "source": [
    "- Fazer a análise exploratória do novo dataset, e verificar as variáveis relevantes para predição"
   ]
  },
  {
   "cell_type": "markdown",
   "metadata": {},
   "source": [
    "## Variável Target:"
   ]
  },
  {
   "cell_type": "markdown",
   "metadata": {},
   "source": [
    "### Classe"
   ]
  },
  {
   "cell_type": "code",
   "execution_count": 300,
   "metadata": {},
   "outputs": [
    {
     "data": {
      "image/png": "[encoded data removed]",
      "text/plain": [
       "<Figure size 432x288 with 1 Axes>"
      ]
     },
     "metadata": {
      "needs_background": "light"
     },
     "output_type": "display_data"
    }
   ],
   "source": [
    "#Plot\n",
    "dados_completos.Classe.hist();"
   ]
  },
  {
   "cell_type": "code",
   "execution_count": 301,
   "metadata": {},
   "outputs": [
    {
     "name": "stdout",
     "output_type": "stream",
     "text": [
      "Classe 0: 53.98%\n",
      "Classe 1: 46.02%\n"
     ]
    }
   ],
   "source": [
    "a = len(dados_completos[dados_completos.Classe==0])\n",
    "b = len(dados_completos[dados_completos.Classe==1])\n",
    "total = len(dados_completos)\n",
    "\n",
    "print(f'Classe 0: {round(a/total*100,2)}%')\n",
    "print(f'Classe 1: {round(b/total*100,2)}%')\n"
   ]
  },
  {
   "cell_type": "markdown",
   "metadata": {},
   "source": [
    "**Dados equilibrados na variável target**"
   ]
  },
  {
   "cell_type": "markdown",
   "metadata": {},
   "source": [
    "## Variáveis Preditoras:"
   ]
  },
  {
   "cell_type": "markdown",
   "metadata": {},
   "source": [
    "### Subjectivity"
   ]
  },
  {
   "cell_type": "code",
   "execution_count": 302,
   "metadata": {},
   "outputs": [
    {
     "name": "stdout",
     "output_type": "stream",
     "text": [
      "Classe 0 = 0.4018\n",
      "Classe 1 = 0.4026\n"
     ]
    }
   ],
   "source": [
    "#classe 0\n",
    "classe_0 = dados_completos.loc[(dados_completos['Classe']==0)]\n",
    "a = classe_0['Subjectivity'].median()\n",
    "\n",
    "#Classe 1\n",
    "classe_1 = dados_completos.loc[(dados_completos['Classe']==1)]\n",
    "b = classe_1['Subjectivity'].median()\n",
    "\n",
    "print(f'Classe 0 = {round(a,4)}')\n",
    "print(f'Classe 1 = {round(b,4)}')"
   ]
  },
  {
   "cell_type": "markdown",
   "metadata": {},
   "source": [
    "### Polarity"
   ]
  },
  {
   "cell_type": "code",
   "execution_count": 303,
   "metadata": {},
   "outputs": [
    {
     "name": "stdout",
     "output_type": "stream",
     "text": [
      "Classe 0 = 0.0689\n",
      "Classe 1 = 0.0706\n"
     ]
    }
   ],
   "source": [
    "#classe 0\n",
    "#classe 0\n",
    "classe_0 = dados_completos.loc[(dados_completos['Classe']==0)]\n",
    "a = classe_0['Polarity'].median()\n",
    "\n",
    "#Classe 1\n",
    "classe_1 = dados_completos.loc[(dados_completos['Classe']==1)]\n",
    "b = classe_1['Polarity'].median()\n",
    "\n",
    "print(f'Classe 0 = {round(a,4)}')\n",
    "print(f'Classe 1 = {round(b,4)}')"
   ]
  },
  {
   "cell_type": "markdown",
   "metadata": {},
   "source": [
    "### Compound"
   ]
  },
  {
   "cell_type": "code",
   "execution_count": 304,
   "metadata": {},
   "outputs": [
    {
     "name": "stdout",
     "output_type": "stream",
     "text": [
      "Classe 0 = -0.9997\n",
      "Classe 1 = -0.9996\n"
     ]
    }
   ],
   "source": [
    "#classe 0\n",
    "classe_0 = dados_completos.loc[(dados_completos['Classe']==0)]\n",
    "a = classe_0['Compound'].median()\n",
    "\n",
    "#Classe 1\n",
    "classe_1 = dados_completos.loc[(dados_completos['Classe']==1)]\n",
    "b = classe_1['Compound'].median()\n",
    "\n",
    "print(f'Classe 0 = {round(a,4)}')\n",
    "print(f'Classe 1 = {round(b,4)}')"
   ]
  },
  {
   "cell_type": "markdown",
   "metadata": {},
   "source": [
    "### Negative"
   ]
  },
  {
   "cell_type": "code",
   "execution_count": 305,
   "metadata": {},
   "outputs": [
    {
     "name": "stdout",
     "output_type": "stream",
     "text": [
      "Classe 0 = 0.159\n",
      "Classe 1 = 0.159\n"
     ]
    }
   ],
   "source": [
    "#classe 0\n",
    "classe_0 = dados_completos.loc[(dados_completos['Classe']==0)]\n",
    "a = classe_0['Negative'].median()\n",
    "\n",
    "#Classe 1\n",
    "classe_1 = dados_completos.loc[(dados_completos['Classe']==1)]\n",
    "b = classe_1['Negative'].median()\n",
    "\n",
    "print(f'Classe 0 = {round(a,4)}')\n",
    "print(f'Classe 1 = {round(b,4)}')"
   ]
  },
  {
   "cell_type": "markdown",
   "metadata": {},
   "source": [
    "### Neutral"
   ]
  },
  {
   "cell_type": "code",
   "execution_count": 306,
   "metadata": {},
   "outputs": [
    {
     "name": "stdout",
     "output_type": "stream",
     "text": [
      "Classe 0 = 0.736\n",
      "Classe 1 = 0.736\n"
     ]
    }
   ],
   "source": [
    "#classe 0\n",
    "classe_0 = dados_completos.loc[(dados_completos['Classe']==0)]\n",
    "a = classe_0['Neutral'].median()\n",
    "\n",
    "#Classe 1\n",
    "classe_1 = dados_completos.loc[(dados_completos['Classe']==1)]\n",
    "b = classe_1['Neutral'].median()\n",
    "\n",
    "print(f'Classe 0 = {round(a,4)}')\n",
    "print(f'Classe 1 = {round(b,4)}')"
   ]
  },
  {
   "cell_type": "markdown",
   "metadata": {},
   "source": [
    "### Positive"
   ]
  },
  {
   "cell_type": "code",
   "execution_count": 307,
   "metadata": {},
   "outputs": [
    {
     "name": "stdout",
     "output_type": "stream",
     "text": [
      "Classe 0 = 0.103\n",
      "Classe 1 = 0.105\n"
     ]
    }
   ],
   "source": [
    "#classe 0\n",
    "classe_0 = dados_completos.loc[(dados_completos['Classe']==0)]\n",
    "a = classe_0['Positive'].median()\n",
    "\n",
    "#Classe 1\n",
    "classe_1 = dados_completos.loc[(dados_completos['Classe']==1)]\n",
    "b = classe_1['Positive'].median()\n",
    "\n",
    "print(f'Classe 0 = {round(a,4)}')\n",
    "print(f'Classe 1 = {round(b,4)}')"
   ]
  },
  {
   "cell_type": "markdown",
   "metadata": {},
   "source": [
    "**Note que nenhuma das variáveis aparenta ter diferença significativa na mediana em relação a variável target**"
   ]
  },
  {
   "cell_type": "markdown",
   "metadata": {},
   "source": [
    "**Vamos selecionar todas as variáveis analisadas para modelagem preditiva**"
   ]
  },
  {
   "cell_type": "markdown",
   "metadata": {},
   "source": [
    "# Modelagem"
   ]
  },
  {
   "cell_type": "markdown",
   "metadata": {},
   "source": [
    "## Dividir os dados em treino e teste"
   ]
  },
  {
   "cell_type": "code",
   "execution_count": 308,
   "metadata": {},
   "outputs": [],
   "source": [
    "#Separar os dados em x e y\n",
    "x = dados_completos.drop(['Retorno_diario','Classe','Date'],axis=1)\n",
    "y = dados_completos.Classe\n",
    "\n",
    "#Separar as variaveis em treino e teste\n",
    "from sklearn.model_selection import train_test_split\n",
    "X_treino,X_teste,Y_treino,Y_teste=train_test_split(x,y,test_size=0.3,random_state=1)"
   ]
  },
  {
   "cell_type": "markdown",
   "metadata": {},
   "source": [
    "# Modelo 1 - Random Forest"
   ]
  },
  {
   "cell_type": "code",
   "execution_count": 309,
   "metadata": {},
   "outputs": [
    {
     "data": {
      "text/html": [
       "<div>\n",
       "<style scoped>\n",
       "    .dataframe tbody tr th:only-of-type {\n",
       "        vertical-align: middle;\n",
       "    }\n",
       "\n",
       "    .dataframe tbody tr th {\n",
       "        vertical-align: top;\n",
       "    }\n",
       "\n",
       "    .dataframe thead tr th {\n",
       "        text-align: left;\n",
       "    }\n",
       "</style>\n",
       "<table border=\"1\" class=\"dataframe\">\n",
       "  <thead>\n",
       "    <tr>\n",
       "      <th></th>\n",
       "      <th>Metricas</th>\n",
       "      <th>RF1</th>\n",
       "    </tr>\n",
       "  </thead>\n",
       "  <tbody>\n",
       "    <tr>\n",
       "      <th>0</th>\n",
       "      <td>Acurácia_Treino</td>\n",
       "      <td>0.561644</td>\n",
       "    </tr>\n",
       "    <tr>\n",
       "      <th>1</th>\n",
       "      <td>Acurácia_Teste</td>\n",
       "      <td>0.476038</td>\n",
       "    </tr>\n",
       "    <tr>\n",
       "      <th>2</th>\n",
       "      <td>Precision_Teste</td>\n",
       "      <td>0.491071</td>\n",
       "    </tr>\n",
       "    <tr>\n",
       "      <th>3</th>\n",
       "      <td>Recall_Teste</td>\n",
       "      <td>0.339506</td>\n",
       "    </tr>\n",
       "    <tr>\n",
       "      <th>4</th>\n",
       "      <td>AUC_Teste</td>\n",
       "      <td>0.481011</td>\n",
       "    </tr>\n",
       "  </tbody>\n",
       "</table>\n",
       "</div>"
      ],
      "text/plain": [
       "          Metricas       RF1\n",
       "0  Acurácia_Treino  0.561644\n",
       "1   Acurácia_Teste  0.476038\n",
       "2  Precision_Teste  0.491071\n",
       "3     Recall_Teste  0.339506\n",
       "4        AUC_Teste  0.481011"
      ]
     },
     "execution_count": 309,
     "metadata": {},
     "output_type": "execute_result"
    }
   ],
   "source": [
    "#Criar modelo 1\n",
    "from sklearn.ensemble import RandomForestClassifier\n",
    "\n",
    "# Construção do Classificador\n",
    "random_forest1 = RandomForestClassifier() \n",
    "\n",
    "#Treinar o modelo com os dados de treino\n",
    "modelo_random1 =  random_forest1.fit(X_treino, Y_treino)\n",
    "\n",
    "\n",
    "#Previsões com o modelo de teste\n",
    "previsoes_v1 = modelo_random1.predict(X_teste)\n",
    "\n",
    "# Dicionário de métricas e metadados\n",
    "from sklearn.metrics import precision_score, recall_score, f1_score, accuracy_score, roc_auc_score\n",
    "rf1 = {'Acurácia_Treino':modelo_random.score(X_treino,Y_treino),\n",
    "               'Acurácia_Teste':accuracy_score(Y_teste, previsoes_v1),\n",
    "               'Precision_Teste':precision_score(Y_teste, previsoes_v1),\n",
    "               'Recall_Teste':recall_score(Y_teste, previsoes_v1),\n",
    "               'AUC_Teste':roc_auc_score(Y_teste, previsoes_v1)}\n",
    "# Print\n",
    "\n",
    "metricas = pd.DataFrame(rf1.items(),columns=[['Metricas','RF1']]);metricas"
   ]
  },
  {
   "cell_type": "code",
   "execution_count": 310,
   "metadata": {},
   "outputs": [
    {
     "data": {
      "text/plain": [
       "<AxesSubplot:>"
      ]
     },
     "execution_count": 310,
     "metadata": {},
     "output_type": "execute_result"
    },
    {
     "data": {
      "image/png": "[encoded data removed]",
      "text/plain": [
       "<Figure size 432x288 with 2 Axes>"
      ]
     },
     "metadata": {
      "needs_background": "light"
     },
     "output_type": "display_data"
    }
   ],
   "source": [
    "#Matriz de Confusão\n",
    "from sklearn.metrics import confusion_matrix\n",
    "cm = confusion_matrix(Y_teste, previsoes_v1)\n",
    "sns.heatmap(cm,annot=True,fmt='d')"
   ]
  },
  {
   "cell_type": "markdown",
   "metadata": {},
   "source": [
    "**O Algoritimo Random Forest teve um bom desempenho com os dados de treino, porém com os dados de teste não obteve o mesmo resultado**"
   ]
  },
  {
   "cell_type": "markdown",
   "metadata": {},
   "source": [
    "# Modelo 2 - Redes Neurais"
   ]
  },
  {
   "cell_type": "code",
   "execution_count": 311,
   "metadata": {},
   "outputs": [
    {
     "data": {
      "text/html": [
       "<div>\n",
       "<style scoped>\n",
       "    .dataframe tbody tr th:only-of-type {\n",
       "        vertical-align: middle;\n",
       "    }\n",
       "\n",
       "    .dataframe tbody tr th {\n",
       "        vertical-align: top;\n",
       "    }\n",
       "\n",
       "    .dataframe thead tr th {\n",
       "        text-align: left;\n",
       "    }\n",
       "</style>\n",
       "<table border=\"1\" class=\"dataframe\">\n",
       "  <thead>\n",
       "    <tr>\n",
       "      <th></th>\n",
       "      <th>Metricas</th>\n",
       "      <th>RF1</th>\n",
       "      <th>RN1</th>\n",
       "    </tr>\n",
       "  </thead>\n",
       "  <tbody>\n",
       "    <tr>\n",
       "      <th>0</th>\n",
       "      <td>Acurácia_Treino</td>\n",
       "      <td>0.561644</td>\n",
       "      <td>0.565753</td>\n",
       "    </tr>\n",
       "    <tr>\n",
       "      <th>1</th>\n",
       "      <td>Acurácia_Teste</td>\n",
       "      <td>0.476038</td>\n",
       "      <td>0.479233</td>\n",
       "    </tr>\n",
       "    <tr>\n",
       "      <th>2</th>\n",
       "      <td>Precision_Teste</td>\n",
       "      <td>0.491071</td>\n",
       "      <td>0.400000</td>\n",
       "    </tr>\n",
       "    <tr>\n",
       "      <th>3</th>\n",
       "      <td>Recall_Teste</td>\n",
       "      <td>0.339506</td>\n",
       "      <td>0.012346</td>\n",
       "    </tr>\n",
       "    <tr>\n",
       "      <th>4</th>\n",
       "      <td>AUC_Teste</td>\n",
       "      <td>0.481011</td>\n",
       "      <td>0.496239</td>\n",
       "    </tr>\n",
       "  </tbody>\n",
       "</table>\n",
       "</div>"
      ],
      "text/plain": [
       "          Metricas       RF1       RN1\n",
       "0  Acurácia_Treino  0.561644  0.565753\n",
       "1   Acurácia_Teste  0.476038  0.479233\n",
       "2  Precision_Teste  0.491071  0.400000\n",
       "3     Recall_Teste  0.339506  0.012346\n",
       "4        AUC_Teste  0.481011  0.496239"
      ]
     },
     "execution_count": 311,
     "metadata": {},
     "output_type": "execute_result"
    }
   ],
   "source": [
    "#Criar modelo 2\n",
    "from sklearn.neural_network import MLPClassifier\n",
    "\n",
    "rede_neural_1 = MLPClassifier(max_iter=1500, verbose=False,\n",
    "                                   solver = 'adam', activation = 'relu',n_iter_no_change=40,learning_rate_init=0.0001,\n",
    "                                   hidden_layer_sizes = (100,100))\n",
    "rede_neural_1.fit(X_treino, Y_treino)\n",
    "\n",
    "#Previsões com o modelo de teste\n",
    "previsoes_v2 = rede_neural_1.predict(X_teste)\n",
    "\n",
    "# Dicionário de métricas e metadados\n",
    "from sklearn.metrics import precision_score, recall_score, f1_score, accuracy_score, roc_auc_score\n",
    "rn1 = {'Acurácia_Treino':rede_neural_credit1.score(X_treino,Y_treino),\n",
    "               'Acurácia_Teste':accuracy_score(Y_teste, previsoes_v2),\n",
    "               'Precision_Teste':precision_score(Y_teste, previsoes_v2),\n",
    "               'Recall_Teste':recall_score(Y_teste, previsoes_v2),\n",
    "               'AUC_Teste':roc_auc_score(Y_teste, previsoes_v2)}\n",
    "# Print\n",
    "\n",
    "metricas['RN1'] = rn1.values()\n",
    "metricas"
   ]
  },
  {
   "cell_type": "code",
   "execution_count": 312,
   "metadata": {},
   "outputs": [
    {
     "data": {
      "text/plain": [
       "<AxesSubplot:>"
      ]
     },
     "execution_count": 312,
     "metadata": {},
     "output_type": "execute_result"
    },
    {
     "data": {
      "image/png": "[encoded data removed]",
      "text/plain": [
       "<Figure size 432x288 with 2 Axes>"
      ]
     },
     "metadata": {
      "needs_background": "light"
     },
     "output_type": "display_data"
    }
   ],
   "source": [
    "#Matriz de Confusão\n",
    "cm = confusion_matrix(Y_teste, previsoes_v2)\n",
    "sns.heatmap(cm,annot=True,fmt='d')"
   ]
  },
  {
   "cell_type": "markdown",
   "metadata": {},
   "source": [
    "**O modelo de Redes Neurais teve um pouco mais de equilíbrio entre os dados de treino e teste, apesar de ter um resultado bem parecido com o modelo de Random Forest**"
   ]
  },
  {
   "cell_type": "markdown",
   "metadata": {},
   "source": [
    "# Padronizar os dados"
   ]
  },
  {
   "cell_type": "code",
   "execution_count": 313,
   "metadata": {},
   "outputs": [
    {
     "data": {
      "text/html": [
       "<div>\n",
       "<style scoped>\n",
       "    .dataframe tbody tr th:only-of-type {\n",
       "        vertical-align: middle;\n",
       "    }\n",
       "\n",
       "    .dataframe tbody tr th {\n",
       "        vertical-align: top;\n",
       "    }\n",
       "\n",
       "    .dataframe thead th {\n",
       "        text-align: right;\n",
       "    }\n",
       "</style>\n",
       "<table border=\"1\" class=\"dataframe\">\n",
       "  <thead>\n",
       "    <tr style=\"text-align: right;\">\n",
       "      <th></th>\n",
       "      <th>Subjectivity</th>\n",
       "      <th>Polarity</th>\n",
       "      <th>Compound</th>\n",
       "      <th>Negative</th>\n",
       "      <th>Neutral</th>\n",
       "      <th>Positive</th>\n",
       "    </tr>\n",
       "  </thead>\n",
       "  <tbody>\n",
       "    <tr>\n",
       "      <th>0</th>\n",
       "      <td>0.703115</td>\n",
       "      <td>0.442758</td>\n",
       "      <td>-0.212687</td>\n",
       "      <td>-0.384482</td>\n",
       "      <td>0.409704</td>\n",
       "      <td>-0.102110</td>\n",
       "    </tr>\n",
       "    <tr>\n",
       "      <th>1</th>\n",
       "      <td>-2.470553</td>\n",
       "      <td>3.067442</td>\n",
       "      <td>2.500621</td>\n",
       "      <td>-2.369498</td>\n",
       "      <td>2.114216</td>\n",
       "      <td>-0.219789</td>\n",
       "    </tr>\n",
       "    <tr>\n",
       "      <th>2</th>\n",
       "      <td>-0.385721</td>\n",
       "      <td>3.241176</td>\n",
       "      <td>5.024165</td>\n",
       "      <td>-2.080017</td>\n",
       "      <td>0.341523</td>\n",
       "      <td>2.428008</td>\n",
       "    </tr>\n",
       "    <tr>\n",
       "      <th>3</th>\n",
       "      <td>0.481292</td>\n",
       "      <td>0.603203</td>\n",
       "      <td>-0.199133</td>\n",
       "      <td>-0.260418</td>\n",
       "      <td>-0.544823</td>\n",
       "      <td>1.310049</td>\n",
       "    </tr>\n",
       "    <tr>\n",
       "      <th>4</th>\n",
       "      <td>-1.082923</td>\n",
       "      <td>-0.267096</td>\n",
       "      <td>-0.145446</td>\n",
       "      <td>-1.170218</td>\n",
       "      <td>0.818787</td>\n",
       "      <td>0.250930</td>\n",
       "    </tr>\n",
       "    <tr>\n",
       "      <th>...</th>\n",
       "      <td>...</td>\n",
       "      <td>...</td>\n",
       "      <td>...</td>\n",
       "      <td>...</td>\n",
       "      <td>...</td>\n",
       "      <td>...</td>\n",
       "    </tr>\n",
       "    <tr>\n",
       "      <th>1038</th>\n",
       "      <td>0.067787</td>\n",
       "      <td>0.663526</td>\n",
       "      <td>-0.226507</td>\n",
       "      <td>0.029063</td>\n",
       "      <td>0.273343</td>\n",
       "      <td>-0.513989</td>\n",
       "    </tr>\n",
       "    <tr>\n",
       "      <th>1039</th>\n",
       "      <td>0.822922</td>\n",
       "      <td>0.383657</td>\n",
       "      <td>-0.226507</td>\n",
       "      <td>0.111772</td>\n",
       "      <td>0.205162</td>\n",
       "      <td>-0.572829</td>\n",
       "    </tr>\n",
       "    <tr>\n",
       "      <th>1040</th>\n",
       "      <td>0.326336</td>\n",
       "      <td>-0.267986</td>\n",
       "      <td>-0.226242</td>\n",
       "      <td>-0.549900</td>\n",
       "      <td>0.682426</td>\n",
       "      <td>-0.337469</td>\n",
       "    </tr>\n",
       "    <tr>\n",
       "      <th>1041</th>\n",
       "      <td>1.588458</td>\n",
       "      <td>-0.418945</td>\n",
       "      <td>-0.225179</td>\n",
       "      <td>-0.343127</td>\n",
       "      <td>-0.510733</td>\n",
       "      <td>1.368889</td>\n",
       "    </tr>\n",
       "    <tr>\n",
       "      <th>1042</th>\n",
       "      <td>-1.168581</td>\n",
       "      <td>-0.577517</td>\n",
       "      <td>-0.226242</td>\n",
       "      <td>-0.839382</td>\n",
       "      <td>1.466501</td>\n",
       "      <td>-1.396588</td>\n",
       "    </tr>\n",
       "  </tbody>\n",
       "</table>\n",
       "<p>1043 rows × 6 columns</p>\n",
       "</div>"
      ],
      "text/plain": [
       "      Subjectivity  Polarity  Compound  Negative   Neutral  Positive\n",
       "0         0.703115  0.442758 -0.212687 -0.384482  0.409704 -0.102110\n",
       "1        -2.470553  3.067442  2.500621 -2.369498  2.114216 -0.219789\n",
       "2        -0.385721  3.241176  5.024165 -2.080017  0.341523  2.428008\n",
       "3         0.481292  0.603203 -0.199133 -0.260418 -0.544823  1.310049\n",
       "4        -1.082923 -0.267096 -0.145446 -1.170218  0.818787  0.250930\n",
       "...            ...       ...       ...       ...       ...       ...\n",
       "1038      0.067787  0.663526 -0.226507  0.029063  0.273343 -0.513989\n",
       "1039      0.822922  0.383657 -0.226507  0.111772  0.205162 -0.572829\n",
       "1040      0.326336 -0.267986 -0.226242 -0.549900  0.682426 -0.337469\n",
       "1041      1.588458 -0.418945 -0.225179 -0.343127 -0.510733  1.368889\n",
       "1042     -1.168581 -0.577517 -0.226242 -0.839382  1.466501 -1.396588\n",
       "\n",
       "[1043 rows x 6 columns]"
      ]
     },
     "execution_count": 313,
     "metadata": {},
     "output_type": "execute_result"
    }
   ],
   "source": [
    "#Padronização\n",
    "from sklearn.preprocessing import StandardScaler\n",
    "dados_norm = StandardScaler().fit(x)\n",
    "dados_norm = pd.DataFrame(dados_norm.transform(x),columns=x.columns)\n",
    "dados_norm"
   ]
  },
  {
   "cell_type": "code",
   "execution_count": 314,
   "metadata": {},
   "outputs": [],
   "source": [
    "#Separar as variaveis em treino e teste\n",
    "from sklearn.model_selection import train_test_split\n",
    "X_treino,X_teste,Y_treino,Y_teste=train_test_split(dados_norm,y,test_size=0.3,random_state=1)"
   ]
  },
  {
   "cell_type": "markdown",
   "metadata": {},
   "source": [
    "**Como os dados estavam em escalas diferentes, padronizamos para ver se melhora o resultado dos modelos**"
   ]
  },
  {
   "cell_type": "markdown",
   "metadata": {},
   "source": [
    "# Modelo 3 - Random Forest"
   ]
  },
  {
   "cell_type": "code",
   "execution_count": 315,
   "metadata": {},
   "outputs": [
    {
     "data": {
      "text/html": [
       "<div>\n",
       "<style scoped>\n",
       "    .dataframe tbody tr th:only-of-type {\n",
       "        vertical-align: middle;\n",
       "    }\n",
       "\n",
       "    .dataframe tbody tr th {\n",
       "        vertical-align: top;\n",
       "    }\n",
       "\n",
       "    .dataframe thead tr th {\n",
       "        text-align: left;\n",
       "    }\n",
       "</style>\n",
       "<table border=\"1\" class=\"dataframe\">\n",
       "  <thead>\n",
       "    <tr>\n",
       "      <th></th>\n",
       "      <th>Metricas</th>\n",
       "      <th>RF1</th>\n",
       "      <th>RN1</th>\n",
       "      <th>RF_Padro</th>\n",
       "    </tr>\n",
       "  </thead>\n",
       "  <tbody>\n",
       "    <tr>\n",
       "      <th>0</th>\n",
       "      <td>Acurácia_Treino</td>\n",
       "      <td>0.561644</td>\n",
       "      <td>0.565753</td>\n",
       "      <td>1.000000</td>\n",
       "    </tr>\n",
       "    <tr>\n",
       "      <th>1</th>\n",
       "      <td>Acurácia_Teste</td>\n",
       "      <td>0.476038</td>\n",
       "      <td>0.479233</td>\n",
       "      <td>0.485623</td>\n",
       "    </tr>\n",
       "    <tr>\n",
       "      <th>2</th>\n",
       "      <td>Precision_Teste</td>\n",
       "      <td>0.491071</td>\n",
       "      <td>0.400000</td>\n",
       "      <td>0.296296</td>\n",
       "    </tr>\n",
       "    <tr>\n",
       "      <th>3</th>\n",
       "      <td>Recall_Teste</td>\n",
       "      <td>0.339506</td>\n",
       "      <td>0.012346</td>\n",
       "      <td>0.505263</td>\n",
       "    </tr>\n",
       "    <tr>\n",
       "      <th>4</th>\n",
       "      <td>AUC_Teste</td>\n",
       "      <td>0.481011</td>\n",
       "      <td>0.496239</td>\n",
       "      <td>0.492519</td>\n",
       "    </tr>\n",
       "  </tbody>\n",
       "</table>\n",
       "</div>"
      ],
      "text/plain": [
       "          Metricas       RF1       RN1  RF_Padro\n",
       "0  Acurácia_Treino  0.561644  0.565753  1.000000\n",
       "1   Acurácia_Teste  0.476038  0.479233  0.485623\n",
       "2  Precision_Teste  0.491071  0.400000  0.296296\n",
       "3     Recall_Teste  0.339506  0.012346  0.505263\n",
       "4        AUC_Teste  0.481011  0.496239  0.492519"
      ]
     },
     "execution_count": 315,
     "metadata": {},
     "output_type": "execute_result"
    }
   ],
   "source": [
    "#Criar modelo 3\n",
    "\n",
    "# Construção do Classificador\n",
    "random_forest2 = RandomForestClassifier() \n",
    "\n",
    "#Treinar o modelo com os dados de treino\n",
    "modelo_random2 =  random_forest2.fit(X_treino, Y_treino)\n",
    "\n",
    "\n",
    "#Previsões com o modelo de teste\n",
    "previsoes_v3 = modelo_random2.predict(X_teste)\n",
    "\n",
    "# Dicionário de métricas e metadados\n",
    "from sklearn.metrics import precision_score, recall_score, f1_score, accuracy_score, roc_auc_score\n",
    "rf1 = {'Acurácia_Treino':modelo_random.score(X_treino,Y_treino),\n",
    "               'Acurácia_Teste':accuracy_score(Y_teste, previsoes_v3),\n",
    "               'Precision_Teste':precision_score(Y_teste, previsoes_v3),\n",
    "               'Recall_Teste':recall_score(Y_teste, previsoes_v3),\n",
    "               'AUC_Teste':roc_auc_score(Y_teste, previsoes_v3)}\n",
    "# Print\n",
    "\n",
    "metricas['RF_Padro'] = rf2.values()\n",
    "metricas"
   ]
  },
  {
   "cell_type": "code",
   "execution_count": 316,
   "metadata": {},
   "outputs": [
    {
     "data": {
      "text/plain": [
       "<AxesSubplot:>"
      ]
     },
     "execution_count": 316,
     "metadata": {},
     "output_type": "execute_result"
    },
    {
     "data": {
      "image/png": "[encoded data removed]",
      "text/plain": [
       "<Figure size 432x288 with 2 Axes>"
      ]
     },
     "metadata": {
      "needs_background": "light"
     },
     "output_type": "display_data"
    }
   ],
   "source": [
    "#Matriz de Confusão\n",
    "cm = confusion_matrix(Y_teste, previsoes_v3)\n",
    "sns.heatmap(cm,annot=True,fmt='d')"
   ]
  },
  {
   "cell_type": "markdown",
   "metadata": {},
   "source": [
    "**Mesmo com a padronização, continuamos com o mesmo problema nos resultado dos dados de treino e teste**"
   ]
  },
  {
   "cell_type": "markdown",
   "metadata": {},
   "source": [
    "# Modelo 4 - Redes Neurais"
   ]
  },
  {
   "cell_type": "code",
   "execution_count": 317,
   "metadata": {},
   "outputs": [
    {
     "data": {
      "text/html": [
       "<div>\n",
       "<style scoped>\n",
       "    .dataframe tbody tr th:only-of-type {\n",
       "        vertical-align: middle;\n",
       "    }\n",
       "\n",
       "    .dataframe tbody tr th {\n",
       "        vertical-align: top;\n",
       "    }\n",
       "\n",
       "    .dataframe thead tr th {\n",
       "        text-align: left;\n",
       "    }\n",
       "</style>\n",
       "<table border=\"1\" class=\"dataframe\">\n",
       "  <thead>\n",
       "    <tr>\n",
       "      <th></th>\n",
       "      <th>Metricas</th>\n",
       "      <th>RF1</th>\n",
       "      <th>RN1</th>\n",
       "      <th>RF_Padro</th>\n",
       "      <th>RN_Padro</th>\n",
       "    </tr>\n",
       "  </thead>\n",
       "  <tbody>\n",
       "    <tr>\n",
       "      <th>0</th>\n",
       "      <td>Acurácia_Treino</td>\n",
       "      <td>0.561644</td>\n",
       "      <td>0.565753</td>\n",
       "      <td>1.000000</td>\n",
       "      <td>0.749315</td>\n",
       "    </tr>\n",
       "    <tr>\n",
       "      <th>1</th>\n",
       "      <td>Acurácia_Teste</td>\n",
       "      <td>0.476038</td>\n",
       "      <td>0.479233</td>\n",
       "      <td>0.485623</td>\n",
       "      <td>0.479233</td>\n",
       "    </tr>\n",
       "    <tr>\n",
       "      <th>2</th>\n",
       "      <td>Precision_Teste</td>\n",
       "      <td>0.491071</td>\n",
       "      <td>0.400000</td>\n",
       "      <td>0.296296</td>\n",
       "      <td>0.327160</td>\n",
       "    </tr>\n",
       "    <tr>\n",
       "      <th>3</th>\n",
       "      <td>Recall_Teste</td>\n",
       "      <td>0.339506</td>\n",
       "      <td>0.012346</td>\n",
       "      <td>0.505263</td>\n",
       "      <td>0.495327</td>\n",
       "    </tr>\n",
       "    <tr>\n",
       "      <th>4</th>\n",
       "      <td>AUC_Teste</td>\n",
       "      <td>0.481011</td>\n",
       "      <td>0.496239</td>\n",
       "      <td>0.492519</td>\n",
       "      <td>0.484772</td>\n",
       "    </tr>\n",
       "  </tbody>\n",
       "</table>\n",
       "</div>"
      ],
      "text/plain": [
       "          Metricas       RF1       RN1  RF_Padro  RN_Padro\n",
       "0  Acurácia_Treino  0.561644  0.565753  1.000000  0.749315\n",
       "1   Acurácia_Teste  0.476038  0.479233  0.485623  0.479233\n",
       "2  Precision_Teste  0.491071  0.400000  0.296296  0.327160\n",
       "3     Recall_Teste  0.339506  0.012346  0.505263  0.495327\n",
       "4        AUC_Teste  0.481011  0.496239  0.492519  0.484772"
      ]
     },
     "execution_count": 317,
     "metadata": {},
     "output_type": "execute_result"
    }
   ],
   "source": [
    "#Criar modelo 4\n",
    "\n",
    "rede_neural_credit1 = MLPClassifier(max_iter=1500, verbose=False,\n",
    "                                   solver = 'adam', activation = 'relu',n_iter_no_change=40,learning_rate_init=0.0001,\n",
    "                                   hidden_layer_sizes = (100,100))\n",
    "rede_neural_credit1.fit(X_treino, Y_treino)\n",
    "\n",
    "#Previsões com o modelo de teste\n",
    "previsoes_v4 = rede_neural_credit1.predict(X_teste)\n",
    "\n",
    "# Dicionário de métricas e metadados\n",
    "from sklearn.metrics import precision_score, recall_score, f1_score, accuracy_score, roc_auc_score\n",
    "rf1 = {'Acurácia_Treino':modelo_random.score(X_treino,Y_treino),\n",
    "               'Acurácia_Teste':accuracy_score(Y_teste, previsoes_v4),\n",
    "               'Precision_Teste':precision_score(Y_teste, previsoes_v4),\n",
    "               'Recall_Teste':recall_score(Y_teste, previsoes_v4),\n",
    "               'AUC_Teste':roc_auc_score(Y_teste, previsoes_v4)}\n",
    "# Print\n",
    "\n",
    "metricas['RN_Padro'] = rn2.values()\n",
    "metricas"
   ]
  },
  {
   "cell_type": "code",
   "execution_count": 318,
   "metadata": {},
   "outputs": [
    {
     "data": {
      "text/plain": [
       "<AxesSubplot:>"
      ]
     },
     "execution_count": 318,
     "metadata": {},
     "output_type": "execute_result"
    },
    {
     "data": {
      "image/png": "[encoded data removed]",
      "text/plain": [
       "<Figure size 432x288 with 2 Axes>"
      ]
     },
     "metadata": {
      "needs_background": "light"
     },
     "output_type": "display_data"
    }
   ],
   "source": [
    "#Matriz de Confusão\n",
    "cm = confusion_matrix(Y_teste, previsoes_v4)\n",
    "sns.heatmap(cm,annot=True,fmt='d')"
   ]
  },
  {
   "cell_type": "markdown",
   "metadata": {},
   "source": [
    "**O mesmo acontece com o modelo de Redes Neurais, teve pouca mudança em comparação com os outros modelos**"
   ]
  },
  {
   "cell_type": "markdown",
   "metadata": {},
   "source": [
    "## Previsão"
   ]
  },
  {
   "cell_type": "code",
   "execution_count": 320,
   "metadata": {},
   "outputs": [
    {
     "data": {
      "text/html": [
       "<div>\n",
       "<style scoped>\n",
       "    .dataframe tbody tr th:only-of-type {\n",
       "        vertical-align: middle;\n",
       "    }\n",
       "\n",
       "    .dataframe tbody tr th {\n",
       "        vertical-align: top;\n",
       "    }\n",
       "\n",
       "    .dataframe thead th {\n",
       "        text-align: right;\n",
       "    }\n",
       "</style>\n",
       "<table border=\"1\" class=\"dataframe\">\n",
       "  <thead>\n",
       "    <tr style=\"text-align: right;\">\n",
       "      <th></th>\n",
       "      <th>Date</th>\n",
       "      <th>Classe</th>\n",
       "      <th>Retorno_diario</th>\n",
       "      <th>Subjectivity</th>\n",
       "      <th>Polarity</th>\n",
       "      <th>Compound</th>\n",
       "      <th>Negative</th>\n",
       "      <th>Neutral</th>\n",
       "      <th>Positive</th>\n",
       "      <th>Previsao</th>\n",
       "    </tr>\n",
       "  </thead>\n",
       "  <tbody>\n",
       "    <tr>\n",
       "      <th>0</th>\n",
       "      <td>2005-01-05</td>\n",
       "      <td>0</td>\n",
       "      <td>-2.565291</td>\n",
       "      <td>0.422979</td>\n",
       "      <td>0.084374</td>\n",
       "      <td>-0.9947</td>\n",
       "      <td>0.149</td>\n",
       "      <td>0.749</td>\n",
       "      <td>0.103</td>\n",
       "      <td>0</td>\n",
       "    </tr>\n",
       "    <tr>\n",
       "      <th>1</th>\n",
       "      <td>2005-01-06</td>\n",
       "      <td>0</td>\n",
       "      <td>-1.238972</td>\n",
       "      <td>0.329153</td>\n",
       "      <td>0.169928</td>\n",
       "      <td>0.0262</td>\n",
       "      <td>0.101</td>\n",
       "      <td>0.799</td>\n",
       "      <td>0.101</td>\n",
       "      <td>0</td>\n",
       "    </tr>\n",
       "    <tr>\n",
       "      <th>2</th>\n",
       "      <td>2005-01-10</td>\n",
       "      <td>0</td>\n",
       "      <td>-2.046324</td>\n",
       "      <td>0.390789</td>\n",
       "      <td>0.175591</td>\n",
       "      <td>0.9757</td>\n",
       "      <td>0.108</td>\n",
       "      <td>0.747</td>\n",
       "      <td>0.146</td>\n",
       "      <td>0</td>\n",
       "    </tr>\n",
       "    <tr>\n",
       "      <th>3</th>\n",
       "      <td>2005-01-11</td>\n",
       "      <td>0</td>\n",
       "      <td>-1.496188</td>\n",
       "      <td>0.416421</td>\n",
       "      <td>0.089603</td>\n",
       "      <td>-0.9896</td>\n",
       "      <td>0.152</td>\n",
       "      <td>0.721</td>\n",
       "      <td>0.127</td>\n",
       "      <td>1</td>\n",
       "    </tr>\n",
       "    <tr>\n",
       "      <th>4</th>\n",
       "      <td>2005-01-12</td>\n",
       "      <td>0</td>\n",
       "      <td>-2.361626</td>\n",
       "      <td>0.370177</td>\n",
       "      <td>0.061235</td>\n",
       "      <td>-0.9694</td>\n",
       "      <td>0.130</td>\n",
       "      <td>0.761</td>\n",
       "      <td>0.109</td>\n",
       "      <td>0</td>\n",
       "    </tr>\n",
       "    <tr>\n",
       "      <th>...</th>\n",
       "      <td>...</td>\n",
       "      <td>...</td>\n",
       "      <td>...</td>\n",
       "      <td>...</td>\n",
       "      <td>...</td>\n",
       "      <td>...</td>\n",
       "      <td>...</td>\n",
       "      <td>...</td>\n",
       "      <td>...</td>\n",
       "      <td>...</td>\n",
       "    </tr>\n",
       "    <tr>\n",
       "      <th>562</th>\n",
       "      <td>2019-10-04</td>\n",
       "      <td>0</td>\n",
       "      <td>-1.896228</td>\n",
       "      <td>0.404196</td>\n",
       "      <td>0.091570</td>\n",
       "      <td>-0.9999</td>\n",
       "      <td>0.159</td>\n",
       "      <td>0.745</td>\n",
       "      <td>0.096</td>\n",
       "      <td>0</td>\n",
       "    </tr>\n",
       "    <tr>\n",
       "      <th>1039</th>\n",
       "      <td>2019-10-09</td>\n",
       "      <td>1</td>\n",
       "      <td>1.461406</td>\n",
       "      <td>0.426521</td>\n",
       "      <td>0.082447</td>\n",
       "      <td>-0.9999</td>\n",
       "      <td>0.161</td>\n",
       "      <td>0.743</td>\n",
       "      <td>0.095</td>\n",
       "      <td>1</td>\n",
       "    </tr>\n",
       "    <tr>\n",
       "      <th>1040</th>\n",
       "      <td>2019-10-17</td>\n",
       "      <td>1</td>\n",
       "      <td>1.046944</td>\n",
       "      <td>0.411840</td>\n",
       "      <td>0.061206</td>\n",
       "      <td>-0.9998</td>\n",
       "      <td>0.145</td>\n",
       "      <td>0.757</td>\n",
       "      <td>0.099</td>\n",
       "      <td>1</td>\n",
       "    </tr>\n",
       "    <tr>\n",
       "      <th>1041</th>\n",
       "      <td>2019-10-29</td>\n",
       "      <td>1</td>\n",
       "      <td>1.370078</td>\n",
       "      <td>0.449153</td>\n",
       "      <td>0.056285</td>\n",
       "      <td>-0.9994</td>\n",
       "      <td>0.150</td>\n",
       "      <td>0.722</td>\n",
       "      <td>0.128</td>\n",
       "      <td>1</td>\n",
       "    </tr>\n",
       "    <tr>\n",
       "      <th>1042</th>\n",
       "      <td>2019-11-25</td>\n",
       "      <td>1</td>\n",
       "      <td>1.111706</td>\n",
       "      <td>0.367645</td>\n",
       "      <td>0.051117</td>\n",
       "      <td>-0.9998</td>\n",
       "      <td>0.138</td>\n",
       "      <td>0.780</td>\n",
       "      <td>0.081</td>\n",
       "      <td>1</td>\n",
       "    </tr>\n",
       "  </tbody>\n",
       "</table>\n",
       "<p>1043 rows × 10 columns</p>\n",
       "</div>"
      ],
      "text/plain": [
       "           Date  Classe  Retorno_diario  Subjectivity  Polarity  Compound  \\\n",
       "0    2005-01-05       0       -2.565291      0.422979  0.084374   -0.9947   \n",
       "1    2005-01-06       0       -1.238972      0.329153  0.169928    0.0262   \n",
       "2    2005-01-10       0       -2.046324      0.390789  0.175591    0.9757   \n",
       "3    2005-01-11       0       -1.496188      0.416421  0.089603   -0.9896   \n",
       "4    2005-01-12       0       -2.361626      0.370177  0.061235   -0.9694   \n",
       "...         ...     ...             ...           ...       ...       ...   \n",
       "562  2019-10-04       0       -1.896228      0.404196  0.091570   -0.9999   \n",
       "1039 2019-10-09       1        1.461406      0.426521  0.082447   -0.9999   \n",
       "1040 2019-10-17       1        1.046944      0.411840  0.061206   -0.9998   \n",
       "1041 2019-10-29       1        1.370078      0.449153  0.056285   -0.9994   \n",
       "1042 2019-11-25       1        1.111706      0.367645  0.051117   -0.9998   \n",
       "\n",
       "      Negative  Neutral  Positive  Previsao  \n",
       "0        0.149    0.749     0.103         0  \n",
       "1        0.101    0.799     0.101         0  \n",
       "2        0.108    0.747     0.146         0  \n",
       "3        0.152    0.721     0.127         1  \n",
       "4        0.130    0.761     0.109         0  \n",
       "...        ...      ...       ...       ...  \n",
       "562      0.159    0.745     0.096         0  \n",
       "1039     0.161    0.743     0.095         1  \n",
       "1040     0.145    0.757     0.099         1  \n",
       "1041     0.150    0.722     0.128         1  \n",
       "1042     0.138    0.780     0.081         1  \n",
       "\n",
       "[1043 rows x 10 columns]"
      ]
     },
     "execution_count": 320,
     "metadata": {},
     "output_type": "execute_result"
    }
   ],
   "source": [
    "#Criar as Previsão\n",
    "dados_completos['Previsao'] = modelo_random1.predict(x)\n",
    "dados_completos"
   ]
  },
  {
   "cell_type": "markdown",
   "metadata": {},
   "source": [
    "**Como todos os modelos ficaram bem próximos em seus resultados, escolhemos aleatoriamente o modelo 1 - Random Forest para fazer a previsão dos dados**"
   ]
  },
  {
   "cell_type": "code",
   "execution_count": 329,
   "metadata": {},
   "outputs": [
    {
     "data": {
      "text/html": [
       "<div>\n",
       "<style scoped>\n",
       "    .dataframe tbody tr th:only-of-type {\n",
       "        vertical-align: middle;\n",
       "    }\n",
       "\n",
       "    .dataframe tbody tr th {\n",
       "        vertical-align: top;\n",
       "    }\n",
       "\n",
       "    .dataframe thead th {\n",
       "        text-align: right;\n",
       "    }\n",
       "</style>\n",
       "<table border=\"1\" class=\"dataframe\">\n",
       "  <thead>\n",
       "    <tr style=\"text-align: right;\">\n",
       "      <th></th>\n",
       "      <th>Retorno_alta</th>\n",
       "      <th>Retorno_baixa</th>\n",
       "      <th>Lucro</th>\n",
       "    </tr>\n",
       "  </thead>\n",
       "  <tbody>\n",
       "    <tr>\n",
       "      <th>1042</th>\n",
       "      <td>565.64</td>\n",
       "      <td>773.1</td>\n",
       "      <td>1338.74</td>\n",
       "    </tr>\n",
       "  </tbody>\n",
       "</table>\n",
       "</div>"
      ],
      "text/plain": [
       "      Retorno_alta  Retorno_baixa    Lucro\n",
       "1042        565.64          773.1  1338.74"
      ]
     },
     "execution_count": 329,
     "metadata": {},
     "output_type": "execute_result"
    }
   ],
   "source": [
    "#Lucro da previsão\n",
    "\n",
    "#Previsão de alta\n",
    "retor_Previsao = dados_completos[dados_completos.Previsao==1] \n",
    "retor_Previsao = retor_Previsao.Retorno_diario.cumsum()\n",
    "retor_Previsao = retor_Previsao.to_frame()[-1:]\n",
    "retor_Previsao.columns = ['Retorno_alta']\n",
    "\n",
    "#Previsão de Baixa\n",
    "retor_Previsao1 = dados_completos[dados_completos.Previsao==0] \n",
    "retor_Previsao1 = retor_Previsao1.Retorno_diario*-1\n",
    "retor_Previsao1 = retor_Previsao1.cumsum()\n",
    "retor_Previsao1 = retor_Previsao1.to_frame()[-1:]\n",
    "retor_Previsao['Retorno_baixa'] = retor_Previsao1.values\n",
    "retor_Previsao['Lucro'] = retor_Previsao.Retorno_alta + retor_Previsao.Retorno_baixa\n",
    "round(retor_Previsao,2)"
   ]
  },
  {
   "cell_type": "markdown",
   "metadata": {},
   "source": [
    "**O retorno do investimento seguindo a previsão foi de 1338%, seguindo o criterio de investir na queda do ativo quando a previsão for 0, e investir na alta quando a previsão for 1**"
   ]
  },
  {
   "cell_type": "code",
   "execution_count": 328,
   "metadata": {},
   "outputs": [
    {
     "data": {
      "text/html": [
       "<div>\n",
       "<style scoped>\n",
       "    .dataframe tbody tr th:only-of-type {\n",
       "        vertical-align: middle;\n",
       "    }\n",
       "\n",
       "    .dataframe tbody tr th {\n",
       "        vertical-align: top;\n",
       "    }\n",
       "\n",
       "    .dataframe thead th {\n",
       "        text-align: right;\n",
       "    }\n",
       "</style>\n",
       "<table border=\"1\" class=\"dataframe\">\n",
       "  <thead>\n",
       "    <tr style=\"text-align: right;\">\n",
       "      <th></th>\n",
       "      <th>Retorno_alta</th>\n",
       "      <th>Retorno_baixa</th>\n",
       "      <th>Lucro</th>\n",
       "    </tr>\n",
       "  </thead>\n",
       "  <tbody>\n",
       "    <tr>\n",
       "      <th>0</th>\n",
       "      <td>-102.41</td>\n",
       "      <td>105.06</td>\n",
       "      <td>2.65</td>\n",
       "    </tr>\n",
       "  </tbody>\n",
       "</table>\n",
       "</div>"
      ],
      "text/plain": [
       "   Retorno_alta  Retorno_baixa  Lucro\n",
       "0       -102.41         105.06   2.65"
      ]
     },
     "execution_count": 328,
     "metadata": {},
     "output_type": "execute_result"
    }
   ],
   "source": [
    "#Investimento de maneira Aleatoria\n",
    "a = []\n",
    "w = []\n",
    "q = []\n",
    "for i in range(0,1000):\n",
    "    #Gerar numeros aleatorios\n",
    "    dados_completos['Aleatorio'] = np.random.randint(2, size=1043)\n",
    "    \n",
    "    #Previsão de alta\n",
    "    retor_aleat = dados_completos[dados_completos.Aleatorio==1] \n",
    "    retor_aleat = retor_aleat.Retorno_diario.cumsum()\n",
    "    retor_aleat = retor_aleat.to_frame()[-1:]\n",
    "    retor_aleat.columns = ['Retorno_alta']\n",
    "    \n",
    "    #Previsão de Baixa\n",
    "    retor_aleat1 = dados_completos[dados_completos.Aleatorio==0] \n",
    "    retor_aleat1 = retor_aleat1.Retorno_diario*-1\n",
    "    retor_aleat1 = retor_aleat1.cumsum()\n",
    "    retor_aleat1 = retor_aleat1.to_frame()[-1:]\n",
    "    retor_aleat['Retorno_baixa'] = retor_aleat1.values\n",
    "    retor_aleat['Lucro'] = retor_aleat.Retorno_alta + retor_aleat.Retorno_baixa\n",
    "    \n",
    "    #Criar dataframe dos resultado e fazer a média \n",
    "    b = round(retor_aleat.Lucro,2)\n",
    "    r = round(retor_aleat.Retorno_alta,2)\n",
    "    f = round(retor_aleat.Retorno_baixa,2)\n",
    "    a.append(b.values)\n",
    "    w.append(r.values)\n",
    "    q.append(f.values)\n",
    "lucro_aleat = pd.DataFrame(a,columns=['Lucro']).mean().to_frame().T\n",
    "lucro_aleat1 = pd.DataFrame(r,columns=['Retorno_alta']).mean().to_frame().T\n",
    "lucro_aleat2 = pd.DataFrame(f,columns=['Retorno_baixa']).mean().to_frame().T\n",
    "\n",
    "luc = lucro_aleat1.join(lucro_aleat2)\n",
    "round(luc.join(lucro_aleat),2)"
   ]
  },
  {
   "cell_type": "markdown",
   "metadata": {},
   "source": [
    "**Observe que fizemos 1000 repetições de aplicação de maneiras diferentes, e a média do retorno fica praticamente no 0, isso comprova que nosso modelo tem significancia no seu resultado comparado a um investimento feito de maneira aleatoria**"
   ]
  },
  {
   "cell_type": "markdown",
   "metadata": {},
   "source": [
    "# Conclusão:"
   ]
  },
  {
   "cell_type": "markdown",
   "metadata": {},
   "source": [
    "**Analisar o mercado financeiro por meio de textos, aplicando análise de sentimento é uma maneira diferente de investir, porém juntando as 2 técnicas: Análise de Texto e análise das cotações, pode ser uma excelente maneira de obter lucros**\n",
    " \n",
    "**Primeiramente fizemos analise exploratória dos dados de texto, removemos alguns caracteres irrelevantes para facilitar na análise textual, com os dados das ações criamos uma coluna de retorno diário para facilitar o entendimento do impacto da notícia com o preço das ações**\n",
    "\n",
    "**Feito a analise textual, criamos várias vereáveis exógenas com intuito de verificar o sentimento de cada texto dando uma polaridade para cada frase, depois juntamos as 2 tabelas (ações e texto) através das datas**\n",
    "\n",
    "**Na análise exploratória dos novos dados não conseguimos tirar nenhum insight, pois a mediana das variáveis não era significante entre as classes da variável target, portanto selecionamos todas as variáveis para modelagem**\n",
    "\n",
    "**Na modelagem usamos apenas 2 algoritimos, Random Forest e Redes Neurais, não fizemos nenhum tipo de otimização, usamos apenas o padrão de cada algoritimo**\n",
    "\n",
    "**Por fim usamos a previsão do algoritimo de Random Forest, que obteve o melhor acuracia nos dados de teste e comparamos o resultado do investimento com investimento feito de maneira aleatória, conseguimos um excelente resultado com esses dados**\n",
    "\n",
    "**Portanto podemos concluir que analisar o mercado financeiro por meio da análise de sentimento nas mídias sociais é possível sim, tendo os dados textuais bem tratados e ações que seguem o padrão das notícias, conseguimos chegar a ótimos resultados no longo prazo.**\n",
    "\n"
   ]
  },
  {
   "cell_type": "markdown",
   "metadata": {},
   "source": [
    "**OBS: Se tratando de dados de investimento, não é comum obter excelentes resultados nos dados de teste, o importante é verificar o retorno do investimento a longo prazo**"
   ]
  }
 ],
 "metadata": {
  "anaconda-cloud": {},
  "kernelspec": {
   "display_name": "Python 3 (ipykernel)",
   "language": "python",
   "name": "python3"
  },
  "language_info": {
   "codemirror_mode": {
    "name": "ipython",
    "version": 3
   },
   "file_extension": ".py",
   "mimetype": "text/x-python",
   "name": "python",
   "nbconvert_exporter": "python",
   "pygments_lexer": "ipython3",
   "version": "3.9.12"
  }
 },
 "nbformat": 4,
 "nbformat_minor": 1
}
